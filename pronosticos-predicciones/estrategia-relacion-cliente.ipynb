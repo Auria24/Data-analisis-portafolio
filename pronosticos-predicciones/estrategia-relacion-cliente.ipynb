{
 "cells": [
  {
   "cell_type": "markdown",
   "metadata": {},
   "source": [
    "# Importacion de librerias"
   ]
  },
  {
   "cell_type": "code",
   "execution_count": 1,
   "metadata": {},
   "outputs": [],
   "source": [
    "import pandas as pd\n",
    "import seaborn as sns\n",
    "from sklearn.preprocessing import StandardScaler\n",
    "from sklearn.cluster import KMeans\n",
    "from sklearn.model_selection import train_test_split\n",
    "from sklearn.linear_model import Lasso, Ridge\n",
    "from sklearn.linear_model import LogisticRegression\n",
    "from sklearn.tree import DecisionTreeRegressor\n",
    "from sklearn.ensemble import RandomForestClassifier, GradientBoostingClassifier\n",
    "from sklearn.ensemble import RandomForestRegressor, GradientBoostingRegressor\n",
    "from scipy.cluster.hierarchy import dendrogram, linkage\n",
    "import matplotlib.pyplot as plt\n",
    "from sklearn.metrics import accuracy_score, precision_score, recall_score, f1_score\n",
    "from sklearn.metrics import mean_absolute_error, mean_squared_error, r2_score"
   ]
  },
  {
   "cell_type": "markdown",
   "metadata": {},
   "source": [
    "##  Lectura de archivo"
   ]
  },
  {
   "cell_type": "code",
   "execution_count": 2,
   "metadata": {},
   "outputs": [],
   "source": [
    "gym= pd.read_csv('./datasets/gym_churn_us.csv')"
   ]
  },
  {
   "cell_type": "markdown",
   "metadata": {},
   "source": [
    "## Análisis exploratorio de datos (EDA)"
   ]
  },
  {
   "cell_type": "code",
   "execution_count": 3,
   "metadata": {},
   "outputs": [
    {
     "name": "stdout",
     "output_type": "stream",
     "text": [
      "<class 'pandas.core.frame.DataFrame'>\n",
      "RangeIndex: 4000 entries, 0 to 3999\n",
      "Data columns (total 14 columns):\n",
      " #   Column                             Non-Null Count  Dtype  \n",
      "---  ------                             --------------  -----  \n",
      " 0   gender                             4000 non-null   int64  \n",
      " 1   Near_Location                      4000 non-null   int64  \n",
      " 2   Partner                            4000 non-null   int64  \n",
      " 3   Promo_friends                      4000 non-null   int64  \n",
      " 4   Phone                              4000 non-null   int64  \n",
      " 5   Contract_period                    4000 non-null   int64  \n",
      " 6   Group_visits                       4000 non-null   int64  \n",
      " 7   Age                                4000 non-null   int64  \n",
      " 8   Avg_additional_charges_total       4000 non-null   float64\n",
      " 9   Month_to_end_contract              4000 non-null   float64\n",
      " 10  Lifetime                           4000 non-null   int64  \n",
      " 11  Avg_class_frequency_total          4000 non-null   float64\n",
      " 12  Avg_class_frequency_current_month  4000 non-null   float64\n",
      " 13  Churn                              4000 non-null   int64  \n",
      "dtypes: float64(4), int64(10)\n",
      "memory usage: 437.6 KB\n"
     ]
    }
   ],
   "source": [
    "gym.info()"
   ]
  },
  {
   "cell_type": "code",
   "execution_count": 4,
   "metadata": {},
   "outputs": [],
   "source": [
    "metricas_gym = gym.describe()"
   ]
  },
  {
   "cell_type": "code",
   "execution_count": 5,
   "metadata": {},
   "outputs": [
    {
     "data": {
      "text/html": [
       "<div>\n",
       "<style scoped>\n",
       "    .dataframe tbody tr th:only-of-type {\n",
       "        vertical-align: middle;\n",
       "    }\n",
       "\n",
       "    .dataframe tbody tr th {\n",
       "        vertical-align: top;\n",
       "    }\n",
       "\n",
       "    .dataframe thead th {\n",
       "        text-align: right;\n",
       "    }\n",
       "</style>\n",
       "<table border=\"1\" class=\"dataframe\">\n",
       "  <thead>\n",
       "    <tr style=\"text-align: right;\">\n",
       "      <th></th>\n",
       "      <th>gender</th>\n",
       "      <th>Near_Location</th>\n",
       "      <th>Partner</th>\n",
       "      <th>Promo_friends</th>\n",
       "      <th>Phone</th>\n",
       "      <th>Contract_period</th>\n",
       "      <th>Group_visits</th>\n",
       "      <th>Age</th>\n",
       "      <th>Avg_additional_charges_total</th>\n",
       "      <th>Month_to_end_contract</th>\n",
       "      <th>Lifetime</th>\n",
       "      <th>Avg_class_frequency_total</th>\n",
       "      <th>Avg_class_frequency_current_month</th>\n",
       "      <th>Churn</th>\n",
       "    </tr>\n",
       "  </thead>\n",
       "  <tbody>\n",
       "    <tr>\n",
       "      <th>count</th>\n",
       "      <td>4000.000000</td>\n",
       "      <td>4000.000000</td>\n",
       "      <td>4000.000000</td>\n",
       "      <td>4000.000000</td>\n",
       "      <td>4000.000000</td>\n",
       "      <td>4000.000000</td>\n",
       "      <td>4000.000000</td>\n",
       "      <td>4000.000000</td>\n",
       "      <td>4000.000000</td>\n",
       "      <td>4000.000000</td>\n",
       "      <td>4000.000000</td>\n",
       "      <td>4000.000000</td>\n",
       "      <td>4000.000000</td>\n",
       "      <td>4000.000000</td>\n",
       "    </tr>\n",
       "    <tr>\n",
       "      <th>mean</th>\n",
       "      <td>0.510250</td>\n",
       "      <td>0.845250</td>\n",
       "      <td>0.486750</td>\n",
       "      <td>0.308500</td>\n",
       "      <td>0.903500</td>\n",
       "      <td>4.681250</td>\n",
       "      <td>0.412250</td>\n",
       "      <td>29.184250</td>\n",
       "      <td>146.943728</td>\n",
       "      <td>4.322750</td>\n",
       "      <td>3.724750</td>\n",
       "      <td>1.879020</td>\n",
       "      <td>1.767052</td>\n",
       "      <td>0.265250</td>\n",
       "    </tr>\n",
       "    <tr>\n",
       "      <th>std</th>\n",
       "      <td>0.499957</td>\n",
       "      <td>0.361711</td>\n",
       "      <td>0.499887</td>\n",
       "      <td>0.461932</td>\n",
       "      <td>0.295313</td>\n",
       "      <td>4.549706</td>\n",
       "      <td>0.492301</td>\n",
       "      <td>3.258367</td>\n",
       "      <td>96.355602</td>\n",
       "      <td>4.191297</td>\n",
       "      <td>3.749267</td>\n",
       "      <td>0.972245</td>\n",
       "      <td>1.052906</td>\n",
       "      <td>0.441521</td>\n",
       "    </tr>\n",
       "    <tr>\n",
       "      <th>min</th>\n",
       "      <td>0.000000</td>\n",
       "      <td>0.000000</td>\n",
       "      <td>0.000000</td>\n",
       "      <td>0.000000</td>\n",
       "      <td>0.000000</td>\n",
       "      <td>1.000000</td>\n",
       "      <td>0.000000</td>\n",
       "      <td>18.000000</td>\n",
       "      <td>0.148205</td>\n",
       "      <td>1.000000</td>\n",
       "      <td>0.000000</td>\n",
       "      <td>0.000000</td>\n",
       "      <td>0.000000</td>\n",
       "      <td>0.000000</td>\n",
       "    </tr>\n",
       "    <tr>\n",
       "      <th>25%</th>\n",
       "      <td>0.000000</td>\n",
       "      <td>1.000000</td>\n",
       "      <td>0.000000</td>\n",
       "      <td>0.000000</td>\n",
       "      <td>1.000000</td>\n",
       "      <td>1.000000</td>\n",
       "      <td>0.000000</td>\n",
       "      <td>27.000000</td>\n",
       "      <td>68.868830</td>\n",
       "      <td>1.000000</td>\n",
       "      <td>1.000000</td>\n",
       "      <td>1.180875</td>\n",
       "      <td>0.963003</td>\n",
       "      <td>0.000000</td>\n",
       "    </tr>\n",
       "    <tr>\n",
       "      <th>50%</th>\n",
       "      <td>1.000000</td>\n",
       "      <td>1.000000</td>\n",
       "      <td>0.000000</td>\n",
       "      <td>0.000000</td>\n",
       "      <td>1.000000</td>\n",
       "      <td>1.000000</td>\n",
       "      <td>0.000000</td>\n",
       "      <td>29.000000</td>\n",
       "      <td>136.220159</td>\n",
       "      <td>1.000000</td>\n",
       "      <td>3.000000</td>\n",
       "      <td>1.832768</td>\n",
       "      <td>1.719574</td>\n",
       "      <td>0.000000</td>\n",
       "    </tr>\n",
       "    <tr>\n",
       "      <th>75%</th>\n",
       "      <td>1.000000</td>\n",
       "      <td>1.000000</td>\n",
       "      <td>1.000000</td>\n",
       "      <td>1.000000</td>\n",
       "      <td>1.000000</td>\n",
       "      <td>6.000000</td>\n",
       "      <td>1.000000</td>\n",
       "      <td>31.000000</td>\n",
       "      <td>210.949625</td>\n",
       "      <td>6.000000</td>\n",
       "      <td>5.000000</td>\n",
       "      <td>2.536078</td>\n",
       "      <td>2.510336</td>\n",
       "      <td>1.000000</td>\n",
       "    </tr>\n",
       "    <tr>\n",
       "      <th>max</th>\n",
       "      <td>1.000000</td>\n",
       "      <td>1.000000</td>\n",
       "      <td>1.000000</td>\n",
       "      <td>1.000000</td>\n",
       "      <td>1.000000</td>\n",
       "      <td>12.000000</td>\n",
       "      <td>1.000000</td>\n",
       "      <td>41.000000</td>\n",
       "      <td>552.590740</td>\n",
       "      <td>12.000000</td>\n",
       "      <td>31.000000</td>\n",
       "      <td>6.023668</td>\n",
       "      <td>6.146783</td>\n",
       "      <td>1.000000</td>\n",
       "    </tr>\n",
       "  </tbody>\n",
       "</table>\n",
       "</div>"
      ],
      "text/plain": [
       "            gender  Near_Location      Partner  Promo_friends        Phone  \\\n",
       "count  4000.000000    4000.000000  4000.000000    4000.000000  4000.000000   \n",
       "mean      0.510250       0.845250     0.486750       0.308500     0.903500   \n",
       "std       0.499957       0.361711     0.499887       0.461932     0.295313   \n",
       "min       0.000000       0.000000     0.000000       0.000000     0.000000   \n",
       "25%       0.000000       1.000000     0.000000       0.000000     1.000000   \n",
       "50%       1.000000       1.000000     0.000000       0.000000     1.000000   \n",
       "75%       1.000000       1.000000     1.000000       1.000000     1.000000   \n",
       "max       1.000000       1.000000     1.000000       1.000000     1.000000   \n",
       "\n",
       "       Contract_period  Group_visits          Age  \\\n",
       "count      4000.000000   4000.000000  4000.000000   \n",
       "mean          4.681250      0.412250    29.184250   \n",
       "std           4.549706      0.492301     3.258367   \n",
       "min           1.000000      0.000000    18.000000   \n",
       "25%           1.000000      0.000000    27.000000   \n",
       "50%           1.000000      0.000000    29.000000   \n",
       "75%           6.000000      1.000000    31.000000   \n",
       "max          12.000000      1.000000    41.000000   \n",
       "\n",
       "       Avg_additional_charges_total  Month_to_end_contract     Lifetime  \\\n",
       "count                   4000.000000            4000.000000  4000.000000   \n",
       "mean                     146.943728               4.322750     3.724750   \n",
       "std                       96.355602               4.191297     3.749267   \n",
       "min                        0.148205               1.000000     0.000000   \n",
       "25%                       68.868830               1.000000     1.000000   \n",
       "50%                      136.220159               1.000000     3.000000   \n",
       "75%                      210.949625               6.000000     5.000000   \n",
       "max                      552.590740              12.000000    31.000000   \n",
       "\n",
       "       Avg_class_frequency_total  Avg_class_frequency_current_month  \\\n",
       "count                4000.000000                        4000.000000   \n",
       "mean                    1.879020                           1.767052   \n",
       "std                     0.972245                           1.052906   \n",
       "min                     0.000000                           0.000000   \n",
       "25%                     1.180875                           0.963003   \n",
       "50%                     1.832768                           1.719574   \n",
       "75%                     2.536078                           2.510336   \n",
       "max                     6.023668                           6.146783   \n",
       "\n",
       "             Churn  \n",
       "count  4000.000000  \n",
       "mean      0.265250  \n",
       "std       0.441521  \n",
       "min       0.000000  \n",
       "25%       0.000000  \n",
       "50%       0.000000  \n",
       "75%       1.000000  \n",
       "max       1.000000  "
      ]
     },
     "execution_count": 5,
     "metadata": {},
     "output_type": "execute_result"
    }
   ],
   "source": [
    "metricas_gym"
   ]
  },
  {
   "cell_type": "code",
   "execution_count": 6,
   "metadata": {},
   "outputs": [],
   "source": [
    "val_med= gym.groupby('Churn').mean()"
   ]
  },
  {
   "cell_type": "code",
   "execution_count": 7,
   "metadata": {},
   "outputs": [
    {
     "name": "stdout",
     "output_type": "stream",
     "text": [
      "         gender  Near_Location   Partner  Promo_friends     Phone  \\\n",
      "Churn                                                               \n",
      "0      0.510037       0.873086  0.534195       0.353522  0.903709   \n",
      "1      0.510839       0.768143  0.355325       0.183789  0.902922   \n",
      "\n",
      "       Contract_period  Group_visits        Age  Avg_additional_charges_total  \\\n",
      "Churn                                                                           \n",
      "0             5.747193      0.464103  29.976523                    158.445715   \n",
      "1             1.728558      0.268615  26.989632                    115.082899   \n",
      "\n",
      "       Month_to_end_contract  Lifetime  Avg_class_frequency_total  \\\n",
      "Churn                                                               \n",
      "0                   5.283089  4.711807                   2.024876   \n",
      "1                   1.662582  0.990575                   1.474995   \n",
      "\n",
      "       Avg_class_frequency_current_month  \n",
      "Churn                                     \n",
      "0                               2.027882  \n",
      "1                               1.044546  \n"
     ]
    }
   ],
   "source": [
    "print(val_med)"
   ]
  },
  {
   "cell_type": "code",
   "execution_count": 8,
   "metadata": {},
   "outputs": [
    {
     "data": {
      "image/png": "[encoded data removed]",
      "text/plain": [
       "<Figure size 640x480 with 1 Axes>"
      ]
     },
     "metadata": {},
     "output_type": "display_data"
    }
   ],
   "source": [
    "sns.histplot(gym['Churn']).set_title(\"Distribuciones de caracteristicas\")\n",
    "plt.show()"
   ]
  },
  {
   "cell_type": "markdown",
   "metadata": {},
   "source": [
    "###### Al compara los clientes que se quedan en relacion con los que se van con sidero que los que se van estan por debajo de la mitad de los que se quedan. "
   ]
  },
  {
   "cell_type": "code",
   "execution_count": 9,
   "metadata": {},
   "outputs": [],
   "source": [
    "mat_cor= gym.corr()"
   ]
  },
  {
   "cell_type": "code",
   "execution_count": 10,
   "metadata": {},
   "outputs": [
    {
     "data": {
      "text/html": [
       "<div>\n",
       "<style scoped>\n",
       "    .dataframe tbody tr th:only-of-type {\n",
       "        vertical-align: middle;\n",
       "    }\n",
       "\n",
       "    .dataframe tbody tr th {\n",
       "        vertical-align: top;\n",
       "    }\n",
       "\n",
       "    .dataframe thead th {\n",
       "        text-align: right;\n",
       "    }\n",
       "</style>\n",
       "<table border=\"1\" class=\"dataframe\">\n",
       "  <thead>\n",
       "    <tr style=\"text-align: right;\">\n",
       "      <th></th>\n",
       "      <th>gender</th>\n",
       "      <th>Near_Location</th>\n",
       "      <th>Partner</th>\n",
       "      <th>Promo_friends</th>\n",
       "      <th>Phone</th>\n",
       "      <th>Contract_period</th>\n",
       "      <th>Group_visits</th>\n",
       "      <th>Age</th>\n",
       "      <th>Avg_additional_charges_total</th>\n",
       "      <th>Month_to_end_contract</th>\n",
       "      <th>Lifetime</th>\n",
       "      <th>Avg_class_frequency_total</th>\n",
       "      <th>Avg_class_frequency_current_month</th>\n",
       "      <th>Churn</th>\n",
       "    </tr>\n",
       "  </thead>\n",
       "  <tbody>\n",
       "    <tr>\n",
       "      <th>gender</th>\n",
       "      <td>1.000000</td>\n",
       "      <td>0.006699</td>\n",
       "      <td>-0.010463</td>\n",
       "      <td>-0.005033</td>\n",
       "      <td>-0.008542</td>\n",
       "      <td>0.000502</td>\n",
       "      <td>0.017879</td>\n",
       "      <td>0.013807</td>\n",
       "      <td>-0.009334</td>\n",
       "      <td>-0.001281</td>\n",
       "      <td>0.013579</td>\n",
       "      <td>0.014620</td>\n",
       "      <td>0.009156</td>\n",
       "      <td>0.000708</td>\n",
       "    </tr>\n",
       "    <tr>\n",
       "      <th>Near_Location</th>\n",
       "      <td>0.006699</td>\n",
       "      <td>1.000000</td>\n",
       "      <td>-0.005119</td>\n",
       "      <td>0.210964</td>\n",
       "      <td>-0.015763</td>\n",
       "      <td>0.150233</td>\n",
       "      <td>0.154728</td>\n",
       "      <td>0.058358</td>\n",
       "      <td>0.040761</td>\n",
       "      <td>0.143961</td>\n",
       "      <td>0.070921</td>\n",
       "      <td>0.043127</td>\n",
       "      <td>0.062664</td>\n",
       "      <td>-0.128098</td>\n",
       "    </tr>\n",
       "    <tr>\n",
       "      <th>Partner</th>\n",
       "      <td>-0.010463</td>\n",
       "      <td>-0.005119</td>\n",
       "      <td>1.000000</td>\n",
       "      <td>0.451960</td>\n",
       "      <td>0.009970</td>\n",
       "      <td>0.306166</td>\n",
       "      <td>0.022710</td>\n",
       "      <td>0.047480</td>\n",
       "      <td>0.022941</td>\n",
       "      <td>0.294632</td>\n",
       "      <td>0.061229</td>\n",
       "      <td>0.024938</td>\n",
       "      <td>0.045561</td>\n",
       "      <td>-0.157986</td>\n",
       "    </tr>\n",
       "    <tr>\n",
       "      <th>Promo_friends</th>\n",
       "      <td>-0.005033</td>\n",
       "      <td>0.210964</td>\n",
       "      <td>0.451960</td>\n",
       "      <td>1.000000</td>\n",
       "      <td>0.001982</td>\n",
       "      <td>0.244552</td>\n",
       "      <td>0.120170</td>\n",
       "      <td>0.050113</td>\n",
       "      <td>0.036898</td>\n",
       "      <td>0.239553</td>\n",
       "      <td>0.072721</td>\n",
       "      <td>0.028063</td>\n",
       "      <td>0.053768</td>\n",
       "      <td>-0.162233</td>\n",
       "    </tr>\n",
       "    <tr>\n",
       "      <th>Phone</th>\n",
       "      <td>-0.008542</td>\n",
       "      <td>-0.015763</td>\n",
       "      <td>0.009970</td>\n",
       "      <td>0.001982</td>\n",
       "      <td>1.000000</td>\n",
       "      <td>-0.006893</td>\n",
       "      <td>-0.010099</td>\n",
       "      <td>-0.011403</td>\n",
       "      <td>0.009279</td>\n",
       "      <td>-0.011196</td>\n",
       "      <td>-0.018801</td>\n",
       "      <td>0.008340</td>\n",
       "      <td>0.013375</td>\n",
       "      <td>-0.001177</td>\n",
       "    </tr>\n",
       "    <tr>\n",
       "      <th>Contract_period</th>\n",
       "      <td>0.000502</td>\n",
       "      <td>0.150233</td>\n",
       "      <td>0.306166</td>\n",
       "      <td>0.244552</td>\n",
       "      <td>-0.006893</td>\n",
       "      <td>1.000000</td>\n",
       "      <td>0.169991</td>\n",
       "      <td>0.138249</td>\n",
       "      <td>0.111445</td>\n",
       "      <td>0.973064</td>\n",
       "      <td>0.170725</td>\n",
       "      <td>0.096211</td>\n",
       "      <td>0.159407</td>\n",
       "      <td>-0.389984</td>\n",
       "    </tr>\n",
       "    <tr>\n",
       "      <th>Group_visits</th>\n",
       "      <td>0.017879</td>\n",
       "      <td>0.154728</td>\n",
       "      <td>0.022710</td>\n",
       "      <td>0.120170</td>\n",
       "      <td>-0.010099</td>\n",
       "      <td>0.169991</td>\n",
       "      <td>1.000000</td>\n",
       "      <td>0.080934</td>\n",
       "      <td>0.032079</td>\n",
       "      <td>0.163703</td>\n",
       "      <td>0.075853</td>\n",
       "      <td>0.056695</td>\n",
       "      <td>0.075923</td>\n",
       "      <td>-0.175325</td>\n",
       "    </tr>\n",
       "    <tr>\n",
       "      <th>Age</th>\n",
       "      <td>0.013807</td>\n",
       "      <td>0.058358</td>\n",
       "      <td>0.047480</td>\n",
       "      <td>0.050113</td>\n",
       "      <td>-0.011403</td>\n",
       "      <td>0.138249</td>\n",
       "      <td>0.080934</td>\n",
       "      <td>1.000000</td>\n",
       "      <td>0.080240</td>\n",
       "      <td>0.134511</td>\n",
       "      <td>0.164693</td>\n",
       "      <td>0.119953</td>\n",
       "      <td>0.183095</td>\n",
       "      <td>-0.404735</td>\n",
       "    </tr>\n",
       "    <tr>\n",
       "      <th>Avg_additional_charges_total</th>\n",
       "      <td>-0.009334</td>\n",
       "      <td>0.040761</td>\n",
       "      <td>0.022941</td>\n",
       "      <td>0.036898</td>\n",
       "      <td>0.009279</td>\n",
       "      <td>0.111445</td>\n",
       "      <td>0.032079</td>\n",
       "      <td>0.080240</td>\n",
       "      <td>1.000000</td>\n",
       "      <td>0.113958</td>\n",
       "      <td>0.079028</td>\n",
       "      <td>0.044426</td>\n",
       "      <td>0.079570</td>\n",
       "      <td>-0.198697</td>\n",
       "    </tr>\n",
       "    <tr>\n",
       "      <th>Month_to_end_contract</th>\n",
       "      <td>-0.001281</td>\n",
       "      <td>0.143961</td>\n",
       "      <td>0.294632</td>\n",
       "      <td>0.239553</td>\n",
       "      <td>-0.011196</td>\n",
       "      <td>0.973064</td>\n",
       "      <td>0.163703</td>\n",
       "      <td>0.134511</td>\n",
       "      <td>0.113958</td>\n",
       "      <td>1.000000</td>\n",
       "      <td>0.161078</td>\n",
       "      <td>0.085387</td>\n",
       "      <td>0.147605</td>\n",
       "      <td>-0.381393</td>\n",
       "    </tr>\n",
       "    <tr>\n",
       "      <th>Lifetime</th>\n",
       "      <td>0.013579</td>\n",
       "      <td>0.070921</td>\n",
       "      <td>0.061229</td>\n",
       "      <td>0.072721</td>\n",
       "      <td>-0.018801</td>\n",
       "      <td>0.170725</td>\n",
       "      <td>0.075853</td>\n",
       "      <td>0.164693</td>\n",
       "      <td>0.079028</td>\n",
       "      <td>0.161078</td>\n",
       "      <td>1.000000</td>\n",
       "      <td>0.112338</td>\n",
       "      <td>0.181975</td>\n",
       "      <td>-0.438220</td>\n",
       "    </tr>\n",
       "    <tr>\n",
       "      <th>Avg_class_frequency_total</th>\n",
       "      <td>0.014620</td>\n",
       "      <td>0.043127</td>\n",
       "      <td>0.024938</td>\n",
       "      <td>0.028063</td>\n",
       "      <td>0.008340</td>\n",
       "      <td>0.096211</td>\n",
       "      <td>0.056695</td>\n",
       "      <td>0.119953</td>\n",
       "      <td>0.044426</td>\n",
       "      <td>0.085387</td>\n",
       "      <td>0.112338</td>\n",
       "      <td>1.000000</td>\n",
       "      <td>0.952739</td>\n",
       "      <td>-0.249715</td>\n",
       "    </tr>\n",
       "    <tr>\n",
       "      <th>Avg_class_frequency_current_month</th>\n",
       "      <td>0.009156</td>\n",
       "      <td>0.062664</td>\n",
       "      <td>0.045561</td>\n",
       "      <td>0.053768</td>\n",
       "      <td>0.013375</td>\n",
       "      <td>0.159407</td>\n",
       "      <td>0.075923</td>\n",
       "      <td>0.183095</td>\n",
       "      <td>0.079570</td>\n",
       "      <td>0.147605</td>\n",
       "      <td>0.181975</td>\n",
       "      <td>0.952739</td>\n",
       "      <td>1.000000</td>\n",
       "      <td>-0.412348</td>\n",
       "    </tr>\n",
       "    <tr>\n",
       "      <th>Churn</th>\n",
       "      <td>0.000708</td>\n",
       "      <td>-0.128098</td>\n",
       "      <td>-0.157986</td>\n",
       "      <td>-0.162233</td>\n",
       "      <td>-0.001177</td>\n",
       "      <td>-0.389984</td>\n",
       "      <td>-0.175325</td>\n",
       "      <td>-0.404735</td>\n",
       "      <td>-0.198697</td>\n",
       "      <td>-0.381393</td>\n",
       "      <td>-0.438220</td>\n",
       "      <td>-0.249715</td>\n",
       "      <td>-0.412348</td>\n",
       "      <td>1.000000</td>\n",
       "    </tr>\n",
       "  </tbody>\n",
       "</table>\n",
       "</div>"
      ],
      "text/plain": [
       "                                     gender  Near_Location   Partner  \\\n",
       "gender                             1.000000       0.006699 -0.010463   \n",
       "Near_Location                      0.006699       1.000000 -0.005119   \n",
       "Partner                           -0.010463      -0.005119  1.000000   \n",
       "Promo_friends                     -0.005033       0.210964  0.451960   \n",
       "Phone                             -0.008542      -0.015763  0.009970   \n",
       "Contract_period                    0.000502       0.150233  0.306166   \n",
       "Group_visits                       0.017879       0.154728  0.022710   \n",
       "Age                                0.013807       0.058358  0.047480   \n",
       "Avg_additional_charges_total      -0.009334       0.040761  0.022941   \n",
       "Month_to_end_contract             -0.001281       0.143961  0.294632   \n",
       "Lifetime                           0.013579       0.070921  0.061229   \n",
       "Avg_class_frequency_total          0.014620       0.043127  0.024938   \n",
       "Avg_class_frequency_current_month  0.009156       0.062664  0.045561   \n",
       "Churn                              0.000708      -0.128098 -0.157986   \n",
       "\n",
       "                                   Promo_friends     Phone  Contract_period  \\\n",
       "gender                                 -0.005033 -0.008542         0.000502   \n",
       "Near_Location                           0.210964 -0.015763         0.150233   \n",
       "Partner                                 0.451960  0.009970         0.306166   \n",
       "Promo_friends                           1.000000  0.001982         0.244552   \n",
       "Phone                                   0.001982  1.000000        -0.006893   \n",
       "Contract_period                         0.244552 -0.006893         1.000000   \n",
       "Group_visits                            0.120170 -0.010099         0.169991   \n",
       "Age                                     0.050113 -0.011403         0.138249   \n",
       "Avg_additional_charges_total            0.036898  0.009279         0.111445   \n",
       "Month_to_end_contract                   0.239553 -0.011196         0.973064   \n",
       "Lifetime                                0.072721 -0.018801         0.170725   \n",
       "Avg_class_frequency_total               0.028063  0.008340         0.096211   \n",
       "Avg_class_frequency_current_month       0.053768  0.013375         0.159407   \n",
       "Churn                                  -0.162233 -0.001177        -0.389984   \n",
       "\n",
       "                                   Group_visits       Age  \\\n",
       "gender                                 0.017879  0.013807   \n",
       "Near_Location                          0.154728  0.058358   \n",
       "Partner                                0.022710  0.047480   \n",
       "Promo_friends                          0.120170  0.050113   \n",
       "Phone                                 -0.010099 -0.011403   \n",
       "Contract_period                        0.169991  0.138249   \n",
       "Group_visits                           1.000000  0.080934   \n",
       "Age                                    0.080934  1.000000   \n",
       "Avg_additional_charges_total           0.032079  0.080240   \n",
       "Month_to_end_contract                  0.163703  0.134511   \n",
       "Lifetime                               0.075853  0.164693   \n",
       "Avg_class_frequency_total              0.056695  0.119953   \n",
       "Avg_class_frequency_current_month      0.075923  0.183095   \n",
       "Churn                                 -0.175325 -0.404735   \n",
       "\n",
       "                                   Avg_additional_charges_total  \\\n",
       "gender                                                -0.009334   \n",
       "Near_Location                                          0.040761   \n",
       "Partner                                                0.022941   \n",
       "Promo_friends                                          0.036898   \n",
       "Phone                                                  0.009279   \n",
       "Contract_period                                        0.111445   \n",
       "Group_visits                                           0.032079   \n",
       "Age                                                    0.080240   \n",
       "Avg_additional_charges_total                           1.000000   \n",
       "Month_to_end_contract                                  0.113958   \n",
       "Lifetime                                               0.079028   \n",
       "Avg_class_frequency_total                              0.044426   \n",
       "Avg_class_frequency_current_month                      0.079570   \n",
       "Churn                                                 -0.198697   \n",
       "\n",
       "                                   Month_to_end_contract  Lifetime  \\\n",
       "gender                                         -0.001281  0.013579   \n",
       "Near_Location                                   0.143961  0.070921   \n",
       "Partner                                         0.294632  0.061229   \n",
       "Promo_friends                                   0.239553  0.072721   \n",
       "Phone                                          -0.011196 -0.018801   \n",
       "Contract_period                                 0.973064  0.170725   \n",
       "Group_visits                                    0.163703  0.075853   \n",
       "Age                                             0.134511  0.164693   \n",
       "Avg_additional_charges_total                    0.113958  0.079028   \n",
       "Month_to_end_contract                           1.000000  0.161078   \n",
       "Lifetime                                        0.161078  1.000000   \n",
       "Avg_class_frequency_total                       0.085387  0.112338   \n",
       "Avg_class_frequency_current_month               0.147605  0.181975   \n",
       "Churn                                          -0.381393 -0.438220   \n",
       "\n",
       "                                   Avg_class_frequency_total  \\\n",
       "gender                                              0.014620   \n",
       "Near_Location                                       0.043127   \n",
       "Partner                                             0.024938   \n",
       "Promo_friends                                       0.028063   \n",
       "Phone                                               0.008340   \n",
       "Contract_period                                     0.096211   \n",
       "Group_visits                                        0.056695   \n",
       "Age                                                 0.119953   \n",
       "Avg_additional_charges_total                        0.044426   \n",
       "Month_to_end_contract                               0.085387   \n",
       "Lifetime                                            0.112338   \n",
       "Avg_class_frequency_total                           1.000000   \n",
       "Avg_class_frequency_current_month                   0.952739   \n",
       "Churn                                              -0.249715   \n",
       "\n",
       "                                   Avg_class_frequency_current_month     Churn  \n",
       "gender                                                      0.009156  0.000708  \n",
       "Near_Location                                               0.062664 -0.128098  \n",
       "Partner                                                     0.045561 -0.157986  \n",
       "Promo_friends                                               0.053768 -0.162233  \n",
       "Phone                                                       0.013375 -0.001177  \n",
       "Contract_period                                             0.159407 -0.389984  \n",
       "Group_visits                                                0.075923 -0.175325  \n",
       "Age                                                         0.183095 -0.404735  \n",
       "Avg_additional_charges_total                                0.079570 -0.198697  \n",
       "Month_to_end_contract                                       0.147605 -0.381393  \n",
       "Lifetime                                                    0.181975 -0.438220  \n",
       "Avg_class_frequency_total                                   0.952739 -0.249715  \n",
       "Avg_class_frequency_current_month                           1.000000 -0.412348  \n",
       "Churn                                                      -0.412348  1.000000  "
      ]
     },
     "execution_count": 10,
     "metadata": {},
     "output_type": "execute_result"
    }
   ],
   "source": [
    "mat_cor"
   ]
  },
  {
   "cell_type": "code",
   "execution_count": 11,
   "metadata": {},
   "outputs": [
    {
     "name": "stdout",
     "output_type": "stream",
     "text": [
      "(4000, 14)\n"
     ]
    }
   ],
   "source": [
    "print(gym.shape)"
   ]
  },
  {
   "cell_type": "code",
   "execution_count": 14,
   "metadata": {},
   "outputs": [
    {
     "data": {
      "image/png": "[encoded data removed]",
      "text/plain": [
       "<Figure size 640x480 with 2 Axes>"
      ]
     },
     "metadata": {},
     "output_type": "display_data"
    }
   ],
   "source": [
    "fig, ax = plt.subplots()\n",
    "sns.heatmap(mat_cor, annot= True)\n",
    "ax.set_ylim(14, 0)\n",
    "ax.set_xlim(14, 0)\n",
    "plt.show()"
   ]
  },
  {
   "cell_type": "markdown",
   "metadata": {},
   "source": [
    "## Construir un modelo para predecir la cancelación de usuarios"
   ]
  },
  {
   "cell_type": "code",
   "execution_count": null,
   "metadata": {},
   "outputs": [],
   "source": [
    "X = gym.drop('Churn', axis= 1)\n",
    "y =gym['Churn']"
   ]
  },
  {
   "cell_type": "code",
   "execution_count": null,
   "metadata": {},
   "outputs": [],
   "source": [
    "X_train, X_test, y_train, y_test = train_test_split(X, y, test_size=0.2, random_state=0)"
   ]
  },
  {
   "cell_type": "code",
   "execution_count": null,
   "metadata": {},
   "outputs": [],
   "source": [
    "scaler = StandardScaler()\n",
    "scaler.fit(X_train)"
   ]
  },
  {
   "cell_type": "code",
   "execution_count": null,
   "metadata": {},
   "outputs": [],
   "source": [
    "model_1= LogisticRegression(random_state=0)\n",
    "model_1.fit(X_train,y_train)\n",
    "predictions = model_1.predict(X_test)\n",
    "print('LogisticRegression:')\n",
    "print('Exactitud: {:.2f}'.format(accuracy_score(y_test, predictions)))\n",
    "print('Precisión: {:.2f}'.format(precision_score(y_test, predictions)))\n",
    "print('Recall: {:.2f}'.format(recall_score(y_test, predictions)))"
   ]
  },
  {
   "cell_type": "code",
   "execution_count": null,
   "metadata": {},
   "outputs": [],
   "source": [
    "model_2= RandomForestClassifier(n_estimators = 100, random_state = 0)\n",
    "model_2.fit(X_train, y_train)\n",
    "predictions_m2 = model_2.predict(X_test)\n",
    "print('RandomForestClassifier:')\n",
    "print('Accuracy: {:.2f}'.format(accuracy_score(y_test, predictions_m2)))\n",
    "print('Precision: {:.2f}'.format(precision_score(y_test, predictions_m2)))\n",
    "print('Recall: {:.2f}'.format(recall_score(y_test, predictions_m2)))"
   ]
  },
  {
   "cell_type": "markdown",
   "metadata": {},
   "source": [
    "###### Podemos ver que al aplicar los metodos de regresion logica y bosque aleatorio nuestras metricas no tienen variaion significativa, incluso en exactitud su valor es igual"
   ]
  },
  {
   "cell_type": "markdown",
   "metadata": {},
   "source": [
    "## Crear clústeres de usuarios/as"
   ]
  },
  {
   "cell_type": "code",
   "execution_count": null,
   "metadata": {},
   "outputs": [],
   "source": [
    "def show_clusters_on_plot(df, x_name,y_name, cluster_name):\n",
    "    plt.figure(figsize = (10,10))\n",
    "    sns.scatterplot(df[x_name], df[y_name],\n",
    "          hue = df[cluster_name], palette = 'Paired'\n",
    "       )\n",
    "    plt.title('{} vs {}'.format(x_name, y_name))\n",
    "    plt.show()"
   ]
  },
  {
   "cell_type": "code",
   "execution_count": null,
   "metadata": {},
   "outputs": [],
   "source": [
    "sc = StandardScaler()\n",
    "x_sc = sc.fit_transform(gym)"
   ]
  },
  {
   "cell_type": "code",
   "execution_count": null,
   "metadata": {},
   "outputs": [],
   "source": [
    "km = KMeans(n_clusters= 5)"
   ]
  },
  {
   "cell_type": "code",
   "execution_count": null,
   "metadata": {},
   "outputs": [],
   "source": [
    "labels =  km.fit_predict(x_sc)"
   ]
  },
  {
   "cell_type": "code",
   "execution_count": null,
   "metadata": {},
   "outputs": [],
   "source": [
    "gym['Churn'] = labels"
   ]
  },
  {
   "cell_type": "code",
   "execution_count": null,
   "metadata": {},
   "outputs": [],
   "source": [
    "print(gym['Churn'])"
   ]
  },
  {
   "cell_type": "code",
   "execution_count": null,
   "metadata": {},
   "outputs": [],
   "source": [
    "show_clusters_on_plot(gym,'Avg_class_frequency_total','Avg_additional_charges_total','Churn')\n",
    "show_clusters_on_plot(gym,'Avg_class_frequency_total','Avg_class_frequency_current_month','Churn')"
   ]
  },
  {
   "cell_type": "markdown",
   "metadata": {},
   "source": [
    "###### Podemos darnos cuenta que en estos promedios no existe ninguna relacion (Avg_class_frequency_total' vs 'Avg_additional_charges_total') a diferncia de la comparativa entre ('Avg_class_frequency_total' vs 'Avg_class_frequency_current_month') que encontramos una relacion positva "
   ]
  },
  {
   "cell_type": "code",
   "execution_count": null,
   "metadata": {},
   "outputs": [],
   "source": [
    "gym.groupby('Churn').mean()"
   ]
  },
  {
   "cell_type": "markdown",
   "metadata": {},
   "source": [
    "## Saca conclusiones y haz recomendaciones básicas sobre el trabajo con clientes"
   ]
  },
  {
   "cell_type": "markdown",
   "metadata": {},
   "source": [
    "###### Al realizar los clústeres podemos ver que Promedio clase frecuencia total y el Promedio cargas adicionales total son muy peculiares a difernci de la comparativa de Promedio clase frecuencia total con Promedio clase frecuencia mes actual que nos dan una grafica mas lineal. "
   ]
  },
  {
   "cell_type": "markdown",
   "metadata": {},
   "source": [
    "###### Aplicando los metodos de regresión logística y bosque aleatorio,  encontramos variacion minima en las metricas, y en especial en la metrica de exactitud no existe cambio alguno"
   ]
  }
 ],
 "metadata": {
  "ExecuteTimeLog": [
   {
    "duration": 2708,
    "start_time": "2024-11-26T02:05:47.673Z"
   },
   {
    "duration": 238,
    "start_time": "2024-11-26T02:07:11.444Z"
   },
   {
    "duration": 18,
    "start_time": "2024-11-26T02:07:18.412Z"
   },
   {
    "duration": 12,
    "start_time": "2024-11-26T02:09:20.442Z"
   },
   {
    "duration": 10,
    "start_time": "2024-11-26T02:09:24.232Z"
   },
   {
    "duration": 14,
    "start_time": "2024-11-26T02:09:25.027Z"
   },
   {
    "duration": 36,
    "start_time": "2024-11-26T02:09:44.774Z"
   },
   {
    "duration": 9,
    "start_time": "2024-11-26T02:10:15.431Z"
   },
   {
    "duration": 23,
    "start_time": "2024-11-26T02:53:16.047Z"
   },
   {
    "duration": 22,
    "start_time": "2024-11-26T02:53:29.797Z"
   },
   {
    "duration": 12,
    "start_time": "2024-11-26T02:53:38.731Z"
   },
   {
    "duration": 75,
    "start_time": "2024-11-26T03:12:10.627Z"
   },
   {
    "duration": 342,
    "start_time": "2024-11-26T03:12:25.429Z"
   },
   {
    "duration": 55,
    "start_time": "2024-11-26T03:12:44.552Z"
   },
   {
    "duration": 5,
    "start_time": "2024-11-26T03:13:21.025Z"
   },
   {
    "duration": 16,
    "start_time": "2024-11-26T03:13:28.423Z"
   },
   {
    "duration": 14,
    "start_time": "2024-11-26T03:16:38.619Z"
   },
   {
    "duration": 4,
    "start_time": "2024-11-26T03:17:05.439Z"
   },
   {
    "duration": 4,
    "start_time": "2024-11-26T03:17:17.140Z"
   },
   {
    "duration": 3,
    "start_time": "2024-11-26T03:21:16.880Z"
   },
   {
    "duration": 13,
    "start_time": "2024-11-26T03:25:23.423Z"
   },
   {
    "duration": 13,
    "start_time": "2024-11-26T03:33:10.029Z"
   },
   {
    "duration": 127,
    "start_time": "2024-11-26T03:34:12.303Z"
   },
   {
    "duration": 4,
    "start_time": "2024-11-26T03:34:58.526Z"
   },
   {
    "duration": 7,
    "start_time": "2024-11-26T03:35:00.298Z"
   },
   {
    "duration": 117,
    "start_time": "2024-11-26T03:35:10.234Z"
   },
   {
    "duration": 5,
    "start_time": "2024-11-26T03:36:16.754Z"
   },
   {
    "duration": 6,
    "start_time": "2024-11-26T03:36:20.602Z"
   },
   {
    "duration": 113,
    "start_time": "2024-11-26T03:36:25.416Z"
   },
   {
    "duration": 111,
    "start_time": "2024-11-26T03:36:45.084Z"
   },
   {
    "duration": 109,
    "start_time": "2024-11-26T03:36:54.490Z"
   },
   {
    "duration": 5,
    "start_time": "2024-11-26T03:38:06.221Z"
   },
   {
    "duration": 14,
    "start_time": "2024-11-26T03:38:14.171Z"
   },
   {
    "duration": 5,
    "start_time": "2024-11-26T03:46:28.212Z"
   },
   {
    "duration": 6,
    "start_time": "2024-11-26T03:46:31.036Z"
   },
   {
    "duration": 3,
    "start_time": "2024-11-26T03:57:50.324Z"
   },
   {
    "duration": 4,
    "start_time": "2024-11-26T04:07:16.869Z"
   },
   {
    "duration": 14,
    "start_time": "2024-11-26T04:07:18.426Z"
   },
   {
    "duration": 3,
    "start_time": "2024-11-26T04:07:51.687Z"
   },
   {
    "duration": 952,
    "start_time": "2024-11-26T04:08:10.147Z"
   },
   {
    "duration": 11,
    "start_time": "2024-11-26T04:08:11.100Z"
   },
   {
    "duration": 9,
    "start_time": "2024-11-26T04:08:11.113Z"
   },
   {
    "duration": 24,
    "start_time": "2024-11-26T04:08:11.123Z"
   },
   {
    "duration": 29,
    "start_time": "2024-11-26T04:08:11.149Z"
   },
   {
    "duration": 5,
    "start_time": "2024-11-26T04:08:11.180Z"
   },
   {
    "duration": 5,
    "start_time": "2024-11-26T04:08:11.188Z"
   },
   {
    "duration": 149,
    "start_time": "2024-11-26T04:08:11.195Z"
   },
   {
    "duration": 5,
    "start_time": "2024-11-26T04:08:11.345Z"
   },
   {
    "duration": 21,
    "start_time": "2024-11-26T04:08:11.352Z"
   },
   {
    "duration": 6,
    "start_time": "2024-11-26T04:08:11.374Z"
   },
   {
    "duration": 5,
    "start_time": "2024-11-26T04:08:11.381Z"
   },
   {
    "duration": 243,
    "start_time": "2024-11-26T04:08:11.387Z"
   },
   {
    "duration": 0,
    "start_time": "2024-11-26T04:08:11.632Z"
   },
   {
    "duration": 16,
    "start_time": "2024-11-26T04:08:21.810Z"
   },
   {
    "duration": 89,
    "start_time": "2024-11-26T04:08:43.782Z"
   },
   {
    "duration": 587,
    "start_time": "2024-11-26T04:08:47.812Z"
   },
   {
    "duration": 209,
    "start_time": "2024-11-26T04:11:45.665Z"
   },
   {
    "duration": 981,
    "start_time": "2024-11-26T04:12:35.932Z"
   },
   {
    "duration": 10,
    "start_time": "2024-11-26T04:12:36.915Z"
   },
   {
    "duration": 9,
    "start_time": "2024-11-26T04:12:36.926Z"
   },
   {
    "duration": 33,
    "start_time": "2024-11-26T04:12:36.937Z"
   },
   {
    "duration": 20,
    "start_time": "2024-11-26T04:12:36.972Z"
   },
   {
    "duration": 7,
    "start_time": "2024-11-26T04:12:36.998Z"
   },
   {
    "duration": 12,
    "start_time": "2024-11-26T04:12:37.007Z"
   },
   {
    "duration": 133,
    "start_time": "2024-11-26T04:12:37.021Z"
   },
   {
    "duration": 5,
    "start_time": "2024-11-26T04:12:37.156Z"
   },
   {
    "duration": 28,
    "start_time": "2024-11-26T04:12:37.163Z"
   },
   {
    "duration": 4,
    "start_time": "2024-11-26T04:12:37.194Z"
   },
   {
    "duration": 5,
    "start_time": "2024-11-26T04:12:37.199Z"
   },
   {
    "duration": 181,
    "start_time": "2024-11-26T04:12:37.205Z"
   },
   {
    "duration": 709,
    "start_time": "2024-11-26T04:12:37.391Z"
   },
   {
    "duration": 95,
    "start_time": "2024-11-26T04:18:40.891Z"
   },
   {
    "duration": 588,
    "start_time": "2024-11-26T04:18:47.534Z"
   },
   {
    "duration": 6,
    "start_time": "2024-11-26T04:19:50.368Z"
   },
   {
    "duration": 48,
    "start_time": "2024-11-26T04:19:53.222Z"
   },
   {
    "duration": 588,
    "start_time": "2024-11-26T04:19:54.141Z"
   },
   {
    "duration": 6,
    "start_time": "2024-11-26T04:20:29.040Z"
   },
   {
    "duration": 18,
    "start_time": "2024-11-26T04:20:58.886Z"
   },
   {
    "duration": 18,
    "start_time": "2024-11-26T04:24:05.333Z"
   },
   {
    "duration": 962,
    "start_time": "2024-11-26T04:28:00.128Z"
   },
   {
    "duration": 10,
    "start_time": "2024-11-26T04:28:01.092Z"
   },
   {
    "duration": 8,
    "start_time": "2024-11-26T04:28:01.104Z"
   },
   {
    "duration": 22,
    "start_time": "2024-11-26T04:28:01.114Z"
   },
   {
    "duration": 32,
    "start_time": "2024-11-26T04:28:01.138Z"
   },
   {
    "duration": 6,
    "start_time": "2024-11-26T04:28:01.171Z"
   },
   {
    "duration": 6,
    "start_time": "2024-11-26T04:28:01.178Z"
   },
   {
    "duration": 130,
    "start_time": "2024-11-26T04:28:01.186Z"
   },
   {
    "duration": 5,
    "start_time": "2024-11-26T04:28:01.319Z"
   },
   {
    "duration": 15,
    "start_time": "2024-11-26T04:28:01.326Z"
   },
   {
    "duration": 3,
    "start_time": "2024-11-26T04:28:01.343Z"
   },
   {
    "duration": 23,
    "start_time": "2024-11-26T04:28:01.347Z"
   },
   {
    "duration": 8,
    "start_time": "2024-11-26T04:28:01.372Z"
   },
   {
    "duration": 5,
    "start_time": "2024-11-26T04:28:01.383Z"
   },
   {
    "duration": 80,
    "start_time": "2024-11-26T04:28:01.390Z"
   },
   {
    "duration": 314,
    "start_time": "2024-11-26T04:28:01.471Z"
   },
   {
    "duration": 611,
    "start_time": "2024-11-26T04:28:17.016Z"
   },
   {
    "duration": 709,
    "start_time": "2024-11-26T04:28:29.051Z"
   },
   {
    "duration": 616,
    "start_time": "2024-11-26T04:29:48.907Z"
   },
   {
    "duration": 950,
    "start_time": "2024-11-26T04:31:32.830Z"
   },
   {
    "duration": 10,
    "start_time": "2024-11-26T04:31:33.782Z"
   },
   {
    "duration": 9,
    "start_time": "2024-11-26T04:31:33.794Z"
   },
   {
    "duration": 22,
    "start_time": "2024-11-26T04:31:33.804Z"
   },
   {
    "duration": 14,
    "start_time": "2024-11-26T04:31:33.828Z"
   },
   {
    "duration": 28,
    "start_time": "2024-11-26T04:31:33.843Z"
   },
   {
    "duration": 6,
    "start_time": "2024-11-26T04:31:33.873Z"
   },
   {
    "duration": 130,
    "start_time": "2024-11-26T04:31:33.881Z"
   },
   {
    "duration": 4,
    "start_time": "2024-11-26T04:31:34.013Z"
   },
   {
    "duration": 13,
    "start_time": "2024-11-26T04:31:34.019Z"
   },
   {
    "duration": 3,
    "start_time": "2024-11-26T04:31:34.034Z"
   },
   {
    "duration": 4,
    "start_time": "2024-11-26T04:31:34.039Z"
   },
   {
    "duration": 30,
    "start_time": "2024-11-26T04:31:34.044Z"
   },
   {
    "duration": 6,
    "start_time": "2024-11-26T04:31:34.076Z"
   },
   {
    "duration": 17,
    "start_time": "2024-11-26T04:31:34.083Z"
   },
   {
    "duration": 1069,
    "start_time": "2024-11-26T04:31:34.102Z"
   },
   {
    "duration": 618,
    "start_time": "2024-11-26T04:39:20.342Z"
   },
   {
    "duration": 5,
    "start_time": "2024-11-26T04:40:15.962Z"
   },
   {
    "duration": 130,
    "start_time": "2024-11-26T04:40:16.841Z"
   },
   {
    "duration": 622,
    "start_time": "2024-11-26T04:40:38.408Z"
   },
   {
    "duration": 613,
    "start_time": "2024-11-26T04:41:53.930Z"
   },
   {
    "duration": 689,
    "start_time": "2024-11-26T04:51:51.540Z"
   },
   {
    "duration": 654,
    "start_time": "2024-11-26T04:52:02.069Z"
   },
   {
    "duration": 622,
    "start_time": "2024-11-26T04:52:37.082Z"
   },
   {
    "duration": 627,
    "start_time": "2024-11-26T04:53:33.851Z"
   },
   {
    "duration": 609,
    "start_time": "2024-11-26T04:57:48.008Z"
   },
   {
    "duration": 605,
    "start_time": "2024-11-26T04:58:22.980Z"
   },
   {
    "duration": 624,
    "start_time": "2024-11-26T05:03:06.219Z"
   },
   {
    "duration": 618,
    "start_time": "2024-11-26T05:04:43.253Z"
   },
   {
    "duration": 588,
    "start_time": "2024-11-26T05:05:22.996Z"
   },
   {
    "duration": 16,
    "start_time": "2024-11-26T05:07:28.298Z"
   },
   {
    "duration": 1021,
    "start_time": "2024-11-26T05:09:09.875Z"
   },
   {
    "duration": 11,
    "start_time": "2024-11-26T05:09:10.898Z"
   },
   {
    "duration": 9,
    "start_time": "2024-11-26T05:09:10.910Z"
   },
   {
    "duration": 24,
    "start_time": "2024-11-26T05:09:10.921Z"
   },
   {
    "duration": 29,
    "start_time": "2024-11-26T05:09:10.947Z"
   },
   {
    "duration": 5,
    "start_time": "2024-11-26T05:09:10.978Z"
   },
   {
    "duration": 6,
    "start_time": "2024-11-26T05:09:10.984Z"
   },
   {
    "duration": 134,
    "start_time": "2024-11-26T05:09:10.991Z"
   },
   {
    "duration": 5,
    "start_time": "2024-11-26T05:09:11.127Z"
   },
   {
    "duration": 15,
    "start_time": "2024-11-26T05:09:11.133Z"
   },
   {
    "duration": 4,
    "start_time": "2024-11-26T05:09:11.149Z"
   },
   {
    "duration": 5,
    "start_time": "2024-11-26T05:09:11.169Z"
   },
   {
    "duration": 118,
    "start_time": "2024-11-26T05:09:11.175Z"
   },
   {
    "duration": 314,
    "start_time": "2024-11-26T05:09:11.372Z"
   },
   {
    "duration": 6,
    "start_time": "2024-11-26T05:14:18.587Z"
   },
   {
    "duration": 8,
    "start_time": "2024-11-26T05:14:39.287Z"
   },
   {
    "duration": 230,
    "start_time": "2024-11-26T05:15:28.185Z"
   },
   {
    "duration": 20,
    "start_time": "2024-11-26T05:15:58.971Z"
   },
   {
    "duration": 990,
    "start_time": "2024-11-26T05:16:04.112Z"
   },
   {
    "duration": 10,
    "start_time": "2024-11-26T05:16:05.104Z"
   },
   {
    "duration": 8,
    "start_time": "2024-11-26T05:16:05.116Z"
   },
   {
    "duration": 23,
    "start_time": "2024-11-26T05:16:05.126Z"
   },
   {
    "duration": 30,
    "start_time": "2024-11-26T05:16:05.152Z"
   },
   {
    "duration": 4,
    "start_time": "2024-11-26T05:16:05.183Z"
   },
   {
    "duration": 5,
    "start_time": "2024-11-26T05:16:05.189Z"
   },
   {
    "duration": 140,
    "start_time": "2024-11-26T05:16:05.196Z"
   },
   {
    "duration": 5,
    "start_time": "2024-11-26T05:16:05.338Z"
   },
   {
    "duration": 25,
    "start_time": "2024-11-26T05:16:05.345Z"
   },
   {
    "duration": 4,
    "start_time": "2024-11-26T05:16:05.371Z"
   },
   {
    "duration": 4,
    "start_time": "2024-11-26T05:16:05.376Z"
   },
   {
    "duration": 189,
    "start_time": "2024-11-26T05:16:05.382Z"
   },
   {
    "duration": 351,
    "start_time": "2024-11-26T05:16:05.574Z"
   },
   {
    "duration": 6,
    "start_time": "2024-11-26T05:16:05.926Z"
   },
   {
    "duration": 2,
    "start_time": "2024-11-26T05:16:05.934Z"
   },
   {
    "duration": 331,
    "start_time": "2024-11-26T05:18:32.655Z"
   },
   {
    "duration": 232,
    "start_time": "2024-11-26T05:19:28.059Z"
   },
   {
    "duration": 3,
    "start_time": "2024-11-26T05:19:46.058Z"
   },
   {
    "duration": 4,
    "start_time": "2024-11-26T05:21:20.391Z"
   },
   {
    "duration": 5,
    "start_time": "2024-11-26T05:22:24.557Z"
   },
   {
    "duration": 97,
    "start_time": "2024-11-26T05:22:36.118Z"
   },
   {
    "duration": 962,
    "start_time": "2024-11-26T05:33:30.934Z"
   },
   {
    "duration": 11,
    "start_time": "2024-11-26T05:33:31.897Z"
   },
   {
    "duration": 9,
    "start_time": "2024-11-26T05:33:31.910Z"
   },
   {
    "duration": 23,
    "start_time": "2024-11-26T05:33:31.921Z"
   },
   {
    "duration": 29,
    "start_time": "2024-11-26T05:33:31.947Z"
   },
   {
    "duration": 5,
    "start_time": "2024-11-26T05:33:31.977Z"
   },
   {
    "duration": 7,
    "start_time": "2024-11-26T05:33:31.983Z"
   },
   {
    "duration": 139,
    "start_time": "2024-11-26T05:33:31.991Z"
   },
   {
    "duration": 5,
    "start_time": "2024-11-26T05:33:32.132Z"
   },
   {
    "duration": 14,
    "start_time": "2024-11-26T05:33:32.138Z"
   },
   {
    "duration": 18,
    "start_time": "2024-11-26T05:33:32.154Z"
   },
   {
    "duration": 5,
    "start_time": "2024-11-26T05:33:32.173Z"
   },
   {
    "duration": 196,
    "start_time": "2024-11-26T05:33:32.179Z"
   },
   {
    "duration": 355,
    "start_time": "2024-11-26T05:33:32.380Z"
   },
   {
    "duration": 4,
    "start_time": "2024-11-26T05:33:32.736Z"
   },
   {
    "duration": 6,
    "start_time": "2024-11-26T05:33:32.742Z"
   },
   {
    "duration": 2,
    "start_time": "2024-11-26T05:33:32.750Z"
   },
   {
    "duration": 431,
    "start_time": "2024-11-26T05:33:32.754Z"
   },
   {
    "duration": 3,
    "start_time": "2024-11-26T05:33:33.187Z"
   },
   {
    "duration": 0,
    "start_time": "2024-11-26T05:33:33.193Z"
   },
   {
    "duration": 0,
    "start_time": "2024-11-26T05:33:33.270Z"
   },
   {
    "duration": 0,
    "start_time": "2024-11-26T05:33:33.271Z"
   },
   {
    "duration": 3,
    "start_time": "2024-11-26T05:33:50.322Z"
   },
   {
    "duration": 3,
    "start_time": "2024-11-26T05:33:53.558Z"
   },
   {
    "duration": 669,
    "start_time": "2024-11-26T05:33:54.540Z"
   },
   {
    "duration": 13,
    "start_time": "2024-11-26T05:35:40.684Z"
   },
   {
    "duration": 265,
    "start_time": "2024-11-26T05:49:44.503Z"
   },
   {
    "duration": 168,
    "start_time": "2024-11-26T05:50:00.909Z"
   },
   {
    "duration": 1026,
    "start_time": "2024-11-26T05:52:59.180Z"
   },
   {
    "duration": 10,
    "start_time": "2024-11-26T05:53:00.209Z"
   },
   {
    "duration": 9,
    "start_time": "2024-11-26T05:53:00.221Z"
   },
   {
    "duration": 23,
    "start_time": "2024-11-26T05:53:00.231Z"
   },
   {
    "duration": 15,
    "start_time": "2024-11-26T05:53:00.269Z"
   },
   {
    "duration": 5,
    "start_time": "2024-11-26T05:53:00.286Z"
   },
   {
    "duration": 5,
    "start_time": "2024-11-26T05:53:00.293Z"
   },
   {
    "duration": 142,
    "start_time": "2024-11-26T05:53:00.301Z"
   },
   {
    "duration": 5,
    "start_time": "2024-11-26T05:53:00.445Z"
   },
   {
    "duration": 22,
    "start_time": "2024-11-26T05:53:00.451Z"
   },
   {
    "duration": 4,
    "start_time": "2024-11-26T05:53:00.474Z"
   },
   {
    "duration": 4,
    "start_time": "2024-11-26T05:53:00.480Z"
   },
   {
    "duration": 190,
    "start_time": "2024-11-26T05:53:00.485Z"
   },
   {
    "duration": 351,
    "start_time": "2024-11-26T05:53:00.679Z"
   },
   {
    "duration": 3,
    "start_time": "2024-11-26T05:53:01.033Z"
   },
   {
    "duration": 7,
    "start_time": "2024-11-26T05:53:01.038Z"
   },
   {
    "duration": 3,
    "start_time": "2024-11-26T05:53:01.046Z"
   },
   {
    "duration": 348,
    "start_time": "2024-11-26T05:53:01.052Z"
   },
   {
    "duration": 67,
    "start_time": "2024-11-26T05:53:01.402Z"
   },
   {
    "duration": 4,
    "start_time": "2024-11-26T05:53:01.471Z"
   },
   {
    "duration": 743,
    "start_time": "2024-11-26T05:53:01.476Z"
   },
   {
    "duration": 13,
    "start_time": "2024-11-26T05:53:02.221Z"
   },
   {
    "duration": 2694,
    "start_time": "2024-11-26T06:44:49.792Z"
   },
   {
    "duration": 20,
    "start_time": "2024-11-26T06:44:52.489Z"
   },
   {
    "duration": 11,
    "start_time": "2024-11-26T06:45:03.110Z"
   },
   {
    "duration": 24,
    "start_time": "2024-11-26T06:45:05.159Z"
   },
   {
    "duration": 13,
    "start_time": "2024-11-26T06:45:06.386Z"
   },
   {
    "duration": 5,
    "start_time": "2024-11-26T06:45:08.661Z"
   },
   {
    "duration": 7,
    "start_time": "2024-11-26T06:45:09.839Z"
   },
   {
    "duration": 123,
    "start_time": "2024-11-26T06:45:11.929Z"
   },
   {
    "duration": 5,
    "start_time": "2024-11-26T06:45:14.864Z"
   },
   {
    "duration": 15,
    "start_time": "2024-11-26T06:45:16.116Z"
   },
   {
    "duration": 4,
    "start_time": "2024-11-26T06:49:26.631Z"
   },
   {
    "duration": 5,
    "start_time": "2024-11-26T06:49:28.025Z"
   },
   {
    "duration": 147,
    "start_time": "2024-11-26T06:52:21.386Z"
   },
   {
    "duration": 272,
    "start_time": "2024-11-26T06:52:24.116Z"
   },
   {
    "duration": 3,
    "start_time": "2024-11-26T07:03:42.483Z"
   },
   {
    "duration": 6,
    "start_time": "2024-11-26T07:03:43.669Z"
   },
   {
    "duration": 2,
    "start_time": "2024-11-26T07:03:45.076Z"
   },
   {
    "duration": 353,
    "start_time": "2024-11-26T07:03:46.800Z"
   },
   {
    "duration": 2,
    "start_time": "2024-11-26T07:04:37.638Z"
   },
   {
    "duration": 4,
    "start_time": "2024-11-26T07:04:38.739Z"
   },
   {
    "duration": 724,
    "start_time": "2024-11-26T07:04:40.612Z"
   },
   {
    "duration": 13,
    "start_time": "2024-11-26T07:04:42.144Z"
   },
   {
    "duration": 2678,
    "start_time": "2024-11-27T04:42:10.648Z"
   },
   {
    "duration": 22,
    "start_time": "2024-11-27T04:42:13.329Z"
   },
   {
    "duration": 15,
    "start_time": "2024-11-27T04:42:13.352Z"
   },
   {
    "duration": 23,
    "start_time": "2024-11-27T04:42:13.370Z"
   },
   {
    "duration": 15,
    "start_time": "2024-11-27T04:42:13.395Z"
   },
   {
    "duration": 15,
    "start_time": "2024-11-27T04:42:13.411Z"
   },
   {
    "duration": 6,
    "start_time": "2024-11-27T04:42:13.427Z"
   },
   {
    "duration": 416,
    "start_time": "2024-11-27T04:42:13.435Z"
   },
   {
    "duration": 0,
    "start_time": "2024-11-27T04:42:13.853Z"
   },
   {
    "duration": 0,
    "start_time": "2024-11-27T04:42:13.854Z"
   },
   {
    "duration": 0,
    "start_time": "2024-11-27T04:42:13.855Z"
   },
   {
    "duration": 0,
    "start_time": "2024-11-27T04:42:13.856Z"
   },
   {
    "duration": 0,
    "start_time": "2024-11-27T04:42:13.857Z"
   },
   {
    "duration": 0,
    "start_time": "2024-11-27T04:42:13.858Z"
   },
   {
    "duration": 0,
    "start_time": "2024-11-27T04:42:13.859Z"
   },
   {
    "duration": 0,
    "start_time": "2024-11-27T04:42:13.860Z"
   },
   {
    "duration": 0,
    "start_time": "2024-11-27T04:42:13.862Z"
   },
   {
    "duration": 0,
    "start_time": "2024-11-27T04:42:13.863Z"
   },
   {
    "duration": 0,
    "start_time": "2024-11-27T04:42:13.864Z"
   },
   {
    "duration": 0,
    "start_time": "2024-11-27T04:42:13.866Z"
   },
   {
    "duration": 0,
    "start_time": "2024-11-27T04:42:13.867Z"
   },
   {
    "duration": 0,
    "start_time": "2024-11-27T04:42:13.869Z"
   },
   {
    "duration": 0,
    "start_time": "2024-11-27T04:42:13.871Z"
   },
   {
    "duration": 123,
    "start_time": "2024-11-27T04:42:45.239Z"
   },
   {
    "duration": 118,
    "start_time": "2024-11-27T04:43:38.176Z"
   },
   {
    "duration": 1034,
    "start_time": "2024-11-27T04:43:46.024Z"
   },
   {
    "duration": 10,
    "start_time": "2024-11-27T04:43:47.060Z"
   },
   {
    "duration": 9,
    "start_time": "2024-11-27T04:43:47.072Z"
   },
   {
    "duration": 22,
    "start_time": "2024-11-27T04:43:47.084Z"
   },
   {
    "duration": 27,
    "start_time": "2024-11-27T04:43:47.107Z"
   },
   {
    "duration": 4,
    "start_time": "2024-11-27T04:43:47.136Z"
   },
   {
    "duration": 6,
    "start_time": "2024-11-27T04:43:47.142Z"
   },
   {
    "duration": 137,
    "start_time": "2024-11-27T04:43:47.149Z"
   },
   {
    "duration": 4,
    "start_time": "2024-11-27T04:43:47.288Z"
   },
   {
    "duration": 29,
    "start_time": "2024-11-27T04:43:47.295Z"
   },
   {
    "duration": 5,
    "start_time": "2024-11-27T04:43:47.325Z"
   },
   {
    "duration": 5,
    "start_time": "2024-11-27T04:43:47.331Z"
   },
   {
    "duration": 6,
    "start_time": "2024-11-27T04:43:47.338Z"
   },
   {
    "duration": 207,
    "start_time": "2024-11-27T04:43:47.345Z"
   },
   {
    "duration": 379,
    "start_time": "2024-11-27T04:43:47.560Z"
   },
   {
    "duration": 3,
    "start_time": "2024-11-27T04:43:47.941Z"
   },
   {
    "duration": 6,
    "start_time": "2024-11-27T04:43:47.946Z"
   },
   {
    "duration": 2,
    "start_time": "2024-11-27T04:43:47.954Z"
   },
   {
    "duration": 382,
    "start_time": "2024-11-27T04:43:47.958Z"
   },
   {
    "duration": 3,
    "start_time": "2024-11-27T04:43:48.341Z"
   },
   {
    "duration": 80,
    "start_time": "2024-11-27T04:43:48.346Z"
   },
   {
    "duration": 680,
    "start_time": "2024-11-27T04:43:48.429Z"
   },
   {
    "duration": 21,
    "start_time": "2024-11-27T04:43:49.112Z"
   },
   {
    "duration": 1001,
    "start_time": "2024-11-27T04:48:36.237Z"
   },
   {
    "duration": 11,
    "start_time": "2024-11-27T04:48:37.241Z"
   },
   {
    "duration": 11,
    "start_time": "2024-11-27T04:48:37.253Z"
   },
   {
    "duration": 24,
    "start_time": "2024-11-27T04:48:37.266Z"
   },
   {
    "duration": 32,
    "start_time": "2024-11-27T04:48:37.292Z"
   },
   {
    "duration": 4,
    "start_time": "2024-11-27T04:48:37.326Z"
   },
   {
    "duration": 6,
    "start_time": "2024-11-27T04:48:37.333Z"
   },
   {
    "duration": 133,
    "start_time": "2024-11-27T04:48:37.340Z"
   },
   {
    "duration": 5,
    "start_time": "2024-11-27T04:48:37.474Z"
   },
   {
    "duration": 14,
    "start_time": "2024-11-27T04:48:37.481Z"
   },
   {
    "duration": 2,
    "start_time": "2024-11-27T04:48:37.497Z"
   },
   {
    "duration": 28,
    "start_time": "2024-11-27T04:48:37.502Z"
   },
   {
    "duration": 9,
    "start_time": "2024-11-27T04:48:37.532Z"
   },
   {
    "duration": 106,
    "start_time": "2024-11-27T04:48:37.545Z"
   },
   {
    "duration": 332,
    "start_time": "2024-11-27T04:48:37.723Z"
   },
   {
    "duration": 244,
    "start_time": "2024-11-27T04:48:38.057Z"
   },
   {
    "duration": 0,
    "start_time": "2024-11-27T04:48:38.303Z"
   },
   {
    "duration": 0,
    "start_time": "2024-11-27T04:48:38.305Z"
   },
   {
    "duration": 0,
    "start_time": "2024-11-27T04:48:38.306Z"
   },
   {
    "duration": 0,
    "start_time": "2024-11-27T04:48:38.308Z"
   },
   {
    "duration": 0,
    "start_time": "2024-11-27T04:48:38.309Z"
   },
   {
    "duration": 0,
    "start_time": "2024-11-27T04:48:38.324Z"
   },
   {
    "duration": 0,
    "start_time": "2024-11-27T04:48:38.325Z"
   },
   {
    "duration": 0,
    "start_time": "2024-11-27T04:48:38.326Z"
   },
   {
    "duration": 981,
    "start_time": "2024-11-27T04:49:33.165Z"
   },
   {
    "duration": 10,
    "start_time": "2024-11-27T04:49:34.148Z"
   },
   {
    "duration": 9,
    "start_time": "2024-11-27T04:49:34.159Z"
   },
   {
    "duration": 21,
    "start_time": "2024-11-27T04:49:34.170Z"
   },
   {
    "duration": 13,
    "start_time": "2024-11-27T04:49:34.193Z"
   },
   {
    "duration": 6,
    "start_time": "2024-11-27T04:49:34.224Z"
   },
   {
    "duration": 9,
    "start_time": "2024-11-27T04:49:34.232Z"
   },
   {
    "duration": 141,
    "start_time": "2024-11-27T04:49:34.243Z"
   },
   {
    "duration": 4,
    "start_time": "2024-11-27T04:49:34.386Z"
   },
   {
    "duration": 13,
    "start_time": "2024-11-27T04:49:34.392Z"
   },
   {
    "duration": 3,
    "start_time": "2024-11-27T04:49:34.407Z"
   },
   {
    "duration": 5,
    "start_time": "2024-11-27T04:49:34.424Z"
   },
   {
    "duration": 6,
    "start_time": "2024-11-27T04:49:34.431Z"
   },
   {
    "duration": 183,
    "start_time": "2024-11-27T04:49:34.441Z"
   },
   {
    "duration": 344,
    "start_time": "2024-11-27T04:49:34.625Z"
   },
   {
    "duration": 322,
    "start_time": "2024-11-27T04:49:34.970Z"
   },
   {
    "duration": 0,
    "start_time": "2024-11-27T04:49:35.293Z"
   },
   {
    "duration": 0,
    "start_time": "2024-11-27T04:49:35.295Z"
   },
   {
    "duration": 0,
    "start_time": "2024-11-27T04:49:35.296Z"
   },
   {
    "duration": 0,
    "start_time": "2024-11-27T04:49:35.298Z"
   },
   {
    "duration": 0,
    "start_time": "2024-11-27T04:49:35.299Z"
   },
   {
    "duration": 0,
    "start_time": "2024-11-27T04:49:35.301Z"
   },
   {
    "duration": 0,
    "start_time": "2024-11-27T04:49:35.302Z"
   },
   {
    "duration": 0,
    "start_time": "2024-11-27T04:49:35.303Z"
   },
   {
    "duration": 1029,
    "start_time": "2024-11-27T04:50:31.628Z"
   },
   {
    "duration": 10,
    "start_time": "2024-11-27T04:50:32.659Z"
   },
   {
    "duration": 9,
    "start_time": "2024-11-27T04:50:32.670Z"
   },
   {
    "duration": 21,
    "start_time": "2024-11-27T04:50:32.681Z"
   },
   {
    "duration": 25,
    "start_time": "2024-11-27T04:50:32.704Z"
   },
   {
    "duration": 4,
    "start_time": "2024-11-27T04:50:32.731Z"
   },
   {
    "duration": 7,
    "start_time": "2024-11-27T04:50:32.737Z"
   },
   {
    "duration": 142,
    "start_time": "2024-11-27T04:50:32.745Z"
   },
   {
    "duration": 5,
    "start_time": "2024-11-27T04:50:32.888Z"
   },
   {
    "duration": 28,
    "start_time": "2024-11-27T04:50:32.896Z"
   },
   {
    "duration": 3,
    "start_time": "2024-11-27T04:50:32.926Z"
   },
   {
    "duration": 4,
    "start_time": "2024-11-27T04:50:32.931Z"
   },
   {
    "duration": 6,
    "start_time": "2024-11-27T04:50:32.936Z"
   },
   {
    "duration": 188,
    "start_time": "2024-11-27T04:50:32.944Z"
   },
   {
    "duration": 368,
    "start_time": "2024-11-27T04:50:33.136Z"
   },
   {
    "duration": 158,
    "start_time": "2024-11-27T04:50:33.506Z"
   },
   {
    "duration": 0,
    "start_time": "2024-11-27T04:50:33.665Z"
   },
   {
    "duration": 0,
    "start_time": "2024-11-27T04:50:33.667Z"
   },
   {
    "duration": 0,
    "start_time": "2024-11-27T04:50:33.668Z"
   },
   {
    "duration": 0,
    "start_time": "2024-11-27T04:50:33.670Z"
   },
   {
    "duration": 0,
    "start_time": "2024-11-27T04:50:33.672Z"
   },
   {
    "duration": 0,
    "start_time": "2024-11-27T04:50:33.673Z"
   },
   {
    "duration": 0,
    "start_time": "2024-11-27T04:50:33.674Z"
   },
   {
    "duration": 0,
    "start_time": "2024-11-27T04:50:33.675Z"
   },
   {
    "duration": 1007,
    "start_time": "2024-11-27T04:52:14.144Z"
   },
   {
    "duration": 10,
    "start_time": "2024-11-27T04:52:15.154Z"
   },
   {
    "duration": 9,
    "start_time": "2024-11-27T04:52:15.165Z"
   },
   {
    "duration": 22,
    "start_time": "2024-11-27T04:52:15.176Z"
   },
   {
    "duration": 26,
    "start_time": "2024-11-27T04:52:15.200Z"
   },
   {
    "duration": 5,
    "start_time": "2024-11-27T04:52:15.227Z"
   },
   {
    "duration": 5,
    "start_time": "2024-11-27T04:52:15.234Z"
   },
   {
    "duration": 144,
    "start_time": "2024-11-27T04:52:15.241Z"
   },
   {
    "duration": 5,
    "start_time": "2024-11-27T04:52:15.387Z"
   },
   {
    "duration": 15,
    "start_time": "2024-11-27T04:52:15.393Z"
   },
   {
    "duration": 3,
    "start_time": "2024-11-27T04:52:15.424Z"
   },
   {
    "duration": 5,
    "start_time": "2024-11-27T04:52:15.428Z"
   },
   {
    "duration": 5,
    "start_time": "2024-11-27T04:52:15.434Z"
   },
   {
    "duration": 186,
    "start_time": "2024-11-27T04:52:15.442Z"
   },
   {
    "duration": 362,
    "start_time": "2024-11-27T04:52:15.629Z"
   },
   {
    "duration": 1041,
    "start_time": "2024-11-27T04:52:43.016Z"
   },
   {
    "duration": 10,
    "start_time": "2024-11-27T04:52:44.059Z"
   },
   {
    "duration": 10,
    "start_time": "2024-11-27T04:52:44.070Z"
   },
   {
    "duration": 22,
    "start_time": "2024-11-27T04:52:44.081Z"
   },
   {
    "duration": 30,
    "start_time": "2024-11-27T04:52:44.105Z"
   },
   {
    "duration": 5,
    "start_time": "2024-11-27T04:52:44.136Z"
   },
   {
    "duration": 6,
    "start_time": "2024-11-27T04:52:44.142Z"
   },
   {
    "duration": 144,
    "start_time": "2024-11-27T04:52:44.150Z"
   },
   {
    "duration": 6,
    "start_time": "2024-11-27T04:52:44.296Z"
   },
   {
    "duration": 22,
    "start_time": "2024-11-27T04:52:44.304Z"
   },
   {
    "duration": 3,
    "start_time": "2024-11-27T04:52:44.327Z"
   },
   {
    "duration": 4,
    "start_time": "2024-11-27T04:52:44.332Z"
   },
   {
    "duration": 6,
    "start_time": "2024-11-27T04:52:44.338Z"
   },
   {
    "duration": 194,
    "start_time": "2024-11-27T04:52:44.348Z"
   },
   {
    "duration": 408,
    "start_time": "2024-11-27T04:52:44.545Z"
   },
   {
    "duration": 3,
    "start_time": "2024-11-27T04:52:44.954Z"
   },
   {
    "duration": 6,
    "start_time": "2024-11-27T04:52:44.959Z"
   },
   {
    "duration": 2,
    "start_time": "2024-11-27T04:52:44.966Z"
   },
   {
    "duration": 457,
    "start_time": "2024-11-27T04:52:44.970Z"
   },
   {
    "duration": 5,
    "start_time": "2024-11-27T04:52:45.431Z"
   },
   {
    "duration": 3,
    "start_time": "2024-11-27T04:52:45.441Z"
   },
   {
    "duration": 770,
    "start_time": "2024-11-27T04:52:45.446Z"
   },
   {
    "duration": 18,
    "start_time": "2024-11-27T04:52:46.218Z"
   },
   {
    "duration": 3,
    "start_time": "2024-11-27T04:58:11.696Z"
   },
   {
    "duration": 300,
    "start_time": "2024-11-27T05:00:46.954Z"
   },
   {
    "duration": 1115,
    "start_time": "2024-11-27T05:01:07.164Z"
   },
   {
    "duration": 1046,
    "start_time": "2024-11-27T05:01:21.064Z"
   },
   {
    "duration": 1086,
    "start_time": "2024-11-27T05:01:31.031Z"
   },
   {
    "duration": 1059,
    "start_time": "2024-11-27T05:01:51.969Z"
   },
   {
    "duration": 1121,
    "start_time": "2024-11-27T05:02:05.921Z"
   },
   {
    "duration": 1028,
    "start_time": "2024-11-27T05:02:40.140Z"
   },
   {
    "duration": 975,
    "start_time": "2024-11-27T05:03:55.367Z"
   },
   {
    "duration": 9,
    "start_time": "2024-11-27T05:03:56.344Z"
   },
   {
    "duration": 8,
    "start_time": "2024-11-27T05:03:56.355Z"
   },
   {
    "duration": 21,
    "start_time": "2024-11-27T05:03:56.365Z"
   },
   {
    "duration": 14,
    "start_time": "2024-11-27T05:03:56.389Z"
   },
   {
    "duration": 5,
    "start_time": "2024-11-27T05:03:56.423Z"
   },
   {
    "duration": 6,
    "start_time": "2024-11-27T05:03:56.429Z"
   },
   {
    "duration": 134,
    "start_time": "2024-11-27T05:03:56.436Z"
   },
   {
    "duration": 4,
    "start_time": "2024-11-27T05:03:56.572Z"
   },
   {
    "duration": 14,
    "start_time": "2024-11-27T05:03:56.577Z"
   },
   {
    "duration": 4,
    "start_time": "2024-11-27T05:03:56.592Z"
   },
   {
    "duration": 1107,
    "start_time": "2024-11-27T05:03:56.597Z"
   },
   {
    "duration": 3,
    "start_time": "2024-11-27T05:03:57.706Z"
   },
   {
    "duration": 5,
    "start_time": "2024-11-27T05:03:57.712Z"
   },
   {
    "duration": 7,
    "start_time": "2024-11-27T05:03:57.718Z"
   },
   {
    "duration": 221,
    "start_time": "2024-11-27T05:03:57.727Z"
   },
   {
    "duration": 415,
    "start_time": "2024-11-27T05:03:57.950Z"
   },
   {
    "duration": 3,
    "start_time": "2024-11-27T05:03:58.367Z"
   },
   {
    "duration": 5,
    "start_time": "2024-11-27T05:03:58.372Z"
   },
   {
    "duration": 2,
    "start_time": "2024-11-27T05:03:58.379Z"
   },
   {
    "duration": 454,
    "start_time": "2024-11-27T05:03:58.382Z"
   },
   {
    "duration": 3,
    "start_time": "2024-11-27T05:03:58.838Z"
   },
   {
    "duration": 80,
    "start_time": "2024-11-27T05:03:58.844Z"
   },
   {
    "duration": 657,
    "start_time": "2024-11-27T05:03:58.925Z"
   },
   {
    "duration": 13,
    "start_time": "2024-11-27T05:03:59.583Z"
   },
   {
    "duration": 1083,
    "start_time": "2024-11-27T05:04:45.241Z"
   },
   {
    "duration": 996,
    "start_time": "2024-11-27T05:05:32.290Z"
   },
   {
    "duration": 1060,
    "start_time": "2024-11-27T05:06:26.570Z"
   },
   {
    "duration": 1114,
    "start_time": "2024-11-27T05:06:57.633Z"
   },
   {
    "duration": 958,
    "start_time": "2024-11-27T05:10:23.479Z"
   },
   {
    "duration": 11,
    "start_time": "2024-11-27T05:10:24.439Z"
   },
   {
    "duration": 9,
    "start_time": "2024-11-27T05:10:24.452Z"
   },
   {
    "duration": 22,
    "start_time": "2024-11-27T05:10:24.463Z"
   },
   {
    "duration": 13,
    "start_time": "2024-11-27T05:10:24.488Z"
   },
   {
    "duration": 26,
    "start_time": "2024-11-27T05:10:24.502Z"
   },
   {
    "duration": 6,
    "start_time": "2024-11-27T05:10:24.530Z"
   },
   {
    "duration": 133,
    "start_time": "2024-11-27T05:10:24.537Z"
   },
   {
    "duration": 4,
    "start_time": "2024-11-27T05:10:24.673Z"
   },
   {
    "duration": 14,
    "start_time": "2024-11-27T05:10:24.679Z"
   },
   {
    "duration": 3,
    "start_time": "2024-11-27T05:10:24.694Z"
   },
   {
    "duration": 1133,
    "start_time": "2024-11-27T05:10:24.699Z"
   },
   {
    "duration": 4,
    "start_time": "2024-11-27T05:10:25.834Z"
   },
   {
    "duration": 5,
    "start_time": "2024-11-27T05:10:25.840Z"
   },
   {
    "duration": 7,
    "start_time": "2024-11-27T05:10:25.846Z"
   },
   {
    "duration": 176,
    "start_time": "2024-11-27T05:10:25.854Z"
   },
   {
    "duration": 365,
    "start_time": "2024-11-27T05:10:26.031Z"
   },
   {
    "duration": 4,
    "start_time": "2024-11-27T05:10:26.397Z"
   },
   {
    "duration": 6,
    "start_time": "2024-11-27T05:10:26.402Z"
   },
   {
    "duration": 2,
    "start_time": "2024-11-27T05:10:26.410Z"
   },
   {
    "duration": 399,
    "start_time": "2024-11-27T05:10:26.425Z"
   },
   {
    "duration": 3,
    "start_time": "2024-11-27T05:10:26.826Z"
   },
   {
    "duration": 6,
    "start_time": "2024-11-27T05:10:26.832Z"
   },
   {
    "duration": 707,
    "start_time": "2024-11-27T05:10:26.839Z"
   },
   {
    "duration": 13,
    "start_time": "2024-11-27T05:10:27.548Z"
   },
   {
    "duration": 2790,
    "start_time": "2024-11-28T01:14:40.138Z"
   },
   {
    "duration": 15,
    "start_time": "2024-11-28T01:14:42.930Z"
   },
   {
    "duration": 10,
    "start_time": "2024-11-28T01:14:42.947Z"
   },
   {
    "duration": 23,
    "start_time": "2024-11-28T01:14:42.958Z"
   },
   {
    "duration": 13,
    "start_time": "2024-11-28T01:14:42.983Z"
   },
   {
    "duration": 5,
    "start_time": "2024-11-28T01:14:43.011Z"
   },
   {
    "duration": 8,
    "start_time": "2024-11-28T01:14:43.017Z"
   },
   {
    "duration": 190,
    "start_time": "2024-11-28T01:14:43.026Z"
   },
   {
    "duration": 5,
    "start_time": "2024-11-28T01:14:43.217Z"
   },
   {
    "duration": 15,
    "start_time": "2024-11-28T01:14:43.223Z"
   },
   {
    "duration": 3,
    "start_time": "2024-11-28T01:14:43.239Z"
   },
   {
    "duration": 15675,
    "start_time": "2024-11-28T01:14:43.244Z"
   },
   {
    "duration": 0,
    "start_time": "2024-11-28T01:14:58.922Z"
   },
   {
    "duration": 0,
    "start_time": "2024-11-28T01:14:58.924Z"
   },
   {
    "duration": 0,
    "start_time": "2024-11-28T01:14:58.925Z"
   },
   {
    "duration": 0,
    "start_time": "2024-11-28T01:14:58.927Z"
   },
   {
    "duration": 0,
    "start_time": "2024-11-28T01:14:58.929Z"
   },
   {
    "duration": 0,
    "start_time": "2024-11-28T01:14:58.930Z"
   },
   {
    "duration": 0,
    "start_time": "2024-11-28T01:14:58.932Z"
   },
   {
    "duration": 0,
    "start_time": "2024-11-28T01:14:58.933Z"
   },
   {
    "duration": 0,
    "start_time": "2024-11-28T01:14:58.935Z"
   },
   {
    "duration": 0,
    "start_time": "2024-11-28T01:14:58.936Z"
   },
   {
    "duration": 0,
    "start_time": "2024-11-28T01:14:58.937Z"
   },
   {
    "duration": 0,
    "start_time": "2024-11-28T01:14:58.938Z"
   },
   {
    "duration": 0,
    "start_time": "2024-11-28T01:14:58.939Z"
   },
   {
    "duration": 244,
    "start_time": "2024-11-28T01:15:12.532Z"
   },
   {
    "duration": 1084,
    "start_time": "2024-11-28T01:15:22.164Z"
   }
  ],
  "kernelspec": {
   "display_name": "base",
   "language": "python",
   "name": "python3"
  },
  "language_info": {
   "codemirror_mode": {
    "name": "ipython",
    "version": 3
   },
   "file_extension": ".py",
   "mimetype": "text/x-python",
   "name": "python",
   "nbconvert_exporter": "python",
   "pygments_lexer": "ipython3",
   "version": "3.12.4"
  },
  "toc": {
   "base_numbering": 1,
   "nav_menu": {},
   "number_sections": true,
   "sideBar": true,
   "skip_h1_title": true,
   "title_cell": "Table of Contents",
   "title_sidebar": "Contents",
   "toc_cell": false,
   "toc_position": {},
   "toc_section_display": true,
   "toc_window_display": false
  }
 },
 "nbformat": 4,
 "nbformat_minor": 2
}
