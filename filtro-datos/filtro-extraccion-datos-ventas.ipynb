{
 "cells": [
  {
   "cell_type": "markdown",
   "id": "3Xg_RQfnafXz",
   "metadata": {
    "id": "3Xg_RQfnafXz"
   },
   "source": [
    "# ¡Llena ese carrito!"
   ]
  },
  {
   "cell_type": "markdown",
   "id": "mhIvmmkW414q",
   "metadata": {
    "id": "mhIvmmkW414q"
   },
   "source": [
    "# Introducción\n",
    "\n",
    "Instacart es una plataforma de entregas de comestibles donde la clientela puede registrar un pedido y hacer que se lo entreguen, similar a Uber Eats y Door Dash.\n",
    "El conjunto de datos que te hemos proporcionado tiene modificaciones del original. Redujimos el tamaño del conjunto para que tus cálculos se hicieran más rápido e introdujimos valores ausentes y duplicados. Tuvimos cuidado de conservar las distribuciones de los datos originales cuando hicimos los cambios.\n",
    "\n",
    "Debes completar tres pasos. Para cada uno de ellos, escribe una breve introducción que refleje con claridad cómo pretendes resolver cada paso, y escribe párrafos explicatorios que justifiquen tus decisiones al tiempo que avanzas en tu solución.  También escribe una conclusión que resuma tus hallazgos y elecciones.\n"
   ]
  },
  {
   "cell_type": "markdown",
   "id": "3MbyzpOQZ5Or",
   "metadata": {
    "id": "3MbyzpOQZ5Or"
   },
   "source": [
    "## Diccionario de datos\n",
    "\n",
    "Hay cinco tablas en el conjunto de datos, y tendrás que usarlas todas para hacer el preprocesamiento de datos y el análisis exploratorio de datos. A continuación se muestra un diccionario de datos que enumera las columnas de cada tabla y describe los datos que contienen.\n",
    "\n",
    "- `instacart_orders.csv`: cada fila corresponde a un pedido en la aplicación Instacart.\n",
    "    - `'order_id'`: número de ID que identifica de manera única cada pedido.\n",
    "    - `'user_id'`: número de ID que identifica de manera única la cuenta de cada cliente.\n",
    "    - `'order_number'`: el número de veces que este cliente ha hecho un pedido.\n",
    "    - `'order_dow'`: día de la semana en que se hizo el pedido (0 si es domingo).\n",
    "    - `'order_hour_of_day'`: hora del día en que se hizo el pedido.\n",
    "    - `'days_since_prior_order'`: número de días transcurridos desde que este cliente hizo su pedido anterior.\n",
    "- `products.csv`: cada fila corresponde a un producto único que pueden comprar los clientes.\n",
    "    - `'product_id'`: número ID que identifica de manera única cada producto.\n",
    "    - `'product_name'`: nombre del producto.\n",
    "    - `'aisle_id'`: número ID que identifica de manera única cada categoría de pasillo de víveres.\n",
    "    - `'department_id'`: número ID que identifica de manera única cada departamento de víveres.\n",
    "- `order_products.csv`: cada fila corresponde a un artículo pedido en un pedido.\n",
    "    - `'order_id'`: número de ID que identifica de manera única cada pedido.\n",
    "    - `'product_id'`: número ID que identifica de manera única cada producto.\n",
    "    - `'add_to_cart_order'`: el orden secuencial en el que se añadió cada artículo en el carrito.\n",
    "    - `'reordered'`: 0 si el cliente nunca ha pedido este producto antes, 1 si lo ha pedido.\n",
    "- `aisles.csv`\n",
    "    - `'aisle_id'`: número ID que identifica de manera única cada categoría de pasillo de víveres.\n",
    "    - `'aisle'`: nombre del pasillo.\n",
    "- `departments.csv`\n",
    "    - `'department_id'`: número ID que identifica de manera única cada departamento de víveres.\n",
    "    - `'department'`: nombre del departamento."
   ]
  },
  {
   "cell_type": "markdown",
   "id": "n3Ha_cNSZ8lK",
   "metadata": {
    "id": "n3Ha_cNSZ8lK"
   },
   "source": [
    "# Paso 1. Descripción de los datos\n",
    "\n",
    "Lee los archivos de datos (`/datasets/instacart_orders.csv`, `/datasets/products.csv`, `/datasets/aisles.csv`, `/datasets/departments.csv` y `/datasets/order_products.csv`) con `pd.read_csv()` usando los parámetros adecuados para leer los datos correctamente. Verifica la información para cada DataFrame creado.\n"
   ]
  },
  {
   "cell_type": "markdown",
   "id": "OmlQPLlyaAfR",
   "metadata": {
    "id": "OmlQPLlyaAfR"
   },
   "source": [
    "## Plan de solución\n",
    "\n",
    "Escribe aquí tu plan de solución para el Paso 1. Descripción de los datos."
   ]
  },
  {
   "cell_type": "code",
   "execution_count": 10,
   "id": "fbf1adab",
   "metadata": {
    "id": "fbf1adab"
   },
   "outputs": [],
   "source": [
    " import pandas as pd  \n",
    " import matplotlib.pyplot as plt   # importar librerías"
   ]
  },
  {
   "cell_type": "code",
   "execution_count": 11,
   "id": "ad36396d",
   "metadata": {
    "id": "ad36396d"
   },
   "outputs": [],
   "source": [
    " df_instacart_orders = pd.read_csv('./datasets/instacart_orders.csv', sep= ';')\n",
    " df_products = pd.read_csv('./datasets/products.csv', sep= ';')\n",
    " df_aisles = pd.read_csv('./datasets/aisles.csv', sep= ';')\n",
    " df_departaments = pd.read_csv('./datasets/departments.csv', sep= ';')\n",
    " df_order_products =pd.read_csv('./datasets/order_products.csv', sep= ';')   # leer conjuntos de datos en los DataFrames"
   ]
  },
  {
   "cell_type": "code",
   "execution_count": 12,
   "id": "ad6a1efa",
   "metadata": {
    "id": "ad6a1efa"
   },
   "outputs": [
    {
     "name": "stdout",
     "output_type": "stream",
     "text": [
      "<class 'pandas.core.frame.DataFrame'>\n",
      "RangeIndex: 478967 entries, 0 to 478966\n",
      "Data columns (total 6 columns):\n",
      " #   Column                  Non-Null Count   Dtype  \n",
      "---  ------                  --------------   -----  \n",
      " 0   order_id                478967 non-null  int64  \n",
      " 1   user_id                 478967 non-null  int64  \n",
      " 2   order_number            478967 non-null  int64  \n",
      " 3   order_dow               478967 non-null  int64  \n",
      " 4   order_hour_of_day       478967 non-null  int64  \n",
      " 5   days_since_prior_order  450148 non-null  float64\n",
      "dtypes: float64(1), int64(5)\n",
      "memory usage: 21.9 MB\n"
     ]
    }
   ],
   "source": [
    "df_instacart_orders.info() # mostrar información del DataFrame"
   ]
  },
  {
   "cell_type": "code",
   "execution_count": 13,
   "id": "5130e05e",
   "metadata": {
    "id": "5130e05e"
   },
   "outputs": [
    {
     "name": "stdout",
     "output_type": "stream",
     "text": [
      "<class 'pandas.core.frame.DataFrame'>\n",
      "RangeIndex: 49694 entries, 0 to 49693\n",
      "Data columns (total 4 columns):\n",
      " #   Column         Non-Null Count  Dtype \n",
      "---  ------         --------------  ----- \n",
      " 0   product_id     49694 non-null  int64 \n",
      " 1   product_name   48436 non-null  object\n",
      " 2   aisle_id       49694 non-null  int64 \n",
      " 3   department_id  49694 non-null  int64 \n",
      "dtypes: int64(3), object(1)\n",
      "memory usage: 1.5+ MB\n"
     ]
    }
   ],
   "source": [
    "df_products.info() # mostrar información del DataFrame"
   ]
  },
  {
   "cell_type": "code",
   "execution_count": 14,
   "id": "d8370c05",
   "metadata": {
    "id": "d8370c05"
   },
   "outputs": [
    {
     "name": "stdout",
     "output_type": "stream",
     "text": [
      "<class 'pandas.core.frame.DataFrame'>\n",
      "RangeIndex: 134 entries, 0 to 133\n",
      "Data columns (total 2 columns):\n",
      " #   Column    Non-Null Count  Dtype \n",
      "---  ------    --------------  ----- \n",
      " 0   aisle_id  134 non-null    int64 \n",
      " 1   aisle     134 non-null    object\n",
      "dtypes: int64(1), object(1)\n",
      "memory usage: 2.2+ KB\n"
     ]
    }
   ],
   "source": [
    "df_aisles.info() # mostrar información del DataFrame"
   ]
  },
  {
   "cell_type": "code",
   "execution_count": 15,
   "id": "59e2090f",
   "metadata": {
    "id": "59e2090f"
   },
   "outputs": [
    {
     "name": "stdout",
     "output_type": "stream",
     "text": [
      "<class 'pandas.core.frame.DataFrame'>\n",
      "RangeIndex: 21 entries, 0 to 20\n",
      "Data columns (total 2 columns):\n",
      " #   Column         Non-Null Count  Dtype \n",
      "---  ------         --------------  ----- \n",
      " 0   department_id  21 non-null     int64 \n",
      " 1   department     21 non-null     object\n",
      "dtypes: int64(1), object(1)\n",
      "memory usage: 468.0+ bytes\n"
     ]
    }
   ],
   "source": [
    "df_departaments.info() # mostrar información del DataFrame"
   ]
  },
  {
   "cell_type": "code",
   "execution_count": 16,
   "id": "6fc81694",
   "metadata": {
    "id": "6fc81694"
   },
   "outputs": [
    {
     "name": "stdout",
     "output_type": "stream",
     "text": [
      "<class 'pandas.core.frame.DataFrame'>\n",
      "RangeIndex: 4545007 entries, 0 to 4545006\n",
      "Data columns (total 4 columns):\n",
      " #   Column             Dtype  \n",
      "---  ------             -----  \n",
      " 0   order_id           int64  \n",
      " 1   product_id         int64  \n",
      " 2   add_to_cart_order  float64\n",
      " 3   reordered          int64  \n",
      "dtypes: float64(1), int64(3)\n",
      "memory usage: 138.7 MB\n"
     ]
    }
   ],
   "source": [
    "df_order_products.info() # mostrar información del DataFrame"
   ]
  },
  {
   "cell_type": "markdown",
   "id": "t75BD19oaR5f",
   "metadata": {
    "id": "t75BD19oaR5f"
   },
   "source": [
    "## Conclusiones\n",
    "\n",
    "Escribe aquí tus conclusiones intermedias sobre el Paso 1. Descripción de los datos.\n",
    "\n",
    "######  Podemos observar, que en algunos data frame cuentan con valores nulos en algunas de sus colunmas. \n"
   ]
  },
  {
   "cell_type": "markdown",
   "id": "8RJHqxVmaVsF",
   "metadata": {
    "id": "8RJHqxVmaVsF"
   },
   "source": [
    "# Paso 2. Preprocesamiento de los datos\n",
    "\n",
    "Preprocesa los datos de la siguiente manera:\n",
    "\n",
    "- Verifica y corrige los tipos de datos (por ejemplo, asegúrate de que las columnas de ID sean números enteros).\n",
    "- Identifica y completa los valores ausentes.\n",
    "- Identifica y elimina los valores duplicados.\n",
    "\n",
    "Asegúrate de explicar qué tipos de valores ausentes y duplicados encontraste, cómo los completaste o eliminaste y por qué usaste esos métodos. ¿Por qué crees que estos valores ausentes y duplicados pueden haber estado presentes en el conjunto de datos?"
   ]
  },
  {
   "cell_type": "markdown",
   "id": "p6poABZQaZYb",
   "metadata": {
    "id": "p6poABZQaZYb"
   },
   "source": [
    "## Plan de solución\n",
    "\n",
    "Escribe aquí tu plan para el Paso 2. Preprocesamiento de los datos."
   ]
  },
  {
   "cell_type": "markdown",
   "id": "07357848-dc64-4156-9cc3-01ff4365226d",
   "metadata": {
    "id": "07357848-dc64-4156-9cc3-01ff4365226d"
   },
   "source": [
    "## Encuentra y elimina los valores duplicados (y describe cómo tomaste tus decisiones)."
   ]
  },
  {
   "cell_type": "markdown",
   "id": "f179f0a9",
   "metadata": {
    "id": "f179f0a9"
   },
   "source": [
    "### `instacart_orders` data frame"
   ]
  },
  {
   "cell_type": "code",
   "execution_count": 17,
   "id": "b99297a5-405a-463d-8535-9adc3da4ad74",
   "metadata": {
    "id": "b99297a5-405a-463d-8535-9adc3da4ad74"
   },
   "outputs": [
    {
     "name": "stdout",
     "output_type": "stream",
     "text": [
      "resultado de duplicados\n",
      "0         False\n",
      "1         False\n",
      "2         False\n",
      "3         False\n",
      "4         False\n",
      "          ...  \n",
      "478962    False\n",
      "478963    False\n",
      "478964    False\n",
      "478965    False\n",
      "478966    False\n",
      "Length: 478967, dtype: bool\n",
      "\n",
      "total de valores duplicados\n",
      "15\n"
     ]
    }
   ],
   "source": [
    "print('resultado de duplicados')\n",
    "print(df_instacart_orders.duplicated())\n",
    "print()\n",
    "print('total de valores duplicados')\n",
    "print(df_instacart_orders.duplicated().sum())  # Revisa si hay pedidos duplicados"
   ]
  },
  {
   "cell_type": "markdown",
   "id": "PEkwUX_gvt5A",
   "metadata": {
    "id": "PEkwUX_gvt5A"
   },
   "source": [
    "¿Tienes líneas duplicadas? Si sí, ¿qué tienen en común?"
   ]
  },
  {
   "cell_type": "code",
   "execution_count": 18,
   "id": "0d44de5d",
   "metadata": {
    "id": "0d44de5d"
   },
   "outputs": [
    {
     "data": {
      "text/html": [
       "<div>\n",
       "<style scoped>\n",
       "    .dataframe tbody tr th:only-of-type {\n",
       "        vertical-align: middle;\n",
       "    }\n",
       "\n",
       "    .dataframe tbody tr th {\n",
       "        vertical-align: top;\n",
       "    }\n",
       "\n",
       "    .dataframe thead th {\n",
       "        text-align: right;\n",
       "    }\n",
       "</style>\n",
       "<table border=\"1\" class=\"dataframe\">\n",
       "  <thead>\n",
       "    <tr style=\"text-align: right;\">\n",
       "      <th></th>\n",
       "      <th>order_id</th>\n",
       "      <th>user_id</th>\n",
       "      <th>order_number</th>\n",
       "      <th>order_dow</th>\n",
       "      <th>order_hour_of_day</th>\n",
       "      <th>days_since_prior_order</th>\n",
       "    </tr>\n",
       "  </thead>\n",
       "  <tbody>\n",
       "    <tr>\n",
       "      <th>4838</th>\n",
       "      <td>2766110</td>\n",
       "      <td>162084</td>\n",
       "      <td>41</td>\n",
       "      <td>3</td>\n",
       "      <td>2</td>\n",
       "      <td>16.0</td>\n",
       "    </tr>\n",
       "    <tr>\n",
       "      <th>5156</th>\n",
       "      <td>2190225</td>\n",
       "      <td>138285</td>\n",
       "      <td>18</td>\n",
       "      <td>3</td>\n",
       "      <td>2</td>\n",
       "      <td>11.0</td>\n",
       "    </tr>\n",
       "    <tr>\n",
       "      <th>15506</th>\n",
       "      <td>553049</td>\n",
       "      <td>58599</td>\n",
       "      <td>13</td>\n",
       "      <td>3</td>\n",
       "      <td>2</td>\n",
       "      <td>7.0</td>\n",
       "    </tr>\n",
       "    <tr>\n",
       "      <th>18420</th>\n",
       "      <td>382357</td>\n",
       "      <td>120200</td>\n",
       "      <td>19</td>\n",
       "      <td>3</td>\n",
       "      <td>2</td>\n",
       "      <td>11.0</td>\n",
       "    </tr>\n",
       "    <tr>\n",
       "      <th>24691</th>\n",
       "      <td>690242</td>\n",
       "      <td>77357</td>\n",
       "      <td>2</td>\n",
       "      <td>3</td>\n",
       "      <td>2</td>\n",
       "      <td>9.0</td>\n",
       "    </tr>\n",
       "    <tr>\n",
       "      <th>...</th>\n",
       "      <td>...</td>\n",
       "      <td>...</td>\n",
       "      <td>...</td>\n",
       "      <td>...</td>\n",
       "      <td>...</td>\n",
       "      <td>...</td>\n",
       "    </tr>\n",
       "    <tr>\n",
       "      <th>457013</th>\n",
       "      <td>3384021</td>\n",
       "      <td>14881</td>\n",
       "      <td>6</td>\n",
       "      <td>3</td>\n",
       "      <td>2</td>\n",
       "      <td>30.0</td>\n",
       "    </tr>\n",
       "    <tr>\n",
       "      <th>458816</th>\n",
       "      <td>910166</td>\n",
       "      <td>164782</td>\n",
       "      <td>18</td>\n",
       "      <td>3</td>\n",
       "      <td>2</td>\n",
       "      <td>4.0</td>\n",
       "    </tr>\n",
       "    <tr>\n",
       "      <th>459635</th>\n",
       "      <td>1680532</td>\n",
       "      <td>106435</td>\n",
       "      <td>6</td>\n",
       "      <td>3</td>\n",
       "      <td>2</td>\n",
       "      <td>21.0</td>\n",
       "    </tr>\n",
       "    <tr>\n",
       "      <th>468324</th>\n",
       "      <td>222962</td>\n",
       "      <td>54979</td>\n",
       "      <td>59</td>\n",
       "      <td>3</td>\n",
       "      <td>2</td>\n",
       "      <td>3.0</td>\n",
       "    </tr>\n",
       "    <tr>\n",
       "      <th>477526</th>\n",
       "      <td>2592344</td>\n",
       "      <td>46860</td>\n",
       "      <td>38</td>\n",
       "      <td>3</td>\n",
       "      <td>2</td>\n",
       "      <td>3.0</td>\n",
       "    </tr>\n",
       "  </tbody>\n",
       "</table>\n",
       "<p>121 rows × 6 columns</p>\n",
       "</div>"
      ],
      "text/plain": [
       "        order_id  user_id  order_number  order_dow  order_hour_of_day  \\\n",
       "4838     2766110   162084            41          3                  2   \n",
       "5156     2190225   138285            18          3                  2   \n",
       "15506     553049    58599            13          3                  2   \n",
       "18420     382357   120200            19          3                  2   \n",
       "24691     690242    77357             2          3                  2   \n",
       "...          ...      ...           ...        ...                ...   \n",
       "457013   3384021    14881             6          3                  2   \n",
       "458816    910166   164782            18          3                  2   \n",
       "459635   1680532   106435             6          3                  2   \n",
       "468324    222962    54979            59          3                  2   \n",
       "477526   2592344    46860            38          3                  2   \n",
       "\n",
       "        days_since_prior_order  \n",
       "4838                      16.0  \n",
       "5156                      11.0  \n",
       "15506                      7.0  \n",
       "18420                     11.0  \n",
       "24691                      9.0  \n",
       "...                        ...  \n",
       "457013                    30.0  \n",
       "458816                     4.0  \n",
       "459635                    21.0  \n",
       "468324                     3.0  \n",
       "477526                     3.0  \n",
       "\n",
       "[121 rows x 6 columns]"
      ]
     },
     "execution_count": 18,
     "metadata": {},
     "output_type": "execute_result"
    }
   ],
   "source": [
    "# Basándote en tus hallazgos,\n",
    "df_instacart_orders[(df_instacart_orders['order_dow']== 3) & (df_instacart_orders['order_hour_of_day']==2)] # Verifica todos los pedidos que se hicieron el miércoles a las 2:00 a.m.\n"
   ]
  },
  {
   "cell_type": "markdown",
   "id": "vu2OWyoqwOx5",
   "metadata": {
    "id": "vu2OWyoqwOx5"
   },
   "source": [
    "¿Qué sugiere este resultado?"
   ]
  },
  {
   "cell_type": "code",
   "execution_count": 19,
   "id": "480563c7",
   "metadata": {
    "id": "480563c7"
   },
   "outputs": [],
   "source": [
    "df_instacart_orders = df_instacart_orders.drop_duplicates()\n",
    "  # Elimina los pedidos duplicados\n",
    "  "
   ]
  },
  {
   "cell_type": "code",
   "execution_count": 20,
   "id": "0b2396a2",
   "metadata": {
    "id": "0b2396a2"
   },
   "outputs": [
    {
     "name": "stdout",
     "output_type": "stream",
     "text": [
      "0\n"
     ]
    }
   ],
   "source": [
    "print(df_instacart_orders.duplicated().sum()) # Vuelve a verificar si hay filas duplicadas\n"
   ]
  },
  {
   "cell_type": "code",
   "execution_count": 21,
   "id": "f6113ef1",
   "metadata": {
    "id": "f6113ef1"
   },
   "outputs": [
    {
     "name": "stdout",
     "output_type": "stream",
     "text": [
      "0\n"
     ]
    }
   ],
   "source": [
    "print(df_instacart_orders['order_id'].duplicated().sum())   # Vuelve a verificar únicamente si hay IDs duplicados de pedidos\n"
   ]
  },
  {
   "cell_type": "markdown",
   "id": "5e8905ae",
   "metadata": {
    "id": "5e8905ae"
   },
   "source": [
    "Describe brevemente tus hallazgos y lo que hiciste con ellos"
   ]
  },
  {
   "cell_type": "markdown",
   "id": "45e6bc46",
   "metadata": {
    "id": "45e6bc46"
   },
   "source": [
    "### `products` data frame"
   ]
  },
  {
   "cell_type": "code",
   "execution_count": 22,
   "id": "5f526b5b-8175-46fa-a0fd-441767d50e64",
   "metadata": {
    "id": "5f526b5b-8175-46fa-a0fd-441767d50e64"
   },
   "outputs": [
    {
     "name": "stdout",
     "output_type": "stream",
     "text": [
      "0        False\n",
      "1        False\n",
      "2        False\n",
      "3        False\n",
      "4        False\n",
      "         ...  \n",
      "49689    False\n",
      "49690    False\n",
      "49691    False\n",
      "49692    False\n",
      "49693    False\n",
      "Length: 49694, dtype: bool\n",
      "\n",
      "0\n"
     ]
    }
   ],
   "source": [
    "print(df_products.duplicated()) \n",
    "# Verifica si hay filas totalmente duplicadas\n",
    "print()\n",
    "print(df_products.duplicated().sum())"
   ]
  },
  {
   "cell_type": "code",
   "execution_count": 23,
   "id": "88daa4f4",
   "metadata": {
    "id": "88daa4f4"
   },
   "outputs": [
    {
     "data": {
      "text/plain": [
       "49673"
      ]
     },
     "execution_count": 23,
     "metadata": {},
     "output_type": "execute_result"
    }
   ],
   "source": [
    "df_products['department_id'].duplicated().sum() # Revisa únicamente si hay ID de departamentos duplicados\n"
   ]
  },
  {
   "cell_type": "code",
   "execution_count": 24,
   "id": "c773f0bf",
   "metadata": {
    "id": "c773f0bf"
   },
   "outputs": [
    {
     "name": "stdout",
     "output_type": "stream",
     "text": [
      "0                               CHOCOLATE SANDWICH COOKIES\n",
      "1                                         ALL-SEASONS SALT\n",
      "2                     ROBUST GOLDEN UNSWEETENED OOLONG TEA\n",
      "3        SMART ONES CLASSIC FAVORITES MINI RIGATONI WIT...\n",
      "4                                GREEN CHILE ANYTIME SAUCE\n",
      "                               ...                        \n",
      "49689                        HIGH PERFORMANCE ENERGY DRINK\n",
      "49690                        ORIGINAL PANCAKE & WAFFLE MIX\n",
      "49691      ORGANIC INSTANT OATMEAL LIGHT MAPLE BROWN SUGAR\n",
      "49692                               SPRING WATER BODY WASH\n",
      "49693                              BURRITO- STEAK & CHEESE\n",
      "Name: product_name, Length: 49694, dtype: object\n",
      "\n"
     ]
    },
    {
     "data": {
      "text/plain": [
       "1361"
      ]
     },
     "execution_count": 24,
     "metadata": {},
     "output_type": "execute_result"
    }
   ],
   "source": [
    "df_products['product_name']= df_products['product_name'].str.upper()\n",
    "print(df_products['product_name'])\n",
    "print()\n",
    "df_products['product_name'].duplicated().sum()\n",
    " \n",
    " # Revisa únicamente si hay nombres duplicados de productos (convierte los nombres a letras mayúsculas para compararlos mejor)\n"
   ]
  },
  {
   "cell_type": "code",
   "execution_count": 25,
   "id": "01efd02e",
   "metadata": {
    "id": "01efd02e"
   },
   "outputs": [
    {
     "data": {
      "text/html": [
       "<div>\n",
       "<style scoped>\n",
       "    .dataframe tbody tr th:only-of-type {\n",
       "        vertical-align: middle;\n",
       "    }\n",
       "\n",
       "    .dataframe tbody tr th {\n",
       "        vertical-align: top;\n",
       "    }\n",
       "\n",
       "    .dataframe thead th {\n",
       "        text-align: right;\n",
       "    }\n",
       "</style>\n",
       "<table border=\"1\" class=\"dataframe\">\n",
       "  <thead>\n",
       "    <tr style=\"text-align: right;\">\n",
       "      <th></th>\n",
       "      <th>product_id</th>\n",
       "      <th>product_name</th>\n",
       "      <th>aisle_id</th>\n",
       "      <th>department_id</th>\n",
       "    </tr>\n",
       "  </thead>\n",
       "  <tbody>\n",
       "    <tr>\n",
       "      <th>2058</th>\n",
       "      <td>2059</td>\n",
       "      <td>BIOTIN 1000 MCG</td>\n",
       "      <td>47</td>\n",
       "      <td>11</td>\n",
       "    </tr>\n",
       "    <tr>\n",
       "      <th>5455</th>\n",
       "      <td>5456</td>\n",
       "      <td>GREEN TEA WITH GINSENG AND HONEY</td>\n",
       "      <td>96</td>\n",
       "      <td>20</td>\n",
       "    </tr>\n",
       "    <tr>\n",
       "      <th>5558</th>\n",
       "      <td>5559</td>\n",
       "      <td>CREAM OF MUSHROOM SOUP</td>\n",
       "      <td>69</td>\n",
       "      <td>15</td>\n",
       "    </tr>\n",
       "    <tr>\n",
       "      <th>7558</th>\n",
       "      <td>7559</td>\n",
       "      <td>CINNAMON ROLLS WITH ICING</td>\n",
       "      <td>105</td>\n",
       "      <td>13</td>\n",
       "    </tr>\n",
       "    <tr>\n",
       "      <th>9037</th>\n",
       "      <td>9038</td>\n",
       "      <td>AMERICAN CHEESE SLICES</td>\n",
       "      <td>21</td>\n",
       "      <td>16</td>\n",
       "    </tr>\n",
       "    <tr>\n",
       "      <th>...</th>\n",
       "      <td>...</td>\n",
       "      <td>...</td>\n",
       "      <td>...</td>\n",
       "      <td>...</td>\n",
       "    </tr>\n",
       "    <tr>\n",
       "      <th>49689</th>\n",
       "      <td>49690</td>\n",
       "      <td>HIGH PERFORMANCE ENERGY DRINK</td>\n",
       "      <td>64</td>\n",
       "      <td>7</td>\n",
       "    </tr>\n",
       "    <tr>\n",
       "      <th>49690</th>\n",
       "      <td>49691</td>\n",
       "      <td>ORIGINAL PANCAKE &amp; WAFFLE MIX</td>\n",
       "      <td>130</td>\n",
       "      <td>14</td>\n",
       "    </tr>\n",
       "    <tr>\n",
       "      <th>49691</th>\n",
       "      <td>49692</td>\n",
       "      <td>ORGANIC INSTANT OATMEAL LIGHT MAPLE BROWN SUGAR</td>\n",
       "      <td>130</td>\n",
       "      <td>14</td>\n",
       "    </tr>\n",
       "    <tr>\n",
       "      <th>49692</th>\n",
       "      <td>49693</td>\n",
       "      <td>SPRING WATER BODY WASH</td>\n",
       "      <td>127</td>\n",
       "      <td>11</td>\n",
       "    </tr>\n",
       "    <tr>\n",
       "      <th>49693</th>\n",
       "      <td>49694</td>\n",
       "      <td>BURRITO- STEAK &amp; CHEESE</td>\n",
       "      <td>38</td>\n",
       "      <td>1</td>\n",
       "    </tr>\n",
       "  </tbody>\n",
       "</table>\n",
       "<p>104 rows × 4 columns</p>\n",
       "</div>"
      ],
      "text/plain": [
       "       product_id                                     product_name  aisle_id  \\\n",
       "2058         2059                                  BIOTIN 1000 MCG        47   \n",
       "5455         5456                 GREEN TEA WITH GINSENG AND HONEY        96   \n",
       "5558         5559                           CREAM OF MUSHROOM SOUP        69   \n",
       "7558         7559                        CINNAMON ROLLS WITH ICING       105   \n",
       "9037         9038                           AMERICAN CHEESE SLICES        21   \n",
       "...           ...                                              ...       ...   \n",
       "49689       49690                    HIGH PERFORMANCE ENERGY DRINK        64   \n",
       "49690       49691                    ORIGINAL PANCAKE & WAFFLE MIX       130   \n",
       "49691       49692  ORGANIC INSTANT OATMEAL LIGHT MAPLE BROWN SUGAR       130   \n",
       "49692       49693                           SPRING WATER BODY WASH       127   \n",
       "49693       49694                          BURRITO- STEAK & CHEESE        38   \n",
       "\n",
       "       department_id  \n",
       "2058              11  \n",
       "5455              20  \n",
       "5558              15  \n",
       "7558              13  \n",
       "9037              16  \n",
       "...              ...  \n",
       "49689              7  \n",
       "49690             14  \n",
       "49691             14  \n",
       "49692             11  \n",
       "49693              1  \n",
       "\n",
       "[104 rows x 4 columns]"
      ]
     },
     "execution_count": 25,
     "metadata": {},
     "output_type": "execute_result"
    }
   ],
   "source": [
    "      \n",
    " df_products[(~df_products['product_name'].isna()) & (df_products['product_name'].str.upper().duplicated()) ] # Revisa si hay nombres duplicados de productos no faltantes\n"
   ]
  },
  {
   "cell_type": "markdown",
   "id": "9da8d293",
   "metadata": {
    "id": "9da8d293"
   },
   "source": [
    "Describe brevemente tus hallazgos y lo que hiciste con ellos.\n",
    "\n",
    "###### Es comprencible que existan duplicados tanto en el id de departamento, como en  nombre del producto ya que las ventas se vasan en ello."
   ]
  },
  {
   "cell_type": "markdown",
   "id": "60f30db1",
   "metadata": {
    "id": "60f30db1"
   },
   "source": [
    "### `departments` data frame"
   ]
  },
  {
   "cell_type": "code",
   "execution_count": 26,
   "id": "fb410ad4-0fbf-4b80-bb09-23fdea79afe3",
   "metadata": {
    "id": "fb410ad4-0fbf-4b80-bb09-23fdea79afe3"
   },
   "outputs": [
    {
     "data": {
      "text/plain": [
       "0"
      ]
     },
     "execution_count": 26,
     "metadata": {},
     "output_type": "execute_result"
    }
   ],
   "source": [
    "df_departaments.duplicated().sum() \n",
    "\n",
    "# Revisa si hay filas totalmente duplicadas"
   ]
  },
  {
   "cell_type": "code",
   "execution_count": 27,
   "id": "332b12bb",
   "metadata": {
    "id": "332b12bb"
   },
   "outputs": [
    {
     "data": {
      "text/plain": [
       "0"
      ]
     },
     "execution_count": 27,
     "metadata": {},
     "output_type": "execute_result"
    }
   ],
   "source": [
    "df_departaments['department_id'].duplicated().sum() # Revisa únicamente si hay IDs duplicadas de productos"
   ]
  },
  {
   "cell_type": "markdown",
   "id": "bd30d78e",
   "metadata": {
    "id": "bd30d78e"
   },
   "source": [
    "Describe brevemente tus hallazgos y lo que hiciste con ellos."
   ]
  },
  {
   "cell_type": "markdown",
   "id": "889349c1",
   "metadata": {
    "id": "889349c1"
   },
   "source": [
    "### `aisles` data frame"
   ]
  },
  {
   "cell_type": "code",
   "execution_count": 28,
   "id": "9da89fb9-4679-40f5-ad0d-c34df753a3f8",
   "metadata": {
    "id": "9da89fb9-4679-40f5-ad0d-c34df753a3f8"
   },
   "outputs": [
    {
     "data": {
      "text/plain": [
       "0"
      ]
     },
     "execution_count": 28,
     "metadata": {},
     "output_type": "execute_result"
    }
   ],
   "source": [
    "df_aisles.duplicated().sum() \n",
    "\n",
    "# Revisa si hay filas totalmente duplicadas"
   ]
  },
  {
   "cell_type": "code",
   "execution_count": 29,
   "id": "da7c2822",
   "metadata": {
    "id": "da7c2822"
   },
   "outputs": [
    {
     "data": {
      "text/plain": [
       "0"
      ]
     },
     "execution_count": 29,
     "metadata": {},
     "output_type": "execute_result"
    }
   ],
   "source": [
    " df_aisles['aisle_id'].duplicated().sum()  # Revisa únicamente si hay IDs duplicadas de productos"
   ]
  },
  {
   "cell_type": "markdown",
   "id": "ac63826f",
   "metadata": {
    "id": "ac63826f"
   },
   "source": [
    "Describe brevemente tus hallazgos y lo que hiciste con ellos."
   ]
  },
  {
   "cell_type": "markdown",
   "id": "274cd06a",
   "metadata": {
    "id": "274cd06a"
   },
   "source": [
    "### `order_products` data frame"
   ]
  },
  {
   "cell_type": "code",
   "execution_count": 30,
   "id": "52326689-84a8-4b8f-a881-7c68780f62c9",
   "metadata": {
    "id": "52326689-84a8-4b8f-a881-7c68780f62c9"
   },
   "outputs": [
    {
     "data": {
      "text/plain": [
       "0"
      ]
     },
     "execution_count": 30,
     "metadata": {},
     "output_type": "execute_result"
    }
   ],
   "source": [
    "df_order_products.duplicated().sum() # Revisa si hay filas totalmente duplicadas\n"
   ]
  },
  {
   "cell_type": "code",
   "execution_count": 31,
   "id": "7b861391",
   "metadata": {
    "id": "7b861391"
   },
   "outputs": [
    {
     "name": "stdout",
     "output_type": "stream",
     "text": [
      "0\n"
     ]
    }
   ],
   "source": [
    "print(df_order_products.duplicated(subset=['order_id','product_id']).sum())\n",
    "  # Vuelve a verificar si hay cualquier otro duplicado engañoso\n"
   ]
  },
  {
   "cell_type": "markdown",
   "id": "0b890492",
   "metadata": {
    "id": "0b890492"
   },
   "source": [
    "Describe brevemente tus hallazgos y lo que hiciste con ellos."
   ]
  },
  {
   "cell_type": "markdown",
   "id": "1e46de76",
   "metadata": {
    "id": "1e46de76"
   },
   "source": [
    "## Encuentra y elimina los valores ausentes\n",
    "\n",
    "Al trabajar con valores duplicados, pudimos observar que también nos falta investigar valores ausentes:\n",
    "\n",
    "* La columna `'product_name'` de la tabla products.\n",
    "* La columna `'days_since_prior_order'` de la tabla orders.\n",
    "* La columna `'add_to_cart_order'` de la tabla order_productos."
   ]
  },
  {
   "cell_type": "markdown",
   "id": "c0aebd78",
   "metadata": {
    "id": "c0aebd78"
   },
   "source": [
    "### `products` data frame"
   ]
  },
  {
   "cell_type": "code",
   "execution_count": 32,
   "id": "fe4a8b0f",
   "metadata": {
    "id": "fe4a8b0f"
   },
   "outputs": [
    {
     "name": "stdout",
     "output_type": "stream",
     "text": [
      "       product_id product_name  aisle_id  department_id\n",
      "37             38          NaN       100             21\n",
      "71             72          NaN       100             21\n",
      "109           110          NaN       100             21\n",
      "296           297          NaN       100             21\n",
      "416           417          NaN       100             21\n",
      "...           ...          ...       ...            ...\n",
      "49552       49553          NaN       100             21\n",
      "49574       49575          NaN       100             21\n",
      "49640       49641          NaN       100             21\n",
      "49663       49664          NaN       100             21\n",
      "49668       49669          NaN       100             21\n",
      "\n",
      "[1258 rows x 4 columns]\n",
      "\n"
     ]
    },
    {
     "data": {
      "text/plain": [
       "1258"
      ]
     },
     "execution_count": 32,
     "metadata": {},
     "output_type": "execute_result"
    }
   ],
   "source": [
    "print(df_products[df_products['product_name'].isna()])\n",
    "print()\n",
    "df_products['product_name'].isna().sum()\n",
    "# Encuentra los valores ausentes en la columna 'product_name'"
   ]
  },
  {
   "cell_type": "markdown",
   "id": "-A6x1AbJhjkp",
   "metadata": {
    "id": "-A6x1AbJhjkp"
   },
   "source": [
    "Describe brevemente cuáles son tus hallazgos."
   ]
  },
  {
   "cell_type": "code",
   "execution_count": 33,
   "id": "e96167bc",
   "metadata": {
    "id": "e96167bc"
   },
   "outputs": [
    {
     "data": {
      "text/html": [
       "<div>\n",
       "<style scoped>\n",
       "    .dataframe tbody tr th:only-of-type {\n",
       "        vertical-align: middle;\n",
       "    }\n",
       "\n",
       "    .dataframe tbody tr th {\n",
       "        vertical-align: top;\n",
       "    }\n",
       "\n",
       "    .dataframe thead th {\n",
       "        text-align: right;\n",
       "    }\n",
       "</style>\n",
       "<table border=\"1\" class=\"dataframe\">\n",
       "  <thead>\n",
       "    <tr style=\"text-align: right;\">\n",
       "      <th></th>\n",
       "      <th>product_id</th>\n",
       "      <th>product_name</th>\n",
       "      <th>aisle_id</th>\n",
       "      <th>department_id</th>\n",
       "    </tr>\n",
       "  </thead>\n",
       "  <tbody>\n",
       "  </tbody>\n",
       "</table>\n",
       "</div>"
      ],
      "text/plain": [
       "Empty DataFrame\n",
       "Columns: [product_id, product_name, aisle_id, department_id]\n",
       "Index: []"
      ]
     },
     "execution_count": 33,
     "metadata": {},
     "output_type": "execute_result"
    }
   ],
   "source": [
    "df_products[(df_products['product_name'].isna()) & (df_products['aisle_id'] !=100)] #  ¿Todos los nombres de productos ausentes están relacionados con el pasillo con ID 100?\n"
   ]
  },
  {
   "cell_type": "code",
   "execution_count": 34,
   "id": "8fd0a541",
   "metadata": {
    "id": "8fd0a541"
   },
   "outputs": [
    {
     "data": {
      "text/html": [
       "<div>\n",
       "<style scoped>\n",
       "    .dataframe tbody tr th:only-of-type {\n",
       "        vertical-align: middle;\n",
       "    }\n",
       "\n",
       "    .dataframe tbody tr th {\n",
       "        vertical-align: top;\n",
       "    }\n",
       "\n",
       "    .dataframe thead th {\n",
       "        text-align: right;\n",
       "    }\n",
       "</style>\n",
       "<table border=\"1\" class=\"dataframe\">\n",
       "  <thead>\n",
       "    <tr style=\"text-align: right;\">\n",
       "      <th></th>\n",
       "      <th>product_id</th>\n",
       "      <th>product_name</th>\n",
       "      <th>aisle_id</th>\n",
       "      <th>department_id</th>\n",
       "    </tr>\n",
       "  </thead>\n",
       "  <tbody>\n",
       "  </tbody>\n",
       "</table>\n",
       "</div>"
      ],
      "text/plain": [
       "Empty DataFrame\n",
       "Columns: [product_id, product_name, aisle_id, department_id]\n",
       "Index: []"
      ]
     },
     "execution_count": 34,
     "metadata": {},
     "output_type": "execute_result"
    }
   ],
   "source": [
    "df_products[(df_products['product_name'].isna()) & (df_products['department_id'] !=21)]  # ¿Todos los nombres de productos ausentes están relacionados con el departamento con ID 21?\n"
   ]
  },
  {
   "cell_type": "code",
   "execution_count": 35,
   "id": "325c3464",
   "metadata": {
    "id": "325c3464"
   },
   "outputs": [
    {
     "data": {
      "text/html": [
       "<div>\n",
       "<style scoped>\n",
       "    .dataframe tbody tr th:only-of-type {\n",
       "        vertical-align: middle;\n",
       "    }\n",
       "\n",
       "    .dataframe tbody tr th {\n",
       "        vertical-align: top;\n",
       "    }\n",
       "\n",
       "    .dataframe thead th {\n",
       "        text-align: right;\n",
       "    }\n",
       "</style>\n",
       "<table border=\"1\" class=\"dataframe\">\n",
       "  <thead>\n",
       "    <tr style=\"text-align: right;\">\n",
       "      <th></th>\n",
       "      <th>product_id</th>\n",
       "      <th>product_name</th>\n",
       "      <th>aisle_id</th>\n",
       "      <th>department_id</th>\n",
       "    </tr>\n",
       "  </thead>\n",
       "  <tbody>\n",
       "    <tr>\n",
       "      <th>37</th>\n",
       "      <td>38</td>\n",
       "      <td>NaN</td>\n",
       "      <td>100</td>\n",
       "      <td>21</td>\n",
       "    </tr>\n",
       "    <tr>\n",
       "      <th>71</th>\n",
       "      <td>72</td>\n",
       "      <td>NaN</td>\n",
       "      <td>100</td>\n",
       "      <td>21</td>\n",
       "    </tr>\n",
       "    <tr>\n",
       "      <th>109</th>\n",
       "      <td>110</td>\n",
       "      <td>NaN</td>\n",
       "      <td>100</td>\n",
       "      <td>21</td>\n",
       "    </tr>\n",
       "    <tr>\n",
       "      <th>296</th>\n",
       "      <td>297</td>\n",
       "      <td>NaN</td>\n",
       "      <td>100</td>\n",
       "      <td>21</td>\n",
       "    </tr>\n",
       "    <tr>\n",
       "      <th>416</th>\n",
       "      <td>417</td>\n",
       "      <td>NaN</td>\n",
       "      <td>100</td>\n",
       "      <td>21</td>\n",
       "    </tr>\n",
       "    <tr>\n",
       "      <th>...</th>\n",
       "      <td>...</td>\n",
       "      <td>...</td>\n",
       "      <td>...</td>\n",
       "      <td>...</td>\n",
       "    </tr>\n",
       "    <tr>\n",
       "      <th>49552</th>\n",
       "      <td>49553</td>\n",
       "      <td>NaN</td>\n",
       "      <td>100</td>\n",
       "      <td>21</td>\n",
       "    </tr>\n",
       "    <tr>\n",
       "      <th>49574</th>\n",
       "      <td>49575</td>\n",
       "      <td>NaN</td>\n",
       "      <td>100</td>\n",
       "      <td>21</td>\n",
       "    </tr>\n",
       "    <tr>\n",
       "      <th>49640</th>\n",
       "      <td>49641</td>\n",
       "      <td>NaN</td>\n",
       "      <td>100</td>\n",
       "      <td>21</td>\n",
       "    </tr>\n",
       "    <tr>\n",
       "      <th>49663</th>\n",
       "      <td>49664</td>\n",
       "      <td>NaN</td>\n",
       "      <td>100</td>\n",
       "      <td>21</td>\n",
       "    </tr>\n",
       "    <tr>\n",
       "      <th>49668</th>\n",
       "      <td>49669</td>\n",
       "      <td>NaN</td>\n",
       "      <td>100</td>\n",
       "      <td>21</td>\n",
       "    </tr>\n",
       "  </tbody>\n",
       "</table>\n",
       "<p>1258 rows × 4 columns</p>\n",
       "</div>"
      ],
      "text/plain": [
       "       product_id product_name  aisle_id  department_id\n",
       "37             38          NaN       100             21\n",
       "71             72          NaN       100             21\n",
       "109           110          NaN       100             21\n",
       "296           297          NaN       100             21\n",
       "416           417          NaN       100             21\n",
       "...           ...          ...       ...            ...\n",
       "49552       49553          NaN       100             21\n",
       "49574       49575          NaN       100             21\n",
       "49640       49641          NaN       100             21\n",
       "49663       49664          NaN       100             21\n",
       "49668       49669          NaN       100             21\n",
       "\n",
       "[1258 rows x 4 columns]"
      ]
     },
     "execution_count": 35,
     "metadata": {},
     "output_type": "execute_result"
    }
   ],
   "source": [
    "df_products[(df_products['aisle_id'] == 100) & (df_products['department_id'] == 21)] \n",
    "# Usa las tablas department y aisle para revisar los datos del pasillo con ID 100 y el departamento con ID 21.\n"
   ]
  },
  {
   "cell_type": "markdown",
   "id": "nqhSTUPhhvEJ",
   "metadata": {
    "id": "nqhSTUPhhvEJ"
   },
   "source": [
    "Describe brevemente cuáles son tus hallazgos."
   ]
  },
  {
   "cell_type": "code",
   "execution_count": 36,
   "id": "6b295120",
   "metadata": {
    "id": "6b295120"
   },
   "outputs": [
    {
     "data": {
      "text/plain": [
       "product_id       0\n",
       "product_name     0\n",
       "aisle_id         0\n",
       "department_id    0\n",
       "dtype: int64"
      ]
     },
     "execution_count": 36,
     "metadata": {},
     "output_type": "execute_result"
    }
   ],
   "source": [
    "df_products.fillna('Unknown', inplace = True)\n",
    "\n",
    "df_products.isna().sum()\n",
    "# Completa los nombres de productos ausentes con 'Unknown'\n"
   ]
  },
  {
   "cell_type": "markdown",
   "id": "fc70e5ad",
   "metadata": {
    "id": "fc70e5ad"
   },
   "source": [
    "Describe brevemente tus hallazgos y lo que hiciste con ellos."
   ]
  },
  {
   "cell_type": "markdown",
   "id": "7eb45c86",
   "metadata": {
    "id": "7eb45c86"
   },
   "source": [
    "### `orders` data frame"
   ]
  },
  {
   "cell_type": "code",
   "execution_count": 28,
   "id": "93e41d96",
   "metadata": {
    "id": "93e41d96"
   },
   "outputs": [
    {
     "data": {
      "text/plain": [
       "order_id                      0\n",
       "user_id                       0\n",
       "order_number                  0\n",
       "order_dow                     0\n",
       "order_hour_of_day             0\n",
       "days_since_prior_order    28817\n",
       "dtype: int64"
      ]
     },
     "execution_count": 28,
     "metadata": {},
     "output_type": "execute_result"
    }
   ],
   "source": [
    "df_instacart_orders.isna().sum() # Encuentra los valores ausentes"
   ]
  },
  {
   "cell_type": "code",
   "execution_count": 29,
   "id": "166e5a86",
   "metadata": {
    "id": "166e5a86"
   },
   "outputs": [
    {
     "data": {
      "text/html": [
       "<div>\n",
       "<style scoped>\n",
       "    .dataframe tbody tr th:only-of-type {\n",
       "        vertical-align: middle;\n",
       "    }\n",
       "\n",
       "    .dataframe tbody tr th {\n",
       "        vertical-align: top;\n",
       "    }\n",
       "\n",
       "    .dataframe thead th {\n",
       "        text-align: right;\n",
       "    }\n",
       "</style>\n",
       "<table border=\"1\" class=\"dataframe\">\n",
       "  <thead>\n",
       "    <tr style=\"text-align: right;\">\n",
       "      <th></th>\n",
       "      <th>order_id</th>\n",
       "      <th>user_id</th>\n",
       "      <th>order_number</th>\n",
       "      <th>order_dow</th>\n",
       "      <th>order_hour_of_day</th>\n",
       "      <th>days_since_prior_order</th>\n",
       "    </tr>\n",
       "  </thead>\n",
       "  <tbody>\n",
       "  </tbody>\n",
       "</table>\n",
       "</div>"
      ],
      "text/plain": [
       "Empty DataFrame\n",
       "Columns: [order_id, user_id, order_number, order_dow, order_hour_of_day, days_since_prior_order]\n",
       "Index: []"
      ]
     },
     "execution_count": 29,
     "metadata": {},
     "output_type": "execute_result"
    }
   ],
   "source": [
    "df_instacart_orders[df_instacart_orders['days_since_prior_order'].isna() & (df_instacart_orders['order_number']!=1)] # ¿Hay algún valor ausente que no sea el primer pedido del cliente?\n"
   ]
  },
  {
   "cell_type": "markdown",
   "id": "69dc9ca4",
   "metadata": {
    "id": "69dc9ca4"
   },
   "source": [
    "### `order_products` data frame"
   ]
  },
  {
   "cell_type": "code",
   "execution_count": 37,
   "id": "b8240253",
   "metadata": {
    "id": "b8240253"
   },
   "outputs": [
    {
     "data": {
      "text/plain": [
       "order_id               0\n",
       "product_id             0\n",
       "add_to_cart_order    836\n",
       "reordered              0\n",
       "dtype: int64"
      ]
     },
     "execution_count": 37,
     "metadata": {},
     "output_type": "execute_result"
    }
   ],
   "source": [
    "df_order_products.isna().sum() # Encuentra los valores ausentes"
   ]
  },
  {
   "cell_type": "code",
   "execution_count": 31,
   "id": "9a78e5ee",
   "metadata": {
    "id": "9a78e5ee"
   },
   "outputs": [
    {
     "name": "stdout",
     "output_type": "stream",
     "text": [
      "1.0\n",
      "64.0\n"
     ]
    }
   ],
   "source": [
    "print(df_order_products['add_to_cart_order'].min()) # ¿Cuáles son los valores mínimos y máximos en esta columna?\n",
    "print(df_order_products['add_to_cart_order'].max())"
   ]
  },
  {
   "cell_type": "markdown",
   "id": "-Z2Ja215jW78",
   "metadata": {
    "id": "-Z2Ja215jW78"
   },
   "source": [
    "Describe brevemente cuáles son tus hallazgos."
   ]
  },
  {
   "cell_type": "code",
   "execution_count": 32,
   "id": "ab9d0c2b",
   "metadata": {
    "id": "ab9d0c2b"
   },
   "outputs": [
    {
     "name": "stdout",
     "output_type": "stream",
     "text": [
      "[9310, 61355, 102236, 129627, 165801, 171934, 180546, 264710, 293169, 388234, 404157, 678116, 733526, 747668, 813364, 844733, 854647, 871281, 888470, 903110, 936852, 1021563, 1038146, 1169835, 1183255, 1220886, 1302315, 1308785, 1386261, 1477139, 1529171, 1564093, 1598369, 1625713, 1633337, 1648217, 1673227, 1677118, 1713430, 1717990, 1730767, 1800005, 1832957, 1888628, 1916118, 1959075, 1961723, 1968313, 2094761, 2136777, 2170451, 2256933, 2409109, 2449164, 2470674, 2479011, 2621907, 2625444, 2652650, 2721963, 2729254, 2849370, 2926893, 2979697, 2997021, 2999801, 3125735, 3308010, 3347453, 3383594]\n"
     ]
    }
   ],
   "source": [
    "ausentes_orders_ids = df_order_products[df_order_products['add_to_cart_order'].isna()]['order_id'].unique() # Guarda todas las IDs de pedidos que tengan un valor ausente en 'add_to_cart_order'\n",
    "ausentes_orders_ids=sorted(list(ausentes_orders_ids))\n",
    "print(ausentes_orders_ids)"
   ]
  },
  {
   "cell_type": "code",
   "execution_count": 33,
   "id": "54c31695",
   "metadata": {
    "id": "54c31695"
   },
   "outputs": [
    {
     "name": "stdout",
     "output_type": "stream",
     "text": [
      "order_id\n",
      "9310        65\n",
      "747668      65\n",
      "1598369     65\n",
      "1677118     65\n",
      "2170451     65\n",
      "          ... \n",
      "1959075     98\n",
      "171934     104\n",
      "2136777    108\n",
      "3308010    115\n",
      "61355      127\n",
      "Name: product_id, Length: 70, dtype: int64\n",
      "\n",
      "order_id\n",
      "3421079      1\n",
      "1288686      1\n",
      "1288764      1\n",
      "1288825      1\n",
      "1288873      1\n",
      "          ... \n",
      "1959075     98\n",
      "171934     104\n",
      "2136777    108\n",
      "3308010    115\n",
      "61355      127\n",
      "Name: product_id, Length: 450046, dtype: int64\n",
      "\n",
      "70\n"
     ]
    }
   ],
   "source": [
    "\n",
    "\n",
    "\n",
    "print(df_order_products[df_order_products['order_id'].isin(ausentes_orders_ids)].groupby('order_id')['product_id'].count().sort_values())\n",
    "print()\n",
    "print(df_order_products.groupby('order_id')['product_id'].count().sort_values()) \n",
    "print()\n",
    "print(len(ausentes_orders_ids))\n",
    "# ¿Todos los pedidos con valores ausentes tienen más de 64 productos?\n",
    "  # Agrupa todos los pedidos con datos ausentes por su ID de pedido.\n",
    "  # Cuenta el número de 'product_id' en cada pedido y revisa el valor mínimo del conteo.\n"
   ]
  },
  {
   "cell_type": "markdown",
   "id": "p9V6pddtjglj",
   "metadata": {
    "id": "p9V6pddtjglj"
   },
   "source": [
    "Describe brevemente cuáles son tus hallazgos.\n",
    "<div class=\"alert alert-block alert-info\">\n",
    "<b></b> <a class=\"tocSkip\"></a>\n",
    "\n",
    "   Al realizar el conteo minimo y maximo de produtos añadidos al carrito nos meciona que el numero maximo es 64, lo cual no es real ya que al trabajar con los valores ausentes nos damos cuenta que el numero maximo es de 127.\n",
    "<div>"
   ]
  },
  {
   "cell_type": "code",
   "execution_count": 34,
   "id": "7a987d08",
   "metadata": {
    "id": "7a987d08"
   },
   "outputs": [
    {
     "name": "stdout",
     "output_type": "stream",
     "text": [
      "order_id             0\n",
      "product_id           0\n",
      "add_to_cart_order    0\n",
      "reordered            0\n",
      "dtype: int64\n"
     ]
    }
   ],
   "source": [
    "df_order_products.fillna(999, inplace=True) # Remplaza los valores ausentes en la columna 'add_to_cart? con 999 y convierte la columna al tipo entero.\n",
    "\n",
    "print(df_order_products.isna().sum())\n",
    "\n"
   ]
  },
  {
   "cell_type": "markdown",
   "id": "fea4bcc7",
   "metadata": {
    "id": "fea4bcc7"
   },
   "source": [
    "Describe brevemente tus hallazgos y lo que hiciste con ellos."
   ]
  },
  {
   "cell_type": "markdown",
   "id": "RnplPFY1gSrb",
   "metadata": {
    "id": "RnplPFY1gSrb"
   },
   "source": [
    "## Conclusiones\n",
    "\n",
    "Escribe aquí tus conclusiones intermedias sobre el Paso 2. Preprocesamiento de los datos\n"
   ]
  },
  {
   "cell_type": "markdown",
   "id": "UjrOIwTcz3ri",
   "metadata": {
    "id": "UjrOIwTcz3ri"
   },
   "source": [
    "# Paso 3. Análisis de los datos\n",
    "\n",
    "Una vez los datos estén procesados y listos, haz el siguiente análisis:"
   ]
  },
  {
   "cell_type": "markdown",
   "id": "turkish-kidney",
   "metadata": {
    "id": "turkish-kidney"
   },
   "source": [
    "# [A] Fácil (deben completarse todos para aprobar)\n",
    "\n",
    "1. Verifica que los valores en las columnas `'order_hour_of_day'` y `'order_dow'` en la tabla orders sean razonables (es decir, `'order_hour_of_day'` oscile entre 0 y 23 y `'order_dow'` oscile entre 0 y 6).\n",
    "2. Crea un gráfico que muestre el número de personas que hacen pedidos dependiendo de la hora del día.\n",
    "3. Crea un gráfico que muestre qué día de la semana la gente hace sus compras.\n",
    "4. Crea un gráfico que muestre el tiempo que la gente espera hasta hacer su siguiente pedido, y comenta sobre los valores mínimos y máximos."
   ]
  },
  {
   "cell_type": "markdown",
   "id": "short-capability",
   "metadata": {
    "id": "short-capability"
   },
   "source": [
    "### [A1] Verifica que los valores sean sensibles"
   ]
  },
  {
   "cell_type": "code",
   "execution_count": 35,
   "id": "growing-fruit",
   "metadata": {
    "id": "growing-fruit"
   },
   "outputs": [
    {
     "data": {
      "text/plain": [
       "array([13, 12, 19, 20, 11,  8, 18, 15, 16,  9, 22, 10,  0, 14, 17,  1,  7,\n",
       "        6,  2, 21,  3, 23,  5,  4])"
      ]
     },
     "execution_count": 35,
     "metadata": {},
     "output_type": "execute_result"
    }
   ],
   "source": [
    "df_instacart_orders['order_hour_of_day'].unique()\n"
   ]
  },
  {
   "cell_type": "code",
   "execution_count": 36,
   "id": "accessory-malaysia",
   "metadata": {
    "id": "accessory-malaysia"
   },
   "outputs": [
    {
     "data": {
      "text/plain": [
       "array([6, 5, 0, 4, 3, 1, 2])"
      ]
     },
     "execution_count": 36,
     "metadata": {},
     "output_type": "execute_result"
    }
   ],
   "source": [
    "df_instacart_orders['order_dow'].unique()\n"
   ]
  },
  {
   "cell_type": "markdown",
   "id": "hmR2GNQ6lCsX",
   "metadata": {
    "id": "hmR2GNQ6lCsX"
   },
   "source": [
    "Escribe aquí tus conclusiones"
   ]
  },
  {
   "cell_type": "markdown",
   "id": "a6743a70",
   "metadata": {
    "id": "a6743a70"
   },
   "source": [
    "### [A2] Para cada hora del día, ¿cuántas personas hacen órdenes?"
   ]
  },
  {
   "cell_type": "code",
   "execution_count": 37,
   "id": "a36cca27",
   "metadata": {
    "id": "a36cca27"
   },
   "outputs": [
    {
     "data": {
      "image/png": "[encoded data removed]",
      "text/plain": [
       "<Figure size 640x480 with 1 Axes>"
      ]
     },
     "metadata": {},
     "output_type": "display_data"
    }
   ],
   "source": [
    "compras_por_horas_del_dia = df_instacart_orders['order_hour_of_day'].value_counts().sort_index()\n",
    "compras_por_horas_del_dia.plot(kind= 'bar',\n",
    "                               title= 'Horas de Compra',\n",
    "                               xlabel= 'Hora',\n",
    "                               ylabel= 'Numero de Orden',\n",
    "                              )\n",
    "plt.show()"
   ]
  },
  {
   "cell_type": "markdown",
   "id": "11270eed",
   "metadata": {
    "id": "11270eed"
   },
   "source": [
    "Escribe aquí tus conclusiones"
   ]
  },
  {
   "cell_type": "markdown",
   "id": "documented-command",
   "metadata": {
    "id": "documented-command"
   },
   "source": [
    "### [A3] ¿Qué día de la semana compran víveres las personas?"
   ]
  },
  {
   "cell_type": "code",
   "execution_count": 38,
   "id": "chief-digit",
   "metadata": {
    "id": "chief-digit"
   },
   "outputs": [
    {
     "data": {
      "image/png": "[encoded data removed]",
      "text/plain": [
       "<Figure size 640x480 with 1 Axes>"
      ]
     },
     "metadata": {},
     "output_type": "display_data"
    }
   ],
   "source": [
    "dias_de_la_semana = df_instacart_orders['order_dow'].value_counts().sort_index()\n",
    "dias_de_la_semana.plot(kind='bar', title= 'Compras Deacuerdo al Dia de la Semana',\n",
    "                      xlabel= 'Orden',\n",
    "                      ylabel='Dia de la Semana') \n",
    "plt.show()"
   ]
  },
  {
   "cell_type": "markdown",
   "id": "dominant-lightning",
   "metadata": {
    "id": "dominant-lightning"
   },
   "source": [
    "Escribe aquí tus conclusiones"
   ]
  },
  {
   "cell_type": "markdown",
   "id": "cutting-concert",
   "metadata": {
    "id": "cutting-concert"
   },
   "source": [
    "### [A4] ¿Cuánto tiempo esperan las personas hasta hacer otro pedido? Comenta sobre los valores mínimos y máximos."
   ]
  },
  {
   "cell_type": "code",
   "execution_count": 38,
   "id": "c231f523",
   "metadata": {
    "id": "c231f523"
   },
   "outputs": [
    {
     "data": {
      "image/png": "[encoded data removed]",
      "text/plain": [
       "<Figure size 640x480 with 1 Axes>"
      ]
     },
     "metadata": {},
     "output_type": "display_data"
    }
   ],
   "source": [
    "tiempo_desde_la_primera_horden= df_instacart_orders['days_since_prior_order'].value_counts().sort_index()\n",
    "tiempo_desde_la_primera_horden.plot(kind='bar',\n",
    "                                   title='Tiempo de Espera Para Hacer Pedido',\n",
    "                                   xlabel= 'Dias',\n",
    "                                   ylabel= 'Orden'\n",
    "                            )\n",
    "plt.show()"
   ]
  },
  {
   "cell_type": "markdown",
   "id": "discrete-vertex",
   "metadata": {
    "id": "discrete-vertex"
   },
   "source": [
    "Escribe aquí tus conclusiones\n",
    "<div class=\"alert alert-block alert-info\"> \n",
    "\n",
    "<b></b> <a class=\"tocSkip\"></a> \n",
    "\n",
    " La mayoria de las personas tiemden a esperar como maximo un mes para hacer su pedido siendo este el mayor numero tiempo de espera para los usuarios.\n",
    " El minimo es de 0 es decir en el transcurso del mismo dia realizan un pedido siendo este unperiodo no muy freuente.\n",
    "\n",
    "</div> "
   ]
  },
  {
   "cell_type": "markdown",
   "id": "tight-staff",
   "metadata": {
    "id": "tight-staff"
   },
   "source": [
    "# [B] Intermedio (deben completarse todos para aprobar)\n",
    "\n",
    "1. ¿Existe alguna diferencia entre las distribuciones `'order_hour_of_day'` de los miércoles y los sábados? Traza gráficos de barra de `'order_hour_of_day'` para ambos días en la misma figura y describe las diferencias que observes.\n",
    "2. Grafica la distribución para el número de órdenes que hacen los clientes (es decir, cuántos clientes hicieron solo 1 pedido, cuántos hicieron 2, cuántos 3, y así sucesivamente...).\n",
    "3. ¿Cuáles son los 20 principales productos que se piden con más frecuencia (muestra su identificación y nombre)?"
   ]
  },
  {
   "cell_type": "markdown",
   "id": "packed-classic",
   "metadata": {
    "id": "packed-classic"
   },
   "source": [
    "### [B1] Diferencia entre miércoles y sábados para  `'order_hour_of_day'`. Traza gráficos de barra para los dos días y describe las diferencias que veas."
   ]
  },
  {
   "cell_type": "code",
   "execution_count": 39,
   "id": "d89b8403",
   "metadata": {
    "id": "d89b8403"
   },
   "outputs": [
    {
     "name": "stdout",
     "output_type": "stream",
     "text": [
      "order_hour_of_day\n",
      "0      373\n",
      "1      215\n",
      "2      106\n",
      "3      101\n",
      "4      108\n",
      "5      170\n",
      "6      643\n",
      "7     1732\n",
      "8     3125\n",
      "9     4490\n",
      "10    5026\n",
      "11    5004\n",
      "12    4688\n",
      "13    4674\n",
      "14    4774\n",
      "15    5163\n",
      "16    4976\n",
      "17    4175\n",
      "18    3463\n",
      "19    2652\n",
      "20    1917\n",
      "21    1450\n",
      "22    1154\n",
      "23     718\n",
      "Name: count, dtype: int64\n"
     ]
    }
   ],
   "source": [
    "miercoles_order_fil= df_instacart_orders['order_dow']==3\n",
    "orders_miercoles = df_instacart_orders[miercoles_order_fil]['order_hour_of_day'].value_counts().sort_index()  \n",
    "print(orders_miercoles)                                        "
   ]
  },
  {
   "cell_type": "code",
   "execution_count": 41,
   "id": "94e54e8a",
   "metadata": {
    "id": "94e54e8a"
   },
   "outputs": [
    {
     "name": "stdout",
     "output_type": "stream",
     "text": [
      "0      464\n",
      "1      254\n",
      "2      177\n",
      "3      125\n",
      "4      118\n",
      "5      161\n",
      "6      451\n",
      "7     1619\n",
      "8     3246\n",
      "9     4311\n",
      "10    4919\n",
      "11    5116\n",
      "12    5132\n",
      "13    5323\n",
      "14    5375\n",
      "15    5188\n",
      "16    5029\n",
      "17    4295\n",
      "18    3338\n",
      "19    2610\n",
      "20    1847\n",
      "21    1473\n",
      "22    1185\n",
      "23     893\n",
      "Name: order_hour_of_day, dtype: int64\n"
     ]
    }
   ],
   "source": [
    "sabado_order_fil= df_instacart_orders['order_dow']==6\n",
    "orders_sabado= df_instacart_orders[sabado_order_fil]['order_hour_of_day'].value_counts().sort_index()\n",
    "print(orders_sabado)                                    "
   ]
  },
  {
   "cell_type": "code",
   "execution_count": 42,
   "id": "797c90a8",
   "metadata": {
    "id": "797c90a8"
   },
   "outputs": [
    {
     "name": "stdout",
     "output_type": "stream",
     "text": [
      "    miercoles  sabado\n",
      "0         373     464\n",
      "1         215     254\n",
      "2         106     177\n",
      "3         101     125\n",
      "4         108     118\n",
      "5         170     161\n",
      "6         643     451\n",
      "7        1732    1619\n",
      "8        3125    3246\n",
      "9        4490    4311\n",
      "10       5026    4919\n",
      "11       5004    5116\n",
      "12       4688    5132\n",
      "13       4674    5323\n",
      "14       4774    5375\n",
      "15       5163    5188\n",
      "16       4976    5029\n",
      "17       4175    4295\n",
      "18       3463    3338\n",
      "19       2652    2610\n",
      "20       1917    1847\n",
      "21       1450    1473\n",
      "22       1154    1185\n",
      "23        718     893\n"
     ]
    }
   ],
   "source": [
    "dias_miercoles_y_sabado =pd.concat([orders_miercoles,orders_sabado], axis=1)\n",
    "dias_miercoles_y_sabado.columns= ['miercoles', 'sabado']\n",
    "print(dias_miercoles_y_sabado)"
   ]
  },
  {
   "cell_type": "code",
   "execution_count": 43,
   "id": "35bcea30",
   "metadata": {
    "id": "35bcea30"
   },
   "outputs": [
    {
     "data": {
      "image/png": "[encoded data removed]",
      "text/plain": [
       "<Figure size 640x480 with 1 Axes>"
      ]
     },
     "metadata": {},
     "output_type": "display_data"
    }
   ],
   "source": [
    "dias_miercoles_y_sabado.plot(kind='bar',\n",
    "                            title= 'Ventas Miercoles/Sabado',\n",
    "                            xlabel= 'Hora del Dia',\n",
    "                            ylabel= 'Numero de Orden')\n",
    "plt.show()"
   ]
  },
  {
   "cell_type": "markdown",
   "id": "charitable-congo",
   "metadata": {
    "id": "charitable-congo"
   },
   "source": [
    "Escribe aquí tus conclusiones\n",
    "<div class=\"alert alert-block alert-info\"> \n",
    "\n",
    "<b></b> <a class=\"tocSkip\"></a> \n",
    "\n",
    "  Podemos ver que en la grafica los dias miercoles tanto como sabado son muy parecidos en cuestion de compras solo existe una ligera discrepancia a ciertas horas, como lo es despues del medio dia.  \n",
    "\n",
    "</div> "
   ]
  },
  {
   "cell_type": "markdown",
   "id": "e3891143",
   "metadata": {
    "id": "e3891143"
   },
   "source": [
    "### [B2] ¿Cuál es la distribución para el número de pedidos por cliente?"
   ]
  },
  {
   "cell_type": "code",
   "execution_count": 44,
   "id": "d8c26c23",
   "metadata": {
    "id": "d8c26c23"
   },
   "outputs": [
    {
     "name": "stdout",
     "output_type": "stream",
     "text": [
      "1      28817\n",
      "2      28633\n",
      "3      28685\n",
      "4      28703\n",
      "5      25661\n",
      "       ...  \n",
      "96       220\n",
      "97       221\n",
      "98       191\n",
      "99       169\n",
      "100      194\n",
      "Name: order_number, Length: 100, dtype: int64\n"
     ]
    }
   ],
   "source": [
    "compras_por_cliente=df_instacart_orders['order_number'].value_counts().sort_index()\n",
    "print(compras_por_cliente)"
   ]
  },
  {
   "cell_type": "code",
   "execution_count": 45,
   "id": "00e69a66",
   "metadata": {
    "id": "00e69a66"
   },
   "outputs": [
    {
     "data": {
      "image/png": "[encoded data removed]",
      "text/plain": [
       "<Figure size 640x480 with 1 Axes>"
      ]
     },
     "metadata": {},
     "output_type": "display_data"
    }
   ],
   "source": [
    "compras_por_cliente.plot(kind='bar',\n",
    "                        title= 'Pedidos por Cliente',\n",
    "                        xlabel = 'Numero de Cliente',\n",
    "                        ylabel ='Numero de Pedidos',\n",
    "                          )\n",
    "plt.show()"
   ]
  },
  {
   "cell_type": "markdown",
   "id": "d2eff7d5",
   "metadata": {
    "id": "d2eff7d5"
   },
   "source": [
    "Escribe aquí tus conclusiones\n",
    "<div class=\"alert alert-block alert-info\"> \n",
    "\n",
    "<b>Respuesta </b> <a class=\"tocSkip\"></a> \n",
    "Nuestro numero maximo de pedidos por usuario es de 100, siendo este el numero de veces realizasdo por  la menor cantidad de clientes. Contemplado que la mayoria de los clientes han realizado al menos un pedido. \n",
    "  \n",
    "\n",
    "</div> "
   ]
  },
  {
   "cell_type": "markdown",
   "id": "54a0319c",
   "metadata": {
    "id": "54a0319c"
   },
   "source": [
    "### [B3] ¿Cuáles son los 20 productos más populares (muestra su ID y nombre)?"
   ]
  },
  {
   "cell_type": "code",
   "execution_count": 46,
   "id": "exterior-arizona",
   "metadata": {
    "id": "exterior-arizona",
    "scrolled": true
   },
   "outputs": [
    {
     "data": {
      "text/html": [
       "<div>\n",
       "<style scoped>\n",
       "    .dataframe tbody tr th:only-of-type {\n",
       "        vertical-align: middle;\n",
       "    }\n",
       "\n",
       "    .dataframe tbody tr th {\n",
       "        vertical-align: top;\n",
       "    }\n",
       "\n",
       "    .dataframe thead th {\n",
       "        text-align: right;\n",
       "    }\n",
       "</style>\n",
       "<table border=\"1\" class=\"dataframe\">\n",
       "  <thead>\n",
       "    <tr style=\"text-align: right;\">\n",
       "      <th></th>\n",
       "      <th>order_id</th>\n",
       "      <th>product_id</th>\n",
       "      <th>add_to_cart_order</th>\n",
       "      <th>reordered</th>\n",
       "      <th>product_name</th>\n",
       "      <th>aisle_id</th>\n",
       "      <th>department_id</th>\n",
       "    </tr>\n",
       "  </thead>\n",
       "  <tbody>\n",
       "    <tr>\n",
       "      <th>1</th>\n",
       "      <td>147172</td>\n",
       "      <td>11440</td>\n",
       "      <td>7.0</td>\n",
       "      <td>1</td>\n",
       "      <td>CHICKEN BREAST TENDERS BREADED</td>\n",
       "      <td>129</td>\n",
       "      <td>1</td>\n",
       "    </tr>\n",
       "    <tr>\n",
       "      <th>2</th>\n",
       "      <td>3341719</td>\n",
       "      <td>11440</td>\n",
       "      <td>4.0</td>\n",
       "      <td>1</td>\n",
       "      <td>CHICKEN BREAST TENDERS BREADED</td>\n",
       "      <td>129</td>\n",
       "      <td>1</td>\n",
       "    </tr>\n",
       "    <tr>\n",
       "      <th>3</th>\n",
       "      <td>1938779</td>\n",
       "      <td>11440</td>\n",
       "      <td>8.0</td>\n",
       "      <td>1</td>\n",
       "      <td>CHICKEN BREAST TENDERS BREADED</td>\n",
       "      <td>129</td>\n",
       "      <td>1</td>\n",
       "    </tr>\n",
       "    <tr>\n",
       "      <th>7</th>\n",
       "      <td>331884</td>\n",
       "      <td>11440</td>\n",
       "      <td>5.0</td>\n",
       "      <td>1</td>\n",
       "      <td>CHICKEN BREAST TENDERS BREADED</td>\n",
       "      <td>129</td>\n",
       "      <td>1</td>\n",
       "    </tr>\n",
       "    <tr>\n",
       "      <th>8</th>\n",
       "      <td>1869056</td>\n",
       "      <td>11440</td>\n",
       "      <td>12.0</td>\n",
       "      <td>1</td>\n",
       "      <td>CHICKEN BREAST TENDERS BREADED</td>\n",
       "      <td>129</td>\n",
       "      <td>1</td>\n",
       "    </tr>\n",
       "    <tr>\n",
       "      <th>...</th>\n",
       "      <td>...</td>\n",
       "      <td>...</td>\n",
       "      <td>...</td>\n",
       "      <td>...</td>\n",
       "      <td>...</td>\n",
       "      <td>...</td>\n",
       "      <td>...</td>\n",
       "    </tr>\n",
       "    <tr>\n",
       "      <th>4544981</th>\n",
       "      <td>2421451</td>\n",
       "      <td>10661</td>\n",
       "      <td>2.0</td>\n",
       "      <td>1</td>\n",
       "      <td>PLASTIC PARTY CUPS</td>\n",
       "      <td>111</td>\n",
       "      <td>17</td>\n",
       "    </tr>\n",
       "    <tr>\n",
       "      <th>4544983</th>\n",
       "      <td>1215763</td>\n",
       "      <td>14192</td>\n",
       "      <td>7.0</td>\n",
       "      <td>1</td>\n",
       "      <td>GOLDEN ECHINACEA LIQUID HERBAL EXTRACT</td>\n",
       "      <td>11</td>\n",
       "      <td>11</td>\n",
       "    </tr>\n",
       "    <tr>\n",
       "      <th>4544993</th>\n",
       "      <td>1817765</td>\n",
       "      <td>16672</td>\n",
       "      <td>11.0</td>\n",
       "      <td>1</td>\n",
       "      <td>CARAMEL GALETTE FRENCH COOKIES</td>\n",
       "      <td>61</td>\n",
       "      <td>19</td>\n",
       "    </tr>\n",
       "    <tr>\n",
       "      <th>4544994</th>\n",
       "      <td>1993036</td>\n",
       "      <td>22264</td>\n",
       "      <td>3.0</td>\n",
       "      <td>1</td>\n",
       "      <td>100% WHITE GRAPE JUICE CONCENTRATE</td>\n",
       "      <td>113</td>\n",
       "      <td>1</td>\n",
       "    </tr>\n",
       "    <tr>\n",
       "      <th>4545000</th>\n",
       "      <td>1525782</td>\n",
       "      <td>18946</td>\n",
       "      <td>3.0</td>\n",
       "      <td>1</td>\n",
       "      <td>VERY CLEAR MOISTURIZER WITH ANTI-BLEMISH COMPLEX</td>\n",
       "      <td>109</td>\n",
       "      <td>11</td>\n",
       "    </tr>\n",
       "  </tbody>\n",
       "</table>\n",
       "<p>2683838 rows × 7 columns</p>\n",
       "</div>"
      ],
      "text/plain": [
       "         order_id  product_id  add_to_cart_order  reordered  \\\n",
       "1          147172       11440                7.0          1   \n",
       "2         3341719       11440                4.0          1   \n",
       "3         1938779       11440                8.0          1   \n",
       "7          331884       11440                5.0          1   \n",
       "8         1869056       11440               12.0          1   \n",
       "...           ...         ...                ...        ...   \n",
       "4544981   2421451       10661                2.0          1   \n",
       "4544983   1215763       14192                7.0          1   \n",
       "4544993   1817765       16672               11.0          1   \n",
       "4544994   1993036       22264                3.0          1   \n",
       "4545000   1525782       18946                3.0          1   \n",
       "\n",
       "                                             product_name  aisle_id  \\\n",
       "1                          CHICKEN BREAST TENDERS BREADED       129   \n",
       "2                          CHICKEN BREAST TENDERS BREADED       129   \n",
       "3                          CHICKEN BREAST TENDERS BREADED       129   \n",
       "7                          CHICKEN BREAST TENDERS BREADED       129   \n",
       "8                          CHICKEN BREAST TENDERS BREADED       129   \n",
       "...                                                   ...       ...   \n",
       "4544981                                PLASTIC PARTY CUPS       111   \n",
       "4544983            GOLDEN ECHINACEA LIQUID HERBAL EXTRACT        11   \n",
       "4544993                    CARAMEL GALETTE FRENCH COOKIES        61   \n",
       "4544994                100% WHITE GRAPE JUICE CONCENTRATE       113   \n",
       "4545000  VERY CLEAR MOISTURIZER WITH ANTI-BLEMISH COMPLEX       109   \n",
       "\n",
       "         department_id  \n",
       "1                    1  \n",
       "2                    1  \n",
       "3                    1  \n",
       "7                    1  \n",
       "8                    1  \n",
       "...                ...  \n",
       "4544981             17  \n",
       "4544983             11  \n",
       "4544993             19  \n",
       "4544994              1  \n",
       "4545000             11  \n",
       "\n",
       "[2683838 rows x 7 columns]"
      ]
     },
     "execution_count": 46,
     "metadata": {},
     "output_type": "execute_result"
    }
   ],
   "source": [
    "productos_mas_vendidos=df_order_products.merge(df_products)\n",
    "productos_mas_vendidos=productos_mas_vendidos[productos_mas_vendidos['reordered']==1]\n",
    "productos_mas_vendidos\n"
   ]
  },
  {
   "cell_type": "code",
   "execution_count": 47,
   "id": "universal-facial",
   "metadata": {
    "id": "universal-facial"
   },
   "outputs": [
    {
     "data": {
      "text/plain": [
       "product_id  product_name                                 \n",
       "24852       BANANA                                           55763\n",
       "13176       BAG OF ORGANIC BANANAS                           44450\n",
       "21137       ORGANIC STRAWBERRIES                             28639\n",
       "21903       ORGANIC BABY SPINACH                             26233\n",
       "47209       ORGANIC HASS AVOCADO                             23629\n",
       "                                                             ...  \n",
       "7092        MELATONIN NUTRASPRAY SUBLINGUAL ORANGE FLAVOR        1\n",
       "21003       WHITE CHOCOLATE MACADAMIA COFFEE CREAMER             1\n",
       "32856       CRAB RANGOON                                         1\n",
       "42727       CHOCOLATE LOVERS CHIPS DELUXE COOKIES                1\n",
       "24091       GARLIC MILL SPICES                                   1\n",
       "Name: product_name, Length: 36228, dtype: int64"
      ]
     },
     "execution_count": 47,
     "metadata": {},
     "output_type": "execute_result"
    }
   ],
   "source": [
    "poroductos_mas_vendidos_20 = productos_mas_vendidos.groupby(['product_id','product_name'])['product_name'].count().sort_values(ascending=False)\n",
    "poroductos_mas_vendidos_20\n"
   ]
  },
  {
   "cell_type": "code",
   "execution_count": 48,
   "id": "bbcdd20b",
   "metadata": {
    "id": "bbcdd20b"
   },
   "outputs": [
    {
     "data": {
      "text/html": [
       "<div>\n",
       "<style scoped>\n",
       "    .dataframe tbody tr th:only-of-type {\n",
       "        vertical-align: middle;\n",
       "    }\n",
       "\n",
       "    .dataframe tbody tr th {\n",
       "        vertical-align: top;\n",
       "    }\n",
       "\n",
       "    .dataframe thead th {\n",
       "        text-align: right;\n",
       "    }\n",
       "</style>\n",
       "<table border=\"1\" class=\"dataframe\">\n",
       "  <thead>\n",
       "    <tr style=\"text-align: right;\">\n",
       "      <th></th>\n",
       "      <th>product_id</th>\n",
       "      <th>product_name</th>\n",
       "      <th>count</th>\n",
       "    </tr>\n",
       "  </thead>\n",
       "  <tbody>\n",
       "    <tr>\n",
       "      <th>0</th>\n",
       "      <td>24852</td>\n",
       "      <td>BANANA</td>\n",
       "      <td>55763</td>\n",
       "    </tr>\n",
       "    <tr>\n",
       "      <th>1</th>\n",
       "      <td>13176</td>\n",
       "      <td>BAG OF ORGANIC BANANAS</td>\n",
       "      <td>44450</td>\n",
       "    </tr>\n",
       "    <tr>\n",
       "      <th>2</th>\n",
       "      <td>21137</td>\n",
       "      <td>ORGANIC STRAWBERRIES</td>\n",
       "      <td>28639</td>\n",
       "    </tr>\n",
       "    <tr>\n",
       "      <th>3</th>\n",
       "      <td>21903</td>\n",
       "      <td>ORGANIC BABY SPINACH</td>\n",
       "      <td>26233</td>\n",
       "    </tr>\n",
       "    <tr>\n",
       "      <th>4</th>\n",
       "      <td>47209</td>\n",
       "      <td>ORGANIC HASS AVOCADO</td>\n",
       "      <td>23629</td>\n",
       "    </tr>\n",
       "    <tr>\n",
       "      <th>5</th>\n",
       "      <td>47766</td>\n",
       "      <td>ORGANIC AVOCADO</td>\n",
       "      <td>18743</td>\n",
       "    </tr>\n",
       "    <tr>\n",
       "      <th>6</th>\n",
       "      <td>27845</td>\n",
       "      <td>ORGANIC WHOLE MILK</td>\n",
       "      <td>16251</td>\n",
       "    </tr>\n",
       "    <tr>\n",
       "      <th>7</th>\n",
       "      <td>47626</td>\n",
       "      <td>LARGE LEMON</td>\n",
       "      <td>15044</td>\n",
       "    </tr>\n",
       "    <tr>\n",
       "      <th>8</th>\n",
       "      <td>27966</td>\n",
       "      <td>ORGANIC RASPBERRIES</td>\n",
       "      <td>14748</td>\n",
       "    </tr>\n",
       "    <tr>\n",
       "      <th>9</th>\n",
       "      <td>16797</td>\n",
       "      <td>STRAWBERRIES</td>\n",
       "      <td>13945</td>\n",
       "    </tr>\n",
       "    <tr>\n",
       "      <th>10</th>\n",
       "      <td>26209</td>\n",
       "      <td>LIMES</td>\n",
       "      <td>13327</td>\n",
       "    </tr>\n",
       "    <tr>\n",
       "      <th>11</th>\n",
       "      <td>22935</td>\n",
       "      <td>ORGANIC YELLOW ONION</td>\n",
       "      <td>11145</td>\n",
       "    </tr>\n",
       "    <tr>\n",
       "      <th>12</th>\n",
       "      <td>24964</td>\n",
       "      <td>ORGANIC GARLIC</td>\n",
       "      <td>10411</td>\n",
       "    </tr>\n",
       "    <tr>\n",
       "      <th>13</th>\n",
       "      <td>45007</td>\n",
       "      <td>ORGANIC ZUCCHINI</td>\n",
       "      <td>10076</td>\n",
       "    </tr>\n",
       "    <tr>\n",
       "      <th>14</th>\n",
       "      <td>49683</td>\n",
       "      <td>CUCUMBER KIRBY</td>\n",
       "      <td>9538</td>\n",
       "    </tr>\n",
       "    <tr>\n",
       "      <th>15</th>\n",
       "      <td>28204</td>\n",
       "      <td>ORGANIC FUJI APPLE</td>\n",
       "      <td>8989</td>\n",
       "    </tr>\n",
       "    <tr>\n",
       "      <th>16</th>\n",
       "      <td>8277</td>\n",
       "      <td>APPLE HONEYCRISP ORGANIC</td>\n",
       "      <td>8836</td>\n",
       "    </tr>\n",
       "    <tr>\n",
       "      <th>17</th>\n",
       "      <td>39275</td>\n",
       "      <td>ORGANIC BLUEBERRIES</td>\n",
       "      <td>8799</td>\n",
       "    </tr>\n",
       "    <tr>\n",
       "      <th>18</th>\n",
       "      <td>5876</td>\n",
       "      <td>ORGANIC LEMON</td>\n",
       "      <td>8412</td>\n",
       "    </tr>\n",
       "    <tr>\n",
       "      <th>19</th>\n",
       "      <td>49235</td>\n",
       "      <td>ORGANIC HALF &amp; HALF</td>\n",
       "      <td>8389</td>\n",
       "    </tr>\n",
       "  </tbody>\n",
       "</table>\n",
       "</div>"
      ],
      "text/plain": [
       "    product_id              product_name  count\n",
       "0        24852                    BANANA  55763\n",
       "1        13176    BAG OF ORGANIC BANANAS  44450\n",
       "2        21137      ORGANIC STRAWBERRIES  28639\n",
       "3        21903      ORGANIC BABY SPINACH  26233\n",
       "4        47209      ORGANIC HASS AVOCADO  23629\n",
       "5        47766           ORGANIC AVOCADO  18743\n",
       "6        27845        ORGANIC WHOLE MILK  16251\n",
       "7        47626               LARGE LEMON  15044\n",
       "8        27966       ORGANIC RASPBERRIES  14748\n",
       "9        16797              STRAWBERRIES  13945\n",
       "10       26209                     LIMES  13327\n",
       "11       22935      ORGANIC YELLOW ONION  11145\n",
       "12       24964            ORGANIC GARLIC  10411\n",
       "13       45007          ORGANIC ZUCCHINI  10076\n",
       "14       49683            CUCUMBER KIRBY   9538\n",
       "15       28204        ORGANIC FUJI APPLE   8989\n",
       "16        8277  APPLE HONEYCRISP ORGANIC   8836\n",
       "17       39275       ORGANIC BLUEBERRIES   8799\n",
       "18        5876             ORGANIC LEMON   8412\n",
       "19       49235       ORGANIC HALF & HALF   8389"
      ]
     },
     "execution_count": 48,
     "metadata": {},
     "output_type": "execute_result"
    }
   ],
   "source": [
    "poroductos_mas_vendidos_20= poroductos_mas_vendidos_20.reset_index(name='count')\n",
    "poroductos_mas_vendidos_20.head(20)\n"
   ]
  },
  {
   "cell_type": "markdown",
   "id": "gross-theme",
   "metadata": {
    "id": "gross-theme"
   },
   "source": [
    "# [C] Difícil (deben completarse todos para aprobar)\n",
    "\n",
    "1. ¿Cuántos artículos suelen comprar las personas en un pedido? ¿Cómo es la distribución?\n",
    "2. ¿Cuáles son los 20 principales artículos que vuelven a pedirse con mayor frecuencia (muestra sus nombres e IDs de los productos)?\n",
    "3. Para cada producto, ¿cuál es la tasa de repetición del pedido (número de repeticiones de pedido/total de pedidos?\n",
    "4. Para cada cliente, ¿qué proporción de los productos que pidió ya los había pedido? Calcula la tasa de repetición de pedido para cada usuario en lugar de para cada producto.\n",
    "5. ¿Cuáles son los 20 principales artículos que la gente pone primero en sus carritos (muestra las IDs de los productos, sus nombres, y el número de veces en que fueron el primer artículo en añadirse al carrito)?"
   ]
  },
  {
   "cell_type": "markdown",
   "id": "romantic-deposit",
   "metadata": {
    "id": "romantic-deposit"
   },
   "source": [
    "### [C1] ¿Cuántos artículos compran normalmente las personas en un pedido? ¿Cómo es la distribución?"
   ]
  },
  {
   "cell_type": "code",
   "execution_count": 49,
   "id": "virtual-punch",
   "metadata": {
    "id": "virtual-punch"
   },
   "outputs": [
    {
     "data": {
      "text/plain": [
       "order_id\n",
       "4          13\n",
       "9          15\n",
       "11          5\n",
       "19          3\n",
       "20          8\n",
       "           ..\n",
       "3421034    17\n",
       "3421053     9\n",
       "3421071     5\n",
       "3421077     4\n",
       "3421079     1\n",
       "Name: product_id, Length: 450046, dtype: int64"
      ]
     },
     "execution_count": 49,
     "metadata": {},
     "output_type": "execute_result"
    }
   ],
   "source": [
    "total_de_ordenes = df_order_products.groupby('order_id')['product_id'].count()\n",
    "total_de_ordenes"
   ]
  },
  {
   "cell_type": "code",
   "execution_count": 50,
   "id": "sensitive-breathing",
   "metadata": {
    "id": "sensitive-breathing"
   },
   "outputs": [
    {
     "data": {
      "text/plain": [
       "1      21847\n",
       "2      26292\n",
       "3      29046\n",
       "4      31054\n",
       "5      31923\n",
       "       ...  \n",
       "98         1\n",
       "104        1\n",
       "108        1\n",
       "115        1\n",
       "127        1\n",
       "Name: product_id, Length: 90, dtype: int64"
      ]
     },
     "execution_count": 50,
     "metadata": {},
     "output_type": "execute_result"
    }
   ],
   "source": [
    "valores = total_de_ordenes.value_counts().sort_index()\n",
    "valores"
   ]
  },
  {
   "cell_type": "code",
   "execution_count": 51,
   "id": "completed-frank",
   "metadata": {
    "id": "completed-frank"
   },
   "outputs": [
    {
     "data": {
      "image/png": "[encoded data removed]",
      "text/plain": [
       "<Figure size 640x480 with 1 Axes>"
      ]
     },
     "metadata": {},
     "output_type": "display_data"
    }
   ],
   "source": [
    "valores[valores.index<40].plot(kind= 'bar',\n",
    "             title = 'Distrribucion de Compra',\n",
    "             xlabel = 'Numero de Producto',\n",
    "             ylabel= 'Numero de orden'\n",
    "            )\n",
    "plt.show()"
   ]
  },
  {
   "cell_type": "markdown",
   "id": "designed-mortality",
   "metadata": {
    "id": "designed-mortality"
   },
   "source": [
    "Escribe aquí tus conclusiones"
   ]
  },
  {
   "cell_type": "markdown",
   "id": "5e6b5537",
   "metadata": {
    "id": "5e6b5537"
   },
   "source": [
    "### [C2] ¿Cuáles son los 20 principales artículos que vuelven a pedirse con mayor frecuencia (muestra sus nombres e IDs de los productos)?"
   ]
  },
  {
   "cell_type": "code",
   "execution_count": 52,
   "id": "9374e55a",
   "metadata": {
    "id": "9374e55a"
   },
   "outputs": [
    {
     "data": {
      "text/html": [
       "<div>\n",
       "<style scoped>\n",
       "    .dataframe tbody tr th:only-of-type {\n",
       "        vertical-align: middle;\n",
       "    }\n",
       "\n",
       "    .dataframe tbody tr th {\n",
       "        vertical-align: top;\n",
       "    }\n",
       "\n",
       "    .dataframe thead th {\n",
       "        text-align: right;\n",
       "    }\n",
       "</style>\n",
       "<table border=\"1\" class=\"dataframe\">\n",
       "  <thead>\n",
       "    <tr style=\"text-align: right;\">\n",
       "      <th></th>\n",
       "      <th>order_id</th>\n",
       "      <th>product_id</th>\n",
       "      <th>add_to_cart_order</th>\n",
       "      <th>reordered</th>\n",
       "      <th>product_name</th>\n",
       "      <th>aisle_id</th>\n",
       "      <th>department_id</th>\n",
       "    </tr>\n",
       "  </thead>\n",
       "  <tbody>\n",
       "    <tr>\n",
       "      <th>1</th>\n",
       "      <td>147172</td>\n",
       "      <td>11440</td>\n",
       "      <td>7.0</td>\n",
       "      <td>1</td>\n",
       "      <td>CHICKEN BREAST TENDERS BREADED</td>\n",
       "      <td>129</td>\n",
       "      <td>1</td>\n",
       "    </tr>\n",
       "    <tr>\n",
       "      <th>2</th>\n",
       "      <td>3341719</td>\n",
       "      <td>11440</td>\n",
       "      <td>4.0</td>\n",
       "      <td>1</td>\n",
       "      <td>CHICKEN BREAST TENDERS BREADED</td>\n",
       "      <td>129</td>\n",
       "      <td>1</td>\n",
       "    </tr>\n",
       "    <tr>\n",
       "      <th>3</th>\n",
       "      <td>1938779</td>\n",
       "      <td>11440</td>\n",
       "      <td>8.0</td>\n",
       "      <td>1</td>\n",
       "      <td>CHICKEN BREAST TENDERS BREADED</td>\n",
       "      <td>129</td>\n",
       "      <td>1</td>\n",
       "    </tr>\n",
       "    <tr>\n",
       "      <th>7</th>\n",
       "      <td>331884</td>\n",
       "      <td>11440</td>\n",
       "      <td>5.0</td>\n",
       "      <td>1</td>\n",
       "      <td>CHICKEN BREAST TENDERS BREADED</td>\n",
       "      <td>129</td>\n",
       "      <td>1</td>\n",
       "    </tr>\n",
       "    <tr>\n",
       "      <th>8</th>\n",
       "      <td>1869056</td>\n",
       "      <td>11440</td>\n",
       "      <td>12.0</td>\n",
       "      <td>1</td>\n",
       "      <td>CHICKEN BREAST TENDERS BREADED</td>\n",
       "      <td>129</td>\n",
       "      <td>1</td>\n",
       "    </tr>\n",
       "    <tr>\n",
       "      <th>...</th>\n",
       "      <td>...</td>\n",
       "      <td>...</td>\n",
       "      <td>...</td>\n",
       "      <td>...</td>\n",
       "      <td>...</td>\n",
       "      <td>...</td>\n",
       "      <td>...</td>\n",
       "    </tr>\n",
       "    <tr>\n",
       "      <th>4544981</th>\n",
       "      <td>2421451</td>\n",
       "      <td>10661</td>\n",
       "      <td>2.0</td>\n",
       "      <td>1</td>\n",
       "      <td>PLASTIC PARTY CUPS</td>\n",
       "      <td>111</td>\n",
       "      <td>17</td>\n",
       "    </tr>\n",
       "    <tr>\n",
       "      <th>4544983</th>\n",
       "      <td>1215763</td>\n",
       "      <td>14192</td>\n",
       "      <td>7.0</td>\n",
       "      <td>1</td>\n",
       "      <td>GOLDEN ECHINACEA LIQUID HERBAL EXTRACT</td>\n",
       "      <td>11</td>\n",
       "      <td>11</td>\n",
       "    </tr>\n",
       "    <tr>\n",
       "      <th>4544993</th>\n",
       "      <td>1817765</td>\n",
       "      <td>16672</td>\n",
       "      <td>11.0</td>\n",
       "      <td>1</td>\n",
       "      <td>CARAMEL GALETTE FRENCH COOKIES</td>\n",
       "      <td>61</td>\n",
       "      <td>19</td>\n",
       "    </tr>\n",
       "    <tr>\n",
       "      <th>4544994</th>\n",
       "      <td>1993036</td>\n",
       "      <td>22264</td>\n",
       "      <td>3.0</td>\n",
       "      <td>1</td>\n",
       "      <td>100% WHITE GRAPE JUICE CONCENTRATE</td>\n",
       "      <td>113</td>\n",
       "      <td>1</td>\n",
       "    </tr>\n",
       "    <tr>\n",
       "      <th>4545000</th>\n",
       "      <td>1525782</td>\n",
       "      <td>18946</td>\n",
       "      <td>3.0</td>\n",
       "      <td>1</td>\n",
       "      <td>VERY CLEAR MOISTURIZER WITH ANTI-BLEMISH COMPLEX</td>\n",
       "      <td>109</td>\n",
       "      <td>11</td>\n",
       "    </tr>\n",
       "  </tbody>\n",
       "</table>\n",
       "<p>2683838 rows × 7 columns</p>\n",
       "</div>"
      ],
      "text/plain": [
       "         order_id  product_id  add_to_cart_order  reordered  \\\n",
       "1          147172       11440                7.0          1   \n",
       "2         3341719       11440                4.0          1   \n",
       "3         1938779       11440                8.0          1   \n",
       "7          331884       11440                5.0          1   \n",
       "8         1869056       11440               12.0          1   \n",
       "...           ...         ...                ...        ...   \n",
       "4544981   2421451       10661                2.0          1   \n",
       "4544983   1215763       14192                7.0          1   \n",
       "4544993   1817765       16672               11.0          1   \n",
       "4544994   1993036       22264                3.0          1   \n",
       "4545000   1525782       18946                3.0          1   \n",
       "\n",
       "                                             product_name  aisle_id  \\\n",
       "1                          CHICKEN BREAST TENDERS BREADED       129   \n",
       "2                          CHICKEN BREAST TENDERS BREADED       129   \n",
       "3                          CHICKEN BREAST TENDERS BREADED       129   \n",
       "7                          CHICKEN BREAST TENDERS BREADED       129   \n",
       "8                          CHICKEN BREAST TENDERS BREADED       129   \n",
       "...                                                   ...       ...   \n",
       "4544981                                PLASTIC PARTY CUPS       111   \n",
       "4544983            GOLDEN ECHINACEA LIQUID HERBAL EXTRACT        11   \n",
       "4544993                    CARAMEL GALETTE FRENCH COOKIES        61   \n",
       "4544994                100% WHITE GRAPE JUICE CONCENTRATE       113   \n",
       "4545000  VERY CLEAR MOISTURIZER WITH ANTI-BLEMISH COMPLEX       109   \n",
       "\n",
       "         department_id  \n",
       "1                    1  \n",
       "2                    1  \n",
       "3                    1  \n",
       "7                    1  \n",
       "8                    1  \n",
       "...                ...  \n",
       "4544981             17  \n",
       "4544983             11  \n",
       "4544993             19  \n",
       "4544994              1  \n",
       "4545000             11  \n",
       "\n",
       "[2683838 rows x 7 columns]"
      ]
     },
     "execution_count": 52,
     "metadata": {},
     "output_type": "execute_result"
    }
   ],
   "source": [
    "productos_=df_order_products.merge(df_products)\n",
    "productos_mas_p=productos_[productos_['reordered']==1]\n",
    "productos_mas_p\n"
   ]
  },
  {
   "cell_type": "code",
   "execution_count": 53,
   "id": "possible-change",
   "metadata": {
    "id": "possible-change",
    "scrolled": true
   },
   "outputs": [
    {
     "data": {
      "text/plain": [
       "product_name                                 product_id  reordered\n",
       "BANANA                                       24852       1            55763\n",
       "BAG OF ORGANIC BANANAS                       13176       1            44450\n",
       "ORGANIC STRAWBERRIES                         21137       1            28639\n",
       "ORGANIC BABY SPINACH                         21903       1            26233\n",
       "ORGANIC HASS AVOCADO                         47209       1            23629\n",
       "                                                                      ...  \n",
       "SPARKLING WILD BERRY CALORIE REDUCING DRINK  38011       1                1\n",
       "IMPRESSIONS 10.25 INCH PLATES                12066       1                1\n",
       "SPARKLING WATER- CRAN-RASPBERRY              47060       1                1\n",
       "APPLE CHEESE GRAPE                           9188        1                1\n",
       "DIRT CAKE                                    4999        1                1\n",
       "Name: reordered, Length: 36228, dtype: int64"
      ]
     },
     "execution_count": 53,
     "metadata": {},
     "output_type": "execute_result"
    }
   ],
   "source": [
    "poroductos_mas_pe_20 = productos_mas_p.groupby(['product_name','product_id','reordered'])['reordered'].count().sort_values(ascending=False)\n",
    "poroductos_mas_pe_20"
   ]
  },
  {
   "cell_type": "code",
   "execution_count": 54,
   "id": "professional-surfing",
   "metadata": {
    "id": "professional-surfing",
    "scrolled": true
   },
   "outputs": [
    {
     "data": {
      "text/html": [
       "<div>\n",
       "<style scoped>\n",
       "    .dataframe tbody tr th:only-of-type {\n",
       "        vertical-align: middle;\n",
       "    }\n",
       "\n",
       "    .dataframe tbody tr th {\n",
       "        vertical-align: top;\n",
       "    }\n",
       "\n",
       "    .dataframe thead th {\n",
       "        text-align: right;\n",
       "    }\n",
       "</style>\n",
       "<table border=\"1\" class=\"dataframe\">\n",
       "  <thead>\n",
       "    <tr style=\"text-align: right;\">\n",
       "      <th></th>\n",
       "      <th>product_name</th>\n",
       "      <th>product_id</th>\n",
       "      <th>reordered</th>\n",
       "      <th>count</th>\n",
       "    </tr>\n",
       "  </thead>\n",
       "  <tbody>\n",
       "    <tr>\n",
       "      <th>0</th>\n",
       "      <td>BANANA</td>\n",
       "      <td>24852</td>\n",
       "      <td>1</td>\n",
       "      <td>55763</td>\n",
       "    </tr>\n",
       "    <tr>\n",
       "      <th>1</th>\n",
       "      <td>BAG OF ORGANIC BANANAS</td>\n",
       "      <td>13176</td>\n",
       "      <td>1</td>\n",
       "      <td>44450</td>\n",
       "    </tr>\n",
       "    <tr>\n",
       "      <th>2</th>\n",
       "      <td>ORGANIC STRAWBERRIES</td>\n",
       "      <td>21137</td>\n",
       "      <td>1</td>\n",
       "      <td>28639</td>\n",
       "    </tr>\n",
       "    <tr>\n",
       "      <th>3</th>\n",
       "      <td>ORGANIC BABY SPINACH</td>\n",
       "      <td>21903</td>\n",
       "      <td>1</td>\n",
       "      <td>26233</td>\n",
       "    </tr>\n",
       "    <tr>\n",
       "      <th>4</th>\n",
       "      <td>ORGANIC HASS AVOCADO</td>\n",
       "      <td>47209</td>\n",
       "      <td>1</td>\n",
       "      <td>23629</td>\n",
       "    </tr>\n",
       "    <tr>\n",
       "      <th>5</th>\n",
       "      <td>ORGANIC AVOCADO</td>\n",
       "      <td>47766</td>\n",
       "      <td>1</td>\n",
       "      <td>18743</td>\n",
       "    </tr>\n",
       "    <tr>\n",
       "      <th>6</th>\n",
       "      <td>ORGANIC WHOLE MILK</td>\n",
       "      <td>27845</td>\n",
       "      <td>1</td>\n",
       "      <td>16251</td>\n",
       "    </tr>\n",
       "    <tr>\n",
       "      <th>7</th>\n",
       "      <td>LARGE LEMON</td>\n",
       "      <td>47626</td>\n",
       "      <td>1</td>\n",
       "      <td>15044</td>\n",
       "    </tr>\n",
       "    <tr>\n",
       "      <th>8</th>\n",
       "      <td>ORGANIC RASPBERRIES</td>\n",
       "      <td>27966</td>\n",
       "      <td>1</td>\n",
       "      <td>14748</td>\n",
       "    </tr>\n",
       "    <tr>\n",
       "      <th>9</th>\n",
       "      <td>STRAWBERRIES</td>\n",
       "      <td>16797</td>\n",
       "      <td>1</td>\n",
       "      <td>13945</td>\n",
       "    </tr>\n",
       "    <tr>\n",
       "      <th>10</th>\n",
       "      <td>LIMES</td>\n",
       "      <td>26209</td>\n",
       "      <td>1</td>\n",
       "      <td>13327</td>\n",
       "    </tr>\n",
       "    <tr>\n",
       "      <th>11</th>\n",
       "      <td>ORGANIC YELLOW ONION</td>\n",
       "      <td>22935</td>\n",
       "      <td>1</td>\n",
       "      <td>11145</td>\n",
       "    </tr>\n",
       "    <tr>\n",
       "      <th>12</th>\n",
       "      <td>ORGANIC GARLIC</td>\n",
       "      <td>24964</td>\n",
       "      <td>1</td>\n",
       "      <td>10411</td>\n",
       "    </tr>\n",
       "    <tr>\n",
       "      <th>13</th>\n",
       "      <td>ORGANIC ZUCCHINI</td>\n",
       "      <td>45007</td>\n",
       "      <td>1</td>\n",
       "      <td>10076</td>\n",
       "    </tr>\n",
       "    <tr>\n",
       "      <th>14</th>\n",
       "      <td>CUCUMBER KIRBY</td>\n",
       "      <td>49683</td>\n",
       "      <td>1</td>\n",
       "      <td>9538</td>\n",
       "    </tr>\n",
       "    <tr>\n",
       "      <th>15</th>\n",
       "      <td>ORGANIC FUJI APPLE</td>\n",
       "      <td>28204</td>\n",
       "      <td>1</td>\n",
       "      <td>8989</td>\n",
       "    </tr>\n",
       "    <tr>\n",
       "      <th>16</th>\n",
       "      <td>APPLE HONEYCRISP ORGANIC</td>\n",
       "      <td>8277</td>\n",
       "      <td>1</td>\n",
       "      <td>8836</td>\n",
       "    </tr>\n",
       "    <tr>\n",
       "      <th>17</th>\n",
       "      <td>ORGANIC BLUEBERRIES</td>\n",
       "      <td>39275</td>\n",
       "      <td>1</td>\n",
       "      <td>8799</td>\n",
       "    </tr>\n",
       "    <tr>\n",
       "      <th>18</th>\n",
       "      <td>ORGANIC LEMON</td>\n",
       "      <td>5876</td>\n",
       "      <td>1</td>\n",
       "      <td>8412</td>\n",
       "    </tr>\n",
       "    <tr>\n",
       "      <th>19</th>\n",
       "      <td>ORGANIC HALF &amp; HALF</td>\n",
       "      <td>49235</td>\n",
       "      <td>1</td>\n",
       "      <td>8389</td>\n",
       "    </tr>\n",
       "  </tbody>\n",
       "</table>\n",
       "</div>"
      ],
      "text/plain": [
       "                product_name  product_id  reordered  count\n",
       "0                     BANANA       24852          1  55763\n",
       "1     BAG OF ORGANIC BANANAS       13176          1  44450\n",
       "2       ORGANIC STRAWBERRIES       21137          1  28639\n",
       "3       ORGANIC BABY SPINACH       21903          1  26233\n",
       "4       ORGANIC HASS AVOCADO       47209          1  23629\n",
       "5            ORGANIC AVOCADO       47766          1  18743\n",
       "6         ORGANIC WHOLE MILK       27845          1  16251\n",
       "7                LARGE LEMON       47626          1  15044\n",
       "8        ORGANIC RASPBERRIES       27966          1  14748\n",
       "9               STRAWBERRIES       16797          1  13945\n",
       "10                     LIMES       26209          1  13327\n",
       "11      ORGANIC YELLOW ONION       22935          1  11145\n",
       "12            ORGANIC GARLIC       24964          1  10411\n",
       "13          ORGANIC ZUCCHINI       45007          1  10076\n",
       "14            CUCUMBER KIRBY       49683          1   9538\n",
       "15        ORGANIC FUJI APPLE       28204          1   8989\n",
       "16  APPLE HONEYCRISP ORGANIC        8277          1   8836\n",
       "17       ORGANIC BLUEBERRIES       39275          1   8799\n",
       "18             ORGANIC LEMON        5876          1   8412\n",
       "19       ORGANIC HALF & HALF       49235          1   8389"
      ]
     },
     "execution_count": 54,
     "metadata": {},
     "output_type": "execute_result"
    }
   ],
   "source": [
    "productos_re_pedido=poroductos_mas_pe_20.reset_index(name='count')\n",
    "productos_re_pedido.head(20)\n",
    "#rodu_prin_20=conteo_produc.reset_index(name='count')\n",
    "#produ_prin_20.head(20)"
   ]
  },
  {
   "cell_type": "code",
   "execution_count": null,
   "id": "48dd3658",
   "metadata": {
    "id": "48dd3658"
   },
   "outputs": [],
   "source": []
  },
  {
   "cell_type": "markdown",
   "id": "80e70c74",
   "metadata": {
    "id": "80e70c74"
   },
   "source": [
    "Escribe aquí tus conclusiones"
   ]
  },
  {
   "cell_type": "markdown",
   "id": "9d312b14",
   "metadata": {
    "id": "9d312b14"
   },
   "source": [
    "### [C3] Para cada producto, ¿cuál es la proporción de las veces que se pide y que se vuelve a pedir?"
   ]
  },
  {
   "cell_type": "code",
   "execution_count": 55,
   "id": "8ae9f4b1",
   "metadata": {
    "id": "8ae9f4b1"
   },
   "outputs": [
    {
     "data": {
      "text/plain": [
       "61355      2.794275e-05\n",
       "3308010    2.530249e-05\n",
       "2136777    2.376234e-05\n",
       "171934     2.288225e-05\n",
       "1959075    2.156212e-05\n",
       "               ...     \n",
       "54659      2.200217e-07\n",
       "210431     2.200217e-07\n",
       "1717983    2.200217e-07\n",
       "1136563    2.200217e-07\n",
       "8196       2.200217e-07\n",
       "Name: order_id, Length: 450046, dtype: float64"
      ]
     },
     "execution_count": 55,
     "metadata": {},
     "output_type": "execute_result"
    }
   ],
   "source": [
    "produc_pedido = df_order_products['order_id'].value_counts(normalize=True) \n",
    "produc_pedido"
   ]
  },
  {
   "cell_type": "code",
   "execution_count": 56,
   "id": "103e7fe1",
   "metadata": {
    "id": "103e7fe1"
   },
   "outputs": [
    {
     "data": {
      "text/plain": [
       "1    0.590503\n",
       "0    0.409497\n",
       "Name: reordered, dtype: float64"
      ]
     },
     "execution_count": 56,
     "metadata": {},
     "output_type": "execute_result"
    }
   ],
   "source": [
    "rorden_product =df_order_products['reordered'].value_counts(normalize=True)\n",
    "rorden_product"
   ]
  },
  {
   "cell_type": "code",
   "execution_count": 57,
   "id": "social-individual",
   "metadata": {
    "id": "social-individual"
   },
   "outputs": [
    {
     "data": {
      "text/plain": [
       "(0          11440\n",
       " 1           1560\n",
       " 2          26683\n",
       " 3           8670\n",
       " 4           1940\n",
       "            ...  \n",
       " 4545002    15290\n",
       " 4545003    21914\n",
       " 4545004    47766\n",
       " 4545005      691\n",
       " 4545006    28733\n",
       " Name: product_id, Length: 4545007, dtype: int64,\n",
       " (61355      2.794275e-05\n",
       "  3308010    2.530249e-05\n",
       "  2136777    2.376234e-05\n",
       "  171934     2.288225e-05\n",
       "  1959075    2.156212e-05\n",
       "                 ...     \n",
       "  54659      2.200217e-07\n",
       "  210431     2.200217e-07\n",
       "  1717983    2.200217e-07\n",
       "  1136563    2.200217e-07\n",
       "  8196       2.200217e-07\n",
       "  Name: order_id, Length: 450046, dtype: float64,\n",
       "  1    0.590503\n",
       "  0    0.409497\n",
       "  Name: reordered, dtype: float64))"
      ]
     },
     "execution_count": 57,
     "metadata": {},
     "output_type": "execute_result"
    }
   ],
   "source": [
    "producto_correlacion =df_order_products['product_id'],(produc_pedido,rorden_product)\n",
    "producto_correlacion"
   ]
  },
  {
   "cell_type": "markdown",
   "id": "I10dEIAyldcO",
   "metadata": {
    "id": "I10dEIAyldcO"
   },
   "source": [
    "Escribe aquí tus conclusiones"
   ]
  },
  {
   "cell_type": "markdown",
   "id": "subject-boxing",
   "metadata": {
    "id": "subject-boxing"
   },
   "source": [
    "### [C4] Para cada cliente, ¿qué proporción de sus productos ya los había pedido?"
   ]
  },
  {
   "cell_type": "code",
   "execution_count": 58,
   "id": "medical-couple",
   "metadata": {
    "id": "medical-couple",
    "scrolled": true
   },
   "outputs": [
    {
     "data": {
      "text/html": [
       "<div>\n",
       "<style scoped>\n",
       "    .dataframe tbody tr th:only-of-type {\n",
       "        vertical-align: middle;\n",
       "    }\n",
       "\n",
       "    .dataframe tbody tr th {\n",
       "        vertical-align: top;\n",
       "    }\n",
       "\n",
       "    .dataframe thead th {\n",
       "        text-align: right;\n",
       "    }\n",
       "</style>\n",
       "<table border=\"1\" class=\"dataframe\">\n",
       "  <thead>\n",
       "    <tr style=\"text-align: right;\">\n",
       "      <th></th>\n",
       "      <th>order_id</th>\n",
       "      <th>user_id</th>\n",
       "      <th>order_number</th>\n",
       "      <th>order_dow</th>\n",
       "      <th>order_hour_of_day</th>\n",
       "      <th>days_since_prior_order</th>\n",
       "      <th>product_id</th>\n",
       "      <th>add_to_cart_order</th>\n",
       "      <th>reordered</th>\n",
       "    </tr>\n",
       "  </thead>\n",
       "  <tbody>\n",
       "    <tr>\n",
       "      <th>0</th>\n",
       "      <td>1515936</td>\n",
       "      <td>183418</td>\n",
       "      <td>11</td>\n",
       "      <td>6</td>\n",
       "      <td>13</td>\n",
       "      <td>30.0</td>\n",
       "      <td>19048</td>\n",
       "      <td>1.0</td>\n",
       "      <td>1</td>\n",
       "    </tr>\n",
       "    <tr>\n",
       "      <th>1</th>\n",
       "      <td>1515936</td>\n",
       "      <td>183418</td>\n",
       "      <td>11</td>\n",
       "      <td>6</td>\n",
       "      <td>13</td>\n",
       "      <td>30.0</td>\n",
       "      <td>47766</td>\n",
       "      <td>3.0</td>\n",
       "      <td>1</td>\n",
       "    </tr>\n",
       "    <tr>\n",
       "      <th>5</th>\n",
       "      <td>1515936</td>\n",
       "      <td>183418</td>\n",
       "      <td>11</td>\n",
       "      <td>6</td>\n",
       "      <td>13</td>\n",
       "      <td>30.0</td>\n",
       "      <td>36792</td>\n",
       "      <td>2.0</td>\n",
       "      <td>1</td>\n",
       "    </tr>\n",
       "    <tr>\n",
       "      <th>6</th>\n",
       "      <td>1515936</td>\n",
       "      <td>183418</td>\n",
       "      <td>11</td>\n",
       "      <td>6</td>\n",
       "      <td>13</td>\n",
       "      <td>30.0</td>\n",
       "      <td>29270</td>\n",
       "      <td>5.0</td>\n",
       "      <td>1</td>\n",
       "    </tr>\n",
       "    <tr>\n",
       "      <th>8</th>\n",
       "      <td>1515936</td>\n",
       "      <td>183418</td>\n",
       "      <td>11</td>\n",
       "      <td>6</td>\n",
       "      <td>13</td>\n",
       "      <td>30.0</td>\n",
       "      <td>28553</td>\n",
       "      <td>7.0</td>\n",
       "      <td>1</td>\n",
       "    </tr>\n",
       "    <tr>\n",
       "      <th>...</th>\n",
       "      <td>...</td>\n",
       "      <td>...</td>\n",
       "      <td>...</td>\n",
       "      <td>...</td>\n",
       "      <td>...</td>\n",
       "      <td>...</td>\n",
       "      <td>...</td>\n",
       "      <td>...</td>\n",
       "      <td>...</td>\n",
       "    </tr>\n",
       "    <tr>\n",
       "      <th>4545000</th>\n",
       "      <td>2071924</td>\n",
       "      <td>1730</td>\n",
       "      <td>18</td>\n",
       "      <td>1</td>\n",
       "      <td>14</td>\n",
       "      <td>15.0</td>\n",
       "      <td>47626</td>\n",
       "      <td>5.0</td>\n",
       "      <td>1</td>\n",
       "    </tr>\n",
       "    <tr>\n",
       "      <th>4545003</th>\n",
       "      <td>2071924</td>\n",
       "      <td>1730</td>\n",
       "      <td>18</td>\n",
       "      <td>1</td>\n",
       "      <td>14</td>\n",
       "      <td>15.0</td>\n",
       "      <td>4778</td>\n",
       "      <td>12.0</td>\n",
       "      <td>1</td>\n",
       "    </tr>\n",
       "    <tr>\n",
       "      <th>4545004</th>\n",
       "      <td>2071924</td>\n",
       "      <td>1730</td>\n",
       "      <td>18</td>\n",
       "      <td>1</td>\n",
       "      <td>14</td>\n",
       "      <td>15.0</td>\n",
       "      <td>11512</td>\n",
       "      <td>1.0</td>\n",
       "      <td>1</td>\n",
       "    </tr>\n",
       "    <tr>\n",
       "      <th>4545005</th>\n",
       "      <td>2071924</td>\n",
       "      <td>1730</td>\n",
       "      <td>18</td>\n",
       "      <td>1</td>\n",
       "      <td>14</td>\n",
       "      <td>15.0</td>\n",
       "      <td>4920</td>\n",
       "      <td>6.0</td>\n",
       "      <td>1</td>\n",
       "    </tr>\n",
       "    <tr>\n",
       "      <th>4545006</th>\n",
       "      <td>2071924</td>\n",
       "      <td>1730</td>\n",
       "      <td>18</td>\n",
       "      <td>1</td>\n",
       "      <td>14</td>\n",
       "      <td>15.0</td>\n",
       "      <td>17678</td>\n",
       "      <td>4.0</td>\n",
       "      <td>1</td>\n",
       "    </tr>\n",
       "  </tbody>\n",
       "</table>\n",
       "<p>2683838 rows × 9 columns</p>\n",
       "</div>"
      ],
      "text/plain": [
       "         order_id  user_id  order_number  order_dow  order_hour_of_day  \\\n",
       "0         1515936   183418            11          6                 13   \n",
       "1         1515936   183418            11          6                 13   \n",
       "5         1515936   183418            11          6                 13   \n",
       "6         1515936   183418            11          6                 13   \n",
       "8         1515936   183418            11          6                 13   \n",
       "...           ...      ...           ...        ...                ...   \n",
       "4545000   2071924     1730            18          1                 14   \n",
       "4545003   2071924     1730            18          1                 14   \n",
       "4545004   2071924     1730            18          1                 14   \n",
       "4545005   2071924     1730            18          1                 14   \n",
       "4545006   2071924     1730            18          1                 14   \n",
       "\n",
       "         days_since_prior_order  product_id  add_to_cart_order  reordered  \n",
       "0                          30.0       19048                1.0          1  \n",
       "1                          30.0       47766                3.0          1  \n",
       "5                          30.0       36792                2.0          1  \n",
       "6                          30.0       29270                5.0          1  \n",
       "8                          30.0       28553                7.0          1  \n",
       "...                         ...         ...                ...        ...  \n",
       "4545000                    15.0       47626                5.0          1  \n",
       "4545003                    15.0        4778               12.0          1  \n",
       "4545004                    15.0       11512                1.0          1  \n",
       "4545005                    15.0        4920                6.0          1  \n",
       "4545006                    15.0       17678                4.0          1  \n",
       "\n",
       "[2683838 rows x 9 columns]"
      ]
     },
     "execution_count": 58,
     "metadata": {},
     "output_type": "execute_result"
    }
   ],
   "source": [
    "clientes_prop = df_instacart_orders.merge(df_order_products)\n",
    "clientes_vent=clientes_prop[clientes_prop['reordered']==1]  \n",
    "\n",
    "clientes_vent"
   ]
  },
  {
   "cell_type": "code",
   "execution_count": 59,
   "id": "8892e4b4",
   "metadata": {
    "id": "8892e4b4"
   },
   "outputs": [
    {
     "data": {
      "text/plain": [
       "user_id\n",
       "2         1\n",
       "5         1\n",
       "7         1\n",
       "11        1\n",
       "12        1\n",
       "         ..\n",
       "206203    1\n",
       "206206    1\n",
       "206207    1\n",
       "206208    1\n",
       "206209    1\n",
       "Name: reordered, Length: 132991, dtype: int64"
      ]
     },
     "execution_count": 59,
     "metadata": {},
     "output_type": "execute_result"
    }
   ],
   "source": [
    "proporcion_clientes= clientes_vent.groupby('user_id')['reordered'].mean()\n",
    "proporcion_clientes"
   ]
  },
  {
   "cell_type": "markdown",
   "id": "BgJSvXDsleXz",
   "metadata": {
    "id": "BgJSvXDsleXz"
   },
   "source": [
    "Escribe aquí tus conclusiones"
   ]
  },
  {
   "cell_type": "markdown",
   "id": "92d35137",
   "metadata": {
    "id": "92d35137"
   },
   "source": [
    "### [C5] ¿Cuáles son los 20 principales artículos que las personas ponen primero en sus carritos?"
   ]
  },
  {
   "cell_type": "code",
   "execution_count": 40,
   "id": "0ae57274",
   "metadata": {
    "id": "0ae57274",
    "scrolled": true
   },
   "outputs": [
    {
     "data": {
      "text/html": [
       "<div>\n",
       "<style scoped>\n",
       "    .dataframe tbody tr th:only-of-type {\n",
       "        vertical-align: middle;\n",
       "    }\n",
       "\n",
       "    .dataframe tbody tr th {\n",
       "        vertical-align: top;\n",
       "    }\n",
       "\n",
       "    .dataframe thead th {\n",
       "        text-align: right;\n",
       "    }\n",
       "</style>\n",
       "<table border=\"1\" class=\"dataframe\">\n",
       "  <thead>\n",
       "    <tr style=\"text-align: right;\">\n",
       "      <th></th>\n",
       "      <th>order_id</th>\n",
       "      <th>product_id</th>\n",
       "      <th>add_to_cart_order</th>\n",
       "      <th>reordered</th>\n",
       "      <th>product_name</th>\n",
       "      <th>aisle_id</th>\n",
       "      <th>department_id</th>\n",
       "    </tr>\n",
       "  </thead>\n",
       "  <tbody>\n",
       "    <tr>\n",
       "      <th>1</th>\n",
       "      <td>567889</td>\n",
       "      <td>1560</td>\n",
       "      <td>1.0</td>\n",
       "      <td>1</td>\n",
       "      <td>BAG OF ICE</td>\n",
       "      <td>37</td>\n",
       "      <td>1</td>\n",
       "    </tr>\n",
       "    <tr>\n",
       "      <th>2</th>\n",
       "      <td>2261212</td>\n",
       "      <td>26683</td>\n",
       "      <td>1.0</td>\n",
       "      <td>1</td>\n",
       "      <td>CAFE LATTE PURE LIGHTLY SWEETENED ICED COFFEE ...</td>\n",
       "      <td>91</td>\n",
       "      <td>16</td>\n",
       "    </tr>\n",
       "    <tr>\n",
       "      <th>14</th>\n",
       "      <td>1961225</td>\n",
       "      <td>37553</td>\n",
       "      <td>1.0</td>\n",
       "      <td>1</td>\n",
       "      <td>ICED COFFEE LIGHTLY SWEET</td>\n",
       "      <td>26</td>\n",
       "      <td>7</td>\n",
       "    </tr>\n",
       "    <tr>\n",
       "      <th>16</th>\n",
       "      <td>639939</td>\n",
       "      <td>10017</td>\n",
       "      <td>1.0</td>\n",
       "      <td>1</td>\n",
       "      <td>TILAPIA FILET</td>\n",
       "      <td>39</td>\n",
       "      <td>12</td>\n",
       "    </tr>\n",
       "    <tr>\n",
       "      <th>23</th>\n",
       "      <td>750040</td>\n",
       "      <td>8518</td>\n",
       "      <td>1.0</td>\n",
       "      <td>0</td>\n",
       "      <td>ORGANIC RED ONION</td>\n",
       "      <td>83</td>\n",
       "      <td>4</td>\n",
       "    </tr>\n",
       "    <tr>\n",
       "      <th>...</th>\n",
       "      <td>...</td>\n",
       "      <td>...</td>\n",
       "      <td>...</td>\n",
       "      <td>...</td>\n",
       "      <td>...</td>\n",
       "      <td>...</td>\n",
       "      <td>...</td>\n",
       "    </tr>\n",
       "    <tr>\n",
       "      <th>4544978</th>\n",
       "      <td>1759009</td>\n",
       "      <td>46175</td>\n",
       "      <td>1.0</td>\n",
       "      <td>0</td>\n",
       "      <td>HALF BAKED® ICE CREAM</td>\n",
       "      <td>37</td>\n",
       "      <td>1</td>\n",
       "    </tr>\n",
       "    <tr>\n",
       "      <th>4544989</th>\n",
       "      <td>115427</td>\n",
       "      <td>20842</td>\n",
       "      <td>1.0</td>\n",
       "      <td>1</td>\n",
       "      <td>TOTAL 0% GREEK YOGURT</td>\n",
       "      <td>120</td>\n",
       "      <td>16</td>\n",
       "    </tr>\n",
       "    <tr>\n",
       "      <th>4544990</th>\n",
       "      <td>2049780</td>\n",
       "      <td>28576</td>\n",
       "      <td>1.0</td>\n",
       "      <td>1</td>\n",
       "      <td>VANILLA BEAN CHIA POD</td>\n",
       "      <td>120</td>\n",
       "      <td>16</td>\n",
       "    </tr>\n",
       "    <tr>\n",
       "      <th>4544997</th>\n",
       "      <td>2300092</td>\n",
       "      <td>10017</td>\n",
       "      <td>1.0</td>\n",
       "      <td>0</td>\n",
       "      <td>TILAPIA FILET</td>\n",
       "      <td>39</td>\n",
       "      <td>12</td>\n",
       "    </tr>\n",
       "    <tr>\n",
       "      <th>4544999</th>\n",
       "      <td>1622300</td>\n",
       "      <td>24852</td>\n",
       "      <td>1.0</td>\n",
       "      <td>1</td>\n",
       "      <td>BANANA</td>\n",
       "      <td>24</td>\n",
       "      <td>4</td>\n",
       "    </tr>\n",
       "  </tbody>\n",
       "</table>\n",
       "<p>450046 rows × 7 columns</p>\n",
       "</div>"
      ],
      "text/plain": [
       "         order_id  product_id  add_to_cart_order  reordered  \\\n",
       "1          567889        1560                1.0          1   \n",
       "2         2261212       26683                1.0          1   \n",
       "14        1961225       37553                1.0          1   \n",
       "16         639939       10017                1.0          1   \n",
       "23         750040        8518                1.0          0   \n",
       "...           ...         ...                ...        ...   \n",
       "4544978   1759009       46175                1.0          0   \n",
       "4544989    115427       20842                1.0          1   \n",
       "4544990   2049780       28576                1.0          1   \n",
       "4544997   2300092       10017                1.0          0   \n",
       "4544999   1622300       24852                1.0          1   \n",
       "\n",
       "                                              product_name  aisle_id  \\\n",
       "1                                               BAG OF ICE        37   \n",
       "2        CAFE LATTE PURE LIGHTLY SWEETENED ICED COFFEE ...        91   \n",
       "14                               ICED COFFEE LIGHTLY SWEET        26   \n",
       "16                                           TILAPIA FILET        39   \n",
       "23                                       ORGANIC RED ONION        83   \n",
       "...                                                    ...       ...   \n",
       "4544978                              HALF BAKED® ICE CREAM        37   \n",
       "4544989                              TOTAL 0% GREEK YOGURT       120   \n",
       "4544990                              VANILLA BEAN CHIA POD       120   \n",
       "4544997                                      TILAPIA FILET        39   \n",
       "4544999                                             BANANA        24   \n",
       "\n",
       "         department_id  \n",
       "1                    1  \n",
       "2                   16  \n",
       "14                   7  \n",
       "16                  12  \n",
       "23                   4  \n",
       "...                ...  \n",
       "4544978              1  \n",
       "4544989             16  \n",
       "4544990             16  \n",
       "4544997             12  \n",
       "4544999              4  \n",
       "\n",
       "[450046 rows x 7 columns]"
      ]
     },
     "execution_count": 40,
     "metadata": {},
     "output_type": "execute_result"
    }
   ],
   "source": [
    "prin_20 = df_order_products.merge(df_products)\n",
    "producto = prin_20[prin_20['add_to_cart_order']==1]\n",
    "\n",
    "producto"
   ]
  },
  {
   "cell_type": "code",
   "execution_count": 41,
   "id": "forty-netherlands",
   "metadata": {
    "id": "forty-netherlands",
    "scrolled": true
   },
   "outputs": [
    {
     "data": {
      "text/plain": [
       "product_name                                           product_id\n",
       "BANANA                                                 24852         15562\n",
       "BAG OF ORGANIC BANANAS                                 13176         11026\n",
       "ORGANIC WHOLE MILK                                     27845          4363\n",
       "ORGANIC STRAWBERRIES                                   21137          3946\n",
       "ORGANIC HASS AVOCADO                                   47209          3390\n",
       "                                                                     ...  \n",
       "CABERNET SAUVIGNON- H3 COLLECTION- HORSE HEAVEN HILLS  14644             1\n",
       "ETHIOPIA GUJI ORGANIC WHOLE BEAN COFFEE                16711             1\n",
       "NATURAL ARTICHOKE HEARTS QUARTERED                     6358              1\n",
       "CABERNET TOMATOES                                      49657             1\n",
       "GRAPEFRUIT LILAC WATER                                 10427             1\n",
       "Name: product_id, Length: 26760, dtype: int64"
      ]
     },
     "execution_count": 41,
     "metadata": {},
     "output_type": "execute_result"
    }
   ],
   "source": [
    "conteo_produc=producto.groupby(['product_name','product_id'])['product_id'].count().sort_values(ascending=False)\n",
    "\n",
    "conteo_produc\n"
   ]
  },
  {
   "cell_type": "code",
   "execution_count": 42,
   "id": "08e41ec2",
   "metadata": {
    "id": "08e41ec2"
   },
   "outputs": [
    {
     "data": {
      "text/html": [
       "<div>\n",
       "<style scoped>\n",
       "    .dataframe tbody tr th:only-of-type {\n",
       "        vertical-align: middle;\n",
       "    }\n",
       "\n",
       "    .dataframe tbody tr th {\n",
       "        vertical-align: top;\n",
       "    }\n",
       "\n",
       "    .dataframe thead th {\n",
       "        text-align: right;\n",
       "    }\n",
       "</style>\n",
       "<table border=\"1\" class=\"dataframe\">\n",
       "  <thead>\n",
       "    <tr style=\"text-align: right;\">\n",
       "      <th></th>\n",
       "      <th>product_name</th>\n",
       "      <th>product_id</th>\n",
       "      <th>count</th>\n",
       "    </tr>\n",
       "  </thead>\n",
       "  <tbody>\n",
       "    <tr>\n",
       "      <th>0</th>\n",
       "      <td>BANANA</td>\n",
       "      <td>24852</td>\n",
       "      <td>15562</td>\n",
       "    </tr>\n",
       "    <tr>\n",
       "      <th>1</th>\n",
       "      <td>BAG OF ORGANIC BANANAS</td>\n",
       "      <td>13176</td>\n",
       "      <td>11026</td>\n",
       "    </tr>\n",
       "    <tr>\n",
       "      <th>2</th>\n",
       "      <td>ORGANIC WHOLE MILK</td>\n",
       "      <td>27845</td>\n",
       "      <td>4363</td>\n",
       "    </tr>\n",
       "    <tr>\n",
       "      <th>3</th>\n",
       "      <td>ORGANIC STRAWBERRIES</td>\n",
       "      <td>21137</td>\n",
       "      <td>3946</td>\n",
       "    </tr>\n",
       "    <tr>\n",
       "      <th>4</th>\n",
       "      <td>ORGANIC HASS AVOCADO</td>\n",
       "      <td>47209</td>\n",
       "      <td>3390</td>\n",
       "    </tr>\n",
       "    <tr>\n",
       "      <th>5</th>\n",
       "      <td>ORGANIC BABY SPINACH</td>\n",
       "      <td>21903</td>\n",
       "      <td>3336</td>\n",
       "    </tr>\n",
       "    <tr>\n",
       "      <th>6</th>\n",
       "      <td>ORGANIC AVOCADO</td>\n",
       "      <td>47766</td>\n",
       "      <td>3044</td>\n",
       "    </tr>\n",
       "    <tr>\n",
       "      <th>7</th>\n",
       "      <td>SPRING WATER</td>\n",
       "      <td>19660</td>\n",
       "      <td>2336</td>\n",
       "    </tr>\n",
       "    <tr>\n",
       "      <th>8</th>\n",
       "      <td>STRAWBERRIES</td>\n",
       "      <td>16797</td>\n",
       "      <td>2308</td>\n",
       "    </tr>\n",
       "    <tr>\n",
       "      <th>9</th>\n",
       "      <td>ORGANIC RASPBERRIES</td>\n",
       "      <td>27966</td>\n",
       "      <td>2024</td>\n",
       "    </tr>\n",
       "    <tr>\n",
       "      <th>10</th>\n",
       "      <td>SPARKLING WATER GRAPEFRUIT</td>\n",
       "      <td>44632</td>\n",
       "      <td>1914</td>\n",
       "    </tr>\n",
       "    <tr>\n",
       "      <th>11</th>\n",
       "      <td>ORGANIC HALF &amp; HALF</td>\n",
       "      <td>49235</td>\n",
       "      <td>1797</td>\n",
       "    </tr>\n",
       "    <tr>\n",
       "      <th>12</th>\n",
       "      <td>LARGE LEMON</td>\n",
       "      <td>47626</td>\n",
       "      <td>1737</td>\n",
       "    </tr>\n",
       "    <tr>\n",
       "      <th>13</th>\n",
       "      <td>SODA</td>\n",
       "      <td>196</td>\n",
       "      <td>1733</td>\n",
       "    </tr>\n",
       "    <tr>\n",
       "      <th>14</th>\n",
       "      <td>ORGANIC REDUCED FAT MILK</td>\n",
       "      <td>38689</td>\n",
       "      <td>1397</td>\n",
       "    </tr>\n",
       "    <tr>\n",
       "      <th>15</th>\n",
       "      <td>LIMES</td>\n",
       "      <td>26209</td>\n",
       "      <td>1370</td>\n",
       "    </tr>\n",
       "    <tr>\n",
       "      <th>16</th>\n",
       "      <td>HASS AVOCADOS</td>\n",
       "      <td>12341</td>\n",
       "      <td>1340</td>\n",
       "    </tr>\n",
       "    <tr>\n",
       "      <th>17</th>\n",
       "      <td>ORGANIC REDUCED FAT 2% MILK</td>\n",
       "      <td>5785</td>\n",
       "      <td>1310</td>\n",
       "    </tr>\n",
       "    <tr>\n",
       "      <th>18</th>\n",
       "      <td>HALF &amp; HALF</td>\n",
       "      <td>27086</td>\n",
       "      <td>1309</td>\n",
       "    </tr>\n",
       "    <tr>\n",
       "      <th>19</th>\n",
       "      <td>RASPBERRIES</td>\n",
       "      <td>43352</td>\n",
       "      <td>1246</td>\n",
       "    </tr>\n",
       "  </tbody>\n",
       "</table>\n",
       "</div>"
      ],
      "text/plain": [
       "                   product_name  product_id  count\n",
       "0                        BANANA       24852  15562\n",
       "1        BAG OF ORGANIC BANANAS       13176  11026\n",
       "2            ORGANIC WHOLE MILK       27845   4363\n",
       "3          ORGANIC STRAWBERRIES       21137   3946\n",
       "4          ORGANIC HASS AVOCADO       47209   3390\n",
       "5          ORGANIC BABY SPINACH       21903   3336\n",
       "6               ORGANIC AVOCADO       47766   3044\n",
       "7                  SPRING WATER       19660   2336\n",
       "8                  STRAWBERRIES       16797   2308\n",
       "9           ORGANIC RASPBERRIES       27966   2024\n",
       "10   SPARKLING WATER GRAPEFRUIT       44632   1914\n",
       "11          ORGANIC HALF & HALF       49235   1797\n",
       "12                  LARGE LEMON       47626   1737\n",
       "13                         SODA         196   1733\n",
       "14     ORGANIC REDUCED FAT MILK       38689   1397\n",
       "15                        LIMES       26209   1370\n",
       "16                HASS AVOCADOS       12341   1340\n",
       "17  ORGANIC REDUCED FAT 2% MILK        5785   1310\n",
       "18                  HALF & HALF       27086   1309\n",
       "19                  RASPBERRIES       43352   1246"
      ]
     },
     "execution_count": 42,
     "metadata": {},
     "output_type": "execute_result"
    }
   ],
   "source": [
    "produ_prin_20=conteo_produc.reset_index(name='count')\n",
    "produ_prin_20.head(20)"
   ]
  },
  {
   "cell_type": "markdown",
   "id": "28ce9872",
   "metadata": {
    "id": "28ce9872"
   },
   "source": [
    "Escribe aquí tus conclusiones"
   ]
  },
  {
   "cell_type": "markdown",
   "id": "uITbFCEoDosC",
   "metadata": {
    "id": "uITbFCEoDosC"
   },
   "source": [
    "### Conclusion general del proyecto:"
   ]
  }
 ],
 "metadata": {
  "ExecuteTimeLog": [
   {
    "duration": 510,
    "start_time": "2024-07-03T04:27:53.840Z"
   },
   {
    "duration": 34,
    "start_time": "2024-07-03T04:27:55.303Z"
   },
   {
    "duration": 7,
    "start_time": "2024-07-03T04:33:59.840Z"
   },
   {
    "duration": 872,
    "start_time": "2024-07-03T04:35:03.711Z"
   },
   {
    "duration": 624,
    "start_time": "2024-07-03T04:35:12.932Z"
   },
   {
    "duration": 4545,
    "start_time": "2024-07-03T04:35:19.810Z"
   },
   {
    "duration": 3877,
    "start_time": "2024-07-03T04:40:00.833Z"
   },
   {
    "duration": 35,
    "start_time": "2024-07-03T04:40:29.718Z"
   },
   {
    "duration": 16,
    "start_time": "2024-07-03T04:40:36.025Z"
   },
   {
    "duration": 12,
    "start_time": "2024-07-03T04:40:39.289Z"
   },
   {
    "duration": 12,
    "start_time": "2024-07-03T04:40:41.995Z"
   },
   {
    "duration": 11,
    "start_time": "2024-07-03T04:40:44.847Z"
   },
   {
    "duration": 32,
    "start_time": "2024-07-03T04:41:34.343Z"
   },
   {
    "duration": 32,
    "start_time": "2024-07-03T04:42:45.332Z"
   },
   {
    "duration": 22,
    "start_time": "2024-07-03T04:45:41.582Z"
   },
   {
    "duration": 3771,
    "start_time": "2024-07-03T04:45:58.295Z"
   },
   {
    "duration": 33,
    "start_time": "2024-07-03T04:46:02.070Z"
   },
   {
    "duration": 326,
    "start_time": "2024-07-04T00:45:58.068Z"
   },
   {
    "duration": 445,
    "start_time": "2024-07-04T00:46:31.073Z"
   },
   {
    "duration": 4000,
    "start_time": "2024-07-04T00:46:31.530Z"
   },
   {
    "duration": 31,
    "start_time": "2024-07-04T00:46:35.533Z"
   },
   {
    "duration": 15,
    "start_time": "2024-07-04T00:46:35.567Z"
   },
   {
    "duration": 51,
    "start_time": "2024-07-04T00:46:35.588Z"
   },
   {
    "duration": 18,
    "start_time": "2024-07-04T00:46:35.641Z"
   },
   {
    "duration": 12,
    "start_time": "2024-07-04T00:46:35.662Z"
   },
   {
    "duration": 306,
    "start_time": "2024-07-04T00:46:35.678Z"
   },
   {
    "duration": 3,
    "start_time": "2024-07-04T00:46:35.987Z"
   },
   {
    "duration": 4,
    "start_time": "2024-07-04T00:46:35.994Z"
   },
   {
    "duration": 29,
    "start_time": "2024-07-04T00:46:36.002Z"
   },
   {
    "duration": 4,
    "start_time": "2024-07-04T00:46:36.034Z"
   },
   {
    "duration": 4,
    "start_time": "2024-07-04T00:46:36.041Z"
   },
   {
    "duration": 4,
    "start_time": "2024-07-04T00:46:36.053Z"
   },
   {
    "duration": 4,
    "start_time": "2024-07-04T00:46:36.060Z"
   },
   {
    "duration": 4,
    "start_time": "2024-07-04T00:46:36.067Z"
   },
   {
    "duration": 3,
    "start_time": "2024-07-04T00:46:36.074Z"
   },
   {
    "duration": 3,
    "start_time": "2024-07-04T00:46:36.132Z"
   },
   {
    "duration": 3,
    "start_time": "2024-07-04T00:46:36.138Z"
   },
   {
    "duration": 5,
    "start_time": "2024-07-04T00:46:36.144Z"
   },
   {
    "duration": 5,
    "start_time": "2024-07-04T00:46:36.152Z"
   },
   {
    "duration": 4,
    "start_time": "2024-07-04T00:46:36.159Z"
   },
   {
    "duration": 4,
    "start_time": "2024-07-04T00:46:36.166Z"
   },
   {
    "duration": 59,
    "start_time": "2024-07-04T00:46:36.173Z"
   },
   {
    "duration": 3,
    "start_time": "2024-07-04T00:46:36.235Z"
   },
   {
    "duration": 5,
    "start_time": "2024-07-04T00:46:36.241Z"
   },
   {
    "duration": 4,
    "start_time": "2024-07-04T00:46:36.249Z"
   },
   {
    "duration": 4,
    "start_time": "2024-07-04T00:46:36.256Z"
   },
   {
    "duration": 4,
    "start_time": "2024-07-04T00:46:36.263Z"
   },
   {
    "duration": 3,
    "start_time": "2024-07-04T00:46:36.271Z"
   },
   {
    "duration": 3,
    "start_time": "2024-07-04T00:46:36.332Z"
   },
   {
    "duration": 3,
    "start_time": "2024-07-04T00:46:36.339Z"
   },
   {
    "duration": 3,
    "start_time": "2024-07-04T00:46:36.346Z"
   },
   {
    "duration": 4,
    "start_time": "2024-07-04T00:46:36.352Z"
   },
   {
    "duration": 267,
    "start_time": "2024-07-04T00:47:22.315Z"
   },
   {
    "duration": 524,
    "start_time": "2024-07-04T00:49:13.018Z"
   },
   {
    "duration": 501,
    "start_time": "2024-07-04T00:50:06.586Z"
   },
   {
    "duration": 513,
    "start_time": "2024-07-04T00:52:10.563Z"
   },
   {
    "duration": 514,
    "start_time": "2024-07-04T00:56:42.726Z"
   },
   {
    "duration": 541,
    "start_time": "2024-07-04T00:57:41.443Z"
   },
   {
    "duration": 509,
    "start_time": "2024-07-04T00:58:29.254Z"
   },
   {
    "duration": 1259,
    "start_time": "2024-07-04T01:29:16.076Z"
   },
   {
    "duration": 228,
    "start_time": "2024-07-04T01:30:05.139Z"
   },
   {
    "duration": 3806,
    "start_time": "2024-07-04T01:31:23.216Z"
   },
   {
    "duration": 412,
    "start_time": "2024-07-04T01:31:51.089Z"
   },
   {
    "duration": 3835,
    "start_time": "2024-07-04T01:31:51.504Z"
   },
   {
    "duration": 33,
    "start_time": "2024-07-04T01:31:55.346Z"
   },
   {
    "duration": 45,
    "start_time": "2024-07-04T01:31:55.385Z"
   },
   {
    "duration": 14,
    "start_time": "2024-07-04T01:31:55.433Z"
   },
   {
    "duration": 13,
    "start_time": "2024-07-04T01:31:55.450Z"
   },
   {
    "duration": 11,
    "start_time": "2024-07-04T01:31:55.466Z"
   },
   {
    "duration": 554,
    "start_time": "2024-07-04T01:31:55.480Z"
   },
   {
    "duration": 3,
    "start_time": "2024-07-04T01:31:56.037Z"
   },
   {
    "duration": 3,
    "start_time": "2024-07-04T01:31:56.046Z"
   },
   {
    "duration": 3,
    "start_time": "2024-07-04T01:31:56.052Z"
   },
   {
    "duration": 4,
    "start_time": "2024-07-04T01:31:56.058Z"
   },
   {
    "duration": 4,
    "start_time": "2024-07-04T01:31:56.065Z"
   },
   {
    "duration": 4,
    "start_time": "2024-07-04T01:31:56.071Z"
   },
   {
    "duration": 4,
    "start_time": "2024-07-04T01:31:56.129Z"
   },
   {
    "duration": 3,
    "start_time": "2024-07-04T01:31:56.136Z"
   },
   {
    "duration": 3,
    "start_time": "2024-07-04T01:31:56.143Z"
   },
   {
    "duration": 4,
    "start_time": "2024-07-04T01:31:56.149Z"
   },
   {
    "duration": 4,
    "start_time": "2024-07-04T01:31:56.156Z"
   },
   {
    "duration": 3,
    "start_time": "2024-07-04T01:31:56.163Z"
   },
   {
    "duration": 3,
    "start_time": "2024-07-04T01:31:56.169Z"
   },
   {
    "duration": 55,
    "start_time": "2024-07-04T01:31:56.175Z"
   },
   {
    "duration": 3,
    "start_time": "2024-07-04T01:31:56.234Z"
   },
   {
    "duration": 3,
    "start_time": "2024-07-04T01:31:56.241Z"
   },
   {
    "duration": 4,
    "start_time": "2024-07-04T01:31:56.247Z"
   },
   {
    "duration": 4,
    "start_time": "2024-07-04T01:31:56.254Z"
   },
   {
    "duration": 4,
    "start_time": "2024-07-04T01:31:56.261Z"
   },
   {
    "duration": 3,
    "start_time": "2024-07-04T01:31:56.271Z"
   },
   {
    "duration": 3,
    "start_time": "2024-07-04T01:31:56.332Z"
   },
   {
    "duration": 3,
    "start_time": "2024-07-04T01:31:56.339Z"
   },
   {
    "duration": 4,
    "start_time": "2024-07-04T01:31:56.345Z"
   },
   {
    "duration": 4,
    "start_time": "2024-07-04T01:31:56.351Z"
   },
   {
    "duration": 4,
    "start_time": "2024-07-04T01:31:56.357Z"
   },
   {
    "duration": 4,
    "start_time": "2024-07-04T01:31:56.364Z"
   },
   {
    "duration": 32,
    "start_time": "2024-07-04T01:37:21.120Z"
   },
   {
    "duration": 3833,
    "start_time": "2024-07-04T01:38:00.479Z"
   },
   {
    "duration": 36,
    "start_time": "2024-07-04T01:38:04.316Z"
   },
   {
    "duration": 1553,
    "start_time": "2024-07-04T01:54:26.869Z"
   },
   {
    "duration": 17,
    "start_time": "2024-07-04T01:54:29.095Z"
   },
   {
    "duration": 16,
    "start_time": "2024-07-04T01:54:34.716Z"
   },
   {
    "duration": 13,
    "start_time": "2024-07-04T01:54:37.221Z"
   },
   {
    "duration": 12,
    "start_time": "2024-07-04T01:54:38.785Z"
   },
   {
    "duration": 13,
    "start_time": "2024-07-04T01:54:40.778Z"
   },
   {
    "duration": 285,
    "start_time": "2024-07-04T01:54:47.483Z"
   },
   {
    "duration": 407,
    "start_time": "2024-07-04T02:32:24.270Z"
   },
   {
    "duration": 298,
    "start_time": "2024-07-04T02:33:15.418Z"
   },
   {
    "duration": 5,
    "start_time": "2024-07-04T02:37:14.601Z"
   },
   {
    "duration": 29,
    "start_time": "2024-07-04T02:37:33.378Z"
   },
   {
    "duration": 166,
    "start_time": "2024-07-04T02:46:07.117Z"
   },
   {
    "duration": 160,
    "start_time": "2024-07-04T02:46:12.022Z"
   },
   {
    "duration": 39,
    "start_time": "2024-07-04T02:46:16.421Z"
   },
   {
    "duration": 134,
    "start_time": "2024-07-04T02:46:35.772Z"
   },
   {
    "duration": 44,
    "start_time": "2024-07-04T02:47:06.787Z"
   },
   {
    "duration": 8,
    "start_time": "2024-07-04T02:48:21.305Z"
   },
   {
    "duration": 90,
    "start_time": "2024-07-04T02:48:44.824Z"
   },
   {
    "duration": 138,
    "start_time": "2024-07-04T02:48:51.055Z"
   },
   {
    "duration": 39,
    "start_time": "2024-07-04T02:48:52.514Z"
   },
   {
    "duration": 106,
    "start_time": "2024-07-04T02:49:35.383Z"
   },
   {
    "duration": 148,
    "start_time": "2024-07-04T02:49:41.092Z"
   },
   {
    "duration": 40,
    "start_time": "2024-07-04T02:49:44.605Z"
   },
   {
    "duration": 104,
    "start_time": "2024-07-04T02:54:24.773Z"
   },
   {
    "duration": 142,
    "start_time": "2024-07-04T02:54:29.447Z"
   },
   {
    "duration": 37,
    "start_time": "2024-07-04T02:54:30.867Z"
   },
   {
    "duration": 92,
    "start_time": "2024-07-04T03:00:24.229Z"
   },
   {
    "duration": 140,
    "start_time": "2024-07-04T03:00:26.912Z"
   },
   {
    "duration": 17,
    "start_time": "2024-07-04T03:01:28.152Z"
   },
   {
    "duration": 94,
    "start_time": "2024-07-04T03:01:35.288Z"
   },
   {
    "duration": 137,
    "start_time": "2024-07-04T03:01:39.261Z"
   },
   {
    "duration": 41,
    "start_time": "2024-07-04T03:01:42.226Z"
   },
   {
    "duration": 45,
    "start_time": "2024-07-04T03:02:37.663Z"
   },
   {
    "duration": 150,
    "start_time": "2024-07-04T03:02:41.316Z"
   },
   {
    "duration": 38,
    "start_time": "2024-07-04T03:02:42.469Z"
   },
   {
    "duration": 291,
    "start_time": "2024-07-04T03:09:17.783Z"
   },
   {
    "duration": 299,
    "start_time": "2024-07-04T03:10:11.455Z"
   },
   {
    "duration": 283,
    "start_time": "2024-07-04T03:11:31.458Z"
   },
   {
    "duration": 93,
    "start_time": "2024-07-04T03:13:12.828Z"
   },
   {
    "duration": 160,
    "start_time": "2024-07-04T03:13:17.489Z"
   },
   {
    "duration": 5,
    "start_time": "2024-07-04T03:15:54.117Z"
   },
   {
    "duration": 599,
    "start_time": "2024-07-04T03:16:00.012Z"
   },
   {
    "duration": 133,
    "start_time": "2024-07-04T03:16:10.350Z"
   },
   {
    "duration": 151,
    "start_time": "2024-07-04T03:19:23.447Z"
   },
   {
    "duration": 141,
    "start_time": "2024-07-04T03:19:27.835Z"
   },
   {
    "duration": 115,
    "start_time": "2024-07-04T03:21:12.311Z"
   },
   {
    "duration": 142,
    "start_time": "2024-07-04T03:21:17.138Z"
   },
   {
    "duration": 44,
    "start_time": "2024-07-04T03:21:18.485Z"
   },
   {
    "duration": 304,
    "start_time": "2024-07-04T03:22:16.015Z"
   },
   {
    "duration": 20,
    "start_time": "2024-07-04T03:22:21.201Z"
   },
   {
    "duration": 98,
    "start_time": "2024-07-04T03:22:29.338Z"
   },
   {
    "duration": 151,
    "start_time": "2024-07-04T03:22:34.342Z"
   },
   {
    "duration": 48,
    "start_time": "2024-07-04T03:22:36.752Z"
   },
   {
    "duration": 286,
    "start_time": "2024-07-04T03:26:54.019Z"
   },
   {
    "duration": 324,
    "start_time": "2024-07-04T03:27:09.895Z"
   },
   {
    "duration": 6,
    "start_time": "2024-07-04T03:27:19.560Z"
   },
   {
    "duration": 297,
    "start_time": "2024-07-04T03:27:30.318Z"
   },
   {
    "duration": 6,
    "start_time": "2024-07-04T03:27:41.833Z"
   },
   {
    "duration": 311,
    "start_time": "2024-07-04T03:27:48.621Z"
   },
   {
    "duration": 316,
    "start_time": "2024-07-04T03:28:00.870Z"
   },
   {
    "duration": 293,
    "start_time": "2024-07-04T03:28:21.090Z"
   },
   {
    "duration": 298,
    "start_time": "2024-07-04T03:28:34.835Z"
   },
   {
    "duration": 180,
    "start_time": "2024-07-04T03:29:14.110Z"
   },
   {
    "duration": 153,
    "start_time": "2024-07-04T03:29:27.442Z"
   },
   {
    "duration": 43,
    "start_time": "2024-07-04T03:29:28.586Z"
   },
   {
    "duration": 295,
    "start_time": "2024-07-04T03:29:49.783Z"
   },
   {
    "duration": 179,
    "start_time": "2024-07-04T03:29:58.598Z"
   },
   {
    "duration": 183,
    "start_time": "2024-07-04T03:30:42.299Z"
   },
   {
    "duration": 172,
    "start_time": "2024-07-04T03:30:44.904Z"
   },
   {
    "duration": 46,
    "start_time": "2024-07-04T03:30:46.555Z"
   },
   {
    "duration": 27,
    "start_time": "2024-07-04T03:32:04.335Z"
   },
   {
    "duration": 33,
    "start_time": "2024-07-04T03:32:41.574Z"
   },
   {
    "duration": 248,
    "start_time": "2024-07-04T03:33:37.278Z"
   },
   {
    "duration": 52,
    "start_time": "2024-07-04T03:33:59.064Z"
   },
   {
    "duration": 4,
    "start_time": "2024-07-04T03:34:48.318Z"
   },
   {
    "duration": 18,
    "start_time": "2024-07-04T03:34:54.882Z"
   },
   {
    "duration": 7,
    "start_time": "2024-07-04T03:35:10.640Z"
   },
   {
    "duration": 12,
    "start_time": "2024-07-04T03:36:26.988Z"
   },
   {
    "duration": 26,
    "start_time": "2024-07-04T03:39:16.478Z"
   },
   {
    "duration": 23,
    "start_time": "2024-07-04T03:39:36.635Z"
   },
   {
    "duration": 37,
    "start_time": "2024-07-04T03:41:41.095Z"
   },
   {
    "duration": 29,
    "start_time": "2024-07-04T03:42:06.723Z"
   },
   {
    "duration": 33,
    "start_time": "2024-07-04T03:42:40.611Z"
   },
   {
    "duration": 39,
    "start_time": "2024-07-04T03:45:30.499Z"
   },
   {
    "duration": 42,
    "start_time": "2024-07-04T03:47:39.327Z"
   },
   {
    "duration": 9,
    "start_time": "2024-07-04T03:50:01.528Z"
   },
   {
    "duration": 28,
    "start_time": "2024-07-04T03:51:51.568Z"
   },
   {
    "duration": 25,
    "start_time": "2024-07-04T03:52:14.044Z"
   },
   {
    "duration": 39,
    "start_time": "2024-07-04T03:52:40.157Z"
   },
   {
    "duration": 32,
    "start_time": "2024-07-04T03:53:11.495Z"
   },
   {
    "duration": 26,
    "start_time": "2024-07-04T03:53:25.190Z"
   },
   {
    "duration": 25,
    "start_time": "2024-07-04T03:53:40.536Z"
   },
   {
    "duration": 7,
    "start_time": "2024-07-04T03:53:47.634Z"
   },
   {
    "duration": 6,
    "start_time": "2024-07-04T03:53:57.568Z"
   },
   {
    "duration": 9,
    "start_time": "2024-07-04T03:54:06.162Z"
   },
   {
    "duration": 10,
    "start_time": "2024-07-04T03:54:40.390Z"
   },
   {
    "duration": 6,
    "start_time": "2024-07-04T03:55:40.435Z"
   },
   {
    "duration": 9,
    "start_time": "2024-07-04T03:55:49.961Z"
   },
   {
    "duration": 3,
    "start_time": "2024-07-04T03:57:06.795Z"
   },
   {
    "duration": 32,
    "start_time": "2024-07-04T03:57:30.689Z"
   },
   {
    "duration": 40,
    "start_time": "2024-07-04T03:57:52.687Z"
   },
   {
    "duration": 49,
    "start_time": "2024-07-04T03:58:47.992Z"
   },
   {
    "duration": 34,
    "start_time": "2024-07-04T03:59:32.356Z"
   },
   {
    "duration": 7,
    "start_time": "2024-07-04T03:59:33.986Z"
   },
   {
    "duration": 34,
    "start_time": "2024-07-04T03:59:35.896Z"
   },
   {
    "duration": 6,
    "start_time": "2024-07-04T04:02:37.473Z"
   },
   {
    "duration": 14,
    "start_time": "2024-07-04T04:03:17.192Z"
   },
   {
    "duration": 18,
    "start_time": "2024-07-04T04:04:34.657Z"
   },
   {
    "duration": 8,
    "start_time": "2024-07-04T04:04:54.759Z"
   },
   {
    "duration": 5,
    "start_time": "2024-07-04T04:05:06.168Z"
   },
   {
    "duration": 6,
    "start_time": "2024-07-04T04:05:12.849Z"
   },
   {
    "duration": 7,
    "start_time": "2024-07-04T04:06:31.247Z"
   },
   {
    "duration": 16,
    "start_time": "2024-07-04T04:07:04.654Z"
   },
   {
    "duration": 6,
    "start_time": "2024-07-04T04:07:55.058Z"
   },
   {
    "duration": 7,
    "start_time": "2024-07-04T04:08:15.721Z"
   },
   {
    "duration": 13,
    "start_time": "2024-07-04T04:08:16.889Z"
   },
   {
    "duration": 1292,
    "start_time": "2024-07-04T04:09:04.620Z"
   },
   {
    "duration": 1269,
    "start_time": "2024-07-04T04:09:34.449Z"
   },
   {
    "duration": 30,
    "start_time": "2024-07-04T04:13:40.940Z"
   },
   {
    "duration": 370,
    "start_time": "2024-07-04T04:14:09.649Z"
   },
   {
    "duration": 453,
    "start_time": "2024-07-05T02:38:51.980Z"
   },
   {
    "duration": 1761,
    "start_time": "2024-07-05T02:38:52.437Z"
   },
   {
    "duration": 26,
    "start_time": "2024-07-05T02:38:54.201Z"
   },
   {
    "duration": 21,
    "start_time": "2024-07-05T02:38:54.233Z"
   },
   {
    "duration": 17,
    "start_time": "2024-07-05T02:38:54.257Z"
   },
   {
    "duration": 48,
    "start_time": "2024-07-05T02:38:54.277Z"
   },
   {
    "duration": 12,
    "start_time": "2024-07-05T02:38:54.329Z"
   },
   {
    "duration": 373,
    "start_time": "2024-07-05T02:38:54.345Z"
   },
   {
    "duration": 27,
    "start_time": "2024-07-05T02:38:54.721Z"
   },
   {
    "duration": 205,
    "start_time": "2024-07-05T02:38:54.755Z"
   },
   {
    "duration": 186,
    "start_time": "2024-07-05T02:38:54.964Z"
   },
   {
    "duration": 45,
    "start_time": "2024-07-05T02:38:55.153Z"
   },
   {
    "duration": 37,
    "start_time": "2024-07-05T02:38:55.213Z"
   },
   {
    "duration": 9,
    "start_time": "2024-07-05T02:38:55.253Z"
   },
   {
    "duration": 64,
    "start_time": "2024-07-05T02:38:55.264Z"
   },
   {
    "duration": 4,
    "start_time": "2024-07-05T02:38:55.332Z"
   },
   {
    "duration": 11,
    "start_time": "2024-07-05T02:38:55.338Z"
   },
   {
    "duration": 11,
    "start_time": "2024-07-05T02:38:55.353Z"
   },
   {
    "duration": 49,
    "start_time": "2024-07-05T02:38:55.367Z"
   },
   {
    "duration": 9,
    "start_time": "2024-07-05T02:38:55.420Z"
   },
   {
    "duration": 1381,
    "start_time": "2024-07-05T02:38:55.432Z"
   },
   {
    "duration": 464,
    "start_time": "2024-07-05T02:38:56.816Z"
   },
   {
    "duration": 4,
    "start_time": "2024-07-05T02:38:57.283Z"
   },
   {
    "duration": 3,
    "start_time": "2024-07-05T02:38:57.291Z"
   },
   {
    "duration": 4,
    "start_time": "2024-07-05T02:38:57.314Z"
   },
   {
    "duration": 3,
    "start_time": "2024-07-05T02:38:57.323Z"
   },
   {
    "duration": 3,
    "start_time": "2024-07-05T02:38:57.329Z"
   },
   {
    "duration": 6,
    "start_time": "2024-07-05T02:38:57.341Z"
   },
   {
    "duration": 3,
    "start_time": "2024-07-05T02:38:57.350Z"
   },
   {
    "duration": 3,
    "start_time": "2024-07-05T02:38:57.361Z"
   },
   {
    "duration": 4,
    "start_time": "2024-07-05T02:38:57.412Z"
   },
   {
    "duration": 3,
    "start_time": "2024-07-05T02:38:57.420Z"
   },
   {
    "duration": 3,
    "start_time": "2024-07-05T02:38:57.427Z"
   },
   {
    "duration": 4,
    "start_time": "2024-07-05T02:38:57.434Z"
   },
   {
    "duration": 458,
    "start_time": "2024-07-07T20:57:59.224Z"
   },
   {
    "duration": 1744,
    "start_time": "2024-07-07T20:57:59.685Z"
   },
   {
    "duration": 21,
    "start_time": "2024-07-07T20:58:01.433Z"
   },
   {
    "duration": 44,
    "start_time": "2024-07-07T20:58:01.459Z"
   },
   {
    "duration": 15,
    "start_time": "2024-07-07T20:58:01.505Z"
   },
   {
    "duration": 26,
    "start_time": "2024-07-07T20:58:01.524Z"
   },
   {
    "duration": 13,
    "start_time": "2024-07-07T20:58:01.553Z"
   },
   {
    "duration": 435,
    "start_time": "2024-07-07T20:58:01.570Z"
   },
   {
    "duration": 28,
    "start_time": "2024-07-07T20:58:02.009Z"
   },
   {
    "duration": 228,
    "start_time": "2024-07-07T20:58:02.045Z"
   },
   {
    "duration": 198,
    "start_time": "2024-07-07T20:58:02.275Z"
   },
   {
    "duration": 67,
    "start_time": "2024-07-07T20:58:02.476Z"
   },
   {
    "duration": 55,
    "start_time": "2024-07-07T20:58:02.546Z"
   },
   {
    "duration": 8,
    "start_time": "2024-07-07T20:58:02.605Z"
   },
   {
    "duration": 40,
    "start_time": "2024-07-07T20:58:02.617Z"
   },
   {
    "duration": 41,
    "start_time": "2024-07-07T20:58:02.661Z"
   },
   {
    "duration": 9,
    "start_time": "2024-07-07T20:58:02.705Z"
   },
   {
    "duration": 7,
    "start_time": "2024-07-07T20:58:02.717Z"
   },
   {
    "duration": 8,
    "start_time": "2024-07-07T20:58:02.727Z"
   },
   {
    "duration": 7,
    "start_time": "2024-07-07T20:58:02.740Z"
   },
   {
    "duration": 1466,
    "start_time": "2024-07-07T20:58:02.803Z"
   },
   {
    "duration": 535,
    "start_time": "2024-07-07T20:58:04.272Z"
   },
   {
    "duration": 4,
    "start_time": "2024-07-07T20:58:04.811Z"
   },
   {
    "duration": 5,
    "start_time": "2024-07-07T20:58:04.818Z"
   },
   {
    "duration": 5,
    "start_time": "2024-07-07T20:58:04.828Z"
   },
   {
    "duration": 4,
    "start_time": "2024-07-07T20:58:04.837Z"
   },
   {
    "duration": 5,
    "start_time": "2024-07-07T20:58:04.844Z"
   },
   {
    "duration": 7,
    "start_time": "2024-07-07T20:58:04.907Z"
   },
   {
    "duration": 4,
    "start_time": "2024-07-07T20:58:04.917Z"
   },
   {
    "duration": 4,
    "start_time": "2024-07-07T20:58:04.925Z"
   },
   {
    "duration": 6,
    "start_time": "2024-07-07T20:58:04.932Z"
   },
   {
    "duration": 5,
    "start_time": "2024-07-07T20:58:04.941Z"
   },
   {
    "duration": 52,
    "start_time": "2024-07-07T20:58:04.949Z"
   },
   {
    "duration": 4,
    "start_time": "2024-07-07T20:58:05.005Z"
   },
   {
    "duration": 31,
    "start_time": "2024-07-07T20:58:30.787Z"
   },
   {
    "duration": 39,
    "start_time": "2024-07-07T20:59:56.334Z"
   },
   {
    "duration": 34,
    "start_time": "2024-07-07T21:01:21.374Z"
   },
   {
    "duration": 8,
    "start_time": "2024-07-07T21:02:33.633Z"
   },
   {
    "duration": 6,
    "start_time": "2024-07-07T21:02:52.585Z"
   },
   {
    "duration": 6,
    "start_time": "2024-07-07T21:03:00.925Z"
   },
   {
    "duration": 6,
    "start_time": "2024-07-07T21:03:08.523Z"
   },
   {
    "duration": 8,
    "start_time": "2024-07-07T21:03:13.011Z"
   },
   {
    "duration": 345,
    "start_time": "2024-07-07T21:03:23.700Z"
   },
   {
    "duration": 892,
    "start_time": "2024-07-07T21:03:32.590Z"
   },
   {
    "duration": 6,
    "start_time": "2024-07-07T21:04:24.732Z"
   },
   {
    "duration": 22,
    "start_time": "2024-07-07T21:04:57.978Z"
   },
   {
    "duration": 103,
    "start_time": "2024-07-07T21:05:22.354Z"
   },
   {
    "duration": 36,
    "start_time": "2024-07-07T21:06:07.667Z"
   },
   {
    "duration": 21,
    "start_time": "2024-07-07T21:07:52.116Z"
   },
   {
    "duration": 48,
    "start_time": "2024-07-07T21:10:33.634Z"
   },
   {
    "duration": 43,
    "start_time": "2024-07-07T21:11:22.510Z"
   },
   {
    "duration": 51,
    "start_time": "2024-07-07T21:13:45.013Z"
   },
   {
    "duration": 1576,
    "start_time": "2024-07-07T21:14:47.796Z"
   },
   {
    "duration": 7,
    "start_time": "2024-07-07T21:19:46.529Z"
   },
   {
    "duration": 745,
    "start_time": "2024-07-07T21:19:54.394Z"
   },
   {
    "duration": 411,
    "start_time": "2024-07-07T21:22:25.624Z"
   },
   {
    "duration": 397,
    "start_time": "2024-07-07T21:25:15.833Z"
   },
   {
    "duration": 265,
    "start_time": "2024-07-07T21:25:21.171Z"
   },
   {
    "duration": 27,
    "start_time": "2024-07-07T21:31:36.460Z"
   },
   {
    "duration": 37,
    "start_time": "2024-07-07T21:31:47.106Z"
   },
   {
    "duration": 11,
    "start_time": "2024-07-07T21:31:54.240Z"
   },
   {
    "duration": 84,
    "start_time": "2024-07-07T21:32:26.858Z"
   },
   {
    "duration": 22,
    "start_time": "2024-07-07T21:32:54.610Z"
   },
   {
    "duration": 18,
    "start_time": "2024-07-07T21:34:46.959Z"
   },
   {
    "duration": 23,
    "start_time": "2024-07-07T21:35:03.886Z"
   },
   {
    "duration": 6,
    "start_time": "2024-07-07T21:38:41.999Z"
   },
   {
    "duration": 6,
    "start_time": "2024-07-07T21:38:50.823Z"
   },
   {
    "duration": 7,
    "start_time": "2024-07-07T21:39:03.876Z"
   },
   {
    "duration": 6,
    "start_time": "2024-07-07T21:39:14.989Z"
   },
   {
    "duration": 119,
    "start_time": "2024-07-07T21:39:28.363Z"
   },
   {
    "duration": 99,
    "start_time": "2024-07-07T21:40:08.749Z"
   },
   {
    "duration": 13,
    "start_time": "2024-07-07T21:40:49.606Z"
   },
   {
    "duration": 17,
    "start_time": "2024-07-07T21:41:35.843Z"
   },
   {
    "duration": 27,
    "start_time": "2024-07-07T21:44:14.908Z"
   },
   {
    "duration": 10,
    "start_time": "2024-07-07T21:45:00.851Z"
   },
   {
    "duration": 13,
    "start_time": "2024-07-07T21:54:44.963Z"
   },
   {
    "duration": 14,
    "start_time": "2024-07-07T21:56:19.006Z"
   },
   {
    "duration": 6,
    "start_time": "2024-07-07T21:58:20.081Z"
   },
   {
    "duration": 6,
    "start_time": "2024-07-07T21:58:50.240Z"
   },
   {
    "duration": 6,
    "start_time": "2024-07-07T21:58:59.930Z"
   },
   {
    "duration": 22,
    "start_time": "2024-07-07T21:59:09.936Z"
   },
   {
    "duration": 13,
    "start_time": "2024-07-07T21:59:37.276Z"
   },
   {
    "duration": 458,
    "start_time": "2024-07-07T21:59:47.433Z"
   },
   {
    "duration": 1669,
    "start_time": "2024-07-07T21:59:47.894Z"
   },
   {
    "duration": 20,
    "start_time": "2024-07-07T21:59:49.566Z"
   },
   {
    "duration": 19,
    "start_time": "2024-07-07T21:59:49.604Z"
   },
   {
    "duration": 16,
    "start_time": "2024-07-07T21:59:49.627Z"
   },
   {
    "duration": 15,
    "start_time": "2024-07-07T21:59:49.647Z"
   },
   {
    "duration": 12,
    "start_time": "2024-07-07T21:59:49.704Z"
   },
   {
    "duration": 423,
    "start_time": "2024-07-07T21:59:49.720Z"
   },
   {
    "duration": 25,
    "start_time": "2024-07-07T21:59:50.147Z"
   },
   {
    "duration": 208,
    "start_time": "2024-07-07T21:59:50.202Z"
   },
   {
    "duration": 183,
    "start_time": "2024-07-07T21:59:50.413Z"
   },
   {
    "duration": 49,
    "start_time": "2024-07-07T21:59:50.602Z"
   },
   {
    "duration": 67,
    "start_time": "2024-07-07T21:59:50.654Z"
   },
   {
    "duration": 8,
    "start_time": "2024-07-07T21:59:50.724Z"
   },
   {
    "duration": 68,
    "start_time": "2024-07-07T21:59:50.735Z"
   },
   {
    "duration": 54,
    "start_time": "2024-07-07T21:59:50.806Z"
   },
   {
    "duration": 39,
    "start_time": "2024-07-07T21:59:50.863Z"
   },
   {
    "duration": 8,
    "start_time": "2024-07-07T21:59:50.905Z"
   },
   {
    "duration": 7,
    "start_time": "2024-07-07T21:59:50.916Z"
   },
   {
    "duration": 7,
    "start_time": "2024-07-07T21:59:50.927Z"
   },
   {
    "duration": 1452,
    "start_time": "2024-07-07T21:59:50.938Z"
   },
   {
    "duration": 472,
    "start_time": "2024-07-07T21:59:52.393Z"
   },
   {
    "duration": 696,
    "start_time": "2024-07-07T21:59:52.868Z"
   },
   {
    "duration": 384,
    "start_time": "2024-07-07T21:59:53.567Z"
   },
   {
    "duration": 321,
    "start_time": "2024-07-07T21:59:53.957Z"
   },
   {
    "duration": 304,
    "start_time": "2024-07-07T21:59:54.281Z"
   },
   {
    "duration": 28,
    "start_time": "2024-07-07T21:59:54.588Z"
   },
   {
    "duration": 13,
    "start_time": "2024-07-07T21:59:54.625Z"
   },
   {
    "duration": 13,
    "start_time": "2024-07-07T21:59:54.641Z"
   },
   {
    "duration": 59,
    "start_time": "2024-07-07T21:59:54.663Z"
   },
   {
    "duration": 18,
    "start_time": "2024-07-07T21:59:54.728Z"
   },
   {
    "duration": 11,
    "start_time": "2024-07-07T21:59:54.749Z"
   },
   {
    "duration": 36,
    "start_time": "2024-07-07T21:59:54.766Z"
   },
   {
    "duration": 6,
    "start_time": "2024-07-07T21:59:54.806Z"
   },
   {
    "duration": 5,
    "start_time": "2024-07-07T21:59:54.817Z"
   },
   {
    "duration": 4,
    "start_time": "2024-07-07T21:59:54.826Z"
   },
   {
    "duration": 5,
    "start_time": "2024-07-07T21:59:54.835Z"
   },
   {
    "duration": 4,
    "start_time": "2024-07-07T21:59:54.845Z"
   },
   {
    "duration": 18,
    "start_time": "2024-07-07T22:03:09.360Z"
   },
   {
    "duration": 31,
    "start_time": "2024-07-07T22:03:19.357Z"
   },
   {
    "duration": 335,
    "start_time": "2024-07-07T22:08:54.648Z"
   },
   {
    "duration": 13,
    "start_time": "2024-07-07T22:09:01.799Z"
   },
   {
    "duration": 28,
    "start_time": "2024-07-07T22:13:43.438Z"
   },
   {
    "duration": 56,
    "start_time": "2024-07-07T22:14:45.944Z"
   },
   {
    "duration": 55,
    "start_time": "2024-07-07T22:15:14.875Z"
   },
   {
    "duration": 1254,
    "start_time": "2024-07-07T22:18:56.619Z"
   },
   {
    "duration": 1957,
    "start_time": "2024-07-07T22:19:58.175Z"
   },
   {
    "duration": 2350,
    "start_time": "2024-07-07T22:20:36.076Z"
   },
   {
    "duration": 2116,
    "start_time": "2024-07-07T22:21:23.510Z"
   },
   {
    "duration": 848,
    "start_time": "2024-07-07T22:22:12.214Z"
   },
   {
    "duration": 16,
    "start_time": "2024-07-07T22:23:36.513Z"
   },
   {
    "duration": 1028,
    "start_time": "2024-07-07T22:23:45.253Z"
   },
   {
    "duration": 8,
    "start_time": "2024-07-07T22:24:21.524Z"
   },
   {
    "duration": 888,
    "start_time": "2024-07-07T22:25:33.146Z"
   },
   {
    "duration": 814,
    "start_time": "2024-07-07T22:26:09.775Z"
   },
   {
    "duration": 939,
    "start_time": "2024-07-07T22:26:28.015Z"
   },
   {
    "duration": 1252,
    "start_time": "2024-07-07T22:26:38.029Z"
   },
   {
    "duration": 1277,
    "start_time": "2024-07-07T22:27:00.195Z"
   },
   {
    "duration": 1680,
    "start_time": "2024-07-07T22:29:55.073Z"
   },
   {
    "duration": 33,
    "start_time": "2024-07-07T22:30:50.216Z"
   },
   {
    "duration": 1852,
    "start_time": "2024-07-07T22:30:55.034Z"
   },
   {
    "duration": 27,
    "start_time": "2024-07-07T22:45:23.959Z"
   },
   {
    "duration": 29,
    "start_time": "2024-07-07T22:45:44.061Z"
   },
   {
    "duration": 20,
    "start_time": "2024-07-07T22:46:41.931Z"
   },
   {
    "duration": 7,
    "start_time": "2024-07-07T22:47:59.546Z"
   },
   {
    "duration": 6,
    "start_time": "2024-07-07T22:48:05.674Z"
   },
   {
    "duration": 9,
    "start_time": "2024-07-07T22:48:20.997Z"
   },
   {
    "duration": 8,
    "start_time": "2024-07-07T22:48:33.768Z"
   },
   {
    "duration": 21,
    "start_time": "2024-07-07T22:52:34.390Z"
   },
   {
    "duration": 13,
    "start_time": "2024-07-07T22:57:13.035Z"
   },
   {
    "duration": 10,
    "start_time": "2024-07-07T23:11:35.787Z"
   },
   {
    "duration": 12,
    "start_time": "2024-07-07T23:14:09.595Z"
   },
   {
    "duration": 11,
    "start_time": "2024-07-07T23:15:18.241Z"
   },
   {
    "duration": 28,
    "start_time": "2024-07-07T23:17:18.244Z"
   },
   {
    "duration": 11,
    "start_time": "2024-07-07T23:17:35.589Z"
   },
   {
    "duration": 28,
    "start_time": "2024-07-07T23:23:56.184Z"
   },
   {
    "duration": 550,
    "start_time": "2024-07-07T23:24:12.204Z"
   },
   {
    "duration": 544,
    "start_time": "2024-07-07T23:24:56.477Z"
   },
   {
    "duration": 573,
    "start_time": "2024-07-07T23:25:09.524Z"
   },
   {
    "duration": 675,
    "start_time": "2024-07-07T23:34:33.816Z"
   },
   {
    "duration": 646,
    "start_time": "2024-07-07T23:35:44.430Z"
   },
   {
    "duration": 644,
    "start_time": "2024-07-07T23:37:49.630Z"
   },
   {
    "duration": 382,
    "start_time": "2024-07-07T23:39:08.092Z"
   },
   {
    "duration": 328,
    "start_time": "2024-07-07T23:39:38.977Z"
   },
   {
    "duration": 5,
    "start_time": "2024-07-07T23:40:26.491Z"
   },
   {
    "duration": 330,
    "start_time": "2024-07-07T23:40:32.577Z"
   },
   {
    "duration": 371,
    "start_time": "2024-07-07T23:40:42.525Z"
   },
   {
    "duration": 22,
    "start_time": "2024-07-07T23:47:34.539Z"
   },
   {
    "duration": 26,
    "start_time": "2024-07-07T23:57:59.305Z"
   },
   {
    "duration": 4,
    "start_time": "2024-07-07T23:58:08.422Z"
   },
   {
    "duration": 4,
    "start_time": "2024-07-07T23:59:03.077Z"
   },
   {
    "duration": 6,
    "start_time": "2024-07-07T23:59:46.405Z"
   },
   {
    "duration": 7,
    "start_time": "2024-07-07T23:59:48.256Z"
   },
   {
    "duration": 29,
    "start_time": "2024-07-08T00:00:03.473Z"
   },
   {
    "duration": 25,
    "start_time": "2024-07-08T00:00:14.012Z"
   },
   {
    "duration": 7,
    "start_time": "2024-07-08T00:00:36.522Z"
   },
   {
    "duration": 22,
    "start_time": "2024-07-08T00:04:17.014Z"
   },
   {
    "duration": 14,
    "start_time": "2024-07-08T00:04:51.229Z"
   },
   {
    "duration": 9,
    "start_time": "2024-07-08T00:05:44.075Z"
   },
   {
    "duration": 6,
    "start_time": "2024-07-08T00:05:54.043Z"
   },
   {
    "duration": 8,
    "start_time": "2024-07-08T00:06:00.954Z"
   },
   {
    "duration": 9,
    "start_time": "2024-07-08T00:07:30.731Z"
   },
   {
    "duration": 11,
    "start_time": "2024-07-08T00:07:50.644Z"
   },
   {
    "duration": 10,
    "start_time": "2024-07-08T00:12:29.306Z"
   },
   {
    "duration": 4014,
    "start_time": "2024-07-08T00:12:31.094Z"
   },
   {
    "duration": 4,
    "start_time": "2024-07-08T00:15:07.700Z"
   },
   {
    "duration": 748,
    "start_time": "2024-07-08T00:15:15.516Z"
   },
   {
    "duration": 1701,
    "start_time": "2024-07-08T00:15:16.268Z"
   },
   {
    "duration": 29,
    "start_time": "2024-07-08T00:15:17.972Z"
   },
   {
    "duration": 17,
    "start_time": "2024-07-08T00:15:18.005Z"
   },
   {
    "duration": 15,
    "start_time": "2024-07-08T00:15:18.027Z"
   },
   {
    "duration": 14,
    "start_time": "2024-07-08T00:15:18.046Z"
   },
   {
    "duration": 12,
    "start_time": "2024-07-08T00:15:18.101Z"
   },
   {
    "duration": 390,
    "start_time": "2024-07-08T00:15:18.117Z"
   },
   {
    "duration": 24,
    "start_time": "2024-07-08T00:15:18.510Z"
   },
   {
    "duration": 255,
    "start_time": "2024-07-08T00:15:18.537Z"
   },
   {
    "duration": 189,
    "start_time": "2024-07-08T00:15:18.794Z"
   },
   {
    "duration": 56,
    "start_time": "2024-07-08T00:15:18.986Z"
   },
   {
    "duration": 56,
    "start_time": "2024-07-08T00:15:19.045Z"
   },
   {
    "duration": 8,
    "start_time": "2024-07-08T00:15:19.109Z"
   },
   {
    "duration": 42,
    "start_time": "2024-07-08T00:15:19.120Z"
   },
   {
    "duration": 95,
    "start_time": "2024-07-08T00:15:19.166Z"
   },
   {
    "duration": 8,
    "start_time": "2024-07-08T00:15:19.264Z"
   },
   {
    "duration": 26,
    "start_time": "2024-07-08T00:15:19.275Z"
   },
   {
    "duration": 7,
    "start_time": "2024-07-08T00:15:19.305Z"
   },
   {
    "duration": 10,
    "start_time": "2024-07-08T00:15:19.316Z"
   },
   {
    "duration": 1406,
    "start_time": "2024-07-08T00:15:19.329Z"
   },
   {
    "duration": 1220,
    "start_time": "2024-07-08T00:15:20.738Z"
   },
   {
    "duration": 19,
    "start_time": "2024-07-08T00:15:21.961Z"
   },
   {
    "duration": 14,
    "start_time": "2024-07-08T00:15:22.002Z"
   },
   {
    "duration": 12,
    "start_time": "2024-07-08T00:15:22.020Z"
   },
   {
    "duration": 18,
    "start_time": "2024-07-08T00:15:22.036Z"
   },
   {
    "duration": 57,
    "start_time": "2024-07-08T00:15:22.059Z"
   },
   {
    "duration": 13,
    "start_time": "2024-07-08T00:15:22.119Z"
   },
   {
    "duration": 15,
    "start_time": "2024-07-08T00:15:22.135Z"
   },
   {
    "duration": 69,
    "start_time": "2024-07-08T00:15:22.153Z"
   },
   {
    "duration": 49,
    "start_time": "2024-07-08T00:15:22.225Z"
   },
   {
    "duration": 21,
    "start_time": "2024-07-08T00:15:22.301Z"
   },
   {
    "duration": 732,
    "start_time": "2024-07-08T00:15:22.327Z"
   },
   {
    "duration": 539,
    "start_time": "2024-07-08T00:15:23.062Z"
   },
   {
    "duration": 10,
    "start_time": "2024-07-08T00:15:23.605Z"
   },
   {
    "duration": 9,
    "start_time": "2024-07-08T00:15:23.618Z"
   },
   {
    "duration": 11,
    "start_time": "2024-07-08T00:15:23.630Z"
   },
   {
    "duration": 383,
    "start_time": "2024-07-08T00:15:23.643Z"
   },
   {
    "duration": 9,
    "start_time": "2024-07-08T00:15:24.030Z"
   },
   {
    "duration": 7,
    "start_time": "2024-07-08T00:18:36.246Z"
   },
   {
    "duration": 342,
    "start_time": "2024-07-08T00:20:42.926Z"
   },
   {
    "duration": 2362,
    "start_time": "2024-07-08T00:23:42.739Z"
   },
   {
    "duration": 240,
    "start_time": "2024-07-08T00:24:06.122Z"
   },
   {
    "duration": 11,
    "start_time": "2024-07-08T00:32:26.949Z"
   },
   {
    "duration": 13,
    "start_time": "2024-07-08T00:32:44.243Z"
   },
   {
    "duration": 406,
    "start_time": "2024-07-08T00:39:49.066Z"
   },
   {
    "duration": 391,
    "start_time": "2024-07-08T00:40:18.237Z"
   },
   {
    "duration": 452,
    "start_time": "2024-07-08T00:41:43.413Z"
   },
   {
    "duration": 6,
    "start_time": "2024-07-08T01:16:34.207Z"
   },
   {
    "duration": 24,
    "start_time": "2024-07-08T01:16:58.584Z"
   },
   {
    "duration": 356,
    "start_time": "2024-07-08T01:17:16.319Z"
   },
   {
    "duration": 7,
    "start_time": "2024-07-08T01:23:50.069Z"
   },
   {
    "duration": 13,
    "start_time": "2024-07-08T01:25:14.928Z"
   },
   {
    "duration": 35,
    "start_time": "2024-07-08T01:25:23.671Z"
   },
   {
    "duration": 13,
    "start_time": "2024-07-08T01:26:13.400Z"
   },
   {
    "duration": 8,
    "start_time": "2024-07-08T01:30:17.612Z"
   },
   {
    "duration": 24,
    "start_time": "2024-07-08T01:35:00.459Z"
   },
   {
    "duration": 27,
    "start_time": "2024-07-08T01:35:21.492Z"
   },
   {
    "duration": 8,
    "start_time": "2024-07-08T01:36:20.122Z"
   },
   {
    "duration": 6,
    "start_time": "2024-07-08T01:40:16.727Z"
   },
   {
    "duration": 448,
    "start_time": "2024-07-08T01:40:23.860Z"
   },
   {
    "duration": 416,
    "start_time": "2024-07-08T01:41:39.196Z"
   },
   {
    "duration": 463,
    "start_time": "2024-07-08T01:44:41.184Z"
   },
   {
    "duration": 604,
    "start_time": "2024-07-08T01:44:48.337Z"
   },
   {
    "duration": 411,
    "start_time": "2024-07-08T01:45:06.849Z"
   },
   {
    "duration": 374,
    "start_time": "2024-07-08T01:45:34.143Z"
   },
   {
    "duration": 269,
    "start_time": "2024-07-08T01:45:55.806Z"
   },
   {
    "duration": 345,
    "start_time": "2024-07-08T01:46:19.802Z"
   },
   {
    "duration": 396,
    "start_time": "2024-07-08T01:46:43.818Z"
   },
   {
    "duration": 14,
    "start_time": "2024-07-08T01:46:47.664Z"
   },
   {
    "duration": 15,
    "start_time": "2024-07-08T01:46:48.629Z"
   },
   {
    "duration": 9,
    "start_time": "2024-07-08T01:46:49.714Z"
   },
   {
    "duration": 447,
    "start_time": "2024-07-08T01:46:51.346Z"
   },
   {
    "duration": 5,
    "start_time": "2024-07-08T02:00:20.595Z"
   },
   {
    "duration": 26,
    "start_time": "2024-07-08T02:00:29.694Z"
   },
   {
    "duration": 20,
    "start_time": "2024-07-08T02:00:37.941Z"
   },
   {
    "duration": 10,
    "start_time": "2024-07-08T02:04:18.891Z"
   },
   {
    "duration": 12,
    "start_time": "2024-07-08T02:04:40.305Z"
   },
   {
    "duration": 1616,
    "start_time": "2024-07-08T02:08:11.919Z"
   },
   {
    "duration": 1633,
    "start_time": "2024-07-08T02:10:16.898Z"
   },
   {
    "duration": 1793,
    "start_time": "2024-07-08T02:10:37.800Z"
   },
   {
    "duration": 1619,
    "start_time": "2024-07-08T02:11:57.747Z"
   },
   {
    "duration": 1645,
    "start_time": "2024-07-08T02:12:44.889Z"
   },
   {
    "duration": 1607,
    "start_time": "2024-07-08T02:12:59.737Z"
   },
   {
    "duration": 31,
    "start_time": "2024-07-08T02:34:27.659Z"
   },
   {
    "duration": 88,
    "start_time": "2024-07-08T02:35:02.734Z"
   },
   {
    "duration": 845,
    "start_time": "2024-07-08T02:37:02.514Z"
   },
   {
    "duration": 101,
    "start_time": "2024-07-08T02:37:36.960Z"
   },
   {
    "duration": 93,
    "start_time": "2024-07-08T02:38:30.285Z"
   },
   {
    "duration": 244,
    "start_time": "2024-07-08T03:04:26.448Z"
   },
   {
    "duration": 1612,
    "start_time": "2024-07-08T03:04:49.500Z"
   },
   {
    "duration": 16,
    "start_time": "2024-07-08T03:06:40.638Z"
   },
   {
    "duration": 23,
    "start_time": "2024-07-08T03:12:57.457Z"
   },
   {
    "duration": 553,
    "start_time": "2024-07-08T03:13:10.032Z"
   },
   {
    "duration": 557,
    "start_time": "2024-07-08T03:13:36.996Z"
   },
   {
    "duration": 54,
    "start_time": "2024-07-08T03:18:47.028Z"
   },
   {
    "duration": 90,
    "start_time": "2024-07-08T03:23:32.992Z"
   },
   {
    "duration": 549,
    "start_time": "2024-07-08T03:23:40.345Z"
   },
   {
    "duration": 361,
    "start_time": "2024-07-08T03:23:42.593Z"
   },
   {
    "duration": 312,
    "start_time": "2024-07-08T03:25:00.710Z"
   },
   {
    "duration": 19,
    "start_time": "2024-07-08T03:25:29.260Z"
   },
   {
    "duration": 580,
    "start_time": "2024-07-08T03:25:30.450Z"
   },
   {
    "duration": 65,
    "start_time": "2024-07-08T03:25:33.077Z"
   },
   {
    "duration": 89,
    "start_time": "2024-07-08T03:26:52.910Z"
   },
   {
    "duration": 188,
    "start_time": "2024-07-08T03:27:20.490Z"
   },
   {
    "duration": 67,
    "start_time": "2024-07-08T03:27:29.684Z"
   },
   {
    "duration": 327,
    "start_time": "2024-07-08T03:36:27.914Z"
   },
   {
    "duration": 146,
    "start_time": "2024-07-08T03:37:44.902Z"
   },
   {
    "duration": 38,
    "start_time": "2024-07-08T03:37:59.381Z"
   },
   {
    "duration": 128,
    "start_time": "2024-07-08T03:39:49.954Z"
   },
   {
    "duration": 6,
    "start_time": "2024-07-08T03:40:19.055Z"
   },
   {
    "duration": 72,
    "start_time": "2024-07-08T03:40:24.718Z"
   },
   {
    "duration": 57,
    "start_time": "2024-07-08T03:45:38.607Z"
   },
   {
    "duration": 96,
    "start_time": "2024-07-08T03:47:31.431Z"
   },
   {
    "duration": 565,
    "start_time": "2024-07-08T03:48:09.297Z"
   },
   {
    "duration": 13,
    "start_time": "2024-07-08T03:49:11.171Z"
   },
   {
    "duration": 690,
    "start_time": "2024-07-08T03:49:19.214Z"
   },
   {
    "duration": 1595,
    "start_time": "2024-07-08T03:49:19.907Z"
   },
   {
    "duration": 18,
    "start_time": "2024-07-08T03:49:21.505Z"
   },
   {
    "duration": 17,
    "start_time": "2024-07-08T03:49:21.527Z"
   },
   {
    "duration": 14,
    "start_time": "2024-07-08T03:49:21.547Z"
   },
   {
    "duration": 13,
    "start_time": "2024-07-08T03:49:21.603Z"
   },
   {
    "duration": 12,
    "start_time": "2024-07-08T03:49:21.619Z"
   },
   {
    "duration": 380,
    "start_time": "2024-07-08T03:49:21.635Z"
   },
   {
    "duration": 22,
    "start_time": "2024-07-08T03:49:22.021Z"
   },
   {
    "duration": 206,
    "start_time": "2024-07-08T03:49:22.050Z"
   },
   {
    "duration": 190,
    "start_time": "2024-07-08T03:49:22.259Z"
   },
   {
    "duration": 57,
    "start_time": "2024-07-08T03:49:22.452Z"
   },
   {
    "duration": 35,
    "start_time": "2024-07-08T03:49:22.513Z"
   },
   {
    "duration": 7,
    "start_time": "2024-07-08T03:49:22.552Z"
   },
   {
    "duration": 71,
    "start_time": "2024-07-08T03:49:22.562Z"
   },
   {
    "duration": 67,
    "start_time": "2024-07-08T03:49:22.636Z"
   },
   {
    "duration": 8,
    "start_time": "2024-07-08T03:49:22.706Z"
   },
   {
    "duration": 8,
    "start_time": "2024-07-08T03:49:22.717Z"
   },
   {
    "duration": 9,
    "start_time": "2024-07-08T03:49:22.727Z"
   },
   {
    "duration": 7,
    "start_time": "2024-07-08T03:49:22.738Z"
   },
   {
    "duration": 1483,
    "start_time": "2024-07-08T03:49:22.748Z"
   },
   {
    "duration": 1311,
    "start_time": "2024-07-08T03:49:24.235Z"
   },
   {
    "duration": 18,
    "start_time": "2024-07-08T03:49:25.549Z"
   },
   {
    "duration": 34,
    "start_time": "2024-07-08T03:49:25.570Z"
   },
   {
    "duration": 13,
    "start_time": "2024-07-08T03:49:25.607Z"
   },
   {
    "duration": 17,
    "start_time": "2024-07-08T03:49:25.625Z"
   },
   {
    "duration": 58,
    "start_time": "2024-07-08T03:49:25.644Z"
   },
   {
    "duration": 13,
    "start_time": "2024-07-08T03:49:25.712Z"
   },
   {
    "duration": 14,
    "start_time": "2024-07-08T03:49:25.728Z"
   },
   {
    "duration": 65,
    "start_time": "2024-07-08T03:49:25.745Z"
   },
   {
    "duration": 50,
    "start_time": "2024-07-08T03:49:25.814Z"
   },
   {
    "duration": 46,
    "start_time": "2024-07-08T03:49:25.867Z"
   },
   {
    "duration": 733,
    "start_time": "2024-07-08T03:49:25.916Z"
   },
   {
    "duration": 37,
    "start_time": "2024-07-08T03:49:26.652Z"
   },
   {
    "duration": 11,
    "start_time": "2024-07-08T03:49:26.703Z"
   },
   {
    "duration": 10,
    "start_time": "2024-07-08T03:49:26.718Z"
   },
   {
    "duration": 429,
    "start_time": "2024-07-08T03:49:26.732Z"
   },
   {
    "duration": 263,
    "start_time": "2024-07-08T03:49:27.165Z"
   },
   {
    "duration": 394,
    "start_time": "2024-07-08T03:49:27.431Z"
   },
   {
    "duration": 15,
    "start_time": "2024-07-08T03:49:27.827Z"
   },
   {
    "duration": 14,
    "start_time": "2024-07-08T03:49:27.845Z"
   },
   {
    "duration": 40,
    "start_time": "2024-07-08T03:49:27.862Z"
   },
   {
    "duration": 478,
    "start_time": "2024-07-08T03:49:27.905Z"
   },
   {
    "duration": 22,
    "start_time": "2024-07-08T03:49:28.386Z"
   },
   {
    "duration": 1757,
    "start_time": "2024-07-08T03:49:28.411Z"
   },
   {
    "duration": 141,
    "start_time": "2024-07-08T03:49:30.173Z"
   },
   {
    "duration": 548,
    "start_time": "2024-07-08T03:49:30.317Z"
   },
   {
    "duration": 132,
    "start_time": "2024-07-08T03:49:30.869Z"
   },
   {
    "duration": 494,
    "start_time": "2024-07-08T03:51:39.883Z"
   },
   {
    "duration": 974,
    "start_time": "2024-07-08T03:52:25.983Z"
   },
   {
    "duration": 131,
    "start_time": "2024-07-08T03:54:10.229Z"
   },
   {
    "duration": 87,
    "start_time": "2024-07-08T03:54:35.105Z"
   },
   {
    "duration": 698,
    "start_time": "2024-07-08T03:58:07.201Z"
   },
   {
    "duration": 1574,
    "start_time": "2024-07-08T03:58:07.902Z"
   },
   {
    "duration": 26,
    "start_time": "2024-07-08T03:58:09.479Z"
   },
   {
    "duration": 16,
    "start_time": "2024-07-08T03:58:09.508Z"
   },
   {
    "duration": 13,
    "start_time": "2024-07-08T03:58:09.529Z"
   },
   {
    "duration": 13,
    "start_time": "2024-07-08T03:58:09.545Z"
   },
   {
    "duration": 12,
    "start_time": "2024-07-08T03:58:09.601Z"
   },
   {
    "duration": 367,
    "start_time": "2024-07-08T03:58:09.617Z"
   },
   {
    "duration": 32,
    "start_time": "2024-07-08T03:58:09.987Z"
   },
   {
    "duration": 200,
    "start_time": "2024-07-08T03:58:10.021Z"
   },
   {
    "duration": 180,
    "start_time": "2024-07-08T03:58:10.224Z"
   },
   {
    "duration": 42,
    "start_time": "2024-07-08T03:58:10.407Z"
   },
   {
    "duration": 57,
    "start_time": "2024-07-08T03:58:10.452Z"
   },
   {
    "duration": 7,
    "start_time": "2024-07-08T03:58:10.516Z"
   },
   {
    "duration": 41,
    "start_time": "2024-07-08T03:58:10.526Z"
   },
   {
    "duration": 76,
    "start_time": "2024-07-08T03:58:10.570Z"
   },
   {
    "duration": 7,
    "start_time": "2024-07-08T03:58:10.651Z"
   },
   {
    "duration": 7,
    "start_time": "2024-07-08T03:58:10.661Z"
   },
   {
    "duration": 8,
    "start_time": "2024-07-08T03:58:10.703Z"
   },
   {
    "duration": 8,
    "start_time": "2024-07-08T03:58:10.715Z"
   },
   {
    "duration": 1371,
    "start_time": "2024-07-08T03:58:10.726Z"
   },
   {
    "duration": 1178,
    "start_time": "2024-07-08T03:58:12.103Z"
   },
   {
    "duration": 28,
    "start_time": "2024-07-08T03:58:13.284Z"
   },
   {
    "duration": 12,
    "start_time": "2024-07-08T03:58:13.315Z"
   },
   {
    "duration": 13,
    "start_time": "2024-07-08T03:58:13.330Z"
   },
   {
    "duration": 17,
    "start_time": "2024-07-08T03:58:13.346Z"
   },
   {
    "duration": 15,
    "start_time": "2024-07-08T03:58:13.403Z"
   },
   {
    "duration": 12,
    "start_time": "2024-07-08T03:58:13.420Z"
   },
   {
    "duration": 10,
    "start_time": "2024-07-08T03:58:13.435Z"
   },
   {
    "duration": 74,
    "start_time": "2024-07-08T03:58:13.448Z"
   },
   {
    "duration": 48,
    "start_time": "2024-07-08T03:58:13.525Z"
   },
   {
    "duration": 40,
    "start_time": "2024-07-08T03:58:13.576Z"
   },
   {
    "duration": 667,
    "start_time": "2024-07-08T03:58:13.619Z"
   },
   {
    "duration": 45,
    "start_time": "2024-07-08T03:58:14.288Z"
   },
   {
    "duration": 9,
    "start_time": "2024-07-08T03:58:14.335Z"
   },
   {
    "duration": 9,
    "start_time": "2024-07-08T03:58:14.347Z"
   },
   {
    "duration": 383,
    "start_time": "2024-07-08T03:58:14.360Z"
   },
   {
    "duration": 220,
    "start_time": "2024-07-08T03:58:14.746Z"
   },
   {
    "duration": 377,
    "start_time": "2024-07-08T03:58:14.969Z"
   },
   {
    "duration": 15,
    "start_time": "2024-07-08T03:58:15.350Z"
   },
   {
    "duration": 37,
    "start_time": "2024-07-08T03:58:15.374Z"
   },
   {
    "duration": 8,
    "start_time": "2024-07-08T03:58:15.414Z"
   },
   {
    "duration": 435,
    "start_time": "2024-07-08T03:58:15.425Z"
   },
   {
    "duration": 12,
    "start_time": "2024-07-08T03:58:15.863Z"
   },
   {
    "duration": 1637,
    "start_time": "2024-07-08T03:58:15.879Z"
   },
   {
    "duration": 122,
    "start_time": "2024-07-08T03:58:17.520Z"
   },
   {
    "duration": 525,
    "start_time": "2024-07-08T03:58:17.645Z"
   },
   {
    "duration": 116,
    "start_time": "2024-07-08T03:58:18.173Z"
   },
   {
    "duration": 314,
    "start_time": "2024-07-08T04:01:44.189Z"
   },
   {
    "duration": 706,
    "start_time": "2024-07-08T04:02:02.114Z"
   },
   {
    "duration": 1729,
    "start_time": "2024-07-08T04:02:02.823Z"
   },
   {
    "duration": 18,
    "start_time": "2024-07-08T04:02:04.555Z"
   },
   {
    "duration": 37,
    "start_time": "2024-07-08T04:02:04.575Z"
   },
   {
    "duration": 14,
    "start_time": "2024-07-08T04:02:04.618Z"
   },
   {
    "duration": 15,
    "start_time": "2024-07-08T04:02:04.634Z"
   },
   {
    "duration": 51,
    "start_time": "2024-07-08T04:02:04.652Z"
   },
   {
    "duration": 364,
    "start_time": "2024-07-08T04:02:04.706Z"
   },
   {
    "duration": 36,
    "start_time": "2024-07-08T04:02:05.073Z"
   },
   {
    "duration": 194,
    "start_time": "2024-07-08T04:02:05.112Z"
   },
   {
    "duration": 178,
    "start_time": "2024-07-08T04:02:05.309Z"
   },
   {
    "duration": 56,
    "start_time": "2024-07-08T04:02:05.490Z"
   },
   {
    "duration": 52,
    "start_time": "2024-07-08T04:02:05.549Z"
   },
   {
    "duration": 8,
    "start_time": "2024-07-08T04:02:05.609Z"
   },
   {
    "duration": 41,
    "start_time": "2024-07-08T04:02:05.621Z"
   },
   {
    "duration": 80,
    "start_time": "2024-07-08T04:02:05.665Z"
   },
   {
    "duration": 7,
    "start_time": "2024-07-08T04:02:05.748Z"
   },
   {
    "duration": 6,
    "start_time": "2024-07-08T04:02:05.759Z"
   },
   {
    "duration": 38,
    "start_time": "2024-07-08T04:02:05.768Z"
   },
   {
    "duration": 7,
    "start_time": "2024-07-08T04:02:05.810Z"
   },
   {
    "duration": 1458,
    "start_time": "2024-07-08T04:02:05.821Z"
   },
   {
    "duration": 1195,
    "start_time": "2024-07-08T04:02:07.282Z"
   },
   {
    "duration": 27,
    "start_time": "2024-07-08T04:02:08.480Z"
   },
   {
    "duration": 14,
    "start_time": "2024-07-08T04:02:08.510Z"
   },
   {
    "duration": 13,
    "start_time": "2024-07-08T04:02:08.527Z"
   },
   {
    "duration": 60,
    "start_time": "2024-07-08T04:02:08.543Z"
   },
   {
    "duration": 14,
    "start_time": "2024-07-08T04:02:08.606Z"
   },
   {
    "duration": 11,
    "start_time": "2024-07-08T04:02:08.623Z"
   },
   {
    "duration": 11,
    "start_time": "2024-07-08T04:02:08.637Z"
   },
   {
    "duration": 69,
    "start_time": "2024-07-08T04:02:08.651Z"
   },
   {
    "duration": 48,
    "start_time": "2024-07-08T04:02:08.723Z"
   },
   {
    "duration": 45,
    "start_time": "2024-07-08T04:02:08.774Z"
   },
   {
    "duration": 677,
    "start_time": "2024-07-08T04:02:08.824Z"
   },
   {
    "duration": 37,
    "start_time": "2024-07-08T04:02:09.505Z"
   },
   {
    "duration": 9,
    "start_time": "2024-07-08T04:02:09.544Z"
   },
   {
    "duration": 46,
    "start_time": "2024-07-08T04:02:09.556Z"
   },
   {
    "duration": 363,
    "start_time": "2024-07-08T04:02:09.605Z"
   },
   {
    "duration": 222,
    "start_time": "2024-07-08T04:02:09.971Z"
   },
   {
    "duration": 384,
    "start_time": "2024-07-08T04:02:10.201Z"
   },
   {
    "duration": 19,
    "start_time": "2024-07-08T04:02:10.588Z"
   },
   {
    "duration": 14,
    "start_time": "2024-07-08T04:02:10.618Z"
   },
   {
    "duration": 9,
    "start_time": "2024-07-08T04:02:10.635Z"
   },
   {
    "duration": 443,
    "start_time": "2024-07-08T04:02:10.648Z"
   },
   {
    "duration": 12,
    "start_time": "2024-07-08T04:02:11.103Z"
   },
   {
    "duration": 1645,
    "start_time": "2024-07-08T04:02:11.120Z"
   },
   {
    "duration": 117,
    "start_time": "2024-07-08T04:02:12.768Z"
   },
   {
    "duration": 519,
    "start_time": "2024-07-08T04:02:12.888Z"
   },
   {
    "duration": 95,
    "start_time": "2024-07-08T04:02:13.410Z"
   },
   {
    "duration": 1859,
    "start_time": "2024-07-08T04:02:13.509Z"
   },
   {
    "duration": 122,
    "start_time": "2024-07-08T04:03:32.647Z"
   },
   {
    "duration": 92,
    "start_time": "2024-07-08T04:03:51.764Z"
   },
   {
    "duration": 600,
    "start_time": "2024-07-08T04:04:42.444Z"
   },
   {
    "duration": 701,
    "start_time": "2024-07-08T04:10:10.125Z"
   },
   {
    "duration": 1746,
    "start_time": "2024-07-08T04:10:10.829Z"
   },
   {
    "duration": 31,
    "start_time": "2024-07-08T04:10:12.578Z"
   },
   {
    "duration": 21,
    "start_time": "2024-07-08T04:10:12.617Z"
   },
   {
    "duration": 16,
    "start_time": "2024-07-08T04:10:12.644Z"
   },
   {
    "duration": 42,
    "start_time": "2024-07-08T04:10:12.667Z"
   },
   {
    "duration": 13,
    "start_time": "2024-07-08T04:10:12.713Z"
   },
   {
    "duration": 373,
    "start_time": "2024-07-08T04:10:12.728Z"
   },
   {
    "duration": 23,
    "start_time": "2024-07-08T04:10:13.106Z"
   },
   {
    "duration": 210,
    "start_time": "2024-07-08T04:10:13.135Z"
   },
   {
    "duration": 173,
    "start_time": "2024-07-08T04:10:13.347Z"
   },
   {
    "duration": 46,
    "start_time": "2024-07-08T04:10:13.524Z"
   },
   {
    "duration": 53,
    "start_time": "2024-07-08T04:10:13.572Z"
   },
   {
    "duration": 7,
    "start_time": "2024-07-08T04:10:13.628Z"
   },
   {
    "duration": 76,
    "start_time": "2024-07-08T04:10:13.638Z"
   },
   {
    "duration": 57,
    "start_time": "2024-07-08T04:10:13.718Z"
   },
   {
    "duration": 28,
    "start_time": "2024-07-08T04:10:13.778Z"
   },
   {
    "duration": 6,
    "start_time": "2024-07-08T04:10:13.810Z"
   },
   {
    "duration": 9,
    "start_time": "2024-07-08T04:10:13.819Z"
   },
   {
    "duration": 7,
    "start_time": "2024-07-08T04:10:13.831Z"
   },
   {
    "duration": 1404,
    "start_time": "2024-07-08T04:10:13.841Z"
   },
   {
    "duration": 1222,
    "start_time": "2024-07-08T04:10:15.249Z"
   },
   {
    "duration": 29,
    "start_time": "2024-07-08T04:10:16.474Z"
   },
   {
    "duration": 15,
    "start_time": "2024-07-08T04:10:16.506Z"
   },
   {
    "duration": 12,
    "start_time": "2024-07-08T04:10:16.524Z"
   },
   {
    "duration": 17,
    "start_time": "2024-07-08T04:10:16.539Z"
   },
   {
    "duration": 51,
    "start_time": "2024-07-08T04:10:16.558Z"
   },
   {
    "duration": 11,
    "start_time": "2024-07-08T04:10:16.619Z"
   },
   {
    "duration": 12,
    "start_time": "2024-07-08T04:10:16.633Z"
   },
   {
    "duration": 76,
    "start_time": "2024-07-08T04:10:16.648Z"
   },
   {
    "duration": 50,
    "start_time": "2024-07-08T04:10:16.727Z"
   },
   {
    "duration": 38,
    "start_time": "2024-07-08T04:10:16.780Z"
   },
   {
    "duration": 672,
    "start_time": "2024-07-08T04:10:16.821Z"
   },
   {
    "duration": 37,
    "start_time": "2024-07-08T04:10:17.501Z"
   },
   {
    "duration": 10,
    "start_time": "2024-07-08T04:10:17.541Z"
   },
   {
    "duration": 10,
    "start_time": "2024-07-08T04:10:17.554Z"
   },
   {
    "duration": 384,
    "start_time": "2024-07-08T04:10:17.567Z"
   },
   {
    "duration": 237,
    "start_time": "2024-07-08T04:10:17.954Z"
   },
   {
    "duration": 391,
    "start_time": "2024-07-08T04:10:18.194Z"
   },
   {
    "duration": 25,
    "start_time": "2024-07-08T04:10:18.588Z"
   },
   {
    "duration": 12,
    "start_time": "2024-07-08T04:10:18.616Z"
   },
   {
    "duration": 8,
    "start_time": "2024-07-08T04:10:18.632Z"
   },
   {
    "duration": 448,
    "start_time": "2024-07-08T04:10:18.643Z"
   },
   {
    "duration": 17,
    "start_time": "2024-07-08T04:10:19.094Z"
   },
   {
    "duration": 1680,
    "start_time": "2024-07-08T04:10:19.114Z"
   },
   {
    "duration": 104,
    "start_time": "2024-07-08T04:10:20.800Z"
   },
   {
    "duration": 536,
    "start_time": "2024-07-08T04:10:20.907Z"
   },
   {
    "duration": 118,
    "start_time": "2024-07-08T04:10:21.445Z"
   },
   {
    "duration": 1833,
    "start_time": "2024-07-08T04:10:21.566Z"
   },
   {
    "duration": 91,
    "start_time": "2024-07-08T04:11:50.075Z"
   },
   {
    "duration": 89,
    "start_time": "2024-07-08T04:12:53.692Z"
   },
   {
    "duration": 97,
    "start_time": "2024-07-08T04:13:06.192Z"
   },
   {
    "duration": 101,
    "start_time": "2024-07-08T04:13:17.512Z"
   },
   {
    "duration": 124,
    "start_time": "2024-07-08T04:38:36.110Z"
   },
   {
    "duration": 106,
    "start_time": "2024-07-08T04:39:17.552Z"
   },
   {
    "duration": 100,
    "start_time": "2024-07-08T04:39:36.809Z"
   },
   {
    "duration": 124,
    "start_time": "2024-07-08T04:40:33.749Z"
   },
   {
    "duration": 108,
    "start_time": "2024-07-08T04:49:16.137Z"
   },
   {
    "duration": 98,
    "start_time": "2024-07-08T04:49:47.647Z"
   },
   {
    "duration": 101,
    "start_time": "2024-07-08T04:50:10.962Z"
   },
   {
    "duration": 121,
    "start_time": "2024-07-08T04:50:34.812Z"
   },
   {
    "duration": 99,
    "start_time": "2024-07-08T04:50:46.939Z"
   },
   {
    "duration": 109,
    "start_time": "2024-07-08T04:51:10.037Z"
   },
   {
    "duration": 97,
    "start_time": "2024-07-08T04:51:45.369Z"
   },
   {
    "duration": 101,
    "start_time": "2024-07-08T04:52:02.918Z"
   },
   {
    "duration": 14,
    "start_time": "2024-07-08T04:52:18.805Z"
   },
   {
    "duration": 96,
    "start_time": "2024-07-08T04:52:29.298Z"
   },
   {
    "duration": 13,
    "start_time": "2024-07-08T05:07:58.866Z"
   },
   {
    "duration": 904,
    "start_time": "2024-07-08T05:09:02.836Z"
   },
   {
    "duration": 7,
    "start_time": "2024-07-08T05:09:23.858Z"
   },
   {
    "duration": 8,
    "start_time": "2024-07-08T05:09:56.485Z"
   },
   {
    "duration": 6,
    "start_time": "2024-07-08T05:10:04.700Z"
   },
   {
    "duration": 76,
    "start_time": "2024-07-08T05:10:10.084Z"
   },
   {
    "duration": 21,
    "start_time": "2024-07-08T05:11:13.735Z"
   },
   {
    "duration": 4248,
    "start_time": "2024-07-09T01:10:21.828Z"
   },
   {
    "duration": 1672,
    "start_time": "2024-07-09T01:10:26.079Z"
   },
   {
    "duration": 22,
    "start_time": "2024-07-09T01:10:27.754Z"
   },
   {
    "duration": 16,
    "start_time": "2024-07-09T01:10:27.779Z"
   },
   {
    "duration": 14,
    "start_time": "2024-07-09T01:10:27.801Z"
   },
   {
    "duration": 59,
    "start_time": "2024-07-09T01:10:27.817Z"
   },
   {
    "duration": 13,
    "start_time": "2024-07-09T01:10:27.879Z"
   },
   {
    "duration": 372,
    "start_time": "2024-07-09T01:10:27.896Z"
   },
   {
    "duration": 25,
    "start_time": "2024-07-09T01:10:28.271Z"
   },
   {
    "duration": 202,
    "start_time": "2024-07-09T01:10:28.299Z"
   },
   {
    "duration": 172,
    "start_time": "2024-07-09T01:10:28.504Z"
   },
   {
    "duration": 46,
    "start_time": "2024-07-09T01:10:28.679Z"
   },
   {
    "duration": 61,
    "start_time": "2024-07-09T01:10:28.728Z"
   },
   {
    "duration": 7,
    "start_time": "2024-07-09T01:10:28.796Z"
   },
   {
    "duration": 63,
    "start_time": "2024-07-09T01:10:28.806Z"
   },
   {
    "duration": 49,
    "start_time": "2024-07-09T01:10:28.871Z"
   },
   {
    "duration": 7,
    "start_time": "2024-07-09T01:10:28.924Z"
   },
   {
    "duration": 6,
    "start_time": "2024-07-09T01:10:28.967Z"
   },
   {
    "duration": 8,
    "start_time": "2024-07-09T01:10:28.976Z"
   },
   {
    "duration": 7,
    "start_time": "2024-07-09T01:10:28.987Z"
   },
   {
    "duration": 1375,
    "start_time": "2024-07-09T01:10:28.997Z"
   },
   {
    "duration": 1126,
    "start_time": "2024-07-09T01:10:30.375Z"
   },
   {
    "duration": 19,
    "start_time": "2024-07-09T01:10:31.504Z"
   },
   {
    "duration": 42,
    "start_time": "2024-07-09T01:10:31.526Z"
   },
   {
    "duration": 13,
    "start_time": "2024-07-09T01:10:31.571Z"
   },
   {
    "duration": 19,
    "start_time": "2024-07-09T01:10:31.586Z"
   },
   {
    "duration": 15,
    "start_time": "2024-07-09T01:10:31.608Z"
   },
   {
    "duration": 49,
    "start_time": "2024-07-09T01:10:31.627Z"
   },
   {
    "duration": 13,
    "start_time": "2024-07-09T01:10:31.678Z"
   },
   {
    "duration": 28,
    "start_time": "2024-07-09T01:10:31.694Z"
   },
   {
    "duration": 91,
    "start_time": "2024-07-09T01:10:31.725Z"
   },
   {
    "duration": 21,
    "start_time": "2024-07-09T01:10:31.819Z"
   },
   {
    "duration": 674,
    "start_time": "2024-07-09T01:10:31.843Z"
   },
   {
    "duration": 47,
    "start_time": "2024-07-09T01:10:32.520Z"
   },
   {
    "duration": 10,
    "start_time": "2024-07-09T01:10:32.571Z"
   },
   {
    "duration": 10,
    "start_time": "2024-07-09T01:10:32.585Z"
   },
   {
    "duration": 380,
    "start_time": "2024-07-09T01:10:32.598Z"
   },
   {
    "duration": 272,
    "start_time": "2024-07-09T01:10:32.983Z"
   },
   {
    "duration": 388,
    "start_time": "2024-07-09T01:10:33.258Z"
   },
   {
    "duration": 24,
    "start_time": "2024-07-09T01:10:33.649Z"
   },
   {
    "duration": 12,
    "start_time": "2024-07-09T01:10:33.683Z"
   },
   {
    "duration": 9,
    "start_time": "2024-07-09T01:10:33.698Z"
   },
   {
    "duration": 427,
    "start_time": "2024-07-09T01:10:33.710Z"
   },
   {
    "duration": 27,
    "start_time": "2024-07-09T01:10:34.140Z"
   },
   {
    "duration": 1582,
    "start_time": "2024-07-09T01:10:34.170Z"
   },
   {
    "duration": 17,
    "start_time": "2024-07-09T01:10:35.754Z"
   },
   {
    "duration": 103,
    "start_time": "2024-07-09T01:10:35.774Z"
   },
   {
    "duration": 22,
    "start_time": "2024-07-09T01:10:35.880Z"
   },
   {
    "duration": 22,
    "start_time": "2024-07-09T01:11:23.783Z"
   },
   {
    "duration": 8,
    "start_time": "2024-07-09T01:12:23.449Z"
   },
   {
    "duration": 134,
    "start_time": "2024-07-09T01:15:37.233Z"
   },
   {
    "duration": 17,
    "start_time": "2024-07-09T01:15:58.132Z"
   },
   {
    "duration": 127,
    "start_time": "2024-07-09T01:17:00.085Z"
   },
   {
    "duration": 146,
    "start_time": "2024-07-09T01:20:20.993Z"
   },
   {
    "duration": 94,
    "start_time": "2024-07-09T01:22:05.060Z"
   },
   {
    "duration": 82,
    "start_time": "2024-07-09T01:22:23.395Z"
   },
   {
    "duration": 77,
    "start_time": "2024-07-09T01:22:44.162Z"
   },
   {
    "duration": 357,
    "start_time": "2024-07-09T01:25:24.161Z"
   },
   {
    "duration": 88,
    "start_time": "2024-07-09T01:25:54.782Z"
   },
   {
    "duration": 89,
    "start_time": "2024-07-09T01:26:42.437Z"
   },
   {
    "duration": 109,
    "start_time": "2024-07-09T01:26:57.788Z"
   },
   {
    "duration": 94,
    "start_time": "2024-07-09T01:30:15.033Z"
   },
   {
    "duration": 89,
    "start_time": "2024-07-09T01:30:46.175Z"
   },
   {
    "duration": 95,
    "start_time": "2024-07-09T01:31:02.665Z"
   },
   {
    "duration": 96,
    "start_time": "2024-07-09T01:31:16.734Z"
   },
   {
    "duration": 92,
    "start_time": "2024-07-09T01:31:26.369Z"
   },
   {
    "duration": 86,
    "start_time": "2024-07-09T01:31:38.711Z"
   },
   {
    "duration": 20,
    "start_time": "2024-07-09T01:32:44.836Z"
   },
   {
    "duration": 39,
    "start_time": "2024-07-09T01:33:55.502Z"
   },
   {
    "duration": 37,
    "start_time": "2024-07-09T01:34:10.932Z"
   },
   {
    "duration": 40,
    "start_time": "2024-07-09T01:34:48.985Z"
   },
   {
    "duration": 7,
    "start_time": "2024-07-09T01:35:08.081Z"
   },
   {
    "duration": 5,
    "start_time": "2024-07-09T01:35:17.145Z"
   },
   {
    "duration": 77,
    "start_time": "2024-07-09T01:35:56.053Z"
   },
   {
    "duration": 6,
    "start_time": "2024-07-09T01:35:57.475Z"
   },
   {
    "duration": 74,
    "start_time": "2024-07-09T01:36:25.616Z"
   },
   {
    "duration": 27,
    "start_time": "2024-07-09T01:36:26.961Z"
   },
   {
    "duration": 5,
    "start_time": "2024-07-09T01:37:23.471Z"
   },
   {
    "duration": 29,
    "start_time": "2024-07-09T01:37:28.380Z"
   },
   {
    "duration": 25,
    "start_time": "2024-07-09T01:37:45.987Z"
   },
   {
    "duration": 6,
    "start_time": "2024-07-09T01:38:51.870Z"
   },
   {
    "duration": 266,
    "start_time": "2024-07-09T01:39:02.864Z"
   },
   {
    "duration": 444,
    "start_time": "2024-07-09T01:39:19.512Z"
   },
   {
    "duration": 33,
    "start_time": "2024-07-09T01:41:19.230Z"
   },
   {
    "duration": 17,
    "start_time": "2024-07-09T01:42:06.000Z"
   },
   {
    "duration": 31,
    "start_time": "2024-07-09T01:42:54.006Z"
   },
   {
    "duration": 12,
    "start_time": "2024-07-09T01:43:42.048Z"
   },
   {
    "duration": 17,
    "start_time": "2024-07-09T01:44:03.583Z"
   },
   {
    "duration": 31,
    "start_time": "2024-07-09T01:44:13.607Z"
   },
   {
    "duration": 32,
    "start_time": "2024-07-09T01:44:41.954Z"
   },
   {
    "duration": 14,
    "start_time": "2024-07-09T01:45:00.299Z"
   },
   {
    "duration": 5,
    "start_time": "2024-07-09T01:45:27.296Z"
   },
   {
    "duration": 32,
    "start_time": "2024-07-09T01:45:33.520Z"
   },
   {
    "duration": 33,
    "start_time": "2024-07-09T01:45:48.634Z"
   },
   {
    "duration": 6,
    "start_time": "2024-07-09T01:47:09.893Z"
   },
   {
    "duration": 26,
    "start_time": "2024-07-09T01:48:37.975Z"
   },
   {
    "duration": 8,
    "start_time": "2024-07-09T01:48:53.069Z"
   },
   {
    "duration": 7,
    "start_time": "2024-07-09T01:50:58.922Z"
   },
   {
    "duration": 7,
    "start_time": "2024-07-09T01:51:21.842Z"
   },
   {
    "duration": 6,
    "start_time": "2024-07-09T01:51:31.837Z"
   },
   {
    "duration": 79,
    "start_time": "2024-07-09T01:53:12.657Z"
   },
   {
    "duration": 109,
    "start_time": "2024-07-09T01:53:44.709Z"
   },
   {
    "duration": 34,
    "start_time": "2024-07-09T01:53:54.430Z"
   },
   {
    "duration": 8,
    "start_time": "2024-07-09T01:54:03.307Z"
   },
   {
    "duration": 34,
    "start_time": "2024-07-09T01:54:17.178Z"
   },
   {
    "duration": 35,
    "start_time": "2024-07-09T01:57:46.170Z"
   },
   {
    "duration": 34,
    "start_time": "2024-07-09T01:58:07.737Z"
   },
   {
    "duration": 23,
    "start_time": "2024-07-09T01:58:29.092Z"
   },
   {
    "duration": 33,
    "start_time": "2024-07-09T02:02:11.125Z"
   },
   {
    "duration": 12,
    "start_time": "2024-07-09T02:02:58.113Z"
   },
   {
    "duration": 85,
    "start_time": "2024-07-09T02:03:00.342Z"
   },
   {
    "duration": 18,
    "start_time": "2024-07-09T02:04:24.701Z"
   },
   {
    "duration": 23,
    "start_time": "2024-07-09T02:05:21.290Z"
   },
   {
    "duration": 33,
    "start_time": "2024-07-09T02:05:57.961Z"
   },
   {
    "duration": 8,
    "start_time": "2024-07-09T02:06:08.660Z"
   },
   {
    "duration": 23,
    "start_time": "2024-07-09T02:06:21.057Z"
   },
   {
    "duration": 25,
    "start_time": "2024-07-09T02:06:35.066Z"
   },
   {
    "duration": 22,
    "start_time": "2024-07-09T02:07:05.245Z"
   },
   {
    "duration": 23,
    "start_time": "2024-07-09T02:07:24.649Z"
   },
   {
    "duration": 89,
    "start_time": "2024-07-09T02:08:06.826Z"
   },
   {
    "duration": 74,
    "start_time": "2024-07-09T02:08:21.482Z"
   },
   {
    "duration": 22,
    "start_time": "2024-07-09T02:08:24.883Z"
   },
   {
    "duration": 74,
    "start_time": "2024-07-09T02:15:24.770Z"
   },
   {
    "duration": 13,
    "start_time": "2024-07-09T02:15:37.693Z"
   },
   {
    "duration": 7,
    "start_time": "2024-07-09T02:15:56.174Z"
   },
   {
    "duration": 11,
    "start_time": "2024-07-09T02:46:34.608Z"
   },
   {
    "duration": 75,
    "start_time": "2024-07-09T02:46:35.939Z"
   },
   {
    "duration": 201,
    "start_time": "2024-07-09T02:47:43.157Z"
   },
   {
    "duration": 52,
    "start_time": "2024-07-09T02:48:07.803Z"
   },
   {
    "duration": 76,
    "start_time": "2024-07-09T02:48:14.521Z"
   },
   {
    "duration": 76,
    "start_time": "2024-07-09T02:51:53.793Z"
   },
   {
    "duration": 22,
    "start_time": "2024-07-09T02:53:43.141Z"
   },
   {
    "duration": 518,
    "start_time": "2024-07-09T02:53:51.714Z"
   },
   {
    "duration": 7,
    "start_time": "2024-07-09T02:54:14.997Z"
   },
   {
    "duration": 30,
    "start_time": "2024-07-09T03:02:09.223Z"
   },
   {
    "duration": 30,
    "start_time": "2024-07-09T03:02:18.478Z"
   },
   {
    "duration": 11,
    "start_time": "2024-07-09T03:04:02.209Z"
   },
   {
    "duration": 79,
    "start_time": "2024-07-09T03:04:35.369Z"
   },
   {
    "duration": 7,
    "start_time": "2024-07-09T03:04:39.243Z"
   },
   {
    "duration": 7,
    "start_time": "2024-07-09T03:06:03.956Z"
   },
   {
    "duration": 80,
    "start_time": "2024-07-09T03:06:19.832Z"
   },
   {
    "duration": 7,
    "start_time": "2024-07-09T03:06:33.328Z"
   },
   {
    "duration": 1225,
    "start_time": "2024-07-09T03:12:39.578Z"
   },
   {
    "duration": 750,
    "start_time": "2024-07-09T03:17:10.258Z"
   },
   {
    "duration": 83,
    "start_time": "2024-07-09T03:17:42.344Z"
   },
   {
    "duration": 135,
    "start_time": "2024-07-09T03:17:52.481Z"
   },
   {
    "duration": 18,
    "start_time": "2024-07-09T03:21:06.212Z"
   },
   {
    "duration": 11,
    "start_time": "2024-07-09T03:22:36.824Z"
   },
   {
    "duration": 27,
    "start_time": "2024-07-09T03:22:48.577Z"
   },
   {
    "duration": 1225,
    "start_time": "2024-07-09T03:26:01.252Z"
   },
   {
    "duration": 1193,
    "start_time": "2024-07-09T03:28:51.524Z"
   },
   {
    "duration": 29,
    "start_time": "2024-07-09T03:32:25.847Z"
   },
   {
    "duration": 14,
    "start_time": "2024-07-09T03:32:43.813Z"
   },
   {
    "duration": 8,
    "start_time": "2024-07-09T03:34:23.952Z"
   },
   {
    "duration": 10,
    "start_time": "2024-07-09T03:35:25.535Z"
   },
   {
    "duration": 8,
    "start_time": "2024-07-09T03:35:52.341Z"
   },
   {
    "duration": 12,
    "start_time": "2024-07-09T03:36:11.419Z"
   },
   {
    "duration": 9,
    "start_time": "2024-07-09T03:36:17.064Z"
   },
   {
    "duration": 1196,
    "start_time": "2024-07-09T03:36:46.965Z"
   },
   {
    "duration": 9,
    "start_time": "2024-07-09T03:36:49.410Z"
   },
   {
    "duration": 7,
    "start_time": "2024-07-09T03:36:51.538Z"
   },
   {
    "duration": 1277,
    "start_time": "2024-07-09T03:37:32.471Z"
   },
   {
    "duration": 463,
    "start_time": "2024-07-09T03:37:33.751Z"
   },
   {
    "duration": 8,
    "start_time": "2024-07-09T03:37:36.015Z"
   },
   {
    "duration": 440,
    "start_time": "2024-07-09T03:38:45.229Z"
   },
   {
    "duration": 8,
    "start_time": "2024-07-09T03:38:48.615Z"
   },
   {
    "duration": 481,
    "start_time": "2024-07-09T03:39:12.850Z"
   },
   {
    "duration": 7,
    "start_time": "2024-07-09T03:39:18.428Z"
   },
   {
    "duration": 632,
    "start_time": "2024-07-09T03:42:19.166Z"
   },
   {
    "duration": 7,
    "start_time": "2024-07-09T03:42:32.551Z"
   },
   {
    "duration": 7,
    "start_time": "2024-07-09T03:44:46.644Z"
   },
   {
    "duration": 37,
    "start_time": "2024-07-09T03:45:03.557Z"
   },
   {
    "duration": 24,
    "start_time": "2024-07-09T03:46:35.763Z"
   },
   {
    "duration": 22,
    "start_time": "2024-07-09T03:46:43.385Z"
   },
   {
    "duration": 22,
    "start_time": "2024-07-09T03:46:51.227Z"
   },
   {
    "duration": 22,
    "start_time": "2024-07-09T03:47:19.553Z"
   },
   {
    "duration": 489,
    "start_time": "2024-07-09T03:47:23.271Z"
   },
   {
    "duration": 36,
    "start_time": "2024-07-09T03:47:25.671Z"
   },
   {
    "duration": 1615,
    "start_time": "2024-07-09T03:47:57.119Z"
   },
   {
    "duration": 11,
    "start_time": "2024-07-09T03:48:02.958Z"
   },
   {
    "duration": 11,
    "start_time": "2024-07-09T03:48:04.570Z"
   },
   {
    "duration": 1221,
    "start_time": "2024-07-09T03:48:26.262Z"
   },
   {
    "duration": 1228,
    "start_time": "2024-07-09T03:48:45.329Z"
   },
   {
    "duration": 14,
    "start_time": "2024-07-09T03:48:59.074Z"
   },
   {
    "duration": 16,
    "start_time": "2024-07-09T03:49:03.773Z"
   },
   {
    "duration": 1179,
    "start_time": "2024-07-09T03:49:49.838Z"
   },
   {
    "duration": 9,
    "start_time": "2024-07-09T03:49:52.000Z"
   },
   {
    "duration": 11,
    "start_time": "2024-07-09T03:49:54.542Z"
   },
   {
    "duration": 1352,
    "start_time": "2024-07-09T03:50:19.931Z"
   },
   {
    "duration": 2080,
    "start_time": "2024-07-09T03:50:23.685Z"
   },
   {
    "duration": 171,
    "start_time": "2024-07-09T03:50:25.769Z"
   },
   {
    "duration": 1393,
    "start_time": "2024-07-09T03:51:42.247Z"
   },
   {
    "duration": 81,
    "start_time": "2024-07-09T03:51:44.666Z"
   },
   {
    "duration": 24,
    "start_time": "2024-07-09T03:51:46.619Z"
   },
   {
    "duration": 549,
    "start_time": "2024-07-09T03:52:31.522Z"
   },
   {
    "duration": 18,
    "start_time": "2024-07-09T03:52:34.829Z"
   },
   {
    "duration": 1224,
    "start_time": "2024-07-09T03:56:11.187Z"
   },
   {
    "duration": 30,
    "start_time": "2024-07-09T03:57:33.143Z"
   },
   {
    "duration": 30,
    "start_time": "2024-07-09T03:58:17.653Z"
   },
   {
    "duration": 28,
    "start_time": "2024-07-09T03:59:25.207Z"
   },
   {
    "duration": 33,
    "start_time": "2024-07-09T04:00:58.479Z"
   },
   {
    "duration": 125,
    "start_time": "2024-07-09T04:02:36.344Z"
   },
   {
    "duration": 29,
    "start_time": "2024-07-09T04:03:10.078Z"
   },
   {
    "duration": 28,
    "start_time": "2024-07-09T04:03:33.080Z"
   },
   {
    "duration": 36,
    "start_time": "2024-07-09T04:03:43.765Z"
   },
   {
    "duration": 29,
    "start_time": "2024-07-09T04:04:51.083Z"
   },
   {
    "duration": 654,
    "start_time": "2024-07-09T04:05:13.814Z"
   },
   {
    "duration": 1721,
    "start_time": "2024-07-09T04:05:14.471Z"
   },
   {
    "duration": 19,
    "start_time": "2024-07-09T04:05:16.194Z"
   },
   {
    "duration": 16,
    "start_time": "2024-07-09T04:05:16.217Z"
   },
   {
    "duration": 42,
    "start_time": "2024-07-09T04:05:16.236Z"
   },
   {
    "duration": 13,
    "start_time": "2024-07-09T04:05:16.282Z"
   },
   {
    "duration": 11,
    "start_time": "2024-07-09T04:05:16.299Z"
   },
   {
    "duration": 379,
    "start_time": "2024-07-09T04:05:16.313Z"
   },
   {
    "duration": 23,
    "start_time": "2024-07-09T04:05:16.695Z"
   },
   {
    "duration": 217,
    "start_time": "2024-07-09T04:05:16.724Z"
   },
   {
    "duration": 172,
    "start_time": "2024-07-09T04:05:16.944Z"
   },
   {
    "duration": 54,
    "start_time": "2024-07-09T04:05:17.119Z"
   },
   {
    "duration": 37,
    "start_time": "2024-07-09T04:05:17.175Z"
   },
   {
    "duration": 6,
    "start_time": "2024-07-09T04:05:17.215Z"
   },
   {
    "duration": 64,
    "start_time": "2024-07-09T04:05:17.224Z"
   },
   {
    "duration": 47,
    "start_time": "2024-07-09T04:05:17.291Z"
   },
   {
    "duration": 7,
    "start_time": "2024-07-09T04:05:17.367Z"
   },
   {
    "duration": 7,
    "start_time": "2024-07-09T04:05:17.377Z"
   },
   {
    "duration": 10,
    "start_time": "2024-07-09T04:05:17.387Z"
   },
   {
    "duration": 18,
    "start_time": "2024-07-09T04:05:17.400Z"
   },
   {
    "duration": 1374,
    "start_time": "2024-07-09T04:05:17.421Z"
   },
   {
    "duration": 1133,
    "start_time": "2024-07-09T04:05:18.798Z"
   },
   {
    "duration": 34,
    "start_time": "2024-07-09T04:05:19.934Z"
   },
   {
    "duration": 13,
    "start_time": "2024-07-09T04:05:19.971Z"
   },
   {
    "duration": 13,
    "start_time": "2024-07-09T04:05:19.987Z"
   },
   {
    "duration": 19,
    "start_time": "2024-07-09T04:05:20.003Z"
   },
   {
    "duration": 55,
    "start_time": "2024-07-09T04:05:20.025Z"
   },
   {
    "duration": 12,
    "start_time": "2024-07-09T04:05:20.088Z"
   },
   {
    "duration": 12,
    "start_time": "2024-07-09T04:05:20.102Z"
   },
   {
    "duration": 68,
    "start_time": "2024-07-09T04:05:20.117Z"
   },
   {
    "duration": 47,
    "start_time": "2024-07-09T04:05:20.187Z"
   },
   {
    "duration": 41,
    "start_time": "2024-07-09T04:05:20.237Z"
   },
   {
    "duration": 657,
    "start_time": "2024-07-09T04:05:20.281Z"
   },
   {
    "duration": 48,
    "start_time": "2024-07-09T04:05:20.942Z"
   },
   {
    "duration": 9,
    "start_time": "2024-07-09T04:05:20.993Z"
   },
   {
    "duration": 10,
    "start_time": "2024-07-09T04:05:21.005Z"
   },
   {
    "duration": 374,
    "start_time": "2024-07-09T04:05:21.019Z"
   },
   {
    "duration": 222,
    "start_time": "2024-07-09T04:05:21.396Z"
   },
   {
    "duration": 376,
    "start_time": "2024-07-09T04:05:21.621Z"
   },
   {
    "duration": 14,
    "start_time": "2024-07-09T04:05:21.999Z"
   },
   {
    "duration": 12,
    "start_time": "2024-07-09T04:05:22.016Z"
   },
   {
    "duration": 38,
    "start_time": "2024-07-09T04:05:22.032Z"
   },
   {
    "duration": 438,
    "start_time": "2024-07-09T04:05:22.073Z"
   },
   {
    "duration": 10,
    "start_time": "2024-07-09T04:05:22.515Z"
   },
   {
    "duration": 1609,
    "start_time": "2024-07-09T04:05:22.529Z"
   },
   {
    "duration": 1377,
    "start_time": "2024-07-09T04:05:24.141Z"
   },
   {
    "duration": 600,
    "start_time": "2024-07-09T04:05:25.521Z"
   },
   {
    "duration": 18,
    "start_time": "2024-07-09T04:05:26.124Z"
   },
   {
    "duration": 536,
    "start_time": "2024-07-09T04:05:26.145Z"
   },
   {
    "duration": 1237,
    "start_time": "2024-07-09T04:05:26.684Z"
   },
   {
    "duration": 186,
    "start_time": "2024-07-09T04:05:27.924Z"
   },
   {
    "duration": 0,
    "start_time": "2024-07-09T04:05:28.112Z"
   },
   {
    "duration": 0,
    "start_time": "2024-07-09T04:05:28.115Z"
   },
   {
    "duration": 0,
    "start_time": "2024-07-09T04:05:28.117Z"
   },
   {
    "duration": 0,
    "start_time": "2024-07-09T04:05:28.120Z"
   },
   {
    "duration": 29,
    "start_time": "2024-07-09T04:06:46.600Z"
   },
   {
    "duration": 29,
    "start_time": "2024-07-09T04:07:28.076Z"
   },
   {
    "duration": 7,
    "start_time": "2024-07-09T04:08:40.188Z"
   },
   {
    "duration": 473,
    "start_time": "2024-07-09T04:09:44.461Z"
   },
   {
    "duration": 22,
    "start_time": "2024-07-09T04:13:08.268Z"
   },
   {
    "duration": 17,
    "start_time": "2024-07-09T04:13:23.625Z"
   },
   {
    "duration": 535,
    "start_time": "2024-07-09T04:14:10.069Z"
   },
   {
    "duration": 19,
    "start_time": "2024-07-09T04:14:11.594Z"
   },
   {
    "duration": 468,
    "start_time": "2024-07-09T04:41:09.690Z"
   },
   {
    "duration": 508,
    "start_time": "2024-07-09T04:41:26.221Z"
   },
   {
    "duration": 8,
    "start_time": "2024-07-09T04:44:02.152Z"
   },
   {
    "duration": 12,
    "start_time": "2024-07-09T04:44:09.550Z"
   },
   {
    "duration": 1506,
    "start_time": "2024-07-09T04:54:04.464Z"
   },
   {
    "duration": 1452,
    "start_time": "2024-07-09T04:54:25.515Z"
   },
   {
    "duration": 415,
    "start_time": "2024-07-09T04:55:49.705Z"
   },
   {
    "duration": 564,
    "start_time": "2024-07-09T04:56:03.006Z"
   },
   {
    "duration": 416,
    "start_time": "2024-07-09T04:56:13.764Z"
   },
   {
    "duration": 5,
    "start_time": "2024-07-09T05:08:26.860Z"
   },
   {
    "duration": 7,
    "start_time": "2024-07-09T05:10:06.035Z"
   },
   {
    "duration": 5,
    "start_time": "2024-07-09T05:10:36.503Z"
   },
   {
    "duration": 5,
    "start_time": "2024-07-09T05:11:26.268Z"
   },
   {
    "duration": 5,
    "start_time": "2024-07-09T05:12:05.642Z"
   },
   {
    "duration": 5,
    "start_time": "2024-07-09T05:12:25.559Z"
   },
   {
    "duration": 5,
    "start_time": "2024-07-09T05:12:32.623Z"
   },
   {
    "duration": 5,
    "start_time": "2024-07-09T05:13:46.550Z"
   },
   {
    "duration": 4,
    "start_time": "2024-07-09T05:14:06.175Z"
   },
   {
    "duration": 5,
    "start_time": "2024-07-09T05:15:35.607Z"
   },
   {
    "duration": 4,
    "start_time": "2024-07-09T05:17:37.087Z"
   },
   {
    "duration": 460,
    "start_time": "2024-07-09T05:17:51.951Z"
   },
   {
    "duration": 437,
    "start_time": "2024-07-09T05:18:13.405Z"
   },
   {
    "duration": 52,
    "start_time": "2024-07-09T05:20:05.664Z"
   },
   {
    "duration": 451,
    "start_time": "2024-07-09T05:20:27.479Z"
   },
   {
    "duration": 54,
    "start_time": "2024-07-09T05:21:02.174Z"
   },
   {
    "duration": 1114,
    "start_time": "2024-07-09T05:23:55.819Z"
   },
   {
    "duration": 54,
    "start_time": "2024-07-09T05:24:10.843Z"
   },
   {
    "duration": 157,
    "start_time": "2024-07-09T05:26:34.532Z"
   },
   {
    "duration": 22,
    "start_time": "2024-07-09T05:33:37.225Z"
   },
   {
    "duration": 31,
    "start_time": "2024-07-09T05:33:48.373Z"
   },
   {
    "duration": 9,
    "start_time": "2024-07-09T06:03:40.910Z"
   },
   {
    "duration": 14,
    "start_time": "2024-07-10T00:17:47.988Z"
   },
   {
    "duration": 343,
    "start_time": "2024-07-10T01:06:58.484Z"
   },
   {
    "duration": 4403,
    "start_time": "2024-07-10T01:07:23.271Z"
   },
   {
    "duration": 1968,
    "start_time": "2024-07-10T01:07:27.677Z"
   },
   {
    "duration": 18,
    "start_time": "2024-07-10T01:07:29.648Z"
   },
   {
    "duration": 32,
    "start_time": "2024-07-10T01:07:29.669Z"
   },
   {
    "duration": 16,
    "start_time": "2024-07-10T01:07:29.708Z"
   },
   {
    "duration": 14,
    "start_time": "2024-07-10T01:07:29.727Z"
   },
   {
    "duration": 58,
    "start_time": "2024-07-10T01:07:29.745Z"
   },
   {
    "duration": 385,
    "start_time": "2024-07-10T01:07:29.806Z"
   },
   {
    "duration": 30,
    "start_time": "2024-07-10T01:07:30.195Z"
   },
   {
    "duration": 222,
    "start_time": "2024-07-10T01:07:30.228Z"
   },
   {
    "duration": 212,
    "start_time": "2024-07-10T01:07:30.454Z"
   },
   {
    "duration": 68,
    "start_time": "2024-07-10T01:07:30.669Z"
   },
   {
    "duration": 40,
    "start_time": "2024-07-10T01:07:30.741Z"
   },
   {
    "duration": 8,
    "start_time": "2024-07-10T01:07:30.804Z"
   },
   {
    "duration": 45,
    "start_time": "2024-07-10T01:07:30.815Z"
   },
   {
    "duration": 87,
    "start_time": "2024-07-10T01:07:30.863Z"
   },
   {
    "duration": 9,
    "start_time": "2024-07-10T01:07:30.953Z"
   },
   {
    "duration": 8,
    "start_time": "2024-07-10T01:07:30.966Z"
   },
   {
    "duration": 8,
    "start_time": "2024-07-10T01:07:31.001Z"
   },
   {
    "duration": 7,
    "start_time": "2024-07-10T01:07:31.012Z"
   },
   {
    "duration": 1387,
    "start_time": "2024-07-10T01:07:31.023Z"
   },
   {
    "duration": 1154,
    "start_time": "2024-07-10T01:07:32.413Z"
   },
   {
    "duration": 33,
    "start_time": "2024-07-10T01:07:33.570Z"
   },
   {
    "duration": 13,
    "start_time": "2024-07-10T01:07:33.606Z"
   },
   {
    "duration": 13,
    "start_time": "2024-07-10T01:07:33.622Z"
   },
   {
    "duration": 17,
    "start_time": "2024-07-10T01:07:33.638Z"
   },
   {
    "duration": 55,
    "start_time": "2024-07-10T01:07:33.659Z"
   },
   {
    "duration": 12,
    "start_time": "2024-07-10T01:07:33.717Z"
   },
   {
    "duration": 12,
    "start_time": "2024-07-10T01:07:33.732Z"
   },
   {
    "duration": 74,
    "start_time": "2024-07-10T01:07:33.746Z"
   },
   {
    "duration": 50,
    "start_time": "2024-07-10T01:07:33.823Z"
   },
   {
    "duration": 44,
    "start_time": "2024-07-10T01:07:33.876Z"
   },
   {
    "duration": 681,
    "start_time": "2024-07-10T01:07:33.923Z"
   },
   {
    "duration": 38,
    "start_time": "2024-07-10T01:07:34.607Z"
   },
   {
    "duration": 10,
    "start_time": "2024-07-10T01:07:34.647Z"
   },
   {
    "duration": 43,
    "start_time": "2024-07-10T01:07:34.660Z"
   },
   {
    "duration": 373,
    "start_time": "2024-07-10T01:07:34.707Z"
   },
   {
    "duration": 231,
    "start_time": "2024-07-10T01:07:35.084Z"
   },
   {
    "duration": 383,
    "start_time": "2024-07-10T01:07:35.318Z"
   },
   {
    "duration": 14,
    "start_time": "2024-07-10T01:07:35.704Z"
   },
   {
    "duration": 12,
    "start_time": "2024-07-10T01:07:35.728Z"
   },
   {
    "duration": 8,
    "start_time": "2024-07-10T01:07:35.743Z"
   },
   {
    "duration": 552,
    "start_time": "2024-07-10T01:07:35.755Z"
   },
   {
    "duration": 11,
    "start_time": "2024-07-10T01:07:36.310Z"
   },
   {
    "duration": 1651,
    "start_time": "2024-07-10T01:07:36.325Z"
   },
   {
    "duration": 1387,
    "start_time": "2024-07-10T01:07:37.979Z"
   },
   {
    "duration": 608,
    "start_time": "2024-07-10T01:07:39.369Z"
   },
   {
    "duration": 31,
    "start_time": "2024-07-10T01:07:39.980Z"
   },
   {
    "duration": 531,
    "start_time": "2024-07-10T01:07:40.014Z"
   },
   {
    "duration": 12,
    "start_time": "2024-07-10T01:07:40.548Z"
   },
   {
    "duration": 466,
    "start_time": "2024-07-10T01:07:40.565Z"
   },
   {
    "duration": 1248,
    "start_time": "2024-07-10T01:07:41.035Z"
   },
   {
    "duration": 576,
    "start_time": "2024-07-10T01:07:42.286Z"
   },
   {
    "duration": 37,
    "start_time": "2024-07-10T01:07:42.866Z"
   },
   {
    "duration": 496,
    "start_time": "2024-07-10T01:07:42.906Z"
   },
   {
    "duration": 54,
    "start_time": "2024-07-10T01:07:43.406Z"
   },
   {
    "duration": 9,
    "start_time": "2024-07-10T01:07:43.466Z"
   },
   {
    "duration": 29,
    "start_time": "2024-07-10T01:07:43.501Z"
   },
   {
    "duration": 902,
    "start_time": "2024-07-10T01:07:43.534Z"
   },
   {
    "duration": 0,
    "start_time": "2024-07-10T01:07:44.439Z"
   },
   {
    "duration": 0,
    "start_time": "2024-07-10T01:07:44.442Z"
   },
   {
    "duration": 0,
    "start_time": "2024-07-10T01:07:44.444Z"
   },
   {
    "duration": 276,
    "start_time": "2024-07-10T01:08:15.796Z"
   },
   {
    "duration": 42,
    "start_time": "2024-07-10T01:10:11.829Z"
   },
   {
    "duration": 532,
    "start_time": "2024-07-10T01:11:47.539Z"
   },
   {
    "duration": 1958,
    "start_time": "2024-07-10T01:15:59.973Z"
   },
   {
    "duration": 81,
    "start_time": "2024-07-10T01:16:13.747Z"
   },
   {
    "duration": 25,
    "start_time": "2024-07-10T01:16:44.063Z"
   },
   {
    "duration": 141,
    "start_time": "2024-07-10T01:17:00.408Z"
   },
   {
    "duration": 125,
    "start_time": "2024-07-10T01:17:17.014Z"
   },
   {
    "duration": 143,
    "start_time": "2024-07-10T01:18:30.095Z"
   },
   {
    "duration": 166,
    "start_time": "2024-07-10T01:20:03.777Z"
   },
   {
    "duration": 345,
    "start_time": "2024-07-10T01:22:17.134Z"
   },
   {
    "duration": 743,
    "start_time": "2024-07-10T01:22:30.845Z"
   },
   {
    "duration": 1787,
    "start_time": "2024-07-10T01:22:31.592Z"
   },
   {
    "duration": 32,
    "start_time": "2024-07-10T01:22:33.382Z"
   },
   {
    "duration": 19,
    "start_time": "2024-07-10T01:22:33.419Z"
   },
   {
    "duration": 14,
    "start_time": "2024-07-10T01:22:33.441Z"
   },
   {
    "duration": 50,
    "start_time": "2024-07-10T01:22:33.458Z"
   },
   {
    "duration": 17,
    "start_time": "2024-07-10T01:22:33.514Z"
   },
   {
    "duration": 396,
    "start_time": "2024-07-10T01:22:33.536Z"
   },
   {
    "duration": 24,
    "start_time": "2024-07-10T01:22:33.936Z"
   },
   {
    "duration": 218,
    "start_time": "2024-07-10T01:22:33.966Z"
   },
   {
    "duration": 192,
    "start_time": "2024-07-10T01:22:34.187Z"
   },
   {
    "duration": 64,
    "start_time": "2024-07-10T01:22:34.383Z"
   },
   {
    "duration": 60,
    "start_time": "2024-07-10T01:22:34.453Z"
   },
   {
    "duration": 8,
    "start_time": "2024-07-10T01:22:34.517Z"
   },
   {
    "duration": 43,
    "start_time": "2024-07-10T01:22:34.529Z"
   },
   {
    "duration": 63,
    "start_time": "2024-07-10T01:22:34.603Z"
   },
   {
    "duration": 30,
    "start_time": "2024-07-10T01:22:34.670Z"
   },
   {
    "duration": 7,
    "start_time": "2024-07-10T01:22:34.705Z"
   },
   {
    "duration": 10,
    "start_time": "2024-07-10T01:22:34.716Z"
   },
   {
    "duration": 6,
    "start_time": "2024-07-10T01:22:34.729Z"
   },
   {
    "duration": 1441,
    "start_time": "2024-07-10T01:22:34.738Z"
   },
   {
    "duration": 1265,
    "start_time": "2024-07-10T01:22:36.182Z"
   },
   {
    "duration": 20,
    "start_time": "2024-07-10T01:22:37.453Z"
   },
   {
    "duration": 32,
    "start_time": "2024-07-10T01:22:37.477Z"
   },
   {
    "duration": 17,
    "start_time": "2024-07-10T01:22:37.512Z"
   },
   {
    "duration": 24,
    "start_time": "2024-07-10T01:22:37.532Z"
   },
   {
    "duration": 46,
    "start_time": "2024-07-10T01:22:37.563Z"
   },
   {
    "duration": 14,
    "start_time": "2024-07-10T01:22:37.621Z"
   },
   {
    "duration": 13,
    "start_time": "2024-07-10T01:22:37.638Z"
   },
   {
    "duration": 73,
    "start_time": "2024-07-10T01:22:37.654Z"
   },
   {
    "duration": 75,
    "start_time": "2024-07-10T01:22:37.730Z"
   },
   {
    "duration": 22,
    "start_time": "2024-07-10T01:22:37.809Z"
   },
   {
    "duration": 742,
    "start_time": "2024-07-10T01:22:37.834Z"
   },
   {
    "duration": 51,
    "start_time": "2024-07-10T01:22:38.579Z"
   },
   {
    "duration": 10,
    "start_time": "2024-07-10T01:22:38.634Z"
   },
   {
    "duration": 10,
    "start_time": "2024-07-10T01:22:38.647Z"
   },
   {
    "duration": 407,
    "start_time": "2024-07-10T01:22:38.660Z"
   },
   {
    "duration": 248,
    "start_time": "2024-07-10T01:22:39.070Z"
   },
   {
    "duration": 430,
    "start_time": "2024-07-10T01:22:39.323Z"
   },
   {
    "duration": 15,
    "start_time": "2024-07-10T01:22:39.756Z"
   },
   {
    "duration": 35,
    "start_time": "2024-07-10T01:22:39.774Z"
   },
   {
    "duration": 9,
    "start_time": "2024-07-10T01:22:39.813Z"
   },
   {
    "duration": 453,
    "start_time": "2024-07-10T01:22:39.827Z"
   },
   {
    "duration": 25,
    "start_time": "2024-07-10T01:22:40.283Z"
   },
   {
    "duration": 1725,
    "start_time": "2024-07-10T01:22:40.312Z"
   },
   {
    "duration": 1465,
    "start_time": "2024-07-10T01:22:42.040Z"
   },
   {
    "duration": 661,
    "start_time": "2024-07-10T01:22:43.508Z"
   },
   {
    "duration": 33,
    "start_time": "2024-07-10T01:22:44.172Z"
   },
   {
    "duration": 596,
    "start_time": "2024-07-10T01:22:44.208Z"
   },
   {
    "duration": 14,
    "start_time": "2024-07-10T01:22:44.807Z"
   },
   {
    "duration": 562,
    "start_time": "2024-07-10T01:22:44.824Z"
   },
   {
    "duration": 1365,
    "start_time": "2024-07-10T01:22:45.389Z"
   },
   {
    "duration": 579,
    "start_time": "2024-07-10T01:22:46.758Z"
   },
   {
    "duration": 20,
    "start_time": "2024-07-10T01:22:47.340Z"
   },
   {
    "duration": 519,
    "start_time": "2024-07-10T01:22:47.363Z"
   },
   {
    "duration": 67,
    "start_time": "2024-07-10T01:22:47.885Z"
   },
   {
    "duration": 11,
    "start_time": "2024-07-10T01:22:47.955Z"
   },
   {
    "duration": 2223,
    "start_time": "2024-07-10T01:22:47.969Z"
   },
   {
    "duration": 143,
    "start_time": "2024-07-10T01:22:50.202Z"
   },
   {
    "duration": 313,
    "start_time": "2024-07-10T01:23:07.141Z"
   },
   {
    "duration": 21,
    "start_time": "2024-07-10T01:23:17.275Z"
   },
   {
    "duration": 21,
    "start_time": "2024-07-10T01:23:20.514Z"
   },
   {
    "duration": 21,
    "start_time": "2024-07-10T01:23:21.342Z"
   },
   {
    "duration": 20,
    "start_time": "2024-07-10T01:23:22.382Z"
   },
   {
    "duration": 29,
    "start_time": "2024-07-10T01:23:50.459Z"
   },
   {
    "duration": 21,
    "start_time": "2024-07-10T01:23:51.351Z"
   },
   {
    "duration": 56,
    "start_time": "2024-07-10T01:23:56.084Z"
   },
   {
    "duration": 22,
    "start_time": "2024-07-10T01:23:56.545Z"
   },
   {
    "duration": 22,
    "start_time": "2024-07-10T01:23:56.867Z"
   },
   {
    "duration": 693,
    "start_time": "2024-07-10T01:24:50.436Z"
   },
   {
    "duration": 1757,
    "start_time": "2024-07-10T01:24:51.132Z"
   },
   {
    "duration": 18,
    "start_time": "2024-07-10T01:24:52.892Z"
   },
   {
    "duration": 16,
    "start_time": "2024-07-10T01:24:52.913Z"
   },
   {
    "duration": 14,
    "start_time": "2024-07-10T01:24:52.933Z"
   },
   {
    "duration": 58,
    "start_time": "2024-07-10T01:24:52.950Z"
   },
   {
    "duration": 12,
    "start_time": "2024-07-10T01:24:53.015Z"
   },
   {
    "duration": 366,
    "start_time": "2024-07-10T01:24:53.031Z"
   },
   {
    "duration": 24,
    "start_time": "2024-07-10T01:24:53.403Z"
   },
   {
    "duration": 199,
    "start_time": "2024-07-10T01:24:53.430Z"
   },
   {
    "duration": 180,
    "start_time": "2024-07-10T01:24:53.632Z"
   },
   {
    "duration": 45,
    "start_time": "2024-07-10T01:24:53.815Z"
   },
   {
    "duration": 61,
    "start_time": "2024-07-10T01:24:53.863Z"
   },
   {
    "duration": 7,
    "start_time": "2024-07-10T01:24:53.931Z"
   },
   {
    "duration": 71,
    "start_time": "2024-07-10T01:24:53.941Z"
   },
   {
    "duration": 50,
    "start_time": "2024-07-10T01:24:54.015Z"
   },
   {
    "duration": 7,
    "start_time": "2024-07-10T01:24:54.068Z"
   },
   {
    "duration": 8,
    "start_time": "2024-07-10T01:24:54.103Z"
   },
   {
    "duration": 9,
    "start_time": "2024-07-10T01:24:54.114Z"
   },
   {
    "duration": 8,
    "start_time": "2024-07-10T01:24:54.125Z"
   },
   {
    "duration": 1414,
    "start_time": "2024-07-10T01:24:54.136Z"
   },
   {
    "duration": 1212,
    "start_time": "2024-07-10T01:24:55.553Z"
   },
   {
    "duration": 44,
    "start_time": "2024-07-10T01:24:56.769Z"
   },
   {
    "duration": 14,
    "start_time": "2024-07-10T01:24:56.816Z"
   },
   {
    "duration": 13,
    "start_time": "2024-07-10T01:24:56.834Z"
   },
   {
    "duration": 18,
    "start_time": "2024-07-10T01:24:56.850Z"
   },
   {
    "duration": 47,
    "start_time": "2024-07-10T01:24:56.870Z"
   },
   {
    "duration": 11,
    "start_time": "2024-07-10T01:24:56.920Z"
   },
   {
    "duration": 11,
    "start_time": "2024-07-10T01:24:56.934Z"
   },
   {
    "duration": 75,
    "start_time": "2024-07-10T01:24:56.949Z"
   },
   {
    "duration": 48,
    "start_time": "2024-07-10T01:24:57.029Z"
   },
   {
    "duration": 37,
    "start_time": "2024-07-10T01:24:57.080Z"
   },
   {
    "duration": 683,
    "start_time": "2024-07-10T01:24:57.120Z"
   },
   {
    "duration": 37,
    "start_time": "2024-07-10T01:24:57.805Z"
   },
   {
    "duration": 11,
    "start_time": "2024-07-10T01:24:57.845Z"
   },
   {
    "duration": 45,
    "start_time": "2024-07-10T01:24:57.858Z"
   },
   {
    "duration": 382,
    "start_time": "2024-07-10T01:24:57.906Z"
   },
   {
    "duration": 242,
    "start_time": "2024-07-10T01:24:58.291Z"
   },
   {
    "duration": 507,
    "start_time": "2024-07-10T01:24:58.536Z"
   },
   {
    "duration": 13,
    "start_time": "2024-07-10T01:24:59.046Z"
   },
   {
    "duration": 34,
    "start_time": "2024-07-10T01:24:59.068Z"
   },
   {
    "duration": 8,
    "start_time": "2024-07-10T01:24:59.106Z"
   },
   {
    "duration": 450,
    "start_time": "2024-07-10T01:24:59.117Z"
   },
   {
    "duration": 12,
    "start_time": "2024-07-10T01:24:59.570Z"
   },
   {
    "duration": 1631,
    "start_time": "2024-07-10T01:24:59.602Z"
   },
   {
    "duration": 1355,
    "start_time": "2024-07-10T01:25:01.235Z"
   },
   {
    "duration": 602,
    "start_time": "2024-07-10T01:25:02.593Z"
   },
   {
    "duration": 19,
    "start_time": "2024-07-10T01:25:03.202Z"
   },
   {
    "duration": 542,
    "start_time": "2024-07-10T01:25:03.225Z"
   },
   {
    "duration": 12,
    "start_time": "2024-07-10T01:25:03.770Z"
   },
   {
    "duration": 489,
    "start_time": "2024-07-10T01:25:03.801Z"
   },
   {
    "duration": 1250,
    "start_time": "2024-07-10T01:25:04.294Z"
   },
   {
    "duration": 541,
    "start_time": "2024-07-10T01:25:05.546Z"
   },
   {
    "duration": 29,
    "start_time": "2024-07-10T01:25:06.090Z"
   },
   {
    "duration": 469,
    "start_time": "2024-07-10T01:25:06.122Z"
   },
   {
    "duration": 63,
    "start_time": "2024-07-10T01:25:06.595Z"
   },
   {
    "duration": 10,
    "start_time": "2024-07-10T01:25:06.662Z"
   },
   {
    "duration": 1915,
    "start_time": "2024-07-10T01:25:06.676Z"
   },
   {
    "duration": 145,
    "start_time": "2024-07-10T01:25:08.594Z"
   },
   {
    "duration": 692,
    "start_time": "2024-07-10T01:27:00.919Z"
   },
   {
    "duration": 1773,
    "start_time": "2024-07-10T01:27:01.735Z"
   },
   {
    "duration": 17,
    "start_time": "2024-07-10T01:27:04.588Z"
   },
   {
    "duration": 18,
    "start_time": "2024-07-10T01:27:05.817Z"
   },
   {
    "duration": 13,
    "start_time": "2024-07-10T01:27:07.064Z"
   },
   {
    "duration": 14,
    "start_time": "2024-07-10T01:27:07.995Z"
   },
   {
    "duration": 12,
    "start_time": "2024-07-10T01:27:09.130Z"
   },
   {
    "duration": 352,
    "start_time": "2024-07-10T01:27:16.333Z"
   },
   {
    "duration": 23,
    "start_time": "2024-07-10T01:27:20.292Z"
   },
   {
    "duration": 200,
    "start_time": "2024-07-10T01:27:22.864Z"
   },
   {
    "duration": 178,
    "start_time": "2024-07-10T01:27:24.001Z"
   },
   {
    "duration": 49,
    "start_time": "2024-07-10T01:27:25.141Z"
   },
   {
    "duration": 36,
    "start_time": "2024-07-10T01:27:30.319Z"
   },
   {
    "duration": 7,
    "start_time": "2024-07-10T01:27:31.617Z"
   },
   {
    "duration": 45,
    "start_time": "2024-07-10T01:27:32.852Z"
   },
   {
    "duration": 49,
    "start_time": "2024-07-10T01:27:33.820Z"
   },
   {
    "duration": 7,
    "start_time": "2024-07-10T01:27:37.780Z"
   },
   {
    "duration": 7,
    "start_time": "2024-07-10T01:27:38.901Z"
   },
   {
    "duration": 7,
    "start_time": "2024-07-10T01:27:41.434Z"
   },
   {
    "duration": 7,
    "start_time": "2024-07-10T01:27:42.304Z"
   },
   {
    "duration": 1375,
    "start_time": "2024-07-10T01:27:44.327Z"
   },
   {
    "duration": 1171,
    "start_time": "2024-07-10T01:27:46.447Z"
   },
   {
    "duration": 17,
    "start_time": "2024-07-10T01:27:50.209Z"
   },
   {
    "duration": 13,
    "start_time": "2024-07-10T01:27:52.605Z"
   },
   {
    "duration": 13,
    "start_time": "2024-07-10T01:27:54.454Z"
   },
   {
    "duration": 18,
    "start_time": "2024-07-10T01:27:56.960Z"
   },
   {
    "duration": 14,
    "start_time": "2024-07-10T01:28:00.643Z"
   },
   {
    "duration": 11,
    "start_time": "2024-07-10T01:28:03.254Z"
   },
   {
    "duration": 11,
    "start_time": "2024-07-10T01:28:03.760Z"
   },
   {
    "duration": 33,
    "start_time": "2024-07-10T01:28:05.867Z"
   },
   {
    "duration": 47,
    "start_time": "2024-07-10T01:28:06.543Z"
   },
   {
    "duration": 20,
    "start_time": "2024-07-10T01:28:08.355Z"
   },
   {
    "duration": 639,
    "start_time": "2024-07-10T01:28:09.324Z"
   },
   {
    "duration": 36,
    "start_time": "2024-07-10T01:28:10.785Z"
   },
   {
    "duration": 9,
    "start_time": "2024-07-10T01:28:25.624Z"
   },
   {
    "duration": 9,
    "start_time": "2024-07-10T01:28:26.138Z"
   },
   {
    "duration": 341,
    "start_time": "2024-07-10T01:28:28.221Z"
   },
   {
    "duration": 207,
    "start_time": "2024-07-10T01:28:30.326Z"
   },
   {
    "duration": 386,
    "start_time": "2024-07-10T01:28:32.172Z"
   },
   {
    "duration": 15,
    "start_time": "2024-07-10T01:28:35.623Z"
   },
   {
    "duration": 12,
    "start_time": "2024-07-10T01:28:36.190Z"
   },
   {
    "duration": 8,
    "start_time": "2024-07-10T01:28:37.021Z"
   },
   {
    "duration": 420,
    "start_time": "2024-07-10T01:28:37.742Z"
   },
   {
    "duration": 11,
    "start_time": "2024-07-10T01:28:40.504Z"
   },
   {
    "duration": 1609,
    "start_time": "2024-07-10T01:28:41.313Z"
   },
   {
    "duration": 1348,
    "start_time": "2024-07-10T01:28:43.284Z"
   },
   {
    "duration": 600,
    "start_time": "2024-07-10T01:28:44.636Z"
   },
   {
    "duration": 19,
    "start_time": "2024-07-10T01:28:45.610Z"
   },
   {
    "duration": 539,
    "start_time": "2024-07-10T01:28:49.871Z"
   },
   {
    "duration": 15,
    "start_time": "2024-07-10T01:28:51.082Z"
   },
   {
    "duration": 492,
    "start_time": "2024-07-10T01:28:52.003Z"
   },
   {
    "duration": 1248,
    "start_time": "2024-07-10T01:28:55.288Z"
   },
   {
    "duration": 537,
    "start_time": "2024-07-10T01:28:57.501Z"
   },
   {
    "duration": 19,
    "start_time": "2024-07-10T01:28:58.976Z"
   },
   {
    "duration": 496,
    "start_time": "2024-07-10T01:29:03.223Z"
   },
   {
    "duration": 54,
    "start_time": "2024-07-10T01:29:04.734Z"
   },
   {
    "duration": 9,
    "start_time": "2024-07-10T01:29:06.254Z"
   },
   {
    "duration": 1902,
    "start_time": "2024-07-10T01:29:10.439Z"
   },
   {
    "duration": 111,
    "start_time": "2024-07-10T01:29:13.173Z"
   },
   {
    "duration": 310,
    "start_time": "2024-07-10T01:31:20.682Z"
   },
   {
    "duration": 21,
    "start_time": "2024-07-10T01:33:40.415Z"
   },
   {
    "duration": 24,
    "start_time": "2024-07-10T01:34:36.734Z"
   },
   {
    "duration": 21,
    "start_time": "2024-07-10T01:37:07.294Z"
   },
   {
    "duration": 25,
    "start_time": "2024-07-10T01:38:59.958Z"
   },
   {
    "duration": 22,
    "start_time": "2024-07-10T01:39:10.922Z"
   },
   {
    "duration": 23,
    "start_time": "2024-07-10T01:39:14.123Z"
   },
   {
    "duration": 730,
    "start_time": "2024-07-10T01:46:18.409Z"
   },
   {
    "duration": 1770,
    "start_time": "2024-07-10T01:46:19.144Z"
   },
   {
    "duration": 18,
    "start_time": "2024-07-10T01:46:20.916Z"
   },
   {
    "duration": 16,
    "start_time": "2024-07-10T01:46:20.937Z"
   },
   {
    "duration": 46,
    "start_time": "2024-07-10T01:46:20.957Z"
   },
   {
    "duration": 13,
    "start_time": "2024-07-10T01:46:21.006Z"
   },
   {
    "duration": 11,
    "start_time": "2024-07-10T01:46:21.023Z"
   },
   {
    "duration": 377,
    "start_time": "2024-07-10T01:46:21.037Z"
   },
   {
    "duration": 23,
    "start_time": "2024-07-10T01:46:21.417Z"
   },
   {
    "duration": 215,
    "start_time": "2024-07-10T01:46:21.443Z"
   },
   {
    "duration": 175,
    "start_time": "2024-07-10T01:46:21.661Z"
   },
   {
    "duration": 47,
    "start_time": "2024-07-10T01:46:21.839Z"
   },
   {
    "duration": 46,
    "start_time": "2024-07-10T01:46:21.903Z"
   },
   {
    "duration": 8,
    "start_time": "2024-07-10T01:46:21.957Z"
   },
   {
    "duration": 70,
    "start_time": "2024-07-10T01:46:21.968Z"
   },
   {
    "duration": 69,
    "start_time": "2024-07-10T01:46:22.041Z"
   },
   {
    "duration": 8,
    "start_time": "2024-07-10T01:46:22.113Z"
   },
   {
    "duration": 6,
    "start_time": "2024-07-10T01:46:22.124Z"
   },
   {
    "duration": 7,
    "start_time": "2024-07-10T01:46:22.134Z"
   },
   {
    "duration": 7,
    "start_time": "2024-07-10T01:46:22.144Z"
   },
   {
    "duration": 1368,
    "start_time": "2024-07-10T01:46:22.154Z"
   },
   {
    "duration": 1213,
    "start_time": "2024-07-10T01:46:23.524Z"
   },
   {
    "duration": 19,
    "start_time": "2024-07-10T01:46:24.740Z"
   },
   {
    "duration": 40,
    "start_time": "2024-07-10T01:46:24.763Z"
   },
   {
    "duration": 14,
    "start_time": "2024-07-10T01:46:24.806Z"
   },
   {
    "duration": 19,
    "start_time": "2024-07-10T01:46:24.823Z"
   },
   {
    "duration": 57,
    "start_time": "2024-07-10T01:46:24.846Z"
   },
   {
    "duration": 11,
    "start_time": "2024-07-10T01:46:24.906Z"
   },
   {
    "duration": 13,
    "start_time": "2024-07-10T01:46:24.920Z"
   },
   {
    "duration": 66,
    "start_time": "2024-07-10T01:46:24.937Z"
   },
   {
    "duration": 49,
    "start_time": "2024-07-10T01:46:25.006Z"
   },
   {
    "duration": 44,
    "start_time": "2024-07-10T01:46:25.058Z"
   },
   {
    "duration": 665,
    "start_time": "2024-07-10T01:46:25.104Z"
   },
   {
    "duration": 48,
    "start_time": "2024-07-10T01:46:25.772Z"
   },
   {
    "duration": 15,
    "start_time": "2024-07-10T01:46:25.823Z"
   },
   {
    "duration": 12,
    "start_time": "2024-07-10T01:46:25.842Z"
   },
   {
    "duration": 527,
    "start_time": "2024-07-10T01:46:25.863Z"
   },
   {
    "duration": 318,
    "start_time": "2024-07-10T01:46:26.394Z"
   },
   {
    "duration": 473,
    "start_time": "2024-07-10T01:46:26.715Z"
   },
   {
    "duration": 19,
    "start_time": "2024-07-10T01:46:27.192Z"
   },
   {
    "duration": 13,
    "start_time": "2024-07-10T01:46:27.221Z"
   },
   {
    "duration": 8,
    "start_time": "2024-07-10T01:46:27.237Z"
   },
   {
    "duration": 527,
    "start_time": "2024-07-10T01:46:27.249Z"
   },
   {
    "duration": 21,
    "start_time": "2024-07-10T01:46:27.780Z"
   },
   {
    "duration": 1802,
    "start_time": "2024-07-10T01:46:27.805Z"
   },
   {
    "duration": 1433,
    "start_time": "2024-07-10T01:46:29.611Z"
   },
   {
    "duration": 628,
    "start_time": "2024-07-10T01:46:31.048Z"
   },
   {
    "duration": 43,
    "start_time": "2024-07-10T01:46:31.679Z"
   },
   {
    "duration": 535,
    "start_time": "2024-07-10T01:46:31.725Z"
   },
   {
    "duration": 12,
    "start_time": "2024-07-10T01:46:32.263Z"
   },
   {
    "duration": 526,
    "start_time": "2024-07-10T01:46:32.278Z"
   },
   {
    "duration": 1296,
    "start_time": "2024-07-10T01:46:32.807Z"
   },
   {
    "duration": 557,
    "start_time": "2024-07-10T01:46:34.106Z"
   },
   {
    "duration": 20,
    "start_time": "2024-07-10T01:46:34.666Z"
   },
   {
    "duration": 447,
    "start_time": "2024-07-10T01:46:34.704Z"
   },
   {
    "duration": 67,
    "start_time": "2024-07-10T01:46:35.154Z"
   },
   {
    "duration": 9,
    "start_time": "2024-07-10T01:46:35.224Z"
   },
   {
    "duration": 3,
    "start_time": "2024-07-10T01:46:35.236Z"
   },
   {
    "duration": 3,
    "start_time": "2024-07-10T01:46:35.243Z"
   },
   {
    "duration": 1277,
    "start_time": "2024-07-10T01:46:35.249Z"
   },
   {
    "duration": 148,
    "start_time": "2024-07-10T01:46:36.530Z"
   },
   {
    "duration": 33,
    "start_time": "2024-07-10T01:46:36.682Z"
   },
   {
    "duration": 679,
    "start_time": "2024-07-10T01:47:52.718Z"
   },
   {
    "duration": 1574,
    "start_time": "2024-07-10T01:47:53.403Z"
   },
   {
    "duration": 28,
    "start_time": "2024-07-10T01:47:54.980Z"
   },
   {
    "duration": 19,
    "start_time": "2024-07-10T01:47:55.012Z"
   },
   {
    "duration": 14,
    "start_time": "2024-07-10T01:47:55.036Z"
   },
   {
    "duration": 55,
    "start_time": "2024-07-10T01:47:55.053Z"
   },
   {
    "duration": 11,
    "start_time": "2024-07-10T01:47:55.111Z"
   },
   {
    "duration": 354,
    "start_time": "2024-07-10T01:47:55.125Z"
   },
   {
    "duration": 31,
    "start_time": "2024-07-10T01:47:55.483Z"
   },
   {
    "duration": 199,
    "start_time": "2024-07-10T01:47:55.517Z"
   },
   {
    "duration": 175,
    "start_time": "2024-07-10T01:47:55.718Z"
   },
   {
    "duration": 56,
    "start_time": "2024-07-10T01:47:55.896Z"
   },
   {
    "duration": 62,
    "start_time": "2024-07-10T01:47:55.955Z"
   },
   {
    "duration": 7,
    "start_time": "2024-07-10T01:47:56.025Z"
   },
   {
    "duration": 68,
    "start_time": "2024-07-10T01:47:56.034Z"
   },
   {
    "duration": 60,
    "start_time": "2024-07-10T01:47:56.104Z"
   },
   {
    "duration": 10,
    "start_time": "2024-07-10T01:47:56.167Z"
   },
   {
    "duration": 7,
    "start_time": "2024-07-10T01:47:56.204Z"
   },
   {
    "duration": 8,
    "start_time": "2024-07-10T01:47:56.214Z"
   },
   {
    "duration": 7,
    "start_time": "2024-07-10T01:47:56.225Z"
   },
   {
    "duration": 1474,
    "start_time": "2024-07-10T01:47:56.235Z"
   },
   {
    "duration": 1222,
    "start_time": "2024-07-10T01:47:57.712Z"
   },
   {
    "duration": 19,
    "start_time": "2024-07-10T01:47:58.940Z"
   },
   {
    "duration": 14,
    "start_time": "2024-07-10T01:47:58.962Z"
   },
   {
    "duration": 13,
    "start_time": "2024-07-10T01:47:59.004Z"
   },
   {
    "duration": 18,
    "start_time": "2024-07-10T01:47:59.020Z"
   },
   {
    "duration": 18,
    "start_time": "2024-07-10T01:47:59.041Z"
   },
   {
    "duration": 12,
    "start_time": "2024-07-10T01:47:59.103Z"
   },
   {
    "duration": 13,
    "start_time": "2024-07-10T01:47:59.117Z"
   },
   {
    "duration": 29,
    "start_time": "2024-07-10T01:47:59.134Z"
   },
   {
    "duration": 50,
    "start_time": "2024-07-10T01:47:59.203Z"
   },
   {
    "duration": 45,
    "start_time": "2024-07-10T01:47:59.257Z"
   },
   {
    "duration": 692,
    "start_time": "2024-07-10T01:47:59.305Z"
   },
   {
    "duration": 39,
    "start_time": "2024-07-10T01:47:59.999Z"
   },
   {
    "duration": 9,
    "start_time": "2024-07-10T01:48:00.040Z"
   },
   {
    "duration": 9,
    "start_time": "2024-07-10T01:48:00.052Z"
   },
   {
    "duration": 353,
    "start_time": "2024-07-10T01:48:00.101Z"
   },
   {
    "duration": 244,
    "start_time": "2024-07-10T01:48:00.457Z"
   },
   {
    "duration": 369,
    "start_time": "2024-07-10T01:48:00.704Z"
   },
   {
    "duration": 25,
    "start_time": "2024-07-10T01:48:01.076Z"
   },
   {
    "duration": 12,
    "start_time": "2024-07-10T01:48:01.111Z"
   },
   {
    "duration": 12,
    "start_time": "2024-07-10T01:48:01.126Z"
   },
   {
    "duration": 428,
    "start_time": "2024-07-10T01:48:01.141Z"
   },
   {
    "duration": 28,
    "start_time": "2024-07-10T01:48:01.572Z"
   },
   {
    "duration": 1614,
    "start_time": "2024-07-10T01:48:01.604Z"
   },
   {
    "duration": 1374,
    "start_time": "2024-07-10T01:48:03.221Z"
   },
   {
    "duration": 590,
    "start_time": "2024-07-10T01:48:04.602Z"
   },
   {
    "duration": 19,
    "start_time": "2024-07-10T01:48:05.201Z"
   },
   {
    "duration": 534,
    "start_time": "2024-07-10T01:48:05.225Z"
   },
   {
    "duration": 13,
    "start_time": "2024-07-10T01:48:05.762Z"
   },
   {
    "duration": 543,
    "start_time": "2024-07-10T01:48:05.778Z"
   },
   {
    "duration": 1281,
    "start_time": "2024-07-10T01:48:06.324Z"
   },
   {
    "duration": 550,
    "start_time": "2024-07-10T01:48:07.608Z"
   },
   {
    "duration": 41,
    "start_time": "2024-07-10T01:48:08.161Z"
   },
   {
    "duration": 453,
    "start_time": "2024-07-10T01:48:08.205Z"
   },
   {
    "duration": 77,
    "start_time": "2024-07-10T01:48:08.660Z"
   },
   {
    "duration": 11,
    "start_time": "2024-07-10T01:48:08.740Z"
   },
   {
    "duration": 1974,
    "start_time": "2024-07-10T01:48:08.756Z"
   },
   {
    "duration": 4,
    "start_time": "2024-07-10T01:48:10.733Z"
   },
   {
    "duration": 330,
    "start_time": "2024-07-10T01:49:12.374Z"
   },
   {
    "duration": 22,
    "start_time": "2024-07-10T01:49:44.051Z"
   },
   {
    "duration": 687,
    "start_time": "2024-07-10T01:50:10.534Z"
   },
   {
    "duration": 1807,
    "start_time": "2024-07-10T01:50:11.224Z"
   },
   {
    "duration": 18,
    "start_time": "2024-07-10T01:50:13.035Z"
   },
   {
    "duration": 16,
    "start_time": "2024-07-10T01:50:13.057Z"
   },
   {
    "duration": 38,
    "start_time": "2024-07-10T01:50:13.076Z"
   },
   {
    "duration": 13,
    "start_time": "2024-07-10T01:50:13.117Z"
   },
   {
    "duration": 12,
    "start_time": "2024-07-10T01:50:13.134Z"
   },
   {
    "duration": 377,
    "start_time": "2024-07-10T01:50:13.149Z"
   },
   {
    "duration": 23,
    "start_time": "2024-07-10T01:50:13.529Z"
   },
   {
    "duration": 216,
    "start_time": "2024-07-10T01:50:13.558Z"
   },
   {
    "duration": 187,
    "start_time": "2024-07-10T01:50:13.777Z"
   },
   {
    "duration": 57,
    "start_time": "2024-07-10T01:50:13.967Z"
   },
   {
    "duration": 37,
    "start_time": "2024-07-10T01:50:14.028Z"
   },
   {
    "duration": 34,
    "start_time": "2024-07-10T01:50:14.068Z"
   },
   {
    "duration": 43,
    "start_time": "2024-07-10T01:50:14.104Z"
   },
   {
    "duration": 70,
    "start_time": "2024-07-10T01:50:14.150Z"
   },
   {
    "duration": 7,
    "start_time": "2024-07-10T01:50:14.223Z"
   },
   {
    "duration": 19,
    "start_time": "2024-07-10T01:50:14.233Z"
   },
   {
    "duration": 8,
    "start_time": "2024-07-10T01:50:14.255Z"
   },
   {
    "duration": 35,
    "start_time": "2024-07-10T01:50:14.266Z"
   },
   {
    "duration": 1338,
    "start_time": "2024-07-10T01:50:14.305Z"
   },
   {
    "duration": 1199,
    "start_time": "2024-07-10T01:50:15.646Z"
   },
   {
    "duration": 19,
    "start_time": "2024-07-10T01:50:16.848Z"
   },
   {
    "duration": 36,
    "start_time": "2024-07-10T01:50:16.870Z"
   },
   {
    "duration": 13,
    "start_time": "2024-07-10T01:50:16.913Z"
   },
   {
    "duration": 17,
    "start_time": "2024-07-10T01:50:16.929Z"
   },
   {
    "duration": 14,
    "start_time": "2024-07-10T01:50:16.949Z"
   },
   {
    "duration": 12,
    "start_time": "2024-07-10T01:50:17.012Z"
   },
   {
    "duration": 11,
    "start_time": "2024-07-10T01:50:17.026Z"
   },
   {
    "duration": 68,
    "start_time": "2024-07-10T01:50:17.040Z"
   },
   {
    "duration": 55,
    "start_time": "2024-07-10T01:50:17.113Z"
   },
   {
    "duration": 45,
    "start_time": "2024-07-10T01:50:17.171Z"
   },
   {
    "duration": 652,
    "start_time": "2024-07-10T01:50:17.219Z"
   },
   {
    "duration": 48,
    "start_time": "2024-07-10T01:50:17.876Z"
   },
   {
    "duration": 10,
    "start_time": "2024-07-10T01:50:17.927Z"
   },
   {
    "duration": 10,
    "start_time": "2024-07-10T01:50:17.939Z"
   },
   {
    "duration": 401,
    "start_time": "2024-07-10T01:50:17.953Z"
   },
   {
    "duration": 221,
    "start_time": "2024-07-10T01:50:18.357Z"
   },
   {
    "duration": 377,
    "start_time": "2024-07-10T01:50:18.582Z"
   },
   {
    "duration": 13,
    "start_time": "2024-07-10T01:50:18.962Z"
   },
   {
    "duration": 33,
    "start_time": "2024-07-10T01:50:18.979Z"
   },
   {
    "duration": 7,
    "start_time": "2024-07-10T01:50:19.017Z"
   },
   {
    "duration": 473,
    "start_time": "2024-07-10T01:50:19.028Z"
   },
   {
    "duration": 11,
    "start_time": "2024-07-10T01:50:19.504Z"
   },
   {
    "duration": 1624,
    "start_time": "2024-07-10T01:50:19.518Z"
   },
   {
    "duration": 1389,
    "start_time": "2024-07-10T01:50:21.145Z"
   },
   {
    "duration": 607,
    "start_time": "2024-07-10T01:50:22.537Z"
   },
   {
    "duration": 18,
    "start_time": "2024-07-10T01:50:23.147Z"
   },
   {
    "duration": 541,
    "start_time": "2024-07-10T01:50:23.167Z"
   },
   {
    "duration": 13,
    "start_time": "2024-07-10T01:50:23.710Z"
   },
   {
    "duration": 556,
    "start_time": "2024-07-10T01:50:23.726Z"
   },
   {
    "duration": 1410,
    "start_time": "2024-07-10T01:50:24.285Z"
   },
   {
    "duration": 616,
    "start_time": "2024-07-10T01:50:25.699Z"
   },
   {
    "duration": 32,
    "start_time": "2024-07-10T01:50:26.318Z"
   },
   {
    "duration": 512,
    "start_time": "2024-07-10T01:50:26.354Z"
   },
   {
    "duration": 72,
    "start_time": "2024-07-10T01:50:26.869Z"
   },
   {
    "duration": 11,
    "start_time": "2024-07-10T01:50:26.944Z"
   },
   {
    "duration": 2078,
    "start_time": "2024-07-10T01:50:26.957Z"
   },
   {
    "duration": 10,
    "start_time": "2024-07-10T01:50:29.039Z"
   },
   {
    "duration": 312,
    "start_time": "2024-07-10T01:51:04.123Z"
   },
   {
    "duration": 22,
    "start_time": "2024-07-10T01:51:50.603Z"
   },
   {
    "duration": 702,
    "start_time": "2024-07-10T01:52:04.424Z"
   },
   {
    "duration": 1785,
    "start_time": "2024-07-10T01:52:05.129Z"
   },
   {
    "duration": 24,
    "start_time": "2024-07-10T01:52:06.920Z"
   },
   {
    "duration": 19,
    "start_time": "2024-07-10T01:52:06.947Z"
   },
   {
    "duration": 43,
    "start_time": "2024-07-10T01:52:06.970Z"
   },
   {
    "duration": 15,
    "start_time": "2024-07-10T01:52:07.016Z"
   },
   {
    "duration": 12,
    "start_time": "2024-07-10T01:52:07.034Z"
   },
   {
    "duration": 382,
    "start_time": "2024-07-10T01:52:07.050Z"
   },
   {
    "duration": 23,
    "start_time": "2024-07-10T01:52:07.434Z"
   },
   {
    "duration": 209,
    "start_time": "2024-07-10T01:52:07.460Z"
   },
   {
    "duration": 171,
    "start_time": "2024-07-10T01:52:07.671Z"
   },
   {
    "duration": 64,
    "start_time": "2024-07-10T01:52:07.845Z"
   },
   {
    "duration": 46,
    "start_time": "2024-07-10T01:52:07.912Z"
   },
   {
    "duration": 8,
    "start_time": "2024-07-10T01:52:07.965Z"
   },
   {
    "duration": 40,
    "start_time": "2024-07-10T01:52:08.002Z"
   },
   {
    "duration": 70,
    "start_time": "2024-07-10T01:52:08.045Z"
   },
   {
    "duration": 8,
    "start_time": "2024-07-10T01:52:08.117Z"
   },
   {
    "duration": 6,
    "start_time": "2024-07-10T01:52:08.129Z"
   },
   {
    "duration": 7,
    "start_time": "2024-07-10T01:52:08.141Z"
   },
   {
    "duration": 7,
    "start_time": "2024-07-10T01:52:08.152Z"
   },
   {
    "duration": 1373,
    "start_time": "2024-07-10T01:52:08.202Z"
   },
   {
    "duration": 1172,
    "start_time": "2024-07-10T01:52:09.578Z"
   },
   {
    "duration": 19,
    "start_time": "2024-07-10T01:52:10.752Z"
   },
   {
    "duration": 34,
    "start_time": "2024-07-10T01:52:10.774Z"
   },
   {
    "duration": 13,
    "start_time": "2024-07-10T01:52:10.812Z"
   },
   {
    "duration": 17,
    "start_time": "2024-07-10T01:52:10.828Z"
   },
   {
    "duration": 54,
    "start_time": "2024-07-10T01:52:10.848Z"
   },
   {
    "duration": 11,
    "start_time": "2024-07-10T01:52:10.905Z"
   },
   {
    "duration": 12,
    "start_time": "2024-07-10T01:52:10.919Z"
   },
   {
    "duration": 68,
    "start_time": "2024-07-10T01:52:10.933Z"
   },
   {
    "duration": 51,
    "start_time": "2024-07-10T01:52:11.004Z"
   },
   {
    "duration": 49,
    "start_time": "2024-07-10T01:52:11.057Z"
   },
   {
    "duration": 648,
    "start_time": "2024-07-10T01:52:11.108Z"
   },
   {
    "duration": 48,
    "start_time": "2024-07-10T01:52:11.758Z"
   },
   {
    "duration": 10,
    "start_time": "2024-07-10T01:52:11.809Z"
   },
   {
    "duration": 11,
    "start_time": "2024-07-10T01:52:11.821Z"
   },
   {
    "duration": 386,
    "start_time": "2024-07-10T01:52:11.835Z"
   },
   {
    "duration": 231,
    "start_time": "2024-07-10T01:52:12.224Z"
   },
   {
    "duration": 403,
    "start_time": "2024-07-10T01:52:12.458Z"
   },
   {
    "duration": 14,
    "start_time": "2024-07-10T01:52:12.864Z"
   },
   {
    "duration": 12,
    "start_time": "2024-07-10T01:52:12.904Z"
   },
   {
    "duration": 7,
    "start_time": "2024-07-10T01:52:12.919Z"
   },
   {
    "duration": 434,
    "start_time": "2024-07-10T01:52:12.930Z"
   },
   {
    "duration": 12,
    "start_time": "2024-07-10T01:52:13.367Z"
   },
   {
    "duration": 1634,
    "start_time": "2024-07-10T01:52:13.382Z"
   },
   {
    "duration": 1345,
    "start_time": "2024-07-10T01:52:15.020Z"
   },
   {
    "duration": 612,
    "start_time": "2024-07-10T01:52:16.368Z"
   },
   {
    "duration": 29,
    "start_time": "2024-07-10T01:52:16.983Z"
   },
   {
    "duration": 538,
    "start_time": "2024-07-10T01:52:17.015Z"
   },
   {
    "duration": 13,
    "start_time": "2024-07-10T01:52:17.556Z"
   },
   {
    "duration": 517,
    "start_time": "2024-07-10T01:52:17.572Z"
   },
   {
    "duration": 1248,
    "start_time": "2024-07-10T01:52:18.101Z"
   },
   {
    "duration": 555,
    "start_time": "2024-07-10T01:52:19.351Z"
   },
   {
    "duration": 18,
    "start_time": "2024-07-10T01:52:19.910Z"
   },
   {
    "duration": 461,
    "start_time": "2024-07-10T01:52:19.932Z"
   },
   {
    "duration": 54,
    "start_time": "2024-07-10T01:52:20.401Z"
   },
   {
    "duration": 10,
    "start_time": "2024-07-10T01:52:20.458Z"
   },
   {
    "duration": 1804,
    "start_time": "2024-07-10T01:52:20.472Z"
   },
   {
    "duration": 78,
    "start_time": "2024-07-10T01:52:22.279Z"
   },
   {
    "duration": 313,
    "start_time": "2024-07-10T01:53:50.791Z"
   },
   {
    "duration": 675,
    "start_time": "2024-07-10T01:54:01.562Z"
   },
   {
    "duration": 1747,
    "start_time": "2024-07-10T01:54:02.242Z"
   },
   {
    "duration": 25,
    "start_time": "2024-07-10T01:54:03.992Z"
   },
   {
    "duration": 16,
    "start_time": "2024-07-10T01:54:04.020Z"
   },
   {
    "duration": 15,
    "start_time": "2024-07-10T01:54:04.041Z"
   },
   {
    "duration": 48,
    "start_time": "2024-07-10T01:54:04.059Z"
   },
   {
    "duration": 15,
    "start_time": "2024-07-10T01:54:04.110Z"
   },
   {
    "duration": 354,
    "start_time": "2024-07-10T01:54:04.129Z"
   },
   {
    "duration": 31,
    "start_time": "2024-07-10T01:54:04.486Z"
   },
   {
    "duration": 212,
    "start_time": "2024-07-10T01:54:04.521Z"
   },
   {
    "duration": 189,
    "start_time": "2024-07-10T01:54:04.736Z"
   },
   {
    "duration": 45,
    "start_time": "2024-07-10T01:54:04.928Z"
   },
   {
    "duration": 57,
    "start_time": "2024-07-10T01:54:04.975Z"
   },
   {
    "duration": 7,
    "start_time": "2024-07-10T01:54:05.039Z"
   },
   {
    "duration": 69,
    "start_time": "2024-07-10T01:54:05.049Z"
   },
   {
    "duration": 47,
    "start_time": "2024-07-10T01:54:05.121Z"
   },
   {
    "duration": 30,
    "start_time": "2024-07-10T01:54:05.171Z"
   },
   {
    "duration": 7,
    "start_time": "2024-07-10T01:54:05.206Z"
   },
   {
    "duration": 9,
    "start_time": "2024-07-10T01:54:05.216Z"
   },
   {
    "duration": 6,
    "start_time": "2024-07-10T01:54:05.228Z"
   },
   {
    "duration": 1487,
    "start_time": "2024-07-10T01:54:05.237Z"
   },
   {
    "duration": 1174,
    "start_time": "2024-07-10T01:54:06.729Z"
   },
   {
    "duration": 19,
    "start_time": "2024-07-10T01:54:07.910Z"
   },
   {
    "duration": 16,
    "start_time": "2024-07-10T01:54:07.932Z"
   },
   {
    "duration": 13,
    "start_time": "2024-07-10T01:54:07.951Z"
   },
   {
    "duration": 18,
    "start_time": "2024-07-10T01:54:08.003Z"
   },
   {
    "duration": 14,
    "start_time": "2024-07-10T01:54:08.024Z"
   },
   {
    "duration": 11,
    "start_time": "2024-07-10T01:54:08.041Z"
   },
   {
    "duration": 11,
    "start_time": "2024-07-10T01:54:08.101Z"
   },
   {
    "duration": 27,
    "start_time": "2024-07-10T01:54:08.115Z"
   },
   {
    "duration": 85,
    "start_time": "2024-07-10T01:54:08.145Z"
   },
   {
    "duration": 20,
    "start_time": "2024-07-10T01:54:08.233Z"
   },
   {
    "duration": 695,
    "start_time": "2024-07-10T01:54:08.256Z"
   },
   {
    "duration": 54,
    "start_time": "2024-07-10T01:54:08.954Z"
   },
   {
    "duration": 11,
    "start_time": "2024-07-10T01:54:09.013Z"
   },
   {
    "duration": 10,
    "start_time": "2024-07-10T01:54:09.027Z"
   },
   {
    "duration": 392,
    "start_time": "2024-07-10T01:54:09.040Z"
   },
   {
    "duration": 229,
    "start_time": "2024-07-10T01:54:09.435Z"
   },
   {
    "duration": 378,
    "start_time": "2024-07-10T01:54:09.667Z"
   },
   {
    "duration": 13,
    "start_time": "2024-07-10T01:54:10.050Z"
   },
   {
    "duration": 37,
    "start_time": "2024-07-10T01:54:10.072Z"
   },
   {
    "duration": 10,
    "start_time": "2024-07-10T01:54:10.112Z"
   },
   {
    "duration": 426,
    "start_time": "2024-07-10T01:54:10.126Z"
   },
   {
    "duration": 11,
    "start_time": "2024-07-10T01:54:10.556Z"
   },
   {
    "duration": 1655,
    "start_time": "2024-07-10T01:54:10.570Z"
   },
   {
    "duration": 1405,
    "start_time": "2024-07-10T01:54:12.228Z"
   },
   {
    "duration": 606,
    "start_time": "2024-07-10T01:54:13.636Z"
   },
   {
    "duration": 18,
    "start_time": "2024-07-10T01:54:14.245Z"
   },
   {
    "duration": 555,
    "start_time": "2024-07-10T01:54:14.266Z"
   },
   {
    "duration": 12,
    "start_time": "2024-07-10T01:54:14.825Z"
   },
   {
    "duration": 508,
    "start_time": "2024-07-10T01:54:14.840Z"
   },
   {
    "duration": 1241,
    "start_time": "2024-07-10T01:54:15.351Z"
   },
   {
    "duration": 557,
    "start_time": "2024-07-10T01:54:16.603Z"
   },
   {
    "duration": 19,
    "start_time": "2024-07-10T01:54:17.163Z"
   },
   {
    "duration": 446,
    "start_time": "2024-07-10T01:54:17.202Z"
   },
   {
    "duration": 64,
    "start_time": "2024-07-10T01:54:17.651Z"
   },
   {
    "duration": 9,
    "start_time": "2024-07-10T01:54:17.718Z"
   },
   {
    "duration": 1845,
    "start_time": "2024-07-10T01:54:17.731Z"
   },
   {
    "duration": 80,
    "start_time": "2024-07-10T01:54:19.578Z"
   },
   {
    "duration": 810,
    "start_time": "2024-07-10T01:55:36.398Z"
   },
   {
    "duration": 2050,
    "start_time": "2024-07-10T01:55:37.213Z"
   },
   {
    "duration": 21,
    "start_time": "2024-07-10T01:55:39.266Z"
   },
   {
    "duration": 18,
    "start_time": "2024-07-10T01:55:39.304Z"
   },
   {
    "duration": 19,
    "start_time": "2024-07-10T01:55:39.327Z"
   },
   {
    "duration": 18,
    "start_time": "2024-07-10T01:55:39.349Z"
   },
   {
    "duration": 44,
    "start_time": "2024-07-10T01:55:39.370Z"
   },
   {
    "duration": 408,
    "start_time": "2024-07-10T01:55:39.417Z"
   },
   {
    "duration": 24,
    "start_time": "2024-07-10T01:55:39.827Z"
   },
   {
    "duration": 239,
    "start_time": "2024-07-10T01:55:39.854Z"
   },
   {
    "duration": 194,
    "start_time": "2024-07-10T01:55:40.096Z"
   },
   {
    "duration": 48,
    "start_time": "2024-07-10T01:55:40.301Z"
   },
   {
    "duration": 53,
    "start_time": "2024-07-10T01:55:40.352Z"
   },
   {
    "duration": 9,
    "start_time": "2024-07-10T01:55:40.413Z"
   },
   {
    "duration": 77,
    "start_time": "2024-07-10T01:55:40.426Z"
   },
   {
    "duration": 53,
    "start_time": "2024-07-10T01:55:40.506Z"
   },
   {
    "duration": 9,
    "start_time": "2024-07-10T01:55:40.562Z"
   },
   {
    "duration": 7,
    "start_time": "2024-07-10T01:55:40.603Z"
   },
   {
    "duration": 7,
    "start_time": "2024-07-10T01:55:40.613Z"
   },
   {
    "duration": 8,
    "start_time": "2024-07-10T01:55:40.623Z"
   },
   {
    "duration": 1469,
    "start_time": "2024-07-10T01:55:40.634Z"
   },
   {
    "duration": 1229,
    "start_time": "2024-07-10T01:55:42.106Z"
   },
   {
    "duration": 19,
    "start_time": "2024-07-10T01:55:43.338Z"
   },
   {
    "duration": 41,
    "start_time": "2024-07-10T01:55:43.360Z"
   },
   {
    "duration": 13,
    "start_time": "2024-07-10T01:55:43.405Z"
   },
   {
    "duration": 17,
    "start_time": "2024-07-10T01:55:43.422Z"
   },
   {
    "duration": 14,
    "start_time": "2024-07-10T01:55:43.445Z"
   },
   {
    "duration": 49,
    "start_time": "2024-07-10T01:55:43.462Z"
   },
   {
    "duration": 11,
    "start_time": "2024-07-10T01:55:43.514Z"
   },
   {
    "duration": 28,
    "start_time": "2024-07-10T01:55:43.529Z"
   },
   {
    "duration": 85,
    "start_time": "2024-07-10T01:55:43.560Z"
   },
   {
    "duration": 20,
    "start_time": "2024-07-10T01:55:43.648Z"
   },
   {
    "duration": 725,
    "start_time": "2024-07-10T01:55:43.671Z"
   },
   {
    "duration": 36,
    "start_time": "2024-07-10T01:55:44.402Z"
   },
   {
    "duration": 10,
    "start_time": "2024-07-10T01:55:44.441Z"
   },
   {
    "duration": 9,
    "start_time": "2024-07-10T01:55:44.454Z"
   },
   {
    "duration": 349,
    "start_time": "2024-07-10T01:55:44.501Z"
   },
   {
    "duration": 223,
    "start_time": "2024-07-10T01:55:44.853Z"
   },
   {
    "duration": 379,
    "start_time": "2024-07-10T01:55:45.079Z"
   },
   {
    "duration": 14,
    "start_time": "2024-07-10T01:55:45.461Z"
   },
   {
    "duration": 14,
    "start_time": "2024-07-10T01:55:45.507Z"
   },
   {
    "duration": 8,
    "start_time": "2024-07-10T01:55:45.525Z"
   },
   {
    "duration": 438,
    "start_time": "2024-07-10T01:55:45.536Z"
   },
   {
    "duration": 12,
    "start_time": "2024-07-10T01:55:45.977Z"
   },
   {
    "duration": 1657,
    "start_time": "2024-07-10T01:55:46.002Z"
   },
   {
    "duration": 1431,
    "start_time": "2024-07-10T01:55:47.663Z"
   },
   {
    "duration": 595,
    "start_time": "2024-07-10T01:55:49.101Z"
   },
   {
    "duration": 19,
    "start_time": "2024-07-10T01:55:49.703Z"
   },
   {
    "duration": 583,
    "start_time": "2024-07-10T01:55:49.725Z"
   },
   {
    "duration": 13,
    "start_time": "2024-07-10T01:55:50.311Z"
   },
   {
    "duration": 510,
    "start_time": "2024-07-10T01:55:50.326Z"
   },
   {
    "duration": 1260,
    "start_time": "2024-07-10T01:55:50.839Z"
   },
   {
    "duration": 566,
    "start_time": "2024-07-10T01:55:52.103Z"
   },
   {
    "duration": 34,
    "start_time": "2024-07-10T01:55:52.672Z"
   },
   {
    "duration": 459,
    "start_time": "2024-07-10T01:55:52.709Z"
   },
   {
    "duration": 67,
    "start_time": "2024-07-10T01:55:53.172Z"
   },
   {
    "duration": 11,
    "start_time": "2024-07-10T01:55:53.243Z"
   },
   {
    "duration": 2123,
    "start_time": "2024-07-10T01:55:53.257Z"
   },
   {
    "duration": 145,
    "start_time": "2024-07-10T01:55:55.383Z"
   },
   {
    "duration": 703,
    "start_time": "2024-07-10T01:56:33.637Z"
   },
   {
    "duration": 1870,
    "start_time": "2024-07-10T01:56:34.344Z"
   },
   {
    "duration": 22,
    "start_time": "2024-07-10T01:56:36.217Z"
   },
   {
    "duration": 21,
    "start_time": "2024-07-10T01:56:36.243Z"
   },
   {
    "duration": 14,
    "start_time": "2024-07-10T01:56:36.301Z"
   },
   {
    "duration": 18,
    "start_time": "2024-07-10T01:56:36.319Z"
   },
   {
    "duration": 14,
    "start_time": "2024-07-10T01:56:36.340Z"
   },
   {
    "duration": 396,
    "start_time": "2024-07-10T01:56:36.358Z"
   },
   {
    "duration": 30,
    "start_time": "2024-07-10T01:56:36.758Z"
   },
   {
    "duration": 199,
    "start_time": "2024-07-10T01:56:36.805Z"
   },
   {
    "duration": 179,
    "start_time": "2024-07-10T01:56:37.008Z"
   },
   {
    "duration": 55,
    "start_time": "2024-07-10T01:56:37.191Z"
   },
   {
    "duration": 76,
    "start_time": "2024-07-10T01:56:37.250Z"
   },
   {
    "duration": 8,
    "start_time": "2024-07-10T01:56:37.335Z"
   },
   {
    "duration": 70,
    "start_time": "2024-07-10T01:56:37.346Z"
   },
   {
    "duration": 51,
    "start_time": "2024-07-10T01:56:37.419Z"
   },
   {
    "duration": 34,
    "start_time": "2024-07-10T01:56:37.473Z"
   },
   {
    "duration": 8,
    "start_time": "2024-07-10T01:56:37.512Z"
   },
   {
    "duration": 9,
    "start_time": "2024-07-10T01:56:37.523Z"
   },
   {
    "duration": 11,
    "start_time": "2024-07-10T01:56:37.536Z"
   },
   {
    "duration": 1423,
    "start_time": "2024-07-10T01:56:37.552Z"
   },
   {
    "duration": 1199,
    "start_time": "2024-07-10T01:56:38.978Z"
   },
   {
    "duration": 32,
    "start_time": "2024-07-10T01:56:40.180Z"
   },
   {
    "duration": 18,
    "start_time": "2024-07-10T01:56:40.215Z"
   },
   {
    "duration": 18,
    "start_time": "2024-07-10T01:56:40.237Z"
   },
   {
    "duration": 57,
    "start_time": "2024-07-10T01:56:40.258Z"
   },
   {
    "duration": 15,
    "start_time": "2024-07-10T01:56:40.319Z"
   },
   {
    "duration": 13,
    "start_time": "2024-07-10T01:56:40.337Z"
   },
   {
    "duration": 50,
    "start_time": "2024-07-10T01:56:40.353Z"
   },
   {
    "duration": 29,
    "start_time": "2024-07-10T01:56:40.409Z"
   },
   {
    "duration": 77,
    "start_time": "2024-07-10T01:56:40.441Z"
   },
   {
    "duration": 22,
    "start_time": "2024-07-10T01:56:40.522Z"
   },
   {
    "duration": 691,
    "start_time": "2024-07-10T01:56:40.547Z"
   },
   {
    "duration": 36,
    "start_time": "2024-07-10T01:56:41.244Z"
   },
   {
    "duration": 26,
    "start_time": "2024-07-10T01:56:41.282Z"
   },
   {
    "duration": 13,
    "start_time": "2024-07-10T01:56:41.313Z"
   },
   {
    "duration": 369,
    "start_time": "2024-07-10T01:56:41.329Z"
   },
   {
    "duration": 256,
    "start_time": "2024-07-10T01:56:41.701Z"
   },
   {
    "duration": 415,
    "start_time": "2024-07-10T01:56:41.960Z"
   },
   {
    "duration": 26,
    "start_time": "2024-07-10T01:56:42.379Z"
   },
   {
    "duration": 13,
    "start_time": "2024-07-10T01:56:42.414Z"
   },
   {
    "duration": 9,
    "start_time": "2024-07-10T01:56:42.432Z"
   },
   {
    "duration": 551,
    "start_time": "2024-07-10T01:56:42.444Z"
   },
   {
    "duration": 13,
    "start_time": "2024-07-10T01:56:43.003Z"
   },
   {
    "duration": 1714,
    "start_time": "2024-07-10T01:56:43.019Z"
   },
   {
    "duration": 1453,
    "start_time": "2024-07-10T01:56:44.736Z"
   },
   {
    "duration": 639,
    "start_time": "2024-07-10T01:56:46.193Z"
   },
   {
    "duration": 20,
    "start_time": "2024-07-10T01:56:46.835Z"
   },
   {
    "duration": 600,
    "start_time": "2024-07-10T01:56:46.858Z"
   },
   {
    "duration": 39,
    "start_time": "2024-07-10T01:56:47.462Z"
   },
   {
    "duration": 568,
    "start_time": "2024-07-10T01:56:47.504Z"
   },
   {
    "duration": 1343,
    "start_time": "2024-07-10T01:56:48.075Z"
   },
   {
    "duration": 540,
    "start_time": "2024-07-10T01:56:49.421Z"
   },
   {
    "duration": 38,
    "start_time": "2024-07-10T01:56:49.965Z"
   },
   {
    "duration": 528,
    "start_time": "2024-07-10T01:56:50.007Z"
   },
   {
    "duration": 77,
    "start_time": "2024-07-10T01:56:50.542Z"
   },
   {
    "duration": 11,
    "start_time": "2024-07-10T01:56:50.622Z"
   },
   {
    "duration": 1934,
    "start_time": "2024-07-10T01:56:50.636Z"
   },
   {
    "duration": 178,
    "start_time": "2024-07-10T01:56:52.574Z"
   },
   {
    "duration": 316,
    "start_time": "2024-07-10T01:57:56.982Z"
   },
   {
    "duration": 720,
    "start_time": "2024-07-10T01:59:08.674Z"
   },
   {
    "duration": 1745,
    "start_time": "2024-07-10T01:59:09.401Z"
   },
   {
    "duration": 20,
    "start_time": "2024-07-10T01:59:11.149Z"
   },
   {
    "duration": 38,
    "start_time": "2024-07-10T01:59:11.173Z"
   },
   {
    "duration": 14,
    "start_time": "2024-07-10T01:59:11.214Z"
   },
   {
    "duration": 13,
    "start_time": "2024-07-10T01:59:11.232Z"
   },
   {
    "duration": 11,
    "start_time": "2024-07-10T01:59:11.248Z"
   },
   {
    "duration": 345,
    "start_time": "2024-07-10T01:59:11.302Z"
   },
   {
    "duration": 24,
    "start_time": "2024-07-10T01:59:11.650Z"
   },
   {
    "duration": 182,
    "start_time": "2024-07-10T01:59:11.701Z"
   },
   {
    "duration": 172,
    "start_time": "2024-07-10T01:59:11.886Z"
   },
   {
    "duration": 57,
    "start_time": "2024-07-10T01:59:12.061Z"
   },
   {
    "duration": 36,
    "start_time": "2024-07-10T01:59:12.121Z"
   },
   {
    "duration": 7,
    "start_time": "2024-07-10T01:59:12.160Z"
   },
   {
    "duration": 64,
    "start_time": "2024-07-10T01:59:12.172Z"
   },
   {
    "duration": 73,
    "start_time": "2024-07-10T01:59:12.240Z"
   },
   {
    "duration": 7,
    "start_time": "2024-07-10T01:59:12.316Z"
   },
   {
    "duration": 6,
    "start_time": "2024-07-10T01:59:12.327Z"
   },
   {
    "duration": 7,
    "start_time": "2024-07-10T01:59:12.336Z"
   },
   {
    "duration": 7,
    "start_time": "2024-07-10T01:59:12.346Z"
   },
   {
    "duration": 1390,
    "start_time": "2024-07-10T01:59:12.356Z"
   },
   {
    "duration": 1158,
    "start_time": "2024-07-10T01:59:13.750Z"
   },
   {
    "duration": 18,
    "start_time": "2024-07-10T01:59:14.911Z"
   },
   {
    "duration": 13,
    "start_time": "2024-07-10T01:59:14.932Z"
   },
   {
    "duration": 53,
    "start_time": "2024-07-10T01:59:14.949Z"
   },
   {
    "duration": 21,
    "start_time": "2024-07-10T01:59:15.006Z"
   },
   {
    "duration": 17,
    "start_time": "2024-07-10T01:59:15.031Z"
   },
   {
    "duration": 48,
    "start_time": "2024-07-10T01:59:15.057Z"
   },
   {
    "duration": 12,
    "start_time": "2024-07-10T01:59:15.108Z"
   },
   {
    "duration": 28,
    "start_time": "2024-07-10T01:59:15.123Z"
   },
   {
    "duration": 84,
    "start_time": "2024-07-10T01:59:15.154Z"
   },
   {
    "duration": 19,
    "start_time": "2024-07-10T01:59:15.241Z"
   },
   {
    "duration": 674,
    "start_time": "2024-07-10T01:59:15.263Z"
   },
   {
    "duration": 43,
    "start_time": "2024-07-10T01:59:15.940Z"
   },
   {
    "duration": 10,
    "start_time": "2024-07-10T01:59:16.003Z"
   },
   {
    "duration": 11,
    "start_time": "2024-07-10T01:59:16.017Z"
   },
   {
    "duration": 400,
    "start_time": "2024-07-10T01:59:16.031Z"
   },
   {
    "duration": 227,
    "start_time": "2024-07-10T01:59:16.435Z"
   },
   {
    "duration": 387,
    "start_time": "2024-07-10T01:59:16.665Z"
   },
   {
    "duration": 13,
    "start_time": "2024-07-10T01:59:17.055Z"
   },
   {
    "duration": 39,
    "start_time": "2024-07-10T01:59:17.071Z"
   },
   {
    "duration": 10,
    "start_time": "2024-07-10T01:59:17.113Z"
   },
   {
    "duration": 446,
    "start_time": "2024-07-10T01:59:17.127Z"
   },
   {
    "duration": 25,
    "start_time": "2024-07-10T01:59:17.576Z"
   },
   {
    "duration": 1646,
    "start_time": "2024-07-10T01:59:17.604Z"
   },
   {
    "duration": 1372,
    "start_time": "2024-07-10T01:59:19.257Z"
   },
   {
    "duration": 592,
    "start_time": "2024-07-10T01:59:20.632Z"
   },
   {
    "duration": 24,
    "start_time": "2024-07-10T01:59:21.227Z"
   },
   {
    "duration": 553,
    "start_time": "2024-07-10T01:59:21.255Z"
   },
   {
    "duration": 13,
    "start_time": "2024-07-10T01:59:21.811Z"
   },
   {
    "duration": 505,
    "start_time": "2024-07-10T01:59:21.827Z"
   },
   {
    "duration": 1251,
    "start_time": "2024-07-10T01:59:22.335Z"
   },
   {
    "duration": 566,
    "start_time": "2024-07-10T01:59:23.589Z"
   },
   {
    "duration": 20,
    "start_time": "2024-07-10T01:59:24.158Z"
   },
   {
    "duration": 437,
    "start_time": "2024-07-10T01:59:24.201Z"
   },
   {
    "duration": 67,
    "start_time": "2024-07-10T01:59:24.641Z"
   },
   {
    "duration": 11,
    "start_time": "2024-07-10T01:59:24.710Z"
   },
   {
    "duration": 380,
    "start_time": "2024-07-10T01:59:24.723Z"
   },
   {
    "duration": 0,
    "start_time": "2024-07-10T01:59:25.106Z"
   },
   {
    "duration": 0,
    "start_time": "2024-07-10T01:59:25.109Z"
   },
   {
    "duration": 0,
    "start_time": "2024-07-10T01:59:25.112Z"
   },
   {
    "duration": 0,
    "start_time": "2024-07-10T01:59:25.114Z"
   },
   {
    "duration": 725,
    "start_time": "2024-07-10T01:59:45.637Z"
   },
   {
    "duration": 1578,
    "start_time": "2024-07-10T01:59:46.366Z"
   },
   {
    "duration": 19,
    "start_time": "2024-07-10T01:59:47.947Z"
   },
   {
    "duration": 41,
    "start_time": "2024-07-10T01:59:47.969Z"
   },
   {
    "duration": 14,
    "start_time": "2024-07-10T01:59:48.015Z"
   },
   {
    "duration": 15,
    "start_time": "2024-07-10T01:59:48.032Z"
   },
   {
    "duration": 13,
    "start_time": "2024-07-10T01:59:48.050Z"
   },
   {
    "duration": 417,
    "start_time": "2024-07-10T01:59:48.065Z"
   },
   {
    "duration": 31,
    "start_time": "2024-07-10T01:59:48.485Z"
   },
   {
    "duration": 193,
    "start_time": "2024-07-10T01:59:48.519Z"
   },
   {
    "duration": 167,
    "start_time": "2024-07-10T01:59:48.715Z"
   },
   {
    "duration": 54,
    "start_time": "2024-07-10T01:59:48.885Z"
   },
   {
    "duration": 36,
    "start_time": "2024-07-10T01:59:48.942Z"
   },
   {
    "duration": 8,
    "start_time": "2024-07-10T01:59:49.004Z"
   },
   {
    "duration": 43,
    "start_time": "2024-07-10T01:59:49.014Z"
   },
   {
    "duration": 78,
    "start_time": "2024-07-10T01:59:49.060Z"
   },
   {
    "duration": 9,
    "start_time": "2024-07-10T01:59:49.141Z"
   },
   {
    "duration": 7,
    "start_time": "2024-07-10T01:59:49.152Z"
   },
   {
    "duration": 6,
    "start_time": "2024-07-10T01:59:49.162Z"
   },
   {
    "duration": 7,
    "start_time": "2024-07-10T01:59:49.203Z"
   },
   {
    "duration": 1340,
    "start_time": "2024-07-10T01:59:49.213Z"
   },
   {
    "duration": 1173,
    "start_time": "2024-07-10T01:59:50.557Z"
   },
   {
    "duration": 18,
    "start_time": "2024-07-10T01:59:51.734Z"
   },
   {
    "duration": 14,
    "start_time": "2024-07-10T01:59:51.755Z"
   },
   {
    "duration": 13,
    "start_time": "2024-07-10T01:59:51.800Z"
   },
   {
    "duration": 18,
    "start_time": "2024-07-10T01:59:51.815Z"
   },
   {
    "duration": 13,
    "start_time": "2024-07-10T01:59:51.836Z"
   },
   {
    "duration": 55,
    "start_time": "2024-07-10T01:59:51.852Z"
   },
   {
    "duration": 12,
    "start_time": "2024-07-10T01:59:51.910Z"
   },
   {
    "duration": 28,
    "start_time": "2024-07-10T01:59:51.925Z"
   },
   {
    "duration": 79,
    "start_time": "2024-07-10T01:59:51.957Z"
   },
   {
    "duration": 20,
    "start_time": "2024-07-10T01:59:52.039Z"
   },
   {
    "duration": 670,
    "start_time": "2024-07-10T01:59:52.062Z"
   },
   {
    "duration": 43,
    "start_time": "2024-07-10T01:59:52.736Z"
   },
   {
    "duration": 21,
    "start_time": "2024-07-10T01:59:52.786Z"
   },
   {
    "duration": 12,
    "start_time": "2024-07-10T01:59:52.812Z"
   },
   {
    "duration": 377,
    "start_time": "2024-07-10T01:59:52.827Z"
   },
   {
    "duration": 220,
    "start_time": "2024-07-10T01:59:53.208Z"
   },
   {
    "duration": 375,
    "start_time": "2024-07-10T01:59:53.430Z"
   },
   {
    "duration": 13,
    "start_time": "2024-07-10T01:59:53.808Z"
   },
   {
    "duration": 14,
    "start_time": "2024-07-10T01:59:53.830Z"
   },
   {
    "duration": 8,
    "start_time": "2024-07-10T01:59:53.847Z"
   },
   {
    "duration": 477,
    "start_time": "2024-07-10T01:59:53.858Z"
   },
   {
    "duration": 12,
    "start_time": "2024-07-10T01:59:54.338Z"
   },
   {
    "duration": 1633,
    "start_time": "2024-07-10T01:59:54.353Z"
   },
   {
    "duration": 1394,
    "start_time": "2024-07-10T01:59:55.990Z"
   },
   {
    "duration": 586,
    "start_time": "2024-07-10T01:59:57.387Z"
   },
   {
    "duration": 30,
    "start_time": "2024-07-10T01:59:57.976Z"
   },
   {
    "duration": 564,
    "start_time": "2024-07-10T01:59:58.010Z"
   },
   {
    "duration": 26,
    "start_time": "2024-07-10T01:59:58.577Z"
   },
   {
    "duration": 508,
    "start_time": "2024-07-10T01:59:58.605Z"
   },
   {
    "duration": 1243,
    "start_time": "2024-07-10T01:59:59.116Z"
   },
   {
    "duration": 577,
    "start_time": "2024-07-10T02:00:00.362Z"
   },
   {
    "duration": 21,
    "start_time": "2024-07-10T02:00:00.942Z"
   },
   {
    "duration": 478,
    "start_time": "2024-07-10T02:00:00.966Z"
   },
   {
    "duration": 67,
    "start_time": "2024-07-10T02:00:01.447Z"
   },
   {
    "duration": 10,
    "start_time": "2024-07-10T02:00:01.518Z"
   },
   {
    "duration": 1868,
    "start_time": "2024-07-10T02:00:01.535Z"
   },
   {
    "duration": 70,
    "start_time": "2024-07-10T02:00:03.405Z"
   },
   {
    "duration": 721,
    "start_time": "2024-07-10T02:04:01.121Z"
   },
   {
    "duration": 1750,
    "start_time": "2024-07-10T02:04:01.845Z"
   },
   {
    "duration": 19,
    "start_time": "2024-07-10T02:04:03.598Z"
   },
   {
    "duration": 16,
    "start_time": "2024-07-10T02:04:03.621Z"
   },
   {
    "duration": 14,
    "start_time": "2024-07-10T02:04:03.644Z"
   },
   {
    "duration": 50,
    "start_time": "2024-07-10T02:04:03.662Z"
   },
   {
    "duration": 11,
    "start_time": "2024-07-10T02:04:03.716Z"
   },
   {
    "duration": 376,
    "start_time": "2024-07-10T02:04:03.731Z"
   },
   {
    "duration": 24,
    "start_time": "2024-07-10T02:04:04.109Z"
   },
   {
    "duration": 200,
    "start_time": "2024-07-10T02:04:04.136Z"
   },
   {
    "duration": 172,
    "start_time": "2024-07-10T02:04:04.338Z"
   },
   {
    "duration": 44,
    "start_time": "2024-07-10T02:04:04.513Z"
   },
   {
    "duration": 60,
    "start_time": "2024-07-10T02:04:04.560Z"
   },
   {
    "duration": 7,
    "start_time": "2024-07-10T02:04:04.627Z"
   },
   {
    "duration": 66,
    "start_time": "2024-07-10T02:04:04.637Z"
   },
   {
    "duration": 47,
    "start_time": "2024-07-10T02:04:04.706Z"
   },
   {
    "duration": 7,
    "start_time": "2024-07-10T02:04:04.756Z"
   },
   {
    "duration": 38,
    "start_time": "2024-07-10T02:04:04.766Z"
   },
   {
    "duration": 7,
    "start_time": "2024-07-10T02:04:04.806Z"
   },
   {
    "duration": 7,
    "start_time": "2024-07-10T02:04:04.816Z"
   },
   {
    "duration": 1416,
    "start_time": "2024-07-10T02:04:04.826Z"
   },
   {
    "duration": 1174,
    "start_time": "2024-07-10T02:04:06.246Z"
   },
   {
    "duration": 17,
    "start_time": "2024-07-10T02:04:07.423Z"
   },
   {
    "duration": 13,
    "start_time": "2024-07-10T02:04:07.444Z"
   },
   {
    "duration": 46,
    "start_time": "2024-07-10T02:04:07.460Z"
   },
   {
    "duration": 19,
    "start_time": "2024-07-10T02:04:07.509Z"
   },
   {
    "duration": 15,
    "start_time": "2024-07-10T02:04:07.530Z"
   },
   {
    "duration": 11,
    "start_time": "2024-07-10T02:04:07.548Z"
   },
   {
    "duration": 11,
    "start_time": "2024-07-10T02:04:07.602Z"
   },
   {
    "duration": 28,
    "start_time": "2024-07-10T02:04:07.617Z"
   },
   {
    "duration": 84,
    "start_time": "2024-07-10T02:04:07.648Z"
   },
   {
    "duration": 19,
    "start_time": "2024-07-10T02:04:07.735Z"
   },
   {
    "duration": 678,
    "start_time": "2024-07-10T02:04:07.758Z"
   },
   {
    "duration": 36,
    "start_time": "2024-07-10T02:04:08.439Z"
   },
   {
    "duration": 29,
    "start_time": "2024-07-10T02:04:08.478Z"
   },
   {
    "duration": 9,
    "start_time": "2024-07-10T02:04:08.511Z"
   },
   {
    "duration": 381,
    "start_time": "2024-07-10T02:04:08.523Z"
   },
   {
    "duration": 224,
    "start_time": "2024-07-10T02:04:08.907Z"
   },
   {
    "duration": 410,
    "start_time": "2024-07-10T02:04:09.134Z"
   },
   {
    "duration": 15,
    "start_time": "2024-07-10T02:04:09.547Z"
   },
   {
    "duration": 37,
    "start_time": "2024-07-10T02:04:09.572Z"
   },
   {
    "duration": 8,
    "start_time": "2024-07-10T02:04:09.612Z"
   },
   {
    "duration": 426,
    "start_time": "2024-07-10T02:04:09.624Z"
   },
   {
    "duration": 10,
    "start_time": "2024-07-10T02:04:10.054Z"
   },
   {
    "duration": 1648,
    "start_time": "2024-07-10T02:04:10.067Z"
   },
   {
    "duration": 1375,
    "start_time": "2024-07-10T02:04:11.718Z"
   },
   {
    "duration": 590,
    "start_time": "2024-07-10T02:04:13.097Z"
   },
   {
    "duration": 26,
    "start_time": "2024-07-10T02:04:13.690Z"
   },
   {
    "duration": 541,
    "start_time": "2024-07-10T02:04:13.719Z"
   },
   {
    "duration": 13,
    "start_time": "2024-07-10T02:04:14.262Z"
   },
   {
    "duration": 501,
    "start_time": "2024-07-10T02:04:14.278Z"
   },
   {
    "duration": 1227,
    "start_time": "2024-07-10T02:04:14.782Z"
   },
   {
    "duration": 578,
    "start_time": "2024-07-10T02:04:16.013Z"
   },
   {
    "duration": 21,
    "start_time": "2024-07-10T02:04:16.601Z"
   },
   {
    "duration": 452,
    "start_time": "2024-07-10T02:04:16.624Z"
   },
   {
    "duration": 69,
    "start_time": "2024-07-10T02:04:17.080Z"
   },
   {
    "duration": 10,
    "start_time": "2024-07-10T02:04:17.152Z"
   },
   {
    "duration": 1841,
    "start_time": "2024-07-10T02:04:17.164Z"
   },
   {
    "duration": 71,
    "start_time": "2024-07-10T02:04:19.008Z"
   },
   {
    "duration": 708,
    "start_time": "2024-07-10T02:05:30.108Z"
   },
   {
    "duration": 1728,
    "start_time": "2024-07-10T02:05:30.821Z"
   },
   {
    "duration": 19,
    "start_time": "2024-07-10T02:05:32.551Z"
   },
   {
    "duration": 33,
    "start_time": "2024-07-10T02:05:32.574Z"
   },
   {
    "duration": 15,
    "start_time": "2024-07-10T02:05:32.611Z"
   },
   {
    "duration": 13,
    "start_time": "2024-07-10T02:05:32.629Z"
   },
   {
    "duration": 11,
    "start_time": "2024-07-10T02:05:32.645Z"
   },
   {
    "duration": 334,
    "start_time": "2024-07-10T02:05:32.702Z"
   },
   {
    "duration": 22,
    "start_time": "2024-07-10T02:05:33.039Z"
   },
   {
    "duration": 210,
    "start_time": "2024-07-10T02:05:33.064Z"
   },
   {
    "duration": 172,
    "start_time": "2024-07-10T02:05:33.277Z"
   },
   {
    "duration": 59,
    "start_time": "2024-07-10T02:05:33.452Z"
   },
   {
    "duration": 36,
    "start_time": "2024-07-10T02:05:33.513Z"
   },
   {
    "duration": 7,
    "start_time": "2024-07-10T02:05:33.557Z"
   },
   {
    "duration": 69,
    "start_time": "2024-07-10T02:05:33.567Z"
   },
   {
    "duration": 71,
    "start_time": "2024-07-10T02:05:33.639Z"
   },
   {
    "duration": 7,
    "start_time": "2024-07-10T02:05:33.713Z"
   },
   {
    "duration": 7,
    "start_time": "2024-07-10T02:05:33.723Z"
   },
   {
    "duration": 7,
    "start_time": "2024-07-10T02:05:33.734Z"
   },
   {
    "duration": 7,
    "start_time": "2024-07-10T02:05:33.744Z"
   },
   {
    "duration": 1319,
    "start_time": "2024-07-10T02:05:33.802Z"
   },
   {
    "duration": 1179,
    "start_time": "2024-07-10T02:05:35.125Z"
   },
   {
    "duration": 21,
    "start_time": "2024-07-10T02:05:36.308Z"
   },
   {
    "duration": 12,
    "start_time": "2024-07-10T02:05:36.333Z"
   },
   {
    "duration": 53,
    "start_time": "2024-07-10T02:05:36.349Z"
   },
   {
    "duration": 18,
    "start_time": "2024-07-10T02:05:36.405Z"
   },
   {
    "duration": 13,
    "start_time": "2024-07-10T02:05:36.426Z"
   },
   {
    "duration": 11,
    "start_time": "2024-07-10T02:05:36.442Z"
   },
   {
    "duration": 54,
    "start_time": "2024-07-10T02:05:36.456Z"
   },
   {
    "duration": 28,
    "start_time": "2024-07-10T02:05:36.513Z"
   },
   {
    "duration": 88,
    "start_time": "2024-07-10T02:05:36.544Z"
   },
   {
    "duration": 24,
    "start_time": "2024-07-10T02:05:36.636Z"
   },
   {
    "duration": 675,
    "start_time": "2024-07-10T02:05:36.663Z"
   },
   {
    "duration": 37,
    "start_time": "2024-07-10T02:05:37.342Z"
   },
   {
    "duration": 11,
    "start_time": "2024-07-10T02:05:37.401Z"
   },
   {
    "duration": 9,
    "start_time": "2024-07-10T02:05:37.415Z"
   },
   {
    "duration": 387,
    "start_time": "2024-07-10T02:05:37.427Z"
   },
   {
    "duration": 235,
    "start_time": "2024-07-10T02:05:37.818Z"
   },
   {
    "duration": 392,
    "start_time": "2024-07-10T02:05:38.056Z"
   },
   {
    "duration": 13,
    "start_time": "2024-07-10T02:05:38.451Z"
   },
   {
    "duration": 37,
    "start_time": "2024-07-10T02:05:38.474Z"
   },
   {
    "duration": 8,
    "start_time": "2024-07-10T02:05:38.514Z"
   },
   {
    "duration": 456,
    "start_time": "2024-07-10T02:05:38.526Z"
   },
   {
    "duration": 19,
    "start_time": "2024-07-10T02:05:38.985Z"
   },
   {
    "duration": 1624,
    "start_time": "2024-07-10T02:05:39.006Z"
   },
   {
    "duration": 1390,
    "start_time": "2024-07-10T02:05:40.633Z"
   },
   {
    "duration": 595,
    "start_time": "2024-07-10T02:05:42.026Z"
   },
   {
    "duration": 22,
    "start_time": "2024-07-10T02:05:42.624Z"
   },
   {
    "duration": 533,
    "start_time": "2024-07-10T02:05:42.649Z"
   },
   {
    "duration": 23,
    "start_time": "2024-07-10T02:05:43.185Z"
   },
   {
    "duration": 511,
    "start_time": "2024-07-10T02:05:43.211Z"
   },
   {
    "duration": 1246,
    "start_time": "2024-07-10T02:05:43.725Z"
   },
   {
    "duration": 531,
    "start_time": "2024-07-10T02:05:44.974Z"
   },
   {
    "duration": 20,
    "start_time": "2024-07-10T02:05:45.508Z"
   },
   {
    "duration": 481,
    "start_time": "2024-07-10T02:05:45.530Z"
   },
   {
    "duration": 54,
    "start_time": "2024-07-10T02:05:46.014Z"
   },
   {
    "duration": 37,
    "start_time": "2024-07-10T02:05:46.071Z"
   },
   {
    "duration": 1844,
    "start_time": "2024-07-10T02:05:46.113Z"
   },
   {
    "duration": 86,
    "start_time": "2024-07-10T02:05:47.960Z"
   },
   {
    "duration": 726,
    "start_time": "2024-07-10T02:06:57.968Z"
   },
   {
    "duration": 1757,
    "start_time": "2024-07-10T02:06:58.702Z"
   },
   {
    "duration": 18,
    "start_time": "2024-07-10T02:07:00.462Z"
   },
   {
    "duration": 31,
    "start_time": "2024-07-10T02:07:00.483Z"
   },
   {
    "duration": 14,
    "start_time": "2024-07-10T02:07:00.518Z"
   },
   {
    "duration": 14,
    "start_time": "2024-07-10T02:07:00.535Z"
   },
   {
    "duration": 53,
    "start_time": "2024-07-10T02:07:00.552Z"
   },
   {
    "duration": 353,
    "start_time": "2024-07-10T02:07:00.607Z"
   },
   {
    "duration": 24,
    "start_time": "2024-07-10T02:07:00.962Z"
   },
   {
    "duration": 189,
    "start_time": "2024-07-10T02:07:01.003Z"
   },
   {
    "duration": 163,
    "start_time": "2024-07-10T02:07:01.194Z"
   },
   {
    "duration": 59,
    "start_time": "2024-07-10T02:07:01.360Z"
   },
   {
    "duration": 41,
    "start_time": "2024-07-10T02:07:01.423Z"
   },
   {
    "duration": 32,
    "start_time": "2024-07-10T02:07:01.471Z"
   },
   {
    "duration": 43,
    "start_time": "2024-07-10T02:07:01.506Z"
   },
   {
    "duration": 79,
    "start_time": "2024-07-10T02:07:01.552Z"
   },
   {
    "duration": 6,
    "start_time": "2024-07-10T02:07:01.634Z"
   },
   {
    "duration": 8,
    "start_time": "2024-07-10T02:07:01.644Z"
   },
   {
    "duration": 8,
    "start_time": "2024-07-10T02:07:01.655Z"
   },
   {
    "duration": 9,
    "start_time": "2024-07-10T02:07:01.703Z"
   },
   {
    "duration": 1350,
    "start_time": "2024-07-10T02:07:01.715Z"
   },
   {
    "duration": 1179,
    "start_time": "2024-07-10T02:07:03.068Z"
   },
   {
    "duration": 18,
    "start_time": "2024-07-10T02:07:04.249Z"
   },
   {
    "duration": 33,
    "start_time": "2024-07-10T02:07:04.270Z"
   },
   {
    "duration": 14,
    "start_time": "2024-07-10T02:07:04.305Z"
   },
   {
    "duration": 17,
    "start_time": "2024-07-10T02:07:04.322Z"
   },
   {
    "duration": 14,
    "start_time": "2024-07-10T02:07:04.342Z"
   },
   {
    "duration": 52,
    "start_time": "2024-07-10T02:07:04.359Z"
   },
   {
    "duration": 11,
    "start_time": "2024-07-10T02:07:04.413Z"
   },
   {
    "duration": 28,
    "start_time": "2024-07-10T02:07:04.427Z"
   },
   {
    "duration": 84,
    "start_time": "2024-07-10T02:07:04.458Z"
   },
   {
    "duration": 20,
    "start_time": "2024-07-10T02:07:04.544Z"
   },
   {
    "duration": 701,
    "start_time": "2024-07-10T02:07:04.567Z"
   },
   {
    "duration": 50,
    "start_time": "2024-07-10T02:07:05.270Z"
   },
   {
    "duration": 10,
    "start_time": "2024-07-10T02:07:05.322Z"
   },
   {
    "duration": 9,
    "start_time": "2024-07-10T02:07:05.335Z"
   },
   {
    "duration": 384,
    "start_time": "2024-07-10T02:07:05.347Z"
   },
   {
    "duration": 233,
    "start_time": "2024-07-10T02:07:05.734Z"
   },
   {
    "duration": 397,
    "start_time": "2024-07-10T02:07:05.973Z"
   },
   {
    "duration": 28,
    "start_time": "2024-07-10T02:07:06.373Z"
   },
   {
    "duration": 14,
    "start_time": "2024-07-10T02:07:06.412Z"
   },
   {
    "duration": 9,
    "start_time": "2024-07-10T02:07:06.429Z"
   },
   {
    "duration": 461,
    "start_time": "2024-07-10T02:07:06.441Z"
   },
   {
    "duration": 14,
    "start_time": "2024-07-10T02:07:06.905Z"
   },
   {
    "duration": 1682,
    "start_time": "2024-07-10T02:07:06.922Z"
   },
   {
    "duration": 1374,
    "start_time": "2024-07-10T02:07:08.608Z"
   },
   {
    "duration": 593,
    "start_time": "2024-07-10T02:07:09.985Z"
   },
   {
    "duration": 28,
    "start_time": "2024-07-10T02:07:10.581Z"
   },
   {
    "duration": 555,
    "start_time": "2024-07-10T02:07:10.612Z"
   },
   {
    "duration": 12,
    "start_time": "2024-07-10T02:07:11.170Z"
   },
   {
    "duration": 501,
    "start_time": "2024-07-10T02:07:11.201Z"
   },
   {
    "duration": 1250,
    "start_time": "2024-07-10T02:07:11.705Z"
   },
   {
    "duration": 535,
    "start_time": "2024-07-10T02:07:12.959Z"
   },
   {
    "duration": 24,
    "start_time": "2024-07-10T02:07:13.496Z"
   },
   {
    "duration": 451,
    "start_time": "2024-07-10T02:07:13.523Z"
   },
   {
    "duration": 67,
    "start_time": "2024-07-10T02:07:13.977Z"
   },
   {
    "duration": 13,
    "start_time": "2024-07-10T02:07:14.047Z"
   },
   {
    "duration": 1596,
    "start_time": "2024-07-10T02:07:14.063Z"
   },
   {
    "duration": 386,
    "start_time": "2024-07-10T02:07:15.661Z"
   },
   {
    "duration": 0,
    "start_time": "2024-07-10T02:07:16.050Z"
   },
   {
    "duration": 0,
    "start_time": "2024-07-10T02:07:16.052Z"
   },
   {
    "duration": 0,
    "start_time": "2024-07-10T02:07:16.054Z"
   },
   {
    "duration": 722,
    "start_time": "2024-07-10T02:09:08.629Z"
   },
   {
    "duration": 1555,
    "start_time": "2024-07-10T02:09:09.355Z"
   },
   {
    "duration": 19,
    "start_time": "2024-07-10T02:09:10.913Z"
   },
   {
    "duration": 16,
    "start_time": "2024-07-10T02:09:10.936Z"
   },
   {
    "duration": 13,
    "start_time": "2024-07-10T02:09:10.955Z"
   },
   {
    "duration": 15,
    "start_time": "2024-07-10T02:09:11.005Z"
   },
   {
    "duration": 12,
    "start_time": "2024-07-10T02:09:11.022Z"
   },
   {
    "duration": 366,
    "start_time": "2024-07-10T02:09:11.037Z"
   },
   {
    "duration": 23,
    "start_time": "2024-07-10T02:09:11.406Z"
   },
   {
    "duration": 202,
    "start_time": "2024-07-10T02:09:11.435Z"
   },
   {
    "duration": 191,
    "start_time": "2024-07-10T02:09:11.640Z"
   },
   {
    "duration": 46,
    "start_time": "2024-07-10T02:09:11.834Z"
   },
   {
    "duration": 40,
    "start_time": "2024-07-10T02:09:11.903Z"
   },
   {
    "duration": 8,
    "start_time": "2024-07-10T02:09:11.946Z"
   },
   {
    "duration": 70,
    "start_time": "2024-07-10T02:09:11.957Z"
   },
   {
    "duration": 47,
    "start_time": "2024-07-10T02:09:12.030Z"
   },
   {
    "duration": 28,
    "start_time": "2024-07-10T02:09:12.080Z"
   },
   {
    "duration": 7,
    "start_time": "2024-07-10T02:09:12.111Z"
   },
   {
    "duration": 7,
    "start_time": "2024-07-10T02:09:12.121Z"
   },
   {
    "duration": 7,
    "start_time": "2024-07-10T02:09:12.131Z"
   },
   {
    "duration": 1373,
    "start_time": "2024-07-10T02:09:12.140Z"
   },
   {
    "duration": 1170,
    "start_time": "2024-07-10T02:09:13.515Z"
   },
   {
    "duration": 25,
    "start_time": "2024-07-10T02:09:14.688Z"
   },
   {
    "duration": 12,
    "start_time": "2024-07-10T02:09:14.717Z"
   },
   {
    "duration": 12,
    "start_time": "2024-07-10T02:09:14.732Z"
   },
   {
    "duration": 57,
    "start_time": "2024-07-10T02:09:14.747Z"
   },
   {
    "duration": 15,
    "start_time": "2024-07-10T02:09:14.807Z"
   },
   {
    "duration": 11,
    "start_time": "2024-07-10T02:09:14.830Z"
   },
   {
    "duration": 11,
    "start_time": "2024-07-10T02:09:14.844Z"
   },
   {
    "duration": 67,
    "start_time": "2024-07-10T02:09:14.858Z"
   },
   {
    "duration": 50,
    "start_time": "2024-07-10T02:09:14.928Z"
   },
   {
    "duration": 21,
    "start_time": "2024-07-10T02:09:15.004Z"
   },
   {
    "duration": 651,
    "start_time": "2024-07-10T02:09:15.029Z"
   },
   {
    "duration": 46,
    "start_time": "2024-07-10T02:09:15.682Z"
   },
   {
    "duration": 9,
    "start_time": "2024-07-10T02:09:15.731Z"
   },
   {
    "duration": 8,
    "start_time": "2024-07-10T02:09:15.743Z"
   },
   {
    "duration": 414,
    "start_time": "2024-07-10T02:09:15.755Z"
   },
   {
    "duration": 230,
    "start_time": "2024-07-10T02:09:16.173Z"
   },
   {
    "duration": 374,
    "start_time": "2024-07-10T02:09:16.407Z"
   },
   {
    "duration": 27,
    "start_time": "2024-07-10T02:09:16.784Z"
   },
   {
    "duration": 13,
    "start_time": "2024-07-10T02:09:16.816Z"
   },
   {
    "duration": 9,
    "start_time": "2024-07-10T02:09:16.832Z"
   },
   {
    "duration": 438,
    "start_time": "2024-07-10T02:09:16.845Z"
   },
   {
    "duration": 20,
    "start_time": "2024-07-10T02:09:17.289Z"
   },
   {
    "duration": 1619,
    "start_time": "2024-07-10T02:09:17.312Z"
   },
   {
    "duration": 1370,
    "start_time": "2024-07-10T02:09:18.934Z"
   },
   {
    "duration": 596,
    "start_time": "2024-07-10T02:09:20.307Z"
   },
   {
    "duration": 19,
    "start_time": "2024-07-10T02:09:20.906Z"
   },
   {
    "duration": 534,
    "start_time": "2024-07-10T02:09:20.928Z"
   },
   {
    "duration": 13,
    "start_time": "2024-07-10T02:09:21.465Z"
   },
   {
    "duration": 512,
    "start_time": "2024-07-10T02:09:21.481Z"
   },
   {
    "duration": 1234,
    "start_time": "2024-07-10T02:09:22.000Z"
   },
   {
    "duration": 545,
    "start_time": "2024-07-10T02:09:23.237Z"
   },
   {
    "duration": 31,
    "start_time": "2024-07-10T02:09:23.784Z"
   },
   {
    "duration": 461,
    "start_time": "2024-07-10T02:09:23.818Z"
   },
   {
    "duration": 64,
    "start_time": "2024-07-10T02:09:24.282Z"
   },
   {
    "duration": 10,
    "start_time": "2024-07-10T02:09:24.349Z"
   },
   {
    "duration": 1662,
    "start_time": "2024-07-10T02:09:24.362Z"
   },
   {
    "duration": 235,
    "start_time": "2024-07-10T02:09:26.027Z"
   },
   {
    "duration": 674,
    "start_time": "2024-07-10T02:10:17.449Z"
   },
   {
    "duration": 1743,
    "start_time": "2024-07-10T02:10:18.127Z"
   },
   {
    "duration": 29,
    "start_time": "2024-07-10T02:10:19.872Z"
   },
   {
    "duration": 16,
    "start_time": "2024-07-10T02:10:19.905Z"
   },
   {
    "duration": 14,
    "start_time": "2024-07-10T02:10:19.926Z"
   },
   {
    "duration": 14,
    "start_time": "2024-07-10T02:10:19.943Z"
   },
   {
    "duration": 53,
    "start_time": "2024-07-10T02:10:19.959Z"
   },
   {
    "duration": 368,
    "start_time": "2024-07-10T02:10:20.015Z"
   },
   {
    "duration": 31,
    "start_time": "2024-07-10T02:10:20.386Z"
   },
   {
    "duration": 191,
    "start_time": "2024-07-10T02:10:20.420Z"
   },
   {
    "duration": 171,
    "start_time": "2024-07-10T02:10:20.614Z"
   },
   {
    "duration": 52,
    "start_time": "2024-07-10T02:10:20.788Z"
   },
   {
    "duration": 36,
    "start_time": "2024-07-10T02:10:20.843Z"
   },
   {
    "duration": 7,
    "start_time": "2024-07-10T02:10:20.903Z"
   },
   {
    "duration": 41,
    "start_time": "2024-07-10T02:10:20.913Z"
   },
   {
    "duration": 81,
    "start_time": "2024-07-10T02:10:20.957Z"
   },
   {
    "duration": 7,
    "start_time": "2024-07-10T02:10:21.041Z"
   },
   {
    "duration": 7,
    "start_time": "2024-07-10T02:10:21.051Z"
   },
   {
    "duration": 7,
    "start_time": "2024-07-10T02:10:21.061Z"
   },
   {
    "duration": 7,
    "start_time": "2024-07-10T02:10:21.105Z"
   },
   {
    "duration": 1370,
    "start_time": "2024-07-10T02:10:21.115Z"
   },
   {
    "duration": 1158,
    "start_time": "2024-07-10T02:10:22.488Z"
   },
   {
    "duration": 20,
    "start_time": "2024-07-10T02:10:23.649Z"
   },
   {
    "duration": 36,
    "start_time": "2024-07-10T02:10:23.672Z"
   },
   {
    "duration": 13,
    "start_time": "2024-07-10T02:10:23.715Z"
   },
   {
    "duration": 16,
    "start_time": "2024-07-10T02:10:23.731Z"
   },
   {
    "duration": 51,
    "start_time": "2024-07-10T02:10:23.751Z"
   },
   {
    "duration": 19,
    "start_time": "2024-07-10T02:10:23.809Z"
   },
   {
    "duration": 19,
    "start_time": "2024-07-10T02:10:23.835Z"
   },
   {
    "duration": 50,
    "start_time": "2024-07-10T02:10:23.861Z"
   },
   {
    "duration": 60,
    "start_time": "2024-07-10T02:10:23.915Z"
   },
   {
    "duration": 45,
    "start_time": "2024-07-10T02:10:23.979Z"
   },
   {
    "duration": 784,
    "start_time": "2024-07-10T02:10:24.028Z"
   },
   {
    "duration": 39,
    "start_time": "2024-07-10T02:10:24.815Z"
   },
   {
    "duration": 44,
    "start_time": "2024-07-10T02:10:24.858Z"
   },
   {
    "duration": 10,
    "start_time": "2024-07-10T02:10:24.905Z"
   },
   {
    "duration": 388,
    "start_time": "2024-07-10T02:10:24.920Z"
   },
   {
    "duration": 283,
    "start_time": "2024-07-10T02:10:25.313Z"
   },
   {
    "duration": 407,
    "start_time": "2024-07-10T02:10:25.602Z"
   },
   {
    "duration": 12,
    "start_time": "2024-07-10T02:10:26.014Z"
   },
   {
    "duration": 12,
    "start_time": "2024-07-10T02:10:26.036Z"
   },
   {
    "duration": 7,
    "start_time": "2024-07-10T02:10:26.051Z"
   },
   {
    "duration": 538,
    "start_time": "2024-07-10T02:10:26.061Z"
   },
   {
    "duration": 17,
    "start_time": "2024-07-10T02:10:26.603Z"
   },
   {
    "duration": 1768,
    "start_time": "2024-07-10T02:10:26.624Z"
   },
   {
    "duration": 1410,
    "start_time": "2024-07-10T02:10:28.401Z"
   },
   {
    "duration": 631,
    "start_time": "2024-07-10T02:10:29.814Z"
   },
   {
    "duration": 24,
    "start_time": "2024-07-10T02:10:30.449Z"
   },
   {
    "duration": 619,
    "start_time": "2024-07-10T02:10:30.477Z"
   },
   {
    "duration": 15,
    "start_time": "2024-07-10T02:10:31.105Z"
   },
   {
    "duration": 597,
    "start_time": "2024-07-10T02:10:31.123Z"
   },
   {
    "duration": 1257,
    "start_time": "2024-07-10T02:10:31.724Z"
   },
   {
    "duration": 552,
    "start_time": "2024-07-10T02:10:32.985Z"
   },
   {
    "duration": 19,
    "start_time": "2024-07-10T02:10:33.540Z"
   },
   {
    "duration": 467,
    "start_time": "2024-07-10T02:10:33.561Z"
   },
   {
    "duration": 69,
    "start_time": "2024-07-10T02:10:34.033Z"
   },
   {
    "duration": 10,
    "start_time": "2024-07-10T02:10:34.104Z"
   },
   {
    "duration": 1613,
    "start_time": "2024-07-10T02:10:34.117Z"
   },
   {
    "duration": 231,
    "start_time": "2024-07-10T02:10:35.733Z"
   },
   {
    "duration": 330,
    "start_time": "2024-07-10T02:14:23.216Z"
   },
   {
    "duration": 735,
    "start_time": "2024-07-10T02:14:34.979Z"
   },
   {
    "duration": 1810,
    "start_time": "2024-07-10T02:14:35.718Z"
   },
   {
    "duration": 17,
    "start_time": "2024-07-10T02:14:37.531Z"
   },
   {
    "duration": 18,
    "start_time": "2024-07-10T02:14:37.551Z"
   },
   {
    "duration": 14,
    "start_time": "2024-07-10T02:14:37.603Z"
   },
   {
    "duration": 16,
    "start_time": "2024-07-10T02:14:37.621Z"
   },
   {
    "duration": 14,
    "start_time": "2024-07-10T02:14:37.640Z"
   },
   {
    "duration": 377,
    "start_time": "2024-07-10T02:14:37.658Z"
   },
   {
    "duration": 23,
    "start_time": "2024-07-10T02:14:38.038Z"
   },
   {
    "duration": 218,
    "start_time": "2024-07-10T02:14:38.064Z"
   },
   {
    "duration": 172,
    "start_time": "2024-07-10T02:14:38.284Z"
   },
   {
    "duration": 57,
    "start_time": "2024-07-10T02:14:38.460Z"
   },
   {
    "duration": 37,
    "start_time": "2024-07-10T02:14:38.520Z"
   },
   {
    "duration": 7,
    "start_time": "2024-07-10T02:14:38.563Z"
   },
   {
    "duration": 65,
    "start_time": "2024-07-10T02:14:38.576Z"
   },
   {
    "duration": 64,
    "start_time": "2024-07-10T02:14:38.644Z"
   },
   {
    "duration": 8,
    "start_time": "2024-07-10T02:14:38.711Z"
   },
   {
    "duration": 8,
    "start_time": "2024-07-10T02:14:38.723Z"
   },
   {
    "duration": 8,
    "start_time": "2024-07-10T02:14:38.734Z"
   },
   {
    "duration": 56,
    "start_time": "2024-07-10T02:14:38.746Z"
   },
   {
    "duration": 1359,
    "start_time": "2024-07-10T02:14:38.806Z"
   },
   {
    "duration": 1158,
    "start_time": "2024-07-10T02:14:40.169Z"
   },
   {
    "duration": 19,
    "start_time": "2024-07-10T02:14:41.330Z"
   },
   {
    "duration": 12,
    "start_time": "2024-07-10T02:14:41.352Z"
   },
   {
    "duration": 41,
    "start_time": "2024-07-10T02:14:41.367Z"
   },
   {
    "duration": 18,
    "start_time": "2024-07-10T02:14:41.411Z"
   },
   {
    "duration": 13,
    "start_time": "2024-07-10T02:14:41.432Z"
   },
   {
    "duration": 53,
    "start_time": "2024-07-10T02:14:41.448Z"
   },
   {
    "duration": 11,
    "start_time": "2024-07-10T02:14:41.504Z"
   },
   {
    "duration": 28,
    "start_time": "2024-07-10T02:14:41.517Z"
   },
   {
    "duration": 83,
    "start_time": "2024-07-10T02:14:41.548Z"
   },
   {
    "duration": 20,
    "start_time": "2024-07-10T02:14:41.634Z"
   },
   {
    "duration": 671,
    "start_time": "2024-07-10T02:14:41.657Z"
   },
   {
    "duration": 36,
    "start_time": "2024-07-10T02:14:42.331Z"
   },
   {
    "duration": 33,
    "start_time": "2024-07-10T02:14:42.370Z"
   },
   {
    "duration": 9,
    "start_time": "2024-07-10T02:14:42.407Z"
   },
   {
    "duration": 385,
    "start_time": "2024-07-10T02:14:42.419Z"
   },
   {
    "duration": 220,
    "start_time": "2024-07-10T02:14:42.807Z"
   },
   {
    "duration": 375,
    "start_time": "2024-07-10T02:14:43.030Z"
   },
   {
    "duration": 13,
    "start_time": "2024-07-10T02:14:43.408Z"
   },
   {
    "duration": 12,
    "start_time": "2024-07-10T02:14:43.432Z"
   },
   {
    "duration": 8,
    "start_time": "2024-07-10T02:14:43.447Z"
   },
   {
    "duration": 447,
    "start_time": "2024-07-10T02:14:43.458Z"
   },
   {
    "duration": 11,
    "start_time": "2024-07-10T02:14:43.908Z"
   },
   {
    "duration": 1605,
    "start_time": "2024-07-10T02:14:43.921Z"
   },
   {
    "duration": 1366,
    "start_time": "2024-07-10T02:14:45.529Z"
   },
   {
    "duration": 593,
    "start_time": "2024-07-10T02:14:46.901Z"
   },
   {
    "duration": 20,
    "start_time": "2024-07-10T02:14:47.501Z"
   },
   {
    "duration": 563,
    "start_time": "2024-07-10T02:14:47.525Z"
   },
   {
    "duration": 12,
    "start_time": "2024-07-10T02:14:48.101Z"
   },
   {
    "duration": 542,
    "start_time": "2024-07-10T02:14:48.116Z"
   },
   {
    "duration": 1226,
    "start_time": "2024-07-10T02:14:48.661Z"
   },
   {
    "duration": 533,
    "start_time": "2024-07-10T02:14:49.901Z"
   },
   {
    "duration": 19,
    "start_time": "2024-07-10T02:14:50.437Z"
   },
   {
    "duration": 474,
    "start_time": "2024-07-10T02:14:50.459Z"
   },
   {
    "duration": 73,
    "start_time": "2024-07-10T02:14:50.936Z"
   },
   {
    "duration": 14,
    "start_time": "2024-07-10T02:14:51.012Z"
   },
   {
    "duration": 1888,
    "start_time": "2024-07-10T02:14:51.029Z"
   },
   {
    "duration": 86,
    "start_time": "2024-07-10T02:14:52.920Z"
   },
   {
    "duration": 750,
    "start_time": "2024-07-10T02:15:57.510Z"
   },
   {
    "duration": 1743,
    "start_time": "2024-07-10T02:15:58.264Z"
   },
   {
    "duration": 18,
    "start_time": "2024-07-10T02:16:00.010Z"
   },
   {
    "duration": 16,
    "start_time": "2024-07-10T02:16:00.031Z"
   },
   {
    "duration": 13,
    "start_time": "2024-07-10T02:16:00.052Z"
   },
   {
    "duration": 14,
    "start_time": "2024-07-10T02:16:00.103Z"
   },
   {
    "duration": 14,
    "start_time": "2024-07-10T02:16:00.120Z"
   },
   {
    "duration": 403,
    "start_time": "2024-07-10T02:16:00.136Z"
   },
   {
    "duration": 24,
    "start_time": "2024-07-10T02:16:00.542Z"
   },
   {
    "duration": 203,
    "start_time": "2024-07-10T02:16:00.570Z"
   },
   {
    "duration": 172,
    "start_time": "2024-07-10T02:16:00.775Z"
   },
   {
    "duration": 53,
    "start_time": "2024-07-10T02:16:00.950Z"
   },
   {
    "duration": 45,
    "start_time": "2024-07-10T02:16:01.005Z"
   },
   {
    "duration": 9,
    "start_time": "2024-07-10T02:16:01.058Z"
   },
   {
    "duration": 67,
    "start_time": "2024-07-10T02:16:01.070Z"
   },
   {
    "duration": 69,
    "start_time": "2024-07-10T02:16:01.140Z"
   },
   {
    "duration": 8,
    "start_time": "2024-07-10T02:16:01.212Z"
   },
   {
    "duration": 7,
    "start_time": "2024-07-10T02:16:01.223Z"
   },
   {
    "duration": 8,
    "start_time": "2024-07-10T02:16:01.233Z"
   },
   {
    "duration": 7,
    "start_time": "2024-07-10T02:16:01.244Z"
   },
   {
    "duration": 1375,
    "start_time": "2024-07-10T02:16:01.254Z"
   },
   {
    "duration": 1173,
    "start_time": "2024-07-10T02:16:02.632Z"
   },
   {
    "duration": 20,
    "start_time": "2024-07-10T02:16:03.809Z"
   },
   {
    "duration": 13,
    "start_time": "2024-07-10T02:16:03.833Z"
   },
   {
    "duration": 51,
    "start_time": "2024-07-10T02:16:03.850Z"
   },
   {
    "duration": 17,
    "start_time": "2024-07-10T02:16:03.905Z"
   },
   {
    "duration": 14,
    "start_time": "2024-07-10T02:16:03.924Z"
   },
   {
    "duration": 11,
    "start_time": "2024-07-10T02:16:03.941Z"
   },
   {
    "duration": 53,
    "start_time": "2024-07-10T02:16:03.955Z"
   },
   {
    "duration": 28,
    "start_time": "2024-07-10T02:16:04.011Z"
   },
   {
    "duration": 80,
    "start_time": "2024-07-10T02:16:04.042Z"
   },
   {
    "duration": 20,
    "start_time": "2024-07-10T02:16:04.124Z"
   },
   {
    "duration": 671,
    "start_time": "2024-07-10T02:16:04.147Z"
   },
   {
    "duration": 37,
    "start_time": "2024-07-10T02:16:04.821Z"
   },
   {
    "duration": 10,
    "start_time": "2024-07-10T02:16:04.861Z"
   },
   {
    "duration": 11,
    "start_time": "2024-07-10T02:16:04.901Z"
   },
   {
    "duration": 374,
    "start_time": "2024-07-10T02:16:04.917Z"
   },
   {
    "duration": 221,
    "start_time": "2024-07-10T02:16:05.301Z"
   },
   {
    "duration": 379,
    "start_time": "2024-07-10T02:16:05.525Z"
   },
   {
    "duration": 13,
    "start_time": "2024-07-10T02:16:05.908Z"
   },
   {
    "duration": 16,
    "start_time": "2024-07-10T02:16:05.932Z"
   },
   {
    "duration": 13,
    "start_time": "2024-07-10T02:16:05.952Z"
   },
   {
    "duration": 455,
    "start_time": "2024-07-10T02:16:06.001Z"
   },
   {
    "duration": 11,
    "start_time": "2024-07-10T02:16:06.459Z"
   },
   {
    "duration": 1684,
    "start_time": "2024-07-10T02:16:06.473Z"
   },
   {
    "duration": 1361,
    "start_time": "2024-07-10T02:16:08.161Z"
   },
   {
    "duration": 591,
    "start_time": "2024-07-10T02:16:09.524Z"
   },
   {
    "duration": 18,
    "start_time": "2024-07-10T02:16:10.118Z"
   },
   {
    "duration": 557,
    "start_time": "2024-07-10T02:16:10.139Z"
   },
   {
    "duration": 12,
    "start_time": "2024-07-10T02:16:10.702Z"
   },
   {
    "duration": 514,
    "start_time": "2024-07-10T02:16:10.717Z"
   },
   {
    "duration": 1234,
    "start_time": "2024-07-10T02:16:11.234Z"
   },
   {
    "duration": 583,
    "start_time": "2024-07-10T02:16:12.471Z"
   },
   {
    "duration": 19,
    "start_time": "2024-07-10T02:16:13.056Z"
   },
   {
    "duration": 438,
    "start_time": "2024-07-10T02:16:13.101Z"
   },
   {
    "duration": 66,
    "start_time": "2024-07-10T02:16:13.542Z"
   },
   {
    "duration": 11,
    "start_time": "2024-07-10T02:16:13.611Z"
   },
   {
    "duration": 1768,
    "start_time": "2024-07-10T02:16:13.625Z"
   },
   {
    "duration": 12,
    "start_time": "2024-07-10T02:16:15.395Z"
   },
   {
    "duration": 736,
    "start_time": "2024-07-10T02:16:39.277Z"
   },
   {
    "duration": 1739,
    "start_time": "2024-07-10T02:16:40.017Z"
   },
   {
    "duration": 18,
    "start_time": "2024-07-10T02:16:41.758Z"
   },
   {
    "duration": 33,
    "start_time": "2024-07-10T02:16:41.780Z"
   },
   {
    "duration": 15,
    "start_time": "2024-07-10T02:16:41.816Z"
   },
   {
    "duration": 15,
    "start_time": "2024-07-10T02:16:41.834Z"
   },
   {
    "duration": 51,
    "start_time": "2024-07-10T02:16:41.851Z"
   },
   {
    "duration": 345,
    "start_time": "2024-07-10T02:16:41.905Z"
   },
   {
    "duration": 23,
    "start_time": "2024-07-10T02:16:42.253Z"
   },
   {
    "duration": 204,
    "start_time": "2024-07-10T02:16:42.282Z"
   },
   {
    "duration": 176,
    "start_time": "2024-07-10T02:16:42.488Z"
   },
   {
    "duration": 68,
    "start_time": "2024-07-10T02:16:42.667Z"
   },
   {
    "duration": 42,
    "start_time": "2024-07-10T02:16:42.739Z"
   },
   {
    "duration": 8,
    "start_time": "2024-07-10T02:16:42.802Z"
   },
   {
    "duration": 43,
    "start_time": "2024-07-10T02:16:42.813Z"
   },
   {
    "duration": 79,
    "start_time": "2024-07-10T02:16:42.859Z"
   },
   {
    "duration": 8,
    "start_time": "2024-07-10T02:16:42.941Z"
   },
   {
    "duration": 7,
    "start_time": "2024-07-10T02:16:42.952Z"
   },
   {
    "duration": 41,
    "start_time": "2024-07-10T02:16:42.963Z"
   },
   {
    "duration": 7,
    "start_time": "2024-07-10T02:16:43.007Z"
   },
   {
    "duration": 1357,
    "start_time": "2024-07-10T02:16:43.017Z"
   },
   {
    "duration": 1157,
    "start_time": "2024-07-10T02:16:44.377Z"
   },
   {
    "duration": 18,
    "start_time": "2024-07-10T02:16:45.537Z"
   },
   {
    "duration": 12,
    "start_time": "2024-07-10T02:16:45.558Z"
   },
   {
    "duration": 13,
    "start_time": "2024-07-10T02:16:45.603Z"
   },
   {
    "duration": 17,
    "start_time": "2024-07-10T02:16:45.621Z"
   },
   {
    "duration": 14,
    "start_time": "2024-07-10T02:16:45.640Z"
   },
   {
    "duration": 46,
    "start_time": "2024-07-10T02:16:45.663Z"
   },
   {
    "duration": 11,
    "start_time": "2024-07-10T02:16:45.712Z"
   },
   {
    "duration": 28,
    "start_time": "2024-07-10T02:16:45.727Z"
   },
   {
    "duration": 84,
    "start_time": "2024-07-10T02:16:45.758Z"
   },
   {
    "duration": 19,
    "start_time": "2024-07-10T02:16:45.845Z"
   },
   {
    "duration": 686,
    "start_time": "2024-07-10T02:16:45.867Z"
   },
   {
    "duration": 51,
    "start_time": "2024-07-10T02:16:46.556Z"
   },
   {
    "duration": 9,
    "start_time": "2024-07-10T02:16:46.610Z"
   },
   {
    "duration": 9,
    "start_time": "2024-07-10T02:16:46.622Z"
   },
   {
    "duration": 378,
    "start_time": "2024-07-10T02:16:46.634Z"
   },
   {
    "duration": 246,
    "start_time": "2024-07-10T02:16:47.015Z"
   },
   {
    "duration": 379,
    "start_time": "2024-07-10T02:16:47.264Z"
   },
   {
    "duration": 13,
    "start_time": "2024-07-10T02:16:47.646Z"
   },
   {
    "duration": 12,
    "start_time": "2024-07-10T02:16:47.662Z"
   },
   {
    "duration": 9,
    "start_time": "2024-07-10T02:16:47.703Z"
   },
   {
    "duration": 429,
    "start_time": "2024-07-10T02:16:47.715Z"
   },
   {
    "duration": 13,
    "start_time": "2024-07-10T02:16:48.147Z"
   },
   {
    "duration": 1624,
    "start_time": "2024-07-10T02:16:48.163Z"
   },
   {
    "duration": 1373,
    "start_time": "2024-07-10T02:16:49.790Z"
   },
   {
    "duration": 619,
    "start_time": "2024-07-10T02:16:51.166Z"
   },
   {
    "duration": 28,
    "start_time": "2024-07-10T02:16:51.788Z"
   },
   {
    "duration": 526,
    "start_time": "2024-07-10T02:16:51.820Z"
   },
   {
    "duration": 13,
    "start_time": "2024-07-10T02:16:52.349Z"
   },
   {
    "duration": 527,
    "start_time": "2024-07-10T02:16:52.365Z"
   },
   {
    "duration": 1238,
    "start_time": "2024-07-10T02:16:52.902Z"
   },
   {
    "duration": 548,
    "start_time": "2024-07-10T02:16:54.143Z"
   },
   {
    "duration": 21,
    "start_time": "2024-07-10T02:16:54.702Z"
   },
   {
    "duration": 462,
    "start_time": "2024-07-10T02:16:54.726Z"
   },
   {
    "duration": 59,
    "start_time": "2024-07-10T02:16:55.192Z"
   },
   {
    "duration": 10,
    "start_time": "2024-07-10T02:16:55.254Z"
   },
   {
    "duration": 2020,
    "start_time": "2024-07-10T02:16:55.267Z"
   },
   {
    "duration": 147,
    "start_time": "2024-07-10T02:16:57.290Z"
   },
   {
    "duration": 766,
    "start_time": "2024-07-10T02:17:47.594Z"
   },
   {
    "duration": 1709,
    "start_time": "2024-07-10T02:17:48.363Z"
   },
   {
    "duration": 26,
    "start_time": "2024-07-10T02:17:50.075Z"
   },
   {
    "duration": 16,
    "start_time": "2024-07-10T02:17:50.105Z"
   },
   {
    "duration": 15,
    "start_time": "2024-07-10T02:17:50.126Z"
   },
   {
    "duration": 17,
    "start_time": "2024-07-10T02:17:50.144Z"
   },
   {
    "duration": 16,
    "start_time": "2024-07-10T02:17:50.201Z"
   },
   {
    "duration": 375,
    "start_time": "2024-07-10T02:17:50.220Z"
   },
   {
    "duration": 23,
    "start_time": "2024-07-10T02:17:50.598Z"
   },
   {
    "duration": 212,
    "start_time": "2024-07-10T02:17:50.624Z"
   },
   {
    "duration": 170,
    "start_time": "2024-07-10T02:17:50.839Z"
   },
   {
    "duration": 45,
    "start_time": "2024-07-10T02:17:51.014Z"
   },
   {
    "duration": 62,
    "start_time": "2024-07-10T02:17:51.062Z"
   },
   {
    "duration": 7,
    "start_time": "2024-07-10T02:17:51.131Z"
   },
   {
    "duration": 64,
    "start_time": "2024-07-10T02:17:51.141Z"
   },
   {
    "duration": 48,
    "start_time": "2024-07-10T02:17:51.208Z"
   },
   {
    "duration": 8,
    "start_time": "2024-07-10T02:17:51.261Z"
   },
   {
    "duration": 7,
    "start_time": "2024-07-10T02:17:51.301Z"
   },
   {
    "duration": 10,
    "start_time": "2024-07-10T02:17:51.312Z"
   },
   {
    "duration": 9,
    "start_time": "2024-07-10T02:17:51.327Z"
   },
   {
    "duration": 1390,
    "start_time": "2024-07-10T02:17:51.340Z"
   },
   {
    "duration": 1340,
    "start_time": "2024-07-10T02:17:52.733Z"
   },
   {
    "duration": 31,
    "start_time": "2024-07-10T02:17:54.076Z"
   },
   {
    "duration": 13,
    "start_time": "2024-07-10T02:17:54.110Z"
   },
   {
    "duration": 12,
    "start_time": "2024-07-10T02:17:54.127Z"
   },
   {
    "duration": 59,
    "start_time": "2024-07-10T02:17:54.142Z"
   },
   {
    "duration": 15,
    "start_time": "2024-07-10T02:17:54.205Z"
   },
   {
    "duration": 11,
    "start_time": "2024-07-10T02:17:54.223Z"
   },
   {
    "duration": 11,
    "start_time": "2024-07-10T02:17:54.238Z"
   },
   {
    "duration": 75,
    "start_time": "2024-07-10T02:17:54.252Z"
   },
   {
    "duration": 48,
    "start_time": "2024-07-10T02:17:54.330Z"
   },
   {
    "duration": 20,
    "start_time": "2024-07-10T02:17:54.403Z"
   },
   {
    "duration": 673,
    "start_time": "2024-07-10T02:17:54.426Z"
   },
   {
    "duration": 36,
    "start_time": "2024-07-10T02:17:55.103Z"
   },
   {
    "duration": 9,
    "start_time": "2024-07-10T02:17:55.142Z"
   },
   {
    "duration": 9,
    "start_time": "2024-07-10T02:17:55.154Z"
   },
   {
    "duration": 349,
    "start_time": "2024-07-10T02:17:55.202Z"
   },
   {
    "duration": 224,
    "start_time": "2024-07-10T02:17:55.554Z"
   },
   {
    "duration": 401,
    "start_time": "2024-07-10T02:17:55.781Z"
   },
   {
    "duration": 22,
    "start_time": "2024-07-10T02:17:56.186Z"
   },
   {
    "duration": 13,
    "start_time": "2024-07-10T02:17:56.219Z"
   },
   {
    "duration": 8,
    "start_time": "2024-07-10T02:17:56.235Z"
   },
   {
    "duration": 473,
    "start_time": "2024-07-10T02:17:56.247Z"
   },
   {
    "duration": 11,
    "start_time": "2024-07-10T02:17:56.723Z"
   },
   {
    "duration": 1664,
    "start_time": "2024-07-10T02:17:56.737Z"
   },
   {
    "duration": 1387,
    "start_time": "2024-07-10T02:17:58.405Z"
   },
   {
    "duration": 603,
    "start_time": "2024-07-10T02:17:59.802Z"
   },
   {
    "duration": 18,
    "start_time": "2024-07-10T02:18:00.408Z"
   },
   {
    "duration": 546,
    "start_time": "2024-07-10T02:18:00.429Z"
   },
   {
    "duration": 25,
    "start_time": "2024-07-10T02:18:00.978Z"
   },
   {
    "duration": 524,
    "start_time": "2024-07-10T02:18:01.005Z"
   },
   {
    "duration": 1235,
    "start_time": "2024-07-10T02:18:01.532Z"
   },
   {
    "duration": 542,
    "start_time": "2024-07-10T02:18:02.771Z"
   },
   {
    "duration": 21,
    "start_time": "2024-07-10T02:18:03.315Z"
   },
   {
    "duration": 483,
    "start_time": "2024-07-10T02:18:03.339Z"
   },
   {
    "duration": 54,
    "start_time": "2024-07-10T02:18:03.825Z"
   },
   {
    "duration": 26,
    "start_time": "2024-07-10T02:18:03.882Z"
   },
   {
    "duration": 1875,
    "start_time": "2024-07-10T02:18:03.913Z"
   },
   {
    "duration": 75,
    "start_time": "2024-07-10T02:18:05.791Z"
   },
   {
    "duration": 816,
    "start_time": "2024-07-10T02:19:08.996Z"
   },
   {
    "duration": 1761,
    "start_time": "2024-07-10T02:19:09.817Z"
   },
   {
    "duration": 27,
    "start_time": "2024-07-10T02:19:11.582Z"
   },
   {
    "duration": 16,
    "start_time": "2024-07-10T02:19:11.612Z"
   },
   {
    "duration": 13,
    "start_time": "2024-07-10T02:19:11.633Z"
   },
   {
    "duration": 52,
    "start_time": "2024-07-10T02:19:11.649Z"
   },
   {
    "duration": 12,
    "start_time": "2024-07-10T02:19:11.705Z"
   },
   {
    "duration": 381,
    "start_time": "2024-07-10T02:19:11.722Z"
   },
   {
    "duration": 23,
    "start_time": "2024-07-10T02:19:12.106Z"
   },
   {
    "duration": 208,
    "start_time": "2024-07-10T02:19:12.132Z"
   },
   {
    "duration": 188,
    "start_time": "2024-07-10T02:19:12.343Z"
   },
   {
    "duration": 57,
    "start_time": "2024-07-10T02:19:12.534Z"
   },
   {
    "duration": 43,
    "start_time": "2024-07-10T02:19:12.602Z"
   },
   {
    "duration": 9,
    "start_time": "2024-07-10T02:19:12.661Z"
   },
   {
    "duration": 69,
    "start_time": "2024-07-10T02:19:12.673Z"
   },
   {
    "duration": 68,
    "start_time": "2024-07-10T02:19:12.744Z"
   },
   {
    "duration": 8,
    "start_time": "2024-07-10T02:19:12.815Z"
   },
   {
    "duration": 6,
    "start_time": "2024-07-10T02:19:12.826Z"
   },
   {
    "duration": 7,
    "start_time": "2024-07-10T02:19:12.836Z"
   },
   {
    "duration": 9,
    "start_time": "2024-07-10T02:19:12.847Z"
   },
   {
    "duration": 1401,
    "start_time": "2024-07-10T02:19:12.858Z"
   },
   {
    "duration": 1146,
    "start_time": "2024-07-10T02:19:14.263Z"
   },
   {
    "duration": 21,
    "start_time": "2024-07-10T02:19:15.411Z"
   },
   {
    "duration": 12,
    "start_time": "2024-07-10T02:19:15.435Z"
   },
   {
    "duration": 13,
    "start_time": "2024-07-10T02:19:15.450Z"
   },
   {
    "duration": 18,
    "start_time": "2024-07-10T02:19:15.502Z"
   },
   {
    "duration": 15,
    "start_time": "2024-07-10T02:19:15.522Z"
   },
   {
    "duration": 13,
    "start_time": "2024-07-10T02:19:15.539Z"
   },
   {
    "duration": 56,
    "start_time": "2024-07-10T02:19:15.555Z"
   },
   {
    "duration": 29,
    "start_time": "2024-07-10T02:19:15.615Z"
   },
   {
    "duration": 82,
    "start_time": "2024-07-10T02:19:15.646Z"
   },
   {
    "duration": 20,
    "start_time": "2024-07-10T02:19:15.731Z"
   },
   {
    "duration": 687,
    "start_time": "2024-07-10T02:19:15.754Z"
   },
   {
    "duration": 59,
    "start_time": "2024-07-10T02:19:16.444Z"
   },
   {
    "duration": 11,
    "start_time": "2024-07-10T02:19:16.507Z"
   },
   {
    "duration": 11,
    "start_time": "2024-07-10T02:19:16.521Z"
   },
   {
    "duration": 388,
    "start_time": "2024-07-10T02:19:16.536Z"
   },
   {
    "duration": 231,
    "start_time": "2024-07-10T02:19:16.927Z"
   },
   {
    "duration": 380,
    "start_time": "2024-07-10T02:19:17.163Z"
   },
   {
    "duration": 14,
    "start_time": "2024-07-10T02:19:17.545Z"
   },
   {
    "duration": 36,
    "start_time": "2024-07-10T02:19:17.571Z"
   },
   {
    "duration": 9,
    "start_time": "2024-07-10T02:19:17.612Z"
   },
   {
    "duration": 423,
    "start_time": "2024-07-10T02:19:17.625Z"
   },
   {
    "duration": 11,
    "start_time": "2024-07-10T02:19:18.051Z"
   },
   {
    "duration": 1644,
    "start_time": "2024-07-10T02:19:18.065Z"
   },
   {
    "duration": 1381,
    "start_time": "2024-07-10T02:19:19.712Z"
   },
   {
    "duration": 604,
    "start_time": "2024-07-10T02:19:21.100Z"
   },
   {
    "duration": 20,
    "start_time": "2024-07-10T02:19:21.707Z"
   },
   {
    "duration": 545,
    "start_time": "2024-07-10T02:19:21.730Z"
   },
   {
    "duration": 25,
    "start_time": "2024-07-10T02:19:22.278Z"
   },
   {
    "duration": 520,
    "start_time": "2024-07-10T02:19:22.306Z"
   },
   {
    "duration": 1254,
    "start_time": "2024-07-10T02:19:22.829Z"
   },
   {
    "duration": 549,
    "start_time": "2024-07-10T02:19:24.086Z"
   },
   {
    "duration": 19,
    "start_time": "2024-07-10T02:19:24.638Z"
   },
   {
    "duration": 457,
    "start_time": "2024-07-10T02:19:24.660Z"
   },
   {
    "duration": 54,
    "start_time": "2024-07-10T02:19:25.122Z"
   },
   {
    "duration": 27,
    "start_time": "2024-07-10T02:19:25.178Z"
   },
   {
    "duration": 1949,
    "start_time": "2024-07-10T02:19:25.207Z"
   },
   {
    "duration": 82,
    "start_time": "2024-07-10T02:19:27.159Z"
   },
   {
    "duration": 746,
    "start_time": "2024-07-10T02:20:17.697Z"
   },
   {
    "duration": 1747,
    "start_time": "2024-07-10T02:20:18.446Z"
   },
   {
    "duration": 20,
    "start_time": "2024-07-10T02:20:20.196Z"
   },
   {
    "duration": 17,
    "start_time": "2024-07-10T02:20:20.221Z"
   },
   {
    "duration": 14,
    "start_time": "2024-07-10T02:20:20.240Z"
   },
   {
    "duration": 52,
    "start_time": "2024-07-10T02:20:20.257Z"
   },
   {
    "duration": 13,
    "start_time": "2024-07-10T02:20:20.312Z"
   },
   {
    "duration": 375,
    "start_time": "2024-07-10T02:20:20.327Z"
   },
   {
    "duration": 23,
    "start_time": "2024-07-10T02:20:20.705Z"
   },
   {
    "duration": 219,
    "start_time": "2024-07-10T02:20:20.735Z"
   },
   {
    "duration": 173,
    "start_time": "2024-07-10T02:20:20.956Z"
   },
   {
    "duration": 45,
    "start_time": "2024-07-10T02:20:21.132Z"
   },
   {
    "duration": 54,
    "start_time": "2024-07-10T02:20:21.180Z"
   },
   {
    "duration": 7,
    "start_time": "2024-07-10T02:20:21.238Z"
   },
   {
    "duration": 69,
    "start_time": "2024-07-10T02:20:21.248Z"
   },
   {
    "duration": 45,
    "start_time": "2024-07-10T02:20:21.320Z"
   },
   {
    "duration": 33,
    "start_time": "2024-07-10T02:20:21.369Z"
   },
   {
    "duration": 8,
    "start_time": "2024-07-10T02:20:21.405Z"
   },
   {
    "duration": 7,
    "start_time": "2024-07-10T02:20:21.416Z"
   },
   {
    "duration": 6,
    "start_time": "2024-07-10T02:20:21.427Z"
   },
   {
    "duration": 1377,
    "start_time": "2024-07-10T02:20:21.436Z"
   },
   {
    "duration": 1197,
    "start_time": "2024-07-10T02:20:22.816Z"
   },
   {
    "duration": 18,
    "start_time": "2024-07-10T02:20:24.016Z"
   },
   {
    "duration": 12,
    "start_time": "2024-07-10T02:20:24.037Z"
   },
   {
    "duration": 49,
    "start_time": "2024-07-10T02:20:24.053Z"
   },
   {
    "duration": 18,
    "start_time": "2024-07-10T02:20:24.104Z"
   },
   {
    "duration": 14,
    "start_time": "2024-07-10T02:20:24.126Z"
   },
   {
    "duration": 11,
    "start_time": "2024-07-10T02:20:24.149Z"
   },
   {
    "duration": 12,
    "start_time": "2024-07-10T02:20:24.203Z"
   },
   {
    "duration": 27,
    "start_time": "2024-07-10T02:20:24.218Z"
   },
   {
    "duration": 91,
    "start_time": "2024-07-10T02:20:24.248Z"
   },
   {
    "duration": 20,
    "start_time": "2024-07-10T02:20:24.342Z"
   },
   {
    "duration": 782,
    "start_time": "2024-07-10T02:20:24.365Z"
   },
   {
    "duration": 60,
    "start_time": "2024-07-10T02:20:25.153Z"
   },
   {
    "duration": 9,
    "start_time": "2024-07-10T02:20:25.216Z"
   },
   {
    "duration": 18,
    "start_time": "2024-07-10T02:20:25.231Z"
   },
   {
    "duration": 462,
    "start_time": "2024-07-10T02:20:25.252Z"
   },
   {
    "duration": 261,
    "start_time": "2024-07-10T02:20:25.718Z"
   },
   {
    "duration": 506,
    "start_time": "2024-07-10T02:20:25.983Z"
   },
   {
    "duration": 26,
    "start_time": "2024-07-10T02:20:26.492Z"
   },
   {
    "duration": 14,
    "start_time": "2024-07-10T02:20:26.522Z"
   },
   {
    "duration": 9,
    "start_time": "2024-07-10T02:20:26.539Z"
   },
   {
    "duration": 466,
    "start_time": "2024-07-10T02:20:26.552Z"
   },
   {
    "duration": 14,
    "start_time": "2024-07-10T02:20:27.023Z"
   },
   {
    "duration": 1773,
    "start_time": "2024-07-10T02:20:27.041Z"
   },
   {
    "duration": 1386,
    "start_time": "2024-07-10T02:20:28.818Z"
   },
   {
    "duration": 601,
    "start_time": "2024-07-10T02:20:30.208Z"
   },
   {
    "duration": 20,
    "start_time": "2024-07-10T02:20:30.814Z"
   },
   {
    "duration": 562,
    "start_time": "2024-07-10T02:20:30.837Z"
   },
   {
    "duration": 12,
    "start_time": "2024-07-10T02:20:31.402Z"
   },
   {
    "duration": 502,
    "start_time": "2024-07-10T02:20:31.417Z"
   },
   {
    "duration": 1269,
    "start_time": "2024-07-10T02:20:31.921Z"
   },
   {
    "duration": 547,
    "start_time": "2024-07-10T02:20:33.194Z"
   },
   {
    "duration": 20,
    "start_time": "2024-07-10T02:20:33.744Z"
   },
   {
    "duration": 460,
    "start_time": "2024-07-10T02:20:33.767Z"
   },
   {
    "duration": 55,
    "start_time": "2024-07-10T02:20:34.230Z"
   },
   {
    "duration": 11,
    "start_time": "2024-07-10T02:20:34.304Z"
   },
   {
    "duration": 1795,
    "start_time": "2024-07-10T02:20:34.319Z"
   },
   {
    "duration": 10,
    "start_time": "2024-07-10T02:20:36.118Z"
   },
   {
    "duration": 702,
    "start_time": "2024-07-10T02:23:23.057Z"
   },
   {
    "duration": 1755,
    "start_time": "2024-07-10T02:23:23.762Z"
   },
   {
    "duration": 18,
    "start_time": "2024-07-10T02:23:25.520Z"
   },
   {
    "duration": 16,
    "start_time": "2024-07-10T02:23:25.542Z"
   },
   {
    "duration": 47,
    "start_time": "2024-07-10T02:23:25.561Z"
   },
   {
    "duration": 16,
    "start_time": "2024-07-10T02:23:25.612Z"
   },
   {
    "duration": 17,
    "start_time": "2024-07-10T02:23:25.631Z"
   },
   {
    "duration": 392,
    "start_time": "2024-07-10T02:23:25.651Z"
   },
   {
    "duration": 23,
    "start_time": "2024-07-10T02:23:26.046Z"
   },
   {
    "duration": 220,
    "start_time": "2024-07-10T02:23:26.075Z"
   },
   {
    "duration": 205,
    "start_time": "2024-07-10T02:23:26.300Z"
   },
   {
    "duration": 48,
    "start_time": "2024-07-10T02:23:26.509Z"
   },
   {
    "duration": 61,
    "start_time": "2024-07-10T02:23:26.561Z"
   },
   {
    "duration": 8,
    "start_time": "2024-07-10T02:23:26.625Z"
   },
   {
    "duration": 67,
    "start_time": "2024-07-10T02:23:26.636Z"
   },
   {
    "duration": 58,
    "start_time": "2024-07-10T02:23:26.708Z"
   },
   {
    "duration": 33,
    "start_time": "2024-07-10T02:23:26.771Z"
   },
   {
    "duration": 9,
    "start_time": "2024-07-10T02:23:26.807Z"
   },
   {
    "duration": 9,
    "start_time": "2024-07-10T02:23:26.820Z"
   },
   {
    "duration": 7,
    "start_time": "2024-07-10T02:23:26.832Z"
   },
   {
    "duration": 1385,
    "start_time": "2024-07-10T02:23:26.842Z"
   },
   {
    "duration": 1183,
    "start_time": "2024-07-10T02:23:28.231Z"
   },
   {
    "duration": 18,
    "start_time": "2024-07-10T02:23:29.417Z"
   },
   {
    "duration": 13,
    "start_time": "2024-07-10T02:23:29.438Z"
   },
   {
    "duration": 49,
    "start_time": "2024-07-10T02:23:29.454Z"
   },
   {
    "duration": 17,
    "start_time": "2024-07-10T02:23:29.506Z"
   },
   {
    "duration": 15,
    "start_time": "2024-07-10T02:23:29.526Z"
   },
   {
    "duration": 11,
    "start_time": "2024-07-10T02:23:29.549Z"
   },
   {
    "duration": 49,
    "start_time": "2024-07-10T02:23:29.563Z"
   },
   {
    "duration": 28,
    "start_time": "2024-07-10T02:23:29.614Z"
   },
   {
    "duration": 86,
    "start_time": "2024-07-10T02:23:29.645Z"
   },
   {
    "duration": 20,
    "start_time": "2024-07-10T02:23:29.734Z"
   },
   {
    "duration": 669,
    "start_time": "2024-07-10T02:23:29.757Z"
   },
   {
    "duration": 36,
    "start_time": "2024-07-10T02:23:30.428Z"
   },
   {
    "duration": 35,
    "start_time": "2024-07-10T02:23:30.467Z"
   },
   {
    "duration": 9,
    "start_time": "2024-07-10T02:23:30.504Z"
   },
   {
    "duration": 365,
    "start_time": "2024-07-10T02:23:30.516Z"
   },
   {
    "duration": 224,
    "start_time": "2024-07-10T02:23:30.884Z"
   },
   {
    "duration": 410,
    "start_time": "2024-07-10T02:23:31.112Z"
   },
   {
    "duration": 14,
    "start_time": "2024-07-10T02:23:31.525Z"
   },
   {
    "duration": 13,
    "start_time": "2024-07-10T02:23:31.542Z"
   },
   {
    "duration": 43,
    "start_time": "2024-07-10T02:23:31.558Z"
   },
   {
    "duration": 413,
    "start_time": "2024-07-10T02:23:31.604Z"
   },
   {
    "duration": 13,
    "start_time": "2024-07-10T02:23:32.020Z"
   },
   {
    "duration": 1623,
    "start_time": "2024-07-10T02:23:32.036Z"
   },
   {
    "duration": 1372,
    "start_time": "2024-07-10T02:23:33.662Z"
   },
   {
    "duration": 592,
    "start_time": "2024-07-10T02:23:35.038Z"
   },
   {
    "duration": 19,
    "start_time": "2024-07-10T02:23:35.633Z"
   },
   {
    "duration": 586,
    "start_time": "2024-07-10T02:23:35.655Z"
   },
   {
    "duration": 12,
    "start_time": "2024-07-10T02:23:36.244Z"
   },
   {
    "duration": 534,
    "start_time": "2024-07-10T02:23:36.259Z"
   },
   {
    "duration": 1345,
    "start_time": "2024-07-10T02:23:36.803Z"
   },
   {
    "duration": 548,
    "start_time": "2024-07-10T02:23:38.152Z"
   },
   {
    "duration": 21,
    "start_time": "2024-07-10T02:23:38.703Z"
   },
   {
    "duration": 507,
    "start_time": "2024-07-10T02:23:38.727Z"
   },
   {
    "duration": 77,
    "start_time": "2024-07-10T02:23:39.238Z"
   },
   {
    "duration": 10,
    "start_time": "2024-07-10T02:23:39.318Z"
   },
   {
    "duration": 1784,
    "start_time": "2024-07-10T02:23:39.332Z"
   },
   {
    "duration": 12,
    "start_time": "2024-07-10T02:23:41.119Z"
   },
   {
    "duration": 702,
    "start_time": "2024-07-10T02:25:42.517Z"
   },
   {
    "duration": 1870,
    "start_time": "2024-07-10T02:25:43.223Z"
   },
   {
    "duration": 21,
    "start_time": "2024-07-10T02:25:45.096Z"
   },
   {
    "duration": 16,
    "start_time": "2024-07-10T02:25:45.121Z"
   },
   {
    "duration": 14,
    "start_time": "2024-07-10T02:25:45.140Z"
   },
   {
    "duration": 55,
    "start_time": "2024-07-10T02:25:45.157Z"
   },
   {
    "duration": 12,
    "start_time": "2024-07-10T02:25:45.215Z"
   },
   {
    "duration": 377,
    "start_time": "2024-07-10T02:25:45.231Z"
   },
   {
    "duration": 24,
    "start_time": "2024-07-10T02:25:45.611Z"
   },
   {
    "duration": 234,
    "start_time": "2024-07-10T02:25:45.641Z"
   },
   {
    "duration": 193,
    "start_time": "2024-07-10T02:25:45.879Z"
   },
   {
    "duration": 56,
    "start_time": "2024-07-10T02:25:46.074Z"
   },
   {
    "duration": 42,
    "start_time": "2024-07-10T02:25:46.133Z"
   },
   {
    "duration": 28,
    "start_time": "2024-07-10T02:25:46.178Z"
   },
   {
    "duration": 41,
    "start_time": "2024-07-10T02:25:46.209Z"
   },
   {
    "duration": 81,
    "start_time": "2024-07-10T02:25:46.253Z"
   },
   {
    "duration": 6,
    "start_time": "2024-07-10T02:25:46.337Z"
   },
   {
    "duration": 6,
    "start_time": "2024-07-10T02:25:46.347Z"
   },
   {
    "duration": 7,
    "start_time": "2024-07-10T02:25:46.357Z"
   },
   {
    "duration": 40,
    "start_time": "2024-07-10T02:25:46.366Z"
   },
   {
    "duration": 1367,
    "start_time": "2024-07-10T02:25:46.409Z"
   },
   {
    "duration": 1171,
    "start_time": "2024-07-10T02:25:47.779Z"
   },
   {
    "duration": 18,
    "start_time": "2024-07-10T02:25:48.953Z"
   },
   {
    "duration": 34,
    "start_time": "2024-07-10T02:25:48.973Z"
   },
   {
    "duration": 13,
    "start_time": "2024-07-10T02:25:49.010Z"
   },
   {
    "duration": 17,
    "start_time": "2024-07-10T02:25:49.026Z"
   },
   {
    "duration": 59,
    "start_time": "2024-07-10T02:25:49.047Z"
   },
   {
    "duration": 14,
    "start_time": "2024-07-10T02:25:49.118Z"
   },
   {
    "duration": 16,
    "start_time": "2024-07-10T02:25:49.135Z"
   },
   {
    "duration": 64,
    "start_time": "2024-07-10T02:25:49.154Z"
   },
   {
    "duration": 50,
    "start_time": "2024-07-10T02:25:49.222Z"
   },
   {
    "duration": 20,
    "start_time": "2024-07-10T02:25:49.301Z"
   },
   {
    "duration": 654,
    "start_time": "2024-07-10T02:25:49.323Z"
   },
   {
    "duration": 48,
    "start_time": "2024-07-10T02:25:49.979Z"
   },
   {
    "duration": 9,
    "start_time": "2024-07-10T02:25:50.030Z"
   },
   {
    "duration": 9,
    "start_time": "2024-07-10T02:25:50.042Z"
   },
   {
    "duration": 398,
    "start_time": "2024-07-10T02:25:50.054Z"
   },
   {
    "duration": 216,
    "start_time": "2024-07-10T02:25:50.455Z"
   },
   {
    "duration": 383,
    "start_time": "2024-07-10T02:25:50.674Z"
   },
   {
    "duration": 13,
    "start_time": "2024-07-10T02:25:51.060Z"
   },
   {
    "duration": 32,
    "start_time": "2024-07-10T02:25:51.076Z"
   },
   {
    "duration": 9,
    "start_time": "2024-07-10T02:25:51.111Z"
   },
   {
    "duration": 444,
    "start_time": "2024-07-10T02:25:51.123Z"
   },
   {
    "duration": 12,
    "start_time": "2024-07-10T02:25:51.570Z"
   },
   {
    "duration": 1627,
    "start_time": "2024-07-10T02:25:51.602Z"
   },
   {
    "duration": 1769,
    "start_time": "2024-07-10T02:25:53.232Z"
   },
   {
    "duration": 630,
    "start_time": "2024-07-10T02:25:55.004Z"
   },
   {
    "duration": 20,
    "start_time": "2024-07-10T02:25:55.637Z"
   },
   {
    "duration": 603,
    "start_time": "2024-07-10T02:25:55.662Z"
   },
   {
    "duration": 12,
    "start_time": "2024-07-10T02:25:56.268Z"
   },
   {
    "duration": 591,
    "start_time": "2024-07-10T02:25:56.283Z"
   },
   {
    "duration": 1418,
    "start_time": "2024-07-10T02:25:56.877Z"
   },
   {
    "duration": 636,
    "start_time": "2024-07-10T02:25:58.298Z"
   },
   {
    "duration": 22,
    "start_time": "2024-07-10T02:25:58.937Z"
   },
   {
    "duration": 510,
    "start_time": "2024-07-10T02:25:58.962Z"
   },
   {
    "duration": 71,
    "start_time": "2024-07-10T02:25:59.475Z"
   },
   {
    "duration": 11,
    "start_time": "2024-07-10T02:25:59.548Z"
   },
   {
    "duration": 1946,
    "start_time": "2024-07-10T02:25:59.561Z"
   },
   {
    "duration": 147,
    "start_time": "2024-07-10T02:26:01.510Z"
   }
  ],
  "colab": {
   "provenance": []
  },
  "kernelspec": {
   "display_name": "base",
   "language": "python",
   "name": "python3"
  },
  "language_info": {
   "codemirror_mode": {
    "name": "ipython",
    "version": 3
   },
   "file_extension": ".py",
   "mimetype": "text/x-python",
   "name": "python",
   "nbconvert_exporter": "python",
   "pygments_lexer": "ipython3",
   "version": "3.12.4"
  },
  "toc": {
   "base_numbering": 1,
   "nav_menu": {},
   "number_sections": true,
   "sideBar": true,
   "skip_h1_title": true,
   "title_cell": "Table of Contents",
   "title_sidebar": "Contents",
   "toc_cell": false,
   "toc_position": {},
   "toc_section_display": true,
   "toc_window_display": false
  }
 },
 "nbformat": 4,
 "nbformat_minor": 5
}
