{
 "cells": [
  {
   "cell_type": "code",
   "execution_count": null,
   "metadata": {},
   "outputs": [],
   "source": []
  },
  {
   "cell_type": "markdown",
   "metadata": {
    "id": "E0vqbgi9ay0H"
   },
   "source": [
    "# Déjame escuchar la música"
   ]
  },
  {
   "cell_type": "markdown",
   "metadata": {
    "id": "fhq_eyov_Zcs"
   },
   "source": [
    "# Contenido <a id='back'></a>\n",
    "\n",
    "* [Introducción](#intro)\n",
    "* [Etapa 1. Descripción de los datos](#data_review)\n",
    "    * [Conclusiones](#data_review_conclusions)\n",
    "* [Etapa 2. Preprocesamiento de datos](#data_preprocessing)\n",
    "    * [2.1 Estilo del encabezado](#header_style)\n",
    "    * [2.2 Valores ausentes](#missing_values)\n",
    "    * [2.3 Duplicados](#duplicates)\n",
    "    * [2.4 Conclusiones](#data_preprocessing_conclusions)\n",
    "* [Etapa 3. Prueba de hipótesis](#hypothesis)\n",
    "    * [3.1 Hipótesis 1: actividad de los usuarios y las usuarias en las dos ciudades](#activity)\n",
    "* [Conclusiones](#end)"
   ]
  },
  {
   "cell_type": "markdown",
   "metadata": {
    "id": "VUC88oWjTJw2"
   },
   "source": [
    "## Introducción <a id='intro'></a>\n",
    "Como analista de datos, tu trabajo consiste en analizar datos para extraer información valiosa y tomar decisiones basadas en ellos. Esto implica diferentes etapas, como la descripción general de los datos, el preprocesamiento y la prueba de hipótesis.\n",
    "\n",
    "Siempre que investigamos, necesitamos formular hipótesis que después podamos probar. A veces aceptamos estas hipótesis; otras veces, las rechazamos. Para tomar las decisiones correctas, una empresa debe ser capaz de entender si está haciendo las suposiciones correctas.\n",
    "\n",
    "En este proyecto, compararás las preferencias musicales de las ciudades de Springfield y Shelbyville. Estudiarás datos reales de transmisión de música online para probar la hipótesis a continuación y comparar el comportamiento de los usuarios y las usuarias de estas dos ciudades.\n",
    "\n",
    "### Objetivo:\n",
    "Prueba la hipótesis:\n",
    "1. La actividad de los usuarios y las usuarias difiere según el día de la semana y dependiendo de la ciudad.\n",
    "\n",
    "\n",
    "### Etapas\n",
    "Los datos del comportamiento del usuario se almacenan en el archivo `/datasets/music_project_en.csv`. No hay ninguna información sobre la calidad de los datos, así que necesitarás examinarlos antes de probar la hipótesis.\n",
    "\n",
    "Primero, evaluarás la calidad de los datos y verás si los problemas son significativos. Entonces, durante el preprocesamiento de datos, tomarás en cuenta los problemas más críticos.\n",
    "\n",
    "Tu proyecto consistirá en tres etapas:\n",
    " 1. Descripción de los datos.\n",
    " 2. Preprocesamiento de datos.\n",
    " 3. Prueba de hipótesis.\n",
    "\n",
    "\n",
    "\n",
    "\n",
    "\n",
    "\n"
   ]
  },
  {
   "cell_type": "markdown",
   "metadata": {
    "id": "hDt6pg-Rw-1U"
   },
   "source": [
    "[Volver a Contenidos](#back)"
   ]
  },
  {
   "cell_type": "markdown",
   "metadata": {
    "id": "Ml1hmfXC_Zcs"
   },
   "source": [
    "## Etapa 1. Descripción de los datos <a id='data_review'></a>\n",
    "\n",
    "Abre los datos y examínalos."
   ]
  },
  {
   "cell_type": "markdown",
   "metadata": {
    "id": "57eAOGIz_Zcs"
   },
   "source": [
    "Necesitarás `pandas`, así que impórtalo."
   ]
  },
  {
   "cell_type": "code",
   "execution_count": 1,
   "metadata": {
    "id": "AXN7PHPN_Zcs"
   },
   "outputs": [],
   "source": [
    "import pandas as pd    # Importar pandas\n"
   ]
  },
  {
   "cell_type": "markdown",
   "metadata": {
    "id": "SG23P8tt_Zcs"
   },
   "source": [
    "Lee el archivo `music_project_en.csv` de la carpeta `/datasets/` y guárdalo en la variable `df`:"
   ]
  },
  {
   "cell_type": "code",
   "execution_count": 3,
   "metadata": {
    "id": "fFVu7vqh_Zct"
   },
   "outputs": [],
   "source": [
    "df = pd.read_csv(\"./datasets/music_project_en.csv\") # Leer el archivo y almacenarlo en df\n"
   ]
  },
  {
   "cell_type": "markdown",
   "metadata": {
    "id": "rDoOMd3uTqnZ"
   },
   "source": [
    "Muestra las 10 primeras filas de la tabla:"
   ]
  },
  {
   "cell_type": "code",
   "execution_count": 4,
   "metadata": {
    "id": "oWTVX3gW_Zct"
   },
   "outputs": [
    {
     "data": {
      "text/html": [
       "<div>\n",
       "<style scoped>\n",
       "    .dataframe tbody tr th:only-of-type {\n",
       "        vertical-align: middle;\n",
       "    }\n",
       "\n",
       "    .dataframe tbody tr th {\n",
       "        vertical-align: top;\n",
       "    }\n",
       "\n",
       "    .dataframe thead th {\n",
       "        text-align: right;\n",
       "    }\n",
       "</style>\n",
       "<table border=\"1\" class=\"dataframe\">\n",
       "  <thead>\n",
       "    <tr style=\"text-align: right;\">\n",
       "      <th></th>\n",
       "      <th>userID</th>\n",
       "      <th>Track</th>\n",
       "      <th>artist</th>\n",
       "      <th>genre</th>\n",
       "      <th>City</th>\n",
       "      <th>time</th>\n",
       "      <th>Day</th>\n",
       "    </tr>\n",
       "  </thead>\n",
       "  <tbody>\n",
       "    <tr>\n",
       "      <th>0</th>\n",
       "      <td>FFB692EC</td>\n",
       "      <td>Kamigata To Boots</td>\n",
       "      <td>The Mass Missile</td>\n",
       "      <td>rock</td>\n",
       "      <td>Shelbyville</td>\n",
       "      <td>20:28:33</td>\n",
       "      <td>Wednesday</td>\n",
       "    </tr>\n",
       "    <tr>\n",
       "      <th>1</th>\n",
       "      <td>55204538</td>\n",
       "      <td>Delayed Because of Accident</td>\n",
       "      <td>Andreas Rönnberg</td>\n",
       "      <td>rock</td>\n",
       "      <td>Springfield</td>\n",
       "      <td>14:07:09</td>\n",
       "      <td>Friday</td>\n",
       "    </tr>\n",
       "    <tr>\n",
       "      <th>2</th>\n",
       "      <td>20EC38</td>\n",
       "      <td>Funiculì funiculà</td>\n",
       "      <td>Mario Lanza</td>\n",
       "      <td>pop</td>\n",
       "      <td>Shelbyville</td>\n",
       "      <td>20:58:07</td>\n",
       "      <td>Wednesday</td>\n",
       "    </tr>\n",
       "    <tr>\n",
       "      <th>3</th>\n",
       "      <td>A3DD03C9</td>\n",
       "      <td>Dragons in the Sunset</td>\n",
       "      <td>Fire + Ice</td>\n",
       "      <td>folk</td>\n",
       "      <td>Shelbyville</td>\n",
       "      <td>08:37:09</td>\n",
       "      <td>Monday</td>\n",
       "    </tr>\n",
       "    <tr>\n",
       "      <th>4</th>\n",
       "      <td>E2DC1FAE</td>\n",
       "      <td>Soul People</td>\n",
       "      <td>Space Echo</td>\n",
       "      <td>dance</td>\n",
       "      <td>Springfield</td>\n",
       "      <td>08:34:34</td>\n",
       "      <td>Monday</td>\n",
       "    </tr>\n",
       "    <tr>\n",
       "      <th>5</th>\n",
       "      <td>842029A1</td>\n",
       "      <td>Chains</td>\n",
       "      <td>Obladaet</td>\n",
       "      <td>rusrap</td>\n",
       "      <td>Shelbyville</td>\n",
       "      <td>13:09:41</td>\n",
       "      <td>Friday</td>\n",
       "    </tr>\n",
       "    <tr>\n",
       "      <th>6</th>\n",
       "      <td>4CB90AA5</td>\n",
       "      <td>True</td>\n",
       "      <td>Roman Messer</td>\n",
       "      <td>dance</td>\n",
       "      <td>Springfield</td>\n",
       "      <td>13:00:07</td>\n",
       "      <td>Wednesday</td>\n",
       "    </tr>\n",
       "    <tr>\n",
       "      <th>7</th>\n",
       "      <td>F03E1C1F</td>\n",
       "      <td>Feeling This Way</td>\n",
       "      <td>Polina Griffith</td>\n",
       "      <td>dance</td>\n",
       "      <td>Springfield</td>\n",
       "      <td>20:47:49</td>\n",
       "      <td>Wednesday</td>\n",
       "    </tr>\n",
       "    <tr>\n",
       "      <th>8</th>\n",
       "      <td>8FA1D3BE</td>\n",
       "      <td>L’estate</td>\n",
       "      <td>Julia Dalia</td>\n",
       "      <td>ruspop</td>\n",
       "      <td>Springfield</td>\n",
       "      <td>09:17:40</td>\n",
       "      <td>Friday</td>\n",
       "    </tr>\n",
       "    <tr>\n",
       "      <th>9</th>\n",
       "      <td>E772D5C0</td>\n",
       "      <td>Pessimist</td>\n",
       "      <td>NaN</td>\n",
       "      <td>dance</td>\n",
       "      <td>Shelbyville</td>\n",
       "      <td>21:20:49</td>\n",
       "      <td>Wednesday</td>\n",
       "    </tr>\n",
       "  </tbody>\n",
       "</table>\n",
       "</div>"
      ],
      "text/plain": [
       "     userID                        Track            artist   genre  \\\n",
       "0  FFB692EC            Kamigata To Boots  The Mass Missile    rock   \n",
       "1  55204538  Delayed Because of Accident  Andreas Rönnberg    rock   \n",
       "2    20EC38            Funiculì funiculà       Mario Lanza     pop   \n",
       "3  A3DD03C9        Dragons in the Sunset        Fire + Ice    folk   \n",
       "4  E2DC1FAE                  Soul People        Space Echo   dance   \n",
       "5  842029A1                       Chains          Obladaet  rusrap   \n",
       "6  4CB90AA5                         True      Roman Messer   dance   \n",
       "7  F03E1C1F             Feeling This Way   Polina Griffith   dance   \n",
       "8  8FA1D3BE                     L’estate       Julia Dalia  ruspop   \n",
       "9  E772D5C0                    Pessimist               NaN   dance   \n",
       "\n",
       "        City        time        Day  \n",
       "0  Shelbyville  20:28:33  Wednesday  \n",
       "1  Springfield  14:07:09     Friday  \n",
       "2  Shelbyville  20:58:07  Wednesday  \n",
       "3  Shelbyville  08:37:09     Monday  \n",
       "4  Springfield  08:34:34     Monday  \n",
       "5  Shelbyville  13:09:41     Friday  \n",
       "6  Springfield  13:00:07  Wednesday  \n",
       "7  Springfield  20:47:49  Wednesday  \n",
       "8  Springfield  09:17:40     Friday  \n",
       "9  Shelbyville  21:20:49  Wednesday  "
      ]
     },
     "execution_count": 4,
     "metadata": {},
     "output_type": "execute_result"
    }
   ],
   "source": [
    "df.head(10) # Obtener las 10 primeras filas de la tabla df\n"
   ]
  },
  {
   "cell_type": "markdown",
   "metadata": {
    "id": "EO73Kwic_Zct"
   },
   "source": [
    "Obtén la información general sobre la tabla con un comando. Conoces el método que muestra la información general que necesitamos."
   ]
  },
  {
   "cell_type": "code",
   "execution_count": 5,
   "metadata": {
    "id": "DSf2kIb-_Zct"
   },
   "outputs": [
    {
     "data": {
      "text/html": [
       "<div>\n",
       "<style scoped>\n",
       "    .dataframe tbody tr th:only-of-type {\n",
       "        vertical-align: middle;\n",
       "    }\n",
       "\n",
       "    .dataframe tbody tr th {\n",
       "        vertical-align: top;\n",
       "    }\n",
       "\n",
       "    .dataframe thead th {\n",
       "        text-align: right;\n",
       "    }\n",
       "</style>\n",
       "<table border=\"1\" class=\"dataframe\">\n",
       "  <thead>\n",
       "    <tr style=\"text-align: right;\">\n",
       "      <th></th>\n",
       "      <th>userID</th>\n",
       "      <th>Track</th>\n",
       "      <th>artist</th>\n",
       "      <th>genre</th>\n",
       "      <th>City</th>\n",
       "      <th>time</th>\n",
       "      <th>Day</th>\n",
       "    </tr>\n",
       "  </thead>\n",
       "  <tbody>\n",
       "    <tr>\n",
       "      <th>count</th>\n",
       "      <td>65079</td>\n",
       "      <td>63736</td>\n",
       "      <td>57512</td>\n",
       "      <td>63881</td>\n",
       "      <td>65079</td>\n",
       "      <td>65079</td>\n",
       "      <td>65079</td>\n",
       "    </tr>\n",
       "    <tr>\n",
       "      <th>unique</th>\n",
       "      <td>41748</td>\n",
       "      <td>39666</td>\n",
       "      <td>37806</td>\n",
       "      <td>268</td>\n",
       "      <td>2</td>\n",
       "      <td>20392</td>\n",
       "      <td>3</td>\n",
       "    </tr>\n",
       "    <tr>\n",
       "      <th>top</th>\n",
       "      <td>A8AE9169</td>\n",
       "      <td>Brand</td>\n",
       "      <td>Kartvelli</td>\n",
       "      <td>pop</td>\n",
       "      <td>Springfield</td>\n",
       "      <td>08:14:07</td>\n",
       "      <td>Friday</td>\n",
       "    </tr>\n",
       "    <tr>\n",
       "      <th>freq</th>\n",
       "      <td>76</td>\n",
       "      <td>136</td>\n",
       "      <td>136</td>\n",
       "      <td>8850</td>\n",
       "      <td>45360</td>\n",
       "      <td>14</td>\n",
       "      <td>23149</td>\n",
       "    </tr>\n",
       "  </tbody>\n",
       "</table>\n",
       "</div>"
      ],
      "text/plain": [
       "          userID  Track     artist  genre       City        time     Day\n",
       "count      65079  63736      57512  63881        65079     65079   65079\n",
       "unique     41748  39666      37806    268            2     20392       3\n",
       "top     A8AE9169  Brand  Kartvelli    pop  Springfield  08:14:07  Friday\n",
       "freq          76    136        136   8850        45360        14   23149"
      ]
     },
     "execution_count": 5,
     "metadata": {},
     "output_type": "execute_result"
    }
   ],
   "source": [
    "df.describe() # Obtener la información general sobre nuestros datos\n"
   ]
  },
  {
   "cell_type": "markdown",
   "metadata": {
    "id": "TaQ2Iwbr_Zct"
   },
   "source": [
    "Estas son nuestras observaciones sobre la tabla. Contiene siete columnas. Almacenan los mismos tipos de datos: `object`.\n",
    "\n",
    "Según la documentación:\n",
    "- `' userID'`: identificador del usuario o la usuaria;\n",
    "- `'Track'`: título de la canción;\n",
    "- `'artist'`: nombre del artista;\n",
    "- `'genre'`: género de la pista;\n",
    "- `'City'`: ciudad del usuario o la usuaria;\n",
    "- `'time'`: la hora exacta en la que se reprodujo la canción;\n",
    "- `'Day'`: día de la semana.\n",
    "\n",
    "Podemos ver tres problemas con el estilo en los encabezados de la tabla:\n",
    "1. Algunos encabezados están en mayúsculas, otros en minúsculas.\n",
    "2. Hay espacios en algunos encabezados.\n",
    "3. No exiten separadores entre palabras. `Detecta el tercer problema por tu cuenta y descríbelo aquí`.\n",
    "\n",
    "\n"
   ]
  },
  {
   "cell_type": "markdown",
   "metadata": {
    "id": "MCB6-dXG_Zct"
   },
   "source": [
    "### Escribe observaciones de tu parte. Estas son algunas de las preguntas que pueden ser útiles: <a id='data_review_conclusions'></a>\n",
    "\n",
    "`1.   ¿Qué tipo de datos tenemos a nuestra disposición en las filas? ¿Y cómo podemos entender lo que almacenan las columnas?`\n",
    "      En las filas podemos encontrar diversos tipos de datos relacionados con las ciudades a analisar, encontramos una distribusion aleatoria e intercalada de las ciudades, las columnas se pueden entender de acuerdo a sus nombres renombrandolas y corrigiendo aquellos parametros que se podrian interponer.\n",
    "\n",
    "`2.   ¿Hay suficientes datos para proporcionar respuestas a nuestra hipótesis o necesitamos más información?`\n",
    "     considero que si se encuentran los datos suficientes para comprovar nuestra hipótesis.\n",
    "\n",
    "`3.   ¿Notaste algún problema en los datos, como valores ausentes, duplicados o tipos de datos incorrectos?`\n",
    "     deacuerdo a las filas mostradas hasta el momento que son 10, encuentro algunos valores ausentes, ni datos duplicados."
   ]
  },
  {
   "cell_type": "markdown",
   "metadata": {
    "id": "3eL__vcwViOi"
   },
   "source": [
    "[Volver a Contenidos](#back)"
   ]
  },
  {
   "cell_type": "markdown",
   "metadata": {
    "id": "SjYF6Ub9_Zct"
   },
   "source": [
    "## Etapa 2. Preprocesamiento de datos <a id='data_preprocessing'></a>\n",
    "\n",
    "El objetivo aquí es preparar los datos para que sean analizados.\n",
    "El primer paso es resolver cualquier problema con los encabezados. Luego podemos avanzar a los valores ausentes y duplicados. Empecemos.\n",
    "\n",
    "Corrige el formato en los encabezados de la tabla.\n"
   ]
  },
  {
   "cell_type": "markdown",
   "metadata": {
    "id": "dIaKXr29_Zct"
   },
   "source": [
    "### Estilo del encabezado <a id='header_style'></a>\n",
    "Muestra los encabezados de la tabla (los nombres de las columnas):"
   ]
  },
  {
   "cell_type": "code",
   "execution_count": 6,
   "metadata": {
    "id": "oKOTdF_Q_Zct"
   },
   "outputs": [
    {
     "name": "stdout",
     "output_type": "stream",
     "text": [
      "Index(['  userID', 'Track', 'artist', 'genre', '  City  ', 'time', 'Day'], dtype='object')\n"
     ]
    }
   ],
   "source": [
    "print(df.columns) # Muestra los nombres de las columnas\n"
   ]
  },
  {
   "cell_type": "markdown",
   "metadata": {
    "id": "zj5534cv_Zct"
   },
   "source": [
    "Cambia los encabezados de la tabla de acuerdo con las reglas del buen estilo:\n",
    "* Todos los caracteres deben ser minúsculas.\n",
    "* Elimina los espacios.\n",
    "* Si el nombre tiene varias palabras, utiliza snake_case."
   ]
  },
  {
   "cell_type": "markdown",
   "metadata": {
    "id": "Xu0zkfe5zNJe"
   },
   "source": [
    "Anteriormente, aprendiste acerca de la forma automática de cambiar el nombre de las columnas. Vamos a aplicarla ahora. Utiliza el bucle for para iterar sobre los nombres de las columnas y poner todos los caracteres en minúsculas. Cuando hayas terminado, vuelve a mostrar los encabezados de la tabla:"
   ]
  },
  {
   "cell_type": "code",
   "execution_count": 7,
   "metadata": {
    "id": "6I_RwwMhzM4e"
   },
   "outputs": [
    {
     "name": "stdout",
     "output_type": "stream",
     "text": [
      "Index(['  userid', 'track', 'artist', 'genre', '  city  ', 'time', 'day'], dtype='object')\n"
     ]
    }
   ],
   "source": [
    "new_col_names = []\n",
    "\n",
    "for old_name in df.columns:\n",
    "     name_lowered = old_name.lower()\n",
    "     new_col_names.append(name_lowered)\n",
    "\n",
    "df.columns = new_col_names \n",
    "\n",
    "print(df.columns) # Bucle en los encabezados poniendo todo en minúsculas\n"
   ]
  },
  {
   "cell_type": "markdown",
   "metadata": {
    "id": "pweIRxjSzPYW"
   },
   "source": [
    "Ahora, utilizando el mismo método, elimina los espacios al principio y al final de los nombres de las columnas e imprime los nombres de las columnas nuevamente:"
   ]
  },
  {
   "cell_type": "code",
   "execution_count": 8,
   "metadata": {
    "id": "vVQXbFyJzSYl"
   },
   "outputs": [
    {
     "name": "stdout",
     "output_type": "stream",
     "text": [
      "Index(['userid', 'track', 'artist', 'genre', 'city', 'time', 'day'], dtype='object')\n"
     ]
    }
   ],
   "source": [
    "new_col_names = []\n",
    "\n",
    "for old_name in df.columns:\n",
    "    name_stripped = old_name.strip()\n",
    "    new_col_names.append(name_stripped)\n",
    "\n",
    "df.columns = new_col_names\n",
    "print(df.columns)\n",
    "# Bucle en los encabezados eliminando los espacios\n"
   ]
  },
  {
   "cell_type": "markdown",
   "metadata": {
    "id": "yCb8MW1JzURd"
   },
   "source": [
    "Necesitamos aplicar la regla de snake_case a la columna `userid`. Debe ser `user_id`. Cambia el nombre de esta columna y muestra los nombres de todas las columnas cuando hayas terminado."
   ]
  },
  {
   "cell_type": "code",
   "execution_count": 9,
   "metadata": {
    "id": "ISlFqs5y_Zct"
   },
   "outputs": [
    {
     "name": "stdout",
     "output_type": "stream",
     "text": [
      "Index(['user_id', 'track', 'artist', 'genre', 'city', 'time', 'day'], dtype='object')\n"
     ]
    }
   ],
   "source": [
    "new_col_names = []\n",
    "\n",
    "for old_name in df.columns:\n",
    "    name_new = old_name.replace('userid', 'user_id')\n",
    "    new_col_names.append(name_new)\n",
    "\n",
    "df.columns = new_col_names\n",
    "print(df.columns)\n",
    "# Cambiar el nombre de la columna \"userid\"\n"
   ]
  },
  {
   "cell_type": "markdown",
   "metadata": {
    "id": "1dqbh00J_Zct"
   },
   "source": [
    "Comprueba el resultado. Muestra los encabezados una vez más:"
   ]
  },
  {
   "cell_type": "code",
   "execution_count": 10,
   "metadata": {
    "id": "d4NOAmTW_Zct"
   },
   "outputs": [
    {
     "name": "stdout",
     "output_type": "stream",
     "text": [
      "Index(['user_id', 'track', 'artist', 'genre', 'city', 'time', 'day'], dtype='object')\n"
     ]
    }
   ],
   "source": [
    "print(df.columns) # Comprobar el resultado: la lista de encabezados\n"
   ]
  },
  {
   "cell_type": "markdown",
   "metadata": {
    "id": "xYJk6ksJVpOl"
   },
   "source": [
    "[Volver a Contenidos](#back)"
   ]
  },
  {
   "cell_type": "markdown",
   "metadata": {
    "id": "5ISfbcfY_Zct"
   },
   "source": [
    "### Valores ausentes <a id='missing_values'></a>\n",
    " Primero, encuentra el número de valores ausentes en la tabla. Debes utilizar dos métodos en una secuencia para obtener el número de valores ausentes."
   ]
  },
  {
   "cell_type": "code",
   "execution_count": 11,
   "metadata": {
    "id": "RskX29qr_Zct"
   },
   "outputs": [
    {
     "name": "stdout",
     "output_type": "stream",
     "text": [
      "user_id       0\n",
      "track      1343\n",
      "artist     7567\n",
      "genre      1198\n",
      "city          0\n",
      "time          0\n",
      "day           0\n",
      "dtype: int64\n"
     ]
    }
   ],
   "source": [
    "print(df.isna().sum())\n",
    "# escribe tu código aquí"
   ]
  },
  {
   "cell_type": "markdown",
   "metadata": {
    "id": "qubhgnlO_Zct"
   },
   "source": [
    "No todos los valores ausentes afectan a la investigación. Por ejemplo, los valores ausentes en `track` y `artist` no son cruciales. Simplemente puedes reemplazarlos con valores predeterminados como el string `'unknown'` (desconocido).\n",
    "\n",
    "Pero los valores ausentes en `'genre'` pueden afectar la comparación entre las preferencias musicales de Springfield y Shelbyville. En la vida real, sería útil saber las razones por las cuales hay datos ausentes e intentar recuperarlos. Pero no tenemos esa oportunidad en este proyecto. Así que tendrás que:\n",
    "* rellenar estos valores ausentes con un valor predeterminado;\n",
    "* evaluar cuánto podrían afectar los valores ausentes a tus cómputos;"
   ]
  },
  {
   "cell_type": "markdown",
   "metadata": {
    "id": "fSv2laPA_Zct"
   },
   "source": [
    "Reemplazar los valores ausentes en las columnas `'track'`, `'artist'` y `'genre'` con el string `'unknown'`. Como mostramos anteriormente en las lecciones, la mejor forma de hacerlo es crear una lista que almacene los nombres de las columnas donde se necesita el reemplazo. Luego, utiliza esta lista e itera sobre las columnas donde se necesita el reemplazo haciendo el propio reemplazo."
   ]
  },
  {
   "cell_type": "code",
   "execution_count": 12,
   "metadata": {
    "id": "KplB5qWs_Zct"
   },
   "outputs": [
    {
     "name": "stderr",
     "output_type": "stream",
     "text": [
      "C:\\Users\\ILMAS\\AppData\\Local\\Temp\\ipykernel_17664\\234134757.py:4: FutureWarning: A value is trying to be set on a copy of a DataFrame or Series through chained assignment using an inplace method.\n",
      "The behavior will change in pandas 3.0. This inplace method will never work because the intermediate object on which we are setting values always behaves as a copy.\n",
      "\n",
      "For example, when doing 'df[col].method(value, inplace=True)', try using 'df.method({col: value}, inplace=True)' or df[col] = df[col].method(value) instead, to perform the operation inplace on the original object.\n",
      "\n",
      "\n",
      "  df[col].fillna('unknown',inplace=True)\n"
     ]
    }
   ],
   "source": [
    "\n",
    "columns_to_replace = ['track', 'artist', 'genre']\n",
    "\n",
    "for col in columns_to_replace:\n",
    "    df[col].fillna('unknown',inplace=True)\n",
    "   \n",
    "\n",
    " # Bucle en los encabezados reemplazando los valores ausentes con 'unknown'\n"
   ]
  },
  {
   "cell_type": "markdown",
   "metadata": {
    "id": "Ilsm-MZo_Zct"
   },
   "source": [
    "Ahora comprueba el resultado para asegurarte de que después del reemplazo no haya valores ausentes en el conjunto de datos. Para hacer esto, cuenta los valores ausentes nuevamente."
   ]
  },
  {
   "cell_type": "code",
   "execution_count": 13,
   "metadata": {
    "id": "Tq4nYRX4_Zct"
   },
   "outputs": [
    {
     "name": "stdout",
     "output_type": "stream",
     "text": [
      "user_id    0\n",
      "track      0\n",
      "artist     0\n",
      "genre      0\n",
      "city       0\n",
      "time       0\n",
      "day        0\n",
      "dtype: int64\n"
     ]
    }
   ],
   "source": [
    "\n",
    "print(df.isna().sum()) # Contar valores ausentes\n"
   ]
  },
  {
   "cell_type": "markdown",
   "metadata": {
    "id": "74ZIBmq9VrsK"
   },
   "source": [
    "[Volver a Contenidos](#back)"
   ]
  },
  {
   "cell_type": "markdown",
   "metadata": {
    "id": "BWKRtBJ3_Zct"
   },
   "source": [
    "### Duplicados <a id='duplicates'></a>\n",
    "Encuentra el número de duplicados explícitos en la tabla. Una vez más, debes aplicar dos métodos en una secuencia para obtener la cantidad de duplicados explícitos."
   ]
  },
  {
   "cell_type": "code",
   "execution_count": 13,
   "metadata": {
    "id": "36eES_S0_Zct"
   },
   "outputs": [
    {
     "name": "stdout",
     "output_type": "stream",
     "text": [
      "3826\n"
     ]
    }
   ],
   "source": [
    "duplicates = df.duplicated().sum()  # Contar duplicados explícitos\n",
    "print(duplicates)"
   ]
  },
  {
   "cell_type": "markdown",
   "metadata": {
    "id": "Ot25h6XR_Zct"
   },
   "source": [
    "Ahora, elimina todos los duplicados. Para ello, llama al método que hace exactamente esto."
   ]
  },
  {
   "cell_type": "code",
   "execution_count": 14,
   "metadata": {
    "id": "exFHq6tt_Zct"
   },
   "outputs": [],
   "source": [
    "df = df.drop_duplicates()\n",
    "# Eliminar duplicados explícitos\n"
   ]
  },
  {
   "cell_type": "markdown",
   "metadata": {
    "id": "Im2YwBEG_Zct"
   },
   "source": [
    "Comprobemos ahora si eliminamos con éxito todos los duplicados. Cuenta los duplicados explícitos una vez más para asegurarte de haberlos eliminado todos:"
   ]
  },
  {
   "cell_type": "code",
   "execution_count": 15,
   "metadata": {
    "id": "-8PuNWQ0_Zct"
   },
   "outputs": [
    {
     "name": "stdout",
     "output_type": "stream",
     "text": [
      "0\n"
     ]
    }
   ],
   "source": [
    "print(df.duplicated().sum())  # Comprobar de nuevo si hay duplicados\n"
   ]
  },
  {
   "cell_type": "markdown",
   "metadata": {
    "id": "QlFBsxAr_Zct"
   },
   "source": [
    "Ahora queremos deshacernos de los duplicados implícitos en la columna `genre`. Por ejemplo, el nombre de un género se puede escribir de varias formas. Dichos errores también pueden afectar al resultado."
   ]
  },
  {
   "cell_type": "markdown",
   "metadata": {
    "id": "eSjWwsOh_Zct"
   },
   "source": [
    "Para hacerlo, primero mostremos una lista de nombres de género únicos, ordenados en orden alfabético. Para ello:\n",
    "* Extrae la columna `genre` del DataFrame.\n",
    "* Llama al método que devolverá todos los valores únicos en la columna extraída.\n"
   ]
  },
  {
   "cell_type": "code",
   "execution_count": 16,
   "metadata": {
    "id": "JIUcqzZN_Zct"
   },
   "outputs": [
    {
     "name": "stdout",
     "output_type": "stream",
     "text": [
      "['acid' 'acoustic' 'action' 'adult' 'africa' 'afrikaans' 'alternative'\n",
      " 'ambient' 'americana' 'animated' 'anime' 'arabesk' 'arabic' 'arena'\n",
      " 'argentinetango' 'art' 'audiobook' 'avantgarde' 'axé' 'baile' 'balkan'\n",
      " 'beats' 'bigroom' 'black' 'bluegrass' 'blues' 'bollywood' 'bossa'\n",
      " 'brazilian' 'breakbeat' 'breaks' 'broadway' 'cantautori' 'cantopop'\n",
      " 'canzone' 'caribbean' 'caucasian' 'celtic' 'chamber' 'children' 'chill'\n",
      " 'chinese' 'choral' 'christian' 'christmas' 'classical' 'classicmetal'\n",
      " 'club' 'colombian' 'comedy' 'conjazz' 'contemporary' 'country' 'cuban'\n",
      " 'dance' 'dancehall' 'dancepop' 'dark' 'death' 'deep' 'deutschrock'\n",
      " 'deutschspr' 'dirty' 'disco' 'dnb' 'documentary' 'downbeat' 'downtempo'\n",
      " 'drum' 'dub' 'dubstep' 'eastern' 'easy' 'electronic' 'electropop' 'emo'\n",
      " 'entehno' 'epicmetal' 'estrada' 'ethnic' 'eurofolk' 'european'\n",
      " 'experimental' 'extrememetal' 'fado' 'film' 'fitness' 'flamenco' 'folk'\n",
      " 'folklore' 'folkmetal' 'folkrock' 'folktronica' 'forró' 'frankreich'\n",
      " 'französisch' 'french' 'funk' 'future' 'gangsta' 'garage' 'german'\n",
      " 'ghazal' 'gitarre' 'glitch' 'gospel' 'gothic' 'grime' 'grunge' 'gypsy'\n",
      " 'handsup' \"hard'n'heavy\" 'hardcore' 'hardstyle' 'hardtechno' 'hip'\n",
      " 'hip-hop' 'hiphop' 'historisch' 'holiday' 'hop' 'horror' 'house' 'idm'\n",
      " 'independent' 'indian' 'indie' 'indipop' 'industrial' 'inspirational'\n",
      " 'instrumental' 'international' 'irish' 'jam' 'japanese' 'jazz' 'jewish'\n",
      " 'jpop' 'jungle' 'k-pop' 'karadeniz' 'karaoke' 'kayokyoku' 'korean'\n",
      " 'laiko' 'latin' 'latino' 'leftfield' 'local' 'lounge' 'loungeelectronic'\n",
      " 'lovers' 'malaysian' 'mandopop' 'marschmusik' 'meditative'\n",
      " 'mediterranean' 'melodic' 'metal' 'metalcore' 'mexican' 'middle'\n",
      " 'minimal' 'miscellaneous' 'modern' 'mood' 'mpb' 'muslim' 'native'\n",
      " 'neoklassik' 'neue' 'new' 'newage' 'newwave' 'nu' 'nujazz' 'numetal'\n",
      " 'oceania' 'old' 'opera' 'orchestral' 'other' 'piano' 'pop'\n",
      " 'popelectronic' 'popeurodance' 'post' 'posthardcore' 'postrock' 'power'\n",
      " 'progmetal' 'progressive' 'psychedelic' 'punjabi' 'punk' 'quebecois'\n",
      " 'ragga' 'ram' 'rancheras' 'rap' 'rave' 'reggae' 'reggaeton' 'regional'\n",
      " 'relax' 'religious' 'retro' 'rhythm' 'rnb' 'rnr' 'rock' 'rockabilly'\n",
      " 'romance' 'roots' 'ruspop' 'rusrap' 'rusrock' 'salsa' 'samba' 'schlager'\n",
      " 'self' 'sertanejo' 'shoegazing' 'showtunes' 'singer' 'ska' 'slow'\n",
      " 'smooth' 'soul' 'soulful' 'sound' 'soundtrack' 'southern' 'specialty'\n",
      " 'speech' 'spiritual' 'sport' 'stonerrock' 'surf' 'swing' 'synthpop'\n",
      " 'sängerportrait' 'tango' 'tanzorchester' 'taraftar' 'tech' 'techno'\n",
      " 'thrash' 'top' 'traditional' 'tradjazz' 'trance' 'tribal' 'trip'\n",
      " 'triphop' 'tropical' 'türk' 'türkçe' 'unknown' 'urban' 'uzbek' 'variété'\n",
      " 'vi' 'videogame' 'vocal' 'western' 'world' 'worldbeat' 'ïîï']\n"
     ]
    }
   ],
   "source": [
    "genre =(df['genre'].unique()) # Inspeccionar los nombres de géneros únicos\n",
    "genre.sort()\n",
    "print(genre)"
   ]
  },
  {
   "cell_type": "markdown",
   "metadata": {
    "id": "qej-Qmuo_Zct"
   },
   "source": [
    "Busca en la lista para encontrar duplicados implícitos del género `hiphop`. Estos pueden ser nombres escritos incorrectamente o nombres alternativos para el mismo género.\n",
    "\n",
    "Verás los siguientes duplicados implícitos:\n",
    "* `hip`\n",
    "* `hop`\n",
    "* `hip-hop`\n",
    "\n",
    "Para deshacerte de ellos, crea una función llamada `replace_wrong_genres()` con dos parámetros:\n",
    "* `wrong_genres=`: esta es una lista que contiene todos los valores que necesitas reemplazar.\n",
    "* `correct_genre=`: este es un string que vas a utilizar como reemplazo.\n",
    "\n",
    "Como resultado, la función debería corregir los nombres en la columna `'genre'` de la tabla `df`, es decir, remplazar cada valor de la lista `wrong_genres` por el valor en `correct_genre`.\n",
    "\n",
    "Dentro del cuerpo de la función, utiliza un bucle `'for'` para iterar sobre la lista de géneros incorrectos, extrae la columna `'genre'` y aplica el método `replace` para hacer correcciones."
   ]
  },
  {
   "cell_type": "code",
   "execution_count": 17,
   "metadata": {
    "id": "ErNDkmns_Zct"
   },
   "outputs": [],
   "source": [
    "def replace_wrong_genres(df, genre, wrong_genres, correct_genre):\n",
    "    for wrong_genre in wrong_genres:\n",
    "        df = df.replace(wrong_genre, correct_genre)\n",
    "    return df   \n",
    "\n",
    "# Función para reemplazar duplicados implícitos\n",
    "    "
   ]
  },
  {
   "cell_type": "markdown",
   "metadata": {
    "id": "aDoBJxbA_Zct"
   },
   "source": [
    "Ahora, llama a `replace_wrong_genres()` y pásale tales argumentos para que retire los duplicados implícitos (`hip`, `hop` y `hip-hop`) y los reemplace por `hiphop`:"
   ]
  },
  {
   "cell_type": "code",
   "execution_count": 18,
   "metadata": {
    "id": "YN5i2hpmSo09"
   },
   "outputs": [],
   "source": [
    "duplicates = ['hip', 'hop', 'hip-hop']\n",
    "name = 'hiphop'\n",
    "df = replace_wrong_genres(df, 'name', duplicates, name)\n",
    "\n"
   ]
  },
  {
   "cell_type": "markdown",
   "metadata": {
    "id": "zQKF16_RG15m"
   },
   "source": [
    "Asegúrate de que los nombres duplicados han sido eliminados. Muestra la lista de valores únicos de la columna `'genre'` una vez más:"
   ]
  },
  {
   "cell_type": "code",
   "execution_count": 19,
   "metadata": {
    "id": "wvixALnFG15m"
   },
   "outputs": [
    {
     "name": "stdout",
     "output_type": "stream",
     "text": [
      "['rock' 'pop' 'folk' 'dance' 'rusrap' 'ruspop' 'world' 'electronic'\n",
      " 'unknown' 'alternative' 'children' 'rnb' 'hiphop' 'jazz' 'postrock'\n",
      " 'latin' 'classical' 'metal' 'reggae' 'triphop' 'blues' 'instrumental'\n",
      " 'rusrock' 'dnb' 'türk' 'post' 'country' 'psychedelic' 'conjazz' 'indie'\n",
      " 'posthardcore' 'local' 'avantgarde' 'punk' 'videogame' 'techno' 'house'\n",
      " 'christmas' 'melodic' 'caucasian' 'reggaeton' 'soundtrack' 'singer' 'ska'\n",
      " 'salsa' 'ambient' 'film' 'western' 'rap' 'beats' \"hard'n'heavy\"\n",
      " 'progmetal' 'minimal' 'tropical' 'contemporary' 'new' 'soul' 'holiday'\n",
      " 'german' 'jpop' 'spiritual' 'urban' 'gospel' 'nujazz' 'folkmetal'\n",
      " 'trance' 'miscellaneous' 'anime' 'hardcore' 'progressive' 'korean'\n",
      " 'numetal' 'vocal' 'estrada' 'tango' 'loungeelectronic' 'classicmetal'\n",
      " 'dubstep' 'club' 'deep' 'southern' 'black' 'folkrock' 'fitness' 'french'\n",
      " 'disco' 'religious' 'drum' 'extrememetal' 'türkçe' 'experimental' 'easy'\n",
      " 'metalcore' 'modern' 'argentinetango' 'old' 'swing' 'breaks' 'eurofolk'\n",
      " 'stonerrock' 'industrial' 'funk' 'middle' 'variété' 'other' 'adult'\n",
      " 'christian' 'thrash' 'gothic' 'international' 'muslim' 'relax' 'schlager'\n",
      " 'caribbean' 'nu' 'breakbeat' 'comedy' 'chill' 'newage' 'specialty'\n",
      " 'uzbek' 'k-pop' 'balkan' 'chinese' 'meditative' 'dub' 'power' 'death'\n",
      " 'grime' 'arabesk' 'romance' 'flamenco' 'leftfield' 'european' 'tech'\n",
      " 'newwave' 'dancehall' 'mpb' 'piano' 'top' 'bigroom' 'opera' 'celtic'\n",
      " 'tradjazz' 'acoustic' 'epicmetal' 'historisch' 'downbeat' 'downtempo'\n",
      " 'africa' 'audiobook' 'jewish' 'sängerportrait' 'deutschrock' 'eastern'\n",
      " 'action' 'future' 'electropop' 'folklore' 'bollywood' 'marschmusik' 'rnr'\n",
      " 'karaoke' 'indian' 'rancheras' 'afrikaans' 'rhythm' 'sound' 'deutschspr'\n",
      " 'trip' 'lovers' 'choral' 'dancepop' 'retro' 'smooth' 'mexican'\n",
      " 'brazilian' 'ïîï' 'mood' 'surf' 'gangsta' 'inspirational' 'idm' 'ethnic'\n",
      " 'bluegrass' 'broadway' 'animated' 'americana' 'karadeniz' 'rockabilly'\n",
      " 'colombian' 'self' 'sertanejo' 'japanese' 'canzone' 'lounge' 'sport'\n",
      " 'ragga' 'traditional' 'gitarre' 'frankreich' 'emo' 'laiko' 'cantopop'\n",
      " 'glitch' 'documentary' 'oceania' 'popeurodance' 'dark' 'vi' 'grunge'\n",
      " 'hardstyle' 'samba' 'garage' 'art' 'folktronica' 'entehno'\n",
      " 'mediterranean' 'chamber' 'cuban' 'taraftar' 'gypsy' 'hardtechno'\n",
      " 'shoegazing' 'bossa' 'latino' 'worldbeat' 'malaysian' 'baile' 'ghazal'\n",
      " 'arabic' 'popelectronic' 'acid' 'kayokyoku' 'neoklassik' 'tribal'\n",
      " 'tanzorchester' 'native' 'independent' 'cantautori' 'handsup' 'punjabi'\n",
      " 'synthpop' 'rave' 'französisch' 'quebecois' 'speech' 'soulful' 'jam'\n",
      " 'ram' 'horror' 'orchestral' 'neue' 'roots' 'slow' 'jungle' 'indipop'\n",
      " 'axé' 'fado' 'showtunes' 'arena' 'irish' 'mandopop' 'forró' 'dirty'\n",
      " 'regional']\n"
     ]
    }
   ],
   "source": [
    "print(df['genre'].unique()) # Comprobación de duplicados implícitos\n"
   ]
  },
  {
   "cell_type": "markdown",
   "metadata": {
    "id": "ALgNbvF3VtPA"
   },
   "source": [
    "[Volver a Contenidos](#back)"
   ]
  },
  {
   "cell_type": "markdown",
   "metadata": {
    "id": "jz6a9-7HQUDd"
   },
   "source": [
    "### Tus observaciones <a id='data_preprocessing_conclusions'></a>\n",
    "\n",
    "`Describe brevemente lo que has notado al analizar duplicados, cómo abordaste sus eliminaciones y qué resultados obtuviste.`\n",
    "\n",
    "###### Note que al imprimir toda la lista nuevamente se eliminaron por completo los demas nombres solo quedo el primero, ya corregido a la asignación realizada.\n"
   ]
  },
  {
   "cell_type": "markdown",
   "metadata": {
    "id": "eK1es74rVujj"
   },
   "source": [
    "[Volver a Contenidos](#back)"
   ]
  },
  {
   "cell_type": "markdown",
   "metadata": {
    "id": "WttZHXH0SqKk"
   },
   "source": [
    "## Etapa 3. Prueba de hipótesis <a id='hypothesis'></a>"
   ]
  },
  {
   "cell_type": "markdown",
   "metadata": {
    "id": "Im936VVi_Zcu"
   },
   "source": [
    "### Hipótesis: comparar el comportamiento del usuario o la usuaria en las dos ciudades <a id='activity'></a>"
   ]
  },
  {
   "cell_type": "markdown",
   "metadata": {
    "id": "nwt_MuaL_Zcu"
   },
   "source": [
    "La hipótesis afirma que existen diferencias en la forma en que los usuarios y las usuarias de Springfield y Shelbyville consumen música. Para comprobar esto, usa los datos de tres días de la semana: lunes, miércoles y viernes.\n",
    "\n",
    "* Agrupa a los usuarios y las usuarias por ciudad.\n",
    "* Compara el número de canciones que cada grupo reprodujo el lunes, el miércoles y el viernes.\n"
   ]
  },
  {
   "cell_type": "markdown",
   "metadata": {
    "id": "8Dw_YMmT_Zcu"
   },
   "source": [
    "Realiza cada cálculo por separado.\n",
    "\n",
    "El primer paso es evaluar la actividad del usuario en cada ciudad. Recuerda las etapas dividir-aplicar-combinar de las que hablamos anteriormente en la lección. Tu objetivo ahora es agrupar los datos por ciudad, aplicar el método apropiado para contar durante la etapa de aplicación y luego encontrar la cantidad de canciones reproducidas en cada grupo especificando la columna para obtener el recuento.\n",
    "\n",
    "A continuación se muestra un ejemplo de cómo debería verse el resultado final:\n",
    "`df.groupby(by='....')['column'].method()`Realiza cada cálculo por separado.\n",
    "\n",
    "Para evaluar la actividad de los usuarios y las usuarias en cada ciudad, agrupa los datos por ciudad y encuentra la cantidad de canciones reproducidas en cada grupo.\n",
    "\n"
   ]
  },
  {
   "cell_type": "code",
   "execution_count": 20,
   "metadata": {
    "id": "0_Qs96oh_Zcu"
   },
   "outputs": [
    {
     "name": "stdout",
     "output_type": "stream",
     "text": [
      "city\n",
      "Shelbyville    Kamigata To BootsFuniculì funiculàDragons in t...\n",
      "Springfield    Delayed Because of AccidentSoul PeopleTrueFeel...\n",
      "Name: track, dtype: object\n"
     ]
    }
   ],
   "source": [
    "replay_city = df.groupby(by='city')['track'].sum() # Contar las canciones reproducidas en cada ciudad\n",
    "\n",
    "print(replay_city)\n"
   ]
  },
  {
   "cell_type": "markdown",
   "metadata": {
    "id": "t_Qx-3NewAnK"
   },
   "source": [
    "`Comenta tus observaciones aquí`\n",
    "###### no estoy segura de haberlo realizado correctamente. ya que las canciones me aparecen amontonadas y no distingo el recuento como tal.  "
   ]
  },
  {
   "cell_type": "markdown",
   "metadata": {
    "id": "dzli3w8o_Zcu"
   },
   "source": [
    "Ahora agrupemos los datos por día de la semana y encontremos el número de canciones reproducidas el lunes, miércoles y viernes. Utiliza el mismo método que antes, pero ahora necesitamos una agrupación diferente.\n"
   ]
  },
  {
   "cell_type": "code",
   "execution_count": 21,
   "metadata": {
    "id": "uZMKjiJz_Zcu"
   },
   "outputs": [
    {
     "name": "stdout",
     "output_type": "stream",
     "text": [
      "day\n",
      "Friday       Delayed Because of AccidentChainsL’estateAfter...\n",
      "Monday       Dragons in the SunsetSoul PeopleGool la MitaIs...\n",
      "Wednesday    Kamigata To BootsFuniculì funiculàTrueFeeling ...\n",
      "Name: track, dtype: object\n"
     ]
    }
   ],
   "source": [
    "replay_day = df.groupby(by='day')['track'].sum()# Calcular las canciones reproducidas en cada uno de los tres días\n",
    "print(replay_day)"
   ]
  },
  {
   "cell_type": "markdown",
   "metadata": {
    "id": "cC2tNrlL_Zcu"
   },
   "source": [
    "`Comenta tus observaciones aquí`"
   ]
  },
  {
   "cell_type": "markdown",
   "metadata": {
    "id": "POzs8bGa_Zcu"
   },
   "source": [
    "Ya sabes cómo contar entradas agrupándolas por ciudad o día. Ahora necesitas escribir una función que pueda contar entradas según ambos criterios simultáneamente.\n",
    "\n",
    "Crea la función `number_tracks()` para calcular el número de canciones reproducidas en un determinado día **y** ciudad. La función debe aceptar dos parámetros:\n",
    "\n",
    "- `day`: un día de la semana para filtrar. Por ejemplo, `'Monday'` (lunes).\n",
    "- `city`: una ciudad para filtrar. Por ejemplo, `'Springfield'`.\n",
    "\n",
    "Dentro de la función, aplicarás un filtrado consecutivo con indexación lógica.\n",
    "\n",
    "Primero filtra los datos por día y luego filtra la tabla resultante por ciudad.\n",
    "\n",
    "Después de filtrar los datos por dos criterios, cuenta el número de valores de la columna 'user_id' en la tabla resultante. Este recuento representa el número de entradas que estás buscando. Guarda el resultado en una nueva variable y devuélvelo desde la función."
   ]
  },
  {
   "cell_type": "code",
   "execution_count": 22,
   "metadata": {
    "id": "Nz3GdQB1_Zcu"
   },
   "outputs": [],
   "source": [
    "def number_tracks(day, city):\n",
    "  # Declara la función number_tracks() con dos parámetros: day= y city=.\n",
    "    filtred_day  = df[df['day'] == day]  # Almacena las filas del DataFrame donde el valor en la columna 'day' es igual al parámetro day=\n",
    "    filtred_city = filtred_day[filtred_day['city'] == city]   # Filtra las filas donde el valor en la columna 'city' es igual al parámetro city=\n",
    "    user_ids = len(filtred_city['user_id'])  # Extrae la columna 'user_id' de la tabla filtrada y aplica el método count()\n",
    "    return(user_ids)   # Devolve el número de valores de la columna 'user_id'"
   ]
  },
  {
   "cell_type": "markdown",
   "metadata": {
    "id": "ytf7xFrFJQ2r"
   },
   "source": [
    "Llama a `number_tracks()` seis veces, cambiando los valores de los parámetros para que recuperes los datos de ambas ciudades para cada uno de los tres días."
   ]
  },
  {
   "cell_type": "code",
   "execution_count": 23,
   "metadata": {
    "id": "rJcRATNQ_Zcu"
   },
   "outputs": [
    {
     "name": "stdout",
     "output_type": "stream",
     "text": [
      "15740\n"
     ]
    }
   ],
   "source": [
    "number_tracks_1 = number_tracks('Monday','Springfield')\n",
    "                 # El número de canciones reproducidas en Springfield el lunes\n",
    "print(number_tracks_1)"
   ]
  },
  {
   "cell_type": "code",
   "execution_count": 24,
   "metadata": {
    "id": "hq_ncZ5T_Zcu"
   },
   "outputs": [
    {
     "name": "stdout",
     "output_type": "stream",
     "text": [
      "5614\n"
     ]
    }
   ],
   "source": [
    "number_tracks_2 = number_tracks('Monday','Shelbyville')\n",
    "                        \n",
    "print(number_tracks_2)\n",
    "# Elnumero de canciones reproducidas en Shelbyville el lunes\n"
   ]
  },
  {
   "cell_type": "code",
   "execution_count": 25,
   "metadata": {
    "id": "_NTy2VPU_Zcu"
   },
   "outputs": [
    {
     "name": "stdout",
     "output_type": "stream",
     "text": [
      "11056\n"
     ]
    }
   ],
   "source": [
    "number_tracks_3 = number_tracks('Wednesday','Springfield')\n",
    "print(number_tracks_3)\n",
    "# El número de canciones reproducidas en Springfield el miércoles\n"
   ]
  },
  {
   "cell_type": "code",
   "execution_count": 26,
   "metadata": {
    "id": "j2y3TAwo_Zcu"
   },
   "outputs": [
    {
     "name": "stdout",
     "output_type": "stream",
     "text": [
      "7003\n"
     ]
    }
   ],
   "source": [
    "number_tracks_4 =number_tracks('Wednesday','Shelbyville')\n",
    "# El número de canciones reproducidas en Shelbyville el miércoles\n",
    "print(number_tracks_4)"
   ]
  },
  {
   "cell_type": "code",
   "execution_count": 27,
   "metadata": {
    "id": "vYDw5u_K_Zcu"
   },
   "outputs": [
    {
     "name": "stdout",
     "output_type": "stream",
     "text": [
      "15945\n"
     ]
    }
   ],
   "source": [
    "number_tracks_5 = number_tracks('Friday','Springfield' )\n",
    "# El número de canciones reproducidas en Springfield el viernes\n",
    "print(number_tracks_5)"
   ]
  },
  {
   "cell_type": "code",
   "execution_count": 28,
   "metadata": {
    "id": "8_yzFtW3_Zcu"
   },
   "outputs": [
    {
     "name": "stdout",
     "output_type": "stream",
     "text": [
      "5895\n"
     ]
    }
   ],
   "source": [
    "number_tracks_6 = number_tracks('Friday','Shelbyville' )  # El número de canciones reproducidas en Shelbyville el viernes\n",
    "print(number_tracks_6)"
   ]
  },
  {
   "cell_type": "markdown",
   "metadata": {
    "id": "-EgPIHYu_Zcu"
   },
   "source": [
    "**Conclusiones**\n",
    "\n",
    "`Comenta si la hipótesis es correcta o se debe rechazar. Explica tu razonamiento.`\n",
    "`La hipotesis es correcta`"
   ]
  },
  {
   "cell_type": "markdown",
   "metadata": {
    "id": "p7nFQajCVw5B"
   },
   "source": [
    "[Volver a Contenidos](#back)"
   ]
  },
  {
   "cell_type": "markdown",
   "metadata": {
    "id": "ykKQ0N65_Zcv"
   },
   "source": [
    "# Conclusiones <a id='end'></a>"
   ]
  },
  {
   "cell_type": "markdown",
   "metadata": {
    "id": "tjUwbHb3_Zcv"
   },
   "source": [
    "`Resume aquí tus conclusiones sobre la hipótesis.`\n",
    "\n",
    "*Deacuerdo con mis resultados no existe variacion alguna entre las reproduciones en los dias con las ciudades, solo existe entre un dia y otro. en cada ciudad es el mismo resultado los lunes. \n",
    "\n",
    "\n",
    "* Deacuerdo con el nuevo codigo la hipotesis es correcta existe variacion en la reproducciòn de un dia y la cidudad, la ciudad de 'Springfield'cuenta con un nivel mas alto en las reproducciones en comparaciòn con 'Shelbyville'."
   ]
  },
  {
   "cell_type": "markdown",
   "metadata": {
    "id": "azLHu64yOIp7"
   },
   "source": [
    "### Nota\n",
    "En proyectos de investigación reales, la prueba de hipótesis estadística es más precisa y cuantitativa. También ten en cuenta que no siempre se pueden sacar conclusiones sobre una ciudad entera a partir de datos de una sola fuente.\n",
    "\n",
    "Aprenderás más sobre la prueba de hipótesis en el sprint de análisis estadístico de datos."
   ]
  },
  {
   "cell_type": "markdown",
   "metadata": {
    "id": "Ju4AHDSgV1FE"
   },
   "source": [
    "[Volver a Contenidos](#back)"
   ]
  }
 ],
 "metadata": {
  "ExecuteTimeLog": [
   {
    "duration": 418,
    "start_time": "2024-06-12T01:35:49.786Z"
   },
   {
    "duration": 4,
    "start_time": "2024-06-12T01:38:15.587Z"
   },
   {
    "duration": 1080,
    "start_time": "2024-06-12T01:40:06.357Z"
   },
   {
    "duration": 4,
    "start_time": "2024-06-12T01:40:47.422Z"
   },
   {
    "duration": 115,
    "start_time": "2024-06-12T01:42:53.642Z"
   },
   {
    "duration": 128,
    "start_time": "2024-06-12T01:46:31.207Z"
   },
   {
    "duration": 119,
    "start_time": "2024-06-12T01:47:07.210Z"
   },
   {
    "duration": 121,
    "start_time": "2024-06-12T01:49:01.928Z"
   },
   {
    "duration": 180,
    "start_time": "2024-06-12T01:49:29.972Z"
   },
   {
    "duration": 187,
    "start_time": "2024-06-12T01:49:57.193Z"
   },
   {
    "duration": 122,
    "start_time": "2024-06-12T01:50:22.495Z"
   },
   {
    "duration": 154,
    "start_time": "2024-06-12T01:50:29.242Z"
   },
   {
    "duration": 11,
    "start_time": "2024-06-12T01:52:37.601Z"
   },
   {
    "duration": 32,
    "start_time": "2024-06-12T02:02:24.954Z"
   },
   {
    "duration": 5,
    "start_time": "2024-06-12T02:22:00.150Z"
   },
   {
    "duration": 5,
    "start_time": "2024-06-12T02:28:58.841Z"
   },
   {
    "duration": 3,
    "start_time": "2024-06-12T02:31:51.953Z"
   },
   {
    "duration": 5,
    "start_time": "2024-06-12T02:32:27.426Z"
   },
   {
    "duration": 4,
    "start_time": "2024-06-12T02:33:44.181Z"
   },
   {
    "duration": 7,
    "start_time": "2024-06-12T02:33:56.825Z"
   },
   {
    "duration": 12,
    "start_time": "2024-06-12T02:34:08.993Z"
   },
   {
    "duration": 5,
    "start_time": "2024-06-12T02:35:21.570Z"
   },
   {
    "duration": 24,
    "start_time": "2024-06-12T02:35:42.419Z"
   },
   {
    "duration": 5,
    "start_time": "2024-06-12T02:36:00.308Z"
   },
   {
    "duration": 4,
    "start_time": "2024-06-12T02:36:06.800Z"
   },
   {
    "duration": 4,
    "start_time": "2024-06-12T02:36:42.427Z"
   },
   {
    "duration": 5,
    "start_time": "2024-06-12T02:37:43.212Z"
   },
   {
    "duration": 5,
    "start_time": "2024-06-12T02:37:53.018Z"
   },
   {
    "duration": 11,
    "start_time": "2024-06-12T02:38:24.701Z"
   },
   {
    "duration": 303,
    "start_time": "2024-06-12T02:38:34.302Z"
   },
   {
    "duration": 24,
    "start_time": "2024-06-12T02:40:52.084Z"
   },
   {
    "duration": 23,
    "start_time": "2024-06-12T02:41:29.247Z"
   },
   {
    "duration": 22,
    "start_time": "2024-06-12T02:42:12.784Z"
   },
   {
    "duration": 678,
    "start_time": "2024-06-12T02:43:49.632Z"
   },
   {
    "duration": 949,
    "start_time": "2024-06-12T02:45:18.530Z"
   },
   {
    "duration": 5,
    "start_time": "2024-06-12T02:47:19.464Z"
   },
   {
    "duration": 4,
    "start_time": "2024-06-12T02:48:19.294Z"
   },
   {
    "duration": 6,
    "start_time": "2024-06-12T02:48:27.122Z"
   },
   {
    "duration": 7,
    "start_time": "2024-06-12T02:48:37.277Z"
   },
   {
    "duration": 4,
    "start_time": "2024-06-12T02:48:56.018Z"
   },
   {
    "duration": 4,
    "start_time": "2024-06-12T02:51:52.580Z"
   },
   {
    "duration": 5,
    "start_time": "2024-06-12T02:52:23.370Z"
   },
   {
    "duration": 4,
    "start_time": "2024-06-12T02:53:19.529Z"
   },
   {
    "duration": 7,
    "start_time": "2024-06-12T02:56:13.456Z"
   },
   {
    "duration": 6,
    "start_time": "2024-06-12T02:56:45.495Z"
   },
   {
    "duration": 6,
    "start_time": "2024-06-12T02:57:20.739Z"
   },
   {
    "duration": 9,
    "start_time": "2024-06-12T02:58:03.506Z"
   },
   {
    "duration": 6,
    "start_time": "2024-06-12T02:58:10.354Z"
   },
   {
    "duration": 8,
    "start_time": "2024-06-12T02:58:41.832Z"
   },
   {
    "duration": 5,
    "start_time": "2024-06-12T03:01:54.888Z"
   },
   {
    "duration": 5,
    "start_time": "2024-06-12T03:05:56.966Z"
   },
   {
    "duration": 7,
    "start_time": "2024-06-12T03:06:16.424Z"
   },
   {
    "duration": 4,
    "start_time": "2024-06-12T03:06:53.263Z"
   },
   {
    "duration": 24,
    "start_time": "2024-06-12T03:16:04.339Z"
   },
   {
    "duration": 366,
    "start_time": "2024-06-12T03:16:27.869Z"
   },
   {
    "duration": 21,
    "start_time": "2024-06-12T03:17:25.410Z"
   },
   {
    "duration": 22,
    "start_time": "2024-06-12T03:17:38.416Z"
   },
   {
    "duration": 5,
    "start_time": "2024-06-12T03:17:47.905Z"
   },
   {
    "duration": 7,
    "start_time": "2024-06-12T03:18:01.683Z"
   },
   {
    "duration": 5,
    "start_time": "2024-06-12T03:18:18.312Z"
   },
   {
    "duration": 20,
    "start_time": "2024-06-12T03:19:15.758Z"
   },
   {
    "duration": 21,
    "start_time": "2024-06-12T03:19:52.447Z"
   },
   {
    "duration": 22,
    "start_time": "2024-06-12T03:20:11.602Z"
   },
   {
    "duration": 22,
    "start_time": "2024-06-12T03:22:16.498Z"
   },
   {
    "duration": 55,
    "start_time": "2024-06-12T03:22:50.061Z"
   },
   {
    "duration": 21,
    "start_time": "2024-06-12T03:23:50.108Z"
   },
   {
    "duration": 20,
    "start_time": "2024-06-12T03:24:14.539Z"
   },
   {
    "duration": 22,
    "start_time": "2024-06-12T04:07:27.743Z"
   },
   {
    "duration": 21,
    "start_time": "2024-06-12T04:07:52.319Z"
   },
   {
    "duration": 22,
    "start_time": "2024-06-12T04:09:35.020Z"
   },
   {
    "duration": 22,
    "start_time": "2024-06-12T04:09:45.079Z"
   },
   {
    "duration": 6,
    "start_time": "2024-06-12T04:13:53.279Z"
   },
   {
    "duration": 26,
    "start_time": "2024-06-12T04:14:02.375Z"
   },
   {
    "duration": 22,
    "start_time": "2024-06-12T04:20:22.737Z"
   },
   {
    "duration": 20,
    "start_time": "2024-06-12T04:21:04.177Z"
   },
   {
    "duration": 22,
    "start_time": "2024-06-12T04:21:27.061Z"
   },
   {
    "duration": 24,
    "start_time": "2024-06-12T04:23:55.997Z"
   },
   {
    "duration": 5,
    "start_time": "2024-06-12T04:24:26.459Z"
   },
   {
    "duration": 20,
    "start_time": "2024-06-12T04:24:49.282Z"
   },
   {
    "duration": 21,
    "start_time": "2024-06-12T04:24:59.323Z"
   },
   {
    "duration": 21,
    "start_time": "2024-06-12T04:25:27.142Z"
   },
   {
    "duration": 21,
    "start_time": "2024-06-12T04:26:07.889Z"
   },
   {
    "duration": 24,
    "start_time": "2024-06-12T04:26:16.833Z"
   },
   {
    "duration": 21,
    "start_time": "2024-06-12T04:26:34.861Z"
   },
   {
    "duration": 21,
    "start_time": "2024-06-12T04:26:51.147Z"
   },
   {
    "duration": 20,
    "start_time": "2024-06-12T04:27:04.315Z"
   },
   {
    "duration": 324,
    "start_time": "2024-06-12T04:27:17.529Z"
   },
   {
    "duration": 662,
    "start_time": "2024-06-12T04:30:35.313Z"
   },
   {
    "duration": 1021,
    "start_time": "2024-06-12T04:31:20.317Z"
   },
   {
    "duration": 243,
    "start_time": "2024-06-12T04:32:48.325Z"
   },
   {
    "duration": 79,
    "start_time": "2024-06-12T04:34:10.412Z"
   },
   {
    "duration": 75,
    "start_time": "2024-06-12T04:35:14.816Z"
   },
   {
    "duration": 8,
    "start_time": "2024-06-12T04:37:24.340Z"
   },
   {
    "duration": 222,
    "start_time": "2024-06-12T04:37:33.411Z"
   },
   {
    "duration": 220,
    "start_time": "2024-06-12T04:38:17.391Z"
   },
   {
    "duration": 402,
    "start_time": "2024-06-12T04:39:09.100Z"
   },
   {
    "duration": 219,
    "start_time": "2024-06-12T04:39:33.251Z"
   },
   {
    "duration": 312,
    "start_time": "2024-06-12T04:41:21.032Z"
   },
   {
    "duration": 79,
    "start_time": "2024-06-12T04:42:16.013Z"
   },
   {
    "duration": 29,
    "start_time": "2024-06-12T04:42:32.099Z"
   },
   {
    "duration": 76,
    "start_time": "2024-06-12T04:42:47.104Z"
   },
   {
    "duration": 76,
    "start_time": "2024-06-12T04:44:33.202Z"
   },
   {
    "duration": 175,
    "start_time": "2024-06-12T04:44:59.690Z"
   },
   {
    "duration": 222,
    "start_time": "2024-06-12T04:45:34.847Z"
   },
   {
    "duration": 26,
    "start_time": "2024-06-12T04:46:20.751Z"
   },
   {
    "duration": 220,
    "start_time": "2024-06-12T04:46:31.389Z"
   },
   {
    "duration": 88,
    "start_time": "2024-06-12T04:46:42.983Z"
   },
   {
    "duration": 75,
    "start_time": "2024-06-12T04:50:36.358Z"
   },
   {
    "duration": 72,
    "start_time": "2024-06-12T04:50:45.714Z"
   },
   {
    "duration": 75,
    "start_time": "2024-06-12T04:51:22.503Z"
   },
   {
    "duration": 26,
    "start_time": "2024-06-12T04:52:26.077Z"
   },
   {
    "duration": 167,
    "start_time": "2024-06-12T04:53:17.798Z"
   },
   {
    "duration": 164,
    "start_time": "2024-06-12T04:53:39.267Z"
   },
   {
    "duration": 16,
    "start_time": "2024-06-12T04:53:58.813Z"
   },
   {
    "duration": 15,
    "start_time": "2024-06-12T04:54:02.764Z"
   },
   {
    "duration": 75,
    "start_time": "2024-06-12T04:54:10.884Z"
   },
   {
    "duration": 29,
    "start_time": "2024-06-12T04:54:25.822Z"
   },
   {
    "duration": 35,
    "start_time": "2024-06-12T04:54:36.092Z"
   },
   {
    "duration": 337,
    "start_time": "2024-06-13T01:39:41.139Z"
   },
   {
    "duration": 731,
    "start_time": "2024-06-13T01:39:59.757Z"
   },
   {
    "duration": 107,
    "start_time": "2024-06-13T02:07:46.006Z"
   },
   {
    "duration": 9,
    "start_time": "2024-06-13T02:08:07.181Z"
   },
   {
    "duration": 7,
    "start_time": "2024-06-13T02:08:45.633Z"
   },
   {
    "duration": 268,
    "start_time": "2024-06-13T02:08:55.314Z"
   },
   {
    "duration": 75,
    "start_time": "2024-06-13T02:09:05.438Z"
   },
   {
    "duration": 90,
    "start_time": "2024-06-13T02:10:09.267Z"
   },
   {
    "duration": 79,
    "start_time": "2024-06-13T02:10:18.758Z"
   },
   {
    "duration": 9,
    "start_time": "2024-06-13T02:17:02.300Z"
   },
   {
    "duration": 7,
    "start_time": "2024-06-13T02:35:08.082Z"
   },
   {
    "duration": 58,
    "start_time": "2024-06-13T02:35:19.496Z"
   },
   {
    "duration": 25,
    "start_time": "2024-06-13T02:35:46.678Z"
   },
   {
    "duration": 6,
    "start_time": "2024-06-13T02:36:30.482Z"
   },
   {
    "duration": 4,
    "start_time": "2024-06-13T02:36:41.007Z"
   },
   {
    "duration": 837,
    "start_time": "2024-06-13T02:36:52.935Z"
   },
   {
    "duration": 86,
    "start_time": "2024-06-13T02:37:30.909Z"
   },
   {
    "duration": 5,
    "start_time": "2024-06-13T02:38:19.148Z"
   },
   {
    "duration": 7,
    "start_time": "2024-06-13T02:38:25.786Z"
   },
   {
    "duration": 4,
    "start_time": "2024-06-13T02:38:42.975Z"
   },
   {
    "duration": 5,
    "start_time": "2024-06-13T02:38:53.897Z"
   },
   {
    "duration": 13,
    "start_time": "2024-06-13T02:40:36.429Z"
   },
   {
    "duration": 7,
    "start_time": "2024-06-13T02:41:34.600Z"
   },
   {
    "duration": 71,
    "start_time": "2024-06-13T02:42:14.421Z"
   },
   {
    "duration": 7,
    "start_time": "2024-06-13T02:42:39.454Z"
   },
   {
    "duration": 22,
    "start_time": "2024-06-13T02:42:50.432Z"
   },
   {
    "duration": 7,
    "start_time": "2024-06-13T02:42:57.331Z"
   },
   {
    "duration": 30,
    "start_time": "2024-06-13T02:44:59.858Z"
   },
   {
    "duration": 8,
    "start_time": "2024-06-13T02:45:11.932Z"
   },
   {
    "duration": 8,
    "start_time": "2024-06-13T02:45:31.496Z"
   },
   {
    "duration": 4,
    "start_time": "2024-06-13T02:47:48.926Z"
   },
   {
    "duration": 41,
    "start_time": "2024-06-13T02:48:34.234Z"
   },
   {
    "duration": 6,
    "start_time": "2024-06-13T02:49:08.037Z"
   },
   {
    "duration": 34,
    "start_time": "2024-06-13T02:49:14.790Z"
   },
   {
    "duration": 6,
    "start_time": "2024-06-13T02:49:29.104Z"
   },
   {
    "duration": 88,
    "start_time": "2024-06-13T02:49:31.857Z"
   },
   {
    "duration": 5,
    "start_time": "2024-06-13T02:50:28.497Z"
   },
   {
    "duration": 37,
    "start_time": "2024-06-13T02:50:31.458Z"
   },
   {
    "duration": 5,
    "start_time": "2024-06-13T02:50:53.807Z"
   },
   {
    "duration": 85,
    "start_time": "2024-06-13T02:50:57.540Z"
   },
   {
    "duration": 10,
    "start_time": "2024-06-13T02:51:31.585Z"
   },
   {
    "duration": 94,
    "start_time": "2024-06-13T02:51:34.501Z"
   },
   {
    "duration": 4,
    "start_time": "2024-06-13T02:52:43.495Z"
   },
   {
    "duration": 86,
    "start_time": "2024-06-13T02:52:46.858Z"
   },
   {
    "duration": 85,
    "start_time": "2024-06-13T02:56:25.660Z"
   },
   {
    "duration": 169,
    "start_time": "2024-06-13T02:57:39.221Z"
   },
   {
    "duration": 98,
    "start_time": "2024-06-13T02:58:06.262Z"
   },
   {
    "duration": 25,
    "start_time": "2024-06-13T02:59:11.800Z"
   },
   {
    "duration": 92,
    "start_time": "2024-06-13T02:59:51.772Z"
   },
   {
    "duration": 23,
    "start_time": "2024-06-13T03:00:11.992Z"
   },
   {
    "duration": 25,
    "start_time": "2024-06-13T03:01:39.533Z"
   },
   {
    "duration": 96,
    "start_time": "2024-06-13T03:02:37.027Z"
   },
   {
    "duration": 4,
    "start_time": "2024-06-13T03:04:35.592Z"
   },
   {
    "duration": 1418,
    "start_time": "2024-06-13T03:04:39.877Z"
   },
   {
    "duration": 4,
    "start_time": "2024-06-13T03:05:00.310Z"
   },
   {
    "duration": 62,
    "start_time": "2024-06-13T03:05:04.702Z"
   },
   {
    "duration": 8,
    "start_time": "2024-06-13T03:05:16.799Z"
   },
   {
    "duration": 50,
    "start_time": "2024-06-13T03:09:35.803Z"
   },
   {
    "duration": 9,
    "start_time": "2024-06-13T03:09:40.714Z"
   },
   {
    "duration": 344,
    "start_time": "2024-06-13T03:26:53.063Z"
   },
   {
    "duration": 81,
    "start_time": "2024-06-13T03:27:12.733Z"
   },
   {
    "duration": 84,
    "start_time": "2024-06-13T03:27:24.203Z"
   },
   {
    "duration": 82,
    "start_time": "2024-06-13T03:28:58.732Z"
   },
   {
    "duration": 87,
    "start_time": "2024-06-13T03:29:09.777Z"
   },
   {
    "duration": 83,
    "start_time": "2024-06-13T03:29:26.259Z"
   },
   {
    "duration": 269,
    "start_time": "2024-06-13T03:29:41.527Z"
   },
   {
    "duration": 342,
    "start_time": "2024-06-13T03:31:05.984Z"
   },
   {
    "duration": 263,
    "start_time": "2024-06-13T03:36:04.952Z"
   },
   {
    "duration": 243,
    "start_time": "2024-06-13T03:36:25.244Z"
   },
   {
    "duration": 295,
    "start_time": "2024-06-13T03:38:17.926Z"
   },
   {
    "duration": 235,
    "start_time": "2024-06-13T03:39:01.838Z"
   },
   {
    "duration": 182,
    "start_time": "2024-06-13T03:39:31.913Z"
   },
   {
    "duration": 187,
    "start_time": "2024-06-13T03:40:03.121Z"
   },
   {
    "duration": 6,
    "start_time": "2024-06-13T03:40:43.822Z"
   },
   {
    "duration": 187,
    "start_time": "2024-06-13T03:40:50.838Z"
   },
   {
    "duration": 1692,
    "start_time": "2024-06-13T03:41:57.333Z"
   },
   {
    "duration": 250,
    "start_time": "2024-06-13T03:42:29.302Z"
   },
   {
    "duration": 261,
    "start_time": "2024-06-13T03:42:44.948Z"
   },
   {
    "duration": 237,
    "start_time": "2024-06-13T03:42:55.758Z"
   },
   {
    "duration": 248,
    "start_time": "2024-06-13T03:43:18.633Z"
   },
   {
    "duration": 241,
    "start_time": "2024-06-13T03:43:36.531Z"
   },
   {
    "duration": 259,
    "start_time": "2024-06-13T03:44:19.245Z"
   },
   {
    "duration": 439,
    "start_time": "2024-06-13T03:44:30.128Z"
   },
   {
    "duration": 205,
    "start_time": "2024-06-13T03:44:49.464Z"
   },
   {
    "duration": 229,
    "start_time": "2024-06-13T03:45:30.187Z"
   },
   {
    "duration": 45,
    "start_time": "2024-06-13T03:46:42.520Z"
   },
   {
    "duration": 43,
    "start_time": "2024-06-13T03:47:04.000Z"
   },
   {
    "duration": 308,
    "start_time": "2024-06-14T00:27:36.729Z"
   },
   {
    "duration": 939,
    "start_time": "2024-06-14T00:28:43.012Z"
   },
   {
    "duration": 211,
    "start_time": "2024-06-14T00:30:11.280Z"
   },
   {
    "duration": 200,
    "start_time": "2024-06-14T00:30:39.365Z"
   },
   {
    "duration": 200,
    "start_time": "2024-06-14T00:31:06.267Z"
   },
   {
    "duration": 196,
    "start_time": "2024-06-14T00:31:59.399Z"
   },
   {
    "duration": 258,
    "start_time": "2024-06-14T01:03:52.517Z"
   },
   {
    "duration": 830,
    "start_time": "2024-06-14T01:04:45.695Z"
   },
   {
    "duration": 237,
    "start_time": "2024-06-14T01:05:40.110Z"
   },
   {
    "duration": 234,
    "start_time": "2024-06-14T01:06:38.880Z"
   },
   {
    "duration": 235,
    "start_time": "2024-06-14T01:06:55.419Z"
   },
   {
    "duration": 228,
    "start_time": "2024-06-14T01:07:06.680Z"
   },
   {
    "duration": 326,
    "start_time": "2024-06-14T01:08:26.162Z"
   },
   {
    "duration": 222,
    "start_time": "2024-06-14T01:08:37.931Z"
   },
   {
    "duration": 230,
    "start_time": "2024-06-14T01:09:01.294Z"
   },
   {
    "duration": 221,
    "start_time": "2024-06-14T01:09:24.103Z"
   },
   {
    "duration": 234,
    "start_time": "2024-06-14T01:09:36.417Z"
   },
   {
    "duration": 224,
    "start_time": "2024-06-14T01:11:43.970Z"
   },
   {
    "duration": 225,
    "start_time": "2024-06-14T01:11:53.081Z"
   },
   {
    "duration": 1114,
    "start_time": "2024-06-14T01:12:00.111Z"
   },
   {
    "duration": 968,
    "start_time": "2024-06-14T01:12:36.731Z"
   },
   {
    "duration": 83,
    "start_time": "2024-06-14T01:12:48.307Z"
   },
   {
    "duration": 952,
    "start_time": "2024-06-14T01:12:54.864Z"
   },
   {
    "duration": 81,
    "start_time": "2024-06-14T01:13:48.445Z"
   },
   {
    "duration": 84,
    "start_time": "2024-06-14T01:13:57.597Z"
   },
   {
    "duration": 961,
    "start_time": "2024-06-14T01:15:36.975Z"
   },
   {
    "duration": 956,
    "start_time": "2024-06-14T01:16:16.660Z"
   },
   {
    "duration": 5,
    "start_time": "2024-06-14T01:19:48.845Z"
   },
   {
    "duration": 988,
    "start_time": "2024-06-14T01:20:03.767Z"
   },
   {
    "duration": 24,
    "start_time": "2024-06-14T01:22:40.333Z"
   },
   {
    "duration": 43,
    "start_time": "2024-06-14T01:22:57.769Z"
   },
   {
    "duration": 966,
    "start_time": "2024-06-14T01:23:43.884Z"
   },
   {
    "duration": 7,
    "start_time": "2024-06-14T01:24:25.315Z"
   },
   {
    "duration": 5,
    "start_time": "2024-06-14T01:24:41.387Z"
   },
   {
    "duration": 953,
    "start_time": "2024-06-14T01:24:53.260Z"
   },
   {
    "duration": 24,
    "start_time": "2024-06-14T01:25:22.478Z"
   },
   {
    "duration": 961,
    "start_time": "2024-06-14T01:25:43.528Z"
   },
   {
    "duration": 43,
    "start_time": "2024-06-14T01:26:35.867Z"
   },
   {
    "duration": 43,
    "start_time": "2024-06-14T01:26:42.262Z"
   },
   {
    "duration": 65,
    "start_time": "2024-06-14T01:26:56.089Z"
   },
   {
    "duration": 6,
    "start_time": "2024-06-14T01:27:27.330Z"
   },
   {
    "duration": 952,
    "start_time": "2024-06-14T01:27:37.842Z"
   },
   {
    "duration": 80,
    "start_time": "2024-06-14T01:28:08.213Z"
   },
   {
    "duration": 80,
    "start_time": "2024-06-14T01:28:22.018Z"
   },
   {
    "duration": 81,
    "start_time": "2024-06-14T01:28:26.422Z"
   },
   {
    "duration": 957,
    "start_time": "2024-06-14T01:28:45.400Z"
   },
   {
    "duration": 28,
    "start_time": "2024-06-14T01:30:17.739Z"
   },
   {
    "duration": 39,
    "start_time": "2024-06-14T01:30:27.455Z"
   },
   {
    "duration": 3,
    "start_time": "2024-06-14T01:37:22.013Z"
   },
   {
    "duration": 154,
    "start_time": "2024-06-14T01:37:25.238Z"
   },
   {
    "duration": 9,
    "start_time": "2024-06-14T01:37:28.685Z"
   },
   {
    "duration": 33,
    "start_time": "2024-06-14T01:37:33.277Z"
   },
   {
    "duration": 5,
    "start_time": "2024-06-14T01:37:41.863Z"
   },
   {
    "duration": 5,
    "start_time": "2024-06-14T01:37:46.378Z"
   },
   {
    "duration": 5,
    "start_time": "2024-06-14T01:37:49.305Z"
   },
   {
    "duration": 5,
    "start_time": "2024-06-14T01:37:52.711Z"
   },
   {
    "duration": 4,
    "start_time": "2024-06-14T01:37:57.900Z"
   },
   {
    "duration": 25,
    "start_time": "2024-06-14T01:38:01.571Z"
   },
   {
    "duration": 16,
    "start_time": "2024-06-14T01:38:19.759Z"
   },
   {
    "duration": 26,
    "start_time": "2024-06-14T01:38:24.716Z"
   },
   {
    "duration": 71,
    "start_time": "2024-06-14T01:38:29.468Z"
   },
   {
    "duration": 82,
    "start_time": "2024-06-14T01:38:34.171Z"
   },
   {
    "duration": 71,
    "start_time": "2024-06-14T01:38:38.585Z"
   },
   {
    "duration": 10,
    "start_time": "2024-06-14T01:38:42.305Z"
   },
   {
    "duration": 5,
    "start_time": "2024-06-14T01:38:52.880Z"
   },
   {
    "duration": 66,
    "start_time": "2024-06-14T01:38:57.537Z"
   },
   {
    "duration": 10,
    "start_time": "2024-06-14T01:39:07.464Z"
   },
   {
    "duration": 2570,
    "start_time": "2024-06-14T01:39:26.452Z"
   },
   {
    "duration": 334,
    "start_time": "2024-06-14T01:40:10.455Z"
   },
   {
    "duration": 32,
    "start_time": "2024-06-14T01:47:43.406Z"
   },
   {
    "duration": 344,
    "start_time": "2024-06-14T01:47:59.419Z"
   },
   {
    "duration": 398,
    "start_time": "2024-06-14T01:48:51.973Z"
   },
   {
    "duration": 1557,
    "start_time": "2024-06-14T01:50:03.569Z"
   },
   {
    "duration": 910,
    "start_time": "2024-06-14T01:51:54.062Z"
   },
   {
    "duration": 1573,
    "start_time": "2024-06-14T01:52:20.848Z"
   },
   {
    "duration": 13,
    "start_time": "2024-06-16T02:25:45.875Z"
   },
   {
    "duration": 6,
    "start_time": "2024-06-16T02:26:01.461Z"
   },
   {
    "duration": 5,
    "start_time": "2024-06-16T02:28:17.250Z"
   },
   {
    "duration": 4,
    "start_time": "2024-06-16T02:32:47.088Z"
   },
   {
    "duration": 5,
    "start_time": "2024-06-16T02:33:46.024Z"
   },
   {
    "duration": 306,
    "start_time": "2024-06-16T17:40:11.988Z"
   },
   {
    "duration": 4,
    "start_time": "2024-06-16T17:40:34.023Z"
   },
   {
    "duration": 22,
    "start_time": "2024-06-16T17:40:40.330Z"
   },
   {
    "duration": 22,
    "start_time": "2024-06-16T17:41:01.337Z"
   },
   {
    "duration": 25,
    "start_time": "2024-06-16T17:41:56.687Z"
   },
   {
    "duration": 4,
    "start_time": "2024-06-16T17:42:14.272Z"
   },
   {
    "duration": 28,
    "start_time": "2024-06-16T17:42:18.201Z"
   },
   {
    "duration": 22,
    "start_time": "2024-06-16T17:44:26.624Z"
   },
   {
    "duration": 28,
    "start_time": "2024-06-16T17:44:38.098Z"
   },
   {
    "duration": 422,
    "start_time": "2024-06-16T17:44:58.266Z"
   },
   {
    "duration": 211,
    "start_time": "2024-06-16T17:45:00.531Z"
   },
   {
    "duration": 11,
    "start_time": "2024-06-16T17:45:03.306Z"
   },
   {
    "duration": 38,
    "start_time": "2024-06-16T17:45:09.410Z"
   },
   {
    "duration": 4,
    "start_time": "2024-06-16T17:45:16.677Z"
   },
   {
    "duration": 6,
    "start_time": "2024-06-16T17:45:21.758Z"
   },
   {
    "duration": 6,
    "start_time": "2024-06-16T17:45:25.432Z"
   },
   {
    "duration": 6,
    "start_time": "2024-06-16T17:45:30.028Z"
   },
   {
    "duration": 4,
    "start_time": "2024-06-16T17:45:33.641Z"
   },
   {
    "duration": 26,
    "start_time": "2024-06-16T17:45:37.103Z"
   },
   {
    "duration": 18,
    "start_time": "2024-06-16T17:45:45.359Z"
   },
   {
    "duration": 26,
    "start_time": "2024-06-16T17:45:47.851Z"
   },
   {
    "duration": 75,
    "start_time": "2024-06-16T17:45:51.181Z"
   },
   {
    "duration": 90,
    "start_time": "2024-06-16T17:45:54.816Z"
   },
   {
    "duration": 69,
    "start_time": "2024-06-16T17:45:58.489Z"
   },
   {
    "duration": 11,
    "start_time": "2024-06-16T17:46:02.144Z"
   },
   {
    "duration": 4,
    "start_time": "2024-06-16T17:46:08.706Z"
   },
   {
    "duration": 72,
    "start_time": "2024-06-16T17:46:11.532Z"
   },
   {
    "duration": 11,
    "start_time": "2024-06-16T17:46:15.308Z"
   },
   {
    "duration": 1472,
    "start_time": "2024-06-16T17:46:20.680Z"
   },
   {
    "duration": 872,
    "start_time": "2024-06-16T17:46:23.819Z"
   },
   {
    "duration": 4,
    "start_time": "2024-06-16T17:46:30.368Z"
   },
   {
    "duration": 55,
    "start_time": "2024-06-16T17:46:33.402Z"
   },
   {
    "duration": 23,
    "start_time": "2024-06-16T17:50:53.993Z"
   },
   {
    "duration": 5,
    "start_time": "2024-06-16T17:52:08.564Z"
   },
   {
    "duration": 23,
    "start_time": "2024-06-16T17:52:11.415Z"
   },
   {
    "duration": 4,
    "start_time": "2024-06-16T17:54:36.560Z"
   },
   {
    "duration": 21,
    "start_time": "2024-06-16T17:54:39.776Z"
   },
   {
    "duration": 20,
    "start_time": "2024-06-16T17:55:00.114Z"
   },
   {
    "duration": 5,
    "start_time": "2024-06-16T17:55:19.689Z"
   },
   {
    "duration": 20,
    "start_time": "2024-06-16T17:55:24.130Z"
   },
   {
    "duration": 27,
    "start_time": "2024-06-16T17:55:40.941Z"
   },
   {
    "duration": 5,
    "start_time": "2024-06-16T17:56:16.037Z"
   },
   {
    "duration": 22,
    "start_time": "2024-06-16T17:56:18.998Z"
   },
   {
    "duration": 4,
    "start_time": "2024-06-16T17:57:00.467Z"
   },
   {
    "duration": 21,
    "start_time": "2024-06-16T17:57:03.250Z"
   },
   {
    "duration": 4,
    "start_time": "2024-06-16T17:57:48.164Z"
   },
   {
    "duration": 27,
    "start_time": "2024-06-16T17:57:51.418Z"
   },
   {
    "duration": 9,
    "start_time": "2024-06-16T18:00:55.239Z"
   },
   {
    "duration": 6,
    "start_time": "2024-06-16T18:01:29.784Z"
   },
   {
    "duration": 7,
    "start_time": "2024-06-16T18:01:53.888Z"
   },
   {
    "duration": 6,
    "start_time": "2024-06-16T18:03:02.854Z"
   },
   {
    "duration": 7,
    "start_time": "2024-06-16T18:03:20.769Z"
   },
   {
    "duration": 6,
    "start_time": "2024-06-16T18:03:35.678Z"
   },
   {
    "duration": 7,
    "start_time": "2024-06-16T18:03:45.830Z"
   },
   {
    "duration": 6,
    "start_time": "2024-06-16T18:04:13.033Z"
   },
   {
    "duration": 5,
    "start_time": "2024-06-16T18:04:50.982Z"
   },
   {
    "duration": 4,
    "start_time": "2024-06-16T18:26:09.622Z"
   },
   {
    "duration": 21,
    "start_time": "2024-06-16T18:26:13.130Z"
   },
   {
    "duration": 5,
    "start_time": "2024-06-16T18:27:24.745Z"
   },
   {
    "duration": 25,
    "start_time": "2024-06-16T18:27:27.872Z"
   },
   {
    "duration": 24,
    "start_time": "2024-06-16T18:27:46.846Z"
   },
   {
    "duration": 5,
    "start_time": "2024-06-16T18:28:16.934Z"
   },
   {
    "duration": 27,
    "start_time": "2024-06-16T18:29:27.216Z"
   },
   {
    "duration": 23,
    "start_time": "2024-06-16T18:29:40.172Z"
   },
   {
    "duration": 23,
    "start_time": "2024-06-16T18:30:34.513Z"
   },
   {
    "duration": 5,
    "start_time": "2024-06-16T18:30:48.452Z"
   },
   {
    "duration": 6,
    "start_time": "2024-06-16T18:31:12.330Z"
   },
   {
    "duration": 6,
    "start_time": "2024-06-16T18:31:23.635Z"
   },
   {
    "duration": 5,
    "start_time": "2024-06-16T18:31:43.400Z"
   },
   {
    "duration": 5,
    "start_time": "2024-06-16T18:33:01.054Z"
   },
   {
    "duration": 5,
    "start_time": "2024-06-16T18:33:05.345Z"
   },
   {
    "duration": 7,
    "start_time": "2024-06-16T18:33:33.933Z"
   },
   {
    "duration": 5,
    "start_time": "2024-06-16T18:35:02.646Z"
   },
   {
    "duration": 5,
    "start_time": "2024-06-16T18:35:23.939Z"
   },
   {
    "duration": 28,
    "start_time": "2024-06-16T18:36:10.460Z"
   },
   {
    "duration": 4,
    "start_time": "2024-06-16T18:38:24.647Z"
   },
   {
    "duration": 23,
    "start_time": "2024-06-16T18:38:29.680Z"
   },
   {
    "duration": 23,
    "start_time": "2024-06-16T18:39:12.245Z"
   },
   {
    "duration": 28,
    "start_time": "2024-06-16T18:40:40.274Z"
   },
   {
    "duration": 33,
    "start_time": "2024-06-16T18:40:47.664Z"
   },
   {
    "duration": 5,
    "start_time": "2024-06-16T18:41:36.666Z"
   },
   {
    "duration": 21,
    "start_time": "2024-06-16T18:41:40.631Z"
   },
   {
    "duration": 23,
    "start_time": "2024-06-16T18:41:49.896Z"
   },
   {
    "duration": 4,
    "start_time": "2024-06-16T18:42:12.474Z"
   },
   {
    "duration": 5,
    "start_time": "2024-06-16T18:44:46.809Z"
   },
   {
    "duration": 4,
    "start_time": "2024-06-16T18:44:50.044Z"
   },
   {
    "duration": 4,
    "start_time": "2024-06-16T18:45:17.522Z"
   },
   {
    "duration": 66,
    "start_time": "2024-06-16T18:45:31.371Z"
   },
   {
    "duration": 21,
    "start_time": "2024-06-16T18:46:24.616Z"
   },
   {
    "duration": 6,
    "start_time": "2024-06-16T18:47:58.294Z"
   },
   {
    "duration": 5,
    "start_time": "2024-06-16T18:48:24.362Z"
   },
   {
    "duration": 21,
    "start_time": "2024-06-16T18:48:32.943Z"
   },
   {
    "duration": 5,
    "start_time": "2024-06-16T18:48:40.477Z"
   },
   {
    "duration": 4,
    "start_time": "2024-06-16T18:49:25.419Z"
   },
   {
    "duration": 24,
    "start_time": "2024-06-16T18:49:33.355Z"
   },
   {
    "duration": 4,
    "start_time": "2024-06-16T18:49:47.330Z"
   },
   {
    "duration": 21,
    "start_time": "2024-06-16T18:50:16.446Z"
   },
   {
    "duration": 5,
    "start_time": "2024-06-16T18:50:35.901Z"
   },
   {
    "duration": 6,
    "start_time": "2024-06-16T18:50:50.330Z"
   },
   {
    "duration": 4,
    "start_time": "2024-06-16T18:51:00.466Z"
   },
   {
    "duration": 22,
    "start_time": "2024-06-16T19:22:56.843Z"
   },
   {
    "duration": 4,
    "start_time": "2024-06-16T19:25:59.772Z"
   },
   {
    "duration": 6,
    "start_time": "2024-06-16T19:26:24.949Z"
   },
   {
    "duration": 7,
    "start_time": "2024-06-16T19:28:02.611Z"
   },
   {
    "duration": 6,
    "start_time": "2024-06-16T19:28:11.816Z"
   },
   {
    "duration": 4,
    "start_time": "2024-06-16T19:28:19.808Z"
   },
   {
    "duration": 23,
    "start_time": "2024-06-16T19:30:01.220Z"
   },
   {
    "duration": 4,
    "start_time": "2024-06-16T19:30:30.143Z"
   },
   {
    "duration": 6,
    "start_time": "2024-06-16T19:30:51.036Z"
   },
   {
    "duration": 6,
    "start_time": "2024-06-16T19:30:58.257Z"
   },
   {
    "duration": 4,
    "start_time": "2024-06-16T19:31:11.889Z"
   },
   {
    "duration": 3,
    "start_time": "2024-06-16T19:31:15.266Z"
   },
   {
    "duration": 4,
    "start_time": "2024-06-16T19:34:05.310Z"
   },
   {
    "duration": 4,
    "start_time": "2024-06-16T19:34:10.507Z"
   },
   {
    "duration": 22,
    "start_time": "2024-06-16T19:35:04.582Z"
   },
   {
    "duration": 5,
    "start_time": "2024-06-16T19:42:10.379Z"
   },
   {
    "duration": 21,
    "start_time": "2024-06-16T19:42:13.276Z"
   },
   {
    "duration": 25,
    "start_time": "2024-06-16T19:42:55.944Z"
   },
   {
    "duration": 4,
    "start_time": "2024-06-16T19:43:05.719Z"
   },
   {
    "duration": 8,
    "start_time": "2024-06-16T19:45:46.440Z"
   },
   {
    "duration": 7,
    "start_time": "2024-06-16T19:45:59.125Z"
   },
   {
    "duration": 307,
    "start_time": "2024-06-16T19:46:29.911Z"
   },
   {
    "duration": 4,
    "start_time": "2024-06-16T19:47:35.396Z"
   },
   {
    "duration": 70,
    "start_time": "2024-06-16T19:47:39.804Z"
   },
   {
    "duration": 5,
    "start_time": "2024-06-16T19:47:59.883Z"
   },
   {
    "duration": 13,
    "start_time": "2024-06-16T19:48:02.920Z"
   },
   {
    "duration": 4,
    "start_time": "2024-06-16T19:48:22.295Z"
   },
   {
    "duration": 34,
    "start_time": "2024-06-16T19:48:24.863Z"
   },
   {
    "duration": 4,
    "start_time": "2024-06-16T19:48:55.619Z"
   },
   {
    "duration": 32,
    "start_time": "2024-06-16T19:48:58.425Z"
   },
   {
    "duration": 7,
    "start_time": "2024-06-16T19:51:16.605Z"
   },
   {
    "duration": 7,
    "start_time": "2024-06-16T19:51:32.371Z"
   },
   {
    "duration": 5,
    "start_time": "2024-06-16T19:52:00.423Z"
   },
   {
    "duration": 69,
    "start_time": "2024-06-16T19:52:03.806Z"
   },
   {
    "duration": 5,
    "start_time": "2024-06-16T19:52:40.886Z"
   },
   {
    "duration": 72,
    "start_time": "2024-06-16T19:52:44.258Z"
   },
   {
    "duration": 22,
    "start_time": "2024-06-16T19:53:10.877Z"
   },
   {
    "duration": 5,
    "start_time": "2024-06-16T19:53:59.711Z"
   },
   {
    "duration": 22,
    "start_time": "2024-06-16T19:54:01.983Z"
   },
   {
    "duration": 5,
    "start_time": "2024-06-16T19:54:51.345Z"
   },
   {
    "duration": 21,
    "start_time": "2024-06-16T19:54:54.532Z"
   },
   {
    "duration": 75,
    "start_time": "2024-06-16T19:55:15.746Z"
   },
   {
    "duration": 5,
    "start_time": "2024-06-16T19:56:09.381Z"
   },
   {
    "duration": 70,
    "start_time": "2024-06-16T19:56:12.813Z"
   },
   {
    "duration": 6,
    "start_time": "2024-06-16T19:57:04.182Z"
   },
   {
    "duration": 37850,
    "start_time": "2024-06-16T19:57:07.438Z"
   },
   {
    "duration": 7,
    "start_time": "2024-06-16T20:00:02.854Z"
   },
   {
    "duration": 4,
    "start_time": "2024-06-16T20:00:11.921Z"
   },
   {
    "duration": 7,
    "start_time": "2024-06-16T20:03:16.716Z"
   },
   {
    "duration": 5,
    "start_time": "2024-06-16T20:03:27.866Z"
   },
   {
    "duration": 855,
    "start_time": "2024-06-16T20:03:34.365Z"
   },
   {
    "duration": 6,
    "start_time": "2024-06-16T20:04:10.146Z"
   },
   {
    "duration": 81,
    "start_time": "2024-06-16T20:04:12.462Z"
   },
   {
    "duration": 83,
    "start_time": "2024-06-16T20:09:40.127Z"
   },
   {
    "duration": 7,
    "start_time": "2024-06-16T20:11:55.998Z"
   },
   {
    "duration": 4,
    "start_time": "2024-06-16T20:12:52.926Z"
   },
   {
    "duration": 86,
    "start_time": "2024-06-16T20:12:58.340Z"
   },
   {
    "duration": 4,
    "start_time": "2024-06-16T20:13:13.357Z"
   },
   {
    "duration": 33,
    "start_time": "2024-06-16T20:13:18.368Z"
   },
   {
    "duration": 5,
    "start_time": "2024-06-16T20:13:51.521Z"
   },
   {
    "duration": 33,
    "start_time": "2024-06-16T20:13:54.161Z"
   },
   {
    "duration": 6,
    "start_time": "2024-06-16T20:14:25.893Z"
   },
   {
    "duration": 204,
    "start_time": "2024-06-16T20:14:29.570Z"
   },
   {
    "duration": 5,
    "start_time": "2024-06-16T20:14:57.261Z"
   },
   {
    "duration": 40,
    "start_time": "2024-06-16T20:14:59.588Z"
   },
   {
    "duration": 5,
    "start_time": "2024-06-16T20:16:18.362Z"
   },
   {
    "duration": 86,
    "start_time": "2024-06-16T20:16:22.104Z"
   },
   {
    "duration": 5,
    "start_time": "2024-06-16T20:17:37.905Z"
   },
   {
    "duration": 34,
    "start_time": "2024-06-16T20:17:40.650Z"
   },
   {
    "duration": 5,
    "start_time": "2024-06-16T20:17:59.609Z"
   },
   {
    "duration": 95,
    "start_time": "2024-06-16T20:18:02.911Z"
   },
   {
    "duration": 5,
    "start_time": "2024-06-16T20:18:42.862Z"
   },
   {
    "duration": 86,
    "start_time": "2024-06-16T20:18:45.335Z"
   },
   {
    "duration": 5,
    "start_time": "2024-06-16T20:18:57.595Z"
   },
   {
    "duration": 84,
    "start_time": "2024-06-16T20:19:00.774Z"
   },
   {
    "duration": 6,
    "start_time": "2024-06-16T20:20:38.032Z"
   },
   {
    "duration": 5,
    "start_time": "2024-06-16T20:20:45.557Z"
   },
   {
    "duration": 7,
    "start_time": "2024-06-16T20:21:45.570Z"
   },
   {
    "duration": 10,
    "start_time": "2024-06-16T20:22:10.340Z"
   },
   {
    "duration": 323,
    "start_time": "2024-06-16T20:22:14.640Z"
   },
   {
    "duration": 4,
    "start_time": "2024-06-16T20:22:34.380Z"
   },
   {
    "duration": 3652,
    "start_time": "2024-06-16T20:22:36.851Z"
   },
   {
    "duration": 5,
    "start_time": "2024-06-16T20:23:06.625Z"
   },
   {
    "duration": 31,
    "start_time": "2024-06-16T20:23:09.419Z"
   },
   {
    "duration": 22,
    "start_time": "2024-06-16T20:23:17.575Z"
   },
   {
    "duration": 384,
    "start_time": "2024-06-16T20:23:28.350Z"
   },
   {
    "duration": 179,
    "start_time": "2024-06-16T20:23:31.686Z"
   },
   {
    "duration": 11,
    "start_time": "2024-06-16T20:23:34.713Z"
   },
   {
    "duration": 35,
    "start_time": "2024-06-16T20:23:41.652Z"
   },
   {
    "duration": 4,
    "start_time": "2024-06-16T20:23:49.013Z"
   },
   {
    "duration": 6,
    "start_time": "2024-06-16T20:23:52.672Z"
   },
   {
    "duration": 5,
    "start_time": "2024-06-16T20:23:55.361Z"
   },
   {
    "duration": 6,
    "start_time": "2024-06-16T20:24:00.354Z"
   },
   {
    "duration": 4,
    "start_time": "2024-06-16T20:24:02.459Z"
   },
   {
    "duration": 25,
    "start_time": "2024-06-16T20:24:05.706Z"
   },
   {
    "duration": 16,
    "start_time": "2024-06-16T20:24:09.624Z"
   },
   {
    "duration": 25,
    "start_time": "2024-06-16T20:24:13.121Z"
   },
   {
    "duration": 78,
    "start_time": "2024-06-16T20:24:16.557Z"
   },
   {
    "duration": 82,
    "start_time": "2024-06-16T20:24:21.605Z"
   },
   {
    "duration": 70,
    "start_time": "2024-06-16T20:24:24.593Z"
   },
   {
    "duration": 10,
    "start_time": "2024-06-16T20:24:27.851Z"
   },
   {
    "duration": 5,
    "start_time": "2024-06-16T20:24:31.895Z"
   },
   {
    "duration": 64,
    "start_time": "2024-06-16T20:24:35.229Z"
   },
   {
    "duration": 11,
    "start_time": "2024-06-16T20:24:38.406Z"
   },
   {
    "duration": 1479,
    "start_time": "2024-06-16T20:24:43.520Z"
   },
   {
    "duration": 869,
    "start_time": "2024-06-16T20:24:50.296Z"
   },
   {
    "duration": 5,
    "start_time": "2024-06-16T20:24:56.074Z"
   },
   {
    "duration": 0,
    "start_time": "2024-06-16T20:25:35.634Z"
   },
   {
    "duration": 440,
    "start_time": "2024-06-16T20:26:34.533Z"
   },
   {
    "duration": 163,
    "start_time": "2024-06-16T20:26:38.924Z"
   },
   {
    "duration": 11,
    "start_time": "2024-06-16T20:26:41.766Z"
   },
   {
    "duration": 32,
    "start_time": "2024-06-16T20:26:45.641Z"
   },
   {
    "duration": 5,
    "start_time": "2024-06-16T20:26:50.672Z"
   },
   {
    "duration": 6,
    "start_time": "2024-06-16T20:26:52.992Z"
   },
   {
    "duration": 6,
    "start_time": "2024-06-16T20:26:56.019Z"
   },
   {
    "duration": 6,
    "start_time": "2024-06-16T20:26:58.762Z"
   },
   {
    "duration": 4,
    "start_time": "2024-06-16T20:27:01.548Z"
   },
   {
    "duration": 27,
    "start_time": "2024-06-16T20:27:04.110Z"
   },
   {
    "duration": 24,
    "start_time": "2024-06-16T20:27:07.358Z"
   },
   {
    "duration": 27,
    "start_time": "2024-06-16T20:27:10.640Z"
   },
   {
    "duration": 74,
    "start_time": "2024-06-16T20:27:15.400Z"
   },
   {
    "duration": 94,
    "start_time": "2024-06-16T20:27:18.157Z"
   },
   {
    "duration": 70,
    "start_time": "2024-06-16T20:27:21.428Z"
   },
   {
    "duration": 11,
    "start_time": "2024-06-16T20:27:25.469Z"
   },
   {
    "duration": 4,
    "start_time": "2024-06-16T20:27:30.404Z"
   },
   {
    "duration": 63,
    "start_time": "2024-06-16T20:27:33.831Z"
   },
   {
    "duration": 11,
    "start_time": "2024-06-16T20:27:38.599Z"
   },
   {
    "duration": 1487,
    "start_time": "2024-06-16T20:27:44.211Z"
   },
   {
    "duration": 874,
    "start_time": "2024-06-16T20:27:49.171Z"
   },
   {
    "duration": 5,
    "start_time": "2024-06-16T20:27:54.141Z"
   },
   {
    "duration": 38014,
    "start_time": "2024-06-16T20:27:58.500Z"
   },
   {
    "duration": 0,
    "start_time": "2024-06-16T20:28:36.517Z"
   },
   {
    "duration": 0,
    "start_time": "2024-06-16T20:28:36.519Z"
   },
   {
    "duration": 0,
    "start_time": "2024-06-16T20:28:36.521Z"
   },
   {
    "duration": 0,
    "start_time": "2024-06-16T20:28:36.523Z"
   },
   {
    "duration": 0,
    "start_time": "2024-06-16T20:28:36.525Z"
   },
   {
    "duration": 5,
    "start_time": "2024-06-16T20:30:35.403Z"
   },
   {
    "duration": 122,
    "start_time": "2024-06-16T20:30:41.439Z"
   },
   {
    "duration": 5,
    "start_time": "2024-06-16T20:31:48.658Z"
   },
   {
    "duration": 138,
    "start_time": "2024-06-16T20:31:51.528Z"
   },
   {
    "duration": 5,
    "start_time": "2024-06-16T20:32:28.554Z"
   },
   {
    "duration": 89,
    "start_time": "2024-06-16T20:32:33.723Z"
   },
   {
    "duration": 4,
    "start_time": "2024-06-16T20:35:13.417Z"
   },
   {
    "duration": 71,
    "start_time": "2024-06-16T20:35:16.398Z"
   },
   {
    "duration": 4,
    "start_time": "2024-06-16T20:36:08.053Z"
   },
   {
    "duration": 70,
    "start_time": "2024-06-16T20:36:11.503Z"
   },
   {
    "duration": 4,
    "start_time": "2024-06-16T20:36:48.947Z"
   },
   {
    "duration": 70,
    "start_time": "2024-06-16T20:36:52.500Z"
   },
   {
    "duration": 14,
    "start_time": "2024-06-17T00:49:02.981Z"
   },
   {
    "duration": 329,
    "start_time": "2024-06-17T00:49:16.616Z"
   },
   {
    "duration": 7,
    "start_time": "2024-06-17T00:50:49.793Z"
   },
   {
    "duration": 5,
    "start_time": "2024-06-17T00:50:59.040Z"
   },
   {
    "duration": 32,
    "start_time": "2024-06-17T00:51:03.885Z"
   },
   {
    "duration": 5,
    "start_time": "2024-06-17T00:52:31.508Z"
   },
   {
    "duration": 33,
    "start_time": "2024-06-17T00:52:34.402Z"
   },
   {
    "duration": 23,
    "start_time": "2024-06-17T00:52:47.619Z"
   },
   {
    "duration": 5,
    "start_time": "2024-06-17T00:52:56.628Z"
   },
   {
    "duration": 38,
    "start_time": "2024-06-17T00:53:00.203Z"
   },
   {
    "duration": 4,
    "start_time": "2024-06-17T00:53:17.048Z"
   },
   {
    "duration": 67,
    "start_time": "2024-06-17T00:53:20.759Z"
   },
   {
    "duration": 5,
    "start_time": "2024-06-17T00:54:13.789Z"
   },
   {
    "duration": 3490,
    "start_time": "2024-06-17T00:54:16.591Z"
   },
   {
    "duration": 5,
    "start_time": "2024-06-17T00:55:16.892Z"
   },
   {
    "duration": 34,
    "start_time": "2024-06-17T00:55:19.853Z"
   },
   {
    "duration": 5,
    "start_time": "2024-06-17T00:55:42.634Z"
   },
   {
    "duration": 37,
    "start_time": "2024-06-17T00:55:45.287Z"
   },
   {
    "duration": 5,
    "start_time": "2024-06-17T00:56:07.596Z"
   },
   {
    "duration": 33,
    "start_time": "2024-06-17T00:56:11.984Z"
   },
   {
    "duration": 5,
    "start_time": "2024-06-17T00:57:16.300Z"
   },
   {
    "duration": 33,
    "start_time": "2024-06-17T00:57:19.228Z"
   },
   {
    "duration": 12,
    "start_time": "2024-06-17T00:58:08.529Z"
   },
   {
    "duration": 31,
    "start_time": "2024-06-17T00:58:11.806Z"
   },
   {
    "duration": 424,
    "start_time": "2024-06-17T00:58:36.135Z"
   },
   {
    "duration": 202,
    "start_time": "2024-06-17T00:58:46.476Z"
   },
   {
    "duration": 12,
    "start_time": "2024-06-17T00:58:53.187Z"
   },
   {
    "duration": 36,
    "start_time": "2024-06-17T00:58:56.661Z"
   },
   {
    "duration": 4,
    "start_time": "2024-06-17T00:59:01.796Z"
   },
   {
    "duration": 51,
    "start_time": "2024-06-17T00:59:06.762Z"
   },
   {
    "duration": 5,
    "start_time": "2024-06-17T00:59:14.893Z"
   },
   {
    "duration": 5,
    "start_time": "2024-06-17T00:59:17.824Z"
   },
   {
    "duration": 5,
    "start_time": "2024-06-17T00:59:21.847Z"
   },
   {
    "duration": 26,
    "start_time": "2024-06-17T00:59:25.577Z"
   },
   {
    "duration": 16,
    "start_time": "2024-06-17T00:59:29.872Z"
   },
   {
    "duration": 25,
    "start_time": "2024-06-17T00:59:33.009Z"
   },
   {
    "duration": 74,
    "start_time": "2024-06-17T00:59:37.091Z"
   },
   {
    "duration": 80,
    "start_time": "2024-06-17T00:59:39.305Z"
   },
   {
    "duration": 69,
    "start_time": "2024-06-17T00:59:41.568Z"
   },
   {
    "duration": 11,
    "start_time": "2024-06-17T00:59:44.842Z"
   },
   {
    "duration": 4,
    "start_time": "2024-06-17T00:59:50.321Z"
   },
   {
    "duration": 64,
    "start_time": "2024-06-17T00:59:53.262Z"
   },
   {
    "duration": 10,
    "start_time": "2024-06-17T00:59:55.909Z"
   },
   {
    "duration": 1478,
    "start_time": "2024-06-17T01:00:00.964Z"
   },
   {
    "duration": 872,
    "start_time": "2024-06-17T01:00:06.683Z"
   },
   {
    "duration": 6,
    "start_time": "2024-06-17T01:00:13.793Z"
   },
   {
    "duration": 37526,
    "start_time": "2024-06-17T01:00:17.658Z"
   },
   {
    "duration": 5,
    "start_time": "2024-06-17T01:01:28.604Z"
   },
   {
    "duration": 36670,
    "start_time": "2024-06-17T01:01:31.633Z"
   },
   {
    "duration": 5,
    "start_time": "2024-06-17T01:02:39.621Z"
   },
   {
    "duration": 31042,
    "start_time": "2024-06-17T01:02:42.246Z"
   },
   {
    "duration": 5,
    "start_time": "2024-06-17T01:04:51.824Z"
   },
   {
    "duration": 5,
    "start_time": "2024-06-17T01:04:55.034Z"
   },
   {
    "duration": 36513,
    "start_time": "2024-06-17T01:05:04.935Z"
   },
   {
    "duration": 5,
    "start_time": "2024-06-17T01:08:52.278Z"
   },
   {
    "duration": 36901,
    "start_time": "2024-06-17T01:08:55.514Z"
   },
   {
    "duration": 10,
    "start_time": "2024-06-18T00:26:24.284Z"
   },
   {
    "duration": 474,
    "start_time": "2024-06-18T00:26:43.958Z"
   },
   {
    "duration": 183,
    "start_time": "2024-06-18T00:26:47.846Z"
   },
   {
    "duration": 10,
    "start_time": "2024-06-18T00:26:51.558Z"
   },
   {
    "duration": 33,
    "start_time": "2024-06-18T00:27:11.981Z"
   },
   {
    "duration": 5,
    "start_time": "2024-06-18T00:27:20.610Z"
   },
   {
    "duration": 6,
    "start_time": "2024-06-18T00:27:26.611Z"
   },
   {
    "duration": 6,
    "start_time": "2024-06-18T00:27:37.327Z"
   },
   {
    "duration": 6,
    "start_time": "2024-06-18T00:27:56.762Z"
   },
   {
    "duration": 4,
    "start_time": "2024-06-18T00:28:00.774Z"
   },
   {
    "duration": 25,
    "start_time": "2024-06-18T00:28:05.906Z"
   },
   {
    "duration": 17,
    "start_time": "2024-06-18T00:28:10.086Z"
   },
   {
    "duration": 25,
    "start_time": "2024-06-18T00:28:12.932Z"
   },
   {
    "duration": 104,
    "start_time": "2024-06-18T00:28:27.264Z"
   },
   {
    "duration": 82,
    "start_time": "2024-06-18T00:28:29.952Z"
   },
   {
    "duration": 77,
    "start_time": "2024-06-18T00:28:32.933Z"
   },
   {
    "duration": 9,
    "start_time": "2024-06-18T00:28:37.087Z"
   },
   {
    "duration": 4,
    "start_time": "2024-06-18T00:28:43.024Z"
   },
   {
    "duration": 62,
    "start_time": "2024-06-18T00:28:45.501Z"
   },
   {
    "duration": 13,
    "start_time": "2024-06-18T00:28:54.771Z"
   },
   {
    "duration": 1489,
    "start_time": "2024-06-18T00:29:10.321Z"
   },
   {
    "duration": 877,
    "start_time": "2024-06-18T00:29:18.302Z"
   },
   {
    "duration": 6,
    "start_time": "2024-06-18T00:29:24.207Z"
   },
   {
    "duration": 1205,
    "start_time": "2024-06-18T00:29:29.095Z"
   },
   {
    "duration": 5,
    "start_time": "2024-06-18T00:37:04.494Z"
   },
   {
    "duration": 32,
    "start_time": "2024-06-18T00:37:08.591Z"
   },
   {
    "duration": 22,
    "start_time": "2024-06-18T00:37:16.268Z"
   },
   {
    "duration": 21,
    "start_time": "2024-06-18T00:37:34.114Z"
   },
   {
    "duration": 23,
    "start_time": "2024-06-18T00:38:49.855Z"
   },
   {
    "duration": 23,
    "start_time": "2024-06-18T00:40:29.664Z"
   },
   {
    "duration": 22,
    "start_time": "2024-06-18T00:40:38.780Z"
   },
   {
    "duration": 27,
    "start_time": "2024-06-18T00:42:07.002Z"
   },
   {
    "duration": 31,
    "start_time": "2024-06-18T00:42:27.035Z"
   },
   {
    "duration": 21,
    "start_time": "2024-06-18T00:42:46.871Z"
   },
   {
    "duration": 28,
    "start_time": "2024-06-18T00:44:14.090Z"
   },
   {
    "duration": 5,
    "start_time": "2024-06-18T00:44:28.138Z"
   },
   {
    "duration": 23,
    "start_time": "2024-06-18T00:44:31.425Z"
   },
   {
    "duration": 8,
    "start_time": "2024-06-18T00:44:40.557Z"
   },
   {
    "duration": 19,
    "start_time": "2024-06-18T00:44:42.997Z"
   },
   {
    "duration": 19,
    "start_time": "2024-06-18T00:44:49.764Z"
   },
   {
    "duration": 6,
    "start_time": "2024-06-18T00:44:56.328Z"
   },
   {
    "duration": 33,
    "start_time": "2024-06-18T00:45:56.564Z"
   },
   {
    "duration": 17,
    "start_time": "2024-06-18T00:46:04.764Z"
   },
   {
    "duration": 20,
    "start_time": "2024-06-18T00:46:43.244Z"
   },
   {
    "duration": 19,
    "start_time": "2024-06-18T00:47:08.880Z"
   },
   {
    "duration": 868,
    "start_time": "2024-06-19T00:40:36.991Z"
   },
   {
    "duration": 226,
    "start_time": "2024-06-19T00:40:37.864Z"
   },
   {
    "duration": 12,
    "start_time": "2024-06-19T00:40:38.094Z"
   },
   {
    "duration": 56,
    "start_time": "2024-06-19T00:40:38.112Z"
   },
   {
    "duration": 6,
    "start_time": "2024-06-19T00:40:38.171Z"
   },
   {
    "duration": 53,
    "start_time": "2024-06-19T00:40:38.180Z"
   },
   {
    "duration": 6,
    "start_time": "2024-06-19T00:40:38.237Z"
   },
   {
    "duration": 7,
    "start_time": "2024-06-19T00:40:38.246Z"
   },
   {
    "duration": 6,
    "start_time": "2024-06-19T00:40:38.255Z"
   },
   {
    "duration": 79,
    "start_time": "2024-06-19T00:40:38.269Z"
   },
   {
    "duration": 17,
    "start_time": "2024-06-19T00:40:38.352Z"
   },
   {
    "duration": 61,
    "start_time": "2024-06-19T00:40:38.372Z"
   },
   {
    "duration": 100,
    "start_time": "2024-06-19T00:40:38.436Z"
   },
   {
    "duration": 110,
    "start_time": "2024-06-19T00:40:38.540Z"
   },
   {
    "duration": 88,
    "start_time": "2024-06-19T00:40:38.654Z"
   },
   {
    "duration": 11,
    "start_time": "2024-06-19T00:40:38.745Z"
   },
   {
    "duration": 4,
    "start_time": "2024-06-19T00:40:38.759Z"
   },
   {
    "duration": 95,
    "start_time": "2024-06-19T00:40:38.767Z"
   },
   {
    "duration": 11,
    "start_time": "2024-06-19T00:40:38.865Z"
   },
   {
    "duration": 1537,
    "start_time": "2024-06-19T00:40:38.879Z"
   },
   {
    "duration": 884,
    "start_time": "2024-06-19T00:40:40.419Z"
   },
   {
    "duration": 5,
    "start_time": "2024-06-19T00:40:41.306Z"
   },
   {
    "duration": 59,
    "start_time": "2024-06-19T00:40:41.314Z"
   },
   {
    "duration": 379,
    "start_time": "2024-06-19T00:40:41.376Z"
   },
   {
    "duration": 0,
    "start_time": "2024-06-19T00:40:41.758Z"
   },
   {
    "duration": 0,
    "start_time": "2024-06-19T00:40:41.760Z"
   },
   {
    "duration": 0,
    "start_time": "2024-06-19T00:40:41.762Z"
   },
   {
    "duration": 0,
    "start_time": "2024-06-19T00:40:41.765Z"
   },
   {
    "duration": 304,
    "start_time": "2024-06-19T00:50:44.977Z"
   },
   {
    "duration": 461,
    "start_time": "2024-06-19T00:50:49.400Z"
   },
   {
    "duration": 189,
    "start_time": "2024-06-19T00:50:52.477Z"
   },
   {
    "duration": 22,
    "start_time": "2024-06-19T00:50:55.114Z"
   },
   {
    "duration": 169,
    "start_time": "2024-06-19T00:51:49.102Z"
   },
   {
    "duration": 60,
    "start_time": "2024-06-19T00:53:37.028Z"
   },
   {
    "duration": 5,
    "start_time": "2024-06-19T00:54:03.309Z"
   },
   {
    "duration": 6,
    "start_time": "2024-06-19T00:54:06.615Z"
   },
   {
    "duration": 6,
    "start_time": "2024-06-19T00:54:09.418Z"
   },
   {
    "duration": 6,
    "start_time": "2024-06-19T00:54:12.819Z"
   },
   {
    "duration": 5,
    "start_time": "2024-06-19T00:54:16.828Z"
   },
   {
    "duration": 26,
    "start_time": "2024-06-19T00:54:21.398Z"
   },
   {
    "duration": 15,
    "start_time": "2024-06-19T00:54:25.963Z"
   },
   {
    "duration": 27,
    "start_time": "2024-06-19T00:54:29.719Z"
   },
   {
    "duration": 95,
    "start_time": "2024-06-19T00:54:34.846Z"
   },
   {
    "duration": 81,
    "start_time": "2024-06-19T00:54:37.291Z"
   },
   {
    "duration": 79,
    "start_time": "2024-06-19T00:54:40.307Z"
   },
   {
    "duration": 10,
    "start_time": "2024-06-19T00:54:43.425Z"
   },
   {
    "duration": 4,
    "start_time": "2024-06-19T00:54:57.129Z"
   },
   {
    "duration": 75,
    "start_time": "2024-06-19T00:55:00.416Z"
   },
   {
    "duration": 11,
    "start_time": "2024-06-19T00:55:08.245Z"
   },
   {
    "duration": 1528,
    "start_time": "2024-06-19T00:55:21.852Z"
   },
   {
    "duration": 871,
    "start_time": "2024-06-19T00:55:28.014Z"
   },
   {
    "duration": 5,
    "start_time": "2024-06-19T00:56:48.469Z"
   },
   {
    "duration": 55,
    "start_time": "2024-06-19T00:56:59.266Z"
   },
   {
    "duration": 41,
    "start_time": "2024-06-19T00:58:40.706Z"
   },
   {
    "duration": 41,
    "start_time": "2024-06-19T00:58:51.535Z"
   },
   {
    "duration": 5,
    "start_time": "2024-06-19T00:59:21.482Z"
   },
   {
    "duration": 45,
    "start_time": "2024-06-19T00:59:23.965Z"
   },
   {
    "duration": 5,
    "start_time": "2024-06-19T01:03:08.787Z"
   },
   {
    "duration": 49,
    "start_time": "2024-06-19T01:03:11.550Z"
   },
   {
    "duration": 5,
    "start_time": "2024-06-19T01:03:24.398Z"
   },
   {
    "duration": 46,
    "start_time": "2024-06-19T01:03:27.462Z"
   },
   {
    "duration": 6,
    "start_time": "2024-06-19T01:03:43.618Z"
   },
   {
    "duration": 19,
    "start_time": "2024-06-19T01:03:46.636Z"
   },
   {
    "duration": 18,
    "start_time": "2024-06-19T01:03:50.798Z"
   },
   {
    "duration": 19,
    "start_time": "2024-06-19T01:03:53.298Z"
   },
   {
    "duration": 18,
    "start_time": "2024-06-19T01:03:55.553Z"
   },
   {
    "duration": 20,
    "start_time": "2024-06-19T01:03:58.532Z"
   },
   {
    "duration": 19,
    "start_time": "2024-06-19T01:04:01.769Z"
   },
   {
    "duration": 8,
    "start_time": "2024-06-19T01:11:26.306Z"
   },
   {
    "duration": 5,
    "start_time": "2024-06-19T01:12:08.964Z"
   },
   {
    "duration": 6,
    "start_time": "2024-06-19T01:12:16.462Z"
   },
   {
    "duration": 6,
    "start_time": "2024-06-19T01:12:34.821Z"
   },
   {
    "duration": 5,
    "start_time": "2024-06-19T01:12:59.915Z"
   },
   {
    "duration": 6,
    "start_time": "2024-06-19T01:13:04.023Z"
   },
   {
    "duration": 9,
    "start_time": "2024-06-19T01:16:41.517Z"
   },
   {
    "duration": 6,
    "start_time": "2024-06-19T01:17:13.739Z"
   },
   {
    "duration": 404,
    "start_time": "2024-06-19T01:19:12.073Z"
   },
   {
    "duration": 159,
    "start_time": "2024-06-19T01:19:16.346Z"
   },
   {
    "duration": 20,
    "start_time": "2024-06-19T01:19:19.714Z"
   },
   {
    "duration": 220,
    "start_time": "2024-06-19T01:19:23.663Z"
   },
   {
    "duration": 5,
    "start_time": "2024-06-19T01:19:31.319Z"
   },
   {
    "duration": 6,
    "start_time": "2024-06-19T01:19:34.636Z"
   },
   {
    "duration": 6,
    "start_time": "2024-06-19T01:19:37.087Z"
   },
   {
    "duration": 6,
    "start_time": "2024-06-19T01:19:40.214Z"
   },
   {
    "duration": 5,
    "start_time": "2024-06-19T01:19:43.388Z"
   },
   {
    "duration": 29,
    "start_time": "2024-06-19T01:19:46.814Z"
   },
   {
    "duration": 15,
    "start_time": "2024-06-19T01:19:50.687Z"
   },
   {
    "duration": 30,
    "start_time": "2024-06-19T01:19:53.045Z"
   },
   {
    "duration": 75,
    "start_time": "2024-06-19T01:19:56.467Z"
   },
   {
    "duration": 81,
    "start_time": "2024-06-19T01:19:59.004Z"
   },
   {
    "duration": 70,
    "start_time": "2024-06-19T01:20:01.947Z"
   },
   {
    "duration": 11,
    "start_time": "2024-06-19T01:20:07.692Z"
   },
   {
    "duration": 4,
    "start_time": "2024-06-19T01:22:45.457Z"
   },
   {
    "duration": 70,
    "start_time": "2024-06-19T01:22:47.640Z"
   },
   {
    "duration": 11,
    "start_time": "2024-06-19T01:22:51.276Z"
   },
   {
    "duration": 1504,
    "start_time": "2024-06-19T01:23:01.056Z"
   },
   {
    "duration": 870,
    "start_time": "2024-06-19T01:23:05.871Z"
   },
   {
    "duration": 5,
    "start_time": "2024-06-19T01:23:10.439Z"
   },
   {
    "duration": 33,
    "start_time": "2024-06-19T01:23:14.223Z"
   },
   {
    "duration": 18,
    "start_time": "2024-06-19T01:23:18.414Z"
   },
   {
    "duration": 24,
    "start_time": "2024-06-19T01:23:21.285Z"
   },
   {
    "duration": 19,
    "start_time": "2024-06-19T01:23:27.173Z"
   },
   {
    "duration": 20,
    "start_time": "2024-06-19T01:23:29.362Z"
   },
   {
    "duration": 18,
    "start_time": "2024-06-19T01:23:35.996Z"
   },
   {
    "duration": 3,
    "start_time": "2024-06-19T01:24:22.738Z"
   },
   {
    "duration": 7,
    "start_time": "2024-06-19T01:24:47.955Z"
   },
   {
    "duration": 463,
    "start_time": "2024-06-19T22:48:07.726Z"
   },
   {
    "duration": 199,
    "start_time": "2024-06-19T22:48:08.192Z"
   },
   {
    "duration": 23,
    "start_time": "2024-06-19T22:48:08.394Z"
   },
   {
    "duration": 177,
    "start_time": "2024-06-19T22:48:08.420Z"
   },
   {
    "duration": 5,
    "start_time": "2024-06-19T22:48:08.608Z"
   },
   {
    "duration": 9,
    "start_time": "2024-06-19T22:48:08.615Z"
   },
   {
    "duration": 7,
    "start_time": "2024-06-19T22:48:08.627Z"
   },
   {
    "duration": 7,
    "start_time": "2024-06-19T22:48:08.637Z"
   },
   {
    "duration": 6,
    "start_time": "2024-06-19T22:48:08.647Z"
   },
   {
    "duration": 28,
    "start_time": "2024-06-19T22:48:08.710Z"
   },
   {
    "duration": 16,
    "start_time": "2024-06-19T22:48:08.741Z"
   },
   {
    "duration": 46,
    "start_time": "2024-06-19T22:48:08.761Z"
   },
   {
    "duration": 74,
    "start_time": "2024-06-19T22:48:08.810Z"
   },
   {
    "duration": 80,
    "start_time": "2024-06-19T22:48:08.909Z"
   },
   {
    "duration": 86,
    "start_time": "2024-06-19T22:48:08.992Z"
   },
   {
    "duration": 28,
    "start_time": "2024-06-19T22:48:09.081Z"
   },
   {
    "duration": 6,
    "start_time": "2024-06-19T22:48:09.112Z"
   },
   {
    "duration": 95,
    "start_time": "2024-06-19T22:48:09.121Z"
   },
   {
    "duration": 12,
    "start_time": "2024-06-19T22:48:09.218Z"
   },
   {
    "duration": 1506,
    "start_time": "2024-06-19T22:48:09.233Z"
   },
   {
    "duration": 887,
    "start_time": "2024-06-19T22:48:10.742Z"
   },
   {
    "duration": 5,
    "start_time": "2024-06-19T22:48:11.632Z"
   },
   {
    "duration": 31,
    "start_time": "2024-06-19T22:48:11.640Z"
   },
   {
    "duration": 48,
    "start_time": "2024-06-19T22:48:11.674Z"
   },
   {
    "duration": 17,
    "start_time": "2024-06-19T22:48:11.726Z"
   },
   {
    "duration": 17,
    "start_time": "2024-06-19T22:48:11.746Z"
   },
   {
    "duration": 52,
    "start_time": "2024-06-19T22:48:11.766Z"
   },
   {
    "duration": 20,
    "start_time": "2024-06-19T22:48:11.821Z"
   }
  ],
  "colab": {
   "collapsed_sections": [
    "E0vqbgi9ay0H",
    "VUC88oWjTJw2"
   ],
   "provenance": []
  },
  "kernelspec": {
   "display_name": "base",
   "language": "python",
   "name": "python3"
  },
  "language_info": {
   "codemirror_mode": {
    "name": "ipython",
    "version": 3
   },
   "file_extension": ".py",
   "mimetype": "text/x-python",
   "name": "python",
   "nbconvert_exporter": "python",
   "pygments_lexer": "ipython3",
   "version": "3.12.4"
  },
  "toc": {
   "base_numbering": 1,
   "nav_menu": {},
   "number_sections": true,
   "sideBar": true,
   "skip_h1_title": true,
   "title_cell": "Table of Contents",
   "title_sidebar": "Contents",
   "toc_cell": false,
   "toc_position": {},
   "toc_section_display": true,
   "toc_window_display": false
  }
 },
 "nbformat": 4,
 "nbformat_minor": 1
}
