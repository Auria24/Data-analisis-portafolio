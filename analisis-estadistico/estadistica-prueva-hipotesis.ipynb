{
 "cells": [
  {
   "cell_type": "markdown",
   "metadata": {
    "id": "3rYiDeEH0q0f"
   },
   "source": [
    "# ¿Cuál es la mejor tarifa?\n",
    "\n",
    "Trabajas como analista para el operador de telecomunicaciones Megaline. La empresa ofrece a sus clientes dos tarifas de prepago, Surf y Ultimate. El departamento comercial quiere saber cuál de las tarifas genera más ingresos para poder ajustar el presupuesto de publicidad.\n",
    "\n",
    "Vas a realizar un análisis preliminar de las tarifas basado en una selección de clientes relativamente pequeña. Tendrás los datos de 500 clientes de Megaline: quiénes son los clientes, de dónde son, qué tarifa usan, así como la cantidad de llamadas que hicieron y los mensajes de texto que enviaron en 2018. Tu trabajo es analizar el comportamiento de los clientes y determinar qué tarifa de prepago genera más ingresos."
   ]
  },
  {
   "cell_type": "markdown",
   "metadata": {
    "id": "VNddPNRQ0q0w"
   },
   "source": [
    "[Te proporcionamos algunos comentarios para orientarte mientras completas este proyecto. Pero debes asegurarte de eliminar todos los comentarios entre corchetes antes de entregar tu proyecto.]\n",
    "\n",
    "[Antes de sumergirte en el análisis de datos, explica por tu propia cuenta el propósito del proyecto y las acciones que planeas realizar.]\n",
    "\n",
    "[Ten en cuenta que estudiar, modificar y analizar datos es un proceso iterativo. Es normal volver a los pasos anteriores y corregirlos/ampliarlos para permitir nuevos pasos.]"
   ]
  },
  {
   "cell_type": "markdown",
   "metadata": {
    "id": "MQi4IPy70q0y"
   },
   "source": [
    "## Inicialización"
   ]
  },
  {
   "cell_type": "code",
   "execution_count": 1,
   "metadata": {
    "id": "MtYIuBxu0q0z"
   },
   "outputs": [],
   "source": [
    "import pandas as pd\n",
    "from matplotlib import  pyplot as plt #Cargar todas las librerías\n",
    "from math import factorial\n",
    "from scipy import stats as st\n",
    "import math as math\n",
    "import numpy as np"
   ]
  },
  {
   "cell_type": "markdown",
   "metadata": {
    "id": "4ysWWC5i0q00"
   },
   "source": [
    "## Cargar datos"
   ]
  },
  {
   "cell_type": "code",
   "execution_count": 2,
   "metadata": {
    "id": "CCqPW7rS0q01"
   },
   "outputs": [],
   "source": [
    "df_users = pd.read_csv('./datasets/megaline_users.csv')\n",
    "df_calls = pd.read_csv('./datasets/megaline_calls.csv')\n",
    "df_messages =pd.read_csv('./datasets/megaline_messages.csv')\n",
    "df_internet = pd.read_csv('./datasets/megaline_internet.csv')\n",
    "df_plans = pd.read_csv('./datasets/megaline_plans.csv')\n",
    "\n",
    "# Carga los archivos de datos en diferentes DataFrames\n"
   ]
  },
  {
   "cell_type": "markdown",
   "metadata": {
    "id": "69qqoJ3r0q01"
   },
   "source": [
    "## Preparar los datos"
   ]
  },
  {
   "cell_type": "markdown",
   "metadata": {
    "id": "vUuZw80S0q01"
   },
   "source": [
    "[Los datos para este proyecto se dividen en varias tablas. Explora cada una para tener una comprensión inicial de los datos. Si es necesario, haz las correcciones requeridas en cada tabla.]"
   ]
  },
  {
   "cell_type": "markdown",
   "metadata": {
    "id": "ohBhimvH0q01"
   },
   "source": [
    "## Tarifas"
   ]
  },
  {
   "cell_type": "code",
   "execution_count": 3,
   "metadata": {
    "id": "GptqP3Q40q02"
   },
   "outputs": [
    {
     "name": "stdout",
     "output_type": "stream",
     "text": [
      "<class 'pandas.core.frame.DataFrame'>\n",
      "RangeIndex: 2 entries, 0 to 1\n",
      "Data columns (total 8 columns):\n",
      " #   Column                 Non-Null Count  Dtype  \n",
      "---  ------                 --------------  -----  \n",
      " 0   messages_included      2 non-null      int64  \n",
      " 1   mb_per_month_included  2 non-null      int64  \n",
      " 2   minutes_included       2 non-null      int64  \n",
      " 3   usd_monthly_pay        2 non-null      int64  \n",
      " 4   usd_per_gb             2 non-null      int64  \n",
      " 5   usd_per_message        2 non-null      float64\n",
      " 6   usd_per_minute         2 non-null      float64\n",
      " 7   plan_name              2 non-null      object \n",
      "dtypes: float64(2), int64(5), object(1)\n",
      "memory usage: 256.0+ bytes\n"
     ]
    }
   ],
   "source": [
    "\n",
    "df_plans.info()\n",
    "# Imprime la información general/resumida sobre el DataFrame de las tarifas\n",
    "\n"
   ]
  },
  {
   "cell_type": "code",
   "execution_count": 4,
   "metadata": {
    "id": "64xzjwL70q02"
   },
   "outputs": [
    {
     "data": {
      "text/html": [
       "<div>\n",
       "<style scoped>\n",
       "    .dataframe tbody tr th:only-of-type {\n",
       "        vertical-align: middle;\n",
       "    }\n",
       "\n",
       "    .dataframe tbody tr th {\n",
       "        vertical-align: top;\n",
       "    }\n",
       "\n",
       "    .dataframe thead th {\n",
       "        text-align: right;\n",
       "    }\n",
       "</style>\n",
       "<table border=\"1\" class=\"dataframe\">\n",
       "  <thead>\n",
       "    <tr style=\"text-align: right;\">\n",
       "      <th></th>\n",
       "      <th>messages_included</th>\n",
       "      <th>mb_per_month_included</th>\n",
       "      <th>minutes_included</th>\n",
       "      <th>usd_monthly_pay</th>\n",
       "      <th>usd_per_gb</th>\n",
       "      <th>usd_per_message</th>\n",
       "      <th>usd_per_minute</th>\n",
       "      <th>plan_name</th>\n",
       "    </tr>\n",
       "  </thead>\n",
       "  <tbody>\n",
       "    <tr>\n",
       "      <th>0</th>\n",
       "      <td>50</td>\n",
       "      <td>15360</td>\n",
       "      <td>500</td>\n",
       "      <td>20</td>\n",
       "      <td>10</td>\n",
       "      <td>0.03</td>\n",
       "      <td>0.03</td>\n",
       "      <td>surf</td>\n",
       "    </tr>\n",
       "    <tr>\n",
       "      <th>1</th>\n",
       "      <td>1000</td>\n",
       "      <td>30720</td>\n",
       "      <td>3000</td>\n",
       "      <td>70</td>\n",
       "      <td>7</td>\n",
       "      <td>0.01</td>\n",
       "      <td>0.01</td>\n",
       "      <td>ultimate</td>\n",
       "    </tr>\n",
       "  </tbody>\n",
       "</table>\n",
       "</div>"
      ],
      "text/plain": [
       "   messages_included  mb_per_month_included  minutes_included  \\\n",
       "0                 50                  15360               500   \n",
       "1               1000                  30720              3000   \n",
       "\n",
       "   usd_monthly_pay  usd_per_gb  usd_per_message  usd_per_minute plan_name  \n",
       "0               20          10             0.03            0.03      surf  \n",
       "1               70           7             0.01            0.01  ultimate  "
      ]
     },
     "execution_count": 4,
     "metadata": {},
     "output_type": "execute_result"
    }
   ],
   "source": [
    "df_plans.head() # Imprime una muestra de los datos para las tarifas\n",
    "\n"
   ]
  },
  {
   "cell_type": "markdown",
   "metadata": {
    "id": "mEc_3_hs0q02"
   },
   "source": [
    "[Describe lo que ves y observas en la información general y en la muestra de datos impresa para el precio de datos anterior. ¿Hay algún problema (tipos de datos no adecuados, datos ausentes, etc.) que pudieran necesitar investigación y cambios adicionales? ¿Cómo se puede arreglar?]"
   ]
  },
  {
   "cell_type": "markdown",
   "metadata": {
    "id": "R3C05i1l0q03"
   },
   "source": [
    "## Corregir datos"
   ]
  },
  {
   "cell_type": "markdown",
   "metadata": {
    "id": "bIi8StZI0q03"
   },
   "source": [
    "[Corrige los problemas obvios con los datos basándote en las observaciones iniciales.]"
   ]
  },
  {
   "cell_type": "code",
   "execution_count": 5,
   "metadata": {
    "id": "Y7SVmjGn0q03"
   },
   "outputs": [
    {
     "name": "stdout",
     "output_type": "stream",
     "text": [
      "messages_included        0\n",
      "mb_per_month_included    0\n",
      "minutes_included         0\n",
      "usd_monthly_pay          0\n",
      "usd_per_gb               0\n",
      "usd_per_message          0\n",
      "usd_per_minute           0\n",
      "plan_name                0\n",
      "dtype: int64\n",
      "\n"
     ]
    },
    {
     "data": {
      "text/plain": [
       "0"
      ]
     },
     "execution_count": 5,
     "metadata": {},
     "output_type": "execute_result"
    }
   ],
   "source": [
    "print(df_plans.isna().sum())\n",
    "print()\n",
    "df_plans.duplicated().sum()"
   ]
  },
  {
   "cell_type": "markdown",
   "metadata": {
    "id": "LJir7bml0q03"
   },
   "source": [
    "## Enriquecer los datos"
   ]
  },
  {
   "cell_type": "markdown",
   "metadata": {
    "id": "eqADpCfg0q04"
   },
   "source": [
    "[Agrega factores adicionales a los datos si crees que pudieran ser útiles.]"
   ]
  },
  {
   "cell_type": "markdown",
   "metadata": {
    "id": "1n2X6WXf0q04"
   },
   "source": [
    "## Usuarios/as"
   ]
  },
  {
   "cell_type": "code",
   "execution_count": 6,
   "metadata": {
    "id": "2NgjWFqx0q05"
   },
   "outputs": [
    {
     "name": "stdout",
     "output_type": "stream",
     "text": [
      "<class 'pandas.core.frame.DataFrame'>\n",
      "RangeIndex: 500 entries, 0 to 499\n",
      "Data columns (total 8 columns):\n",
      " #   Column      Non-Null Count  Dtype \n",
      "---  ------      --------------  ----- \n",
      " 0   user_id     500 non-null    int64 \n",
      " 1   first_name  500 non-null    object\n",
      " 2   last_name   500 non-null    object\n",
      " 3   age         500 non-null    int64 \n",
      " 4   city        500 non-null    object\n",
      " 5   reg_date    500 non-null    object\n",
      " 6   plan        500 non-null    object\n",
      " 7   churn_date  34 non-null     object\n",
      "dtypes: int64(2), object(6)\n",
      "memory usage: 31.4+ KB\n"
     ]
    }
   ],
   "source": [
    "df_users.info() # Imprime la información general/resumida sobre el DataFrame de usuarios\n",
    "\n"
   ]
  },
  {
   "cell_type": "code",
   "execution_count": 7,
   "metadata": {
    "id": "1IN1L9uh0q05"
   },
   "outputs": [
    {
     "data": {
      "text/html": [
       "<div>\n",
       "<style scoped>\n",
       "    .dataframe tbody tr th:only-of-type {\n",
       "        vertical-align: middle;\n",
       "    }\n",
       "\n",
       "    .dataframe tbody tr th {\n",
       "        vertical-align: top;\n",
       "    }\n",
       "\n",
       "    .dataframe thead th {\n",
       "        text-align: right;\n",
       "    }\n",
       "</style>\n",
       "<table border=\"1\" class=\"dataframe\">\n",
       "  <thead>\n",
       "    <tr style=\"text-align: right;\">\n",
       "      <th></th>\n",
       "      <th>user_id</th>\n",
       "      <th>first_name</th>\n",
       "      <th>last_name</th>\n",
       "      <th>age</th>\n",
       "      <th>city</th>\n",
       "      <th>reg_date</th>\n",
       "      <th>plan</th>\n",
       "      <th>churn_date</th>\n",
       "    </tr>\n",
       "  </thead>\n",
       "  <tbody>\n",
       "    <tr>\n",
       "      <th>0</th>\n",
       "      <td>1000</td>\n",
       "      <td>Anamaria</td>\n",
       "      <td>Bauer</td>\n",
       "      <td>45</td>\n",
       "      <td>Atlanta-Sandy Springs-Roswell, GA MSA</td>\n",
       "      <td>2018-12-24</td>\n",
       "      <td>ultimate</td>\n",
       "      <td>NaN</td>\n",
       "    </tr>\n",
       "    <tr>\n",
       "      <th>1</th>\n",
       "      <td>1001</td>\n",
       "      <td>Mickey</td>\n",
       "      <td>Wilkerson</td>\n",
       "      <td>28</td>\n",
       "      <td>Seattle-Tacoma-Bellevue, WA MSA</td>\n",
       "      <td>2018-08-13</td>\n",
       "      <td>surf</td>\n",
       "      <td>NaN</td>\n",
       "    </tr>\n",
       "    <tr>\n",
       "      <th>2</th>\n",
       "      <td>1002</td>\n",
       "      <td>Carlee</td>\n",
       "      <td>Hoffman</td>\n",
       "      <td>36</td>\n",
       "      <td>Las Vegas-Henderson-Paradise, NV MSA</td>\n",
       "      <td>2018-10-21</td>\n",
       "      <td>surf</td>\n",
       "      <td>NaN</td>\n",
       "    </tr>\n",
       "    <tr>\n",
       "      <th>3</th>\n",
       "      <td>1003</td>\n",
       "      <td>Reynaldo</td>\n",
       "      <td>Jenkins</td>\n",
       "      <td>52</td>\n",
       "      <td>Tulsa, OK MSA</td>\n",
       "      <td>2018-01-28</td>\n",
       "      <td>surf</td>\n",
       "      <td>NaN</td>\n",
       "    </tr>\n",
       "    <tr>\n",
       "      <th>4</th>\n",
       "      <td>1004</td>\n",
       "      <td>Leonila</td>\n",
       "      <td>Thompson</td>\n",
       "      <td>40</td>\n",
       "      <td>Seattle-Tacoma-Bellevue, WA MSA</td>\n",
       "      <td>2018-05-23</td>\n",
       "      <td>surf</td>\n",
       "      <td>NaN</td>\n",
       "    </tr>\n",
       "    <tr>\n",
       "      <th>5</th>\n",
       "      <td>1005</td>\n",
       "      <td>Livia</td>\n",
       "      <td>Shields</td>\n",
       "      <td>31</td>\n",
       "      <td>Dallas-Fort Worth-Arlington, TX MSA</td>\n",
       "      <td>2018-11-29</td>\n",
       "      <td>surf</td>\n",
       "      <td>NaN</td>\n",
       "    </tr>\n",
       "    <tr>\n",
       "      <th>6</th>\n",
       "      <td>1006</td>\n",
       "      <td>Jesusa</td>\n",
       "      <td>Bradford</td>\n",
       "      <td>73</td>\n",
       "      <td>San Francisco-Oakland-Berkeley, CA MSA</td>\n",
       "      <td>2018-11-27</td>\n",
       "      <td>ultimate</td>\n",
       "      <td>2018-12-18</td>\n",
       "    </tr>\n",
       "    <tr>\n",
       "      <th>7</th>\n",
       "      <td>1007</td>\n",
       "      <td>Eusebio</td>\n",
       "      <td>Welch</td>\n",
       "      <td>42</td>\n",
       "      <td>Grand Rapids-Kentwood, MI MSA</td>\n",
       "      <td>2018-07-11</td>\n",
       "      <td>surf</td>\n",
       "      <td>NaN</td>\n",
       "    </tr>\n",
       "    <tr>\n",
       "      <th>8</th>\n",
       "      <td>1008</td>\n",
       "      <td>Emely</td>\n",
       "      <td>Hoffman</td>\n",
       "      <td>53</td>\n",
       "      <td>Orlando-Kissimmee-Sanford, FL MSA</td>\n",
       "      <td>2018-08-03</td>\n",
       "      <td>ultimate</td>\n",
       "      <td>NaN</td>\n",
       "    </tr>\n",
       "    <tr>\n",
       "      <th>9</th>\n",
       "      <td>1009</td>\n",
       "      <td>Gerry</td>\n",
       "      <td>Little</td>\n",
       "      <td>19</td>\n",
       "      <td>San Jose-Sunnyvale-Santa Clara, CA MSA</td>\n",
       "      <td>2018-04-22</td>\n",
       "      <td>surf</td>\n",
       "      <td>NaN</td>\n",
       "    </tr>\n",
       "    <tr>\n",
       "      <th>10</th>\n",
       "      <td>1010</td>\n",
       "      <td>Wilber</td>\n",
       "      <td>Blair</td>\n",
       "      <td>52</td>\n",
       "      <td>Dallas-Fort Worth-Arlington, TX MSA</td>\n",
       "      <td>2018-03-09</td>\n",
       "      <td>surf</td>\n",
       "      <td>NaN</td>\n",
       "    </tr>\n",
       "    <tr>\n",
       "      <th>11</th>\n",
       "      <td>1011</td>\n",
       "      <td>Halina</td>\n",
       "      <td>Henry</td>\n",
       "      <td>73</td>\n",
       "      <td>Cleveland-Elyria, OH MSA</td>\n",
       "      <td>2018-01-18</td>\n",
       "      <td>ultimate</td>\n",
       "      <td>NaN</td>\n",
       "    </tr>\n",
       "    <tr>\n",
       "      <th>12</th>\n",
       "      <td>1012</td>\n",
       "      <td>Jonelle</td>\n",
       "      <td>Mcbride</td>\n",
       "      <td>59</td>\n",
       "      <td>Chicago-Naperville-Elgin, IL-IN-WI MSA</td>\n",
       "      <td>2018-06-28</td>\n",
       "      <td>surf</td>\n",
       "      <td>2018-11-16</td>\n",
       "    </tr>\n",
       "    <tr>\n",
       "      <th>13</th>\n",
       "      <td>1013</td>\n",
       "      <td>Nicolas</td>\n",
       "      <td>Snider</td>\n",
       "      <td>50</td>\n",
       "      <td>Knoxville, TN MSA</td>\n",
       "      <td>2018-12-01</td>\n",
       "      <td>ultimate</td>\n",
       "      <td>NaN</td>\n",
       "    </tr>\n",
       "    <tr>\n",
       "      <th>14</th>\n",
       "      <td>1014</td>\n",
       "      <td>Edmundo</td>\n",
       "      <td>Simon</td>\n",
       "      <td>61</td>\n",
       "      <td>New York-Newark-Jersey City, NY-NJ-PA MSA</td>\n",
       "      <td>2018-11-25</td>\n",
       "      <td>surf</td>\n",
       "      <td>NaN</td>\n",
       "    </tr>\n",
       "    <tr>\n",
       "      <th>15</th>\n",
       "      <td>1015</td>\n",
       "      <td>Beata</td>\n",
       "      <td>Carpenter</td>\n",
       "      <td>26</td>\n",
       "      <td>Pittsburgh, PA MSA</td>\n",
       "      <td>2018-12-05</td>\n",
       "      <td>surf</td>\n",
       "      <td>NaN</td>\n",
       "    </tr>\n",
       "    <tr>\n",
       "      <th>16</th>\n",
       "      <td>1016</td>\n",
       "      <td>Jann</td>\n",
       "      <td>Salinas</td>\n",
       "      <td>30</td>\n",
       "      <td>Fresno, CA MSA</td>\n",
       "      <td>2018-10-25</td>\n",
       "      <td>surf</td>\n",
       "      <td>NaN</td>\n",
       "    </tr>\n",
       "    <tr>\n",
       "      <th>17</th>\n",
       "      <td>1017</td>\n",
       "      <td>Boris</td>\n",
       "      <td>Gates</td>\n",
       "      <td>61</td>\n",
       "      <td>Washington-Arlington-Alexandria, DC-VA-MD-WV MSA</td>\n",
       "      <td>2018-08-26</td>\n",
       "      <td>surf</td>\n",
       "      <td>NaN</td>\n",
       "    </tr>\n",
       "    <tr>\n",
       "      <th>18</th>\n",
       "      <td>1018</td>\n",
       "      <td>Dennis</td>\n",
       "      <td>Grimes</td>\n",
       "      <td>70</td>\n",
       "      <td>Indianapolis-Carmel-Anderson, IN MSA</td>\n",
       "      <td>2018-10-17</td>\n",
       "      <td>surf</td>\n",
       "      <td>NaN</td>\n",
       "    </tr>\n",
       "    <tr>\n",
       "      <th>19</th>\n",
       "      <td>1019</td>\n",
       "      <td>Shizue</td>\n",
       "      <td>Landry</td>\n",
       "      <td>34</td>\n",
       "      <td>Jacksonville, FL MSA</td>\n",
       "      <td>2018-01-16</td>\n",
       "      <td>surf</td>\n",
       "      <td>NaN</td>\n",
       "    </tr>\n",
       "  </tbody>\n",
       "</table>\n",
       "</div>"
      ],
      "text/plain": [
       "    user_id first_name  last_name  age  \\\n",
       "0      1000   Anamaria      Bauer   45   \n",
       "1      1001     Mickey  Wilkerson   28   \n",
       "2      1002     Carlee    Hoffman   36   \n",
       "3      1003   Reynaldo    Jenkins   52   \n",
       "4      1004    Leonila   Thompson   40   \n",
       "5      1005      Livia    Shields   31   \n",
       "6      1006     Jesusa   Bradford   73   \n",
       "7      1007    Eusebio      Welch   42   \n",
       "8      1008      Emely    Hoffman   53   \n",
       "9      1009      Gerry     Little   19   \n",
       "10     1010     Wilber      Blair   52   \n",
       "11     1011     Halina      Henry   73   \n",
       "12     1012    Jonelle    Mcbride   59   \n",
       "13     1013    Nicolas     Snider   50   \n",
       "14     1014    Edmundo      Simon   61   \n",
       "15     1015      Beata  Carpenter   26   \n",
       "16     1016       Jann    Salinas   30   \n",
       "17     1017      Boris      Gates   61   \n",
       "18     1018     Dennis     Grimes   70   \n",
       "19     1019     Shizue     Landry   34   \n",
       "\n",
       "                                                city    reg_date      plan  \\\n",
       "0              Atlanta-Sandy Springs-Roswell, GA MSA  2018-12-24  ultimate   \n",
       "1                    Seattle-Tacoma-Bellevue, WA MSA  2018-08-13      surf   \n",
       "2               Las Vegas-Henderson-Paradise, NV MSA  2018-10-21      surf   \n",
       "3                                      Tulsa, OK MSA  2018-01-28      surf   \n",
       "4                    Seattle-Tacoma-Bellevue, WA MSA  2018-05-23      surf   \n",
       "5                Dallas-Fort Worth-Arlington, TX MSA  2018-11-29      surf   \n",
       "6             San Francisco-Oakland-Berkeley, CA MSA  2018-11-27  ultimate   \n",
       "7                      Grand Rapids-Kentwood, MI MSA  2018-07-11      surf   \n",
       "8                  Orlando-Kissimmee-Sanford, FL MSA  2018-08-03  ultimate   \n",
       "9             San Jose-Sunnyvale-Santa Clara, CA MSA  2018-04-22      surf   \n",
       "10               Dallas-Fort Worth-Arlington, TX MSA  2018-03-09      surf   \n",
       "11                          Cleveland-Elyria, OH MSA  2018-01-18  ultimate   \n",
       "12            Chicago-Naperville-Elgin, IL-IN-WI MSA  2018-06-28      surf   \n",
       "13                                 Knoxville, TN MSA  2018-12-01  ultimate   \n",
       "14         New York-Newark-Jersey City, NY-NJ-PA MSA  2018-11-25      surf   \n",
       "15                                Pittsburgh, PA MSA  2018-12-05      surf   \n",
       "16                                    Fresno, CA MSA  2018-10-25      surf   \n",
       "17  Washington-Arlington-Alexandria, DC-VA-MD-WV MSA  2018-08-26      surf   \n",
       "18              Indianapolis-Carmel-Anderson, IN MSA  2018-10-17      surf   \n",
       "19                              Jacksonville, FL MSA  2018-01-16      surf   \n",
       "\n",
       "    churn_date  \n",
       "0          NaN  \n",
       "1          NaN  \n",
       "2          NaN  \n",
       "3          NaN  \n",
       "4          NaN  \n",
       "5          NaN  \n",
       "6   2018-12-18  \n",
       "7          NaN  \n",
       "8          NaN  \n",
       "9          NaN  \n",
       "10         NaN  \n",
       "11         NaN  \n",
       "12  2018-11-16  \n",
       "13         NaN  \n",
       "14         NaN  \n",
       "15         NaN  \n",
       "16         NaN  \n",
       "17         NaN  \n",
       "18         NaN  \n",
       "19         NaN  "
      ]
     },
     "execution_count": 7,
     "metadata": {},
     "output_type": "execute_result"
    }
   ],
   "source": [
    "df_users.head(20) # Imprime una muestra de datos para usuarios\n",
    "\n"
   ]
  },
  {
   "cell_type": "markdown",
   "metadata": {
    "id": "dCZoUq4f0q06"
   },
   "source": [
    "[Describe lo que ves y observas en la información general y en la muestra de datos impresa para el precio de datos anterior. ¿Hay algún problema (tipos de datos no adecuados, datos ausentes, etc.) que pudieran necesitar investigación y cambios adicionales? ¿Cómo se puede arreglar?]"
   ]
  },
  {
   "cell_type": "markdown",
   "metadata": {
    "id": "BX5FQh_I0q06"
   },
   "source": [
    "### Corregir los datos"
   ]
  },
  {
   "cell_type": "markdown",
   "metadata": {
    "id": "8OdKMwJv0q06"
   },
   "source": [
    "[Corrige los problemas obvios con los datos basándote en las observaciones iniciales.]"
   ]
  },
  {
   "cell_type": "code",
   "execution_count": 8,
   "metadata": {
    "id": "yUqX-K0C0q07"
   },
   "outputs": [
    {
     "name": "stdout",
     "output_type": "stream",
     "text": [
      "user_id         0\n",
      "first_name      0\n",
      "last_name       0\n",
      "age             0\n",
      "city            0\n",
      "reg_date        0\n",
      "plan            0\n",
      "churn_date    466\n",
      "dtype: int64\n",
      "\n"
     ]
    },
    {
     "data": {
      "text/plain": [
       "0"
      ]
     },
     "execution_count": 8,
     "metadata": {},
     "output_type": "execute_result"
    }
   ],
   "source": [
    "print(df_users.isna().sum())\n",
    "print()\n",
    "df_users.duplicated().sum()"
   ]
  },
  {
   "cell_type": "markdown",
   "metadata": {
    "id": "ycwuARJp0q07"
   },
   "source": [
    "### Enriquecer los datos"
   ]
  },
  {
   "cell_type": "markdown",
   "metadata": {
    "id": "96NIh4CJ0q08"
   },
   "source": [
    "[Agrega factores adicionales a los datos si crees que pudieran ser útiles.]"
   ]
  },
  {
   "cell_type": "code",
   "execution_count": 9,
   "metadata": {
    "id": "iq0AaBS90q08"
   },
   "outputs": [],
   "source": [
    "df_users['reg_date']= pd.to_datetime(df_users['reg_date'], format= '%Y-%m-%d')\n",
    "df_users['reg_month']= df_users['reg_date'].dt.month\n",
    "df_users['churn_date']= pd.to_datetime(df_users['churn_date'], format= '%Y-%m-%d')\n",
    "df_users['churn_month']= df_users['churn_date'].dt.month\n"
   ]
  },
  {
   "cell_type": "code",
   "execution_count": 10,
   "metadata": {},
   "outputs": [
    {
     "name": "stdout",
     "output_type": "stream",
     "text": [
      "<class 'pandas.core.frame.DataFrame'>\n",
      "RangeIndex: 500 entries, 0 to 499\n",
      "Data columns (total 10 columns):\n",
      " #   Column       Non-Null Count  Dtype         \n",
      "---  ------       --------------  -----         \n",
      " 0   user_id      500 non-null    int64         \n",
      " 1   first_name   500 non-null    object        \n",
      " 2   last_name    500 non-null    object        \n",
      " 3   age          500 non-null    int64         \n",
      " 4   city         500 non-null    object        \n",
      " 5   reg_date     500 non-null    datetime64[ns]\n",
      " 6   plan         500 non-null    object        \n",
      " 7   churn_date   34 non-null     datetime64[ns]\n",
      " 8   reg_month    500 non-null    int64         \n",
      " 9   churn_month  34 non-null     float64       \n",
      "dtypes: datetime64[ns](2), float64(1), int64(3), object(4)\n",
      "memory usage: 39.2+ KB\n"
     ]
    }
   ],
   "source": [
    "df_users.info()"
   ]
  },
  {
   "cell_type": "code",
   "execution_count": 11,
   "metadata": {},
   "outputs": [],
   "source": [
    "df_users.rename(columns= {'plan':'plan_name'}, inplace = True)"
   ]
  },
  {
   "cell_type": "markdown",
   "metadata": {
    "id": "o7MeKCid0q08"
   },
   "source": [
    "## Llamadas"
   ]
  },
  {
   "cell_type": "code",
   "execution_count": 12,
   "metadata": {
    "id": "6dDlnoDm0q08"
   },
   "outputs": [
    {
     "name": "stdout",
     "output_type": "stream",
     "text": [
      "<class 'pandas.core.frame.DataFrame'>\n",
      "RangeIndex: 137735 entries, 0 to 137734\n",
      "Data columns (total 4 columns):\n",
      " #   Column     Non-Null Count   Dtype  \n",
      "---  ------     --------------   -----  \n",
      " 0   id         137735 non-null  object \n",
      " 1   user_id    137735 non-null  int64  \n",
      " 2   call_date  137735 non-null  object \n",
      " 3   duration   137735 non-null  float64\n",
      "dtypes: float64(1), int64(1), object(2)\n",
      "memory usage: 4.2+ MB\n"
     ]
    }
   ],
   "source": [
    " df_calls.info()\n",
    "\n",
    " # Imprime la información general/resumida sobre el DataFrame de las llamadas\n",
    "\n"
   ]
  },
  {
   "cell_type": "code",
   "execution_count": 13,
   "metadata": {
    "id": "kuh1vlNB0q09"
   },
   "outputs": [
    {
     "name": "stdout",
     "output_type": "stream",
     "text": [
      "         id  user_id   call_date  duration\n",
      "0   1000_93     1000  2018-12-27      8.52\n",
      "1  1000_145     1000  2018-12-27     13.66\n",
      "2  1000_247     1000  2018-12-27     14.48\n",
      "3  1000_309     1000  2018-12-28      5.76\n",
      "4  1000_380     1000  2018-12-30      4.22\n"
     ]
    },
    {
     "data": {
      "text/html": [
       "<div>\n",
       "<style scoped>\n",
       "    .dataframe tbody tr th:only-of-type {\n",
       "        vertical-align: middle;\n",
       "    }\n",
       "\n",
       "    .dataframe tbody tr th {\n",
       "        vertical-align: top;\n",
       "    }\n",
       "\n",
       "    .dataframe thead th {\n",
       "        text-align: right;\n",
       "    }\n",
       "</style>\n",
       "<table border=\"1\" class=\"dataframe\">\n",
       "  <thead>\n",
       "    <tr style=\"text-align: right;\">\n",
       "      <th></th>\n",
       "      <th>user_id</th>\n",
       "      <th>duration</th>\n",
       "    </tr>\n",
       "  </thead>\n",
       "  <tbody>\n",
       "    <tr>\n",
       "      <th>count</th>\n",
       "      <td>137735.000000</td>\n",
       "      <td>137735.000000</td>\n",
       "    </tr>\n",
       "    <tr>\n",
       "      <th>mean</th>\n",
       "      <td>1247.658046</td>\n",
       "      <td>6.745927</td>\n",
       "    </tr>\n",
       "    <tr>\n",
       "      <th>std</th>\n",
       "      <td>139.416268</td>\n",
       "      <td>5.839241</td>\n",
       "    </tr>\n",
       "    <tr>\n",
       "      <th>min</th>\n",
       "      <td>1000.000000</td>\n",
       "      <td>0.000000</td>\n",
       "    </tr>\n",
       "    <tr>\n",
       "      <th>25%</th>\n",
       "      <td>1128.000000</td>\n",
       "      <td>1.290000</td>\n",
       "    </tr>\n",
       "    <tr>\n",
       "      <th>50%</th>\n",
       "      <td>1247.000000</td>\n",
       "      <td>5.980000</td>\n",
       "    </tr>\n",
       "    <tr>\n",
       "      <th>75%</th>\n",
       "      <td>1365.000000</td>\n",
       "      <td>10.690000</td>\n",
       "    </tr>\n",
       "    <tr>\n",
       "      <th>max</th>\n",
       "      <td>1499.000000</td>\n",
       "      <td>37.600000</td>\n",
       "    </tr>\n",
       "  </tbody>\n",
       "</table>\n",
       "</div>"
      ],
      "text/plain": [
       "             user_id       duration\n",
       "count  137735.000000  137735.000000\n",
       "mean     1247.658046       6.745927\n",
       "std       139.416268       5.839241\n",
       "min      1000.000000       0.000000\n",
       "25%      1128.000000       1.290000\n",
       "50%      1247.000000       5.980000\n",
       "75%      1365.000000      10.690000\n",
       "max      1499.000000      37.600000"
      ]
     },
     "execution_count": 13,
     "metadata": {},
     "output_type": "execute_result"
    }
   ],
   "source": [
    "print(df_calls.head()) # Imprime una muestra de datos para las llamadas\n",
    "\n",
    "df_calls.describe()"
   ]
  },
  {
   "cell_type": "markdown",
   "metadata": {
    "id": "DOAxYJSx0q09"
   },
   "source": [
    "[Describe lo que ves y observas en la información general y en la muestra de datos impresa para el precio de datos anterior. ¿Hay algún problema (tipos de datos no adecuados, datos ausentes, etc.) que pudieran necesitar investigación y cambios adicionales? ¿Cómo se puede arreglar?]"
   ]
  },
  {
   "cell_type": "markdown",
   "metadata": {
    "id": "S7hzxmbX0q0-"
   },
   "source": [
    "### Corregir los datos"
   ]
  },
  {
   "cell_type": "markdown",
   "metadata": {
    "id": "YxWyAjD20q0-"
   },
   "source": [
    "[Corrige los problemas obvios con los datos basándote en las observaciones iniciales.]"
   ]
  },
  {
   "cell_type": "code",
   "execution_count": 14,
   "metadata": {
    "id": "S2r8xA4f0q0-"
   },
   "outputs": [
    {
     "name": "stdout",
     "output_type": "stream",
     "text": [
      "id           0\n",
      "user_id      0\n",
      "call_date    0\n",
      "duration     0\n",
      "dtype: int64\n",
      "\n",
      "0\n",
      "\n",
      "object\n"
     ]
    }
   ],
   "source": [
    "print(df_calls.isna().sum())\n",
    "print()\n",
    "print(df_calls.duplicated().sum())\n",
    "print()\n",
    "print(df_calls['call_date'].dtype)"
   ]
  },
  {
   "cell_type": "markdown",
   "metadata": {
    "id": "KrMgTrlG0q0_"
   },
   "source": [
    "### Enriquecer los datos"
   ]
  },
  {
   "cell_type": "markdown",
   "metadata": {
    "id": "a9MbmEvE0q0_"
   },
   "source": [
    "[Agrega factores adicionales a los datos si crees que pudieran ser útiles.]"
   ]
  },
  {
   "cell_type": "code",
   "execution_count": 15,
   "metadata": {
    "id": "iZ1avpA_0q0_"
   },
   "outputs": [],
   "source": [
    "\n",
    "df_calls['call_date']= pd.to_datetime(df_calls['call_date'], format= '%Y-%m-%d')\n",
    "df_calls['month']= df_calls['call_date'].dt.month\n"
   ]
  },
  {
   "cell_type": "code",
   "execution_count": 16,
   "metadata": {},
   "outputs": [],
   "source": [
    "df_calls.rename(columns= {'id':'call_id'}, inplace = True)"
   ]
  },
  {
   "cell_type": "markdown",
   "metadata": {
    "id": "mOUZSi180q0_"
   },
   "source": [
    "## Mensajes"
   ]
  },
  {
   "cell_type": "code",
   "execution_count": 17,
   "metadata": {
    "id": "R-bYJpdV0q1A"
   },
   "outputs": [
    {
     "name": "stdout",
     "output_type": "stream",
     "text": [
      "<class 'pandas.core.frame.DataFrame'>\n",
      "RangeIndex: 76051 entries, 0 to 76050\n",
      "Data columns (total 3 columns):\n",
      " #   Column        Non-Null Count  Dtype \n",
      "---  ------        --------------  ----- \n",
      " 0   id            76051 non-null  object\n",
      " 1   user_id       76051 non-null  int64 \n",
      " 2   message_date  76051 non-null  object\n",
      "dtypes: int64(1), object(2)\n",
      "memory usage: 1.7+ MB\n",
      "None\n"
     ]
    },
    {
     "data": {
      "text/html": [
       "<div>\n",
       "<style scoped>\n",
       "    .dataframe tbody tr th:only-of-type {\n",
       "        vertical-align: middle;\n",
       "    }\n",
       "\n",
       "    .dataframe tbody tr th {\n",
       "        vertical-align: top;\n",
       "    }\n",
       "\n",
       "    .dataframe thead th {\n",
       "        text-align: right;\n",
       "    }\n",
       "</style>\n",
       "<table border=\"1\" class=\"dataframe\">\n",
       "  <thead>\n",
       "    <tr style=\"text-align: right;\">\n",
       "      <th></th>\n",
       "      <th>user_id</th>\n",
       "    </tr>\n",
       "  </thead>\n",
       "  <tbody>\n",
       "    <tr>\n",
       "      <th>count</th>\n",
       "      <td>76051.000000</td>\n",
       "    </tr>\n",
       "    <tr>\n",
       "      <th>mean</th>\n",
       "      <td>1245.972768</td>\n",
       "    </tr>\n",
       "    <tr>\n",
       "      <th>std</th>\n",
       "      <td>139.843635</td>\n",
       "    </tr>\n",
       "    <tr>\n",
       "      <th>min</th>\n",
       "      <td>1000.000000</td>\n",
       "    </tr>\n",
       "    <tr>\n",
       "      <th>25%</th>\n",
       "      <td>1123.000000</td>\n",
       "    </tr>\n",
       "    <tr>\n",
       "      <th>50%</th>\n",
       "      <td>1251.000000</td>\n",
       "    </tr>\n",
       "    <tr>\n",
       "      <th>75%</th>\n",
       "      <td>1362.000000</td>\n",
       "    </tr>\n",
       "    <tr>\n",
       "      <th>max</th>\n",
       "      <td>1497.000000</td>\n",
       "    </tr>\n",
       "  </tbody>\n",
       "</table>\n",
       "</div>"
      ],
      "text/plain": [
       "            user_id\n",
       "count  76051.000000\n",
       "mean    1245.972768\n",
       "std      139.843635\n",
       "min     1000.000000\n",
       "25%     1123.000000\n",
       "50%     1251.000000\n",
       "75%     1362.000000\n",
       "max     1497.000000"
      ]
     },
     "execution_count": 17,
     "metadata": {},
     "output_type": "execute_result"
    }
   ],
   "source": [
    "print(df_messages.info())\n",
    "# Imprime la información general/resumida sobre el DataFrame de los mensajes\n",
    "df_messages.describe()\n"
   ]
  },
  {
   "cell_type": "code",
   "execution_count": 18,
   "metadata": {
    "id": "mCEl2iGE0q1A"
   },
   "outputs": [
    {
     "data": {
      "text/html": [
       "<div>\n",
       "<style scoped>\n",
       "    .dataframe tbody tr th:only-of-type {\n",
       "        vertical-align: middle;\n",
       "    }\n",
       "\n",
       "    .dataframe tbody tr th {\n",
       "        vertical-align: top;\n",
       "    }\n",
       "\n",
       "    .dataframe thead th {\n",
       "        text-align: right;\n",
       "    }\n",
       "</style>\n",
       "<table border=\"1\" class=\"dataframe\">\n",
       "  <thead>\n",
       "    <tr style=\"text-align: right;\">\n",
       "      <th></th>\n",
       "      <th>id</th>\n",
       "      <th>user_id</th>\n",
       "      <th>message_date</th>\n",
       "    </tr>\n",
       "  </thead>\n",
       "  <tbody>\n",
       "    <tr>\n",
       "      <th>0</th>\n",
       "      <td>1000_125</td>\n",
       "      <td>1000</td>\n",
       "      <td>2018-12-27</td>\n",
       "    </tr>\n",
       "    <tr>\n",
       "      <th>1</th>\n",
       "      <td>1000_160</td>\n",
       "      <td>1000</td>\n",
       "      <td>2018-12-31</td>\n",
       "    </tr>\n",
       "    <tr>\n",
       "      <th>2</th>\n",
       "      <td>1000_223</td>\n",
       "      <td>1000</td>\n",
       "      <td>2018-12-31</td>\n",
       "    </tr>\n",
       "    <tr>\n",
       "      <th>3</th>\n",
       "      <td>1000_251</td>\n",
       "      <td>1000</td>\n",
       "      <td>2018-12-27</td>\n",
       "    </tr>\n",
       "    <tr>\n",
       "      <th>4</th>\n",
       "      <td>1000_255</td>\n",
       "      <td>1000</td>\n",
       "      <td>2018-12-26</td>\n",
       "    </tr>\n",
       "  </tbody>\n",
       "</table>\n",
       "</div>"
      ],
      "text/plain": [
       "         id  user_id message_date\n",
       "0  1000_125     1000   2018-12-27\n",
       "1  1000_160     1000   2018-12-31\n",
       "2  1000_223     1000   2018-12-31\n",
       "3  1000_251     1000   2018-12-27\n",
       "4  1000_255     1000   2018-12-26"
      ]
     },
     "execution_count": 18,
     "metadata": {},
     "output_type": "execute_result"
    }
   ],
   "source": [
    "df_messages.head() # Imprime una muestra de datos para los mensajes\n",
    "\n"
   ]
  },
  {
   "cell_type": "markdown",
   "metadata": {
    "id": "04xDj7KH0q1A"
   },
   "source": [
    "[Describe lo que ves y observas en la información general y en la muestra de datos impresa para el precio de datos anterior. ¿Hay algún problema (tipos de datos no adecuados, datos ausentes, etc.) que pudieran necesitar investigación y cambios adicionales? ¿Cómo se puede arreglar?]"
   ]
  },
  {
   "cell_type": "markdown",
   "metadata": {
    "id": "Sprfak900q1B"
   },
   "source": [
    "### Corregir los datos"
   ]
  },
  {
   "cell_type": "markdown",
   "metadata": {
    "id": "eGw7d9j10q1B"
   },
   "source": [
    "[Corrige los problemas obvios con los datos basándote en las observaciones iniciales.]"
   ]
  },
  {
   "cell_type": "code",
   "execution_count": 19,
   "metadata": {
    "id": "vsllvkoa0q1B"
   },
   "outputs": [
    {
     "name": "stdout",
     "output_type": "stream",
     "text": [
      "id              0\n",
      "user_id         0\n",
      "message_date    0\n",
      "dtype: int64\n",
      "\n"
     ]
    },
    {
     "data": {
      "text/plain": [
       "0"
      ]
     },
     "execution_count": 19,
     "metadata": {},
     "output_type": "execute_result"
    }
   ],
   "source": [
    "print(df_messages.isna().sum())\n",
    "print()\n",
    "df_messages.duplicated().sum()"
   ]
  },
  {
   "cell_type": "markdown",
   "metadata": {
    "id": "HvLid7iD0q1B"
   },
   "source": [
    "### Enriquecer los datos"
   ]
  },
  {
   "cell_type": "markdown",
   "metadata": {
    "id": "8nhPFKIe0q1C"
   },
   "source": [
    "[Agrega factores adicionales a los datos si crees que pudieran ser útiles.]"
   ]
  },
  {
   "cell_type": "code",
   "execution_count": 20,
   "metadata": {
    "id": "zYEXZac10q1C"
   },
   "outputs": [],
   "source": [
    "df_messages['message_date']= pd.to_datetime(df_messages['message_date'], format= '%Y-%m-%d')\n",
    "df_messages['month']= df_messages['message_date'].dt.month"
   ]
  },
  {
   "cell_type": "code",
   "execution_count": 21,
   "metadata": {},
   "outputs": [],
   "source": [
    "df_messages.rename(columns= {'id':'message_id'}, inplace = True)"
   ]
  },
  {
   "cell_type": "markdown",
   "metadata": {
    "id": "bStkaxn40q1C"
   },
   "source": [
    "## Internet"
   ]
  },
  {
   "cell_type": "code",
   "execution_count": 22,
   "metadata": {
    "id": "e-Uz5qyn0q1C"
   },
   "outputs": [
    {
     "name": "stdout",
     "output_type": "stream",
     "text": [
      "<class 'pandas.core.frame.DataFrame'>\n",
      "RangeIndex: 104825 entries, 0 to 104824\n",
      "Data columns (total 4 columns):\n",
      " #   Column        Non-Null Count   Dtype  \n",
      "---  ------        --------------   -----  \n",
      " 0   id            104825 non-null  object \n",
      " 1   user_id       104825 non-null  int64  \n",
      " 2   session_date  104825 non-null  object \n",
      " 3   mb_used       104825 non-null  float64\n",
      "dtypes: float64(1), int64(1), object(2)\n",
      "memory usage: 3.2+ MB\n",
      "None\n"
     ]
    },
    {
     "data": {
      "text/html": [
       "<div>\n",
       "<style scoped>\n",
       "    .dataframe tbody tr th:only-of-type {\n",
       "        vertical-align: middle;\n",
       "    }\n",
       "\n",
       "    .dataframe tbody tr th {\n",
       "        vertical-align: top;\n",
       "    }\n",
       "\n",
       "    .dataframe thead th {\n",
       "        text-align: right;\n",
       "    }\n",
       "</style>\n",
       "<table border=\"1\" class=\"dataframe\">\n",
       "  <thead>\n",
       "    <tr style=\"text-align: right;\">\n",
       "      <th></th>\n",
       "      <th>user_id</th>\n",
       "      <th>mb_used</th>\n",
       "    </tr>\n",
       "  </thead>\n",
       "  <tbody>\n",
       "    <tr>\n",
       "      <th>count</th>\n",
       "      <td>104825.000000</td>\n",
       "      <td>104825.000000</td>\n",
       "    </tr>\n",
       "    <tr>\n",
       "      <th>mean</th>\n",
       "      <td>1242.496361</td>\n",
       "      <td>366.713701</td>\n",
       "    </tr>\n",
       "    <tr>\n",
       "      <th>std</th>\n",
       "      <td>142.053913</td>\n",
       "      <td>277.170542</td>\n",
       "    </tr>\n",
       "    <tr>\n",
       "      <th>min</th>\n",
       "      <td>1000.000000</td>\n",
       "      <td>0.000000</td>\n",
       "    </tr>\n",
       "    <tr>\n",
       "      <th>25%</th>\n",
       "      <td>1122.000000</td>\n",
       "      <td>136.080000</td>\n",
       "    </tr>\n",
       "    <tr>\n",
       "      <th>50%</th>\n",
       "      <td>1236.000000</td>\n",
       "      <td>343.980000</td>\n",
       "    </tr>\n",
       "    <tr>\n",
       "      <th>75%</th>\n",
       "      <td>1367.000000</td>\n",
       "      <td>554.610000</td>\n",
       "    </tr>\n",
       "    <tr>\n",
       "      <th>max</th>\n",
       "      <td>1499.000000</td>\n",
       "      <td>1693.470000</td>\n",
       "    </tr>\n",
       "  </tbody>\n",
       "</table>\n",
       "</div>"
      ],
      "text/plain": [
       "             user_id        mb_used\n",
       "count  104825.000000  104825.000000\n",
       "mean     1242.496361     366.713701\n",
       "std       142.053913     277.170542\n",
       "min      1000.000000       0.000000\n",
       "25%      1122.000000     136.080000\n",
       "50%      1236.000000     343.980000\n",
       "75%      1367.000000     554.610000\n",
       "max      1499.000000    1693.470000"
      ]
     },
     "execution_count": 22,
     "metadata": {},
     "output_type": "execute_result"
    }
   ],
   "source": [
    "print(df_internet.info()) # Imprime la información general/resumida sobre el DataFrame de internet\n",
    "df_internet.describe()"
   ]
  },
  {
   "cell_type": "code",
   "execution_count": 23,
   "metadata": {
    "id": "9r3x_XLw0q1C"
   },
   "outputs": [
    {
     "data": {
      "text/html": [
       "<div>\n",
       "<style scoped>\n",
       "    .dataframe tbody tr th:only-of-type {\n",
       "        vertical-align: middle;\n",
       "    }\n",
       "\n",
       "    .dataframe tbody tr th {\n",
       "        vertical-align: top;\n",
       "    }\n",
       "\n",
       "    .dataframe thead th {\n",
       "        text-align: right;\n",
       "    }\n",
       "</style>\n",
       "<table border=\"1\" class=\"dataframe\">\n",
       "  <thead>\n",
       "    <tr style=\"text-align: right;\">\n",
       "      <th></th>\n",
       "      <th>id</th>\n",
       "      <th>user_id</th>\n",
       "      <th>session_date</th>\n",
       "      <th>mb_used</th>\n",
       "    </tr>\n",
       "  </thead>\n",
       "  <tbody>\n",
       "    <tr>\n",
       "      <th>0</th>\n",
       "      <td>1000_13</td>\n",
       "      <td>1000</td>\n",
       "      <td>2018-12-29</td>\n",
       "      <td>89.86</td>\n",
       "    </tr>\n",
       "    <tr>\n",
       "      <th>1</th>\n",
       "      <td>1000_204</td>\n",
       "      <td>1000</td>\n",
       "      <td>2018-12-31</td>\n",
       "      <td>0.00</td>\n",
       "    </tr>\n",
       "    <tr>\n",
       "      <th>2</th>\n",
       "      <td>1000_379</td>\n",
       "      <td>1000</td>\n",
       "      <td>2018-12-28</td>\n",
       "      <td>660.40</td>\n",
       "    </tr>\n",
       "    <tr>\n",
       "      <th>3</th>\n",
       "      <td>1000_413</td>\n",
       "      <td>1000</td>\n",
       "      <td>2018-12-26</td>\n",
       "      <td>270.99</td>\n",
       "    </tr>\n",
       "    <tr>\n",
       "      <th>4</th>\n",
       "      <td>1000_442</td>\n",
       "      <td>1000</td>\n",
       "      <td>2018-12-27</td>\n",
       "      <td>880.22</td>\n",
       "    </tr>\n",
       "  </tbody>\n",
       "</table>\n",
       "</div>"
      ],
      "text/plain": [
       "         id  user_id session_date  mb_used\n",
       "0   1000_13     1000   2018-12-29    89.86\n",
       "1  1000_204     1000   2018-12-31     0.00\n",
       "2  1000_379     1000   2018-12-28   660.40\n",
       "3  1000_413     1000   2018-12-26   270.99\n",
       "4  1000_442     1000   2018-12-27   880.22"
      ]
     },
     "execution_count": 23,
     "metadata": {},
     "output_type": "execute_result"
    }
   ],
   "source": [
    "df_internet.head() # Imprime una muestra de datos para el tráfico de internet\n",
    "\n"
   ]
  },
  {
   "cell_type": "markdown",
   "metadata": {
    "id": "EzOG5ik30q1D"
   },
   "source": [
    "[Describe lo que ves y observas en la información general y en la muestra de datos impresa para el precio de datos anterior. ¿Hay algún problema (tipos de datos no adecuados, datos ausentes, etc.) que pudieran necesitar investigación y cambios adicionales? ¿Cómo se puede arreglar?]"
   ]
  },
  {
   "cell_type": "markdown",
   "metadata": {
    "id": "yA0tkPFg0q1D"
   },
   "source": [
    "### Corregir los datos"
   ]
  },
  {
   "cell_type": "markdown",
   "metadata": {
    "id": "zlZMuIEK0q1D"
   },
   "source": [
    "[Corrige los problemas obvios con los datos basándote en las observaciones iniciales.]"
   ]
  },
  {
   "cell_type": "code",
   "execution_count": 24,
   "metadata": {
    "id": "zVeanzdd0q1E"
   },
   "outputs": [
    {
     "name": "stdout",
     "output_type": "stream",
     "text": [
      "id              0\n",
      "user_id         0\n",
      "session_date    0\n",
      "mb_used         0\n",
      "dtype: int64\n",
      "\n"
     ]
    },
    {
     "data": {
      "text/plain": [
       "0"
      ]
     },
     "execution_count": 24,
     "metadata": {},
     "output_type": "execute_result"
    }
   ],
   "source": [
    "print(df_internet.isna().sum())\n",
    "print()\n",
    "df_internet.duplicated().sum()"
   ]
  },
  {
   "cell_type": "markdown",
   "metadata": {
    "id": "e8_mLF4a0q1E"
   },
   "source": [
    "### Enriquecer los datos"
   ]
  },
  {
   "cell_type": "markdown",
   "metadata": {
    "id": "xhNdn2tE0q1E"
   },
   "source": [
    "[Agrega factores adicionales a los datos si crees que pudieran ser útiles.]"
   ]
  },
  {
   "cell_type": "code",
   "execution_count": 25,
   "metadata": {
    "id": "ESiYPIEK0q1E"
   },
   "outputs": [],
   "source": [
    "df_internet['session_date']= pd.to_datetime(df_internet['session_date'], format= '%Y-%m-%d')\n",
    "df_internet['month']= df_internet['session_date'].dt.month"
   ]
  },
  {
   "cell_type": "code",
   "execution_count": 26,
   "metadata": {},
   "outputs": [],
   "source": [
    "df_internet.rename(columns= {'id':'datos_id'}, inplace = True)"
   ]
  },
  {
   "cell_type": "markdown",
   "metadata": {
    "id": "3UA2cqIW0q1E"
   },
   "source": [
    "## Estudiar las condiciones de las tarifas"
   ]
  },
  {
   "cell_type": "markdown",
   "metadata": {
    "id": "T86Sqltq0q1F"
   },
   "source": [
    "[Es sumamente importante entender cómo funcionan las tarifas, cómo se les cobra a los usuarios en función de su plan de suscripción. Así que te sugerimos imprimir la información de la tarifa para ver una vez más sus condiciones.]"
   ]
  },
  {
   "cell_type": "code",
   "execution_count": 27,
   "metadata": {
    "id": "i409op8p0q1F"
   },
   "outputs": [
    {
     "data": {
      "text/html": [
       "<div>\n",
       "<style scoped>\n",
       "    .dataframe tbody tr th:only-of-type {\n",
       "        vertical-align: middle;\n",
       "    }\n",
       "\n",
       "    .dataframe tbody tr th {\n",
       "        vertical-align: top;\n",
       "    }\n",
       "\n",
       "    .dataframe thead th {\n",
       "        text-align: right;\n",
       "    }\n",
       "</style>\n",
       "<table border=\"1\" class=\"dataframe\">\n",
       "  <thead>\n",
       "    <tr style=\"text-align: right;\">\n",
       "      <th></th>\n",
       "      <th>messages_included</th>\n",
       "      <th>mb_per_month_included</th>\n",
       "      <th>minutes_included</th>\n",
       "      <th>usd_monthly_pay</th>\n",
       "      <th>usd_per_gb</th>\n",
       "      <th>usd_per_message</th>\n",
       "      <th>usd_per_minute</th>\n",
       "      <th>plan_name</th>\n",
       "    </tr>\n",
       "  </thead>\n",
       "  <tbody>\n",
       "    <tr>\n",
       "      <th>0</th>\n",
       "      <td>50</td>\n",
       "      <td>15360</td>\n",
       "      <td>500</td>\n",
       "      <td>20</td>\n",
       "      <td>10</td>\n",
       "      <td>0.03</td>\n",
       "      <td>0.03</td>\n",
       "      <td>surf</td>\n",
       "    </tr>\n",
       "    <tr>\n",
       "      <th>1</th>\n",
       "      <td>1000</td>\n",
       "      <td>30720</td>\n",
       "      <td>3000</td>\n",
       "      <td>70</td>\n",
       "      <td>7</td>\n",
       "      <td>0.01</td>\n",
       "      <td>0.01</td>\n",
       "      <td>ultimate</td>\n",
       "    </tr>\n",
       "  </tbody>\n",
       "</table>\n",
       "</div>"
      ],
      "text/plain": [
       "   messages_included  mb_per_month_included  minutes_included  \\\n",
       "0                 50                  15360               500   \n",
       "1               1000                  30720              3000   \n",
       "\n",
       "   usd_monthly_pay  usd_per_gb  usd_per_message  usd_per_minute plan_name  \n",
       "0               20          10             0.03            0.03      surf  \n",
       "1               70           7             0.01            0.01  ultimate  "
      ]
     },
     "execution_count": 27,
     "metadata": {},
     "output_type": "execute_result"
    }
   ],
   "source": [
    "df_plans.head() # Imprime las condiciones de la tarifa y asegúrate de que te quedan claras\n",
    "\n"
   ]
  },
  {
   "cell_type": "markdown",
   "metadata": {
    "id": "hMR1tP5d0q1F"
   },
   "source": [
    "## Agregar datos por usuario\n",
    "\n",
    "[Ahora que los datos están limpios, agrega los datos por usuario y por periodo para que solo haya un registro por usuario y por periodo. Esto facilitará mucho el análisis posterior.]"
   ]
  },
  {
   "cell_type": "code",
   "execution_count": 28,
   "metadata": {
    "id": "A332cedB0q1G"
   },
   "outputs": [
    {
     "data": {
      "text/plain": [
       "user_id\n",
       "1000     16\n",
       "1001    261\n",
       "1002    113\n",
       "1003    149\n",
       "1004    370\n",
       "       ... \n",
       "1495    253\n",
       "1496    195\n",
       "1497     54\n",
       "1498    451\n",
       "1499    204\n",
       "Name: month, Length: 481, dtype: int64"
      ]
     },
     "execution_count": 28,
     "metadata": {},
     "output_type": "execute_result"
    }
   ],
   "source": [
    "\n",
    "\n",
    "calls_hechas = df_calls.groupby('user_id')['month'].count()\n",
    "\n",
    "calls_hechas\n",
    "# Calcula el número de llamadas hechas por cada usuario al mes. Guarda el resultado.\n",
    "\n"
   ]
  },
  {
   "cell_type": "code",
   "execution_count": 29,
   "metadata": {},
   "outputs": [],
   "source": [
    "def redondeo_llamadas(duracion):\n",
    "    redondeo = math.ceil(duracion)\n",
    "    return redondeo"
   ]
  },
  {
   "cell_type": "code",
   "execution_count": 30,
   "metadata": {
    "id": "aw2cmuql0q1G"
   },
   "outputs": [
    {
     "data": {
      "text/html": [
       "<div>\n",
       "<style scoped>\n",
       "    .dataframe tbody tr th:only-of-type {\n",
       "        vertical-align: middle;\n",
       "    }\n",
       "\n",
       "    .dataframe tbody tr th {\n",
       "        vertical-align: top;\n",
       "    }\n",
       "\n",
       "    .dataframe thead th {\n",
       "        text-align: right;\n",
       "    }\n",
       "</style>\n",
       "<table border=\"1\" class=\"dataframe\">\n",
       "  <thead>\n",
       "    <tr style=\"text-align: right;\">\n",
       "      <th></th>\n",
       "      <th>user_id</th>\n",
       "      <th>month</th>\n",
       "      <th>minutos_usados</th>\n",
       "      <th>llamadas_realizadas</th>\n",
       "    </tr>\n",
       "  </thead>\n",
       "  <tbody>\n",
       "    <tr>\n",
       "      <th>0</th>\n",
       "      <td>1000</td>\n",
       "      <td>12</td>\n",
       "      <td>124</td>\n",
       "      <td>16</td>\n",
       "    </tr>\n",
       "    <tr>\n",
       "      <th>1</th>\n",
       "      <td>1001</td>\n",
       "      <td>8</td>\n",
       "      <td>182</td>\n",
       "      <td>27</td>\n",
       "    </tr>\n",
       "    <tr>\n",
       "      <th>2</th>\n",
       "      <td>1001</td>\n",
       "      <td>9</td>\n",
       "      <td>315</td>\n",
       "      <td>49</td>\n",
       "    </tr>\n",
       "    <tr>\n",
       "      <th>3</th>\n",
       "      <td>1001</td>\n",
       "      <td>10</td>\n",
       "      <td>393</td>\n",
       "      <td>65</td>\n",
       "    </tr>\n",
       "    <tr>\n",
       "      <th>4</th>\n",
       "      <td>1001</td>\n",
       "      <td>11</td>\n",
       "      <td>426</td>\n",
       "      <td>64</td>\n",
       "    </tr>\n",
       "  </tbody>\n",
       "</table>\n",
       "</div>"
      ],
      "text/plain": [
       "   user_id  month  minutos_usados  llamadas_realizadas\n",
       "0     1000     12             124                   16\n",
       "1     1001      8             182                   27\n",
       "2     1001      9             315                   49\n",
       "3     1001     10             393                   65\n",
       "4     1001     11             426                   64"
      ]
     },
     "execution_count": 30,
     "metadata": {},
     "output_type": "execute_result"
    }
   ],
   "source": [
    "df_calls['duracion_redondeada'] = df_calls['duration'].apply(redondeo_llamadas)\n",
    "\n",
    "minutos_por_usuario= df_calls.pivot_table(index= ['user_id', 'month'],values='duracion_redondeada', aggfunc=['sum','count'])                                                             \n",
    "  # Calcula la cantidad de minutos usados por cada usuario al mes. Guarda el resultado.\n",
    "minutos_por_usuario.columns = ['minutos_usados','llamadas_realizadas']\n",
    "minutos_por_usuario= minutos_por_usuario.reset_index()\n",
    "minutos_por_usuario.head()"
   ]
  },
  {
   "cell_type": "code",
   "execution_count": 31,
   "metadata": {
    "id": "CcQvNHn60q1G",
    "scrolled": true
   },
   "outputs": [
    {
     "data": {
      "text/html": [
       "<div>\n",
       "<style scoped>\n",
       "    .dataframe tbody tr th:only-of-type {\n",
       "        vertical-align: middle;\n",
       "    }\n",
       "\n",
       "    .dataframe tbody tr th {\n",
       "        vertical-align: top;\n",
       "    }\n",
       "\n",
       "    .dataframe thead th {\n",
       "        text-align: right;\n",
       "    }\n",
       "</style>\n",
       "<table border=\"1\" class=\"dataframe\">\n",
       "  <thead>\n",
       "    <tr style=\"text-align: right;\">\n",
       "      <th></th>\n",
       "      <th>user_id</th>\n",
       "      <th>month</th>\n",
       "      <th>total_mensajes</th>\n",
       "    </tr>\n",
       "  </thead>\n",
       "  <tbody>\n",
       "    <tr>\n",
       "      <th>0</th>\n",
       "      <td>1000</td>\n",
       "      <td>12</td>\n",
       "      <td>11</td>\n",
       "    </tr>\n",
       "    <tr>\n",
       "      <th>1</th>\n",
       "      <td>1001</td>\n",
       "      <td>8</td>\n",
       "      <td>30</td>\n",
       "    </tr>\n",
       "    <tr>\n",
       "      <th>2</th>\n",
       "      <td>1001</td>\n",
       "      <td>9</td>\n",
       "      <td>44</td>\n",
       "    </tr>\n",
       "    <tr>\n",
       "      <th>3</th>\n",
       "      <td>1001</td>\n",
       "      <td>10</td>\n",
       "      <td>53</td>\n",
       "    </tr>\n",
       "    <tr>\n",
       "      <th>4</th>\n",
       "      <td>1001</td>\n",
       "      <td>11</td>\n",
       "      <td>36</td>\n",
       "    </tr>\n",
       "  </tbody>\n",
       "</table>\n",
       "</div>"
      ],
      "text/plain": [
       "   user_id  month  total_mensajes\n",
       "0     1000     12              11\n",
       "1     1001      8              30\n",
       "2     1001      9              44\n",
       "3     1001     10              53\n",
       "4     1001     11              36"
      ]
     },
     "execution_count": 31,
     "metadata": {},
     "output_type": "execute_result"
    }
   ],
   "source": [
    "\n",
    "reg_mensajes =  df_messages.pivot_table(index= ['user_id', 'month'],values='message_id', aggfunc=['count'])  # Calcula el número de mensajes enviados por cada usuario al mes. Guarda el resultado.\n",
    "reg_mensajes.columns =['total_mensajes']\n",
    "reg_mensajes = reg_mensajes.reset_index()\n",
    "reg_mensajes.head()"
   ]
  },
  {
   "cell_type": "code",
   "execution_count": 32,
   "metadata": {
    "id": "H1AqN2eG0q1H"
   },
   "outputs": [
    {
     "data": {
      "text/html": [
       "<div>\n",
       "<style scoped>\n",
       "    .dataframe tbody tr th:only-of-type {\n",
       "        vertical-align: middle;\n",
       "    }\n",
       "\n",
       "    .dataframe tbody tr th {\n",
       "        vertical-align: top;\n",
       "    }\n",
       "\n",
       "    .dataframe thead th {\n",
       "        text-align: right;\n",
       "    }\n",
       "</style>\n",
       "<table border=\"1\" class=\"dataframe\">\n",
       "  <thead>\n",
       "    <tr style=\"text-align: right;\">\n",
       "      <th></th>\n",
       "      <th>user_id</th>\n",
       "      <th>month</th>\n",
       "      <th>total_datos</th>\n",
       "    </tr>\n",
       "  </thead>\n",
       "  <tbody>\n",
       "    <tr>\n",
       "      <th>0</th>\n",
       "      <td>1000</td>\n",
       "      <td>12</td>\n",
       "      <td>1901.47</td>\n",
       "    </tr>\n",
       "    <tr>\n",
       "      <th>1</th>\n",
       "      <td>1001</td>\n",
       "      <td>8</td>\n",
       "      <td>6919.15</td>\n",
       "    </tr>\n",
       "    <tr>\n",
       "      <th>2</th>\n",
       "      <td>1001</td>\n",
       "      <td>9</td>\n",
       "      <td>13314.82</td>\n",
       "    </tr>\n",
       "    <tr>\n",
       "      <th>3</th>\n",
       "      <td>1001</td>\n",
       "      <td>10</td>\n",
       "      <td>22330.49</td>\n",
       "    </tr>\n",
       "    <tr>\n",
       "      <th>4</th>\n",
       "      <td>1001</td>\n",
       "      <td>11</td>\n",
       "      <td>18504.30</td>\n",
       "    </tr>\n",
       "  </tbody>\n",
       "</table>\n",
       "</div>"
      ],
      "text/plain": [
       "   user_id  month  total_datos\n",
       "0     1000     12      1901.47\n",
       "1     1001      8      6919.15\n",
       "2     1001      9     13314.82\n",
       "3     1001     10     22330.49\n",
       "4     1001     11     18504.30"
      ]
     },
     "execution_count": 32,
     "metadata": {},
     "output_type": "execute_result"
    }
   ],
   "source": [
    "\n",
    "reg_datos = df_internet.pivot_table(index= ['user_id', 'month'],values='mb_used', aggfunc=['sum'])  # Calcula el volumen del tráfico de Internet usado por cada usuario al mes. Guarda el resultado.\n",
    "reg_datos.columns = ['total_datos']\n",
    "reg_datos = reg_datos.reset_index()\n",
    "reg_datos.head()"
   ]
  },
  {
   "cell_type": "code",
   "execution_count": 33,
   "metadata": {},
   "outputs": [
    {
     "data": {
      "text/html": [
       "<div>\n",
       "<style scoped>\n",
       "    .dataframe tbody tr th:only-of-type {\n",
       "        vertical-align: middle;\n",
       "    }\n",
       "\n",
       "    .dataframe tbody tr th {\n",
       "        vertical-align: top;\n",
       "    }\n",
       "\n",
       "    .dataframe thead th {\n",
       "        text-align: right;\n",
       "    }\n",
       "</style>\n",
       "<table border=\"1\" class=\"dataframe\">\n",
       "  <thead>\n",
       "    <tr style=\"text-align: right;\">\n",
       "      <th></th>\n",
       "      <th>user_id</th>\n",
       "      <th>month</th>\n",
       "      <th>total_datos</th>\n",
       "      <th>total_de_datos_redondeado</th>\n",
       "    </tr>\n",
       "  </thead>\n",
       "  <tbody>\n",
       "    <tr>\n",
       "      <th>0</th>\n",
       "      <td>1000</td>\n",
       "      <td>12</td>\n",
       "      <td>1901.47</td>\n",
       "      <td>2</td>\n",
       "    </tr>\n",
       "    <tr>\n",
       "      <th>1</th>\n",
       "      <td>1001</td>\n",
       "      <td>8</td>\n",
       "      <td>6919.15</td>\n",
       "      <td>7</td>\n",
       "    </tr>\n",
       "    <tr>\n",
       "      <th>2</th>\n",
       "      <td>1001</td>\n",
       "      <td>9</td>\n",
       "      <td>13314.82</td>\n",
       "      <td>14</td>\n",
       "    </tr>\n",
       "    <tr>\n",
       "      <th>3</th>\n",
       "      <td>1001</td>\n",
       "      <td>10</td>\n",
       "      <td>22330.49</td>\n",
       "      <td>22</td>\n",
       "    </tr>\n",
       "    <tr>\n",
       "      <th>4</th>\n",
       "      <td>1001</td>\n",
       "      <td>11</td>\n",
       "      <td>18504.30</td>\n",
       "      <td>19</td>\n",
       "    </tr>\n",
       "    <tr>\n",
       "      <th>...</th>\n",
       "      <td>...</td>\n",
       "      <td>...</td>\n",
       "      <td>...</td>\n",
       "      <td>...</td>\n",
       "    </tr>\n",
       "    <tr>\n",
       "      <th>2272</th>\n",
       "      <td>1498</td>\n",
       "      <td>12</td>\n",
       "      <td>23137.69</td>\n",
       "      <td>23</td>\n",
       "    </tr>\n",
       "    <tr>\n",
       "      <th>2273</th>\n",
       "      <td>1499</td>\n",
       "      <td>9</td>\n",
       "      <td>12984.76</td>\n",
       "      <td>13</td>\n",
       "    </tr>\n",
       "    <tr>\n",
       "      <th>2274</th>\n",
       "      <td>1499</td>\n",
       "      <td>10</td>\n",
       "      <td>19492.43</td>\n",
       "      <td>20</td>\n",
       "    </tr>\n",
       "    <tr>\n",
       "      <th>2275</th>\n",
       "      <td>1499</td>\n",
       "      <td>11</td>\n",
       "      <td>16813.83</td>\n",
       "      <td>17</td>\n",
       "    </tr>\n",
       "    <tr>\n",
       "      <th>2276</th>\n",
       "      <td>1499</td>\n",
       "      <td>12</td>\n",
       "      <td>22059.21</td>\n",
       "      <td>22</td>\n",
       "    </tr>\n",
       "  </tbody>\n",
       "</table>\n",
       "<p>2277 rows × 4 columns</p>\n",
       "</div>"
      ],
      "text/plain": [
       "      user_id  month  total_datos  total_de_datos_redondeado\n",
       "0        1000     12      1901.47                          2\n",
       "1        1001      8      6919.15                          7\n",
       "2        1001      9     13314.82                         14\n",
       "3        1001     10     22330.49                         22\n",
       "4        1001     11     18504.30                         19\n",
       "...       ...    ...          ...                        ...\n",
       "2272     1498     12     23137.69                         23\n",
       "2273     1499      9     12984.76                         13\n",
       "2274     1499     10     19492.43                         20\n",
       "2275     1499     11     16813.83                         17\n",
       "2276     1499     12     22059.21                         22\n",
       "\n",
       "[2277 rows x 4 columns]"
      ]
     },
     "execution_count": 33,
     "metadata": {},
     "output_type": "execute_result"
    }
   ],
   "source": [
    "def datos_redondeados(mb): \n",
    "\n",
    "    redondeo = math.ceil(mb/1024) \n",
    "\n",
    "    return redondeo \n",
    "\n",
    "reg_datos['total_de_datos_redondeado'] = reg_datos['total_datos'].apply(datos_redondeados) \n",
    "\n",
    "reg_datos "
   ]
  },
  {
   "cell_type": "markdown",
   "metadata": {
    "id": "VDfYXnj80q1H"
   },
   "source": [
    "[Junta los datos agregados en un DataFrame para que haya un registro que represente lo que consumió un usuario único en un mes determinado.]"
   ]
  },
  {
   "cell_type": "code",
   "execution_count": 34,
   "metadata": {
    "id": "FW99ykyf0q1H"
   },
   "outputs": [
    {
     "data": {
      "text/html": [
       "<div>\n",
       "<style scoped>\n",
       "    .dataframe tbody tr th:only-of-type {\n",
       "        vertical-align: middle;\n",
       "    }\n",
       "\n",
       "    .dataframe tbody tr th {\n",
       "        vertical-align: top;\n",
       "    }\n",
       "\n",
       "    .dataframe thead th {\n",
       "        text-align: right;\n",
       "    }\n",
       "</style>\n",
       "<table border=\"1\" class=\"dataframe\">\n",
       "  <thead>\n",
       "    <tr style=\"text-align: right;\">\n",
       "      <th></th>\n",
       "      <th>user_id</th>\n",
       "      <th>month</th>\n",
       "      <th>minutos_usados</th>\n",
       "      <th>llamadas_realizadas</th>\n",
       "      <th>total_mensajes</th>\n",
       "      <th>total_datos</th>\n",
       "      <th>total_de_datos_redondeado</th>\n",
       "    </tr>\n",
       "  </thead>\n",
       "  <tbody>\n",
       "    <tr>\n",
       "      <th>0</th>\n",
       "      <td>1000</td>\n",
       "      <td>12</td>\n",
       "      <td>124.0</td>\n",
       "      <td>16.0</td>\n",
       "      <td>11.0</td>\n",
       "      <td>1901.47</td>\n",
       "      <td>2.0</td>\n",
       "    </tr>\n",
       "    <tr>\n",
       "      <th>1</th>\n",
       "      <td>1001</td>\n",
       "      <td>8</td>\n",
       "      <td>182.0</td>\n",
       "      <td>27.0</td>\n",
       "      <td>30.0</td>\n",
       "      <td>6919.15</td>\n",
       "      <td>7.0</td>\n",
       "    </tr>\n",
       "    <tr>\n",
       "      <th>2</th>\n",
       "      <td>1001</td>\n",
       "      <td>9</td>\n",
       "      <td>315.0</td>\n",
       "      <td>49.0</td>\n",
       "      <td>44.0</td>\n",
       "      <td>13314.82</td>\n",
       "      <td>14.0</td>\n",
       "    </tr>\n",
       "    <tr>\n",
       "      <th>3</th>\n",
       "      <td>1001</td>\n",
       "      <td>10</td>\n",
       "      <td>393.0</td>\n",
       "      <td>65.0</td>\n",
       "      <td>53.0</td>\n",
       "      <td>22330.49</td>\n",
       "      <td>22.0</td>\n",
       "    </tr>\n",
       "    <tr>\n",
       "      <th>4</th>\n",
       "      <td>1001</td>\n",
       "      <td>11</td>\n",
       "      <td>426.0</td>\n",
       "      <td>64.0</td>\n",
       "      <td>36.0</td>\n",
       "      <td>18504.30</td>\n",
       "      <td>19.0</td>\n",
       "    </tr>\n",
       "    <tr>\n",
       "      <th>...</th>\n",
       "      <td>...</td>\n",
       "      <td>...</td>\n",
       "      <td>...</td>\n",
       "      <td>...</td>\n",
       "      <td>...</td>\n",
       "      <td>...</td>\n",
       "      <td>...</td>\n",
       "    </tr>\n",
       "    <tr>\n",
       "      <th>2288</th>\n",
       "      <td>1349</td>\n",
       "      <td>12</td>\n",
       "      <td>NaN</td>\n",
       "      <td>NaN</td>\n",
       "      <td>61.0</td>\n",
       "      <td>13039.91</td>\n",
       "      <td>13.0</td>\n",
       "    </tr>\n",
       "    <tr>\n",
       "      <th>2289</th>\n",
       "      <td>1361</td>\n",
       "      <td>5</td>\n",
       "      <td>NaN</td>\n",
       "      <td>NaN</td>\n",
       "      <td>2.0</td>\n",
       "      <td>1519.69</td>\n",
       "      <td>2.0</td>\n",
       "    </tr>\n",
       "    <tr>\n",
       "      <th>2290</th>\n",
       "      <td>1482</td>\n",
       "      <td>10</td>\n",
       "      <td>NaN</td>\n",
       "      <td>NaN</td>\n",
       "      <td>2.0</td>\n",
       "      <td>NaN</td>\n",
       "      <td>NaN</td>\n",
       "    </tr>\n",
       "    <tr>\n",
       "      <th>2291</th>\n",
       "      <td>1108</td>\n",
       "      <td>12</td>\n",
       "      <td>NaN</td>\n",
       "      <td>NaN</td>\n",
       "      <td>NaN</td>\n",
       "      <td>233.17</td>\n",
       "      <td>1.0</td>\n",
       "    </tr>\n",
       "    <tr>\n",
       "      <th>2292</th>\n",
       "      <td>1311</td>\n",
       "      <td>6</td>\n",
       "      <td>NaN</td>\n",
       "      <td>NaN</td>\n",
       "      <td>NaN</td>\n",
       "      <td>1498.83</td>\n",
       "      <td>2.0</td>\n",
       "    </tr>\n",
       "  </tbody>\n",
       "</table>\n",
       "<p>2293 rows × 7 columns</p>\n",
       "</div>"
      ],
      "text/plain": [
       "      user_id  month  minutos_usados  llamadas_realizadas  total_mensajes  \\\n",
       "0        1000     12           124.0                 16.0            11.0   \n",
       "1        1001      8           182.0                 27.0            30.0   \n",
       "2        1001      9           315.0                 49.0            44.0   \n",
       "3        1001     10           393.0                 65.0            53.0   \n",
       "4        1001     11           426.0                 64.0            36.0   \n",
       "...       ...    ...             ...                  ...             ...   \n",
       "2288     1349     12             NaN                  NaN            61.0   \n",
       "2289     1361      5             NaN                  NaN             2.0   \n",
       "2290     1482     10             NaN                  NaN             2.0   \n",
       "2291     1108     12             NaN                  NaN             NaN   \n",
       "2292     1311      6             NaN                  NaN             NaN   \n",
       "\n",
       "      total_datos  total_de_datos_redondeado  \n",
       "0         1901.47                        2.0  \n",
       "1         6919.15                        7.0  \n",
       "2        13314.82                       14.0  \n",
       "3        22330.49                       22.0  \n",
       "4        18504.30                       19.0  \n",
       "...           ...                        ...  \n",
       "2288     13039.91                       13.0  \n",
       "2289      1519.69                        2.0  \n",
       "2290          NaN                        NaN  \n",
       "2291       233.17                        1.0  \n",
       "2292      1498.83                        2.0  \n",
       "\n",
       "[2293 rows x 7 columns]"
      ]
     },
     "execution_count": 34,
     "metadata": {},
     "output_type": "execute_result"
    }
   ],
   "source": [
    "consumos_llamadas_y_mensajes = minutos_por_usuario.merge(reg_mensajes, on=['user_id','month'], how = 'outer') \n",
    "consumos_total = consumos_llamadas_y_mensajes.merge(reg_datos, on=['user_id','month'], how= 'outer')\n",
    "# Fusiona los datos de llamadas, minutos, mensajes e Internet con base en user_id y month\n",
    "consumos_total"
   ]
  },
  {
   "cell_type": "code",
   "execution_count": 35,
   "metadata": {},
   "outputs": [
    {
     "data": {
      "text/html": [
       "<div>\n",
       "<style scoped>\n",
       "    .dataframe tbody tr th:only-of-type {\n",
       "        vertical-align: middle;\n",
       "    }\n",
       "\n",
       "    .dataframe tbody tr th {\n",
       "        vertical-align: top;\n",
       "    }\n",
       "\n",
       "    .dataframe thead th {\n",
       "        text-align: right;\n",
       "    }\n",
       "</style>\n",
       "<table border=\"1\" class=\"dataframe\">\n",
       "  <thead>\n",
       "    <tr style=\"text-align: right;\">\n",
       "      <th></th>\n",
       "      <th>user_id</th>\n",
       "      <th>plan_name</th>\n",
       "      <th>city</th>\n",
       "    </tr>\n",
       "  </thead>\n",
       "  <tbody>\n",
       "    <tr>\n",
       "      <th>0</th>\n",
       "      <td>1000</td>\n",
       "      <td>ultimate</td>\n",
       "      <td>Atlanta-Sandy Springs-Roswell, GA MSA</td>\n",
       "    </tr>\n",
       "    <tr>\n",
       "      <th>1</th>\n",
       "      <td>1001</td>\n",
       "      <td>surf</td>\n",
       "      <td>Seattle-Tacoma-Bellevue, WA MSA</td>\n",
       "    </tr>\n",
       "    <tr>\n",
       "      <th>2</th>\n",
       "      <td>1002</td>\n",
       "      <td>surf</td>\n",
       "      <td>Las Vegas-Henderson-Paradise, NV MSA</td>\n",
       "    </tr>\n",
       "    <tr>\n",
       "      <th>3</th>\n",
       "      <td>1003</td>\n",
       "      <td>surf</td>\n",
       "      <td>Tulsa, OK MSA</td>\n",
       "    </tr>\n",
       "    <tr>\n",
       "      <th>4</th>\n",
       "      <td>1004</td>\n",
       "      <td>surf</td>\n",
       "      <td>Seattle-Tacoma-Bellevue, WA MSA</td>\n",
       "    </tr>\n",
       "    <tr>\n",
       "      <th>...</th>\n",
       "      <td>...</td>\n",
       "      <td>...</td>\n",
       "      <td>...</td>\n",
       "    </tr>\n",
       "    <tr>\n",
       "      <th>495</th>\n",
       "      <td>1495</td>\n",
       "      <td>surf</td>\n",
       "      <td>New York-Newark-Jersey City, NY-NJ-PA MSA</td>\n",
       "    </tr>\n",
       "    <tr>\n",
       "      <th>496</th>\n",
       "      <td>1496</td>\n",
       "      <td>surf</td>\n",
       "      <td>New Orleans-Metairie, LA MSA</td>\n",
       "    </tr>\n",
       "    <tr>\n",
       "      <th>497</th>\n",
       "      <td>1497</td>\n",
       "      <td>ultimate</td>\n",
       "      <td>Los Angeles-Long Beach-Anaheim, CA MSA</td>\n",
       "    </tr>\n",
       "    <tr>\n",
       "      <th>498</th>\n",
       "      <td>1498</td>\n",
       "      <td>surf</td>\n",
       "      <td>New York-Newark-Jersey City, NY-NJ-PA MSA</td>\n",
       "    </tr>\n",
       "    <tr>\n",
       "      <th>499</th>\n",
       "      <td>1499</td>\n",
       "      <td>surf</td>\n",
       "      <td>Orlando-Kissimmee-Sanford, FL MSA</td>\n",
       "    </tr>\n",
       "  </tbody>\n",
       "</table>\n",
       "<p>500 rows × 3 columns</p>\n",
       "</div>"
      ],
      "text/plain": [
       "     user_id plan_name                                       city\n",
       "0       1000  ultimate      Atlanta-Sandy Springs-Roswell, GA MSA\n",
       "1       1001      surf            Seattle-Tacoma-Bellevue, WA MSA\n",
       "2       1002      surf       Las Vegas-Henderson-Paradise, NV MSA\n",
       "3       1003      surf                              Tulsa, OK MSA\n",
       "4       1004      surf            Seattle-Tacoma-Bellevue, WA MSA\n",
       "..       ...       ...                                        ...\n",
       "495     1495      surf  New York-Newark-Jersey City, NY-NJ-PA MSA\n",
       "496     1496      surf               New Orleans-Metairie, LA MSA\n",
       "497     1497  ultimate     Los Angeles-Long Beach-Anaheim, CA MSA\n",
       "498     1498      surf  New York-Newark-Jersey City, NY-NJ-PA MSA\n",
       "499     1499      surf          Orlando-Kissimmee-Sanford, FL MSA\n",
       "\n",
       "[500 rows x 3 columns]"
      ]
     },
     "execution_count": 35,
     "metadata": {},
     "output_type": "execute_result"
    }
   ],
   "source": [
    "plan_justo = df_users[['user_id','plan_name' ,'city']] \n",
    "plan_justo"
   ]
  },
  {
   "cell_type": "code",
   "execution_count": 36,
   "metadata": {
    "id": "0dNOXHag0q1H"
   },
   "outputs": [
    {
     "data": {
      "text/html": [
       "<div>\n",
       "<style scoped>\n",
       "    .dataframe tbody tr th:only-of-type {\n",
       "        vertical-align: middle;\n",
       "    }\n",
       "\n",
       "    .dataframe tbody tr th {\n",
       "        vertical-align: top;\n",
       "    }\n",
       "\n",
       "    .dataframe thead th {\n",
       "        text-align: right;\n",
       "    }\n",
       "</style>\n",
       "<table border=\"1\" class=\"dataframe\">\n",
       "  <thead>\n",
       "    <tr style=\"text-align: right;\">\n",
       "      <th></th>\n",
       "      <th>user_id</th>\n",
       "      <th>month</th>\n",
       "      <th>minutos_usados</th>\n",
       "      <th>llamadas_realizadas</th>\n",
       "      <th>total_mensajes</th>\n",
       "      <th>total_datos</th>\n",
       "      <th>total_de_datos_redondeado</th>\n",
       "      <th>plan_name</th>\n",
       "      <th>city</th>\n",
       "    </tr>\n",
       "  </thead>\n",
       "  <tbody>\n",
       "    <tr>\n",
       "      <th>0</th>\n",
       "      <td>1000</td>\n",
       "      <td>12.0</td>\n",
       "      <td>124.0</td>\n",
       "      <td>16.0</td>\n",
       "      <td>11.0</td>\n",
       "      <td>1901.47</td>\n",
       "      <td>2.0</td>\n",
       "      <td>ultimate</td>\n",
       "      <td>Atlanta-Sandy Springs-Roswell, GA MSA</td>\n",
       "    </tr>\n",
       "    <tr>\n",
       "      <th>1</th>\n",
       "      <td>1001</td>\n",
       "      <td>8.0</td>\n",
       "      <td>182.0</td>\n",
       "      <td>27.0</td>\n",
       "      <td>30.0</td>\n",
       "      <td>6919.15</td>\n",
       "      <td>7.0</td>\n",
       "      <td>surf</td>\n",
       "      <td>Seattle-Tacoma-Bellevue, WA MSA</td>\n",
       "    </tr>\n",
       "    <tr>\n",
       "      <th>2</th>\n",
       "      <td>1001</td>\n",
       "      <td>9.0</td>\n",
       "      <td>315.0</td>\n",
       "      <td>49.0</td>\n",
       "      <td>44.0</td>\n",
       "      <td>13314.82</td>\n",
       "      <td>14.0</td>\n",
       "      <td>surf</td>\n",
       "      <td>Seattle-Tacoma-Bellevue, WA MSA</td>\n",
       "    </tr>\n",
       "    <tr>\n",
       "      <th>3</th>\n",
       "      <td>1001</td>\n",
       "      <td>10.0</td>\n",
       "      <td>393.0</td>\n",
       "      <td>65.0</td>\n",
       "      <td>53.0</td>\n",
       "      <td>22330.49</td>\n",
       "      <td>22.0</td>\n",
       "      <td>surf</td>\n",
       "      <td>Seattle-Tacoma-Bellevue, WA MSA</td>\n",
       "    </tr>\n",
       "    <tr>\n",
       "      <th>4</th>\n",
       "      <td>1001</td>\n",
       "      <td>11.0</td>\n",
       "      <td>426.0</td>\n",
       "      <td>64.0</td>\n",
       "      <td>36.0</td>\n",
       "      <td>18504.30</td>\n",
       "      <td>19.0</td>\n",
       "      <td>surf</td>\n",
       "      <td>Seattle-Tacoma-Bellevue, WA MSA</td>\n",
       "    </tr>\n",
       "    <tr>\n",
       "      <th>...</th>\n",
       "      <td>...</td>\n",
       "      <td>...</td>\n",
       "      <td>...</td>\n",
       "      <td>...</td>\n",
       "      <td>...</td>\n",
       "      <td>...</td>\n",
       "      <td>...</td>\n",
       "      <td>...</td>\n",
       "      <td>...</td>\n",
       "    </tr>\n",
       "    <tr>\n",
       "      <th>2298</th>\n",
       "      <td>1307</td>\n",
       "      <td>NaN</td>\n",
       "      <td>NaN</td>\n",
       "      <td>NaN</td>\n",
       "      <td>NaN</td>\n",
       "      <td>NaN</td>\n",
       "      <td>NaN</td>\n",
       "      <td>surf</td>\n",
       "      <td>Boston-Cambridge-Newton, MA-NH MSA</td>\n",
       "    </tr>\n",
       "    <tr>\n",
       "      <th>2299</th>\n",
       "      <td>1319</td>\n",
       "      <td>NaN</td>\n",
       "      <td>NaN</td>\n",
       "      <td>NaN</td>\n",
       "      <td>NaN</td>\n",
       "      <td>NaN</td>\n",
       "      <td>NaN</td>\n",
       "      <td>surf</td>\n",
       "      <td>Colorado Springs, CO MSA</td>\n",
       "    </tr>\n",
       "    <tr>\n",
       "      <th>2300</th>\n",
       "      <td>1378</td>\n",
       "      <td>NaN</td>\n",
       "      <td>NaN</td>\n",
       "      <td>NaN</td>\n",
       "      <td>NaN</td>\n",
       "      <td>NaN</td>\n",
       "      <td>NaN</td>\n",
       "      <td>surf</td>\n",
       "      <td>Denver-Aurora-Lakewood, CO MSA</td>\n",
       "    </tr>\n",
       "    <tr>\n",
       "      <th>2301</th>\n",
       "      <td>1463</td>\n",
       "      <td>NaN</td>\n",
       "      <td>NaN</td>\n",
       "      <td>NaN</td>\n",
       "      <td>NaN</td>\n",
       "      <td>NaN</td>\n",
       "      <td>NaN</td>\n",
       "      <td>ultimate</td>\n",
       "      <td>Atlanta-Sandy Springs-Roswell, GA MSA</td>\n",
       "    </tr>\n",
       "    <tr>\n",
       "      <th>2302</th>\n",
       "      <td>1473</td>\n",
       "      <td>NaN</td>\n",
       "      <td>NaN</td>\n",
       "      <td>NaN</td>\n",
       "      <td>NaN</td>\n",
       "      <td>NaN</td>\n",
       "      <td>NaN</td>\n",
       "      <td>surf</td>\n",
       "      <td>Louisville/Jefferson County, KY-IN MSA</td>\n",
       "    </tr>\n",
       "  </tbody>\n",
       "</table>\n",
       "<p>2303 rows × 9 columns</p>\n",
       "</div>"
      ],
      "text/plain": [
       "      user_id  month  minutos_usados  llamadas_realizadas  total_mensajes  \\\n",
       "0        1000   12.0           124.0                 16.0            11.0   \n",
       "1        1001    8.0           182.0                 27.0            30.0   \n",
       "2        1001    9.0           315.0                 49.0            44.0   \n",
       "3        1001   10.0           393.0                 65.0            53.0   \n",
       "4        1001   11.0           426.0                 64.0            36.0   \n",
       "...       ...    ...             ...                  ...             ...   \n",
       "2298     1307    NaN             NaN                  NaN             NaN   \n",
       "2299     1319    NaN             NaN                  NaN             NaN   \n",
       "2300     1378    NaN             NaN                  NaN             NaN   \n",
       "2301     1463    NaN             NaN                  NaN             NaN   \n",
       "2302     1473    NaN             NaN                  NaN             NaN   \n",
       "\n",
       "      total_datos  total_de_datos_redondeado plan_name  \\\n",
       "0         1901.47                        2.0  ultimate   \n",
       "1         6919.15                        7.0      surf   \n",
       "2        13314.82                       14.0      surf   \n",
       "3        22330.49                       22.0      surf   \n",
       "4        18504.30                       19.0      surf   \n",
       "...           ...                        ...       ...   \n",
       "2298          NaN                        NaN      surf   \n",
       "2299          NaN                        NaN      surf   \n",
       "2300          NaN                        NaN      surf   \n",
       "2301          NaN                        NaN  ultimate   \n",
       "2302          NaN                        NaN      surf   \n",
       "\n",
       "                                        city  \n",
       "0      Atlanta-Sandy Springs-Roswell, GA MSA  \n",
       "1            Seattle-Tacoma-Bellevue, WA MSA  \n",
       "2            Seattle-Tacoma-Bellevue, WA MSA  \n",
       "3            Seattle-Tacoma-Bellevue, WA MSA  \n",
       "4            Seattle-Tacoma-Bellevue, WA MSA  \n",
       "...                                      ...  \n",
       "2298      Boston-Cambridge-Newton, MA-NH MSA  \n",
       "2299                Colorado Springs, CO MSA  \n",
       "2300          Denver-Aurora-Lakewood, CO MSA  \n",
       "2301   Atlanta-Sandy Springs-Roswell, GA MSA  \n",
       "2302  Louisville/Jefferson County, KY-IN MSA  \n",
       "\n",
       "[2303 rows x 9 columns]"
      ]
     },
     "execution_count": 36,
     "metadata": {},
     "output_type": "execute_result"
    }
   ],
   "source": [
    "consumo_tarifario = consumos_total.merge(plan_justo,on=['user_id'],how='outer') # Añade la información de la tarifa\n",
    "\n",
    "consumo_tarifario"
   ]
  },
  {
   "cell_type": "markdown",
   "metadata": {
    "id": "1IwGo4wg0q1I"
   },
   "source": [
    "[Calcula los ingresos mensuales por usuario (resta el límite del paquete gratuito del número total de llamadas, mensajes de texto y datos; multiplica el resultado por el valor del plan de llamadas; añade la tarifa mensual en función del plan de llamadas). Nota: Dadas las condiciones del plan, ¡esto podría no ser tan trivial como un par de líneas! Así que no pasa nada si dedicas algo de tiempo a ello.]"
   ]
  },
  {
   "cell_type": "code",
   "execution_count": 37,
   "metadata": {},
   "outputs": [],
   "source": [
    "surf_month =20 \n",
    "surf_month_sms = 50 \n",
    "surf_month_min = 500 \n",
    "surf_month_gb = 15 \n",
    "surf_call= 0.03 \n",
    "surf_message = 0.03 \n",
    "surf_gb= 10 \n",
    "\n",
    "ultimate_month =70 \n",
    "ultimate_month_sms = 1000 \n",
    "ultimate_month_min = 3000 \n",
    "ultimate_month_gb = 30 \n",
    "ultimate_call = 0.01 \n",
    "ultimate_message = 0.01 \n",
    "ultimate_gb = 7 "
   ]
  },
  {
   "cell_type": "code",
   "execution_count": 38,
   "metadata": {
    "id": "5FGCf_c60q1I"
   },
   "outputs": [],
   "source": [
    " # Calcula el ingreso mensual para cada usuario\n",
    "\n",
    " "
   ]
  },
  {
   "cell_type": "markdown",
   "metadata": {
    "id": "-jtyHzJb0q1I"
   },
   "source": [
    "## Estudia el comportamiento de usuario"
   ]
  },
  {
   "cell_type": "markdown",
   "metadata": {
    "id": "AxU3Y0N70q1J"
   },
   "source": [
    "[Calcula algunas estadísticas descriptivas para los datos agregados y fusionados que nos sean útiles y que muestren un panorama general captado por los datos. Dibuja gráficos útiles para facilitar la comprensión. Dado que la tarea principal es comparar las tarifas y decidir cuál es más rentable, las estadísticas y gráficas deben calcularse por tarifa.]\n",
    "\n",
    "[En los comentarios hallarás pistas relevantes para las llamadas, pero no las hay para los mensajes e Internet. Sin embargo, el principio del estudio estadístico que se aplica para ellos es el mismo que para las llamadas.]"
   ]
  },
  {
   "cell_type": "markdown",
   "metadata": {
    "id": "vtW4CJEe0q1J"
   },
   "source": [
    "### Llamadas"
   ]
  },
  {
   "cell_type": "code",
   "execution_count": 39,
   "metadata": {
    "id": "Jf5v5--k0q1J"
   },
   "outputs": [
    {
     "data": {
      "text/html": [
       "<div>\n",
       "<style scoped>\n",
       "    .dataframe tbody tr th:only-of-type {\n",
       "        vertical-align: middle;\n",
       "    }\n",
       "\n",
       "    .dataframe tbody tr th {\n",
       "        vertical-align: top;\n",
       "    }\n",
       "\n",
       "    .dataframe thead th {\n",
       "        text-align: right;\n",
       "    }\n",
       "</style>\n",
       "<table border=\"1\" class=\"dataframe\">\n",
       "  <thead>\n",
       "    <tr style=\"text-align: right;\">\n",
       "      <th></th>\n",
       "      <th>user_id</th>\n",
       "      <th>month</th>\n",
       "      <th>minutos_usados</th>\n",
       "      <th>llamadas_realizadas</th>\n",
       "      <th>total_mensajes</th>\n",
       "      <th>total_datos</th>\n",
       "      <th>total_de_datos_redondeado</th>\n",
       "      <th>plan_name</th>\n",
       "      <th>city</th>\n",
       "      <th>chargeable_calls</th>\n",
       "    </tr>\n",
       "  </thead>\n",
       "  <tbody>\n",
       "    <tr>\n",
       "      <th>0</th>\n",
       "      <td>1000</td>\n",
       "      <td>12.0</td>\n",
       "      <td>124.0</td>\n",
       "      <td>16.0</td>\n",
       "      <td>11.0</td>\n",
       "      <td>1901.47</td>\n",
       "      <td>2.0</td>\n",
       "      <td>ultimate</td>\n",
       "      <td>Atlanta-Sandy Springs-Roswell, GA MSA</td>\n",
       "      <td>0.0</td>\n",
       "    </tr>\n",
       "    <tr>\n",
       "      <th>1</th>\n",
       "      <td>1001</td>\n",
       "      <td>8.0</td>\n",
       "      <td>182.0</td>\n",
       "      <td>27.0</td>\n",
       "      <td>30.0</td>\n",
       "      <td>6919.15</td>\n",
       "      <td>7.0</td>\n",
       "      <td>surf</td>\n",
       "      <td>Seattle-Tacoma-Bellevue, WA MSA</td>\n",
       "      <td>0.0</td>\n",
       "    </tr>\n",
       "    <tr>\n",
       "      <th>2</th>\n",
       "      <td>1001</td>\n",
       "      <td>9.0</td>\n",
       "      <td>315.0</td>\n",
       "      <td>49.0</td>\n",
       "      <td>44.0</td>\n",
       "      <td>13314.82</td>\n",
       "      <td>14.0</td>\n",
       "      <td>surf</td>\n",
       "      <td>Seattle-Tacoma-Bellevue, WA MSA</td>\n",
       "      <td>0.0</td>\n",
       "    </tr>\n",
       "    <tr>\n",
       "      <th>3</th>\n",
       "      <td>1001</td>\n",
       "      <td>10.0</td>\n",
       "      <td>393.0</td>\n",
       "      <td>65.0</td>\n",
       "      <td>53.0</td>\n",
       "      <td>22330.49</td>\n",
       "      <td>22.0</td>\n",
       "      <td>surf</td>\n",
       "      <td>Seattle-Tacoma-Bellevue, WA MSA</td>\n",
       "      <td>0.0</td>\n",
       "    </tr>\n",
       "    <tr>\n",
       "      <th>4</th>\n",
       "      <td>1001</td>\n",
       "      <td>11.0</td>\n",
       "      <td>426.0</td>\n",
       "      <td>64.0</td>\n",
       "      <td>36.0</td>\n",
       "      <td>18504.30</td>\n",
       "      <td>19.0</td>\n",
       "      <td>surf</td>\n",
       "      <td>Seattle-Tacoma-Bellevue, WA MSA</td>\n",
       "      <td>0.0</td>\n",
       "    </tr>\n",
       "  </tbody>\n",
       "</table>\n",
       "</div>"
      ],
      "text/plain": [
       "   user_id  month  minutos_usados  llamadas_realizadas  total_mensajes  \\\n",
       "0     1000   12.0           124.0                 16.0            11.0   \n",
       "1     1001    8.0           182.0                 27.0            30.0   \n",
       "2     1001    9.0           315.0                 49.0            44.0   \n",
       "3     1001   10.0           393.0                 65.0            53.0   \n",
       "4     1001   11.0           426.0                 64.0            36.0   \n",
       "\n",
       "   total_datos  total_de_datos_redondeado plan_name  \\\n",
       "0      1901.47                        2.0  ultimate   \n",
       "1      6919.15                        7.0      surf   \n",
       "2     13314.82                       14.0      surf   \n",
       "3     22330.49                       22.0      surf   \n",
       "4     18504.30                       19.0      surf   \n",
       "\n",
       "                                    city  chargeable_calls  \n",
       "0  Atlanta-Sandy Springs-Roswell, GA MSA               0.0  \n",
       "1        Seattle-Tacoma-Bellevue, WA MSA               0.0  \n",
       "2        Seattle-Tacoma-Bellevue, WA MSA               0.0  \n",
       "3        Seattle-Tacoma-Bellevue, WA MSA               0.0  \n",
       "4        Seattle-Tacoma-Bellevue, WA MSA               0.0  "
      ]
     },
     "execution_count": 39,
     "metadata": {},
     "output_type": "execute_result"
    }
   ],
   "source": [
    "  def chargeable_calls (row): \n",
    "    plan = row['plan_name'] \n",
    "    minutos_usados = row['minutos_usados'] \n",
    "\n",
    "    minutos_cobrables = 0\n",
    "  \n",
    "    if plan == 'surf': \n",
    "        if minutos_usados >surf_month_min: \n",
    "            minutos_cobrables = minutos_usados - surf_month_min \n",
    "       \n",
    "\n",
    "    elif plan == 'ultimate': \n",
    "        if minutos_usados > ultimate_month_min: \n",
    "            minutos_cobrables = minutos_usados - ultimate_month_min  \n",
    "\n",
    "    return minutos_cobrables \n",
    "\n",
    "consumo_tarifario['chargeable_calls'] = consumo_tarifario.apply(chargeable_calls, axis =1) \n",
    "consumo_tarifario.head() \n",
    "\n",
    "\n",
    "\n",
    "\n",
    "# Compara la duración promedio de llamadas por cada plan y por cada mes. Traza un gráfico de barras para visualizarla.\n",
    "\n"
   ]
  },
  {
   "cell_type": "code",
   "execution_count": 40,
   "metadata": {
    "scrolled": true
   },
   "outputs": [
    {
     "data": {
      "image/png": "[encoded data removed]",
      "text/plain": [
       "<Figure size 640x480 with 1 Axes>"
      ]
     },
     "metadata": {},
     "output_type": "display_data"
    }
   ],
   "source": [
    "\n",
    "\n",
    "consumo_tarifario[consumo_tarifario.index < 40].plot(kind='bar',\n",
    "                       x = 'minutos_usados',\n",
    "                       y = 'month',\n",
    "                        title= 'llamadas realizadas',\n",
    "                        xlabel = 'llamadas',\n",
    "                        ylabel ='meses',\n",
    "                          )\n",
    "\n",
    "plt.show()"
   ]
  },
  {
   "cell_type": "code",
   "execution_count": 41,
   "metadata": {},
   "outputs": [],
   "source": [
    "columnas_minutos = ['minutos_usados']\n",
    "plans = ['surf', 'ultimate']"
   ]
  },
  {
   "cell_type": "code",
   "execution_count": 42,
   "metadata": {
    "id": "QoLqW1S_0q1J"
   },
   "outputs": [
    {
     "data": {
      "image/png": "[encoded data removed]",
      "text/plain": [
       "<Figure size 640x480 with 1 Axes>"
      ]
     },
     "metadata": {},
     "output_type": "display_data"
    }
   ],
   "source": [
    "# Compara el número de minutos mensuales que necesitan los usuarios de cada plan. Traza un histograma.\n",
    "for columna in columnas_minutos:\n",
    "    for plan in plans:\n",
    "        consumo_tarifario[consumo_tarifario['plan_name']==plan][columna].plot(kind = 'hist', title = 'minutos_usados')\n",
    "\n",
    "plt.legend(['surf', 'ultimate'])\n",
    "plt.show()\n",
    "\n",
    "#Calcula la media y la variable de la duración de las llamadas para averiguar si los usuarios de los distintos planes se comportan de forma diferente al realizar sus llamadas.]"
   ]
  },
  {
   "cell_type": "code",
   "execution_count": 43,
   "metadata": {
    "id": "oSndbAnt0q1K"
   },
   "outputs": [
    {
     "name": "stdout",
     "output_type": "stream",
     "text": [
      "435.9375553587245\n",
      "53787.33666754012\n"
     ]
    }
   ],
   "source": [
    "media_minutos = np.mean(consumo_tarifario['minutos_usados'])\n",
    "print(media_minutos)\n",
    "varian_minutos= np.var(consumo_tarifario['minutos_usados']) # Calcula la media y la varianza de la duración mensual de llamadas.\n",
    "print(varian_minutos)\n"
   ]
  },
  {
   "cell_type": "code",
   "execution_count": 44,
   "metadata": {
    "id": "nZzoRUKc0q1K"
   },
   "outputs": [
    {
     "data": {
      "image/png": "[encoded data removed]",
      "text/plain": [
       "<Figure size 640x480 with 1 Axes>"
      ]
     },
     "metadata": {},
     "output_type": "display_data"
    }
   ],
   "source": [
    "consumo_tarifario['minutos_usados'] = consumo_tarifario['minutos_usados'].sort_values()\n",
    "\n",
    "plt.boxplot(consumo_tarifario['minutos_usados'].describe()) # Traza un diagrama de caja para visualizar la distribución de la duración mensual de llamadas\n",
    "plt.show()\n"
   ]
  },
  {
   "cell_type": "markdown",
   "metadata": {
    "id": "r627zBO50q1K"
   },
   "source": [
    "[Elabora las conclusiones sobre el comportamiento de los usuarios con respecto a las llamadas. ¿Su comportamiento varía en función del plan?]"
   ]
  },
  {
   "cell_type": "markdown",
   "metadata": {
    "id": "8idKy8Wh0q1L"
   },
   "source": [
    "### Mensajes"
   ]
  },
  {
   "cell_type": "code",
   "execution_count": 45,
   "metadata": {
    "id": "NXLxiTit0q1L"
   },
   "outputs": [
    {
     "data": {
      "text/html": [
       "<div>\n",
       "<style scoped>\n",
       "    .dataframe tbody tr th:only-of-type {\n",
       "        vertical-align: middle;\n",
       "    }\n",
       "\n",
       "    .dataframe tbody tr th {\n",
       "        vertical-align: top;\n",
       "    }\n",
       "\n",
       "    .dataframe thead th {\n",
       "        text-align: right;\n",
       "    }\n",
       "</style>\n",
       "<table border=\"1\" class=\"dataframe\">\n",
       "  <thead>\n",
       "    <tr style=\"text-align: right;\">\n",
       "      <th></th>\n",
       "      <th>user_id</th>\n",
       "      <th>month</th>\n",
       "      <th>minutos_usados</th>\n",
       "      <th>llamadas_realizadas</th>\n",
       "      <th>total_mensajes</th>\n",
       "      <th>total_datos</th>\n",
       "      <th>total_de_datos_redondeado</th>\n",
       "      <th>plan_name</th>\n",
       "      <th>city</th>\n",
       "      <th>chargeable_calls</th>\n",
       "      <th>chargeable_message</th>\n",
       "    </tr>\n",
       "  </thead>\n",
       "  <tbody>\n",
       "    <tr>\n",
       "      <th>0</th>\n",
       "      <td>1000</td>\n",
       "      <td>12.0</td>\n",
       "      <td>124.0</td>\n",
       "      <td>16.0</td>\n",
       "      <td>11.0</td>\n",
       "      <td>1901.47</td>\n",
       "      <td>2.0</td>\n",
       "      <td>ultimate</td>\n",
       "      <td>Atlanta-Sandy Springs-Roswell, GA MSA</td>\n",
       "      <td>0.0</td>\n",
       "      <td>0.0</td>\n",
       "    </tr>\n",
       "    <tr>\n",
       "      <th>1</th>\n",
       "      <td>1001</td>\n",
       "      <td>8.0</td>\n",
       "      <td>182.0</td>\n",
       "      <td>27.0</td>\n",
       "      <td>30.0</td>\n",
       "      <td>6919.15</td>\n",
       "      <td>7.0</td>\n",
       "      <td>surf</td>\n",
       "      <td>Seattle-Tacoma-Bellevue, WA MSA</td>\n",
       "      <td>0.0</td>\n",
       "      <td>0.0</td>\n",
       "    </tr>\n",
       "    <tr>\n",
       "      <th>2</th>\n",
       "      <td>1001</td>\n",
       "      <td>9.0</td>\n",
       "      <td>315.0</td>\n",
       "      <td>49.0</td>\n",
       "      <td>44.0</td>\n",
       "      <td>13314.82</td>\n",
       "      <td>14.0</td>\n",
       "      <td>surf</td>\n",
       "      <td>Seattle-Tacoma-Bellevue, WA MSA</td>\n",
       "      <td>0.0</td>\n",
       "      <td>0.0</td>\n",
       "    </tr>\n",
       "    <tr>\n",
       "      <th>3</th>\n",
       "      <td>1001</td>\n",
       "      <td>10.0</td>\n",
       "      <td>393.0</td>\n",
       "      <td>65.0</td>\n",
       "      <td>53.0</td>\n",
       "      <td>22330.49</td>\n",
       "      <td>22.0</td>\n",
       "      <td>surf</td>\n",
       "      <td>Seattle-Tacoma-Bellevue, WA MSA</td>\n",
       "      <td>0.0</td>\n",
       "      <td>3.0</td>\n",
       "    </tr>\n",
       "    <tr>\n",
       "      <th>4</th>\n",
       "      <td>1001</td>\n",
       "      <td>11.0</td>\n",
       "      <td>426.0</td>\n",
       "      <td>64.0</td>\n",
       "      <td>36.0</td>\n",
       "      <td>18504.30</td>\n",
       "      <td>19.0</td>\n",
       "      <td>surf</td>\n",
       "      <td>Seattle-Tacoma-Bellevue, WA MSA</td>\n",
       "      <td>0.0</td>\n",
       "      <td>0.0</td>\n",
       "    </tr>\n",
       "  </tbody>\n",
       "</table>\n",
       "</div>"
      ],
      "text/plain": [
       "   user_id  month  minutos_usados  llamadas_realizadas  total_mensajes  \\\n",
       "0     1000   12.0           124.0                 16.0            11.0   \n",
       "1     1001    8.0           182.0                 27.0            30.0   \n",
       "2     1001    9.0           315.0                 49.0            44.0   \n",
       "3     1001   10.0           393.0                 65.0            53.0   \n",
       "4     1001   11.0           426.0                 64.0            36.0   \n",
       "\n",
       "   total_datos  total_de_datos_redondeado plan_name  \\\n",
       "0      1901.47                        2.0  ultimate   \n",
       "1      6919.15                        7.0      surf   \n",
       "2     13314.82                       14.0      surf   \n",
       "3     22330.49                       22.0      surf   \n",
       "4     18504.30                       19.0      surf   \n",
       "\n",
       "                                    city  chargeable_calls  chargeable_message  \n",
       "0  Atlanta-Sandy Springs-Roswell, GA MSA               0.0                 0.0  \n",
       "1        Seattle-Tacoma-Bellevue, WA MSA               0.0                 0.0  \n",
       "2        Seattle-Tacoma-Bellevue, WA MSA               0.0                 0.0  \n",
       "3        Seattle-Tacoma-Bellevue, WA MSA               0.0                 3.0  \n",
       "4        Seattle-Tacoma-Bellevue, WA MSA               0.0                 0.0  "
      ]
     },
     "execution_count": 45,
     "metadata": {},
     "output_type": "execute_result"
    }
   ],
   "source": [
    "def chargeable_message (row): \n",
    "    plan = row['plan_name'] \n",
    "    total_mensajes = row['total_mensajes']\n",
    "    \n",
    "    mensajes_cobrables = 0\n",
    "\n",
    "    if plan == 'surf': \n",
    "        if total_mensajes > surf_month_sms: \n",
    "            mensajes_cobrables = total_mensajes - surf_month_sms       \n",
    "\n",
    "    elif plan == 'ultimate': \n",
    "        if total_mensajes > ultimate_month_sms: \n",
    "            mensajes_cobrables = total_mensajes - ultimate_month_sms\n",
    "    return mensajes_cobrables\n",
    "               \n",
    "consumo_tarifario['chargeable_message'] = consumo_tarifario.apply(chargeable_message, axis =1) \n",
    "consumo_tarifario.head() \n",
    "\n",
    "\n",
    " # Comprara el número de mensajes que tienden a enviar cada mes los usuarios de cada plan\n",
    "\n"
   ]
  },
  {
   "cell_type": "code",
   "execution_count": 46,
   "metadata": {},
   "outputs": [
    {
     "data": {
      "image/png": "[encoded data removed]",
      "text/plain": [
       "<Figure size 640x480 with 1 Axes>"
      ]
     },
     "metadata": {},
     "output_type": "display_data"
    }
   ],
   "source": [
    "columnas_mensajes = ['total_mensajes']\n",
    "plans = ['surf', 'ultimate']\n",
    "\n",
    "for columna in columnas_mensajes:\n",
    "    for plan in plans:\n",
    "        consumo_tarifario[consumo_tarifario['plan_name']==plan][columna].plot(kind = 'hist', title= 'total_mensajes')\n",
    "\n",
    "plt.legend(['surf', 'ultimate'])\n",
    "plt.show()\n"
   ]
  },
  {
   "cell_type": "code",
   "execution_count": 47,
   "metadata": {
    "id": "dtFwCGAp0q1M"
   },
   "outputs": [
    {
     "name": "stdout",
     "output_type": "stream",
     "text": [
      "42.110188261351055\n",
      "1096.5210811384227\n"
     ]
    }
   ],
   "source": [
    "media_minutos = np.mean(consumo_tarifario['total_mensajes'])\n",
    "print(media_minutos)\n",
    "varian_minutos= np.var(consumo_tarifario['total_mensajes']) # Calcula la media y la varianza de la duración mensual de llamadas.\n",
    "print(varian_minutos)\n"
   ]
  },
  {
   "cell_type": "code",
   "execution_count": 48,
   "metadata": {},
   "outputs": [
    {
     "data": {
      "image/png": "[encoded data removed]",
      "text/plain": [
       "<Figure size 640x480 with 1 Axes>"
      ]
     },
     "metadata": {},
     "output_type": "display_data"
    }
   ],
   "source": [
    "consumo_tarifario['total_mensajes'] = consumo_tarifario['total_mensajes'].sort_values()\n",
    "\n",
    "plt.boxplot(consumo_tarifario['total_mensajes'].describe()) # Traza un diagrama de caja para visualizar la distribución de la duración mensual de llamadas\n",
    "plt.show()"
   ]
  },
  {
   "cell_type": "markdown",
   "metadata": {
    "id": "390SSL480q1M"
   },
   "source": [
    "[Elabora las conclusiones sobre el comportamiento de los usuarios con respecto a los mensajes. ¿Su comportamiento varía en función del plan?]"
   ]
  },
  {
   "cell_type": "markdown",
   "metadata": {
    "id": "42YSypXz0q1M"
   },
   "source": [
    "### Internet"
   ]
  },
  {
   "cell_type": "code",
   "execution_count": 49,
   "metadata": {
    "id": "lSuKPtjh0q1M"
   },
   "outputs": [
    {
     "data": {
      "text/html": [
       "<div>\n",
       "<style scoped>\n",
       "    .dataframe tbody tr th:only-of-type {\n",
       "        vertical-align: middle;\n",
       "    }\n",
       "\n",
       "    .dataframe tbody tr th {\n",
       "        vertical-align: top;\n",
       "    }\n",
       "\n",
       "    .dataframe thead th {\n",
       "        text-align: right;\n",
       "    }\n",
       "</style>\n",
       "<table border=\"1\" class=\"dataframe\">\n",
       "  <thead>\n",
       "    <tr style=\"text-align: right;\">\n",
       "      <th></th>\n",
       "      <th>user_id</th>\n",
       "      <th>month</th>\n",
       "      <th>minutos_usados</th>\n",
       "      <th>llamadas_realizadas</th>\n",
       "      <th>total_mensajes</th>\n",
       "      <th>total_datos</th>\n",
       "      <th>total_de_datos_redondeado</th>\n",
       "      <th>plan_name</th>\n",
       "      <th>city</th>\n",
       "      <th>chargeable_calls</th>\n",
       "      <th>chargeable_message</th>\n",
       "      <th>chargeable_datos</th>\n",
       "    </tr>\n",
       "  </thead>\n",
       "  <tbody>\n",
       "    <tr>\n",
       "      <th>0</th>\n",
       "      <td>1000</td>\n",
       "      <td>12.0</td>\n",
       "      <td>124.0</td>\n",
       "      <td>16.0</td>\n",
       "      <td>11.0</td>\n",
       "      <td>1901.47</td>\n",
       "      <td>2.0</td>\n",
       "      <td>ultimate</td>\n",
       "      <td>Atlanta-Sandy Springs-Roswell, GA MSA</td>\n",
       "      <td>0.0</td>\n",
       "      <td>0.0</td>\n",
       "      <td>0.0</td>\n",
       "    </tr>\n",
       "    <tr>\n",
       "      <th>1</th>\n",
       "      <td>1001</td>\n",
       "      <td>8.0</td>\n",
       "      <td>182.0</td>\n",
       "      <td>27.0</td>\n",
       "      <td>30.0</td>\n",
       "      <td>6919.15</td>\n",
       "      <td>7.0</td>\n",
       "      <td>surf</td>\n",
       "      <td>Seattle-Tacoma-Bellevue, WA MSA</td>\n",
       "      <td>0.0</td>\n",
       "      <td>0.0</td>\n",
       "      <td>0.0</td>\n",
       "    </tr>\n",
       "    <tr>\n",
       "      <th>2</th>\n",
       "      <td>1001</td>\n",
       "      <td>9.0</td>\n",
       "      <td>315.0</td>\n",
       "      <td>49.0</td>\n",
       "      <td>44.0</td>\n",
       "      <td>13314.82</td>\n",
       "      <td>14.0</td>\n",
       "      <td>surf</td>\n",
       "      <td>Seattle-Tacoma-Bellevue, WA MSA</td>\n",
       "      <td>0.0</td>\n",
       "      <td>0.0</td>\n",
       "      <td>0.0</td>\n",
       "    </tr>\n",
       "    <tr>\n",
       "      <th>3</th>\n",
       "      <td>1001</td>\n",
       "      <td>10.0</td>\n",
       "      <td>393.0</td>\n",
       "      <td>65.0</td>\n",
       "      <td>53.0</td>\n",
       "      <td>22330.49</td>\n",
       "      <td>22.0</td>\n",
       "      <td>surf</td>\n",
       "      <td>Seattle-Tacoma-Bellevue, WA MSA</td>\n",
       "      <td>0.0</td>\n",
       "      <td>3.0</td>\n",
       "      <td>7.0</td>\n",
       "    </tr>\n",
       "    <tr>\n",
       "      <th>4</th>\n",
       "      <td>1001</td>\n",
       "      <td>11.0</td>\n",
       "      <td>426.0</td>\n",
       "      <td>64.0</td>\n",
       "      <td>36.0</td>\n",
       "      <td>18504.30</td>\n",
       "      <td>19.0</td>\n",
       "      <td>surf</td>\n",
       "      <td>Seattle-Tacoma-Bellevue, WA MSA</td>\n",
       "      <td>0.0</td>\n",
       "      <td>0.0</td>\n",
       "      <td>4.0</td>\n",
       "    </tr>\n",
       "    <tr>\n",
       "      <th>...</th>\n",
       "      <td>...</td>\n",
       "      <td>...</td>\n",
       "      <td>...</td>\n",
       "      <td>...</td>\n",
       "      <td>...</td>\n",
       "      <td>...</td>\n",
       "      <td>...</td>\n",
       "      <td>...</td>\n",
       "      <td>...</td>\n",
       "      <td>...</td>\n",
       "      <td>...</td>\n",
       "      <td>...</td>\n",
       "    </tr>\n",
       "    <tr>\n",
       "      <th>2298</th>\n",
       "      <td>1307</td>\n",
       "      <td>NaN</td>\n",
       "      <td>NaN</td>\n",
       "      <td>NaN</td>\n",
       "      <td>NaN</td>\n",
       "      <td>NaN</td>\n",
       "      <td>NaN</td>\n",
       "      <td>surf</td>\n",
       "      <td>Boston-Cambridge-Newton, MA-NH MSA</td>\n",
       "      <td>0.0</td>\n",
       "      <td>0.0</td>\n",
       "      <td>0.0</td>\n",
       "    </tr>\n",
       "    <tr>\n",
       "      <th>2299</th>\n",
       "      <td>1319</td>\n",
       "      <td>NaN</td>\n",
       "      <td>NaN</td>\n",
       "      <td>NaN</td>\n",
       "      <td>NaN</td>\n",
       "      <td>NaN</td>\n",
       "      <td>NaN</td>\n",
       "      <td>surf</td>\n",
       "      <td>Colorado Springs, CO MSA</td>\n",
       "      <td>0.0</td>\n",
       "      <td>0.0</td>\n",
       "      <td>0.0</td>\n",
       "    </tr>\n",
       "    <tr>\n",
       "      <th>2300</th>\n",
       "      <td>1378</td>\n",
       "      <td>NaN</td>\n",
       "      <td>NaN</td>\n",
       "      <td>NaN</td>\n",
       "      <td>NaN</td>\n",
       "      <td>NaN</td>\n",
       "      <td>NaN</td>\n",
       "      <td>surf</td>\n",
       "      <td>Denver-Aurora-Lakewood, CO MSA</td>\n",
       "      <td>0.0</td>\n",
       "      <td>0.0</td>\n",
       "      <td>0.0</td>\n",
       "    </tr>\n",
       "    <tr>\n",
       "      <th>2301</th>\n",
       "      <td>1463</td>\n",
       "      <td>NaN</td>\n",
       "      <td>NaN</td>\n",
       "      <td>NaN</td>\n",
       "      <td>NaN</td>\n",
       "      <td>NaN</td>\n",
       "      <td>NaN</td>\n",
       "      <td>ultimate</td>\n",
       "      <td>Atlanta-Sandy Springs-Roswell, GA MSA</td>\n",
       "      <td>0.0</td>\n",
       "      <td>0.0</td>\n",
       "      <td>0.0</td>\n",
       "    </tr>\n",
       "    <tr>\n",
       "      <th>2302</th>\n",
       "      <td>1473</td>\n",
       "      <td>NaN</td>\n",
       "      <td>NaN</td>\n",
       "      <td>NaN</td>\n",
       "      <td>NaN</td>\n",
       "      <td>NaN</td>\n",
       "      <td>NaN</td>\n",
       "      <td>surf</td>\n",
       "      <td>Louisville/Jefferson County, KY-IN MSA</td>\n",
       "      <td>0.0</td>\n",
       "      <td>0.0</td>\n",
       "      <td>0.0</td>\n",
       "    </tr>\n",
       "  </tbody>\n",
       "</table>\n",
       "<p>2303 rows × 12 columns</p>\n",
       "</div>"
      ],
      "text/plain": [
       "      user_id  month  minutos_usados  llamadas_realizadas  total_mensajes  \\\n",
       "0        1000   12.0           124.0                 16.0            11.0   \n",
       "1        1001    8.0           182.0                 27.0            30.0   \n",
       "2        1001    9.0           315.0                 49.0            44.0   \n",
       "3        1001   10.0           393.0                 65.0            53.0   \n",
       "4        1001   11.0           426.0                 64.0            36.0   \n",
       "...       ...    ...             ...                  ...             ...   \n",
       "2298     1307    NaN             NaN                  NaN             NaN   \n",
       "2299     1319    NaN             NaN                  NaN             NaN   \n",
       "2300     1378    NaN             NaN                  NaN             NaN   \n",
       "2301     1463    NaN             NaN                  NaN             NaN   \n",
       "2302     1473    NaN             NaN                  NaN             NaN   \n",
       "\n",
       "      total_datos  total_de_datos_redondeado plan_name  \\\n",
       "0         1901.47                        2.0  ultimate   \n",
       "1         6919.15                        7.0      surf   \n",
       "2        13314.82                       14.0      surf   \n",
       "3        22330.49                       22.0      surf   \n",
       "4        18504.30                       19.0      surf   \n",
       "...           ...                        ...       ...   \n",
       "2298          NaN                        NaN      surf   \n",
       "2299          NaN                        NaN      surf   \n",
       "2300          NaN                        NaN      surf   \n",
       "2301          NaN                        NaN  ultimate   \n",
       "2302          NaN                        NaN      surf   \n",
       "\n",
       "                                        city  chargeable_calls  \\\n",
       "0      Atlanta-Sandy Springs-Roswell, GA MSA               0.0   \n",
       "1            Seattle-Tacoma-Bellevue, WA MSA               0.0   \n",
       "2            Seattle-Tacoma-Bellevue, WA MSA               0.0   \n",
       "3            Seattle-Tacoma-Bellevue, WA MSA               0.0   \n",
       "4            Seattle-Tacoma-Bellevue, WA MSA               0.0   \n",
       "...                                      ...               ...   \n",
       "2298      Boston-Cambridge-Newton, MA-NH MSA               0.0   \n",
       "2299                Colorado Springs, CO MSA               0.0   \n",
       "2300          Denver-Aurora-Lakewood, CO MSA               0.0   \n",
       "2301   Atlanta-Sandy Springs-Roswell, GA MSA               0.0   \n",
       "2302  Louisville/Jefferson County, KY-IN MSA               0.0   \n",
       "\n",
       "      chargeable_message  chargeable_datos  \n",
       "0                    0.0               0.0  \n",
       "1                    0.0               0.0  \n",
       "2                    0.0               0.0  \n",
       "3                    3.0               7.0  \n",
       "4                    0.0               4.0  \n",
       "...                  ...               ...  \n",
       "2298                 0.0               0.0  \n",
       "2299                 0.0               0.0  \n",
       "2300                 0.0               0.0  \n",
       "2301                 0.0               0.0  \n",
       "2302                 0.0               0.0  \n",
       "\n",
       "[2303 rows x 12 columns]"
      ]
     },
     "execution_count": 49,
     "metadata": {},
     "output_type": "execute_result"
    }
   ],
   "source": [
    "def chargeable_datos (row): \n",
    "    plan = row['plan_name'] \n",
    "    total_datos = row['total_de_datos_redondeado'] \n",
    "\n",
    "    datos_cobrables = 0\n",
    "  \n",
    "    if plan == 'surf': \n",
    "        if total_datos > surf_month_gb: \n",
    "            datos_cobrables = total_datos - surf_month_gb \n",
    "         \n",
    "\n",
    "    elif plan == 'ultimate': \n",
    "        if total_datos > ultimate_month_gb: \n",
    "            datos_cobrables = total_datos - ultimate_month_gb \n",
    "\n",
    "        \n",
    "    return datos_cobrables \n",
    "\n",
    "consumo_tarifario['chargeable_datos'] = consumo_tarifario.apply(chargeable_datos, axis =1) \n",
    "consumo_tarifario\n",
    "\n",
    "\n",
    "  # Compara la cantidad de tráfico de Internet consumido por usuarios por plan\n"
   ]
  },
  {
   "cell_type": "code",
   "execution_count": 50,
   "metadata": {},
   "outputs": [
    {
     "data": {
      "image/png": "[encoded data removed]",
      "text/plain": [
       "<Figure size 640x480 with 1 Axes>"
      ]
     },
     "metadata": {},
     "output_type": "display_data"
    }
   ],
   "source": [
    "columnas_datos = ['total_de_datos_redondeado']\n",
    "plans = ['surf', 'ultimate']\n",
    "\n",
    "for columna in columnas_datos:\n",
    "    for plan in plans:\n",
    "        consumo_tarifario[consumo_tarifario['plan_name']==plan][columna].plot(kind = 'hist',\n",
    "                                                                             title = 'total_de_datos_redondeado' \n",
    "                                                                              )\n",
    "\n",
    "plt.legend(['surf', 'ultimate'])\n",
    "plt.show()"
   ]
  },
  {
   "cell_type": "code",
   "execution_count": 51,
   "metadata": {
    "id": "5VlyJ9ry0q1N"
   },
   "outputs": [
    {
     "name": "stdout",
     "output_type": "stream",
     "text": [
      "16.989020641194553\n",
      "59.166765707523\n"
     ]
    }
   ],
   "source": [
    "media_minutos = np.mean(consumo_tarifario['total_de_datos_redondeado'])\n",
    "print(media_minutos)\n",
    "varian_minutos= np.var(consumo_tarifario['total_de_datos_redondeado']) # Calcula la media y la varianza de la duración mensual de llamadas.\n",
    "print(varian_minutos)\n"
   ]
  },
  {
   "cell_type": "code",
   "execution_count": 52,
   "metadata": {},
   "outputs": [
    {
     "data": {
      "image/png": "[encoded data removed]",
      "text/plain": [
       "<Figure size 640x480 with 1 Axes>"
      ]
     },
     "metadata": {},
     "output_type": "display_data"
    }
   ],
   "source": [
    "consumo_tarifario['total_de_datos_redondeado'] = consumo_tarifario['total_de_datos_redondeado'].sort_values()\n",
    "\n",
    "plt.boxplot(consumo_tarifario['total_de_datos_redondeado'].describe()) # Traza un diagrama de caja para visualizar la distribución de la duración mensual de llamadas\n",
    "plt.show()\n"
   ]
  },
  {
   "cell_type": "markdown",
   "metadata": {
    "id": "UN9zwuMP0q1N"
   },
   "source": [
    "[Elabora las conclusiones sobre cómo los usuarios tienden a consumir el tráfico de Internet. ¿Su comportamiento varía en función del plan?]"
   ]
  },
  {
   "cell_type": "code",
   "execution_count": null,
   "metadata": {},
   "outputs": [],
   "source": []
  },
  {
   "cell_type": "markdown",
   "metadata": {
    "id": "tCijq3260q1N"
   },
   "source": [
    "## Ingreso"
   ]
  },
  {
   "cell_type": "markdown",
   "metadata": {
    "id": "9nq5IAcy0q1O"
   },
   "source": [
    "[Del mismo modo que has estudiado el comportamiento de los usuarios, describe estadísticamente los ingresos de los planes.]"
   ]
  },
  {
   "cell_type": "code",
   "execution_count": 53,
   "metadata": {},
   "outputs": [],
   "source": [
    "def monthly_rev(row): \n",
    "    plan = row['plan_name'] \n",
    "    chargeable_calls = row['chargeable_calls'] \n",
    "    chargeable_message = row['chargeable_message'] \n",
    "    chargeable_data = row['chargeable_datos'] \n",
    "\n",
    "    revenue = 0\n",
    "    \n",
    "    if plan == 'surf': \n",
    "        revenue = surf_month +(chargeable_calls * surf_call) + (chargeable_message * surf_message) + (chargeable_data * surf_gb)\n",
    "\n",
    "    elif plan == 'ultimate':\n",
    "        revenue = ultimate_month +(chargeable_calls * ultimate_call) + (chargeable_message * ultimate_message) + (chargeable_data * ultimate_gb) \n",
    "    return revenue \n"
   ]
  },
  {
   "cell_type": "code",
   "execution_count": 54,
   "metadata": {},
   "outputs": [
    {
     "data": {
      "text/html": [
       "<div>\n",
       "<style scoped>\n",
       "    .dataframe tbody tr th:only-of-type {\n",
       "        vertical-align: middle;\n",
       "    }\n",
       "\n",
       "    .dataframe tbody tr th {\n",
       "        vertical-align: top;\n",
       "    }\n",
       "\n",
       "    .dataframe thead th {\n",
       "        text-align: right;\n",
       "    }\n",
       "</style>\n",
       "<table border=\"1\" class=\"dataframe\">\n",
       "  <thead>\n",
       "    <tr style=\"text-align: right;\">\n",
       "      <th></th>\n",
       "      <th>user_id</th>\n",
       "      <th>month</th>\n",
       "      <th>minutos_usados</th>\n",
       "      <th>llamadas_realizadas</th>\n",
       "      <th>total_mensajes</th>\n",
       "      <th>total_datos</th>\n",
       "      <th>total_de_datos_redondeado</th>\n",
       "      <th>plan_name</th>\n",
       "      <th>city</th>\n",
       "      <th>chargeable_calls</th>\n",
       "      <th>chargeable_message</th>\n",
       "      <th>chargeable_datos</th>\n",
       "      <th>monthly_revenue</th>\n",
       "    </tr>\n",
       "  </thead>\n",
       "  <tbody>\n",
       "    <tr>\n",
       "      <th>0</th>\n",
       "      <td>1000</td>\n",
       "      <td>12.0</td>\n",
       "      <td>124.0</td>\n",
       "      <td>16.0</td>\n",
       "      <td>11.0</td>\n",
       "      <td>1901.47</td>\n",
       "      <td>2.0</td>\n",
       "      <td>ultimate</td>\n",
       "      <td>Atlanta-Sandy Springs-Roswell, GA MSA</td>\n",
       "      <td>0.0</td>\n",
       "      <td>0.0</td>\n",
       "      <td>0.0</td>\n",
       "      <td>70.00</td>\n",
       "    </tr>\n",
       "    <tr>\n",
       "      <th>1</th>\n",
       "      <td>1001</td>\n",
       "      <td>8.0</td>\n",
       "      <td>182.0</td>\n",
       "      <td>27.0</td>\n",
       "      <td>30.0</td>\n",
       "      <td>6919.15</td>\n",
       "      <td>7.0</td>\n",
       "      <td>surf</td>\n",
       "      <td>Seattle-Tacoma-Bellevue, WA MSA</td>\n",
       "      <td>0.0</td>\n",
       "      <td>0.0</td>\n",
       "      <td>0.0</td>\n",
       "      <td>20.00</td>\n",
       "    </tr>\n",
       "    <tr>\n",
       "      <th>2</th>\n",
       "      <td>1001</td>\n",
       "      <td>9.0</td>\n",
       "      <td>315.0</td>\n",
       "      <td>49.0</td>\n",
       "      <td>44.0</td>\n",
       "      <td>13314.82</td>\n",
       "      <td>14.0</td>\n",
       "      <td>surf</td>\n",
       "      <td>Seattle-Tacoma-Bellevue, WA MSA</td>\n",
       "      <td>0.0</td>\n",
       "      <td>0.0</td>\n",
       "      <td>0.0</td>\n",
       "      <td>20.00</td>\n",
       "    </tr>\n",
       "    <tr>\n",
       "      <th>3</th>\n",
       "      <td>1001</td>\n",
       "      <td>10.0</td>\n",
       "      <td>393.0</td>\n",
       "      <td>65.0</td>\n",
       "      <td>53.0</td>\n",
       "      <td>22330.49</td>\n",
       "      <td>22.0</td>\n",
       "      <td>surf</td>\n",
       "      <td>Seattle-Tacoma-Bellevue, WA MSA</td>\n",
       "      <td>0.0</td>\n",
       "      <td>3.0</td>\n",
       "      <td>7.0</td>\n",
       "      <td>90.09</td>\n",
       "    </tr>\n",
       "    <tr>\n",
       "      <th>4</th>\n",
       "      <td>1001</td>\n",
       "      <td>11.0</td>\n",
       "      <td>426.0</td>\n",
       "      <td>64.0</td>\n",
       "      <td>36.0</td>\n",
       "      <td>18504.30</td>\n",
       "      <td>19.0</td>\n",
       "      <td>surf</td>\n",
       "      <td>Seattle-Tacoma-Bellevue, WA MSA</td>\n",
       "      <td>0.0</td>\n",
       "      <td>0.0</td>\n",
       "      <td>4.0</td>\n",
       "      <td>60.00</td>\n",
       "    </tr>\n",
       "  </tbody>\n",
       "</table>\n",
       "</div>"
      ],
      "text/plain": [
       "   user_id  month  minutos_usados  llamadas_realizadas  total_mensajes  \\\n",
       "0     1000   12.0           124.0                 16.0            11.0   \n",
       "1     1001    8.0           182.0                 27.0            30.0   \n",
       "2     1001    9.0           315.0                 49.0            44.0   \n",
       "3     1001   10.0           393.0                 65.0            53.0   \n",
       "4     1001   11.0           426.0                 64.0            36.0   \n",
       "\n",
       "   total_datos  total_de_datos_redondeado plan_name  \\\n",
       "0      1901.47                        2.0  ultimate   \n",
       "1      6919.15                        7.0      surf   \n",
       "2     13314.82                       14.0      surf   \n",
       "3     22330.49                       22.0      surf   \n",
       "4     18504.30                       19.0      surf   \n",
       "\n",
       "                                    city  chargeable_calls  \\\n",
       "0  Atlanta-Sandy Springs-Roswell, GA MSA               0.0   \n",
       "1        Seattle-Tacoma-Bellevue, WA MSA               0.0   \n",
       "2        Seattle-Tacoma-Bellevue, WA MSA               0.0   \n",
       "3        Seattle-Tacoma-Bellevue, WA MSA               0.0   \n",
       "4        Seattle-Tacoma-Bellevue, WA MSA               0.0   \n",
       "\n",
       "   chargeable_message  chargeable_datos  monthly_revenue  \n",
       "0                 0.0               0.0            70.00  \n",
       "1                 0.0               0.0            20.00  \n",
       "2                 0.0               0.0            20.00  \n",
       "3                 3.0               7.0            90.09  \n",
       "4                 0.0               4.0            60.00  "
      ]
     },
     "execution_count": 54,
     "metadata": {},
     "output_type": "execute_result"
    }
   ],
   "source": [
    "consumo_tarifario['monthly_revenue'] = consumo_tarifario.apply(monthly_rev, axis =1) \n",
    "consumo_tarifario.head()  "
   ]
  },
  {
   "cell_type": "code",
   "execution_count": 55,
   "metadata": {
    "id": "tz-dq_V00q1O"
   },
   "outputs": [
    {
     "data": {
      "text/html": [
       "<div>\n",
       "<style scoped>\n",
       "    .dataframe tbody tr th:only-of-type {\n",
       "        vertical-align: middle;\n",
       "    }\n",
       "\n",
       "    .dataframe tbody tr th {\n",
       "        vertical-align: top;\n",
       "    }\n",
       "\n",
       "    .dataframe thead th {\n",
       "        text-align: right;\n",
       "    }\n",
       "</style>\n",
       "<table border=\"1\" class=\"dataframe\">\n",
       "  <thead>\n",
       "    <tr style=\"text-align: right;\">\n",
       "      <th></th>\n",
       "      <th>plan_name</th>\n",
       "      <th>count</th>\n",
       "      <th>mean</th>\n",
       "      <th>std</th>\n",
       "      <th>min</th>\n",
       "      <th>25%</th>\n",
       "      <th>50%</th>\n",
       "      <th>75%</th>\n",
       "      <th>max</th>\n",
       "    </tr>\n",
       "  </thead>\n",
       "  <tbody>\n",
       "    <tr>\n",
       "      <th>0</th>\n",
       "      <td>surf</td>\n",
       "      <td>1579.0</td>\n",
       "      <td>60.551729</td>\n",
       "      <td>55.339379</td>\n",
       "      <td>20.0</td>\n",
       "      <td>20.0</td>\n",
       "      <td>40.18</td>\n",
       "      <td>80.315</td>\n",
       "      <td>590.37</td>\n",
       "    </tr>\n",
       "    <tr>\n",
       "      <th>1</th>\n",
       "      <td>ultimate</td>\n",
       "      <td>724.0</td>\n",
       "      <td>72.301105</td>\n",
       "      <td>11.364839</td>\n",
       "      <td>70.0</td>\n",
       "      <td>70.0</td>\n",
       "      <td>70.00</td>\n",
       "      <td>70.000</td>\n",
       "      <td>182.00</td>\n",
       "    </tr>\n",
       "  </tbody>\n",
       "</table>\n",
       "</div>"
      ],
      "text/plain": [
       "  plan_name   count       mean        std   min   25%    50%     75%     max\n",
       "0      surf  1579.0  60.551729  55.339379  20.0  20.0  40.18  80.315  590.37\n",
       "1  ultimate   724.0  72.301105  11.364839  70.0  70.0  70.00  70.000  182.00"
      ]
     },
     "execution_count": 55,
     "metadata": {},
     "output_type": "execute_result"
    }
   ],
   "source": [
    "ingresos= consumo_tarifario.groupby('plan_name')['monthly_revenue'].describe()\n",
    "ingresos = ingresos.reset_index()\n",
    "ingresos"
   ]
  },
  {
   "cell_type": "code",
   "execution_count": 56,
   "metadata": {},
   "outputs": [
    {
     "data": {
      "image/png": "[encoded data removed]",
      "text/plain": [
       "<Figure size 640x480 with 1 Axes>"
      ]
     },
     "metadata": {},
     "output_type": "display_data"
    }
   ],
   "source": [
    "\n",
    "columnas_ingresos = ['monthly_revenue']\n",
    "plans = ['surf', 'ultimate']\n",
    "\n",
    "for columna in columnas_ingresos:\n",
    "    for plan in plans:\n",
    "        consumo_tarifario[consumo_tarifario['plan_name']==plan][columna].plot(kind = 'hist',\n",
    "                                                                              title = 'monthly_revenue')\n",
    "                                                                        \n",
    "plt.legend(['surf', 'ultimate'])\n",
    "plt.show()\n"
   ]
  },
  {
   "cell_type": "code",
   "execution_count": 57,
   "metadata": {
    "id": "bYmwxyVh0q1P"
   },
   "outputs": [
    {
     "data": {
      "image/png": "[encoded data removed]",
      "text/plain": [
       "<Figure size 640x480 with 1 Axes>"
      ]
     },
     "metadata": {},
     "output_type": "display_data"
    },
    {
     "data": {
      "image/png": "[encoded data removed]",
      "text/plain": [
       "<Figure size 640x480 with 1 Axes>"
      ]
     },
     "metadata": {},
     "output_type": "display_data"
    }
   ],
   "source": [
    "for columna in columnas_ingresos:\n",
    "    for plan in plans:\n",
    "        plt.boxplot(consumo_tarifario[consumo_tarifario['plan_name']==plan][columna].dropna())\n",
    "        plt.title(plan)\n",
    "        plt.show()"
   ]
  },
  {
   "cell_type": "markdown",
   "metadata": {
    "id": "KAFidcXZ0q1P"
   },
   "source": [
    "[Elabora las conclusiones sobre cómo difiere el ingreso entre los planes.]"
   ]
  },
  {
   "cell_type": "markdown",
   "metadata": {
    "id": "ajJ7VKeI0q1Q"
   },
   "source": [
    "## Prueba las hipótesis estadísticas"
   ]
  },
  {
   "cell_type": "markdown",
   "metadata": {
    "id": "AdXAZ-yL0q1Q"
   },
   "source": [
    "[Prueba la hipótesis de que son diferentes los ingresos promedio procedentes de los usuarios de los planes de llamada Ultimate y Surf.]"
   ]
  },
  {
   "cell_type": "markdown",
   "metadata": {
    "id": "IQwa_hsh0q1Q"
   },
   "source": [
    "[Elabora las hipótesis nula y alternativa, escoge la prueba estadística, determina el valor alfa.]"
   ]
  },
  {
   "cell_type": "code",
   "execution_count": 58,
   "metadata": {},
   "outputs": [
    {
     "name": "stdout",
     "output_type": "stream",
     "text": [
      "La rentabilidad mensual del plan surf es de 95611.18\n",
      "La rentabilidad mensual promedio del plan surf es de 60.551728942368584\n",
      "La rentabilidad mensual del plan ultimate es de 52346.0\n",
      "La rentabilidad mensual promedio del plan ultimate es de 72.3011049723757\n"
     ]
    }
   ],
   "source": [
    "plans = ['surf', 'ultimate']\n",
    "\n",
    "for plan in plans:\n",
    "    rentabilidad = consumo_tarifario[consumo_tarifario['plan_name'] == plan]['monthly_revenue'].sum()\n",
    "    rentabilidad_promedio = consumo_tarifario[consumo_tarifario['plan_name'] == plan]['monthly_revenue'].mean()\n",
    "    print(f'La rentabilidad mensual del plan {plan} es de {rentabilidad}')\n",
    "    print(f'La rentabilidad mensual promedio del plan {plan} es de { rentabilidad_promedio}')"
   ]
  },
  {
   "cell_type": "code",
   "execution_count": 59,
   "metadata": {},
   "outputs": [
    {
     "name": "stdout",
     "output_type": "stream",
     "text": [
      "1       20.00\n",
      "2       20.00\n",
      "3       90.09\n",
      "4       60.00\n",
      "5       60.00\n",
      "        ...  \n",
      "2295    20.00\n",
      "2298    20.00\n",
      "2299    20.00\n",
      "2300    20.00\n",
      "2302    20.00\n",
      "Name: monthly_revenue, Length: 1579, dtype: float64\n",
      "0       70.0\n",
      "19      70.0\n",
      "20      84.0\n",
      "26      70.0\n",
      "27      70.0\n",
      "        ... \n",
      "2292    70.0\n",
      "2293    70.0\n",
      "2296    70.0\n",
      "2297    70.0\n",
      "2301    70.0\n",
      "Name: monthly_revenue, Length: 724, dtype: float64\n"
     ]
    }
   ],
   "source": [
    "variable_1 =consumo_tarifario.query('plan_name == \"surf\"')['monthly_revenue']\n",
    "print(variable_1)\n",
    "variable_2 =consumo_tarifario.query('plan_name == \"ultimate\"')['monthly_revenue']\n",
    "print(variable_2)"
   ]
  },
  {
   "cell_type": "code",
   "execution_count": 60,
   "metadata": {
    "id": "nFoPNlPq0q1R"
   },
   "outputs": [
    {
     "name": "stdout",
     "output_type": "stream",
     "text": [
      "valor p:  1.218411585212325e-15\n",
      "Rechazamos la hipótesis nula\n"
     ]
    }
   ],
   "source": [
    "\n",
    "alpha = 0.05\n",
    "\n",
    "results = st.ttest_ind(\n",
    "    variable_1, \n",
    "    variable_2, equal_var=False )\n",
    "print('valor p: ', results.pvalue)\n",
    "\n",
    "if (results.pvalue < alpha):\n",
    "        print(\"Rechazamos la hipótesis nula\")\n",
    "else:\n",
    "        print(\"No podemos rechazar la hipótesis nula\")\n",
    "   \n",
    "   \n",
    "\n",
    "# Prueba las hipótesis\n",
    "\n"
   ]
  },
  {
   "cell_type": "markdown",
   "metadata": {
    "id": "tCcAruM60q1R"
   },
   "source": [
    "[Prueba la hipótesis de que el ingreso promedio de los usuarios del área NY-NJ es diferente al de los usuarios de otras regiones.]"
   ]
  },
  {
   "cell_type": "markdown",
   "metadata": {
    "id": "LsBgitqj0q1R"
   },
   "source": [
    "[Elabora las hipótesis nula y alternativa, escoge la prueba estadística, determina el valor alfa.]"
   ]
  },
  {
   "cell_type": "code",
   "execution_count": 61,
   "metadata": {},
   "outputs": [
    {
     "data": {
      "text/plain": [
       "array(['Atlanta-Sandy Springs-Roswell, GA MSA',\n",
       "       'Seattle-Tacoma-Bellevue, WA MSA',\n",
       "       'Las Vegas-Henderson-Paradise, NV MSA', 'Tulsa, OK MSA',\n",
       "       'Dallas-Fort Worth-Arlington, TX MSA',\n",
       "       'San Francisco-Oakland-Berkeley, CA MSA',\n",
       "       'Grand Rapids-Kentwood, MI MSA',\n",
       "       'Orlando-Kissimmee-Sanford, FL MSA',\n",
       "       'San Jose-Sunnyvale-Santa Clara, CA MSA',\n",
       "       'Cleveland-Elyria, OH MSA',\n",
       "       'Chicago-Naperville-Elgin, IL-IN-WI MSA', 'Knoxville, TN MSA',\n",
       "       'New York-Newark-Jersey City, NY-NJ-PA MSA', 'Pittsburgh, PA MSA',\n",
       "       'Fresno, CA MSA',\n",
       "       'Washington-Arlington-Alexandria, DC-VA-MD-WV MSA',\n",
       "       'Indianapolis-Carmel-Anderson, IN MSA', 'Jacksonville, FL MSA',\n",
       "       'Los Angeles-Long Beach-Anaheim, CA MSA',\n",
       "       'Omaha-Council Bluffs, NE-IA MSA',\n",
       "       'Houston-The Woodlands-Sugar Land, TX MSA',\n",
       "       'Philadelphia-Camden-Wilmington, PA-NJ-DE-MD MSA',\n",
       "       'Tampa-St. Petersburg-Clearwater, FL MSA',\n",
       "       'Birmingham-Hoover, AL MSA', 'Oklahoma City, OK MSA',\n",
       "       'Charlotte-Concord-Gastonia, NC-SC MSA',\n",
       "       'Denver-Aurora-Lakewood, CO MSA',\n",
       "       'Nashville-Davidson–Murfreesboro–Franklin, TN MSA',\n",
       "       'Columbus, OH MSA', 'Albuquerque, NM MSA',\n",
       "       'Boston-Cambridge-Newton, MA-NH MSA',\n",
       "       'Miami-Fort Lauderdale-West Palm Beach, FL MSA',\n",
       "       'San Diego-Chula Vista-Carlsbad, CA MSA',\n",
       "       'Phoenix-Mesa-Chandler, AZ MSA',\n",
       "       'Portland-Vancouver-Hillsboro, OR-WA MSA',\n",
       "       'Cincinnati, OH-KY-IN MSA', 'Columbia, SC MSA',\n",
       "       'San Antonio-New Braunfels, TX MSA', 'Buffalo-Cheektowaga, NY MSA',\n",
       "       'Memphis, TN-MS-AR MSA',\n",
       "       'Riverside-San Bernardino-Ontario, CA MSA',\n",
       "       'Louisville/Jefferson County, KY-IN MSA',\n",
       "       'Albany-Schenectady-Troy, NY MSA', 'Providence-Warwick, RI-MA MSA',\n",
       "       'Urban Honolulu, HI MSA', 'El Paso, TX MSA',\n",
       "       'New Haven-Milford, CT MSA',\n",
       "       'North Port-Sarasota-Bradenton, FL MSA',\n",
       "       'New Orleans-Metairie, LA MSA',\n",
       "       'Bridgeport-Stamford-Norwalk, CT MSA',\n",
       "       'Virginia Beach-Norfolk-Newport News, VA-NC MSA',\n",
       "       'Baltimore-Columbia-Towson, MD MSA', 'Milwaukee-Waukesha, WI MSA',\n",
       "       'Oxnard-Thousand Oaks-Ventura, CA MSA',\n",
       "       'Sacramento–Roseville–Folsom, CA MSA',\n",
       "       'Austin-Round Rock-Georgetown, TX MSA', 'Richmond, VA MSA',\n",
       "       'St. Louis, MO-IL MSA',\n",
       "       'Minneapolis-St. Paul-Bloomington, MN-WI MSA',\n",
       "       'Dayton-Kettering, OH MSA', 'Bakersfield, CA MSA',\n",
       "       'Detroit-Warren-Dearborn, MI MSA', 'Baton Rouge, LA MSA',\n",
       "       'Kansas City, MO-KS MSA', 'Charleston-North Charleston, SC MSA',\n",
       "       'Rochester, NY MSA', 'Raleigh-Cary, NC MSA',\n",
       "       'Greensboro-High Point, NC MSA', 'Tucson, AZ MSA',\n",
       "       'Colorado Springs, CO MSA', 'Stockton, CA MSA',\n",
       "       'Salt Lake City, UT MSA', 'Cape Coral-Fort Myers, FL MSA'],\n",
       "      dtype=object)"
      ]
     },
     "execution_count": 61,
     "metadata": {},
     "output_type": "execute_result"
    }
   ],
   "source": [
    "consumo_tarifario['city'].unique()"
   ]
  },
  {
   "cell_type": "code",
   "execution_count": 62,
   "metadata": {},
   "outputs": [
    {
     "name": "stdout",
     "output_type": "stream",
     "text": [
      "Series([], Name: monthly_revenue, dtype: float64)\n",
      "Series([], Name: monthly_revenue, dtype: float64)\n"
     ]
    }
   ],
   "source": [
    "variable_1 =consumo_tarifario.query('city == \"NY-NJ\"')['monthly_revenue']\n",
    "print(variable_1)\n",
    "variable_2 =consumo_tarifario.query('city == \"NY-NJ\"')['monthly_revenue']\n",
    "print(variable_2)"
   ]
  },
  {
   "cell_type": "code",
   "execution_count": 63,
   "metadata": {},
   "outputs": [
    {
     "name": "stdout",
     "output_type": "stream",
     "text": [
      "56       20.00\n",
      "57       38.84\n",
      "75       20.00\n",
      "76      100.00\n",
      "77       20.00\n",
      "         ...  \n",
      "2265    170.27\n",
      "2266    200.00\n",
      "2267    110.33\n",
      "2268     40.00\n",
      "2297     70.00\n",
      "Name: monthly_revenue, Length: 460, dtype: float64\n",
      "0       70.00\n",
      "1       20.00\n",
      "2       20.00\n",
      "3       90.09\n",
      "4       60.00\n",
      "        ...  \n",
      "2298    20.00\n",
      "2299    20.00\n",
      "2300    20.00\n",
      "2301    70.00\n",
      "2302    20.00\n",
      "Name: monthly_revenue, Length: 1843, dtype: float64\n"
     ]
    }
   ],
   "source": [
    "NY_NJ = consumo_tarifario[consumo_tarifario['city'].str.contains('NJ','NY')]\n",
    "resultados = NY_NJ['monthly_revenue']\n",
    "otras_regiones = consumo_tarifario[~consumo_tarifario['city'].str.contains('NJ','NY')]['monthly_revenue']\n",
    "print(resultados)\n",
    "print(otras_regiones)"
   ]
  },
  {
   "cell_type": "code",
   "execution_count": 64,
   "metadata": {
    "id": "Cqcj7wrZ0q1S",
    "scrolled": false
   },
   "outputs": [
    {
     "name": "stdout",
     "output_type": "stream",
     "text": [
      "valor p:  0.06063753407168088\n",
      "No podemos rechazar la hipótesis nula\n"
     ]
    }
   ],
   "source": [
    "\n",
    "alpha= 0.05\n",
    "\n",
    "results = st.ttest_ind(resultados, otras_regiones)\n",
    "print('valor p: ', results.pvalue)\n",
    "\n",
    "if (results.pvalue < alpha):\n",
    "        print(\"Rechazamos la hipótesis nula\")\n",
    "else:\n",
    "        print(\"No podemos rechazar la hipótesis nula\")\n",
    "    # Prueba las hipótesis\n",
    "\n"
   ]
  },
  {
   "cell_type": "markdown",
   "metadata": {
    "id": "bbTR8UQO0q1T"
   },
   "source": [
    "## Conclusión general\n",
    "\n"
   ]
  },
  {
   "cell_type": "markdown",
   "metadata": {},
   "source": [
    "En nuestras pruevas de hipotesis podemos darnos cuenta que no son muy diferentes los ingresos entre un plan surft y ultimate.\n",
    "tambienpodemos observar que el ingreso promedio entre NY-NJ si es diferente de otras areas."
   ]
  }
 ],
 "metadata": {
  "ExecuteTimeLog": [
   {
    "duration": 828,
    "start_time": "2021-11-16T09:21:11.304Z"
   },
   {
    "duration": 893,
    "start_time": "2021-11-16T09:21:17.728Z"
   },
   {
    "duration": 1150,
    "start_time": "2021-11-16T09:21:29.568Z"
   },
   {
    "duration": 3,
    "start_time": "2021-11-16T09:24:14.495Z"
   },
   {
    "duration": 120,
    "start_time": "2021-11-16T09:24:46.630Z"
   },
   {
    "duration": 3,
    "start_time": "2021-11-16T09:28:27.882Z"
   },
   {
    "duration": 4,
    "start_time": "2021-11-16T09:29:54.281Z"
   },
   {
    "duration": 3,
    "start_time": "2021-11-16T09:30:45.936Z"
   },
   {
    "duration": 4,
    "start_time": "2021-11-16T09:31:06.300Z"
   },
   {
    "duration": 113,
    "start_time": "2021-11-16T09:31:37.208Z"
   },
   {
    "duration": 143,
    "start_time": "2021-11-16T09:31:48.656Z"
   },
   {
    "duration": 98,
    "start_time": "2021-11-16T09:31:55.678Z"
   },
   {
    "duration": 3,
    "start_time": "2021-11-16T09:32:08.535Z"
   },
   {
    "duration": 111,
    "start_time": "2021-11-16T09:32:10.120Z"
   },
   {
    "duration": 3,
    "start_time": "2021-11-16T09:32:15.732Z"
   },
   {
    "duration": 4,
    "start_time": "2021-11-16T09:32:29.423Z"
   },
   {
    "duration": 3,
    "start_time": "2021-11-16T10:03:03.074Z"
   },
   {
    "duration": 3,
    "start_time": "2021-11-16T10:10:01.288Z"
   },
   {
    "duration": 3,
    "start_time": "2021-11-16T10:10:46.923Z"
   },
   {
    "duration": 121,
    "start_time": "2021-11-16T10:37:46.494Z"
   },
   {
    "duration": 125,
    "start_time": "2021-11-16T10:38:20.632Z"
   },
   {
    "duration": 112,
    "start_time": "2021-11-16T10:46:53.001Z"
   },
   {
    "duration": 110,
    "start_time": "2021-11-16T10:48:25.775Z"
   },
   {
    "duration": 3,
    "start_time": "2021-11-16T10:50:18.720Z"
   },
   {
    "duration": 4,
    "start_time": "2021-11-16T10:50:37.649Z"
   },
   {
    "duration": 2,
    "start_time": "2021-11-16T10:50:51.884Z"
   },
   {
    "duration": 3,
    "start_time": "2021-11-16T10:51:56.237Z"
   },
   {
    "duration": 101,
    "start_time": "2021-11-16T10:53:13.791Z"
   },
   {
    "duration": 3,
    "start_time": "2021-11-16T10:55:59.186Z"
   },
   {
    "duration": 3,
    "start_time": "2021-11-16T10:56:10.751Z"
   },
   {
    "duration": 3,
    "start_time": "2021-11-16T10:56:49.038Z"
   },
   {
    "duration": 3,
    "start_time": "2021-11-16T10:56:49.174Z"
   },
   {
    "duration": 4,
    "start_time": "2021-11-16T10:56:49.414Z"
   },
   {
    "duration": 3,
    "start_time": "2021-11-16T10:56:49.680Z"
   },
   {
    "duration": 3,
    "start_time": "2021-11-16T10:56:50.370Z"
   },
   {
    "duration": 114,
    "start_time": "2021-11-16T10:59:34.518Z"
   },
   {
    "duration": 3,
    "start_time": "2021-11-16T11:01:41.201Z"
   },
   {
    "duration": 116,
    "start_time": "2021-11-16T11:01:48.754Z"
   },
   {
    "duration": 3,
    "start_time": "2021-11-16T11:02:16.685Z"
   },
   {
    "duration": 3,
    "start_time": "2021-11-16T11:02:19.479Z"
   },
   {
    "duration": 3,
    "start_time": "2021-11-16T11:02:47.067Z"
   },
   {
    "duration": 3,
    "start_time": "2021-11-16T11:02:49.353Z"
   },
   {
    "duration": 3,
    "start_time": "2021-11-16T11:03:07.835Z"
   },
   {
    "duration": 3,
    "start_time": "2021-11-16T11:03:07.953Z"
   },
   {
    "duration": 112,
    "start_time": "2021-11-16T11:07:52.072Z"
   },
   {
    "duration": 187,
    "start_time": "2021-11-16T11:09:23.468Z"
   },
   {
    "duration": 4,
    "start_time": "2021-11-16T11:10:01.455Z"
   },
   {
    "duration": 3,
    "start_time": "2021-11-16T11:10:05.069Z"
   },
   {
    "duration": 4,
    "start_time": "2021-11-16T11:10:13.376Z"
   },
   {
    "duration": 3,
    "start_time": "2021-11-16T11:10:14.434Z"
   },
   {
    "duration": 3,
    "start_time": "2021-11-16T11:10:22.853Z"
   },
   {
    "duration": 4,
    "start_time": "2021-11-16T11:27:29.279Z"
   },
   {
    "duration": 4,
    "start_time": "2021-11-16T11:29:08.919Z"
   },
   {
    "duration": 118,
    "start_time": "2021-11-16T11:29:46.703Z"
   },
   {
    "duration": 437,
    "start_time": "2021-11-16T11:36:02.181Z"
   },
   {
    "duration": 157,
    "start_time": "2021-11-16T11:36:14.388Z"
   },
   {
    "duration": 207,
    "start_time": "2021-11-16T11:47:15.898Z"
   },
   {
    "duration": 3,
    "start_time": "2021-11-16T11:53:52.092Z"
   },
   {
    "duration": 3,
    "start_time": "2021-11-16T11:53:52.236Z"
   },
   {
    "duration": 3,
    "start_time": "2021-11-16T11:59:12.005Z"
   },
   {
    "duration": 112,
    "start_time": "2021-11-16T12:00:33.446Z"
   },
   {
    "duration": 3,
    "start_time": "2021-11-16T12:02:14.453Z"
   },
   {
    "duration": 3,
    "start_time": "2021-11-16T12:02:39.512Z"
   },
   {
    "duration": 106,
    "start_time": "2021-11-16T12:03:03.460Z"
   },
   {
    "duration": 3,
    "start_time": "2021-11-17T20:37:21.139Z"
   },
   {
    "duration": 3,
    "start_time": "2021-11-17T20:37:22.229Z"
   },
   {
    "duration": 3,
    "start_time": "2021-11-17T20:38:38.806Z"
   },
   {
    "duration": 3,
    "start_time": "2021-11-17T20:38:41.958Z"
   },
   {
    "duration": 3,
    "start_time": "2021-11-17T20:43:46.551Z"
   },
   {
    "duration": 4,
    "start_time": "2021-11-17T20:58:21.835Z"
   },
   {
    "duration": 3,
    "start_time": "2021-11-17T20:59:21.872Z"
   },
   {
    "duration": 4,
    "start_time": "2021-11-17T20:59:45.352Z"
   },
   {
    "duration": 4,
    "start_time": "2021-11-17T20:59:49.646Z"
   },
   {
    "duration": 159,
    "start_time": "2021-11-17T21:02:26.949Z"
   },
   {
    "duration": 3,
    "start_time": "2021-11-17T21:03:53.461Z"
   },
   {
    "duration": 3,
    "start_time": "2021-11-17T21:03:53.694Z"
   },
   {
    "duration": 3,
    "start_time": "2021-11-17T21:05:28.145Z"
   },
   {
    "duration": 116,
    "start_time": "2021-11-17T21:05:57.787Z"
   },
   {
    "duration": 3,
    "start_time": "2021-11-17T21:06:37.993Z"
   },
   {
    "duration": 3,
    "start_time": "2021-11-17T21:06:38.261Z"
   },
   {
    "duration": 3,
    "start_time": "2021-11-17T21:11:54.358Z"
   },
   {
    "duration": 3,
    "start_time": "2021-11-17T21:12:43.846Z"
   },
   {
    "duration": 4,
    "start_time": "2021-11-17T21:13:08.773Z"
   },
   {
    "duration": 3,
    "start_time": "2021-11-17T21:14:44.441Z"
   },
   {
    "duration": 3,
    "start_time": "2021-11-17T21:15:42.059Z"
   },
   {
    "duration": 4,
    "start_time": "2021-11-17T21:15:51.995Z"
   },
   {
    "duration": 3,
    "start_time": "2021-11-17T21:15:53.923Z"
   },
   {
    "duration": 3,
    "start_time": "2021-11-17T21:15:55.282Z"
   },
   {
    "duration": 3,
    "start_time": "2021-11-17T21:16:28.492Z"
   },
   {
    "duration": 3,
    "start_time": "2021-11-17T21:16:32.603Z"
   },
   {
    "duration": 3,
    "start_time": "2021-11-17T21:17:06.941Z"
   },
   {
    "duration": 98,
    "start_time": "2021-11-17T21:18:05.733Z"
   },
   {
    "duration": 4,
    "start_time": "2021-11-17T21:21:35.255Z"
   },
   {
    "duration": 3,
    "start_time": "2021-11-17T21:21:37.804Z"
   },
   {
    "duration": 4,
    "start_time": "2021-11-17T21:23:06.071Z"
   },
   {
    "duration": 3,
    "start_time": "2021-11-17T21:23:24.799Z"
   },
   {
    "duration": 3,
    "start_time": "2021-11-17T21:23:32.591Z"
   },
   {
    "duration": 98,
    "start_time": "2021-11-17T21:28:31.559Z"
   },
   {
    "duration": 3,
    "start_time": "2021-11-17T21:28:45.448Z"
   },
   {
    "duration": 3,
    "start_time": "2021-11-17T21:29:17.303Z"
   },
   {
    "duration": 3,
    "start_time": "2021-11-17T21:29:29.617Z"
   },
   {
    "duration": 3,
    "start_time": "2021-11-17T21:29:32.681Z"
   },
   {
    "duration": 3,
    "start_time": "2021-11-17T21:36:11.474Z"
   },
   {
    "duration": 3,
    "start_time": "2021-11-17T21:36:14.791Z"
   },
   {
    "duration": 3,
    "start_time": "2021-11-17T21:36:53.943Z"
   },
   {
    "duration": 3,
    "start_time": "2021-11-17T21:36:56.165Z"
   },
   {
    "duration": 4,
    "start_time": "2021-11-17T21:37:16.590Z"
   },
   {
    "duration": 3,
    "start_time": "2021-11-17T21:37:22.702Z"
   },
   {
    "duration": 4,
    "start_time": "2021-11-17T21:38:03.479Z"
   },
   {
    "duration": 3,
    "start_time": "2021-11-17T21:38:08.601Z"
   },
   {
    "duration": 3,
    "start_time": "2021-11-17T21:38:12.928Z"
   },
   {
    "duration": 3,
    "start_time": "2021-11-17T21:38:48.896Z"
   },
   {
    "duration": 2,
    "start_time": "2021-11-17T21:38:49.171Z"
   },
   {
    "duration": 4,
    "start_time": "2021-11-17T21:39:57.889Z"
   },
   {
    "duration": 3,
    "start_time": "2021-11-17T21:39:58.057Z"
   },
   {
    "duration": 3,
    "start_time": "2021-11-17T21:41:20.108Z"
   },
   {
    "duration": 3,
    "start_time": "2021-11-17T21:41:20.629Z"
   },
   {
    "duration": 3,
    "start_time": "2021-11-17T21:42:49.136Z"
   },
   {
    "duration": 3,
    "start_time": "2021-11-17T21:43:15.137Z"
   },
   {
    "duration": 4,
    "start_time": "2021-11-17T21:43:16.766Z"
   },
   {
    "duration": 4,
    "start_time": "2021-11-17T21:43:31.711Z"
   },
   {
    "duration": 3,
    "start_time": "2021-11-17T21:43:36.312Z"
   },
   {
    "duration": 4,
    "start_time": "2021-11-17T21:45:08.825Z"
   },
   {
    "duration": 4,
    "start_time": "2021-11-17T21:45:10.119Z"
   },
   {
    "duration": 4,
    "start_time": "2021-11-17T21:45:13.748Z"
   },
   {
    "duration": 3,
    "start_time": "2021-11-17T21:45:22.219Z"
   },
   {
    "duration": 3,
    "start_time": "2021-11-17T21:45:33.412Z"
   },
   {
    "duration": 2,
    "start_time": "2021-11-17T21:46:01.885Z"
   },
   {
    "duration": 3,
    "start_time": "2021-11-17T21:46:03.628Z"
   },
   {
    "duration": 107,
    "start_time": "2021-11-17T21:47:32.512Z"
   },
   {
    "duration": 103,
    "start_time": "2021-11-17T21:50:36.243Z"
   },
   {
    "duration": 3,
    "start_time": "2021-11-18T06:28:31.440Z"
   },
   {
    "duration": 3,
    "start_time": "2021-11-18T06:29:00.168Z"
   },
   {
    "duration": 3,
    "start_time": "2021-11-18T06:31:27.008Z"
   },
   {
    "duration": 2,
    "start_time": "2021-11-18T06:35:34.288Z"
   },
   {
    "duration": 2,
    "start_time": "2021-11-18T06:38:04.527Z"
   },
   {
    "duration": 15,
    "start_time": "2024-07-18T19:25:58.157Z"
   },
   {
    "duration": 883,
    "start_time": "2024-07-18T19:26:13.780Z"
   },
   {
    "duration": 22,
    "start_time": "2024-07-18T19:26:38.282Z"
   },
   {
    "duration": 4928,
    "start_time": "2024-07-18T19:27:44.469Z"
   },
   {
    "duration": 939,
    "start_time": "2024-07-18T19:28:04.217Z"
   },
   {
    "duration": 142,
    "start_time": "2024-07-18T19:29:07.042Z"
   },
   {
    "duration": 141,
    "start_time": "2024-07-18T19:31:55.537Z"
   },
   {
    "duration": 283,
    "start_time": "2024-07-18T19:34:48.764Z"
   },
   {
    "duration": 408,
    "start_time": "2024-07-18T19:36:02.328Z"
   },
   {
    "duration": 665,
    "start_time": "2024-07-18T19:36:56.234Z"
   },
   {
    "duration": 480,
    "start_time": "2024-07-18T19:38:25.252Z"
   },
   {
    "duration": 19,
    "start_time": "2024-07-18T19:40:01.044Z"
   },
   {
    "duration": 16,
    "start_time": "2024-07-18T19:40:35.367Z"
   },
   {
    "duration": 52,
    "start_time": "2024-07-18T19:41:03.425Z"
   },
   {
    "duration": 42,
    "start_time": "2024-07-18T19:41:13.830Z"
   },
   {
    "duration": 72,
    "start_time": "2024-07-18T19:43:10.381Z"
   },
   {
    "duration": 122,
    "start_time": "2024-07-18T19:43:44.891Z"
   },
   {
    "duration": 165,
    "start_time": "2024-07-18T19:46:18.493Z"
   },
   {
    "duration": 4971,
    "start_time": "2024-07-20T00:58:40.659Z"
   },
   {
    "duration": 1129,
    "start_time": "2024-07-20T00:58:45.635Z"
   },
   {
    "duration": 0,
    "start_time": "2024-07-20T00:58:46.769Z"
   },
   {
    "duration": 0,
    "start_time": "2024-07-20T00:58:46.770Z"
   },
   {
    "duration": 0,
    "start_time": "2024-07-20T00:58:46.773Z"
   },
   {
    "duration": 0,
    "start_time": "2024-07-20T00:58:46.775Z"
   },
   {
    "duration": 0,
    "start_time": "2024-07-20T00:58:46.777Z"
   },
   {
    "duration": 0,
    "start_time": "2024-07-20T00:58:46.779Z"
   },
   {
    "duration": 0,
    "start_time": "2024-07-20T00:58:46.781Z"
   },
   {
    "duration": 0,
    "start_time": "2024-07-20T00:58:46.783Z"
   },
   {
    "duration": 0,
    "start_time": "2024-07-20T00:58:46.785Z"
   },
   {
    "duration": 0,
    "start_time": "2024-07-20T00:58:46.786Z"
   },
   {
    "duration": 0,
    "start_time": "2024-07-20T00:58:46.788Z"
   },
   {
    "duration": 0,
    "start_time": "2024-07-20T00:58:46.790Z"
   },
   {
    "duration": 0,
    "start_time": "2024-07-20T00:58:46.791Z"
   },
   {
    "duration": 0,
    "start_time": "2024-07-20T00:58:46.794Z"
   },
   {
    "duration": 0,
    "start_time": "2024-07-20T00:58:46.830Z"
   },
   {
    "duration": 0,
    "start_time": "2024-07-20T00:58:46.833Z"
   },
   {
    "duration": 1,
    "start_time": "2024-07-20T00:58:46.834Z"
   },
   {
    "duration": 0,
    "start_time": "2024-07-20T00:58:46.837Z"
   },
   {
    "duration": 0,
    "start_time": "2024-07-20T00:58:46.839Z"
   },
   {
    "duration": 0,
    "start_time": "2024-07-20T00:58:46.841Z"
   },
   {
    "duration": 0,
    "start_time": "2024-07-20T00:58:46.844Z"
   },
   {
    "duration": 0,
    "start_time": "2024-07-20T00:58:46.846Z"
   },
   {
    "duration": 0,
    "start_time": "2024-07-20T00:58:46.848Z"
   },
   {
    "duration": 0,
    "start_time": "2024-07-20T00:58:46.852Z"
   },
   {
    "duration": 0,
    "start_time": "2024-07-20T00:58:46.854Z"
   },
   {
    "duration": 0,
    "start_time": "2024-07-20T00:58:46.856Z"
   },
   {
    "duration": 616,
    "start_time": "2024-07-20T01:00:48.518Z"
   },
   {
    "duration": 496,
    "start_time": "2024-07-20T01:01:25.311Z"
   },
   {
    "duration": 389,
    "start_time": "2024-07-20T01:02:13.652Z"
   },
   {
    "duration": 87,
    "start_time": "2024-07-20T01:02:22.202Z"
   },
   {
    "duration": 359,
    "start_time": "2024-07-20T01:03:09.456Z"
   },
   {
    "duration": 73,
    "start_time": "2024-07-20T01:03:14.596Z"
   },
   {
    "duration": 16,
    "start_time": "2024-07-20T01:14:33.515Z"
   },
   {
    "duration": 13,
    "start_time": "2024-07-20T01:16:08.175Z"
   },
   {
    "duration": 16,
    "start_time": "2024-07-20T01:30:31.371Z"
   },
   {
    "duration": 14,
    "start_time": "2024-07-20T01:30:54.603Z"
   },
   {
    "duration": 28,
    "start_time": "2024-07-20T01:31:12.127Z"
   },
   {
    "duration": 21,
    "start_time": "2024-07-20T01:31:29.618Z"
   },
   {
    "duration": 14,
    "start_time": "2024-07-20T01:38:29.391Z"
   },
   {
    "duration": 13,
    "start_time": "2024-07-24T01:13:51.521Z"
   },
   {
    "duration": 4803,
    "start_time": "2024-07-24T01:14:06.987Z"
   },
   {
    "duration": 372,
    "start_time": "2024-07-24T01:14:11.795Z"
   },
   {
    "duration": 23,
    "start_time": "2024-07-24T01:14:12.170Z"
   },
   {
    "duration": 17,
    "start_time": "2024-07-24T01:14:12.197Z"
   },
   {
    "duration": 15,
    "start_time": "2024-07-24T01:14:12.216Z"
   },
   {
    "duration": 57,
    "start_time": "2024-07-24T01:14:12.234Z"
   },
   {
    "duration": 8,
    "start_time": "2024-07-24T01:14:12.294Z"
   },
   {
    "duration": 30,
    "start_time": "2024-07-24T01:14:12.306Z"
   },
   {
    "duration": 11,
    "start_time": "2024-07-24T01:14:12.340Z"
   },
   {
    "duration": 20,
    "start_time": "2024-07-24T01:14:12.391Z"
   },
   {
    "duration": 10,
    "start_time": "2024-07-24T01:14:12.414Z"
   },
   {
    "duration": 24,
    "start_time": "2024-07-24T01:14:12.427Z"
   },
   {
    "duration": 50,
    "start_time": "2024-07-24T01:14:12.454Z"
   },
   {
    "duration": 7,
    "start_time": "2024-07-24T01:14:12.509Z"
   },
   {
    "duration": 5,
    "start_time": "2024-07-24T01:14:12.519Z"
   },
   {
    "duration": 3,
    "start_time": "2024-07-24T01:14:12.528Z"
   },
   {
    "duration": 6,
    "start_time": "2024-07-24T01:14:12.535Z"
   },
   {
    "duration": 3,
    "start_time": "2024-07-24T01:14:12.545Z"
   },
   {
    "duration": 4,
    "start_time": "2024-07-24T01:14:12.592Z"
   },
   {
    "duration": 4,
    "start_time": "2024-07-24T01:14:12.599Z"
   },
   {
    "duration": 3,
    "start_time": "2024-07-24T01:14:12.607Z"
   },
   {
    "duration": 4,
    "start_time": "2024-07-24T01:14:12.613Z"
   },
   {
    "duration": 7,
    "start_time": "2024-07-24T01:14:12.619Z"
   },
   {
    "duration": 6,
    "start_time": "2024-07-24T01:14:12.630Z"
   },
   {
    "duration": 4,
    "start_time": "2024-07-24T01:14:12.639Z"
   },
   {
    "duration": 3,
    "start_time": "2024-07-24T01:14:12.693Z"
   },
   {
    "duration": 7,
    "start_time": "2024-07-24T01:14:12.700Z"
   },
   {
    "duration": 3,
    "start_time": "2024-07-24T01:14:12.713Z"
   },
   {
    "duration": 3,
    "start_time": "2024-07-24T01:14:12.720Z"
   },
   {
    "duration": 9,
    "start_time": "2024-07-24T01:15:36.758Z"
   },
   {
    "duration": 189,
    "start_time": "2024-07-24T01:16:18.919Z"
   },
   {
    "duration": 12,
    "start_time": "2024-07-24T01:17:06.550Z"
   },
   {
    "duration": 13,
    "start_time": "2024-07-24T01:18:02.379Z"
   },
   {
    "duration": 13,
    "start_time": "2024-07-24T01:18:22.133Z"
   },
   {
    "duration": 11,
    "start_time": "2024-07-24T01:18:40.455Z"
   },
   {
    "duration": 14,
    "start_time": "2024-07-24T01:19:03.084Z"
   },
   {
    "duration": 232,
    "start_time": "2024-07-24T01:19:41.535Z"
   },
   {
    "duration": 78,
    "start_time": "2024-07-24T01:19:53.697Z"
   },
   {
    "duration": 37,
    "start_time": "2024-07-24T01:20:27.896Z"
   },
   {
    "duration": 75,
    "start_time": "2024-07-24T01:21:17.433Z"
   },
   {
    "duration": 5,
    "start_time": "2024-07-24T01:30:34.361Z"
   },
   {
    "duration": 9,
    "start_time": "2024-07-24T01:30:57.534Z"
   },
   {
    "duration": 11,
    "start_time": "2024-07-24T01:34:01.672Z"
   },
   {
    "duration": 23,
    "start_time": "2024-07-24T02:03:04.938Z"
   },
   {
    "duration": 20,
    "start_time": "2024-07-24T02:03:16.711Z"
   },
   {
    "duration": 599,
    "start_time": "2024-07-24T02:04:16.152Z"
   },
   {
    "duration": 18,
    "start_time": "2024-07-24T02:06:12.649Z"
   },
   {
    "duration": 6,
    "start_time": "2024-07-24T02:06:46.583Z"
   },
   {
    "duration": 4,
    "start_time": "2024-07-24T02:08:14.202Z"
   },
   {
    "duration": 70,
    "start_time": "2024-07-24T02:08:58.567Z"
   },
   {
    "duration": 9,
    "start_time": "2024-07-24T02:15:26.892Z"
   },
   {
    "duration": 30,
    "start_time": "2024-07-24T02:15:37.682Z"
   },
   {
    "duration": 23,
    "start_time": "2024-07-24T02:15:55.660Z"
   },
   {
    "duration": 42,
    "start_time": "2024-07-24T02:19:50.738Z"
   },
   {
    "duration": 52,
    "start_time": "2024-07-24T02:20:38.264Z"
   },
   {
    "duration": 36,
    "start_time": "2024-07-24T02:20:48.343Z"
   },
   {
    "duration": 14,
    "start_time": "2024-07-24T02:21:10.992Z"
   },
   {
    "duration": 25,
    "start_time": "2024-07-24T02:23:01.109Z"
   },
   {
    "duration": 20,
    "start_time": "2024-07-24T02:23:11.801Z"
   },
   {
    "duration": 22,
    "start_time": "2024-07-24T02:23:23.652Z"
   },
   {
    "duration": 21,
    "start_time": "2024-07-24T02:23:31.351Z"
   },
   {
    "duration": 11,
    "start_time": "2024-07-24T02:23:54.500Z"
   },
   {
    "duration": 1162,
    "start_time": "2024-07-24T02:25:48.553Z"
   },
   {
    "duration": 309,
    "start_time": "2024-07-24T02:25:49.719Z"
   },
   {
    "duration": 19,
    "start_time": "2024-07-24T02:25:50.031Z"
   },
   {
    "duration": 16,
    "start_time": "2024-07-24T02:25:50.053Z"
   },
   {
    "duration": 12,
    "start_time": "2024-07-24T02:25:50.093Z"
   },
   {
    "duration": 15,
    "start_time": "2024-07-24T02:25:50.108Z"
   },
   {
    "duration": 18,
    "start_time": "2024-07-24T02:25:50.126Z"
   },
   {
    "duration": 53,
    "start_time": "2024-07-24T02:25:50.148Z"
   },
   {
    "duration": 4,
    "start_time": "2024-07-24T02:25:50.205Z"
   },
   {
    "duration": 8,
    "start_time": "2024-07-24T02:25:50.213Z"
   },
   {
    "duration": 70,
    "start_time": "2024-07-24T02:25:50.224Z"
   },
   {
    "duration": 12,
    "start_time": "2024-07-24T02:25:50.296Z"
   },
   {
    "duration": 89,
    "start_time": "2024-07-24T02:25:50.311Z"
   },
   {
    "duration": 38,
    "start_time": "2024-07-24T02:25:50.407Z"
   },
   {
    "duration": 42,
    "start_time": "2024-07-24T02:25:50.449Z"
   },
   {
    "duration": 12,
    "start_time": "2024-07-24T02:25:50.495Z"
   },
   {
    "duration": 40,
    "start_time": "2024-07-24T02:25:50.510Z"
   },
   {
    "duration": 1244,
    "start_time": "2024-07-24T02:25:50.590Z"
   },
   {
    "duration": 0,
    "start_time": "2024-07-24T02:25:51.836Z"
   },
   {
    "duration": 0,
    "start_time": "2024-07-24T02:25:51.839Z"
   },
   {
    "duration": 0,
    "start_time": "2024-07-24T02:25:51.842Z"
   },
   {
    "duration": 0,
    "start_time": "2024-07-24T02:25:51.844Z"
   },
   {
    "duration": 0,
    "start_time": "2024-07-24T02:25:51.848Z"
   },
   {
    "duration": 0,
    "start_time": "2024-07-24T02:25:51.851Z"
   },
   {
    "duration": 0,
    "start_time": "2024-07-24T02:25:51.854Z"
   },
   {
    "duration": 0,
    "start_time": "2024-07-24T02:25:51.856Z"
   },
   {
    "duration": 0,
    "start_time": "2024-07-24T02:25:51.858Z"
   },
   {
    "duration": 0,
    "start_time": "2024-07-24T02:25:51.890Z"
   },
   {
    "duration": 0,
    "start_time": "2024-07-24T02:25:51.892Z"
   },
   {
    "duration": 0,
    "start_time": "2024-07-24T02:25:51.894Z"
   },
   {
    "duration": 0,
    "start_time": "2024-07-24T02:25:51.896Z"
   },
   {
    "duration": 0,
    "start_time": "2024-07-24T02:25:51.899Z"
   },
   {
    "duration": 0,
    "start_time": "2024-07-24T02:25:51.901Z"
   },
   {
    "duration": 0,
    "start_time": "2024-07-24T02:25:51.904Z"
   },
   {
    "duration": 0,
    "start_time": "2024-07-24T02:25:51.907Z"
   },
   {
    "duration": 0,
    "start_time": "2024-07-24T02:25:51.909Z"
   },
   {
    "duration": 0,
    "start_time": "2024-07-24T02:25:51.912Z"
   },
   {
    "duration": 0,
    "start_time": "2024-07-24T02:25:51.914Z"
   },
   {
    "duration": 27,
    "start_time": "2024-07-24T02:26:29.937Z"
   },
   {
    "duration": 25,
    "start_time": "2024-07-24T02:26:44.174Z"
   },
   {
    "duration": 12,
    "start_time": "2024-07-24T02:26:45.621Z"
   },
   {
    "duration": 86,
    "start_time": "2024-07-24T02:27:10.492Z"
   },
   {
    "duration": 36,
    "start_time": "2024-07-24T02:27:13.036Z"
   },
   {
    "duration": 12,
    "start_time": "2024-07-24T02:27:42.033Z"
   },
   {
    "duration": 14,
    "start_time": "2024-07-24T02:28:02.430Z"
   },
   {
    "duration": 4850,
    "start_time": "2024-07-25T02:09:35.928Z"
   },
   {
    "duration": 354,
    "start_time": "2024-07-25T02:09:40.782Z"
   },
   {
    "duration": 16,
    "start_time": "2024-07-25T02:09:41.139Z"
   },
   {
    "duration": 20,
    "start_time": "2024-07-25T02:09:41.159Z"
   },
   {
    "duration": 11,
    "start_time": "2024-07-25T02:09:41.182Z"
   },
   {
    "duration": 16,
    "start_time": "2024-07-25T02:09:41.196Z"
   },
   {
    "duration": 58,
    "start_time": "2024-07-25T02:09:41.214Z"
   },
   {
    "duration": 13,
    "start_time": "2024-07-25T02:09:41.276Z"
   },
   {
    "duration": 5,
    "start_time": "2024-07-25T02:09:41.292Z"
   },
   {
    "duration": 9,
    "start_time": "2024-07-25T02:09:41.305Z"
   },
   {
    "duration": 70,
    "start_time": "2024-07-25T02:09:41.317Z"
   },
   {
    "duration": 11,
    "start_time": "2024-07-25T02:09:41.390Z"
   },
   {
    "duration": 104,
    "start_time": "2024-07-25T02:09:41.405Z"
   },
   {
    "duration": 56,
    "start_time": "2024-07-25T02:09:41.512Z"
   },
   {
    "duration": 20,
    "start_time": "2024-07-25T02:09:41.571Z"
   },
   {
    "duration": 10,
    "start_time": "2024-07-25T02:09:41.594Z"
   },
   {
    "duration": 74,
    "start_time": "2024-07-25T02:09:41.607Z"
   },
   {
    "duration": 24,
    "start_time": "2024-07-25T02:09:41.685Z"
   },
   {
    "duration": 22,
    "start_time": "2024-07-25T02:09:41.712Z"
   },
   {
    "duration": 40,
    "start_time": "2024-07-25T02:09:41.737Z"
   },
   {
    "duration": 97,
    "start_time": "2024-07-25T02:09:41.782Z"
   },
   {
    "duration": 32,
    "start_time": "2024-07-25T02:09:41.882Z"
   },
   {
    "duration": 13,
    "start_time": "2024-07-25T02:09:41.916Z"
   },
   {
    "duration": 4,
    "start_time": "2024-07-25T02:09:41.934Z"
   },
   {
    "duration": 3,
    "start_time": "2024-07-25T02:09:41.969Z"
   },
   {
    "duration": 4,
    "start_time": "2024-07-25T02:09:41.976Z"
   },
   {
    "duration": 3,
    "start_time": "2024-07-25T02:09:41.983Z"
   },
   {
    "duration": 3,
    "start_time": "2024-07-25T02:09:41.994Z"
   },
   {
    "duration": 3,
    "start_time": "2024-07-25T02:09:42.000Z"
   },
   {
    "duration": 4,
    "start_time": "2024-07-25T02:09:42.006Z"
   },
   {
    "duration": 57,
    "start_time": "2024-07-25T02:09:42.013Z"
   },
   {
    "duration": 3,
    "start_time": "2024-07-25T02:09:42.074Z"
   },
   {
    "duration": 6,
    "start_time": "2024-07-25T02:09:42.080Z"
   },
   {
    "duration": 4,
    "start_time": "2024-07-25T02:09:42.089Z"
   },
   {
    "duration": 4,
    "start_time": "2024-07-25T02:09:42.096Z"
   },
   {
    "duration": 4,
    "start_time": "2024-07-25T02:09:42.103Z"
   },
   {
    "duration": 4,
    "start_time": "2024-07-25T02:09:42.110Z"
   },
   {
    "duration": 3,
    "start_time": "2024-07-25T02:09:42.170Z"
   },
   {
    "duration": 5585,
    "start_time": "2024-07-26T02:32:28.418Z"
   },
   {
    "duration": 538,
    "start_time": "2024-07-26T02:32:34.007Z"
   },
   {
    "duration": 20,
    "start_time": "2024-07-26T02:32:34.548Z"
   },
   {
    "duration": 19,
    "start_time": "2024-07-26T02:32:34.574Z"
   },
   {
    "duration": 12,
    "start_time": "2024-07-26T02:32:34.596Z"
   },
   {
    "duration": 57,
    "start_time": "2024-07-26T02:32:34.611Z"
   },
   {
    "duration": 26,
    "start_time": "2024-07-26T02:32:34.671Z"
   },
   {
    "duration": 15,
    "start_time": "2024-07-26T02:32:34.701Z"
   },
   {
    "duration": 5,
    "start_time": "2024-07-26T02:32:34.720Z"
   },
   {
    "duration": 9,
    "start_time": "2024-07-26T02:32:34.771Z"
   },
   {
    "duration": 27,
    "start_time": "2024-07-26T02:32:34.784Z"
   },
   {
    "duration": 474,
    "start_time": "2024-07-26T02:32:34.815Z"
   },
   {
    "duration": 0,
    "start_time": "2024-07-26T02:32:35.294Z"
   },
   {
    "duration": 0,
    "start_time": "2024-07-26T02:32:35.297Z"
   },
   {
    "duration": 0,
    "start_time": "2024-07-26T02:32:35.299Z"
   },
   {
    "duration": 0,
    "start_time": "2024-07-26T02:32:35.302Z"
   },
   {
    "duration": 0,
    "start_time": "2024-07-26T02:32:35.305Z"
   },
   {
    "duration": 0,
    "start_time": "2024-07-26T02:32:35.307Z"
   },
   {
    "duration": 0,
    "start_time": "2024-07-26T02:32:35.310Z"
   },
   {
    "duration": 0,
    "start_time": "2024-07-26T02:32:35.312Z"
   },
   {
    "duration": 0,
    "start_time": "2024-07-26T02:32:35.315Z"
   },
   {
    "duration": 0,
    "start_time": "2024-07-26T02:32:35.318Z"
   },
   {
    "duration": 0,
    "start_time": "2024-07-26T02:32:35.320Z"
   },
   {
    "duration": 0,
    "start_time": "2024-07-26T02:32:35.323Z"
   },
   {
    "duration": 0,
    "start_time": "2024-07-26T02:32:35.325Z"
   },
   {
    "duration": 0,
    "start_time": "2024-07-26T02:32:35.327Z"
   },
   {
    "duration": 0,
    "start_time": "2024-07-26T02:32:35.330Z"
   },
   {
    "duration": 0,
    "start_time": "2024-07-26T02:32:35.372Z"
   },
   {
    "duration": 0,
    "start_time": "2024-07-26T02:32:35.374Z"
   },
   {
    "duration": 0,
    "start_time": "2024-07-26T02:32:35.376Z"
   },
   {
    "duration": 0,
    "start_time": "2024-07-26T02:32:35.379Z"
   },
   {
    "duration": 0,
    "start_time": "2024-07-26T02:32:35.382Z"
   },
   {
    "duration": 0,
    "start_time": "2024-07-26T02:32:35.384Z"
   },
   {
    "duration": 0,
    "start_time": "2024-07-26T02:32:35.387Z"
   },
   {
    "duration": 0,
    "start_time": "2024-07-26T02:32:35.389Z"
   },
   {
    "duration": 0,
    "start_time": "2024-07-26T02:32:35.392Z"
   },
   {
    "duration": 0,
    "start_time": "2024-07-26T02:32:35.395Z"
   },
   {
    "duration": 0,
    "start_time": "2024-07-26T02:32:35.397Z"
   },
   {
    "duration": 37,
    "start_time": "2024-07-26T02:32:59.023Z"
   },
   {
    "duration": 39,
    "start_time": "2024-07-26T02:33:08.273Z"
   },
   {
    "duration": 92,
    "start_time": "2024-07-26T02:33:28.644Z"
   },
   {
    "duration": 49,
    "start_time": "2024-07-26T02:33:32.878Z"
   },
   {
    "duration": 1258,
    "start_time": "2024-07-26T02:35:29.672Z"
   },
   {
    "duration": 295,
    "start_time": "2024-07-26T02:35:30.935Z"
   },
   {
    "duration": 21,
    "start_time": "2024-07-26T02:35:31.233Z"
   },
   {
    "duration": 19,
    "start_time": "2024-07-26T02:35:31.269Z"
   },
   {
    "duration": 14,
    "start_time": "2024-07-26T02:35:31.291Z"
   },
   {
    "duration": 15,
    "start_time": "2024-07-26T02:35:31.308Z"
   },
   {
    "duration": 22,
    "start_time": "2024-07-26T02:35:31.369Z"
   },
   {
    "duration": 14,
    "start_time": "2024-07-26T02:35:31.394Z"
   },
   {
    "duration": 6,
    "start_time": "2024-07-26T02:35:31.411Z"
   },
   {
    "duration": 46,
    "start_time": "2024-07-26T02:35:31.424Z"
   },
   {
    "duration": 28,
    "start_time": "2024-07-26T02:35:31.473Z"
   },
   {
    "duration": 66,
    "start_time": "2024-07-26T02:35:31.504Z"
   },
   {
    "duration": 73,
    "start_time": "2024-07-26T02:35:31.574Z"
   },
   {
    "duration": 46,
    "start_time": "2024-07-26T02:35:31.669Z"
   },
   {
    "duration": 59,
    "start_time": "2024-07-26T02:35:31.718Z"
   },
   {
    "duration": 11,
    "start_time": "2024-07-26T02:35:31.780Z"
   },
   {
    "duration": 40,
    "start_time": "2024-07-26T02:35:31.794Z"
   },
   {
    "duration": 27,
    "start_time": "2024-07-26T02:35:31.867Z"
   },
   {
    "duration": 72,
    "start_time": "2024-07-26T02:35:31.897Z"
   },
   {
    "duration": 13,
    "start_time": "2024-07-26T02:35:31.973Z"
   },
   {
    "duration": 109,
    "start_time": "2024-07-26T02:35:31.989Z"
   },
   {
    "duration": 31,
    "start_time": "2024-07-26T02:35:32.102Z"
   },
   {
    "duration": 32,
    "start_time": "2024-07-26T02:35:32.137Z"
   },
   {
    "duration": 6,
    "start_time": "2024-07-26T02:35:32.176Z"
   },
   {
    "duration": 4,
    "start_time": "2024-07-26T02:35:32.186Z"
   },
   {
    "duration": 3,
    "start_time": "2024-07-26T02:35:32.194Z"
   },
   {
    "duration": 4,
    "start_time": "2024-07-26T02:35:32.201Z"
   },
   {
    "duration": 3,
    "start_time": "2024-07-26T02:35:32.214Z"
   },
   {
    "duration": 49,
    "start_time": "2024-07-26T02:35:32.221Z"
   },
   {
    "duration": 4,
    "start_time": "2024-07-26T02:35:32.273Z"
   },
   {
    "duration": 3,
    "start_time": "2024-07-26T02:35:32.280Z"
   },
   {
    "duration": 4,
    "start_time": "2024-07-26T02:35:32.287Z"
   },
   {
    "duration": 3,
    "start_time": "2024-07-26T02:35:32.294Z"
   },
   {
    "duration": 3,
    "start_time": "2024-07-26T02:35:32.300Z"
   },
   {
    "duration": 3,
    "start_time": "2024-07-26T02:35:32.307Z"
   },
   {
    "duration": 3,
    "start_time": "2024-07-26T02:35:32.313Z"
   },
   {
    "duration": 48,
    "start_time": "2024-07-26T02:35:32.320Z"
   },
   {
    "duration": 3,
    "start_time": "2024-07-26T02:35:32.372Z"
   },
   {
    "duration": 1323,
    "start_time": "2024-07-26T03:17:56.540Z"
   },
   {
    "duration": 87,
    "start_time": "2024-07-26T03:18:23.334Z"
   },
   {
    "duration": 90,
    "start_time": "2024-07-26T03:18:55.977Z"
   },
   {
    "duration": 484,
    "start_time": "2024-07-26T03:19:13.698Z"
   },
   {
    "duration": 1202,
    "start_time": "2024-07-26T04:27:41.820Z"
   },
   {
    "duration": 306,
    "start_time": "2024-07-26T04:27:43.027Z"
   },
   {
    "duration": 18,
    "start_time": "2024-07-26T04:27:43.336Z"
   },
   {
    "duration": 21,
    "start_time": "2024-07-26T04:27:43.370Z"
   },
   {
    "duration": 12,
    "start_time": "2024-07-26T04:27:43.394Z"
   },
   {
    "duration": 57,
    "start_time": "2024-07-26T04:27:43.410Z"
   },
   {
    "duration": 23,
    "start_time": "2024-07-26T04:27:43.472Z"
   },
   {
    "duration": 12,
    "start_time": "2024-07-26T04:27:43.498Z"
   },
   {
    "duration": 11,
    "start_time": "2024-07-26T04:27:43.512Z"
   },
   {
    "duration": 14,
    "start_time": "2024-07-26T04:27:43.568Z"
   },
   {
    "duration": 34,
    "start_time": "2024-07-26T04:27:43.585Z"
   },
   {
    "duration": 64,
    "start_time": "2024-07-26T04:27:43.623Z"
   },
   {
    "duration": 105,
    "start_time": "2024-07-26T04:27:43.690Z"
   },
   {
    "duration": 45,
    "start_time": "2024-07-26T04:27:43.798Z"
   },
   {
    "duration": 52,
    "start_time": "2024-07-26T04:27:43.846Z"
   },
   {
    "duration": 15,
    "start_time": "2024-07-26T04:27:43.902Z"
   },
   {
    "duration": 70,
    "start_time": "2024-07-26T04:27:43.920Z"
   },
   {
    "duration": 27,
    "start_time": "2024-07-26T04:27:43.994Z"
   },
   {
    "duration": 77,
    "start_time": "2024-07-26T04:27:44.025Z"
   },
   {
    "duration": 12,
    "start_time": "2024-07-26T04:27:44.112Z"
   },
   {
    "duration": 104,
    "start_time": "2024-07-26T04:27:44.128Z"
   },
   {
    "duration": 44,
    "start_time": "2024-07-26T04:27:44.235Z"
   },
   {
    "duration": 15,
    "start_time": "2024-07-26T04:27:44.283Z"
   },
   {
    "duration": 4,
    "start_time": "2024-07-26T04:27:44.303Z"
   },
   {
    "duration": 4,
    "start_time": "2024-07-26T04:27:44.310Z"
   },
   {
    "duration": 4,
    "start_time": "2024-07-26T04:27:44.318Z"
   },
   {
    "duration": 42,
    "start_time": "2024-07-26T04:27:44.326Z"
   },
   {
    "duration": 3,
    "start_time": "2024-07-26T04:27:44.375Z"
   },
   {
    "duration": 4,
    "start_time": "2024-07-26T04:27:44.382Z"
   },
   {
    "duration": 4,
    "start_time": "2024-07-26T04:27:44.389Z"
   },
   {
    "duration": 4,
    "start_time": "2024-07-26T04:27:44.397Z"
   },
   {
    "duration": 4,
    "start_time": "2024-07-26T04:27:44.405Z"
   },
   {
    "duration": 55,
    "start_time": "2024-07-26T04:27:44.413Z"
   },
   {
    "duration": 4,
    "start_time": "2024-07-26T04:27:44.472Z"
   },
   {
    "duration": 5,
    "start_time": "2024-07-26T04:27:44.479Z"
   },
   {
    "duration": 4,
    "start_time": "2024-07-26T04:27:44.488Z"
   },
   {
    "duration": 4,
    "start_time": "2024-07-26T04:27:44.496Z"
   },
   {
    "duration": 3,
    "start_time": "2024-07-26T04:27:44.504Z"
   },
   {
    "duration": 18,
    "start_time": "2024-07-26T04:28:28.949Z"
   },
   {
    "duration": 28,
    "start_time": "2024-07-26T04:29:32.066Z"
   },
   {
    "duration": 36,
    "start_time": "2024-07-26T04:29:54.148Z"
   },
   {
    "duration": 4838,
    "start_time": "2024-07-28T19:45:08.380Z"
   },
   {
    "duration": 347,
    "start_time": "2024-07-28T19:45:13.223Z"
   },
   {
    "duration": 17,
    "start_time": "2024-07-28T19:45:13.573Z"
   },
   {
    "duration": 34,
    "start_time": "2024-07-28T19:45:13.595Z"
   },
   {
    "duration": 11,
    "start_time": "2024-07-28T19:45:13.632Z"
   },
   {
    "duration": 16,
    "start_time": "2024-07-28T19:45:13.647Z"
   },
   {
    "duration": 18,
    "start_time": "2024-07-28T19:45:13.668Z"
   },
   {
    "duration": 13,
    "start_time": "2024-07-28T19:45:13.724Z"
   },
   {
    "duration": 10,
    "start_time": "2024-07-28T19:45:13.740Z"
   },
   {
    "duration": 10,
    "start_time": "2024-07-28T19:45:13.758Z"
   },
   {
    "duration": 64,
    "start_time": "2024-07-28T19:45:13.771Z"
   },
   {
    "duration": 26,
    "start_time": "2024-07-28T19:45:13.838Z"
   },
   {
    "duration": 59,
    "start_time": "2024-07-28T19:45:13.866Z"
   },
   {
    "duration": 69,
    "start_time": "2024-07-28T19:45:13.928Z"
   },
   {
    "duration": 62,
    "start_time": "2024-07-28T19:45:13.999Z"
   },
   {
    "duration": 30,
    "start_time": "2024-07-28T19:45:14.064Z"
   },
   {
    "duration": 31,
    "start_time": "2024-07-28T19:45:14.097Z"
   },
   {
    "duration": 36,
    "start_time": "2024-07-28T19:45:14.131Z"
   },
   {
    "duration": 55,
    "start_time": "2024-07-28T19:45:14.171Z"
   },
   {
    "duration": 43,
    "start_time": "2024-07-28T19:45:14.229Z"
   },
   {
    "duration": 12,
    "start_time": "2024-07-28T19:45:14.275Z"
   },
   {
    "duration": 77,
    "start_time": "2024-07-28T19:45:14.322Z"
   },
   {
    "duration": 47,
    "start_time": "2024-07-28T19:45:14.402Z"
   },
   {
    "duration": 13,
    "start_time": "2024-07-28T19:45:14.451Z"
   },
   {
    "duration": 4,
    "start_time": "2024-07-28T19:45:14.468Z"
   },
   {
    "duration": 3,
    "start_time": "2024-07-28T19:45:14.474Z"
   },
   {
    "duration": 4,
    "start_time": "2024-07-28T19:45:14.480Z"
   },
   {
    "duration": 3,
    "start_time": "2024-07-28T19:45:14.528Z"
   },
   {
    "duration": 3,
    "start_time": "2024-07-28T19:45:14.534Z"
   },
   {
    "duration": 24,
    "start_time": "2024-07-28T19:45:14.540Z"
   },
   {
    "duration": 6,
    "start_time": "2024-07-28T19:45:14.566Z"
   },
   {
    "duration": 4,
    "start_time": "2024-07-28T19:45:14.574Z"
   },
   {
    "duration": 4,
    "start_time": "2024-07-28T19:45:14.581Z"
   },
   {
    "duration": 35,
    "start_time": "2024-07-28T19:45:14.588Z"
   },
   {
    "duration": 3,
    "start_time": "2024-07-28T19:45:14.627Z"
   },
   {
    "duration": 4,
    "start_time": "2024-07-28T19:45:14.633Z"
   },
   {
    "duration": 3,
    "start_time": "2024-07-28T19:45:14.641Z"
   },
   {
    "duration": 3,
    "start_time": "2024-07-28T19:45:14.648Z"
   },
   {
    "duration": 4,
    "start_time": "2024-07-28T19:45:14.654Z"
   },
   {
    "duration": 7,
    "start_time": "2024-07-28T19:55:12.015Z"
   },
   {
    "duration": 6,
    "start_time": "2024-07-28T19:55:24.953Z"
   },
   {
    "duration": 6,
    "start_time": "2024-07-28T19:56:14.710Z"
   },
   {
    "duration": 5,
    "start_time": "2024-07-28T19:56:32.946Z"
   },
   {
    "duration": 21,
    "start_time": "2024-07-28T19:57:06.505Z"
   },
   {
    "duration": 394,
    "start_time": "2024-07-28T19:59:11.533Z"
   },
   {
    "duration": 4,
    "start_time": "2024-07-28T19:59:24.180Z"
   },
   {
    "duration": 4,
    "start_time": "2024-07-28T19:59:31.444Z"
   },
   {
    "duration": 61,
    "start_time": "2024-07-28T20:13:46.502Z"
   },
   {
    "duration": 23,
    "start_time": "2024-07-28T20:26:04.372Z"
   },
   {
    "duration": 23,
    "start_time": "2024-07-28T20:26:57.188Z"
   },
   {
    "duration": 769,
    "start_time": "2024-07-28T20:27:03.814Z"
   },
   {
    "duration": 58,
    "start_time": "2024-07-28T20:28:06.638Z"
   },
   {
    "duration": 4,
    "start_time": "2024-07-28T20:35:02.621Z"
   },
   {
    "duration": 23,
    "start_time": "2024-07-28T20:42:05.834Z"
   },
   {
    "duration": 26,
    "start_time": "2024-07-28T20:43:37.320Z"
   },
   {
    "duration": 872,
    "start_time": "2024-07-28T20:43:53.703Z"
   },
   {
    "duration": 93,
    "start_time": "2024-07-28T20:44:17.272Z"
   },
   {
    "duration": 82,
    "start_time": "2024-07-28T20:47:02.029Z"
   },
   {
    "duration": 81,
    "start_time": "2024-07-28T20:47:39.449Z"
   },
   {
    "duration": 7,
    "start_time": "2024-07-28T20:47:54.563Z"
   },
   {
    "duration": 7,
    "start_time": "2024-07-28T20:48:21.122Z"
   },
   {
    "duration": 8,
    "start_time": "2024-07-28T20:48:52.548Z"
   },
   {
    "duration": 7,
    "start_time": "2024-07-28T20:56:26.589Z"
   },
   {
    "duration": 6,
    "start_time": "2024-07-28T20:56:41.874Z"
   },
   {
    "duration": 6,
    "start_time": "2024-07-28T20:57:13.431Z"
   },
   {
    "duration": 6,
    "start_time": "2024-07-28T20:57:34.135Z"
   },
   {
    "duration": 24,
    "start_time": "2024-07-28T20:57:44.697Z"
   },
   {
    "duration": 25,
    "start_time": "2024-07-28T20:57:57.338Z"
   },
   {
    "duration": 3,
    "start_time": "2024-07-28T20:57:59.859Z"
   },
   {
    "duration": 231,
    "start_time": "2024-07-28T20:58:01.436Z"
   },
   {
    "duration": 4,
    "start_time": "2024-07-28T20:59:05.002Z"
   },
   {
    "duration": 5,
    "start_time": "2024-07-28T20:59:32.244Z"
   },
   {
    "duration": 91,
    "start_time": "2024-07-28T20:59:35.621Z"
   },
   {
    "duration": 78,
    "start_time": "2024-07-28T21:03:06.646Z"
   },
   {
    "duration": 9,
    "start_time": "2024-07-28T21:03:20.089Z"
   },
   {
    "duration": 97,
    "start_time": "2024-07-28T21:05:12.309Z"
   },
   {
    "duration": 100,
    "start_time": "2024-07-28T21:05:25.791Z"
   },
   {
    "duration": 149,
    "start_time": "2024-07-28T21:06:39.845Z"
   },
   {
    "duration": 124,
    "start_time": "2024-07-28T21:07:24.713Z"
   },
   {
    "duration": 127,
    "start_time": "2024-07-28T21:11:25.407Z"
   },
   {
    "duration": 693,
    "start_time": "2024-07-28T21:13:11.738Z"
   },
   {
    "duration": 131,
    "start_time": "2024-07-28T21:14:05.521Z"
   },
   {
    "duration": 235,
    "start_time": "2024-07-28T21:21:18.902Z"
   },
   {
    "duration": 127,
    "start_time": "2024-07-28T21:22:03.117Z"
   },
   {
    "duration": 131,
    "start_time": "2024-07-28T21:22:34.923Z"
   },
   {
    "duration": 22,
    "start_time": "2024-07-28T21:24:32.853Z"
   },
   {
    "duration": 24,
    "start_time": "2024-07-28T21:25:31.201Z"
   },
   {
    "duration": 21,
    "start_time": "2024-07-28T21:26:35.486Z"
   },
   {
    "duration": 5,
    "start_time": "2024-07-28T21:27:21.553Z"
   },
   {
    "duration": 7,
    "start_time": "2024-07-28T21:27:44.298Z"
   },
   {
    "duration": 23,
    "start_time": "2024-07-28T21:28:04.322Z"
   },
   {
    "duration": 24,
    "start_time": "2024-07-28T21:28:23.182Z"
   },
   {
    "duration": 23,
    "start_time": "2024-07-28T21:29:38.660Z"
   },
   {
    "duration": 23,
    "start_time": "2024-07-28T21:30:47.916Z"
   },
   {
    "duration": 16,
    "start_time": "2024-07-28T21:31:16.952Z"
   },
   {
    "duration": 11,
    "start_time": "2024-07-28T21:31:29.938Z"
   },
   {
    "duration": 213,
    "start_time": "2024-07-28T21:41:45.874Z"
   },
   {
    "duration": 85,
    "start_time": "2024-07-28T21:42:21.910Z"
   },
   {
    "duration": 31,
    "start_time": "2024-07-28T21:42:56.729Z"
   },
   {
    "duration": 89,
    "start_time": "2024-07-28T21:43:36.231Z"
   },
   {
    "duration": 27,
    "start_time": "2024-07-28T21:43:46.739Z"
   },
   {
    "duration": 31,
    "start_time": "2024-07-28T21:44:04.186Z"
   },
   {
    "duration": 42,
    "start_time": "2024-07-28T21:47:17.063Z"
   },
   {
    "duration": 29,
    "start_time": "2024-07-28T21:47:27.813Z"
   },
   {
    "duration": 32,
    "start_time": "2024-07-28T21:48:30.896Z"
   },
   {
    "duration": 30,
    "start_time": "2024-07-28T21:51:31.996Z"
   },
   {
    "duration": 33,
    "start_time": "2024-07-28T21:51:42.499Z"
   },
   {
    "duration": 26,
    "start_time": "2024-07-28T21:53:04.408Z"
   },
   {
    "duration": 40,
    "start_time": "2024-07-28T21:53:16.001Z"
   },
   {
    "duration": 31,
    "start_time": "2024-07-28T21:54:01.912Z"
   },
   {
    "duration": 30,
    "start_time": "2024-07-28T21:54:11.884Z"
   },
   {
    "duration": 25,
    "start_time": "2024-07-28T21:59:12.270Z"
   },
   {
    "duration": 53,
    "start_time": "2024-07-28T21:59:29.083Z"
   },
   {
    "duration": 7,
    "start_time": "2024-07-28T22:00:03.176Z"
   },
   {
    "duration": 14,
    "start_time": "2024-07-28T22:00:30.766Z"
   },
   {
    "duration": 14,
    "start_time": "2024-07-28T22:00:42.091Z"
   },
   {
    "duration": 14,
    "start_time": "2024-07-28T22:02:02.790Z"
   },
   {
    "duration": 6,
    "start_time": "2024-07-28T22:02:31.355Z"
   },
   {
    "duration": 21,
    "start_time": "2024-07-28T22:02:41.669Z"
   },
   {
    "duration": 21,
    "start_time": "2024-07-28T22:03:05.598Z"
   },
   {
    "duration": 1093,
    "start_time": "2024-07-28T22:03:45.484Z"
   },
   {
    "duration": 293,
    "start_time": "2024-07-28T22:03:46.582Z"
   },
   {
    "duration": 16,
    "start_time": "2024-07-28T22:03:46.878Z"
   },
   {
    "duration": 32,
    "start_time": "2024-07-28T22:03:46.897Z"
   },
   {
    "duration": 11,
    "start_time": "2024-07-28T22:03:46.935Z"
   },
   {
    "duration": 15,
    "start_time": "2024-07-28T22:03:46.949Z"
   },
   {
    "duration": 58,
    "start_time": "2024-07-28T22:03:46.966Z"
   },
   {
    "duration": 11,
    "start_time": "2024-07-28T22:03:47.027Z"
   },
   {
    "duration": 12,
    "start_time": "2024-07-28T22:03:47.041Z"
   },
   {
    "duration": 15,
    "start_time": "2024-07-28T22:03:47.056Z"
   },
   {
    "duration": 48,
    "start_time": "2024-07-28T22:03:47.075Z"
   },
   {
    "duration": 29,
    "start_time": "2024-07-28T22:03:47.127Z"
   },
   {
    "duration": 63,
    "start_time": "2024-07-28T22:03:47.162Z"
   },
   {
    "duration": 90,
    "start_time": "2024-07-28T22:03:47.233Z"
   },
   {
    "duration": 44,
    "start_time": "2024-07-28T22:03:47.325Z"
   },
   {
    "duration": 5,
    "start_time": "2024-07-28T22:03:47.372Z"
   },
   {
    "duration": 60,
    "start_time": "2024-07-28T22:03:47.380Z"
   },
   {
    "duration": 10,
    "start_time": "2024-07-28T22:03:47.443Z"
   },
   {
    "duration": 68,
    "start_time": "2024-07-28T22:03:47.457Z"
   },
   {
    "duration": 23,
    "start_time": "2024-07-28T22:03:47.528Z"
   },
   {
    "duration": 5,
    "start_time": "2024-07-28T22:03:47.553Z"
   },
   {
    "duration": 72,
    "start_time": "2024-07-28T22:03:47.561Z"
   },
   {
    "duration": 10,
    "start_time": "2024-07-28T22:03:47.636Z"
   },
   {
    "duration": 112,
    "start_time": "2024-07-28T22:03:47.649Z"
   },
   {
    "duration": 31,
    "start_time": "2024-07-28T22:03:47.764Z"
   },
   {
    "duration": 5,
    "start_time": "2024-07-28T22:03:47.798Z"
   },
   {
    "duration": 13,
    "start_time": "2024-07-28T22:03:47.824Z"
   },
   {
    "duration": 12,
    "start_time": "2024-07-28T22:03:47.840Z"
   },
   {
    "duration": 4,
    "start_time": "2024-07-28T22:03:47.855Z"
   },
   {
    "duration": 163,
    "start_time": "2024-07-28T22:03:47.862Z"
   },
   {
    "duration": 33,
    "start_time": "2024-07-28T22:03:48.028Z"
   },
   {
    "duration": 28,
    "start_time": "2024-07-28T22:03:48.065Z"
   },
   {
    "duration": 5,
    "start_time": "2024-07-28T22:03:48.123Z"
   },
   {
    "duration": 0,
    "start_time": "2024-07-28T22:03:48.132Z"
   },
   {
    "duration": 0,
    "start_time": "2024-07-28T22:03:48.133Z"
   },
   {
    "duration": 0,
    "start_time": "2024-07-28T22:03:48.134Z"
   },
   {
    "duration": 0,
    "start_time": "2024-07-28T22:03:48.139Z"
   },
   {
    "duration": 0,
    "start_time": "2024-07-28T22:03:48.140Z"
   },
   {
    "duration": 0,
    "start_time": "2024-07-28T22:03:48.142Z"
   },
   {
    "duration": 0,
    "start_time": "2024-07-28T22:03:48.145Z"
   },
   {
    "duration": 0,
    "start_time": "2024-07-28T22:03:48.147Z"
   },
   {
    "duration": 0,
    "start_time": "2024-07-28T22:03:48.149Z"
   },
   {
    "duration": 0,
    "start_time": "2024-07-28T22:03:48.151Z"
   },
   {
    "duration": 19,
    "start_time": "2024-07-28T22:04:28.394Z"
   },
   {
    "duration": 5,
    "start_time": "2024-07-28T22:15:34.330Z"
   },
   {
    "duration": 5,
    "start_time": "2024-07-28T22:15:39.625Z"
   },
   {
    "duration": 15,
    "start_time": "2024-07-28T22:15:56.980Z"
   },
   {
    "duration": 30,
    "start_time": "2024-07-28T22:16:06.397Z"
   },
   {
    "duration": 26,
    "start_time": "2024-07-28T22:18:06.124Z"
   },
   {
    "duration": 22,
    "start_time": "2024-07-28T22:18:30.936Z"
   },
   {
    "duration": 23,
    "start_time": "2024-07-28T22:20:46.053Z"
   },
   {
    "duration": 18,
    "start_time": "2024-07-28T22:21:27.360Z"
   },
   {
    "duration": 116,
    "start_time": "2024-07-28T22:21:51.479Z"
   },
   {
    "duration": 14,
    "start_time": "2024-07-28T22:22:09.514Z"
   },
   {
    "duration": 24,
    "start_time": "2024-07-28T22:22:16.439Z"
   },
   {
    "duration": 34,
    "start_time": "2024-07-28T22:22:40.952Z"
   },
   {
    "duration": 996,
    "start_time": "2024-07-28T22:30:23.415Z"
   },
   {
    "duration": 60,
    "start_time": "2024-07-28T22:30:32.691Z"
   },
   {
    "duration": 587,
    "start_time": "2024-07-28T22:30:57.103Z"
   },
   {
    "duration": 78,
    "start_time": "2024-07-28T22:31:08.564Z"
   },
   {
    "duration": 26,
    "start_time": "2024-07-28T22:32:00.086Z"
   },
   {
    "duration": 83,
    "start_time": "2024-07-28T22:32:50.243Z"
   },
   {
    "duration": 75,
    "start_time": "2024-07-28T22:33:16.060Z"
   },
   {
    "duration": 5,
    "start_time": "2024-07-28T22:33:32.619Z"
   },
   {
    "duration": 14,
    "start_time": "2024-07-28T22:33:55.454Z"
   },
   {
    "duration": 6,
    "start_time": "2024-07-28T22:35:45.814Z"
   },
   {
    "duration": 29,
    "start_time": "2024-07-28T22:36:00.830Z"
   },
   {
    "duration": 3,
    "start_time": "2024-07-28T22:54:44.700Z"
   },
   {
    "duration": 12,
    "start_time": "2024-07-28T23:38:53.159Z"
   },
   {
    "duration": 12,
    "start_time": "2024-07-28T23:39:08.358Z"
   },
   {
    "duration": 38,
    "start_time": "2024-07-28T23:39:17.759Z"
   },
   {
    "duration": 429,
    "start_time": "2024-07-28T23:40:09.152Z"
   },
   {
    "duration": 147,
    "start_time": "2024-07-28T23:40:46.938Z"
   },
   {
    "duration": 10,
    "start_time": "2024-07-28T23:41:30.547Z"
   },
   {
    "duration": 137,
    "start_time": "2024-07-28T23:42:00.594Z"
   },
   {
    "duration": 36,
    "start_time": "2024-07-28T23:42:08.018Z"
   },
   {
    "duration": 162,
    "start_time": "2024-07-28T23:42:21.661Z"
   },
   {
    "duration": 34,
    "start_time": "2024-07-28T23:42:39.675Z"
   },
   {
    "duration": 143,
    "start_time": "2024-07-28T23:42:47.457Z"
   },
   {
    "duration": 146,
    "start_time": "2024-07-28T23:43:23.903Z"
   },
   {
    "duration": 89,
    "start_time": "2024-07-28T23:43:44.856Z"
   },
   {
    "duration": 87,
    "start_time": "2024-07-28T23:47:05.560Z"
   },
   {
    "duration": 81,
    "start_time": "2024-07-28T23:47:46.556Z"
   },
   {
    "duration": 190,
    "start_time": "2024-07-28T23:48:10.357Z"
   },
   {
    "duration": 200,
    "start_time": "2024-07-28T23:49:20.225Z"
   },
   {
    "duration": 184,
    "start_time": "2024-07-28T23:51:37.130Z"
   },
   {
    "duration": 6,
    "start_time": "2024-07-28T23:51:46.806Z"
   },
   {
    "duration": 181,
    "start_time": "2024-07-28T23:51:49.802Z"
   },
   {
    "duration": 189,
    "start_time": "2024-07-28T23:56:35.311Z"
   },
   {
    "duration": 10,
    "start_time": "2024-07-28T23:59:07.009Z"
   },
   {
    "duration": 188,
    "start_time": "2024-07-28T23:59:44.163Z"
   },
   {
    "duration": 131,
    "start_time": "2024-07-29T00:01:06.754Z"
   },
   {
    "duration": 80,
    "start_time": "2024-07-29T00:27:53.021Z"
   },
   {
    "duration": 61,
    "start_time": "2024-07-29T00:29:16.377Z"
   },
   {
    "duration": 63,
    "start_time": "2024-07-29T00:31:01.585Z"
   },
   {
    "duration": 203,
    "start_time": "2024-07-29T00:37:59.100Z"
   },
   {
    "duration": 0,
    "start_time": "2024-07-29T00:45:15.738Z"
   },
   {
    "duration": 314,
    "start_time": "2024-07-29T00:48:43.498Z"
   },
   {
    "duration": 81,
    "start_time": "2024-07-29T00:49:30.943Z"
   },
   {
    "duration": 68,
    "start_time": "2024-07-29T00:53:57.217Z"
   },
   {
    "duration": 73,
    "start_time": "2024-07-29T00:54:32.696Z"
   },
   {
    "duration": 63,
    "start_time": "2024-07-29T00:56:07.438Z"
   },
   {
    "duration": 73,
    "start_time": "2024-07-29T00:56:47.845Z"
   },
   {
    "duration": 1154,
    "start_time": "2024-07-29T01:00:07.416Z"
   },
   {
    "duration": 272,
    "start_time": "2024-07-29T01:00:08.575Z"
   },
   {
    "duration": 17,
    "start_time": "2024-07-29T01:00:08.849Z"
   },
   {
    "duration": 17,
    "start_time": "2024-07-29T01:00:08.871Z"
   },
   {
    "duration": 37,
    "start_time": "2024-07-29T01:00:08.891Z"
   },
   {
    "duration": 16,
    "start_time": "2024-07-29T01:00:08.931Z"
   },
   {
    "duration": 18,
    "start_time": "2024-07-29T01:00:08.951Z"
   },
   {
    "duration": 52,
    "start_time": "2024-07-29T01:00:08.972Z"
   },
   {
    "duration": 11,
    "start_time": "2024-07-29T01:00:09.027Z"
   },
   {
    "duration": 15,
    "start_time": "2024-07-29T01:00:09.045Z"
   },
   {
    "duration": 4,
    "start_time": "2024-07-29T01:00:09.063Z"
   },
   {
    "duration": 66,
    "start_time": "2024-07-29T01:00:09.072Z"
   },
   {
    "duration": 31,
    "start_time": "2024-07-29T01:00:09.141Z"
   },
   {
    "duration": 98,
    "start_time": "2024-07-29T01:00:09.175Z"
   },
   {
    "duration": 61,
    "start_time": "2024-07-29T01:00:09.277Z"
   },
   {
    "duration": 5,
    "start_time": "2024-07-29T01:00:09.340Z"
   },
   {
    "duration": 32,
    "start_time": "2024-07-29T01:00:09.348Z"
   },
   {
    "duration": 41,
    "start_time": "2024-07-29T01:00:09.384Z"
   },
   {
    "duration": 39,
    "start_time": "2024-07-29T01:00:09.427Z"
   },
   {
    "duration": 54,
    "start_time": "2024-07-29T01:00:09.469Z"
   },
   {
    "duration": 5,
    "start_time": "2024-07-29T01:00:09.525Z"
   },
   {
    "duration": 42,
    "start_time": "2024-07-29T01:00:09.532Z"
   },
   {
    "duration": 11,
    "start_time": "2024-07-29T01:00:09.577Z"
   },
   {
    "duration": 86,
    "start_time": "2024-07-29T01:00:09.622Z"
   },
   {
    "duration": 47,
    "start_time": "2024-07-29T01:00:09.711Z"
   },
   {
    "duration": 7,
    "start_time": "2024-07-29T01:00:09.760Z"
   },
   {
    "duration": 12,
    "start_time": "2024-07-29T01:00:09.770Z"
   },
   {
    "duration": 17,
    "start_time": "2024-07-29T01:00:09.829Z"
   },
   {
    "duration": 5,
    "start_time": "2024-07-29T01:00:09.849Z"
   },
   {
    "duration": 156,
    "start_time": "2024-07-29T01:00:09.857Z"
   },
   {
    "duration": 38,
    "start_time": "2024-07-29T01:00:10.016Z"
   },
   {
    "duration": 28,
    "start_time": "2024-07-29T01:00:10.057Z"
   },
   {
    "duration": 50,
    "start_time": "2024-07-29T01:00:10.089Z"
   },
   {
    "duration": 33,
    "start_time": "2024-07-29T01:00:10.142Z"
   },
   {
    "duration": 47,
    "start_time": "2024-07-29T01:00:10.177Z"
   },
   {
    "duration": 28,
    "start_time": "2024-07-29T01:00:10.228Z"
   },
   {
    "duration": 6,
    "start_time": "2024-07-29T01:00:10.259Z"
   },
   {
    "duration": 4,
    "start_time": "2024-07-29T01:00:10.268Z"
   },
   {
    "duration": 50,
    "start_time": "2024-07-29T01:00:10.275Z"
   },
   {
    "duration": 1,
    "start_time": "2024-07-29T01:00:10.328Z"
   },
   {
    "duration": 0,
    "start_time": "2024-07-29T01:00:10.330Z"
   },
   {
    "duration": 0,
    "start_time": "2024-07-29T01:00:10.333Z"
   },
   {
    "duration": 0,
    "start_time": "2024-07-29T01:00:10.335Z"
   },
   {
    "duration": 0,
    "start_time": "2024-07-29T01:00:10.338Z"
   },
   {
    "duration": 1,
    "start_time": "2024-07-29T01:00:10.339Z"
   },
   {
    "duration": 0,
    "start_time": "2024-07-29T01:00:10.342Z"
   },
   {
    "duration": 0,
    "start_time": "2024-07-29T01:00:10.344Z"
   },
   {
    "duration": 0,
    "start_time": "2024-07-29T01:00:10.346Z"
   },
   {
    "duration": 9,
    "start_time": "2024-07-29T01:04:52.276Z"
   },
   {
    "duration": 1646,
    "start_time": "2024-07-29T01:05:07.924Z"
   },
   {
    "duration": 12,
    "start_time": "2024-07-29T01:06:50.932Z"
   },
   {
    "duration": 149,
    "start_time": "2024-07-29T01:07:03.899Z"
   },
   {
    "duration": 125,
    "start_time": "2024-07-29T01:08:45.953Z"
   },
   {
    "duration": 36,
    "start_time": "2024-07-29T01:08:53.726Z"
   },
   {
    "duration": 166,
    "start_time": "2024-07-29T01:09:05.816Z"
   },
   {
    "duration": 16,
    "start_time": "2024-07-29T01:09:44.779Z"
   },
   {
    "duration": 34,
    "start_time": "2024-07-29T01:09:47.759Z"
   },
   {
    "duration": 106,
    "start_time": "2024-07-29T01:09:55.460Z"
   },
   {
    "duration": 6,
    "start_time": "2024-07-29T01:10:15.241Z"
   },
   {
    "duration": 104,
    "start_time": "2024-07-29T01:10:19.030Z"
   },
   {
    "duration": 7,
    "start_time": "2024-07-29T01:10:53.245Z"
   },
   {
    "duration": 108,
    "start_time": "2024-07-29T01:10:59.279Z"
   },
   {
    "duration": 92,
    "start_time": "2024-07-29T01:11:39.204Z"
   },
   {
    "duration": 115,
    "start_time": "2024-07-29T01:11:50.918Z"
   },
   {
    "duration": 98,
    "start_time": "2024-07-29T01:12:11.625Z"
   },
   {
    "duration": 141,
    "start_time": "2024-07-29T01:12:32.570Z"
   },
   {
    "duration": 328,
    "start_time": "2024-07-29T01:12:59.429Z"
   },
   {
    "duration": 17,
    "start_time": "2024-07-29T01:14:08.694Z"
   },
   {
    "duration": 25,
    "start_time": "2024-07-29T01:19:11.170Z"
   },
   {
    "duration": 1147,
    "start_time": "2024-07-29T01:24:01.933Z"
   },
   {
    "duration": 94,
    "start_time": "2024-07-29T01:24:54.554Z"
   },
   {
    "duration": 102,
    "start_time": "2024-07-29T01:26:11.983Z"
   },
   {
    "duration": 117,
    "start_time": "2024-07-29T01:30:46.785Z"
   },
   {
    "duration": 95,
    "start_time": "2024-07-29T01:31:08.233Z"
   },
   {
    "duration": 223,
    "start_time": "2024-07-29T01:31:35.809Z"
   },
   {
    "duration": 211,
    "start_time": "2024-07-29T01:32:37.950Z"
   },
   {
    "duration": 345,
    "start_time": "2024-07-29T01:33:10.830Z"
   },
   {
    "duration": 91,
    "start_time": "2024-07-29T01:34:14.793Z"
   },
   {
    "duration": 80,
    "start_time": "2024-07-29T01:35:05.226Z"
   },
   {
    "duration": 36086,
    "start_time": "2024-07-29T01:35:54.551Z"
   },
   {
    "duration": 36301,
    "start_time": "2024-07-29T01:37:06.657Z"
   },
   {
    "duration": 596,
    "start_time": "2024-07-29T01:41:18.279Z"
   },
   {
    "duration": 527,
    "start_time": "2024-07-29T01:43:29.929Z"
   },
   {
    "duration": 540,
    "start_time": "2024-07-29T01:44:36.133Z"
   },
   {
    "duration": 229,
    "start_time": "2024-07-29T01:45:30.122Z"
   },
   {
    "duration": 23,
    "start_time": "2024-07-29T01:56:31.351Z"
   },
   {
    "duration": 4,
    "start_time": "2024-07-29T01:57:37.236Z"
   },
   {
    "duration": 5,
    "start_time": "2024-07-29T01:58:06.362Z"
   },
   {
    "duration": 6,
    "start_time": "2024-07-29T01:58:51.570Z"
   },
   {
    "duration": 130,
    "start_time": "2024-07-29T02:01:00.587Z"
   },
   {
    "duration": 20,
    "start_time": "2024-07-29T02:05:00.646Z"
   },
   {
    "duration": 28,
    "start_time": "2024-07-29T02:05:39.069Z"
   },
   {
    "duration": 132,
    "start_time": "2024-07-29T02:05:59.232Z"
   },
   {
    "duration": 141,
    "start_time": "2024-07-29T02:07:41.615Z"
   },
   {
    "duration": 5226,
    "start_time": "2024-07-29T02:51:18.953Z"
   },
   {
    "duration": 478,
    "start_time": "2024-07-29T02:51:24.182Z"
   },
   {
    "duration": 18,
    "start_time": "2024-07-29T02:51:24.662Z"
   },
   {
    "duration": 22,
    "start_time": "2024-07-29T02:51:24.691Z"
   },
   {
    "duration": 13,
    "start_time": "2024-07-29T02:51:24.716Z"
   },
   {
    "duration": 21,
    "start_time": "2024-07-29T02:51:24.732Z"
   },
   {
    "duration": 39,
    "start_time": "2024-07-29T02:51:24.757Z"
   },
   {
    "duration": 13,
    "start_time": "2024-07-29T02:51:24.799Z"
   },
   {
    "duration": 20,
    "start_time": "2024-07-29T02:51:24.815Z"
   },
   {
    "duration": 41,
    "start_time": "2024-07-29T02:51:24.845Z"
   },
   {
    "duration": 25,
    "start_time": "2024-07-29T02:51:24.892Z"
   },
   {
    "duration": 32,
    "start_time": "2024-07-29T02:51:24.926Z"
   },
   {
    "duration": 35,
    "start_time": "2024-07-29T02:51:24.961Z"
   },
   {
    "duration": 77,
    "start_time": "2024-07-29T02:51:24.999Z"
   },
   {
    "duration": 43,
    "start_time": "2024-07-29T02:51:25.093Z"
   },
   {
    "duration": 5,
    "start_time": "2024-07-29T02:51:25.138Z"
   },
   {
    "duration": 48,
    "start_time": "2024-07-29T02:51:25.145Z"
   },
   {
    "duration": 13,
    "start_time": "2024-07-29T02:51:25.196Z"
   },
   {
    "duration": 39,
    "start_time": "2024-07-29T02:51:25.212Z"
   },
   {
    "duration": 52,
    "start_time": "2024-07-29T02:51:25.254Z"
   },
   {
    "duration": 4,
    "start_time": "2024-07-29T02:51:25.308Z"
   },
   {
    "duration": 49,
    "start_time": "2024-07-29T02:51:25.315Z"
   },
   {
    "duration": 26,
    "start_time": "2024-07-29T02:51:25.367Z"
   },
   {
    "duration": 81,
    "start_time": "2024-07-29T02:51:25.395Z"
   },
   {
    "duration": 33,
    "start_time": "2024-07-29T02:51:25.490Z"
   },
   {
    "duration": 12,
    "start_time": "2024-07-29T02:51:25.525Z"
   },
   {
    "duration": 16,
    "start_time": "2024-07-29T02:51:25.539Z"
   },
   {
    "duration": 34,
    "start_time": "2024-07-29T02:51:25.564Z"
   },
   {
    "duration": 7,
    "start_time": "2024-07-29T02:51:25.601Z"
   },
   {
    "duration": 168,
    "start_time": "2024-07-29T02:51:25.611Z"
   },
   {
    "duration": 52,
    "start_time": "2024-07-29T02:51:25.782Z"
   },
   {
    "duration": 31,
    "start_time": "2024-07-29T02:51:25.836Z"
   },
   {
    "duration": 30,
    "start_time": "2024-07-29T02:51:25.871Z"
   },
   {
    "duration": 32,
    "start_time": "2024-07-29T02:51:25.905Z"
   },
   {
    "duration": 21,
    "start_time": "2024-07-29T02:51:25.939Z"
   },
   {
    "duration": 70,
    "start_time": "2024-07-29T02:51:25.964Z"
   },
   {
    "duration": 5,
    "start_time": "2024-07-29T02:51:26.037Z"
   },
   {
    "duration": 3,
    "start_time": "2024-07-29T02:51:26.045Z"
   },
   {
    "duration": 1622,
    "start_time": "2024-07-29T02:51:26.051Z"
   },
   {
    "duration": 0,
    "start_time": "2024-07-29T02:51:27.677Z"
   },
   {
    "duration": 0,
    "start_time": "2024-07-29T02:51:27.679Z"
   },
   {
    "duration": 0,
    "start_time": "2024-07-29T02:51:27.681Z"
   },
   {
    "duration": 0,
    "start_time": "2024-07-29T02:51:27.683Z"
   },
   {
    "duration": 0,
    "start_time": "2024-07-29T02:51:27.684Z"
   },
   {
    "duration": 0,
    "start_time": "2024-07-29T02:51:27.685Z"
   },
   {
    "duration": 0,
    "start_time": "2024-07-29T02:51:27.686Z"
   },
   {
    "duration": 0,
    "start_time": "2024-07-29T02:51:27.687Z"
   },
   {
    "duration": 0,
    "start_time": "2024-07-29T02:51:27.688Z"
   },
   {
    "duration": 152,
    "start_time": "2024-07-29T02:52:33.209Z"
   },
   {
    "duration": 35,
    "start_time": "2024-07-29T02:52:41.924Z"
   },
   {
    "duration": 36,
    "start_time": "2024-07-29T02:52:48.057Z"
   },
   {
    "duration": 128,
    "start_time": "2024-07-29T02:52:57.833Z"
   },
   {
    "duration": 550,
    "start_time": "2024-07-29T02:55:11.518Z"
   },
   {
    "duration": 213,
    "start_time": "2024-07-29T02:55:13.475Z"
   },
   {
    "duration": 6,
    "start_time": "2024-07-29T02:55:19.745Z"
   },
   {
    "duration": 228,
    "start_time": "2024-07-29T02:55:21.737Z"
   },
   {
    "duration": 133,
    "start_time": "2024-07-29T02:56:06.209Z"
   },
   {
    "duration": 71,
    "start_time": "2024-07-29T03:00:49.553Z"
   },
   {
    "duration": 65,
    "start_time": "2024-07-29T03:01:06.280Z"
   },
   {
    "duration": 27,
    "start_time": "2024-07-29T03:02:38.809Z"
   },
   {
    "duration": 26,
    "start_time": "2024-07-29T03:04:37.702Z"
   },
   {
    "duration": 29,
    "start_time": "2024-07-29T03:06:23.989Z"
   },
   {
    "duration": 24,
    "start_time": "2024-07-29T03:06:48.159Z"
   },
   {
    "duration": 25,
    "start_time": "2024-07-29T03:07:45.274Z"
   },
   {
    "duration": 73,
    "start_time": "2024-07-29T03:08:13.478Z"
   },
   {
    "duration": 1154,
    "start_time": "2024-07-29T03:08:44.896Z"
   },
   {
    "duration": 301,
    "start_time": "2024-07-29T03:08:46.054Z"
   },
   {
    "duration": 34,
    "start_time": "2024-07-29T03:08:46.359Z"
   },
   {
    "duration": 18,
    "start_time": "2024-07-29T03:08:46.399Z"
   },
   {
    "duration": 15,
    "start_time": "2024-07-29T03:08:46.420Z"
   },
   {
    "duration": 53,
    "start_time": "2024-07-29T03:08:46.438Z"
   },
   {
    "duration": 19,
    "start_time": "2024-07-29T03:08:46.494Z"
   },
   {
    "duration": 15,
    "start_time": "2024-07-29T03:08:46.516Z"
   },
   {
    "duration": 14,
    "start_time": "2024-07-29T03:08:46.535Z"
   },
   {
    "duration": 18,
    "start_time": "2024-07-29T03:08:46.596Z"
   },
   {
    "duration": 8,
    "start_time": "2024-07-29T03:08:46.618Z"
   },
   {
    "duration": 60,
    "start_time": "2024-07-29T03:08:46.630Z"
   },
   {
    "duration": 35,
    "start_time": "2024-07-29T03:08:46.694Z"
   },
   {
    "duration": 102,
    "start_time": "2024-07-29T03:08:46.732Z"
   },
   {
    "duration": 68,
    "start_time": "2024-07-29T03:08:46.838Z"
   },
   {
    "duration": 4,
    "start_time": "2024-07-29T03:08:46.909Z"
   },
   {
    "duration": 34,
    "start_time": "2024-07-29T03:08:46.917Z"
   },
   {
    "duration": 42,
    "start_time": "2024-07-29T03:08:46.954Z"
   },
   {
    "duration": 42,
    "start_time": "2024-07-29T03:08:47.000Z"
   },
   {
    "duration": 52,
    "start_time": "2024-07-29T03:08:47.044Z"
   },
   {
    "duration": 4,
    "start_time": "2024-07-29T03:08:47.099Z"
   },
   {
    "duration": 41,
    "start_time": "2024-07-29T03:08:47.107Z"
   },
   {
    "duration": 41,
    "start_time": "2024-07-29T03:08:47.151Z"
   },
   {
    "duration": 95,
    "start_time": "2024-07-29T03:08:47.195Z"
   },
   {
    "duration": 30,
    "start_time": "2024-07-29T03:08:47.293Z"
   },
   {
    "duration": 5,
    "start_time": "2024-07-29T03:08:47.325Z"
   },
   {
    "duration": 12,
    "start_time": "2024-07-29T03:08:47.334Z"
   },
   {
    "duration": 43,
    "start_time": "2024-07-29T03:08:47.354Z"
   },
   {
    "duration": 4,
    "start_time": "2024-07-29T03:08:47.400Z"
   },
   {
    "duration": 155,
    "start_time": "2024-07-29T03:08:47.407Z"
   },
   {
    "duration": 41,
    "start_time": "2024-07-29T03:08:47.564Z"
   },
   {
    "duration": 29,
    "start_time": "2024-07-29T03:08:47.608Z"
   },
   {
    "duration": 50,
    "start_time": "2024-07-29T03:08:47.640Z"
   },
   {
    "duration": 32,
    "start_time": "2024-07-29T03:08:47.693Z"
   },
   {
    "duration": 16,
    "start_time": "2024-07-29T03:08:47.728Z"
   },
   {
    "duration": 67,
    "start_time": "2024-07-29T03:08:47.746Z"
   },
   {
    "duration": 7,
    "start_time": "2024-07-29T03:08:47.816Z"
   },
   {
    "duration": 8,
    "start_time": "2024-07-29T03:08:47.827Z"
   },
   {
    "duration": 1681,
    "start_time": "2024-07-29T03:08:47.838Z"
   },
   {
    "duration": 0,
    "start_time": "2024-07-29T03:08:49.523Z"
   },
   {
    "duration": 0,
    "start_time": "2024-07-29T03:08:49.525Z"
   },
   {
    "duration": 0,
    "start_time": "2024-07-29T03:08:49.527Z"
   },
   {
    "duration": 0,
    "start_time": "2024-07-29T03:08:49.530Z"
   },
   {
    "duration": 0,
    "start_time": "2024-07-29T03:08:49.533Z"
   },
   {
    "duration": 0,
    "start_time": "2024-07-29T03:08:49.534Z"
   },
   {
    "duration": 0,
    "start_time": "2024-07-29T03:08:49.537Z"
   },
   {
    "duration": 0,
    "start_time": "2024-07-29T03:08:49.539Z"
   },
   {
    "duration": 136,
    "start_time": "2024-07-29T03:09:13.208Z"
   },
   {
    "duration": 30,
    "start_time": "2024-07-29T03:09:22.411Z"
   },
   {
    "duration": 31,
    "start_time": "2024-07-29T03:09:25.594Z"
   },
   {
    "duration": 25,
    "start_time": "2024-07-29T03:09:29.419Z"
   },
   {
    "duration": 34,
    "start_time": "2024-07-29T03:09:33.789Z"
   },
   {
    "duration": 123,
    "start_time": "2024-07-29T03:10:25.474Z"
   },
   {
    "duration": 31,
    "start_time": "2024-07-29T03:10:27.894Z"
   },
   {
    "duration": 35,
    "start_time": "2024-07-29T03:10:31.003Z"
   },
   {
    "duration": 21,
    "start_time": "2024-07-29T03:10:32.426Z"
   },
   {
    "duration": 32,
    "start_time": "2024-07-29T03:10:37.728Z"
   },
   {
    "duration": 32,
    "start_time": "2024-07-29T03:10:53.965Z"
   },
   {
    "duration": 23,
    "start_time": "2024-07-29T03:10:56.231Z"
   },
   {
    "duration": 31,
    "start_time": "2024-07-29T03:11:05.391Z"
   },
   {
    "duration": 4,
    "start_time": "2024-07-29T03:11:27.765Z"
   },
   {
    "duration": 126,
    "start_time": "2024-07-29T03:11:28.643Z"
   },
   {
    "duration": 33,
    "start_time": "2024-07-29T03:11:31.798Z"
   },
   {
    "duration": 37,
    "start_time": "2024-07-29T03:11:33.084Z"
   },
   {
    "duration": 32,
    "start_time": "2024-07-29T03:11:40.144Z"
   },
   {
    "duration": 1147,
    "start_time": "2024-07-29T03:11:57.999Z"
   },
   {
    "duration": 281,
    "start_time": "2024-07-29T03:11:59.151Z"
   },
   {
    "duration": 19,
    "start_time": "2024-07-29T03:11:59.440Z"
   },
   {
    "duration": 40,
    "start_time": "2024-07-29T03:11:59.463Z"
   },
   {
    "duration": 11,
    "start_time": "2024-07-29T03:11:59.507Z"
   },
   {
    "duration": 14,
    "start_time": "2024-07-29T03:11:59.522Z"
   },
   {
    "duration": 53,
    "start_time": "2024-07-29T03:11:59.539Z"
   },
   {
    "duration": 13,
    "start_time": "2024-07-29T03:11:59.596Z"
   },
   {
    "duration": 10,
    "start_time": "2024-07-29T03:11:59.615Z"
   },
   {
    "duration": 15,
    "start_time": "2024-07-29T03:11:59.629Z"
   },
   {
    "duration": 45,
    "start_time": "2024-07-29T03:11:59.647Z"
   },
   {
    "duration": 25,
    "start_time": "2024-07-29T03:11:59.696Z"
   },
   {
    "duration": 69,
    "start_time": "2024-07-29T03:11:59.723Z"
   },
   {
    "duration": 72,
    "start_time": "2024-07-29T03:11:59.795Z"
   },
   {
    "duration": 43,
    "start_time": "2024-07-29T03:11:59.889Z"
   },
   {
    "duration": 8,
    "start_time": "2024-07-29T03:11:59.934Z"
   },
   {
    "duration": 63,
    "start_time": "2024-07-29T03:11:59.945Z"
   },
   {
    "duration": 10,
    "start_time": "2024-07-29T03:12:00.011Z"
   },
   {
    "duration": 67,
    "start_time": "2024-07-29T03:12:00.024Z"
   },
   {
    "duration": 26,
    "start_time": "2024-07-29T03:12:00.094Z"
   },
   {
    "duration": 5,
    "start_time": "2024-07-29T03:12:00.123Z"
   },
   {
    "duration": 78,
    "start_time": "2024-07-29T03:12:00.132Z"
   },
   {
    "duration": 12,
    "start_time": "2024-07-29T03:12:00.212Z"
   },
   {
    "duration": 101,
    "start_time": "2024-07-29T03:12:00.227Z"
   },
   {
    "duration": 32,
    "start_time": "2024-07-29T03:12:00.331Z"
   },
   {
    "duration": 5,
    "start_time": "2024-07-29T03:12:00.365Z"
   },
   {
    "duration": 12,
    "start_time": "2024-07-29T03:12:00.396Z"
   },
   {
    "duration": 12,
    "start_time": "2024-07-29T03:12:00.411Z"
   },
   {
    "duration": 3,
    "start_time": "2024-07-29T03:12:00.427Z"
   },
   {
    "duration": 175,
    "start_time": "2024-07-29T03:12:00.433Z"
   },
   {
    "duration": 33,
    "start_time": "2024-07-29T03:12:00.611Z"
   },
   {
    "duration": 57,
    "start_time": "2024-07-29T03:12:00.646Z"
   },
   {
    "duration": 20,
    "start_time": "2024-07-29T03:12:00.706Z"
   },
   {
    "duration": 34,
    "start_time": "2024-07-29T03:12:00.729Z"
   },
   {
    "duration": 16,
    "start_time": "2024-07-29T03:12:00.790Z"
   },
   {
    "duration": 33,
    "start_time": "2024-07-29T03:12:00.809Z"
   },
   {
    "duration": 44,
    "start_time": "2024-07-29T03:12:00.846Z"
   },
   {
    "duration": 6,
    "start_time": "2024-07-29T03:12:00.893Z"
   },
   {
    "duration": 146,
    "start_time": "2024-07-29T03:12:00.901Z"
   },
   {
    "duration": 552,
    "start_time": "2024-07-29T03:12:01.050Z"
   },
   {
    "duration": 224,
    "start_time": "2024-07-29T03:12:01.605Z"
   },
   {
    "duration": 7,
    "start_time": "2024-07-29T03:12:01.832Z"
   },
   {
    "duration": 154,
    "start_time": "2024-07-29T03:12:01.842Z"
   },
   {
    "duration": 24,
    "start_time": "2024-07-29T03:12:02.000Z"
   },
   {
    "duration": 96,
    "start_time": "2024-07-29T03:12:02.027Z"
   },
   {
    "duration": 4,
    "start_time": "2024-07-29T03:12:02.126Z"
   },
   {
    "duration": 4,
    "start_time": "2024-07-29T03:12:02.133Z"
   },
   {
    "duration": 28,
    "start_time": "2024-07-29T03:13:04.717Z"
   },
   {
    "duration": 28,
    "start_time": "2024-07-29T03:14:26.256Z"
   },
   {
    "duration": 9,
    "start_time": "2024-07-29T03:15:35.950Z"
   },
   {
    "duration": 7,
    "start_time": "2024-07-29T03:15:44.524Z"
   },
   {
    "duration": 8,
    "start_time": "2024-07-29T03:15:53.971Z"
   },
   {
    "duration": 66,
    "start_time": "2024-07-29T03:16:11.738Z"
   },
   {
    "duration": 64,
    "start_time": "2024-07-29T03:18:27.902Z"
   },
   {
    "duration": 65,
    "start_time": "2024-07-29T03:19:43.171Z"
   },
   {
    "duration": 188,
    "start_time": "2024-07-29T03:21:06.098Z"
   },
   {
    "duration": 64,
    "start_time": "2024-07-29T03:21:46.949Z"
   },
   {
    "duration": 1173,
    "start_time": "2024-07-29T03:22:14.458Z"
   },
   {
    "duration": 289,
    "start_time": "2024-07-29T03:22:15.637Z"
   },
   {
    "duration": 17,
    "start_time": "2024-07-29T03:22:15.929Z"
   },
   {
    "duration": 16,
    "start_time": "2024-07-29T03:22:15.949Z"
   },
   {
    "duration": 11,
    "start_time": "2024-07-29T03:22:15.990Z"
   },
   {
    "duration": 15,
    "start_time": "2024-07-29T03:22:16.005Z"
   },
   {
    "duration": 19,
    "start_time": "2024-07-29T03:22:16.023Z"
   },
   {
    "duration": 55,
    "start_time": "2024-07-29T03:22:16.046Z"
   },
   {
    "duration": 11,
    "start_time": "2024-07-29T03:22:16.104Z"
   },
   {
    "duration": 16,
    "start_time": "2024-07-29T03:22:16.124Z"
   },
   {
    "duration": 4,
    "start_time": "2024-07-29T03:22:16.143Z"
   },
   {
    "duration": 25,
    "start_time": "2024-07-29T03:22:16.192Z"
   },
   {
    "duration": 30,
    "start_time": "2024-07-29T03:22:16.221Z"
   },
   {
    "duration": 104,
    "start_time": "2024-07-29T03:22:16.254Z"
   },
   {
    "duration": 57,
    "start_time": "2024-07-29T03:22:16.361Z"
   },
   {
    "duration": 4,
    "start_time": "2024-07-29T03:22:16.421Z"
   },
   {
    "duration": 32,
    "start_time": "2024-07-29T03:22:16.428Z"
   },
   {
    "duration": 36,
    "start_time": "2024-07-29T03:22:16.462Z"
   },
   {
    "duration": 43,
    "start_time": "2024-07-29T03:22:16.502Z"
   },
   {
    "duration": 56,
    "start_time": "2024-07-29T03:22:16.547Z"
   },
   {
    "duration": 5,
    "start_time": "2024-07-29T03:22:16.605Z"
   },
   {
    "duration": 43,
    "start_time": "2024-07-29T03:22:16.613Z"
   },
   {
    "duration": 40,
    "start_time": "2024-07-29T03:22:16.658Z"
   },
   {
    "duration": 100,
    "start_time": "2024-07-29T03:22:16.702Z"
   },
   {
    "duration": 32,
    "start_time": "2024-07-29T03:22:16.804Z"
   },
   {
    "duration": 5,
    "start_time": "2024-07-29T03:22:16.839Z"
   },
   {
    "duration": 43,
    "start_time": "2024-07-29T03:22:16.848Z"
   },
   {
    "duration": 12,
    "start_time": "2024-07-29T03:22:16.901Z"
   },
   {
    "duration": 4,
    "start_time": "2024-07-29T03:22:16.916Z"
   },
   {
    "duration": 174,
    "start_time": "2024-07-29T03:22:16.923Z"
   },
   {
    "duration": 32,
    "start_time": "2024-07-29T03:22:17.100Z"
   },
   {
    "duration": 62,
    "start_time": "2024-07-29T03:22:17.135Z"
   },
   {
    "duration": 20,
    "start_time": "2024-07-29T03:22:17.201Z"
   },
   {
    "duration": 34,
    "start_time": "2024-07-29T03:22:17.225Z"
   },
   {
    "duration": 15,
    "start_time": "2024-07-29T03:22:17.290Z"
   },
   {
    "duration": 29,
    "start_time": "2024-07-29T03:22:17.307Z"
   },
   {
    "duration": 5,
    "start_time": "2024-07-29T03:22:17.339Z"
   },
   {
    "duration": 4,
    "start_time": "2024-07-29T03:22:17.348Z"
   },
   {
    "duration": 176,
    "start_time": "2024-07-29T03:22:17.355Z"
   },
   {
    "duration": 578,
    "start_time": "2024-07-29T03:22:17.533Z"
   },
   {
    "duration": 232,
    "start_time": "2024-07-29T03:22:18.115Z"
   },
   {
    "duration": 7,
    "start_time": "2024-07-29T03:22:18.350Z"
   },
   {
    "duration": 156,
    "start_time": "2024-07-29T03:22:18.361Z"
   },
   {
    "duration": 79,
    "start_time": "2024-07-29T03:22:18.521Z"
   },
   {
    "duration": 83,
    "start_time": "2024-07-29T03:22:18.607Z"
   },
   {
    "duration": 4,
    "start_time": "2024-07-29T03:22:18.693Z"
   },
   {
    "duration": 4,
    "start_time": "2024-07-29T03:22:18.700Z"
   },
   {
    "duration": 75,
    "start_time": "2024-07-29T03:22:44.888Z"
   },
   {
    "duration": 75,
    "start_time": "2024-07-29T03:24:00.597Z"
   },
   {
    "duration": 76,
    "start_time": "2024-07-29T03:27:39.228Z"
   },
   {
    "duration": 72,
    "start_time": "2024-07-29T03:31:33.273Z"
   },
   {
    "duration": 66,
    "start_time": "2024-07-29T03:33:28.743Z"
   },
   {
    "duration": 63,
    "start_time": "2024-07-29T03:39:40.068Z"
   },
   {
    "duration": 74,
    "start_time": "2024-07-29T03:41:02.692Z"
   },
   {
    "duration": 579,
    "start_time": "2024-07-29T03:42:44.134Z"
   },
   {
    "duration": 536,
    "start_time": "2024-07-29T03:43:08.309Z"
   },
   {
    "duration": 520,
    "start_time": "2024-07-29T03:43:30.258Z"
   },
   {
    "duration": 627,
    "start_time": "2024-07-29T03:45:27.453Z"
   },
   {
    "duration": 517,
    "start_time": "2024-07-29T03:46:00.995Z"
   },
   {
    "duration": 216,
    "start_time": "2024-07-29T03:46:57.635Z"
   },
   {
    "duration": 373,
    "start_time": "2024-07-29T03:47:27.265Z"
   },
   {
    "duration": 209,
    "start_time": "2024-07-29T03:48:11.915Z"
   },
   {
    "duration": 202,
    "start_time": "2024-07-29T03:48:58.909Z"
   },
   {
    "duration": 7,
    "start_time": "2024-07-29T03:50:25.307Z"
   },
   {
    "duration": 130,
    "start_time": "2024-07-29T03:50:49.017Z"
   },
   {
    "duration": 187,
    "start_time": "2024-07-29T03:51:16.391Z"
   },
   {
    "duration": 568,
    "start_time": "2024-07-29T03:52:30.959Z"
   },
   {
    "duration": 9,
    "start_time": "2024-07-29T03:53:50.413Z"
   },
   {
    "duration": 166,
    "start_time": "2024-07-29T03:54:42.911Z"
   },
   {
    "duration": 7,
    "start_time": "2024-07-29T03:57:18.007Z"
   },
   {
    "duration": 239,
    "start_time": "2024-07-29T03:57:32.506Z"
   },
   {
    "duration": 197,
    "start_time": "2024-07-29T04:00:58.799Z"
   },
   {
    "duration": 517,
    "start_time": "2024-07-29T04:01:07.600Z"
   },
   {
    "duration": 12,
    "start_time": "2024-07-29T04:03:12.503Z"
   },
   {
    "duration": 6,
    "start_time": "2024-07-29T04:03:33.438Z"
   },
   {
    "duration": 5,
    "start_time": "2024-07-29T04:03:59.229Z"
   },
   {
    "duration": 268,
    "start_time": "2024-07-29T04:04:06.078Z"
   },
   {
    "duration": 184,
    "start_time": "2024-07-29T04:04:58.242Z"
   },
   {
    "duration": 191,
    "start_time": "2024-07-29T04:05:20.054Z"
   },
   {
    "duration": 8,
    "start_time": "2024-07-29T04:06:29.021Z"
   },
   {
    "duration": 1473,
    "start_time": "2024-07-29T04:06:46.989Z"
   },
   {
    "duration": 93,
    "start_time": "2024-07-29T04:07:11.406Z"
   },
   {
    "duration": 197,
    "start_time": "2024-07-29T04:07:25.215Z"
   },
   {
    "duration": 5,
    "start_time": "2024-07-29T04:08:27.126Z"
   },
   {
    "duration": 215,
    "start_time": "2024-07-29T04:08:36.493Z"
   },
   {
    "duration": 200,
    "start_time": "2024-07-29T04:10:42.793Z"
   },
   {
    "duration": 8,
    "start_time": "2024-07-29T04:20:36.094Z"
   },
   {
    "duration": 25,
    "start_time": "2024-07-29T04:20:52.012Z"
   },
   {
    "duration": 29,
    "start_time": "2024-07-29T04:21:30.046Z"
   },
   {
    "duration": 7,
    "start_time": "2024-07-29T04:22:02.080Z"
   },
   {
    "duration": 29,
    "start_time": "2024-07-29T04:22:08.684Z"
   },
   {
    "duration": 1278,
    "start_time": "2024-07-29T04:36:34.469Z"
   },
   {
    "duration": 326,
    "start_time": "2024-07-29T04:36:35.751Z"
   },
   {
    "duration": 21,
    "start_time": "2024-07-29T04:36:36.080Z"
   },
   {
    "duration": 18,
    "start_time": "2024-07-29T04:36:36.108Z"
   },
   {
    "duration": 14,
    "start_time": "2024-07-29T04:36:36.130Z"
   },
   {
    "duration": 57,
    "start_time": "2024-07-29T04:36:36.148Z"
   },
   {
    "duration": 21,
    "start_time": "2024-07-29T04:36:36.208Z"
   },
   {
    "duration": 18,
    "start_time": "2024-07-29T04:36:36.232Z"
   },
   {
    "duration": 50,
    "start_time": "2024-07-29T04:36:36.253Z"
   },
   {
    "duration": 18,
    "start_time": "2024-07-29T04:36:36.310Z"
   },
   {
    "duration": 5,
    "start_time": "2024-07-29T04:36:36.332Z"
   },
   {
    "duration": 70,
    "start_time": "2024-07-29T04:36:36.341Z"
   },
   {
    "duration": 35,
    "start_time": "2024-07-29T04:36:36.414Z"
   },
   {
    "duration": 107,
    "start_time": "2024-07-29T04:36:36.453Z"
   },
   {
    "duration": 58,
    "start_time": "2024-07-29T04:36:36.563Z"
   },
   {
    "duration": 7,
    "start_time": "2024-07-29T04:36:36.624Z"
   },
   {
    "duration": 60,
    "start_time": "2024-07-29T04:36:36.634Z"
   },
   {
    "duration": 12,
    "start_time": "2024-07-29T04:36:36.698Z"
   },
   {
    "duration": 44,
    "start_time": "2024-07-29T04:36:36.714Z"
   },
   {
    "duration": 29,
    "start_time": "2024-07-29T04:36:36.792Z"
   },
   {
    "duration": 7,
    "start_time": "2024-07-29T04:36:36.824Z"
   },
   {
    "duration": 85,
    "start_time": "2024-07-29T04:36:36.835Z"
   },
   {
    "duration": 12,
    "start_time": "2024-07-29T04:36:36.923Z"
   },
   {
    "duration": 123,
    "start_time": "2024-07-29T04:36:36.938Z"
   },
   {
    "duration": 49,
    "start_time": "2024-07-29T04:36:37.064Z"
   },
   {
    "duration": 5,
    "start_time": "2024-07-29T04:36:37.116Z"
   },
   {
    "duration": 14,
    "start_time": "2024-07-29T04:36:37.125Z"
   },
   {
    "duration": 45,
    "start_time": "2024-07-29T04:36:37.148Z"
   },
   {
    "duration": 5,
    "start_time": "2024-07-29T04:36:37.195Z"
   },
   {
    "duration": 170,
    "start_time": "2024-07-29T04:36:37.203Z"
   },
   {
    "duration": 42,
    "start_time": "2024-07-29T04:36:37.376Z"
   },
   {
    "duration": 32,
    "start_time": "2024-07-29T04:36:37.422Z"
   },
   {
    "duration": 48,
    "start_time": "2024-07-29T04:36:37.457Z"
   },
   {
    "duration": 42,
    "start_time": "2024-07-29T04:36:37.508Z"
   },
   {
    "duration": 47,
    "start_time": "2024-07-29T04:36:37.554Z"
   },
   {
    "duration": 37,
    "start_time": "2024-07-29T04:36:37.605Z"
   },
   {
    "duration": 6,
    "start_time": "2024-07-29T04:36:37.645Z"
   },
   {
    "duration": 36,
    "start_time": "2024-07-29T04:36:37.655Z"
   },
   {
    "duration": 151,
    "start_time": "2024-07-29T04:36:37.695Z"
   },
   {
    "duration": 607,
    "start_time": "2024-07-29T04:36:37.850Z"
   },
   {
    "duration": 215,
    "start_time": "2024-07-29T04:36:38.463Z"
   },
   {
    "duration": 6,
    "start_time": "2024-07-29T04:36:38.690Z"
   },
   {
    "duration": 163,
    "start_time": "2024-07-29T04:36:38.700Z"
   },
   {
    "duration": 81,
    "start_time": "2024-07-29T04:36:38.866Z"
   },
   {
    "duration": 654,
    "start_time": "2024-07-29T04:36:38.950Z"
   },
   {
    "duration": 215,
    "start_time": "2024-07-29T04:36:39.607Z"
   },
   {
    "duration": 8,
    "start_time": "2024-07-29T04:36:39.826Z"
   },
   {
    "duration": 181,
    "start_time": "2024-07-29T04:36:39.838Z"
   },
   {
    "duration": 90,
    "start_time": "2024-07-29T04:36:40.023Z"
   },
   {
    "duration": 584,
    "start_time": "2024-07-29T04:36:40.116Z"
   },
   {
    "duration": 225,
    "start_time": "2024-07-29T04:36:40.704Z"
   },
   {
    "duration": 7,
    "start_time": "2024-07-29T04:36:40.933Z"
   },
   {
    "duration": 172,
    "start_time": "2024-07-29T04:36:40.945Z"
   },
   {
    "duration": 4,
    "start_time": "2024-07-29T04:36:41.121Z"
   },
   {
    "duration": 4,
    "start_time": "2024-07-29T04:36:41.129Z"
   },
   {
    "duration": 829,
    "start_time": "2024-07-29T04:42:34.194Z"
   },
   {
    "duration": 81,
    "start_time": "2024-07-29T04:43:01.863Z"
   },
   {
    "duration": 4,
    "start_time": "2024-07-29T04:56:38.256Z"
   },
   {
    "duration": 24,
    "start_time": "2024-07-29T04:56:53.937Z"
   },
   {
    "duration": 16,
    "start_time": "2024-07-29T04:57:02.508Z"
   },
   {
    "duration": 6,
    "start_time": "2024-07-29T04:58:07.615Z"
   },
   {
    "duration": 26,
    "start_time": "2024-07-29T04:58:34.925Z"
   },
   {
    "duration": 7,
    "start_time": "2024-07-29T04:58:46.937Z"
   },
   {
    "duration": 9,
    "start_time": "2024-07-29T04:59:14.827Z"
   },
   {
    "duration": 7,
    "start_time": "2024-07-29T04:59:33.265Z"
   },
   {
    "duration": 26,
    "start_time": "2024-07-29T04:59:47.222Z"
   },
   {
    "duration": 25,
    "start_time": "2024-07-29T04:59:52.564Z"
   },
   {
    "duration": 5,
    "start_time": "2024-07-29T05:00:49.272Z"
   },
   {
    "duration": 24,
    "start_time": "2024-07-29T05:01:15.450Z"
   },
   {
    "duration": 31,
    "start_time": "2024-07-29T05:01:30.159Z"
   },
   {
    "duration": 26,
    "start_time": "2024-07-29T05:01:49.484Z"
   },
   {
    "duration": 24,
    "start_time": "2024-07-29T05:10:59.050Z"
   },
   {
    "duration": 184,
    "start_time": "2024-07-29T05:11:36.689Z"
   },
   {
    "duration": 34,
    "start_time": "2024-07-29T05:11:53.261Z"
   },
   {
    "duration": 28,
    "start_time": "2024-07-29T05:12:26.892Z"
   },
   {
    "duration": 156,
    "start_time": "2024-07-29T05:13:42.346Z"
   },
   {
    "duration": 250,
    "start_time": "2024-07-29T05:14:39.144Z"
   },
   {
    "duration": 871,
    "start_time": "2024-07-29T05:15:39.048Z"
   },
   {
    "duration": 37,
    "start_time": "2024-07-29T05:15:54.781Z"
   },
   {
    "duration": 255,
    "start_time": "2024-07-29T05:17:08.660Z"
   },
   {
    "duration": 135,
    "start_time": "2024-07-29T05:19:30.091Z"
   },
   {
    "duration": 574,
    "start_time": "2024-07-29T05:19:47.057Z"
   },
   {
    "duration": 30,
    "start_time": "2024-07-29T05:20:53.773Z"
   },
   {
    "duration": 578,
    "start_time": "2024-07-29T05:20:59.020Z"
   },
   {
    "duration": 25,
    "start_time": "2024-07-29T05:21:15.918Z"
   },
   {
    "duration": 30,
    "start_time": "2024-07-29T05:21:42.471Z"
   },
   {
    "duration": 1750,
    "start_time": "2024-07-29T05:21:44.808Z"
   },
   {
    "duration": 737,
    "start_time": "2024-07-29T05:22:29.540Z"
   },
   {
    "duration": 305,
    "start_time": "2024-07-29T05:22:58.901Z"
   },
   {
    "duration": 23,
    "start_time": "2024-07-29T05:23:39.872Z"
   },
   {
    "duration": 36516,
    "start_time": "2024-07-29T05:26:59.640Z"
   },
   {
    "duration": 35759,
    "start_time": "2024-07-29T05:28:49.913Z"
   },
   {
    "duration": 35559,
    "start_time": "2024-07-29T05:30:05.066Z"
   },
   {
    "duration": 421,
    "start_time": "2024-07-29T05:31:04.916Z"
   },
   {
    "duration": 91,
    "start_time": "2024-07-29T05:33:10.496Z"
   },
   {
    "duration": 580,
    "start_time": "2024-07-29T05:33:30.988Z"
   },
   {
    "duration": 567,
    "start_time": "2024-07-29T05:34:08.523Z"
   },
   {
    "duration": 162,
    "start_time": "2024-07-29T05:35:43.762Z"
   },
   {
    "duration": 209,
    "start_time": "2024-07-29T05:37:37.055Z"
   },
   {
    "duration": 4941,
    "start_time": "2024-07-30T01:45:32.380Z"
   },
   {
    "duration": 385,
    "start_time": "2024-07-30T01:45:37.324Z"
   },
   {
    "duration": 18,
    "start_time": "2024-07-30T01:45:37.711Z"
   },
   {
    "duration": 17,
    "start_time": "2024-07-30T01:45:37.734Z"
   },
   {
    "duration": 48,
    "start_time": "2024-07-30T01:45:37.753Z"
   },
   {
    "duration": 16,
    "start_time": "2024-07-30T01:45:37.805Z"
   },
   {
    "duration": 18,
    "start_time": "2024-07-30T01:45:37.825Z"
   },
   {
    "duration": 12,
    "start_time": "2024-07-30T01:45:37.847Z"
   },
   {
    "duration": 12,
    "start_time": "2024-07-30T01:45:37.903Z"
   },
   {
    "duration": 20,
    "start_time": "2024-07-30T01:45:37.923Z"
   },
   {
    "duration": 5,
    "start_time": "2024-07-30T01:45:37.947Z"
   },
   {
    "duration": 63,
    "start_time": "2024-07-30T01:45:37.955Z"
   },
   {
    "duration": 34,
    "start_time": "2024-07-30T01:45:38.021Z"
   },
   {
    "duration": 106,
    "start_time": "2024-07-30T01:45:38.058Z"
   },
   {
    "duration": 66,
    "start_time": "2024-07-30T01:45:38.167Z"
   },
   {
    "duration": 5,
    "start_time": "2024-07-30T01:45:38.235Z"
   },
   {
    "duration": 31,
    "start_time": "2024-07-30T01:45:38.243Z"
   },
   {
    "duration": 10,
    "start_time": "2024-07-30T01:45:38.303Z"
   },
   {
    "duration": 40,
    "start_time": "2024-07-30T01:45:38.316Z"
   },
   {
    "duration": 56,
    "start_time": "2024-07-30T01:45:38.359Z"
   },
   {
    "duration": 8,
    "start_time": "2024-07-30T01:45:38.418Z"
   },
   {
    "duration": 45,
    "start_time": "2024-07-30T01:45:38.429Z"
   },
   {
    "duration": 12,
    "start_time": "2024-07-30T01:45:38.501Z"
   },
   {
    "duration": 110,
    "start_time": "2024-07-30T01:45:38.516Z"
   },
   {
    "duration": 30,
    "start_time": "2024-07-30T01:45:38.630Z"
   },
   {
    "duration": 4,
    "start_time": "2024-07-30T01:45:38.663Z"
   },
   {
    "duration": 38,
    "start_time": "2024-07-30T01:45:38.670Z"
   },
   {
    "duration": 12,
    "start_time": "2024-07-30T01:45:38.717Z"
   },
   {
    "duration": 5,
    "start_time": "2024-07-30T01:45:38.731Z"
   },
   {
    "duration": 169,
    "start_time": "2024-07-30T01:45:38.742Z"
   },
   {
    "duration": 32,
    "start_time": "2024-07-30T01:45:38.914Z"
   },
   {
    "duration": 54,
    "start_time": "2024-07-30T01:45:38.949Z"
   },
   {
    "duration": 21,
    "start_time": "2024-07-30T01:45:39.007Z"
   },
   {
    "duration": 36,
    "start_time": "2024-07-30T01:45:39.030Z"
   },
   {
    "duration": 16,
    "start_time": "2024-07-30T01:45:39.102Z"
   },
   {
    "duration": 31,
    "start_time": "2024-07-30T01:45:39.121Z"
   },
   {
    "duration": 5,
    "start_time": "2024-07-30T01:45:39.155Z"
   },
   {
    "duration": 3,
    "start_time": "2024-07-30T01:45:39.201Z"
   },
   {
    "duration": 139,
    "start_time": "2024-07-30T01:45:39.208Z"
   },
   {
    "duration": 577,
    "start_time": "2024-07-30T01:45:39.350Z"
   },
   {
    "duration": 207,
    "start_time": "2024-07-30T01:45:39.930Z"
   },
   {
    "duration": 6,
    "start_time": "2024-07-30T01:45:40.140Z"
   },
   {
    "duration": 161,
    "start_time": "2024-07-30T01:45:40.150Z"
   },
   {
    "duration": 66,
    "start_time": "2024-07-30T01:45:40.314Z"
   },
   {
    "duration": 580,
    "start_time": "2024-07-30T01:45:40.382Z"
   },
   {
    "duration": 269,
    "start_time": "2024-07-30T01:45:40.965Z"
   },
   {
    "duration": 7,
    "start_time": "2024-07-30T01:45:41.238Z"
   },
   {
    "duration": 171,
    "start_time": "2024-07-30T01:45:41.248Z"
   },
   {
    "duration": 87,
    "start_time": "2024-07-30T01:45:41.422Z"
   },
   {
    "duration": 544,
    "start_time": "2024-07-30T01:45:41.512Z"
   },
   {
    "duration": 199,
    "start_time": "2024-07-30T01:45:42.060Z"
   },
   {
    "duration": 7,
    "start_time": "2024-07-30T01:45:42.262Z"
   },
   {
    "duration": 152,
    "start_time": "2024-07-30T01:45:42.272Z"
   },
   {
    "duration": 28,
    "start_time": "2024-07-30T01:45:42.427Z"
   },
   {
    "duration": 597,
    "start_time": "2024-07-30T01:45:42.458Z"
   },
   {
    "duration": 212,
    "start_time": "2024-07-30T01:45:43.059Z"
   },
   {
    "duration": 165,
    "start_time": "2024-07-30T01:45:43.273Z"
   },
   {
    "duration": 3,
    "start_time": "2024-07-30T01:45:43.442Z"
   },
   {
    "duration": 4,
    "start_time": "2024-07-30T01:45:43.449Z"
   },
   {
    "duration": 1735,
    "start_time": "2024-07-30T01:50:05.625Z"
   },
   {
    "duration": 553,
    "start_time": "2024-07-30T01:50:44.195Z"
   },
   {
    "duration": 786,
    "start_time": "2024-07-30T01:51:19.365Z"
   },
   {
    "duration": 469,
    "start_time": "2024-07-30T01:51:45.171Z"
   },
   {
    "duration": 483,
    "start_time": "2024-07-30T01:52:13.269Z"
   },
   {
    "duration": 722,
    "start_time": "2024-07-30T01:52:40.012Z"
   },
   {
    "duration": 723,
    "start_time": "2024-07-30T01:53:55.395Z"
   },
   {
    "duration": 179,
    "start_time": "2024-07-30T01:54:21.095Z"
   },
   {
    "duration": 728,
    "start_time": "2024-07-30T01:54:41.684Z"
   },
   {
    "duration": 30,
    "start_time": "2024-07-30T02:03:14.468Z"
   },
   {
    "duration": 779,
    "start_time": "2024-07-30T02:03:25.881Z"
   },
   {
    "duration": 880,
    "start_time": "2024-07-30T02:12:23.137Z"
   },
   {
    "duration": 263,
    "start_time": "2024-07-30T02:12:42.755Z"
   },
   {
    "duration": 196,
    "start_time": "2024-07-30T02:13:00.009Z"
   },
   {
    "duration": 136,
    "start_time": "2024-07-30T03:24:25.985Z"
   },
   {
    "duration": 131,
    "start_time": "2024-07-30T03:25:06.291Z"
   },
   {
    "duration": 551,
    "start_time": "2024-07-30T03:25:26.542Z"
   },
   {
    "duration": 552,
    "start_time": "2024-07-30T03:26:47.918Z"
   },
   {
    "duration": 392,
    "start_time": "2024-07-30T03:32:35.262Z"
   },
   {
    "duration": 335,
    "start_time": "2024-07-30T03:33:57.985Z"
   },
   {
    "duration": 483,
    "start_time": "2024-07-30T03:34:40.541Z"
   },
   {
    "duration": 271,
    "start_time": "2024-07-30T03:36:59.250Z"
   },
   {
    "duration": 287,
    "start_time": "2024-07-30T03:37:31.084Z"
   },
   {
    "duration": 4,
    "start_time": "2024-07-30T03:39:54.305Z"
   },
   {
    "duration": 219,
    "start_time": "2024-07-30T03:40:16.754Z"
   },
   {
    "duration": 432,
    "start_time": "2024-07-30T03:40:51.095Z"
   },
   {
    "duration": 268,
    "start_time": "2024-07-30T03:41:21.944Z"
   },
   {
    "duration": 438,
    "start_time": "2024-07-30T03:41:46.388Z"
   },
   {
    "duration": 221,
    "start_time": "2024-07-30T03:42:19.698Z"
   },
   {
    "duration": 4,
    "start_time": "2024-07-30T03:42:57.037Z"
   },
   {
    "duration": 3,
    "start_time": "2024-07-30T03:43:37.850Z"
   },
   {
    "duration": 28,
    "start_time": "2024-07-30T03:47:44.221Z"
   },
   {
    "duration": 27,
    "start_time": "2024-07-30T03:48:35.505Z"
   },
   {
    "duration": 4,
    "start_time": "2024-07-30T03:48:41.307Z"
   },
   {
    "duration": 10,
    "start_time": "2024-07-30T03:49:39.849Z"
   },
   {
    "duration": 26,
    "start_time": "2024-07-30T03:49:59.155Z"
   },
   {
    "duration": 7,
    "start_time": "2024-07-30T03:50:39.167Z"
   },
   {
    "duration": 253,
    "start_time": "2024-07-30T03:50:46.402Z"
   },
   {
    "duration": 5,
    "start_time": "2024-07-30T03:51:37.002Z"
   },
   {
    "duration": 250,
    "start_time": "2024-07-30T03:51:41.238Z"
   },
   {
    "duration": 7,
    "start_time": "2024-07-30T03:54:05.557Z"
   },
   {
    "duration": 216,
    "start_time": "2024-07-30T03:54:12.959Z"
   },
   {
    "duration": 361,
    "start_time": "2024-07-30T03:55:13.805Z"
   },
   {
    "duration": 87,
    "start_time": "2024-07-30T03:56:31.321Z"
   },
   {
    "duration": 1260,
    "start_time": "2024-07-30T03:56:55.416Z"
   },
   {
    "duration": 302,
    "start_time": "2024-07-30T03:56:56.682Z"
   },
   {
    "duration": 18,
    "start_time": "2024-07-30T03:56:56.987Z"
   },
   {
    "duration": 18,
    "start_time": "2024-07-30T03:56:57.010Z"
   },
   {
    "duration": 13,
    "start_time": "2024-07-30T03:56:57.031Z"
   },
   {
    "duration": 64,
    "start_time": "2024-07-30T03:56:57.047Z"
   },
   {
    "duration": 19,
    "start_time": "2024-07-30T03:56:57.115Z"
   },
   {
    "duration": 12,
    "start_time": "2024-07-30T03:56:57.138Z"
   },
   {
    "duration": 50,
    "start_time": "2024-07-30T03:56:57.153Z"
   },
   {
    "duration": 15,
    "start_time": "2024-07-30T03:56:57.210Z"
   },
   {
    "duration": 4,
    "start_time": "2024-07-30T03:56:57.229Z"
   },
   {
    "duration": 25,
    "start_time": "2024-07-30T03:56:57.237Z"
   },
   {
    "duration": 33,
    "start_time": "2024-07-30T03:56:57.301Z"
   },
   {
    "duration": 90,
    "start_time": "2024-07-30T03:56:57.337Z"
   },
   {
    "duration": 42,
    "start_time": "2024-07-30T03:56:57.430Z"
   },
   {
    "duration": 5,
    "start_time": "2024-07-30T03:56:57.474Z"
   },
   {
    "duration": 33,
    "start_time": "2024-07-30T03:56:57.503Z"
   },
   {
    "duration": 10,
    "start_time": "2024-07-30T03:56:57.539Z"
   },
   {
    "duration": 71,
    "start_time": "2024-07-30T03:56:57.553Z"
   },
   {
    "duration": 24,
    "start_time": "2024-07-30T03:56:57.627Z"
   },
   {
    "duration": 8,
    "start_time": "2024-07-30T03:56:57.653Z"
   },
   {
    "duration": 77,
    "start_time": "2024-07-30T03:56:57.664Z"
   },
   {
    "duration": 13,
    "start_time": "2024-07-30T03:56:57.744Z"
   },
   {
    "duration": 112,
    "start_time": "2024-07-30T03:56:57.760Z"
   },
   {
    "duration": 46,
    "start_time": "2024-07-30T03:56:57.876Z"
   },
   {
    "duration": 5,
    "start_time": "2024-07-30T03:56:57.925Z"
   },
   {
    "duration": 14,
    "start_time": "2024-07-30T03:56:57.933Z"
   },
   {
    "duration": 48,
    "start_time": "2024-07-30T03:56:57.956Z"
   },
   {
    "duration": 4,
    "start_time": "2024-07-30T03:56:58.008Z"
   },
   {
    "duration": 169,
    "start_time": "2024-07-30T03:56:58.016Z"
   },
   {
    "duration": 43,
    "start_time": "2024-07-30T03:56:58.192Z"
   },
   {
    "duration": 34,
    "start_time": "2024-07-30T03:56:58.240Z"
   },
   {
    "duration": 46,
    "start_time": "2024-07-30T03:56:58.276Z"
   },
   {
    "duration": 38,
    "start_time": "2024-07-30T03:56:58.325Z"
   },
   {
    "duration": 45,
    "start_time": "2024-07-30T03:56:58.367Z"
   },
   {
    "duration": 32,
    "start_time": "2024-07-30T03:56:58.416Z"
   },
   {
    "duration": 6,
    "start_time": "2024-07-30T03:56:58.451Z"
   },
   {
    "duration": 123,
    "start_time": "2024-07-30T03:56:58.461Z"
   },
   {
    "duration": 75,
    "start_time": "2024-07-30T03:56:58.587Z"
   },
   {
    "duration": 572,
    "start_time": "2024-07-30T03:56:58.665Z"
   },
   {
    "duration": 6,
    "start_time": "2024-07-30T03:56:59.241Z"
   },
   {
    "duration": 271,
    "start_time": "2024-07-30T03:56:59.251Z"
   },
   {
    "duration": 6,
    "start_time": "2024-07-30T03:56:59.525Z"
   },
   {
    "duration": 167,
    "start_time": "2024-07-30T03:56:59.534Z"
   },
   {
    "duration": 66,
    "start_time": "2024-07-30T03:56:59.708Z"
   },
   {
    "duration": 304,
    "start_time": "2024-07-30T03:56:59.777Z"
   },
   {
    "duration": 18,
    "start_time": "2024-07-30T03:57:00.085Z"
   },
   {
    "duration": 164,
    "start_time": "2024-07-30T03:57:00.106Z"
   },
   {
    "duration": 90,
    "start_time": "2024-07-30T03:57:00.273Z"
   },
   {
    "duration": 254,
    "start_time": "2024-07-30T03:57:00.367Z"
   },
   {
    "duration": 8,
    "start_time": "2024-07-30T03:57:00.624Z"
   },
   {
    "duration": 163,
    "start_time": "2024-07-30T03:57:00.635Z"
   },
   {
    "duration": 26,
    "start_time": "2024-07-30T03:57:00.803Z"
   },
   {
    "duration": 759,
    "start_time": "2024-07-30T03:57:00.832Z"
   },
   {
    "duration": 207,
    "start_time": "2024-07-30T03:57:01.601Z"
   },
   {
    "duration": 170,
    "start_time": "2024-07-30T03:57:01.811Z"
   },
   {
    "duration": 19,
    "start_time": "2024-07-30T03:57:01.984Z"
   },
   {
    "duration": 0,
    "start_time": "2024-07-30T03:57:02.006Z"
   },
   {
    "duration": 250,
    "start_time": "2024-07-30T03:58:09.291Z"
   },
   {
    "duration": 286,
    "start_time": "2024-07-30T04:01:07.253Z"
   },
   {
    "duration": 196,
    "start_time": "2024-07-30T04:04:56.220Z"
   },
   {
    "duration": 408,
    "start_time": "2024-07-30T04:05:56.021Z"
   },
   {
    "duration": 297,
    "start_time": "2024-07-30T04:07:14.684Z"
   },
   {
    "duration": 294,
    "start_time": "2024-07-30T04:07:30.687Z"
   },
   {
    "duration": 229,
    "start_time": "2024-07-30T04:07:50.359Z"
   },
   {
    "duration": 242,
    "start_time": "2024-07-30T04:08:14.434Z"
   },
   {
    "duration": 214,
    "start_time": "2024-07-30T04:09:06.431Z"
   },
   {
    "duration": 252,
    "start_time": "2024-07-30T04:09:23.619Z"
   },
   {
    "duration": 1215,
    "start_time": "2024-07-30T04:09:44.549Z"
   },
   {
    "duration": 305,
    "start_time": "2024-07-30T04:09:45.769Z"
   },
   {
    "duration": 17,
    "start_time": "2024-07-30T04:09:46.077Z"
   },
   {
    "duration": 19,
    "start_time": "2024-07-30T04:09:46.103Z"
   },
   {
    "duration": 13,
    "start_time": "2024-07-30T04:09:46.125Z"
   },
   {
    "duration": 14,
    "start_time": "2024-07-30T04:09:46.142Z"
   },
   {
    "duration": 20,
    "start_time": "2024-07-30T04:09:46.203Z"
   },
   {
    "duration": 13,
    "start_time": "2024-07-30T04:09:46.226Z"
   },
   {
    "duration": 12,
    "start_time": "2024-07-30T04:09:46.242Z"
   },
   {
    "duration": 18,
    "start_time": "2024-07-30T04:09:46.301Z"
   },
   {
    "duration": 5,
    "start_time": "2024-07-30T04:09:46.322Z"
   },
   {
    "duration": 26,
    "start_time": "2024-07-30T04:09:46.330Z"
   },
   {
    "duration": 69,
    "start_time": "2024-07-30T04:09:46.359Z"
   },
   {
    "duration": 95,
    "start_time": "2024-07-30T04:09:46.431Z"
   },
   {
    "duration": 40,
    "start_time": "2024-07-30T04:09:46.530Z"
   },
   {
    "duration": 5,
    "start_time": "2024-07-30T04:09:46.573Z"
   },
   {
    "duration": 33,
    "start_time": "2024-07-30T04:09:46.604Z"
   },
   {
    "duration": 10,
    "start_time": "2024-07-30T04:09:46.641Z"
   },
   {
    "duration": 78,
    "start_time": "2024-07-30T04:09:46.655Z"
   },
   {
    "duration": 24,
    "start_time": "2024-07-30T04:09:46.736Z"
   },
   {
    "duration": 5,
    "start_time": "2024-07-30T04:09:46.763Z"
   },
   {
    "duration": 57,
    "start_time": "2024-07-30T04:09:46.804Z"
   },
   {
    "duration": 37,
    "start_time": "2024-07-30T04:09:46.865Z"
   },
   {
    "duration": 97,
    "start_time": "2024-07-30T04:09:46.908Z"
   },
   {
    "duration": 35,
    "start_time": "2024-07-30T04:09:47.008Z"
   },
   {
    "duration": 5,
    "start_time": "2024-07-30T04:09:47.045Z"
   },
   {
    "duration": 13,
    "start_time": "2024-07-30T04:09:47.053Z"
   },
   {
    "duration": 12,
    "start_time": "2024-07-30T04:09:47.104Z"
   },
   {
    "duration": 4,
    "start_time": "2024-07-30T04:09:47.119Z"
   },
   {
    "duration": 166,
    "start_time": "2024-07-30T04:09:47.126Z"
   },
   {
    "duration": 35,
    "start_time": "2024-07-30T04:09:47.302Z"
   },
   {
    "duration": 30,
    "start_time": "2024-07-30T04:09:47.340Z"
   },
   {
    "duration": 20,
    "start_time": "2024-07-30T04:09:47.401Z"
   },
   {
    "duration": 32,
    "start_time": "2024-07-30T04:09:47.425Z"
   },
   {
    "duration": 49,
    "start_time": "2024-07-30T04:09:47.460Z"
   },
   {
    "duration": 29,
    "start_time": "2024-07-30T04:09:47.513Z"
   },
   {
    "duration": 5,
    "start_time": "2024-07-30T04:09:47.546Z"
   },
   {
    "duration": 116,
    "start_time": "2024-07-30T04:09:47.554Z"
   },
   {
    "duration": 77,
    "start_time": "2024-07-30T04:09:47.673Z"
   },
   {
    "duration": 585,
    "start_time": "2024-07-30T04:09:47.753Z"
   },
   {
    "duration": 4,
    "start_time": "2024-07-30T04:09:48.341Z"
   },
   {
    "duration": 268,
    "start_time": "2024-07-30T04:09:48.349Z"
   },
   {
    "duration": 7,
    "start_time": "2024-07-30T04:09:48.620Z"
   },
   {
    "duration": 159,
    "start_time": "2024-07-30T04:09:48.631Z"
   },
   {
    "duration": 65,
    "start_time": "2024-07-30T04:09:48.801Z"
   },
   {
    "duration": 315,
    "start_time": "2024-07-30T04:09:48.869Z"
   },
   {
    "duration": 16,
    "start_time": "2024-07-30T04:09:49.188Z"
   },
   {
    "duration": 165,
    "start_time": "2024-07-30T04:09:49.210Z"
   },
   {
    "duration": 85,
    "start_time": "2024-07-30T04:09:49.378Z"
   },
   {
    "duration": 249,
    "start_time": "2024-07-30T04:09:49.466Z"
   },
   {
    "duration": 7,
    "start_time": "2024-07-30T04:09:49.718Z"
   },
   {
    "duration": 156,
    "start_time": "2024-07-30T04:09:49.728Z"
   },
   {
    "duration": 37,
    "start_time": "2024-07-30T04:09:49.888Z"
   },
   {
    "duration": 305,
    "start_time": "2024-07-30T04:09:49.928Z"
   },
   {
    "duration": 309,
    "start_time": "2024-07-30T04:09:50.236Z"
   },
   {
    "duration": 8,
    "start_time": "2024-07-30T04:09:50.548Z"
   },
   {
    "duration": 0,
    "start_time": "2024-07-30T04:09:50.559Z"
   },
   {
    "duration": 284,
    "start_time": "2024-07-30T04:11:21.548Z"
   },
   {
    "duration": 278,
    "start_time": "2024-07-30T04:12:59.832Z"
   },
   {
    "duration": 278,
    "start_time": "2024-07-30T04:14:47.795Z"
   },
   {
    "duration": 996,
    "start_time": "2024-07-30T04:15:12.226Z"
   },
   {
    "duration": 280,
    "start_time": "2024-07-30T04:15:34.486Z"
   },
   {
    "duration": 289,
    "start_time": "2024-07-30T04:15:48.555Z"
   },
   {
    "duration": 9,
    "start_time": "2024-07-30T04:15:59.151Z"
   },
   {
    "duration": 246,
    "start_time": "2024-07-30T04:16:14.683Z"
   },
   {
    "duration": 356,
    "start_time": "2024-07-30T04:17:08.262Z"
   },
   {
    "duration": 282,
    "start_time": "2024-07-30T04:17:44.061Z"
   },
   {
    "duration": 246,
    "start_time": "2024-07-30T04:18:13.890Z"
   },
   {
    "duration": 245,
    "start_time": "2024-07-30T04:19:25.925Z"
   },
   {
    "duration": 284,
    "start_time": "2024-07-30T04:19:35.320Z"
   },
   {
    "duration": 172,
    "start_time": "2024-07-30T04:20:01.006Z"
   },
   {
    "duration": 161,
    "start_time": "2024-07-30T04:20:10.220Z"
   },
   {
    "duration": 164,
    "start_time": "2024-07-30T04:21:26.990Z"
   },
   {
    "duration": 285,
    "start_time": "2024-07-30T04:22:09.346Z"
   },
   {
    "duration": 286,
    "start_time": "2024-07-30T04:22:32.581Z"
   },
   {
    "duration": 280,
    "start_time": "2024-07-30T04:22:43.617Z"
   },
   {
    "duration": 282,
    "start_time": "2024-07-30T04:27:18.259Z"
   },
   {
    "duration": 397,
    "start_time": "2024-07-30T04:27:22.448Z"
   },
   {
    "duration": 166,
    "start_time": "2024-07-30T04:27:48.683Z"
   },
   {
    "duration": 282,
    "start_time": "2024-07-30T04:28:00.341Z"
   },
   {
    "duration": 9,
    "start_time": "2024-07-30T04:34:58.646Z"
   },
   {
    "duration": 10,
    "start_time": "2024-07-30T04:35:34.170Z"
   },
   {
    "duration": 10,
    "start_time": "2024-07-30T04:35:40.758Z"
   },
   {
    "duration": 1178,
    "start_time": "2024-07-30T04:38:29.577Z"
   },
   {
    "duration": 295,
    "start_time": "2024-07-30T04:38:30.760Z"
   },
   {
    "duration": 17,
    "start_time": "2024-07-30T04:38:31.057Z"
   },
   {
    "duration": 34,
    "start_time": "2024-07-30T04:38:31.079Z"
   },
   {
    "duration": 11,
    "start_time": "2024-07-30T04:38:31.120Z"
   },
   {
    "duration": 16,
    "start_time": "2024-07-30T04:38:31.135Z"
   },
   {
    "duration": 51,
    "start_time": "2024-07-30T04:38:31.154Z"
   },
   {
    "duration": 13,
    "start_time": "2024-07-30T04:38:31.208Z"
   },
   {
    "duration": 13,
    "start_time": "2024-07-30T04:38:31.224Z"
   },
   {
    "duration": 62,
    "start_time": "2024-07-30T04:38:31.240Z"
   },
   {
    "duration": 5,
    "start_time": "2024-07-30T04:38:31.305Z"
   },
   {
    "duration": 27,
    "start_time": "2024-07-30T04:38:31.313Z"
   },
   {
    "duration": 74,
    "start_time": "2024-07-30T04:38:31.344Z"
   },
   {
    "duration": 94,
    "start_time": "2024-07-30T04:38:31.426Z"
   },
   {
    "duration": 43,
    "start_time": "2024-07-30T04:38:31.524Z"
   },
   {
    "duration": 5,
    "start_time": "2024-07-30T04:38:31.570Z"
   },
   {
    "duration": 53,
    "start_time": "2024-07-30T04:38:31.578Z"
   },
   {
    "duration": 11,
    "start_time": "2024-07-30T04:38:31.634Z"
   },
   {
    "duration": 79,
    "start_time": "2024-07-30T04:38:31.649Z"
   },
   {
    "duration": 25,
    "start_time": "2024-07-30T04:38:31.731Z"
   },
   {
    "duration": 6,
    "start_time": "2024-07-30T04:38:31.759Z"
   },
   {
    "duration": 71,
    "start_time": "2024-07-30T04:38:31.768Z"
   },
   {
    "duration": 11,
    "start_time": "2024-07-30T04:38:31.843Z"
   },
   {
    "duration": 106,
    "start_time": "2024-07-30T04:38:31.857Z"
   },
   {
    "duration": 47,
    "start_time": "2024-07-30T04:38:31.966Z"
   },
   {
    "duration": 4,
    "start_time": "2024-07-30T04:38:32.016Z"
   },
   {
    "duration": 14,
    "start_time": "2024-07-30T04:38:32.023Z"
   },
   {
    "duration": 12,
    "start_time": "2024-07-30T04:38:32.039Z"
   },
   {
    "duration": 4,
    "start_time": "2024-07-30T04:38:32.054Z"
   },
   {
    "duration": 146,
    "start_time": "2024-07-30T04:38:32.102Z"
   },
   {
    "duration": 51,
    "start_time": "2024-07-30T04:38:32.251Z"
   },
   {
    "duration": 31,
    "start_time": "2024-07-30T04:38:32.305Z"
   },
   {
    "duration": 21,
    "start_time": "2024-07-30T04:38:32.340Z"
   },
   {
    "duration": 66,
    "start_time": "2024-07-30T04:38:32.365Z"
   },
   {
    "duration": 16,
    "start_time": "2024-07-30T04:38:32.435Z"
   },
   {
    "duration": 64,
    "start_time": "2024-07-30T04:38:32.454Z"
   },
   {
    "duration": 5,
    "start_time": "2024-07-30T04:38:32.521Z"
   },
   {
    "duration": 106,
    "start_time": "2024-07-30T04:38:32.529Z"
   },
   {
    "duration": 86,
    "start_time": "2024-07-30T04:38:32.638Z"
   },
   {
    "duration": 564,
    "start_time": "2024-07-30T04:38:32.727Z"
   },
   {
    "duration": 4,
    "start_time": "2024-07-30T04:38:33.306Z"
   },
   {
    "duration": 255,
    "start_time": "2024-07-30T04:38:33.313Z"
   },
   {
    "duration": 6,
    "start_time": "2024-07-30T04:38:33.571Z"
   },
   {
    "duration": 169,
    "start_time": "2024-07-30T04:38:33.580Z"
   },
   {
    "duration": 73,
    "start_time": "2024-07-30T04:38:33.753Z"
   },
   {
    "duration": 305,
    "start_time": "2024-07-30T04:38:33.830Z"
   },
   {
    "duration": 8,
    "start_time": "2024-07-30T04:38:34.137Z"
   },
   {
    "duration": 172,
    "start_time": "2024-07-30T04:38:34.147Z"
   },
   {
    "duration": 90,
    "start_time": "2024-07-30T04:38:34.323Z"
   },
   {
    "duration": 300,
    "start_time": "2024-07-30T04:38:34.416Z"
   },
   {
    "duration": 8,
    "start_time": "2024-07-30T04:38:34.720Z"
   },
   {
    "duration": 158,
    "start_time": "2024-07-30T04:38:34.732Z"
   },
   {
    "duration": 31,
    "start_time": "2024-07-30T04:38:34.894Z"
   },
   {
    "duration": 310,
    "start_time": "2024-07-30T04:38:34.928Z"
   },
   {
    "duration": 301,
    "start_time": "2024-07-30T04:38:35.241Z"
   },
   {
    "duration": 10,
    "start_time": "2024-07-30T04:38:35.545Z"
   },
   {
    "duration": 6,
    "start_time": "2024-07-30T04:38:35.558Z"
   },
   {
    "duration": 0,
    "start_time": "2024-07-30T04:38:35.568Z"
   },
   {
    "duration": 86,
    "start_time": "2024-07-30T04:43:24.708Z"
   },
   {
    "duration": 90,
    "start_time": "2024-07-30T04:45:08.461Z"
   },
   {
    "duration": 90,
    "start_time": "2024-07-30T04:46:45.624Z"
   },
   {
    "duration": 298,
    "start_time": "2024-07-30T04:47:06.637Z"
   },
   {
    "duration": 274,
    "start_time": "2024-07-30T04:47:08.941Z"
   },
   {
    "duration": 9,
    "start_time": "2024-07-30T04:47:23.759Z"
   },
   {
    "duration": 4791,
    "start_time": "2024-07-31T02:31:23.345Z"
   },
   {
    "duration": 355,
    "start_time": "2024-07-31T02:31:28.139Z"
   },
   {
    "duration": 17,
    "start_time": "2024-07-31T02:31:28.496Z"
   },
   {
    "duration": 22,
    "start_time": "2024-07-31T02:31:28.517Z"
   },
   {
    "duration": 11,
    "start_time": "2024-07-31T02:31:28.546Z"
   },
   {
    "duration": 16,
    "start_time": "2024-07-31T02:31:28.561Z"
   },
   {
    "duration": 60,
    "start_time": "2024-07-31T02:31:28.580Z"
   },
   {
    "duration": 12,
    "start_time": "2024-07-31T02:31:28.644Z"
   },
   {
    "duration": 11,
    "start_time": "2024-07-31T02:31:28.660Z"
   },
   {
    "duration": 54,
    "start_time": "2024-07-31T02:31:28.674Z"
   },
   {
    "duration": 6,
    "start_time": "2024-07-31T02:31:28.732Z"
   },
   {
    "duration": 31,
    "start_time": "2024-07-31T02:31:28.742Z"
   },
   {
    "duration": 68,
    "start_time": "2024-07-31T02:31:28.776Z"
   },
   {
    "duration": 88,
    "start_time": "2024-07-31T02:31:28.853Z"
   },
   {
    "duration": 41,
    "start_time": "2024-07-31T02:31:28.944Z"
   },
   {
    "duration": 5,
    "start_time": "2024-07-31T02:31:28.988Z"
   },
   {
    "duration": 56,
    "start_time": "2024-07-31T02:31:28.997Z"
   },
   {
    "duration": 10,
    "start_time": "2024-07-31T02:31:29.056Z"
   },
   {
    "duration": 64,
    "start_time": "2024-07-31T02:31:29.069Z"
   },
   {
    "duration": 23,
    "start_time": "2024-07-31T02:31:29.137Z"
   },
   {
    "duration": 5,
    "start_time": "2024-07-31T02:31:29.163Z"
   },
   {
    "duration": 77,
    "start_time": "2024-07-31T02:31:29.171Z"
   },
   {
    "duration": 12,
    "start_time": "2024-07-31T02:31:29.251Z"
   },
   {
    "duration": 106,
    "start_time": "2024-07-31T02:31:29.266Z"
   },
   {
    "duration": 31,
    "start_time": "2024-07-31T02:31:29.375Z"
   },
   {
    "duration": 18,
    "start_time": "2024-07-31T02:31:29.409Z"
   },
   {
    "duration": 13,
    "start_time": "2024-07-31T02:31:29.430Z"
   },
   {
    "duration": 12,
    "start_time": "2024-07-31T02:31:29.446Z"
   },
   {
    "duration": 4,
    "start_time": "2024-07-31T02:31:29.461Z"
   },
   {
    "duration": 177,
    "start_time": "2024-07-31T02:31:29.468Z"
   },
   {
    "duration": 31,
    "start_time": "2024-07-31T02:31:29.648Z"
   },
   {
    "duration": 53,
    "start_time": "2024-07-31T02:31:29.682Z"
   },
   {
    "duration": 22,
    "start_time": "2024-07-31T02:31:29.738Z"
   },
   {
    "duration": 35,
    "start_time": "2024-07-31T02:31:29.762Z"
   },
   {
    "duration": 20,
    "start_time": "2024-07-31T02:31:29.828Z"
   },
   {
    "duration": 43,
    "start_time": "2024-07-31T02:31:29.856Z"
   },
   {
    "duration": 24,
    "start_time": "2024-07-31T02:31:29.903Z"
   },
   {
    "duration": 105,
    "start_time": "2024-07-31T02:31:29.930Z"
   },
   {
    "duration": 61,
    "start_time": "2024-07-31T02:31:30.038Z"
   },
   {
    "duration": 572,
    "start_time": "2024-07-31T02:31:30.102Z"
   },
   {
    "duration": 3,
    "start_time": "2024-07-31T02:31:30.683Z"
   },
   {
    "duration": 275,
    "start_time": "2024-07-31T02:31:30.689Z"
   },
   {
    "duration": 6,
    "start_time": "2024-07-31T02:31:30.969Z"
   },
   {
    "duration": 156,
    "start_time": "2024-07-31T02:31:30.978Z"
   },
   {
    "duration": 65,
    "start_time": "2024-07-31T02:31:31.137Z"
   },
   {
    "duration": 237,
    "start_time": "2024-07-31T02:31:31.206Z"
   },
   {
    "duration": 11,
    "start_time": "2024-07-31T02:31:31.447Z"
   },
   {
    "duration": 170,
    "start_time": "2024-07-31T02:31:31.462Z"
   },
   {
    "duration": 73,
    "start_time": "2024-07-31T02:31:31.635Z"
   },
   {
    "duration": 387,
    "start_time": "2024-07-31T02:31:31.711Z"
   },
   {
    "duration": 10,
    "start_time": "2024-07-31T02:31:32.101Z"
   },
   {
    "duration": 142,
    "start_time": "2024-07-31T02:31:32.127Z"
   },
   {
    "duration": 25,
    "start_time": "2024-07-31T02:31:32.272Z"
   },
   {
    "duration": 295,
    "start_time": "2024-07-31T02:31:32.300Z"
   },
   {
    "duration": 285,
    "start_time": "2024-07-31T02:31:32.599Z"
   },
   {
    "duration": 11,
    "start_time": "2024-07-31T02:31:32.887Z"
   },
   {
    "duration": 29,
    "start_time": "2024-07-31T02:31:32.901Z"
   },
   {
    "duration": 1,
    "start_time": "2024-07-31T02:31:32.932Z"
   },
   {
    "duration": 1151,
    "start_time": "2024-07-31T02:41:49.259Z"
   },
   {
    "duration": 266,
    "start_time": "2024-07-31T02:41:50.414Z"
   },
   {
    "duration": 15,
    "start_time": "2024-07-31T02:41:50.683Z"
   },
   {
    "duration": 33,
    "start_time": "2024-07-31T02:41:50.701Z"
   },
   {
    "duration": 11,
    "start_time": "2024-07-31T02:41:50.738Z"
   },
   {
    "duration": 15,
    "start_time": "2024-07-31T02:41:50.752Z"
   },
   {
    "duration": 59,
    "start_time": "2024-07-31T02:41:50.770Z"
   },
   {
    "duration": 13,
    "start_time": "2024-07-31T02:41:50.832Z"
   },
   {
    "duration": 10,
    "start_time": "2024-07-31T02:41:50.848Z"
   },
   {
    "duration": 16,
    "start_time": "2024-07-31T02:41:50.861Z"
   },
   {
    "duration": 47,
    "start_time": "2024-07-31T02:41:50.880Z"
   },
   {
    "duration": 26,
    "start_time": "2024-07-31T02:41:50.930Z"
   },
   {
    "duration": 31,
    "start_time": "2024-07-31T02:41:50.959Z"
   },
   {
    "duration": 69,
    "start_time": "2024-07-31T02:41:51.030Z"
   },
   {
    "duration": 56,
    "start_time": "2024-07-31T02:41:51.103Z"
   },
   {
    "duration": 5,
    "start_time": "2024-07-31T02:41:51.162Z"
   },
   {
    "duration": 60,
    "start_time": "2024-07-31T02:41:51.170Z"
   },
   {
    "duration": 10,
    "start_time": "2024-07-31T02:41:51.233Z"
   },
   {
    "duration": 38,
    "start_time": "2024-07-31T02:41:51.246Z"
   },
   {
    "duration": 61,
    "start_time": "2024-07-31T02:41:51.287Z"
   },
   {
    "duration": 7,
    "start_time": "2024-07-31T02:41:51.351Z"
   },
   {
    "duration": 70,
    "start_time": "2024-07-31T02:41:51.360Z"
   },
   {
    "duration": 16,
    "start_time": "2024-07-31T02:41:51.434Z"
   },
   {
    "duration": 101,
    "start_time": "2024-07-31T02:41:51.454Z"
   },
   {
    "duration": 30,
    "start_time": "2024-07-31T02:41:51.558Z"
   },
   {
    "duration": 4,
    "start_time": "2024-07-31T02:41:51.594Z"
   },
   {
    "duration": 37,
    "start_time": "2024-07-31T02:41:51.600Z"
   },
   {
    "duration": 12,
    "start_time": "2024-07-31T02:41:51.641Z"
   },
   {
    "duration": 4,
    "start_time": "2024-07-31T02:41:51.656Z"
   },
   {
    "duration": 164,
    "start_time": "2024-07-31T02:41:51.663Z"
   },
   {
    "duration": 33,
    "start_time": "2024-07-31T02:41:51.830Z"
   },
   {
    "duration": 29,
    "start_time": "2024-07-31T02:41:51.865Z"
   },
   {
    "duration": 19,
    "start_time": "2024-07-31T02:41:51.927Z"
   },
   {
    "duration": 33,
    "start_time": "2024-07-31T02:41:51.949Z"
   },
   {
    "duration": 46,
    "start_time": "2024-07-31T02:41:51.985Z"
   },
   {
    "duration": 30,
    "start_time": "2024-07-31T02:41:52.034Z"
   },
   {
    "duration": 5,
    "start_time": "2024-07-31T02:41:52.067Z"
   },
   {
    "duration": 3,
    "start_time": "2024-07-31T02:41:52.075Z"
   },
   {
    "duration": 93,
    "start_time": "2024-07-31T02:41:52.081Z"
   },
   {
    "duration": 572,
    "start_time": "2024-07-31T02:41:52.178Z"
   },
   {
    "duration": 3,
    "start_time": "2024-07-31T02:41:52.760Z"
   },
   {
    "duration": 262,
    "start_time": "2024-07-31T02:41:52.766Z"
   },
   {
    "duration": 6,
    "start_time": "2024-07-31T02:41:53.032Z"
   },
   {
    "duration": 146,
    "start_time": "2024-07-31T02:41:53.041Z"
   },
   {
    "duration": 74,
    "start_time": "2024-07-31T02:41:53.191Z"
   },
   {
    "duration": 291,
    "start_time": "2024-07-31T02:41:53.269Z"
   },
   {
    "duration": 7,
    "start_time": "2024-07-31T02:41:53.564Z"
   },
   {
    "duration": 167,
    "start_time": "2024-07-31T02:41:53.576Z"
   },
   {
    "duration": 83,
    "start_time": "2024-07-31T02:41:53.746Z"
   },
   {
    "duration": 284,
    "start_time": "2024-07-31T02:41:53.832Z"
   },
   {
    "duration": 9,
    "start_time": "2024-07-31T02:41:54.119Z"
   },
   {
    "duration": 146,
    "start_time": "2024-07-31T02:41:54.131Z"
   },
   {
    "duration": 98,
    "start_time": "2024-07-31T02:41:54.280Z"
   },
   {
    "duration": 27,
    "start_time": "2024-07-31T02:41:54.381Z"
   },
   {
    "duration": 285,
    "start_time": "2024-07-31T02:41:54.425Z"
   },
   {
    "duration": 294,
    "start_time": "2024-07-31T02:41:54.713Z"
   },
   {
    "duration": 19,
    "start_time": "2024-07-31T02:41:55.010Z"
   },
   {
    "duration": 6,
    "start_time": "2024-07-31T02:41:55.031Z"
   },
   {
    "duration": 0,
    "start_time": "2024-07-31T02:41:55.040Z"
   },
   {
    "duration": 291,
    "start_time": "2024-07-31T02:42:21.971Z"
   },
   {
    "duration": 233,
    "start_time": "2024-07-31T02:42:28.834Z"
   },
   {
    "duration": 471,
    "start_time": "2024-07-31T02:43:00.564Z"
   },
   {
    "duration": 215,
    "start_time": "2024-07-31T02:43:14.676Z"
   },
   {
    "duration": 245,
    "start_time": "2024-07-31T02:43:44.526Z"
   },
   {
    "duration": 1384,
    "start_time": "2024-07-31T02:44:07.891Z"
   },
   {
    "duration": 292,
    "start_time": "2024-07-31T02:45:59.716Z"
   },
   {
    "duration": 276,
    "start_time": "2024-07-31T02:46:24.276Z"
   },
   {
    "duration": 278,
    "start_time": "2024-07-31T02:46:42.023Z"
   },
   {
    "duration": 401,
    "start_time": "2024-07-31T02:48:01.915Z"
   },
   {
    "duration": 291,
    "start_time": "2024-07-31T02:48:11.764Z"
   },
   {
    "duration": 275,
    "start_time": "2024-07-31T02:48:30.161Z"
   },
   {
    "duration": 254,
    "start_time": "2024-07-31T02:48:54.880Z"
   },
   {
    "duration": 271,
    "start_time": "2024-07-31T02:49:09.356Z"
   },
   {
    "duration": 8,
    "start_time": "2024-07-31T02:54:47.846Z"
   },
   {
    "duration": 9,
    "start_time": "2024-07-31T02:56:47.765Z"
   },
   {
    "duration": 7,
    "start_time": "2024-07-31T02:57:39.392Z"
   },
   {
    "duration": 7,
    "start_time": "2024-07-31T02:59:03.274Z"
   },
   {
    "duration": 85,
    "start_time": "2024-07-31T02:59:14.887Z"
   },
   {
    "duration": 622,
    "start_time": "2024-07-31T03:03:17.006Z"
   },
   {
    "duration": 82,
    "start_time": "2024-07-31T03:06:41.234Z"
   },
   {
    "duration": 91,
    "start_time": "2024-07-31T03:07:50.541Z"
   },
   {
    "duration": 81,
    "start_time": "2024-07-31T03:08:28.892Z"
   },
   {
    "duration": 85,
    "start_time": "2024-07-31T03:09:37.370Z"
   },
   {
    "duration": 7,
    "start_time": "2024-07-31T03:11:42.654Z"
   },
   {
    "duration": 85,
    "start_time": "2024-07-31T03:12:16.712Z"
   },
   {
    "duration": 85,
    "start_time": "2024-07-31T03:12:40.253Z"
   },
   {
    "duration": 1210,
    "start_time": "2024-07-31T03:13:09.144Z"
   },
   {
    "duration": 274,
    "start_time": "2024-07-31T03:13:10.359Z"
   },
   {
    "duration": 16,
    "start_time": "2024-07-31T03:13:10.636Z"
   },
   {
    "duration": 16,
    "start_time": "2024-07-31T03:13:10.656Z"
   },
   {
    "duration": 48,
    "start_time": "2024-07-31T03:13:10.678Z"
   },
   {
    "duration": 15,
    "start_time": "2024-07-31T03:13:10.729Z"
   },
   {
    "duration": 19,
    "start_time": "2024-07-31T03:13:10.746Z"
   },
   {
    "duration": 12,
    "start_time": "2024-07-31T03:13:10.768Z"
   },
   {
    "duration": 56,
    "start_time": "2024-07-31T03:13:10.782Z"
   },
   {
    "duration": 19,
    "start_time": "2024-07-31T03:13:10.841Z"
   },
   {
    "duration": 6,
    "start_time": "2024-07-31T03:13:10.863Z"
   },
   {
    "duration": 58,
    "start_time": "2024-07-31T03:13:10.872Z"
   },
   {
    "duration": 33,
    "start_time": "2024-07-31T03:13:10.932Z"
   },
   {
    "duration": 90,
    "start_time": "2024-07-31T03:13:10.971Z"
   },
   {
    "duration": 42,
    "start_time": "2024-07-31T03:13:11.064Z"
   },
   {
    "duration": 18,
    "start_time": "2024-07-31T03:13:11.108Z"
   },
   {
    "duration": 31,
    "start_time": "2024-07-31T03:13:11.128Z"
   },
   {
    "duration": 10,
    "start_time": "2024-07-31T03:13:11.162Z"
   },
   {
    "duration": 75,
    "start_time": "2024-07-31T03:13:11.175Z"
   },
   {
    "duration": 24,
    "start_time": "2024-07-31T03:13:11.253Z"
   },
   {
    "duration": 5,
    "start_time": "2024-07-31T03:13:11.280Z"
   },
   {
    "duration": 71,
    "start_time": "2024-07-31T03:13:11.288Z"
   },
   {
    "duration": 13,
    "start_time": "2024-07-31T03:13:11.362Z"
   },
   {
    "duration": 109,
    "start_time": "2024-07-31T03:13:11.378Z"
   },
   {
    "duration": 42,
    "start_time": "2024-07-31T03:13:11.490Z"
   },
   {
    "duration": 4,
    "start_time": "2024-07-31T03:13:11.535Z"
   },
   {
    "duration": 12,
    "start_time": "2024-07-31T03:13:11.543Z"
   },
   {
    "duration": 13,
    "start_time": "2024-07-31T03:13:11.558Z"
   },
   {
    "duration": 5,
    "start_time": "2024-07-31T03:13:11.574Z"
   },
   {
    "duration": 134,
    "start_time": "2024-07-31T03:13:11.627Z"
   },
   {
    "duration": 33,
    "start_time": "2024-07-31T03:13:11.764Z"
   },
   {
    "duration": 54,
    "start_time": "2024-07-31T03:13:11.800Z"
   },
   {
    "duration": 25,
    "start_time": "2024-07-31T03:13:11.857Z"
   },
   {
    "duration": 67,
    "start_time": "2024-07-31T03:13:11.885Z"
   },
   {
    "duration": 16,
    "start_time": "2024-07-31T03:13:11.955Z"
   },
   {
    "duration": 56,
    "start_time": "2024-07-31T03:13:11.974Z"
   },
   {
    "duration": 5,
    "start_time": "2024-07-31T03:13:12.033Z"
   },
   {
    "duration": 3,
    "start_time": "2024-07-31T03:13:12.042Z"
   },
   {
    "duration": 90,
    "start_time": "2024-07-31T03:13:12.048Z"
   },
   {
    "duration": 552,
    "start_time": "2024-07-31T03:13:12.141Z"
   },
   {
    "duration": 4,
    "start_time": "2024-07-31T03:13:12.703Z"
   },
   {
    "duration": 305,
    "start_time": "2024-07-31T03:13:12.725Z"
   },
   {
    "duration": 6,
    "start_time": "2024-07-31T03:13:13.033Z"
   },
   {
    "duration": 155,
    "start_time": "2024-07-31T03:13:13.042Z"
   },
   {
    "duration": 66,
    "start_time": "2024-07-31T03:13:13.200Z"
   },
   {
    "duration": 337,
    "start_time": "2024-07-31T03:13:13.269Z"
   },
   {
    "duration": 16,
    "start_time": "2024-07-31T03:13:13.610Z"
   },
   {
    "duration": 158,
    "start_time": "2024-07-31T03:13:13.630Z"
   },
   {
    "duration": 83,
    "start_time": "2024-07-31T03:13:13.791Z"
   },
   {
    "duration": 277,
    "start_time": "2024-07-31T03:13:13.888Z"
   },
   {
    "duration": 7,
    "start_time": "2024-07-31T03:13:14.168Z"
   },
   {
    "duration": 159,
    "start_time": "2024-07-31T03:13:14.178Z"
   },
   {
    "duration": 981,
    "start_time": "2024-07-31T03:13:14.340Z"
   },
   {
    "duration": 0,
    "start_time": "2024-07-31T03:13:15.326Z"
   },
   {
    "duration": 0,
    "start_time": "2024-07-31T03:13:15.328Z"
   },
   {
    "duration": 0,
    "start_time": "2024-07-31T03:13:15.330Z"
   },
   {
    "duration": 0,
    "start_time": "2024-07-31T03:13:15.332Z"
   },
   {
    "duration": 0,
    "start_time": "2024-07-31T03:13:15.334Z"
   },
   {
    "duration": 0,
    "start_time": "2024-07-31T03:13:15.335Z"
   },
   {
    "duration": 87,
    "start_time": "2024-07-31T03:14:15.076Z"
   },
   {
    "duration": 7,
    "start_time": "2024-07-31T03:14:51.381Z"
   },
   {
    "duration": 82,
    "start_time": "2024-07-31T03:15:08.075Z"
   },
   {
    "duration": 6,
    "start_time": "2024-07-31T03:17:05.872Z"
   },
   {
    "duration": 80,
    "start_time": "2024-07-31T03:17:08.829Z"
   },
   {
    "duration": 5,
    "start_time": "2024-07-31T03:22:14.831Z"
   },
   {
    "duration": 89,
    "start_time": "2024-07-31T03:22:17.536Z"
   },
   {
    "duration": 32,
    "start_time": "2024-07-31T03:22:25.220Z"
   },
   {
    "duration": 305,
    "start_time": "2024-07-31T03:22:28.613Z"
   },
   {
    "duration": 284,
    "start_time": "2024-07-31T03:24:11.289Z"
   },
   {
    "duration": 296,
    "start_time": "2024-07-31T03:25:07.387Z"
   },
   {
    "duration": 261,
    "start_time": "2024-07-31T03:29:35.537Z"
   },
   {
    "duration": 7,
    "start_time": "2024-07-31T03:33:28.192Z"
   },
   {
    "duration": 229,
    "start_time": "2024-07-31T03:33:36.892Z"
   },
   {
    "duration": 270,
    "start_time": "2024-07-31T03:33:54.982Z"
   },
   {
    "duration": 258,
    "start_time": "2024-07-31T03:34:05.002Z"
   },
   {
    "duration": 273,
    "start_time": "2024-07-31T03:34:36.237Z"
   },
   {
    "duration": 371,
    "start_time": "2024-07-31T03:38:02.187Z"
   },
   {
    "duration": 312,
    "start_time": "2024-07-31T03:39:39.168Z"
   },
   {
    "duration": 1179,
    "start_time": "2024-07-31T03:47:17.099Z"
   },
   {
    "duration": 282,
    "start_time": "2024-07-31T03:47:18.282Z"
   },
   {
    "duration": 17,
    "start_time": "2024-07-31T03:47:18.567Z"
   },
   {
    "duration": 38,
    "start_time": "2024-07-31T03:47:18.588Z"
   },
   {
    "duration": 12,
    "start_time": "2024-07-31T03:47:18.631Z"
   },
   {
    "duration": 16,
    "start_time": "2024-07-31T03:47:18.646Z"
   },
   {
    "duration": 19,
    "start_time": "2024-07-31T03:47:18.665Z"
   },
   {
    "duration": 50,
    "start_time": "2024-07-31T03:47:18.687Z"
   },
   {
    "duration": 11,
    "start_time": "2024-07-31T03:47:18.741Z"
   },
   {
    "duration": 16,
    "start_time": "2024-07-31T03:47:18.755Z"
   },
   {
    "duration": 5,
    "start_time": "2024-07-31T03:47:18.774Z"
   },
   {
    "duration": 24,
    "start_time": "2024-07-31T03:47:18.827Z"
   },
   {
    "duration": 31,
    "start_time": "2024-07-31T03:47:18.854Z"
   },
   {
    "duration": 100,
    "start_time": "2024-07-31T03:47:18.892Z"
   },
   {
    "duration": 56,
    "start_time": "2024-07-31T03:47:18.996Z"
   },
   {
    "duration": 6,
    "start_time": "2024-07-31T03:47:19.055Z"
   },
   {
    "duration": 61,
    "start_time": "2024-07-31T03:47:19.065Z"
   },
   {
    "duration": 11,
    "start_time": "2024-07-31T03:47:19.129Z"
   },
   {
    "duration": 38,
    "start_time": "2024-07-31T03:47:19.144Z"
   },
   {
    "duration": 58,
    "start_time": "2024-07-31T03:47:19.185Z"
   },
   {
    "duration": 5,
    "start_time": "2024-07-31T03:47:19.246Z"
   },
   {
    "duration": 71,
    "start_time": "2024-07-31T03:47:19.254Z"
   },
   {
    "duration": 12,
    "start_time": "2024-07-31T03:47:19.328Z"
   },
   {
    "duration": 100,
    "start_time": "2024-07-31T03:47:19.343Z"
   },
   {
    "duration": 30,
    "start_time": "2024-07-31T03:47:19.446Z"
   },
   {
    "duration": 5,
    "start_time": "2024-07-31T03:47:19.479Z"
   },
   {
    "duration": 39,
    "start_time": "2024-07-31T03:47:19.487Z"
   },
   {
    "duration": 12,
    "start_time": "2024-07-31T03:47:19.529Z"
   },
   {
    "duration": 4,
    "start_time": "2024-07-31T03:47:19.545Z"
   },
   {
    "duration": 165,
    "start_time": "2024-07-31T03:47:19.552Z"
   },
   {
    "duration": 32,
    "start_time": "2024-07-31T03:47:19.727Z"
   },
   {
    "duration": 29,
    "start_time": "2024-07-31T03:47:19.762Z"
   },
   {
    "duration": 52,
    "start_time": "2024-07-31T03:47:19.794Z"
   },
   {
    "duration": 39,
    "start_time": "2024-07-31T03:47:19.849Z"
   },
   {
    "duration": 30,
    "start_time": "2024-07-31T03:47:19.898Z"
   },
   {
    "duration": 32,
    "start_time": "2024-07-31T03:47:19.931Z"
   },
   {
    "duration": 5,
    "start_time": "2024-07-31T03:47:19.966Z"
   },
   {
    "duration": 4,
    "start_time": "2024-07-31T03:47:19.973Z"
   },
   {
    "duration": 104,
    "start_time": "2024-07-31T03:47:19.980Z"
   },
   {
    "duration": 565,
    "start_time": "2024-07-31T03:47:20.087Z"
   },
   {
    "duration": 3,
    "start_time": "2024-07-31T03:47:20.661Z"
   },
   {
    "duration": 303,
    "start_time": "2024-07-31T03:47:20.668Z"
   },
   {
    "duration": 6,
    "start_time": "2024-07-31T03:47:20.974Z"
   },
   {
    "duration": 153,
    "start_time": "2024-07-31T03:47:20.984Z"
   },
   {
    "duration": 69,
    "start_time": "2024-07-31T03:47:21.140Z"
   },
   {
    "duration": 329,
    "start_time": "2024-07-31T03:47:21.228Z"
   },
   {
    "duration": 8,
    "start_time": "2024-07-31T03:47:21.559Z"
   },
   {
    "duration": 174,
    "start_time": "2024-07-31T03:47:21.570Z"
   },
   {
    "duration": 83,
    "start_time": "2024-07-31T03:47:21.747Z"
   },
   {
    "duration": 277,
    "start_time": "2024-07-31T03:47:21.833Z"
   },
   {
    "duration": 6,
    "start_time": "2024-07-31T03:47:22.125Z"
   },
   {
    "duration": 143,
    "start_time": "2024-07-31T03:47:22.135Z"
   },
   {
    "duration": 7,
    "start_time": "2024-07-31T03:47:22.282Z"
   },
   {
    "duration": 104,
    "start_time": "2024-07-31T03:47:22.293Z"
   },
   {
    "duration": 41,
    "start_time": "2024-07-31T03:47:22.400Z"
   },
   {
    "duration": 275,
    "start_time": "2024-07-31T03:47:22.444Z"
   },
   {
    "duration": 284,
    "start_time": "2024-07-31T03:47:22.727Z"
   },
   {
    "duration": 17,
    "start_time": "2024-07-31T03:47:23.014Z"
   },
   {
    "duration": 6,
    "start_time": "2024-07-31T03:47:23.036Z"
   },
   {
    "duration": 0,
    "start_time": "2024-07-31T03:47:23.045Z"
   },
   {
    "duration": 8,
    "start_time": "2024-07-31T03:50:54.155Z"
   },
   {
    "duration": 9,
    "start_time": "2024-07-31T03:57:54.612Z"
   },
   {
    "duration": 7,
    "start_time": "2024-07-31T03:58:08.606Z"
   },
   {
    "duration": 7,
    "start_time": "2024-07-31T03:58:26.252Z"
   },
   {
    "duration": 264,
    "start_time": "2024-07-31T03:58:38.710Z"
   },
   {
    "duration": 1176,
    "start_time": "2024-07-31T03:59:29.543Z"
   },
   {
    "duration": 269,
    "start_time": "2024-07-31T03:59:30.726Z"
   },
   {
    "duration": 35,
    "start_time": "2024-07-31T03:59:30.998Z"
   },
   {
    "duration": 17,
    "start_time": "2024-07-31T03:59:31.038Z"
   },
   {
    "duration": 11,
    "start_time": "2024-07-31T03:59:31.058Z"
   },
   {
    "duration": 13,
    "start_time": "2024-07-31T03:59:31.073Z"
   },
   {
    "duration": 51,
    "start_time": "2024-07-31T03:59:31.089Z"
   },
   {
    "duration": 13,
    "start_time": "2024-07-31T03:59:31.143Z"
   },
   {
    "duration": 11,
    "start_time": "2024-07-31T03:59:31.159Z"
   },
   {
    "duration": 55,
    "start_time": "2024-07-31T03:59:31.176Z"
   },
   {
    "duration": 5,
    "start_time": "2024-07-31T03:59:31.234Z"
   },
   {
    "duration": 25,
    "start_time": "2024-07-31T03:59:31.242Z"
   },
   {
    "duration": 68,
    "start_time": "2024-07-31T03:59:31.270Z"
   },
   {
    "duration": 70,
    "start_time": "2024-07-31T03:59:31.341Z"
   },
   {
    "duration": 49,
    "start_time": "2024-07-31T03:59:31.426Z"
   },
   {
    "duration": 7,
    "start_time": "2024-07-31T03:59:31.478Z"
   },
   {
    "duration": 55,
    "start_time": "2024-07-31T03:59:31.487Z"
   },
   {
    "duration": 16,
    "start_time": "2024-07-31T03:59:31.546Z"
   },
   {
    "duration": 67,
    "start_time": "2024-07-31T03:59:31.565Z"
   },
   {
    "duration": 24,
    "start_time": "2024-07-31T03:59:31.635Z"
   },
   {
    "duration": 6,
    "start_time": "2024-07-31T03:59:31.662Z"
   },
   {
    "duration": 74,
    "start_time": "2024-07-31T03:59:31.671Z"
   },
   {
    "duration": 12,
    "start_time": "2024-07-31T03:59:31.747Z"
   },
   {
    "duration": 104,
    "start_time": "2024-07-31T03:59:31.762Z"
   },
   {
    "duration": 30,
    "start_time": "2024-07-31T03:59:31.869Z"
   },
   {
    "duration": 4,
    "start_time": "2024-07-31T03:59:31.902Z"
   },
   {
    "duration": 12,
    "start_time": "2024-07-31T03:59:31.926Z"
   },
   {
    "duration": 13,
    "start_time": "2024-07-31T03:59:31.947Z"
   },
   {
    "duration": 7,
    "start_time": "2024-07-31T03:59:31.963Z"
   },
   {
    "duration": 165,
    "start_time": "2024-07-31T03:59:31.972Z"
   },
   {
    "duration": 31,
    "start_time": "2024-07-31T03:59:32.140Z"
   },
   {
    "duration": 53,
    "start_time": "2024-07-31T03:59:32.174Z"
   },
   {
    "duration": 20,
    "start_time": "2024-07-31T03:59:32.230Z"
   },
   {
    "duration": 33,
    "start_time": "2024-07-31T03:59:32.253Z"
   },
   {
    "duration": 45,
    "start_time": "2024-07-31T03:59:32.288Z"
   },
   {
    "duration": 30,
    "start_time": "2024-07-31T03:59:32.335Z"
   },
   {
    "duration": 5,
    "start_time": "2024-07-31T03:59:32.368Z"
   },
   {
    "duration": 4,
    "start_time": "2024-07-31T03:59:32.376Z"
   },
   {
    "duration": 102,
    "start_time": "2024-07-31T03:59:32.383Z"
   },
   {
    "duration": 563,
    "start_time": "2024-07-31T03:59:32.488Z"
   },
   {
    "duration": 5,
    "start_time": "2024-07-31T03:59:33.053Z"
   },
   {
    "duration": 299,
    "start_time": "2024-07-31T03:59:33.061Z"
   },
   {
    "duration": 6,
    "start_time": "2024-07-31T03:59:33.364Z"
   },
   {
    "duration": 155,
    "start_time": "2024-07-31T03:59:33.373Z"
   },
   {
    "duration": 63,
    "start_time": "2024-07-31T03:59:33.531Z"
   },
   {
    "duration": 339,
    "start_time": "2024-07-31T03:59:33.597Z"
   },
   {
    "duration": 9,
    "start_time": "2024-07-31T03:59:33.939Z"
   },
   {
    "duration": 159,
    "start_time": "2024-07-31T03:59:33.951Z"
   },
   {
    "duration": 79,
    "start_time": "2024-07-31T03:59:34.113Z"
   },
   {
    "duration": 285,
    "start_time": "2024-07-31T03:59:34.195Z"
   },
   {
    "duration": 7,
    "start_time": "2024-07-31T03:59:34.483Z"
   },
   {
    "duration": 153,
    "start_time": "2024-07-31T03:59:34.493Z"
   },
   {
    "duration": 5,
    "start_time": "2024-07-31T03:59:34.649Z"
   },
   {
    "duration": 112,
    "start_time": "2024-07-31T03:59:34.657Z"
   },
   {
    "duration": 28,
    "start_time": "2024-07-31T03:59:34.772Z"
   },
   {
    "duration": 278,
    "start_time": "2024-07-31T03:59:34.802Z"
   },
   {
    "duration": 293,
    "start_time": "2024-07-31T03:59:35.083Z"
   },
   {
    "duration": 10,
    "start_time": "2024-07-31T03:59:35.379Z"
   },
   {
    "duration": 33,
    "start_time": "2024-07-31T03:59:35.393Z"
   },
   {
    "duration": 0,
    "start_time": "2024-07-31T03:59:35.428Z"
   },
   {
    "duration": 12,
    "start_time": "2024-07-31T04:02:47.750Z"
   },
   {
    "duration": 5,
    "start_time": "2024-07-31T04:11:48.958Z"
   },
   {
    "duration": 955,
    "start_time": "2024-07-31T04:11:53.213Z"
   },
   {
    "duration": 6,
    "start_time": "2024-07-31T04:13:02.946Z"
   },
   {
    "duration": 84,
    "start_time": "2024-07-31T04:13:29.966Z"
   },
   {
    "duration": 6,
    "start_time": "2024-07-31T04:14:16.992Z"
   },
   {
    "duration": 85,
    "start_time": "2024-07-31T04:14:19.438Z"
   },
   {
    "duration": 26,
    "start_time": "2024-07-31T04:14:28.190Z"
   },
   {
    "duration": 271,
    "start_time": "2024-07-31T04:14:29.655Z"
   },
   {
    "duration": 277,
    "start_time": "2024-07-31T04:14:40.203Z"
   },
   {
    "duration": 12,
    "start_time": "2024-07-31T04:14:47.206Z"
   },
   {
    "duration": 5,
    "start_time": "2024-07-31T04:23:23.495Z"
   },
   {
    "duration": 336,
    "start_time": "2024-07-31T04:23:41.650Z"
   },
   {
    "duration": 7,
    "start_time": "2024-07-31T04:24:27.266Z"
   },
   {
    "duration": 42,
    "start_time": "2024-07-31T04:26:20.664Z"
   },
   {
    "duration": 17,
    "start_time": "2024-07-31T04:26:26.755Z"
   },
   {
    "duration": 1164,
    "start_time": "2024-07-31T04:26:41.365Z"
   },
   {
    "duration": 30,
    "start_time": "2024-07-31T04:27:05.374Z"
   },
   {
    "duration": 12,
    "start_time": "2024-07-31T04:28:46.946Z"
   },
   {
    "duration": 12,
    "start_time": "2024-07-31T04:32:48.296Z"
   },
   {
    "duration": 6,
    "start_time": "2024-07-31T04:33:14.703Z"
   },
   {
    "duration": 13,
    "start_time": "2024-07-31T04:34:13.548Z"
   },
   {
    "duration": 7,
    "start_time": "2024-07-31T04:36:19.123Z"
   },
   {
    "duration": 9,
    "start_time": "2024-07-31T04:43:26.446Z"
   },
   {
    "duration": 449,
    "start_time": "2024-07-31T04:47:21.539Z"
   },
   {
    "duration": 156,
    "start_time": "2024-07-31T04:49:10.773Z"
   },
   {
    "duration": 65,
    "start_time": "2024-07-31T04:49:55.212Z"
   },
   {
    "duration": 62,
    "start_time": "2024-07-31T04:50:36.899Z"
   },
   {
    "duration": 516,
    "start_time": "2024-07-31T04:52:40.699Z"
   },
   {
    "duration": 5,
    "start_time": "2024-07-31T04:53:08.864Z"
   },
   {
    "duration": 206,
    "start_time": "2024-07-31T04:53:38.306Z"
   },
   {
    "duration": 6,
    "start_time": "2024-07-31T05:03:26.708Z"
   },
   {
    "duration": 11,
    "start_time": "2024-07-31T05:05:50.730Z"
   },
   {
    "duration": 197,
    "start_time": "2024-07-31T05:08:38.886Z"
   },
   {
    "duration": 11,
    "start_time": "2024-07-31T05:09:03.201Z"
   },
   {
    "duration": 6,
    "start_time": "2024-07-31T05:09:58.708Z"
   },
   {
    "duration": 7,
    "start_time": "2024-07-31T05:16:36.240Z"
   },
   {
    "duration": 28,
    "start_time": "2024-07-31T05:16:44.370Z"
   },
   {
    "duration": 10,
    "start_time": "2024-07-31T05:17:10.344Z"
   },
   {
    "duration": 8,
    "start_time": "2024-07-31T05:18:18.196Z"
   },
   {
    "duration": 749,
    "start_time": "2024-07-31T05:18:32.320Z"
   },
   {
    "duration": 85,
    "start_time": "2024-07-31T05:19:40.520Z"
   },
   {
    "duration": 6,
    "start_time": "2024-07-31T05:21:51.898Z"
   },
   {
    "duration": 9,
    "start_time": "2024-07-31T05:23:21.757Z"
   },
   {
    "duration": 6,
    "start_time": "2024-07-31T05:23:26.591Z"
   },
   {
    "duration": 13,
    "start_time": "2024-07-31T05:24:54.004Z"
   },
   {
    "duration": 14,
    "start_time": "2024-07-31T05:25:36.415Z"
   },
   {
    "duration": 6,
    "start_time": "2024-07-31T05:25:40.220Z"
   },
   {
    "duration": 12,
    "start_time": "2024-07-31T05:30:15.792Z"
   },
   {
    "duration": 1169,
    "start_time": "2024-07-31T05:30:23.430Z"
   },
   {
    "duration": 271,
    "start_time": "2024-07-31T05:30:24.604Z"
   },
   {
    "duration": 16,
    "start_time": "2024-07-31T05:30:24.878Z"
   },
   {
    "duration": 36,
    "start_time": "2024-07-31T05:30:24.898Z"
   },
   {
    "duration": 11,
    "start_time": "2024-07-31T05:30:24.939Z"
   },
   {
    "duration": 15,
    "start_time": "2024-07-31T05:30:24.953Z"
   },
   {
    "duration": 56,
    "start_time": "2024-07-31T05:30:24.971Z"
   },
   {
    "duration": 13,
    "start_time": "2024-07-31T05:30:25.030Z"
   },
   {
    "duration": 11,
    "start_time": "2024-07-31T05:30:25.048Z"
   },
   {
    "duration": 16,
    "start_time": "2024-07-31T05:30:25.062Z"
   },
   {
    "duration": 45,
    "start_time": "2024-07-31T05:30:25.081Z"
   },
   {
    "duration": 25,
    "start_time": "2024-07-31T05:30:25.129Z"
   },
   {
    "duration": 35,
    "start_time": "2024-07-31T05:30:25.157Z"
   },
   {
    "duration": 82,
    "start_time": "2024-07-31T05:30:25.231Z"
   },
   {
    "duration": 41,
    "start_time": "2024-07-31T05:30:25.327Z"
   },
   {
    "duration": 5,
    "start_time": "2024-07-31T05:30:25.371Z"
   },
   {
    "duration": 63,
    "start_time": "2024-07-31T05:30:25.379Z"
   },
   {
    "duration": 10,
    "start_time": "2024-07-31T05:30:25.446Z"
   },
   {
    "duration": 66,
    "start_time": "2024-07-31T05:30:25.460Z"
   },
   {
    "duration": 25,
    "start_time": "2024-07-31T05:30:25.528Z"
   },
   {
    "duration": 7,
    "start_time": "2024-07-31T05:30:25.556Z"
   },
   {
    "duration": 77,
    "start_time": "2024-07-31T05:30:25.567Z"
   },
   {
    "duration": 12,
    "start_time": "2024-07-31T05:30:25.647Z"
   },
   {
    "duration": 104,
    "start_time": "2024-07-31T05:30:25.662Z"
   },
   {
    "duration": 32,
    "start_time": "2024-07-31T05:30:25.769Z"
   },
   {
    "duration": 23,
    "start_time": "2024-07-31T05:30:25.804Z"
   },
   {
    "duration": 15,
    "start_time": "2024-07-31T05:30:25.830Z"
   },
   {
    "duration": 13,
    "start_time": "2024-07-31T05:30:25.848Z"
   },
   {
    "duration": 4,
    "start_time": "2024-07-31T05:30:25.863Z"
   },
   {
    "duration": 174,
    "start_time": "2024-07-31T05:30:25.870Z"
   },
   {
    "duration": 32,
    "start_time": "2024-07-31T05:30:26.047Z"
   },
   {
    "duration": 48,
    "start_time": "2024-07-31T05:30:26.082Z"
   },
   {
    "duration": 21,
    "start_time": "2024-07-31T05:30:26.133Z"
   },
   {
    "duration": 35,
    "start_time": "2024-07-31T05:30:26.156Z"
   },
   {
    "duration": 43,
    "start_time": "2024-07-31T05:30:26.194Z"
   },
   {
    "duration": 29,
    "start_time": "2024-07-31T05:30:26.240Z"
   },
   {
    "duration": 4,
    "start_time": "2024-07-31T05:30:26.272Z"
   },
   {
    "duration": 4,
    "start_time": "2024-07-31T05:30:26.279Z"
   },
   {
    "duration": 61,
    "start_time": "2024-07-31T05:30:26.326Z"
   },
   {
    "duration": 559,
    "start_time": "2024-07-31T05:30:26.390Z"
   },
   {
    "duration": 4,
    "start_time": "2024-07-31T05:30:26.958Z"
   },
   {
    "duration": 299,
    "start_time": "2024-07-31T05:30:26.965Z"
   },
   {
    "duration": 6,
    "start_time": "2024-07-31T05:30:27.267Z"
   },
   {
    "duration": 154,
    "start_time": "2024-07-31T05:30:27.277Z"
   },
   {
    "duration": 64,
    "start_time": "2024-07-31T05:30:27.434Z"
   },
   {
    "duration": 356,
    "start_time": "2024-07-31T05:30:27.502Z"
   },
   {
    "duration": 6,
    "start_time": "2024-07-31T05:30:27.874Z"
   },
   {
    "duration": 166,
    "start_time": "2024-07-31T05:30:27.884Z"
   },
   {
    "duration": 84,
    "start_time": "2024-07-31T05:30:28.053Z"
   },
   {
    "duration": 289,
    "start_time": "2024-07-31T05:30:28.141Z"
   },
   {
    "duration": 6,
    "start_time": "2024-07-31T05:30:28.433Z"
   },
   {
    "duration": 159,
    "start_time": "2024-07-31T05:30:28.443Z"
   },
   {
    "duration": 5,
    "start_time": "2024-07-31T05:30:28.605Z"
   },
   {
    "duration": 99,
    "start_time": "2024-07-31T05:30:28.626Z"
   },
   {
    "duration": 27,
    "start_time": "2024-07-31T05:30:28.729Z"
   },
   {
    "duration": 275,
    "start_time": "2024-07-31T05:30:28.758Z"
   },
   {
    "duration": 290,
    "start_time": "2024-07-31T05:30:29.036Z"
   },
   {
    "duration": 12,
    "start_time": "2024-07-31T05:30:29.329Z"
   },
   {
    "duration": 17,
    "start_time": "2024-07-31T05:30:29.343Z"
   },
   {
    "duration": 7,
    "start_time": "2024-07-31T05:30:29.362Z"
   },
   {
    "duration": 8,
    "start_time": "2024-07-31T05:30:29.372Z"
   },
   {
    "duration": 11,
    "start_time": "2024-07-31T05:30:29.426Z"
   },
   {
    "duration": 16,
    "start_time": "2024-07-31T05:30:29.440Z"
   },
   {
    "duration": 7,
    "start_time": "2024-07-31T05:30:29.459Z"
   },
   {
    "duration": 4748,
    "start_time": "2024-08-04T14:20:34.483Z"
   },
   {
    "duration": 384,
    "start_time": "2024-08-04T14:20:39.236Z"
   },
   {
    "duration": 19,
    "start_time": "2024-08-04T14:20:39.623Z"
   },
   {
    "duration": 18,
    "start_time": "2024-08-04T14:20:39.646Z"
   },
   {
    "duration": 13,
    "start_time": "2024-08-04T14:20:39.694Z"
   },
   {
    "duration": 17,
    "start_time": "2024-08-04T14:20:39.710Z"
   },
   {
    "duration": 62,
    "start_time": "2024-08-04T14:20:39.730Z"
   },
   {
    "duration": 13,
    "start_time": "2024-08-04T14:20:39.796Z"
   },
   {
    "duration": 13,
    "start_time": "2024-08-04T14:20:39.812Z"
   },
   {
    "duration": 18,
    "start_time": "2024-08-04T14:20:39.828Z"
   },
   {
    "duration": 5,
    "start_time": "2024-08-04T14:20:39.890Z"
   },
   {
    "duration": 25,
    "start_time": "2024-08-04T14:20:39.900Z"
   },
   {
    "duration": 72,
    "start_time": "2024-08-04T14:20:39.929Z"
   },
   {
    "duration": 95,
    "start_time": "2024-08-04T14:20:40.008Z"
   },
   {
    "duration": 44,
    "start_time": "2024-08-04T14:20:40.107Z"
   },
   {
    "duration": 5,
    "start_time": "2024-08-04T14:20:40.155Z"
   },
   {
    "duration": 34,
    "start_time": "2024-08-04T14:20:40.191Z"
   },
   {
    "duration": 11,
    "start_time": "2024-08-04T14:20:40.228Z"
   },
   {
    "duration": 73,
    "start_time": "2024-08-04T14:20:40.243Z"
   },
   {
    "duration": 26,
    "start_time": "2024-08-04T14:20:40.319Z"
   },
   {
    "duration": 5,
    "start_time": "2024-08-04T14:20:40.348Z"
   },
   {
    "duration": 47,
    "start_time": "2024-08-04T14:20:40.392Z"
   },
   {
    "duration": 14,
    "start_time": "2024-08-04T14:20:40.443Z"
   },
   {
    "duration": 100,
    "start_time": "2024-08-04T14:20:40.492Z"
   },
   {
    "duration": 42,
    "start_time": "2024-08-04T14:20:40.596Z"
   },
   {
    "duration": 6,
    "start_time": "2024-08-04T14:20:40.643Z"
   },
   {
    "duration": 39,
    "start_time": "2024-08-04T14:20:40.652Z"
   },
   {
    "duration": 13,
    "start_time": "2024-08-04T14:20:40.695Z"
   },
   {
    "duration": 4,
    "start_time": "2024-08-04T14:20:40.711Z"
   },
   {
    "duration": 172,
    "start_time": "2024-08-04T14:20:40.720Z"
   },
   {
    "duration": 37,
    "start_time": "2024-08-04T14:20:40.895Z"
   },
   {
    "duration": 60,
    "start_time": "2024-08-04T14:20:40.935Z"
   },
   {
    "duration": 22,
    "start_time": "2024-08-04T14:20:40.999Z"
   },
   {
    "duration": 67,
    "start_time": "2024-08-04T14:20:41.025Z"
   },
   {
    "duration": 18,
    "start_time": "2024-08-04T14:20:41.095Z"
   },
   {
    "duration": 33,
    "start_time": "2024-08-04T14:20:41.117Z"
   },
   {
    "duration": 39,
    "start_time": "2024-08-04T14:20:41.154Z"
   },
   {
    "duration": 3,
    "start_time": "2024-08-04T14:20:41.197Z"
   },
   {
    "duration": 92,
    "start_time": "2024-08-04T14:20:41.204Z"
   },
   {
    "duration": 596,
    "start_time": "2024-08-04T14:20:41.299Z"
   },
   {
    "duration": 4,
    "start_time": "2024-08-04T14:20:41.904Z"
   },
   {
    "duration": 322,
    "start_time": "2024-08-04T14:20:41.912Z"
   },
   {
    "duration": 14,
    "start_time": "2024-08-04T14:20:42.237Z"
   },
   {
    "duration": 154,
    "start_time": "2024-08-04T14:20:42.255Z"
   },
   {
    "duration": 82,
    "start_time": "2024-08-04T14:20:42.412Z"
   },
   {
    "duration": 294,
    "start_time": "2024-08-04T14:20:42.497Z"
   },
   {
    "duration": 7,
    "start_time": "2024-08-04T14:20:42.796Z"
   },
   {
    "duration": 184,
    "start_time": "2024-08-04T14:20:42.806Z"
   },
   {
    "duration": 74,
    "start_time": "2024-08-04T14:20:42.995Z"
   },
   {
    "duration": 322,
    "start_time": "2024-08-04T14:20:43.072Z"
   },
   {
    "duration": 7,
    "start_time": "2024-08-04T14:20:43.398Z"
   },
   {
    "duration": 160,
    "start_time": "2024-08-04T14:20:43.408Z"
   },
   {
    "duration": 6,
    "start_time": "2024-08-04T14:20:43.571Z"
   },
   {
    "duration": 103,
    "start_time": "2024-08-04T14:20:43.592Z"
   },
   {
    "duration": 29,
    "start_time": "2024-08-04T14:20:43.699Z"
   },
   {
    "duration": 364,
    "start_time": "2024-08-04T14:20:43.731Z"
   },
   {
    "duration": 315,
    "start_time": "2024-08-04T14:20:44.098Z"
   },
   {
    "duration": 14,
    "start_time": "2024-08-04T14:20:44.416Z"
   },
   {
    "duration": 18,
    "start_time": "2024-08-04T14:20:44.433Z"
   },
   {
    "duration": 40,
    "start_time": "2024-08-04T14:20:44.454Z"
   },
   {
    "duration": 8,
    "start_time": "2024-08-04T14:20:44.498Z"
   },
   {
    "duration": 12,
    "start_time": "2024-08-04T14:20:44.509Z"
   },
   {
    "duration": 15,
    "start_time": "2024-08-04T14:20:44.525Z"
   },
   {
    "duration": 7,
    "start_time": "2024-08-04T14:20:44.592Z"
   }
  ],
  "colab": {
   "provenance": []
  },
  "kernelspec": {
   "display_name": "base",
   "language": "python",
   "name": "python3"
  },
  "language_info": {
   "codemirror_mode": {
    "name": "ipython",
    "version": 3
   },
   "file_extension": ".py",
   "mimetype": "text/x-python",
   "name": "python",
   "nbconvert_exporter": "python",
   "pygments_lexer": "ipython3",
   "version": "3.12.4"
  },
  "toc": {
   "base_numbering": 1,
   "nav_menu": {},
   "number_sections": true,
   "sideBar": true,
   "skip_h1_title": false,
   "title_cell": "Table of Contents",
   "title_sidebar": "Contents",
   "toc_cell": false,
   "toc_position": {},
   "toc_section_display": true,
   "toc_window_display": true
  }
 },
 "nbformat": 4,
 "nbformat_minor": 1
}
