{
 "cells": [
  {
   "cell_type": "markdown",
   "metadata": {},
   "source": [
    "# Importar librerias"
   ]
  },
  {
   "cell_type": "code",
   "execution_count": 2,
   "metadata": {},
   "outputs": [],
   "source": [
    "import pandas as pd\n",
    "import seaborn as sns\n",
    "import matplotlib.pyplot as plt\n",
    "import numpy as np\n",
    "from scipy import stats as st\n",
    "import math"
   ]
  },
  {
   "cell_type": "markdown",
   "metadata": {},
   "source": [
    "## Lectura de archivo "
   ]
  },
  {
   "cell_type": "code",
   "execution_count": 3,
   "metadata": {},
   "outputs": [],
   "source": [
    "data = pd.read_csv('./datasets/logs_exp.csv', sep='\\t')"
   ]
  },
  {
   "cell_type": "markdown",
   "metadata": {},
   "source": [
    "## Preparación de datos"
   ]
  },
  {
   "cell_type": "code",
   "execution_count": 4,
   "metadata": {},
   "outputs": [
    {
     "name": "stdout",
     "output_type": "stream",
     "text": [
      "<class 'pandas.core.frame.DataFrame'>\n",
      "RangeIndex: 244126 entries, 0 to 244125\n",
      "Data columns (total 4 columns):\n",
      " #   Column          Non-Null Count   Dtype \n",
      "---  ------          --------------   ----- \n",
      " 0   EventName       244126 non-null  object\n",
      " 1   DeviceIDHash    244126 non-null  int64 \n",
      " 2   EventTimestamp  244126 non-null  int64 \n",
      " 3   ExpId           244126 non-null  int64 \n",
      "dtypes: int64(3), object(1)\n",
      "memory usage: 7.5+ MB\n"
     ]
    }
   ],
   "source": [
    "data.info()"
   ]
  },
  {
   "cell_type": "code",
   "execution_count": 5,
   "metadata": {},
   "outputs": [
    {
     "data": {
      "text/html": [
       "<div>\n",
       "<style scoped>\n",
       "    .dataframe tbody tr th:only-of-type {\n",
       "        vertical-align: middle;\n",
       "    }\n",
       "\n",
       "    .dataframe tbody tr th {\n",
       "        vertical-align: top;\n",
       "    }\n",
       "\n",
       "    .dataframe thead th {\n",
       "        text-align: right;\n",
       "    }\n",
       "</style>\n",
       "<table border=\"1\" class=\"dataframe\">\n",
       "  <thead>\n",
       "    <tr style=\"text-align: right;\">\n",
       "      <th></th>\n",
       "      <th>EventName</th>\n",
       "      <th>DeviceIDHash</th>\n",
       "      <th>EventTimestamp</th>\n",
       "      <th>ExpId</th>\n",
       "    </tr>\n",
       "  </thead>\n",
       "  <tbody>\n",
       "    <tr>\n",
       "      <th>0</th>\n",
       "      <td>MainScreenAppear</td>\n",
       "      <td>4575588528974610257</td>\n",
       "      <td>1564029816</td>\n",
       "      <td>246</td>\n",
       "    </tr>\n",
       "    <tr>\n",
       "      <th>1</th>\n",
       "      <td>MainScreenAppear</td>\n",
       "      <td>7416695313311560658</td>\n",
       "      <td>1564053102</td>\n",
       "      <td>246</td>\n",
       "    </tr>\n",
       "    <tr>\n",
       "      <th>2</th>\n",
       "      <td>PaymentScreenSuccessful</td>\n",
       "      <td>3518123091307005509</td>\n",
       "      <td>1564054127</td>\n",
       "      <td>248</td>\n",
       "    </tr>\n",
       "    <tr>\n",
       "      <th>3</th>\n",
       "      <td>CartScreenAppear</td>\n",
       "      <td>3518123091307005509</td>\n",
       "      <td>1564054127</td>\n",
       "      <td>248</td>\n",
       "    </tr>\n",
       "    <tr>\n",
       "      <th>4</th>\n",
       "      <td>PaymentScreenSuccessful</td>\n",
       "      <td>6217807653094995999</td>\n",
       "      <td>1564055322</td>\n",
       "      <td>248</td>\n",
       "    </tr>\n",
       "  </tbody>\n",
       "</table>\n",
       "</div>"
      ],
      "text/plain": [
       "                 EventName         DeviceIDHash  EventTimestamp  ExpId\n",
       "0         MainScreenAppear  4575588528974610257      1564029816    246\n",
       "1         MainScreenAppear  7416695313311560658      1564053102    246\n",
       "2  PaymentScreenSuccessful  3518123091307005509      1564054127    248\n",
       "3         CartScreenAppear  3518123091307005509      1564054127    248\n",
       "4  PaymentScreenSuccessful  6217807653094995999      1564055322    248"
      ]
     },
     "execution_count": 5,
     "metadata": {},
     "output_type": "execute_result"
    }
   ],
   "source": [
    "data.head()"
   ]
  },
  {
   "cell_type": "code",
   "execution_count": 6,
   "metadata": {},
   "outputs": [
    {
     "data": {
      "text/plain": [
       "EventName         0\n",
       "DeviceIDHash      0\n",
       "EventTimestamp    0\n",
       "ExpId             0\n",
       "dtype: int64"
      ]
     },
     "execution_count": 6,
     "metadata": {},
     "output_type": "execute_result"
    }
   ],
   "source": [
    "data.isna().sum()"
   ]
  },
  {
   "cell_type": "code",
   "execution_count": 6,
   "metadata": {},
   "outputs": [
    {
     "data": {
      "text/plain": [
       "413"
      ]
     },
     "execution_count": 6,
     "metadata": {},
     "output_type": "execute_result"
    }
   ],
   "source": [
    "data.duplicated().sum()"
   ]
  },
  {
   "cell_type": "code",
   "execution_count": 7,
   "metadata": {},
   "outputs": [
    {
     "name": "stdout",
     "output_type": "stream",
     "text": [
      "Index(['eventname', 'deviceidhash', 'eventtimestamp', 'expid'], dtype='object')\n"
     ]
    }
   ],
   "source": [
    "data.columns = map(str.lower, data.columns)\n",
    "print(data.columns)"
   ]
  },
  {
   "cell_type": "code",
   "execution_count": 8,
   "metadata": {},
   "outputs": [],
   "source": [
    "data['eventtimestamp']  = pd.to_datetime(data['eventtimestamp'], unit = 's')"
   ]
  },
  {
   "cell_type": "code",
   "execution_count": 9,
   "metadata": {},
   "outputs": [
    {
     "data": {
      "text/html": [
       "<div>\n",
       "<style scoped>\n",
       "    .dataframe tbody tr th:only-of-type {\n",
       "        vertical-align: middle;\n",
       "    }\n",
       "\n",
       "    .dataframe tbody tr th {\n",
       "        vertical-align: top;\n",
       "    }\n",
       "\n",
       "    .dataframe thead th {\n",
       "        text-align: right;\n",
       "    }\n",
       "</style>\n",
       "<table border=\"1\" class=\"dataframe\">\n",
       "  <thead>\n",
       "    <tr style=\"text-align: right;\">\n",
       "      <th></th>\n",
       "      <th>eventname</th>\n",
       "      <th>deviceidhash</th>\n",
       "      <th>eventtimestamp</th>\n",
       "      <th>expid</th>\n",
       "    </tr>\n",
       "  </thead>\n",
       "  <tbody>\n",
       "    <tr>\n",
       "      <th>0</th>\n",
       "      <td>MainScreenAppear</td>\n",
       "      <td>4575588528974610257</td>\n",
       "      <td>2019-07-25 04:43:36</td>\n",
       "      <td>246</td>\n",
       "    </tr>\n",
       "    <tr>\n",
       "      <th>1</th>\n",
       "      <td>MainScreenAppear</td>\n",
       "      <td>7416695313311560658</td>\n",
       "      <td>2019-07-25 11:11:42</td>\n",
       "      <td>246</td>\n",
       "    </tr>\n",
       "    <tr>\n",
       "      <th>2</th>\n",
       "      <td>PaymentScreenSuccessful</td>\n",
       "      <td>3518123091307005509</td>\n",
       "      <td>2019-07-25 11:28:47</td>\n",
       "      <td>248</td>\n",
       "    </tr>\n",
       "    <tr>\n",
       "      <th>3</th>\n",
       "      <td>CartScreenAppear</td>\n",
       "      <td>3518123091307005509</td>\n",
       "      <td>2019-07-25 11:28:47</td>\n",
       "      <td>248</td>\n",
       "    </tr>\n",
       "    <tr>\n",
       "      <th>4</th>\n",
       "      <td>PaymentScreenSuccessful</td>\n",
       "      <td>6217807653094995999</td>\n",
       "      <td>2019-07-25 11:48:42</td>\n",
       "      <td>248</td>\n",
       "    </tr>\n",
       "  </tbody>\n",
       "</table>\n",
       "</div>"
      ],
      "text/plain": [
       "                 eventname         deviceidhash      eventtimestamp  expid\n",
       "0         MainScreenAppear  4575588528974610257 2019-07-25 04:43:36    246\n",
       "1         MainScreenAppear  7416695313311560658 2019-07-25 11:11:42    246\n",
       "2  PaymentScreenSuccessful  3518123091307005509 2019-07-25 11:28:47    248\n",
       "3         CartScreenAppear  3518123091307005509 2019-07-25 11:28:47    248\n",
       "4  PaymentScreenSuccessful  6217807653094995999 2019-07-25 11:48:42    248"
      ]
     },
     "execution_count": 9,
     "metadata": {},
     "output_type": "execute_result"
    }
   ],
   "source": [
    "data.head()"
   ]
  },
  {
   "cell_type": "code",
   "execution_count": 10,
   "metadata": {},
   "outputs": [],
   "source": [
    "data['fecha']= data['eventtimestamp'].astype('datetime64[Y]')"
   ]
  },
  {
   "cell_type": "code",
   "execution_count": 11,
   "metadata": {},
   "outputs": [
    {
     "data": {
      "text/html": [
       "<div>\n",
       "<style scoped>\n",
       "    .dataframe tbody tr th:only-of-type {\n",
       "        vertical-align: middle;\n",
       "    }\n",
       "\n",
       "    .dataframe tbody tr th {\n",
       "        vertical-align: top;\n",
       "    }\n",
       "\n",
       "    .dataframe thead th {\n",
       "        text-align: right;\n",
       "    }\n",
       "</style>\n",
       "<table border=\"1\" class=\"dataframe\">\n",
       "  <thead>\n",
       "    <tr style=\"text-align: right;\">\n",
       "      <th></th>\n",
       "      <th>eventname</th>\n",
       "      <th>deviceidhash</th>\n",
       "      <th>eventtimestamp</th>\n",
       "      <th>expid</th>\n",
       "      <th>fecha</th>\n",
       "    </tr>\n",
       "  </thead>\n",
       "  <tbody>\n",
       "    <tr>\n",
       "      <th>0</th>\n",
       "      <td>MainScreenAppear</td>\n",
       "      <td>4575588528974610257</td>\n",
       "      <td>2019-07-25 04:43:36</td>\n",
       "      <td>246</td>\n",
       "      <td>2019-01-01</td>\n",
       "    </tr>\n",
       "    <tr>\n",
       "      <th>1</th>\n",
       "      <td>MainScreenAppear</td>\n",
       "      <td>7416695313311560658</td>\n",
       "      <td>2019-07-25 11:11:42</td>\n",
       "      <td>246</td>\n",
       "      <td>2019-01-01</td>\n",
       "    </tr>\n",
       "    <tr>\n",
       "      <th>2</th>\n",
       "      <td>PaymentScreenSuccessful</td>\n",
       "      <td>3518123091307005509</td>\n",
       "      <td>2019-07-25 11:28:47</td>\n",
       "      <td>248</td>\n",
       "      <td>2019-01-01</td>\n",
       "    </tr>\n",
       "    <tr>\n",
       "      <th>3</th>\n",
       "      <td>CartScreenAppear</td>\n",
       "      <td>3518123091307005509</td>\n",
       "      <td>2019-07-25 11:28:47</td>\n",
       "      <td>248</td>\n",
       "      <td>2019-01-01</td>\n",
       "    </tr>\n",
       "    <tr>\n",
       "      <th>4</th>\n",
       "      <td>PaymentScreenSuccessful</td>\n",
       "      <td>6217807653094995999</td>\n",
       "      <td>2019-07-25 11:48:42</td>\n",
       "      <td>248</td>\n",
       "      <td>2019-01-01</td>\n",
       "    </tr>\n",
       "  </tbody>\n",
       "</table>\n",
       "</div>"
      ],
      "text/plain": [
       "                 eventname         deviceidhash      eventtimestamp  expid  \\\n",
       "0         MainScreenAppear  4575588528974610257 2019-07-25 04:43:36    246   \n",
       "1         MainScreenAppear  7416695313311560658 2019-07-25 11:11:42    246   \n",
       "2  PaymentScreenSuccessful  3518123091307005509 2019-07-25 11:28:47    248   \n",
       "3         CartScreenAppear  3518123091307005509 2019-07-25 11:28:47    248   \n",
       "4  PaymentScreenSuccessful  6217807653094995999 2019-07-25 11:48:42    248   \n",
       "\n",
       "       fecha  \n",
       "0 2019-01-01  \n",
       "1 2019-01-01  \n",
       "2 2019-01-01  \n",
       "3 2019-01-01  \n",
       "4 2019-01-01  "
      ]
     },
     "execution_count": 11,
     "metadata": {},
     "output_type": "execute_result"
    }
   ],
   "source": [
    "data.head()"
   ]
  },
  {
   "cell_type": "markdown",
   "metadata": {},
   "source": [
    "## Estudiar y comprovar datos"
   ]
  },
  {
   "cell_type": "markdown",
   "metadata": {},
   "source": [
    "### ¿Cuántos eventos hay en los registros?\n"
   ]
  },
  {
   "cell_type": "code",
   "execution_count": 12,
   "metadata": {},
   "outputs": [],
   "source": [
    "data_eventos = data['eventname'].agg('count')"
   ]
  },
  {
   "cell_type": "code",
   "execution_count": 13,
   "metadata": {},
   "outputs": [
    {
     "data": {
      "text/plain": [
       "244126"
      ]
     },
     "execution_count": 13,
     "metadata": {},
     "output_type": "execute_result"
    }
   ],
   "source": [
    "data_eventos"
   ]
  },
  {
   "cell_type": "markdown",
   "metadata": {},
   "source": [
    "### ¿Cuántos usuarios y usuarias hay en los registros?"
   ]
  },
  {
   "cell_type": "code",
   "execution_count": 14,
   "metadata": {},
   "outputs": [],
   "source": [
    "usuarios_registrados = data['deviceidhash'].agg(['count'])"
   ]
  },
  {
   "cell_type": "code",
   "execution_count": 15,
   "metadata": {},
   "outputs": [
    {
     "data": {
      "text/plain": [
       "count    244126\n",
       "Name: deviceidhash, dtype: int64"
      ]
     },
     "execution_count": 15,
     "metadata": {},
     "output_type": "execute_result"
    }
   ],
   "source": [
    "usuarios_registrados"
   ]
  },
  {
   "cell_type": "code",
   "execution_count": 16,
   "metadata": {},
   "outputs": [],
   "source": [
    "promedio_de_usuarios_por_evento = usuarios_registrados/ data_eventos"
   ]
  },
  {
   "cell_type": "code",
   "execution_count": 17,
   "metadata": {},
   "outputs": [
    {
     "data": {
      "text/plain": [
       "count    1.0\n",
       "Name: deviceidhash, dtype: float64"
      ]
     },
     "execution_count": 17,
     "metadata": {},
     "output_type": "execute_result"
    }
   ],
   "source": [
    "promedio_de_usuarios_por_evento"
   ]
  },
  {
   "cell_type": "markdown",
   "metadata": {},
   "source": [
    "### ¿Qué periodo de tiempo cubren los datos? Encuentra la fecha máxima y mínima. Traza un histograma por fecha y hora. ¿Puedes tener seguridad de que tienes datos igualmente completos para todo el periodo? Los eventos más antiguos podrían terminar en los registros de algunos usuarios o usuarias por razones técnicas y esto podría sesgar el panorama general. Encuentra el momento en el que los datos comienzan a estar completos e ignora la sección anterior. ¿Qué periodo representan realmente los datos?\n"
   ]
  },
  {
   "cell_type": "code",
   "execution_count": 18,
   "metadata": {},
   "outputs": [
    {
     "name": "stdout",
     "output_type": "stream",
     "text": [
      "fecha de inicio: 2019-07-25 04:43:36\n",
      "fecha de final: 2019-08-07 21:15:17\n"
     ]
    }
   ],
   "source": [
    "print('fecha de inicio:', data['eventtimestamp'].min())\n",
    "print('fecha de final:',  data['eventtimestamp'].max())"
   ]
  },
  {
   "cell_type": "code",
   "execution_count": 19,
   "metadata": {},
   "outputs": [
    {
     "data": {
      "image/png": "[encoded data removed]",
      "text/plain": [
       "<Figure size 1500x1000 with 1 Axes>"
      ]
     },
     "metadata": {},
     "output_type": "display_data"
    }
   ],
   "source": [
    "plt.subplots(figsize=(15,10))\n",
    "plt.hist(data['eventtimestamp'], )\n",
    "plt.show() "
   ]
  },
  {
   "cell_type": "code",
   "execution_count": 20,
   "metadata": {},
   "outputs": [
    {
     "name": "stdout",
     "output_type": "stream",
     "text": [
      "2019-07-28 02:08:04.124999936\n"
     ]
    }
   ],
   "source": [
    "Q1 = np.percentile(data['eventtimestamp'].apply(lambda x: x.timestamp()),25)\n",
    "Q3 = np.percentile(data['eventtimestamp'].apply(lambda x: x.timestamp()),75)\n",
    "rango= Q3-Q1\n",
    "limite_inf = Q1-1.5*rango \n",
    "limite_inf_datetime = pd.to_datetime(limite_inf, unit = 's')\n",
    "\n",
    "print(limite_inf_datetime)"
   ]
  },
  {
   "cell_type": "code",
   "execution_count": 21,
   "metadata": {},
   "outputs": [
    {
     "name": "stdout",
     "output_type": "stream",
     "text": [
      "               eventname         deviceidhash      eventtimestamp  expid  \\\n",
      "2828            Tutorial  3737462046622621720 2019-08-01 00:07:28    246   \n",
      "2829    MainScreenAppear  3737462046622621720 2019-08-01 00:08:00    246   \n",
      "2830    MainScreenAppear  3737462046622621720 2019-08-01 00:08:55    246   \n",
      "2831  OffersScreenAppear  3737462046622621720 2019-08-01 00:08:58    246   \n",
      "2832    MainScreenAppear  1433840883824088890 2019-08-01 00:08:59    247   \n",
      "\n",
      "          fecha  \n",
      "2828 2019-01-01  \n",
      "2829 2019-01-01  \n",
      "2830 2019-01-01  \n",
      "2831 2019-01-01  \n",
      "2832 2019-01-01  \n"
     ]
    }
   ],
   "source": [
    "datos_filtrados= data[(data['eventtimestamp']> '2019-08-01')]\n",
    "print(datos_filtrados.head())\n"
   ]
  },
  {
   "cell_type": "code",
   "execution_count": 22,
   "metadata": {},
   "outputs": [],
   "source": [
    "datos_filtrados = datos_filtrados.reset_index(drop=True)"
   ]
  },
  {
   "cell_type": "code",
   "execution_count": 23,
   "metadata": {},
   "outputs": [
    {
     "data": {
      "image/png": "[encoded data removed]",
      "text/plain": [
       "<Figure size 1500x1000 with 1 Axes>"
      ]
     },
     "metadata": {},
     "output_type": "display_data"
    }
   ],
   "source": [
    "plt.subplots(figsize=(15,10))\n",
    "plt.hist(datos_filtrados['eventtimestamp'])\n",
    "plt.show()"
   ]
  },
  {
   "cell_type": "markdown",
   "metadata": {},
   "source": [
    "### ¿Perdiste muchos eventos y usuarios al excluir los datos más antiguos?\n"
   ]
  },
  {
   "cell_type": "code",
   "execution_count": 24,
   "metadata": {},
   "outputs": [
    {
     "data": {
      "text/plain": [
       "241298"
      ]
     },
     "execution_count": 24,
     "metadata": {},
     "output_type": "execute_result"
    }
   ],
   "source": [
    "eventos_totales = datos_filtrados['eventname'].agg('count')\n",
    "eventos_totales "
   ]
  },
  {
   "cell_type": "code",
   "execution_count": 25,
   "metadata": {},
   "outputs": [
    {
     "name": "stdout",
     "output_type": "stream",
     "text": [
      "eventos en datos origunales 244126\n",
      "\n",
      "eventos en datos filtrados 241298\n"
     ]
    }
   ],
   "source": [
    "print('eventos en datos origunales', data_eventos)\n",
    "print()\n",
    "print('eventos en datos filtrados', eventos_totales)"
   ]
  },
  {
   "cell_type": "code",
   "execution_count": 26,
   "metadata": {},
   "outputs": [
    {
     "data": {
      "text/plain": [
       "98.84158180611652"
      ]
     },
     "execution_count": 26,
     "metadata": {},
     "output_type": "execute_result"
    }
   ],
   "source": [
    "porsentajes_evento = data_eventos/data_eventos*100\n",
    "proporcion_filtro_evento = eventos_totales/data_eventos*100\n",
    "proporcion_filtro_evento"
   ]
  },
  {
   "cell_type": "code",
   "execution_count": 27,
   "metadata": {},
   "outputs": [
    {
     "data": {
      "text/plain": [
       "241298"
      ]
     },
     "execution_count": 27,
     "metadata": {},
     "output_type": "execute_result"
    }
   ],
   "source": [
    "usuarios_totales = datos_filtrados['deviceidhash'].agg('count')\n",
    "usuarios_totales "
   ]
  },
  {
   "cell_type": "code",
   "execution_count": 28,
   "metadata": {},
   "outputs": [
    {
     "name": "stdout",
     "output_type": "stream",
     "text": [
      "usuarios en datos originales count    244126\n",
      "Name: deviceidhash, dtype: int64\n",
      "\n",
      "usuarios en datos filtrados 241298\n"
     ]
    }
   ],
   "source": [
    "print('usuarios en datos originales', usuarios_registrados)\n",
    "print()\n",
    "print('usuarios en datos filtrados', usuarios_totales)"
   ]
  },
  {
   "cell_type": "code",
   "execution_count": 29,
   "metadata": {},
   "outputs": [
    {
     "data": {
      "text/plain": [
       "count    98.841582\n",
       "Name: deviceidhash, dtype: float64"
      ]
     },
     "execution_count": 29,
     "metadata": {},
     "output_type": "execute_result"
    }
   ],
   "source": [
    "porsentajes_usuarios = usuarios_registrados/usuarios_registrados*100\n",
    "proporcion_filtro_usuarios = usuarios_totales/usuarios_registrados*100\n",
    "proporcion_filtro_usuarios"
   ]
  },
  {
   "cell_type": "markdown",
   "metadata": {},
   "source": [
    "###### En el total de eventos y total de usuarios se perdio al rededor de un 1.2%"
   ]
  },
  {
   "cell_type": "markdown",
   "metadata": {},
   "source": [
    "### Asegúrate de tener usuarios y usuarias de los tres grupos experimentales"
   ]
  },
  {
   "cell_type": "code",
   "execution_count": 30,
   "metadata": {},
   "outputs": [
    {
     "data": {
      "text/html": [
       "<div>\n",
       "<style scoped>\n",
       "    .dataframe tbody tr th:only-of-type {\n",
       "        vertical-align: middle;\n",
       "    }\n",
       "\n",
       "    .dataframe tbody tr th {\n",
       "        vertical-align: top;\n",
       "    }\n",
       "\n",
       "    .dataframe thead th {\n",
       "        text-align: right;\n",
       "    }\n",
       "</style>\n",
       "<table border=\"1\" class=\"dataframe\">\n",
       "  <thead>\n",
       "    <tr style=\"text-align: right;\">\n",
       "      <th></th>\n",
       "      <th>deviceidhash</th>\n",
       "    </tr>\n",
       "    <tr>\n",
       "      <th>expid</th>\n",
       "      <th></th>\n",
       "    </tr>\n",
       "  </thead>\n",
       "  <tbody>\n",
       "    <tr>\n",
       "      <th>246</th>\n",
       "      <td>79425</td>\n",
       "    </tr>\n",
       "    <tr>\n",
       "      <th>247</th>\n",
       "      <td>77147</td>\n",
       "    </tr>\n",
       "    <tr>\n",
       "      <th>248</th>\n",
       "      <td>84726</td>\n",
       "    </tr>\n",
       "  </tbody>\n",
       "</table>\n",
       "</div>"
      ],
      "text/plain": [
       "       deviceidhash\n",
       "expid              \n",
       "246           79425\n",
       "247           77147\n",
       "248           84726"
      ]
     },
     "execution_count": 30,
     "metadata": {},
     "output_type": "execute_result"
    }
   ],
   "source": [
    "datos_filtrados.groupby('expid').agg({'deviceidhash':'count'})"
   ]
  },
  {
   "cell_type": "markdown",
   "metadata": {},
   "source": [
    "## Estudiar el enbudo de eventos"
   ]
  },
  {
   "cell_type": "markdown",
   "metadata": {},
   "source": [
    "### Observa qué eventos hay en los registros y su frecuencia de suceso. Ordénalos por frecuencia.\n"
   ]
  },
  {
   "cell_type": "code",
   "execution_count": 31,
   "metadata": {},
   "outputs": [
    {
     "data": {
      "text/html": [
       "<div>\n",
       "<style scoped>\n",
       "    .dataframe tbody tr th:only-of-type {\n",
       "        vertical-align: middle;\n",
       "    }\n",
       "\n",
       "    .dataframe tbody tr th {\n",
       "        vertical-align: top;\n",
       "    }\n",
       "\n",
       "    .dataframe thead th {\n",
       "        text-align: right;\n",
       "    }\n",
       "</style>\n",
       "<table border=\"1\" class=\"dataframe\">\n",
       "  <thead>\n",
       "    <tr style=\"text-align: right;\">\n",
       "      <th></th>\n",
       "      <th>eventname</th>\n",
       "      <th>deviceidhash</th>\n",
       "      <th>eventtimestamp</th>\n",
       "      <th>expid</th>\n",
       "      <th>fecha</th>\n",
       "    </tr>\n",
       "  </thead>\n",
       "  <tbody>\n",
       "    <tr>\n",
       "      <th>0</th>\n",
       "      <td>Tutorial</td>\n",
       "      <td>3737462046622621720</td>\n",
       "      <td>2019-08-01 00:07:28</td>\n",
       "      <td>246</td>\n",
       "      <td>2019-01-01</td>\n",
       "    </tr>\n",
       "    <tr>\n",
       "      <th>1</th>\n",
       "      <td>MainScreenAppear</td>\n",
       "      <td>3737462046622621720</td>\n",
       "      <td>2019-08-01 00:08:00</td>\n",
       "      <td>246</td>\n",
       "      <td>2019-01-01</td>\n",
       "    </tr>\n",
       "    <tr>\n",
       "      <th>2</th>\n",
       "      <td>MainScreenAppear</td>\n",
       "      <td>3737462046622621720</td>\n",
       "      <td>2019-08-01 00:08:55</td>\n",
       "      <td>246</td>\n",
       "      <td>2019-01-01</td>\n",
       "    </tr>\n",
       "    <tr>\n",
       "      <th>3</th>\n",
       "      <td>OffersScreenAppear</td>\n",
       "      <td>3737462046622621720</td>\n",
       "      <td>2019-08-01 00:08:58</td>\n",
       "      <td>246</td>\n",
       "      <td>2019-01-01</td>\n",
       "    </tr>\n",
       "    <tr>\n",
       "      <th>4</th>\n",
       "      <td>MainScreenAppear</td>\n",
       "      <td>1433840883824088890</td>\n",
       "      <td>2019-08-01 00:08:59</td>\n",
       "      <td>247</td>\n",
       "      <td>2019-01-01</td>\n",
       "    </tr>\n",
       "  </tbody>\n",
       "</table>\n",
       "</div>"
      ],
      "text/plain": [
       "            eventname         deviceidhash      eventtimestamp  expid  \\\n",
       "0            Tutorial  3737462046622621720 2019-08-01 00:07:28    246   \n",
       "1    MainScreenAppear  3737462046622621720 2019-08-01 00:08:00    246   \n",
       "2    MainScreenAppear  3737462046622621720 2019-08-01 00:08:55    246   \n",
       "3  OffersScreenAppear  3737462046622621720 2019-08-01 00:08:58    246   \n",
       "4    MainScreenAppear  1433840883824088890 2019-08-01 00:08:59    247   \n",
       "\n",
       "       fecha  \n",
       "0 2019-01-01  \n",
       "1 2019-01-01  \n",
       "2 2019-01-01  \n",
       "3 2019-01-01  \n",
       "4 2019-01-01  "
      ]
     },
     "execution_count": 31,
     "metadata": {},
     "output_type": "execute_result"
    }
   ],
   "source": [
    "datos_filtrados.head()"
   ]
  },
  {
   "cell_type": "code",
   "execution_count": 32,
   "metadata": {},
   "outputs": [
    {
     "data": {
      "text/plain": [
       "array(['Tutorial', 'MainScreenAppear', 'OffersScreenAppear',\n",
       "       'CartScreenAppear', 'PaymentScreenSuccessful'], dtype=object)"
      ]
     },
     "execution_count": 32,
     "metadata": {},
     "output_type": "execute_result"
    }
   ],
   "source": [
    "datos_filtrados['eventname'].unique()"
   ]
  },
  {
   "cell_type": "code",
   "execution_count": 33,
   "metadata": {},
   "outputs": [],
   "source": [
    "frecuencia_de_evento = datos_filtrados['eventname'].value_counts() "
   ]
  },
  {
   "cell_type": "code",
   "execution_count": 34,
   "metadata": {},
   "outputs": [
    {
     "data": {
      "text/plain": [
       "MainScreenAppear           117431\n",
       "OffersScreenAppear          46350\n",
       "CartScreenAppear            42365\n",
       "PaymentScreenSuccessful     34113\n",
       "Tutorial                     1039\n",
       "Name: eventname, dtype: int64"
      ]
     },
     "execution_count": 34,
     "metadata": {},
     "output_type": "execute_result"
    }
   ],
   "source": [
    "frecuencia_de_evento"
   ]
  },
  {
   "cell_type": "markdown",
   "metadata": {},
   "source": [
    "### Encuentra la cantidad de usuarios y usuarias que realizaron cada una de estas acciones. Ordena los eventos por el número de usuarios y usuarias. Calcula la proporción de usuarios y usuarias que realizaron la acción al menos una vez.\n"
   ]
  },
  {
   "cell_type": "code",
   "execution_count": 35,
   "metadata": {},
   "outputs": [
    {
     "data": {
      "text/html": [
       "<div>\n",
       "<style scoped>\n",
       "    .dataframe tbody tr th:only-of-type {\n",
       "        vertical-align: middle;\n",
       "    }\n",
       "\n",
       "    .dataframe tbody tr th {\n",
       "        vertical-align: top;\n",
       "    }\n",
       "\n",
       "    .dataframe thead th {\n",
       "        text-align: right;\n",
       "    }\n",
       "</style>\n",
       "<table border=\"1\" class=\"dataframe\">\n",
       "  <thead>\n",
       "    <tr style=\"text-align: right;\">\n",
       "      <th></th>\n",
       "      <th>numero_acciones</th>\n",
       "      <th>numero_de_usuarios</th>\n",
       "    </tr>\n",
       "    <tr>\n",
       "      <th>eventname</th>\n",
       "      <th></th>\n",
       "      <th></th>\n",
       "    </tr>\n",
       "  </thead>\n",
       "  <tbody>\n",
       "    <tr>\n",
       "      <th>MainScreenAppear</th>\n",
       "      <td>117431</td>\n",
       "      <td>7419</td>\n",
       "    </tr>\n",
       "    <tr>\n",
       "      <th>OffersScreenAppear</th>\n",
       "      <td>46350</td>\n",
       "      <td>4593</td>\n",
       "    </tr>\n",
       "    <tr>\n",
       "      <th>CartScreenAppear</th>\n",
       "      <td>42365</td>\n",
       "      <td>3734</td>\n",
       "    </tr>\n",
       "    <tr>\n",
       "      <th>PaymentScreenSuccessful</th>\n",
       "      <td>34113</td>\n",
       "      <td>3539</td>\n",
       "    </tr>\n",
       "    <tr>\n",
       "      <th>Tutorial</th>\n",
       "      <td>1039</td>\n",
       "      <td>840</td>\n",
       "    </tr>\n",
       "  </tbody>\n",
       "</table>\n",
       "</div>"
      ],
      "text/plain": [
       "                         numero_acciones  numero_de_usuarios\n",
       "eventname                                                   \n",
       "MainScreenAppear                  117431                7419\n",
       "OffersScreenAppear                 46350                4593\n",
       "CartScreenAppear                   42365                3734\n",
       "PaymentScreenSuccessful            34113                3539\n",
       "Tutorial                            1039                 840"
      ]
     },
     "execution_count": 35,
     "metadata": {},
     "output_type": "execute_result"
    }
   ],
   "source": [
    "cantidad_de_usuarios= datos_filtrados.groupby('eventname').agg({'deviceidhash': ['count', 'nunique', ]})\n",
    "cantidad_de_usuarios.columns= ['numero_acciones', 'numero_de_usuarios']\n",
    "cantidad_de_usuarios.sort_values(ascending =False, by='numero_de_usuarios')"
   ]
  },
  {
   "cell_type": "code",
   "execution_count": 36,
   "metadata": {},
   "outputs": [
    {
     "data": {
      "text/html": [
       "<div>\n",
       "<style scoped>\n",
       "    .dataframe tbody tr th:only-of-type {\n",
       "        vertical-align: middle;\n",
       "    }\n",
       "\n",
       "    .dataframe tbody tr th {\n",
       "        vertical-align: top;\n",
       "    }\n",
       "\n",
       "    .dataframe thead th {\n",
       "        text-align: right;\n",
       "    }\n",
       "</style>\n",
       "<table border=\"1\" class=\"dataframe\">\n",
       "  <thead>\n",
       "    <tr style=\"text-align: right;\">\n",
       "      <th></th>\n",
       "      <th>numero_acciones</th>\n",
       "      <th>numero_de_usuarios</th>\n",
       "      <th>proporcion_de_usuarios</th>\n",
       "    </tr>\n",
       "    <tr>\n",
       "      <th>eventname</th>\n",
       "      <th></th>\n",
       "      <th></th>\n",
       "      <th></th>\n",
       "    </tr>\n",
       "  </thead>\n",
       "  <tbody>\n",
       "    <tr>\n",
       "      <th>MainScreenAppear</th>\n",
       "      <td>117431</td>\n",
       "      <td>7419</td>\n",
       "      <td>36.864596</td>\n",
       "    </tr>\n",
       "    <tr>\n",
       "      <th>OffersScreenAppear</th>\n",
       "      <td>46350</td>\n",
       "      <td>4593</td>\n",
       "      <td>22.822360</td>\n",
       "    </tr>\n",
       "    <tr>\n",
       "      <th>CartScreenAppear</th>\n",
       "      <td>42365</td>\n",
       "      <td>3734</td>\n",
       "      <td>18.554037</td>\n",
       "    </tr>\n",
       "    <tr>\n",
       "      <th>PaymentScreenSuccessful</th>\n",
       "      <td>34113</td>\n",
       "      <td>3539</td>\n",
       "      <td>17.585093</td>\n",
       "    </tr>\n",
       "    <tr>\n",
       "      <th>Tutorial</th>\n",
       "      <td>1039</td>\n",
       "      <td>840</td>\n",
       "      <td>4.173913</td>\n",
       "    </tr>\n",
       "  </tbody>\n",
       "</table>\n",
       "</div>"
      ],
      "text/plain": [
       "                         numero_acciones  numero_de_usuarios  \\\n",
       "eventname                                                      \n",
       "MainScreenAppear                  117431                7419   \n",
       "OffersScreenAppear                 46350                4593   \n",
       "CartScreenAppear                   42365                3734   \n",
       "PaymentScreenSuccessful            34113                3539   \n",
       "Tutorial                            1039                 840   \n",
       "\n",
       "                         proporcion_de_usuarios  \n",
       "eventname                                        \n",
       "MainScreenAppear                      36.864596  \n",
       "OffersScreenAppear                    22.822360  \n",
       "CartScreenAppear                      18.554037  \n",
       "PaymentScreenSuccessful               17.585093  \n",
       "Tutorial                               4.173913  "
      ]
     },
     "execution_count": 36,
     "metadata": {},
     "output_type": "execute_result"
    }
   ],
   "source": [
    "cantidad_de_usuarios['proporcion_de_usuarios'] = (cantidad_de_usuarios['numero_de_usuarios']/cantidad_de_usuarios['numero_de_usuarios'].sum())*100\n",
    "cantidad_de_usuarios.sort_values(ascending =False, by='numero_de_usuarios')"
   ]
  },
  {
   "cell_type": "markdown",
   "metadata": {},
   "source": [
    "### ¿En qué orden crees que ocurrieron las acciones? ¿Todas son parte de una sola secuencia? No es necesario tenerlas en cuenta al calcular el embudo.\n"
   ]
  },
  {
   "cell_type": "code",
   "execution_count": 37,
   "metadata": {},
   "outputs": [
    {
     "data": {
      "text/html": [
       "<div>\n",
       "<style scoped>\n",
       "    .dataframe tbody tr th:only-of-type {\n",
       "        vertical-align: middle;\n",
       "    }\n",
       "\n",
       "    .dataframe tbody tr th {\n",
       "        vertical-align: top;\n",
       "    }\n",
       "\n",
       "    .dataframe thead th {\n",
       "        text-align: right;\n",
       "    }\n",
       "</style>\n",
       "<table border=\"1\" class=\"dataframe\">\n",
       "  <thead>\n",
       "    <tr style=\"text-align: right;\">\n",
       "      <th></th>\n",
       "      <th>numero_acciones</th>\n",
       "      <th>numero_de_usuarios</th>\n",
       "      <th>proporcion_de_usuarios</th>\n",
       "    </tr>\n",
       "    <tr>\n",
       "      <th>eventname</th>\n",
       "      <th></th>\n",
       "      <th></th>\n",
       "      <th></th>\n",
       "    </tr>\n",
       "  </thead>\n",
       "  <tbody>\n",
       "    <tr>\n",
       "      <th>MainScreenAppear</th>\n",
       "      <td>117431</td>\n",
       "      <td>7419</td>\n",
       "      <td>36.864596</td>\n",
       "    </tr>\n",
       "    <tr>\n",
       "      <th>OffersScreenAppear</th>\n",
       "      <td>46350</td>\n",
       "      <td>4593</td>\n",
       "      <td>22.822360</td>\n",
       "    </tr>\n",
       "    <tr>\n",
       "      <th>CartScreenAppear</th>\n",
       "      <td>42365</td>\n",
       "      <td>3734</td>\n",
       "      <td>18.554037</td>\n",
       "    </tr>\n",
       "    <tr>\n",
       "      <th>PaymentScreenSuccessful</th>\n",
       "      <td>34113</td>\n",
       "      <td>3539</td>\n",
       "      <td>17.585093</td>\n",
       "    </tr>\n",
       "    <tr>\n",
       "      <th>Tutorial</th>\n",
       "      <td>1039</td>\n",
       "      <td>840</td>\n",
       "      <td>4.173913</td>\n",
       "    </tr>\n",
       "  </tbody>\n",
       "</table>\n",
       "</div>"
      ],
      "text/plain": [
       "                         numero_acciones  numero_de_usuarios  \\\n",
       "eventname                                                      \n",
       "MainScreenAppear                  117431                7419   \n",
       "OffersScreenAppear                 46350                4593   \n",
       "CartScreenAppear                   42365                3734   \n",
       "PaymentScreenSuccessful            34113                3539   \n",
       "Tutorial                            1039                 840   \n",
       "\n",
       "                         proporcion_de_usuarios  \n",
       "eventname                                        \n",
       "MainScreenAppear                      36.864596  \n",
       "OffersScreenAppear                    22.822360  \n",
       "CartScreenAppear                      18.554037  \n",
       "PaymentScreenSuccessful               17.585093  \n",
       "Tutorial                               4.173913  "
      ]
     },
     "execution_count": 37,
     "metadata": {},
     "output_type": "execute_result"
    }
   ],
   "source": [
    "cantidad_de_usuarios.sort_values(ascending =False, by='numero_de_usuarios')"
   ]
  },
  {
   "cell_type": "markdown",
   "metadata": {},
   "source": [
    "###### Concidero que el orden en el que ocurren los eventos es deacuerdo a esta tabla ya que es posible que por ello no muchos usuarios no lleguen a concretar la compra por falta del tuturial en un inicio. por lo tanto no todos los que compran lo ven ya que no lo encuentran ya necesario"
   ]
  },
  {
   "cell_type": "markdown",
   "metadata": {},
   "source": [
    "### Utiliza el embudo de eventos para encontrar la proporción de usuarios y usuarias que pasan de una etapa a la siguiente. (Por ejemplo, para la secuencia de eventos A → B → C, calcula la proporción de usuarios en la etapa B a la cantidad de usuarios en la etapa A y la proporción de usuarios en la etapa C a la cantidad en la etapa B).\n"
   ]
  },
  {
   "cell_type": "code",
   "execution_count": 38,
   "metadata": {
    "scrolled": true
   },
   "outputs": [
    {
     "data": {
      "text/html": [
       "<div>\n",
       "<style scoped>\n",
       "    .dataframe tbody tr th:only-of-type {\n",
       "        vertical-align: middle;\n",
       "    }\n",
       "\n",
       "    .dataframe tbody tr th {\n",
       "        vertical-align: top;\n",
       "    }\n",
       "\n",
       "    .dataframe thead th {\n",
       "        text-align: right;\n",
       "    }\n",
       "</style>\n",
       "<table border=\"1\" class=\"dataframe\">\n",
       "  <thead>\n",
       "    <tr style=\"text-align: right;\">\n",
       "      <th>eventname</th>\n",
       "      <th>CartScreenAppear</th>\n",
       "      <th>MainScreenAppear</th>\n",
       "      <th>OffersScreenAppear</th>\n",
       "      <th>PaymentScreenSuccessful</th>\n",
       "      <th>Tutorial</th>\n",
       "    </tr>\n",
       "    <tr>\n",
       "      <th>deviceidhash</th>\n",
       "      <th></th>\n",
       "      <th></th>\n",
       "      <th></th>\n",
       "      <th></th>\n",
       "      <th></th>\n",
       "    </tr>\n",
       "  </thead>\n",
       "  <tbody>\n",
       "    <tr>\n",
       "      <th>6888746892508752</th>\n",
       "      <td>NaT</td>\n",
       "      <td>2019-08-06 14:06:34</td>\n",
       "      <td>NaT</td>\n",
       "      <td>NaT</td>\n",
       "      <td>NaT</td>\n",
       "    </tr>\n",
       "    <tr>\n",
       "      <th>6909561520679493</th>\n",
       "      <td>2019-08-06 18:52:58</td>\n",
       "      <td>2019-08-06 18:52:54</td>\n",
       "      <td>2019-08-06 18:53:04</td>\n",
       "      <td>2019-08-06 18:52:58</td>\n",
       "      <td>NaT</td>\n",
       "    </tr>\n",
       "    <tr>\n",
       "      <th>6922444491712477</th>\n",
       "      <td>2019-08-04 14:19:40</td>\n",
       "      <td>2019-08-04 14:19:33</td>\n",
       "      <td>2019-08-04 14:19:46</td>\n",
       "      <td>2019-08-04 14:19:40</td>\n",
       "      <td>NaT</td>\n",
       "    </tr>\n",
       "    <tr>\n",
       "      <th>7435777799948366</th>\n",
       "      <td>NaT</td>\n",
       "      <td>2019-08-05 08:06:34</td>\n",
       "      <td>NaT</td>\n",
       "      <td>NaT</td>\n",
       "      <td>NaT</td>\n",
       "    </tr>\n",
       "    <tr>\n",
       "      <th>7702139951469979</th>\n",
       "      <td>2019-08-02 14:28:45</td>\n",
       "      <td>2019-08-01 04:29:54</td>\n",
       "      <td>2019-08-01 04:29:56</td>\n",
       "      <td>2019-08-02 14:28:45</td>\n",
       "      <td>NaT</td>\n",
       "    </tr>\n",
       "  </tbody>\n",
       "</table>\n",
       "</div>"
      ],
      "text/plain": [
       "eventname           CartScreenAppear    MainScreenAppear  OffersScreenAppear  \\\n",
       "deviceidhash                                                                   \n",
       "6888746892508752                 NaT 2019-08-06 14:06:34                 NaT   \n",
       "6909561520679493 2019-08-06 18:52:58 2019-08-06 18:52:54 2019-08-06 18:53:04   \n",
       "6922444491712477 2019-08-04 14:19:40 2019-08-04 14:19:33 2019-08-04 14:19:46   \n",
       "7435777799948366                 NaT 2019-08-05 08:06:34                 NaT   \n",
       "7702139951469979 2019-08-02 14:28:45 2019-08-01 04:29:54 2019-08-01 04:29:56   \n",
       "\n",
       "eventname        PaymentScreenSuccessful Tutorial  \n",
       "deviceidhash                                       \n",
       "6888746892508752                     NaT      NaT  \n",
       "6909561520679493     2019-08-06 18:52:58      NaT  \n",
       "6922444491712477     2019-08-04 14:19:40      NaT  \n",
       "7435777799948366                     NaT      NaT  \n",
       "7702139951469979     2019-08-02 14:28:45      NaT  "
      ]
     },
     "execution_count": 38,
     "metadata": {},
     "output_type": "execute_result"
    }
   ],
   "source": [
    "users = datos_filtrados.pivot_table( index='deviceidhash', columns='eventname', values= 'eventtimestamp', aggfunc='min')\n",
    "users.head()"
   ]
  },
  {
   "cell_type": "code",
   "execution_count": 39,
   "metadata": {},
   "outputs": [],
   "source": [
    "step_1 = ~users['MainScreenAppear'].isna() \n",
    "step_2 =  step_1 & (users['OffersScreenAppear'] >  users['MainScreenAppear']) \n",
    "step_3 = step_2 & (users['CartScreenAppear'] > users['OffersScreenAppear']) \n",
    "step_4 = step_3 & (users['PaymentScreenSuccessful'] > users['CartScreenAppear'])\n",
    "step_5 = step_4 &(users['Tutorial'] > users['PaymentScreenSuccessful'])"
   ]
  },
  {
   "cell_type": "code",
   "execution_count": 40,
   "metadata": {},
   "outputs": [],
   "source": [
    "MainScreenAppear = users[step_1].shape[0] \n",
    "OffersScreenAppear = users[step_2].shape[0] \n",
    "CartScreenAppear = users[step_3].shape[0]\n",
    "PaymentScreenSuccessful = users[step_4].shape[0]\n",
    "Tutorial = users[step_5].shape[0]"
   ]
  },
  {
   "cell_type": "code",
   "execution_count": 41,
   "metadata": {},
   "outputs": [
    {
     "name": "stdout",
     "output_type": "stream",
     "text": [
      "Usuarios que ingresan: 7419\n",
      "Usuarios que navegan: 4201\n",
      "Usuarios que agregan a carrito: 1767\n",
      "Usuarios que realizan pago: 454\n",
      "Usuarios que acceden a tutorial 1\n"
     ]
    }
   ],
   "source": [
    "print('Usuarios que ingresan:', MainScreenAppear)\n",
    "print('Usuarios que navegan:', OffersScreenAppear)\n",
    "print('Usuarios que agregan a carrito:', CartScreenAppear)\n",
    "print('Usuarios que realizan pago:', PaymentScreenSuccessful)\n",
    "print('Usuarios que acceden a tutorial', Tutorial)"
   ]
  },
  {
   "cell_type": "code",
   "execution_count": 42,
   "metadata": {},
   "outputs": [],
   "source": [
    "proporcion1 = MainScreenAppear/MainScreenAppear*100\n",
    "proporcion2 = OffersScreenAppear/MainScreenAppear*100\n",
    "proporcion3 = CartScreenAppear/OffersScreenAppear*100\n",
    "proporcion4 = PaymentScreenSuccessful/CartScreenAppear*100\n",
    "proporcion5 = Tutorial/PaymentScreenSuccessful*100"
   ]
  },
  {
   "cell_type": "code",
   "execution_count": 43,
   "metadata": {},
   "outputs": [
    {
     "name": "stdout",
     "output_type": "stream",
     "text": [
      "laproporcion de MainScreenAppear es: 100.0\n",
      "la proporcion de MainScreenAppear es: 56.62488205957676\n",
      "la propprcion de  CartScreenAppear es: 42.06141394905975\n",
      "la proporcion de PaymentScreenSuccessful es: 25.693265421618563\n",
      "la proporcion de tutorial es: 0.22026431718061676\n"
     ]
    }
   ],
   "source": [
    "print('laproporcion de MainScreenAppear es:', proporcion1)\n",
    "print('la proporcion de MainScreenAppear es:',proporcion2)\n",
    "print('la propprcion de  CartScreenAppear es:',proporcion3)\n",
    "print('la proporcion de PaymentScreenSuccessful es:',proporcion4)\n",
    "print('la proporcion de tutorial es:',proporcion5)"
   ]
  },
  {
   "cell_type": "markdown",
   "metadata": {},
   "source": [
    "### ¿En qué etapa pierdes más usuarios y usuarias?\n"
   ]
  },
  {
   "cell_type": "markdown",
   "metadata": {},
   "source": [
    "###### En la de ofertas, ya que al ingresar a nuestra pagina contamos con 7438, mientas que al momento de llegar a las ofertas solo tenemos 4075, debemos investigar mas la razon, en relacion de proporciones se pierde casi un 46%."
   ]
  },
  {
   "cell_type": "markdown",
   "metadata": {},
   "source": [
    "### ¿Qué porcentaje de usuarios y usuarias hace todo el viaje desde su primer evento hasta el pago?"
   ]
  },
  {
   "cell_type": "code",
   "execution_count": 44,
   "metadata": {},
   "outputs": [
    {
     "name": "stdout",
     "output_type": "stream",
     "text": [
      "Porsentaje de usuarios que terminan: 6.119423102844049\n"
     ]
    }
   ],
   "source": [
    "porcentaje_de_usuarios = (PaymentScreenSuccessful/MainScreenAppear)*100\n",
    "print('Porsentaje de usuarios que terminan:', porcentaje_de_usuarios)"
   ]
  },
  {
   "cell_type": "markdown",
   "metadata": {},
   "source": [
    "## Estudiar los resultados del experimento"
   ]
  },
  {
   "cell_type": "markdown",
   "metadata": {},
   "source": [
    "### ¿Cuántos usuarios y usuarias hay en cada grupo?\n"
   ]
  },
  {
   "cell_type": "code",
   "execution_count": 45,
   "metadata": {},
   "outputs": [
    {
     "data": {
      "text/plain": [
       "array([246, 247, 248])"
      ]
     },
     "execution_count": 45,
     "metadata": {},
     "output_type": "execute_result"
    }
   ],
   "source": [
    "datos_filtrados['expid'].unique()"
   ]
  },
  {
   "cell_type": "code",
   "execution_count": 46,
   "metadata": {},
   "outputs": [],
   "source": [
    "filtro_unicos= datos_filtrados.groupby('expid')['deviceidhash'].nunique()"
   ]
  },
  {
   "cell_type": "code",
   "execution_count": 47,
   "metadata": {},
   "outputs": [
    {
     "data": {
      "text/plain": [
       "expid\n",
       "246    2484\n",
       "247    2513\n",
       "248    2537\n",
       "Name: deviceidhash, dtype: int64"
      ]
     },
     "execution_count": 47,
     "metadata": {},
     "output_type": "execute_result"
    }
   ],
   "source": [
    "filtro_unicos"
   ]
  },
  {
   "cell_type": "markdown",
   "metadata": {},
   "source": [
    "### Tenemos dos grupos de control en el test A/A, donde comprobamos nuestros mecanismos y cálculos. Observa si hay una diferencia estadísticamente significativa entre las muestras 246 y 247.\n"
   ]
  },
  {
   "cell_type": "code",
   "execution_count": 48,
   "metadata": {},
   "outputs": [
    {
     "data": {
      "text/html": [
       "<div>\n",
       "<style scoped>\n",
       "    .dataframe tbody tr th:only-of-type {\n",
       "        vertical-align: middle;\n",
       "    }\n",
       "\n",
       "    .dataframe tbody tr th {\n",
       "        vertical-align: top;\n",
       "    }\n",
       "\n",
       "    .dataframe thead th {\n",
       "        text-align: right;\n",
       "    }\n",
       "</style>\n",
       "<table border=\"1\" class=\"dataframe\">\n",
       "  <thead>\n",
       "    <tr style=\"text-align: right;\">\n",
       "      <th>expid</th>\n",
       "      <th>246</th>\n",
       "      <th>247</th>\n",
       "      <th>248</th>\n",
       "    </tr>\n",
       "    <tr>\n",
       "      <th>eventname</th>\n",
       "      <th></th>\n",
       "      <th></th>\n",
       "      <th></th>\n",
       "    </tr>\n",
       "  </thead>\n",
       "  <tbody>\n",
       "    <tr>\n",
       "      <th>CartScreenAppear</th>\n",
       "      <td>1266</td>\n",
       "      <td>1238</td>\n",
       "      <td>1230</td>\n",
       "    </tr>\n",
       "    <tr>\n",
       "      <th>MainScreenAppear</th>\n",
       "      <td>2450</td>\n",
       "      <td>2476</td>\n",
       "      <td>2493</td>\n",
       "    </tr>\n",
       "    <tr>\n",
       "      <th>OffersScreenAppear</th>\n",
       "      <td>1542</td>\n",
       "      <td>1520</td>\n",
       "      <td>1531</td>\n",
       "    </tr>\n",
       "    <tr>\n",
       "      <th>PaymentScreenSuccessful</th>\n",
       "      <td>1200</td>\n",
       "      <td>1158</td>\n",
       "      <td>1181</td>\n",
       "    </tr>\n",
       "    <tr>\n",
       "      <th>Tutorial</th>\n",
       "      <td>278</td>\n",
       "      <td>283</td>\n",
       "      <td>279</td>\n",
       "    </tr>\n",
       "  </tbody>\n",
       "</table>\n",
       "</div>"
      ],
      "text/plain": [
       "expid                     246   247   248\n",
       "eventname                                \n",
       "CartScreenAppear         1266  1238  1230\n",
       "MainScreenAppear         2450  2476  2493\n",
       "OffersScreenAppear       1542  1520  1531\n",
       "PaymentScreenSuccessful  1200  1158  1181\n",
       "Tutorial                  278   283   279"
      ]
     },
     "execution_count": 48,
     "metadata": {},
     "output_type": "execute_result"
    }
   ],
   "source": [
    "grupos_de_control = datos_filtrados.pivot_table(index= 'eventname',columns = 'expid', values= 'deviceidhash', aggfunc= 'nunique')\n",
    "grupos_de_control"
   ]
  },
  {
   "cell_type": "code",
   "execution_count": null,
   "metadata": {},
   "outputs": [],
   "source": []
  },
  {
   "cell_type": "code",
   "execution_count": 49,
   "metadata": {},
   "outputs": [],
   "source": [
    "usuarios_por_grupo1 = grupos_de_control[246]\n",
    "usuarios_por_grupo2 = grupos_de_control[247]"
   ]
  },
  {
   "cell_type": "code",
   "execution_count": 50,
   "metadata": {},
   "outputs": [
    {
     "data": {
      "text/plain": [
       "eventname\n",
       "CartScreenAppear           1266\n",
       "MainScreenAppear           2450\n",
       "OffersScreenAppear         1542\n",
       "PaymentScreenSuccessful    1200\n",
       "Tutorial                    278\n",
       "Name: 246, dtype: int64"
      ]
     },
     "execution_count": 50,
     "metadata": {},
     "output_type": "execute_result"
    }
   ],
   "source": [
    "usuarios_por_grupo1"
   ]
  },
  {
   "cell_type": "code",
   "execution_count": 51,
   "metadata": {},
   "outputs": [
    {
     "data": {
      "text/plain": [
       "eventname\n",
       "CartScreenAppear           1238\n",
       "MainScreenAppear           2476\n",
       "OffersScreenAppear         1520\n",
       "PaymentScreenSuccessful    1158\n",
       "Tutorial                    283\n",
       "Name: 247, dtype: int64"
      ]
     },
     "execution_count": 51,
     "metadata": {},
     "output_type": "execute_result"
    }
   ],
   "source": [
    "usuarios_por_grupo2"
   ]
  },
  {
   "cell_type": "code",
   "execution_count": 52,
   "metadata": {},
   "outputs": [
    {
     "name": "stdout",
     "output_type": "stream",
     "text": [
      "t-stadistica: 0.9809573661651472\n",
      "No hay diferencia significativa\n"
     ]
    }
   ],
   "source": [
    "t_stat,p_valor =st.ttest_ind(usuarios_por_grupo1,usuarios_por_grupo2)\n",
    "print('t-stadistica:', p_valor)\n",
    "if p_valor < 0.05:\n",
    "        print('Hay una diferencia estadistia significativa')\n",
    "else:\n",
    "    print('No hay diferencia significativa')"
   ]
  },
  {
   "cell_type": "markdown",
   "metadata": {},
   "source": [
    "###### A realizar una prueva de hipotesis entre nuestros grupos uno y dos podemos darnos cuenta que no cuentan con diferencia  estadistica significativa "
   ]
  },
  {
   "cell_type": "markdown",
   "metadata": {},
   "source": [
    "### Selecciona el evento más popular. En cada uno de los grupos de control, encuentra la cantidad de usuarios y usuarias que realizaron esta acción. Encuentra su proporción. Comprueba si la diferencia entre los grupos es estadísticamente significativa. Repite el procedimiento para todos los demás eventos (ahorrarás tiempo si creas una función especial para esta prueba). ¿Puedes confirmar que los grupos se dividieron correctamente?\n"
   ]
  },
  {
   "cell_type": "code",
   "execution_count": 53,
   "metadata": {},
   "outputs": [],
   "source": [
    "grupo_de_control_= grupos_de_control.sort_values(ascending=False, by= 246)"
   ]
  },
  {
   "cell_type": "code",
   "execution_count": 54,
   "metadata": {},
   "outputs": [
    {
     "data": {
      "text/html": [
       "<div>\n",
       "<style scoped>\n",
       "    .dataframe tbody tr th:only-of-type {\n",
       "        vertical-align: middle;\n",
       "    }\n",
       "\n",
       "    .dataframe tbody tr th {\n",
       "        vertical-align: top;\n",
       "    }\n",
       "\n",
       "    .dataframe thead th {\n",
       "        text-align: right;\n",
       "    }\n",
       "</style>\n",
       "<table border=\"1\" class=\"dataframe\">\n",
       "  <thead>\n",
       "    <tr style=\"text-align: right;\">\n",
       "      <th>expid</th>\n",
       "      <th>246</th>\n",
       "      <th>247</th>\n",
       "      <th>248</th>\n",
       "    </tr>\n",
       "    <tr>\n",
       "      <th>eventname</th>\n",
       "      <th></th>\n",
       "      <th></th>\n",
       "      <th></th>\n",
       "    </tr>\n",
       "  </thead>\n",
       "  <tbody>\n",
       "    <tr>\n",
       "      <th>MainScreenAppear</th>\n",
       "      <td>2450</td>\n",
       "      <td>2476</td>\n",
       "      <td>2493</td>\n",
       "    </tr>\n",
       "    <tr>\n",
       "      <th>OffersScreenAppear</th>\n",
       "      <td>1542</td>\n",
       "      <td>1520</td>\n",
       "      <td>1531</td>\n",
       "    </tr>\n",
       "    <tr>\n",
       "      <th>CartScreenAppear</th>\n",
       "      <td>1266</td>\n",
       "      <td>1238</td>\n",
       "      <td>1230</td>\n",
       "    </tr>\n",
       "    <tr>\n",
       "      <th>PaymentScreenSuccessful</th>\n",
       "      <td>1200</td>\n",
       "      <td>1158</td>\n",
       "      <td>1181</td>\n",
       "    </tr>\n",
       "    <tr>\n",
       "      <th>Tutorial</th>\n",
       "      <td>278</td>\n",
       "      <td>283</td>\n",
       "      <td>279</td>\n",
       "    </tr>\n",
       "  </tbody>\n",
       "</table>\n",
       "</div>"
      ],
      "text/plain": [
       "expid                     246   247   248\n",
       "eventname                                \n",
       "MainScreenAppear         2450  2476  2493\n",
       "OffersScreenAppear       1542  1520  1531\n",
       "CartScreenAppear         1266  1238  1230\n",
       "PaymentScreenSuccessful  1200  1158  1181\n",
       "Tutorial                  278   283   279"
      ]
     },
     "execution_count": 54,
     "metadata": {},
     "output_type": "execute_result"
    }
   ],
   "source": [
    "grupo_de_control_"
   ]
  },
  {
   "cell_type": "code",
   "execution_count": 63,
   "metadata": {},
   "outputs": [],
   "source": [
    "def test_hipotesis(grupo1, grupo2, prueva1, prueva2, alpha= 0.05):\n",
    "    # obteniendo proporcion de exito en primer grupo\n",
    "    p1 = grupo1/prueva1\n",
    "    # obteniendo proporcion de exito en segundo grupo\n",
    "    p2 = grupo2/prueva2\n",
    "    # proporcion combinada de exitos \n",
    "    p_comb = (grupo1 + grupo2)/(prueva1 + prueva2)\n",
    "    # diferencia de proporciones\n",
    "    dif_prop = p1 - p2\n",
    "    # estadistica en desviasion estanda prueva z\n",
    "    z_value = dif_prop/ math.sqrt(p_comb*(1-p_comb)* (1/prueva1 + 1/prueva2))\n",
    "    # revisar distribucion normal\n",
    "    distribucion = st.norm(0,1)\n",
    "    # obtener p_value\n",
    "    p_value = (1-distribucion.cdf(abs(z_value)))*2\n",
    "    print('p_value', p_value)\n",
    "    if p_value < alpha:\n",
    "        print('Se recahaza la hipotesis nula')\n",
    "    else:\n",
    "        print('No se rechaza la hipotesis nula')\n",
    "        "
   ]
  },
  {
   "cell_type": "code",
   "execution_count": 64,
   "metadata": {},
   "outputs": [
    {
     "name": "stdout",
     "output_type": "stream",
     "text": [
      "2450 2476\n",
      "p_value 0.7570597232046099\n",
      "No se rechaza la hipotesis nula\n"
     ]
    }
   ],
   "source": [
    "test_hipotesis(grupo_de_control_.loc['MainScreenAppear', 246],\n",
    "               grupo_de_control_.loc['MainScreenAppear',247],\n",
    "               filtro_unicos.loc[246], filtro_unicos.loc[247])"
   ]
  },
  {
   "cell_type": "code",
   "execution_count": 57,
   "metadata": {},
   "outputs": [],
   "source": [
    "def hip_eventos(evento_grupo, usuarios_grupo, evento, exp1, exp2):\n",
    "    f1= grupo_de_control_.loc[evento, exp1]/filtro_unicos.loc[exp1]\n",
    "    f2= grupo_de_control_.loc[evento, exp2]/filtro_unicos.loc[exp2]\n",
    "    print(f\"{f1} con {evento} evento en grupo {exp1}\")\n",
    "    print(f\"{f2} con {evento} evento en grupo {exp2}\")\n",
    "    test_hipotesis(grupo_de_control_.loc[evento, exp1],\n",
    "                    grupo_de_control_.loc[evento, exp2],\n",
    "                    filtro_unicos.loc[exp1],\n",
    "                    filtro_unicos.loc[exp2]\n",
    "                    )"
   ]
  },
  {
   "cell_type": "code",
   "execution_count": 58,
   "metadata": {},
   "outputs": [
    {
     "name": "stdout",
     "output_type": "stream",
     "text": [
      "0.9863123993558777 con MainScreenAppear evento en grupo 246\n",
      "0.9852765618782332 con MainScreenAppear evento en grupo 247\n",
      "p_value 0.7570597232046099\n",
      "No se rechaza la hipotesis nula\n",
      "\n",
      "0.6207729468599034 con OffersScreenAppear evento en grupo 246\n",
      "0.6048547552725826 con OffersScreenAppear evento en grupo 247\n",
      "p_value 0.2480954578522181\n",
      "No se rechaza la hipotesis nula\n",
      "\n",
      "0.5096618357487923 con CartScreenAppear evento en grupo 246\n",
      "0.4926382809391166 con CartScreenAppear evento en grupo 247\n",
      "p_value 0.22883372237997213\n",
      "No se rechaza la hipotesis nula\n",
      "\n",
      "0.4830917874396135 con PaymentScreenSuccessful evento en grupo 246\n",
      "0.46080382013529647 con PaymentScreenSuccessful evento en grupo 247\n",
      "p_value 0.11456679313141849\n",
      "No se rechaza la hipotesis nula\n",
      "\n",
      "0.11191626409017713 con Tutorial evento en grupo 246\n",
      "0.11261440509351373 con Tutorial evento en grupo 247\n",
      "p_value 0.9376996189257114\n",
      "No se rechaza la hipotesis nula\n",
      "\n"
     ]
    }
   ],
   "source": [
    "for evento in grupo_de_control_.index:\n",
    "    hip_eventos(grupo_de_control_, filtro_unicos, evento, 246, 247)\n",
    "    print()\n",
    "    \n",
    "    "
   ]
  },
  {
   "cell_type": "markdown",
   "metadata": {},
   "source": [
    "###### puedo observar que ninguno de los valores tiene en ninguno de los grupos existe una diferncia significativa, y esta con proporciones relativamente similares, en cada evento."
   ]
  },
  {
   "cell_type": "markdown",
   "metadata": {},
   "source": [
    "### Haz lo mismo para el grupo con fuentes alteradas. Compara los resultados con los de cada uno de los grupos de control para cada evento de forma aislada. Compara los resultados con los resultados combinados de los grupos de control. ¿Qué conclusiones puedes sacar del experimento?\n"
   ]
  },
  {
   "cell_type": "code",
   "execution_count": 59,
   "metadata": {},
   "outputs": [
    {
     "name": "stdout",
     "output_type": "stream",
     "text": [
      "0.9852765618782332 con MainScreenAppear evento en grupo 247\n",
      "0.9826566811194324 con MainScreenAppear evento en grupo 248\n",
      "p_value 0.4587053616621515\n",
      "No se rechaza la hipotesis nula\n",
      "\n",
      "0.6048547552725826 con OffersScreenAppear evento en grupo 247\n",
      "0.6034686637761135 con OffersScreenAppear evento en grupo 248\n",
      "p_value 0.9197817830592261\n",
      "No se rechaza la hipotesis nula\n",
      "\n",
      "0.4926382809391166 con CartScreenAppear evento en grupo 247\n",
      "0.48482459597950334 con CartScreenAppear evento en grupo 248\n",
      "p_value 0.5786197879539783\n",
      "No se rechaza la hipotesis nula\n",
      "\n",
      "0.46080382013529647 con PaymentScreenSuccessful evento en grupo 247\n",
      "0.46551044540796216 con PaymentScreenSuccessful evento en grupo 248\n",
      "p_value 0.7373415053803964\n",
      "No se rechaza la hipotesis nula\n",
      "\n",
      "0.11261440509351373 con Tutorial evento en grupo 247\n",
      "0.10997240835632636 con Tutorial evento en grupo 248\n",
      "p_value 0.765323922474501\n",
      "No se rechaza la hipotesis nula\n",
      "\n"
     ]
    }
   ],
   "source": [
    "for evento in grupo_de_control_.index:\n",
    "    hip_eventos(grupo_de_control_, filtro_unicos, evento, 247, 248)\n",
    "    print()\n",
    "    "
   ]
  },
  {
   "cell_type": "code",
   "execution_count": 60,
   "metadata": {},
   "outputs": [
    {
     "name": "stdout",
     "output_type": "stream",
     "text": [
      "0.9863123993558777 con MainScreenAppear evento en grupo 246\n",
      "0.9826566811194324 con MainScreenAppear evento en grupo 248\n",
      "p_value 0.2949721933554552\n",
      "No se rechaza la hipotesis nula\n",
      "\n",
      "0.6207729468599034 con OffersScreenAppear evento en grupo 246\n",
      "0.6034686637761135 con OffersScreenAppear evento en grupo 248\n",
      "p_value 0.20836205402738917\n",
      "No se rechaza la hipotesis nula\n",
      "\n",
      "0.5096618357487923 con CartScreenAppear evento en grupo 246\n",
      "0.48482459597950334 con CartScreenAppear evento en grupo 248\n",
      "p_value 0.07842923237520116\n",
      "No se rechaza la hipotesis nula\n",
      "\n",
      "0.4830917874396135 con PaymentScreenSuccessful evento en grupo 246\n",
      "0.46551044540796216 con PaymentScreenSuccessful evento en grupo 248\n",
      "p_value 0.2122553275697796\n",
      "No se rechaza la hipotesis nula\n",
      "\n",
      "0.11191626409017713 con Tutorial evento en grupo 246\n",
      "0.10997240835632636 con Tutorial evento en grupo 248\n",
      "p_value 0.8264294010087645\n",
      "No se rechaza la hipotesis nula\n",
      "\n"
     ]
    }
   ],
   "source": [
    "for evento in grupo_de_control_.index:\n",
    "    hip_eventos(grupo_de_control_, filtro_unicos, evento, 246, 248)\n",
    "    print()"
   ]
  },
  {
   "cell_type": "markdown",
   "metadata": {},
   "source": [
    "### ¿Qué nivel de significación has establecido para probar las hipótesis estadísticas mencionadas anteriormente? Calcula cuántas pruebas de hipótesis estadísticas has realizado. Con un nivel de significancia estadística de 0.1, uno de cada 10 resultados podría ser falso. ¿Cuál debería ser el nivel de significación? Si deseas cambiarlo, vuelve a ejecutar los pasos anteriores y comprueba tus conclusiones."
   ]
  },
  {
   "cell_type": "code",
   "execution_count": 61,
   "metadata": {},
   "outputs": [],
   "source": [
    "def test_hipotesis(grupo1, grupo2, prueva1, prueva2, alpha= 0.1):\n",
    "    # obteniendo proporcion de exito en primer grupo\n",
    "    p1 = grupo1/prueva1\n",
    "    # obteniendo proporcion de exito en segundo grupo\n",
    "    p2 = grupo2/prueva2\n",
    "    # proporcion combinada de exitos \n",
    "    p_comb = (grupo1 + grupo2)/(prueva1 + prueva2)\n",
    "    # diferencia de proporciones\n",
    "    dif_prop = p1 - p2\n",
    "    # estadistica en desviasion estanda prueva z\n",
    "    z_value = dif_prop/ math.sqrt(p_comb*(1-p_comb)* (1/prueva1 + 1/prueva2))\n",
    "    # revisar distribucion normal\n",
    "    distribucion = st.norm(0,1)\n",
    "    # obtener p_value\n",
    "    p_value = (1-distribucion.cdf(abs(z_value)))*2\n",
    "    print('p_value', p_value)\n",
    "    if p_value < alpha:\n",
    "        print('Se recahaza la hipotesis nula')\n",
    "    else:\n",
    "        print('No se rechaza la hipotesis nula')\n",
    "        "
   ]
  },
  {
   "cell_type": "code",
   "execution_count": 62,
   "metadata": {},
   "outputs": [
    {
     "name": "stdout",
     "output_type": "stream",
     "text": [
      "0.9863123993558777 con MainScreenAppear evento en grupo 246\n",
      "0.9852765618782332 con MainScreenAppear evento en grupo 247\n",
      "p_value 0.7570597232046099\n",
      "No se rechaza la hipotesis nula\n",
      "\n",
      "0.6207729468599034 con OffersScreenAppear evento en grupo 246\n",
      "0.6048547552725826 con OffersScreenAppear evento en grupo 247\n",
      "p_value 0.2480954578522181\n",
      "No se rechaza la hipotesis nula\n",
      "\n",
      "0.5096618357487923 con CartScreenAppear evento en grupo 246\n",
      "0.4926382809391166 con CartScreenAppear evento en grupo 247\n",
      "p_value 0.22883372237997213\n",
      "No se rechaza la hipotesis nula\n",
      "\n",
      "0.4830917874396135 con PaymentScreenSuccessful evento en grupo 246\n",
      "0.46080382013529647 con PaymentScreenSuccessful evento en grupo 247\n",
      "p_value 0.11456679313141849\n",
      "No se rechaza la hipotesis nula\n",
      "\n",
      "0.11191626409017713 con Tutorial evento en grupo 246\n",
      "0.11261440509351373 con Tutorial evento en grupo 247\n",
      "p_value 0.9376996189257114\n",
      "No se rechaza la hipotesis nula\n",
      "\n"
     ]
    }
   ],
   "source": [
    "for evento in grupo_de_control_.index:\n",
    "    hip_eventos(grupo_de_control_, filtro_unicos, evento, 246, 247)\n",
    "    print()"
   ]
  },
  {
   "cell_type": "markdown",
   "metadata": {},
   "source": [
    "###### Aun cambiando le nivel de significancia, nuestras hipotesis siguen siendo relativamente similares entre si"
   ]
  }
 ],
 "metadata": {
  "ExecuteTimeLog": [
   {
    "duration": 2573,
    "start_time": "2024-10-18T14:57:20.128Z"
   },
   {
    "duration": 228,
    "start_time": "2024-10-18T15:01:18.437Z"
   },
   {
    "duration": 16,
    "start_time": "2024-10-18T15:01:54.053Z"
   },
   {
    "duration": 11,
    "start_time": "2024-10-18T15:02:19.086Z"
   },
   {
    "duration": 189,
    "start_time": "2024-10-18T15:02:44.773Z"
   },
   {
    "duration": 14,
    "start_time": "2024-10-18T15:02:46.996Z"
   },
   {
    "duration": 5,
    "start_time": "2024-10-18T15:02:52.078Z"
   },
   {
    "duration": 5,
    "start_time": "2024-10-18T15:04:23.187Z"
   },
   {
    "duration": 196,
    "start_time": "2024-10-18T15:09:30.673Z"
   },
   {
    "duration": 14,
    "start_time": "2024-10-18T15:09:35.093Z"
   },
   {
    "duration": 5,
    "start_time": "2024-10-18T15:09:37.560Z"
   },
   {
    "duration": 765,
    "start_time": "2024-10-18T15:09:59.405Z"
   },
   {
    "duration": 177,
    "start_time": "2024-10-18T15:10:00.172Z"
   },
   {
    "duration": 16,
    "start_time": "2024-10-18T15:10:00.351Z"
   },
   {
    "duration": 6,
    "start_time": "2024-10-18T15:10:00.369Z"
   },
   {
    "duration": 203,
    "start_time": "2024-10-18T15:11:22.175Z"
   },
   {
    "duration": 14,
    "start_time": "2024-10-18T15:11:26.684Z"
   },
   {
    "duration": 7,
    "start_time": "2024-10-18T15:11:32.832Z"
   },
   {
    "duration": 180,
    "start_time": "2024-10-18T15:11:53.332Z"
   },
   {
    "duration": 14,
    "start_time": "2024-10-18T15:11:59.076Z"
   },
   {
    "duration": 5,
    "start_time": "2024-10-18T15:12:02.298Z"
   },
   {
    "duration": 98,
    "start_time": "2024-10-18T15:17:35.330Z"
   },
   {
    "duration": 15,
    "start_time": "2024-10-18T15:17:39.227Z"
   },
   {
    "duration": 7,
    "start_time": "2024-10-18T15:17:43.621Z"
   },
   {
    "duration": 12,
    "start_time": "2024-10-18T15:19:17.262Z"
   },
   {
    "duration": 40,
    "start_time": "2024-10-18T15:19:39.760Z"
   },
   {
    "duration": 7,
    "start_time": "2024-10-18T15:24:05.821Z"
   },
   {
    "duration": 39,
    "start_time": "2024-10-18T15:24:40.425Z"
   },
   {
    "duration": 3,
    "start_time": "2024-10-18T15:25:06.712Z"
   },
   {
    "duration": 39,
    "start_time": "2024-10-18T15:25:17.012Z"
   },
   {
    "duration": 40,
    "start_time": "2024-10-18T15:25:38.929Z"
   },
   {
    "duration": 274,
    "start_time": "2024-10-18T15:27:11.174Z"
   },
   {
    "duration": 2,
    "start_time": "2024-10-18T15:27:21.716Z"
   },
   {
    "duration": 15,
    "start_time": "2024-10-18T15:27:42.485Z"
   },
   {
    "duration": 3,
    "start_time": "2024-10-18T15:27:46.901Z"
   },
   {
    "duration": 28,
    "start_time": "2024-10-18T15:30:48.212Z"
   },
   {
    "duration": 10,
    "start_time": "2024-10-18T15:30:49.859Z"
   },
   {
    "duration": 8,
    "start_time": "2024-10-18T15:32:01.220Z"
   },
   {
    "duration": 19,
    "start_time": "2024-10-18T15:32:14.129Z"
   },
   {
    "duration": 8,
    "start_time": "2024-10-18T15:32:29.861Z"
   },
   {
    "duration": 4,
    "start_time": "2024-10-18T15:38:57.146Z"
   },
   {
    "duration": 4,
    "start_time": "2024-10-18T16:05:10.837Z"
   },
   {
    "duration": 19,
    "start_time": "2024-10-18T16:05:30.755Z"
   },
   {
    "duration": 413,
    "start_time": "2024-10-18T16:05:39.328Z"
   },
   {
    "duration": 729,
    "start_time": "2024-10-18T16:06:11.304Z"
   },
   {
    "duration": 8,
    "start_time": "2024-10-18T16:06:13.446Z"
   },
   {
    "duration": 70,
    "start_time": "2024-10-18T16:10:43.898Z"
   },
   {
    "duration": 787,
    "start_time": "2024-10-18T16:11:10.010Z"
   },
   {
    "duration": 107,
    "start_time": "2024-10-18T16:11:10.799Z"
   },
   {
    "duration": 16,
    "start_time": "2024-10-18T16:11:10.908Z"
   },
   {
    "duration": 20,
    "start_time": "2024-10-18T16:11:10.927Z"
   },
   {
    "duration": 12,
    "start_time": "2024-10-18T16:11:10.950Z"
   },
   {
    "duration": 43,
    "start_time": "2024-10-18T16:11:10.964Z"
   },
   {
    "duration": 3,
    "start_time": "2024-10-18T16:11:11.009Z"
   },
   {
    "duration": 304,
    "start_time": "2024-10-18T16:11:11.014Z"
   },
   {
    "duration": 0,
    "start_time": "2024-10-18T16:11:11.320Z"
   },
   {
    "duration": 5,
    "start_time": "2024-10-18T16:11:23.110Z"
   },
   {
    "duration": 6,
    "start_time": "2024-10-18T16:11:25.108Z"
   },
   {
    "duration": 150,
    "start_time": "2024-10-18T16:11:59.846Z"
   },
   {
    "duration": 799,
    "start_time": "2024-10-18T16:12:09.183Z"
   },
   {
    "duration": 101,
    "start_time": "2024-10-18T16:12:09.984Z"
   },
   {
    "duration": 17,
    "start_time": "2024-10-18T16:12:10.086Z"
   },
   {
    "duration": 8,
    "start_time": "2024-10-18T16:12:10.105Z"
   },
   {
    "duration": 29,
    "start_time": "2024-10-18T16:12:10.116Z"
   },
   {
    "duration": 49,
    "start_time": "2024-10-18T16:12:10.147Z"
   },
   {
    "duration": 4,
    "start_time": "2024-10-18T16:12:10.197Z"
   },
   {
    "duration": 45,
    "start_time": "2024-10-18T16:12:10.202Z"
   },
   {
    "duration": 8,
    "start_time": "2024-10-18T16:12:10.249Z"
   },
   {
    "duration": 826,
    "start_time": "2024-10-18T16:33:20.714Z"
   },
   {
    "duration": 101,
    "start_time": "2024-10-18T16:33:21.544Z"
   },
   {
    "duration": 16,
    "start_time": "2024-10-18T16:33:21.647Z"
   },
   {
    "duration": 10,
    "start_time": "2024-10-18T16:33:21.666Z"
   },
   {
    "duration": 13,
    "start_time": "2024-10-18T16:33:21.677Z"
   },
   {
    "duration": 67,
    "start_time": "2024-10-18T16:33:21.691Z"
   },
   {
    "duration": 3,
    "start_time": "2024-10-18T16:33:21.760Z"
   },
   {
    "duration": 27,
    "start_time": "2024-10-18T16:33:21.765Z"
   },
   {
    "duration": 7,
    "start_time": "2024-10-18T16:33:21.793Z"
   },
   {
    "duration": 276,
    "start_time": "2024-10-18T16:36:03.791Z"
   },
   {
    "duration": 7,
    "start_time": "2024-10-18T16:41:14.645Z"
   },
   {
    "duration": 750,
    "start_time": "2024-10-18T16:41:24.827Z"
   },
   {
    "duration": 101,
    "start_time": "2024-10-18T16:41:25.581Z"
   },
   {
    "duration": 16,
    "start_time": "2024-10-18T16:41:25.684Z"
   },
   {
    "duration": 7,
    "start_time": "2024-10-18T16:41:25.703Z"
   },
   {
    "duration": 10,
    "start_time": "2024-10-18T16:41:25.712Z"
   },
   {
    "duration": 59,
    "start_time": "2024-10-18T16:41:25.724Z"
   },
   {
    "duration": 4,
    "start_time": "2024-10-18T16:41:25.785Z"
   },
   {
    "duration": 292,
    "start_time": "2024-10-18T16:41:25.790Z"
   },
   {
    "duration": 0,
    "start_time": "2024-10-18T16:41:26.084Z"
   },
   {
    "duration": 19,
    "start_time": "2024-10-18T16:41:59.024Z"
   },
   {
    "duration": 19,
    "start_time": "2024-10-18T16:44:24.796Z"
   },
   {
    "duration": 19,
    "start_time": "2024-10-18T16:47:09.008Z"
   },
   {
    "duration": 755,
    "start_time": "2024-10-18T16:47:24.804Z"
   },
   {
    "duration": 106,
    "start_time": "2024-10-18T16:47:25.562Z"
   },
   {
    "duration": 16,
    "start_time": "2024-10-18T16:47:25.670Z"
   },
   {
    "duration": 8,
    "start_time": "2024-10-18T16:47:25.688Z"
   },
   {
    "duration": 11,
    "start_time": "2024-10-18T16:47:25.698Z"
   },
   {
    "duration": 62,
    "start_time": "2024-10-18T16:47:25.710Z"
   },
   {
    "duration": 3,
    "start_time": "2024-10-18T16:47:25.774Z"
   },
   {
    "duration": 286,
    "start_time": "2024-10-18T16:47:25.778Z"
   },
   {
    "duration": 0,
    "start_time": "2024-10-18T16:47:26.066Z"
   },
   {
    "duration": 28,
    "start_time": "2024-10-18T16:47:42.477Z"
   },
   {
    "duration": 7,
    "start_time": "2024-10-18T16:47:46.231Z"
   },
   {
    "duration": 440,
    "start_time": "2024-10-18T17:01:14.420Z"
   },
   {
    "duration": 5,
    "start_time": "2024-10-18T17:02:02.835Z"
   },
   {
    "duration": 7,
    "start_time": "2024-10-18T17:02:16.908Z"
   },
   {
    "duration": 5,
    "start_time": "2024-10-18T17:02:43.077Z"
   },
   {
    "duration": 8,
    "start_time": "2024-10-18T17:02:43.764Z"
   },
   {
    "duration": 12,
    "start_time": "2024-10-18T17:03:04.916Z"
   },
   {
    "duration": 8,
    "start_time": "2024-10-18T17:03:06.401Z"
   },
   {
    "duration": 10,
    "start_time": "2024-10-18T17:03:42.071Z"
   },
   {
    "duration": 7,
    "start_time": "2024-10-18T17:03:43.893Z"
   },
   {
    "duration": 15,
    "start_time": "2024-10-18T17:16:17.966Z"
   },
   {
    "duration": 9,
    "start_time": "2024-10-18T17:16:38.877Z"
   },
   {
    "duration": 8,
    "start_time": "2024-10-18T17:16:44.245Z"
   },
   {
    "duration": 836,
    "start_time": "2024-10-18T17:16:56.487Z"
   },
   {
    "duration": 101,
    "start_time": "2024-10-18T17:16:57.325Z"
   },
   {
    "duration": 21,
    "start_time": "2024-10-18T17:16:57.428Z"
   },
   {
    "duration": 8,
    "start_time": "2024-10-18T17:16:57.451Z"
   },
   {
    "duration": 11,
    "start_time": "2024-10-18T17:16:57.461Z"
   },
   {
    "duration": 44,
    "start_time": "2024-10-18T17:16:57.474Z"
   },
   {
    "duration": 23,
    "start_time": "2024-10-18T17:16:57.520Z"
   },
   {
    "duration": 7,
    "start_time": "2024-10-18T17:16:57.545Z"
   },
   {
    "duration": 3,
    "start_time": "2024-10-18T17:16:57.553Z"
   },
   {
    "duration": 6,
    "start_time": "2024-10-18T17:16:57.558Z"
   },
   {
    "duration": 12,
    "start_time": "2024-10-18T17:16:57.566Z"
   },
   {
    "duration": 6,
    "start_time": "2024-10-18T17:16:57.579Z"
   },
   {
    "duration": 267,
    "start_time": "2024-10-18T17:23:33.076Z"
   },
   {
    "duration": 21,
    "start_time": "2024-10-18T17:23:46.275Z"
   },
   {
    "duration": 9,
    "start_time": "2024-10-18T17:24:03.796Z"
   },
   {
    "duration": 17,
    "start_time": "2024-10-18T17:24:26.384Z"
   },
   {
    "duration": 15,
    "start_time": "2024-10-18T17:24:32.559Z"
   },
   {
    "duration": 13,
    "start_time": "2024-10-18T17:24:44.616Z"
   },
   {
    "duration": 5,
    "start_time": "2024-10-18T17:24:46.904Z"
   },
   {
    "duration": 17,
    "start_time": "2024-10-18T17:24:54.568Z"
   },
   {
    "duration": 14,
    "start_time": "2024-10-18T17:25:05.978Z"
   },
   {
    "duration": 4,
    "start_time": "2024-10-18T17:25:47.032Z"
   },
   {
    "duration": 5,
    "start_time": "2024-10-18T17:29:05.204Z"
   },
   {
    "duration": 3,
    "start_time": "2024-10-18T17:29:31.119Z"
   },
   {
    "duration": 292,
    "start_time": "2024-10-18T17:30:05.882Z"
   },
   {
    "duration": 4,
    "start_time": "2024-10-18T17:30:12.740Z"
   },
   {
    "duration": 3,
    "start_time": "2024-10-18T17:30:51.600Z"
   },
   {
    "duration": 26,
    "start_time": "2024-10-18T17:31:35.540Z"
   },
   {
    "duration": 4,
    "start_time": "2024-10-18T17:31:42.532Z"
   },
   {
    "duration": 21,
    "start_time": "2024-10-18T17:32:41.858Z"
   },
   {
    "duration": 5,
    "start_time": "2024-10-18T17:33:02.084Z"
   },
   {
    "duration": 22,
    "start_time": "2024-10-18T17:33:10.374Z"
   },
   {
    "duration": 3,
    "start_time": "2024-10-18T17:33:13.102Z"
   },
   {
    "duration": 6,
    "start_time": "2024-10-18T17:35:53.968Z"
   },
   {
    "duration": 4,
    "start_time": "2024-10-18T17:35:55.228Z"
   },
   {
    "duration": 5,
    "start_time": "2024-10-18T17:39:21.734Z"
   },
   {
    "duration": 5,
    "start_time": "2024-10-18T17:40:12.771Z"
   },
   {
    "duration": 5,
    "start_time": "2024-10-18T17:40:23.304Z"
   },
   {
    "duration": 15,
    "start_time": "2024-10-18T17:41:35.610Z"
   },
   {
    "duration": 13,
    "start_time": "2024-10-18T17:42:24.761Z"
   },
   {
    "duration": 434,
    "start_time": "2024-10-18T17:42:37.105Z"
   },
   {
    "duration": 472,
    "start_time": "2024-10-18T17:44:38.775Z"
   },
   {
    "duration": 179,
    "start_time": "2024-10-18T17:46:34.282Z"
   },
   {
    "duration": 253,
    "start_time": "2024-10-18T17:47:02.020Z"
   },
   {
    "duration": 126,
    "start_time": "2024-10-18T17:47:20.922Z"
   },
   {
    "duration": 142,
    "start_time": "2024-10-18T17:49:16.195Z"
   },
   {
    "duration": 147,
    "start_time": "2024-10-18T17:49:29.356Z"
   },
   {
    "duration": 171,
    "start_time": "2024-10-18T17:49:36.782Z"
   },
   {
    "duration": 1670,
    "start_time": "2024-10-18T18:00:32.529Z"
   },
   {
    "duration": 156,
    "start_time": "2024-10-18T21:54:16.119Z"
   },
   {
    "duration": 2514,
    "start_time": "2024-10-18T21:54:26.622Z"
   },
   {
    "duration": 135,
    "start_time": "2024-10-18T21:54:29.138Z"
   },
   {
    "duration": 16,
    "start_time": "2024-10-18T21:54:29.275Z"
   },
   {
    "duration": 8,
    "start_time": "2024-10-18T21:54:29.293Z"
   },
   {
    "duration": 12,
    "start_time": "2024-10-18T21:54:29.303Z"
   },
   {
    "duration": 63,
    "start_time": "2024-10-18T21:54:29.316Z"
   },
   {
    "duration": 3,
    "start_time": "2024-10-18T21:54:29.382Z"
   },
   {
    "duration": 6,
    "start_time": "2024-10-18T21:54:29.387Z"
   },
   {
    "duration": 2,
    "start_time": "2024-10-18T21:54:29.395Z"
   },
   {
    "duration": 6,
    "start_time": "2024-10-18T21:54:29.400Z"
   },
   {
    "duration": 11,
    "start_time": "2024-10-18T21:54:29.408Z"
   },
   {
    "duration": 7,
    "start_time": "2024-10-18T21:54:29.420Z"
   },
   {
    "duration": 62,
    "start_time": "2024-10-18T21:54:29.429Z"
   },
   {
    "duration": 3,
    "start_time": "2024-10-18T21:54:29.493Z"
   },
   {
    "duration": 6,
    "start_time": "2024-10-18T21:54:29.498Z"
   },
   {
    "duration": 3,
    "start_time": "2024-10-18T21:54:29.505Z"
   },
   {
    "duration": 4,
    "start_time": "2024-10-18T21:54:29.510Z"
   },
   {
    "duration": 201,
    "start_time": "2024-10-18T21:54:29.516Z"
   },
   {
    "duration": 1401,
    "start_time": "2024-10-18T21:54:29.720Z"
   },
   {
    "duration": 1656,
    "start_time": "2024-10-18T21:55:12.637Z"
   },
   {
    "duration": 1411,
    "start_time": "2024-10-18T21:55:23.676Z"
   },
   {
    "duration": 1444,
    "start_time": "2024-10-18T21:59:12.658Z"
   },
   {
    "duration": 5,
    "start_time": "2024-10-18T22:02:13.391Z"
   },
   {
    "duration": 525,
    "start_time": "2024-10-18T22:02:22.081Z"
   },
   {
    "duration": 14,
    "start_time": "2024-10-18T22:03:00.114Z"
   },
   {
    "duration": 142,
    "start_time": "2024-10-18T22:05:21.184Z"
   },
   {
    "duration": 823,
    "start_time": "2024-10-18T22:05:28.663Z"
   },
   {
    "duration": 104,
    "start_time": "2024-10-18T22:05:29.488Z"
   },
   {
    "duration": 16,
    "start_time": "2024-10-18T22:05:29.594Z"
   },
   {
    "duration": 7,
    "start_time": "2024-10-18T22:05:29.612Z"
   },
   {
    "duration": 11,
    "start_time": "2024-10-18T22:05:29.622Z"
   },
   {
    "duration": 65,
    "start_time": "2024-10-18T22:05:29.634Z"
   },
   {
    "duration": 3,
    "start_time": "2024-10-18T22:05:29.701Z"
   },
   {
    "duration": 6,
    "start_time": "2024-10-18T22:05:29.706Z"
   },
   {
    "duration": 2,
    "start_time": "2024-10-18T22:05:29.714Z"
   },
   {
    "duration": 7,
    "start_time": "2024-10-18T22:05:29.717Z"
   },
   {
    "duration": 11,
    "start_time": "2024-10-18T22:05:29.726Z"
   },
   {
    "duration": 7,
    "start_time": "2024-10-18T22:05:29.769Z"
   },
   {
    "duration": 23,
    "start_time": "2024-10-18T22:05:29.778Z"
   },
   {
    "duration": 3,
    "start_time": "2024-10-18T22:05:29.803Z"
   },
   {
    "duration": 6,
    "start_time": "2024-10-18T22:05:29.808Z"
   },
   {
    "duration": 3,
    "start_time": "2024-10-18T22:05:29.816Z"
   },
   {
    "duration": 5,
    "start_time": "2024-10-18T22:05:29.821Z"
   },
   {
    "duration": 216,
    "start_time": "2024-10-18T22:05:29.827Z"
   },
   {
    "duration": 1460,
    "start_time": "2024-10-18T22:05:30.046Z"
   },
   {
    "duration": 13,
    "start_time": "2024-10-18T22:05:31.508Z"
   },
   {
    "duration": 358,
    "start_time": "2024-10-18T22:05:31.523Z"
   },
   {
    "duration": 143,
    "start_time": "2024-10-18T22:07:00.889Z"
   },
   {
    "duration": 2099,
    "start_time": "2024-10-18T22:07:11.272Z"
   },
   {
    "duration": 14,
    "start_time": "2024-10-18T22:07:55.534Z"
   },
   {
    "duration": 172,
    "start_time": "2024-10-18T22:10:00.847Z"
   },
   {
    "duration": 4,
    "start_time": "2024-10-18T22:15:00.063Z"
   },
   {
    "duration": 15,
    "start_time": "2024-10-18T22:15:12.869Z"
   },
   {
    "duration": 25,
    "start_time": "2024-10-18T22:15:35.412Z"
   },
   {
    "duration": 24,
    "start_time": "2024-10-18T22:16:18.879Z"
   },
   {
    "duration": 4,
    "start_time": "2024-10-18T22:16:36.770Z"
   },
   {
    "duration": 6,
    "start_time": "2024-10-18T22:16:48.107Z"
   },
   {
    "duration": 7,
    "start_time": "2024-10-18T22:17:30.921Z"
   },
   {
    "duration": 6,
    "start_time": "2024-10-18T22:19:17.282Z"
   },
   {
    "duration": 5,
    "start_time": "2024-10-18T22:19:32.053Z"
   },
   {
    "duration": 157,
    "start_time": "2024-10-19T00:56:23.390Z"
   },
   {
    "duration": 2529,
    "start_time": "2024-10-19T00:56:34.833Z"
   },
   {
    "duration": 124,
    "start_time": "2024-10-19T00:56:37.365Z"
   },
   {
    "duration": 15,
    "start_time": "2024-10-19T00:56:37.491Z"
   },
   {
    "duration": 8,
    "start_time": "2024-10-19T00:56:37.508Z"
   },
   {
    "duration": 11,
    "start_time": "2024-10-19T00:56:37.519Z"
   },
   {
    "duration": 65,
    "start_time": "2024-10-19T00:56:37.531Z"
   },
   {
    "duration": 3,
    "start_time": "2024-10-19T00:56:37.598Z"
   },
   {
    "duration": 7,
    "start_time": "2024-10-19T00:56:37.602Z"
   },
   {
    "duration": 2,
    "start_time": "2024-10-19T00:56:37.610Z"
   },
   {
    "duration": 7,
    "start_time": "2024-10-19T00:56:37.614Z"
   },
   {
    "duration": 11,
    "start_time": "2024-10-19T00:56:37.623Z"
   },
   {
    "duration": 39,
    "start_time": "2024-10-19T00:56:37.636Z"
   },
   {
    "duration": 23,
    "start_time": "2024-10-19T00:56:37.677Z"
   },
   {
    "duration": 3,
    "start_time": "2024-10-19T00:56:37.703Z"
   },
   {
    "duration": 6,
    "start_time": "2024-10-19T00:56:37.708Z"
   },
   {
    "duration": 4,
    "start_time": "2024-10-19T00:56:37.715Z"
   },
   {
    "duration": 4,
    "start_time": "2024-10-19T00:56:37.722Z"
   },
   {
    "duration": 208,
    "start_time": "2024-10-19T00:56:37.727Z"
   },
   {
    "duration": 1433,
    "start_time": "2024-10-19T00:56:37.937Z"
   },
   {
    "duration": 18,
    "start_time": "2024-10-19T00:56:39.372Z"
   },
   {
    "duration": 187,
    "start_time": "2024-10-19T00:56:39.392Z"
   },
   {
    "duration": 23,
    "start_time": "2024-10-19T00:56:39.581Z"
   },
   {
    "duration": 5,
    "start_time": "2024-10-19T00:56:39.606Z"
   },
   {
    "duration": 5,
    "start_time": "2024-10-19T00:56:39.613Z"
   },
   {
    "duration": 7,
    "start_time": "2024-10-19T00:56:39.619Z"
   },
   {
    "duration": 14,
    "start_time": "2024-10-19T00:57:49.991Z"
   },
   {
    "duration": 172,
    "start_time": "2024-10-19T00:58:17.416Z"
   },
   {
    "duration": 23,
    "start_time": "2024-10-19T00:58:20.294Z"
   },
   {
    "duration": 7,
    "start_time": "2024-10-19T00:58:21.099Z"
   },
   {
    "duration": 5,
    "start_time": "2024-10-19T00:58:22.587Z"
   },
   {
    "duration": 7,
    "start_time": "2024-10-19T00:58:25.621Z"
   },
   {
    "duration": 18,
    "start_time": "2024-10-19T00:58:51.326Z"
   },
   {
    "duration": 215,
    "start_time": "2024-10-19T00:58:53.615Z"
   },
   {
    "duration": 23,
    "start_time": "2024-10-19T00:58:58.745Z"
   },
   {
    "duration": 7,
    "start_time": "2024-10-19T00:58:59.846Z"
   },
   {
    "duration": 5,
    "start_time": "2024-10-19T00:59:01.439Z"
   },
   {
    "duration": 8,
    "start_time": "2024-10-19T00:59:07.637Z"
   },
   {
    "duration": 807,
    "start_time": "2024-10-19T00:59:19.268Z"
   },
   {
    "duration": 100,
    "start_time": "2024-10-19T00:59:20.078Z"
   },
   {
    "duration": 16,
    "start_time": "2024-10-19T00:59:20.180Z"
   },
   {
    "duration": 9,
    "start_time": "2024-10-19T00:59:20.198Z"
   },
   {
    "duration": 11,
    "start_time": "2024-10-19T00:59:20.210Z"
   },
   {
    "duration": 71,
    "start_time": "2024-10-19T00:59:20.223Z"
   },
   {
    "duration": 3,
    "start_time": "2024-10-19T00:59:20.296Z"
   },
   {
    "duration": 6,
    "start_time": "2024-10-19T00:59:20.301Z"
   },
   {
    "duration": 2,
    "start_time": "2024-10-19T00:59:20.309Z"
   },
   {
    "duration": 6,
    "start_time": "2024-10-19T00:59:20.313Z"
   },
   {
    "duration": 11,
    "start_time": "2024-10-19T00:59:20.321Z"
   },
   {
    "duration": 37,
    "start_time": "2024-10-19T00:59:20.333Z"
   },
   {
    "duration": 23,
    "start_time": "2024-10-19T00:59:20.371Z"
   },
   {
    "duration": 3,
    "start_time": "2024-10-19T00:59:20.397Z"
   },
   {
    "duration": 6,
    "start_time": "2024-10-19T00:59:20.402Z"
   },
   {
    "duration": 4,
    "start_time": "2024-10-19T00:59:20.409Z"
   },
   {
    "duration": 4,
    "start_time": "2024-10-19T00:59:20.415Z"
   },
   {
    "duration": 204,
    "start_time": "2024-10-19T00:59:20.421Z"
   },
   {
    "duration": 1479,
    "start_time": "2024-10-19T00:59:20.627Z"
   },
   {
    "duration": 23,
    "start_time": "2024-10-19T00:59:22.108Z"
   },
   {
    "duration": 189,
    "start_time": "2024-10-19T00:59:22.133Z"
   },
   {
    "duration": 25,
    "start_time": "2024-10-19T00:59:22.325Z"
   },
   {
    "duration": 19,
    "start_time": "2024-10-19T00:59:22.352Z"
   },
   {
    "duration": 4,
    "start_time": "2024-10-19T00:59:22.373Z"
   },
   {
    "duration": 7,
    "start_time": "2024-10-19T00:59:22.379Z"
   },
   {
    "duration": 18,
    "start_time": "2024-10-19T01:02:39.455Z"
   },
   {
    "duration": 814,
    "start_time": "2024-10-19T01:02:48.472Z"
   },
   {
    "duration": 103,
    "start_time": "2024-10-19T01:02:49.288Z"
   },
   {
    "duration": 16,
    "start_time": "2024-10-19T01:02:49.393Z"
   },
   {
    "duration": 8,
    "start_time": "2024-10-19T01:02:49.412Z"
   },
   {
    "duration": 11,
    "start_time": "2024-10-19T01:02:49.422Z"
   },
   {
    "duration": 62,
    "start_time": "2024-10-19T01:02:49.436Z"
   },
   {
    "duration": 4,
    "start_time": "2024-10-19T01:02:49.499Z"
   },
   {
    "duration": 6,
    "start_time": "2024-10-19T01:02:49.504Z"
   },
   {
    "duration": 2,
    "start_time": "2024-10-19T01:02:49.512Z"
   },
   {
    "duration": 6,
    "start_time": "2024-10-19T01:02:49.517Z"
   },
   {
    "duration": 11,
    "start_time": "2024-10-19T01:02:49.525Z"
   },
   {
    "duration": 32,
    "start_time": "2024-10-19T01:02:49.539Z"
   },
   {
    "duration": 22,
    "start_time": "2024-10-19T01:02:49.573Z"
   },
   {
    "duration": 4,
    "start_time": "2024-10-19T01:02:49.597Z"
   },
   {
    "duration": 6,
    "start_time": "2024-10-19T01:02:49.602Z"
   },
   {
    "duration": 3,
    "start_time": "2024-10-19T01:02:49.611Z"
   },
   {
    "duration": 4,
    "start_time": "2024-10-19T01:02:49.615Z"
   },
   {
    "duration": 211,
    "start_time": "2024-10-19T01:02:49.622Z"
   },
   {
    "duration": 1443,
    "start_time": "2024-10-19T01:02:49.835Z"
   },
   {
    "duration": 23,
    "start_time": "2024-10-19T01:02:51.280Z"
   },
   {
    "duration": 180,
    "start_time": "2024-10-19T01:02:51.305Z"
   },
   {
    "duration": 22,
    "start_time": "2024-10-19T01:02:51.487Z"
   },
   {
    "duration": 6,
    "start_time": "2024-10-19T01:02:51.511Z"
   },
   {
    "duration": 4,
    "start_time": "2024-10-19T01:02:51.519Z"
   },
   {
    "duration": 6,
    "start_time": "2024-10-19T01:02:51.525Z"
   },
   {
    "duration": 796,
    "start_time": "2024-10-19T01:03:32.790Z"
   },
   {
    "duration": 101,
    "start_time": "2024-10-19T01:03:33.588Z"
   },
   {
    "duration": 16,
    "start_time": "2024-10-19T01:03:33.690Z"
   },
   {
    "duration": 8,
    "start_time": "2024-10-19T01:03:33.707Z"
   },
   {
    "duration": 12,
    "start_time": "2024-10-19T01:03:33.718Z"
   },
   {
    "duration": 62,
    "start_time": "2024-10-19T01:03:33.731Z"
   },
   {
    "duration": 3,
    "start_time": "2024-10-19T01:03:33.795Z"
   },
   {
    "duration": 6,
    "start_time": "2024-10-19T01:03:33.800Z"
   },
   {
    "duration": 2,
    "start_time": "2024-10-19T01:03:33.808Z"
   },
   {
    "duration": 6,
    "start_time": "2024-10-19T01:03:33.812Z"
   },
   {
    "duration": 11,
    "start_time": "2024-10-19T01:03:33.820Z"
   },
   {
    "duration": 7,
    "start_time": "2024-10-19T01:03:33.832Z"
   },
   {
    "duration": 23,
    "start_time": "2024-10-19T01:03:33.870Z"
   },
   {
    "duration": 3,
    "start_time": "2024-10-19T01:03:33.896Z"
   },
   {
    "duration": 6,
    "start_time": "2024-10-19T01:03:33.901Z"
   },
   {
    "duration": 3,
    "start_time": "2024-10-19T01:03:33.908Z"
   },
   {
    "duration": 4,
    "start_time": "2024-10-19T01:03:33.913Z"
   },
   {
    "duration": 211,
    "start_time": "2024-10-19T01:03:33.918Z"
   },
   {
    "duration": 1456,
    "start_time": "2024-10-19T01:03:34.131Z"
   },
   {
    "duration": 23,
    "start_time": "2024-10-19T01:03:35.589Z"
   },
   {
    "duration": 186,
    "start_time": "2024-10-19T01:03:35.613Z"
   },
   {
    "duration": 24,
    "start_time": "2024-10-19T01:03:35.801Z"
   },
   {
    "duration": 5,
    "start_time": "2024-10-19T01:03:35.827Z"
   },
   {
    "duration": 4,
    "start_time": "2024-10-19T01:03:35.834Z"
   },
   {
    "duration": 7,
    "start_time": "2024-10-19T01:03:35.839Z"
   },
   {
    "duration": 773,
    "start_time": "2024-10-19T01:04:34.423Z"
   },
   {
    "duration": 104,
    "start_time": "2024-10-19T01:04:35.198Z"
   },
   {
    "duration": 16,
    "start_time": "2024-10-19T01:04:35.304Z"
   },
   {
    "duration": 7,
    "start_time": "2024-10-19T01:04:35.322Z"
   },
   {
    "duration": 11,
    "start_time": "2024-10-19T01:04:35.331Z"
   },
   {
    "duration": 61,
    "start_time": "2024-10-19T01:04:35.343Z"
   },
   {
    "duration": 4,
    "start_time": "2024-10-19T01:04:35.406Z"
   },
   {
    "duration": 7,
    "start_time": "2024-10-19T01:04:35.411Z"
   },
   {
    "duration": 2,
    "start_time": "2024-10-19T01:04:35.420Z"
   },
   {
    "duration": 7,
    "start_time": "2024-10-19T01:04:35.426Z"
   },
   {
    "duration": 36,
    "start_time": "2024-10-19T01:04:35.435Z"
   },
   {
    "duration": 7,
    "start_time": "2024-10-19T01:04:35.472Z"
   },
   {
    "duration": 22,
    "start_time": "2024-10-19T01:04:35.481Z"
   },
   {
    "duration": 4,
    "start_time": "2024-10-19T01:04:35.505Z"
   },
   {
    "duration": 5,
    "start_time": "2024-10-19T01:04:35.511Z"
   },
   {
    "duration": 3,
    "start_time": "2024-10-19T01:04:35.518Z"
   },
   {
    "duration": 5,
    "start_time": "2024-10-19T01:04:35.523Z"
   },
   {
    "duration": 219,
    "start_time": "2024-10-19T01:04:35.529Z"
   },
   {
    "duration": 1493,
    "start_time": "2024-10-19T01:04:35.750Z"
   },
   {
    "duration": 25,
    "start_time": "2024-10-19T01:04:37.245Z"
   },
   {
    "duration": 175,
    "start_time": "2024-10-19T01:04:37.272Z"
   },
   {
    "duration": 31,
    "start_time": "2024-10-19T01:04:37.449Z"
   },
   {
    "duration": 7,
    "start_time": "2024-10-19T01:04:37.482Z"
   },
   {
    "duration": 5,
    "start_time": "2024-10-19T01:04:37.490Z"
   },
   {
    "duration": 8,
    "start_time": "2024-10-19T01:04:37.497Z"
   },
   {
    "duration": 15,
    "start_time": "2024-10-19T01:06:49.175Z"
   },
   {
    "duration": 222,
    "start_time": "2024-10-19T01:07:29.809Z"
   },
   {
    "duration": 27,
    "start_time": "2024-10-19T01:07:41.222Z"
   },
   {
    "duration": 2821,
    "start_time": "2024-10-20T21:52:44.813Z"
   },
   {
    "duration": 174,
    "start_time": "2024-10-20T21:52:47.637Z"
   },
   {
    "duration": 17,
    "start_time": "2024-10-20T21:52:47.813Z"
   },
   {
    "duration": 9,
    "start_time": "2024-10-20T21:52:47.832Z"
   },
   {
    "duration": 16,
    "start_time": "2024-10-20T21:52:47.843Z"
   },
   {
    "duration": 73,
    "start_time": "2024-10-20T21:52:47.861Z"
   },
   {
    "duration": 5,
    "start_time": "2024-10-20T21:52:47.940Z"
   },
   {
    "duration": 7,
    "start_time": "2024-10-20T21:52:47.950Z"
   },
   {
    "duration": 2,
    "start_time": "2024-10-20T21:52:47.959Z"
   },
   {
    "duration": 21,
    "start_time": "2024-10-20T21:52:47.965Z"
   },
   {
    "duration": 12,
    "start_time": "2024-10-20T21:52:47.988Z"
   },
   {
    "duration": 7,
    "start_time": "2024-10-20T21:52:48.002Z"
   },
   {
    "duration": 31,
    "start_time": "2024-10-20T21:52:48.012Z"
   },
   {
    "duration": 4,
    "start_time": "2024-10-20T21:52:48.045Z"
   },
   {
    "duration": 36,
    "start_time": "2024-10-20T21:52:48.051Z"
   },
   {
    "duration": 4,
    "start_time": "2024-10-20T21:52:48.089Z"
   },
   {
    "duration": 4,
    "start_time": "2024-10-20T21:52:48.095Z"
   },
   {
    "duration": 214,
    "start_time": "2024-10-20T21:52:48.101Z"
   },
   {
    "duration": 1613,
    "start_time": "2024-10-20T21:52:48.317Z"
   },
   {
    "duration": 20,
    "start_time": "2024-10-20T21:52:49.931Z"
   },
   {
    "duration": 57,
    "start_time": "2024-10-20T21:52:49.953Z"
   },
   {
    "duration": 210,
    "start_time": "2024-10-20T21:52:50.012Z"
   },
   {
    "duration": 29,
    "start_time": "2024-10-20T21:52:50.224Z"
   },
   {
    "duration": 8,
    "start_time": "2024-10-20T21:52:50.255Z"
   },
   {
    "duration": 4,
    "start_time": "2024-10-20T21:52:50.265Z"
   },
   {
    "duration": 9,
    "start_time": "2024-10-20T21:52:50.288Z"
   },
   {
    "duration": 2547,
    "start_time": "2024-10-20T23:05:51.055Z"
   },
   {
    "duration": 132,
    "start_time": "2024-10-20T23:05:53.604Z"
   },
   {
    "duration": 16,
    "start_time": "2024-10-20T23:05:53.738Z"
   },
   {
    "duration": 9,
    "start_time": "2024-10-20T23:05:53.756Z"
   },
   {
    "duration": 12,
    "start_time": "2024-10-20T23:05:53.766Z"
   },
   {
    "duration": 63,
    "start_time": "2024-10-20T23:05:53.780Z"
   },
   {
    "duration": 4,
    "start_time": "2024-10-20T23:05:53.845Z"
   },
   {
    "duration": 7,
    "start_time": "2024-10-20T23:05:53.851Z"
   },
   {
    "duration": 2,
    "start_time": "2024-10-20T23:05:53.860Z"
   },
   {
    "duration": 7,
    "start_time": "2024-10-20T23:05:53.865Z"
   },
   {
    "duration": 12,
    "start_time": "2024-10-20T23:05:53.873Z"
   },
   {
    "duration": 7,
    "start_time": "2024-10-20T23:05:53.887Z"
   },
   {
    "duration": 23,
    "start_time": "2024-10-20T23:05:53.932Z"
   },
   {
    "duration": 3,
    "start_time": "2024-10-20T23:05:53.957Z"
   },
   {
    "duration": 7,
    "start_time": "2024-10-20T23:05:53.962Z"
   },
   {
    "duration": 4,
    "start_time": "2024-10-20T23:05:53.971Z"
   },
   {
    "duration": 5,
    "start_time": "2024-10-20T23:05:53.977Z"
   },
   {
    "duration": 220,
    "start_time": "2024-10-20T23:05:53.985Z"
   },
   {
    "duration": 1414,
    "start_time": "2024-10-20T23:05:54.206Z"
   },
   {
    "duration": 21,
    "start_time": "2024-10-20T23:05:55.622Z"
   },
   {
    "duration": 27,
    "start_time": "2024-10-20T23:05:55.645Z"
   },
   {
    "duration": 192,
    "start_time": "2024-10-20T23:05:55.673Z"
   },
   {
    "duration": 23,
    "start_time": "2024-10-20T23:05:55.867Z"
   },
   {
    "duration": 6,
    "start_time": "2024-10-20T23:05:55.892Z"
   },
   {
    "duration": 5,
    "start_time": "2024-10-20T23:05:55.899Z"
   },
   {
    "duration": 27,
    "start_time": "2024-10-20T23:05:55.906Z"
   },
   {
    "duration": 123,
    "start_time": "2024-10-20T23:06:56.499Z"
   },
   {
    "duration": 4,
    "start_time": "2024-10-20T23:07:38.707Z"
   },
   {
    "duration": 172,
    "start_time": "2024-10-20T23:07:46.452Z"
   },
   {
    "duration": 24,
    "start_time": "2024-10-20T23:07:51.503Z"
   },
   {
    "duration": 6,
    "start_time": "2024-10-20T23:07:52.089Z"
   },
   {
    "duration": 5,
    "start_time": "2024-10-20T23:07:54.735Z"
   },
   {
    "duration": 8,
    "start_time": "2024-10-20T23:08:00.278Z"
   },
   {
    "duration": 14,
    "start_time": "2024-10-20T23:09:07.432Z"
   },
   {
    "duration": 16,
    "start_time": "2024-10-20T23:14:45.752Z"
   },
   {
    "duration": 3,
    "start_time": "2024-10-20T23:14:56.794Z"
   },
   {
    "duration": 218,
    "start_time": "2024-10-20T23:18:23.870Z"
   },
   {
    "duration": 17,
    "start_time": "2024-10-20T23:18:33.073Z"
   },
   {
    "duration": 7,
    "start_time": "2024-10-20T23:25:33.173Z"
   },
   {
    "duration": 39,
    "start_time": "2024-10-20T23:27:00.952Z"
   },
   {
    "duration": 41,
    "start_time": "2024-10-20T23:27:20.492Z"
   },
   {
    "duration": 244,
    "start_time": "2024-10-20T23:44:24.761Z"
   },
   {
    "duration": 5,
    "start_time": "2024-10-20T23:44:55.052Z"
   },
   {
    "duration": 46,
    "start_time": "2024-10-20T23:46:17.277Z"
   },
   {
    "duration": 40,
    "start_time": "2024-10-20T23:53:01.628Z"
   },
   {
    "duration": 47,
    "start_time": "2024-10-20T23:53:49.504Z"
   },
   {
    "duration": 47,
    "start_time": "2024-10-20T23:54:03.403Z"
   },
   {
    "duration": 42,
    "start_time": "2024-10-20T23:54:22.096Z"
   },
   {
    "duration": 41,
    "start_time": "2024-10-20T23:55:58.007Z"
   },
   {
    "duration": 48,
    "start_time": "2024-10-20T23:56:51.134Z"
   },
   {
    "duration": 47,
    "start_time": "2024-10-20T23:57:00.879Z"
   },
   {
    "duration": 48,
    "start_time": "2024-10-20T23:57:43.582Z"
   },
   {
    "duration": 47,
    "start_time": "2024-10-20T23:57:59.496Z"
   },
   {
    "duration": 4,
    "start_time": "2024-10-20T23:58:34.568Z"
   },
   {
    "duration": 56,
    "start_time": "2024-10-20T23:58:44.748Z"
   },
   {
    "duration": 49,
    "start_time": "2024-10-21T00:01:46.711Z"
   },
   {
    "duration": 888,
    "start_time": "2024-10-21T00:02:04.951Z"
   },
   {
    "duration": 104,
    "start_time": "2024-10-21T00:02:05.841Z"
   },
   {
    "duration": 16,
    "start_time": "2024-10-21T00:02:05.947Z"
   },
   {
    "duration": 8,
    "start_time": "2024-10-21T00:02:05.965Z"
   },
   {
    "duration": 11,
    "start_time": "2024-10-21T00:02:05.976Z"
   },
   {
    "duration": 62,
    "start_time": "2024-10-21T00:02:05.988Z"
   },
   {
    "duration": 3,
    "start_time": "2024-10-21T00:02:06.052Z"
   },
   {
    "duration": 7,
    "start_time": "2024-10-21T00:02:06.057Z"
   },
   {
    "duration": 2,
    "start_time": "2024-10-21T00:02:06.065Z"
   },
   {
    "duration": 7,
    "start_time": "2024-10-21T00:02:06.069Z"
   },
   {
    "duration": 11,
    "start_time": "2024-10-21T00:02:06.078Z"
   },
   {
    "duration": 7,
    "start_time": "2024-10-21T00:02:06.090Z"
   },
   {
    "duration": 26,
    "start_time": "2024-10-21T00:02:06.132Z"
   },
   {
    "duration": 4,
    "start_time": "2024-10-21T00:02:06.161Z"
   },
   {
    "duration": 7,
    "start_time": "2024-10-21T00:02:06.166Z"
   },
   {
    "duration": 4,
    "start_time": "2024-10-21T00:02:06.174Z"
   },
   {
    "duration": 4,
    "start_time": "2024-10-21T00:02:06.180Z"
   },
   {
    "duration": 212,
    "start_time": "2024-10-21T00:02:06.185Z"
   },
   {
    "duration": 1526,
    "start_time": "2024-10-21T00:02:06.399Z"
   },
   {
    "duration": 20,
    "start_time": "2024-10-21T00:02:07.931Z"
   },
   {
    "duration": 7,
    "start_time": "2024-10-21T00:02:07.953Z"
   },
   {
    "duration": 199,
    "start_time": "2024-10-21T00:02:07.961Z"
   },
   {
    "duration": 24,
    "start_time": "2024-10-21T00:02:08.163Z"
   },
   {
    "duration": 6,
    "start_time": "2024-10-21T00:02:08.189Z"
   },
   {
    "duration": 4,
    "start_time": "2024-10-21T00:02:08.197Z"
   },
   {
    "duration": 35,
    "start_time": "2024-10-21T00:02:08.203Z"
   },
   {
    "duration": 15,
    "start_time": "2024-10-21T00:02:08.240Z"
   },
   {
    "duration": 17,
    "start_time": "2024-10-21T00:02:08.256Z"
   },
   {
    "duration": 5,
    "start_time": "2024-10-21T00:02:08.275Z"
   },
   {
    "duration": 194,
    "start_time": "2024-10-21T00:02:08.281Z"
   },
   {
    "duration": 49,
    "start_time": "2024-10-21T00:03:28.974Z"
   },
   {
    "duration": 42,
    "start_time": "2024-10-21T00:03:46.844Z"
   },
   {
    "duration": 40,
    "start_time": "2024-10-21T00:05:33.792Z"
   },
   {
    "duration": 38,
    "start_time": "2024-10-21T00:08:06.688Z"
   },
   {
    "duration": 5,
    "start_time": "2024-10-21T00:09:26.450Z"
   },
   {
    "duration": 40,
    "start_time": "2024-10-21T00:09:55.588Z"
   },
   {
    "duration": 11,
    "start_time": "2024-10-21T00:18:54.171Z"
   },
   {
    "duration": 7,
    "start_time": "2024-10-21T00:19:14.815Z"
   },
   {
    "duration": 42,
    "start_time": "2024-10-21T00:20:52.568Z"
   },
   {
    "duration": 40,
    "start_time": "2024-10-21T00:22:22.924Z"
   },
   {
    "duration": 7,
    "start_time": "2024-10-21T00:22:29.574Z"
   },
   {
    "duration": 9,
    "start_time": "2024-10-21T00:22:53.977Z"
   },
   {
    "duration": 7,
    "start_time": "2024-10-21T00:27:44.898Z"
   },
   {
    "duration": 6,
    "start_time": "2024-10-21T00:28:38.591Z"
   },
   {
    "duration": 103,
    "start_time": "2024-10-21T00:41:15.393Z"
   },
   {
    "duration": 40,
    "start_time": "2024-10-21T00:41:42.834Z"
   },
   {
    "duration": 44,
    "start_time": "2024-10-21T00:42:58.649Z"
   },
   {
    "duration": 5,
    "start_time": "2024-10-21T01:06:53.845Z"
   },
   {
    "duration": 446,
    "start_time": "2024-10-21T01:07:03.604Z"
   },
   {
    "duration": 6,
    "start_time": "2024-10-21T01:19:15.329Z"
   },
   {
    "duration": 5,
    "start_time": "2024-10-21T01:25:46.795Z"
   },
   {
    "duration": 3,
    "start_time": "2024-10-21T01:27:10.357Z"
   },
   {
    "duration": 3,
    "start_time": "2024-10-21T01:37:55.390Z"
   },
   {
    "duration": 4,
    "start_time": "2024-10-21T01:38:08.689Z"
   },
   {
    "duration": 3,
    "start_time": "2024-10-21T01:39:54.319Z"
   },
   {
    "duration": 3,
    "start_time": "2024-10-21T01:40:04.663Z"
   },
   {
    "duration": 4,
    "start_time": "2024-10-21T01:43:15.028Z"
   },
   {
    "duration": 3,
    "start_time": "2024-10-21T01:43:27.895Z"
   },
   {
    "duration": 5,
    "start_time": "2024-10-21T01:45:40.521Z"
   },
   {
    "duration": 14,
    "start_time": "2024-10-21T01:48:08.383Z"
   },
   {
    "duration": 7,
    "start_time": "2024-10-21T01:48:24.605Z"
   },
   {
    "duration": 3,
    "start_time": "2024-10-21T02:21:01.107Z"
   },
   {
    "duration": 3,
    "start_time": "2024-10-21T02:25:53.184Z"
   },
   {
    "duration": 3,
    "start_time": "2024-10-21T02:26:25.557Z"
   },
   {
    "duration": 4,
    "start_time": "2024-10-21T02:26:27.393Z"
   },
   {
    "duration": 4,
    "start_time": "2024-10-21T02:27:24.345Z"
   },
   {
    "duration": 4,
    "start_time": "2024-10-21T02:27:49.964Z"
   },
   {
    "duration": 4,
    "start_time": "2024-10-21T02:27:57.635Z"
   },
   {
    "duration": 5,
    "start_time": "2024-10-21T02:27:58.334Z"
   },
   {
    "duration": 4,
    "start_time": "2024-10-21T02:28:25.444Z"
   },
   {
    "duration": 4,
    "start_time": "2024-10-21T02:28:27.095Z"
   },
   {
    "duration": 4,
    "start_time": "2024-10-21T02:28:30.229Z"
   },
   {
    "duration": 14,
    "start_time": "2024-10-21T02:28:40.781Z"
   },
   {
    "duration": 3,
    "start_time": "2024-10-21T02:30:56.719Z"
   },
   {
    "duration": 3,
    "start_time": "2024-10-21T02:31:29.678Z"
   },
   {
    "duration": 4,
    "start_time": "2024-10-21T02:31:30.455Z"
   },
   {
    "duration": 13,
    "start_time": "2024-10-21T02:31:32.447Z"
   },
   {
    "duration": 834,
    "start_time": "2024-10-21T02:32:10.027Z"
   },
   {
    "duration": 106,
    "start_time": "2024-10-21T02:32:10.864Z"
   },
   {
    "duration": 17,
    "start_time": "2024-10-21T02:32:10.971Z"
   },
   {
    "duration": 8,
    "start_time": "2024-10-21T02:32:10.990Z"
   },
   {
    "duration": 11,
    "start_time": "2024-10-21T02:32:10.999Z"
   },
   {
    "duration": 59,
    "start_time": "2024-10-21T02:32:11.012Z"
   },
   {
    "duration": 3,
    "start_time": "2024-10-21T02:32:11.073Z"
   },
   {
    "duration": 6,
    "start_time": "2024-10-21T02:32:11.078Z"
   },
   {
    "duration": 2,
    "start_time": "2024-10-21T02:32:11.086Z"
   },
   {
    "duration": 7,
    "start_time": "2024-10-21T02:32:11.091Z"
   },
   {
    "duration": 40,
    "start_time": "2024-10-21T02:32:11.099Z"
   },
   {
    "duration": 7,
    "start_time": "2024-10-21T02:32:11.141Z"
   },
   {
    "duration": 24,
    "start_time": "2024-10-21T02:32:11.150Z"
   },
   {
    "duration": 4,
    "start_time": "2024-10-21T02:32:11.176Z"
   },
   {
    "duration": 6,
    "start_time": "2024-10-21T02:32:11.182Z"
   },
   {
    "duration": 3,
    "start_time": "2024-10-21T02:32:11.189Z"
   },
   {
    "duration": 37,
    "start_time": "2024-10-21T02:32:11.194Z"
   },
   {
    "duration": 184,
    "start_time": "2024-10-21T02:32:11.233Z"
   },
   {
    "duration": 1466,
    "start_time": "2024-10-21T02:32:11.420Z"
   },
   {
    "duration": 16,
    "start_time": "2024-10-21T02:32:12.888Z"
   },
   {
    "duration": 6,
    "start_time": "2024-10-21T02:32:12.906Z"
   },
   {
    "duration": 185,
    "start_time": "2024-10-21T02:32:12.913Z"
   },
   {
    "duration": 32,
    "start_time": "2024-10-21T02:32:13.100Z"
   },
   {
    "duration": 5,
    "start_time": "2024-10-21T02:32:13.134Z"
   },
   {
    "duration": 4,
    "start_time": "2024-10-21T02:32:13.141Z"
   },
   {
    "duration": 7,
    "start_time": "2024-10-21T02:32:13.147Z"
   },
   {
    "duration": 16,
    "start_time": "2024-10-21T02:32:13.156Z"
   },
   {
    "duration": 18,
    "start_time": "2024-10-21T02:32:13.177Z"
   },
   {
    "duration": 37,
    "start_time": "2024-10-21T02:32:13.197Z"
   },
   {
    "duration": 42,
    "start_time": "2024-10-21T02:32:13.235Z"
   },
   {
    "duration": 9,
    "start_time": "2024-10-21T02:32:13.278Z"
   },
   {
    "duration": 6,
    "start_time": "2024-10-21T02:32:13.288Z"
   },
   {
    "duration": 66,
    "start_time": "2024-10-21T02:32:13.296Z"
   },
   {
    "duration": 6,
    "start_time": "2024-10-21T02:32:13.364Z"
   },
   {
    "duration": 5,
    "start_time": "2024-10-21T02:32:13.371Z"
   },
   {
    "duration": 5,
    "start_time": "2024-10-21T02:32:13.378Z"
   },
   {
    "duration": 3,
    "start_time": "2024-10-21T02:32:13.385Z"
   },
   {
    "duration": 6,
    "start_time": "2024-10-21T02:32:13.390Z"
   },
   {
    "duration": 35,
    "start_time": "2024-10-21T02:32:13.397Z"
   },
   {
    "duration": 3,
    "start_time": "2024-10-21T02:32:13.434Z"
   },
   {
    "duration": 5,
    "start_time": "2024-10-21T02:32:13.438Z"
   },
   {
    "duration": 236,
    "start_time": "2024-10-21T02:32:13.444Z"
   },
   {
    "duration": 0,
    "start_time": "2024-10-21T02:32:13.682Z"
   },
   {
    "duration": 13,
    "start_time": "2024-10-21T02:32:53.861Z"
   },
   {
    "duration": 6,
    "start_time": "2024-10-21T02:33:11.799Z"
   },
   {
    "duration": 5,
    "start_time": "2024-10-21T03:08:35.457Z"
   },
   {
    "duration": 3,
    "start_time": "2024-10-21T03:19:34.513Z"
   },
   {
    "duration": 3,
    "start_time": "2024-10-21T03:21:08.571Z"
   },
   {
    "duration": 3,
    "start_time": "2024-10-21T03:21:21.998Z"
   },
   {
    "duration": 3,
    "start_time": "2024-10-21T03:21:45.554Z"
   },
   {
    "duration": 4,
    "start_time": "2024-10-21T03:22:38.469Z"
   },
   {
    "duration": 6,
    "start_time": "2024-10-21T03:23:01.646Z"
   },
   {
    "duration": 4,
    "start_time": "2024-10-21T03:24:10.376Z"
   },
   {
    "duration": 5,
    "start_time": "2024-10-21T03:24:25.258Z"
   },
   {
    "duration": 5,
    "start_time": "2024-10-21T03:25:59.784Z"
   },
   {
    "duration": 4,
    "start_time": "2024-10-21T03:26:13.888Z"
   },
   {
    "duration": 16,
    "start_time": "2024-10-21T03:34:13.657Z"
   },
   {
    "duration": 14,
    "start_time": "2024-10-21T03:36:54.034Z"
   },
   {
    "duration": 16,
    "start_time": "2024-10-21T03:37:26.447Z"
   },
   {
    "duration": 15,
    "start_time": "2024-10-21T03:37:33.548Z"
   },
   {
    "duration": 15,
    "start_time": "2024-10-21T03:38:33.541Z"
   },
   {
    "duration": 97,
    "start_time": "2024-10-21T03:39:17.069Z"
   },
   {
    "duration": 4,
    "start_time": "2024-10-21T03:39:41.125Z"
   },
   {
    "duration": 92,
    "start_time": "2024-10-21T03:39:42.395Z"
   },
   {
    "duration": 95,
    "start_time": "2024-10-21T03:40:12.023Z"
   },
   {
    "duration": 86,
    "start_time": "2024-10-21T03:41:15.175Z"
   },
   {
    "duration": 5,
    "start_time": "2024-10-21T03:49:15.344Z"
   },
   {
    "duration": 79,
    "start_time": "2024-10-21T03:49:42.754Z"
   },
   {
    "duration": 5,
    "start_time": "2024-10-21T03:58:02.033Z"
   },
   {
    "duration": 84,
    "start_time": "2024-10-21T03:58:03.751Z"
   },
   {
    "duration": 4,
    "start_time": "2024-10-21T03:58:51.595Z"
   },
   {
    "duration": 6,
    "start_time": "2024-10-21T04:02:48.232Z"
   },
   {
    "duration": 105,
    "start_time": "2024-10-21T04:03:13.206Z"
   },
   {
    "duration": 6,
    "start_time": "2024-10-21T04:06:49.761Z"
   },
   {
    "duration": 83,
    "start_time": "2024-10-21T04:06:53.549Z"
   },
   {
    "duration": 4,
    "start_time": "2024-10-21T04:07:54.282Z"
   },
   {
    "duration": 84,
    "start_time": "2024-10-21T04:07:56.250Z"
   },
   {
    "duration": 4,
    "start_time": "2024-10-21T04:18:46.429Z"
   },
   {
    "duration": 93,
    "start_time": "2024-10-21T04:18:50.737Z"
   },
   {
    "duration": 5,
    "start_time": "2024-10-21T04:21:37.174Z"
   },
   {
    "duration": 99,
    "start_time": "2024-10-21T04:21:38.043Z"
   },
   {
    "duration": 5,
    "start_time": "2024-10-21T04:27:07.737Z"
   },
   {
    "duration": 95,
    "start_time": "2024-10-21T04:27:11.250Z"
   },
   {
    "duration": 98,
    "start_time": "2024-10-21T04:27:50.387Z"
   },
   {
    "duration": 83,
    "start_time": "2024-10-21T04:30:26.899Z"
   },
   {
    "duration": 4,
    "start_time": "2024-10-21T04:31:13.895Z"
   },
   {
    "duration": 87,
    "start_time": "2024-10-21T04:31:16.099Z"
   },
   {
    "duration": 87,
    "start_time": "2024-10-21T04:36:27.945Z"
   },
   {
    "duration": 85,
    "start_time": "2024-10-21T04:36:28.881Z"
   },
   {
    "duration": 5,
    "start_time": "2024-10-21T04:37:27.113Z"
   },
   {
    "duration": 5,
    "start_time": "2024-10-21T04:43:49.022Z"
   },
   {
    "duration": 5,
    "start_time": "2024-10-21T04:43:59.322Z"
   },
   {
    "duration": 95,
    "start_time": "2024-10-21T04:44:53.109Z"
   },
   {
    "duration": 123,
    "start_time": "2024-10-21T04:44:56.927Z"
   },
   {
    "duration": 124,
    "start_time": "2024-10-21T04:45:17.869Z"
   },
   {
    "duration": 118,
    "start_time": "2024-10-21T04:45:56.511Z"
   },
   {
    "duration": 117,
    "start_time": "2024-10-21T04:46:26.010Z"
   },
   {
    "duration": 94,
    "start_time": "2024-10-21T04:47:01.620Z"
   },
   {
    "duration": 90,
    "start_time": "2024-10-21T04:47:03.018Z"
   },
   {
    "duration": 93,
    "start_time": "2024-10-21T04:54:15.837Z"
   },
   {
    "duration": 88,
    "start_time": "2024-10-21T04:54:16.929Z"
   },
   {
    "duration": 814,
    "start_time": "2024-10-21T04:54:35.150Z"
   },
   {
    "duration": 107,
    "start_time": "2024-10-21T04:54:35.966Z"
   },
   {
    "duration": 16,
    "start_time": "2024-10-21T04:54:36.075Z"
   },
   {
    "duration": 8,
    "start_time": "2024-10-21T04:54:36.092Z"
   },
   {
    "duration": 31,
    "start_time": "2024-10-21T04:54:36.102Z"
   },
   {
    "duration": 43,
    "start_time": "2024-10-21T04:54:36.135Z"
   },
   {
    "duration": 3,
    "start_time": "2024-10-21T04:54:36.180Z"
   },
   {
    "duration": 7,
    "start_time": "2024-10-21T04:54:36.185Z"
   },
   {
    "duration": 2,
    "start_time": "2024-10-21T04:54:36.193Z"
   },
   {
    "duration": 7,
    "start_time": "2024-10-21T04:54:36.197Z"
   },
   {
    "duration": 12,
    "start_time": "2024-10-21T04:54:36.231Z"
   },
   {
    "duration": 7,
    "start_time": "2024-10-21T04:54:36.244Z"
   },
   {
    "duration": 24,
    "start_time": "2024-10-21T04:54:36.252Z"
   },
   {
    "duration": 3,
    "start_time": "2024-10-21T04:54:36.280Z"
   },
   {
    "duration": 6,
    "start_time": "2024-10-21T04:54:36.285Z"
   },
   {
    "duration": 3,
    "start_time": "2024-10-21T04:54:36.293Z"
   },
   {
    "duration": 24,
    "start_time": "2024-10-21T04:54:36.298Z"
   },
   {
    "duration": 189,
    "start_time": "2024-10-21T04:54:36.332Z"
   },
   {
    "duration": 1468,
    "start_time": "2024-10-21T04:54:36.523Z"
   },
   {
    "duration": 16,
    "start_time": "2024-10-21T04:54:37.993Z"
   },
   {
    "duration": 23,
    "start_time": "2024-10-21T04:54:38.011Z"
   },
   {
    "duration": 180,
    "start_time": "2024-10-21T04:54:38.036Z"
   },
   {
    "duration": 29,
    "start_time": "2024-10-21T04:54:38.218Z"
   },
   {
    "duration": 6,
    "start_time": "2024-10-21T04:54:38.249Z"
   },
   {
    "duration": 5,
    "start_time": "2024-10-21T04:54:38.256Z"
   },
   {
    "duration": 8,
    "start_time": "2024-10-21T04:54:38.263Z"
   },
   {
    "duration": 14,
    "start_time": "2024-10-21T04:54:38.273Z"
   },
   {
    "duration": 46,
    "start_time": "2024-10-21T04:54:38.289Z"
   },
   {
    "duration": 4,
    "start_time": "2024-10-21T04:54:38.337Z"
   },
   {
    "duration": 41,
    "start_time": "2024-10-21T04:54:38.343Z"
   },
   {
    "duration": 8,
    "start_time": "2024-10-21T04:54:38.385Z"
   },
   {
    "duration": 6,
    "start_time": "2024-10-21T04:54:38.395Z"
   },
   {
    "duration": 72,
    "start_time": "2024-10-21T04:54:38.402Z"
   },
   {
    "duration": 5,
    "start_time": "2024-10-21T04:54:38.476Z"
   },
   {
    "duration": 4,
    "start_time": "2024-10-21T04:54:38.482Z"
   },
   {
    "duration": 3,
    "start_time": "2024-10-21T04:54:38.489Z"
   },
   {
    "duration": 3,
    "start_time": "2024-10-21T04:54:38.494Z"
   },
   {
    "duration": 5,
    "start_time": "2024-10-21T04:54:38.498Z"
   },
   {
    "duration": 32,
    "start_time": "2024-10-21T04:54:38.504Z"
   },
   {
    "duration": 3,
    "start_time": "2024-10-21T04:54:38.537Z"
   },
   {
    "duration": 5,
    "start_time": "2024-10-21T04:54:38.545Z"
   },
   {
    "duration": 108,
    "start_time": "2024-10-21T04:54:38.552Z"
   },
   {
    "duration": 92,
    "start_time": "2024-10-21T04:54:38.662Z"
   },
   {
    "duration": 228,
    "start_time": "2024-10-21T04:54:38.756Z"
   },
   {
    "duration": 90,
    "start_time": "2024-10-21T04:57:05.246Z"
   },
   {
    "duration": 82,
    "start_time": "2024-10-21T04:57:08.938Z"
   },
   {
    "duration": 96,
    "start_time": "2024-10-21T05:08:18.862Z"
   },
   {
    "duration": 97,
    "start_time": "2024-10-21T05:08:22.510Z"
   },
   {
    "duration": 96,
    "start_time": "2024-10-21T05:17:31.368Z"
   },
   {
    "duration": 84,
    "start_time": "2024-10-21T05:17:32.498Z"
   },
   {
    "duration": 117,
    "start_time": "2024-10-21T05:19:10.749Z"
   },
   {
    "duration": 86,
    "start_time": "2024-10-21T05:19:27.694Z"
   },
   {
    "duration": 93,
    "start_time": "2024-10-21T05:25:12.733Z"
   },
   {
    "duration": 89,
    "start_time": "2024-10-21T05:25:13.768Z"
   },
   {
    "duration": 20,
    "start_time": "2024-10-21T05:29:40.222Z"
   },
   {
    "duration": 88,
    "start_time": "2024-10-21T05:29:51.973Z"
   },
   {
    "duration": 5,
    "start_time": "2024-10-21T05:33:21.719Z"
   },
   {
    "duration": 90,
    "start_time": "2024-10-21T05:34:08.263Z"
   },
   {
    "duration": 85,
    "start_time": "2024-10-21T05:35:19.176Z"
   },
   {
    "duration": 86,
    "start_time": "2024-10-21T05:41:23.402Z"
   },
   {
    "duration": 4,
    "start_time": "2024-10-21T05:57:57.545Z"
   },
   {
    "duration": 754,
    "start_time": "2024-10-21T06:05:26.300Z"
   },
   {
    "duration": 104,
    "start_time": "2024-10-21T06:05:27.056Z"
   },
   {
    "duration": 15,
    "start_time": "2024-10-21T06:05:27.162Z"
   },
   {
    "duration": 8,
    "start_time": "2024-10-21T06:05:27.181Z"
   },
   {
    "duration": 11,
    "start_time": "2024-10-21T06:05:27.190Z"
   },
   {
    "duration": 58,
    "start_time": "2024-10-21T06:05:27.203Z"
   },
   {
    "duration": 3,
    "start_time": "2024-10-21T06:05:27.263Z"
   },
   {
    "duration": 6,
    "start_time": "2024-10-21T06:05:27.268Z"
   },
   {
    "duration": 2,
    "start_time": "2024-10-21T06:05:27.276Z"
   },
   {
    "duration": 6,
    "start_time": "2024-10-21T06:05:27.281Z"
   },
   {
    "duration": 43,
    "start_time": "2024-10-21T06:05:27.289Z"
   },
   {
    "duration": 7,
    "start_time": "2024-10-21T06:05:27.333Z"
   },
   {
    "duration": 23,
    "start_time": "2024-10-21T06:05:27.342Z"
   },
   {
    "duration": 3,
    "start_time": "2024-10-21T06:05:27.366Z"
   },
   {
    "duration": 6,
    "start_time": "2024-10-21T06:05:27.372Z"
   },
   {
    "duration": 3,
    "start_time": "2024-10-21T06:05:27.379Z"
   },
   {
    "duration": 4,
    "start_time": "2024-10-21T06:05:27.384Z"
   },
   {
    "duration": 211,
    "start_time": "2024-10-21T06:05:27.389Z"
   },
   {
    "duration": 1518,
    "start_time": "2024-10-21T06:05:27.602Z"
   },
   {
    "duration": 18,
    "start_time": "2024-10-21T06:05:29.122Z"
   },
   {
    "duration": 6,
    "start_time": "2024-10-21T06:05:29.142Z"
   },
   {
    "duration": 182,
    "start_time": "2024-10-21T06:05:29.150Z"
   },
   {
    "duration": 23,
    "start_time": "2024-10-21T06:05:29.334Z"
   },
   {
    "duration": 6,
    "start_time": "2024-10-21T06:05:29.359Z"
   },
   {
    "duration": 14,
    "start_time": "2024-10-21T06:05:29.367Z"
   },
   {
    "duration": 6,
    "start_time": "2024-10-21T06:05:29.384Z"
   },
   {
    "duration": 40,
    "start_time": "2024-10-21T06:05:29.392Z"
   },
   {
    "duration": 16,
    "start_time": "2024-10-21T06:05:29.437Z"
   },
   {
    "duration": 4,
    "start_time": "2024-10-21T06:05:29.455Z"
   },
   {
    "duration": 41,
    "start_time": "2024-10-21T06:05:29.461Z"
   },
   {
    "duration": 29,
    "start_time": "2024-10-21T06:05:29.504Z"
   },
   {
    "duration": 6,
    "start_time": "2024-10-21T06:05:29.534Z"
   },
   {
    "duration": 43,
    "start_time": "2024-10-21T06:05:29.541Z"
   },
   {
    "duration": 6,
    "start_time": "2024-10-21T06:05:29.586Z"
   },
   {
    "duration": 4,
    "start_time": "2024-10-21T06:05:29.593Z"
   },
   {
    "duration": 34,
    "start_time": "2024-10-21T06:05:29.599Z"
   },
   {
    "duration": 3,
    "start_time": "2024-10-21T06:05:29.635Z"
   },
   {
    "duration": 5,
    "start_time": "2024-10-21T06:05:29.640Z"
   },
   {
    "duration": 7,
    "start_time": "2024-10-21T06:05:29.646Z"
   },
   {
    "duration": 3,
    "start_time": "2024-10-21T06:05:29.655Z"
   },
   {
    "duration": 5,
    "start_time": "2024-10-21T06:05:29.659Z"
   },
   {
    "duration": 5,
    "start_time": "2024-10-21T06:05:29.666Z"
   },
   {
    "duration": 0,
    "start_time": "2024-10-21T06:05:29.673Z"
   },
   {
    "duration": 0,
    "start_time": "2024-10-21T06:05:29.674Z"
   },
   {
    "duration": 315,
    "start_time": "2024-10-21T06:08:25.754Z"
   },
   {
    "duration": 146,
    "start_time": "2024-10-21T06:10:04.502Z"
   },
   {
    "duration": 152,
    "start_time": "2024-10-21T06:10:28.717Z"
   },
   {
    "duration": 7504,
    "start_time": "2024-10-21T06:10:46.592Z"
   },
   {
    "duration": 7464,
    "start_time": "2024-10-21T06:21:15.614Z"
   },
   {
    "duration": 10,
    "start_time": "2024-10-21T06:30:58.717Z"
   },
   {
    "duration": 701,
    "start_time": "2024-10-21T06:31:37.706Z"
   },
   {
    "duration": 7489,
    "start_time": "2024-10-21T06:32:14.398Z"
   },
   {
    "duration": 9,
    "start_time": "2024-10-21T06:44:41.362Z"
   },
   {
    "duration": 661,
    "start_time": "2024-10-21T06:45:06.862Z"
   },
   {
    "duration": 654,
    "start_time": "2024-10-21T06:45:30.052Z"
   },
   {
    "duration": 7469,
    "start_time": "2024-10-21T06:45:54.822Z"
   },
   {
    "duration": 3,
    "start_time": "2024-10-21T06:47:45.293Z"
   },
   {
    "duration": 4,
    "start_time": "2024-10-21T06:48:05.819Z"
   },
   {
    "duration": 13,
    "start_time": "2024-10-21T06:48:15.424Z"
   },
   {
    "duration": 5,
    "start_time": "2024-10-21T06:48:21.502Z"
   },
   {
    "duration": 658,
    "start_time": "2024-10-21T06:51:11.056Z"
   },
   {
    "duration": 6,
    "start_time": "2024-10-21T06:52:29.394Z"
   },
   {
    "duration": 8,
    "start_time": "2024-10-21T06:54:40.812Z"
   },
   {
    "duration": 4,
    "start_time": "2024-10-21T06:55:12.432Z"
   },
   {
    "duration": 7,
    "start_time": "2024-10-21T06:55:26.374Z"
   },
   {
    "duration": 5,
    "start_time": "2024-10-21T06:57:23.758Z"
   },
   {
    "duration": 4,
    "start_time": "2024-10-21T06:58:32.553Z"
   },
   {
    "duration": 5,
    "start_time": "2024-10-21T06:59:03.152Z"
   },
   {
    "duration": 7,
    "start_time": "2024-10-21T06:59:50.969Z"
   },
   {
    "duration": 6,
    "start_time": "2024-10-21T07:00:09.712Z"
   },
   {
    "duration": 7,
    "start_time": "2024-10-21T07:01:01.521Z"
   },
   {
    "duration": 6,
    "start_time": "2024-10-21T07:01:10.387Z"
   },
   {
    "duration": 6,
    "start_time": "2024-10-21T07:01:18.067Z"
   },
   {
    "duration": 7502,
    "start_time": "2024-10-21T07:01:49.980Z"
   },
   {
    "duration": 7,
    "start_time": "2024-10-21T07:32:59.509Z"
   },
   {
    "duration": 6,
    "start_time": "2024-10-21T07:36:15.561Z"
   },
   {
    "duration": 6,
    "start_time": "2024-10-21T07:38:13.835Z"
   },
   {
    "duration": 4,
    "start_time": "2024-10-21T07:38:50.712Z"
   },
   {
    "duration": 13,
    "start_time": "2024-10-21T07:38:52.476Z"
   },
   {
    "duration": 54,
    "start_time": "2024-10-21T07:39:13.622Z"
   },
   {
    "duration": 4,
    "start_time": "2024-10-21T07:39:28.514Z"
   },
   {
    "duration": 120,
    "start_time": "2024-10-21T07:39:30.973Z"
   },
   {
    "duration": 4,
    "start_time": "2024-10-21T07:40:15.652Z"
   },
   {
    "duration": 130,
    "start_time": "2024-10-21T07:40:16.872Z"
   },
   {
    "duration": 874,
    "start_time": "2024-10-21T07:41:12.004Z"
   },
   {
    "duration": 106,
    "start_time": "2024-10-21T07:41:12.880Z"
   },
   {
    "duration": 17,
    "start_time": "2024-10-21T07:41:12.989Z"
   },
   {
    "duration": 9,
    "start_time": "2024-10-21T07:41:13.009Z"
   },
   {
    "duration": 12,
    "start_time": "2024-10-21T07:41:13.031Z"
   },
   {
    "duration": 45,
    "start_time": "2024-10-21T07:41:13.045Z"
   },
   {
    "duration": 3,
    "start_time": "2024-10-21T07:41:13.092Z"
   },
   {
    "duration": 34,
    "start_time": "2024-10-21T07:41:13.097Z"
   },
   {
    "duration": 3,
    "start_time": "2024-10-21T07:41:13.133Z"
   },
   {
    "duration": 8,
    "start_time": "2024-10-21T07:41:13.140Z"
   },
   {
    "duration": 12,
    "start_time": "2024-10-21T07:41:13.150Z"
   },
   {
    "duration": 7,
    "start_time": "2024-10-21T07:41:13.164Z"
   },
   {
    "duration": 58,
    "start_time": "2024-10-21T07:41:13.173Z"
   },
   {
    "duration": 4,
    "start_time": "2024-10-21T07:41:13.233Z"
   },
   {
    "duration": 7,
    "start_time": "2024-10-21T07:41:13.239Z"
   },
   {
    "duration": 3,
    "start_time": "2024-10-21T07:41:13.248Z"
   },
   {
    "duration": 5,
    "start_time": "2024-10-21T07:41:13.252Z"
   },
   {
    "duration": 218,
    "start_time": "2024-10-21T07:41:13.259Z"
   },
   {
    "duration": 1562,
    "start_time": "2024-10-21T07:41:13.480Z"
   },
   {
    "duration": 16,
    "start_time": "2024-10-21T07:41:15.046Z"
   },
   {
    "duration": 6,
    "start_time": "2024-10-21T07:41:15.064Z"
   },
   {
    "duration": 208,
    "start_time": "2024-10-21T07:41:15.071Z"
   },
   {
    "duration": 25,
    "start_time": "2024-10-21T07:41:15.281Z"
   },
   {
    "duration": 6,
    "start_time": "2024-10-21T07:41:15.308Z"
   },
   {
    "duration": 6,
    "start_time": "2024-10-21T07:41:15.332Z"
   },
   {
    "duration": 8,
    "start_time": "2024-10-21T07:41:15.342Z"
   },
   {
    "duration": 21,
    "start_time": "2024-10-21T07:41:15.351Z"
   },
   {
    "duration": 22,
    "start_time": "2024-10-21T07:41:15.377Z"
   },
   {
    "duration": 5,
    "start_time": "2024-10-21T07:41:15.401Z"
   },
   {
    "duration": 58,
    "start_time": "2024-10-21T07:41:15.432Z"
   },
   {
    "duration": 10,
    "start_time": "2024-10-21T07:41:15.492Z"
   },
   {
    "duration": 28,
    "start_time": "2024-10-21T07:41:15.504Z"
   },
   {
    "duration": 50,
    "start_time": "2024-10-21T07:41:15.535Z"
   },
   {
    "duration": 5,
    "start_time": "2024-10-21T07:41:15.587Z"
   },
   {
    "duration": 5,
    "start_time": "2024-10-21T07:41:15.595Z"
   },
   {
    "duration": 3,
    "start_time": "2024-10-21T07:41:15.602Z"
   },
   {
    "duration": 26,
    "start_time": "2024-10-21T07:41:15.607Z"
   },
   {
    "duration": 5,
    "start_time": "2024-10-21T07:41:15.635Z"
   },
   {
    "duration": 8,
    "start_time": "2024-10-21T07:41:15.642Z"
   },
   {
    "duration": 3,
    "start_time": "2024-10-21T07:41:15.652Z"
   },
   {
    "duration": 7,
    "start_time": "2024-10-21T07:41:15.657Z"
   },
   {
    "duration": 4,
    "start_time": "2024-10-21T07:41:15.666Z"
   },
   {
    "duration": 5,
    "start_time": "2024-10-21T07:41:15.672Z"
   },
   {
    "duration": 183,
    "start_time": "2024-10-21T07:41:15.679Z"
   },
   {
    "duration": 5,
    "start_time": "2024-10-21T07:41:39.372Z"
   },
   {
    "duration": 131,
    "start_time": "2024-10-21T07:41:40.482Z"
   },
   {
    "duration": 4,
    "start_time": "2024-10-21T07:43:02.505Z"
   },
   {
    "duration": 111,
    "start_time": "2024-10-21T07:43:04.575Z"
   },
   {
    "duration": 752,
    "start_time": "2024-10-22T02:38:02.358Z"
   },
   {
    "duration": 145,
    "start_time": "2024-10-22T02:38:03.112Z"
   },
   {
    "duration": 24,
    "start_time": "2024-10-22T02:38:03.259Z"
   },
   {
    "duration": 7,
    "start_time": "2024-10-22T02:38:03.285Z"
   },
   {
    "duration": 11,
    "start_time": "2024-10-22T02:38:03.295Z"
   },
   {
    "duration": 42,
    "start_time": "2024-10-22T02:38:03.308Z"
   },
   {
    "duration": 3,
    "start_time": "2024-10-22T02:38:03.370Z"
   },
   {
    "duration": 6,
    "start_time": "2024-10-22T02:38:03.375Z"
   },
   {
    "duration": 2,
    "start_time": "2024-10-22T02:38:03.383Z"
   },
   {
    "duration": 10,
    "start_time": "2024-10-22T02:38:03.386Z"
   },
   {
    "duration": 21,
    "start_time": "2024-10-22T02:38:03.398Z"
   },
   {
    "duration": 9,
    "start_time": "2024-10-22T02:38:03.421Z"
   },
   {
    "duration": 46,
    "start_time": "2024-10-22T02:38:03.433Z"
   },
   {
    "duration": 3,
    "start_time": "2024-10-22T02:38:03.483Z"
   },
   {
    "duration": 6,
    "start_time": "2024-10-22T02:38:03.488Z"
   },
   {
    "duration": 3,
    "start_time": "2024-10-22T02:38:03.496Z"
   },
   {
    "duration": 4,
    "start_time": "2024-10-22T02:38:03.501Z"
   },
   {
    "duration": 205,
    "start_time": "2024-10-22T02:38:03.507Z"
   },
   {
    "duration": 1423,
    "start_time": "2024-10-22T02:38:03.713Z"
   },
   {
    "duration": 17,
    "start_time": "2024-10-22T02:38:05.138Z"
   },
   {
    "duration": 18,
    "start_time": "2024-10-22T02:38:05.156Z"
   },
   {
    "duration": 181,
    "start_time": "2024-10-22T02:38:05.176Z"
   },
   {
    "duration": 29,
    "start_time": "2024-10-22T02:38:05.361Z"
   },
   {
    "duration": 6,
    "start_time": "2024-10-22T02:38:05.392Z"
   },
   {
    "duration": 5,
    "start_time": "2024-10-22T02:38:05.399Z"
   },
   {
    "duration": 7,
    "start_time": "2024-10-22T02:38:05.406Z"
   },
   {
    "duration": 15,
    "start_time": "2024-10-22T02:38:05.415Z"
   },
   {
    "duration": 47,
    "start_time": "2024-10-22T02:38:05.431Z"
   },
   {
    "duration": 4,
    "start_time": "2024-10-22T02:38:05.479Z"
   },
   {
    "duration": 40,
    "start_time": "2024-10-22T02:38:05.485Z"
   },
   {
    "duration": 8,
    "start_time": "2024-10-22T02:38:05.527Z"
   },
   {
    "duration": 7,
    "start_time": "2024-10-22T02:38:05.536Z"
   },
   {
    "duration": 66,
    "start_time": "2024-10-22T02:38:05.545Z"
   },
   {
    "duration": 6,
    "start_time": "2024-10-22T02:38:05.613Z"
   },
   {
    "duration": 4,
    "start_time": "2024-10-22T02:38:05.621Z"
   },
   {
    "duration": 4,
    "start_time": "2024-10-22T02:38:05.626Z"
   },
   {
    "duration": 2,
    "start_time": "2024-10-22T02:38:05.632Z"
   },
   {
    "duration": 35,
    "start_time": "2024-10-22T02:38:05.635Z"
   },
   {
    "duration": 7,
    "start_time": "2024-10-22T02:38:05.672Z"
   },
   {
    "duration": 3,
    "start_time": "2024-10-22T02:38:05.681Z"
   },
   {
    "duration": 5,
    "start_time": "2024-10-22T02:38:05.688Z"
   },
   {
    "duration": 4,
    "start_time": "2024-10-22T02:38:05.694Z"
   },
   {
    "duration": 5,
    "start_time": "2024-10-22T02:38:05.699Z"
   },
   {
    "duration": 138,
    "start_time": "2024-10-22T02:38:05.706Z"
   },
   {
    "duration": 4,
    "start_time": "2024-10-22T02:38:05.847Z"
   },
   {
    "duration": 110,
    "start_time": "2024-10-22T02:38:05.852Z"
   },
   {
    "duration": 165,
    "start_time": "2024-10-22T04:04:10.010Z"
   },
   {
    "duration": 852,
    "start_time": "2024-10-22T04:04:15.403Z"
   },
   {
    "duration": 178,
    "start_time": "2024-10-22T04:04:16.257Z"
   },
   {
    "duration": 17,
    "start_time": "2024-10-22T04:04:16.437Z"
   },
   {
    "duration": 8,
    "start_time": "2024-10-22T04:04:16.457Z"
   },
   {
    "duration": 29,
    "start_time": "2024-10-22T04:04:16.467Z"
   },
   {
    "duration": 44,
    "start_time": "2024-10-22T04:04:16.497Z"
   },
   {
    "duration": 3,
    "start_time": "2024-10-22T04:04:16.543Z"
   },
   {
    "duration": 7,
    "start_time": "2024-10-22T04:04:16.548Z"
   },
   {
    "duration": 2,
    "start_time": "2024-10-22T04:04:16.557Z"
   },
   {
    "duration": 6,
    "start_time": "2024-10-22T04:04:16.586Z"
   },
   {
    "duration": 12,
    "start_time": "2024-10-22T04:04:16.594Z"
   },
   {
    "duration": 7,
    "start_time": "2024-10-22T04:04:16.608Z"
   },
   {
    "duration": 22,
    "start_time": "2024-10-22T04:04:16.618Z"
   },
   {
    "duration": 4,
    "start_time": "2024-10-22T04:04:16.641Z"
   },
   {
    "duration": 6,
    "start_time": "2024-10-22T04:04:16.646Z"
   },
   {
    "duration": 4,
    "start_time": "2024-10-22T04:04:16.686Z"
   },
   {
    "duration": 4,
    "start_time": "2024-10-22T04:04:16.691Z"
   },
   {
    "duration": 191,
    "start_time": "2024-10-22T04:04:16.697Z"
   },
   {
    "duration": 1437,
    "start_time": "2024-10-22T04:04:16.890Z"
   },
   {
    "duration": 16,
    "start_time": "2024-10-22T04:04:18.329Z"
   },
   {
    "duration": 6,
    "start_time": "2024-10-22T04:04:18.347Z"
   },
   {
    "duration": 190,
    "start_time": "2024-10-22T04:04:18.354Z"
   },
   {
    "duration": 25,
    "start_time": "2024-10-22T04:04:18.546Z"
   },
   {
    "duration": 19,
    "start_time": "2024-10-22T04:04:18.573Z"
   },
   {
    "duration": 4,
    "start_time": "2024-10-22T04:04:18.594Z"
   },
   {
    "duration": 7,
    "start_time": "2024-10-22T04:04:18.600Z"
   },
   {
    "duration": 15,
    "start_time": "2024-10-22T04:04:18.608Z"
   },
   {
    "duration": 18,
    "start_time": "2024-10-22T04:04:18.627Z"
   },
   {
    "duration": 4,
    "start_time": "2024-10-22T04:04:18.646Z"
   },
   {
    "duration": 39,
    "start_time": "2024-10-22T04:04:18.686Z"
   },
   {
    "duration": 8,
    "start_time": "2024-10-22T04:04:18.727Z"
   },
   {
    "duration": 6,
    "start_time": "2024-10-22T04:04:18.738Z"
   },
   {
    "duration": 60,
    "start_time": "2024-10-22T04:04:18.746Z"
   },
   {
    "duration": 5,
    "start_time": "2024-10-22T04:04:18.808Z"
   },
   {
    "duration": 5,
    "start_time": "2024-10-22T04:04:18.814Z"
   },
   {
    "duration": 3,
    "start_time": "2024-10-22T04:04:18.821Z"
   },
   {
    "duration": 3,
    "start_time": "2024-10-22T04:04:18.826Z"
   },
   {
    "duration": 5,
    "start_time": "2024-10-22T04:04:18.831Z"
   },
   {
    "duration": 7,
    "start_time": "2024-10-22T04:04:18.837Z"
   },
   {
    "duration": 42,
    "start_time": "2024-10-22T04:04:18.846Z"
   },
   {
    "duration": 5,
    "start_time": "2024-10-22T04:04:18.891Z"
   },
   {
    "duration": 3,
    "start_time": "2024-10-22T04:04:18.898Z"
   },
   {
    "duration": 5,
    "start_time": "2024-10-22T04:04:18.903Z"
   },
   {
    "duration": 130,
    "start_time": "2024-10-22T04:04:18.910Z"
   },
   {
    "duration": 5,
    "start_time": "2024-10-22T04:04:19.042Z"
   },
   {
    "duration": 120,
    "start_time": "2024-10-22T04:04:19.049Z"
   },
   {
    "duration": 6,
    "start_time": "2024-10-22T04:05:34.416Z"
   },
   {
    "duration": 168,
    "start_time": "2024-10-22T16:26:10.734Z"
   },
   {
    "duration": 2585,
    "start_time": "2024-10-22T16:26:17.240Z"
   },
   {
    "duration": 126,
    "start_time": "2024-10-22T16:26:19.827Z"
   },
   {
    "duration": 17,
    "start_time": "2024-10-22T16:26:19.955Z"
   },
   {
    "duration": 9,
    "start_time": "2024-10-22T16:26:19.974Z"
   },
   {
    "duration": 12,
    "start_time": "2024-10-22T16:26:19.987Z"
   },
   {
    "duration": 70,
    "start_time": "2024-10-22T16:26:20.001Z"
   },
   {
    "duration": 3,
    "start_time": "2024-10-22T16:26:20.073Z"
   },
   {
    "duration": 7,
    "start_time": "2024-10-22T16:26:20.078Z"
   },
   {
    "duration": 2,
    "start_time": "2024-10-22T16:26:20.086Z"
   },
   {
    "duration": 6,
    "start_time": "2024-10-22T16:26:20.090Z"
   },
   {
    "duration": 12,
    "start_time": "2024-10-22T16:26:20.098Z"
   },
   {
    "duration": 37,
    "start_time": "2024-10-22T16:26:20.111Z"
   },
   {
    "duration": 23,
    "start_time": "2024-10-22T16:26:20.150Z"
   },
   {
    "duration": 4,
    "start_time": "2024-10-22T16:26:20.177Z"
   },
   {
    "duration": 6,
    "start_time": "2024-10-22T16:26:20.183Z"
   },
   {
    "duration": 244,
    "start_time": "2024-10-22T16:26:20.191Z"
   },
   {
    "duration": 0,
    "start_time": "2024-10-22T16:26:20.437Z"
   },
   {
    "duration": 0,
    "start_time": "2024-10-22T16:26:20.442Z"
   },
   {
    "duration": 0,
    "start_time": "2024-10-22T16:26:20.443Z"
   },
   {
    "duration": 0,
    "start_time": "2024-10-22T16:26:20.444Z"
   },
   {
    "duration": 0,
    "start_time": "2024-10-22T16:26:20.445Z"
   },
   {
    "duration": 0,
    "start_time": "2024-10-22T16:26:20.446Z"
   },
   {
    "duration": 0,
    "start_time": "2024-10-22T16:26:20.448Z"
   },
   {
    "duration": 0,
    "start_time": "2024-10-22T16:26:20.449Z"
   },
   {
    "duration": 0,
    "start_time": "2024-10-22T16:26:20.451Z"
   },
   {
    "duration": 0,
    "start_time": "2024-10-22T16:26:20.453Z"
   },
   {
    "duration": 0,
    "start_time": "2024-10-22T16:26:20.454Z"
   },
   {
    "duration": 0,
    "start_time": "2024-10-22T16:26:20.455Z"
   },
   {
    "duration": 0,
    "start_time": "2024-10-22T16:26:20.456Z"
   },
   {
    "duration": 0,
    "start_time": "2024-10-22T16:26:20.457Z"
   },
   {
    "duration": 0,
    "start_time": "2024-10-22T16:26:20.458Z"
   },
   {
    "duration": 0,
    "start_time": "2024-10-22T16:26:20.460Z"
   },
   {
    "duration": 0,
    "start_time": "2024-10-22T16:26:20.461Z"
   },
   {
    "duration": 0,
    "start_time": "2024-10-22T16:26:20.462Z"
   },
   {
    "duration": 0,
    "start_time": "2024-10-22T16:26:20.463Z"
   },
   {
    "duration": 0,
    "start_time": "2024-10-22T16:26:20.464Z"
   },
   {
    "duration": 0,
    "start_time": "2024-10-22T16:26:20.466Z"
   },
   {
    "duration": 0,
    "start_time": "2024-10-22T16:26:20.467Z"
   },
   {
    "duration": 0,
    "start_time": "2024-10-22T16:26:20.469Z"
   },
   {
    "duration": 0,
    "start_time": "2024-10-22T16:26:20.470Z"
   },
   {
    "duration": 0,
    "start_time": "2024-10-22T16:26:20.471Z"
   },
   {
    "duration": 0,
    "start_time": "2024-10-22T16:26:20.472Z"
   },
   {
    "duration": 0,
    "start_time": "2024-10-22T16:26:20.472Z"
   },
   {
    "duration": 0,
    "start_time": "2024-10-22T16:26:20.474Z"
   },
   {
    "duration": 0,
    "start_time": "2024-10-22T16:26:20.475Z"
   },
   {
    "duration": 0,
    "start_time": "2024-10-22T16:26:20.476Z"
   },
   {
    "duration": 6,
    "start_time": "2024-10-22T16:27:36.114Z"
   },
   {
    "duration": 5,
    "start_time": "2024-10-22T16:27:39.138Z"
   },
   {
    "duration": 5,
    "start_time": "2024-10-22T16:28:05.425Z"
   },
   {
    "duration": 184,
    "start_time": "2024-10-22T16:28:06.466Z"
   },
   {
    "duration": 1539,
    "start_time": "2024-10-22T16:28:11.943Z"
   },
   {
    "duration": 1464,
    "start_time": "2024-10-22T16:28:13.987Z"
   },
   {
    "duration": 17,
    "start_time": "2024-10-22T16:28:18.858Z"
   },
   {
    "duration": 1418,
    "start_time": "2024-10-22T16:28:54.246Z"
   },
   {
    "duration": 14,
    "start_time": "2024-10-22T16:28:55.666Z"
   },
   {
    "duration": 5,
    "start_time": "2024-10-22T16:29:20.603Z"
   },
   {
    "duration": 185,
    "start_time": "2024-10-22T16:29:21.464Z"
   },
   {
    "duration": 2613,
    "start_time": "2024-10-23T05:00:15.374Z"
   },
   {
    "duration": 126,
    "start_time": "2024-10-23T05:00:17.989Z"
   },
   {
    "duration": 16,
    "start_time": "2024-10-23T05:00:18.117Z"
   },
   {
    "duration": 9,
    "start_time": "2024-10-23T05:00:18.135Z"
   },
   {
    "duration": 26,
    "start_time": "2024-10-23T05:00:18.145Z"
   },
   {
    "duration": 44,
    "start_time": "2024-10-23T05:00:18.173Z"
   },
   {
    "duration": 4,
    "start_time": "2024-10-23T05:00:18.219Z"
   },
   {
    "duration": 7,
    "start_time": "2024-10-23T05:00:18.225Z"
   },
   {
    "duration": 3,
    "start_time": "2024-10-23T05:00:18.234Z"
   },
   {
    "duration": 32,
    "start_time": "2024-10-23T05:00:18.240Z"
   },
   {
    "duration": 18,
    "start_time": "2024-10-23T05:00:18.273Z"
   },
   {
    "duration": 8,
    "start_time": "2024-10-23T05:00:18.294Z"
   },
   {
    "duration": 23,
    "start_time": "2024-10-23T05:00:18.304Z"
   },
   {
    "duration": 4,
    "start_time": "2024-10-23T05:00:18.329Z"
   },
   {
    "duration": 36,
    "start_time": "2024-10-23T05:00:18.335Z"
   },
   {
    "duration": 5,
    "start_time": "2024-10-23T05:00:18.372Z"
   },
   {
    "duration": 4,
    "start_time": "2024-10-23T05:00:18.379Z"
   },
   {
    "duration": 233,
    "start_time": "2024-10-23T05:00:18.385Z"
   },
   {
    "duration": 1408,
    "start_time": "2024-10-23T05:00:18.619Z"
   },
   {
    "duration": 16,
    "start_time": "2024-10-23T05:00:20.029Z"
   },
   {
    "duration": 23,
    "start_time": "2024-10-23T05:00:20.047Z"
   },
   {
    "duration": 173,
    "start_time": "2024-10-23T05:00:20.071Z"
   },
   {
    "duration": 31,
    "start_time": "2024-10-23T05:00:20.246Z"
   },
   {
    "duration": 7,
    "start_time": "2024-10-23T05:00:20.278Z"
   },
   {
    "duration": 4,
    "start_time": "2024-10-23T05:00:20.287Z"
   },
   {
    "duration": 8,
    "start_time": "2024-10-23T05:00:20.293Z"
   },
   {
    "duration": 14,
    "start_time": "2024-10-23T05:00:20.302Z"
   },
   {
    "duration": 49,
    "start_time": "2024-10-23T05:00:20.321Z"
   },
   {
    "duration": 5,
    "start_time": "2024-10-23T05:00:20.372Z"
   },
   {
    "duration": 40,
    "start_time": "2024-10-23T05:00:20.378Z"
   },
   {
    "duration": 12,
    "start_time": "2024-10-23T05:00:20.420Z"
   },
   {
    "duration": 7,
    "start_time": "2024-10-23T05:00:20.434Z"
   },
   {
    "duration": 65,
    "start_time": "2024-10-23T05:00:20.443Z"
   },
   {
    "duration": 5,
    "start_time": "2024-10-23T05:00:20.510Z"
   },
   {
    "duration": 4,
    "start_time": "2024-10-23T05:00:20.516Z"
   },
   {
    "duration": 3,
    "start_time": "2024-10-23T05:00:20.522Z"
   },
   {
    "duration": 3,
    "start_time": "2024-10-23T05:00:20.526Z"
   },
   {
    "duration": 6,
    "start_time": "2024-10-23T05:00:20.531Z"
   },
   {
    "duration": 36,
    "start_time": "2024-10-23T05:00:20.538Z"
   },
   {
    "duration": 3,
    "start_time": "2024-10-23T05:00:20.576Z"
   },
   {
    "duration": 5,
    "start_time": "2024-10-23T05:00:20.581Z"
   },
   {
    "duration": 5,
    "start_time": "2024-10-23T05:00:20.588Z"
   },
   {
    "duration": 3,
    "start_time": "2024-10-23T05:00:20.595Z"
   },
   {
    "duration": 4,
    "start_time": "2024-10-23T05:00:20.600Z"
   },
   {
    "duration": 143,
    "start_time": "2024-10-23T05:00:20.605Z"
   },
   {
    "duration": 6,
    "start_time": "2024-10-23T05:00:20.750Z"
   },
   {
    "duration": 117,
    "start_time": "2024-10-23T05:00:20.757Z"
   },
   {
    "duration": 8,
    "start_time": "2024-10-23T05:14:21.242Z"
   },
   {
    "duration": 5,
    "start_time": "2024-10-23T05:17:27.465Z"
   },
   {
    "duration": 5,
    "start_time": "2024-10-23T05:17:47.344Z"
   },
   {
    "duration": 4,
    "start_time": "2024-10-23T05:18:09.112Z"
   },
   {
    "duration": 3,
    "start_time": "2024-10-23T05:18:29.409Z"
   },
   {
    "duration": 4,
    "start_time": "2024-10-23T05:18:30.389Z"
   },
   {
    "duration": 512,
    "start_time": "2024-10-23T05:19:28.946Z"
   },
   {
    "duration": 4,
    "start_time": "2024-10-23T05:19:51.604Z"
   },
   {
    "duration": 6,
    "start_time": "2024-10-23T05:19:53.865Z"
   },
   {
    "duration": 13,
    "start_time": "2024-10-23T05:29:09.431Z"
   },
   {
    "duration": 281,
    "start_time": "2024-10-23T05:29:12.291Z"
   },
   {
    "duration": 15,
    "start_time": "2024-10-23T05:29:12.848Z"
   },
   {
    "duration": 3,
    "start_time": "2024-10-23T05:30:33.991Z"
   },
   {
    "duration": 4,
    "start_time": "2024-10-23T05:30:36.963Z"
   },
   {
    "duration": 3,
    "start_time": "2024-10-23T05:31:48.053Z"
   },
   {
    "duration": 4,
    "start_time": "2024-10-23T05:31:49.220Z"
   },
   {
    "duration": 5,
    "start_time": "2024-10-23T05:32:16.412Z"
   },
   {
    "duration": 7,
    "start_time": "2024-10-23T05:32:38.102Z"
   },
   {
    "duration": 8,
    "start_time": "2024-10-23T05:34:24.244Z"
   },
   {
    "duration": 2,
    "start_time": "2024-10-23T05:34:48.758Z"
   },
   {
    "duration": 27,
    "start_time": "2024-10-23T05:34:51.380Z"
   },
   {
    "duration": 4,
    "start_time": "2024-10-23T05:34:52.849Z"
   },
   {
    "duration": 4,
    "start_time": "2024-10-23T05:35:14.541Z"
   },
   {
    "duration": 5,
    "start_time": "2024-10-23T05:39:54.611Z"
   },
   {
    "duration": 36,
    "start_time": "2024-10-23T05:40:30.775Z"
   },
   {
    "duration": 6,
    "start_time": "2024-10-23T05:40:44.739Z"
   },
   {
    "duration": 33,
    "start_time": "2024-10-23T05:41:02.507Z"
   },
   {
    "duration": 7,
    "start_time": "2024-10-23T05:41:03.369Z"
   },
   {
    "duration": 4,
    "start_time": "2024-10-23T05:42:52.475Z"
   },
   {
    "duration": 164,
    "start_time": "2024-10-24T02:35:50.227Z"
   },
   {
    "duration": 2601,
    "start_time": "2024-10-24T02:35:59.560Z"
   },
   {
    "duration": 123,
    "start_time": "2024-10-24T02:36:02.164Z"
   },
   {
    "duration": 25,
    "start_time": "2024-10-24T02:36:02.289Z"
   },
   {
    "duration": 8,
    "start_time": "2024-10-24T02:36:02.317Z"
   },
   {
    "duration": 11,
    "start_time": "2024-10-24T02:36:02.327Z"
   },
   {
    "duration": 43,
    "start_time": "2024-10-24T02:36:02.339Z"
   },
   {
    "duration": 4,
    "start_time": "2024-10-24T02:36:02.383Z"
   },
   {
    "duration": 7,
    "start_time": "2024-10-24T02:36:02.409Z"
   },
   {
    "duration": 2,
    "start_time": "2024-10-24T02:36:02.418Z"
   },
   {
    "duration": 6,
    "start_time": "2024-10-24T02:36:02.424Z"
   },
   {
    "duration": 11,
    "start_time": "2024-10-24T02:36:02.432Z"
   },
   {
    "duration": 7,
    "start_time": "2024-10-24T02:36:02.446Z"
   },
   {
    "duration": 55,
    "start_time": "2024-10-24T02:36:02.456Z"
   },
   {
    "duration": 3,
    "start_time": "2024-10-24T02:36:02.513Z"
   },
   {
    "duration": 3,
    "start_time": "2024-10-24T02:36:02.518Z"
   },
   {
    "duration": 4,
    "start_time": "2024-10-24T02:36:02.523Z"
   },
   {
    "duration": 4,
    "start_time": "2024-10-24T02:36:02.529Z"
   },
   {
    "duration": 202,
    "start_time": "2024-10-24T02:36:02.536Z"
   },
   {
    "duration": 1390,
    "start_time": "2024-10-24T02:36:02.739Z"
   },
   {
    "duration": 16,
    "start_time": "2024-10-24T02:36:04.131Z"
   },
   {
    "duration": 7,
    "start_time": "2024-10-24T02:36:04.149Z"
   },
   {
    "duration": 194,
    "start_time": "2024-10-24T02:36:04.157Z"
   },
   {
    "duration": 23,
    "start_time": "2024-10-24T02:36:04.353Z"
   },
   {
    "duration": 6,
    "start_time": "2024-10-24T02:36:04.378Z"
   },
   {
    "duration": 30,
    "start_time": "2024-10-24T02:36:04.385Z"
   },
   {
    "duration": 8,
    "start_time": "2024-10-24T02:36:04.416Z"
   },
   {
    "duration": 14,
    "start_time": "2024-10-24T02:36:04.426Z"
   },
   {
    "duration": 17,
    "start_time": "2024-10-24T02:36:04.445Z"
   },
   {
    "duration": 4,
    "start_time": "2024-10-24T02:36:04.463Z"
   },
   {
    "duration": 79,
    "start_time": "2024-10-24T02:36:04.469Z"
   },
   {
    "duration": 8,
    "start_time": "2024-10-24T02:36:04.549Z"
   },
   {
    "duration": 5,
    "start_time": "2024-10-24T02:36:04.559Z"
   },
   {
    "duration": 63,
    "start_time": "2024-10-24T02:36:04.567Z"
   },
   {
    "duration": 7,
    "start_time": "2024-10-24T02:36:04.631Z"
   },
   {
    "duration": 6,
    "start_time": "2024-10-24T02:36:04.640Z"
   },
   {
    "duration": 3,
    "start_time": "2024-10-24T02:36:04.647Z"
   },
   {
    "duration": 3,
    "start_time": "2024-10-24T02:36:04.652Z"
   },
   {
    "duration": 4,
    "start_time": "2024-10-24T02:36:04.657Z"
   },
   {
    "duration": 8,
    "start_time": "2024-10-24T02:36:04.663Z"
   },
   {
    "duration": 3,
    "start_time": "2024-10-24T02:36:04.673Z"
   },
   {
    "duration": 46,
    "start_time": "2024-10-24T02:36:04.677Z"
   },
   {
    "duration": 4,
    "start_time": "2024-10-24T02:36:04.724Z"
   },
   {
    "duration": 28,
    "start_time": "2024-10-24T02:36:04.730Z"
   },
   {
    "duration": 7,
    "start_time": "2024-10-24T02:36:04.760Z"
   },
   {
    "duration": 4,
    "start_time": "2024-10-24T02:36:04.770Z"
   },
   {
    "duration": 124,
    "start_time": "2024-10-24T02:36:04.810Z"
   },
   {
    "duration": 6,
    "start_time": "2024-10-24T02:36:04.936Z"
   },
   {
    "duration": 127,
    "start_time": "2024-10-24T02:36:04.944Z"
   },
   {
    "duration": 3,
    "start_time": "2024-10-24T02:46:05.754Z"
   },
   {
    "duration": 568,
    "start_time": "2024-10-24T02:46:15.378Z"
   },
   {
    "duration": 17,
    "start_time": "2024-10-24T02:47:23.256Z"
   },
   {
    "duration": 7,
    "start_time": "2024-10-24T02:47:30.213Z"
   },
   {
    "duration": 175,
    "start_time": "2024-10-24T02:47:31.529Z"
   },
   {
    "duration": 13,
    "start_time": "2024-10-24T02:47:56.795Z"
   },
   {
    "duration": 4,
    "start_time": "2024-10-24T02:48:02.038Z"
   },
   {
    "duration": 169,
    "start_time": "2024-10-24T02:48:03.226Z"
   },
   {
    "duration": 24,
    "start_time": "2024-10-24T02:48:08.597Z"
   },
   {
    "duration": 7,
    "start_time": "2024-10-24T02:48:09.508Z"
   },
   {
    "duration": 5,
    "start_time": "2024-10-24T02:49:18.082Z"
   },
   {
    "duration": 23,
    "start_time": "2024-10-24T02:49:31.110Z"
   },
   {
    "duration": 4,
    "start_time": "2024-10-24T02:50:34.171Z"
   },
   {
    "duration": 4,
    "start_time": "2024-10-24T02:53:54.548Z"
   },
   {
    "duration": 3,
    "start_time": "2024-10-24T02:55:50.777Z"
   },
   {
    "duration": 3,
    "start_time": "2024-10-24T02:57:05.240Z"
   },
   {
    "duration": 2,
    "start_time": "2024-10-24T02:57:49.150Z"
   },
   {
    "duration": 3,
    "start_time": "2024-10-24T02:58:16.715Z"
   },
   {
    "duration": 4,
    "start_time": "2024-10-24T02:59:25.477Z"
   },
   {
    "duration": 4,
    "start_time": "2024-10-24T02:59:42.396Z"
   },
   {
    "duration": 4,
    "start_time": "2024-10-24T03:00:00.883Z"
   },
   {
    "duration": 5,
    "start_time": "2024-10-24T03:00:01.343Z"
   },
   {
    "duration": 4,
    "start_time": "2024-10-24T03:00:17.706Z"
   },
   {
    "duration": 6,
    "start_time": "2024-10-24T04:10:29.232Z"
   },
   {
    "duration": 5,
    "start_time": "2024-10-24T04:10:29.991Z"
   },
   {
    "duration": 4,
    "start_time": "2024-10-24T04:10:30.793Z"
   },
   {
    "duration": 6,
    "start_time": "2024-10-24T04:10:56.319Z"
   },
   {
    "duration": 5,
    "start_time": "2024-10-24T04:10:57.302Z"
   },
   {
    "duration": 4,
    "start_time": "2024-10-24T04:10:58.030Z"
   },
   {
    "duration": 449,
    "start_time": "2024-10-24T04:17:46.029Z"
   },
   {
    "duration": 5,
    "start_time": "2024-10-24T04:18:13.197Z"
   },
   {
    "duration": 4,
    "start_time": "2024-10-24T04:19:41.613Z"
   },
   {
    "duration": 6,
    "start_time": "2024-10-24T04:22:13.753Z"
   },
   {
    "duration": 3,
    "start_time": "2024-10-24T04:22:47.839Z"
   },
   {
    "duration": 3,
    "start_time": "2024-10-24T04:24:32.761Z"
   },
   {
    "duration": 4,
    "start_time": "2024-10-24T04:24:33.274Z"
   },
   {
    "duration": 3,
    "start_time": "2024-10-24T04:25:16.394Z"
   },
   {
    "duration": 4,
    "start_time": "2024-10-24T04:25:35.863Z"
   },
   {
    "duration": 3,
    "start_time": "2024-10-24T04:25:45.469Z"
   },
   {
    "duration": 6,
    "start_time": "2024-10-24T04:25:52.784Z"
   },
   {
    "duration": 8,
    "start_time": "2024-10-24T04:25:59.726Z"
   },
   {
    "duration": 3,
    "start_time": "2024-10-24T04:26:04.888Z"
   },
   {
    "duration": 6,
    "start_time": "2024-10-24T04:26:14.022Z"
   },
   {
    "duration": 3,
    "start_time": "2024-10-24T04:28:02.678Z"
   },
   {
    "duration": 2,
    "start_time": "2024-10-24T04:28:48.782Z"
   },
   {
    "duration": 3,
    "start_time": "2024-10-24T04:28:49.604Z"
   },
   {
    "duration": 3,
    "start_time": "2024-10-24T04:29:23.581Z"
   },
   {
    "duration": 3,
    "start_time": "2024-10-24T04:29:24.116Z"
   },
   {
    "duration": 6,
    "start_time": "2024-10-24T04:29:57.363Z"
   },
   {
    "duration": 3,
    "start_time": "2024-10-24T04:29:57.983Z"
   },
   {
    "duration": 3,
    "start_time": "2024-10-24T04:34:15.580Z"
   },
   {
    "duration": 4,
    "start_time": "2024-10-24T04:57:23.644Z"
   },
   {
    "duration": 28,
    "start_time": "2024-10-24T05:00:03.834Z"
   },
   {
    "duration": 11,
    "start_time": "2024-10-24T05:02:08.797Z"
   },
   {
    "duration": 14,
    "start_time": "2024-10-24T05:06:16.450Z"
   },
   {
    "duration": 44,
    "start_time": "2024-10-24T05:06:25.790Z"
   },
   {
    "duration": 52,
    "start_time": "2024-10-24T05:07:02.037Z"
   },
   {
    "duration": 60,
    "start_time": "2024-10-24T05:07:35.832Z"
   },
   {
    "duration": 67,
    "start_time": "2024-10-24T05:11:07.589Z"
   },
   {
    "duration": 4,
    "start_time": "2024-10-24T05:12:02.575Z"
   },
   {
    "duration": 68,
    "start_time": "2024-10-24T05:12:07.428Z"
   },
   {
    "duration": 313,
    "start_time": "2024-10-24T05:12:28.166Z"
   },
   {
    "duration": 134,
    "start_time": "2024-10-24T05:12:41.749Z"
   },
   {
    "duration": 66,
    "start_time": "2024-10-24T05:13:52.825Z"
   },
   {
    "duration": 32,
    "start_time": "2024-10-24T05:14:08.610Z"
   },
   {
    "duration": 40,
    "start_time": "2024-10-24T05:14:53.765Z"
   },
   {
    "duration": 3,
    "start_time": "2024-10-24T05:15:34.206Z"
   },
   {
    "duration": 3,
    "start_time": "2024-10-24T05:16:19.095Z"
   },
   {
    "duration": 502,
    "start_time": "2024-10-24T05:16:52.442Z"
   },
   {
    "duration": 3,
    "start_time": "2024-10-24T05:18:39.282Z"
   },
   {
    "duration": 4,
    "start_time": "2024-10-24T05:18:42.604Z"
   },
   {
    "duration": 21,
    "start_time": "2024-10-24T05:27:34.640Z"
   },
   {
    "duration": 16,
    "start_time": "2024-10-24T05:27:41.646Z"
   },
   {
    "duration": 19,
    "start_time": "2024-10-24T05:28:20.804Z"
   },
   {
    "duration": 14,
    "start_time": "2024-10-24T05:28:34.163Z"
   },
   {
    "duration": 13,
    "start_time": "2024-10-24T05:28:54.724Z"
   },
   {
    "duration": 4,
    "start_time": "2024-10-24T05:30:17.690Z"
   },
   {
    "duration": 4,
    "start_time": "2024-10-24T05:36:25.984Z"
   },
   {
    "duration": 22,
    "start_time": "2024-10-24T05:36:27.425Z"
   },
   {
    "duration": 15,
    "start_time": "2024-10-24T05:36:50.365Z"
   },
   {
    "duration": 4,
    "start_time": "2024-10-24T05:36:59.375Z"
   },
   {
    "duration": 6,
    "start_time": "2024-10-24T05:37:01.048Z"
   },
   {
    "duration": 19,
    "start_time": "2024-10-24T05:37:01.938Z"
   },
   {
    "duration": 6,
    "start_time": "2024-10-24T05:37:30.835Z"
   },
   {
    "duration": 14,
    "start_time": "2024-10-24T05:37:32.273Z"
   },
   {
    "duration": 7,
    "start_time": "2024-10-24T05:38:07.115Z"
   },
   {
    "duration": 20,
    "start_time": "2024-10-24T05:38:07.999Z"
   },
   {
    "duration": 64,
    "start_time": "2024-10-24T05:38:24.728Z"
   },
   {
    "duration": 5,
    "start_time": "2024-10-24T05:41:12.418Z"
   },
   {
    "duration": 60,
    "start_time": "2024-10-24T05:41:16.486Z"
   },
   {
    "duration": 4,
    "start_time": "2024-10-24T05:43:42.195Z"
   },
   {
    "duration": 4,
    "start_time": "2024-10-24T06:32:05.121Z"
   },
   {
    "duration": 6,
    "start_time": "2024-10-24T06:36:50.559Z"
   },
   {
    "duration": 22,
    "start_time": "2024-10-24T06:41:22.350Z"
   },
   {
    "duration": 5,
    "start_time": "2024-10-24T06:41:35.954Z"
   },
   {
    "duration": 357,
    "start_time": "2024-10-24T06:42:46.081Z"
   },
   {
    "duration": 101,
    "start_time": "2024-10-24T06:43:39.447Z"
   },
   {
    "duration": 4,
    "start_time": "2024-10-24T06:46:14.278Z"
   },
   {
    "duration": 6,
    "start_time": "2024-10-24T06:46:14.818Z"
   },
   {
    "duration": 4,
    "start_time": "2024-10-24T06:46:21.197Z"
   },
   {
    "duration": 26,
    "start_time": "2024-10-24T06:46:25.022Z"
   },
   {
    "duration": 2,
    "start_time": "2024-10-24T06:47:02.857Z"
   },
   {
    "duration": 9,
    "start_time": "2024-10-24T06:47:17.278Z"
   },
   {
    "duration": 23,
    "start_time": "2024-10-24T06:47:19.035Z"
   },
   {
    "duration": 4,
    "start_time": "2024-10-24T06:47:58.562Z"
   },
   {
    "duration": 4,
    "start_time": "2024-10-24T06:47:59.274Z"
   },
   {
    "duration": 3,
    "start_time": "2024-10-24T07:02:20.481Z"
   },
   {
    "duration": 15,
    "start_time": "2024-10-24T07:06:29.539Z"
   },
   {
    "duration": 23,
    "start_time": "2024-10-24T07:06:36.475Z"
   },
   {
    "duration": 4,
    "start_time": "2024-10-24T07:07:07.076Z"
   },
   {
    "duration": 23,
    "start_time": "2024-10-24T07:07:08.373Z"
   },
   {
    "duration": 4,
    "start_time": "2024-10-24T07:07:32.076Z"
   },
   {
    "duration": 8,
    "start_time": "2024-10-24T07:07:32.974Z"
   },
   {
    "duration": 8,
    "start_time": "2024-10-24T07:10:56.338Z"
   },
   {
    "duration": 4,
    "start_time": "2024-10-24T07:13:16.016Z"
   },
   {
    "duration": 8,
    "start_time": "2024-10-24T07:13:41.489Z"
   },
   {
    "duration": 880,
    "start_time": "2024-10-24T07:20:39.021Z"
   },
   {
    "duration": 109,
    "start_time": "2024-10-24T07:20:39.903Z"
   },
   {
    "duration": 16,
    "start_time": "2024-10-24T07:20:40.014Z"
   },
   {
    "duration": 9,
    "start_time": "2024-10-24T07:20:40.032Z"
   },
   {
    "duration": 12,
    "start_time": "2024-10-24T07:20:40.043Z"
   },
   {
    "duration": 65,
    "start_time": "2024-10-24T07:20:40.056Z"
   },
   {
    "duration": 3,
    "start_time": "2024-10-24T07:20:40.123Z"
   },
   {
    "duration": 6,
    "start_time": "2024-10-24T07:20:40.128Z"
   },
   {
    "duration": 6,
    "start_time": "2024-10-24T07:20:40.136Z"
   },
   {
    "duration": 12,
    "start_time": "2024-10-24T07:20:40.144Z"
   },
   {
    "duration": 7,
    "start_time": "2024-10-24T07:20:40.157Z"
   },
   {
    "duration": 57,
    "start_time": "2024-10-24T07:20:40.166Z"
   },
   {
    "duration": 4,
    "start_time": "2024-10-24T07:20:40.225Z"
   },
   {
    "duration": 4,
    "start_time": "2024-10-24T07:20:40.233Z"
   },
   {
    "duration": 5,
    "start_time": "2024-10-24T07:20:40.239Z"
   },
   {
    "duration": 4,
    "start_time": "2024-10-24T07:20:40.246Z"
   },
   {
    "duration": 219,
    "start_time": "2024-10-24T07:20:40.251Z"
   },
   {
    "duration": 1465,
    "start_time": "2024-10-24T07:20:40.472Z"
   },
   {
    "duration": 17,
    "start_time": "2024-10-24T07:20:41.938Z"
   },
   {
    "duration": 5,
    "start_time": "2024-10-24T07:20:41.957Z"
   },
   {
    "duration": 193,
    "start_time": "2024-10-24T07:20:41.964Z"
   },
   {
    "duration": 23,
    "start_time": "2024-10-24T07:20:42.159Z"
   },
   {
    "duration": 3,
    "start_time": "2024-10-24T07:20:42.184Z"
   },
   {
    "duration": 241,
    "start_time": "2024-10-24T07:20:42.188Z"
   },
   {
    "duration": 0,
    "start_time": "2024-10-24T07:20:42.432Z"
   },
   {
    "duration": 0,
    "start_time": "2024-10-24T07:20:42.434Z"
   },
   {
    "duration": 0,
    "start_time": "2024-10-24T07:20:42.435Z"
   },
   {
    "duration": 0,
    "start_time": "2024-10-24T07:20:42.436Z"
   },
   {
    "duration": 0,
    "start_time": "2024-10-24T07:20:42.438Z"
   },
   {
    "duration": 0,
    "start_time": "2024-10-24T07:20:42.439Z"
   },
   {
    "duration": 0,
    "start_time": "2024-10-24T07:20:42.441Z"
   },
   {
    "duration": 0,
    "start_time": "2024-10-24T07:20:42.443Z"
   },
   {
    "duration": 0,
    "start_time": "2024-10-24T07:20:42.444Z"
   },
   {
    "duration": 0,
    "start_time": "2024-10-24T07:20:42.445Z"
   },
   {
    "duration": 0,
    "start_time": "2024-10-24T07:20:42.447Z"
   },
   {
    "duration": 0,
    "start_time": "2024-10-24T07:20:42.448Z"
   },
   {
    "duration": 0,
    "start_time": "2024-10-24T07:20:42.449Z"
   },
   {
    "duration": 0,
    "start_time": "2024-10-24T07:20:42.450Z"
   },
   {
    "duration": 0,
    "start_time": "2024-10-24T07:20:42.451Z"
   },
   {
    "duration": 0,
    "start_time": "2024-10-24T07:20:42.453Z"
   },
   {
    "duration": 0,
    "start_time": "2024-10-24T07:20:42.454Z"
   },
   {
    "duration": 0,
    "start_time": "2024-10-24T07:20:42.455Z"
   },
   {
    "duration": 0,
    "start_time": "2024-10-24T07:20:42.457Z"
   },
   {
    "duration": 0,
    "start_time": "2024-10-24T07:20:42.459Z"
   },
   {
    "duration": 0,
    "start_time": "2024-10-24T07:20:42.460Z"
   },
   {
    "duration": 0,
    "start_time": "2024-10-24T07:20:42.509Z"
   },
   {
    "duration": 0,
    "start_time": "2024-10-24T07:20:42.511Z"
   },
   {
    "duration": 0,
    "start_time": "2024-10-24T07:20:42.512Z"
   },
   {
    "duration": 0,
    "start_time": "2024-10-24T07:20:42.514Z"
   },
   {
    "duration": 0,
    "start_time": "2024-10-24T07:20:42.515Z"
   },
   {
    "duration": 0,
    "start_time": "2024-10-24T07:20:42.516Z"
   },
   {
    "duration": 0,
    "start_time": "2024-10-24T07:20:42.517Z"
   },
   {
    "duration": 0,
    "start_time": "2024-10-24T07:20:42.518Z"
   },
   {
    "duration": 0,
    "start_time": "2024-10-24T07:20:42.519Z"
   },
   {
    "duration": 0,
    "start_time": "2024-10-24T07:20:42.520Z"
   },
   {
    "duration": 5,
    "start_time": "2024-10-24T07:21:41.156Z"
   },
   {
    "duration": 4,
    "start_time": "2024-10-24T07:21:52.418Z"
   },
   {
    "duration": 847,
    "start_time": "2024-10-24T07:21:59.395Z"
   },
   {
    "duration": 105,
    "start_time": "2024-10-24T07:22:00.245Z"
   },
   {
    "duration": 17,
    "start_time": "2024-10-24T07:22:00.352Z"
   },
   {
    "duration": 9,
    "start_time": "2024-10-24T07:22:00.371Z"
   },
   {
    "duration": 28,
    "start_time": "2024-10-24T07:22:00.382Z"
   },
   {
    "duration": 44,
    "start_time": "2024-10-24T07:22:00.412Z"
   },
   {
    "duration": 3,
    "start_time": "2024-10-24T07:22:00.459Z"
   },
   {
    "duration": 7,
    "start_time": "2024-10-24T07:22:00.464Z"
   },
   {
    "duration": 6,
    "start_time": "2024-10-24T07:22:00.473Z"
   },
   {
    "duration": 35,
    "start_time": "2024-10-24T07:22:00.481Z"
   },
   {
    "duration": 7,
    "start_time": "2024-10-24T07:22:00.518Z"
   },
   {
    "duration": 23,
    "start_time": "2024-10-24T07:22:00.526Z"
   },
   {
    "duration": 4,
    "start_time": "2024-10-24T07:22:00.550Z"
   },
   {
    "duration": 3,
    "start_time": "2024-10-24T07:22:00.557Z"
   },
   {
    "duration": 5,
    "start_time": "2024-10-24T07:22:00.562Z"
   },
   {
    "duration": 4,
    "start_time": "2024-10-24T07:22:00.569Z"
   },
   {
    "duration": 192,
    "start_time": "2024-10-24T07:22:00.610Z"
   },
   {
    "duration": 1476,
    "start_time": "2024-10-24T07:22:00.808Z"
   },
   {
    "duration": 26,
    "start_time": "2024-10-24T07:22:02.285Z"
   },
   {
    "duration": 6,
    "start_time": "2024-10-24T07:22:02.313Z"
   },
   {
    "duration": 183,
    "start_time": "2024-10-24T07:22:02.321Z"
   },
   {
    "duration": 23,
    "start_time": "2024-10-24T07:22:02.505Z"
   },
   {
    "duration": 2,
    "start_time": "2024-10-24T07:22:02.530Z"
   },
   {
    "duration": 4,
    "start_time": "2024-10-24T07:22:02.535Z"
   },
   {
    "duration": 3,
    "start_time": "2024-10-24T07:22:02.541Z"
   },
   {
    "duration": 10,
    "start_time": "2024-10-24T07:22:02.545Z"
   },
   {
    "duration": 6,
    "start_time": "2024-10-24T07:22:02.556Z"
   },
   {
    "duration": 57,
    "start_time": "2024-10-24T07:22:02.564Z"
   },
   {
    "duration": 17,
    "start_time": "2024-10-24T07:22:02.623Z"
   },
   {
    "duration": 5,
    "start_time": "2024-10-24T07:22:02.641Z"
   },
   {
    "duration": 41,
    "start_time": "2024-10-24T07:22:02.648Z"
   },
   {
    "duration": 25,
    "start_time": "2024-10-24T07:22:02.691Z"
   },
   {
    "duration": 7,
    "start_time": "2024-10-24T07:22:02.718Z"
   },
   {
    "duration": 45,
    "start_time": "2024-10-24T07:22:02.727Z"
   },
   {
    "duration": 5,
    "start_time": "2024-10-24T07:22:02.773Z"
   },
   {
    "duration": 29,
    "start_time": "2024-10-24T07:22:02.780Z"
   },
   {
    "duration": 3,
    "start_time": "2024-10-24T07:22:02.811Z"
   },
   {
    "duration": 3,
    "start_time": "2024-10-24T07:22:02.816Z"
   },
   {
    "duration": 4,
    "start_time": "2024-10-24T07:22:02.820Z"
   },
   {
    "duration": 4,
    "start_time": "2024-10-24T07:22:02.825Z"
   },
   {
    "duration": 4,
    "start_time": "2024-10-24T07:22:02.833Z"
   },
   {
    "duration": 20,
    "start_time": "2024-10-24T07:22:02.839Z"
   },
   {
    "duration": 5,
    "start_time": "2024-10-24T07:22:02.861Z"
   },
   {
    "duration": 94,
    "start_time": "2024-10-24T07:22:02.867Z"
   },
   {
    "duration": 3,
    "start_time": "2024-10-24T07:22:02.963Z"
   },
   {
    "duration": 3,
    "start_time": "2024-10-24T07:22:02.970Z"
   },
   {
    "duration": 3,
    "start_time": "2024-10-24T07:22:02.975Z"
   },
   {
    "duration": 6,
    "start_time": "2024-10-24T07:22:02.980Z"
   },
   {
    "duration": 4,
    "start_time": "2024-10-24T07:22:03.009Z"
   },
   {
    "duration": 4,
    "start_time": "2024-10-24T07:22:03.015Z"
   },
   {
    "duration": 4,
    "start_time": "2024-10-24T07:22:03.021Z"
   },
   {
    "duration": 8,
    "start_time": "2024-10-24T07:22:03.026Z"
   },
   {
    "duration": 8,
    "start_time": "2024-10-24T07:22:03.036Z"
   },
   {
    "duration": 4,
    "start_time": "2024-10-24T07:22:03.046Z"
   },
   {
    "duration": 7,
    "start_time": "2024-10-24T07:22:03.054Z"
   },
   {
    "duration": 2480,
    "start_time": "2024-10-24T15:21:25.390Z"
   },
   {
    "duration": 133,
    "start_time": "2024-10-24T15:21:27.873Z"
   },
   {
    "duration": 25,
    "start_time": "2024-10-24T15:21:28.008Z"
   },
   {
    "duration": 8,
    "start_time": "2024-10-24T15:21:28.035Z"
   },
   {
    "duration": 11,
    "start_time": "2024-10-24T15:21:28.045Z"
   },
   {
    "duration": 42,
    "start_time": "2024-10-24T15:21:28.057Z"
   },
   {
    "duration": 24,
    "start_time": "2024-10-24T15:21:28.101Z"
   },
   {
    "duration": 7,
    "start_time": "2024-10-24T15:21:28.127Z"
   },
   {
    "duration": 7,
    "start_time": "2024-10-24T15:21:28.137Z"
   },
   {
    "duration": 11,
    "start_time": "2024-10-24T15:21:28.146Z"
   },
   {
    "duration": 7,
    "start_time": "2024-10-24T15:21:28.159Z"
   },
   {
    "duration": 23,
    "start_time": "2024-10-24T15:21:28.167Z"
   },
   {
    "duration": 33,
    "start_time": "2024-10-24T15:21:28.192Z"
   },
   {
    "duration": 4,
    "start_time": "2024-10-24T15:21:28.230Z"
   },
   {
    "duration": 5,
    "start_time": "2024-10-24T15:21:28.236Z"
   },
   {
    "duration": 4,
    "start_time": "2024-10-24T15:21:28.243Z"
   },
   {
    "duration": 200,
    "start_time": "2024-10-24T15:21:28.249Z"
   },
   {
    "duration": 1411,
    "start_time": "2024-10-24T15:21:28.451Z"
   },
   {
    "duration": 15,
    "start_time": "2024-10-24T15:21:29.864Z"
   },
   {
    "duration": 7,
    "start_time": "2024-10-24T15:21:29.881Z"
   },
   {
    "duration": 184,
    "start_time": "2024-10-24T15:21:29.889Z"
   },
   {
    "duration": 23,
    "start_time": "2024-10-24T15:21:30.075Z"
   },
   {
    "duration": 3,
    "start_time": "2024-10-24T15:21:30.100Z"
   },
   {
    "duration": 24,
    "start_time": "2024-10-24T15:21:30.104Z"
   },
   {
    "duration": 4,
    "start_time": "2024-10-24T15:21:30.129Z"
   },
   {
    "duration": 9,
    "start_time": "2024-10-24T15:21:30.135Z"
   },
   {
    "duration": 7,
    "start_time": "2024-10-24T15:21:30.146Z"
   },
   {
    "duration": 14,
    "start_time": "2024-10-24T15:21:30.155Z"
   },
   {
    "duration": 17,
    "start_time": "2024-10-24T15:21:30.170Z"
   },
   {
    "duration": 38,
    "start_time": "2024-10-24T15:21:30.188Z"
   },
   {
    "duration": 40,
    "start_time": "2024-10-24T15:21:30.228Z"
   },
   {
    "duration": 8,
    "start_time": "2024-10-24T15:21:30.270Z"
   },
   {
    "duration": 6,
    "start_time": "2024-10-24T15:21:30.280Z"
   },
   {
    "duration": 71,
    "start_time": "2024-10-24T15:21:30.288Z"
   },
   {
    "duration": 5,
    "start_time": "2024-10-24T15:21:30.361Z"
   },
   {
    "duration": 5,
    "start_time": "2024-10-24T15:21:30.368Z"
   },
   {
    "duration": 4,
    "start_time": "2024-10-24T15:21:30.375Z"
   },
   {
    "duration": 3,
    "start_time": "2024-10-24T15:21:30.380Z"
   },
   {
    "duration": 3,
    "start_time": "2024-10-24T15:21:30.385Z"
   },
   {
    "duration": 34,
    "start_time": "2024-10-24T15:21:30.390Z"
   },
   {
    "duration": 5,
    "start_time": "2024-10-24T15:21:30.428Z"
   },
   {
    "duration": 20,
    "start_time": "2024-10-24T15:21:30.434Z"
   },
   {
    "duration": 4,
    "start_time": "2024-10-24T15:21:30.456Z"
   },
   {
    "duration": 73,
    "start_time": "2024-10-24T15:21:30.462Z"
   },
   {
    "duration": 2,
    "start_time": "2024-10-24T15:21:30.537Z"
   },
   {
    "duration": 4,
    "start_time": "2024-10-24T15:21:30.541Z"
   },
   {
    "duration": 4,
    "start_time": "2024-10-24T15:21:30.546Z"
   },
   {
    "duration": 6,
    "start_time": "2024-10-24T15:21:30.551Z"
   },
   {
    "duration": 4,
    "start_time": "2024-10-24T15:21:30.558Z"
   },
   {
    "duration": 4,
    "start_time": "2024-10-24T15:21:30.565Z"
   },
   {
    "duration": 3,
    "start_time": "2024-10-24T15:21:30.571Z"
   },
   {
    "duration": 7,
    "start_time": "2024-10-24T15:21:30.575Z"
   },
   {
    "duration": 46,
    "start_time": "2024-10-24T15:21:30.584Z"
   },
   {
    "duration": 4,
    "start_time": "2024-10-24T15:21:30.632Z"
   },
   {
    "duration": 7,
    "start_time": "2024-10-24T15:21:30.638Z"
   },
   {
    "duration": 2679,
    "start_time": "2024-10-24T19:58:05.960Z"
   },
   {
    "duration": 137,
    "start_time": "2024-10-24T19:58:08.642Z"
   },
   {
    "duration": 18,
    "start_time": "2024-10-24T19:58:08.781Z"
   },
   {
    "duration": 10,
    "start_time": "2024-10-24T19:58:08.801Z"
   },
   {
    "duration": 21,
    "start_time": "2024-10-24T19:58:08.814Z"
   },
   {
    "duration": 42,
    "start_time": "2024-10-24T19:58:08.837Z"
   },
   {
    "duration": 3,
    "start_time": "2024-10-24T19:58:08.881Z"
   },
   {
    "duration": 7,
    "start_time": "2024-10-24T19:58:08.886Z"
   },
   {
    "duration": 6,
    "start_time": "2024-10-24T19:58:08.895Z"
   },
   {
    "duration": 39,
    "start_time": "2024-10-24T19:58:08.903Z"
   },
   {
    "duration": 8,
    "start_time": "2024-10-24T19:58:08.943Z"
   },
   {
    "duration": 23,
    "start_time": "2024-10-24T19:58:08.953Z"
   },
   {
    "duration": 3,
    "start_time": "2024-10-24T19:58:08.978Z"
   },
   {
    "duration": 7,
    "start_time": "2024-10-24T19:58:08.985Z"
   },
   {
    "duration": 4,
    "start_time": "2024-10-24T19:58:08.993Z"
   },
   {
    "duration": 4,
    "start_time": "2024-10-24T19:58:09.030Z"
   },
   {
    "duration": 186,
    "start_time": "2024-10-24T19:58:09.036Z"
   },
   {
    "duration": 1459,
    "start_time": "2024-10-24T19:58:09.223Z"
   },
   {
    "duration": 16,
    "start_time": "2024-10-24T19:58:10.684Z"
   },
   {
    "duration": 6,
    "start_time": "2024-10-24T19:58:10.702Z"
   },
   {
    "duration": 199,
    "start_time": "2024-10-24T19:58:10.710Z"
   },
   {
    "duration": 29,
    "start_time": "2024-10-24T19:58:10.913Z"
   },
   {
    "duration": 4,
    "start_time": "2024-10-24T19:58:10.943Z"
   },
   {
    "duration": 4,
    "start_time": "2024-10-24T19:58:10.948Z"
   },
   {
    "duration": 3,
    "start_time": "2024-10-24T19:58:10.954Z"
   },
   {
    "duration": 10,
    "start_time": "2024-10-24T19:58:10.959Z"
   },
   {
    "duration": 7,
    "start_time": "2024-10-24T19:58:10.970Z"
   },
   {
    "duration": 53,
    "start_time": "2024-10-24T19:58:10.979Z"
   },
   {
    "duration": 17,
    "start_time": "2024-10-24T19:58:11.033Z"
   },
   {
    "duration": 4,
    "start_time": "2024-10-24T19:58:11.052Z"
   },
   {
    "duration": 41,
    "start_time": "2024-10-24T19:58:11.058Z"
   },
   {
    "duration": 9,
    "start_time": "2024-10-24T19:58:11.101Z"
   },
   {
    "duration": 6,
    "start_time": "2024-10-24T19:58:11.132Z"
   },
   {
    "duration": 43,
    "start_time": "2024-10-24T19:58:11.140Z"
   },
   {
    "duration": 5,
    "start_time": "2024-10-24T19:58:11.185Z"
   },
   {
    "duration": 5,
    "start_time": "2024-10-24T19:58:11.191Z"
   },
   {
    "duration": 3,
    "start_time": "2024-10-24T19:58:11.197Z"
   },
   {
    "duration": 30,
    "start_time": "2024-10-24T19:58:11.202Z"
   },
   {
    "duration": 4,
    "start_time": "2024-10-24T19:58:11.233Z"
   },
   {
    "duration": 4,
    "start_time": "2024-10-24T19:58:11.238Z"
   },
   {
    "duration": 5,
    "start_time": "2024-10-24T19:58:11.247Z"
   },
   {
    "duration": 22,
    "start_time": "2024-10-24T19:58:11.253Z"
   },
   {
    "duration": 4,
    "start_time": "2024-10-24T19:58:11.276Z"
   },
   {
    "duration": 90,
    "start_time": "2024-10-24T19:58:11.282Z"
   },
   {
    "duration": 5,
    "start_time": "2024-10-24T19:58:11.374Z"
   },
   {
    "duration": 3,
    "start_time": "2024-10-24T19:58:11.381Z"
   },
   {
    "duration": 3,
    "start_time": "2024-10-24T19:58:11.386Z"
   },
   {
    "duration": 5,
    "start_time": "2024-10-24T19:58:11.391Z"
   },
   {
    "duration": 3,
    "start_time": "2024-10-24T19:58:11.398Z"
   },
   {
    "duration": 29,
    "start_time": "2024-10-24T19:58:11.403Z"
   },
   {
    "duration": 4,
    "start_time": "2024-10-24T19:58:11.433Z"
   },
   {
    "duration": 7,
    "start_time": "2024-10-24T19:58:11.439Z"
   },
   {
    "duration": 8,
    "start_time": "2024-10-24T19:58:11.447Z"
   },
   {
    "duration": 4,
    "start_time": "2024-10-24T19:58:11.457Z"
   },
   {
    "duration": 8,
    "start_time": "2024-10-24T19:58:11.463Z"
   },
   {
    "duration": 2,
    "start_time": "2024-10-24T19:59:28.266Z"
   },
   {
    "duration": 4,
    "start_time": "2024-10-24T19:59:41.779Z"
   },
   {
    "duration": 9,
    "start_time": "2024-10-24T20:00:09.888Z"
   },
   {
    "duration": 4,
    "start_time": "2024-10-24T20:00:11.166Z"
   },
   {
    "duration": 6,
    "start_time": "2024-10-24T20:00:15.036Z"
   },
   {
    "duration": 4,
    "start_time": "2024-10-24T20:00:16.292Z"
   },
   {
    "duration": 2,
    "start_time": "2024-10-24T20:00:17.552Z"
   },
   {
    "duration": 4,
    "start_time": "2024-10-24T20:00:20.225Z"
   },
   {
    "duration": 10,
    "start_time": "2024-10-24T20:01:29.311Z"
   },
   {
    "duration": 3,
    "start_time": "2024-10-24T20:01:30.737Z"
   },
   {
    "duration": 6,
    "start_time": "2024-10-24T20:01:33.032Z"
   },
   {
    "duration": 3,
    "start_time": "2024-10-24T20:01:35.061Z"
   },
   {
    "duration": 2,
    "start_time": "2024-10-24T20:04:14.395Z"
   },
   {
    "duration": 3,
    "start_time": "2024-10-24T20:04:41.816Z"
   },
   {
    "duration": 11,
    "start_time": "2024-10-24T20:05:41.537Z"
   },
   {
    "duration": 4,
    "start_time": "2024-10-24T20:05:42.868Z"
   },
   {
    "duration": 6,
    "start_time": "2024-10-24T20:05:44.159Z"
   },
   {
    "duration": 2,
    "start_time": "2024-10-24T20:05:45.370Z"
   },
   {
    "duration": 5,
    "start_time": "2024-10-24T20:05:47.575Z"
   },
   {
    "duration": 3,
    "start_time": "2024-10-24T20:09:53.675Z"
   },
   {
    "duration": 3,
    "start_time": "2024-10-24T20:09:59.617Z"
   },
   {
    "duration": 837,
    "start_time": "2024-10-24T20:11:38.898Z"
   },
   {
    "duration": 105,
    "start_time": "2024-10-24T20:11:39.737Z"
   },
   {
    "duration": 17,
    "start_time": "2024-10-24T20:11:39.843Z"
   },
   {
    "duration": 8,
    "start_time": "2024-10-24T20:11:39.862Z"
   },
   {
    "duration": 14,
    "start_time": "2024-10-24T20:11:39.872Z"
   },
   {
    "duration": 70,
    "start_time": "2024-10-24T20:11:39.888Z"
   },
   {
    "duration": 3,
    "start_time": "2024-10-24T20:11:39.960Z"
   },
   {
    "duration": 7,
    "start_time": "2024-10-24T20:11:39.965Z"
   },
   {
    "duration": 8,
    "start_time": "2024-10-24T20:11:39.973Z"
   },
   {
    "duration": 11,
    "start_time": "2024-10-24T20:11:39.984Z"
   },
   {
    "duration": 6,
    "start_time": "2024-10-24T20:11:39.997Z"
   },
   {
    "duration": 10,
    "start_time": "2024-10-24T20:11:40.031Z"
   },
   {
    "duration": 4,
    "start_time": "2024-10-24T20:11:40.042Z"
   },
   {
    "duration": 8,
    "start_time": "2024-10-24T20:11:40.047Z"
   },
   {
    "duration": 4,
    "start_time": "2024-10-24T20:11:40.056Z"
   },
   {
    "duration": 4,
    "start_time": "2024-10-24T20:11:40.061Z"
   },
   {
    "duration": 4,
    "start_time": "2024-10-24T20:11:40.067Z"
   },
   {
    "duration": 4,
    "start_time": "2024-10-24T20:11:40.072Z"
   },
   {
    "duration": 216,
    "start_time": "2024-10-24T20:11:40.078Z"
   },
   {
    "duration": 1459,
    "start_time": "2024-10-24T20:11:40.296Z"
   },
   {
    "duration": 16,
    "start_time": "2024-10-24T20:11:41.757Z"
   },
   {
    "duration": 6,
    "start_time": "2024-10-24T20:11:41.775Z"
   },
   {
    "duration": 194,
    "start_time": "2024-10-24T20:11:41.783Z"
   },
   {
    "duration": 10,
    "start_time": "2024-10-24T20:11:41.979Z"
   },
   {
    "duration": 3,
    "start_time": "2024-10-24T20:11:41.991Z"
   },
   {
    "duration": 6,
    "start_time": "2024-10-24T20:11:41.998Z"
   },
   {
    "duration": 6,
    "start_time": "2024-10-24T20:11:42.006Z"
   },
   {
    "duration": 4,
    "start_time": "2024-10-24T20:11:42.035Z"
   },
   {
    "duration": 10,
    "start_time": "2024-10-24T20:11:42.040Z"
   },
   {
    "duration": 10,
    "start_time": "2024-10-24T20:11:42.052Z"
   },
   {
    "duration": 16,
    "start_time": "2024-10-24T20:11:42.064Z"
   },
   {
    "duration": 18,
    "start_time": "2024-10-24T20:11:42.081Z"
   },
   {
    "duration": 31,
    "start_time": "2024-10-24T20:11:42.101Z"
   },
   {
    "duration": 41,
    "start_time": "2024-10-24T20:11:42.134Z"
   },
   {
    "duration": 8,
    "start_time": "2024-10-24T20:11:42.178Z"
   },
   {
    "duration": 21,
    "start_time": "2024-10-24T20:11:42.188Z"
   },
   {
    "duration": 52,
    "start_time": "2024-10-24T20:11:42.210Z"
   },
   {
    "duration": 5,
    "start_time": "2024-10-24T20:11:42.264Z"
   },
   {
    "duration": 4,
    "start_time": "2024-10-24T20:11:42.271Z"
   },
   {
    "duration": 3,
    "start_time": "2024-10-24T20:11:42.276Z"
   },
   {
    "duration": 3,
    "start_time": "2024-10-24T20:11:42.281Z"
   },
   {
    "duration": 4,
    "start_time": "2024-10-24T20:11:42.285Z"
   },
   {
    "duration": 3,
    "start_time": "2024-10-24T20:11:42.290Z"
   },
   {
    "duration": 37,
    "start_time": "2024-10-24T20:11:42.295Z"
   },
   {
    "duration": 20,
    "start_time": "2024-10-24T20:11:42.333Z"
   },
   {
    "duration": 4,
    "start_time": "2024-10-24T20:11:42.355Z"
   },
   {
    "duration": 72,
    "start_time": "2024-10-24T20:11:42.360Z"
   },
   {
    "duration": 2,
    "start_time": "2024-10-24T20:11:42.434Z"
   },
   {
    "duration": 5,
    "start_time": "2024-10-24T20:11:42.438Z"
   },
   {
    "duration": 3,
    "start_time": "2024-10-24T20:11:42.444Z"
   },
   {
    "duration": 6,
    "start_time": "2024-10-24T20:11:42.450Z"
   },
   {
    "duration": 5,
    "start_time": "2024-10-24T20:11:42.457Z"
   },
   {
    "duration": 4,
    "start_time": "2024-10-24T20:11:42.463Z"
   },
   {
    "duration": 8,
    "start_time": "2024-10-24T20:11:42.469Z"
   },
   {
    "duration": 10,
    "start_time": "2024-10-24T20:11:42.478Z"
   },
   {
    "duration": 8,
    "start_time": "2024-10-24T20:11:42.490Z"
   },
   {
    "duration": 5,
    "start_time": "2024-10-24T20:11:42.531Z"
   },
   {
    "duration": 7,
    "start_time": "2024-10-24T20:11:42.538Z"
   },
   {
    "duration": 2,
    "start_time": "2024-10-24T20:13:12.977Z"
   },
   {
    "duration": 7,
    "start_time": "2024-10-24T20:13:16.384Z"
   },
   {
    "duration": 3,
    "start_time": "2024-10-24T20:13:18.721Z"
   },
   {
    "duration": 217,
    "start_time": "2024-10-24T20:13:19.894Z"
   },
   {
    "duration": 4,
    "start_time": "2024-10-24T20:13:26.946Z"
   },
   {
    "duration": 2654,
    "start_time": "2024-10-25T15:55:20.471Z"
   },
   {
    "duration": 139,
    "start_time": "2024-10-25T15:55:23.128Z"
   },
   {
    "duration": 17,
    "start_time": "2024-10-25T15:55:23.269Z"
   },
   {
    "duration": 8,
    "start_time": "2024-10-25T15:55:23.288Z"
   },
   {
    "duration": 12,
    "start_time": "2024-10-25T15:55:23.300Z"
   },
   {
    "duration": 66,
    "start_time": "2024-10-25T15:55:23.314Z"
   },
   {
    "duration": 4,
    "start_time": "2024-10-25T15:55:23.382Z"
   },
   {
    "duration": 7,
    "start_time": "2024-10-25T15:55:23.387Z"
   },
   {
    "duration": 9,
    "start_time": "2024-10-25T15:55:23.395Z"
   },
   {
    "duration": 37,
    "start_time": "2024-10-25T15:55:23.406Z"
   },
   {
    "duration": 8,
    "start_time": "2024-10-25T15:55:23.444Z"
   },
   {
    "duration": 9,
    "start_time": "2024-10-25T15:55:23.454Z"
   },
   {
    "duration": 3,
    "start_time": "2024-10-25T15:55:23.465Z"
   },
   {
    "duration": 3,
    "start_time": "2024-10-25T15:55:23.473Z"
   },
   {
    "duration": 4,
    "start_time": "2024-10-25T15:55:23.478Z"
   },
   {
    "duration": 3,
    "start_time": "2024-10-25T15:55:23.484Z"
   },
   {
    "duration": 5,
    "start_time": "2024-10-25T15:55:23.489Z"
   },
   {
    "duration": 49,
    "start_time": "2024-10-25T15:55:23.495Z"
   },
   {
    "duration": 187,
    "start_time": "2024-10-25T15:55:23.546Z"
   },
   {
    "duration": 1462,
    "start_time": "2024-10-25T15:55:23.735Z"
   },
   {
    "duration": 17,
    "start_time": "2024-10-25T15:55:25.199Z"
   },
   {
    "duration": 6,
    "start_time": "2024-10-25T15:55:25.218Z"
   },
   {
    "duration": 205,
    "start_time": "2024-10-25T15:55:25.226Z"
   },
   {
    "duration": 19,
    "start_time": "2024-10-25T15:55:25.433Z"
   },
   {
    "duration": 3,
    "start_time": "2024-10-25T15:55:25.454Z"
   },
   {
    "duration": 7,
    "start_time": "2024-10-25T15:55:25.459Z"
   },
   {
    "duration": 3,
    "start_time": "2024-10-25T15:55:25.467Z"
   },
   {
    "duration": 6,
    "start_time": "2024-10-25T15:55:25.472Z"
   },
   {
    "duration": 9,
    "start_time": "2024-10-25T15:55:25.479Z"
   },
   {
    "duration": 6,
    "start_time": "2024-10-25T15:55:25.490Z"
   },
   {
    "duration": 52,
    "start_time": "2024-10-25T15:55:25.498Z"
   },
   {
    "duration": 18,
    "start_time": "2024-10-25T15:55:25.552Z"
   },
   {
    "duration": 4,
    "start_time": "2024-10-25T15:55:25.572Z"
   },
   {
    "duration": 66,
    "start_time": "2024-10-25T15:55:25.578Z"
   },
   {
    "duration": 9,
    "start_time": "2024-10-25T15:55:25.646Z"
   },
   {
    "duration": 7,
    "start_time": "2024-10-25T15:55:25.657Z"
   },
   {
    "duration": 44,
    "start_time": "2024-10-25T15:55:25.666Z"
   },
   {
    "duration": 5,
    "start_time": "2024-10-25T15:55:25.712Z"
   },
   {
    "duration": 5,
    "start_time": "2024-10-25T15:55:25.743Z"
   },
   {
    "duration": 4,
    "start_time": "2024-10-25T15:55:25.750Z"
   },
   {
    "duration": 2,
    "start_time": "2024-10-25T15:55:25.760Z"
   },
   {
    "duration": 4,
    "start_time": "2024-10-25T15:55:25.764Z"
   },
   {
    "duration": 3,
    "start_time": "2024-10-25T15:55:25.770Z"
   },
   {
    "duration": 5,
    "start_time": "2024-10-25T15:55:25.775Z"
   },
   {
    "duration": 22,
    "start_time": "2024-10-25T15:55:25.781Z"
   },
   {
    "duration": 5,
    "start_time": "2024-10-25T15:55:25.842Z"
   },
   {
    "duration": 58,
    "start_time": "2024-10-25T15:55:25.849Z"
   },
   {
    "duration": 2,
    "start_time": "2024-10-25T15:55:25.909Z"
   },
   {
    "duration": 3,
    "start_time": "2024-10-25T15:55:25.913Z"
   },
   {
    "duration": 4,
    "start_time": "2024-10-25T15:55:25.942Z"
   },
   {
    "duration": 6,
    "start_time": "2024-10-25T15:55:25.947Z"
   },
   {
    "duration": 4,
    "start_time": "2024-10-25T15:55:25.955Z"
   },
   {
    "duration": 4,
    "start_time": "2024-10-25T15:55:25.961Z"
   },
   {
    "duration": 8,
    "start_time": "2024-10-25T15:55:25.967Z"
   },
   {
    "duration": 8,
    "start_time": "2024-10-25T15:55:25.976Z"
   },
   {
    "duration": 7,
    "start_time": "2024-10-25T15:55:25.985Z"
   },
   {
    "duration": 3,
    "start_time": "2024-10-25T15:55:25.994Z"
   },
   {
    "duration": 48,
    "start_time": "2024-10-25T15:55:25.999Z"
   },
   {
    "duration": 4,
    "start_time": "2024-10-25T16:01:36.518Z"
   },
   {
    "duration": 4,
    "start_time": "2024-10-25T16:02:46.385Z"
   },
   {
    "duration": 5,
    "start_time": "2024-10-25T16:02:47.930Z"
   },
   {
    "duration": 4,
    "start_time": "2024-10-25T16:03:09.984Z"
   },
   {
    "duration": 4,
    "start_time": "2024-10-25T16:03:14.394Z"
   },
   {
    "duration": 2,
    "start_time": "2024-10-25T16:12:07.540Z"
   },
   {
    "duration": 218,
    "start_time": "2024-10-25T16:12:27.364Z"
   },
   {
    "duration": 13,
    "start_time": "2024-10-25T16:12:38.272Z"
   },
   {
    "duration": 4,
    "start_time": "2024-10-25T16:12:53.879Z"
   },
   {
    "duration": 6,
    "start_time": "2024-10-25T16:15:02.575Z"
   },
   {
    "duration": 6,
    "start_time": "2024-10-25T16:15:12.284Z"
   },
   {
    "duration": 57,
    "start_time": "2024-10-25T16:24:14.896Z"
   },
   {
    "duration": 2543,
    "start_time": "2024-10-26T12:56:49.988Z"
   },
   {
    "duration": 121,
    "start_time": "2024-10-26T12:56:52.534Z"
   },
   {
    "duration": 21,
    "start_time": "2024-10-26T12:56:52.656Z"
   },
   {
    "duration": 8,
    "start_time": "2024-10-26T12:56:52.680Z"
   },
   {
    "duration": 11,
    "start_time": "2024-10-26T12:56:52.689Z"
   },
   {
    "duration": 43,
    "start_time": "2024-10-26T12:56:52.702Z"
   },
   {
    "duration": 3,
    "start_time": "2024-10-26T12:56:52.770Z"
   },
   {
    "duration": 8,
    "start_time": "2024-10-26T12:56:52.775Z"
   },
   {
    "duration": 7,
    "start_time": "2024-10-26T12:56:52.784Z"
   },
   {
    "duration": 12,
    "start_time": "2024-10-26T12:56:52.795Z"
   },
   {
    "duration": 7,
    "start_time": "2024-10-26T12:56:52.808Z"
   },
   {
    "duration": 9,
    "start_time": "2024-10-26T12:56:52.817Z"
   },
   {
    "duration": 43,
    "start_time": "2024-10-26T12:56:52.828Z"
   },
   {
    "duration": 3,
    "start_time": "2024-10-26T12:56:52.873Z"
   },
   {
    "duration": 4,
    "start_time": "2024-10-26T12:56:52.878Z"
   },
   {
    "duration": 3,
    "start_time": "2024-10-26T12:56:52.884Z"
   },
   {
    "duration": 5,
    "start_time": "2024-10-26T12:56:52.889Z"
   },
   {
    "duration": 4,
    "start_time": "2024-10-26T12:56:52.896Z"
   },
   {
    "duration": 206,
    "start_time": "2024-10-26T12:56:52.902Z"
   },
   {
    "duration": 1435,
    "start_time": "2024-10-26T12:56:53.110Z"
   },
   {
    "duration": 27,
    "start_time": "2024-10-26T12:56:54.547Z"
   },
   {
    "duration": 7,
    "start_time": "2024-10-26T12:56:54.576Z"
   },
   {
    "duration": 181,
    "start_time": "2024-10-26T12:56:54.584Z"
   },
   {
    "duration": 11,
    "start_time": "2024-10-26T12:56:54.771Z"
   },
   {
    "duration": 5,
    "start_time": "2024-10-26T12:56:54.783Z"
   },
   {
    "duration": 4,
    "start_time": "2024-10-26T12:56:54.789Z"
   },
   {
    "duration": 0,
    "start_time": "2024-10-26T12:56:54.796Z"
   },
   {
    "duration": 0,
    "start_time": "2024-10-26T12:56:54.798Z"
   },
   {
    "duration": 0,
    "start_time": "2024-10-26T12:56:54.799Z"
   },
   {
    "duration": 0,
    "start_time": "2024-10-26T12:56:54.800Z"
   },
   {
    "duration": 0,
    "start_time": "2024-10-26T12:56:54.801Z"
   },
   {
    "duration": 0,
    "start_time": "2024-10-26T12:56:54.802Z"
   },
   {
    "duration": 0,
    "start_time": "2024-10-26T12:56:54.804Z"
   },
   {
    "duration": 0,
    "start_time": "2024-10-26T12:56:54.805Z"
   },
   {
    "duration": 0,
    "start_time": "2024-10-26T12:56:54.806Z"
   },
   {
    "duration": 0,
    "start_time": "2024-10-26T12:56:54.807Z"
   },
   {
    "duration": 0,
    "start_time": "2024-10-26T12:56:54.808Z"
   },
   {
    "duration": 0,
    "start_time": "2024-10-26T12:56:54.810Z"
   },
   {
    "duration": 0,
    "start_time": "2024-10-26T12:56:54.812Z"
   },
   {
    "duration": 0,
    "start_time": "2024-10-26T12:56:54.813Z"
   },
   {
    "duration": 1,
    "start_time": "2024-10-26T12:56:54.814Z"
   },
   {
    "duration": 0,
    "start_time": "2024-10-26T12:56:54.816Z"
   },
   {
    "duration": 0,
    "start_time": "2024-10-26T12:56:54.817Z"
   },
   {
    "duration": 0,
    "start_time": "2024-10-26T12:56:54.819Z"
   },
   {
    "duration": 0,
    "start_time": "2024-10-26T12:56:54.820Z"
   },
   {
    "duration": 0,
    "start_time": "2024-10-26T12:56:54.870Z"
   },
   {
    "duration": 0,
    "start_time": "2024-10-26T12:56:54.872Z"
   },
   {
    "duration": 0,
    "start_time": "2024-10-26T12:56:54.874Z"
   },
   {
    "duration": 0,
    "start_time": "2024-10-26T12:56:54.875Z"
   },
   {
    "duration": 0,
    "start_time": "2024-10-26T12:56:54.877Z"
   },
   {
    "duration": 0,
    "start_time": "2024-10-26T12:56:54.878Z"
   },
   {
    "duration": 0,
    "start_time": "2024-10-26T12:56:54.880Z"
   },
   {
    "duration": 0,
    "start_time": "2024-10-26T12:56:54.881Z"
   },
   {
    "duration": 0,
    "start_time": "2024-10-26T12:56:54.883Z"
   },
   {
    "duration": 0,
    "start_time": "2024-10-26T12:56:54.884Z"
   },
   {
    "duration": 0,
    "start_time": "2024-10-26T12:56:54.885Z"
   },
   {
    "duration": 0,
    "start_time": "2024-10-26T12:56:54.887Z"
   },
   {
    "duration": 0,
    "start_time": "2024-10-26T12:56:54.888Z"
   },
   {
    "duration": 0,
    "start_time": "2024-10-26T12:56:54.889Z"
   },
   {
    "duration": 2543,
    "start_time": "2024-10-28T17:59:39.984Z"
   },
   {
    "duration": 131,
    "start_time": "2024-10-28T17:59:42.529Z"
   },
   {
    "duration": 21,
    "start_time": "2024-10-28T17:59:42.662Z"
   },
   {
    "duration": 8,
    "start_time": "2024-10-28T17:59:42.686Z"
   },
   {
    "duration": 13,
    "start_time": "2024-10-28T17:59:42.696Z"
   },
   {
    "duration": 41,
    "start_time": "2024-10-28T17:59:42.724Z"
   },
   {
    "duration": 3,
    "start_time": "2024-10-28T17:59:42.767Z"
   },
   {
    "duration": 6,
    "start_time": "2024-10-28T17:59:42.772Z"
   },
   {
    "duration": 7,
    "start_time": "2024-10-28T17:59:42.779Z"
   },
   {
    "duration": 35,
    "start_time": "2024-10-28T17:59:42.790Z"
   },
   {
    "duration": 7,
    "start_time": "2024-10-28T17:59:42.826Z"
   },
   {
    "duration": 9,
    "start_time": "2024-10-28T17:59:42.835Z"
   },
   {
    "duration": 4,
    "start_time": "2024-10-28T17:59:42.846Z"
   },
   {
    "duration": 3,
    "start_time": "2024-10-28T17:59:42.852Z"
   },
   {
    "duration": 4,
    "start_time": "2024-10-28T17:59:42.856Z"
   },
   {
    "duration": 4,
    "start_time": "2024-10-28T17:59:42.862Z"
   },
   {
    "duration": 5,
    "start_time": "2024-10-28T17:59:42.867Z"
   },
   {
    "duration": 4,
    "start_time": "2024-10-28T17:59:42.874Z"
   },
   {
    "duration": 183,
    "start_time": "2024-10-28T17:59:42.925Z"
   },
   {
    "duration": 1475,
    "start_time": "2024-10-28T17:59:43.110Z"
   },
   {
    "duration": 17,
    "start_time": "2024-10-28T17:59:44.587Z"
   },
   {
    "duration": 17,
    "start_time": "2024-10-28T17:59:44.606Z"
   },
   {
    "duration": 180,
    "start_time": "2024-10-28T17:59:44.625Z"
   },
   {
    "duration": 11,
    "start_time": "2024-10-28T17:59:44.806Z"
   },
   {
    "duration": 4,
    "start_time": "2024-10-28T17:59:44.824Z"
   },
   {
    "duration": 5,
    "start_time": "2024-10-28T17:59:44.830Z"
   },
   {
    "duration": 0,
    "start_time": "2024-10-28T17:59:44.838Z"
   },
   {
    "duration": 0,
    "start_time": "2024-10-28T17:59:44.839Z"
   },
   {
    "duration": 0,
    "start_time": "2024-10-28T17:59:44.841Z"
   },
   {
    "duration": 0,
    "start_time": "2024-10-28T17:59:44.842Z"
   },
   {
    "duration": 0,
    "start_time": "2024-10-28T17:59:44.844Z"
   },
   {
    "duration": 0,
    "start_time": "2024-10-28T17:59:44.845Z"
   },
   {
    "duration": 0,
    "start_time": "2024-10-28T17:59:44.847Z"
   },
   {
    "duration": 0,
    "start_time": "2024-10-28T17:59:44.848Z"
   },
   {
    "duration": 0,
    "start_time": "2024-10-28T17:59:44.849Z"
   },
   {
    "duration": 0,
    "start_time": "2024-10-28T17:59:44.851Z"
   },
   {
    "duration": 0,
    "start_time": "2024-10-28T17:59:44.852Z"
   },
   {
    "duration": 0,
    "start_time": "2024-10-28T17:59:44.853Z"
   },
   {
    "duration": 0,
    "start_time": "2024-10-28T17:59:44.854Z"
   },
   {
    "duration": 0,
    "start_time": "2024-10-28T17:59:44.856Z"
   },
   {
    "duration": 0,
    "start_time": "2024-10-28T17:59:44.857Z"
   },
   {
    "duration": 0,
    "start_time": "2024-10-28T17:59:44.858Z"
   },
   {
    "duration": 0,
    "start_time": "2024-10-28T17:59:44.859Z"
   },
   {
    "duration": 0,
    "start_time": "2024-10-28T17:59:44.860Z"
   },
   {
    "duration": 0,
    "start_time": "2024-10-28T17:59:44.862Z"
   },
   {
    "duration": 0,
    "start_time": "2024-10-28T17:59:44.863Z"
   },
   {
    "duration": 0,
    "start_time": "2024-10-28T17:59:44.864Z"
   },
   {
    "duration": 0,
    "start_time": "2024-10-28T17:59:44.866Z"
   },
   {
    "duration": 0,
    "start_time": "2024-10-28T17:59:44.867Z"
   },
   {
    "duration": 0,
    "start_time": "2024-10-28T17:59:44.871Z"
   },
   {
    "duration": 0,
    "start_time": "2024-10-28T17:59:44.872Z"
   },
   {
    "duration": 0,
    "start_time": "2024-10-28T17:59:44.872Z"
   },
   {
    "duration": 0,
    "start_time": "2024-10-28T17:59:44.873Z"
   },
   {
    "duration": 0,
    "start_time": "2024-10-28T17:59:44.873Z"
   },
   {
    "duration": 0,
    "start_time": "2024-10-28T17:59:44.874Z"
   },
   {
    "duration": 0,
    "start_time": "2024-10-28T17:59:44.874Z"
   },
   {
    "duration": 0,
    "start_time": "2024-10-28T17:59:44.924Z"
   },
   {
    "duration": 0,
    "start_time": "2024-10-28T17:59:44.926Z"
   },
   {
    "duration": 1,
    "start_time": "2024-10-28T17:59:44.927Z"
   },
   {
    "duration": 0,
    "start_time": "2024-10-28T17:59:44.929Z"
   },
   {
    "duration": 846,
    "start_time": "2024-10-28T18:00:21.889Z"
   },
   {
    "duration": 91,
    "start_time": "2024-10-28T18:00:22.737Z"
   },
   {
    "duration": 15,
    "start_time": "2024-10-28T18:00:22.830Z"
   },
   {
    "duration": 7,
    "start_time": "2024-10-28T18:00:22.848Z"
   },
   {
    "duration": 11,
    "start_time": "2024-10-28T18:00:22.857Z"
   },
   {
    "duration": 67,
    "start_time": "2024-10-28T18:00:22.870Z"
   },
   {
    "duration": 4,
    "start_time": "2024-10-28T18:00:22.938Z"
   },
   {
    "duration": 7,
    "start_time": "2024-10-28T18:00:22.943Z"
   },
   {
    "duration": 6,
    "start_time": "2024-10-28T18:00:22.952Z"
   },
   {
    "duration": 11,
    "start_time": "2024-10-28T18:00:22.962Z"
   },
   {
    "duration": 7,
    "start_time": "2024-10-28T18:00:22.974Z"
   },
   {
    "duration": 41,
    "start_time": "2024-10-28T18:00:22.983Z"
   },
   {
    "duration": 3,
    "start_time": "2024-10-28T18:00:23.026Z"
   },
   {
    "duration": 3,
    "start_time": "2024-10-28T18:00:23.031Z"
   },
   {
    "duration": 4,
    "start_time": "2024-10-28T18:00:23.036Z"
   },
   {
    "duration": 3,
    "start_time": "2024-10-28T18:00:23.041Z"
   },
   {
    "duration": 4,
    "start_time": "2024-10-28T18:00:23.046Z"
   },
   {
    "duration": 5,
    "start_time": "2024-10-28T18:00:23.051Z"
   },
   {
    "duration": 216,
    "start_time": "2024-10-28T18:00:23.057Z"
   },
   {
    "duration": 1480,
    "start_time": "2024-10-28T18:00:23.275Z"
   },
   {
    "duration": 17,
    "start_time": "2024-10-28T18:00:24.756Z"
   },
   {
    "duration": 5,
    "start_time": "2024-10-28T18:00:24.775Z"
   },
   {
    "duration": 188,
    "start_time": "2024-10-28T18:00:24.782Z"
   },
   {
    "duration": 10,
    "start_time": "2024-10-28T18:00:24.972Z"
   },
   {
    "duration": 3,
    "start_time": "2024-10-28T18:00:24.984Z"
   },
   {
    "duration": 4,
    "start_time": "2024-10-28T18:00:24.989Z"
   },
   {
    "duration": 30,
    "start_time": "2024-10-28T18:00:24.994Z"
   },
   {
    "duration": 3,
    "start_time": "2024-10-28T18:00:25.029Z"
   },
   {
    "duration": 5,
    "start_time": "2024-10-28T18:00:25.034Z"
   },
   {
    "duration": 9,
    "start_time": "2024-10-28T18:00:25.041Z"
   },
   {
    "duration": 7,
    "start_time": "2024-10-28T18:00:25.051Z"
   },
   {
    "duration": 16,
    "start_time": "2024-10-28T18:00:25.059Z"
   },
   {
    "duration": 16,
    "start_time": "2024-10-28T18:00:25.076Z"
   },
   {
    "duration": 6,
    "start_time": "2024-10-28T18:00:25.125Z"
   },
   {
    "duration": 39,
    "start_time": "2024-10-28T18:00:25.132Z"
   },
   {
    "duration": 7,
    "start_time": "2024-10-28T18:00:25.173Z"
   },
   {
    "duration": 6,
    "start_time": "2024-10-28T18:00:25.182Z"
   },
   {
    "duration": 72,
    "start_time": "2024-10-28T18:00:25.190Z"
   },
   {
    "duration": 6,
    "start_time": "2024-10-28T18:00:25.264Z"
   },
   {
    "duration": 5,
    "start_time": "2024-10-28T18:00:25.272Z"
   },
   {
    "duration": 5,
    "start_time": "2024-10-28T18:00:25.278Z"
   },
   {
    "duration": 5,
    "start_time": "2024-10-28T18:00:25.286Z"
   },
   {
    "duration": 6,
    "start_time": "2024-10-28T18:00:25.293Z"
   },
   {
    "duration": 25,
    "start_time": "2024-10-28T18:00:25.300Z"
   },
   {
    "duration": 5,
    "start_time": "2024-10-28T18:00:25.327Z"
   },
   {
    "duration": 19,
    "start_time": "2024-10-28T18:00:25.334Z"
   },
   {
    "duration": 4,
    "start_time": "2024-10-28T18:00:25.355Z"
   },
   {
    "duration": 86,
    "start_time": "2024-10-28T18:00:25.360Z"
   },
   {
    "duration": 3,
    "start_time": "2024-10-28T18:00:25.447Z"
   },
   {
    "duration": 4,
    "start_time": "2024-10-28T18:00:25.451Z"
   },
   {
    "duration": 3,
    "start_time": "2024-10-28T18:00:25.457Z"
   },
   {
    "duration": 6,
    "start_time": "2024-10-28T18:00:25.462Z"
   },
   {
    "duration": 3,
    "start_time": "2024-10-28T18:00:25.470Z"
   },
   {
    "duration": 5,
    "start_time": "2024-10-28T18:00:25.475Z"
   },
   {
    "duration": 3,
    "start_time": "2024-10-28T18:00:25.483Z"
   },
   {
    "duration": 40,
    "start_time": "2024-10-28T18:00:25.488Z"
   },
   {
    "duration": 7,
    "start_time": "2024-10-28T18:00:25.529Z"
   },
   {
    "duration": 6,
    "start_time": "2024-10-28T18:00:25.538Z"
   },
   {
    "duration": 4,
    "start_time": "2024-10-28T18:00:25.546Z"
   },
   {
    "duration": 8,
    "start_time": "2024-10-28T18:00:25.551Z"
   },
   {
    "duration": 2655,
    "start_time": "2024-10-29T02:00:13.019Z"
   },
   {
    "duration": 123,
    "start_time": "2024-10-29T02:00:15.676Z"
   },
   {
    "duration": 16,
    "start_time": "2024-10-29T02:00:15.801Z"
   },
   {
    "duration": 18,
    "start_time": "2024-10-29T02:00:15.819Z"
   },
   {
    "duration": 12,
    "start_time": "2024-10-29T02:00:15.838Z"
   },
   {
    "duration": 45,
    "start_time": "2024-10-29T02:00:15.852Z"
   },
   {
    "duration": 5,
    "start_time": "2024-10-29T02:00:15.899Z"
   },
   {
    "duration": 7,
    "start_time": "2024-10-29T02:00:15.930Z"
   },
   {
    "duration": 7,
    "start_time": "2024-10-29T02:00:15.939Z"
   },
   {
    "duration": 10,
    "start_time": "2024-10-29T02:00:15.950Z"
   },
   {
    "duration": 8,
    "start_time": "2024-10-29T02:00:15.962Z"
   },
   {
    "duration": 10,
    "start_time": "2024-10-29T02:00:15.972Z"
   },
   {
    "duration": 3,
    "start_time": "2024-10-29T02:00:15.984Z"
   },
   {
    "duration": 4,
    "start_time": "2024-10-29T02:00:15.989Z"
   },
   {
    "duration": 40,
    "start_time": "2024-10-29T02:00:15.994Z"
   },
   {
    "duration": 4,
    "start_time": "2024-10-29T02:00:16.037Z"
   },
   {
    "duration": 4,
    "start_time": "2024-10-29T02:00:16.042Z"
   },
   {
    "duration": 4,
    "start_time": "2024-10-29T02:00:16.048Z"
   },
   {
    "duration": 211,
    "start_time": "2024-10-29T02:00:16.053Z"
   },
   {
    "duration": 1468,
    "start_time": "2024-10-29T02:00:16.266Z"
   },
   {
    "duration": 20,
    "start_time": "2024-10-29T02:00:17.736Z"
   },
   {
    "duration": 7,
    "start_time": "2024-10-29T02:00:17.758Z"
   },
   {
    "duration": 199,
    "start_time": "2024-10-29T02:00:17.766Z"
   },
   {
    "duration": 11,
    "start_time": "2024-10-29T02:00:17.966Z"
   },
   {
    "duration": 3,
    "start_time": "2024-10-29T02:00:17.981Z"
   },
   {
    "duration": 4,
    "start_time": "2024-10-29T02:00:17.986Z"
   },
   {
    "duration": 4,
    "start_time": "2024-10-29T02:00:17.992Z"
   },
   {
    "duration": 31,
    "start_time": "2024-10-29T02:00:18.001Z"
   },
   {
    "duration": 7,
    "start_time": "2024-10-29T02:00:18.035Z"
   },
   {
    "duration": 9,
    "start_time": "2024-10-29T02:00:18.045Z"
   },
   {
    "duration": 7,
    "start_time": "2024-10-29T02:00:18.056Z"
   },
   {
    "duration": 16,
    "start_time": "2024-10-29T02:00:18.064Z"
   },
   {
    "duration": 18,
    "start_time": "2024-10-29T02:00:18.081Z"
   },
   {
    "duration": 36,
    "start_time": "2024-10-29T02:00:18.101Z"
   },
   {
    "duration": 42,
    "start_time": "2024-10-29T02:00:18.140Z"
   },
   {
    "duration": 7,
    "start_time": "2024-10-29T02:00:18.184Z"
   },
   {
    "duration": 7,
    "start_time": "2024-10-29T02:00:18.193Z"
   },
   {
    "duration": 69,
    "start_time": "2024-10-29T02:00:18.202Z"
   },
   {
    "duration": 7,
    "start_time": "2024-10-29T02:00:18.272Z"
   },
   {
    "duration": 4,
    "start_time": "2024-10-29T02:00:18.281Z"
   },
   {
    "duration": 3,
    "start_time": "2024-10-29T02:00:18.288Z"
   },
   {
    "duration": 3,
    "start_time": "2024-10-29T02:00:18.293Z"
   },
   {
    "duration": 4,
    "start_time": "2024-10-29T02:00:18.297Z"
   },
   {
    "duration": 6,
    "start_time": "2024-10-29T02:00:18.331Z"
   },
   {
    "duration": 5,
    "start_time": "2024-10-29T02:00:18.339Z"
   },
   {
    "duration": 20,
    "start_time": "2024-10-29T02:00:18.346Z"
   },
   {
    "duration": 4,
    "start_time": "2024-10-29T02:00:18.368Z"
   },
   {
    "duration": 81,
    "start_time": "2024-10-29T02:00:18.374Z"
   },
   {
    "duration": 3,
    "start_time": "2024-10-29T02:00:18.457Z"
   },
   {
    "duration": 5,
    "start_time": "2024-10-29T02:00:18.461Z"
   },
   {
    "duration": 3,
    "start_time": "2024-10-29T02:00:18.468Z"
   },
   {
    "duration": 6,
    "start_time": "2024-10-29T02:00:18.473Z"
   },
   {
    "duration": 4,
    "start_time": "2024-10-29T02:00:18.482Z"
   },
   {
    "duration": 5,
    "start_time": "2024-10-29T02:00:18.488Z"
   },
   {
    "duration": 37,
    "start_time": "2024-10-29T02:00:18.495Z"
   },
   {
    "duration": 8,
    "start_time": "2024-10-29T02:00:18.534Z"
   },
   {
    "duration": 8,
    "start_time": "2024-10-29T02:00:18.543Z"
   },
   {
    "duration": 7,
    "start_time": "2024-10-29T02:00:18.552Z"
   },
   {
    "duration": 4,
    "start_time": "2024-10-29T02:00:18.561Z"
   },
   {
    "duration": 7,
    "start_time": "2024-10-29T02:00:18.566Z"
   },
   {
    "duration": 4,
    "start_time": "2024-10-29T02:00:49.797Z"
   },
   {
    "duration": 5,
    "start_time": "2024-10-29T02:01:32.991Z"
   },
   {
    "duration": 859,
    "start_time": "2024-10-29T02:07:39.410Z"
   },
   {
    "duration": 133,
    "start_time": "2024-10-29T02:07:40.271Z"
   },
   {
    "duration": 16,
    "start_time": "2024-10-29T02:07:40.405Z"
   },
   {
    "duration": 8,
    "start_time": "2024-10-29T02:07:40.422Z"
   },
   {
    "duration": 11,
    "start_time": "2024-10-29T02:07:40.432Z"
   },
   {
    "duration": 41,
    "start_time": "2024-10-29T02:07:40.445Z"
   },
   {
    "duration": 4,
    "start_time": "2024-10-29T02:07:40.508Z"
   },
   {
    "duration": 8,
    "start_time": "2024-10-29T02:07:40.513Z"
   },
   {
    "duration": 7,
    "start_time": "2024-10-29T02:07:40.524Z"
   },
   {
    "duration": 11,
    "start_time": "2024-10-29T02:07:40.533Z"
   },
   {
    "duration": 8,
    "start_time": "2024-10-29T02:07:40.546Z"
   },
   {
    "duration": 10,
    "start_time": "2024-10-29T02:07:40.556Z"
   },
   {
    "duration": 5,
    "start_time": "2024-10-29T02:07:40.567Z"
   },
   {
    "duration": 3,
    "start_time": "2024-10-29T02:07:40.612Z"
   },
   {
    "duration": 5,
    "start_time": "2024-10-29T02:07:40.616Z"
   },
   {
    "duration": 4,
    "start_time": "2024-10-29T02:07:40.623Z"
   },
   {
    "duration": 4,
    "start_time": "2024-10-29T02:07:40.628Z"
   },
   {
    "duration": 4,
    "start_time": "2024-10-29T02:07:40.634Z"
   },
   {
    "duration": 203,
    "start_time": "2024-10-29T02:07:40.640Z"
   },
   {
    "duration": 1513,
    "start_time": "2024-10-29T02:07:40.846Z"
   },
   {
    "duration": 19,
    "start_time": "2024-10-29T02:07:42.360Z"
   },
   {
    "duration": 28,
    "start_time": "2024-10-29T02:07:42.381Z"
   },
   {
    "duration": 187,
    "start_time": "2024-10-29T02:07:42.411Z"
   },
   {
    "duration": 11,
    "start_time": "2024-10-29T02:07:42.608Z"
   },
   {
    "duration": 4,
    "start_time": "2024-10-29T02:07:42.621Z"
   },
   {
    "duration": 4,
    "start_time": "2024-10-29T02:07:42.627Z"
   },
   {
    "duration": 5,
    "start_time": "2024-10-29T02:07:42.632Z"
   },
   {
    "duration": 4,
    "start_time": "2024-10-29T02:07:42.638Z"
   },
   {
    "duration": 5,
    "start_time": "2024-10-29T02:07:42.644Z"
   },
   {
    "duration": 9,
    "start_time": "2024-10-29T02:07:42.651Z"
   },
   {
    "duration": 48,
    "start_time": "2024-10-29T02:07:42.662Z"
   },
   {
    "duration": 17,
    "start_time": "2024-10-29T02:07:42.712Z"
   },
   {
    "duration": 17,
    "start_time": "2024-10-29T02:07:42.731Z"
   },
   {
    "duration": 5,
    "start_time": "2024-10-29T02:07:42.750Z"
   },
   {
    "duration": 71,
    "start_time": "2024-10-29T02:07:42.758Z"
   },
   {
    "duration": 9,
    "start_time": "2024-10-29T02:07:42.830Z"
   },
   {
    "duration": 7,
    "start_time": "2024-10-29T02:07:42.841Z"
   },
   {
    "duration": 61,
    "start_time": "2024-10-29T02:07:42.850Z"
   },
   {
    "duration": 6,
    "start_time": "2024-10-29T02:07:42.913Z"
   },
   {
    "duration": 5,
    "start_time": "2024-10-29T02:07:42.920Z"
   },
   {
    "duration": 3,
    "start_time": "2024-10-29T02:07:42.930Z"
   },
   {
    "duration": 3,
    "start_time": "2024-10-29T02:07:42.935Z"
   },
   {
    "duration": 3,
    "start_time": "2024-10-29T02:07:42.940Z"
   },
   {
    "duration": 3,
    "start_time": "2024-10-29T02:07:42.945Z"
   },
   {
    "duration": 5,
    "start_time": "2024-10-29T02:07:42.950Z"
   },
   {
    "duration": 62,
    "start_time": "2024-10-29T02:07:42.956Z"
   },
   {
    "duration": 3,
    "start_time": "2024-10-29T02:07:43.020Z"
   },
   {
    "duration": 57,
    "start_time": "2024-10-29T02:07:43.025Z"
   },
   {
    "duration": 2,
    "start_time": "2024-10-29T02:07:43.084Z"
   },
   {
    "duration": 23,
    "start_time": "2024-10-29T02:07:43.087Z"
   },
   {
    "duration": 4,
    "start_time": "2024-10-29T02:07:43.112Z"
   },
   {
    "duration": 4,
    "start_time": "2024-10-29T02:07:43.117Z"
   },
   {
    "duration": 4,
    "start_time": "2024-10-29T02:07:43.123Z"
   },
   {
    "duration": 6,
    "start_time": "2024-10-29T02:07:43.129Z"
   },
   {
    "duration": 4,
    "start_time": "2024-10-29T02:07:43.137Z"
   },
   {
    "duration": 5,
    "start_time": "2024-10-29T02:07:43.142Z"
   },
   {
    "duration": 4,
    "start_time": "2024-10-29T02:07:43.149Z"
   },
   {
    "duration": 57,
    "start_time": "2024-10-29T02:07:43.154Z"
   },
   {
    "duration": 7,
    "start_time": "2024-10-29T02:07:43.213Z"
   },
   {
    "duration": 7,
    "start_time": "2024-10-29T02:07:43.221Z"
   },
   {
    "duration": 4,
    "start_time": "2024-10-29T02:07:43.230Z"
   },
   {
    "duration": 7,
    "start_time": "2024-10-29T02:07:43.236Z"
   },
   {
    "duration": 4,
    "start_time": "2024-10-29T02:08:26.684Z"
   },
   {
    "duration": 4,
    "start_time": "2024-10-29T02:08:28.754Z"
   }
  ],
  "kernelspec": {
   "display_name": "base",
   "language": "python",
   "name": "python3"
  },
  "language_info": {
   "codemirror_mode": {
    "name": "ipython",
    "version": 3
   },
   "file_extension": ".py",
   "mimetype": "text/x-python",
   "name": "python",
   "nbconvert_exporter": "python",
   "pygments_lexer": "ipython3",
   "version": "3.12.4"
  },
  "toc": {
   "base_numbering": 1,
   "nav_menu": {},
   "number_sections": true,
   "sideBar": true,
   "skip_h1_title": true,
   "title_cell": "Table of Contents",
   "title_sidebar": "Contents",
   "toc_cell": false,
   "toc_position": {},
   "toc_section_display": true,
   "toc_window_display": false
  }
 },
 "nbformat": 4,
 "nbformat_minor": 2
}
