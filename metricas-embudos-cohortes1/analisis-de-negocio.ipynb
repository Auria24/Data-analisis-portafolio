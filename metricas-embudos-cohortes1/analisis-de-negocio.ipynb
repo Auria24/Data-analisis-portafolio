{
 "cells": [
  {
   "cell_type": "markdown",
   "metadata": {},
   "source": [
    "# Importar librerias"
   ]
  },
  {
   "cell_type": "code",
   "execution_count": 1,
   "metadata": {},
   "outputs": [],
   "source": [
    "import pandas as pd\n",
    "import seaborn as sns\n",
    "import matplotlib.pyplot as plt\n",
    "import numpy as np"
   ]
  },
  {
   "cell_type": "markdown",
   "metadata": {},
   "source": [
    "## Importar archivos y preparacion de datos"
   ]
  },
  {
   "cell_type": "code",
   "execution_count": 2,
   "metadata": {},
   "outputs": [],
   "source": [
    "vicitas_df = pd.read_csv('./datasets/visits_log_us.csv')\n",
    "ordenes_df = pd.read_csv('./datasets/orders_log_us.csv')\n",
    "costos_df = pd.read_csv('./datasets/costs_us.csv')"
   ]
  },
  {
   "cell_type": "code",
   "execution_count": 3,
   "metadata": {},
   "outputs": [
    {
     "name": "stdout",
     "output_type": "stream",
     "text": [
      "<class 'pandas.core.frame.DataFrame'>\n",
      "RangeIndex: 359400 entries, 0 to 359399\n",
      "Data columns (total 5 columns):\n",
      " #   Column     Non-Null Count   Dtype \n",
      "---  ------     --------------   ----- \n",
      " 0   Device     359400 non-null  object\n",
      " 1   End Ts     359400 non-null  object\n",
      " 2   Source Id  359400 non-null  int64 \n",
      " 3   Start Ts   359400 non-null  object\n",
      " 4   Uid        359400 non-null  uint64\n",
      "dtypes: int64(1), object(3), uint64(1)\n",
      "memory usage: 13.7+ MB\n",
      "None\n",
      "\n",
      "\n"
     ]
    },
    {
     "data": {
      "text/html": [
       "<div>\n",
       "<style scoped>\n",
       "    .dataframe tbody tr th:only-of-type {\n",
       "        vertical-align: middle;\n",
       "    }\n",
       "\n",
       "    .dataframe tbody tr th {\n",
       "        vertical-align: top;\n",
       "    }\n",
       "\n",
       "    .dataframe thead th {\n",
       "        text-align: right;\n",
       "    }\n",
       "</style>\n",
       "<table border=\"1\" class=\"dataframe\">\n",
       "  <thead>\n",
       "    <tr style=\"text-align: right;\">\n",
       "      <th></th>\n",
       "      <th>Source Id</th>\n",
       "      <th>Uid</th>\n",
       "    </tr>\n",
       "  </thead>\n",
       "  <tbody>\n",
       "    <tr>\n",
       "      <th>count</th>\n",
       "      <td>359400.000000</td>\n",
       "      <td>3.594000e+05</td>\n",
       "    </tr>\n",
       "    <tr>\n",
       "      <th>mean</th>\n",
       "      <td>3.750515</td>\n",
       "      <td>9.202557e+18</td>\n",
       "    </tr>\n",
       "    <tr>\n",
       "      <th>std</th>\n",
       "      <td>1.917116</td>\n",
       "      <td>5.298433e+18</td>\n",
       "    </tr>\n",
       "    <tr>\n",
       "      <th>min</th>\n",
       "      <td>1.000000</td>\n",
       "      <td>1.186350e+13</td>\n",
       "    </tr>\n",
       "    <tr>\n",
       "      <th>25%</th>\n",
       "      <td>3.000000</td>\n",
       "      <td>4.613407e+18</td>\n",
       "    </tr>\n",
       "    <tr>\n",
       "      <th>50%</th>\n",
       "      <td>4.000000</td>\n",
       "      <td>9.227413e+18</td>\n",
       "    </tr>\n",
       "    <tr>\n",
       "      <th>75%</th>\n",
       "      <td>5.000000</td>\n",
       "      <td>1.372824e+19</td>\n",
       "    </tr>\n",
       "    <tr>\n",
       "      <th>max</th>\n",
       "      <td>10.000000</td>\n",
       "      <td>1.844668e+19</td>\n",
       "    </tr>\n",
       "  </tbody>\n",
       "</table>\n",
       "</div>"
      ],
      "text/plain": [
       "           Source Id           Uid\n",
       "count  359400.000000  3.594000e+05\n",
       "mean        3.750515  9.202557e+18\n",
       "std         1.917116  5.298433e+18\n",
       "min         1.000000  1.186350e+13\n",
       "25%         3.000000  4.613407e+18\n",
       "50%         4.000000  9.227413e+18\n",
       "75%         5.000000  1.372824e+19\n",
       "max        10.000000  1.844668e+19"
      ]
     },
     "execution_count": 3,
     "metadata": {},
     "output_type": "execute_result"
    }
   ],
   "source": [
    "print(vicitas_df.info())\n",
    "print()\n",
    "print()\n",
    "vicitas_df.describe()"
   ]
  },
  {
   "cell_type": "code",
   "execution_count": 4,
   "metadata": {},
   "outputs": [
    {
     "name": "stdout",
     "output_type": "stream",
     "text": [
      "<class 'pandas.core.frame.DataFrame'>\n",
      "RangeIndex: 359400 entries, 0 to 359399\n",
      "Data columns (total 5 columns):\n",
      " #   Column     Non-Null Count   Dtype \n",
      "---  ------     --------------   ----- \n",
      " 0   device     359400 non-null  object\n",
      " 1   end_ts     359400 non-null  object\n",
      " 2   source_id  359400 non-null  int64 \n",
      " 3   start_ts   359400 non-null  object\n",
      " 4   uid        359400 non-null  uint64\n",
      "dtypes: int64(1), object(3), uint64(1)\n",
      "memory usage: 13.7+ MB\n"
     ]
    }
   ],
   "source": [
    "# cambio de nombre a columnas\n",
    "vicitas_df.columns = map(str.lower, vicitas_df.columns)\n",
    "vicitas_df = vicitas_df.rename(columns = {'end ts':'end_ts', 'source id': 'source_id', 'start ts':'start_ts'})\n",
    "vicitas_df.info()"
   ]
  },
  {
   "cell_type": "code",
   "execution_count": 5,
   "metadata": {},
   "outputs": [
    {
     "name": "stdout",
     "output_type": "stream",
     "text": [
      "<class 'pandas.core.frame.DataFrame'>\n",
      "RangeIndex: 50415 entries, 0 to 50414\n",
      "Data columns (total 3 columns):\n",
      " #   Column   Non-Null Count  Dtype  \n",
      "---  ------   --------------  -----  \n",
      " 0   Buy Ts   50415 non-null  object \n",
      " 1   Revenue  50415 non-null  float64\n",
      " 2   Uid      50415 non-null  uint64 \n",
      "dtypes: float64(1), object(1), uint64(1)\n",
      "memory usage: 1.2+ MB\n",
      "None\n",
      "\n",
      "\n"
     ]
    },
    {
     "data": {
      "text/html": [
       "<div>\n",
       "<style scoped>\n",
       "    .dataframe tbody tr th:only-of-type {\n",
       "        vertical-align: middle;\n",
       "    }\n",
       "\n",
       "    .dataframe tbody tr th {\n",
       "        vertical-align: top;\n",
       "    }\n",
       "\n",
       "    .dataframe thead th {\n",
       "        text-align: right;\n",
       "    }\n",
       "</style>\n",
       "<table border=\"1\" class=\"dataframe\">\n",
       "  <thead>\n",
       "    <tr style=\"text-align: right;\">\n",
       "      <th></th>\n",
       "      <th>Revenue</th>\n",
       "      <th>Uid</th>\n",
       "    </tr>\n",
       "  </thead>\n",
       "  <tbody>\n",
       "    <tr>\n",
       "      <th>count</th>\n",
       "      <td>50415.000000</td>\n",
       "      <td>5.041500e+04</td>\n",
       "    </tr>\n",
       "    <tr>\n",
       "      <th>mean</th>\n",
       "      <td>4.999647</td>\n",
       "      <td>9.098161e+18</td>\n",
       "    </tr>\n",
       "    <tr>\n",
       "      <th>std</th>\n",
       "      <td>21.818359</td>\n",
       "      <td>5.285742e+18</td>\n",
       "    </tr>\n",
       "    <tr>\n",
       "      <th>min</th>\n",
       "      <td>0.000000</td>\n",
       "      <td>3.135781e+14</td>\n",
       "    </tr>\n",
       "    <tr>\n",
       "      <th>25%</th>\n",
       "      <td>1.220000</td>\n",
       "      <td>4.533567e+18</td>\n",
       "    </tr>\n",
       "    <tr>\n",
       "      <th>50%</th>\n",
       "      <td>2.500000</td>\n",
       "      <td>9.102274e+18</td>\n",
       "    </tr>\n",
       "    <tr>\n",
       "      <th>75%</th>\n",
       "      <td>4.890000</td>\n",
       "      <td>1.368290e+19</td>\n",
       "    </tr>\n",
       "    <tr>\n",
       "      <th>max</th>\n",
       "      <td>2633.280000</td>\n",
       "      <td>1.844617e+19</td>\n",
       "    </tr>\n",
       "  </tbody>\n",
       "</table>\n",
       "</div>"
      ],
      "text/plain": [
       "            Revenue           Uid\n",
       "count  50415.000000  5.041500e+04\n",
       "mean       4.999647  9.098161e+18\n",
       "std       21.818359  5.285742e+18\n",
       "min        0.000000  3.135781e+14\n",
       "25%        1.220000  4.533567e+18\n",
       "50%        2.500000  9.102274e+18\n",
       "75%        4.890000  1.368290e+19\n",
       "max     2633.280000  1.844617e+19"
      ]
     },
     "execution_count": 5,
     "metadata": {},
     "output_type": "execute_result"
    }
   ],
   "source": [
    "print(ordenes_df.info())\n",
    "print()\n",
    "print()\n",
    "ordenes_df.describe()"
   ]
  },
  {
   "cell_type": "code",
   "execution_count": 6,
   "metadata": {},
   "outputs": [
    {
     "name": "stdout",
     "output_type": "stream",
     "text": [
      "<class 'pandas.core.frame.DataFrame'>\n",
      "RangeIndex: 50415 entries, 0 to 50414\n",
      "Data columns (total 3 columns):\n",
      " #   Column   Non-Null Count  Dtype  \n",
      "---  ------   --------------  -----  \n",
      " 0   buy_ts   50415 non-null  object \n",
      " 1   revenue  50415 non-null  float64\n",
      " 2   uid      50415 non-null  uint64 \n",
      "dtypes: float64(1), object(1), uint64(1)\n",
      "memory usage: 1.2+ MB\n"
     ]
    }
   ],
   "source": [
    "# cambio de nombre a columnas\n",
    "ordenes_df.columns = map(str.lower, ordenes_df.columns)\n",
    "ordenes_df = ordenes_df.rename(columns = {'buy ts':'buy_ts'})\n",
    "ordenes_df.info()"
   ]
  },
  {
   "cell_type": "code",
   "execution_count": 7,
   "metadata": {},
   "outputs": [],
   "source": [
    "ordenes_df['buy_ts'] = pd.to_datetime(ordenes_df['buy_ts'])"
   ]
  },
  {
   "cell_type": "code",
   "execution_count": 8,
   "metadata": {},
   "outputs": [
    {
     "name": "stdout",
     "output_type": "stream",
     "text": [
      "<class 'pandas.core.frame.DataFrame'>\n",
      "RangeIndex: 2542 entries, 0 to 2541\n",
      "Data columns (total 3 columns):\n",
      " #   Column     Non-Null Count  Dtype  \n",
      "---  ------     --------------  -----  \n",
      " 0   source_id  2542 non-null   int64  \n",
      " 1   dt         2542 non-null   object \n",
      " 2   costs      2542 non-null   float64\n",
      "dtypes: float64(1), int64(1), object(1)\n",
      "memory usage: 59.7+ KB\n",
      "None\n",
      "\n",
      "\n"
     ]
    },
    {
     "data": {
      "text/html": [
       "<div>\n",
       "<style scoped>\n",
       "    .dataframe tbody tr th:only-of-type {\n",
       "        vertical-align: middle;\n",
       "    }\n",
       "\n",
       "    .dataframe tbody tr th {\n",
       "        vertical-align: top;\n",
       "    }\n",
       "\n",
       "    .dataframe thead th {\n",
       "        text-align: right;\n",
       "    }\n",
       "</style>\n",
       "<table border=\"1\" class=\"dataframe\">\n",
       "  <thead>\n",
       "    <tr style=\"text-align: right;\">\n",
       "      <th></th>\n",
       "      <th>source_id</th>\n",
       "      <th>costs</th>\n",
       "    </tr>\n",
       "  </thead>\n",
       "  <tbody>\n",
       "    <tr>\n",
       "      <th>count</th>\n",
       "      <td>2542.000000</td>\n",
       "      <td>2542.000000</td>\n",
       "    </tr>\n",
       "    <tr>\n",
       "      <th>mean</th>\n",
       "      <td>4.857199</td>\n",
       "      <td>129.477427</td>\n",
       "    </tr>\n",
       "    <tr>\n",
       "      <th>std</th>\n",
       "      <td>3.181581</td>\n",
       "      <td>156.296628</td>\n",
       "    </tr>\n",
       "    <tr>\n",
       "      <th>min</th>\n",
       "      <td>1.000000</td>\n",
       "      <td>0.540000</td>\n",
       "    </tr>\n",
       "    <tr>\n",
       "      <th>25%</th>\n",
       "      <td>2.000000</td>\n",
       "      <td>21.945000</td>\n",
       "    </tr>\n",
       "    <tr>\n",
       "      <th>50%</th>\n",
       "      <td>4.000000</td>\n",
       "      <td>77.295000</td>\n",
       "    </tr>\n",
       "    <tr>\n",
       "      <th>75%</th>\n",
       "      <td>9.000000</td>\n",
       "      <td>170.065000</td>\n",
       "    </tr>\n",
       "    <tr>\n",
       "      <th>max</th>\n",
       "      <td>10.000000</td>\n",
       "      <td>1788.280000</td>\n",
       "    </tr>\n",
       "  </tbody>\n",
       "</table>\n",
       "</div>"
      ],
      "text/plain": [
       "         source_id        costs\n",
       "count  2542.000000  2542.000000\n",
       "mean      4.857199   129.477427\n",
       "std       3.181581   156.296628\n",
       "min       1.000000     0.540000\n",
       "25%       2.000000    21.945000\n",
       "50%       4.000000    77.295000\n",
       "75%       9.000000   170.065000\n",
       "max      10.000000  1788.280000"
      ]
     },
     "execution_count": 8,
     "metadata": {},
     "output_type": "execute_result"
    }
   ],
   "source": [
    "print(costos_df.info())\n",
    "print()\n",
    "print()\n",
    "costos_df.describe()"
   ]
  },
  {
   "cell_type": "code",
   "execution_count": 9,
   "metadata": {},
   "outputs": [],
   "source": [
    "costos_df['dt'] = pd.to_datetime(costos_df['dt'])\n",
    "#cambiando el tipo de objeto a fecha"
   ]
  },
  {
   "cell_type": "code",
   "execution_count": 10,
   "metadata": {},
   "outputs": [
    {
     "name": "stdout",
     "output_type": "stream",
     "text": [
      "0\n",
      "0\n",
      "0\n"
     ]
    }
   ],
   "source": [
    "print(vicitas_df.duplicated().sum())\n",
    "print(ordenes_df.duplicated().sum())\n",
    "print(costos_df.duplicated().sum())"
   ]
  },
  {
   "cell_type": "markdown",
   "metadata": {},
   "source": [
    "## Calculo de metricas"
   ]
  },
  {
   "cell_type": "markdown",
   "metadata": {},
   "source": [
    "### Vicitas"
   ]
  },
  {
   "cell_type": "markdown",
   "metadata": {},
   "source": [
    "#### ¿Cuántas personas lo usan cada día, semana y mes"
   ]
  },
  {
   "cell_type": "code",
   "execution_count": 11,
   "metadata": {},
   "outputs": [],
   "source": [
    "vicitas_df['start_ts'] = pd.to_datetime(vicitas_df['start_ts'])\n",
    "vicitas_df['week']= vicitas_df['start_ts'].astype('datetime64[W]')\n",
    "vicitas_df['month']= vicitas_df['start_ts'].astype('datetime64[M]')\n",
    "vicitas_df['day']= vicitas_df['start_ts'].dt.date\n",
    "\n",
    "\n",
    "vicitas_df_weekly = vicitas_df.groupby('week')[['device', 'source_id', 'uid']].agg({'uid':'nunique'})\n",
    "vicitas_df_monthly = vicitas_df.groupby('month')[['device', 'source_id', 'uid']].agg({'uid':'nunique'})\n",
    "vicitas_df_day = vicitas_df.groupby('day')[['device', 'source_id', 'uid']].agg({'uid':'nunique'})"
   ]
  },
  {
   "cell_type": "code",
   "execution_count": 12,
   "metadata": {},
   "outputs": [
    {
     "name": "stdout",
     "output_type": "stream",
     "text": [
      "El promedio de visitas por semana es: 5724.415094339623\n",
      "El promedio de visitas por mes es: 23228.416666666668\n",
      "El promedio de visitas por dia es: 907.9917582417582\n"
     ]
    }
   ],
   "source": [
    "print('El promedio de visitas por semana es:', vicitas_df_weekly['uid'].mean())\n",
    "print('El promedio de visitas por mes es:', vicitas_df_monthly['uid'].mean())\n",
    "print('El promedio de visitas por dia es:', vicitas_df_day['uid'].mean())"
   ]
  },
  {
   "cell_type": "code",
   "execution_count": 13,
   "metadata": {},
   "outputs": [
    {
     "data": {
      "image/png": "[encoded data removed]",
      "text/plain": [
       "<Figure size 1500x1000 with 1 Axes>"
      ]
     },
     "metadata": {},
     "output_type": "display_data"
    }
   ],
   "source": [
    "plt.subplots(figsize=(15,10))\n",
    "sns.lineplot(x='day' , y= 'uid', data= vicitas_df_day, marker='o' )\n",
    "plt.title('Entradas por dia')\n",
    "plt.xlabel('Dias')\n",
    "plt.ylabel('Cantidad')\n",
    "plt.show()"
   ]
  },
  {
   "cell_type": "code",
   "execution_count": 14,
   "metadata": {},
   "outputs": [
    {
     "data": {
      "image/png": "[encoded data removed]",
      "text/plain": [
       "<Figure size 1500x1000 with 1 Axes>"
      ]
     },
     "metadata": {},
     "output_type": "display_data"
    }
   ],
   "source": [
    "plt.subplots(figsize=(15,10))\n",
    "sns.lineplot(x='week' , y= 'uid', data= vicitas_df_weekly, marker='o' )\n",
    "plt.title('Entradas por semana')\n",
    "plt.xlabel('Semana')\n",
    "plt.ylabel('Cantidad')\n",
    "plt.show()"
   ]
  },
  {
   "cell_type": "code",
   "execution_count": 15,
   "metadata": {},
   "outputs": [
    {
     "data": {
      "image/png": "[encoded data removed]",
      "text/plain": [
       "<Figure size 640x480 with 1 Axes>"
      ]
     },
     "metadata": {},
     "output_type": "display_data"
    }
   ],
   "source": [
    "sns.lineplot(x='month' , y= 'uid', data= vicitas_df_monthly, marker='o' )\n",
    "plt.title('Entradas por mes')\n",
    "plt.xlabel('Mes')\n",
    "plt.ylabel('Cantidad')\n",
    "\n",
    "plt.show()"
   ]
  },
  {
   "cell_type": "code",
   "execution_count": 16,
   "metadata": {},
   "outputs": [
    {
     "name": "stdout",
     "output_type": "stream",
     "text": [
      "2017-06-01 00:01:00\n",
      "2018-05-31 23:59:00\n"
     ]
    }
   ],
   "source": [
    "print(vicitas_df['start_ts'].min())\n",
    "print(vicitas_df['start_ts'].max())"
   ]
  },
  {
   "cell_type": "markdown",
   "metadata": {},
   "source": [
    "#### ¿Cuántas sesiones hay por día? (Un usuario puede tener más de una sesión)."
   ]
  },
  {
   "cell_type": "code",
   "execution_count": 17,
   "metadata": {},
   "outputs": [],
   "source": [
    "vicitas_df_por_usuario = pd.pivot_table(vicitas_df, index= ['uid', vicitas_df['start_ts'].dt.date], aggfunc= 'size', fill_value=0).reset_index()"
   ]
  },
  {
   "cell_type": "code",
   "execution_count": 18,
   "metadata": {},
   "outputs": [],
   "source": [
    "vicitas_df_por_usuario = vicitas_df_por_usuario.rename(columns = {0: 'inicios_de_secion_por_dia'})"
   ]
  },
  {
   "cell_type": "code",
   "execution_count": 19,
   "metadata": {},
   "outputs": [
    {
     "name": "stdout",
     "output_type": "stream",
     "text": [
      "<class 'pandas.core.frame.DataFrame'>\n",
      "RangeIndex: 330509 entries, 0 to 330508\n",
      "Data columns (total 3 columns):\n",
      " #   Column                     Non-Null Count   Dtype \n",
      "---  ------                     --------------   ----- \n",
      " 0   uid                        330509 non-null  uint64\n",
      " 1   start_ts                   330509 non-null  object\n",
      " 2   inicios_de_secion_por_dia  330509 non-null  int64 \n",
      "dtypes: int64(1), object(1), uint64(1)\n",
      "memory usage: 7.6+ MB\n"
     ]
    }
   ],
   "source": [
    "vicitas_df_por_usuario.info()"
   ]
  },
  {
   "cell_type": "code",
   "execution_count": 20,
   "metadata": {},
   "outputs": [
    {
     "data": {
      "text/html": [
       "<div>\n",
       "<style scoped>\n",
       "    .dataframe tbody tr th:only-of-type {\n",
       "        vertical-align: middle;\n",
       "    }\n",
       "\n",
       "    .dataframe tbody tr th {\n",
       "        vertical-align: top;\n",
       "    }\n",
       "\n",
       "    .dataframe thead th {\n",
       "        text-align: right;\n",
       "    }\n",
       "</style>\n",
       "<table border=\"1\" class=\"dataframe\">\n",
       "  <thead>\n",
       "    <tr style=\"text-align: right;\">\n",
       "      <th></th>\n",
       "      <th>uid</th>\n",
       "      <th>start_ts</th>\n",
       "      <th>inicios_de_secion_por_dia</th>\n",
       "    </tr>\n",
       "  </thead>\n",
       "  <tbody>\n",
       "    <tr>\n",
       "      <th>0</th>\n",
       "      <td>11863502262781</td>\n",
       "      <td>2018-03-01</td>\n",
       "      <td>1</td>\n",
       "    </tr>\n",
       "    <tr>\n",
       "      <th>1</th>\n",
       "      <td>49537067089222</td>\n",
       "      <td>2018-02-06</td>\n",
       "      <td>1</td>\n",
       "    </tr>\n",
       "    <tr>\n",
       "      <th>2</th>\n",
       "      <td>297729379853735</td>\n",
       "      <td>2017-06-07</td>\n",
       "      <td>1</td>\n",
       "    </tr>\n",
       "    <tr>\n",
       "      <th>3</th>\n",
       "      <td>313578113262317</td>\n",
       "      <td>2017-09-18</td>\n",
       "      <td>1</td>\n",
       "    </tr>\n",
       "    <tr>\n",
       "      <th>4</th>\n",
       "      <td>313578113262317</td>\n",
       "      <td>2018-02-18</td>\n",
       "      <td>1</td>\n",
       "    </tr>\n",
       "  </tbody>\n",
       "</table>\n",
       "</div>"
      ],
      "text/plain": [
       "               uid    start_ts  inicios_de_secion_por_dia\n",
       "0   11863502262781  2018-03-01                          1\n",
       "1   49537067089222  2018-02-06                          1\n",
       "2  297729379853735  2017-06-07                          1\n",
       "3  313578113262317  2017-09-18                          1\n",
       "4  313578113262317  2018-02-18                          1"
      ]
     },
     "execution_count": 20,
     "metadata": {},
     "output_type": "execute_result"
    }
   ],
   "source": [
    "vicitas_df_por_usuario.head()"
   ]
  },
  {
   "cell_type": "code",
   "execution_count": 21,
   "metadata": {},
   "outputs": [
    {
     "name": "stdout",
     "output_type": "stream",
     "text": [
      "1\n",
      "10\n",
      "1.0874136559064957\n"
     ]
    }
   ],
   "source": [
    "print(vicitas_df_por_usuario['inicios_de_secion_por_dia'].min())\n",
    "print(vicitas_df_por_usuario['inicios_de_secion_por_dia'].max())                                            \n",
    "print(vicitas_df_por_usuario['inicios_de_secion_por_dia'].mean()) "
   ]
  },
  {
   "cell_type": "code",
   "execution_count": 22,
   "metadata": {},
   "outputs": [],
   "source": [
    "vicitas_df_por_usuario['start_ts'] = pd.to_datetime(vicitas_df_por_usuario['start_ts'])"
   ]
  },
  {
   "cell_type": "code",
   "execution_count": 23,
   "metadata": {},
   "outputs": [],
   "source": [
    "vicitas_df_por_usuario_ = vicitas_df_por_usuario.groupby('start_ts')['inicios_de_secion_por_dia'].count()\n"
   ]
  },
  {
   "cell_type": "code",
   "execution_count": 24,
   "metadata": {},
   "outputs": [
    {
     "data": {
      "text/html": [
       "<div>\n",
       "<style scoped>\n",
       "    .dataframe tbody tr th:only-of-type {\n",
       "        vertical-align: middle;\n",
       "    }\n",
       "\n",
       "    .dataframe tbody tr th {\n",
       "        vertical-align: top;\n",
       "    }\n",
       "\n",
       "    .dataframe thead th {\n",
       "        text-align: right;\n",
       "    }\n",
       "</style>\n",
       "<table border=\"1\" class=\"dataframe\">\n",
       "  <thead>\n",
       "    <tr style=\"text-align: right;\">\n",
       "      <th></th>\n",
       "      <th>start_ts</th>\n",
       "      <th>inicios_de_secion_por_dia</th>\n",
       "    </tr>\n",
       "  </thead>\n",
       "  <tbody>\n",
       "    <tr>\n",
       "      <th>0</th>\n",
       "      <td>2017-06-01</td>\n",
       "      <td>605</td>\n",
       "    </tr>\n",
       "    <tr>\n",
       "      <th>1</th>\n",
       "      <td>2017-06-02</td>\n",
       "      <td>608</td>\n",
       "    </tr>\n",
       "    <tr>\n",
       "      <th>2</th>\n",
       "      <td>2017-06-03</td>\n",
       "      <td>445</td>\n",
       "    </tr>\n",
       "    <tr>\n",
       "      <th>3</th>\n",
       "      <td>2017-06-04</td>\n",
       "      <td>476</td>\n",
       "    </tr>\n",
       "    <tr>\n",
       "      <th>4</th>\n",
       "      <td>2017-06-05</td>\n",
       "      <td>820</td>\n",
       "    </tr>\n",
       "    <tr>\n",
       "      <th>...</th>\n",
       "      <td>...</td>\n",
       "      <td>...</td>\n",
       "    </tr>\n",
       "    <tr>\n",
       "      <th>359</th>\n",
       "      <td>2018-05-27</td>\n",
       "      <td>620</td>\n",
       "    </tr>\n",
       "    <tr>\n",
       "      <th>360</th>\n",
       "      <td>2018-05-28</td>\n",
       "      <td>1039</td>\n",
       "    </tr>\n",
       "    <tr>\n",
       "      <th>361</th>\n",
       "      <td>2018-05-29</td>\n",
       "      <td>948</td>\n",
       "    </tr>\n",
       "    <tr>\n",
       "      <th>362</th>\n",
       "      <td>2018-05-30</td>\n",
       "      <td>1289</td>\n",
       "    </tr>\n",
       "    <tr>\n",
       "      <th>363</th>\n",
       "      <td>2018-05-31</td>\n",
       "      <td>1997</td>\n",
       "    </tr>\n",
       "  </tbody>\n",
       "</table>\n",
       "<p>364 rows × 2 columns</p>\n",
       "</div>"
      ],
      "text/plain": [
       "      start_ts  inicios_de_secion_por_dia\n",
       "0   2017-06-01                        605\n",
       "1   2017-06-02                        608\n",
       "2   2017-06-03                        445\n",
       "3   2017-06-04                        476\n",
       "4   2017-06-05                        820\n",
       "..         ...                        ...\n",
       "359 2018-05-27                        620\n",
       "360 2018-05-28                       1039\n",
       "361 2018-05-29                        948\n",
       "362 2018-05-30                       1289\n",
       "363 2018-05-31                       1997\n",
       "\n",
       "[364 rows x 2 columns]"
      ]
     },
     "execution_count": 24,
     "metadata": {},
     "output_type": "execute_result"
    }
   ],
   "source": [
    "vicitas_df_por_usuario_.reset_index()"
   ]
  },
  {
   "cell_type": "code",
   "execution_count": 25,
   "metadata": {},
   "outputs": [
    {
     "data": {
      "text/plain": [
       "<function matplotlib.pyplot.show(close=None, block=None)>"
      ]
     },
     "execution_count": 25,
     "metadata": {},
     "output_type": "execute_result"
    },
    {
     "data": {
      "image/png": "[encoded data removed]",
      "text/plain": [
       "<Figure size 1500x1000 with 1 Axes>"
      ]
     },
     "metadata": {},
     "output_type": "display_data"
    }
   ],
   "source": [
    "plt.subplots(figsize=(15,10))\n",
    "plt.plot(vicitas_df_por_usuario_.index, vicitas_df_por_usuario_)\n",
    "plt.show"
   ]
  },
  {
   "cell_type": "markdown",
   "metadata": {},
   "source": [
    "###### **podemos darnos cuenta que un usuario inicia secion en un maximo de 10 veces en un solo dia"
   ]
  },
  {
   "cell_type": "markdown",
   "metadata": {},
   "source": [
    "#### ¿Cuál es la duración de cada sesión?"
   ]
  },
  {
   "cell_type": "code",
   "execution_count": 26,
   "metadata": {},
   "outputs": [
    {
     "data": {
      "text/plain": [
       "4181      23.466667\n",
       "177972    23.233333\n",
       "229891    11.850000\n",
       "177381     9.933333\n",
       "248062     9.133333\n",
       "            ...    \n",
       "166165     0.000000\n",
       "311299     0.000000\n",
       "311300     0.000000\n",
       "224011     0.000000\n",
       "197308     0.000000\n",
       "Length: 359400, dtype: float64"
      ]
     },
     "execution_count": 26,
     "metadata": {},
     "output_type": "execute_result"
    }
   ],
   "source": [
    "vicitas_df['end_ts'] = pd.to_datetime(vicitas_df['end_ts'])\n",
    "vicitas_df_duracion = (vicitas_df['end_ts']- vicitas_df['start_ts']).dt.seconds/3600\n",
    "vicitas_df_duracion.sort_values(ascending = False)"
   ]
  },
  {
   "cell_type": "code",
   "execution_count": 27,
   "metadata": {},
   "outputs": [
    {
     "data": {
      "text/plain": [
       "count    359400.000000\n",
       "mean          0.178752\n",
       "std           0.282315\n",
       "min           0.000000\n",
       "25%           0.033333\n",
       "50%           0.083333\n",
       "75%           0.233333\n",
       "max          23.466667\n",
       "dtype: float64"
      ]
     },
     "execution_count": 27,
     "metadata": {},
     "output_type": "execute_result"
    }
   ],
   "source": [
    "vicitas_df_duracion.describe()"
   ]
  },
  {
   "cell_type": "code",
   "execution_count": 28,
   "metadata": {},
   "outputs": [
    {
     "name": "stdout",
     "output_type": "stream",
     "text": [
      "0.0\n",
      "23.466666666666665\n",
      "0.08333333333333333\n",
      "0    0.016667\n",
      "dtype: float64\n"
     ]
    }
   ],
   "source": [
    "print(vicitas_df_duracion.min())\n",
    "print(vicitas_df_duracion.max())\n",
    "print(vicitas_df_duracion.median())\n",
    "print(vicitas_df_duracion.mode())"
   ]
  },
  {
   "cell_type": "code",
   "execution_count": 29,
   "metadata": {},
   "outputs": [
    {
     "name": "stdout",
     "output_type": "stream",
     "text": [
      "2017-06-01 00:01:00\n",
      "2018-05-31 23:59:00\n"
     ]
    }
   ],
   "source": [
    "print(vicitas_df['start_ts'].min())\n",
    "print(vicitas_df['start_ts'].max())"
   ]
  },
  {
   "cell_type": "markdown",
   "metadata": {},
   "source": [
    "###### ** Este resultado me confunde alguien puede durar mas de 23 horas conectado en una secion. Quiero pensar que la inico y no cerro pero no se encontraba realmente conectado."
   ]
  },
  {
   "cell_type": "markdown",
   "metadata": {},
   "source": [
    "#### ¿Con qué frecuencia los usuarios regresan?"
   ]
  },
  {
   "cell_type": "code",
   "execution_count": 30,
   "metadata": {},
   "outputs": [
    {
     "data": {
      "text/html": [
       "<div>\n",
       "<style scoped>\n",
       "    .dataframe tbody tr th:only-of-type {\n",
       "        vertical-align: middle;\n",
       "    }\n",
       "\n",
       "    .dataframe tbody tr th {\n",
       "        vertical-align: top;\n",
       "    }\n",
       "\n",
       "    .dataframe thead th {\n",
       "        text-align: right;\n",
       "    }\n",
       "</style>\n",
       "<table border=\"1\" class=\"dataframe\">\n",
       "  <thead>\n",
       "    <tr style=\"text-align: right;\">\n",
       "      <th></th>\n",
       "      <th>device</th>\n",
       "      <th>end_ts</th>\n",
       "      <th>source_id</th>\n",
       "      <th>start_ts</th>\n",
       "      <th>uid</th>\n",
       "      <th>week</th>\n",
       "      <th>month</th>\n",
       "      <th>day</th>\n",
       "    </tr>\n",
       "  </thead>\n",
       "  <tbody>\n",
       "    <tr>\n",
       "      <th>196543</th>\n",
       "      <td>touch</td>\n",
       "      <td>2018-03-01 17:33:00</td>\n",
       "      <td>3</td>\n",
       "      <td>2018-03-01 17:27:00</td>\n",
       "      <td>11863502262781</td>\n",
       "      <td>2018-03-01</td>\n",
       "      <td>2018-03-01</td>\n",
       "      <td>2018-03-01</td>\n",
       "    </tr>\n",
       "    <tr>\n",
       "      <th>257333</th>\n",
       "      <td>touch</td>\n",
       "      <td>2018-02-06 15:57:00</td>\n",
       "      <td>2</td>\n",
       "      <td>2018-02-06 15:55:00</td>\n",
       "      <td>49537067089222</td>\n",
       "      <td>2018-02-01</td>\n",
       "      <td>2018-02-01</td>\n",
       "      <td>2018-02-06</td>\n",
       "    </tr>\n",
       "    <tr>\n",
       "      <th>173818</th>\n",
       "      <td>desktop</td>\n",
       "      <td>2017-06-07 18:48:00</td>\n",
       "      <td>3</td>\n",
       "      <td>2017-06-07 18:47:00</td>\n",
       "      <td>297729379853735</td>\n",
       "      <td>2017-06-01</td>\n",
       "      <td>2017-06-01</td>\n",
       "      <td>2017-06-07</td>\n",
       "    </tr>\n",
       "    <tr>\n",
       "      <th>173142</th>\n",
       "      <td>desktop</td>\n",
       "      <td>2017-09-18 23:07:00</td>\n",
       "      <td>2</td>\n",
       "      <td>2017-09-18 22:49:00</td>\n",
       "      <td>313578113262317</td>\n",
       "      <td>2017-09-14</td>\n",
       "      <td>2017-09-01</td>\n",
       "      <td>2017-09-18</td>\n",
       "    </tr>\n",
       "    <tr>\n",
       "      <th>192554</th>\n",
       "      <td>desktop</td>\n",
       "      <td>2018-02-18 15:26:00</td>\n",
       "      <td>2</td>\n",
       "      <td>2018-02-18 15:17:00</td>\n",
       "      <td>313578113262317</td>\n",
       "      <td>2018-02-15</td>\n",
       "      <td>2018-02-01</td>\n",
       "      <td>2018-02-18</td>\n",
       "    </tr>\n",
       "    <tr>\n",
       "      <th>...</th>\n",
       "      <td>...</td>\n",
       "      <td>...</td>\n",
       "      <td>...</td>\n",
       "      <td>...</td>\n",
       "      <td>...</td>\n",
       "      <td>...</td>\n",
       "      <td>...</td>\n",
       "      <td>...</td>\n",
       "    </tr>\n",
       "    <tr>\n",
       "      <th>175259</th>\n",
       "      <td>touch</td>\n",
       "      <td>2017-12-06 20:32:00</td>\n",
       "      <td>4</td>\n",
       "      <td>2017-12-06 20:32:00</td>\n",
       "      <td>18446424184725333426</td>\n",
       "      <td>2017-11-30</td>\n",
       "      <td>2017-12-01</td>\n",
       "      <td>2017-12-06</td>\n",
       "    </tr>\n",
       "    <tr>\n",
       "      <th>293449</th>\n",
       "      <td>touch</td>\n",
       "      <td>2018-01-01 16:31:00</td>\n",
       "      <td>3</td>\n",
       "      <td>2018-01-01 16:29:00</td>\n",
       "      <td>18446556406699109058</td>\n",
       "      <td>2017-12-28</td>\n",
       "      <td>2018-01-01</td>\n",
       "      <td>2018-01-01</td>\n",
       "    </tr>\n",
       "    <tr>\n",
       "      <th>319162</th>\n",
       "      <td>desktop</td>\n",
       "      <td>2017-12-27 14:08:00</td>\n",
       "      <td>4</td>\n",
       "      <td>2017-12-27 13:27:00</td>\n",
       "      <td>18446621818809592527</td>\n",
       "      <td>2017-12-21</td>\n",
       "      <td>2017-12-01</td>\n",
       "      <td>2017-12-27</td>\n",
       "    </tr>\n",
       "    <tr>\n",
       "      <th>222173</th>\n",
       "      <td>desktop</td>\n",
       "      <td>2018-05-21 09:45:00</td>\n",
       "      <td>4</td>\n",
       "      <td>2018-05-21 09:30:00</td>\n",
       "      <td>18446621818809592527</td>\n",
       "      <td>2018-05-17</td>\n",
       "      <td>2018-05-01</td>\n",
       "      <td>2018-05-21</td>\n",
       "    </tr>\n",
       "    <tr>\n",
       "      <th>132805</th>\n",
       "      <td>desktop</td>\n",
       "      <td>2017-10-04 16:27:00</td>\n",
       "      <td>3</td>\n",
       "      <td>2017-10-04 16:01:00</td>\n",
       "      <td>18446676030785672386</td>\n",
       "      <td>2017-09-28</td>\n",
       "      <td>2017-10-01</td>\n",
       "      <td>2017-10-04</td>\n",
       "    </tr>\n",
       "  </tbody>\n",
       "</table>\n",
       "<p>359400 rows × 8 columns</p>\n",
       "</div>"
      ],
      "text/plain": [
       "         device              end_ts  source_id            start_ts  \\\n",
       "196543    touch 2018-03-01 17:33:00          3 2018-03-01 17:27:00   \n",
       "257333    touch 2018-02-06 15:57:00          2 2018-02-06 15:55:00   \n",
       "173818  desktop 2017-06-07 18:48:00          3 2017-06-07 18:47:00   \n",
       "173142  desktop 2017-09-18 23:07:00          2 2017-09-18 22:49:00   \n",
       "192554  desktop 2018-02-18 15:26:00          2 2018-02-18 15:17:00   \n",
       "...         ...                 ...        ...                 ...   \n",
       "175259    touch 2017-12-06 20:32:00          4 2017-12-06 20:32:00   \n",
       "293449    touch 2018-01-01 16:31:00          3 2018-01-01 16:29:00   \n",
       "319162  desktop 2017-12-27 14:08:00          4 2017-12-27 13:27:00   \n",
       "222173  desktop 2018-05-21 09:45:00          4 2018-05-21 09:30:00   \n",
       "132805  desktop 2017-10-04 16:27:00          3 2017-10-04 16:01:00   \n",
       "\n",
       "                         uid       week      month         day  \n",
       "196543        11863502262781 2018-03-01 2018-03-01  2018-03-01  \n",
       "257333        49537067089222 2018-02-01 2018-02-01  2018-02-06  \n",
       "173818       297729379853735 2017-06-01 2017-06-01  2017-06-07  \n",
       "173142       313578113262317 2017-09-14 2017-09-01  2017-09-18  \n",
       "192554       313578113262317 2018-02-15 2018-02-01  2018-02-18  \n",
       "...                      ...        ...        ...         ...  \n",
       "175259  18446424184725333426 2017-11-30 2017-12-01  2017-12-06  \n",
       "293449  18446556406699109058 2017-12-28 2018-01-01  2018-01-01  \n",
       "319162  18446621818809592527 2017-12-21 2017-12-01  2017-12-27  \n",
       "222173  18446621818809592527 2018-05-17 2018-05-01  2018-05-21  \n",
       "132805  18446676030785672386 2017-09-28 2017-10-01  2017-10-04  \n",
       "\n",
       "[359400 rows x 8 columns]"
      ]
     },
     "execution_count": 30,
     "metadata": {},
     "output_type": "execute_result"
    }
   ],
   "source": [
    "vicitas_df.sort_values(['uid','start_ts'])"
   ]
  },
  {
   "cell_type": "code",
   "execution_count": 31,
   "metadata": {},
   "outputs": [
    {
     "name": "stdout",
     "output_type": "stream",
     "text": [
      "uid\n",
      "11863502262781          0.000000\n",
      "49537067089222          0.000000\n",
      "297729379853735         0.000000\n",
      "313578113262317         0.011561\n",
      "325320750514679         0.006757\n",
      "                          ...   \n",
      "18446403737806311543    0.000000\n",
      "18446424184725333426    0.000000\n",
      "18446556406699109058    0.000000\n",
      "18446621818809592527    0.006944\n",
      "18446676030785672386    0.000000\n",
      "Length: 228169, dtype: float64\n"
     ]
    }
   ],
   "source": [
    "def calcular_frecuencia_de_retorno(x):\n",
    "    if len(x) ==1 or (x['start_ts'].max()-x['start_ts'].min()).days == 0:\n",
    "        return 0\n",
    "    else:\n",
    "        return(len(x)-1)/(x['start_ts'].max()-x['start_ts'].min()).days\n",
    "\n",
    "frecuencia_de_retorno = vicitas_df.groupby('uid').apply(calcular_frecuencia_de_retorno)\n",
    "print(frecuencia_de_retorno)"
   ]
  },
  {
   "cell_type": "code",
   "execution_count": 32,
   "metadata": {},
   "outputs": [
    {
     "name": "stdout",
     "output_type": "stream",
     "text": [
      "0.0\n",
      "8.0\n"
     ]
    }
   ],
   "source": [
    "print(frecuencia_de_retorno.min())\n",
    "print(frecuencia_de_retorno.max())"
   ]
  },
  {
   "cell_type": "code",
   "execution_count": 33,
   "metadata": {},
   "outputs": [],
   "source": [
    "vicitas_df['vicit_month'] = vicitas_df['start_ts'].astype('datetime64[M]')"
   ]
  },
  {
   "cell_type": "code",
   "execution_count": 34,
   "metadata": {},
   "outputs": [],
   "source": [
    "first_vicit = vicitas_df.groupby('uid').agg({'vicit_month':'min'}).reset_index()\n",
    "first_vicit.columns =['uid','first_vicit_month']"
   ]
  },
  {
   "cell_type": "code",
   "execution_count": 35,
   "metadata": {},
   "outputs": [],
   "source": [
    "meses_diferencia = pd.merge(vicitas_df, first_vicit, on = 'uid')\n",
    "meses_diferencia['meses_transcurridos']= meses_diferencia['vicit_month']-meses_diferencia['first_vicit_month']"
   ]
  },
  {
   "cell_type": "code",
   "execution_count": 36,
   "metadata": {},
   "outputs": [],
   "source": [
    "meses_diferencia['meses_transcurridos']=meses_diferencia['meses_transcurridos'].dt.days//30"
   ]
  },
  {
   "cell_type": "code",
   "execution_count": 37,
   "metadata": {},
   "outputs": [
    {
     "data": {
      "text/html": [
       "<div>\n",
       "<style scoped>\n",
       "    .dataframe tbody tr th:only-of-type {\n",
       "        vertical-align: middle;\n",
       "    }\n",
       "\n",
       "    .dataframe tbody tr th {\n",
       "        vertical-align: top;\n",
       "    }\n",
       "\n",
       "    .dataframe thead th {\n",
       "        text-align: right;\n",
       "    }\n",
       "</style>\n",
       "<table border=\"1\" class=\"dataframe\">\n",
       "  <thead>\n",
       "    <tr style=\"text-align: right;\">\n",
       "      <th></th>\n",
       "      <th>device</th>\n",
       "      <th>end_ts</th>\n",
       "      <th>source_id</th>\n",
       "      <th>start_ts</th>\n",
       "      <th>uid</th>\n",
       "      <th>week</th>\n",
       "      <th>month</th>\n",
       "      <th>day</th>\n",
       "      <th>vicit_month</th>\n",
       "      <th>first_vicit_month</th>\n",
       "      <th>meses_transcurridos</th>\n",
       "    </tr>\n",
       "  </thead>\n",
       "  <tbody>\n",
       "    <tr>\n",
       "      <th>0</th>\n",
       "      <td>touch</td>\n",
       "      <td>2017-12-20 17:38:00</td>\n",
       "      <td>4</td>\n",
       "      <td>2017-12-20 17:20:00</td>\n",
       "      <td>16879256277535980062</td>\n",
       "      <td>2017-12-14</td>\n",
       "      <td>2017-12-01</td>\n",
       "      <td>2017-12-20</td>\n",
       "      <td>2017-12-01</td>\n",
       "      <td>2017-12-01</td>\n",
       "      <td>0</td>\n",
       "    </tr>\n",
       "    <tr>\n",
       "      <th>1</th>\n",
       "      <td>desktop</td>\n",
       "      <td>2018-02-19 17:21:00</td>\n",
       "      <td>2</td>\n",
       "      <td>2018-02-19 16:53:00</td>\n",
       "      <td>104060357244891740</td>\n",
       "      <td>2018-02-15</td>\n",
       "      <td>2018-02-01</td>\n",
       "      <td>2018-02-19</td>\n",
       "      <td>2018-02-01</td>\n",
       "      <td>2018-02-01</td>\n",
       "      <td>0</td>\n",
       "    </tr>\n",
       "    <tr>\n",
       "      <th>2</th>\n",
       "      <td>touch</td>\n",
       "      <td>2017-07-01 01:54:00</td>\n",
       "      <td>5</td>\n",
       "      <td>2017-07-01 01:54:00</td>\n",
       "      <td>7459035603376831527</td>\n",
       "      <td>2017-06-29</td>\n",
       "      <td>2017-07-01</td>\n",
       "      <td>2017-07-01</td>\n",
       "      <td>2017-07-01</td>\n",
       "      <td>2017-07-01</td>\n",
       "      <td>0</td>\n",
       "    </tr>\n",
       "    <tr>\n",
       "      <th>3</th>\n",
       "      <td>desktop</td>\n",
       "      <td>2018-05-20 11:23:00</td>\n",
       "      <td>9</td>\n",
       "      <td>2018-05-20 10:59:00</td>\n",
       "      <td>16174680259334210214</td>\n",
       "      <td>2018-05-17</td>\n",
       "      <td>2018-05-01</td>\n",
       "      <td>2018-05-20</td>\n",
       "      <td>2018-05-01</td>\n",
       "      <td>2018-03-01</td>\n",
       "      <td>2</td>\n",
       "    </tr>\n",
       "    <tr>\n",
       "      <th>4</th>\n",
       "      <td>desktop</td>\n",
       "      <td>2018-03-09 20:33:00</td>\n",
       "      <td>4</td>\n",
       "      <td>2018-03-09 20:05:00</td>\n",
       "      <td>16174680259334210214</td>\n",
       "      <td>2018-03-08</td>\n",
       "      <td>2018-03-01</td>\n",
       "      <td>2018-03-09</td>\n",
       "      <td>2018-03-01</td>\n",
       "      <td>2018-03-01</td>\n",
       "      <td>0</td>\n",
       "    </tr>\n",
       "    <tr>\n",
       "      <th>5</th>\n",
       "      <td>desktop</td>\n",
       "      <td>2017-12-27 14:06:00</td>\n",
       "      <td>3</td>\n",
       "      <td>2017-12-27 14:06:00</td>\n",
       "      <td>9969694820036681168</td>\n",
       "      <td>2017-12-21</td>\n",
       "      <td>2017-12-01</td>\n",
       "      <td>2017-12-27</td>\n",
       "      <td>2017-12-01</td>\n",
       "      <td>2017-12-01</td>\n",
       "      <td>0</td>\n",
       "    </tr>\n",
       "    <tr>\n",
       "      <th>6</th>\n",
       "      <td>desktop</td>\n",
       "      <td>2017-09-03 21:36:00</td>\n",
       "      <td>5</td>\n",
       "      <td>2017-09-03 21:35:00</td>\n",
       "      <td>16007536194108375387</td>\n",
       "      <td>2017-08-31</td>\n",
       "      <td>2017-09-01</td>\n",
       "      <td>2017-09-03</td>\n",
       "      <td>2017-09-01</td>\n",
       "      <td>2017-09-01</td>\n",
       "      <td>0</td>\n",
       "    </tr>\n",
       "    <tr>\n",
       "      <th>7</th>\n",
       "      <td>desktop</td>\n",
       "      <td>2017-10-27 16:02:00</td>\n",
       "      <td>3</td>\n",
       "      <td>2017-10-27 15:20:00</td>\n",
       "      <td>16007536194108375387</td>\n",
       "      <td>2017-10-26</td>\n",
       "      <td>2017-10-01</td>\n",
       "      <td>2017-10-27</td>\n",
       "      <td>2017-10-01</td>\n",
       "      <td>2017-09-01</td>\n",
       "      <td>1</td>\n",
       "    </tr>\n",
       "    <tr>\n",
       "      <th>8</th>\n",
       "      <td>desktop</td>\n",
       "      <td>2017-09-04 17:56:00</td>\n",
       "      <td>4</td>\n",
       "      <td>2017-09-04 17:37:00</td>\n",
       "      <td>16007536194108375387</td>\n",
       "      <td>2017-08-31</td>\n",
       "      <td>2017-09-01</td>\n",
       "      <td>2017-09-04</td>\n",
       "      <td>2017-09-01</td>\n",
       "      <td>2017-09-01</td>\n",
       "      <td>0</td>\n",
       "    </tr>\n",
       "    <tr>\n",
       "      <th>9</th>\n",
       "      <td>desktop</td>\n",
       "      <td>2017-10-28 00:04:00</td>\n",
       "      <td>3</td>\n",
       "      <td>2017-10-27 23:56:00</td>\n",
       "      <td>16007536194108375387</td>\n",
       "      <td>2017-10-26</td>\n",
       "      <td>2017-10-01</td>\n",
       "      <td>2017-10-27</td>\n",
       "      <td>2017-10-01</td>\n",
       "      <td>2017-09-01</td>\n",
       "      <td>1</td>\n",
       "    </tr>\n",
       "    <tr>\n",
       "      <th>10</th>\n",
       "      <td>desktop</td>\n",
       "      <td>2017-10-30 11:41:00</td>\n",
       "      <td>3</td>\n",
       "      <td>2017-10-30 11:32:00</td>\n",
       "      <td>16007536194108375387</td>\n",
       "      <td>2017-10-26</td>\n",
       "      <td>2017-10-01</td>\n",
       "      <td>2017-10-30</td>\n",
       "      <td>2017-10-01</td>\n",
       "      <td>2017-09-01</td>\n",
       "      <td>1</td>\n",
       "    </tr>\n",
       "    <tr>\n",
       "      <th>11</th>\n",
       "      <td>desktop</td>\n",
       "      <td>2017-09-24 14:31:00</td>\n",
       "      <td>4</td>\n",
       "      <td>2017-09-24 14:23:00</td>\n",
       "      <td>16007536194108375387</td>\n",
       "      <td>2017-09-21</td>\n",
       "      <td>2017-09-01</td>\n",
       "      <td>2017-09-24</td>\n",
       "      <td>2017-09-01</td>\n",
       "      <td>2017-09-01</td>\n",
       "      <td>0</td>\n",
       "    </tr>\n",
       "    <tr>\n",
       "      <th>12</th>\n",
       "      <td>desktop</td>\n",
       "      <td>2017-11-19 17:44:00</td>\n",
       "      <td>3</td>\n",
       "      <td>2017-11-19 17:21:00</td>\n",
       "      <td>16007536194108375387</td>\n",
       "      <td>2017-11-16</td>\n",
       "      <td>2017-11-01</td>\n",
       "      <td>2017-11-19</td>\n",
       "      <td>2017-11-01</td>\n",
       "      <td>2017-09-01</td>\n",
       "      <td>2</td>\n",
       "    </tr>\n",
       "    <tr>\n",
       "      <th>13</th>\n",
       "      <td>desktop</td>\n",
       "      <td>2017-09-15 20:31:00</td>\n",
       "      <td>4</td>\n",
       "      <td>2017-09-15 20:31:00</td>\n",
       "      <td>16007536194108375387</td>\n",
       "      <td>2017-09-14</td>\n",
       "      <td>2017-09-01</td>\n",
       "      <td>2017-09-15</td>\n",
       "      <td>2017-09-01</td>\n",
       "      <td>2017-09-01</td>\n",
       "      <td>0</td>\n",
       "    </tr>\n",
       "    <tr>\n",
       "      <th>14</th>\n",
       "      <td>desktop</td>\n",
       "      <td>2017-09-04 12:09:00</td>\n",
       "      <td>4</td>\n",
       "      <td>2017-09-04 11:59:00</td>\n",
       "      <td>16007536194108375387</td>\n",
       "      <td>2017-08-31</td>\n",
       "      <td>2017-09-01</td>\n",
       "      <td>2017-09-04</td>\n",
       "      <td>2017-09-01</td>\n",
       "      <td>2017-09-01</td>\n",
       "      <td>0</td>\n",
       "    </tr>\n",
       "    <tr>\n",
       "      <th>15</th>\n",
       "      <td>desktop</td>\n",
       "      <td>2017-09-04 12:51:00</td>\n",
       "      <td>3</td>\n",
       "      <td>2017-09-04 12:44:00</td>\n",
       "      <td>16007536194108375387</td>\n",
       "      <td>2017-08-31</td>\n",
       "      <td>2017-09-01</td>\n",
       "      <td>2017-09-04</td>\n",
       "      <td>2017-09-01</td>\n",
       "      <td>2017-09-01</td>\n",
       "      <td>0</td>\n",
       "    </tr>\n",
       "    <tr>\n",
       "      <th>16</th>\n",
       "      <td>desktop</td>\n",
       "      <td>2017-10-31 18:48:00</td>\n",
       "      <td>4</td>\n",
       "      <td>2017-10-31 18:47:00</td>\n",
       "      <td>16007536194108375387</td>\n",
       "      <td>2017-10-26</td>\n",
       "      <td>2017-10-01</td>\n",
       "      <td>2017-10-31</td>\n",
       "      <td>2017-10-01</td>\n",
       "      <td>2017-09-01</td>\n",
       "      <td>1</td>\n",
       "    </tr>\n",
       "    <tr>\n",
       "      <th>17</th>\n",
       "      <td>desktop</td>\n",
       "      <td>2018-01-30 12:09:00</td>\n",
       "      <td>1</td>\n",
       "      <td>2018-01-30 11:13:00</td>\n",
       "      <td>6661610529277171451</td>\n",
       "      <td>2018-01-25</td>\n",
       "      <td>2018-01-01</td>\n",
       "      <td>2018-01-30</td>\n",
       "      <td>2018-01-01</td>\n",
       "      <td>2017-06-01</td>\n",
       "      <td>7</td>\n",
       "    </tr>\n",
       "    <tr>\n",
       "      <th>18</th>\n",
       "      <td>desktop</td>\n",
       "      <td>2017-12-22 15:43:00</td>\n",
       "      <td>1</td>\n",
       "      <td>2017-12-22 15:40:00</td>\n",
       "      <td>6661610529277171451</td>\n",
       "      <td>2017-12-21</td>\n",
       "      <td>2017-12-01</td>\n",
       "      <td>2017-12-22</td>\n",
       "      <td>2017-12-01</td>\n",
       "      <td>2017-06-01</td>\n",
       "      <td>6</td>\n",
       "    </tr>\n",
       "    <tr>\n",
       "      <th>19</th>\n",
       "      <td>desktop</td>\n",
       "      <td>2018-01-17 22:01:00</td>\n",
       "      <td>4</td>\n",
       "      <td>2018-01-17 21:53:00</td>\n",
       "      <td>6661610529277171451</td>\n",
       "      <td>2018-01-11</td>\n",
       "      <td>2018-01-01</td>\n",
       "      <td>2018-01-17</td>\n",
       "      <td>2018-01-01</td>\n",
       "      <td>2017-06-01</td>\n",
       "      <td>7</td>\n",
       "    </tr>\n",
       "  </tbody>\n",
       "</table>\n",
       "</div>"
      ],
      "text/plain": [
       "     device              end_ts  source_id            start_ts  \\\n",
       "0     touch 2017-12-20 17:38:00          4 2017-12-20 17:20:00   \n",
       "1   desktop 2018-02-19 17:21:00          2 2018-02-19 16:53:00   \n",
       "2     touch 2017-07-01 01:54:00          5 2017-07-01 01:54:00   \n",
       "3   desktop 2018-05-20 11:23:00          9 2018-05-20 10:59:00   \n",
       "4   desktop 2018-03-09 20:33:00          4 2018-03-09 20:05:00   \n",
       "5   desktop 2017-12-27 14:06:00          3 2017-12-27 14:06:00   \n",
       "6   desktop 2017-09-03 21:36:00          5 2017-09-03 21:35:00   \n",
       "7   desktop 2017-10-27 16:02:00          3 2017-10-27 15:20:00   \n",
       "8   desktop 2017-09-04 17:56:00          4 2017-09-04 17:37:00   \n",
       "9   desktop 2017-10-28 00:04:00          3 2017-10-27 23:56:00   \n",
       "10  desktop 2017-10-30 11:41:00          3 2017-10-30 11:32:00   \n",
       "11  desktop 2017-09-24 14:31:00          4 2017-09-24 14:23:00   \n",
       "12  desktop 2017-11-19 17:44:00          3 2017-11-19 17:21:00   \n",
       "13  desktop 2017-09-15 20:31:00          4 2017-09-15 20:31:00   \n",
       "14  desktop 2017-09-04 12:09:00          4 2017-09-04 11:59:00   \n",
       "15  desktop 2017-09-04 12:51:00          3 2017-09-04 12:44:00   \n",
       "16  desktop 2017-10-31 18:48:00          4 2017-10-31 18:47:00   \n",
       "17  desktop 2018-01-30 12:09:00          1 2018-01-30 11:13:00   \n",
       "18  desktop 2017-12-22 15:43:00          1 2017-12-22 15:40:00   \n",
       "19  desktop 2018-01-17 22:01:00          4 2018-01-17 21:53:00   \n",
       "\n",
       "                     uid       week      month         day vicit_month  \\\n",
       "0   16879256277535980062 2017-12-14 2017-12-01  2017-12-20  2017-12-01   \n",
       "1     104060357244891740 2018-02-15 2018-02-01  2018-02-19  2018-02-01   \n",
       "2    7459035603376831527 2017-06-29 2017-07-01  2017-07-01  2017-07-01   \n",
       "3   16174680259334210214 2018-05-17 2018-05-01  2018-05-20  2018-05-01   \n",
       "4   16174680259334210214 2018-03-08 2018-03-01  2018-03-09  2018-03-01   \n",
       "5    9969694820036681168 2017-12-21 2017-12-01  2017-12-27  2017-12-01   \n",
       "6   16007536194108375387 2017-08-31 2017-09-01  2017-09-03  2017-09-01   \n",
       "7   16007536194108375387 2017-10-26 2017-10-01  2017-10-27  2017-10-01   \n",
       "8   16007536194108375387 2017-08-31 2017-09-01  2017-09-04  2017-09-01   \n",
       "9   16007536194108375387 2017-10-26 2017-10-01  2017-10-27  2017-10-01   \n",
       "10  16007536194108375387 2017-10-26 2017-10-01  2017-10-30  2017-10-01   \n",
       "11  16007536194108375387 2017-09-21 2017-09-01  2017-09-24  2017-09-01   \n",
       "12  16007536194108375387 2017-11-16 2017-11-01  2017-11-19  2017-11-01   \n",
       "13  16007536194108375387 2017-09-14 2017-09-01  2017-09-15  2017-09-01   \n",
       "14  16007536194108375387 2017-08-31 2017-09-01  2017-09-04  2017-09-01   \n",
       "15  16007536194108375387 2017-08-31 2017-09-01  2017-09-04  2017-09-01   \n",
       "16  16007536194108375387 2017-10-26 2017-10-01  2017-10-31  2017-10-01   \n",
       "17   6661610529277171451 2018-01-25 2018-01-01  2018-01-30  2018-01-01   \n",
       "18   6661610529277171451 2017-12-21 2017-12-01  2017-12-22  2017-12-01   \n",
       "19   6661610529277171451 2018-01-11 2018-01-01  2018-01-17  2018-01-01   \n",
       "\n",
       "   first_vicit_month  meses_transcurridos  \n",
       "0         2017-12-01                    0  \n",
       "1         2018-02-01                    0  \n",
       "2         2017-07-01                    0  \n",
       "3         2018-03-01                    2  \n",
       "4         2018-03-01                    0  \n",
       "5         2017-12-01                    0  \n",
       "6         2017-09-01                    0  \n",
       "7         2017-09-01                    1  \n",
       "8         2017-09-01                    0  \n",
       "9         2017-09-01                    1  \n",
       "10        2017-09-01                    1  \n",
       "11        2017-09-01                    0  \n",
       "12        2017-09-01                    2  \n",
       "13        2017-09-01                    0  \n",
       "14        2017-09-01                    0  \n",
       "15        2017-09-01                    0  \n",
       "16        2017-09-01                    1  \n",
       "17        2017-06-01                    7  \n",
       "18        2017-06-01                    6  \n",
       "19        2017-06-01                    7  "
      ]
     },
     "execution_count": 37,
     "metadata": {},
     "output_type": "execute_result"
    }
   ],
   "source": [
    "meses_diferencia.head(20)"
   ]
  },
  {
   "cell_type": "code",
   "execution_count": 38,
   "metadata": {},
   "outputs": [],
   "source": [
    "meses_diferencia_pivot = meses_diferencia.pivot_table(index='first_vicit_month', columns='meses_transcurridos', values= 'uid', aggfunc= 'nunique')"
   ]
  },
  {
   "cell_type": "code",
   "execution_count": 39,
   "metadata": {},
   "outputs": [
    {
     "data": {
      "text/html": [
       "<div>\n",
       "<style scoped>\n",
       "    .dataframe tbody tr th:only-of-type {\n",
       "        vertical-align: middle;\n",
       "    }\n",
       "\n",
       "    .dataframe tbody tr th {\n",
       "        vertical-align: top;\n",
       "    }\n",
       "\n",
       "    .dataframe thead th {\n",
       "        text-align: right;\n",
       "    }\n",
       "</style>\n",
       "<table border=\"1\" class=\"dataframe\">\n",
       "  <thead>\n",
       "    <tr style=\"text-align: right;\">\n",
       "      <th>meses_transcurridos</th>\n",
       "      <th>0</th>\n",
       "      <th>1</th>\n",
       "      <th>2</th>\n",
       "      <th>3</th>\n",
       "      <th>4</th>\n",
       "      <th>5</th>\n",
       "      <th>6</th>\n",
       "      <th>7</th>\n",
       "      <th>8</th>\n",
       "      <th>9</th>\n",
       "      <th>10</th>\n",
       "      <th>11</th>\n",
       "    </tr>\n",
       "    <tr>\n",
       "      <th>first_vicit_month</th>\n",
       "      <th></th>\n",
       "      <th></th>\n",
       "      <th></th>\n",
       "      <th></th>\n",
       "      <th></th>\n",
       "      <th></th>\n",
       "      <th></th>\n",
       "      <th></th>\n",
       "      <th></th>\n",
       "      <th></th>\n",
       "      <th></th>\n",
       "      <th></th>\n",
       "    </tr>\n",
       "  </thead>\n",
       "  <tbody>\n",
       "    <tr>\n",
       "      <th>2017-06-01</th>\n",
       "      <td>13259.0</td>\n",
       "      <td>1043.0</td>\n",
       "      <td>713.0</td>\n",
       "      <td>814.0</td>\n",
       "      <td>909.0</td>\n",
       "      <td>947.0</td>\n",
       "      <td>809.0</td>\n",
       "      <td>766.0</td>\n",
       "      <td>694.0</td>\n",
       "      <td>674.0</td>\n",
       "      <td>539.0</td>\n",
       "      <td>596.0</td>\n",
       "    </tr>\n",
       "    <tr>\n",
       "      <th>2017-07-01</th>\n",
       "      <td>13140.0</td>\n",
       "      <td>737.0</td>\n",
       "      <td>674.0</td>\n",
       "      <td>738.0</td>\n",
       "      <td>765.0</td>\n",
       "      <td>633.0</td>\n",
       "      <td>596.0</td>\n",
       "      <td>601.0</td>\n",
       "      <td>510.0</td>\n",
       "      <td>376.0</td>\n",
       "      <td>361.0</td>\n",
       "      <td>NaN</td>\n",
       "    </tr>\n",
       "    <tr>\n",
       "      <th>2017-08-01</th>\n",
       "      <td>10181.0</td>\n",
       "      <td>783.0</td>\n",
       "      <td>640.0</td>\n",
       "      <td>639.0</td>\n",
       "      <td>510.0</td>\n",
       "      <td>448.0</td>\n",
       "      <td>370.0</td>\n",
       "      <td>402.0</td>\n",
       "      <td>284.0</td>\n",
       "      <td>265.0</td>\n",
       "      <td>NaN</td>\n",
       "      <td>NaN</td>\n",
       "    </tr>\n",
       "    <tr>\n",
       "      <th>2017-09-01</th>\n",
       "      <td>16704.0</td>\n",
       "      <td>1428.0</td>\n",
       "      <td>1156.0</td>\n",
       "      <td>847.0</td>\n",
       "      <td>658.0</td>\n",
       "      <td>632.0</td>\n",
       "      <td>599.0</td>\n",
       "      <td>404.0</td>\n",
       "      <td>381.0</td>\n",
       "      <td>NaN</td>\n",
       "      <td>NaN</td>\n",
       "      <td>NaN</td>\n",
       "    </tr>\n",
       "    <tr>\n",
       "      <th>2017-10-01</th>\n",
       "      <td>25977.0</td>\n",
       "      <td>2042.0</td>\n",
       "      <td>1357.0</td>\n",
       "      <td>1012.0</td>\n",
       "      <td>890.0</td>\n",
       "      <td>837.0</td>\n",
       "      <td>555.0</td>\n",
       "      <td>529.0</td>\n",
       "      <td>NaN</td>\n",
       "      <td>NaN</td>\n",
       "      <td>NaN</td>\n",
       "      <td>NaN</td>\n",
       "    </tr>\n",
       "    <tr>\n",
       "      <th>2017-11-01</th>\n",
       "      <td>27248.0</td>\n",
       "      <td>2133.0</td>\n",
       "      <td>1202.0</td>\n",
       "      <td>1054.0</td>\n",
       "      <td>919.0</td>\n",
       "      <td>638.0</td>\n",
       "      <td>594.0</td>\n",
       "      <td>NaN</td>\n",
       "      <td>NaN</td>\n",
       "      <td>NaN</td>\n",
       "      <td>NaN</td>\n",
       "      <td>NaN</td>\n",
       "    </tr>\n",
       "    <tr>\n",
       "      <th>2017-12-01</th>\n",
       "      <td>25268.0</td>\n",
       "      <td>1410.0</td>\n",
       "      <td>960.0</td>\n",
       "      <td>786.0</td>\n",
       "      <td>512.0</td>\n",
       "      <td>481.0</td>\n",
       "      <td>NaN</td>\n",
       "      <td>NaN</td>\n",
       "      <td>NaN</td>\n",
       "      <td>NaN</td>\n",
       "      <td>NaN</td>\n",
       "      <td>NaN</td>\n",
       "    </tr>\n",
       "    <tr>\n",
       "      <th>2018-01-01</th>\n",
       "      <td>22624.0</td>\n",
       "      <td>2032.0</td>\n",
       "      <td>NaN</td>\n",
       "      <td>565.0</td>\n",
       "      <td>458.0</td>\n",
       "      <td>NaN</td>\n",
       "      <td>NaN</td>\n",
       "      <td>NaN</td>\n",
       "      <td>NaN</td>\n",
       "      <td>NaN</td>\n",
       "      <td>NaN</td>\n",
       "      <td>NaN</td>\n",
       "    </tr>\n",
       "    <tr>\n",
       "      <th>2018-02-01</th>\n",
       "      <td>22197.0</td>\n",
       "      <td>565.0</td>\n",
       "      <td>446.0</td>\n",
       "      <td>NaN</td>\n",
       "      <td>NaN</td>\n",
       "      <td>NaN</td>\n",
       "      <td>NaN</td>\n",
       "      <td>NaN</td>\n",
       "      <td>NaN</td>\n",
       "      <td>NaN</td>\n",
       "      <td>NaN</td>\n",
       "      <td>NaN</td>\n",
       "    </tr>\n",
       "    <tr>\n",
       "      <th>2018-03-01</th>\n",
       "      <td>20589.0</td>\n",
       "      <td>861.0</td>\n",
       "      <td>557.0</td>\n",
       "      <td>NaN</td>\n",
       "      <td>NaN</td>\n",
       "      <td>NaN</td>\n",
       "      <td>NaN</td>\n",
       "      <td>NaN</td>\n",
       "      <td>NaN</td>\n",
       "      <td>NaN</td>\n",
       "      <td>NaN</td>\n",
       "      <td>NaN</td>\n",
       "    </tr>\n",
       "    <tr>\n",
       "      <th>2018-04-01</th>\n",
       "      <td>15709.0</td>\n",
       "      <td>760.0</td>\n",
       "      <td>NaN</td>\n",
       "      <td>NaN</td>\n",
       "      <td>NaN</td>\n",
       "      <td>NaN</td>\n",
       "      <td>NaN</td>\n",
       "      <td>NaN</td>\n",
       "      <td>NaN</td>\n",
       "      <td>NaN</td>\n",
       "      <td>NaN</td>\n",
       "      <td>NaN</td>\n",
       "    </tr>\n",
       "    <tr>\n",
       "      <th>2018-05-01</th>\n",
       "      <td>15273.0</td>\n",
       "      <td>NaN</td>\n",
       "      <td>NaN</td>\n",
       "      <td>NaN</td>\n",
       "      <td>NaN</td>\n",
       "      <td>NaN</td>\n",
       "      <td>NaN</td>\n",
       "      <td>NaN</td>\n",
       "      <td>NaN</td>\n",
       "      <td>NaN</td>\n",
       "      <td>NaN</td>\n",
       "      <td>NaN</td>\n",
       "    </tr>\n",
       "  </tbody>\n",
       "</table>\n",
       "</div>"
      ],
      "text/plain": [
       "meses_transcurridos       0       1       2       3      4      5      6   \\\n",
       "first_vicit_month                                                           \n",
       "2017-06-01           13259.0  1043.0   713.0   814.0  909.0  947.0  809.0   \n",
       "2017-07-01           13140.0   737.0   674.0   738.0  765.0  633.0  596.0   \n",
       "2017-08-01           10181.0   783.0   640.0   639.0  510.0  448.0  370.0   \n",
       "2017-09-01           16704.0  1428.0  1156.0   847.0  658.0  632.0  599.0   \n",
       "2017-10-01           25977.0  2042.0  1357.0  1012.0  890.0  837.0  555.0   \n",
       "2017-11-01           27248.0  2133.0  1202.0  1054.0  919.0  638.0  594.0   \n",
       "2017-12-01           25268.0  1410.0   960.0   786.0  512.0  481.0    NaN   \n",
       "2018-01-01           22624.0  2032.0     NaN   565.0  458.0    NaN    NaN   \n",
       "2018-02-01           22197.0   565.0   446.0     NaN    NaN    NaN    NaN   \n",
       "2018-03-01           20589.0   861.0   557.0     NaN    NaN    NaN    NaN   \n",
       "2018-04-01           15709.0   760.0     NaN     NaN    NaN    NaN    NaN   \n",
       "2018-05-01           15273.0     NaN     NaN     NaN    NaN    NaN    NaN   \n",
       "\n",
       "meses_transcurridos     7      8      9      10     11  \n",
       "first_vicit_month                                       \n",
       "2017-06-01           766.0  694.0  674.0  539.0  596.0  \n",
       "2017-07-01           601.0  510.0  376.0  361.0    NaN  \n",
       "2017-08-01           402.0  284.0  265.0    NaN    NaN  \n",
       "2017-09-01           404.0  381.0    NaN    NaN    NaN  \n",
       "2017-10-01           529.0    NaN    NaN    NaN    NaN  \n",
       "2017-11-01             NaN    NaN    NaN    NaN    NaN  \n",
       "2017-12-01             NaN    NaN    NaN    NaN    NaN  \n",
       "2018-01-01             NaN    NaN    NaN    NaN    NaN  \n",
       "2018-02-01             NaN    NaN    NaN    NaN    NaN  \n",
       "2018-03-01             NaN    NaN    NaN    NaN    NaN  \n",
       "2018-04-01             NaN    NaN    NaN    NaN    NaN  \n",
       "2018-05-01             NaN    NaN    NaN    NaN    NaN  "
      ]
     },
     "execution_count": 39,
     "metadata": {},
     "output_type": "execute_result"
    }
   ],
   "source": [
    "meses_diferencia_pivot"
   ]
  },
  {
   "cell_type": "code",
   "execution_count": 40,
   "metadata": {},
   "outputs": [],
   "source": [
    "meses_diferencia_pivot_rete = meses_diferencia_pivot.copy()\n",
    "for col in meses_diferencia_pivot_rete.columns:\n",
    "    meses_diferencia_pivot_rete[col] = meses_diferencia_pivot_rete[col]/meses_diferencia_pivot[0]"
   ]
  },
  {
   "cell_type": "code",
   "execution_count": 41,
   "metadata": {},
   "outputs": [
    {
     "name": "stderr",
     "output_type": "stream",
     "text": [
      "/opt/conda/envs/python3/lib/python3.9/site-packages/pandas/io/formats/style.py:1264: RuntimeWarning: All-NaN slice encountered\n",
      "  smin = np.nanmin(s.to_numpy()) if vmin is None else vmin\n",
      "/opt/conda/envs/python3/lib/python3.9/site-packages/pandas/io/formats/style.py:1265: RuntimeWarning: All-NaN slice encountered\n",
      "  smax = np.nanmax(s.to_numpy()) if vmax is None else vmax\n"
     ]
    },
    {
     "data": {
      "text/html": [
       "<style  type=\"text/css\" >\n",
       "#T_bd5d1_row0_col1,#T_bd5d1_row1_col4,#T_bd5d1_row2_col1,#T_bd5d1_row3_col1,#T_bd5d1_row4_col1,#T_bd5d1_row5_col1,#T_bd5d1_row6_col1,#T_bd5d1_row7_col1,#T_bd5d1_row8_col1,#T_bd5d1_row9_col1{\n",
       "            background-color:  #023858;\n",
       "            color:  #f1f1f1;\n",
       "        }#T_bd5d1_row0_col2{\n",
       "            background-color:  #b0c2de;\n",
       "            color:  #000000;\n",
       "        }#T_bd5d1_row0_col3{\n",
       "            background-color:  #5ea0ca;\n",
       "            color:  #000000;\n",
       "        }#T_bd5d1_row0_col4{\n",
       "            background-color:  #0c74b2;\n",
       "            color:  #f1f1f1;\n",
       "        }#T_bd5d1_row0_col5{\n",
       "            background-color:  #05659f;\n",
       "            color:  #f1f1f1;\n",
       "        }#T_bd5d1_row0_col6{\n",
       "            background-color:  #62a2cb;\n",
       "            color:  #000000;\n",
       "        }#T_bd5d1_row0_col7{\n",
       "            background-color:  #88b1d4;\n",
       "            color:  #000000;\n",
       "        }#T_bd5d1_row0_col8{\n",
       "            background-color:  #bdc8e1;\n",
       "            color:  #000000;\n",
       "        }#T_bd5d1_row0_col9{\n",
       "            background-color:  #cacee5;\n",
       "            color:  #000000;\n",
       "        }#T_bd5d1_row0_col10,#T_bd5d1_row1_col10,#T_bd5d1_row2_col9,#T_bd5d1_row3_col8,#T_bd5d1_row4_col7,#T_bd5d1_row5_col6,#T_bd5d1_row6_col5,#T_bd5d1_row7_col4,#T_bd5d1_row8_col2,#T_bd5d1_row9_col2,#T_bd5d1_row10_col1,#T_bd5d1_row10_col2,#T_bd5d1_row10_col3,#T_bd5d1_row10_col4,#T_bd5d1_row10_col5,#T_bd5d1_row10_col6,#T_bd5d1_row10_col7,#T_bd5d1_row10_col8,#T_bd5d1_row10_col9,#T_bd5d1_row10_col10,#T_bd5d1_row10_col11{\n",
       "            background-color:  #fff7fb;\n",
       "            color:  #000000;\n",
       "        }#T_bd5d1_row0_col11{\n",
       "            background-color:  #eee9f3;\n",
       "            color:  #000000;\n",
       "        }#T_bd5d1_row1_col1,#T_bd5d1_row1_col3{\n",
       "            background-color:  #034a74;\n",
       "            color:  #f1f1f1;\n",
       "        }#T_bd5d1_row1_col2{\n",
       "            background-color:  #056ba9;\n",
       "            color:  #f1f1f1;\n",
       "        }#T_bd5d1_row1_col5{\n",
       "            background-color:  #2383ba;\n",
       "            color:  #000000;\n",
       "        }#T_bd5d1_row1_col6{\n",
       "            background-color:  #4c99c5;\n",
       "            color:  #000000;\n",
       "        }#T_bd5d1_row1_col7{\n",
       "            background-color:  #4496c3;\n",
       "            color:  #000000;\n",
       "        }#T_bd5d1_row1_col8{\n",
       "            background-color:  #a8bedc;\n",
       "            color:  #000000;\n",
       "        }#T_bd5d1_row1_col9,#T_bd5d1_row2_col8{\n",
       "            background-color:  #faf2f8;\n",
       "            color:  #000000;\n",
       "        }#T_bd5d1_row1_col11,#T_bd5d1_row2_col10,#T_bd5d1_row2_col11,#T_bd5d1_row3_col9,#T_bd5d1_row3_col10,#T_bd5d1_row3_col11,#T_bd5d1_row4_col8,#T_bd5d1_row4_col9,#T_bd5d1_row4_col10,#T_bd5d1_row4_col11,#T_bd5d1_row5_col7,#T_bd5d1_row5_col8,#T_bd5d1_row5_col9,#T_bd5d1_row5_col10,#T_bd5d1_row5_col11,#T_bd5d1_row6_col6,#T_bd5d1_row6_col7,#T_bd5d1_row6_col8,#T_bd5d1_row6_col9,#T_bd5d1_row6_col10,#T_bd5d1_row6_col11,#T_bd5d1_row7_col2,#T_bd5d1_row7_col5,#T_bd5d1_row7_col6,#T_bd5d1_row7_col7,#T_bd5d1_row7_col8,#T_bd5d1_row7_col9,#T_bd5d1_row7_col10,#T_bd5d1_row7_col11,#T_bd5d1_row8_col3,#T_bd5d1_row8_col4,#T_bd5d1_row8_col5,#T_bd5d1_row8_col6,#T_bd5d1_row8_col7,#T_bd5d1_row8_col8,#T_bd5d1_row8_col9,#T_bd5d1_row8_col10,#T_bd5d1_row8_col11,#T_bd5d1_row9_col3,#T_bd5d1_row9_col4,#T_bd5d1_row9_col5,#T_bd5d1_row9_col6,#T_bd5d1_row9_col7,#T_bd5d1_row9_col8,#T_bd5d1_row9_col9,#T_bd5d1_row9_col10,#T_bd5d1_row9_col11,#T_bd5d1_row11_col1,#T_bd5d1_row11_col2,#T_bd5d1_row11_col3,#T_bd5d1_row11_col4,#T_bd5d1_row11_col5,#T_bd5d1_row11_col6,#T_bd5d1_row11_col7,#T_bd5d1_row11_col8,#T_bd5d1_row11_col9,#T_bd5d1_row11_col10,#T_bd5d1_row11_col11{\n",
       "            background-color:  #000000;\n",
       "            color:  #f1f1f1;\n",
       "        }#T_bd5d1_row2_col2{\n",
       "            background-color:  #0f76b3;\n",
       "            color:  #f1f1f1;\n",
       "        }#T_bd5d1_row2_col3{\n",
       "            background-color:  #1077b4;\n",
       "            color:  #f1f1f1;\n",
       "        }#T_bd5d1_row2_col4{\n",
       "            background-color:  #7eadd1;\n",
       "            color:  #000000;\n",
       "        }#T_bd5d1_row2_col5{\n",
       "            background-color:  #adc1dd;\n",
       "            color:  #000000;\n",
       "        }#T_bd5d1_row2_col6{\n",
       "            background-color:  #dbdaeb;\n",
       "            color:  #000000;\n",
       "        }#T_bd5d1_row2_col7,#T_bd5d1_row3_col4{\n",
       "            background-color:  #cccfe5;\n",
       "            color:  #000000;\n",
       "        }#T_bd5d1_row3_col2{\n",
       "            background-color:  #0872b1;\n",
       "            color:  #f1f1f1;\n",
       "        }#T_bd5d1_row3_col3{\n",
       "            background-color:  #8bb2d4;\n",
       "            color:  #000000;\n",
       "        }#T_bd5d1_row3_col5,#T_bd5d1_row4_col4{\n",
       "            background-color:  #d2d3e7;\n",
       "            color:  #000000;\n",
       "        }#T_bd5d1_row3_col6,#T_bd5d1_row5_col4{\n",
       "            background-color:  #d9d8ea;\n",
       "            color:  #000000;\n",
       "        }#T_bd5d1_row3_col7{\n",
       "            background-color:  #fcf4fa;\n",
       "            color:  #000000;\n",
       "        }#T_bd5d1_row4_col2{\n",
       "            background-color:  #5c9fc9;\n",
       "            color:  #000000;\n",
       "        }#T_bd5d1_row4_col3{\n",
       "            background-color:  #b9c6e0;\n",
       "            color:  #000000;\n",
       "        }#T_bd5d1_row4_col5{\n",
       "            background-color:  #dad9ea;\n",
       "            color:  #000000;\n",
       "        }#T_bd5d1_row4_col6{\n",
       "            background-color:  #fdf5fa;\n",
       "            color:  #000000;\n",
       "        }#T_bd5d1_row5_col2{\n",
       "            background-color:  #9ebad9;\n",
       "            color:  #000000;\n",
       "        }#T_bd5d1_row5_col3{\n",
       "            background-color:  #c0c9e2;\n",
       "            color:  #000000;\n",
       "        }#T_bd5d1_row5_col5{\n",
       "            background-color:  #fbf3f9;\n",
       "            color:  #000000;\n",
       "        }#T_bd5d1_row6_col2{\n",
       "            background-color:  #6da6cd;\n",
       "            color:  #000000;\n",
       "        }#T_bd5d1_row6_col3{\n",
       "            background-color:  #b5c4df;\n",
       "            color:  #000000;\n",
       "        }#T_bd5d1_row6_col4{\n",
       "            background-color:  #faf3f9;\n",
       "            color:  #000000;\n",
       "        }#T_bd5d1_row7_col3{\n",
       "            background-color:  #f5eef6;\n",
       "            color:  #000000;\n",
       "        }</style><table id=\"T_bd5d1_\" ><thead>    <tr>        <th class=\"index_name level0\" >meses_transcurridos</th>        <th class=\"col_heading level0 col0\" >0</th>        <th class=\"col_heading level0 col1\" >1</th>        <th class=\"col_heading level0 col2\" >2</th>        <th class=\"col_heading level0 col3\" >3</th>        <th class=\"col_heading level0 col4\" >4</th>        <th class=\"col_heading level0 col5\" >5</th>        <th class=\"col_heading level0 col6\" >6</th>        <th class=\"col_heading level0 col7\" >7</th>        <th class=\"col_heading level0 col8\" >8</th>        <th class=\"col_heading level0 col9\" >9</th>        <th class=\"col_heading level0 col10\" >10</th>        <th class=\"col_heading level0 col11\" >11</th>    </tr>    <tr>        <th class=\"index_name level0\" >first_vicit_month</th>        <th class=\"blank\" ></th>        <th class=\"blank\" ></th>        <th class=\"blank\" ></th>        <th class=\"blank\" ></th>        <th class=\"blank\" ></th>        <th class=\"blank\" ></th>        <th class=\"blank\" ></th>        <th class=\"blank\" ></th>        <th class=\"blank\" ></th>        <th class=\"blank\" ></th>        <th class=\"blank\" ></th>        <th class=\"blank\" ></th>    </tr></thead><tbody>\n",
       "                <tr>\n",
       "                        <th id=\"T_bd5d1_level0_row0\" class=\"row_heading level0 row0\" >2017-06-01 00:00:00</th>\n",
       "                        <td id=\"T_bd5d1_row0_col0\" class=\"data row0 col0\" >1</td>\n",
       "                        <td id=\"T_bd5d1_row0_col1\" class=\"data row0 col1\" >7.87%</td>\n",
       "                        <td id=\"T_bd5d1_row0_col2\" class=\"data row0 col2\" >5.38%</td>\n",
       "                        <td id=\"T_bd5d1_row0_col3\" class=\"data row0 col3\" >6.14%</td>\n",
       "                        <td id=\"T_bd5d1_row0_col4\" class=\"data row0 col4\" >6.86%</td>\n",
       "                        <td id=\"T_bd5d1_row0_col5\" class=\"data row0 col5\" >7.14%</td>\n",
       "                        <td id=\"T_bd5d1_row0_col6\" class=\"data row0 col6\" >6.10%</td>\n",
       "                        <td id=\"T_bd5d1_row0_col7\" class=\"data row0 col7\" >5.78%</td>\n",
       "                        <td id=\"T_bd5d1_row0_col8\" class=\"data row0 col8\" >5.23%</td>\n",
       "                        <td id=\"T_bd5d1_row0_col9\" class=\"data row0 col9\" >5.08%</td>\n",
       "                        <td id=\"T_bd5d1_row0_col10\" class=\"data row0 col10\" >4.07%</td>\n",
       "                        <td id=\"T_bd5d1_row0_col11\" class=\"data row0 col11\" >4.50%</td>\n",
       "            </tr>\n",
       "            <tr>\n",
       "                        <th id=\"T_bd5d1_level0_row1\" class=\"row_heading level0 row1\" >2017-07-01 00:00:00</th>\n",
       "                        <td id=\"T_bd5d1_row1_col0\" class=\"data row1 col0\" >1</td>\n",
       "                        <td id=\"T_bd5d1_row1_col1\" class=\"data row1 col1\" >5.61%</td>\n",
       "                        <td id=\"T_bd5d1_row1_col2\" class=\"data row1 col2\" >5.13%</td>\n",
       "                        <td id=\"T_bd5d1_row1_col3\" class=\"data row1 col3\" >5.62%</td>\n",
       "                        <td id=\"T_bd5d1_row1_col4\" class=\"data row1 col4\" >5.82%</td>\n",
       "                        <td id=\"T_bd5d1_row1_col5\" class=\"data row1 col5\" >4.82%</td>\n",
       "                        <td id=\"T_bd5d1_row1_col6\" class=\"data row1 col6\" >4.54%</td>\n",
       "                        <td id=\"T_bd5d1_row1_col7\" class=\"data row1 col7\" >4.57%</td>\n",
       "                        <td id=\"T_bd5d1_row1_col8\" class=\"data row1 col8\" >3.88%</td>\n",
       "                        <td id=\"T_bd5d1_row1_col9\" class=\"data row1 col9\" >2.86%</td>\n",
       "                        <td id=\"T_bd5d1_row1_col10\" class=\"data row1 col10\" >2.75%</td>\n",
       "                        <td id=\"T_bd5d1_row1_col11\" class=\"data row1 col11\" >nan%</td>\n",
       "            </tr>\n",
       "            <tr>\n",
       "                        <th id=\"T_bd5d1_level0_row2\" class=\"row_heading level0 row2\" >2017-08-01 00:00:00</th>\n",
       "                        <td id=\"T_bd5d1_row2_col0\" class=\"data row2 col0\" >1</td>\n",
       "                        <td id=\"T_bd5d1_row2_col1\" class=\"data row2 col1\" >7.69%</td>\n",
       "                        <td id=\"T_bd5d1_row2_col2\" class=\"data row2 col2\" >6.29%</td>\n",
       "                        <td id=\"T_bd5d1_row2_col3\" class=\"data row2 col3\" >6.28%</td>\n",
       "                        <td id=\"T_bd5d1_row2_col4\" class=\"data row2 col4\" >5.01%</td>\n",
       "                        <td id=\"T_bd5d1_row2_col5\" class=\"data row2 col5\" >4.40%</td>\n",
       "                        <td id=\"T_bd5d1_row2_col6\" class=\"data row2 col6\" >3.63%</td>\n",
       "                        <td id=\"T_bd5d1_row2_col7\" class=\"data row2 col7\" >3.95%</td>\n",
       "                        <td id=\"T_bd5d1_row2_col8\" class=\"data row2 col8\" >2.79%</td>\n",
       "                        <td id=\"T_bd5d1_row2_col9\" class=\"data row2 col9\" >2.60%</td>\n",
       "                        <td id=\"T_bd5d1_row2_col10\" class=\"data row2 col10\" >nan%</td>\n",
       "                        <td id=\"T_bd5d1_row2_col11\" class=\"data row2 col11\" >nan%</td>\n",
       "            </tr>\n",
       "            <tr>\n",
       "                        <th id=\"T_bd5d1_level0_row3\" class=\"row_heading level0 row3\" >2017-09-01 00:00:00</th>\n",
       "                        <td id=\"T_bd5d1_row3_col0\" class=\"data row3 col0\" >1</td>\n",
       "                        <td id=\"T_bd5d1_row3_col1\" class=\"data row3 col1\" >8.55%</td>\n",
       "                        <td id=\"T_bd5d1_row3_col2\" class=\"data row3 col2\" >6.92%</td>\n",
       "                        <td id=\"T_bd5d1_row3_col3\" class=\"data row3 col3\" >5.07%</td>\n",
       "                        <td id=\"T_bd5d1_row3_col4\" class=\"data row3 col4\" >3.94%</td>\n",
       "                        <td id=\"T_bd5d1_row3_col5\" class=\"data row3 col5\" >3.78%</td>\n",
       "                        <td id=\"T_bd5d1_row3_col6\" class=\"data row3 col6\" >3.59%</td>\n",
       "                        <td id=\"T_bd5d1_row3_col7\" class=\"data row3 col7\" >2.42%</td>\n",
       "                        <td id=\"T_bd5d1_row3_col8\" class=\"data row3 col8\" >2.28%</td>\n",
       "                        <td id=\"T_bd5d1_row3_col9\" class=\"data row3 col9\" >nan%</td>\n",
       "                        <td id=\"T_bd5d1_row3_col10\" class=\"data row3 col10\" >nan%</td>\n",
       "                        <td id=\"T_bd5d1_row3_col11\" class=\"data row3 col11\" >nan%</td>\n",
       "            </tr>\n",
       "            <tr>\n",
       "                        <th id=\"T_bd5d1_level0_row4\" class=\"row_heading level0 row4\" >2017-10-01 00:00:00</th>\n",
       "                        <td id=\"T_bd5d1_row4_col0\" class=\"data row4 col0\" >1</td>\n",
       "                        <td id=\"T_bd5d1_row4_col1\" class=\"data row4 col1\" >7.86%</td>\n",
       "                        <td id=\"T_bd5d1_row4_col2\" class=\"data row4 col2\" >5.22%</td>\n",
       "                        <td id=\"T_bd5d1_row4_col3\" class=\"data row4 col3\" >3.90%</td>\n",
       "                        <td id=\"T_bd5d1_row4_col4\" class=\"data row4 col4\" >3.43%</td>\n",
       "                        <td id=\"T_bd5d1_row4_col5\" class=\"data row4 col5\" >3.22%</td>\n",
       "                        <td id=\"T_bd5d1_row4_col6\" class=\"data row4 col6\" >2.14%</td>\n",
       "                        <td id=\"T_bd5d1_row4_col7\" class=\"data row4 col7\" >2.04%</td>\n",
       "                        <td id=\"T_bd5d1_row4_col8\" class=\"data row4 col8\" >nan%</td>\n",
       "                        <td id=\"T_bd5d1_row4_col9\" class=\"data row4 col9\" >nan%</td>\n",
       "                        <td id=\"T_bd5d1_row4_col10\" class=\"data row4 col10\" >nan%</td>\n",
       "                        <td id=\"T_bd5d1_row4_col11\" class=\"data row4 col11\" >nan%</td>\n",
       "            </tr>\n",
       "            <tr>\n",
       "                        <th id=\"T_bd5d1_level0_row5\" class=\"row_heading level0 row5\" >2017-11-01 00:00:00</th>\n",
       "                        <td id=\"T_bd5d1_row5_col0\" class=\"data row5 col0\" >1</td>\n",
       "                        <td id=\"T_bd5d1_row5_col1\" class=\"data row5 col1\" >7.83%</td>\n",
       "                        <td id=\"T_bd5d1_row5_col2\" class=\"data row5 col2\" >4.41%</td>\n",
       "                        <td id=\"T_bd5d1_row5_col3\" class=\"data row5 col3\" >3.87%</td>\n",
       "                        <td id=\"T_bd5d1_row5_col4\" class=\"data row5 col4\" >3.37%</td>\n",
       "                        <td id=\"T_bd5d1_row5_col5\" class=\"data row5 col5\" >2.34%</td>\n",
       "                        <td id=\"T_bd5d1_row5_col6\" class=\"data row5 col6\" >2.18%</td>\n",
       "                        <td id=\"T_bd5d1_row5_col7\" class=\"data row5 col7\" >nan%</td>\n",
       "                        <td id=\"T_bd5d1_row5_col8\" class=\"data row5 col8\" >nan%</td>\n",
       "                        <td id=\"T_bd5d1_row5_col9\" class=\"data row5 col9\" >nan%</td>\n",
       "                        <td id=\"T_bd5d1_row5_col10\" class=\"data row5 col10\" >nan%</td>\n",
       "                        <td id=\"T_bd5d1_row5_col11\" class=\"data row5 col11\" >nan%</td>\n",
       "            </tr>\n",
       "            <tr>\n",
       "                        <th id=\"T_bd5d1_level0_row6\" class=\"row_heading level0 row6\" >2017-12-01 00:00:00</th>\n",
       "                        <td id=\"T_bd5d1_row6_col0\" class=\"data row6 col0\" >1</td>\n",
       "                        <td id=\"T_bd5d1_row6_col1\" class=\"data row6 col1\" >5.58%</td>\n",
       "                        <td id=\"T_bd5d1_row6_col2\" class=\"data row6 col2\" >3.80%</td>\n",
       "                        <td id=\"T_bd5d1_row6_col3\" class=\"data row6 col3\" >3.11%</td>\n",
       "                        <td id=\"T_bd5d1_row6_col4\" class=\"data row6 col4\" >2.03%</td>\n",
       "                        <td id=\"T_bd5d1_row6_col5\" class=\"data row6 col5\" >1.90%</td>\n",
       "                        <td id=\"T_bd5d1_row6_col6\" class=\"data row6 col6\" >nan%</td>\n",
       "                        <td id=\"T_bd5d1_row6_col7\" class=\"data row6 col7\" >nan%</td>\n",
       "                        <td id=\"T_bd5d1_row6_col8\" class=\"data row6 col8\" >nan%</td>\n",
       "                        <td id=\"T_bd5d1_row6_col9\" class=\"data row6 col9\" >nan%</td>\n",
       "                        <td id=\"T_bd5d1_row6_col10\" class=\"data row6 col10\" >nan%</td>\n",
       "                        <td id=\"T_bd5d1_row6_col11\" class=\"data row6 col11\" >nan%</td>\n",
       "            </tr>\n",
       "            <tr>\n",
       "                        <th id=\"T_bd5d1_level0_row7\" class=\"row_heading level0 row7\" >2018-01-01 00:00:00</th>\n",
       "                        <td id=\"T_bd5d1_row7_col0\" class=\"data row7 col0\" >1</td>\n",
       "                        <td id=\"T_bd5d1_row7_col1\" class=\"data row7 col1\" >8.98%</td>\n",
       "                        <td id=\"T_bd5d1_row7_col2\" class=\"data row7 col2\" >nan%</td>\n",
       "                        <td id=\"T_bd5d1_row7_col3\" class=\"data row7 col3\" >2.50%</td>\n",
       "                        <td id=\"T_bd5d1_row7_col4\" class=\"data row7 col4\" >2.02%</td>\n",
       "                        <td id=\"T_bd5d1_row7_col5\" class=\"data row7 col5\" >nan%</td>\n",
       "                        <td id=\"T_bd5d1_row7_col6\" class=\"data row7 col6\" >nan%</td>\n",
       "                        <td id=\"T_bd5d1_row7_col7\" class=\"data row7 col7\" >nan%</td>\n",
       "                        <td id=\"T_bd5d1_row7_col8\" class=\"data row7 col8\" >nan%</td>\n",
       "                        <td id=\"T_bd5d1_row7_col9\" class=\"data row7 col9\" >nan%</td>\n",
       "                        <td id=\"T_bd5d1_row7_col10\" class=\"data row7 col10\" >nan%</td>\n",
       "                        <td id=\"T_bd5d1_row7_col11\" class=\"data row7 col11\" >nan%</td>\n",
       "            </tr>\n",
       "            <tr>\n",
       "                        <th id=\"T_bd5d1_level0_row8\" class=\"row_heading level0 row8\" >2018-02-01 00:00:00</th>\n",
       "                        <td id=\"T_bd5d1_row8_col0\" class=\"data row8 col0\" >1</td>\n",
       "                        <td id=\"T_bd5d1_row8_col1\" class=\"data row8 col1\" >2.55%</td>\n",
       "                        <td id=\"T_bd5d1_row8_col2\" class=\"data row8 col2\" >2.01%</td>\n",
       "                        <td id=\"T_bd5d1_row8_col3\" class=\"data row8 col3\" >nan%</td>\n",
       "                        <td id=\"T_bd5d1_row8_col4\" class=\"data row8 col4\" >nan%</td>\n",
       "                        <td id=\"T_bd5d1_row8_col5\" class=\"data row8 col5\" >nan%</td>\n",
       "                        <td id=\"T_bd5d1_row8_col6\" class=\"data row8 col6\" >nan%</td>\n",
       "                        <td id=\"T_bd5d1_row8_col7\" class=\"data row8 col7\" >nan%</td>\n",
       "                        <td id=\"T_bd5d1_row8_col8\" class=\"data row8 col8\" >nan%</td>\n",
       "                        <td id=\"T_bd5d1_row8_col9\" class=\"data row8 col9\" >nan%</td>\n",
       "                        <td id=\"T_bd5d1_row8_col10\" class=\"data row8 col10\" >nan%</td>\n",
       "                        <td id=\"T_bd5d1_row8_col11\" class=\"data row8 col11\" >nan%</td>\n",
       "            </tr>\n",
       "            <tr>\n",
       "                        <th id=\"T_bd5d1_level0_row9\" class=\"row_heading level0 row9\" >2018-03-01 00:00:00</th>\n",
       "                        <td id=\"T_bd5d1_row9_col0\" class=\"data row9 col0\" >1</td>\n",
       "                        <td id=\"T_bd5d1_row9_col1\" class=\"data row9 col1\" >4.18%</td>\n",
       "                        <td id=\"T_bd5d1_row9_col2\" class=\"data row9 col2\" >2.71%</td>\n",
       "                        <td id=\"T_bd5d1_row9_col3\" class=\"data row9 col3\" >nan%</td>\n",
       "                        <td id=\"T_bd5d1_row9_col4\" class=\"data row9 col4\" >nan%</td>\n",
       "                        <td id=\"T_bd5d1_row9_col5\" class=\"data row9 col5\" >nan%</td>\n",
       "                        <td id=\"T_bd5d1_row9_col6\" class=\"data row9 col6\" >nan%</td>\n",
       "                        <td id=\"T_bd5d1_row9_col7\" class=\"data row9 col7\" >nan%</td>\n",
       "                        <td id=\"T_bd5d1_row9_col8\" class=\"data row9 col8\" >nan%</td>\n",
       "                        <td id=\"T_bd5d1_row9_col9\" class=\"data row9 col9\" >nan%</td>\n",
       "                        <td id=\"T_bd5d1_row9_col10\" class=\"data row9 col10\" >nan%</td>\n",
       "                        <td id=\"T_bd5d1_row9_col11\" class=\"data row9 col11\" >nan%</td>\n",
       "            </tr>\n",
       "            <tr>\n",
       "                        <th id=\"T_bd5d1_level0_row10\" class=\"row_heading level0 row10\" >2018-04-01 00:00:00</th>\n",
       "                        <td id=\"T_bd5d1_row10_col0\" class=\"data row10 col0\" >1</td>\n",
       "                        <td id=\"T_bd5d1_row10_col1\" class=\"data row10 col1\" >4.84%</td>\n",
       "                        <td id=\"T_bd5d1_row10_col2\" class=\"data row10 col2\" >nan%</td>\n",
       "                        <td id=\"T_bd5d1_row10_col3\" class=\"data row10 col3\" >nan%</td>\n",
       "                        <td id=\"T_bd5d1_row10_col4\" class=\"data row10 col4\" >nan%</td>\n",
       "                        <td id=\"T_bd5d1_row10_col5\" class=\"data row10 col5\" >nan%</td>\n",
       "                        <td id=\"T_bd5d1_row10_col6\" class=\"data row10 col6\" >nan%</td>\n",
       "                        <td id=\"T_bd5d1_row10_col7\" class=\"data row10 col7\" >nan%</td>\n",
       "                        <td id=\"T_bd5d1_row10_col8\" class=\"data row10 col8\" >nan%</td>\n",
       "                        <td id=\"T_bd5d1_row10_col9\" class=\"data row10 col9\" >nan%</td>\n",
       "                        <td id=\"T_bd5d1_row10_col10\" class=\"data row10 col10\" >nan%</td>\n",
       "                        <td id=\"T_bd5d1_row10_col11\" class=\"data row10 col11\" >nan%</td>\n",
       "            </tr>\n",
       "            <tr>\n",
       "                        <th id=\"T_bd5d1_level0_row11\" class=\"row_heading level0 row11\" >2018-05-01 00:00:00</th>\n",
       "                        <td id=\"T_bd5d1_row11_col0\" class=\"data row11 col0\" >1</td>\n",
       "                        <td id=\"T_bd5d1_row11_col1\" class=\"data row11 col1\" >nan%</td>\n",
       "                        <td id=\"T_bd5d1_row11_col2\" class=\"data row11 col2\" >nan%</td>\n",
       "                        <td id=\"T_bd5d1_row11_col3\" class=\"data row11 col3\" >nan%</td>\n",
       "                        <td id=\"T_bd5d1_row11_col4\" class=\"data row11 col4\" >nan%</td>\n",
       "                        <td id=\"T_bd5d1_row11_col5\" class=\"data row11 col5\" >nan%</td>\n",
       "                        <td id=\"T_bd5d1_row11_col6\" class=\"data row11 col6\" >nan%</td>\n",
       "                        <td id=\"T_bd5d1_row11_col7\" class=\"data row11 col7\" >nan%</td>\n",
       "                        <td id=\"T_bd5d1_row11_col8\" class=\"data row11 col8\" >nan%</td>\n",
       "                        <td id=\"T_bd5d1_row11_col9\" class=\"data row11 col9\" >nan%</td>\n",
       "                        <td id=\"T_bd5d1_row11_col10\" class=\"data row11 col10\" >nan%</td>\n",
       "                        <td id=\"T_bd5d1_row11_col11\" class=\"data row11 col11\" >nan%</td>\n",
       "            </tr>\n",
       "    </tbody></table>"
      ],
      "text/plain": [
       "<pandas.io.formats.style.Styler at 0x7f90578c2790>"
      ]
     },
     "execution_count": 41,
     "metadata": {},
     "output_type": "execute_result"
    }
   ],
   "source": [
    "\n",
    "format_frame = {col: \"{:.2%}\" for col in range(1, 12, 1)} \n",
    "format_frame[0] = \"{:.0f}\" \n",
    "( \n",
    "    meses_diferencia_pivot_rete\n",
    "    .style \n",
    "    .background_gradient( \n",
    "        axis=1, subset=[col for col in range(1, 12)] \n",
    "    ).format(format_frame) \n",
    ") "
   ]
  },
  {
   "cell_type": "code",
   "execution_count": null,
   "metadata": {},
   "outputs": [],
   "source": []
  },
  {
   "cell_type": "markdown",
   "metadata": {},
   "source": [
    "### Vetas "
   ]
  },
  {
   "cell_type": "markdown",
   "metadata": {},
   "source": [
    "#### ¿Cuándo empieza la gente a comprar? (En el análisis de KPI, generalmente nos interesa saber el tiempo que transcurre entre el registro y la conversión, es decir, cuando el usuario se convierte en cliente. Por ejemplo, si el registro y la primera compra ocurren el mismo día, el usuario podría caer en la categoría Conversion 0d. Si la primera compra ocurre al día siguiente, será Conversion 1d. Puedes usar cualquier enfoque que te permita comparar las conversiones de diferentes cohortes para que puedas determinar qué cohorte o canal de marketing es más efectivo.)\n"
   ]
  },
  {
   "cell_type": "code",
   "execution_count": 42,
   "metadata": {},
   "outputs": [],
   "source": [
    "ordenes_df['order_month'] = ordenes_df['buy_ts'].dt.date\n",
    "vicitas_df['vicit_month'] = vicitas_df['start_ts'].dt.date"
   ]
  },
  {
   "cell_type": "code",
   "execution_count": 43,
   "metadata": {},
   "outputs": [],
   "source": [
    "first_orders = ordenes_df.groupby('uid').agg({'order_month':'min'}).reset_index()\n",
    "first_orders.columns =['uid','first_order_month']\n",
    "first_vicit = vicitas_df.groupby('uid').agg({'vicit_month':'min'}).reset_index()\n",
    "first_vicit.columns =['uid','first_vicit_month']"
   ]
  },
  {
   "cell_type": "code",
   "execution_count": 44,
   "metadata": {},
   "outputs": [],
   "source": [
    "convercion_de_clientes = pd.merge(first_orders, first_vicit, on = 'uid') "
   ]
  },
  {
   "cell_type": "code",
   "execution_count": 45,
   "metadata": {},
   "outputs": [
    {
     "data": {
      "text/html": [
       "<div>\n",
       "<style scoped>\n",
       "    .dataframe tbody tr th:only-of-type {\n",
       "        vertical-align: middle;\n",
       "    }\n",
       "\n",
       "    .dataframe tbody tr th {\n",
       "        vertical-align: top;\n",
       "    }\n",
       "\n",
       "    .dataframe thead th {\n",
       "        text-align: right;\n",
       "    }\n",
       "</style>\n",
       "<table border=\"1\" class=\"dataframe\">\n",
       "  <thead>\n",
       "    <tr style=\"text-align: right;\">\n",
       "      <th></th>\n",
       "      <th>uid</th>\n",
       "      <th>first_order_month</th>\n",
       "      <th>first_vicit_month</th>\n",
       "    </tr>\n",
       "  </thead>\n",
       "  <tbody>\n",
       "    <tr>\n",
       "      <th>0</th>\n",
       "      <td>313578113262317</td>\n",
       "      <td>2018-01-03</td>\n",
       "      <td>2017-09-18</td>\n",
       "    </tr>\n",
       "    <tr>\n",
       "      <th>1</th>\n",
       "      <td>1575281904278712</td>\n",
       "      <td>2017-06-03</td>\n",
       "      <td>2017-06-03</td>\n",
       "    </tr>\n",
       "    <tr>\n",
       "      <th>2</th>\n",
       "      <td>2429014661409475</td>\n",
       "      <td>2017-10-11</td>\n",
       "      <td>2017-10-11</td>\n",
       "    </tr>\n",
       "    <tr>\n",
       "      <th>3</th>\n",
       "      <td>2464366381792757</td>\n",
       "      <td>2018-01-28</td>\n",
       "      <td>2018-01-27</td>\n",
       "    </tr>\n",
       "    <tr>\n",
       "      <th>4</th>\n",
       "      <td>2551852515556206</td>\n",
       "      <td>2017-11-24</td>\n",
       "      <td>2017-11-24</td>\n",
       "    </tr>\n",
       "  </tbody>\n",
       "</table>\n",
       "</div>"
      ],
      "text/plain": [
       "                uid first_order_month first_vicit_month\n",
       "0   313578113262317        2018-01-03        2017-09-18\n",
       "1  1575281904278712        2017-06-03        2017-06-03\n",
       "2  2429014661409475        2017-10-11        2017-10-11\n",
       "3  2464366381792757        2018-01-28        2018-01-27\n",
       "4  2551852515556206        2017-11-24        2017-11-24"
      ]
     },
     "execution_count": 45,
     "metadata": {},
     "output_type": "execute_result"
    }
   ],
   "source": [
    "convercion_de_clientes.head()"
   ]
  },
  {
   "cell_type": "code",
   "execution_count": 46,
   "metadata": {},
   "outputs": [],
   "source": [
    "convercion_de_clientes['tiempo_convercion'] = (convercion_de_clientes['first_order_month'] -convercion_de_clientes['first_vicit_month']).dt.days"
   ]
  },
  {
   "cell_type": "code",
   "execution_count": 47,
   "metadata": {},
   "outputs": [
    {
     "data": {
      "text/html": [
       "<div>\n",
       "<style scoped>\n",
       "    .dataframe tbody tr th:only-of-type {\n",
       "        vertical-align: middle;\n",
       "    }\n",
       "\n",
       "    .dataframe tbody tr th {\n",
       "        vertical-align: top;\n",
       "    }\n",
       "\n",
       "    .dataframe thead th {\n",
       "        text-align: right;\n",
       "    }\n",
       "</style>\n",
       "<table border=\"1\" class=\"dataframe\">\n",
       "  <thead>\n",
       "    <tr style=\"text-align: right;\">\n",
       "      <th></th>\n",
       "      <th>uid</th>\n",
       "      <th>first_order_month</th>\n",
       "      <th>first_vicit_month</th>\n",
       "      <th>tiempo_convercion</th>\n",
       "    </tr>\n",
       "  </thead>\n",
       "  <tbody>\n",
       "    <tr>\n",
       "      <th>0</th>\n",
       "      <td>313578113262317</td>\n",
       "      <td>2018-01-03</td>\n",
       "      <td>2017-09-18</td>\n",
       "      <td>107</td>\n",
       "    </tr>\n",
       "    <tr>\n",
       "      <th>1</th>\n",
       "      <td>1575281904278712</td>\n",
       "      <td>2017-06-03</td>\n",
       "      <td>2017-06-03</td>\n",
       "      <td>0</td>\n",
       "    </tr>\n",
       "    <tr>\n",
       "      <th>2</th>\n",
       "      <td>2429014661409475</td>\n",
       "      <td>2017-10-11</td>\n",
       "      <td>2017-10-11</td>\n",
       "      <td>0</td>\n",
       "    </tr>\n",
       "    <tr>\n",
       "      <th>3</th>\n",
       "      <td>2464366381792757</td>\n",
       "      <td>2018-01-28</td>\n",
       "      <td>2018-01-27</td>\n",
       "      <td>1</td>\n",
       "    </tr>\n",
       "    <tr>\n",
       "      <th>4</th>\n",
       "      <td>2551852515556206</td>\n",
       "      <td>2017-11-24</td>\n",
       "      <td>2017-11-24</td>\n",
       "      <td>0</td>\n",
       "    </tr>\n",
       "  </tbody>\n",
       "</table>\n",
       "</div>"
      ],
      "text/plain": [
       "                uid first_order_month first_vicit_month  tiempo_convercion\n",
       "0   313578113262317        2018-01-03        2017-09-18                107\n",
       "1  1575281904278712        2017-06-03        2017-06-03                  0\n",
       "2  2429014661409475        2017-10-11        2017-10-11                  0\n",
       "3  2464366381792757        2018-01-28        2018-01-27                  1\n",
       "4  2551852515556206        2017-11-24        2017-11-24                  0"
      ]
     },
     "execution_count": 47,
     "metadata": {},
     "output_type": "execute_result"
    }
   ],
   "source": [
    "convercion_de_clientes.head()"
   ]
  },
  {
   "cell_type": "code",
   "execution_count": 48,
   "metadata": {},
   "outputs": [
    {
     "name": "stdout",
     "output_type": "stream",
     "text": [
      "0\n",
      "363\n"
     ]
    }
   ],
   "source": [
    "print(convercion_de_clientes['tiempo_convercion'].min())\n",
    "print(convercion_de_clientes['tiempo_convercion'].max())"
   ]
  },
  {
   "cell_type": "code",
   "execution_count": 49,
   "metadata": {},
   "outputs": [
    {
     "data": {
      "text/plain": [
       "count    36523.000000\n",
       "mean        16.895901\n",
       "std         47.071200\n",
       "min          0.000000\n",
       "25%          0.000000\n",
       "50%          0.000000\n",
       "75%          2.000000\n",
       "max        363.000000\n",
       "Name: tiempo_convercion, dtype: float64"
      ]
     },
     "execution_count": 49,
     "metadata": {},
     "output_type": "execute_result"
    }
   ],
   "source": [
    "convercion_de_clientes['tiempo_convercion'].describe()"
   ]
  },
  {
   "cell_type": "code",
   "execution_count": 50,
   "metadata": {},
   "outputs": [
    {
     "data": {
      "image/png": "[encoded data removed]",
      "text/plain": [
       "<Figure size 640x480 with 1 Axes>"
      ]
     },
     "metadata": {},
     "output_type": "display_data"
    }
   ],
   "source": [
    "fig, ax = plt.subplots()\n",
    "ax.hist(convercion_de_clientes['tiempo_convercion'])\n",
    "plt.show()"
   ]
  },
  {
   "cell_type": "markdown",
   "metadata": {},
   "source": [
    "###### ** tenmos un tiempo de comvercion maximo de 334 dias aunque podria ser bueno que algunos clientes se  de inmediato realizan su primera compra"
   ]
  },
  {
   "cell_type": "markdown",
   "metadata": {},
   "source": [
    "#### ¿Cuántos pedidos hacen durante un período de tiempo dado?"
   ]
  },
  {
   "cell_type": "code",
   "execution_count": 51,
   "metadata": {},
   "outputs": [],
   "source": [
    "clientes_nuevos_por_mes = first_orders.groupby('first_order_month').agg({'uid':'nunique'}).reset_index()\n",
    "clientes_nuevos_por_mes.columns =['first_order_month','numero_de_compradores']"
   ]
  },
  {
   "cell_type": "code",
   "execution_count": 52,
   "metadata": {},
   "outputs": [
    {
     "data": {
      "text/html": [
       "<div>\n",
       "<style scoped>\n",
       "    .dataframe tbody tr th:only-of-type {\n",
       "        vertical-align: middle;\n",
       "    }\n",
       "\n",
       "    .dataframe tbody tr th {\n",
       "        vertical-align: top;\n",
       "    }\n",
       "\n",
       "    .dataframe thead th {\n",
       "        text-align: right;\n",
       "    }\n",
       "</style>\n",
       "<table border=\"1\" class=\"dataframe\">\n",
       "  <thead>\n",
       "    <tr style=\"text-align: right;\">\n",
       "      <th></th>\n",
       "      <th>first_order_month</th>\n",
       "      <th>numero_de_compradores</th>\n",
       "    </tr>\n",
       "  </thead>\n",
       "  <tbody>\n",
       "    <tr>\n",
       "      <th>0</th>\n",
       "      <td>2017-06-01</td>\n",
       "      <td>86</td>\n",
       "    </tr>\n",
       "    <tr>\n",
       "      <th>1</th>\n",
       "      <td>2017-06-02</td>\n",
       "      <td>97</td>\n",
       "    </tr>\n",
       "    <tr>\n",
       "      <th>2</th>\n",
       "      <td>2017-06-03</td>\n",
       "      <td>57</td>\n",
       "    </tr>\n",
       "    <tr>\n",
       "      <th>3</th>\n",
       "      <td>2017-06-04</td>\n",
       "      <td>55</td>\n",
       "    </tr>\n",
       "    <tr>\n",
       "      <th>4</th>\n",
       "      <td>2017-06-05</td>\n",
       "      <td>141</td>\n",
       "    </tr>\n",
       "    <tr>\n",
       "      <th>...</th>\n",
       "      <td>...</td>\n",
       "      <td>...</td>\n",
       "    </tr>\n",
       "    <tr>\n",
       "      <th>359</th>\n",
       "      <td>2018-05-28</td>\n",
       "      <td>129</td>\n",
       "    </tr>\n",
       "    <tr>\n",
       "      <th>360</th>\n",
       "      <td>2018-05-29</td>\n",
       "      <td>128</td>\n",
       "    </tr>\n",
       "    <tr>\n",
       "      <th>361</th>\n",
       "      <td>2018-05-30</td>\n",
       "      <td>146</td>\n",
       "    </tr>\n",
       "    <tr>\n",
       "      <th>362</th>\n",
       "      <td>2018-05-31</td>\n",
       "      <td>492</td>\n",
       "    </tr>\n",
       "    <tr>\n",
       "      <th>363</th>\n",
       "      <td>2018-06-01</td>\n",
       "      <td>1</td>\n",
       "    </tr>\n",
       "  </tbody>\n",
       "</table>\n",
       "<p>364 rows × 2 columns</p>\n",
       "</div>"
      ],
      "text/plain": [
       "    first_order_month  numero_de_compradores\n",
       "0          2017-06-01                     86\n",
       "1          2017-06-02                     97\n",
       "2          2017-06-03                     57\n",
       "3          2017-06-04                     55\n",
       "4          2017-06-05                    141\n",
       "..                ...                    ...\n",
       "359        2018-05-28                    129\n",
       "360        2018-05-29                    128\n",
       "361        2018-05-30                    146\n",
       "362        2018-05-31                    492\n",
       "363        2018-06-01                      1\n",
       "\n",
       "[364 rows x 2 columns]"
      ]
     },
     "execution_count": 52,
     "metadata": {},
     "output_type": "execute_result"
    }
   ],
   "source": [
    "clientes_nuevos_por_mes "
   ]
  },
  {
   "cell_type": "code",
   "execution_count": 53,
   "metadata": {},
   "outputs": [],
   "source": [
    "ordenes_df['periodo'] = pd.to_datetime(ordenes_df['buy_ts']).dt.date\n",
    "compras_por_periodo = ordenes_df.groupby('periodo')['revenue'].count().reset_index()\n",
    "compras_por_periodo.columns= ['periodo', 'cantidad_de_compras']"
   ]
  },
  {
   "cell_type": "code",
   "execution_count": 54,
   "metadata": {},
   "outputs": [
    {
     "data": {
      "text/html": [
       "<div>\n",
       "<style scoped>\n",
       "    .dataframe tbody tr th:only-of-type {\n",
       "        vertical-align: middle;\n",
       "    }\n",
       "\n",
       "    .dataframe tbody tr th {\n",
       "        vertical-align: top;\n",
       "    }\n",
       "\n",
       "    .dataframe thead th {\n",
       "        text-align: right;\n",
       "    }\n",
       "</style>\n",
       "<table border=\"1\" class=\"dataframe\">\n",
       "  <thead>\n",
       "    <tr style=\"text-align: right;\">\n",
       "      <th></th>\n",
       "      <th>periodo</th>\n",
       "      <th>cantidad_de_compras</th>\n",
       "    </tr>\n",
       "  </thead>\n",
       "  <tbody>\n",
       "    <tr>\n",
       "      <th>0</th>\n",
       "      <td>2017-06-01</td>\n",
       "      <td>96</td>\n",
       "    </tr>\n",
       "    <tr>\n",
       "      <th>1</th>\n",
       "      <td>2017-06-02</td>\n",
       "      <td>111</td>\n",
       "    </tr>\n",
       "    <tr>\n",
       "      <th>2</th>\n",
       "      <td>2017-06-03</td>\n",
       "      <td>67</td>\n",
       "    </tr>\n",
       "    <tr>\n",
       "      <th>3</th>\n",
       "      <td>2017-06-04</td>\n",
       "      <td>66</td>\n",
       "    </tr>\n",
       "    <tr>\n",
       "      <th>4</th>\n",
       "      <td>2017-06-05</td>\n",
       "      <td>161</td>\n",
       "    </tr>\n",
       "    <tr>\n",
       "      <th>...</th>\n",
       "      <td>...</td>\n",
       "      <td>...</td>\n",
       "    </tr>\n",
       "    <tr>\n",
       "      <th>359</th>\n",
       "      <td>2018-05-28</td>\n",
       "      <td>188</td>\n",
       "    </tr>\n",
       "    <tr>\n",
       "      <th>360</th>\n",
       "      <td>2018-05-29</td>\n",
       "      <td>189</td>\n",
       "    </tr>\n",
       "    <tr>\n",
       "      <th>361</th>\n",
       "      <td>2018-05-30</td>\n",
       "      <td>208</td>\n",
       "    </tr>\n",
       "    <tr>\n",
       "      <th>362</th>\n",
       "      <td>2018-05-31</td>\n",
       "      <td>610</td>\n",
       "    </tr>\n",
       "    <tr>\n",
       "      <th>363</th>\n",
       "      <td>2018-06-01</td>\n",
       "      <td>1</td>\n",
       "    </tr>\n",
       "  </tbody>\n",
       "</table>\n",
       "<p>364 rows × 2 columns</p>\n",
       "</div>"
      ],
      "text/plain": [
       "        periodo  cantidad_de_compras\n",
       "0    2017-06-01                   96\n",
       "1    2017-06-02                  111\n",
       "2    2017-06-03                   67\n",
       "3    2017-06-04                   66\n",
       "4    2017-06-05                  161\n",
       "..          ...                  ...\n",
       "359  2018-05-28                  188\n",
       "360  2018-05-29                  189\n",
       "361  2018-05-30                  208\n",
       "362  2018-05-31                  610\n",
       "363  2018-06-01                    1\n",
       "\n",
       "[364 rows x 2 columns]"
      ]
     },
     "execution_count": 54,
     "metadata": {},
     "output_type": "execute_result"
    }
   ],
   "source": [
    "compras_por_periodo"
   ]
  },
  {
   "cell_type": "code",
   "execution_count": 55,
   "metadata": {},
   "outputs": [],
   "source": [
    "compras_usuario = compras_por_periodo['cantidad_de_compras']/clientes_nuevos_por_mes['numero_de_compradores']"
   ]
  },
  {
   "cell_type": "code",
   "execution_count": 56,
   "metadata": {},
   "outputs": [
    {
     "data": {
      "text/plain": [
       "1.3735543229796698"
      ]
     },
     "execution_count": 56,
     "metadata": {},
     "output_type": "execute_result"
    }
   ],
   "source": [
    "compras_usuario.mean()"
   ]
  },
  {
   "cell_type": "markdown",
   "metadata": {},
   "source": [
    "#### ¿Cuál es el tamaño promedio de compra?"
   ]
  },
  {
   "cell_type": "code",
   "execution_count": 57,
   "metadata": {},
   "outputs": [],
   "source": [
    "promedio_de_compra = ordenes_df['revenue'].mean()"
   ]
  },
  {
   "cell_type": "code",
   "execution_count": 58,
   "metadata": {},
   "outputs": [
    {
     "name": "stdout",
     "output_type": "stream",
     "text": [
      "4.999646930477041\n"
     ]
    }
   ],
   "source": [
    "print(promedio_de_compra)"
   ]
  },
  {
   "cell_type": "markdown",
   "metadata": {},
   "source": [
    "#### ¿Cuánto dinero traen? (LTV)"
   ]
  },
  {
   "cell_type": "code",
   "execution_count": 59,
   "metadata": {},
   "outputs": [],
   "source": [
    "ordenes_df_1 = pd.merge(first_orders, ordenes_df, on = 'uid') \n",
    "ordenes_df_2 = (ordenes_df_1.groupby(['first_order_month','order_month']).agg({'revenue':'sum'}).reset_index())\n",
    "report = pd.merge(ordenes_df_2, clientes_nuevos_por_mes, on ='first_order_month')\n"
   ]
  },
  {
   "cell_type": "code",
   "execution_count": 60,
   "metadata": {},
   "outputs": [],
   "source": [
    "margin_rate = 0.4  # fue inventado ya que no viene dado en la informacion de la empresa\n",
    "report['gp'] = report['revenue'] *margin_rate"
   ]
  },
  {
   "cell_type": "code",
   "execution_count": 61,
   "metadata": {},
   "outputs": [],
   "source": [
    "report['age'] = (report['order_month']- report['first_order_month'])/ np.timedelta64(1, 'M')\n",
    "report['age'] = report['age'].round().astype('int')"
   ]
  },
  {
   "cell_type": "code",
   "execution_count": 62,
   "metadata": {},
   "outputs": [],
   "source": [
    "report['ltv'] = report['gp']/report['numero_de_compradores']"
   ]
  },
  {
   "cell_type": "code",
   "execution_count": 63,
   "metadata": {},
   "outputs": [
    {
     "data": {
      "text/html": [
       "<div>\n",
       "<style scoped>\n",
       "    .dataframe tbody tr th:only-of-type {\n",
       "        vertical-align: middle;\n",
       "    }\n",
       "\n",
       "    .dataframe tbody tr th {\n",
       "        vertical-align: top;\n",
       "    }\n",
       "\n",
       "    .dataframe thead th {\n",
       "        text-align: right;\n",
       "    }\n",
       "</style>\n",
       "<table border=\"1\" class=\"dataframe\">\n",
       "  <thead>\n",
       "    <tr style=\"text-align: right;\">\n",
       "      <th>age</th>\n",
       "      <th>0</th>\n",
       "      <th>1</th>\n",
       "      <th>2</th>\n",
       "      <th>3</th>\n",
       "      <th>4</th>\n",
       "      <th>5</th>\n",
       "      <th>6</th>\n",
       "      <th>7</th>\n",
       "      <th>8</th>\n",
       "      <th>9</th>\n",
       "      <th>10</th>\n",
       "      <th>11</th>\n",
       "      <th>12</th>\n",
       "    </tr>\n",
       "    <tr>\n",
       "      <th>first_order_month</th>\n",
       "      <th></th>\n",
       "      <th></th>\n",
       "      <th></th>\n",
       "      <th></th>\n",
       "      <th></th>\n",
       "      <th></th>\n",
       "      <th></th>\n",
       "      <th></th>\n",
       "      <th></th>\n",
       "      <th></th>\n",
       "      <th></th>\n",
       "      <th></th>\n",
       "      <th></th>\n",
       "    </tr>\n",
       "  </thead>\n",
       "  <tbody>\n",
       "    <tr>\n",
       "      <th>2017-06-01</th>\n",
       "      <td>0.226628</td>\n",
       "      <td>0.033157</td>\n",
       "      <td>0.021917</td>\n",
       "      <td>0.045124</td>\n",
       "      <td>0.113021</td>\n",
       "      <td>0.035239</td>\n",
       "      <td>0.035271</td>\n",
       "      <td>0.039165</td>\n",
       "      <td>0.025622</td>\n",
       "      <td>0.041116</td>\n",
       "      <td>0.030365</td>\n",
       "      <td>0.044907</td>\n",
       "      <td>0.033088</td>\n",
       "    </tr>\n",
       "    <tr>\n",
       "      <th>2017-06-02</th>\n",
       "      <td>0.167076</td>\n",
       "      <td>0.052454</td>\n",
       "      <td>0.035533</td>\n",
       "      <td>0.041753</td>\n",
       "      <td>0.041584</td>\n",
       "      <td>0.028082</td>\n",
       "      <td>0.02934</td>\n",
       "      <td>0.023695</td>\n",
       "      <td>0.019585</td>\n",
       "      <td>0.048893</td>\n",
       "      <td>0.011052</td>\n",
       "      <td>0.034433</td>\n",
       "      <td>0.034763</td>\n",
       "    </tr>\n",
       "    <tr>\n",
       "      <th>2017-06-03</th>\n",
       "      <td>0.206546</td>\n",
       "      <td>0.037058</td>\n",
       "      <td>0.064257</td>\n",
       "      <td>0.161431</td>\n",
       "      <td>0.082096</td>\n",
       "      <td>0.042576</td>\n",
       "      <td>0.052819</td>\n",
       "      <td>0.077705</td>\n",
       "      <td>0.059426</td>\n",
       "      <td>0.096842</td>\n",
       "      <td>0.027735</td>\n",
       "      <td>0.009649</td>\n",
       "      <td>0.002105</td>\n",
       "    </tr>\n",
       "    <tr>\n",
       "      <th>2017-06-04</th>\n",
       "      <td>0.493636</td>\n",
       "      <td></td>\n",
       "      <td></td>\n",
       "      <td></td>\n",
       "      <td>0.023055</td>\n",
       "      <td>0.014182</td>\n",
       "      <td></td>\n",
       "      <td></td>\n",
       "      <td></td>\n",
       "      <td></td>\n",
       "      <td></td>\n",
       "      <td>0.018691</td>\n",
       "      <td>0.011127</td>\n",
       "    </tr>\n",
       "    <tr>\n",
       "      <th>2017-06-05</th>\n",
       "      <td>0.139507</td>\n",
       "      <td>0.034206</td>\n",
       "      <td>0.021735</td>\n",
       "      <td>0.059843</td>\n",
       "      <td>0.034197</td>\n",
       "      <td>0.029003</td>\n",
       "      <td>0.02782</td>\n",
       "      <td>0.03548</td>\n",
       "      <td>0.03142</td>\n",
       "      <td>0.026083</td>\n",
       "      <td>0.035001</td>\n",
       "      <td>0.036496</td>\n",
       "      <td>0.039307</td>\n",
       "    </tr>\n",
       "    <tr>\n",
       "      <th>...</th>\n",
       "      <td>...</td>\n",
       "      <td>...</td>\n",
       "      <td>...</td>\n",
       "      <td>...</td>\n",
       "      <td>...</td>\n",
       "      <td>...</td>\n",
       "      <td>...</td>\n",
       "      <td>...</td>\n",
       "      <td>...</td>\n",
       "      <td>...</td>\n",
       "      <td>...</td>\n",
       "      <td>...</td>\n",
       "      <td>...</td>\n",
       "    </tr>\n",
       "    <tr>\n",
       "      <th>2018-05-28</th>\n",
       "      <td>0.353008</td>\n",
       "      <td></td>\n",
       "      <td></td>\n",
       "      <td></td>\n",
       "      <td></td>\n",
       "      <td></td>\n",
       "      <td></td>\n",
       "      <td></td>\n",
       "      <td></td>\n",
       "      <td></td>\n",
       "      <td></td>\n",
       "      <td></td>\n",
       "      <td></td>\n",
       "    </tr>\n",
       "    <tr>\n",
       "      <th>2018-05-29</th>\n",
       "      <td>0.375906</td>\n",
       "      <td></td>\n",
       "      <td></td>\n",
       "      <td></td>\n",
       "      <td></td>\n",
       "      <td></td>\n",
       "      <td></td>\n",
       "      <td></td>\n",
       "      <td></td>\n",
       "      <td></td>\n",
       "      <td></td>\n",
       "      <td></td>\n",
       "      <td></td>\n",
       "    </tr>\n",
       "    <tr>\n",
       "      <th>2018-05-30</th>\n",
       "      <td>0.968438</td>\n",
       "      <td></td>\n",
       "      <td></td>\n",
       "      <td></td>\n",
       "      <td></td>\n",
       "      <td></td>\n",
       "      <td></td>\n",
       "      <td></td>\n",
       "      <td></td>\n",
       "      <td></td>\n",
       "      <td></td>\n",
       "      <td></td>\n",
       "      <td></td>\n",
       "    </tr>\n",
       "    <tr>\n",
       "      <th>2018-05-31</th>\n",
       "      <td>3.044813</td>\n",
       "      <td></td>\n",
       "      <td></td>\n",
       "      <td></td>\n",
       "      <td></td>\n",
       "      <td></td>\n",
       "      <td></td>\n",
       "      <td></td>\n",
       "      <td></td>\n",
       "      <td></td>\n",
       "      <td></td>\n",
       "      <td></td>\n",
       "      <td></td>\n",
       "    </tr>\n",
       "    <tr>\n",
       "      <th>2018-06-01</th>\n",
       "      <td>1.368000</td>\n",
       "      <td></td>\n",
       "      <td></td>\n",
       "      <td></td>\n",
       "      <td></td>\n",
       "      <td></td>\n",
       "      <td></td>\n",
       "      <td></td>\n",
       "      <td></td>\n",
       "      <td></td>\n",
       "      <td></td>\n",
       "      <td></td>\n",
       "      <td></td>\n",
       "    </tr>\n",
       "  </tbody>\n",
       "</table>\n",
       "<p>364 rows × 13 columns</p>\n",
       "</div>"
      ],
      "text/plain": [
       "age                      0         1         2         3         4         5   \\\n",
       "first_order_month                                                               \n",
       "2017-06-01         0.226628  0.033157  0.021917  0.045124  0.113021  0.035239   \n",
       "2017-06-02         0.167076  0.052454  0.035533  0.041753  0.041584  0.028082   \n",
       "2017-06-03         0.206546  0.037058  0.064257  0.161431  0.082096  0.042576   \n",
       "2017-06-04         0.493636                                0.023055  0.014182   \n",
       "2017-06-05         0.139507  0.034206  0.021735  0.059843  0.034197  0.029003   \n",
       "...                     ...       ...       ...       ...       ...       ...   \n",
       "2018-05-28         0.353008                                                     \n",
       "2018-05-29         0.375906                                                     \n",
       "2018-05-30         0.968438                                                     \n",
       "2018-05-31         3.044813                                                     \n",
       "2018-06-01         1.368000                                                     \n",
       "\n",
       "age                      6         7         8         9         10        11  \\\n",
       "first_order_month                                                               \n",
       "2017-06-01         0.035271  0.039165  0.025622  0.041116  0.030365  0.044907   \n",
       "2017-06-02          0.02934  0.023695  0.019585  0.048893  0.011052  0.034433   \n",
       "2017-06-03         0.052819  0.077705  0.059426  0.096842  0.027735  0.009649   \n",
       "2017-06-04                                                           0.018691   \n",
       "2017-06-05          0.02782   0.03548   0.03142  0.026083  0.035001  0.036496   \n",
       "...                     ...       ...       ...       ...       ...       ...   \n",
       "2018-05-28                                                                      \n",
       "2018-05-29                                                                      \n",
       "2018-05-30                                                                      \n",
       "2018-05-31                                                                      \n",
       "2018-06-01                                                                      \n",
       "\n",
       "age                      12  \n",
       "first_order_month            \n",
       "2017-06-01         0.033088  \n",
       "2017-06-02         0.034763  \n",
       "2017-06-03         0.002105  \n",
       "2017-06-04         0.011127  \n",
       "2017-06-05         0.039307  \n",
       "...                     ...  \n",
       "2018-05-28                   \n",
       "2018-05-29                   \n",
       "2018-05-30                   \n",
       "2018-05-31                   \n",
       "2018-06-01                   \n",
       "\n",
       "[364 rows x 13 columns]"
      ]
     },
     "execution_count": 63,
     "metadata": {},
     "output_type": "execute_result"
    }
   ],
   "source": [
    "result = report.pivot_table(index= 'first_order_month', columns= 'age', values= 'ltv', aggfunc = 'mean')\n",
    "result = result.fillna('')\n",
    "result"
   ]
  },
  {
   "cell_type": "code",
   "execution_count": 64,
   "metadata": {},
   "outputs": [],
   "source": [
    "LTV = (ordenes_df['revenue'].sum()/ordenes_df['uid'].nunique())"
   ]
  },
  {
   "cell_type": "code",
   "execution_count": 65,
   "metadata": {},
   "outputs": [
    {
     "data": {
      "text/plain": [
       "6.9013279303452615"
      ]
     },
     "execution_count": 65,
     "metadata": {},
     "output_type": "execute_result"
    }
   ],
   "source": [
    "LTV "
   ]
  },
  {
   "cell_type": "markdown",
   "metadata": {},
   "source": [
    "### Marketing"
   ]
  },
  {
   "cell_type": "markdown",
   "metadata": {},
   "source": [
    "#### ¿Cuánto dinero se gastó?  (Total/por fuente de adquisición/a lo largo del tiempo) "
   ]
  },
  {
   "cell_type": "code",
   "execution_count": 66,
   "metadata": {},
   "outputs": [],
   "source": [
    "costos_df['month'] = costos_df['dt'].astype('datetime64[M]')\n",
    "monthly_costs = costos_df.groupby('month').sum()\n"
   ]
  },
  {
   "cell_type": "code",
   "execution_count": 67,
   "metadata": {},
   "outputs": [
    {
     "name": "stdout",
     "output_type": "stream",
     "text": [
      "El total gastado es: 329131.61999999994\n",
      "promedio gastado: 27427.634999999995\n"
     ]
    }
   ],
   "source": [
    "print('El total gastado es:',monthly_costs['costs'].sum())\n",
    "print('promedio gastado:',monthly_costs['costs'].mean())"
   ]
  },
  {
   "cell_type": "code",
   "execution_count": 68,
   "metadata": {},
   "outputs": [
    {
     "data": {
      "text/html": [
       "<div>\n",
       "<style scoped>\n",
       "    .dataframe tbody tr th:only-of-type {\n",
       "        vertical-align: middle;\n",
       "    }\n",
       "\n",
       "    .dataframe tbody tr th {\n",
       "        vertical-align: top;\n",
       "    }\n",
       "\n",
       "    .dataframe thead th {\n",
       "        text-align: right;\n",
       "    }\n",
       "</style>\n",
       "<table border=\"1\" class=\"dataframe\">\n",
       "  <thead>\n",
       "    <tr style=\"text-align: right;\">\n",
       "      <th></th>\n",
       "      <th>source_id</th>\n",
       "      <th>costs</th>\n",
       "    </tr>\n",
       "    <tr>\n",
       "      <th>month</th>\n",
       "      <th></th>\n",
       "      <th></th>\n",
       "    </tr>\n",
       "  </thead>\n",
       "  <tbody>\n",
       "    <tr>\n",
       "      <th>2017-06-01</th>\n",
       "      <td>1020</td>\n",
       "      <td>18015.00</td>\n",
       "    </tr>\n",
       "    <tr>\n",
       "      <th>2017-07-01</th>\n",
       "      <td>1054</td>\n",
       "      <td>18240.59</td>\n",
       "    </tr>\n",
       "    <tr>\n",
       "      <th>2017-08-01</th>\n",
       "      <td>1054</td>\n",
       "      <td>14790.54</td>\n",
       "    </tr>\n",
       "    <tr>\n",
       "      <th>2017-09-01</th>\n",
       "      <td>1020</td>\n",
       "      <td>24368.91</td>\n",
       "    </tr>\n",
       "    <tr>\n",
       "      <th>2017-10-01</th>\n",
       "      <td>1054</td>\n",
       "      <td>36322.88</td>\n",
       "    </tr>\n",
       "    <tr>\n",
       "      <th>2017-11-01</th>\n",
       "      <td>1020</td>\n",
       "      <td>37907.88</td>\n",
       "    </tr>\n",
       "    <tr>\n",
       "      <th>2017-12-01</th>\n",
       "      <td>1054</td>\n",
       "      <td>38315.35</td>\n",
       "    </tr>\n",
       "    <tr>\n",
       "      <th>2018-01-01</th>\n",
       "      <td>1054</td>\n",
       "      <td>33518.52</td>\n",
       "    </tr>\n",
       "    <tr>\n",
       "      <th>2018-02-01</th>\n",
       "      <td>952</td>\n",
       "      <td>32723.03</td>\n",
       "    </tr>\n",
       "    <tr>\n",
       "      <th>2018-03-01</th>\n",
       "      <td>1025</td>\n",
       "      <td>30415.27</td>\n",
       "    </tr>\n",
       "    <tr>\n",
       "      <th>2018-04-01</th>\n",
       "      <td>986</td>\n",
       "      <td>22289.38</td>\n",
       "    </tr>\n",
       "    <tr>\n",
       "      <th>2018-05-01</th>\n",
       "      <td>1054</td>\n",
       "      <td>22224.27</td>\n",
       "    </tr>\n",
       "  </tbody>\n",
       "</table>\n",
       "</div>"
      ],
      "text/plain": [
       "            source_id     costs\n",
       "month                          \n",
       "2017-06-01       1020  18015.00\n",
       "2017-07-01       1054  18240.59\n",
       "2017-08-01       1054  14790.54\n",
       "2017-09-01       1020  24368.91\n",
       "2017-10-01       1054  36322.88\n",
       "2017-11-01       1020  37907.88\n",
       "2017-12-01       1054  38315.35\n",
       "2018-01-01       1054  33518.52\n",
       "2018-02-01        952  32723.03\n",
       "2018-03-01       1025  30415.27\n",
       "2018-04-01        986  22289.38\n",
       "2018-05-01       1054  22224.27"
      ]
     },
     "execution_count": 68,
     "metadata": {},
     "output_type": "execute_result"
    }
   ],
   "source": [
    "monthly_costs.reset_index()\n",
    "monthly_costs.head(20)"
   ]
  },
  {
   "cell_type": "code",
   "execution_count": 69,
   "metadata": {},
   "outputs": [
    {
     "data": {
      "image/png": "[encoded data removed]",
      "text/plain": [
       "<Figure size 1500x1000 with 1 Axes>"
      ]
     },
     "metadata": {},
     "output_type": "display_data"
    }
   ],
   "source": [
    "plt.subplots(figsize=(15,10))\n",
    "sns.lineplot(x='month' , y= 'costs', data= monthly_costs, marker='o' )\n",
    "plt.title('Entradas por semana')\n",
    "plt.xlabel('Semana')\n",
    "plt.ylabel('Cantidad')\n",
    "plt.show()"
   ]
  },
  {
   "cell_type": "markdown",
   "metadata": {},
   "source": [
    "#### ¿Cuál fue el costo de adquisición de clientes de cada una de las fuentes?"
   ]
  },
  {
   "cell_type": "code",
   "execution_count": 70,
   "metadata": {},
   "outputs": [],
   "source": [
    "cac = costos_df['costs'].sum()/ordenes_df['uid'].nunique()"
   ]
  },
  {
   "cell_type": "code",
   "execution_count": 71,
   "metadata": {},
   "outputs": [
    {
     "data": {
      "text/plain": [
       "9.011626098622786"
      ]
     },
     "execution_count": 71,
     "metadata": {},
     "output_type": "execute_result"
    }
   ],
   "source": [
    "cac"
   ]
  },
  {
   "cell_type": "markdown",
   "metadata": {},
   "source": [
    "#### ¿Cuán rentables eran las inversiones? (ROMI)"
   ]
  },
  {
   "cell_type": "code",
   "execution_count": 72,
   "metadata": {},
   "outputs": [],
   "source": [
    "romi = (ordenes_df['revenue'].sum()/costos_df['costs'].sum())/costos_df['costs'].sum()"
   ]
  },
  {
   "cell_type": "code",
   "execution_count": 73,
   "metadata": {},
   "outputs": [
    {
     "data": {
      "text/plain": [
       "2.326804487712207e-06"
      ]
     },
     "execution_count": 73,
     "metadata": {},
     "output_type": "execute_result"
    }
   ],
   "source": [
    "romi"
   ]
  },
  {
   "cell_type": "markdown",
   "metadata": {},
   "source": [
    "## conclusiones"
   ]
  },
  {
   "cell_type": "markdown",
   "metadata": {},
   "source": [
    "###### Al realizar el analisis de marketing, nuestra rentabilidad es muy buena en comparacion con los gastos realizados, por lo tanto nuestra estrategia de tiene buenos resultados y nos dara beneficios futuro, lo que si tenemos que poner mas atencion es en logara que nuestros vicitantes se conviertan en clientes en unperiodo mas corto y satisfactorio."
   ]
  }
 ],
 "metadata": {
  "ExecuteTimeLog": [
   {
    "duration": 336,
    "start_time": "2024-10-01T15:39:11.910Z"
   },
   {
    "duration": 6,
    "start_time": "2024-10-01T15:40:43.554Z"
   },
   {
    "duration": 461,
    "start_time": "2024-10-01T15:42:40.006Z"
   },
   {
    "duration": 38,
    "start_time": "2024-10-01T15:48:43.947Z"
   },
   {
    "duration": 10,
    "start_time": "2024-10-01T15:49:24.808Z"
   },
   {
    "duration": 8,
    "start_time": "2024-10-01T15:49:49.172Z"
   },
   {
    "duration": 212,
    "start_time": "2024-10-01T15:50:39.103Z"
   },
   {
    "duration": 50,
    "start_time": "2024-10-01T15:50:57.373Z"
   },
   {
    "duration": 48,
    "start_time": "2024-10-01T15:53:07.497Z"
   },
   {
    "duration": 81,
    "start_time": "2024-10-01T15:55:23.355Z"
   },
   {
    "duration": 22,
    "start_time": "2024-10-01T15:56:19.795Z"
   },
   {
    "duration": 17,
    "start_time": "2024-10-01T15:57:13.760Z"
   },
   {
    "duration": 157,
    "start_time": "2024-10-03T03:22:39.998Z"
   },
   {
    "duration": 297,
    "start_time": "2024-10-03T03:23:01.136Z"
   },
   {
    "duration": 460,
    "start_time": "2024-10-03T03:23:01.437Z"
   },
   {
    "duration": 80,
    "start_time": "2024-10-03T03:23:01.899Z"
   },
   {
    "duration": 23,
    "start_time": "2024-10-03T03:23:01.982Z"
   },
   {
    "duration": 36,
    "start_time": "2024-10-03T03:23:02.007Z"
   },
   {
    "duration": 247,
    "start_time": "2024-10-03T03:23:02.044Z"
   },
   {
    "duration": 71,
    "start_time": "2024-10-03T03:23:20.080Z"
   },
   {
    "duration": 471,
    "start_time": "2024-10-03T03:23:34.267Z"
   },
   {
    "duration": 13,
    "start_time": "2024-10-03T03:29:16.124Z"
   },
   {
    "duration": 3,
    "start_time": "2024-10-03T03:29:40.138Z"
   },
   {
    "duration": 42,
    "start_time": "2024-10-03T03:30:06.842Z"
   },
   {
    "duration": 5,
    "start_time": "2024-10-03T03:35:28.537Z"
   },
   {
    "duration": 4,
    "start_time": "2024-10-03T03:36:04.035Z"
   },
   {
    "duration": 19,
    "start_time": "2024-10-03T03:36:20.278Z"
   },
   {
    "duration": 53,
    "start_time": "2024-10-03T03:36:43.631Z"
   },
   {
    "duration": 394,
    "start_time": "2024-10-03T03:39:29.560Z"
   },
   {
    "duration": 12,
    "start_time": "2024-10-03T03:40:04.881Z"
   },
   {
    "duration": 152,
    "start_time": "2024-10-03T03:40:53.252Z"
   },
   {
    "duration": 177,
    "start_time": "2024-10-03T03:41:07.942Z"
   },
   {
    "duration": 240,
    "start_time": "2024-10-03T03:41:51.330Z"
   },
   {
    "duration": 9,
    "start_time": "2024-10-03T03:42:02.800Z"
   },
   {
    "duration": 73,
    "start_time": "2024-10-03T03:42:38.792Z"
   },
   {
    "duration": 334,
    "start_time": "2024-10-03T03:43:00.632Z"
   },
   {
    "duration": 119,
    "start_time": "2024-10-03T03:45:24.837Z"
   },
   {
    "duration": 123,
    "start_time": "2024-10-03T03:48:16.484Z"
   },
   {
    "duration": 126,
    "start_time": "2024-10-03T03:48:39.135Z"
   },
   {
    "duration": 128,
    "start_time": "2024-10-03T03:50:42.915Z"
   },
   {
    "duration": 301,
    "start_time": "2024-10-04T02:27:05.500Z"
   },
   {
    "duration": 535,
    "start_time": "2024-10-04T02:27:05.804Z"
   },
   {
    "duration": 80,
    "start_time": "2024-10-04T02:27:06.341Z"
   },
   {
    "duration": 58,
    "start_time": "2024-10-04T02:27:06.423Z"
   },
   {
    "duration": 20,
    "start_time": "2024-10-04T02:27:06.483Z"
   },
   {
    "duration": 31,
    "start_time": "2024-10-04T02:27:06.505Z"
   },
   {
    "duration": 20,
    "start_time": "2024-10-04T02:27:06.538Z"
   },
   {
    "duration": 119,
    "start_time": "2024-10-04T02:27:06.559Z"
   },
   {
    "duration": 7,
    "start_time": "2024-10-04T02:27:06.680Z"
   },
   {
    "duration": 638,
    "start_time": "2024-10-04T02:28:02.911Z"
   },
   {
    "duration": 128,
    "start_time": "2024-10-04T02:33:05.429Z"
   },
   {
    "duration": 8,
    "start_time": "2024-10-04T02:33:18.860Z"
   },
   {
    "duration": 133,
    "start_time": "2024-10-04T02:34:25.648Z"
   },
   {
    "duration": 155,
    "start_time": "2024-10-04T02:38:00.443Z"
   },
   {
    "duration": 14775,
    "start_time": "2024-10-04T02:40:08.119Z"
   },
   {
    "duration": 0,
    "start_time": "2024-10-04T02:40:22.896Z"
   },
   {
    "duration": 7,
    "start_time": "2024-10-04T02:40:34.892Z"
   },
   {
    "duration": 124,
    "start_time": "2024-10-04T02:43:19.523Z"
   },
   {
    "duration": 58,
    "start_time": "2024-10-04T02:44:09.902Z"
   },
   {
    "duration": 7,
    "start_time": "2024-10-04T02:44:14.865Z"
   },
   {
    "duration": 58,
    "start_time": "2024-10-04T02:44:59.805Z"
   },
   {
    "duration": 7,
    "start_time": "2024-10-04T02:45:02.672Z"
   },
   {
    "duration": 58,
    "start_time": "2024-10-04T02:45:39.394Z"
   },
   {
    "duration": 7,
    "start_time": "2024-10-04T02:45:42.721Z"
   },
   {
    "duration": 3,
    "start_time": "2024-10-04T02:45:56.957Z"
   },
   {
    "duration": 7,
    "start_time": "2024-10-04T02:46:01.307Z"
   },
   {
    "duration": 334,
    "start_time": "2024-10-04T02:46:41.864Z"
   },
   {
    "duration": 398,
    "start_time": "2024-10-04T02:46:42.200Z"
   },
   {
    "duration": 74,
    "start_time": "2024-10-04T02:46:42.600Z"
   },
   {
    "duration": 59,
    "start_time": "2024-10-04T02:46:42.677Z"
   },
   {
    "duration": 21,
    "start_time": "2024-10-04T02:46:42.739Z"
   },
   {
    "duration": 11,
    "start_time": "2024-10-04T02:46:42.762Z"
   },
   {
    "duration": 17,
    "start_time": "2024-10-04T02:46:42.775Z"
   },
   {
    "duration": 208,
    "start_time": "2024-10-04T02:46:42.794Z"
   },
   {
    "duration": 0,
    "start_time": "2024-10-04T02:46:43.004Z"
   },
   {
    "duration": 7,
    "start_time": "2024-10-04T02:46:57.218Z"
   },
   {
    "duration": 319,
    "start_time": "2024-10-04T02:49:09.672Z"
   },
   {
    "duration": 6,
    "start_time": "2024-10-04T02:49:14.360Z"
   },
   {
    "duration": 64,
    "start_time": "2024-10-04T02:50:04.388Z"
   },
   {
    "duration": 7,
    "start_time": "2024-10-04T02:50:08.146Z"
   },
   {
    "duration": 7,
    "start_time": "2024-10-04T02:50:50.572Z"
   },
   {
    "duration": 60,
    "start_time": "2024-10-04T02:50:56.977Z"
   },
   {
    "duration": 59,
    "start_time": "2024-10-04T02:51:21.334Z"
   },
   {
    "duration": 5,
    "start_time": "2024-10-04T02:52:25.195Z"
   },
   {
    "duration": 69,
    "start_time": "2024-10-04T02:52:31.115Z"
   },
   {
    "duration": 68,
    "start_time": "2024-10-04T02:52:57.213Z"
   },
   {
    "duration": 60,
    "start_time": "2024-10-04T02:53:15.197Z"
   },
   {
    "duration": 62,
    "start_time": "2024-10-04T02:53:38.191Z"
   },
   {
    "duration": 130,
    "start_time": "2024-10-04T03:20:13.610Z"
   },
   {
    "duration": 7,
    "start_time": "2024-10-04T03:20:16.927Z"
   },
   {
    "duration": 102,
    "start_time": "2024-10-04T03:21:42.221Z"
   },
   {
    "duration": 8,
    "start_time": "2024-10-04T03:21:44.927Z"
   },
   {
    "duration": 98,
    "start_time": "2024-10-04T03:22:42.094Z"
   },
   {
    "duration": 10,
    "start_time": "2024-10-04T03:22:45.536Z"
   },
   {
    "duration": 10,
    "start_time": "2024-10-04T03:23:02.882Z"
   },
   {
    "duration": 15,
    "start_time": "2024-10-04T03:24:19.826Z"
   },
   {
    "duration": 7,
    "start_time": "2024-10-04T03:24:31.320Z"
   },
   {
    "duration": 6,
    "start_time": "2024-10-04T03:26:08.996Z"
   },
   {
    "duration": 105,
    "start_time": "2024-10-04T03:26:46.194Z"
   },
   {
    "duration": 5,
    "start_time": "2024-10-04T03:26:49.063Z"
   },
   {
    "duration": 146,
    "start_time": "2024-10-04T03:27:24.163Z"
   },
   {
    "duration": 16,
    "start_time": "2024-10-04T03:28:34.937Z"
   },
   {
    "duration": 5,
    "start_time": "2024-10-04T03:29:34.030Z"
   },
   {
    "duration": 5,
    "start_time": "2024-10-04T03:30:00.287Z"
   },
   {
    "duration": 14,
    "start_time": "2024-10-04T03:31:03.624Z"
   },
   {
    "duration": 15,
    "start_time": "2024-10-04T03:31:19.371Z"
   },
   {
    "duration": 2367,
    "start_time": "2024-10-04T03:32:31.036Z"
   },
   {
    "duration": 138,
    "start_time": "2024-10-04T03:34:31.016Z"
   },
   {
    "duration": 292,
    "start_time": "2024-10-04T03:35:30.815Z"
   },
   {
    "duration": 17,
    "start_time": "2024-10-04T03:37:04.079Z"
   },
   {
    "duration": 63,
    "start_time": "2024-10-04T03:37:37.501Z"
   },
   {
    "duration": 48,
    "start_time": "2024-10-04T03:39:23.332Z"
   },
   {
    "duration": 43,
    "start_time": "2024-10-04T03:41:27.189Z"
   },
   {
    "duration": 189,
    "start_time": "2024-10-04T03:42:18.488Z"
   },
   {
    "duration": 171,
    "start_time": "2024-10-04T03:42:53.187Z"
   },
   {
    "duration": 221,
    "start_time": "2024-10-04T03:44:04.435Z"
   },
   {
    "duration": 156,
    "start_time": "2024-10-04T03:44:44.142Z"
   },
   {
    "duration": 201,
    "start_time": "2024-10-04T03:47:40.119Z"
   },
   {
    "duration": 160,
    "start_time": "2024-10-04T03:48:15.830Z"
   },
   {
    "duration": 157,
    "start_time": "2024-10-04T03:48:41.741Z"
   },
   {
    "duration": 167,
    "start_time": "2024-10-04T03:49:17.616Z"
   },
   {
    "duration": 131,
    "start_time": "2024-10-04T03:49:35.488Z"
   },
   {
    "duration": 283,
    "start_time": "2024-10-04T03:49:50.492Z"
   },
   {
    "duration": 141,
    "start_time": "2024-10-04T03:50:09.303Z"
   },
   {
    "duration": 185,
    "start_time": "2024-10-04T03:50:18.416Z"
   },
   {
    "duration": 186,
    "start_time": "2024-10-04T03:51:25.728Z"
   },
   {
    "duration": 15,
    "start_time": "2024-10-04T03:56:01.594Z"
   },
   {
    "duration": 2,
    "start_time": "2024-10-04T03:56:39.684Z"
   },
   {
    "duration": 183,
    "start_time": "2024-10-04T03:56:47.185Z"
   },
   {
    "duration": 178,
    "start_time": "2024-10-04T03:59:16.739Z"
   },
   {
    "duration": 130,
    "start_time": "2024-10-04T04:01:11.692Z"
   },
   {
    "duration": 135,
    "start_time": "2024-10-04T04:01:34.729Z"
   },
   {
    "duration": 124,
    "start_time": "2024-10-04T04:01:47.697Z"
   },
   {
    "duration": 18,
    "start_time": "2024-10-04T04:04:55.001Z"
   },
   {
    "duration": 9,
    "start_time": "2024-10-04T04:05:04.314Z"
   },
   {
    "duration": 49,
    "start_time": "2024-10-04T04:06:57.068Z"
   },
   {
    "duration": 7,
    "start_time": "2024-10-04T04:07:01.674Z"
   },
   {
    "duration": 13,
    "start_time": "2024-10-04T04:09:46.270Z"
   },
   {
    "duration": 51,
    "start_time": "2024-10-04T04:09:54.863Z"
   },
   {
    "duration": 13,
    "start_time": "2024-10-04T04:09:56.578Z"
   },
   {
    "duration": 12,
    "start_time": "2024-10-04T04:10:18.468Z"
   },
   {
    "duration": 14,
    "start_time": "2024-10-04T04:10:59.967Z"
   },
   {
    "duration": 82,
    "start_time": "2024-10-04T04:11:48.809Z"
   },
   {
    "duration": 51,
    "start_time": "2024-10-04T04:12:00.449Z"
   },
   {
    "duration": 11,
    "start_time": "2024-10-04T04:14:46.786Z"
   },
   {
    "duration": 5582,
    "start_time": "2024-10-04T04:17:16.273Z"
   },
   {
    "duration": 41,
    "start_time": "2024-10-04T04:17:39.428Z"
   },
   {
    "duration": 44,
    "start_time": "2024-10-04T04:18:01.982Z"
   },
   {
    "duration": 3845,
    "start_time": "2024-10-04T04:19:58.569Z"
   },
   {
    "duration": 4967,
    "start_time": "2024-10-04T04:20:46.144Z"
   },
   {
    "duration": 2480,
    "start_time": "2024-10-05T02:30:51.299Z"
   },
   {
    "duration": 440,
    "start_time": "2024-10-05T02:30:53.781Z"
   },
   {
    "duration": 80,
    "start_time": "2024-10-05T02:30:54.222Z"
   },
   {
    "duration": 61,
    "start_time": "2024-10-05T02:30:54.304Z"
   },
   {
    "duration": 20,
    "start_time": "2024-10-05T02:30:54.367Z"
   },
   {
    "duration": 10,
    "start_time": "2024-10-05T02:30:54.389Z"
   },
   {
    "duration": 35,
    "start_time": "2024-10-05T02:30:54.400Z"
   },
   {
    "duration": 184,
    "start_time": "2024-10-05T02:30:54.437Z"
   },
   {
    "duration": 206,
    "start_time": "2024-10-05T02:30:54.623Z"
   },
   {
    "duration": 176,
    "start_time": "2024-10-05T02:30:54.830Z"
   },
   {
    "duration": 122,
    "start_time": "2024-10-05T02:30:55.008Z"
   },
   {
    "duration": 50,
    "start_time": "2024-10-05T02:30:55.132Z"
   },
   {
    "duration": 5076,
    "start_time": "2024-10-05T02:30:55.184Z"
   },
   {
    "duration": 245,
    "start_time": "2024-10-05T02:33:29.871Z"
   },
   {
    "duration": 211,
    "start_time": "2024-10-05T02:33:31.141Z"
   },
   {
    "duration": 174,
    "start_time": "2024-10-05T02:33:33.016Z"
   },
   {
    "duration": 112,
    "start_time": "2024-10-05T02:33:34.981Z"
   },
   {
    "duration": 58,
    "start_time": "2024-10-05T02:34:28.555Z"
   },
   {
    "duration": 4948,
    "start_time": "2024-10-05T02:34:31.608Z"
   },
   {
    "duration": 109,
    "start_time": "2024-10-05T02:37:20.562Z"
   },
   {
    "duration": 120,
    "start_time": "2024-10-05T02:38:12.674Z"
   },
   {
    "duration": 4903,
    "start_time": "2024-10-05T02:38:13.649Z"
   },
   {
    "duration": 6,
    "start_time": "2024-10-05T02:39:06.688Z"
   },
   {
    "duration": 783,
    "start_time": "2024-10-05T02:39:29.951Z"
   },
   {
    "duration": 348,
    "start_time": "2024-10-05T02:39:30.736Z"
   },
   {
    "duration": 78,
    "start_time": "2024-10-05T02:39:31.086Z"
   },
   {
    "duration": 67,
    "start_time": "2024-10-05T02:39:31.167Z"
   },
   {
    "duration": 20,
    "start_time": "2024-10-05T02:39:31.235Z"
   },
   {
    "duration": 12,
    "start_time": "2024-10-05T02:39:31.257Z"
   },
   {
    "duration": 17,
    "start_time": "2024-10-05T02:39:31.271Z"
   },
   {
    "duration": 273,
    "start_time": "2024-10-05T02:39:31.289Z"
   },
   {
    "duration": 237,
    "start_time": "2024-10-05T02:39:31.564Z"
   },
   {
    "duration": 169,
    "start_time": "2024-10-05T02:39:31.803Z"
   },
   {
    "duration": 159,
    "start_time": "2024-10-05T02:39:31.974Z"
   },
   {
    "duration": 125,
    "start_time": "2024-10-05T02:39:32.135Z"
   },
   {
    "duration": 6,
    "start_time": "2024-10-05T02:39:32.261Z"
   },
   {
    "duration": 4844,
    "start_time": "2024-10-05T02:39:32.269Z"
   },
   {
    "duration": 216,
    "start_time": "2024-10-05T02:40:31.130Z"
   },
   {
    "duration": 8,
    "start_time": "2024-10-05T02:40:37.689Z"
   },
   {
    "duration": 793,
    "start_time": "2024-10-05T02:42:21.660Z"
   },
   {
    "duration": 347,
    "start_time": "2024-10-05T02:42:22.456Z"
   },
   {
    "duration": 78,
    "start_time": "2024-10-05T02:42:22.805Z"
   },
   {
    "duration": 60,
    "start_time": "2024-10-05T02:42:22.886Z"
   },
   {
    "duration": 20,
    "start_time": "2024-10-05T02:42:22.947Z"
   },
   {
    "duration": 10,
    "start_time": "2024-10-05T02:42:22.968Z"
   },
   {
    "duration": 15,
    "start_time": "2024-10-05T02:42:22.979Z"
   },
   {
    "duration": 272,
    "start_time": "2024-10-05T02:42:22.996Z"
   },
   {
    "duration": 230,
    "start_time": "2024-10-05T02:42:23.270Z"
   },
   {
    "duration": 172,
    "start_time": "2024-10-05T02:42:23.504Z"
   },
   {
    "duration": 164,
    "start_time": "2024-10-05T02:42:23.678Z"
   },
   {
    "duration": 1189,
    "start_time": "2024-10-05T02:42:23.843Z"
   },
   {
    "duration": 0,
    "start_time": "2024-10-05T02:42:25.034Z"
   },
   {
    "duration": 0,
    "start_time": "2024-10-05T02:42:25.035Z"
   },
   {
    "duration": 0,
    "start_time": "2024-10-05T02:42:25.037Z"
   },
   {
    "duration": 60,
    "start_time": "2024-10-05T02:43:11.391Z"
   },
   {
    "duration": 8,
    "start_time": "2024-10-05T02:43:30.643Z"
   },
   {
    "duration": 4,
    "start_time": "2024-10-05T02:43:33.360Z"
   },
   {
    "duration": 155,
    "start_time": "2024-10-05T02:43:36.766Z"
   },
   {
    "duration": 12,
    "start_time": "2024-10-05T02:45:04.788Z"
   },
   {
    "duration": 61,
    "start_time": "2024-10-05T02:45:41.268Z"
   },
   {
    "duration": 8,
    "start_time": "2024-10-05T02:45:51.545Z"
   },
   {
    "duration": 61,
    "start_time": "2024-10-05T02:46:12.540Z"
   },
   {
    "duration": 2502,
    "start_time": "2024-10-06T22:45:38.460Z"
   },
   {
    "duration": 435,
    "start_time": "2024-10-06T22:45:40.964Z"
   },
   {
    "duration": 80,
    "start_time": "2024-10-06T22:45:41.401Z"
   },
   {
    "duration": 57,
    "start_time": "2024-10-06T22:45:41.484Z"
   },
   {
    "duration": 33,
    "start_time": "2024-10-06T22:45:41.544Z"
   },
   {
    "duration": 10,
    "start_time": "2024-10-06T22:45:41.578Z"
   },
   {
    "duration": 16,
    "start_time": "2024-10-06T22:45:41.591Z"
   },
   {
    "duration": 269,
    "start_time": "2024-10-06T22:45:41.608Z"
   },
   {
    "duration": 235,
    "start_time": "2024-10-06T22:45:41.879Z"
   },
   {
    "duration": 174,
    "start_time": "2024-10-06T22:45:42.116Z"
   },
   {
    "duration": 114,
    "start_time": "2024-10-06T22:45:42.292Z"
   },
   {
    "duration": 72,
    "start_time": "2024-10-06T22:45:42.409Z"
   },
   {
    "duration": 8,
    "start_time": "2024-10-06T22:45:42.483Z"
   },
   {
    "duration": 8,
    "start_time": "2024-10-06T22:45:42.495Z"
   },
   {
    "duration": 4840,
    "start_time": "2024-10-06T22:45:42.505Z"
   },
   {
    "duration": 6,
    "start_time": "2024-10-06T22:47:48.901Z"
   },
   {
    "duration": 1008,
    "start_time": "2024-10-06T22:48:35.214Z"
   },
   {
    "duration": 131,
    "start_time": "2024-10-06T22:48:56.781Z"
   },
   {
    "duration": 64,
    "start_time": "2024-10-06T23:23:37.956Z"
   },
   {
    "duration": 9,
    "start_time": "2024-10-06T23:23:40.082Z"
   },
   {
    "duration": 6,
    "start_time": "2024-10-06T23:23:41.926Z"
   },
   {
    "duration": 162,
    "start_time": "2024-10-06T23:23:52.270Z"
   },
   {
    "duration": 4994,
    "start_time": "2024-10-06T23:24:02.463Z"
   },
   {
    "duration": 4776,
    "start_time": "2024-10-06T23:24:38.118Z"
   },
   {
    "duration": 49,
    "start_time": "2024-10-06T23:38:16.328Z"
   },
   {
    "duration": 7,
    "start_time": "2024-10-06T23:38:17.315Z"
   },
   {
    "duration": 5,
    "start_time": "2024-10-06T23:38:18.547Z"
   },
   {
    "duration": 611,
    "start_time": "2024-10-06T23:38:20.671Z"
   },
   {
    "duration": 7,
    "start_time": "2024-10-06T23:39:09.445Z"
   },
   {
    "duration": 139,
    "start_time": "2024-10-06T23:39:58.189Z"
   },
   {
    "duration": 640,
    "start_time": "2024-10-06T23:50:12.193Z"
   },
   {
    "duration": 4,
    "start_time": "2024-10-06T23:52:46.808Z"
   },
   {
    "duration": 195,
    "start_time": "2024-10-06T23:52:53.593Z"
   },
   {
    "duration": 49,
    "start_time": "2024-10-06T23:53:14.317Z"
   },
   {
    "duration": 8,
    "start_time": "2024-10-06T23:53:16.074Z"
   },
   {
    "duration": 7,
    "start_time": "2024-10-06T23:53:17.137Z"
   },
   {
    "duration": 111,
    "start_time": "2024-10-06T23:53:20.718Z"
   },
   {
    "duration": 3837,
    "start_time": "2024-10-06T23:53:41.500Z"
   },
   {
    "duration": 513,
    "start_time": "2024-10-06T23:58:31.012Z"
   },
   {
    "duration": 507,
    "start_time": "2024-10-06T23:58:44.070Z"
   },
   {
    "duration": 16,
    "start_time": "2024-10-06T23:58:47.784Z"
   },
   {
    "duration": 7,
    "start_time": "2024-10-06T23:58:57.211Z"
   },
   {
    "duration": 8496,
    "start_time": "2024-10-06T23:59:08.243Z"
   },
   {
    "duration": 1061,
    "start_time": "2024-10-07T00:02:12.745Z"
   },
   {
    "duration": 0,
    "start_time": "2024-10-07T00:02:13.808Z"
   },
   {
    "duration": 7,
    "start_time": "2024-10-07T00:02:15.440Z"
   },
   {
    "duration": 544,
    "start_time": "2024-10-07T00:03:01.860Z"
   },
   {
    "duration": 503,
    "start_time": "2024-10-07T00:04:44.759Z"
   },
   {
    "duration": 17,
    "start_time": "2024-10-07T00:04:46.103Z"
   },
   {
    "duration": 6,
    "start_time": "2024-10-07T00:04:47.098Z"
   },
   {
    "duration": 8517,
    "start_time": "2024-10-07T00:04:48.836Z"
   },
   {
    "duration": 803,
    "start_time": "2024-10-07T00:06:04.191Z"
   },
   {
    "duration": 347,
    "start_time": "2024-10-07T00:06:04.997Z"
   },
   {
    "duration": 79,
    "start_time": "2024-10-07T00:06:05.346Z"
   },
   {
    "duration": 60,
    "start_time": "2024-10-07T00:06:05.427Z"
   },
   {
    "duration": 21,
    "start_time": "2024-10-07T00:06:05.489Z"
   },
   {
    "duration": 12,
    "start_time": "2024-10-07T00:06:05.511Z"
   },
   {
    "duration": 16,
    "start_time": "2024-10-07T00:06:05.524Z"
   },
   {
    "duration": 277,
    "start_time": "2024-10-07T00:06:05.541Z"
   },
   {
    "duration": 239,
    "start_time": "2024-10-07T00:06:05.820Z"
   },
   {
    "duration": 175,
    "start_time": "2024-10-07T00:06:06.062Z"
   },
   {
    "duration": 174,
    "start_time": "2024-10-07T00:06:06.239Z"
   },
   {
    "duration": 520,
    "start_time": "2024-10-07T00:06:06.416Z"
   },
   {
    "duration": 18,
    "start_time": "2024-10-07T00:06:06.940Z"
   },
   {
    "duration": 7,
    "start_time": "2024-10-07T00:06:06.970Z"
   },
   {
    "duration": 493,
    "start_time": "2024-10-07T00:06:29.684Z"
   },
   {
    "duration": 17,
    "start_time": "2024-10-07T00:06:31.472Z"
   },
   {
    "duration": 8,
    "start_time": "2024-10-07T00:06:33.080Z"
   },
   {
    "duration": 495,
    "start_time": "2024-10-07T00:06:58.986Z"
   },
   {
    "duration": 4,
    "start_time": "2024-10-07T00:06:59.549Z"
   },
   {
    "duration": 17,
    "start_time": "2024-10-07T00:07:01.814Z"
   },
   {
    "duration": 17,
    "start_time": "2024-10-07T00:07:22.933Z"
   },
   {
    "duration": 7,
    "start_time": "2024-10-07T00:07:26.155Z"
   },
   {
    "duration": 3,
    "start_time": "2024-10-07T00:07:49.820Z"
   },
   {
    "duration": 22,
    "start_time": "2024-10-07T00:07:51.585Z"
   },
   {
    "duration": 7,
    "start_time": "2024-10-07T00:07:55.921Z"
   },
   {
    "duration": 346,
    "start_time": "2024-10-07T00:08:39.931Z"
   },
   {
    "duration": 48,
    "start_time": "2024-10-07T00:09:03.103Z"
   },
   {
    "duration": 47,
    "start_time": "2024-10-07T00:09:45.365Z"
   },
   {
    "duration": 15,
    "start_time": "2024-10-07T00:10:21.695Z"
   },
   {
    "duration": 4,
    "start_time": "2024-10-07T00:10:29.544Z"
   },
   {
    "duration": 7,
    "start_time": "2024-10-07T00:10:52.485Z"
   },
   {
    "duration": 4,
    "start_time": "2024-10-07T00:10:54.077Z"
   },
   {
    "duration": 8,
    "start_time": "2024-10-07T00:11:18.465Z"
   },
   {
    "duration": 4,
    "start_time": "2024-10-07T00:11:19.578Z"
   },
   {
    "duration": 18,
    "start_time": "2024-10-07T00:11:22.436Z"
   },
   {
    "duration": 7,
    "start_time": "2024-10-07T00:11:26.724Z"
   },
   {
    "duration": 4168,
    "start_time": "2024-10-07T00:11:56.085Z"
   },
   {
    "duration": 815,
    "start_time": "2024-10-07T00:15:17.281Z"
   },
   {
    "duration": 355,
    "start_time": "2024-10-07T00:15:18.098Z"
   },
   {
    "duration": 82,
    "start_time": "2024-10-07T00:15:18.455Z"
   },
   {
    "duration": 65,
    "start_time": "2024-10-07T00:15:18.539Z"
   },
   {
    "duration": 22,
    "start_time": "2024-10-07T00:15:18.606Z"
   },
   {
    "duration": 12,
    "start_time": "2024-10-07T00:15:18.629Z"
   },
   {
    "duration": 35,
    "start_time": "2024-10-07T00:15:18.643Z"
   },
   {
    "duration": 264,
    "start_time": "2024-10-07T00:15:18.680Z"
   },
   {
    "duration": 256,
    "start_time": "2024-10-07T00:15:18.946Z"
   },
   {
    "duration": 171,
    "start_time": "2024-10-07T00:15:19.204Z"
   },
   {
    "duration": 171,
    "start_time": "2024-10-07T00:15:19.377Z"
   },
   {
    "duration": 492,
    "start_time": "2024-10-07T00:15:19.550Z"
   },
   {
    "duration": 4,
    "start_time": "2024-10-07T00:15:20.044Z"
   },
   {
    "duration": 3,
    "start_time": "2024-10-07T00:15:20.051Z"
   },
   {
    "duration": 16,
    "start_time": "2024-10-07T00:15:20.070Z"
   },
   {
    "duration": 6,
    "start_time": "2024-10-07T00:15:20.088Z"
   },
   {
    "duration": 756,
    "start_time": "2024-10-07T00:17:52.125Z"
   },
   {
    "duration": 354,
    "start_time": "2024-10-07T00:17:52.883Z"
   },
   {
    "duration": 82,
    "start_time": "2024-10-07T00:17:53.239Z"
   },
   {
    "duration": 67,
    "start_time": "2024-10-07T00:17:53.323Z"
   },
   {
    "duration": 21,
    "start_time": "2024-10-07T00:17:53.392Z"
   },
   {
    "duration": 10,
    "start_time": "2024-10-07T00:17:53.414Z"
   },
   {
    "duration": 17,
    "start_time": "2024-10-07T00:17:53.425Z"
   },
   {
    "duration": 251,
    "start_time": "2024-10-07T00:17:53.470Z"
   },
   {
    "duration": 237,
    "start_time": "2024-10-07T00:17:53.722Z"
   },
   {
    "duration": 173,
    "start_time": "2024-10-07T00:17:53.960Z"
   },
   {
    "duration": 164,
    "start_time": "2024-10-07T00:17:54.135Z"
   },
   {
    "duration": 493,
    "start_time": "2024-10-07T00:17:54.301Z"
   },
   {
    "duration": 4,
    "start_time": "2024-10-07T00:17:54.796Z"
   },
   {
    "duration": 17,
    "start_time": "2024-10-07T00:17:54.803Z"
   },
   {
    "duration": 9,
    "start_time": "2024-10-07T00:17:54.822Z"
   },
   {
    "duration": 741,
    "start_time": "2024-10-07T00:27:03.240Z"
   },
   {
    "duration": 368,
    "start_time": "2024-10-07T00:27:03.983Z"
   },
   {
    "duration": 78,
    "start_time": "2024-10-07T00:27:04.353Z"
   },
   {
    "duration": 65,
    "start_time": "2024-10-07T00:27:04.433Z"
   },
   {
    "duration": 20,
    "start_time": "2024-10-07T00:27:04.500Z"
   },
   {
    "duration": 11,
    "start_time": "2024-10-07T00:27:04.523Z"
   },
   {
    "duration": 36,
    "start_time": "2024-10-07T00:27:04.535Z"
   },
   {
    "duration": 263,
    "start_time": "2024-10-07T00:27:04.573Z"
   },
   {
    "duration": 233,
    "start_time": "2024-10-07T00:27:04.838Z"
   },
   {
    "duration": 187,
    "start_time": "2024-10-07T00:27:05.073Z"
   },
   {
    "duration": 164,
    "start_time": "2024-10-07T00:27:05.271Z"
   },
   {
    "duration": 502,
    "start_time": "2024-10-07T00:27:05.437Z"
   },
   {
    "duration": 4,
    "start_time": "2024-10-07T00:27:05.941Z"
   },
   {
    "duration": 26,
    "start_time": "2024-10-07T00:27:05.948Z"
   },
   {
    "duration": 589,
    "start_time": "2024-10-07T00:27:05.975Z"
   },
   {
    "duration": 9,
    "start_time": "2024-10-07T00:28:25.426Z"
   },
   {
    "duration": 7,
    "start_time": "2024-10-07T00:28:52.024Z"
   },
   {
    "duration": 7,
    "start_time": "2024-10-07T00:29:18.859Z"
   },
   {
    "duration": 5,
    "start_time": "2024-10-07T00:30:40.210Z"
   },
   {
    "duration": 228,
    "start_time": "2024-10-07T00:34:10.179Z"
   },
   {
    "duration": 452,
    "start_time": "2024-10-07T00:34:21.579Z"
   },
   {
    "duration": 6,
    "start_time": "2024-10-07T00:34:43.864Z"
   },
   {
    "duration": 467,
    "start_time": "2024-10-07T00:35:16.254Z"
   },
   {
    "duration": 5,
    "start_time": "2024-10-07T00:35:17.307Z"
   },
   {
    "duration": 7,
    "start_time": "2024-10-07T00:35:25.243Z"
   },
   {
    "duration": 492,
    "start_time": "2024-10-07T00:37:48.923Z"
   },
   {
    "duration": 8,
    "start_time": "2024-10-07T00:37:50.903Z"
   },
   {
    "duration": 8,
    "start_time": "2024-10-07T00:38:06.089Z"
   },
   {
    "duration": 110,
    "start_time": "2024-10-07T00:40:34.828Z"
   },
   {
    "duration": 9,
    "start_time": "2024-10-07T00:40:36.105Z"
   },
   {
    "duration": 8,
    "start_time": "2024-10-07T00:42:09.983Z"
   },
   {
    "duration": 56,
    "start_time": "2024-10-07T00:43:28.253Z"
   },
   {
    "duration": 3,
    "start_time": "2024-10-07T00:43:29.541Z"
   },
   {
    "duration": 11,
    "start_time": "2024-10-07T00:48:46.544Z"
   },
   {
    "duration": 266,
    "start_time": "2024-10-07T00:51:18.324Z"
   },
   {
    "duration": 8,
    "start_time": "2024-10-07T00:51:19.033Z"
   },
   {
    "duration": 57,
    "start_time": "2024-10-07T00:52:29.973Z"
   },
   {
    "duration": 9,
    "start_time": "2024-10-07T00:52:31.097Z"
   },
   {
    "duration": 4,
    "start_time": "2024-10-07T00:53:04.549Z"
   },
   {
    "duration": 8,
    "start_time": "2024-10-07T00:53:30.868Z"
   },
   {
    "duration": 29,
    "start_time": "2024-10-07T00:54:35.263Z"
   },
   {
    "duration": 34,
    "start_time": "2024-10-07T00:55:58.339Z"
   },
   {
    "duration": 5,
    "start_time": "2024-10-07T00:56:22.506Z"
   },
   {
    "duration": 29,
    "start_time": "2024-10-07T00:56:50.387Z"
   },
   {
    "duration": 5,
    "start_time": "2024-10-07T00:58:22.936Z"
   },
   {
    "duration": 41,
    "start_time": "2024-10-07T00:58:42.447Z"
   },
   {
    "duration": 4,
    "start_time": "2024-10-07T00:58:45.215Z"
   },
   {
    "duration": 41,
    "start_time": "2024-10-07T00:59:07.070Z"
   },
   {
    "duration": 5,
    "start_time": "2024-10-07T00:59:10.766Z"
   },
   {
    "duration": 5,
    "start_time": "2024-10-07T01:06:15.367Z"
   },
   {
    "duration": 391,
    "start_time": "2024-10-07T01:06:44.247Z"
   },
   {
    "duration": 278,
    "start_time": "2024-10-07T01:10:36.075Z"
   },
   {
    "duration": 164,
    "start_time": "2024-10-07T01:31:50.517Z"
   },
   {
    "duration": 164,
    "start_time": "2024-10-07T01:32:50.483Z"
   },
   {
    "duration": 167,
    "start_time": "2024-10-07T01:33:12.090Z"
   },
   {
    "duration": 13,
    "start_time": "2024-10-07T01:43:26.362Z"
   },
   {
    "duration": 5,
    "start_time": "2024-10-07T01:44:13.311Z"
   },
   {
    "duration": 14,
    "start_time": "2024-10-07T01:44:20.785Z"
   },
   {
    "duration": 167,
    "start_time": "2024-10-07T01:52:59.347Z"
   },
   {
    "duration": 4,
    "start_time": "2024-10-07T01:54:05.583Z"
   },
   {
    "duration": 5,
    "start_time": "2024-10-07T01:54:12.295Z"
   },
   {
    "duration": 5,
    "start_time": "2024-10-07T01:54:29.197Z"
   },
   {
    "duration": 5,
    "start_time": "2024-10-07T01:54:50.128Z"
   },
   {
    "duration": 198,
    "start_time": "2024-10-07T01:57:43.662Z"
   },
   {
    "duration": 166,
    "start_time": "2024-10-07T01:57:45.106Z"
   },
   {
    "duration": 164,
    "start_time": "2024-10-07T02:00:53.799Z"
   },
   {
    "duration": 770,
    "start_time": "2024-10-07T02:03:33.858Z"
   },
   {
    "duration": 364,
    "start_time": "2024-10-07T02:03:34.630Z"
   },
   {
    "duration": 86,
    "start_time": "2024-10-07T02:03:34.996Z"
   },
   {
    "duration": 53,
    "start_time": "2024-10-07T02:03:35.084Z"
   },
   {
    "duration": 37,
    "start_time": "2024-10-07T02:03:35.139Z"
   },
   {
    "duration": 10,
    "start_time": "2024-10-07T02:03:35.178Z"
   },
   {
    "duration": 16,
    "start_time": "2024-10-07T02:03:35.191Z"
   },
   {
    "duration": 281,
    "start_time": "2024-10-07T02:03:35.209Z"
   },
   {
    "duration": 271,
    "start_time": "2024-10-07T02:03:35.492Z"
   },
   {
    "duration": 171,
    "start_time": "2024-10-07T02:03:35.766Z"
   },
   {
    "duration": 170,
    "start_time": "2024-10-07T02:03:35.939Z"
   },
   {
    "duration": 512,
    "start_time": "2024-10-07T02:03:36.111Z"
   },
   {
    "duration": 5,
    "start_time": "2024-10-07T02:03:36.625Z"
   },
   {
    "duration": 17,
    "start_time": "2024-10-07T02:03:36.632Z"
   },
   {
    "duration": 19,
    "start_time": "2024-10-07T02:03:36.651Z"
   },
   {
    "duration": 101,
    "start_time": "2024-10-07T02:03:36.671Z"
   },
   {
    "duration": 4,
    "start_time": "2024-10-07T02:03:36.775Z"
   },
   {
    "duration": 5,
    "start_time": "2024-10-07T02:03:36.782Z"
   },
   {
    "duration": 229,
    "start_time": "2024-10-07T02:03:36.788Z"
   },
   {
    "duration": 507,
    "start_time": "2024-10-07T02:03:37.019Z"
   },
   {
    "duration": 0,
    "start_time": "2024-10-07T02:03:37.528Z"
   },
   {
    "duration": 13796,
    "start_time": "2024-10-07T02:09:30.694Z"
   },
   {
    "duration": 13752,
    "start_time": "2024-10-07T02:10:05.458Z"
   },
   {
    "duration": 4,
    "start_time": "2024-10-07T02:11:12.110Z"
   },
   {
    "duration": 13,
    "start_time": "2024-10-07T02:12:08.628Z"
   },
   {
    "duration": 4,
    "start_time": "2024-10-07T02:12:25.842Z"
   },
   {
    "duration": 11,
    "start_time": "2024-10-07T02:15:03.191Z"
   },
   {
    "duration": 8,
    "start_time": "2024-10-07T02:15:25.212Z"
   },
   {
    "duration": 4,
    "start_time": "2024-10-07T02:16:34.227Z"
   },
   {
    "duration": 9,
    "start_time": "2024-10-07T02:17:10.209Z"
   },
   {
    "duration": 826,
    "start_time": "2024-10-07T02:18:42.577Z"
   },
   {
    "duration": 391,
    "start_time": "2024-10-07T02:18:43.405Z"
   },
   {
    "duration": 76,
    "start_time": "2024-10-07T02:18:43.798Z"
   },
   {
    "duration": 55,
    "start_time": "2024-10-07T02:18:43.876Z"
   },
   {
    "duration": 38,
    "start_time": "2024-10-07T02:18:43.933Z"
   },
   {
    "duration": 11,
    "start_time": "2024-10-07T02:18:43.973Z"
   },
   {
    "duration": 10,
    "start_time": "2024-10-07T02:18:43.986Z"
   },
   {
    "duration": 16,
    "start_time": "2024-10-07T02:18:43.998Z"
   },
   {
    "duration": 4,
    "start_time": "2024-10-07T02:18:44.016Z"
   },
   {
    "duration": 289,
    "start_time": "2024-10-07T02:18:44.022Z"
   },
   {
    "duration": 233,
    "start_time": "2024-10-07T02:18:44.313Z"
   },
   {
    "duration": 174,
    "start_time": "2024-10-07T02:18:44.549Z"
   },
   {
    "duration": 183,
    "start_time": "2024-10-07T02:18:44.724Z"
   },
   {
    "duration": 497,
    "start_time": "2024-10-07T02:18:44.911Z"
   },
   {
    "duration": 5,
    "start_time": "2024-10-07T02:18:45.410Z"
   },
   {
    "duration": 18,
    "start_time": "2024-10-07T02:18:45.417Z"
   },
   {
    "duration": 3,
    "start_time": "2024-10-07T02:18:45.437Z"
   },
   {
    "duration": 117,
    "start_time": "2024-10-07T02:18:45.441Z"
   },
   {
    "duration": 9,
    "start_time": "2024-10-07T02:18:45.561Z"
   },
   {
    "duration": 5,
    "start_time": "2024-10-07T02:18:45.571Z"
   },
   {
    "duration": 216,
    "start_time": "2024-10-07T02:18:45.579Z"
   },
   {
    "duration": 13173,
    "start_time": "2024-10-07T02:18:45.797Z"
   },
   {
    "duration": 4,
    "start_time": "2024-10-07T02:18:58.972Z"
   },
   {
    "duration": 7,
    "start_time": "2024-10-07T02:43:12.505Z"
   },
   {
    "duration": 5,
    "start_time": "2024-10-07T02:43:31.060Z"
   },
   {
    "duration": 8,
    "start_time": "2024-10-07T02:43:42.690Z"
   },
   {
    "duration": 213,
    "start_time": "2024-10-07T02:45:47.947Z"
   },
   {
    "duration": 13,
    "start_time": "2024-10-07T02:46:01.356Z"
   },
   {
    "duration": 12,
    "start_time": "2024-10-07T02:46:10.896Z"
   },
   {
    "duration": 8,
    "start_time": "2024-10-07T02:46:36.283Z"
   },
   {
    "duration": 12,
    "start_time": "2024-10-07T02:50:38.443Z"
   },
   {
    "duration": 12,
    "start_time": "2024-10-07T02:55:23.782Z"
   },
   {
    "duration": 8,
    "start_time": "2024-10-07T02:59:18.493Z"
   },
   {
    "duration": 128,
    "start_time": "2024-10-07T02:59:34.560Z"
   },
   {
    "duration": 39,
    "start_time": "2024-10-07T03:00:06.220Z"
   },
   {
    "duration": 11,
    "start_time": "2024-10-07T03:01:09.116Z"
   },
   {
    "duration": 11,
    "start_time": "2024-10-07T03:01:10.264Z"
   },
   {
    "duration": 12,
    "start_time": "2024-10-07T03:01:22.831Z"
   },
   {
    "duration": 8,
    "start_time": "2024-10-07T03:01:26.218Z"
   },
   {
    "duration": 8,
    "start_time": "2024-10-07T03:01:32.373Z"
   },
   {
    "duration": 12,
    "start_time": "2024-10-07T03:01:48.421Z"
   },
   {
    "duration": 9,
    "start_time": "2024-10-07T03:01:50.819Z"
   },
   {
    "duration": 9,
    "start_time": "2024-10-07T03:01:53.207Z"
   },
   {
    "duration": 770,
    "start_time": "2024-10-07T03:02:08.260Z"
   },
   {
    "duration": 355,
    "start_time": "2024-10-07T03:02:09.032Z"
   },
   {
    "duration": 74,
    "start_time": "2024-10-07T03:02:09.389Z"
   },
   {
    "duration": 53,
    "start_time": "2024-10-07T03:02:09.470Z"
   },
   {
    "duration": 20,
    "start_time": "2024-10-07T03:02:09.525Z"
   },
   {
    "duration": 28,
    "start_time": "2024-10-07T03:02:09.547Z"
   },
   {
    "duration": 11,
    "start_time": "2024-10-07T03:02:09.577Z"
   },
   {
    "duration": 18,
    "start_time": "2024-10-07T03:02:09.590Z"
   },
   {
    "duration": 3,
    "start_time": "2024-10-07T03:02:09.610Z"
   },
   {
    "duration": 280,
    "start_time": "2024-10-07T03:02:09.615Z"
   },
   {
    "duration": 250,
    "start_time": "2024-10-07T03:02:09.897Z"
   },
   {
    "duration": 167,
    "start_time": "2024-10-07T03:02:10.149Z"
   },
   {
    "duration": 166,
    "start_time": "2024-10-07T03:02:10.317Z"
   },
   {
    "duration": 502,
    "start_time": "2024-10-07T03:02:10.487Z"
   },
   {
    "duration": 4,
    "start_time": "2024-10-07T03:02:10.991Z"
   },
   {
    "duration": 16,
    "start_time": "2024-10-07T03:02:10.997Z"
   },
   {
    "duration": 3,
    "start_time": "2024-10-07T03:02:11.015Z"
   },
   {
    "duration": 109,
    "start_time": "2024-10-07T03:02:11.020Z"
   },
   {
    "duration": 4,
    "start_time": "2024-10-07T03:02:11.131Z"
   },
   {
    "duration": 5,
    "start_time": "2024-10-07T03:02:11.137Z"
   },
   {
    "duration": 221,
    "start_time": "2024-10-07T03:02:11.145Z"
   },
   {
    "duration": 13159,
    "start_time": "2024-10-07T03:02:11.368Z"
   },
   {
    "duration": 4,
    "start_time": "2024-10-07T03:02:24.529Z"
   },
   {
    "duration": 38,
    "start_time": "2024-10-07T03:02:24.534Z"
   },
   {
    "duration": 10,
    "start_time": "2024-10-07T03:02:24.574Z"
   },
   {
    "duration": 7,
    "start_time": "2024-10-07T03:02:24.586Z"
   },
   {
    "duration": 7,
    "start_time": "2024-10-07T03:02:24.594Z"
   },
   {
    "duration": 6,
    "start_time": "2024-10-07T03:02:24.603Z"
   },
   {
    "duration": 11,
    "start_time": "2024-10-07T03:04:37.131Z"
   },
   {
    "duration": 7,
    "start_time": "2024-10-07T03:04:38.330Z"
   },
   {
    "duration": 8,
    "start_time": "2024-10-07T03:04:41.642Z"
   },
   {
    "duration": 8,
    "start_time": "2024-10-07T03:05:10.050Z"
   },
   {
    "duration": 6,
    "start_time": "2024-10-07T03:05:31.629Z"
   },
   {
    "duration": 67,
    "start_time": "2024-10-07T03:13:15.523Z"
   },
   {
    "duration": 3,
    "start_time": "2024-10-07T03:15:33.948Z"
   },
   {
    "duration": 319,
    "start_time": "2024-10-07T03:16:28.284Z"
   },
   {
    "duration": 30,
    "start_time": "2024-10-07T03:17:24.086Z"
   },
   {
    "duration": 7,
    "start_time": "2024-10-07T03:17:48.931Z"
   },
   {
    "duration": 15,
    "start_time": "2024-10-07T03:24:38.376Z"
   },
   {
    "duration": 5,
    "start_time": "2024-10-07T03:25:13.213Z"
   },
   {
    "duration": 6,
    "start_time": "2024-10-07T03:25:14.824Z"
   },
   {
    "duration": 6,
    "start_time": "2024-10-07T03:25:53.976Z"
   },
   {
    "duration": 3,
    "start_time": "2024-10-07T03:26:28.891Z"
   },
   {
    "duration": 4,
    "start_time": "2024-10-07T03:29:34.271Z"
   },
   {
    "duration": 13,
    "start_time": "2024-10-07T03:29:54.891Z"
   },
   {
    "duration": 7,
    "start_time": "2024-10-07T03:33:00.506Z"
   },
   {
    "duration": 7,
    "start_time": "2024-10-07T03:37:46.477Z"
   },
   {
    "duration": 6,
    "start_time": "2024-10-07T03:38:19.409Z"
   },
   {
    "duration": 9,
    "start_time": "2024-10-07T03:39:24.214Z"
   },
   {
    "duration": 8,
    "start_time": "2024-10-07T03:39:25.731Z"
   },
   {
    "duration": 3,
    "start_time": "2024-10-07T03:42:34.201Z"
   },
   {
    "duration": 4,
    "start_time": "2024-10-07T03:42:34.826Z"
   },
   {
    "duration": 11,
    "start_time": "2024-10-07T03:52:40.619Z"
   },
   {
    "duration": 8,
    "start_time": "2024-10-07T03:52:57.659Z"
   },
   {
    "duration": 13,
    "start_time": "2024-10-07T03:57:13.757Z"
   },
   {
    "duration": 3,
    "start_time": "2024-10-07T03:57:31.755Z"
   },
   {
    "duration": 14,
    "start_time": "2024-10-07T03:59:17.574Z"
   },
   {
    "duration": 215,
    "start_time": "2024-10-07T03:59:30.984Z"
   },
   {
    "duration": 5,
    "start_time": "2024-10-07T04:01:30.029Z"
   },
   {
    "duration": 5,
    "start_time": "2024-10-07T04:02:09.838Z"
   },
   {
    "duration": 3,
    "start_time": "2024-10-07T04:07:26.921Z"
   },
   {
    "duration": 17,
    "start_time": "2024-10-07T04:07:33.707Z"
   },
   {
    "duration": 9,
    "start_time": "2024-10-07T04:07:40.284Z"
   },
   {
    "duration": 826,
    "start_time": "2024-10-07T04:09:11.971Z"
   },
   {
    "duration": 418,
    "start_time": "2024-10-07T04:09:12.800Z"
   },
   {
    "duration": 83,
    "start_time": "2024-10-07T04:09:13.220Z"
   },
   {
    "duration": 67,
    "start_time": "2024-10-07T04:09:13.306Z"
   },
   {
    "duration": 21,
    "start_time": "2024-10-07T04:09:13.375Z"
   },
   {
    "duration": 12,
    "start_time": "2024-10-07T04:09:13.398Z"
   },
   {
    "duration": 11,
    "start_time": "2024-10-07T04:09:13.412Z"
   },
   {
    "duration": 51,
    "start_time": "2024-10-07T04:09:13.425Z"
   },
   {
    "duration": 3,
    "start_time": "2024-10-07T04:09:13.478Z"
   },
   {
    "duration": 280,
    "start_time": "2024-10-07T04:09:13.485Z"
   },
   {
    "duration": 268,
    "start_time": "2024-10-07T04:09:13.767Z"
   },
   {
    "duration": 179,
    "start_time": "2024-10-07T04:09:14.037Z"
   },
   {
    "duration": 188,
    "start_time": "2024-10-07T04:09:14.219Z"
   },
   {
    "duration": 498,
    "start_time": "2024-10-07T04:09:14.409Z"
   },
   {
    "duration": 5,
    "start_time": "2024-10-07T04:09:14.909Z"
   },
   {
    "duration": 18,
    "start_time": "2024-10-07T04:09:14.916Z"
   },
   {
    "duration": 4,
    "start_time": "2024-10-07T04:09:14.936Z"
   },
   {
    "duration": 131,
    "start_time": "2024-10-07T04:09:14.942Z"
   },
   {
    "duration": 4,
    "start_time": "2024-10-07T04:09:15.074Z"
   },
   {
    "duration": 4,
    "start_time": "2024-10-07T04:09:15.080Z"
   },
   {
    "duration": 232,
    "start_time": "2024-10-07T04:09:15.086Z"
   },
   {
    "duration": 13910,
    "start_time": "2024-10-07T04:09:15.320Z"
   },
   {
    "duration": 3,
    "start_time": "2024-10-07T04:09:29.232Z"
   },
   {
    "duration": 37,
    "start_time": "2024-10-07T04:09:29.237Z"
   },
   {
    "duration": 62,
    "start_time": "2024-10-07T04:09:29.275Z"
   },
   {
    "duration": 43,
    "start_time": "2024-10-07T04:09:29.339Z"
   },
   {
    "duration": 7,
    "start_time": "2024-10-07T04:09:29.384Z"
   },
   {
    "duration": 4,
    "start_time": "2024-10-07T04:09:29.394Z"
   },
   {
    "duration": 6,
    "start_time": "2024-10-07T04:09:29.399Z"
   },
   {
    "duration": 3,
    "start_time": "2024-10-07T04:09:29.407Z"
   },
   {
    "duration": 8,
    "start_time": "2024-10-07T04:09:29.412Z"
   },
   {
    "duration": 6,
    "start_time": "2024-10-07T04:09:29.421Z"
   },
   {
    "duration": 44,
    "start_time": "2024-10-07T04:09:29.429Z"
   },
   {
    "duration": 3,
    "start_time": "2024-10-07T04:09:29.474Z"
   },
   {
    "duration": 3,
    "start_time": "2024-10-07T04:09:29.479Z"
   },
   {
    "duration": 14,
    "start_time": "2024-10-07T04:09:29.484Z"
   },
   {
    "duration": 8,
    "start_time": "2024-10-07T04:09:29.500Z"
   },
   {
    "duration": 3,
    "start_time": "2024-10-07T04:09:29.511Z"
   },
   {
    "duration": 4,
    "start_time": "2024-10-07T04:09:29.516Z"
   },
   {
    "duration": 3,
    "start_time": "2024-10-07T04:09:29.522Z"
   },
   {
    "duration": 10,
    "start_time": "2024-10-07T04:09:58.453Z"
   },
   {
    "duration": 6,
    "start_time": "2024-10-07T04:18:03.748Z"
   },
   {
    "duration": 217,
    "start_time": "2024-10-07T04:22:02.735Z"
   },
   {
    "duration": 3,
    "start_time": "2024-10-07T04:22:19.666Z"
   },
   {
    "duration": 13,
    "start_time": "2024-10-07T04:24:53.274Z"
   },
   {
    "duration": 18,
    "start_time": "2024-10-07T04:25:06.545Z"
   },
   {
    "duration": 10,
    "start_time": "2024-10-07T04:25:31.604Z"
   },
   {
    "duration": 4,
    "start_time": "2024-10-07T04:28:42.323Z"
   },
   {
    "duration": 3,
    "start_time": "2024-10-07T04:28:50.784Z"
   },
   {
    "duration": 416,
    "start_time": "2024-10-07T04:31:37.574Z"
   },
   {
    "duration": 5,
    "start_time": "2024-10-07T04:31:50.022Z"
   },
   {
    "duration": 4,
    "start_time": "2024-10-07T04:32:09.967Z"
   },
   {
    "duration": 4,
    "start_time": "2024-10-07T04:33:05.138Z"
   },
   {
    "duration": 4,
    "start_time": "2024-10-07T04:33:20.858Z"
   },
   {
    "duration": 3,
    "start_time": "2024-10-07T04:33:29.393Z"
   },
   {
    "duration": 11,
    "start_time": "2024-10-07T04:34:14.349Z"
   },
   {
    "duration": 4,
    "start_time": "2024-10-07T04:36:27.184Z"
   },
   {
    "duration": 11,
    "start_time": "2024-10-07T04:36:54.661Z"
   },
   {
    "duration": 4,
    "start_time": "2024-10-07T04:42:09.772Z"
   },
   {
    "duration": 3,
    "start_time": "2024-10-07T04:42:40.923Z"
   },
   {
    "duration": 4,
    "start_time": "2024-10-07T04:43:24.864Z"
   },
   {
    "duration": 824,
    "start_time": "2024-10-07T04:45:16.394Z"
   },
   {
    "duration": 364,
    "start_time": "2024-10-07T04:45:17.220Z"
   },
   {
    "duration": 80,
    "start_time": "2024-10-07T04:45:17.586Z"
   },
   {
    "duration": 53,
    "start_time": "2024-10-07T04:45:17.671Z"
   },
   {
    "duration": 20,
    "start_time": "2024-10-07T04:45:17.726Z"
   },
   {
    "duration": 27,
    "start_time": "2024-10-07T04:45:17.748Z"
   },
   {
    "duration": 11,
    "start_time": "2024-10-07T04:45:17.776Z"
   },
   {
    "duration": 16,
    "start_time": "2024-10-07T04:45:17.788Z"
   },
   {
    "duration": 3,
    "start_time": "2024-10-07T04:45:17.805Z"
   },
   {
    "duration": 280,
    "start_time": "2024-10-07T04:45:17.811Z"
   },
   {
    "duration": 246,
    "start_time": "2024-10-07T04:45:18.092Z"
   },
   {
    "duration": 172,
    "start_time": "2024-10-07T04:45:18.341Z"
   },
   {
    "duration": 162,
    "start_time": "2024-10-07T04:45:18.515Z"
   },
   {
    "duration": 484,
    "start_time": "2024-10-07T04:45:18.679Z"
   },
   {
    "duration": 8,
    "start_time": "2024-10-07T04:45:19.164Z"
   },
   {
    "duration": 16,
    "start_time": "2024-10-07T04:45:19.174Z"
   },
   {
    "duration": 3,
    "start_time": "2024-10-07T04:45:19.192Z"
   },
   {
    "duration": 109,
    "start_time": "2024-10-07T04:45:19.198Z"
   },
   {
    "duration": 4,
    "start_time": "2024-10-07T04:45:19.309Z"
   },
   {
    "duration": 4,
    "start_time": "2024-10-07T04:45:19.314Z"
   },
   {
    "duration": 215,
    "start_time": "2024-10-07T04:45:19.320Z"
   },
   {
    "duration": 13062,
    "start_time": "2024-10-07T04:45:19.537Z"
   },
   {
    "duration": 4,
    "start_time": "2024-10-07T04:45:32.601Z"
   },
   {
    "duration": 26,
    "start_time": "2024-10-07T04:45:32.608Z"
   },
   {
    "duration": 78,
    "start_time": "2024-10-07T04:45:32.635Z"
   },
   {
    "duration": 31,
    "start_time": "2024-10-07T04:45:32.714Z"
   },
   {
    "duration": 6,
    "start_time": "2024-10-07T04:45:32.747Z"
   },
   {
    "duration": 4,
    "start_time": "2024-10-07T04:45:32.771Z"
   },
   {
    "duration": 7,
    "start_time": "2024-10-07T04:45:32.776Z"
   },
   {
    "duration": 4,
    "start_time": "2024-10-07T04:45:32.784Z"
   },
   {
    "duration": 7,
    "start_time": "2024-10-07T04:45:32.789Z"
   },
   {
    "duration": 5,
    "start_time": "2024-10-07T04:45:32.798Z"
   },
   {
    "duration": 6,
    "start_time": "2024-10-07T04:45:32.805Z"
   },
   {
    "duration": 3,
    "start_time": "2024-10-07T04:45:32.813Z"
   },
   {
    "duration": 3,
    "start_time": "2024-10-07T04:45:32.818Z"
   },
   {
    "duration": 61,
    "start_time": "2024-10-07T04:45:32.822Z"
   },
   {
    "duration": 3,
    "start_time": "2024-10-07T04:45:32.885Z"
   },
   {
    "duration": 5,
    "start_time": "2024-10-07T04:45:32.890Z"
   },
   {
    "duration": 3,
    "start_time": "2024-10-07T04:45:32.896Z"
   },
   {
    "duration": 9,
    "start_time": "2024-10-07T04:45:32.901Z"
   },
   {
    "duration": 13,
    "start_time": "2024-10-07T04:45:32.911Z"
   },
   {
    "duration": 5,
    "start_time": "2024-10-07T04:45:32.925Z"
   },
   {
    "duration": 47,
    "start_time": "2024-10-07T04:45:32.932Z"
   },
   {
    "duration": 3,
    "start_time": "2024-10-07T04:45:32.982Z"
   },
   {
    "duration": 11,
    "start_time": "2024-10-07T04:45:32.987Z"
   },
   {
    "duration": 4,
    "start_time": "2024-10-07T04:45:32.999Z"
   },
   {
    "duration": 10,
    "start_time": "2024-10-07T04:45:33.005Z"
   },
   {
    "duration": 10,
    "start_time": "2024-10-07T15:10:43.848Z"
   },
   {
    "duration": 7,
    "start_time": "2024-10-08T02:26:39.410Z"
   },
   {
    "duration": 0,
    "start_time": "2024-10-08T02:26:39.419Z"
   },
   {
    "duration": 0,
    "start_time": "2024-10-08T02:26:39.420Z"
   },
   {
    "duration": 164,
    "start_time": "2024-10-08T02:26:39.423Z"
   },
   {
    "duration": 0,
    "start_time": "2024-10-08T02:26:39.591Z"
   },
   {
    "duration": 0,
    "start_time": "2024-10-08T02:26:39.592Z"
   },
   {
    "duration": 0,
    "start_time": "2024-10-08T02:26:39.594Z"
   },
   {
    "duration": 0,
    "start_time": "2024-10-08T02:26:39.595Z"
   },
   {
    "duration": 0,
    "start_time": "2024-10-08T02:26:39.597Z"
   },
   {
    "duration": 0,
    "start_time": "2024-10-08T02:26:39.598Z"
   },
   {
    "duration": 0,
    "start_time": "2024-10-08T02:26:39.599Z"
   },
   {
    "duration": 0,
    "start_time": "2024-10-08T02:26:39.601Z"
   },
   {
    "duration": 0,
    "start_time": "2024-10-08T02:26:39.602Z"
   },
   {
    "duration": 0,
    "start_time": "2024-10-08T02:26:39.603Z"
   },
   {
    "duration": 0,
    "start_time": "2024-10-08T02:26:39.605Z"
   },
   {
    "duration": 0,
    "start_time": "2024-10-08T02:26:39.607Z"
   },
   {
    "duration": 0,
    "start_time": "2024-10-08T02:26:39.608Z"
   },
   {
    "duration": 0,
    "start_time": "2024-10-08T02:26:39.610Z"
   },
   {
    "duration": 0,
    "start_time": "2024-10-08T02:26:39.611Z"
   },
   {
    "duration": 0,
    "start_time": "2024-10-08T02:26:39.612Z"
   },
   {
    "duration": 0,
    "start_time": "2024-10-08T02:26:39.613Z"
   },
   {
    "duration": 0,
    "start_time": "2024-10-08T02:26:39.615Z"
   },
   {
    "duration": 0,
    "start_time": "2024-10-08T02:26:39.616Z"
   },
   {
    "duration": 0,
    "start_time": "2024-10-08T02:26:39.617Z"
   },
   {
    "duration": 0,
    "start_time": "2024-10-08T02:26:39.618Z"
   },
   {
    "duration": 0,
    "start_time": "2024-10-08T02:26:39.620Z"
   },
   {
    "duration": 0,
    "start_time": "2024-10-08T02:26:39.621Z"
   },
   {
    "duration": 0,
    "start_time": "2024-10-08T02:26:39.670Z"
   },
   {
    "duration": 0,
    "start_time": "2024-10-08T02:26:39.671Z"
   },
   {
    "duration": 0,
    "start_time": "2024-10-08T02:26:39.673Z"
   },
   {
    "duration": 0,
    "start_time": "2024-10-08T02:26:39.674Z"
   },
   {
    "duration": 0,
    "start_time": "2024-10-08T02:26:39.675Z"
   },
   {
    "duration": 0,
    "start_time": "2024-10-08T02:26:39.676Z"
   },
   {
    "duration": 0,
    "start_time": "2024-10-08T02:26:39.677Z"
   },
   {
    "duration": 0,
    "start_time": "2024-10-08T02:26:39.678Z"
   },
   {
    "duration": 0,
    "start_time": "2024-10-08T02:26:39.679Z"
   },
   {
    "duration": 0,
    "start_time": "2024-10-08T02:26:39.680Z"
   },
   {
    "duration": 0,
    "start_time": "2024-10-08T02:26:39.681Z"
   },
   {
    "duration": 0,
    "start_time": "2024-10-08T02:26:39.682Z"
   },
   {
    "duration": 0,
    "start_time": "2024-10-08T02:26:39.683Z"
   },
   {
    "duration": 0,
    "start_time": "2024-10-08T02:26:39.685Z"
   },
   {
    "duration": 0,
    "start_time": "2024-10-08T02:26:39.687Z"
   },
   {
    "duration": 0,
    "start_time": "2024-10-08T02:26:39.688Z"
   },
   {
    "duration": 0,
    "start_time": "2024-10-08T02:26:39.690Z"
   },
   {
    "duration": 0,
    "start_time": "2024-10-08T02:26:39.693Z"
   },
   {
    "duration": 0,
    "start_time": "2024-10-08T02:26:39.694Z"
   },
   {
    "duration": 0,
    "start_time": "2024-10-08T02:26:39.695Z"
   },
   {
    "duration": 0,
    "start_time": "2024-10-08T02:26:39.696Z"
   },
   {
    "duration": 2561,
    "start_time": "2024-10-08T02:28:51.263Z"
   },
   {
    "duration": 473,
    "start_time": "2024-10-08T02:28:53.827Z"
   },
   {
    "duration": 81,
    "start_time": "2024-10-08T02:28:54.301Z"
   },
   {
    "duration": 52,
    "start_time": "2024-10-08T02:28:54.383Z"
   },
   {
    "duration": 33,
    "start_time": "2024-10-08T02:28:54.438Z"
   },
   {
    "duration": 13,
    "start_time": "2024-10-08T02:28:54.473Z"
   },
   {
    "duration": 10,
    "start_time": "2024-10-08T02:28:54.488Z"
   },
   {
    "duration": 16,
    "start_time": "2024-10-08T02:28:54.500Z"
   },
   {
    "duration": 3,
    "start_time": "2024-10-08T02:28:54.518Z"
   },
   {
    "duration": 281,
    "start_time": "2024-10-08T02:28:54.522Z"
   },
   {
    "duration": 246,
    "start_time": "2024-10-08T02:28:54.805Z"
   },
   {
    "duration": 173,
    "start_time": "2024-10-08T02:28:55.052Z"
   },
   {
    "duration": 120,
    "start_time": "2024-10-08T02:28:55.226Z"
   },
   {
    "duration": 519,
    "start_time": "2024-10-08T02:28:55.351Z"
   },
   {
    "duration": 4,
    "start_time": "2024-10-08T02:28:55.871Z"
   },
   {
    "duration": 18,
    "start_time": "2024-10-08T02:28:55.877Z"
   },
   {
    "duration": 4,
    "start_time": "2024-10-08T02:28:55.896Z"
   },
   {
    "duration": 346,
    "start_time": "2024-10-08T02:28:55.901Z"
   },
   {
    "duration": 0,
    "start_time": "2024-10-08T02:28:56.249Z"
   },
   {
    "duration": 0,
    "start_time": "2024-10-08T02:28:56.250Z"
   },
   {
    "duration": 0,
    "start_time": "2024-10-08T02:28:56.252Z"
   },
   {
    "duration": 0,
    "start_time": "2024-10-08T02:28:56.253Z"
   },
   {
    "duration": 0,
    "start_time": "2024-10-08T02:28:56.255Z"
   },
   {
    "duration": 0,
    "start_time": "2024-10-08T02:28:56.256Z"
   },
   {
    "duration": 0,
    "start_time": "2024-10-08T02:28:56.270Z"
   },
   {
    "duration": 0,
    "start_time": "2024-10-08T02:28:56.272Z"
   },
   {
    "duration": 0,
    "start_time": "2024-10-08T02:28:56.273Z"
   },
   {
    "duration": 0,
    "start_time": "2024-10-08T02:28:56.275Z"
   },
   {
    "duration": 0,
    "start_time": "2024-10-08T02:28:56.276Z"
   },
   {
    "duration": 0,
    "start_time": "2024-10-08T02:28:56.278Z"
   },
   {
    "duration": 0,
    "start_time": "2024-10-08T02:28:56.279Z"
   },
   {
    "duration": 0,
    "start_time": "2024-10-08T02:28:56.281Z"
   },
   {
    "duration": 0,
    "start_time": "2024-10-08T02:28:56.282Z"
   },
   {
    "duration": 0,
    "start_time": "2024-10-08T02:28:56.284Z"
   },
   {
    "duration": 0,
    "start_time": "2024-10-08T02:28:56.285Z"
   },
   {
    "duration": 0,
    "start_time": "2024-10-08T02:28:56.286Z"
   },
   {
    "duration": 0,
    "start_time": "2024-10-08T02:28:56.287Z"
   },
   {
    "duration": 0,
    "start_time": "2024-10-08T02:28:56.289Z"
   },
   {
    "duration": 0,
    "start_time": "2024-10-08T02:28:56.290Z"
   },
   {
    "duration": 0,
    "start_time": "2024-10-08T02:28:56.291Z"
   },
   {
    "duration": 0,
    "start_time": "2024-10-08T02:28:56.293Z"
   },
   {
    "duration": 0,
    "start_time": "2024-10-08T02:28:56.295Z"
   },
   {
    "duration": 0,
    "start_time": "2024-10-08T02:28:56.296Z"
   },
   {
    "duration": 0,
    "start_time": "2024-10-08T02:28:56.298Z"
   },
   {
    "duration": 0,
    "start_time": "2024-10-08T02:28:56.299Z"
   },
   {
    "duration": 0,
    "start_time": "2024-10-08T02:28:56.300Z"
   },
   {
    "duration": 0,
    "start_time": "2024-10-08T02:28:56.301Z"
   },
   {
    "duration": 49,
    "start_time": "2024-10-08T02:32:54.390Z"
   },
   {
    "duration": 3,
    "start_time": "2024-10-08T02:33:48.427Z"
   },
   {
    "duration": 4,
    "start_time": "2024-10-08T02:33:49.469Z"
   },
   {
    "duration": 5,
    "start_time": "2024-10-08T02:33:53.282Z"
   },
   {
    "duration": 186,
    "start_time": "2024-10-08T02:35:04.778Z"
   },
   {
    "duration": 298,
    "start_time": "2024-10-08T02:35:07.071Z"
   },
   {
    "duration": 178,
    "start_time": "2024-10-08T02:35:13.564Z"
   },
   {
    "duration": 48,
    "start_time": "2024-10-08T02:35:14.853Z"
   },
   {
    "duration": 233,
    "start_time": "2024-10-08T02:39:38.280Z"
   },
   {
    "duration": 175,
    "start_time": "2024-10-08T02:39:41.823Z"
   },
   {
    "duration": 308,
    "start_time": "2024-10-08T02:40:28.073Z"
   },
   {
    "duration": 205,
    "start_time": "2024-10-08T02:40:32.119Z"
   },
   {
    "duration": 832,
    "start_time": "2024-10-08T02:40:44.964Z"
   },
   {
    "duration": 354,
    "start_time": "2024-10-08T02:40:45.799Z"
   },
   {
    "duration": 76,
    "start_time": "2024-10-08T02:40:46.155Z"
   },
   {
    "duration": 67,
    "start_time": "2024-10-08T02:40:46.233Z"
   },
   {
    "duration": 24,
    "start_time": "2024-10-08T02:40:46.304Z"
   },
   {
    "duration": 14,
    "start_time": "2024-10-08T02:40:46.330Z"
   },
   {
    "duration": 29,
    "start_time": "2024-10-08T02:40:46.346Z"
   },
   {
    "duration": 16,
    "start_time": "2024-10-08T02:40:46.377Z"
   },
   {
    "duration": 3,
    "start_time": "2024-10-08T02:40:46.395Z"
   },
   {
    "duration": 391,
    "start_time": "2024-10-08T02:40:46.399Z"
   },
   {
    "duration": 246,
    "start_time": "2024-10-08T02:40:46.792Z"
   },
   {
    "duration": 177,
    "start_time": "2024-10-08T02:40:47.040Z"
   },
   {
    "duration": 164,
    "start_time": "2024-10-08T02:40:47.219Z"
   },
   {
    "duration": 484,
    "start_time": "2024-10-08T02:40:47.387Z"
   },
   {
    "duration": 4,
    "start_time": "2024-10-08T02:40:47.873Z"
   },
   {
    "duration": 17,
    "start_time": "2024-10-08T02:40:47.879Z"
   },
   {
    "duration": 4,
    "start_time": "2024-10-08T02:40:47.898Z"
   },
   {
    "duration": 119,
    "start_time": "2024-10-08T02:40:47.904Z"
   },
   {
    "duration": 3,
    "start_time": "2024-10-08T02:40:48.025Z"
   },
   {
    "duration": 4,
    "start_time": "2024-10-08T02:40:48.030Z"
   },
   {
    "duration": 5,
    "start_time": "2024-10-08T02:40:48.035Z"
   },
   {
    "duration": 223,
    "start_time": "2024-10-08T02:40:48.041Z"
   },
   {
    "duration": 13311,
    "start_time": "2024-10-08T02:40:48.266Z"
   },
   {
    "duration": 4,
    "start_time": "2024-10-08T02:41:01.578Z"
   },
   {
    "duration": 25,
    "start_time": "2024-10-08T02:41:01.584Z"
   },
   {
    "duration": 87,
    "start_time": "2024-10-08T02:41:01.611Z"
   },
   {
    "duration": 35,
    "start_time": "2024-10-08T02:41:01.702Z"
   },
   {
    "duration": 7,
    "start_time": "2024-10-08T02:41:01.739Z"
   },
   {
    "duration": 22,
    "start_time": "2024-10-08T02:41:01.748Z"
   },
   {
    "duration": 7,
    "start_time": "2024-10-08T02:41:01.772Z"
   },
   {
    "duration": 3,
    "start_time": "2024-10-08T02:41:01.781Z"
   },
   {
    "duration": 8,
    "start_time": "2024-10-08T02:41:01.787Z"
   },
   {
    "duration": 6,
    "start_time": "2024-10-08T02:41:01.796Z"
   },
   {
    "duration": 3,
    "start_time": "2024-10-08T02:41:01.804Z"
   },
   {
    "duration": 3,
    "start_time": "2024-10-08T02:41:01.809Z"
   },
   {
    "duration": 16,
    "start_time": "2024-10-08T02:41:01.813Z"
   },
   {
    "duration": 42,
    "start_time": "2024-10-08T02:41:01.830Z"
   },
   {
    "duration": 5,
    "start_time": "2024-10-08T02:41:01.874Z"
   },
   {
    "duration": 4,
    "start_time": "2024-10-08T02:41:01.881Z"
   },
   {
    "duration": 14,
    "start_time": "2024-10-08T02:41:01.886Z"
   },
   {
    "duration": 15,
    "start_time": "2024-10-08T02:41:01.905Z"
   },
   {
    "duration": 4,
    "start_time": "2024-10-08T02:41:01.922Z"
   },
   {
    "duration": 55,
    "start_time": "2024-10-08T02:41:01.928Z"
   },
   {
    "duration": 4,
    "start_time": "2024-10-08T02:41:01.985Z"
   },
   {
    "duration": 14,
    "start_time": "2024-10-08T02:41:01.991Z"
   },
   {
    "duration": 4,
    "start_time": "2024-10-08T02:41:02.006Z"
   },
   {
    "duration": 11,
    "start_time": "2024-10-08T02:41:02.012Z"
   },
   {
    "duration": 623,
    "start_time": "2024-10-08T02:47:28.654Z"
   },
   {
    "duration": 5,
    "start_time": "2024-10-08T02:47:48.106Z"
   },
   {
    "duration": 5,
    "start_time": "2024-10-08T02:54:49.744Z"
   },
   {
    "duration": 8,
    "start_time": "2024-10-08T02:55:11.145Z"
   },
   {
    "duration": 5,
    "start_time": "2024-10-08T02:55:44.482Z"
   },
   {
    "duration": 4,
    "start_time": "2024-10-08T02:56:05.271Z"
   },
   {
    "duration": 5,
    "start_time": "2024-10-08T02:56:26.620Z"
   },
   {
    "duration": 4,
    "start_time": "2024-10-08T02:58:50.136Z"
   },
   {
    "duration": 29,
    "start_time": "2024-10-08T03:00:30.270Z"
   },
   {
    "duration": 13,
    "start_time": "2024-10-08T03:01:01.689Z"
   },
   {
    "duration": 8522,
    "start_time": "2024-10-08T03:02:00.420Z"
   },
   {
    "duration": 6,
    "start_time": "2024-10-08T03:03:21.002Z"
   },
   {
    "duration": 38,
    "start_time": "2024-10-08T03:06:30.192Z"
   },
   {
    "duration": 8594,
    "start_time": "2024-10-08T03:06:31.416Z"
   },
   {
    "duration": 4,
    "start_time": "2024-10-08T03:06:59.930Z"
   },
   {
    "duration": 34,
    "start_time": "2024-10-08T03:07:06.782Z"
   },
   {
    "duration": 272,
    "start_time": "2024-10-08T03:07:09.995Z"
   },
   {
    "duration": 38,
    "start_time": "2024-10-08T03:07:41.900Z"
   },
   {
    "duration": 180,
    "start_time": "2024-10-08T03:07:48.089Z"
   },
   {
    "duration": 22,
    "start_time": "2024-10-08T03:08:26.767Z"
   },
   {
    "duration": 180,
    "start_time": "2024-10-08T03:08:28.069Z"
   },
   {
    "duration": 20,
    "start_time": "2024-10-08T03:08:49.164Z"
   },
   {
    "duration": 171,
    "start_time": "2024-10-08T03:08:50.385Z"
   },
   {
    "duration": 19,
    "start_time": "2024-10-08T03:09:42.984Z"
   },
   {
    "duration": 303,
    "start_time": "2024-10-08T03:10:12.981Z"
   },
   {
    "duration": 187,
    "start_time": "2024-10-08T03:10:51.649Z"
   },
   {
    "duration": 788,
    "start_time": "2024-10-08T03:11:34.724Z"
   },
   {
    "duration": 360,
    "start_time": "2024-10-08T03:11:35.514Z"
   },
   {
    "duration": 79,
    "start_time": "2024-10-08T03:11:35.876Z"
   },
   {
    "duration": 66,
    "start_time": "2024-10-08T03:11:35.958Z"
   },
   {
    "duration": 32,
    "start_time": "2024-10-08T03:11:36.026Z"
   },
   {
    "duration": 24,
    "start_time": "2024-10-08T03:11:36.061Z"
   },
   {
    "duration": 13,
    "start_time": "2024-10-08T03:11:36.087Z"
   },
   {
    "duration": 16,
    "start_time": "2024-10-08T03:11:36.101Z"
   },
   {
    "duration": 4,
    "start_time": "2024-10-08T03:11:36.118Z"
   },
   {
    "duration": 377,
    "start_time": "2024-10-08T03:11:36.126Z"
   },
   {
    "duration": 4,
    "start_time": "2024-10-08T03:11:36.505Z"
   },
   {
    "duration": 274,
    "start_time": "2024-10-08T03:11:36.511Z"
   },
   {
    "duration": 174,
    "start_time": "2024-10-08T03:11:36.787Z"
   },
   {
    "duration": 153,
    "start_time": "2024-10-08T03:11:36.962Z"
   },
   {
    "duration": 4,
    "start_time": "2024-10-08T03:11:37.117Z"
   },
   {
    "duration": 510,
    "start_time": "2024-10-08T03:11:37.123Z"
   },
   {
    "duration": 5,
    "start_time": "2024-10-08T03:11:37.634Z"
   },
   {
    "duration": 30,
    "start_time": "2024-10-08T03:11:37.640Z"
   },
   {
    "duration": 6,
    "start_time": "2024-10-08T03:11:37.672Z"
   },
   {
    "duration": 5,
    "start_time": "2024-10-08T03:11:37.682Z"
   },
   {
    "duration": 30,
    "start_time": "2024-10-08T03:11:37.689Z"
   },
   {
    "duration": 6,
    "start_time": "2024-10-08T03:11:37.722Z"
   },
   {
    "duration": 8343,
    "start_time": "2024-10-08T03:11:37.730Z"
   },
   {
    "duration": 111,
    "start_time": "2024-10-08T03:11:46.075Z"
   },
   {
    "duration": 4,
    "start_time": "2024-10-08T03:11:46.189Z"
   },
   {
    "duration": 4,
    "start_time": "2024-10-08T03:11:46.194Z"
   },
   {
    "duration": 4,
    "start_time": "2024-10-08T03:11:46.200Z"
   },
   {
    "duration": 238,
    "start_time": "2024-10-08T03:11:46.208Z"
   },
   {
    "duration": 13789,
    "start_time": "2024-10-08T03:11:46.448Z"
   },
   {
    "duration": 3,
    "start_time": "2024-10-08T03:12:00.239Z"
   },
   {
    "duration": 37,
    "start_time": "2024-10-08T03:12:00.244Z"
   },
   {
    "duration": 61,
    "start_time": "2024-10-08T03:12:00.282Z"
   },
   {
    "duration": 43,
    "start_time": "2024-10-08T03:12:00.345Z"
   },
   {
    "duration": 7,
    "start_time": "2024-10-08T03:12:00.390Z"
   },
   {
    "duration": 4,
    "start_time": "2024-10-08T03:12:00.399Z"
   },
   {
    "duration": 7,
    "start_time": "2024-10-08T03:12:00.405Z"
   },
   {
    "duration": 4,
    "start_time": "2024-10-08T03:12:00.413Z"
   },
   {
    "duration": 7,
    "start_time": "2024-10-08T03:12:00.419Z"
   },
   {
    "duration": 6,
    "start_time": "2024-10-08T03:12:00.428Z"
   },
   {
    "duration": 3,
    "start_time": "2024-10-08T03:12:00.471Z"
   },
   {
    "duration": 3,
    "start_time": "2024-10-08T03:12:00.475Z"
   },
   {
    "duration": 15,
    "start_time": "2024-10-08T03:12:00.479Z"
   },
   {
    "duration": 3,
    "start_time": "2024-10-08T03:12:00.495Z"
   },
   {
    "duration": 4,
    "start_time": "2024-10-08T03:12:00.500Z"
   },
   {
    "duration": 3,
    "start_time": "2024-10-08T03:12:00.506Z"
   },
   {
    "duration": 8,
    "start_time": "2024-10-08T03:12:00.511Z"
   },
   {
    "duration": 49,
    "start_time": "2024-10-08T03:12:00.521Z"
   },
   {
    "duration": 4,
    "start_time": "2024-10-08T03:12:00.572Z"
   },
   {
    "duration": 10,
    "start_time": "2024-10-08T03:12:00.577Z"
   },
   {
    "duration": 3,
    "start_time": "2024-10-08T03:12:00.589Z"
   },
   {
    "duration": 10,
    "start_time": "2024-10-08T03:12:00.594Z"
   },
   {
    "duration": 3,
    "start_time": "2024-10-08T03:12:00.606Z"
   },
   {
    "duration": 11,
    "start_time": "2024-10-08T03:12:00.611Z"
   },
   {
    "duration": 6848,
    "start_time": "2024-10-08T03:13:09.738Z"
   },
   {
    "duration": 536,
    "start_time": "2024-10-08T03:13:38.321Z"
   },
   {
    "duration": 10,
    "start_time": "2024-10-08T03:14:22.726Z"
   },
   {
    "duration": 166,
    "start_time": "2024-10-08T03:14:24.210Z"
   },
   {
    "duration": 3,
    "start_time": "2024-10-08T03:15:26.497Z"
   },
   {
    "duration": 184,
    "start_time": "2024-10-08T03:15:28.430Z"
   },
   {
    "duration": 7634,
    "start_time": "2024-10-08T03:15:42.843Z"
   },
   {
    "duration": 179,
    "start_time": "2024-10-08T03:16:11.834Z"
   },
   {
    "duration": 11,
    "start_time": "2024-10-08T03:16:30.275Z"
   },
   {
    "duration": 171,
    "start_time": "2024-10-08T03:16:31.354Z"
   },
   {
    "duration": 7,
    "start_time": "2024-10-08T03:19:38.075Z"
   },
   {
    "duration": 174,
    "start_time": "2024-10-08T03:19:39.195Z"
   },
   {
    "duration": 14,
    "start_time": "2024-10-08T03:20:00.212Z"
   },
   {
    "duration": 4,
    "start_time": "2024-10-08T03:24:40.586Z"
   },
   {
    "duration": 9,
    "start_time": "2024-10-08T03:25:01.637Z"
   },
   {
    "duration": 163,
    "start_time": "2024-10-08T03:26:04.101Z"
   },
   {
    "duration": 39,
    "start_time": "2024-10-08T03:27:04.973Z"
   },
   {
    "duration": 39,
    "start_time": "2024-10-08T03:27:28.049Z"
   },
   {
    "duration": 482,
    "start_time": "2024-10-08T03:36:14.663Z"
   },
   {
    "duration": 447,
    "start_time": "2024-10-08T03:36:55.487Z"
   },
   {
    "duration": 4745,
    "start_time": "2024-10-08T03:38:28.796Z"
   },
   {
    "duration": 463,
    "start_time": "2024-10-08T03:39:58.748Z"
   },
   {
    "duration": 15,
    "start_time": "2024-10-08T03:41:20.010Z"
   },
   {
    "duration": 10,
    "start_time": "2024-10-08T03:45:52.491Z"
   },
   {
    "duration": 13,
    "start_time": "2024-10-08T03:48:27.441Z"
   },
   {
    "duration": 561,
    "start_time": "2024-10-08T04:06:16.257Z"
   },
   {
    "duration": 56,
    "start_time": "2024-10-08T04:13:15.290Z"
   },
   {
    "duration": 103,
    "start_time": "2024-10-08T04:15:29.426Z"
   },
   {
    "duration": 23,
    "start_time": "2024-10-08T04:19:53.451Z"
   },
   {
    "duration": 55,
    "start_time": "2024-10-08T04:19:54.635Z"
   },
   {
    "duration": 3,
    "start_time": "2024-10-08T04:19:56.019Z"
   },
   {
    "duration": 134,
    "start_time": "2024-10-08T04:21:25.138Z"
   },
   {
    "duration": 107,
    "start_time": "2024-10-08T04:21:35.478Z"
   },
   {
    "duration": 9,
    "start_time": "2024-10-08T04:22:02.505Z"
   },
   {
    "duration": 190,
    "start_time": "2024-10-08T04:25:00.083Z"
   },
   {
    "duration": 16,
    "start_time": "2024-10-08T04:27:21.007Z"
   },
   {
    "duration": 16,
    "start_time": "2024-10-08T04:28:47.060Z"
   },
   {
    "duration": 15,
    "start_time": "2024-10-08T04:29:01.685Z"
   },
   {
    "duration": 40,
    "start_time": "2024-10-08T04:29:28.736Z"
   },
   {
    "duration": 4,
    "start_time": "2024-10-08T04:31:27.579Z"
   },
   {
    "duration": 6,
    "start_time": "2024-10-08T04:31:35.127Z"
   },
   {
    "duration": 41,
    "start_time": "2024-10-08T04:31:38.183Z"
   },
   {
    "duration": 11,
    "start_time": "2024-10-08T04:32:02.192Z"
   },
   {
    "duration": 14,
    "start_time": "2024-10-08T04:40:13.477Z"
   },
   {
    "duration": 41,
    "start_time": "2024-10-08T04:40:35.390Z"
   },
   {
    "duration": 17,
    "start_time": "2024-10-08T04:41:21.270Z"
   },
   {
    "duration": 4,
    "start_time": "2024-10-08T04:44:16.058Z"
   },
   {
    "duration": 13,
    "start_time": "2024-10-08T04:44:30.251Z"
   },
   {
    "duration": 13,
    "start_time": "2024-10-08T04:44:42.311Z"
   },
   {
    "duration": 17,
    "start_time": "2024-10-08T04:44:43.808Z"
   },
   {
    "duration": 3,
    "start_time": "2024-10-08T04:46:16.395Z"
   },
   {
    "duration": 14,
    "start_time": "2024-10-08T04:47:16.040Z"
   },
   {
    "duration": 20,
    "start_time": "2024-10-08T04:48:48.410Z"
   },
   {
    "duration": 46,
    "start_time": "2024-10-08T04:50:44.276Z"
   },
   {
    "duration": 15,
    "start_time": "2024-10-08T04:50:46.576Z"
   },
   {
    "duration": 4,
    "start_time": "2024-10-08T05:15:14.873Z"
   },
   {
    "duration": 4,
    "start_time": "2024-10-08T05:15:53.159Z"
   },
   {
    "duration": 340,
    "start_time": "2024-10-08T05:16:10.074Z"
   },
   {
    "duration": 39,
    "start_time": "2024-10-08T05:16:34.704Z"
   },
   {
    "duration": 12,
    "start_time": "2024-10-08T05:18:54.995Z"
   },
   {
    "duration": 38,
    "start_time": "2024-10-08T05:20:14.567Z"
   },
   {
    "duration": 815,
    "start_time": "2024-10-08T05:20:27.166Z"
   },
   {
    "duration": 353,
    "start_time": "2024-10-08T05:20:27.984Z"
   },
   {
    "duration": 78,
    "start_time": "2024-10-08T05:20:28.339Z"
   },
   {
    "duration": 65,
    "start_time": "2024-10-08T05:20:28.419Z"
   },
   {
    "duration": 20,
    "start_time": "2024-10-08T05:20:28.487Z"
   },
   {
    "duration": 11,
    "start_time": "2024-10-08T05:20:28.508Z"
   },
   {
    "duration": 11,
    "start_time": "2024-10-08T05:20:28.520Z"
   },
   {
    "duration": 40,
    "start_time": "2024-10-08T05:20:28.533Z"
   },
   {
    "duration": 3,
    "start_time": "2024-10-08T05:20:28.575Z"
   },
   {
    "duration": 368,
    "start_time": "2024-10-08T05:20:28.580Z"
   },
   {
    "duration": 4,
    "start_time": "2024-10-08T05:20:28.950Z"
   },
   {
    "duration": 239,
    "start_time": "2024-10-08T05:20:28.956Z"
   },
   {
    "duration": 167,
    "start_time": "2024-10-08T05:20:29.196Z"
   },
   {
    "duration": 157,
    "start_time": "2024-10-08T05:20:29.369Z"
   },
   {
    "duration": 5,
    "start_time": "2024-10-08T05:20:29.528Z"
   },
   {
    "duration": 497,
    "start_time": "2024-10-08T05:20:29.535Z"
   },
   {
    "duration": 5,
    "start_time": "2024-10-08T05:20:30.034Z"
   },
   {
    "duration": 33,
    "start_time": "2024-10-08T05:20:30.041Z"
   },
   {
    "duration": 8,
    "start_time": "2024-10-08T05:20:30.075Z"
   },
   {
    "duration": 4,
    "start_time": "2024-10-08T05:20:30.084Z"
   },
   {
    "duration": 27,
    "start_time": "2024-10-08T05:20:30.090Z"
   },
   {
    "duration": 7,
    "start_time": "2024-10-08T05:20:30.119Z"
   },
   {
    "duration": 8,
    "start_time": "2024-10-08T05:20:30.127Z"
   },
   {
    "duration": 465,
    "start_time": "2024-10-08T05:20:30.170Z"
   },
   {
    "duration": 92,
    "start_time": "2024-10-08T05:20:30.637Z"
   },
   {
    "duration": 15,
    "start_time": "2024-10-08T05:20:30.731Z"
   },
   {
    "duration": 30,
    "start_time": "2024-10-08T05:20:30.748Z"
   },
   {
    "duration": 6,
    "start_time": "2024-10-08T05:20:30.780Z"
   },
   {
    "duration": 216,
    "start_time": "2024-10-08T05:20:30.788Z"
   },
   {
    "duration": 13264,
    "start_time": "2024-10-08T05:20:31.006Z"
   },
   {
    "duration": 3,
    "start_time": "2024-10-08T05:20:44.272Z"
   },
   {
    "duration": 22,
    "start_time": "2024-10-08T05:20:44.277Z"
   },
   {
    "duration": 424,
    "start_time": "2024-10-08T05:20:44.301Z"
   },
   {
    "duration": 0,
    "start_time": "2024-10-08T05:20:44.728Z"
   },
   {
    "duration": 0,
    "start_time": "2024-10-08T05:20:44.730Z"
   },
   {
    "duration": 0,
    "start_time": "2024-10-08T05:20:44.731Z"
   },
   {
    "duration": 0,
    "start_time": "2024-10-08T05:20:44.733Z"
   },
   {
    "duration": 0,
    "start_time": "2024-10-08T05:20:44.734Z"
   },
   {
    "duration": 0,
    "start_time": "2024-10-08T05:20:44.735Z"
   },
   {
    "duration": 0,
    "start_time": "2024-10-08T05:20:44.736Z"
   },
   {
    "duration": 0,
    "start_time": "2024-10-08T05:20:44.737Z"
   },
   {
    "duration": 0,
    "start_time": "2024-10-08T05:20:44.738Z"
   },
   {
    "duration": 0,
    "start_time": "2024-10-08T05:20:44.740Z"
   },
   {
    "duration": 0,
    "start_time": "2024-10-08T05:20:44.740Z"
   },
   {
    "duration": 0,
    "start_time": "2024-10-08T05:20:44.741Z"
   },
   {
    "duration": 0,
    "start_time": "2024-10-08T05:20:44.742Z"
   },
   {
    "duration": 0,
    "start_time": "2024-10-08T05:20:44.743Z"
   },
   {
    "duration": 0,
    "start_time": "2024-10-08T05:20:44.744Z"
   },
   {
    "duration": 0,
    "start_time": "2024-10-08T05:20:44.772Z"
   },
   {
    "duration": 0,
    "start_time": "2024-10-08T05:20:44.773Z"
   },
   {
    "duration": 0,
    "start_time": "2024-10-08T05:20:44.774Z"
   },
   {
    "duration": 0,
    "start_time": "2024-10-08T05:20:44.775Z"
   },
   {
    "duration": 0,
    "start_time": "2024-10-08T05:20:44.777Z"
   },
   {
    "duration": 0,
    "start_time": "2024-10-08T05:20:44.778Z"
   },
   {
    "duration": 0,
    "start_time": "2024-10-08T05:20:44.779Z"
   },
   {
    "duration": 0,
    "start_time": "2024-10-08T05:20:44.780Z"
   },
   {
    "duration": 0,
    "start_time": "2024-10-08T05:20:44.781Z"
   },
   {
    "duration": 0,
    "start_time": "2024-10-08T05:20:44.782Z"
   },
   {
    "duration": 0,
    "start_time": "2024-10-08T05:20:44.782Z"
   },
   {
    "duration": 0,
    "start_time": "2024-10-08T05:20:44.783Z"
   },
   {
    "duration": 0,
    "start_time": "2024-10-08T05:20:44.784Z"
   },
   {
    "duration": 0,
    "start_time": "2024-10-08T05:20:44.785Z"
   },
   {
    "duration": 0,
    "start_time": "2024-10-08T05:20:44.786Z"
   },
   {
    "duration": 55,
    "start_time": "2024-10-08T05:22:16.658Z"
   },
   {
    "duration": 104,
    "start_time": "2024-10-08T05:22:18.411Z"
   },
   {
    "duration": 6,
    "start_time": "2024-10-08T05:22:19.266Z"
   },
   {
    "duration": 10,
    "start_time": "2024-10-08T05:22:20.508Z"
   },
   {
    "duration": 73,
    "start_time": "2024-10-08T05:22:23.228Z"
   },
   {
    "duration": 12,
    "start_time": "2024-10-08T05:22:24.992Z"
   },
   {
    "duration": 412,
    "start_time": "2024-10-08T05:22:30.300Z"
   },
   {
    "duration": 7,
    "start_time": "2024-10-08T05:26:20.084Z"
   },
   {
    "duration": 12,
    "start_time": "2024-10-08T05:26:39.226Z"
   },
   {
    "duration": 14,
    "start_time": "2024-10-08T05:28:18.734Z"
   },
   {
    "duration": 15,
    "start_time": "2024-10-08T05:30:14.524Z"
   },
   {
    "duration": 14,
    "start_time": "2024-10-08T05:48:42.217Z"
   },
   {
    "duration": 59,
    "start_time": "2024-10-08T05:49:00.328Z"
   },
   {
    "duration": 760,
    "start_time": "2024-10-08T23:08:03.180Z"
   },
   {
    "duration": 471,
    "start_time": "2024-10-08T23:08:03.978Z"
   },
   {
    "duration": 81,
    "start_time": "2024-10-08T23:08:05.570Z"
   },
   {
    "duration": 58,
    "start_time": "2024-10-08T23:08:07.043Z"
   },
   {
    "duration": 23,
    "start_time": "2024-10-08T23:08:08.559Z"
   },
   {
    "duration": 13,
    "start_time": "2024-10-08T23:08:09.204Z"
   },
   {
    "duration": 12,
    "start_time": "2024-10-08T23:08:10.473Z"
   },
   {
    "duration": 18,
    "start_time": "2024-10-08T23:08:10.697Z"
   },
   {
    "duration": 6,
    "start_time": "2024-10-08T23:26:22.055Z"
   },
   {
    "duration": 4,
    "start_time": "2024-10-08T23:28:56.628Z"
   },
   {
    "duration": 3,
    "start_time": "2024-10-08T23:38:41.440Z"
   },
   {
    "duration": 919,
    "start_time": "2024-10-08T23:38:46.551Z"
   },
   {
    "duration": 377,
    "start_time": "2024-10-08T23:38:47.473Z"
   },
   {
    "duration": 82,
    "start_time": "2024-10-08T23:38:47.852Z"
   },
   {
    "duration": 55,
    "start_time": "2024-10-08T23:38:47.938Z"
   },
   {
    "duration": 21,
    "start_time": "2024-10-08T23:38:48.010Z"
   },
   {
    "duration": 10,
    "start_time": "2024-10-08T23:38:48.033Z"
   },
   {
    "duration": 10,
    "start_time": "2024-10-08T23:38:48.044Z"
   },
   {
    "duration": 16,
    "start_time": "2024-10-08T23:38:48.056Z"
   },
   {
    "duration": 3,
    "start_time": "2024-10-08T23:38:48.075Z"
   },
   {
    "duration": 371,
    "start_time": "2024-10-08T23:38:48.249Z"
   },
   {
    "duration": 4,
    "start_time": "2024-10-08T23:38:48.622Z"
   },
   {
    "duration": 221,
    "start_time": "2024-10-08T23:38:48.628Z"
   },
   {
    "duration": 182,
    "start_time": "2024-10-08T23:38:48.852Z"
   },
   {
    "duration": 161,
    "start_time": "2024-10-08T23:38:49.036Z"
   },
   {
    "duration": 5,
    "start_time": "2024-10-08T23:38:49.281Z"
   },
   {
    "duration": 489,
    "start_time": "2024-10-08T23:38:49.980Z"
   },
   {
    "duration": 6,
    "start_time": "2024-10-08T23:38:50.472Z"
   },
   {
    "duration": 30,
    "start_time": "2024-10-08T23:38:50.480Z"
   },
   {
    "duration": 6,
    "start_time": "2024-10-08T23:38:50.627Z"
   },
   {
    "duration": 5,
    "start_time": "2024-10-08T23:38:50.838Z"
   },
   {
    "duration": 28,
    "start_time": "2024-10-08T23:38:51.066Z"
   },
   {
    "duration": 8,
    "start_time": "2024-10-08T23:38:51.277Z"
   },
   {
    "duration": 8,
    "start_time": "2024-10-08T23:38:51.469Z"
   },
   {
    "duration": 461,
    "start_time": "2024-10-08T23:38:51.693Z"
   },
   {
    "duration": 88,
    "start_time": "2024-10-08T23:38:53.079Z"
   },
   {
    "duration": 15,
    "start_time": "2024-10-08T23:38:53.435Z"
   },
   {
    "duration": 14,
    "start_time": "2024-10-08T23:38:53.767Z"
   },
   {
    "duration": 5,
    "start_time": "2024-10-08T23:38:54.074Z"
   },
   {
    "duration": 209,
    "start_time": "2024-10-08T23:38:55.310Z"
   },
   {
    "duration": 13387,
    "start_time": "2024-10-08T23:38:55.715Z"
   },
   {
    "duration": 4,
    "start_time": "2024-10-08T23:39:09.108Z"
   },
   {
    "duration": 22,
    "start_time": "2024-10-08T23:39:09.114Z"
   },
   {
    "duration": 71,
    "start_time": "2024-10-08T23:39:09.138Z"
   },
   {
    "duration": 105,
    "start_time": "2024-10-08T23:39:09.210Z"
   },
   {
    "duration": 6,
    "start_time": "2024-10-08T23:39:09.317Z"
   },
   {
    "duration": 10,
    "start_time": "2024-10-08T23:39:09.325Z"
   },
   {
    "duration": 90,
    "start_time": "2024-10-08T23:39:09.337Z"
   },
   {
    "duration": 15,
    "start_time": "2024-10-08T23:39:09.428Z"
   },
   {
    "duration": 6,
    "start_time": "2024-10-08T23:39:09.446Z"
   },
   {
    "duration": 65,
    "start_time": "2024-10-08T23:39:09.453Z"
   },
   {
    "duration": 5,
    "start_time": "2024-10-08T23:39:09.520Z"
   },
   {
    "duration": 10,
    "start_time": "2024-10-08T23:39:09.527Z"
   },
   {
    "duration": 27,
    "start_time": "2024-10-08T23:39:09.538Z"
   },
   {
    "duration": 7,
    "start_time": "2024-10-08T23:39:09.566Z"
   },
   {
    "duration": 5,
    "start_time": "2024-10-08T23:39:09.574Z"
   },
   {
    "duration": 6,
    "start_time": "2024-10-08T23:39:09.610Z"
   },
   {
    "duration": 3,
    "start_time": "2024-10-08T23:39:09.618Z"
   },
   {
    "duration": 497,
    "start_time": "2024-10-08T23:39:09.623Z"
   },
   {
    "duration": 9,
    "start_time": "2024-10-08T23:39:10.229Z"
   },
   {
    "duration": 7,
    "start_time": "2024-10-08T23:39:10.456Z"
   },
   {
    "duration": 3,
    "start_time": "2024-10-08T23:39:13.779Z"
   },
   {
    "duration": 3,
    "start_time": "2024-10-08T23:39:14.129Z"
   },
   {
    "duration": 15,
    "start_time": "2024-10-08T23:39:15.462Z"
   },
   {
    "duration": 4,
    "start_time": "2024-10-08T23:39:15.772Z"
   },
   {
    "duration": 8,
    "start_time": "2024-10-08T23:39:16.025Z"
   },
   {
    "duration": 3,
    "start_time": "2024-10-08T23:39:16.803Z"
   },
   {
    "duration": 9,
    "start_time": "2024-10-08T23:39:17.029Z"
   },
   {
    "duration": 12,
    "start_time": "2024-10-08T23:39:21.082Z"
   },
   {
    "duration": 6,
    "start_time": "2024-10-08T23:39:21.479Z"
   },
   {
    "duration": 11,
    "start_time": "2024-10-08T23:39:21.984Z"
   },
   {
    "duration": 4,
    "start_time": "2024-10-08T23:39:23.865Z"
   },
   {
    "duration": 12,
    "start_time": "2024-10-08T23:39:24.157Z"
   },
   {
    "duration": 4,
    "start_time": "2024-10-08T23:39:27.899Z"
   },
   {
    "duration": 11,
    "start_time": "2024-10-08T23:39:28.174Z"
   },
   {
    "duration": 4,
    "start_time": "2024-10-08T23:45:23.492Z"
   },
   {
    "duration": 4,
    "start_time": "2024-10-08T23:47:40.348Z"
   },
   {
    "duration": 8,
    "start_time": "2024-10-08T23:48:31.594Z"
   },
   {
    "duration": 8,
    "start_time": "2024-10-08T23:49:32.034Z"
   },
   {
    "duration": 214,
    "start_time": "2024-10-08T23:49:39.448Z"
   },
   {
    "duration": 15,
    "start_time": "2024-10-08T23:49:45.209Z"
   },
   {
    "duration": 15,
    "start_time": "2024-10-08T23:50:10.572Z"
   },
   {
    "duration": 4,
    "start_time": "2024-10-08T23:55:25.765Z"
   },
   {
    "duration": 4,
    "start_time": "2024-10-09T00:01:22.368Z"
   },
   {
    "duration": 5,
    "start_time": "2024-10-09T00:01:53.924Z"
   },
   {
    "duration": 5,
    "start_time": "2024-10-09T00:02:33.773Z"
   },
   {
    "duration": 2530,
    "start_time": "2024-10-09T02:46:21.134Z"
   },
   {
    "duration": 420,
    "start_time": "2024-10-09T02:46:23.667Z"
   },
   {
    "duration": 79,
    "start_time": "2024-10-09T02:46:24.088Z"
   },
   {
    "duration": 65,
    "start_time": "2024-10-09T02:46:24.169Z"
   },
   {
    "duration": 19,
    "start_time": "2024-10-09T02:46:24.237Z"
   },
   {
    "duration": 10,
    "start_time": "2024-10-09T02:46:24.258Z"
   },
   {
    "duration": 10,
    "start_time": "2024-10-09T02:46:24.269Z"
   },
   {
    "duration": 15,
    "start_time": "2024-10-09T02:46:24.281Z"
   },
   {
    "duration": 3,
    "start_time": "2024-10-09T02:46:24.324Z"
   },
   {
    "duration": 267,
    "start_time": "2024-10-09T02:46:24.329Z"
   },
   {
    "duration": 0,
    "start_time": "2024-10-09T02:46:24.600Z"
   },
   {
    "duration": 0,
    "start_time": "2024-10-09T02:46:24.600Z"
   },
   {
    "duration": 0,
    "start_time": "2024-10-09T02:46:24.602Z"
   },
   {
    "duration": 0,
    "start_time": "2024-10-09T02:46:24.604Z"
   },
   {
    "duration": 0,
    "start_time": "2024-10-09T02:46:24.605Z"
   },
   {
    "duration": 0,
    "start_time": "2024-10-09T02:46:24.607Z"
   },
   {
    "duration": 0,
    "start_time": "2024-10-09T02:46:24.608Z"
   },
   {
    "duration": 0,
    "start_time": "2024-10-09T02:46:24.624Z"
   },
   {
    "duration": 0,
    "start_time": "2024-10-09T02:46:24.626Z"
   },
   {
    "duration": 0,
    "start_time": "2024-10-09T02:46:24.627Z"
   },
   {
    "duration": 1,
    "start_time": "2024-10-09T02:46:24.628Z"
   },
   {
    "duration": 0,
    "start_time": "2024-10-09T02:46:24.630Z"
   },
   {
    "duration": 0,
    "start_time": "2024-10-09T02:46:24.631Z"
   },
   {
    "duration": 0,
    "start_time": "2024-10-09T02:46:24.633Z"
   },
   {
    "duration": 0,
    "start_time": "2024-10-09T02:46:24.634Z"
   },
   {
    "duration": 0,
    "start_time": "2024-10-09T02:46:24.635Z"
   },
   {
    "duration": 0,
    "start_time": "2024-10-09T02:46:24.637Z"
   },
   {
    "duration": 0,
    "start_time": "2024-10-09T02:46:24.638Z"
   },
   {
    "duration": 0,
    "start_time": "2024-10-09T02:46:24.639Z"
   },
   {
    "duration": 0,
    "start_time": "2024-10-09T02:46:24.640Z"
   },
   {
    "duration": 0,
    "start_time": "2024-10-09T02:46:24.641Z"
   },
   {
    "duration": 0,
    "start_time": "2024-10-09T02:46:24.642Z"
   },
   {
    "duration": 0,
    "start_time": "2024-10-09T02:46:24.643Z"
   },
   {
    "duration": 0,
    "start_time": "2024-10-09T02:46:24.644Z"
   },
   {
    "duration": 0,
    "start_time": "2024-10-09T02:46:24.645Z"
   },
   {
    "duration": 0,
    "start_time": "2024-10-09T02:46:24.646Z"
   },
   {
    "duration": 0,
    "start_time": "2024-10-09T02:46:24.647Z"
   },
   {
    "duration": 0,
    "start_time": "2024-10-09T02:46:24.648Z"
   },
   {
    "duration": 0,
    "start_time": "2024-10-09T02:46:24.649Z"
   },
   {
    "duration": 0,
    "start_time": "2024-10-09T02:46:24.650Z"
   },
   {
    "duration": 0,
    "start_time": "2024-10-09T02:46:24.652Z"
   },
   {
    "duration": 0,
    "start_time": "2024-10-09T02:46:24.653Z"
   },
   {
    "duration": 0,
    "start_time": "2024-10-09T02:46:24.655Z"
   },
   {
    "duration": 0,
    "start_time": "2024-10-09T02:46:24.656Z"
   },
   {
    "duration": 0,
    "start_time": "2024-10-09T02:46:24.660Z"
   },
   {
    "duration": 0,
    "start_time": "2024-10-09T02:46:24.661Z"
   },
   {
    "duration": 0,
    "start_time": "2024-10-09T02:46:24.662Z"
   },
   {
    "duration": 0,
    "start_time": "2024-10-09T02:46:24.663Z"
   },
   {
    "duration": 0,
    "start_time": "2024-10-09T02:46:24.725Z"
   },
   {
    "duration": 0,
    "start_time": "2024-10-09T02:46:24.727Z"
   },
   {
    "duration": 0,
    "start_time": "2024-10-09T02:46:24.728Z"
   },
   {
    "duration": 0,
    "start_time": "2024-10-09T02:46:24.729Z"
   },
   {
    "duration": 0,
    "start_time": "2024-10-09T02:46:24.731Z"
   },
   {
    "duration": 0,
    "start_time": "2024-10-09T02:46:24.732Z"
   },
   {
    "duration": 0,
    "start_time": "2024-10-09T02:46:24.733Z"
   },
   {
    "duration": 0,
    "start_time": "2024-10-09T02:46:24.735Z"
   },
   {
    "duration": 0,
    "start_time": "2024-10-09T02:46:24.738Z"
   },
   {
    "duration": 0,
    "start_time": "2024-10-09T02:46:24.739Z"
   },
   {
    "duration": 0,
    "start_time": "2024-10-09T02:46:24.740Z"
   },
   {
    "duration": 0,
    "start_time": "2024-10-09T02:46:24.741Z"
   },
   {
    "duration": 0,
    "start_time": "2024-10-09T02:46:24.743Z"
   },
   {
    "duration": 0,
    "start_time": "2024-10-09T02:46:24.745Z"
   },
   {
    "duration": 0,
    "start_time": "2024-10-09T02:46:24.746Z"
   },
   {
    "duration": 0,
    "start_time": "2024-10-09T02:46:24.746Z"
   },
   {
    "duration": 0,
    "start_time": "2024-10-09T02:46:24.747Z"
   },
   {
    "duration": 139,
    "start_time": "2024-10-09T02:46:51.336Z"
   },
   {
    "duration": 142,
    "start_time": "2024-10-09T02:47:22.529Z"
   },
   {
    "duration": 154,
    "start_time": "2024-10-09T02:48:06.316Z"
   },
   {
    "duration": 786,
    "start_time": "2024-10-09T02:49:10.553Z"
   },
   {
    "duration": 335,
    "start_time": "2024-10-09T02:49:11.340Z"
   },
   {
    "duration": 78,
    "start_time": "2024-10-09T02:49:11.677Z"
   },
   {
    "duration": 50,
    "start_time": "2024-10-09T02:49:11.757Z"
   },
   {
    "duration": 20,
    "start_time": "2024-10-09T02:49:11.823Z"
   },
   {
    "duration": 10,
    "start_time": "2024-10-09T02:49:11.845Z"
   },
   {
    "duration": 9,
    "start_time": "2024-10-09T02:49:11.857Z"
   },
   {
    "duration": 15,
    "start_time": "2024-10-09T02:49:11.868Z"
   },
   {
    "duration": 3,
    "start_time": "2024-10-09T02:49:11.885Z"
   },
   {
    "duration": 174,
    "start_time": "2024-10-09T02:49:11.890Z"
   },
   {
    "duration": 351,
    "start_time": "2024-10-09T02:49:12.065Z"
   },
   {
    "duration": 7,
    "start_time": "2024-10-09T02:49:12.418Z"
   },
   {
    "duration": 247,
    "start_time": "2024-10-09T02:49:12.426Z"
   },
   {
    "duration": 166,
    "start_time": "2024-10-09T02:49:12.676Z"
   },
   {
    "duration": 151,
    "start_time": "2024-10-09T02:49:12.843Z"
   },
   {
    "duration": 4,
    "start_time": "2024-10-09T02:49:12.996Z"
   },
   {
    "duration": 524,
    "start_time": "2024-10-09T02:49:13.001Z"
   },
   {
    "duration": 5,
    "start_time": "2024-10-09T02:49:13.526Z"
   },
   {
    "duration": 18,
    "start_time": "2024-10-09T02:49:13.532Z"
   },
   {
    "duration": 7,
    "start_time": "2024-10-09T02:49:13.552Z"
   },
   {
    "duration": 3,
    "start_time": "2024-10-09T02:49:13.562Z"
   },
   {
    "duration": 56,
    "start_time": "2024-10-09T02:49:13.567Z"
   },
   {
    "duration": 6,
    "start_time": "2024-10-09T02:49:13.625Z"
   },
   {
    "duration": 8,
    "start_time": "2024-10-09T02:49:13.633Z"
   },
   {
    "duration": 472,
    "start_time": "2024-10-09T02:49:13.643Z"
   },
   {
    "duration": 86,
    "start_time": "2024-10-09T02:49:14.117Z"
   },
   {
    "duration": 29,
    "start_time": "2024-10-09T02:49:14.205Z"
   },
   {
    "duration": 13,
    "start_time": "2024-10-09T02:49:14.236Z"
   },
   {
    "duration": 4,
    "start_time": "2024-10-09T02:49:14.251Z"
   },
   {
    "duration": 213,
    "start_time": "2024-10-09T02:49:14.257Z"
   },
   {
    "duration": 13700,
    "start_time": "2024-10-09T02:49:14.472Z"
   },
   {
    "duration": 4,
    "start_time": "2024-10-09T02:49:28.174Z"
   },
   {
    "duration": 23,
    "start_time": "2024-10-09T02:49:28.179Z"
   },
   {
    "duration": 73,
    "start_time": "2024-10-09T02:49:28.204Z"
   },
   {
    "duration": 107,
    "start_time": "2024-10-09T02:49:28.279Z"
   },
   {
    "duration": 6,
    "start_time": "2024-10-09T02:49:28.387Z"
   },
   {
    "duration": 11,
    "start_time": "2024-10-09T02:49:28.395Z"
   },
   {
    "duration": 76,
    "start_time": "2024-10-09T02:49:28.408Z"
   },
   {
    "duration": 14,
    "start_time": "2024-10-09T02:49:28.486Z"
   },
   {
    "duration": 5,
    "start_time": "2024-10-09T02:49:28.503Z"
   },
   {
    "duration": 51,
    "start_time": "2024-10-09T02:49:28.527Z"
   },
   {
    "duration": 5,
    "start_time": "2024-10-09T02:49:28.579Z"
   },
   {
    "duration": 11,
    "start_time": "2024-10-09T02:49:28.585Z"
   },
   {
    "duration": 43,
    "start_time": "2024-10-09T02:49:28.597Z"
   },
   {
    "duration": 7,
    "start_time": "2024-10-09T02:49:28.641Z"
   },
   {
    "duration": 4,
    "start_time": "2024-10-09T02:49:28.649Z"
   },
   {
    "duration": 6,
    "start_time": "2024-10-09T02:49:28.654Z"
   },
   {
    "duration": 3,
    "start_time": "2024-10-09T02:49:28.663Z"
   },
   {
    "duration": 475,
    "start_time": "2024-10-09T02:49:28.668Z"
   },
   {
    "duration": 8,
    "start_time": "2024-10-09T02:49:29.144Z"
   },
   {
    "duration": 6,
    "start_time": "2024-10-09T02:49:29.154Z"
   },
   {
    "duration": 2,
    "start_time": "2024-10-09T02:49:29.162Z"
   },
   {
    "duration": 4,
    "start_time": "2024-10-09T02:49:29.166Z"
   },
   {
    "duration": 14,
    "start_time": "2024-10-09T02:49:29.172Z"
   },
   {
    "duration": 4,
    "start_time": "2024-10-09T02:49:29.188Z"
   },
   {
    "duration": 5,
    "start_time": "2024-10-09T02:49:29.226Z"
   },
   {
    "duration": 2,
    "start_time": "2024-10-09T02:49:29.233Z"
   },
   {
    "duration": 9,
    "start_time": "2024-10-09T02:49:29.237Z"
   },
   {
    "duration": 11,
    "start_time": "2024-10-09T02:49:29.248Z"
   },
   {
    "duration": 3,
    "start_time": "2024-10-09T02:49:29.261Z"
   },
   {
    "duration": 10,
    "start_time": "2024-10-09T02:49:29.265Z"
   },
   {
    "duration": 3,
    "start_time": "2024-10-09T02:49:29.277Z"
   },
   {
    "duration": 48,
    "start_time": "2024-10-09T02:49:29.282Z"
   },
   {
    "duration": 3,
    "start_time": "2024-10-09T02:49:29.332Z"
   },
   {
    "duration": 11,
    "start_time": "2024-10-09T02:49:29.336Z"
   },
   {
    "duration": 100,
    "start_time": "2024-10-09T02:51:36.808Z"
   },
   {
    "duration": 9,
    "start_time": "2024-10-09T02:52:39.914Z"
   },
   {
    "duration": 74,
    "start_time": "2024-10-09T02:57:35.368Z"
   },
   {
    "duration": 16780,
    "start_time": "2024-10-09T02:57:35.895Z"
   },
   {
    "duration": 35,
    "start_time": "2024-10-09T02:57:52.678Z"
   },
   {
    "duration": 17,
    "start_time": "2024-10-09T02:57:52.715Z"
   },
   {
    "duration": 71,
    "start_time": "2024-10-09T02:57:52.734Z"
   },
   {
    "duration": 22,
    "start_time": "2024-10-09T02:57:52.807Z"
   },
   {
    "duration": 3,
    "start_time": "2024-10-09T02:57:52.831Z"
   },
   {
    "duration": 7,
    "start_time": "2024-10-09T02:58:17.089Z"
   },
   {
    "duration": 11,
    "start_time": "2024-10-09T02:59:42.875Z"
   },
   {
    "duration": 8,
    "start_time": "2024-10-09T02:59:45.679Z"
   },
   {
    "duration": 5,
    "start_time": "2024-10-09T03:02:19.176Z"
   },
   {
    "duration": 6,
    "start_time": "2024-10-09T03:03:04.114Z"
   },
   {
    "duration": 7,
    "start_time": "2024-10-09T03:05:28.119Z"
   },
   {
    "duration": 4,
    "start_time": "2024-10-09T03:05:53.450Z"
   },
   {
    "duration": 299,
    "start_time": "2024-10-09T03:06:07.987Z"
   },
   {
    "duration": 7,
    "start_time": "2024-10-09T03:06:10.852Z"
   },
   {
    "duration": 4,
    "start_time": "2024-10-09T03:06:30.680Z"
   },
   {
    "duration": 198,
    "start_time": "2024-10-09T03:06:32.653Z"
   },
   {
    "duration": 184,
    "start_time": "2024-10-09T03:06:34.463Z"
   },
   {
    "duration": 116,
    "start_time": "2024-10-09T03:06:36.808Z"
   },
   {
    "duration": 4,
    "start_time": "2024-10-09T03:21:47.190Z"
   },
   {
    "duration": 898,
    "start_time": "2024-10-09T03:22:06.267Z"
   },
   {
    "duration": 119,
    "start_time": "2024-10-09T03:23:00.919Z"
   },
   {
    "duration": 117,
    "start_time": "2024-10-09T03:23:31.267Z"
   },
   {
    "duration": 137,
    "start_time": "2024-10-09T03:24:40.452Z"
   },
   {
    "duration": 251,
    "start_time": "2024-10-09T03:27:37.847Z"
   },
   {
    "duration": 36,
    "start_time": "2024-10-09T03:29:02.217Z"
   },
   {
    "duration": 14,
    "start_time": "2024-10-09T03:29:03.890Z"
   },
   {
    "duration": 13,
    "start_time": "2024-10-09T03:29:06.428Z"
   },
   {
    "duration": 5,
    "start_time": "2024-10-09T03:29:09.547Z"
   },
   {
    "duration": 36,
    "start_time": "2024-10-09T03:32:40.302Z"
   },
   {
    "duration": 130,
    "start_time": "2024-10-09T03:33:18.239Z"
   },
   {
    "duration": 37,
    "start_time": "2024-10-09T03:34:19.810Z"
   },
   {
    "duration": 37,
    "start_time": "2024-10-09T03:36:32.425Z"
   },
   {
    "duration": 15,
    "start_time": "2024-10-09T03:39:22.736Z"
   },
   {
    "duration": 4,
    "start_time": "2024-10-09T03:51:22.237Z"
   },
   {
    "duration": 11,
    "start_time": "2024-10-09T03:51:23.928Z"
   },
   {
    "duration": 5,
    "start_time": "2024-10-09T03:51:48.678Z"
   },
   {
    "duration": 426,
    "start_time": "2024-10-09T03:53:42.258Z"
   },
   {
    "duration": 43,
    "start_time": "2024-10-09T03:54:05.136Z"
   },
   {
    "duration": 39,
    "start_time": "2024-10-09T03:54:24.359Z"
   },
   {
    "duration": 4,
    "start_time": "2024-10-09T03:54:46.562Z"
   },
   {
    "duration": 147,
    "start_time": "2024-10-09T03:56:36.314Z"
   },
   {
    "duration": 286,
    "start_time": "2024-10-09T03:58:31.780Z"
   },
   {
    "duration": 7,
    "start_time": "2024-10-09T03:59:51.372Z"
   },
   {
    "duration": 11,
    "start_time": "2024-10-09T04:01:43.759Z"
   },
   {
    "duration": 3,
    "start_time": "2024-10-09T04:04:51.326Z"
   },
   {
    "duration": 7,
    "start_time": "2024-10-09T04:05:15.503Z"
   },
   {
    "duration": 190,
    "start_time": "2024-10-09T04:06:09.209Z"
   },
   {
    "duration": 19,
    "start_time": "2024-10-09T04:08:18.382Z"
   },
   {
    "duration": 182,
    "start_time": "2024-10-09T04:08:19.273Z"
   },
   {
    "duration": 29,
    "start_time": "2024-10-09T04:11:11.751Z"
   },
   {
    "duration": 3,
    "start_time": "2024-10-09T04:11:13.401Z"
   },
   {
    "duration": 66,
    "start_time": "2024-10-09T04:11:20.145Z"
   },
   {
    "duration": 3,
    "start_time": "2024-10-09T04:11:23.131Z"
   },
   {
    "duration": 10,
    "start_time": "2024-10-09T04:11:24.080Z"
   },
   {
    "duration": 12,
    "start_time": "2024-10-09T04:17:21.154Z"
   },
   {
    "duration": 7,
    "start_time": "2024-10-09T04:17:36.559Z"
   },
   {
    "duration": 3,
    "start_time": "2024-10-09T04:22:33.773Z"
   },
   {
    "duration": 5,
    "start_time": "2024-10-09T04:22:44.305Z"
   },
   {
    "duration": 4,
    "start_time": "2024-10-09T04:23:12.623Z"
   },
   {
    "duration": 4,
    "start_time": "2024-10-09T04:23:27.817Z"
   },
   {
    "duration": 25,
    "start_time": "2024-10-09T04:24:05.446Z"
   },
   {
    "duration": 7,
    "start_time": "2024-10-09T04:24:22.278Z"
   },
   {
    "duration": 3,
    "start_time": "2024-10-09T04:24:40.246Z"
   },
   {
    "duration": 16,
    "start_time": "2024-10-09T04:24:41.006Z"
   },
   {
    "duration": 42,
    "start_time": "2024-10-09T04:24:41.636Z"
   },
   {
    "duration": 3,
    "start_time": "2024-10-09T04:26:04.445Z"
   },
   {
    "duration": 15,
    "start_time": "2024-10-09T04:26:05.080Z"
   },
   {
    "duration": 3,
    "start_time": "2024-10-09T04:26:06.198Z"
   },
   {
    "duration": 8,
    "start_time": "2024-10-09T04:26:34.038Z"
   },
   {
    "duration": 20,
    "start_time": "2024-10-09T04:31:38.547Z"
   },
   {
    "duration": 21,
    "start_time": "2024-10-09T04:31:53.385Z"
   },
   {
    "duration": 24,
    "start_time": "2024-10-09T04:32:09.071Z"
   },
   {
    "duration": 52,
    "start_time": "2024-10-09T04:35:07.357Z"
   },
   {
    "duration": 44,
    "start_time": "2024-10-09T04:35:45.419Z"
   },
   {
    "duration": 790,
    "start_time": "2024-10-09T04:36:12.908Z"
   },
   {
    "duration": 350,
    "start_time": "2024-10-09T04:36:13.700Z"
   },
   {
    "duration": 73,
    "start_time": "2024-10-09T04:36:14.052Z"
   },
   {
    "duration": 53,
    "start_time": "2024-10-09T04:36:14.127Z"
   },
   {
    "duration": 41,
    "start_time": "2024-10-09T04:36:14.183Z"
   },
   {
    "duration": 10,
    "start_time": "2024-10-09T04:36:14.226Z"
   },
   {
    "duration": 10,
    "start_time": "2024-10-09T04:36:14.238Z"
   },
   {
    "duration": 16,
    "start_time": "2024-10-09T04:36:14.249Z"
   },
   {
    "duration": 3,
    "start_time": "2024-10-09T04:36:14.266Z"
   },
   {
    "duration": 179,
    "start_time": "2024-10-09T04:36:14.272Z"
   },
   {
    "duration": 353,
    "start_time": "2024-10-09T04:36:14.452Z"
   },
   {
    "duration": 5,
    "start_time": "2024-10-09T04:36:14.806Z"
   },
   {
    "duration": 237,
    "start_time": "2024-10-09T04:36:14.812Z"
   },
   {
    "duration": 187,
    "start_time": "2024-10-09T04:36:15.053Z"
   },
   {
    "duration": 175,
    "start_time": "2024-10-09T04:36:15.242Z"
   },
   {
    "duration": 8,
    "start_time": "2024-10-09T04:36:15.418Z"
   },
   {
    "duration": 487,
    "start_time": "2024-10-09T04:36:15.428Z"
   },
   {
    "duration": 10,
    "start_time": "2024-10-09T04:36:15.916Z"
   },
   {
    "duration": 17,
    "start_time": "2024-10-09T04:36:15.927Z"
   },
   {
    "duration": 5,
    "start_time": "2024-10-09T04:36:15.946Z"
   },
   {
    "duration": 5,
    "start_time": "2024-10-09T04:36:15.953Z"
   },
   {
    "duration": 26,
    "start_time": "2024-10-09T04:36:15.961Z"
   },
   {
    "duration": 6,
    "start_time": "2024-10-09T04:36:15.989Z"
   },
   {
    "duration": 35,
    "start_time": "2024-10-09T04:36:15.996Z"
   },
   {
    "duration": 186,
    "start_time": "2024-10-09T04:36:16.033Z"
   },
   {
    "duration": 91,
    "start_time": "2024-10-09T04:36:16.224Z"
   },
   {
    "duration": 15,
    "start_time": "2024-10-09T04:36:16.324Z"
   },
   {
    "duration": 13,
    "start_time": "2024-10-09T04:36:16.341Z"
   },
   {
    "duration": 4,
    "start_time": "2024-10-09T04:36:16.356Z"
   },
   {
    "duration": 220,
    "start_time": "2024-10-09T04:36:16.361Z"
   },
   {
    "duration": 13153,
    "start_time": "2024-10-09T04:36:16.582Z"
   },
   {
    "duration": 5,
    "start_time": "2024-10-09T04:36:29.737Z"
   },
   {
    "duration": 24,
    "start_time": "2024-10-09T04:36:29.743Z"
   },
   {
    "duration": 72,
    "start_time": "2024-10-09T04:36:29.768Z"
   },
   {
    "duration": 116,
    "start_time": "2024-10-09T04:36:29.841Z"
   },
   {
    "duration": 6,
    "start_time": "2024-10-09T04:36:29.958Z"
   },
   {
    "duration": 11,
    "start_time": "2024-10-09T04:36:29.965Z"
   },
   {
    "duration": 88,
    "start_time": "2024-10-09T04:36:29.977Z"
   },
   {
    "duration": 14,
    "start_time": "2024-10-09T04:36:30.067Z"
   },
   {
    "duration": 6,
    "start_time": "2024-10-09T04:36:30.083Z"
   },
   {
    "duration": 67,
    "start_time": "2024-10-09T04:36:30.093Z"
   },
   {
    "duration": 78,
    "start_time": "2024-10-09T04:36:30.162Z"
   },
   {
    "duration": 16064,
    "start_time": "2024-10-09T04:36:30.241Z"
   },
   {
    "duration": 41,
    "start_time": "2024-10-09T04:36:46.307Z"
   },
   {
    "duration": 7,
    "start_time": "2024-10-09T04:36:46.349Z"
   },
   {
    "duration": 50,
    "start_time": "2024-10-09T04:36:46.358Z"
   },
   {
    "duration": 20,
    "start_time": "2024-10-09T04:36:46.409Z"
   },
   {
    "duration": 3,
    "start_time": "2024-10-09T04:36:46.430Z"
   },
   {
    "duration": 8,
    "start_time": "2024-10-09T04:36:46.435Z"
   },
   {
    "duration": 115,
    "start_time": "2024-10-09T04:36:46.444Z"
   },
   {
    "duration": 11,
    "start_time": "2024-10-09T04:36:46.561Z"
   },
   {
    "duration": 6,
    "start_time": "2024-10-09T04:36:46.574Z"
   },
   {
    "duration": 3,
    "start_time": "2024-10-09T04:36:46.582Z"
   },
   {
    "duration": 3,
    "start_time": "2024-10-09T04:36:46.587Z"
   },
   {
    "duration": 52,
    "start_time": "2024-10-09T04:36:46.592Z"
   },
   {
    "duration": 7,
    "start_time": "2024-10-09T04:36:46.645Z"
   },
   {
    "duration": 3,
    "start_time": "2024-10-09T04:36:46.653Z"
   },
   {
    "duration": 16,
    "start_time": "2024-10-09T04:36:46.658Z"
   },
   {
    "duration": 3,
    "start_time": "2024-10-09T04:36:46.676Z"
   },
   {
    "duration": 46,
    "start_time": "2024-10-09T04:36:46.680Z"
   },
   {
    "duration": 5,
    "start_time": "2024-10-09T04:36:46.728Z"
   },
   {
    "duration": 4,
    "start_time": "2024-10-09T04:36:46.734Z"
   },
   {
    "duration": 7,
    "start_time": "2024-10-09T04:36:46.739Z"
   },
   {
    "duration": 213,
    "start_time": "2024-10-09T04:36:46.747Z"
   },
   {
    "duration": 611,
    "start_time": "2024-10-09T04:36:46.963Z"
   },
   {
    "duration": 0,
    "start_time": "2024-10-09T04:36:47.576Z"
   },
   {
    "duration": 0,
    "start_time": "2024-10-09T04:36:47.577Z"
   },
   {
    "duration": 0,
    "start_time": "2024-10-09T04:36:47.579Z"
   },
   {
    "duration": 8,
    "start_time": "2024-10-09T04:38:38.620Z"
   },
   {
    "duration": 14,
    "start_time": "2024-10-09T04:41:41.777Z"
   },
   {
    "duration": 114,
    "start_time": "2024-10-09T04:42:15.129Z"
   },
   {
    "duration": 10,
    "start_time": "2024-10-09T04:49:11.172Z"
   },
   {
    "duration": 8,
    "start_time": "2024-10-09T04:51:10.114Z"
   },
   {
    "duration": 8,
    "start_time": "2024-10-09T04:52:18.206Z"
   },
   {
    "duration": 8,
    "start_time": "2024-10-09T04:53:11.279Z"
   },
   {
    "duration": 86,
    "start_time": "2024-10-09T04:55:19.048Z"
   },
   {
    "duration": 4,
    "start_time": "2024-10-09T04:55:20.439Z"
   },
   {
    "duration": 9,
    "start_time": "2024-10-09T04:55:21.301Z"
   },
   {
    "duration": 7,
    "start_time": "2024-10-09T04:55:44.890Z"
   },
   {
    "duration": 8,
    "start_time": "2024-10-09T04:55:56.632Z"
   },
   {
    "duration": 13,
    "start_time": "2024-10-09T04:56:34.322Z"
   },
   {
    "duration": 443,
    "start_time": "2024-10-09T04:56:57.950Z"
   },
   {
    "duration": 965,
    "start_time": "2024-10-09T04:59:10.793Z"
   },
   {
    "duration": 381,
    "start_time": "2024-10-09T04:59:11.760Z"
   },
   {
    "duration": 80,
    "start_time": "2024-10-09T04:59:12.142Z"
   },
   {
    "duration": 56,
    "start_time": "2024-10-09T04:59:12.227Z"
   },
   {
    "duration": 22,
    "start_time": "2024-10-09T04:59:12.286Z"
   },
   {
    "duration": 12,
    "start_time": "2024-10-09T04:59:12.325Z"
   },
   {
    "duration": 12,
    "start_time": "2024-10-09T04:59:12.339Z"
   },
   {
    "duration": 20,
    "start_time": "2024-10-09T04:59:12.353Z"
   },
   {
    "duration": 6,
    "start_time": "2024-10-09T04:59:12.375Z"
   },
   {
    "duration": 208,
    "start_time": "2024-10-09T04:59:12.382Z"
   },
   {
    "duration": 399,
    "start_time": "2024-10-09T04:59:12.592Z"
   },
   {
    "duration": 6,
    "start_time": "2024-10-09T04:59:12.995Z"
   },
   {
    "duration": 253,
    "start_time": "2024-10-09T04:59:13.003Z"
   },
   {
    "duration": 199,
    "start_time": "2024-10-09T04:59:13.263Z"
   },
   {
    "duration": 183,
    "start_time": "2024-10-09T04:59:13.464Z"
   },
   {
    "duration": 6,
    "start_time": "2024-10-09T04:59:13.649Z"
   },
   {
    "duration": 547,
    "start_time": "2024-10-09T04:59:13.661Z"
   },
   {
    "duration": 17,
    "start_time": "2024-10-09T04:59:14.210Z"
   },
   {
    "duration": 43,
    "start_time": "2024-10-09T04:59:14.229Z"
   },
   {
    "duration": 6,
    "start_time": "2024-10-09T04:59:14.275Z"
   },
   {
    "duration": 8,
    "start_time": "2024-10-09T04:59:14.284Z"
   },
   {
    "duration": 46,
    "start_time": "2024-10-09T04:59:14.294Z"
   },
   {
    "duration": 10,
    "start_time": "2024-10-09T04:59:14.342Z"
   },
   {
    "duration": 16,
    "start_time": "2024-10-09T04:59:14.354Z"
   },
   {
    "duration": 265,
    "start_time": "2024-10-09T04:59:14.371Z"
   },
   {
    "duration": 147,
    "start_time": "2024-10-09T04:59:14.638Z"
   },
   {
    "duration": 18,
    "start_time": "2024-10-09T04:59:14.787Z"
   },
   {
    "duration": 18,
    "start_time": "2024-10-09T04:59:14.824Z"
   },
   {
    "duration": 5,
    "start_time": "2024-10-09T04:59:14.844Z"
   },
   {
    "duration": 295,
    "start_time": "2024-10-09T04:59:14.851Z"
   },
   {
    "duration": 19241,
    "start_time": "2024-10-09T04:59:15.148Z"
   },
   {
    "duration": 4,
    "start_time": "2024-10-09T04:59:34.391Z"
   },
   {
    "duration": 47,
    "start_time": "2024-10-09T04:59:34.397Z"
   },
   {
    "duration": 70,
    "start_time": "2024-10-09T04:59:34.448Z"
   },
   {
    "duration": 119,
    "start_time": "2024-10-09T04:59:34.520Z"
   },
   {
    "duration": 8,
    "start_time": "2024-10-09T04:59:34.641Z"
   },
   {
    "duration": 11,
    "start_time": "2024-10-09T04:59:34.651Z"
   },
   {
    "duration": 96,
    "start_time": "2024-10-09T04:59:34.664Z"
   },
   {
    "duration": 16,
    "start_time": "2024-10-09T04:59:34.762Z"
   },
   {
    "duration": 6,
    "start_time": "2024-10-09T04:59:34.782Z"
   },
   {
    "duration": 73,
    "start_time": "2024-10-09T04:59:34.795Z"
   },
   {
    "duration": 90,
    "start_time": "2024-10-09T04:59:34.870Z"
   },
   {
    "duration": 17536,
    "start_time": "2024-10-09T04:59:34.962Z"
   },
   {
    "duration": 41,
    "start_time": "2024-10-09T04:59:52.501Z"
   },
   {
    "duration": 6,
    "start_time": "2024-10-09T04:59:52.544Z"
   },
   {
    "duration": 51,
    "start_time": "2024-10-09T04:59:52.552Z"
   },
   {
    "duration": 24,
    "start_time": "2024-10-09T04:59:52.604Z"
   },
   {
    "duration": 4,
    "start_time": "2024-10-09T04:59:52.629Z"
   },
   {
    "duration": 7,
    "start_time": "2024-10-09T04:59:52.634Z"
   },
   {
    "duration": 120,
    "start_time": "2024-10-09T04:59:52.643Z"
   },
   {
    "duration": 12,
    "start_time": "2024-10-09T04:59:52.765Z"
   },
   {
    "duration": 9,
    "start_time": "2024-10-09T04:59:52.779Z"
   },
   {
    "duration": 5,
    "start_time": "2024-10-09T04:59:52.790Z"
   },
   {
    "duration": 4,
    "start_time": "2024-10-09T04:59:52.797Z"
   },
   {
    "duration": 54,
    "start_time": "2024-10-09T04:59:52.803Z"
   },
   {
    "duration": 10,
    "start_time": "2024-10-09T04:59:52.860Z"
   },
   {
    "duration": 7,
    "start_time": "2024-10-09T04:59:52.871Z"
   },
   {
    "duration": 26,
    "start_time": "2024-10-09T04:59:52.881Z"
   },
   {
    "duration": 15,
    "start_time": "2024-10-09T04:59:52.910Z"
   },
   {
    "duration": 26,
    "start_time": "2024-10-09T04:59:52.927Z"
   },
   {
    "duration": 6,
    "start_time": "2024-10-09T04:59:52.955Z"
   },
   {
    "duration": 4,
    "start_time": "2024-10-09T04:59:52.964Z"
   },
   {
    "duration": 9,
    "start_time": "2024-10-09T04:59:52.969Z"
   },
   {
    "duration": 207,
    "start_time": "2024-10-09T04:59:52.980Z"
   },
   {
    "duration": 10,
    "start_time": "2024-10-09T04:59:53.189Z"
   },
   {
    "duration": 26,
    "start_time": "2024-10-09T04:59:53.201Z"
   },
   {
    "duration": 375,
    "start_time": "2024-10-09T04:59:53.228Z"
   },
   {
    "duration": 0,
    "start_time": "2024-10-09T04:59:53.605Z"
   },
   {
    "duration": 0,
    "start_time": "2024-10-09T04:59:53.606Z"
   },
   {
    "duration": 0,
    "start_time": "2024-10-09T04:59:53.607Z"
   },
   {
    "duration": 0,
    "start_time": "2024-10-09T04:59:53.608Z"
   },
   {
    "duration": 167,
    "start_time": "2024-10-09T05:00:21.161Z"
   },
   {
    "duration": 6,
    "start_time": "2024-10-09T05:02:58.495Z"
   },
   {
    "duration": 7,
    "start_time": "2024-10-09T05:03:04.778Z"
   },
   {
    "duration": 4,
    "start_time": "2024-10-09T05:03:31.999Z"
   },
   {
    "duration": 341,
    "start_time": "2024-10-09T05:03:33.279Z"
   },
   {
    "duration": 6,
    "start_time": "2024-10-09T05:04:03.181Z"
   },
   {
    "duration": 200,
    "start_time": "2024-10-09T05:04:04.560Z"
   },
   {
    "duration": 6,
    "start_time": "2024-10-09T05:04:10.955Z"
   },
   {
    "duration": 6,
    "start_time": "2024-10-09T05:04:40.579Z"
   },
   {
    "duration": 4,
    "start_time": "2024-10-09T05:05:21.364Z"
   },
   {
    "duration": 7,
    "start_time": "2024-10-09T05:05:22.487Z"
   },
   {
    "duration": 5,
    "start_time": "2024-10-09T05:05:32.068Z"
   },
   {
    "duration": 42,
    "start_time": "2024-10-09T05:10:36.221Z"
   },
   {
    "duration": 761,
    "start_time": "2024-10-09T05:10:46.298Z"
   },
   {
    "duration": 352,
    "start_time": "2024-10-09T05:10:47.061Z"
   },
   {
    "duration": 74,
    "start_time": "2024-10-09T05:10:47.414Z"
   },
   {
    "duration": 68,
    "start_time": "2024-10-09T05:10:47.491Z"
   },
   {
    "duration": 21,
    "start_time": "2024-10-09T05:10:47.561Z"
   },
   {
    "duration": 10,
    "start_time": "2024-10-09T05:10:47.583Z"
   },
   {
    "duration": 29,
    "start_time": "2024-10-09T05:10:47.595Z"
   },
   {
    "duration": 18,
    "start_time": "2024-10-09T05:10:47.626Z"
   },
   {
    "duration": 3,
    "start_time": "2024-10-09T05:10:47.645Z"
   },
   {
    "duration": 175,
    "start_time": "2024-10-09T05:10:47.651Z"
   },
   {
    "duration": 362,
    "start_time": "2024-10-09T05:10:47.828Z"
   },
   {
    "duration": 5,
    "start_time": "2024-10-09T05:10:48.192Z"
   },
   {
    "duration": 246,
    "start_time": "2024-10-09T05:10:48.199Z"
   },
   {
    "duration": 187,
    "start_time": "2024-10-09T05:10:48.447Z"
   },
   {
    "duration": 168,
    "start_time": "2024-10-09T05:10:48.635Z"
   },
   {
    "duration": 5,
    "start_time": "2024-10-09T05:10:48.805Z"
   },
   {
    "duration": 491,
    "start_time": "2024-10-09T05:10:48.824Z"
   },
   {
    "duration": 4,
    "start_time": "2024-10-09T05:10:49.317Z"
   },
   {
    "duration": 17,
    "start_time": "2024-10-09T05:10:49.324Z"
   },
   {
    "duration": 6,
    "start_time": "2024-10-09T05:10:49.342Z"
   },
   {
    "duration": 5,
    "start_time": "2024-10-09T05:10:49.349Z"
   },
   {
    "duration": 27,
    "start_time": "2024-10-09T05:10:49.355Z"
   },
   {
    "duration": 6,
    "start_time": "2024-10-09T05:10:49.384Z"
   },
   {
    "duration": 39,
    "start_time": "2024-10-09T05:10:49.391Z"
   },
   {
    "duration": 179,
    "start_time": "2024-10-09T05:10:49.432Z"
   },
   {
    "duration": 96,
    "start_time": "2024-10-09T05:10:49.613Z"
   },
   {
    "duration": 24,
    "start_time": "2024-10-09T05:10:49.711Z"
   },
   {
    "duration": 13,
    "start_time": "2024-10-09T05:10:49.739Z"
   },
   {
    "duration": 4,
    "start_time": "2024-10-09T05:10:49.753Z"
   },
   {
    "duration": 220,
    "start_time": "2024-10-09T05:10:49.759Z"
   },
   {
    "duration": 13778,
    "start_time": "2024-10-09T05:10:49.982Z"
   },
   {
    "duration": 4,
    "start_time": "2024-10-09T05:11:03.762Z"
   },
   {
    "duration": 23,
    "start_time": "2024-10-09T05:11:03.767Z"
   },
   {
    "duration": 79,
    "start_time": "2024-10-09T05:11:03.792Z"
   },
   {
    "duration": 118,
    "start_time": "2024-10-09T05:11:03.873Z"
   },
   {
    "duration": 7,
    "start_time": "2024-10-09T05:11:03.993Z"
   },
   {
    "duration": 22,
    "start_time": "2024-10-09T05:11:04.002Z"
   },
   {
    "duration": 74,
    "start_time": "2024-10-09T05:11:04.026Z"
   },
   {
    "duration": 23,
    "start_time": "2024-10-09T05:11:04.102Z"
   },
   {
    "duration": 6,
    "start_time": "2024-10-09T05:11:04.127Z"
   },
   {
    "duration": 57,
    "start_time": "2024-10-09T05:11:04.135Z"
   },
   {
    "duration": 98,
    "start_time": "2024-10-09T05:11:04.194Z"
   },
   {
    "duration": 16466,
    "start_time": "2024-10-09T05:11:04.294Z"
   },
   {
    "duration": 35,
    "start_time": "2024-10-09T05:11:20.762Z"
   },
   {
    "duration": 6,
    "start_time": "2024-10-09T05:11:20.799Z"
   },
   {
    "duration": 67,
    "start_time": "2024-10-09T05:11:20.806Z"
   },
   {
    "duration": 6,
    "start_time": "2024-10-09T05:11:20.874Z"
   },
   {
    "duration": 3,
    "start_time": "2024-10-09T05:11:20.882Z"
   },
   {
    "duration": 7,
    "start_time": "2024-10-09T05:11:20.887Z"
   },
   {
    "duration": 122,
    "start_time": "2024-10-09T05:11:20.896Z"
   },
   {
    "duration": 11,
    "start_time": "2024-10-09T05:11:21.024Z"
   },
   {
    "duration": 7,
    "start_time": "2024-10-09T05:11:21.037Z"
   },
   {
    "duration": 2,
    "start_time": "2024-10-09T05:11:21.046Z"
   },
   {
    "duration": 2,
    "start_time": "2024-10-09T05:11:21.050Z"
   },
   {
    "duration": 23,
    "start_time": "2024-10-09T05:11:21.054Z"
   },
   {
    "duration": 6,
    "start_time": "2024-10-09T05:11:21.079Z"
   },
   {
    "duration": 38,
    "start_time": "2024-10-09T05:11:21.087Z"
   },
   {
    "duration": 16,
    "start_time": "2024-10-09T05:11:21.126Z"
   },
   {
    "duration": 3,
    "start_time": "2024-10-09T05:11:21.143Z"
   },
   {
    "duration": 25,
    "start_time": "2024-10-09T05:11:21.148Z"
   },
   {
    "duration": 8,
    "start_time": "2024-10-09T05:11:21.175Z"
   },
   {
    "duration": 8,
    "start_time": "2024-10-09T05:11:21.185Z"
   },
   {
    "duration": 32,
    "start_time": "2024-10-09T05:11:21.194Z"
   },
   {
    "duration": 190,
    "start_time": "2024-10-09T05:11:21.228Z"
   },
   {
    "duration": 6,
    "start_time": "2024-10-09T05:11:21.423Z"
   },
   {
    "duration": 8,
    "start_time": "2024-10-09T05:11:21.430Z"
   },
   {
    "duration": 6,
    "start_time": "2024-10-09T05:11:21.439Z"
   },
   {
    "duration": 4,
    "start_time": "2024-10-09T05:11:21.446Z"
   },
   {
    "duration": 6,
    "start_time": "2024-10-09T05:11:21.452Z"
   },
   {
    "duration": 637,
    "start_time": "2024-10-09T05:11:21.459Z"
   },
   {
    "duration": 0,
    "start_time": "2024-10-09T05:11:22.098Z"
   },
   {
    "duration": 4,
    "start_time": "2024-10-09T05:11:48.000Z"
   },
   {
    "duration": 10,
    "start_time": "2024-10-09T05:11:49.423Z"
   },
   {
    "duration": 4,
    "start_time": "2024-10-09T05:14:12.397Z"
   },
   {
    "duration": 14,
    "start_time": "2024-10-09T05:29:09.186Z"
   },
   {
    "duration": 16,
    "start_time": "2024-10-09T05:29:27.732Z"
   },
   {
    "duration": 23,
    "start_time": "2024-10-09T05:29:40.383Z"
   },
   {
    "duration": 4,
    "start_time": "2024-10-09T05:30:06.173Z"
   },
   {
    "duration": 354,
    "start_time": "2024-10-09T05:31:54.318Z"
   },
   {
    "duration": 49,
    "start_time": "2024-10-09T05:33:44.037Z"
   },
   {
    "duration": 40,
    "start_time": "2024-10-09T05:34:30.857Z"
   },
   {
    "duration": 5,
    "start_time": "2024-10-09T05:36:37.004Z"
   },
   {
    "duration": 6,
    "start_time": "2024-10-09T05:37:06.615Z"
   },
   {
    "duration": 7,
    "start_time": "2024-10-09T05:41:02.807Z"
   },
   {
    "duration": 9,
    "start_time": "2024-10-09T05:41:42.961Z"
   },
   {
    "duration": 5,
    "start_time": "2024-10-09T05:43:25.650Z"
   },
   {
    "duration": 3,
    "start_time": "2024-10-09T05:43:35.505Z"
   },
   {
    "duration": 4,
    "start_time": "2024-10-09T05:43:43.956Z"
   },
   {
    "duration": 3,
    "start_time": "2024-10-09T05:44:47.170Z"
   },
   {
    "duration": 3,
    "start_time": "2024-10-09T05:44:53.999Z"
   },
   {
    "duration": 14,
    "start_time": "2024-10-09T05:48:35.615Z"
   },
   {
    "duration": 3,
    "start_time": "2024-10-09T05:50:29.839Z"
   },
   {
    "duration": 4,
    "start_time": "2024-10-09T05:50:41.066Z"
   },
   {
    "duration": 9,
    "start_time": "2024-10-09T05:52:38.232Z"
   },
   {
    "duration": 4,
    "start_time": "2024-10-09T05:53:06.077Z"
   },
   {
    "duration": 3,
    "start_time": "2024-10-09T05:53:07.206Z"
   },
   {
    "duration": 801,
    "start_time": "2024-10-09T05:53:42.369Z"
   },
   {
    "duration": 340,
    "start_time": "2024-10-09T05:53:43.171Z"
   },
   {
    "duration": 74,
    "start_time": "2024-10-09T05:53:43.513Z"
   },
   {
    "duration": 63,
    "start_time": "2024-10-09T05:53:43.589Z"
   },
   {
    "duration": 20,
    "start_time": "2024-10-09T05:53:43.654Z"
   },
   {
    "duration": 10,
    "start_time": "2024-10-09T05:53:43.676Z"
   },
   {
    "duration": 10,
    "start_time": "2024-10-09T05:53:43.688Z"
   },
   {
    "duration": 39,
    "start_time": "2024-10-09T05:53:43.700Z"
   },
   {
    "duration": 4,
    "start_time": "2024-10-09T05:53:43.741Z"
   },
   {
    "duration": 177,
    "start_time": "2024-10-09T05:53:43.749Z"
   },
   {
    "duration": 350,
    "start_time": "2024-10-09T05:53:43.927Z"
   },
   {
    "duration": 4,
    "start_time": "2024-10-09T05:53:44.279Z"
   },
   {
    "duration": 260,
    "start_time": "2024-10-09T05:53:44.285Z"
   },
   {
    "duration": 187,
    "start_time": "2024-10-09T05:53:44.546Z"
   },
   {
    "duration": 178,
    "start_time": "2024-10-09T05:53:44.735Z"
   },
   {
    "duration": 4,
    "start_time": "2024-10-09T05:53:44.923Z"
   },
   {
    "duration": 482,
    "start_time": "2024-10-09T05:53:44.929Z"
   },
   {
    "duration": 13,
    "start_time": "2024-10-09T05:53:45.412Z"
   },
   {
    "duration": 17,
    "start_time": "2024-10-09T05:53:45.426Z"
   },
   {
    "duration": 6,
    "start_time": "2024-10-09T05:53:45.445Z"
   },
   {
    "duration": 5,
    "start_time": "2024-10-09T05:53:45.452Z"
   },
   {
    "duration": 27,
    "start_time": "2024-10-09T05:53:45.458Z"
   },
   {
    "duration": 6,
    "start_time": "2024-10-09T05:53:45.487Z"
   },
   {
    "duration": 33,
    "start_time": "2024-10-09T05:53:45.494Z"
   },
   {
    "duration": 179,
    "start_time": "2024-10-09T05:53:45.528Z"
   },
   {
    "duration": 98,
    "start_time": "2024-10-09T05:53:45.709Z"
   },
   {
    "duration": 25,
    "start_time": "2024-10-09T05:53:45.809Z"
   },
   {
    "duration": 12,
    "start_time": "2024-10-09T05:53:45.838Z"
   },
   {
    "duration": 4,
    "start_time": "2024-10-09T05:53:45.852Z"
   },
   {
    "duration": 223,
    "start_time": "2024-10-09T05:53:45.858Z"
   },
   {
    "duration": 13691,
    "start_time": "2024-10-09T05:53:46.083Z"
   },
   {
    "duration": 4,
    "start_time": "2024-10-09T05:53:59.776Z"
   },
   {
    "duration": 22,
    "start_time": "2024-10-09T05:53:59.781Z"
   },
   {
    "duration": 70,
    "start_time": "2024-10-09T05:53:59.804Z"
   },
   {
    "duration": 112,
    "start_time": "2024-10-09T05:53:59.876Z"
   },
   {
    "duration": 6,
    "start_time": "2024-10-09T05:53:59.990Z"
   },
   {
    "duration": 10,
    "start_time": "2024-10-09T05:53:59.997Z"
   },
   {
    "duration": 79,
    "start_time": "2024-10-09T05:54:00.008Z"
   },
   {
    "duration": 14,
    "start_time": "2024-10-09T05:54:00.089Z"
   },
   {
    "duration": 22,
    "start_time": "2024-10-09T05:54:00.105Z"
   },
   {
    "duration": 52,
    "start_time": "2024-10-09T05:54:00.128Z"
   },
   {
    "duration": 90,
    "start_time": "2024-10-09T05:54:00.182Z"
   },
   {
    "duration": 16809,
    "start_time": "2024-10-09T05:54:00.273Z"
   },
   {
    "duration": 45,
    "start_time": "2024-10-09T05:54:17.084Z"
   },
   {
    "duration": 7,
    "start_time": "2024-10-09T05:54:17.130Z"
   },
   {
    "duration": 51,
    "start_time": "2024-10-09T05:54:17.138Z"
   },
   {
    "duration": 6,
    "start_time": "2024-10-09T05:54:17.190Z"
   },
   {
    "duration": 3,
    "start_time": "2024-10-09T05:54:17.197Z"
   },
   {
    "duration": 7,
    "start_time": "2024-10-09T05:54:17.224Z"
   },
   {
    "duration": 108,
    "start_time": "2024-10-09T05:54:17.232Z"
   },
   {
    "duration": 11,
    "start_time": "2024-10-09T05:54:17.342Z"
   },
   {
    "duration": 7,
    "start_time": "2024-10-09T05:54:17.355Z"
   },
   {
    "duration": 3,
    "start_time": "2024-10-09T05:54:17.363Z"
   },
   {
    "duration": 3,
    "start_time": "2024-10-09T05:54:17.367Z"
   },
   {
    "duration": 23,
    "start_time": "2024-10-09T05:54:17.372Z"
   },
   {
    "duration": 29,
    "start_time": "2024-10-09T05:54:17.397Z"
   },
   {
    "duration": 15,
    "start_time": "2024-10-09T05:54:17.428Z"
   },
   {
    "duration": 4,
    "start_time": "2024-10-09T05:54:17.444Z"
   },
   {
    "duration": 26,
    "start_time": "2024-10-09T05:54:17.449Z"
   },
   {
    "duration": 3,
    "start_time": "2024-10-09T05:54:17.477Z"
   },
   {
    "duration": 3,
    "start_time": "2024-10-09T05:54:17.482Z"
   },
   {
    "duration": 41,
    "start_time": "2024-10-09T05:54:17.486Z"
   },
   {
    "duration": 4,
    "start_time": "2024-10-09T05:54:17.530Z"
   },
   {
    "duration": 8,
    "start_time": "2024-10-09T05:54:17.535Z"
   },
   {
    "duration": 204,
    "start_time": "2024-10-09T05:54:17.546Z"
   },
   {
    "duration": 6,
    "start_time": "2024-10-09T05:54:17.751Z"
   },
   {
    "duration": 7,
    "start_time": "2024-10-09T05:54:17.758Z"
   },
   {
    "duration": 5,
    "start_time": "2024-10-09T05:54:17.766Z"
   },
   {
    "duration": 4,
    "start_time": "2024-10-09T05:54:17.772Z"
   },
   {
    "duration": 2,
    "start_time": "2024-10-09T05:54:17.778Z"
   },
   {
    "duration": 4,
    "start_time": "2024-10-09T05:54:17.782Z"
   },
   {
    "duration": 2863,
    "start_time": "2024-10-09T19:14:51.019Z"
   },
   {
    "duration": 511,
    "start_time": "2024-10-09T19:14:53.888Z"
   },
   {
    "duration": 78,
    "start_time": "2024-10-09T19:14:54.401Z"
   },
   {
    "duration": 57,
    "start_time": "2024-10-09T19:14:54.481Z"
   },
   {
    "duration": 22,
    "start_time": "2024-10-09T19:14:54.540Z"
   },
   {
    "duration": 12,
    "start_time": "2024-10-09T19:14:58.314Z"
   },
   {
    "duration": 14,
    "start_time": "2024-10-09T19:14:58.587Z"
   },
   {
    "duration": 19,
    "start_time": "2024-10-09T19:14:59.153Z"
   },
   {
    "duration": 4,
    "start_time": "2024-10-09T19:15:01.597Z"
   },
   {
    "duration": 186,
    "start_time": "2024-10-09T19:15:01.927Z"
   },
   {
    "duration": 367,
    "start_time": "2024-10-09T19:15:28.593Z"
   },
   {
    "duration": 4,
    "start_time": "2024-10-09T19:15:29.763Z"
   },
   {
    "duration": 275,
    "start_time": "2024-10-09T19:15:31.711Z"
   },
   {
    "duration": 195,
    "start_time": "2024-10-09T19:15:32.011Z"
   },
   {
    "duration": 128,
    "start_time": "2024-10-09T19:15:32.577Z"
   },
   {
    "duration": 5,
    "start_time": "2024-10-09T19:15:38.153Z"
   },
   {
    "duration": 493,
    "start_time": "2024-10-09T19:17:00.685Z"
   },
   {
    "duration": 8,
    "start_time": "2024-10-09T19:17:01.180Z"
   },
   {
    "duration": 18,
    "start_time": "2024-10-09T19:17:01.190Z"
   },
   {
    "duration": 7,
    "start_time": "2024-10-09T19:17:01.367Z"
   },
   {
    "duration": 4,
    "start_time": "2024-10-09T19:17:01.530Z"
   },
   {
    "duration": 30,
    "start_time": "2024-10-09T19:17:01.736Z"
   },
   {
    "duration": 6,
    "start_time": "2024-10-09T19:17:01.951Z"
   },
   {
    "duration": 9,
    "start_time": "2024-10-09T19:17:02.298Z"
   },
   {
    "duration": 178,
    "start_time": "2024-10-09T19:17:02.523Z"
   },
   {
    "duration": 98,
    "start_time": "2024-10-09T19:17:44.133Z"
   },
   {
    "duration": 18,
    "start_time": "2024-10-09T19:17:44.449Z"
   },
   {
    "duration": 15,
    "start_time": "2024-10-09T19:17:44.669Z"
   },
   {
    "duration": 5,
    "start_time": "2024-10-09T19:17:53.889Z"
   },
   {
    "duration": 210,
    "start_time": "2024-10-09T19:23:24.739Z"
   },
   {
    "duration": 14231,
    "start_time": "2024-10-09T19:23:24.951Z"
   },
   {
    "duration": 3,
    "start_time": "2024-10-09T19:23:39.187Z"
   },
   {
    "duration": 24,
    "start_time": "2024-10-09T19:23:39.192Z"
   },
   {
    "duration": 77,
    "start_time": "2024-10-09T19:23:39.218Z"
   },
   {
    "duration": 131,
    "start_time": "2024-10-09T19:23:39.296Z"
   },
   {
    "duration": 7,
    "start_time": "2024-10-09T19:23:39.429Z"
   },
   {
    "duration": 11,
    "start_time": "2024-10-09T19:23:39.437Z"
   },
   {
    "duration": 96,
    "start_time": "2024-10-09T19:23:39.450Z"
   },
   {
    "duration": 16,
    "start_time": "2024-10-09T19:23:39.547Z"
   },
   {
    "duration": 22,
    "start_time": "2024-10-09T19:23:39.566Z"
   },
   {
    "duration": 62,
    "start_time": "2024-10-09T19:23:39.590Z"
   },
   {
    "duration": 85,
    "start_time": "2024-10-09T19:23:39.654Z"
   },
   {
    "duration": 16829,
    "start_time": "2024-10-09T19:23:43.036Z"
   },
   {
    "duration": 47,
    "start_time": "2024-10-09T19:26:12.977Z"
   },
   {
    "duration": 7,
    "start_time": "2024-10-09T19:26:13.636Z"
   },
   {
    "duration": 55,
    "start_time": "2024-10-09T19:26:13.935Z"
   },
   {
    "duration": 7,
    "start_time": "2024-10-09T19:26:14.473Z"
   },
   {
    "duration": 5,
    "start_time": "2024-10-09T19:26:14.838Z"
   },
   {
    "duration": 7,
    "start_time": "2024-10-09T19:26:15.639Z"
   },
   {
    "duration": 111,
    "start_time": "2024-10-09T19:26:23.179Z"
   },
   {
    "duration": 12,
    "start_time": "2024-10-09T19:28:38.142Z"
   },
   {
    "duration": 8,
    "start_time": "2024-10-09T19:28:38.379Z"
   },
   {
    "duration": 3,
    "start_time": "2024-10-09T19:29:01.074Z"
   },
   {
    "duration": 2,
    "start_time": "2024-10-09T19:29:01.532Z"
   },
   {
    "duration": 27,
    "start_time": "2024-10-09T19:29:04.146Z"
   },
   {
    "duration": 4,
    "start_time": "2024-10-09T19:29:05.321Z"
   },
   {
    "duration": 18,
    "start_time": "2024-10-09T19:29:05.847Z"
   },
   {
    "duration": 4,
    "start_time": "2024-10-09T19:29:06.172Z"
   },
   {
    "duration": 96,
    "start_time": "2024-10-09T19:29:06.858Z"
   },
   {
    "duration": 3,
    "start_time": "2024-10-09T19:29:07.806Z"
   },
   {
    "duration": 4,
    "start_time": "2024-10-09T19:29:09.649Z"
   },
   {
    "duration": 7,
    "start_time": "2024-10-09T19:30:22.309Z"
   },
   {
    "duration": 4,
    "start_time": "2024-10-09T19:30:22.782Z"
   },
   {
    "duration": 8,
    "start_time": "2024-10-09T19:30:24.611Z"
   },
   {
    "duration": 189,
    "start_time": "2024-10-09T19:30:24.828Z"
   },
   {
    "duration": 7,
    "start_time": "2024-10-09T19:30:28.963Z"
   },
   {
    "duration": 7,
    "start_time": "2024-10-09T19:30:29.158Z"
   },
   {
    "duration": 3,
    "start_time": "2024-10-09T19:30:29.331Z"
   },
   {
    "duration": 4,
    "start_time": "2024-10-09T19:30:29.517Z"
   },
   {
    "duration": 3,
    "start_time": "2024-10-09T19:30:33.591Z"
   },
   {
    "duration": 4,
    "start_time": "2024-10-09T19:30:34.326Z"
   },
   {
    "duration": 15,
    "start_time": "2024-10-09T19:36:11.228Z"
   },
   {
    "duration": 15,
    "start_time": "2024-10-09T19:38:01.624Z"
   },
   {
    "duration": 27,
    "start_time": "2024-10-09T19:38:07.542Z"
   },
   {
    "duration": 4,
    "start_time": "2024-10-09T19:38:07.726Z"
   },
   {
    "duration": 16,
    "start_time": "2024-10-09T19:38:08.161Z"
   },
   {
    "duration": 4,
    "start_time": "2024-10-09T19:38:08.628Z"
   },
   {
    "duration": 26,
    "start_time": "2024-10-09T19:38:11.614Z"
   },
   {
    "duration": 29,
    "start_time": "2024-10-09T19:38:15.490Z"
   },
   {
    "duration": 7,
    "start_time": "2024-10-09T19:45:40.018Z"
   },
   {
    "duration": 4,
    "start_time": "2024-10-09T19:45:40.305Z"
   },
   {
    "duration": 8,
    "start_time": "2024-10-09T19:45:40.758Z"
   },
   {
    "duration": 196,
    "start_time": "2024-10-09T19:45:40.990Z"
   },
   {
    "duration": 6,
    "start_time": "2024-10-09T19:47:53.345Z"
   },
   {
    "duration": 6,
    "start_time": "2024-10-09T19:47:53.969Z"
   },
   {
    "duration": 4,
    "start_time": "2024-10-09T19:47:54.154Z"
   },
   {
    "duration": 3,
    "start_time": "2024-10-09T19:47:54.377Z"
   },
   {
    "duration": 17,
    "start_time": "2024-10-09T19:48:12.416Z"
   },
   {
    "duration": 5,
    "start_time": "2024-10-09T19:57:24.463Z"
   },
   {
    "duration": 13,
    "start_time": "2024-10-09T19:57:54.440Z"
   },
   {
    "duration": 128,
    "start_time": "2024-10-09T19:58:03.552Z"
   },
   {
    "duration": 13,
    "start_time": "2024-10-09T19:58:06.768Z"
   },
   {
    "duration": 5,
    "start_time": "2024-10-09T19:58:16.794Z"
   },
   {
    "duration": 4,
    "start_time": "2024-10-09T19:58:38.596Z"
   },
   {
    "duration": 8,
    "start_time": "2024-10-09T20:00:02.061Z"
   },
   {
    "duration": 7,
    "start_time": "2024-10-09T20:00:09.048Z"
   },
   {
    "duration": 7,
    "start_time": "2024-10-09T20:00:12.119Z"
   },
   {
    "duration": 5,
    "start_time": "2024-10-09T20:00:24.291Z"
   },
   {
    "duration": 6,
    "start_time": "2024-10-09T20:01:16.430Z"
   },
   {
    "duration": 6,
    "start_time": "2024-10-09T20:02:02.291Z"
   },
   {
    "duration": 6,
    "start_time": "2024-10-09T20:02:11.089Z"
   },
   {
    "duration": 4,
    "start_time": "2024-10-09T20:07:12.013Z"
   },
   {
    "duration": 5,
    "start_time": "2024-10-09T20:07:53.372Z"
   },
   {
    "duration": 5,
    "start_time": "2024-10-09T20:08:34.525Z"
   },
   {
    "duration": 2813,
    "start_time": "2024-10-10T01:20:03.042Z"
   },
   {
    "duration": 495,
    "start_time": "2024-10-10T01:20:05.858Z"
   },
   {
    "duration": 77,
    "start_time": "2024-10-10T01:20:06.355Z"
   },
   {
    "duration": 52,
    "start_time": "2024-10-10T01:20:06.436Z"
   },
   {
    "duration": 43,
    "start_time": "2024-10-10T01:20:06.490Z"
   },
   {
    "duration": 14,
    "start_time": "2024-10-10T01:20:06.536Z"
   },
   {
    "duration": 10,
    "start_time": "2024-10-10T01:20:06.552Z"
   },
   {
    "duration": 17,
    "start_time": "2024-10-10T01:20:06.564Z"
   },
   {
    "duration": 3,
    "start_time": "2024-10-10T01:20:06.583Z"
   },
   {
    "duration": 220,
    "start_time": "2024-10-10T01:20:06.591Z"
   },
   {
    "duration": 381,
    "start_time": "2024-10-10T01:20:06.813Z"
   },
   {
    "duration": 4,
    "start_time": "2024-10-10T01:20:07.196Z"
   },
   {
    "duration": 238,
    "start_time": "2024-10-10T01:20:07.202Z"
   },
   {
    "duration": 196,
    "start_time": "2024-10-10T01:20:07.442Z"
   },
   {
    "duration": 144,
    "start_time": "2024-10-10T01:20:07.641Z"
   },
   {
    "duration": 5,
    "start_time": "2024-10-10T01:20:07.787Z"
   },
   {
    "duration": 524,
    "start_time": "2024-10-10T01:20:07.794Z"
   },
   {
    "duration": 13,
    "start_time": "2024-10-10T01:20:08.320Z"
   },
   {
    "duration": 18,
    "start_time": "2024-10-10T01:20:08.337Z"
   },
   {
    "duration": 7,
    "start_time": "2024-10-10T01:20:08.357Z"
   },
   {
    "duration": 4,
    "start_time": "2024-10-10T01:20:08.366Z"
   },
   {
    "duration": 29,
    "start_time": "2024-10-10T01:20:08.371Z"
   },
   {
    "duration": 31,
    "start_time": "2024-10-10T01:20:08.402Z"
   },
   {
    "duration": 10,
    "start_time": "2024-10-10T01:20:08.436Z"
   },
   {
    "duration": 202,
    "start_time": "2024-10-10T01:20:08.447Z"
   },
   {
    "duration": 103,
    "start_time": "2024-10-10T01:20:08.651Z"
   },
   {
    "duration": 16,
    "start_time": "2024-10-10T01:20:08.755Z"
   },
   {
    "duration": 14,
    "start_time": "2024-10-10T01:20:08.776Z"
   },
   {
    "duration": 4,
    "start_time": "2024-10-10T01:20:08.792Z"
   },
   {
    "duration": 303,
    "start_time": "2024-10-10T01:20:08.798Z"
   },
   {
    "duration": 13242,
    "start_time": "2024-10-10T01:20:09.103Z"
   },
   {
    "duration": 4,
    "start_time": "2024-10-10T01:20:22.346Z"
   },
   {
    "duration": 24,
    "start_time": "2024-10-10T01:20:22.352Z"
   },
   {
    "duration": 75,
    "start_time": "2024-10-10T01:20:22.378Z"
   },
   {
    "duration": 116,
    "start_time": "2024-10-10T01:20:22.455Z"
   },
   {
    "duration": 7,
    "start_time": "2024-10-10T01:20:22.573Z"
   },
   {
    "duration": 10,
    "start_time": "2024-10-10T01:20:22.582Z"
   },
   {
    "duration": 98,
    "start_time": "2024-10-10T01:20:22.594Z"
   },
   {
    "duration": 14,
    "start_time": "2024-10-10T01:20:22.694Z"
   },
   {
    "duration": 7,
    "start_time": "2024-10-10T01:20:22.710Z"
   },
   {
    "duration": 67,
    "start_time": "2024-10-10T01:20:22.718Z"
   },
   {
    "duration": 86,
    "start_time": "2024-10-10T01:20:22.787Z"
   },
   {
    "duration": 16298,
    "start_time": "2024-10-10T01:20:22.875Z"
   },
   {
    "duration": 56,
    "start_time": "2024-10-10T01:20:39.175Z"
   },
   {
    "duration": 6,
    "start_time": "2024-10-10T01:20:39.235Z"
   },
   {
    "duration": 53,
    "start_time": "2024-10-10T01:20:39.243Z"
   },
   {
    "duration": 7,
    "start_time": "2024-10-10T01:20:39.298Z"
   },
   {
    "duration": 25,
    "start_time": "2024-10-10T01:20:39.307Z"
   },
   {
    "duration": 7,
    "start_time": "2024-10-10T01:20:39.334Z"
   },
   {
    "duration": 118,
    "start_time": "2024-10-10T01:20:39.343Z"
   },
   {
    "duration": 13,
    "start_time": "2024-10-10T01:20:39.463Z"
   },
   {
    "duration": 8,
    "start_time": "2024-10-10T01:20:39.477Z"
   },
   {
    "duration": 3,
    "start_time": "2024-10-10T01:20:39.487Z"
   },
   {
    "duration": 3,
    "start_time": "2024-10-10T01:20:39.491Z"
   },
   {
    "duration": 58,
    "start_time": "2024-10-10T01:20:39.496Z"
   },
   {
    "duration": 4,
    "start_time": "2024-10-10T01:20:39.556Z"
   },
   {
    "duration": 16,
    "start_time": "2024-10-10T01:20:39.562Z"
   },
   {
    "duration": 4,
    "start_time": "2024-10-10T01:20:39.581Z"
   },
   {
    "duration": 24,
    "start_time": "2024-10-10T01:20:39.586Z"
   },
   {
    "duration": 3,
    "start_time": "2024-10-10T01:20:39.631Z"
   },
   {
    "duration": 12,
    "start_time": "2024-10-10T01:20:39.636Z"
   },
   {
    "duration": 3,
    "start_time": "2024-10-10T01:20:39.650Z"
   },
   {
    "duration": 6,
    "start_time": "2024-10-10T01:20:39.655Z"
   },
   {
    "duration": 4,
    "start_time": "2024-10-10T01:20:39.662Z"
   },
   {
    "duration": 8,
    "start_time": "2024-10-10T01:20:39.667Z"
   },
   {
    "duration": 225,
    "start_time": "2024-10-10T01:20:39.677Z"
   },
   {
    "duration": 6,
    "start_time": "2024-10-10T01:20:39.904Z"
   },
   {
    "duration": 19,
    "start_time": "2024-10-10T01:20:39.912Z"
   },
   {
    "duration": 4,
    "start_time": "2024-10-10T01:20:39.933Z"
   },
   {
    "duration": 4,
    "start_time": "2024-10-10T01:20:39.939Z"
   },
   {
    "duration": 4,
    "start_time": "2024-10-10T01:20:39.944Z"
   },
   {
    "duration": 4,
    "start_time": "2024-10-10T01:20:39.949Z"
   },
   {
    "duration": 3,
    "start_time": "2024-10-10T01:24:47.464Z"
   },
   {
    "duration": 3,
    "start_time": "2024-10-10T01:24:48.053Z"
   },
   {
    "duration": 5,
    "start_time": "2024-10-10T02:11:28.847Z"
   },
   {
    "duration": 3,
    "start_time": "2024-10-10T02:11:29.986Z"
   },
   {
    "duration": 4,
    "start_time": "2024-10-10T02:12:37.235Z"
   },
   {
    "duration": 14,
    "start_time": "2024-10-10T02:12:40.880Z"
   },
   {
    "duration": 3,
    "start_time": "2024-10-10T02:12:45.754Z"
   },
   {
    "duration": 7,
    "start_time": "2024-10-10T02:21:06.391Z"
   },
   {
    "duration": 13,
    "start_time": "2024-10-10T02:25:15.517Z"
   },
   {
    "duration": 11,
    "start_time": "2024-10-10T02:25:58.618Z"
   },
   {
    "duration": 220,
    "start_time": "2024-10-10T02:26:08.968Z"
   },
   {
    "duration": 5,
    "start_time": "2024-10-10T02:26:14.977Z"
   },
   {
    "duration": 15,
    "start_time": "2024-10-10T02:26:28.441Z"
   },
   {
    "duration": 6,
    "start_time": "2024-10-10T02:26:30.792Z"
   },
   {
    "duration": 68,
    "start_time": "2024-10-10T02:26:49.642Z"
   },
   {
    "duration": 11,
    "start_time": "2024-10-10T02:27:09.302Z"
   },
   {
    "duration": 5,
    "start_time": "2024-10-10T02:27:09.966Z"
   },
   {
    "duration": 11,
    "start_time": "2024-10-10T02:27:18.420Z"
   },
   {
    "duration": 4,
    "start_time": "2024-10-10T02:27:19.021Z"
   },
   {
    "duration": 12,
    "start_time": "2024-10-10T02:29:34.699Z"
   },
   {
    "duration": 5,
    "start_time": "2024-10-10T02:29:35.863Z"
   },
   {
    "duration": 11,
    "start_time": "2024-10-10T02:29:56.164Z"
   },
   {
    "duration": 4,
    "start_time": "2024-10-10T02:30:06.508Z"
   },
   {
    "duration": 873,
    "start_time": "2024-10-10T02:30:14.600Z"
   },
   {
    "duration": 408,
    "start_time": "2024-10-10T02:30:15.476Z"
   },
   {
    "duration": 80,
    "start_time": "2024-10-10T02:30:15.886Z"
   },
   {
    "duration": 52,
    "start_time": "2024-10-10T02:30:15.968Z"
   },
   {
    "duration": 20,
    "start_time": "2024-10-10T02:30:16.031Z"
   },
   {
    "duration": 11,
    "start_time": "2024-10-10T02:30:16.053Z"
   },
   {
    "duration": 11,
    "start_time": "2024-10-10T02:30:16.065Z"
   },
   {
    "duration": 17,
    "start_time": "2024-10-10T02:30:16.078Z"
   },
   {
    "duration": 35,
    "start_time": "2024-10-10T02:30:16.097Z"
   },
   {
    "duration": 213,
    "start_time": "2024-10-10T02:30:16.136Z"
   },
   {
    "duration": 384,
    "start_time": "2024-10-10T02:30:16.351Z"
   },
   {
    "duration": 5,
    "start_time": "2024-10-10T02:30:16.737Z"
   },
   {
    "duration": 248,
    "start_time": "2024-10-10T02:30:16.744Z"
   },
   {
    "duration": 191,
    "start_time": "2024-10-10T02:30:16.994Z"
   },
   {
    "duration": 198,
    "start_time": "2024-10-10T02:30:17.187Z"
   },
   {
    "duration": 6,
    "start_time": "2024-10-10T02:30:17.387Z"
   },
   {
    "duration": 528,
    "start_time": "2024-10-10T02:30:17.394Z"
   },
   {
    "duration": 12,
    "start_time": "2024-10-10T02:30:17.924Z"
   },
   {
    "duration": 22,
    "start_time": "2024-10-10T02:30:17.938Z"
   },
   {
    "duration": 6,
    "start_time": "2024-10-10T02:30:17.962Z"
   },
   {
    "duration": 4,
    "start_time": "2024-10-10T02:30:17.970Z"
   },
   {
    "duration": 29,
    "start_time": "2024-10-10T02:30:17.976Z"
   },
   {
    "duration": 7,
    "start_time": "2024-10-10T02:30:18.032Z"
   },
   {
    "duration": 10,
    "start_time": "2024-10-10T02:30:18.042Z"
   },
   {
    "duration": 200,
    "start_time": "2024-10-10T02:30:18.055Z"
   },
   {
    "duration": 108,
    "start_time": "2024-10-10T02:30:18.257Z"
   },
   {
    "duration": 16,
    "start_time": "2024-10-10T02:30:18.366Z"
   },
   {
    "duration": 14,
    "start_time": "2024-10-10T02:30:18.386Z"
   },
   {
    "duration": 4,
    "start_time": "2024-10-10T02:30:18.402Z"
   },
   {
    "duration": 217,
    "start_time": "2024-10-10T02:30:18.431Z"
   },
   {
    "duration": 13038,
    "start_time": "2024-10-10T02:30:18.650Z"
   },
   {
    "duration": 6,
    "start_time": "2024-10-10T02:30:31.698Z"
   },
   {
    "duration": 27,
    "start_time": "2024-10-10T02:30:31.706Z"
   },
   {
    "duration": 55,
    "start_time": "2024-10-10T02:30:31.735Z"
   },
   {
    "duration": 135,
    "start_time": "2024-10-10T02:30:31.792Z"
   },
   {
    "duration": 6,
    "start_time": "2024-10-10T02:30:31.929Z"
   },
   {
    "duration": 11,
    "start_time": "2024-10-10T02:30:31.937Z"
   },
   {
    "duration": 96,
    "start_time": "2024-10-10T02:30:31.950Z"
   },
   {
    "duration": 15,
    "start_time": "2024-10-10T02:30:32.047Z"
   },
   {
    "duration": 5,
    "start_time": "2024-10-10T02:30:32.064Z"
   },
   {
    "duration": 81,
    "start_time": "2024-10-10T02:30:32.071Z"
   },
   {
    "duration": 87,
    "start_time": "2024-10-10T02:30:32.155Z"
   },
   {
    "duration": 16434,
    "start_time": "2024-10-10T02:30:32.244Z"
   },
   {
    "duration": 56,
    "start_time": "2024-10-10T02:30:48.679Z"
   },
   {
    "duration": 8,
    "start_time": "2024-10-10T02:30:48.736Z"
   },
   {
    "duration": 52,
    "start_time": "2024-10-10T02:30:48.746Z"
   },
   {
    "duration": 6,
    "start_time": "2024-10-10T02:30:48.800Z"
   },
   {
    "duration": 25,
    "start_time": "2024-10-10T02:30:48.808Z"
   },
   {
    "duration": 7,
    "start_time": "2024-10-10T02:30:48.835Z"
   },
   {
    "duration": 117,
    "start_time": "2024-10-10T02:30:48.844Z"
   },
   {
    "duration": 13,
    "start_time": "2024-10-10T02:30:48.963Z"
   },
   {
    "duration": 8,
    "start_time": "2024-10-10T02:30:48.978Z"
   },
   {
    "duration": 11,
    "start_time": "2024-10-10T02:30:48.988Z"
   },
   {
    "duration": 5,
    "start_time": "2024-10-10T02:30:49.000Z"
   },
   {
    "duration": 31,
    "start_time": "2024-10-10T02:30:49.007Z"
   },
   {
    "duration": 3,
    "start_time": "2024-10-10T02:30:49.040Z"
   },
   {
    "duration": 4,
    "start_time": "2024-10-10T02:30:49.044Z"
   },
   {
    "duration": 28,
    "start_time": "2024-10-10T02:30:49.049Z"
   },
   {
    "duration": 4,
    "start_time": "2024-10-10T02:30:49.079Z"
   },
   {
    "duration": 49,
    "start_time": "2024-10-10T02:30:49.084Z"
   },
   {
    "duration": 3,
    "start_time": "2024-10-10T02:30:49.135Z"
   },
   {
    "duration": 24,
    "start_time": "2024-10-10T02:30:49.140Z"
   },
   {
    "duration": 5,
    "start_time": "2024-10-10T02:30:49.166Z"
   },
   {
    "duration": 4,
    "start_time": "2024-10-10T02:30:49.172Z"
   },
   {
    "duration": 5,
    "start_time": "2024-10-10T02:30:49.179Z"
   },
   {
    "duration": 4,
    "start_time": "2024-10-10T02:30:49.185Z"
   },
   {
    "duration": 45,
    "start_time": "2024-10-10T02:30:49.191Z"
   },
   {
    "duration": 196,
    "start_time": "2024-10-10T02:30:49.238Z"
   },
   {
    "duration": 5,
    "start_time": "2024-10-10T02:30:49.437Z"
   },
   {
    "duration": 4,
    "start_time": "2024-10-10T02:30:49.444Z"
   },
   {
    "duration": 3,
    "start_time": "2024-10-10T02:30:49.450Z"
   },
   {
    "duration": 4,
    "start_time": "2024-10-10T02:30:49.455Z"
   },
   {
    "duration": 13,
    "start_time": "2024-10-10T02:31:33.541Z"
   },
   {
    "duration": 6,
    "start_time": "2024-10-10T02:31:34.418Z"
   },
   {
    "duration": 22,
    "start_time": "2024-10-10T02:34:22.160Z"
   },
   {
    "duration": 8,
    "start_time": "2024-10-10T02:34:23.100Z"
   },
   {
    "duration": 23,
    "start_time": "2024-10-10T02:35:10.497Z"
   },
   {
    "duration": 8,
    "start_time": "2024-10-10T02:35:11.351Z"
   },
   {
    "duration": 13,
    "start_time": "2024-10-10T02:36:45.278Z"
   },
   {
    "duration": 6,
    "start_time": "2024-10-10T02:36:46.785Z"
   },
   {
    "duration": 3,
    "start_time": "2024-10-10T02:37:22.682Z"
   },
   {
    "duration": 76,
    "start_time": "2024-10-10T02:37:31.586Z"
   },
   {
    "duration": 8,
    "start_time": "2024-10-10T02:37:33.095Z"
   },
   {
    "duration": 3,
    "start_time": "2024-10-10T02:40:05.636Z"
   },
   {
    "duration": 5,
    "start_time": "2024-10-10T02:40:21.276Z"
   },
   {
    "duration": 3,
    "start_time": "2024-10-10T02:41:17.726Z"
   },
   {
    "duration": 6,
    "start_time": "2024-10-10T02:41:18.519Z"
   },
   {
    "duration": 4,
    "start_time": "2024-10-10T02:42:11.673Z"
   },
   {
    "duration": 890,
    "start_time": "2024-10-10T02:50:39.611Z"
   },
   {
    "duration": 416,
    "start_time": "2024-10-10T02:50:40.504Z"
   },
   {
    "duration": 77,
    "start_time": "2024-10-10T02:50:40.922Z"
   },
   {
    "duration": 66,
    "start_time": "2024-10-10T02:50:41.001Z"
   },
   {
    "duration": 21,
    "start_time": "2024-10-10T02:50:41.070Z"
   },
   {
    "duration": 11,
    "start_time": "2024-10-10T02:50:41.093Z"
   },
   {
    "duration": 31,
    "start_time": "2024-10-10T02:50:41.106Z"
   },
   {
    "duration": 17,
    "start_time": "2024-10-10T02:50:41.138Z"
   },
   {
    "duration": 5,
    "start_time": "2024-10-10T02:50:41.157Z"
   },
   {
    "duration": 214,
    "start_time": "2024-10-10T02:50:41.164Z"
   },
   {
    "duration": 378,
    "start_time": "2024-10-10T02:50:41.381Z"
   },
   {
    "duration": 4,
    "start_time": "2024-10-10T02:50:41.761Z"
   },
   {
    "duration": 257,
    "start_time": "2024-10-10T02:50:41.767Z"
   },
   {
    "duration": 197,
    "start_time": "2024-10-10T02:50:42.028Z"
   },
   {
    "duration": 186,
    "start_time": "2024-10-10T02:50:42.227Z"
   },
   {
    "duration": 4,
    "start_time": "2024-10-10T02:50:42.415Z"
   },
   {
    "duration": 498,
    "start_time": "2024-10-10T02:50:42.421Z"
   },
   {
    "duration": 10,
    "start_time": "2024-10-10T02:50:42.921Z"
   },
   {
    "duration": 17,
    "start_time": "2024-10-10T02:50:42.933Z"
   },
   {
    "duration": 7,
    "start_time": "2024-10-10T02:50:42.951Z"
   },
   {
    "duration": 5,
    "start_time": "2024-10-10T02:50:42.959Z"
   },
   {
    "duration": 27,
    "start_time": "2024-10-10T02:50:42.966Z"
   },
   {
    "duration": 36,
    "start_time": "2024-10-10T02:50:42.995Z"
   },
   {
    "duration": 10,
    "start_time": "2024-10-10T02:50:43.033Z"
   },
   {
    "duration": 196,
    "start_time": "2024-10-10T02:50:43.045Z"
   },
   {
    "duration": 114,
    "start_time": "2024-10-10T02:50:43.244Z"
   },
   {
    "duration": 17,
    "start_time": "2024-10-10T02:50:43.360Z"
   },
   {
    "duration": 14,
    "start_time": "2024-10-10T02:50:43.379Z"
   },
   {
    "duration": 4,
    "start_time": "2024-10-10T02:50:43.396Z"
   },
   {
    "duration": 244,
    "start_time": "2024-10-10T02:50:43.402Z"
   },
   {
    "duration": 2572,
    "start_time": "2024-10-10T18:52:57.842Z"
   },
   {
    "duration": 501,
    "start_time": "2024-10-10T18:53:02.392Z"
   },
   {
    "duration": 83,
    "start_time": "2024-10-10T18:53:04.109Z"
   },
   {
    "duration": 55,
    "start_time": "2024-10-10T18:53:04.559Z"
   },
   {
    "duration": 23,
    "start_time": "2024-10-10T18:53:05.027Z"
   },
   {
    "duration": 12,
    "start_time": "2024-10-10T18:53:05.412Z"
   },
   {
    "duration": 15,
    "start_time": "2024-10-10T18:53:05.807Z"
   },
   {
    "duration": 17,
    "start_time": "2024-10-10T18:53:06.214Z"
   },
   {
    "duration": 4,
    "start_time": "2024-10-10T18:53:06.620Z"
   },
   {
    "duration": 159,
    "start_time": "2024-10-10T18:53:07.419Z"
   },
   {
    "duration": 351,
    "start_time": "2024-10-10T18:53:10.362Z"
   },
   {
    "duration": 5,
    "start_time": "2024-10-10T18:53:11.329Z"
   },
   {
    "duration": 233,
    "start_time": "2024-10-10T18:53:11.856Z"
   },
   {
    "duration": 200,
    "start_time": "2024-10-10T18:53:12.202Z"
   },
   {
    "duration": 118,
    "start_time": "2024-10-10T18:53:12.623Z"
   },
   {
    "duration": 5,
    "start_time": "2024-10-10T18:53:15.908Z"
   },
   {
    "duration": 507,
    "start_time": "2024-10-10T18:53:19.511Z"
   },
   {
    "duration": 4,
    "start_time": "2024-10-10T18:53:20.020Z"
   },
   {
    "duration": 18,
    "start_time": "2024-10-10T18:53:20.234Z"
   },
   {
    "duration": 7,
    "start_time": "2024-10-10T18:53:20.673Z"
   },
   {
    "duration": 5,
    "start_time": "2024-10-10T18:53:21.375Z"
   },
   {
    "duration": 28,
    "start_time": "2024-10-10T18:53:21.849Z"
   },
   {
    "duration": 7,
    "start_time": "2024-10-10T18:53:22.515Z"
   },
   {
    "duration": 9,
    "start_time": "2024-10-10T18:53:22.877Z"
   },
   {
    "duration": 176,
    "start_time": "2024-10-10T18:53:24.967Z"
   },
   {
    "duration": 97,
    "start_time": "2024-10-10T18:53:30.922Z"
   },
   {
    "duration": 16,
    "start_time": "2024-10-10T18:53:32.600Z"
   },
   {
    "duration": 13,
    "start_time": "2024-10-10T18:53:33.441Z"
   },
   {
    "duration": 4,
    "start_time": "2024-10-10T18:53:35.562Z"
   },
   {
    "duration": 206,
    "start_time": "2024-10-10T18:53:45.829Z"
   },
   {
    "duration": 13629,
    "start_time": "2024-10-10T18:53:47.701Z"
   },
   {
    "duration": 4,
    "start_time": "2024-10-10T18:54:01.333Z"
   },
   {
    "duration": 25,
    "start_time": "2024-10-10T18:54:03.648Z"
   },
   {
    "duration": 61,
    "start_time": "2024-10-10T18:54:03.937Z"
   },
   {
    "duration": 120,
    "start_time": "2024-10-10T18:54:04.602Z"
   },
   {
    "duration": 7,
    "start_time": "2024-10-10T18:54:04.997Z"
   },
   {
    "duration": 11,
    "start_time": "2024-10-10T18:54:05.352Z"
   },
   {
    "duration": 75,
    "start_time": "2024-10-10T18:54:15.905Z"
   },
   {
    "duration": 16,
    "start_time": "2024-10-10T18:54:16.413Z"
   },
   {
    "duration": 6,
    "start_time": "2024-10-10T18:54:27.627Z"
   },
   {
    "duration": 55,
    "start_time": "2024-10-10T18:54:28.735Z"
   },
   {
    "duration": 75,
    "start_time": "2024-10-10T18:54:33.872Z"
   },
   {
    "duration": 16078,
    "start_time": "2024-10-10T18:54:35.902Z"
   },
   {
    "duration": 49,
    "start_time": "2024-10-10T18:54:51.982Z"
   },
   {
    "duration": 6,
    "start_time": "2024-10-10T18:54:52.033Z"
   },
   {
    "duration": 50,
    "start_time": "2024-10-10T18:54:52.041Z"
   },
   {
    "duration": 20,
    "start_time": "2024-10-10T18:54:52.093Z"
   },
   {
    "duration": 5,
    "start_time": "2024-10-10T18:54:52.115Z"
   },
   {
    "duration": 7,
    "start_time": "2024-10-10T18:54:52.121Z"
   },
   {
    "duration": 125,
    "start_time": "2024-10-10T18:54:52.129Z"
   },
   {
    "duration": 16,
    "start_time": "2024-10-10T18:54:52.255Z"
   },
   {
    "duration": 8,
    "start_time": "2024-10-10T18:54:52.273Z"
   },
   {
    "duration": 97,
    "start_time": "2024-10-10T18:54:52.282Z"
   },
   {
    "duration": 7,
    "start_time": "2024-10-10T18:54:52.381Z"
   },
   {
    "duration": 2,
    "start_time": "2024-10-10T18:54:52.390Z"
   },
   {
    "duration": 16,
    "start_time": "2024-10-10T18:54:52.394Z"
   },
   {
    "duration": 5,
    "start_time": "2024-10-10T18:55:56.535Z"
   },
   {
    "duration": 3,
    "start_time": "2024-10-10T18:58:50.847Z"
   },
   {
    "duration": 4,
    "start_time": "2024-10-10T18:58:51.379Z"
   },
   {
    "duration": 28,
    "start_time": "2024-10-10T18:58:54.612Z"
   },
   {
    "duration": 3,
    "start_time": "2024-10-10T18:58:54.874Z"
   },
   {
    "duration": 16,
    "start_time": "2024-10-10T18:58:56.244Z"
   },
   {
    "duration": 4,
    "start_time": "2024-10-10T18:58:56.421Z"
   },
   {
    "duration": 27,
    "start_time": "2024-10-10T18:58:57.079Z"
   },
   {
    "duration": 5,
    "start_time": "2024-10-10T18:59:00.688Z"
   },
   {
    "duration": 4,
    "start_time": "2024-10-10T18:59:01.011Z"
   },
   {
    "duration": 6,
    "start_time": "2024-10-10T19:00:30.876Z"
   },
   {
    "duration": 4,
    "start_time": "2024-10-10T19:00:31.062Z"
   },
   {
    "duration": 7,
    "start_time": "2024-10-10T19:00:31.201Z"
   },
   {
    "duration": 186,
    "start_time": "2024-10-10T19:00:31.354Z"
   },
   {
    "duration": 5,
    "start_time": "2024-10-10T19:00:33.263Z"
   },
   {
    "duration": 4,
    "start_time": "2024-10-10T19:00:33.605Z"
   },
   {
    "duration": 4,
    "start_time": "2024-10-10T19:01:26.049Z"
   },
   {
    "duration": 4,
    "start_time": "2024-10-10T19:01:26.306Z"
   },
   {
    "duration": 3,
    "start_time": "2024-10-10T19:02:01.063Z"
   },
   {
    "duration": 4,
    "start_time": "2024-10-10T19:02:01.777Z"
   },
   {
    "duration": 4,
    "start_time": "2024-10-10T19:02:05.415Z"
   },
   {
    "duration": 4,
    "start_time": "2024-10-10T19:02:05.615Z"
   },
   {
    "duration": 2490,
    "start_time": "2024-10-12T02:32:12.458Z"
   },
   {
    "duration": 435,
    "start_time": "2024-10-12T02:32:14.950Z"
   },
   {
    "duration": 75,
    "start_time": "2024-10-12T02:32:15.387Z"
   },
   {
    "duration": 66,
    "start_time": "2024-10-12T02:32:15.465Z"
   },
   {
    "duration": 20,
    "start_time": "2024-10-12T02:32:15.532Z"
   },
   {
    "duration": 11,
    "start_time": "2024-10-12T02:32:15.553Z"
   },
   {
    "duration": 27,
    "start_time": "2024-10-12T02:32:15.565Z"
   },
   {
    "duration": 16,
    "start_time": "2024-10-12T02:32:15.593Z"
   },
   {
    "duration": 3,
    "start_time": "2024-10-12T02:32:15.610Z"
   },
   {
    "duration": 170,
    "start_time": "2024-10-12T02:32:15.617Z"
   },
   {
    "duration": 357,
    "start_time": "2024-10-12T02:32:15.788Z"
   },
   {
    "duration": 5,
    "start_time": "2024-10-12T02:32:16.147Z"
   },
   {
    "duration": 237,
    "start_time": "2024-10-12T02:32:16.154Z"
   },
   {
    "duration": 191,
    "start_time": "2024-10-12T02:32:16.393Z"
   },
   {
    "duration": 130,
    "start_time": "2024-10-12T02:32:16.586Z"
   },
   {
    "duration": 5,
    "start_time": "2024-10-12T02:32:16.718Z"
   },
   {
    "duration": 511,
    "start_time": "2024-10-12T02:32:16.725Z"
   },
   {
    "duration": 4,
    "start_time": "2024-10-12T02:32:17.238Z"
   },
   {
    "duration": 16,
    "start_time": "2024-10-12T02:32:17.244Z"
   },
   {
    "duration": 26,
    "start_time": "2024-10-12T02:32:17.262Z"
   },
   {
    "duration": 4,
    "start_time": "2024-10-12T02:32:17.289Z"
   },
   {
    "duration": 27,
    "start_time": "2024-10-12T02:32:17.295Z"
   },
   {
    "duration": 7,
    "start_time": "2024-10-12T02:32:17.324Z"
   },
   {
    "duration": 9,
    "start_time": "2024-10-12T02:32:17.332Z"
   },
   {
    "duration": 204,
    "start_time": "2024-10-12T02:32:17.342Z"
   },
   {
    "duration": 91,
    "start_time": "2024-10-12T02:32:17.548Z"
   },
   {
    "duration": 14,
    "start_time": "2024-10-12T02:32:17.641Z"
   },
   {
    "duration": 29,
    "start_time": "2024-10-12T02:32:17.660Z"
   },
   {
    "duration": 4,
    "start_time": "2024-10-12T02:32:17.691Z"
   },
   {
    "duration": 211,
    "start_time": "2024-10-12T02:32:17.697Z"
   },
   {
    "duration": 13438,
    "start_time": "2024-10-12T02:32:17.910Z"
   },
   {
    "duration": 4,
    "start_time": "2024-10-12T02:32:31.350Z"
   },
   {
    "duration": 39,
    "start_time": "2024-10-12T02:32:31.356Z"
   },
   {
    "duration": 58,
    "start_time": "2024-10-12T02:32:31.397Z"
   },
   {
    "duration": 114,
    "start_time": "2024-10-12T02:32:31.457Z"
   },
   {
    "duration": 14,
    "start_time": "2024-10-12T02:32:31.573Z"
   },
   {
    "duration": 11,
    "start_time": "2024-10-12T02:32:31.588Z"
   },
   {
    "duration": 68,
    "start_time": "2024-10-12T02:32:31.601Z"
   },
   {
    "duration": 23,
    "start_time": "2024-10-12T02:32:31.671Z"
   },
   {
    "duration": 6,
    "start_time": "2024-10-12T02:32:31.695Z"
   },
   {
    "duration": 57,
    "start_time": "2024-10-12T02:32:31.702Z"
   },
   {
    "duration": 103,
    "start_time": "2024-10-12T02:32:31.761Z"
   },
   {
    "duration": 16549,
    "start_time": "2024-10-12T02:32:31.866Z"
   },
   {
    "duration": 36,
    "start_time": "2024-10-12T02:32:48.416Z"
   },
   {
    "duration": 8,
    "start_time": "2024-10-12T02:32:48.453Z"
   },
   {
    "duration": 66,
    "start_time": "2024-10-12T02:32:48.462Z"
   },
   {
    "duration": 6,
    "start_time": "2024-10-12T02:32:48.530Z"
   },
   {
    "duration": 4,
    "start_time": "2024-10-12T02:32:48.537Z"
   },
   {
    "duration": 68,
    "start_time": "2024-10-12T02:32:48.542Z"
   },
   {
    "duration": 112,
    "start_time": "2024-10-12T02:32:48.612Z"
   },
   {
    "duration": 12,
    "start_time": "2024-10-12T02:32:48.726Z"
   },
   {
    "duration": 8,
    "start_time": "2024-10-12T02:32:48.739Z"
   },
   {
    "duration": 38,
    "start_time": "2024-10-12T02:32:48.748Z"
   },
   {
    "duration": 6,
    "start_time": "2024-10-12T02:32:48.788Z"
   },
   {
    "duration": 3,
    "start_time": "2024-10-12T02:32:48.796Z"
   },
   {
    "duration": 4,
    "start_time": "2024-10-12T02:32:48.800Z"
   },
   {
    "duration": 3,
    "start_time": "2024-10-12T02:32:48.806Z"
   },
   {
    "duration": 3,
    "start_time": "2024-10-12T02:32:48.810Z"
   },
   {
    "duration": 26,
    "start_time": "2024-10-12T02:32:48.814Z"
   },
   {
    "duration": 3,
    "start_time": "2024-10-12T02:32:48.841Z"
   },
   {
    "duration": 51,
    "start_time": "2024-10-12T02:32:48.846Z"
   },
   {
    "duration": 3,
    "start_time": "2024-10-12T02:32:48.899Z"
   },
   {
    "duration": 24,
    "start_time": "2024-10-12T02:32:48.903Z"
   },
   {
    "duration": 6,
    "start_time": "2024-10-12T02:32:48.928Z"
   },
   {
    "duration": 3,
    "start_time": "2024-10-12T02:32:48.936Z"
   },
   {
    "duration": 6,
    "start_time": "2024-10-12T02:32:48.941Z"
   },
   {
    "duration": 4,
    "start_time": "2024-10-12T02:32:48.950Z"
   },
   {
    "duration": 36,
    "start_time": "2024-10-12T02:32:48.956Z"
   },
   {
    "duration": 199,
    "start_time": "2024-10-12T02:32:48.994Z"
   },
   {
    "duration": 4,
    "start_time": "2024-10-12T02:32:49.195Z"
   },
   {
    "duration": 5,
    "start_time": "2024-10-12T02:32:49.200Z"
   },
   {
    "duration": 3,
    "start_time": "2024-10-12T02:32:49.207Z"
   },
   {
    "duration": 3,
    "start_time": "2024-10-12T02:32:49.212Z"
   }
  ],
  "kernelspec": {
   "display_name": "base",
   "language": "python",
   "name": "python3"
  },
  "language_info": {
   "codemirror_mode": {
    "name": "ipython",
    "version": 3
   },
   "file_extension": ".py",
   "mimetype": "text/x-python",
   "name": "python",
   "nbconvert_exporter": "python",
   "pygments_lexer": "ipython3",
   "version": "3.12.4"
  },
  "toc": {
   "base_numbering": 1,
   "nav_menu": {},
   "number_sections": true,
   "sideBar": true,
   "skip_h1_title": true,
   "title_cell": "Table of Contents",
   "title_sidebar": "Contents",
   "toc_cell": false,
   "toc_position": {},
   "toc_section_display": true,
   "toc_window_display": false
  }
 },
 "nbformat": 4,
 "nbformat_minor": 2
}
