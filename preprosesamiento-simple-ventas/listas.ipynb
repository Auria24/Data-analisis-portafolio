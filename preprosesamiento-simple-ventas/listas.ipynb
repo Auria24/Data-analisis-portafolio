{
 "cells": [
  {
   "cell_type": "markdown",
   "metadata": {
    "id": "jrvwNQJi0P9l"
   },
   "source": [
    "Una empresa de comercio electrónico, Store 1, recientemente comenzó a recopilar datos sobre sus clientes. El objetivo final de Store 1 es comprender mejor el comportamiento de sus clientes y tomar decisiones basadas en datos para mejorar su experiencia online.\n",
    "\n",
    "Como parte del equipo de análisis, tu primera tarea es evaluar la calidad de una muestra de datos recopilados y prepararla para futuros análisis."
   ]
  },
  {
   "cell_type": "markdown",
   "metadata": {
    "id": "2utuFkVZ0P9p"
   },
   "source": [
    "# Cuestionario\n",
    "\n",
    "Store 1 tiene como objetivo garantizar la coherencia en la recopilación de datos. Como parte de esta iniciativa, se debe evaluar la calidad de los datos recopilados sobre los usuarios y las usuarias. Te han pedido que revises los datos recopilados y propongas cambios. A continuación verás datos sobre un usuario o una usuaria en particular; revisa los datos e identifica cualquier posible problema."
   ]
  },
  {
   "cell_type": "code",
   "execution_count": null,
   "metadata": {
    "id": "v4ldWAes0P9q"
   },
   "outputs": [],
   "source": [
    "user_id = '32415'\n",
    "user_name = ' mike_reed '\n",
    "user_age = 32.0\n",
    "fav_categories = ['ELECTRONICS', 'SPORT', 'BOOKS']"
   ]
  },
  {
   "cell_type": "markdown",
   "metadata": {
    "id": "v5J9NgXf0P9r"
   },
   "source": [
    "**Opciones:**\n",
    "\n",
    "1. El tipo de datos para `user_id` debe cambiarse de una cadena a un número entero.\n",
    "    \n",
    "2. La variable `user_name` contiene una cadena que tiene espacios innecesarios y un guion bajo entre el nombre y el apellido.\n",
    "    \n",
    "3. El tipo de datos de `user_age` es incorrecto.\n",
    "    \n",
    "4. La lista `fav_categories` contiene cadenas en mayúsculas. En su lugar, deberíamos convertir los valores de la lista a minúsculas."
   ]
  },
  {
   "cell_type": "markdown",
   "metadata": {
    "id": "dZRSLSQV0P9s"
   },
   "source": [
    "Escribe en la celda Markdown a continuación el número de las opciones que has identificado como problemas. Si has identificado varios problemas, sepáralos con comas. Por ejemplo, si piensas que los números 1 y 3 son incorrectos, escribe 1, 3."
   ]
  },
  {
   "cell_type": "markdown",
   "metadata": {
    "id": "iCEVoi_A0P9s"
   },
   "source": [
    "**Escribe tu respuesta y explica tu argumentación:**\n",
    "1,2,4\n",
    "\n",
    "- la variable user_ name tiene espacio al principio y alfinal a guion no le veo tanto problema ya que es un separador solo que por estetica si se cambiaria.\n",
    "- por ultimo fav_categories lo cambiaria por minusculas para que al ponerlo en una lista daria mejor perspectiva al ser un dato importante, pero no debe sobre saltar sobre los demas datos.\n"
   ]
  },
  {
   "cell_type": "markdown",
   "metadata": {
    "id": "qKAtWDqu0P9t"
   },
   "source": [
    "# Ejercicio 1\n",
    "\n",
    "Vamos a implementar los cambios que identificamos. Primero, necesitamos corregir los problemas de la variable `user_name`. Como vimos, tiene espacios innecesarios y un guion bajo como separador entre el nombre y el apellido; tu objetivo es eliminar los espacios y luego reemplazar el guion bajo con el espacio."
   ]
  },
  {
   "cell_type": "code",
   "execution_count": 4,
   "metadata": {
    "id": "442z87Uq0P9t"
   },
   "outputs": [
    {
     "name": "stdout",
     "output_type": "stream",
     "text": [
      "mike reed\n"
     ]
    }
   ],
   "source": [
    "user_name = ' mike_reed '\n",
    "user_name = user_name.strip() # eliminar los espacios en la cadena original\n",
    "user_name = user_name.replace('_',' ') # reemplazar el guion bajo con el espacio\n",
    "\n",
    "print(user_name)"
   ]
  },
  {
   "cell_type": "markdown",
   "metadata": {
    "id": "g4YyN4WK0P9t"
   },
   "source": [
    "# Ejercicio 2\n",
    "\n",
    "Luego, debemos dividir el `user_name` (nombre de usuario o usuaria) actualizado en dos subcadenas para obtener una lista que contenga dos valores: la cadena para el nombre y la cadena para el apellido."
   ]
  },
  {
   "cell_type": "code",
   "execution_count": 4,
   "metadata": {
    "id": "Q1L1ARfY0P9u"
   },
   "outputs": [
    {
     "name": "stdout",
     "output_type": "stream",
     "text": [
      "['mike', 'reed']\n"
     ]
    }
   ],
   "source": [
    "user_name = 'mike reed'\n",
    "\n",
    "print(user_name.split())\n",
    "\n"
   ]
  },
  {
   "cell_type": "markdown",
   "metadata": {
    "id": "-VWZkZtc0P9u"
   },
   "source": [
    "# Ejercicio 3\n",
    "\n",
    "¡Genial! Ahora debemos trabajar con la variable `user_age`. Como ya mencionamos, esta tiene un tipo de datos incorrecto. Arreglemos este problema transformando el tipo de datos y mostrando el resultado final."
   ]
  },
  {
   "cell_type": "code",
   "execution_count": 6,
   "metadata": {
    "id": "WPpidP470P9u"
   },
   "outputs": [
    {
     "name": "stdout",
     "output_type": "stream",
     "text": [
      "32\n"
     ]
    }
   ],
   "source": [
    "user_age = 32.0\n",
    "user_age = int(user_age) # cambia el tipo de datos para la edad de un usuario o usuaria\n",
    "\n",
    "print(user_age)"
   ]
  },
  {
   "cell_type": "markdown",
   "metadata": {
    "id": "xdfgaKd60P9v"
   },
   "source": [
    "# Ejercicio 4\n",
    "\n",
    "Como sabemos, los datos no siempre son perfectos. Debemos considerar escenarios en los que el valor de `user_age` no se pueda convertir en un número entero. Para evitar que nuestro sistema se bloquee, debemos tomar medidas con anticipación.\n",
    "\n",
    "Escribe un código que intente convertir la variable `user_age` en un número entero y asigna el valor transformado a `user_age_int`. Si el intento falla, mostramos un mensaje pidiendo al usuario o la usuaria que proporcione su edad como un valor numérico con el mensaje: `Please provide your age as a numerical value.` (Proporcione su edad como un valor numérico.)"
   ]
  },
  {
   "cell_type": "code",
   "execution_count": 15,
   "metadata": {
    "id": "duI5zn_O0P9v"
   },
   "outputs": [
    {
     "name": "stdout",
     "output_type": "stream",
     "text": [
      "no se puede convertir string a entero\n",
      "continuar\n"
     ]
    }
   ],
   "source": [
    "user_age = 'treinta y dos'  \n",
    "\n",
    "\n",
    "\n",
    "try:\n",
    "    user_age = int(user_age)\n",
    "except ValueError:\n",
    "    print('no se puede convertir string a entero')\n",
    "    print('continuar')\n",
    "    # la variable es un str por lo cual no se puede convertir en un entero al ser sus cracteres letras y no numeros."
   ]
  },
  {
   "cell_type": "markdown",
   "metadata": {
    "id": "Q04i6KQH0P9v"
   },
   "source": [
    "# Ejercicio 5\n",
    "\n",
    "Finalmente, considera que todas las categorías favoritas se almacenan en mayúsculas. Para llenar una nueva lista llamada `fav_categories_low` con las mismas categorías, pero en minúsculas, itera los valores en la lista `fav_categories`, modifícalos y agrega los nuevos valores a la lista `fav_categories_low`. Como siempre, muestra el resultado final."
   ]
  },
  {
   "cell_type": "code",
   "execution_count": 1,
   "metadata": {},
   "outputs": [
    {
     "name": "stdout",
     "output_type": "stream",
     "text": [
      "['electronics', 'sport', 'books']\n"
     ]
    }
   ],
   "source": [
    "fav_categories = ['ELECTRONICS', 'SPORT', 'BOOKS']\n",
    "fav_categories_low = []\n",
    "\n",
    "for i in fav_categories:\n",
    "    fav_categories_low.append(i.lower())\n",
    "   \n",
    "print(fav_categories_low)"
   ]
  },
  {
   "cell_type": "code",
   "execution_count": 1,
   "metadata": {
    "id": "AtQg6ie10P9v"
   },
   "outputs": [
    {
     "name": "stdout",
     "output_type": "stream",
     "text": [
      "['electronics', 'sport', 'books']\n"
     ]
    }
   ],
   "source": [
    "fav_categories = ['ELECTRONICS', 'SPORT', 'BOOKS']\n",
    "fav_categories_low = []\n",
    "\n",
    "for fav in fav_categories:\n",
    "    fav_categories_low.append(fav.lower())\n",
    "   \n",
    "print(fav_categories_low)"
   ]
  },
  {
   "cell_type": "markdown",
   "metadata": {
    "id": "w8J0RSee0P9w"
   },
   "source": [
    "# Ejercicio 6\n",
    "\n",
    "Hemos obtenido información adicional sobre los hábitos de gasto de nuestros usuarios y usuarias, incluido el importe gastado en cada una de sus categorías favoritas. La gerencia está interesada en las siguientes métricas:\n",
    "\n",
    "- Importe total gastado por el usuario o la usuaria.\n",
    "- Importe mínimo gastado.\n",
    "- Importe máximo gastado.\n",
    "\n",
    "Vamos a calcular estos valores y mostrarlos en la pantalla:"
   ]
  },
  {
   "cell_type": "code",
   "execution_count": 16,
   "metadata": {
    "id": "BbhBAmcZ0P9w"
   },
   "outputs": [
    {
     "name": "stdout",
     "output_type": "stream",
     "text": [
      "1280\n",
      "894\n",
      "173\n"
     ]
    }
   ],
   "source": [
    "fav_categories_low = ['electronics', 'sport', 'books']\n",
    "spendings_per_category = [894, 213, 173]\n",
    "\n",
    "total_amount = sum(spendings_per_category) # escribe tu código aquí\n",
    "max_amount = max(spendings_per_category)  # escribe tu código aquí\n",
    "min_amount = min(spendings_per_category) # escribe tu código aquí\n",
    "\n",
    "# no elimines la siguiente declaración print\n",
    "print(total_amount)\n",
    "print(max_amount)\n",
    "print(min_amount)"
   ]
  },
  {
   "cell_type": "markdown",
   "metadata": {
    "id": "hyPGzOt60P9w"
   },
   "source": [
    "# Ejercicio 7\n",
    "\n",
    "La empresa quiere ofrecer descuentos a sus clientes leales. Los clientes y las clientas que realizan compras por un importe total mayor a $1500 se consideran leales y recibirán un descuento.\n",
    "\n",
    "Nuestro objetivo es crear un bucle `while` que compruebe el importe total gastado y se detenga al alcanzarlo. Para simular nuevas compras, la variable `new_purchase` genera un número entre 30 y 80 en cada iteración del bucle. Esto representa el importe de dinero gastado en una nueva compra y es lo que hay que sumar al total.\n",
    "\n",
    "Una vez que se alcance el importe objetivo y se termine el bucle `while`, se mostrará la cantidad final."
   ]
  },
  {
   "cell_type": "code",
   "execution_count": 10,
   "metadata": {
    "id": "FmpTfK7C0P9x"
   },
   "outputs": [
    {
     "name": "stdout",
     "output_type": "stream",
     "text": [
      "1360\n",
      "1440\n",
      "1520\n"
     ]
    }
   ],
   "source": [
    "from random import randint\n",
    "\n",
    "total_amount_spent = 1280\n",
    "target_amount = 1500\n",
    "\n",
    "while total_amount_spent < target_amount:\n",
    "    total_amount_spent += 30 and 80\n",
    "    print(total_amount_spent)\n",
    "    \n",
    "\n",
    "    \n"
   ]
  },
  {
   "cell_type": "markdown",
   "metadata": {
    "id": "e9j2dOo60P9x"
   },
   "source": [
    "# Ejercicio 8\n",
    "\n",
    "Ahora tenemos toda la información sobre un cliente o una clienta de la forma que queremos que sea. La gerencia de una empresa nos pidió proponer una forma de resumir toda la información sobre un usuario o una usuaria. Tu objetivo es crear una cadena formateada que utilice información de las variables `user_id`, `user_name` y `user_age`.\n",
    "\n",
    "Esta es la cadena final que queremos crear: `User 32415 is mike who is 32 years old.` (El usuario 32415 es Mike, quien tiene 32 años)."
   ]
  },
  {
   "cell_type": "markdown",
   "metadata": {
    "id": "hJ38hJYU0P9x"
   },
   "source": [
    "Como sabes, las empresas recopilan y almacenan datos de una forma particular. Store 1 desea almacenar toda la información sobre sus clientes y clientas en una tabla.\n",
    "\n",
    "| user_id | user_name | user_age | purchase_category | spending_per_category |\n",
    "| --- | --- | --- | --- | --- |\n",
    "| '32415' | 'mike', 'reed' | 32 | 'electronics', 'sport', 'books' | 894, 213, 173 |\n",
    "| '31980' | 'kate', 'morgan' | 24 | 'clothes', 'shoes' | 439, 390 |\n",
    "\n",
    "En términos técnicos, una tabla es simplemente una lista anidada que contiene una sublista para cada usuario o usuaria.\n",
    "\n",
    "Store 1 ha creado una tabla de este tipo para sus usuarios y usuarias. Se almacena en la variable `users`. Cada sublista contiene el ID del usuario o la usuaria, nombre y apellido, edad, categorías favoritas y el importe gastado en cada categoría."
   ]
  },
  {
   "cell_type": "code",
   "execution_count": 6,
   "metadata": {
    "id": "2dzhjYbm0P9x"
   },
   "outputs": [
    {
     "name": "stdout",
     "output_type": "stream",
     "text": [
      "el usuario 32415 es mike quien tiene 32 años\n"
     ]
    }
   ],
   "source": [
    "user_id = '32415'\n",
    "user_name = ['mike', 'reed']\n",
    "user_age = 32\n",
    "\n",
    "user_info = (user_id), (user_name[0]), (user_age)\n",
    "\n",
    "# no elimines la siguiente declaración print\n",
    "print(f'el usuario {user_info[0]}', f'es {user_info[1]}', f'quien tiene {user_info[2]}', f'años')"
   ]
  },
  {
   "cell_type": "markdown",
   "metadata": {
    "id": "J7IXD3Zv0P9x"
   },
   "source": [
    "# Ejercicio 9\n",
    "\n",
    "Para calcular los ingresos de la empresa, sigue estos pasos.\n",
    "\n",
    "1. Utiliza `for` para iterar sobre la lista `users`.\n",
    "2. Extrae la lista de gastos de cada usuario o usuaria y suma los valores.\n",
    "3. Actualiza el valor de los ingresos con el total de cada usuario o usuaria.\n",
    "\n",
    "Así obtendrás los ingresos totales de la empresa que mostrarás en la pantalla al final."
   ]
  },
  {
   "cell_type": "code",
   "execution_count": 11,
   "metadata": {
    "id": "d8jeNWXQ0P9y"
   },
   "outputs": [
    {
     "name": "stdout",
     "output_type": "stream",
     "text": [
      "2109\n"
     ]
    }
   ],
   "source": [
    "users = [\n",
    "\t  # este es el inicio de la primera sublista\n",
    "    ['32415', ['mike', 'reed'], 32, ['electronics', 'sport', 'books'],\n",
    "        [894, 213, 173]\n",
    "    ], # este es el final de la primera sublista\n",
    "\n",
    "    # este es el inicio de la segunda sublista\n",
    "    ['31980', ['kate', 'morgan'], 24, ['clothes', 'shoes'],\n",
    "        [439, 390]\n",
    "    ] # este es el final de la segunda sublista\n",
    "]\n",
    "\n",
    "revenue = 0\n",
    "\n",
    "for user in users:\n",
    "\tspendings_list = user[4] # extrae la lista de gastos de cada usuario o usuaria y suma los valores\n",
    "\ttotal_spendings = sum (spendings_list) # suma los gastos de todas las categorías para obtener el total de un usuario o una usuaria en particular\n",
    "\trevenue += total_spendings # actualiza los ingresos\n",
    "\n",
    "# no elimines la siguiente declaración print\n",
    "print(revenue)"
   ]
  },
  {
   "cell_type": "markdown",
   "metadata": {
    "id": "wR0om7Tk0P9y"
   },
   "source": [
    "# Ejercicio 10\n",
    "\n",
    "Recorre la lista de usuarios y usuarias que te hemos proporcionado y muestra los nombres de la clientela menor de 30 años."
   ]
  },
  {
   "cell_type": "code",
   "execution_count": 15,
   "metadata": {
    "id": "KVdthJm70P9y",
    "scrolled": true
   },
   "outputs": [
    {
     "name": "stdout",
     "output_type": "stream",
     "text": [
      "['kate', 'morgan']\n",
      "['samantha', 'smith']\n",
      "['emily', 'brown']\n",
      "['jose', 'martinez']\n",
      "['james', 'lee']\n"
     ]
    }
   ],
   "source": [
    "users = [\n",
    "    ['32415', ['mike', 'reed'], 32, ['electronics', 'sport', 'books'],\n",
    "     [894, 213, 173]],\n",
    "    ['31980', ['kate', 'morgan'], 24, ['clothes', 'books'], [439,\n",
    "     390]],\n",
    "    ['32156', ['john', 'doe'], 37, ['electronics', 'home', 'food'],\n",
    "     [459, 120, 99]],\n",
    "    ['32761', ['samantha', 'smith'], 29, ['clothes', 'electronics',\n",
    "     'beauty'], [299, 679, 85]],\n",
    "    ['32984', ['david', 'white'], 41, ['books', 'home', 'sport'], [234,\n",
    "     329, 243]],\n",
    "    ['33001', ['emily', 'brown'], 26, ['beauty', 'home', 'food'], [213,\n",
    "     659, 79]],\n",
    "    ['33767', ['maria', 'garcia'], 33, ['clothes', 'food', 'beauty'],\n",
    "     [499, 189, 63]],\n",
    "    ['33912', ['jose', 'martinez'], 22, ['sport', 'electronics', 'home'\n",
    "     ], [259, 549, 109]],\n",
    "    ['34009', ['lisa', 'wilson'], 35, ['home', 'books', 'clothes'],\n",
    "     [329, 189, 329]],\n",
    "    ['34278', ['james', 'lee'], 28, ['beauty', 'clothes', 'electronics'\n",
    "     ], [189, 299, 579]],\n",
    "    ]\n",
    "\n",
    " \n",
    "    \n",
    "for user in users:\n",
    "    if user [2] < 30:\n",
    "        print(user[1])\n",
    "    \n",
    "    \n",
    "    "
   ]
  },
  {
   "cell_type": "markdown",
   "metadata": {
    "id": "LBHWQenm0P9y"
   },
   "source": [
    "# Ejercicio 11\n",
    "\n",
    "Juntemos las tareas 9 y 10 e imprimamos los nombres de los usuarios y las usuarias que tengan menos de 30 años y un gasto total superior a 1000 dólares."
   ]
  },
  {
   "cell_type": "code",
   "execution_count": 26,
   "metadata": {
    "id": "HaQNXS-V0P9z"
   },
   "outputs": [
    {
     "name": "stdout",
     "output_type": "stream",
     "text": [
      "['samantha', 'smith']\n",
      "['james', 'lee']\n"
     ]
    }
   ],
   "source": [
    "users = [\n",
    "    ['32415', ['mike', 'reed'], 32, ['electronics', 'sport', 'books'],\n",
    "     [894, 213, 173]],\n",
    "    ['31980', ['kate', 'morgan'], 24, ['clothes', 'books'], [439,\n",
    "     390]],\n",
    "    ['32156', ['john', 'doe'], 37, ['electronics', 'home', 'food'],\n",
    "     [459, 120, 99]],\n",
    "    ['32761', ['samantha', 'smith'], 29, ['clothes', 'electronics',\n",
    "     'beauty'], [299, 679, 85]],\n",
    "    ['32984', ['david', 'white'], 41, ['books', 'home', 'sport'], [234,\n",
    "     329, 243]],\n",
    "    ['33001', ['emily', 'brown'], 26, ['beauty', 'home', 'food'], [213,\n",
    "     659, 79]],\n",
    "    ['33767', ['maria', 'garcia'], 33, ['clothes', 'food', 'beauty'],\n",
    "     [499, 189, 63]],\n",
    "    ['33912', ['jose', 'martinez'], 22, ['sport', 'electronics', 'home'\n",
    "     ], [259, 549, 109]],\n",
    "    ['34009', ['lisa', 'wilson'], 35, ['home', 'books', 'clothes'],\n",
    "     [329, 189, 329]],\n",
    "    ['34278', ['james', 'lee'], 28, ['beauty', 'clothes', 'electronics'\n",
    "     ], [189, 299, 579]],\n",
    "    ]\n",
    "\n",
    "\n",
    "for user in users:\n",
    "    total_gasto=sum(user[4])\n",
    "    if (total_gasto)>1000 and user [2] < 30:\n",
    "        print(user[1])\n",
    "\n",
    "    # escribe tu código aquí"
   ]
  },
  {
   "cell_type": "markdown",
   "metadata": {
    "id": "yRozkK0R0P90"
   },
   "source": [
    "# Ejercicio 12\n",
    "\n",
    "Ahora vamos a mostrar el nombre y la edad de todos los usuarios y todas las usuarias que han comprado ropa. Imprime el nombre y la edad en la misma declaración print."
   ]
  },
  {
   "cell_type": "code",
   "execution_count": 57,
   "metadata": {
    "id": "mSIyHq1f0P90"
   },
   "outputs": [
    {
     "name": "stdout",
     "output_type": "stream",
     "text": [
      "Nombre: kate edad 24\n",
      "Nombre: samantha edad 29\n",
      "Nombre: maria edad 33\n",
      "Nombre: lisa edad 35\n",
      "Nombre: james edad 28\n"
     ]
    }
   ],
   "source": [
    "users = [\n",
    "    ['32415', ['mike', 'reed'], 32, ['electronics', 'sport', 'books'],\n",
    "     [894, 213, 173]],\n",
    "    ['31980', ['kate', 'morgan'], 24, ['clothes', 'books'], [439,\n",
    "     390]],\n",
    "    ['32156', ['john', 'doe'], 37, ['electronics', 'home', 'food'],\n",
    "     [459, 120, 99]],\n",
    "    ['32761', ['samantha', 'smith'], 29, ['clothes', 'electronics',\n",
    "     'beauty'], [299, 679, 85]],\n",
    "    ['32984', ['david', 'white'], 41, ['books', 'home', 'sport'], [234,\n",
    "     329, 243]],\n",
    "    ['33001', ['emily', 'brown'], 26, ['beauty', 'home', 'food'], [213,\n",
    "     659, 79]],\n",
    "    ['33767', ['maria', 'garcia'], 33, ['clothes', 'food', 'beauty'],\n",
    "     [499, 189, 63]],\n",
    "    ['33912', ['jose', 'martinez'], 22, ['sport', 'electronics', 'home'\n",
    "     ], [259, 549, 109]],\n",
    "    ['34009', ['lisa', 'wilson'], 35, ['home', 'books', 'clothes'],\n",
    "     [329, 189, 329]],\n",
    "    ['34278', ['james', 'lee'], 28, ['beauty', 'clothes', 'electronics'\n",
    "     ], [189, 299, 579]],\n",
    "    ]\n",
    "\n",
    "             \n",
    "\n",
    "for user in users:\n",
    "    first_name, last_name =user[1]\n",
    "    if 'clothes'in user[3]:\n",
    "         print(f'Nombre: {first_name}', f'edad {user[2]}')\n",
    "\n",
    "   "
   ]
  }
 ],
 "metadata": {
  "ExecuteTimeLog": [
   {
    "duration": 314,
    "start_time": "2024-06-02T23:27:07.528Z"
   },
   {
    "duration": 28,
    "start_time": "2024-06-02T23:27:33.300Z"
   },
   {
    "duration": 23,
    "start_time": "2024-06-02T23:27:50.715Z"
   },
   {
    "duration": 5,
    "start_time": "2024-06-02T23:28:24.394Z"
   },
   {
    "duration": 4,
    "start_time": "2024-06-02T23:54:34.394Z"
   },
   {
    "duration": 5,
    "start_time": "2024-06-02T23:55:10.349Z"
   },
   {
    "duration": 21,
    "start_time": "2024-06-02T23:58:38.241Z"
   },
   {
    "duration": 24,
    "start_time": "2024-06-03T00:01:46.769Z"
   },
   {
    "duration": 21,
    "start_time": "2024-06-03T00:02:09.617Z"
   },
   {
    "duration": 26,
    "start_time": "2024-06-03T00:06:33.405Z"
   },
   {
    "duration": 56,
    "start_time": "2024-06-03T00:06:48.475Z"
   },
   {
    "duration": 23,
    "start_time": "2024-06-03T00:15:04.896Z"
   },
   {
    "duration": 22,
    "start_time": "2024-06-03T00:15:57.858Z"
   },
   {
    "duration": 25,
    "start_time": "2024-06-03T00:16:26.260Z"
   },
   {
    "duration": 8,
    "start_time": "2024-06-03T00:24:48.894Z"
   },
   {
    "duration": 6,
    "start_time": "2024-06-03T00:25:02.443Z"
   },
   {
    "duration": 6,
    "start_time": "2024-06-03T00:25:10.224Z"
   },
   {
    "duration": 25,
    "start_time": "2024-06-03T00:26:21.878Z"
   },
   {
    "duration": 23,
    "start_time": "2024-06-03T00:27:07.627Z"
   },
   {
    "duration": 6,
    "start_time": "2024-06-03T00:30:53.108Z"
   },
   {
    "duration": 23,
    "start_time": "2024-06-03T00:31:02.645Z"
   },
   {
    "duration": 23,
    "start_time": "2024-06-03T00:42:15.595Z"
   },
   {
    "duration": 28,
    "start_time": "2024-06-03T00:46:08.689Z"
   },
   {
    "duration": 6,
    "start_time": "2024-06-03T00:46:32.713Z"
   },
   {
    "duration": 30,
    "start_time": "2024-06-03T00:53:40.960Z"
   },
   {
    "duration": 7,
    "start_time": "2024-06-03T00:56:56.106Z"
   },
   {
    "duration": 6,
    "start_time": "2024-06-03T00:57:45.390Z"
   },
   {
    "duration": 7,
    "start_time": "2024-06-03T00:57:57.230Z"
   },
   {
    "duration": 27,
    "start_time": "2024-06-03T00:58:20.482Z"
   },
   {
    "duration": 22,
    "start_time": "2024-06-03T00:59:08.101Z"
   },
   {
    "duration": 24,
    "start_time": "2024-06-03T00:59:18.269Z"
   },
   {
    "duration": 24,
    "start_time": "2024-06-03T01:02:00.685Z"
   },
   {
    "duration": 23,
    "start_time": "2024-06-03T01:02:30.842Z"
   },
   {
    "duration": 23,
    "start_time": "2024-06-03T01:03:11.566Z"
   },
   {
    "duration": 4,
    "start_time": "2024-06-03T01:04:00.418Z"
   },
   {
    "duration": 5,
    "start_time": "2024-06-03T01:05:01.160Z"
   },
   {
    "duration": 5,
    "start_time": "2024-06-03T01:05:21.277Z"
   },
   {
    "duration": 23,
    "start_time": "2024-06-03T01:06:15.582Z"
   },
   {
    "duration": 4,
    "start_time": "2024-06-03T01:06:28.733Z"
   },
   {
    "duration": 7,
    "start_time": "2024-06-03T01:07:41.181Z"
   },
   {
    "duration": 6,
    "start_time": "2024-06-03T01:07:50.015Z"
   },
   {
    "duration": 23,
    "start_time": "2024-06-03T01:10:04.071Z"
   },
   {
    "duration": 24,
    "start_time": "2024-06-03T01:10:12.619Z"
   },
   {
    "duration": 25,
    "start_time": "2024-06-03T01:11:50.539Z"
   },
   {
    "duration": 23,
    "start_time": "2024-06-03T01:12:54.455Z"
   },
   {
    "duration": 24,
    "start_time": "2024-06-03T01:13:24.769Z"
   },
   {
    "duration": 23,
    "start_time": "2024-06-03T01:13:35.101Z"
   },
   {
    "duration": 15,
    "start_time": "2024-06-03T02:50:24.343Z"
   },
   {
    "duration": 7,
    "start_time": "2024-06-03T02:50:54.636Z"
   },
   {
    "duration": 5,
    "start_time": "2024-06-03T02:51:13.548Z"
   },
   {
    "duration": 5,
    "start_time": "2024-06-03T02:51:29.626Z"
   },
   {
    "duration": 327,
    "start_time": "2024-06-03T02:54:06.800Z"
   },
   {
    "duration": 24,
    "start_time": "2024-06-03T02:54:24.672Z"
   },
   {
    "duration": 4,
    "start_time": "2024-06-03T02:54:35.540Z"
   },
   {
    "duration": 9,
    "start_time": "2024-06-03T03:01:43.597Z"
   },
   {
    "duration": 7,
    "start_time": "2024-06-03T03:02:14.874Z"
   },
   {
    "duration": 7,
    "start_time": "2024-06-03T03:02:28.855Z"
   },
   {
    "duration": 9,
    "start_time": "2024-06-03T03:02:41.826Z"
   },
   {
    "duration": 11,
    "start_time": "2024-06-03T03:19:57.820Z"
   },
   {
    "duration": 38,
    "start_time": "2024-06-03T03:20:35.459Z"
   },
   {
    "duration": 10,
    "start_time": "2024-06-03T03:20:49.322Z"
   },
   {
    "duration": 10,
    "start_time": "2024-06-03T03:20:58.694Z"
   },
   {
    "duration": 11,
    "start_time": "2024-06-03T03:21:45.009Z"
   },
   {
    "duration": 11,
    "start_time": "2024-06-03T03:22:56.259Z"
   },
   {
    "duration": 11,
    "start_time": "2024-06-03T03:23:08.307Z"
   },
   {
    "duration": 11,
    "start_time": "2024-06-03T03:26:08.452Z"
   },
   {
    "duration": 11,
    "start_time": "2024-06-03T03:26:20.839Z"
   },
   {
    "duration": 39,
    "start_time": "2024-06-03T03:26:40.640Z"
   },
   {
    "duration": 13,
    "start_time": "2024-06-03T03:30:03.797Z"
   },
   {
    "duration": 12,
    "start_time": "2024-06-03T03:30:12.944Z"
   },
   {
    "duration": 47,
    "start_time": "2024-06-03T03:30:19.105Z"
   },
   {
    "duration": 71,
    "start_time": "2024-06-03T03:30:43.038Z"
   },
   {
    "duration": 13,
    "start_time": "2024-06-03T03:32:04.497Z"
   },
   {
    "duration": 13,
    "start_time": "2024-06-03T03:33:49.614Z"
   },
   {
    "duration": 11,
    "start_time": "2024-06-03T03:35:50.063Z"
   },
   {
    "duration": 13,
    "start_time": "2024-06-03T03:39:56.932Z"
   },
   {
    "duration": 46,
    "start_time": "2024-06-03T03:40:17.586Z"
   },
   {
    "duration": 11,
    "start_time": "2024-06-03T03:40:39.790Z"
   },
   {
    "duration": 10,
    "start_time": "2024-06-03T03:41:51.945Z"
   },
   {
    "duration": 12,
    "start_time": "2024-06-03T03:42:41.586Z"
   },
   {
    "duration": 14,
    "start_time": "2024-06-03T03:43:31.974Z"
   },
   {
    "duration": 10,
    "start_time": "2024-06-03T03:44:32.440Z"
   },
   {
    "duration": 38,
    "start_time": "2024-06-03T03:50:33.666Z"
   },
   {
    "duration": 41,
    "start_time": "2024-06-03T03:50:48.774Z"
   },
   {
    "duration": 42,
    "start_time": "2024-06-03T03:52:07.190Z"
   },
   {
    "duration": 11,
    "start_time": "2024-06-03T03:52:52.577Z"
   },
   {
    "duration": 38,
    "start_time": "2024-06-03T03:53:17.950Z"
   },
   {
    "duration": 10,
    "start_time": "2024-06-03T03:54:03.782Z"
   },
   {
    "duration": 13,
    "start_time": "2024-06-03T04:00:05.452Z"
   },
   {
    "duration": 11,
    "start_time": "2024-06-03T04:00:13.362Z"
   },
   {
    "duration": 14,
    "start_time": "2024-06-03T04:02:21.770Z"
   },
   {
    "duration": 12,
    "start_time": "2024-06-03T04:03:56.655Z"
   },
   {
    "duration": 13,
    "start_time": "2024-06-03T04:05:37.166Z"
   },
   {
    "duration": 12,
    "start_time": "2024-06-03T04:10:37.868Z"
   },
   {
    "duration": 13,
    "start_time": "2024-06-03T04:10:48.453Z"
   },
   {
    "duration": 39,
    "start_time": "2024-06-03T04:12:19.905Z"
   },
   {
    "duration": 39,
    "start_time": "2024-06-03T04:12:59.731Z"
   },
   {
    "duration": 42,
    "start_time": "2024-06-03T04:13:12.270Z"
   },
   {
    "duration": 41,
    "start_time": "2024-06-03T04:13:25.666Z"
   },
   {
    "duration": 11,
    "start_time": "2024-06-03T04:13:33.443Z"
   },
   {
    "duration": 11,
    "start_time": "2024-06-03T04:13:54.330Z"
   },
   {
    "duration": 10,
    "start_time": "2024-06-03T04:14:25.613Z"
   },
   {
    "duration": 11,
    "start_time": "2024-06-03T04:14:38.204Z"
   },
   {
    "duration": 11,
    "start_time": "2024-06-03T04:17:10.846Z"
   },
   {
    "duration": 38,
    "start_time": "2024-06-03T04:25:01.191Z"
   },
   {
    "duration": 34,
    "start_time": "2024-06-03T04:29:22.497Z"
   },
   {
    "duration": 10,
    "start_time": "2024-06-03T04:30:39.685Z"
   },
   {
    "duration": 37,
    "start_time": "2024-06-03T04:37:07.592Z"
   },
   {
    "duration": 10,
    "start_time": "2024-06-03T04:38:50.302Z"
   },
   {
    "duration": 11,
    "start_time": "2024-06-03T04:40:47.287Z"
   },
   {
    "duration": 10,
    "start_time": "2024-06-03T04:41:19.470Z"
   },
   {
    "duration": 13,
    "start_time": "2024-06-03T04:41:50.015Z"
   },
   {
    "duration": 11,
    "start_time": "2024-06-03T04:41:59.926Z"
   },
   {
    "duration": 40,
    "start_time": "2024-06-03T04:43:11.033Z"
   },
   {
    "duration": 13,
    "start_time": "2024-06-03T04:50:12.849Z"
   },
   {
    "duration": 43,
    "start_time": "2024-06-03T04:50:48.900Z"
   },
   {
    "duration": 40,
    "start_time": "2024-06-03T04:51:06.821Z"
   },
   {
    "duration": 41,
    "start_time": "2024-06-03T04:51:31.798Z"
   },
   {
    "duration": 38,
    "start_time": "2024-06-03T04:51:46.306Z"
   },
   {
    "duration": 40,
    "start_time": "2024-06-03T04:54:21.403Z"
   },
   {
    "duration": 11,
    "start_time": "2024-06-03T04:54:39.711Z"
   },
   {
    "duration": 39,
    "start_time": "2024-06-03T04:54:54.910Z"
   },
   {
    "duration": 41,
    "start_time": "2024-06-03T04:55:03.529Z"
   },
   {
    "duration": 13,
    "start_time": "2024-06-03T04:55:28.113Z"
   },
   {
    "duration": 40,
    "start_time": "2024-06-03T04:56:57.522Z"
   },
   {
    "duration": 11,
    "start_time": "2024-06-03T05:01:24.312Z"
   },
   {
    "duration": 12,
    "start_time": "2024-06-03T05:01:43.054Z"
   },
   {
    "duration": 10,
    "start_time": "2024-06-03T05:02:19.656Z"
   },
   {
    "duration": 317,
    "start_time": "2024-06-03T18:51:11.640Z"
   },
   {
    "duration": 22,
    "start_time": "2024-06-03T18:51:29.212Z"
   },
   {
    "duration": 10,
    "start_time": "2024-06-03T18:52:09.627Z"
   },
   {
    "duration": 6,
    "start_time": "2024-06-03T18:55:34.807Z"
   },
   {
    "duration": 10,
    "start_time": "2024-06-03T18:59:27.767Z"
   },
   {
    "duration": 11,
    "start_time": "2024-06-03T19:01:01.685Z"
   },
   {
    "duration": 18,
    "start_time": "2024-06-03T19:01:16.947Z"
   },
   {
    "duration": 12,
    "start_time": "2024-06-03T19:01:21.138Z"
   },
   {
    "duration": 11,
    "start_time": "2024-06-03T19:02:06.642Z"
   },
   {
    "duration": 13,
    "start_time": "2024-06-04T00:28:22.169Z"
   },
   {
    "duration": 6,
    "start_time": "2024-06-04T00:28:30.565Z"
   },
   {
    "duration": 6,
    "start_time": "2024-06-04T00:34:36.223Z"
   },
   {
    "duration": 317,
    "start_time": "2024-06-04T00:47:14.096Z"
   },
   {
    "duration": 12,
    "start_time": "2024-06-04T00:48:14.309Z"
   },
   {
    "duration": 312,
    "start_time": "2024-06-04T01:03:54.807Z"
   },
   {
    "duration": 23,
    "start_time": "2024-06-04T01:04:12.752Z"
   },
   {
    "duration": 7,
    "start_time": "2024-06-04T01:04:39.916Z"
   },
   {
    "duration": 5,
    "start_time": "2024-06-04T01:04:55.545Z"
   },
   {
    "duration": 5,
    "start_time": "2024-06-04T01:05:12.869Z"
   },
   {
    "duration": 23,
    "start_time": "2024-06-04T01:05:33.119Z"
   },
   {
    "duration": 23,
    "start_time": "2024-06-04T01:05:44.786Z"
   },
   {
    "duration": 22,
    "start_time": "2024-06-04T01:06:17.189Z"
   },
   {
    "duration": 23,
    "start_time": "2024-06-04T01:06:52.122Z"
   },
   {
    "duration": 25,
    "start_time": "2024-06-04T01:07:32.405Z"
   },
   {
    "duration": 8,
    "start_time": "2024-06-04T01:11:08.964Z"
   },
   {
    "duration": 55,
    "start_time": "2024-06-04T01:11:25.519Z"
   },
   {
    "duration": 24,
    "start_time": "2024-06-04T01:11:48.278Z"
   },
   {
    "duration": 5,
    "start_time": "2024-06-04T01:12:22.735Z"
   },
   {
    "duration": 5,
    "start_time": "2024-06-04T01:23:32.036Z"
   },
   {
    "duration": 7,
    "start_time": "2024-06-04T01:26:48.488Z"
   },
   {
    "duration": 5,
    "start_time": "2024-06-04T01:27:24.162Z"
   },
   {
    "duration": 5,
    "start_time": "2024-06-04T01:27:36.910Z"
   },
   {
    "duration": 12,
    "start_time": "2024-06-04T01:32:02.578Z"
   },
   {
    "duration": 11,
    "start_time": "2024-06-04T01:43:32.816Z"
   },
   {
    "duration": 4,
    "start_time": "2024-06-04T01:43:48.366Z"
   },
   {
    "duration": 6,
    "start_time": "2024-06-04T01:44:23.443Z"
   },
   {
    "duration": 6,
    "start_time": "2024-06-04T01:44:30.975Z"
   },
   {
    "duration": 6,
    "start_time": "2024-06-04T01:44:47.822Z"
   },
   {
    "duration": 11,
    "start_time": "2024-06-04T01:45:43.152Z"
   },
   {
    "duration": 12,
    "start_time": "2024-06-07T00:42:23.896Z"
   },
   {
    "duration": 5,
    "start_time": "2024-06-07T00:43:00.663Z"
   },
   {
    "duration": 5,
    "start_time": "2024-06-07T00:43:12.786Z"
   },
   {
    "duration": 5,
    "start_time": "2024-06-07T00:43:27.923Z"
   },
   {
    "duration": 13,
    "start_time": "2024-06-07T00:47:40.362Z"
   },
   {
    "duration": 9,
    "start_time": "2024-06-07T01:03:19.432Z"
   },
   {
    "duration": 6,
    "start_time": "2024-06-07T01:03:52.713Z"
   },
   {
    "duration": 6,
    "start_time": "2024-06-07T01:04:29.917Z"
   },
   {
    "duration": 7,
    "start_time": "2024-06-07T01:06:45.256Z"
   },
   {
    "duration": 6,
    "start_time": "2024-06-07T01:07:24.762Z"
   },
   {
    "duration": 10,
    "start_time": "2024-06-07T01:07:40.098Z"
   },
   {
    "duration": 7,
    "start_time": "2024-06-07T01:10:51.716Z"
   },
   {
    "duration": 12,
    "start_time": "2024-06-07T01:11:54.058Z"
   },
   {
    "duration": 14,
    "start_time": "2024-06-07T01:12:26.546Z"
   },
   {
    "duration": 7,
    "start_time": "2024-06-07T01:13:57.785Z"
   },
   {
    "duration": 7,
    "start_time": "2024-06-07T01:14:35.522Z"
   },
   {
    "duration": 6,
    "start_time": "2024-06-07T01:15:27.696Z"
   },
   {
    "duration": 7,
    "start_time": "2024-06-07T01:15:40.970Z"
   },
   {
    "duration": 8,
    "start_time": "2024-06-07T01:15:53.090Z"
   },
   {
    "duration": 5,
    "start_time": "2024-06-07T01:18:36.053Z"
   },
   {
    "duration": 9,
    "start_time": "2024-06-07T01:19:33.859Z"
   },
   {
    "duration": 7,
    "start_time": "2024-06-07T01:20:02.426Z"
   },
   {
    "duration": 350,
    "start_time": "2024-06-07T01:21:33.211Z"
   },
   {
    "duration": 31,
    "start_time": "2024-06-07T01:22:11.251Z"
   },
   {
    "duration": 23,
    "start_time": "2024-06-07T01:22:24.299Z"
   },
   {
    "duration": 6,
    "start_time": "2024-06-07T01:23:05.081Z"
   },
   {
    "duration": 52,
    "start_time": "2024-06-07T01:23:53.128Z"
   },
   {
    "duration": 5,
    "start_time": "2024-06-07T01:25:28.822Z"
   },
   {
    "duration": 17,
    "start_time": "2024-06-07T01:26:48.177Z"
   },
   {
    "duration": 15,
    "start_time": "2024-06-07T01:27:06.910Z"
   },
   {
    "duration": 18,
    "start_time": "2024-06-07T01:27:25.431Z"
   },
   {
    "duration": 4,
    "start_time": "2024-06-07T01:31:09.234Z"
   },
   {
    "duration": 5,
    "start_time": "2024-06-07T01:31:16.521Z"
   },
   {
    "duration": 5,
    "start_time": "2024-06-07T01:31:23.470Z"
   },
   {
    "duration": 13,
    "start_time": "2024-06-07T01:31:35.534Z"
   },
   {
    "duration": 5,
    "start_time": "2024-06-07T01:36:35.018Z"
   },
   {
    "duration": 5,
    "start_time": "2024-06-07T01:37:46.799Z"
   },
   {
    "duration": 14,
    "start_time": "2024-06-07T01:41:18.446Z"
   },
   {
    "duration": 15,
    "start_time": "2024-06-07T01:41:54.183Z"
   },
   {
    "duration": 11,
    "start_time": "2024-06-07T01:42:04.291Z"
   },
   {
    "duration": 9,
    "start_time": "2024-06-07T01:43:38.590Z"
   },
   {
    "duration": 13,
    "start_time": "2024-06-07T01:43:54.468Z"
   },
   {
    "duration": 20,
    "start_time": "2024-06-07T01:44:12.420Z"
   },
   {
    "duration": 15,
    "start_time": "2024-06-07T01:44:53.608Z"
   },
   {
    "duration": 14,
    "start_time": "2024-06-07T01:46:37.226Z"
   },
   {
    "duration": 11,
    "start_time": "2024-06-07T01:47:00.900Z"
   },
   {
    "duration": 13,
    "start_time": "2024-06-07T01:48:39.130Z"
   },
   {
    "duration": 11,
    "start_time": "2024-06-07T01:49:29.615Z"
   },
   {
    "duration": 12,
    "start_time": "2024-06-07T01:49:41.872Z"
   },
   {
    "duration": 12,
    "start_time": "2024-06-07T01:56:14.730Z"
   },
   {
    "duration": 12,
    "start_time": "2024-06-07T01:56:43.586Z"
   },
   {
    "duration": 13,
    "start_time": "2024-06-07T01:58:11.383Z"
   },
   {
    "duration": 11,
    "start_time": "2024-06-07T02:00:32.191Z"
   },
   {
    "duration": 12,
    "start_time": "2024-06-07T03:17:26.400Z"
   },
   {
    "duration": 13,
    "start_time": "2024-06-07T03:17:39.617Z"
   },
   {
    "duration": 11,
    "start_time": "2024-06-07T03:17:45.668Z"
   },
   {
    "duration": 13,
    "start_time": "2024-06-07T03:18:25.869Z"
   },
   {
    "duration": 11,
    "start_time": "2024-06-07T03:19:16.359Z"
   },
   {
    "duration": 15,
    "start_time": "2024-06-07T03:19:28.781Z"
   },
   {
    "duration": 11,
    "start_time": "2024-06-07T03:22:44.626Z"
   },
   {
    "duration": 11,
    "start_time": "2024-06-07T03:23:00.958Z"
   },
   {
    "duration": 11,
    "start_time": "2024-06-07T03:23:08.765Z"
   },
   {
    "duration": 10,
    "start_time": "2024-06-07T03:29:21.056Z"
   },
   {
    "duration": 13,
    "start_time": "2024-06-07T03:31:43.508Z"
   },
   {
    "duration": 324,
    "start_time": "2024-06-07T03:32:33.699Z"
   },
   {
    "duration": 42,
    "start_time": "2024-06-07T03:33:04.954Z"
   },
   {
    "duration": 40,
    "start_time": "2024-06-07T03:33:19.294Z"
   },
   {
    "duration": 10,
    "start_time": "2024-06-07T03:38:03.882Z"
   },
   {
    "duration": 12,
    "start_time": "2024-06-07T04:01:32.416Z"
   },
   {
    "duration": 9,
    "start_time": "2024-06-07T04:01:42.316Z"
   },
   {
    "duration": 11,
    "start_time": "2024-06-07T04:03:08.550Z"
   },
   {
    "duration": 10,
    "start_time": "2024-06-07T04:04:14.525Z"
   },
   {
    "duration": 21,
    "start_time": "2024-06-07T04:07:34.887Z"
   },
   {
    "duration": 15,
    "start_time": "2024-06-07T04:08:33.514Z"
   },
   {
    "duration": 338,
    "start_time": "2024-06-07T04:08:41.089Z"
   },
   {
    "duration": 44,
    "start_time": "2024-06-07T04:09:14.446Z"
   },
   {
    "duration": 40,
    "start_time": "2024-06-07T04:09:54.499Z"
   },
   {
    "duration": 12,
    "start_time": "2024-06-07T04:10:16.860Z"
   },
   {
    "duration": 10,
    "start_time": "2024-06-07T04:10:22.957Z"
   },
   {
    "duration": 11,
    "start_time": "2024-06-07T04:10:34.827Z"
   },
   {
    "duration": 10,
    "start_time": "2024-06-07T04:11:36.995Z"
   },
   {
    "duration": 10,
    "start_time": "2024-06-07T04:11:41.995Z"
   },
   {
    "duration": 12,
    "start_time": "2024-06-07T04:12:42.497Z"
   },
   {
    "duration": 13,
    "start_time": "2024-06-07T04:13:02.949Z"
   },
   {
    "duration": 10,
    "start_time": "2024-06-07T04:13:20.963Z"
   },
   {
    "duration": 11,
    "start_time": "2024-06-07T04:14:40.385Z"
   },
   {
    "duration": 10,
    "start_time": "2024-06-07T04:14:48.232Z"
   },
   {
    "duration": 12,
    "start_time": "2024-06-07T04:20:24.909Z"
   },
   {
    "duration": 11,
    "start_time": "2024-06-07T04:20:36.737Z"
   },
   {
    "duration": 11,
    "start_time": "2024-06-07T04:22:46.936Z"
   },
   {
    "duration": 11,
    "start_time": "2024-06-07T04:23:20.833Z"
   },
   {
    "duration": 11,
    "start_time": "2024-06-07T13:02:34.440Z"
   },
   {
    "duration": 7,
    "start_time": "2024-06-07T13:05:22.874Z"
   },
   {
    "duration": 5,
    "start_time": "2024-06-07T13:06:04.832Z"
   },
   {
    "duration": 7,
    "start_time": "2024-06-07T13:06:32.876Z"
   },
   {
    "duration": 8,
    "start_time": "2024-06-07T13:06:46.352Z"
   },
   {
    "duration": 6,
    "start_time": "2024-06-07T13:06:56.287Z"
   },
   {
    "duration": 317,
    "start_time": "2024-06-08T00:14:58.263Z"
   },
   {
    "duration": 25,
    "start_time": "2024-06-08T00:15:25.131Z"
   },
   {
    "duration": 21,
    "start_time": "2024-06-08T00:18:33.771Z"
   },
   {
    "duration": 4,
    "start_time": "2024-06-08T00:18:45.003Z"
   },
   {
    "duration": 8,
    "start_time": "2024-06-08T00:21:07.199Z"
   },
   {
    "duration": 7,
    "start_time": "2024-06-08T00:21:16.711Z"
   },
   {
    "duration": 23,
    "start_time": "2024-06-08T00:27:04.914Z"
   },
   {
    "duration": 39,
    "start_time": "2024-06-08T00:27:28.200Z"
   },
   {
    "duration": 21,
    "start_time": "2024-06-08T00:28:03.571Z"
   },
   {
    "duration": 5,
    "start_time": "2024-06-08T00:28:22.658Z"
   },
   {
    "duration": 12,
    "start_time": "2024-06-08T00:33:05.754Z"
   },
   {
    "duration": 12,
    "start_time": "2024-06-08T00:33:21.715Z"
   },
   {
    "duration": 13,
    "start_time": "2024-06-08T00:34:38.492Z"
   },
   {
    "duration": 13,
    "start_time": "2024-06-08T00:35:00.602Z"
   },
   {
    "duration": 10,
    "start_time": "2024-06-08T00:35:10.218Z"
   },
   {
    "duration": 11,
    "start_time": "2024-06-08T00:36:46.299Z"
   },
   {
    "duration": 12,
    "start_time": "2024-06-08T00:36:55.900Z"
   },
   {
    "duration": 12,
    "start_time": "2024-06-08T00:37:33.049Z"
   },
   {
    "duration": 12,
    "start_time": "2024-06-08T00:38:02.380Z"
   },
   {
    "duration": 78,
    "start_time": "2024-06-08T00:38:24.977Z"
   },
   {
    "duration": 12,
    "start_time": "2024-06-08T00:38:46.150Z"
   },
   {
    "duration": 12,
    "start_time": "2024-06-08T00:39:03.933Z"
   },
   {
    "duration": 14,
    "start_time": "2024-06-08T00:39:12.979Z"
   },
   {
    "duration": 12,
    "start_time": "2024-06-08T00:39:25.474Z"
   },
   {
    "duration": 10,
    "start_time": "2024-06-08T00:39:36.238Z"
   },
   {
    "duration": 34,
    "start_time": "2024-06-08T00:42:03.896Z"
   },
   {
    "duration": 10,
    "start_time": "2024-06-08T00:42:22.189Z"
   },
   {
    "duration": 40,
    "start_time": "2024-06-08T00:46:14.059Z"
   },
   {
    "duration": 41,
    "start_time": "2024-06-08T00:46:37.552Z"
   },
   {
    "duration": 11,
    "start_time": "2024-06-08T00:46:47.322Z"
   },
   {
    "duration": 11,
    "start_time": "2024-06-08T00:47:15.751Z"
   },
   {
    "duration": 12,
    "start_time": "2024-06-08T00:47:37.099Z"
   },
   {
    "duration": 43,
    "start_time": "2024-06-08T00:48:16.299Z"
   },
   {
    "duration": 12,
    "start_time": "2024-06-08T00:48:39.818Z"
   },
   {
    "duration": 13,
    "start_time": "2024-06-08T00:49:08.743Z"
   },
   {
    "duration": 11,
    "start_time": "2024-06-08T00:50:37.088Z"
   },
   {
    "duration": 11,
    "start_time": "2024-06-08T00:51:36.371Z"
   },
   {
    "duration": 13,
    "start_time": "2024-06-08T00:52:45.681Z"
   },
   {
    "duration": 12,
    "start_time": "2024-06-08T00:53:01.608Z"
   },
   {
    "duration": 13,
    "start_time": "2024-06-08T00:53:12.489Z"
   },
   {
    "duration": 12,
    "start_time": "2024-06-08T00:53:18.962Z"
   },
   {
    "duration": 12,
    "start_time": "2024-06-08T00:53:44.400Z"
   },
   {
    "duration": 12,
    "start_time": "2024-06-08T00:54:13.828Z"
   },
   {
    "duration": 12,
    "start_time": "2024-06-08T00:54:27.076Z"
   },
   {
    "duration": 11,
    "start_time": "2024-06-08T00:54:33.418Z"
   },
   {
    "duration": 12,
    "start_time": "2024-06-08T00:54:43.584Z"
   },
   {
    "duration": 11,
    "start_time": "2024-06-08T00:54:52.276Z"
   },
   {
    "duration": 11,
    "start_time": "2024-06-08T00:54:59.013Z"
   },
   {
    "duration": 42,
    "start_time": "2024-06-08T00:58:22.275Z"
   },
   {
    "duration": 40,
    "start_time": "2024-06-08T00:58:51.966Z"
   },
   {
    "duration": 49,
    "start_time": "2024-06-08T00:59:00.138Z"
   },
   {
    "duration": 12,
    "start_time": "2024-06-08T00:59:14.313Z"
   },
   {
    "duration": 13,
    "start_time": "2024-06-08T00:59:51.320Z"
   },
   {
    "duration": 15,
    "start_time": "2024-06-08T01:00:03.526Z"
   },
   {
    "duration": 12,
    "start_time": "2024-06-08T01:00:10.477Z"
   },
   {
    "duration": 11,
    "start_time": "2024-06-08T01:00:55.224Z"
   }
  ],
  "colab": {
   "provenance": []
  },
  "kernelspec": {
   "display_name": "Python 3 (ipykernel)",
   "language": "python",
   "name": "python3"
  },
  "language_info": {
   "codemirror_mode": {
    "name": "ipython",
    "version": 3
   },
   "file_extension": ".py",
   "mimetype": "text/x-python",
   "name": "python",
   "nbconvert_exporter": "python",
   "pygments_lexer": "ipython3",
   "version": "3.9.19"
  },
  "toc": {
   "base_numbering": 1,
   "nav_menu": {},
   "number_sections": true,
   "sideBar": true,
   "skip_h1_title": true,
   "title_cell": "Table of Contents",
   "title_sidebar": "Contents",
   "toc_cell": false,
   "toc_position": {},
   "toc_section_display": true,
   "toc_window_display": false
  }
 },
 "nbformat": 4,
 "nbformat_minor": 1
}
