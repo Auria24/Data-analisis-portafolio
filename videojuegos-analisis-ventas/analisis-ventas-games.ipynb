{
 "cells": [
  {
   "cell_type": "markdown",
   "metadata": {
    "tags": [
     "e5c1f0c2-db9f-43a0-99b9-4875c52427e8"
    ]
   },
   "source": [
    "# Probabilidad de Exito"
   ]
  },
  {
   "cell_type": "markdown",
   "metadata": {},
   "source": [
    "## Importar librerias"
   ]
  },
  {
   "cell_type": "code",
   "execution_count": 4,
   "metadata": {},
   "outputs": [],
   "source": [
    "#Cargar todas las librerías\n",
    "import pandas as pd\n",
    "from matplotlib import  pyplot as plt \n",
    "from math import factorial\n",
    "from scipy import stats as st\n",
    "import math as math\n",
    "import numpy as np\n",
    "import seaborn as sns"
   ]
  },
  {
   "cell_type": "markdown",
   "metadata": {},
   "source": [
    "## Cargar datos\n"
   ]
  },
  {
   "cell_type": "code",
   "execution_count": 5,
   "metadata": {},
   "outputs": [],
   "source": [
    "df_gamer = pd.read_csv('./datasets/games.csv')"
   ]
  },
  {
   "cell_type": "code",
   "execution_count": 6,
   "metadata": {},
   "outputs": [
    {
     "name": "stdout",
     "output_type": "stream",
     "text": [
      "<class 'pandas.core.frame.DataFrame'>\n",
      "RangeIndex: 16715 entries, 0 to 16714\n",
      "Data columns (total 11 columns):\n",
      " #   Column           Non-Null Count  Dtype  \n",
      "---  ------           --------------  -----  \n",
      " 0   Name             16713 non-null  object \n",
      " 1   Platform         16715 non-null  object \n",
      " 2   Year_of_Release  16446 non-null  float64\n",
      " 3   Genre            16713 non-null  object \n",
      " 4   NA_sales         16715 non-null  float64\n",
      " 5   EU_sales         16715 non-null  float64\n",
      " 6   JP_sales         16715 non-null  float64\n",
      " 7   Other_sales      16715 non-null  float64\n",
      " 8   Critic_Score     8137 non-null   float64\n",
      " 9   User_Score       10014 non-null  object \n",
      " 10  Rating           9949 non-null   object \n",
      "dtypes: float64(6), object(5)\n",
      "memory usage: 1.4+ MB\n"
     ]
    }
   ],
   "source": [
    "df_gamer.info()"
   ]
  },
  {
   "cell_type": "markdown",
   "metadata": {},
   "source": [
    "## Limpiar datos."
   ]
  },
  {
   "cell_type": "markdown",
   "metadata": {},
   "source": [
    "### Cambiar Nombre a Columnas"
   ]
  },
  {
   "cell_type": "code",
   "execution_count": 7,
   "metadata": {},
   "outputs": [
    {
     "data": {
      "text/plain": [
       "Index(['name', 'platform', 'year_of_release', 'genre', 'na_sales', 'eu_sales',\n",
       "       'jp_sales', 'other_sales', 'critic_score', 'user_score', 'rating'],\n",
       "      dtype='object')"
      ]
     },
     "execution_count": 7,
     "metadata": {},
     "output_type": "execute_result"
    }
   ],
   "source": [
    "df_gamer.columns = map(str.lower, df_gamer.columns)\n",
    "df_gamer.columns"
   ]
  },
  {
   "cell_type": "code",
   "execution_count": 8,
   "metadata": {},
   "outputs": [
    {
     "data": {
      "text/html": [
       "<div>\n",
       "<style scoped>\n",
       "    .dataframe tbody tr th:only-of-type {\n",
       "        vertical-align: middle;\n",
       "    }\n",
       "\n",
       "    .dataframe tbody tr th {\n",
       "        vertical-align: top;\n",
       "    }\n",
       "\n",
       "    .dataframe thead th {\n",
       "        text-align: right;\n",
       "    }\n",
       "</style>\n",
       "<table border=\"1\" class=\"dataframe\">\n",
       "  <thead>\n",
       "    <tr style=\"text-align: right;\">\n",
       "      <th></th>\n",
       "      <th>name</th>\n",
       "      <th>platform</th>\n",
       "      <th>year_of_release</th>\n",
       "      <th>genre</th>\n",
       "      <th>na_sales</th>\n",
       "      <th>eu_sales</th>\n",
       "      <th>jp_sales</th>\n",
       "      <th>other_sales</th>\n",
       "      <th>critic_score</th>\n",
       "      <th>user_score</th>\n",
       "      <th>rating</th>\n",
       "    </tr>\n",
       "  </thead>\n",
       "  <tbody>\n",
       "    <tr>\n",
       "      <th>0</th>\n",
       "      <td>Wii Sports</td>\n",
       "      <td>Wii</td>\n",
       "      <td>2006.0</td>\n",
       "      <td>Sports</td>\n",
       "      <td>41.36</td>\n",
       "      <td>28.96</td>\n",
       "      <td>3.77</td>\n",
       "      <td>8.45</td>\n",
       "      <td>76.0</td>\n",
       "      <td>8</td>\n",
       "      <td>E</td>\n",
       "    </tr>\n",
       "    <tr>\n",
       "      <th>1</th>\n",
       "      <td>Super Mario Bros.</td>\n",
       "      <td>NES</td>\n",
       "      <td>1985.0</td>\n",
       "      <td>Platform</td>\n",
       "      <td>29.08</td>\n",
       "      <td>3.58</td>\n",
       "      <td>6.81</td>\n",
       "      <td>0.77</td>\n",
       "      <td>NaN</td>\n",
       "      <td>NaN</td>\n",
       "      <td>NaN</td>\n",
       "    </tr>\n",
       "    <tr>\n",
       "      <th>2</th>\n",
       "      <td>Mario Kart Wii</td>\n",
       "      <td>Wii</td>\n",
       "      <td>2008.0</td>\n",
       "      <td>Racing</td>\n",
       "      <td>15.68</td>\n",
       "      <td>12.76</td>\n",
       "      <td>3.79</td>\n",
       "      <td>3.29</td>\n",
       "      <td>82.0</td>\n",
       "      <td>8.3</td>\n",
       "      <td>E</td>\n",
       "    </tr>\n",
       "    <tr>\n",
       "      <th>3</th>\n",
       "      <td>Wii Sports Resort</td>\n",
       "      <td>Wii</td>\n",
       "      <td>2009.0</td>\n",
       "      <td>Sports</td>\n",
       "      <td>15.61</td>\n",
       "      <td>10.93</td>\n",
       "      <td>3.28</td>\n",
       "      <td>2.95</td>\n",
       "      <td>80.0</td>\n",
       "      <td>8</td>\n",
       "      <td>E</td>\n",
       "    </tr>\n",
       "    <tr>\n",
       "      <th>4</th>\n",
       "      <td>Pokemon Red/Pokemon Blue</td>\n",
       "      <td>GB</td>\n",
       "      <td>1996.0</td>\n",
       "      <td>Role-Playing</td>\n",
       "      <td>11.27</td>\n",
       "      <td>8.89</td>\n",
       "      <td>10.22</td>\n",
       "      <td>1.00</td>\n",
       "      <td>NaN</td>\n",
       "      <td>NaN</td>\n",
       "      <td>NaN</td>\n",
       "    </tr>\n",
       "    <tr>\n",
       "      <th>5</th>\n",
       "      <td>Tetris</td>\n",
       "      <td>GB</td>\n",
       "      <td>1989.0</td>\n",
       "      <td>Puzzle</td>\n",
       "      <td>23.20</td>\n",
       "      <td>2.26</td>\n",
       "      <td>4.22</td>\n",
       "      <td>0.58</td>\n",
       "      <td>NaN</td>\n",
       "      <td>NaN</td>\n",
       "      <td>NaN</td>\n",
       "    </tr>\n",
       "    <tr>\n",
       "      <th>6</th>\n",
       "      <td>New Super Mario Bros.</td>\n",
       "      <td>DS</td>\n",
       "      <td>2006.0</td>\n",
       "      <td>Platform</td>\n",
       "      <td>11.28</td>\n",
       "      <td>9.14</td>\n",
       "      <td>6.50</td>\n",
       "      <td>2.88</td>\n",
       "      <td>89.0</td>\n",
       "      <td>8.5</td>\n",
       "      <td>E</td>\n",
       "    </tr>\n",
       "    <tr>\n",
       "      <th>7</th>\n",
       "      <td>Wii Play</td>\n",
       "      <td>Wii</td>\n",
       "      <td>2006.0</td>\n",
       "      <td>Misc</td>\n",
       "      <td>13.96</td>\n",
       "      <td>9.18</td>\n",
       "      <td>2.93</td>\n",
       "      <td>2.84</td>\n",
       "      <td>58.0</td>\n",
       "      <td>6.6</td>\n",
       "      <td>E</td>\n",
       "    </tr>\n",
       "    <tr>\n",
       "      <th>8</th>\n",
       "      <td>New Super Mario Bros. Wii</td>\n",
       "      <td>Wii</td>\n",
       "      <td>2009.0</td>\n",
       "      <td>Platform</td>\n",
       "      <td>14.44</td>\n",
       "      <td>6.94</td>\n",
       "      <td>4.70</td>\n",
       "      <td>2.24</td>\n",
       "      <td>87.0</td>\n",
       "      <td>8.4</td>\n",
       "      <td>E</td>\n",
       "    </tr>\n",
       "    <tr>\n",
       "      <th>9</th>\n",
       "      <td>Duck Hunt</td>\n",
       "      <td>NES</td>\n",
       "      <td>1984.0</td>\n",
       "      <td>Shooter</td>\n",
       "      <td>26.93</td>\n",
       "      <td>0.63</td>\n",
       "      <td>0.28</td>\n",
       "      <td>0.47</td>\n",
       "      <td>NaN</td>\n",
       "      <td>NaN</td>\n",
       "      <td>NaN</td>\n",
       "    </tr>\n",
       "    <tr>\n",
       "      <th>10</th>\n",
       "      <td>Nintendogs</td>\n",
       "      <td>DS</td>\n",
       "      <td>2005.0</td>\n",
       "      <td>Simulation</td>\n",
       "      <td>9.05</td>\n",
       "      <td>10.95</td>\n",
       "      <td>1.93</td>\n",
       "      <td>2.74</td>\n",
       "      <td>NaN</td>\n",
       "      <td>NaN</td>\n",
       "      <td>NaN</td>\n",
       "    </tr>\n",
       "    <tr>\n",
       "      <th>11</th>\n",
       "      <td>Mario Kart DS</td>\n",
       "      <td>DS</td>\n",
       "      <td>2005.0</td>\n",
       "      <td>Racing</td>\n",
       "      <td>9.71</td>\n",
       "      <td>7.47</td>\n",
       "      <td>4.13</td>\n",
       "      <td>1.90</td>\n",
       "      <td>91.0</td>\n",
       "      <td>8.6</td>\n",
       "      <td>E</td>\n",
       "    </tr>\n",
       "    <tr>\n",
       "      <th>12</th>\n",
       "      <td>Pokemon Gold/Pokemon Silver</td>\n",
       "      <td>GB</td>\n",
       "      <td>1999.0</td>\n",
       "      <td>Role-Playing</td>\n",
       "      <td>9.00</td>\n",
       "      <td>6.18</td>\n",
       "      <td>7.20</td>\n",
       "      <td>0.71</td>\n",
       "      <td>NaN</td>\n",
       "      <td>NaN</td>\n",
       "      <td>NaN</td>\n",
       "    </tr>\n",
       "    <tr>\n",
       "      <th>13</th>\n",
       "      <td>Wii Fit</td>\n",
       "      <td>Wii</td>\n",
       "      <td>2007.0</td>\n",
       "      <td>Sports</td>\n",
       "      <td>8.92</td>\n",
       "      <td>8.03</td>\n",
       "      <td>3.60</td>\n",
       "      <td>2.15</td>\n",
       "      <td>80.0</td>\n",
       "      <td>7.7</td>\n",
       "      <td>E</td>\n",
       "    </tr>\n",
       "    <tr>\n",
       "      <th>14</th>\n",
       "      <td>Kinect Adventures!</td>\n",
       "      <td>X360</td>\n",
       "      <td>2010.0</td>\n",
       "      <td>Misc</td>\n",
       "      <td>15.00</td>\n",
       "      <td>4.89</td>\n",
       "      <td>0.24</td>\n",
       "      <td>1.69</td>\n",
       "      <td>61.0</td>\n",
       "      <td>6.3</td>\n",
       "      <td>E</td>\n",
       "    </tr>\n",
       "    <tr>\n",
       "      <th>15</th>\n",
       "      <td>Wii Fit Plus</td>\n",
       "      <td>Wii</td>\n",
       "      <td>2009.0</td>\n",
       "      <td>Sports</td>\n",
       "      <td>9.01</td>\n",
       "      <td>8.49</td>\n",
       "      <td>2.53</td>\n",
       "      <td>1.77</td>\n",
       "      <td>80.0</td>\n",
       "      <td>7.4</td>\n",
       "      <td>E</td>\n",
       "    </tr>\n",
       "    <tr>\n",
       "      <th>16</th>\n",
       "      <td>Grand Theft Auto V</td>\n",
       "      <td>PS3</td>\n",
       "      <td>2013.0</td>\n",
       "      <td>Action</td>\n",
       "      <td>7.02</td>\n",
       "      <td>9.09</td>\n",
       "      <td>0.98</td>\n",
       "      <td>3.96</td>\n",
       "      <td>97.0</td>\n",
       "      <td>8.2</td>\n",
       "      <td>M</td>\n",
       "    </tr>\n",
       "    <tr>\n",
       "      <th>17</th>\n",
       "      <td>Grand Theft Auto: San Andreas</td>\n",
       "      <td>PS2</td>\n",
       "      <td>2004.0</td>\n",
       "      <td>Action</td>\n",
       "      <td>9.43</td>\n",
       "      <td>0.40</td>\n",
       "      <td>0.41</td>\n",
       "      <td>10.57</td>\n",
       "      <td>95.0</td>\n",
       "      <td>9</td>\n",
       "      <td>M</td>\n",
       "    </tr>\n",
       "    <tr>\n",
       "      <th>18</th>\n",
       "      <td>Super Mario World</td>\n",
       "      <td>SNES</td>\n",
       "      <td>1990.0</td>\n",
       "      <td>Platform</td>\n",
       "      <td>12.78</td>\n",
       "      <td>3.75</td>\n",
       "      <td>3.54</td>\n",
       "      <td>0.55</td>\n",
       "      <td>NaN</td>\n",
       "      <td>NaN</td>\n",
       "      <td>NaN</td>\n",
       "    </tr>\n",
       "    <tr>\n",
       "      <th>19</th>\n",
       "      <td>Brain Age: Train Your Brain in Minutes a Day</td>\n",
       "      <td>DS</td>\n",
       "      <td>2005.0</td>\n",
       "      <td>Misc</td>\n",
       "      <td>4.74</td>\n",
       "      <td>9.20</td>\n",
       "      <td>4.16</td>\n",
       "      <td>2.04</td>\n",
       "      <td>77.0</td>\n",
       "      <td>7.9</td>\n",
       "      <td>E</td>\n",
       "    </tr>\n",
       "  </tbody>\n",
       "</table>\n",
       "</div>"
      ],
      "text/plain": [
       "                                            name platform  year_of_release  \\\n",
       "0                                     Wii Sports      Wii           2006.0   \n",
       "1                              Super Mario Bros.      NES           1985.0   \n",
       "2                                 Mario Kart Wii      Wii           2008.0   \n",
       "3                              Wii Sports Resort      Wii           2009.0   \n",
       "4                       Pokemon Red/Pokemon Blue       GB           1996.0   \n",
       "5                                         Tetris       GB           1989.0   \n",
       "6                          New Super Mario Bros.       DS           2006.0   \n",
       "7                                       Wii Play      Wii           2006.0   \n",
       "8                      New Super Mario Bros. Wii      Wii           2009.0   \n",
       "9                                      Duck Hunt      NES           1984.0   \n",
       "10                                    Nintendogs       DS           2005.0   \n",
       "11                                 Mario Kart DS       DS           2005.0   \n",
       "12                   Pokemon Gold/Pokemon Silver       GB           1999.0   \n",
       "13                                       Wii Fit      Wii           2007.0   \n",
       "14                            Kinect Adventures!     X360           2010.0   \n",
       "15                                  Wii Fit Plus      Wii           2009.0   \n",
       "16                            Grand Theft Auto V      PS3           2013.0   \n",
       "17                 Grand Theft Auto: San Andreas      PS2           2004.0   \n",
       "18                             Super Mario World     SNES           1990.0   \n",
       "19  Brain Age: Train Your Brain in Minutes a Day       DS           2005.0   \n",
       "\n",
       "           genre  na_sales  eu_sales  jp_sales  other_sales  critic_score  \\\n",
       "0         Sports     41.36     28.96      3.77         8.45          76.0   \n",
       "1       Platform     29.08      3.58      6.81         0.77           NaN   \n",
       "2         Racing     15.68     12.76      3.79         3.29          82.0   \n",
       "3         Sports     15.61     10.93      3.28         2.95          80.0   \n",
       "4   Role-Playing     11.27      8.89     10.22         1.00           NaN   \n",
       "5         Puzzle     23.20      2.26      4.22         0.58           NaN   \n",
       "6       Platform     11.28      9.14      6.50         2.88          89.0   \n",
       "7           Misc     13.96      9.18      2.93         2.84          58.0   \n",
       "8       Platform     14.44      6.94      4.70         2.24          87.0   \n",
       "9        Shooter     26.93      0.63      0.28         0.47           NaN   \n",
       "10    Simulation      9.05     10.95      1.93         2.74           NaN   \n",
       "11        Racing      9.71      7.47      4.13         1.90          91.0   \n",
       "12  Role-Playing      9.00      6.18      7.20         0.71           NaN   \n",
       "13        Sports      8.92      8.03      3.60         2.15          80.0   \n",
       "14          Misc     15.00      4.89      0.24         1.69          61.0   \n",
       "15        Sports      9.01      8.49      2.53         1.77          80.0   \n",
       "16        Action      7.02      9.09      0.98         3.96          97.0   \n",
       "17        Action      9.43      0.40      0.41        10.57          95.0   \n",
       "18      Platform     12.78      3.75      3.54         0.55           NaN   \n",
       "19          Misc      4.74      9.20      4.16         2.04          77.0   \n",
       "\n",
       "   user_score rating  \n",
       "0           8      E  \n",
       "1         NaN    NaN  \n",
       "2         8.3      E  \n",
       "3           8      E  \n",
       "4         NaN    NaN  \n",
       "5         NaN    NaN  \n",
       "6         8.5      E  \n",
       "7         6.6      E  \n",
       "8         8.4      E  \n",
       "9         NaN    NaN  \n",
       "10        NaN    NaN  \n",
       "11        8.6      E  \n",
       "12        NaN    NaN  \n",
       "13        7.7      E  \n",
       "14        6.3      E  \n",
       "15        7.4      E  \n",
       "16        8.2      M  \n",
       "17          9      M  \n",
       "18        NaN    NaN  \n",
       "19        7.9      E  "
      ]
     },
     "execution_count": 8,
     "metadata": {},
     "output_type": "execute_result"
    }
   ],
   "source": [
    "\n",
    "df_gamer.head(20)"
   ]
  },
  {
   "cell_type": "markdown",
   "metadata": {},
   "source": [
    "### Deteccion de valores nulos y duplicados"
   ]
  },
  {
   "cell_type": "code",
   "execution_count": 9,
   "metadata": {},
   "outputs": [
    {
     "name": "stdout",
     "output_type": "stream",
     "text": [
      "name                  2\n",
      "platform              0\n",
      "year_of_release     269\n",
      "genre                 2\n",
      "na_sales              0\n",
      "eu_sales              0\n",
      "jp_sales              0\n",
      "other_sales           0\n",
      "critic_score       8578\n",
      "user_score         6701\n",
      "rating             6766\n",
      "dtype: int64\n",
      "\n",
      "0\n"
     ]
    }
   ],
   "source": [
    "print(df_gamer.isna().sum())\n",
    "print()\n",
    "print(df_gamer.duplicated().sum())"
   ]
  },
  {
   "cell_type": "markdown",
   "metadata": {},
   "source": [
    "### Cambiar valor de la columna year_of_release de float a entero y tratamiento de valores nulos."
   ]
  },
  {
   "cell_type": "code",
   "execution_count": 10,
   "metadata": {},
   "outputs": [
    {
     "name": "stderr",
     "output_type": "stream",
     "text": [
      "C:\\Users\\ILMAS\\AppData\\Local\\Temp\\ipykernel_22988\\2466378842.py:1: FutureWarning: A value is trying to be set on a copy of a DataFrame or Series through chained assignment using an inplace method.\n",
      "The behavior will change in pandas 3.0. This inplace method will never work because the intermediate object on which we are setting values always behaves as a copy.\n",
      "\n",
      "For example, when doing 'df[col].method(value, inplace=True)', try using 'df.method({col: value}, inplace=True)' or df[col] = df[col].method(value) instead, to perform the operation inplace on the original object.\n",
      "\n",
      "\n",
      "  df_gamer['year_of_release'].fillna(0, inplace = True)\n"
     ]
    }
   ],
   "source": [
    "df_gamer['year_of_release'].fillna(0, inplace = True)\n",
    "df_gamer.year_of_release = df_gamer.year_of_release.astype(int)\n"
   ]
  },
  {
   "cell_type": "markdown",
   "metadata": {},
   "source": [
    "### cambio de valores de la columna user_score y tratamiento de valores nulos"
   ]
  },
  {
   "cell_type": "code",
   "execution_count": 11,
   "metadata": {},
   "outputs": [],
   "source": [
    "df_gamer.loc[df_gamer['user_score']=='tbd','user_score']= np.nan\n",
    "df_gamer.user_score = df_gamer.user_score.astype(float)"
   ]
  },
  {
   "cell_type": "code",
   "execution_count": 12,
   "metadata": {},
   "outputs": [
    {
     "name": "stdout",
     "output_type": "stream",
     "text": [
      "<class 'pandas.core.frame.DataFrame'>\n",
      "RangeIndex: 16715 entries, 0 to 16714\n",
      "Data columns (total 11 columns):\n",
      " #   Column           Non-Null Count  Dtype  \n",
      "---  ------           --------------  -----  \n",
      " 0   name             16713 non-null  object \n",
      " 1   platform         16715 non-null  object \n",
      " 2   year_of_release  16715 non-null  int32  \n",
      " 3   genre            16713 non-null  object \n",
      " 4   na_sales         16715 non-null  float64\n",
      " 5   eu_sales         16715 non-null  float64\n",
      " 6   jp_sales         16715 non-null  float64\n",
      " 7   other_sales      16715 non-null  float64\n",
      " 8   critic_score     8137 non-null   float64\n",
      " 9   user_score       7590 non-null   float64\n",
      " 10  rating           9949 non-null   object \n",
      "dtypes: float64(6), int32(1), object(4)\n",
      "memory usage: 1.3+ MB\n"
     ]
    }
   ],
   "source": [
    "df_gamer.info()"
   ]
  },
  {
   "cell_type": "markdown",
   "metadata": {},
   "source": [
    "### tratamiento de valores nulos en critic_score"
   ]
  },
  {
   "cell_type": "code",
   "execution_count": 13,
   "metadata": {},
   "outputs": [
    {
     "name": "stdout",
     "output_type": "stream",
     "text": [
      "<class 'pandas.core.frame.DataFrame'>\n",
      "RangeIndex: 16715 entries, 0 to 16714\n",
      "Data columns (total 11 columns):\n",
      " #   Column           Non-Null Count  Dtype  \n",
      "---  ------           --------------  -----  \n",
      " 0   name             16713 non-null  object \n",
      " 1   platform         16715 non-null  object \n",
      " 2   year_of_release  16715 non-null  int32  \n",
      " 3   genre            16713 non-null  object \n",
      " 4   na_sales         16715 non-null  float64\n",
      " 5   eu_sales         16715 non-null  float64\n",
      " 6   jp_sales         16715 non-null  float64\n",
      " 7   other_sales      16715 non-null  float64\n",
      " 8   critic_score     8137 non-null   float64\n",
      " 9   user_score       7590 non-null   float64\n",
      " 10  rating           9949 non-null   object \n",
      "dtypes: float64(6), int32(1), object(4)\n",
      "memory usage: 1.3+ MB\n"
     ]
    }
   ],
   "source": [
    "df_gamer.info()"
   ]
  },
  {
   "cell_type": "code",
   "execution_count": 14,
   "metadata": {},
   "outputs": [],
   "source": [
    "df_gamer_critic_media = df_gamer['critic_score'].mean() "
   ]
  },
  {
   "cell_type": "code",
   "execution_count": 15,
   "metadata": {},
   "outputs": [
    {
     "name": "stderr",
     "output_type": "stream",
     "text": [
      "C:\\Users\\ILMAS\\AppData\\Local\\Temp\\ipykernel_22988\\2642325133.py:1: FutureWarning: A value is trying to be set on a copy of a DataFrame or Series through chained assignment using an inplace method.\n",
      "The behavior will change in pandas 3.0. This inplace method will never work because the intermediate object on which we are setting values always behaves as a copy.\n",
      "\n",
      "For example, when doing 'df[col].method(value, inplace=True)', try using 'df.method({col: value}, inplace=True)' or df[col] = df[col].method(value) instead, to perform the operation inplace on the original object.\n",
      "\n",
      "\n",
      "  df_gamer['critic_score'].fillna(df_gamer_critic_media, inplace = True)\n"
     ]
    }
   ],
   "source": [
    "df_gamer['critic_score'].fillna(df_gamer_critic_media, inplace = True)"
   ]
  },
  {
   "cell_type": "code",
   "execution_count": 16,
   "metadata": {},
   "outputs": [
    {
     "name": "stdout",
     "output_type": "stream",
     "text": [
      "<class 'pandas.core.frame.DataFrame'>\n",
      "RangeIndex: 16715 entries, 0 to 16714\n",
      "Data columns (total 11 columns):\n",
      " #   Column           Non-Null Count  Dtype  \n",
      "---  ------           --------------  -----  \n",
      " 0   name             16713 non-null  object \n",
      " 1   platform         16715 non-null  object \n",
      " 2   year_of_release  16715 non-null  int32  \n",
      " 3   genre            16713 non-null  object \n",
      " 4   na_sales         16715 non-null  float64\n",
      " 5   eu_sales         16715 non-null  float64\n",
      " 6   jp_sales         16715 non-null  float64\n",
      " 7   other_sales      16715 non-null  float64\n",
      " 8   critic_score     16715 non-null  float64\n",
      " 9   user_score       7590 non-null   float64\n",
      " 10  rating           9949 non-null   object \n",
      "dtypes: float64(6), int32(1), object(4)\n",
      "memory usage: 1.3+ MB\n"
     ]
    }
   ],
   "source": [
    "df_gamer.info()"
   ]
  },
  {
   "cell_type": "markdown",
   "metadata": {},
   "source": [
    "### Ventas totales"
   ]
  },
  {
   "cell_type": "code",
   "execution_count": 17,
   "metadata": {},
   "outputs": [],
   "source": [
    "df_gamer['ventas_totales'] = df_gamer[['na_sales', 'eu_sales', 'jp_sales', 'other_sales']].sum(axis = 1)"
   ]
  },
  {
   "cell_type": "code",
   "execution_count": 18,
   "metadata": {},
   "outputs": [
    {
     "data": {
      "text/html": [
       "<div>\n",
       "<style scoped>\n",
       "    .dataframe tbody tr th:only-of-type {\n",
       "        vertical-align: middle;\n",
       "    }\n",
       "\n",
       "    .dataframe tbody tr th {\n",
       "        vertical-align: top;\n",
       "    }\n",
       "\n",
       "    .dataframe thead th {\n",
       "        text-align: right;\n",
       "    }\n",
       "</style>\n",
       "<table border=\"1\" class=\"dataframe\">\n",
       "  <thead>\n",
       "    <tr style=\"text-align: right;\">\n",
       "      <th></th>\n",
       "      <th>name</th>\n",
       "      <th>platform</th>\n",
       "      <th>year_of_release</th>\n",
       "      <th>genre</th>\n",
       "      <th>na_sales</th>\n",
       "      <th>eu_sales</th>\n",
       "      <th>jp_sales</th>\n",
       "      <th>other_sales</th>\n",
       "      <th>critic_score</th>\n",
       "      <th>user_score</th>\n",
       "      <th>rating</th>\n",
       "      <th>ventas_totales</th>\n",
       "    </tr>\n",
       "  </thead>\n",
       "  <tbody>\n",
       "    <tr>\n",
       "      <th>0</th>\n",
       "      <td>Wii Sports</td>\n",
       "      <td>Wii</td>\n",
       "      <td>2006</td>\n",
       "      <td>Sports</td>\n",
       "      <td>41.36</td>\n",
       "      <td>28.96</td>\n",
       "      <td>3.77</td>\n",
       "      <td>8.45</td>\n",
       "      <td>76.000000</td>\n",
       "      <td>8.0</td>\n",
       "      <td>E</td>\n",
       "      <td>82.54</td>\n",
       "    </tr>\n",
       "    <tr>\n",
       "      <th>1</th>\n",
       "      <td>Super Mario Bros.</td>\n",
       "      <td>NES</td>\n",
       "      <td>1985</td>\n",
       "      <td>Platform</td>\n",
       "      <td>29.08</td>\n",
       "      <td>3.58</td>\n",
       "      <td>6.81</td>\n",
       "      <td>0.77</td>\n",
       "      <td>68.967679</td>\n",
       "      <td>NaN</td>\n",
       "      <td>NaN</td>\n",
       "      <td>40.24</td>\n",
       "    </tr>\n",
       "    <tr>\n",
       "      <th>2</th>\n",
       "      <td>Mario Kart Wii</td>\n",
       "      <td>Wii</td>\n",
       "      <td>2008</td>\n",
       "      <td>Racing</td>\n",
       "      <td>15.68</td>\n",
       "      <td>12.76</td>\n",
       "      <td>3.79</td>\n",
       "      <td>3.29</td>\n",
       "      <td>82.000000</td>\n",
       "      <td>8.3</td>\n",
       "      <td>E</td>\n",
       "      <td>35.52</td>\n",
       "    </tr>\n",
       "    <tr>\n",
       "      <th>3</th>\n",
       "      <td>Wii Sports Resort</td>\n",
       "      <td>Wii</td>\n",
       "      <td>2009</td>\n",
       "      <td>Sports</td>\n",
       "      <td>15.61</td>\n",
       "      <td>10.93</td>\n",
       "      <td>3.28</td>\n",
       "      <td>2.95</td>\n",
       "      <td>80.000000</td>\n",
       "      <td>8.0</td>\n",
       "      <td>E</td>\n",
       "      <td>32.77</td>\n",
       "    </tr>\n",
       "    <tr>\n",
       "      <th>4</th>\n",
       "      <td>Pokemon Red/Pokemon Blue</td>\n",
       "      <td>GB</td>\n",
       "      <td>1996</td>\n",
       "      <td>Role-Playing</td>\n",
       "      <td>11.27</td>\n",
       "      <td>8.89</td>\n",
       "      <td>10.22</td>\n",
       "      <td>1.00</td>\n",
       "      <td>68.967679</td>\n",
       "      <td>NaN</td>\n",
       "      <td>NaN</td>\n",
       "      <td>31.38</td>\n",
       "    </tr>\n",
       "  </tbody>\n",
       "</table>\n",
       "</div>"
      ],
      "text/plain": [
       "                       name platform  year_of_release         genre  na_sales  \\\n",
       "0                Wii Sports      Wii             2006        Sports     41.36   \n",
       "1         Super Mario Bros.      NES             1985      Platform     29.08   \n",
       "2            Mario Kart Wii      Wii             2008        Racing     15.68   \n",
       "3         Wii Sports Resort      Wii             2009        Sports     15.61   \n",
       "4  Pokemon Red/Pokemon Blue       GB             1996  Role-Playing     11.27   \n",
       "\n",
       "   eu_sales  jp_sales  other_sales  critic_score  user_score rating  \\\n",
       "0     28.96      3.77         8.45     76.000000         8.0      E   \n",
       "1      3.58      6.81         0.77     68.967679         NaN    NaN   \n",
       "2     12.76      3.79         3.29     82.000000         8.3      E   \n",
       "3     10.93      3.28         2.95     80.000000         8.0      E   \n",
       "4      8.89     10.22         1.00     68.967679         NaN    NaN   \n",
       "\n",
       "   ventas_totales  \n",
       "0           82.54  \n",
       "1           40.24  \n",
       "2           35.52  \n",
       "3           32.77  \n",
       "4           31.38  "
      ]
     },
     "execution_count": 18,
     "metadata": {},
     "output_type": "execute_result"
    }
   ],
   "source": [
    "df_gamer.head()"
   ]
  },
  {
   "cell_type": "markdown",
   "metadata": {},
   "source": [
    "## Analisis de datos"
   ]
  },
  {
   "cell_type": "markdown",
   "metadata": {},
   "source": [
    "### Conteo por año de lanzamiento"
   ]
  },
  {
   "cell_type": "code",
   "execution_count": 19,
   "metadata": {},
   "outputs": [],
   "source": [
    "anio_de_lanzamiento =df_gamer.groupby('year_of_release')['name'].count().sort_values(ascending = False).reset_index()"
   ]
  },
  {
   "cell_type": "code",
   "execution_count": 20,
   "metadata": {},
   "outputs": [],
   "source": [
    "anio_de_lanzamiento = anio_de_lanzamiento[anio_de_lanzamiento['year_of_release'] != 0]"
   ]
  },
  {
   "cell_type": "code",
   "execution_count": 21,
   "metadata": {},
   "outputs": [
    {
     "data": {
      "text/html": [
       "<div>\n",
       "<style scoped>\n",
       "    .dataframe tbody tr th:only-of-type {\n",
       "        vertical-align: middle;\n",
       "    }\n",
       "\n",
       "    .dataframe tbody tr th {\n",
       "        vertical-align: top;\n",
       "    }\n",
       "\n",
       "    .dataframe thead th {\n",
       "        text-align: right;\n",
       "    }\n",
       "</style>\n",
       "<table border=\"1\" class=\"dataframe\">\n",
       "  <thead>\n",
       "    <tr style=\"text-align: right;\">\n",
       "      <th></th>\n",
       "      <th>year_of_release</th>\n",
       "      <th>name</th>\n",
       "    </tr>\n",
       "  </thead>\n",
       "  <tbody>\n",
       "    <tr>\n",
       "      <th>0</th>\n",
       "      <td>2008</td>\n",
       "      <td>1427</td>\n",
       "    </tr>\n",
       "    <tr>\n",
       "      <th>1</th>\n",
       "      <td>2009</td>\n",
       "      <td>1426</td>\n",
       "    </tr>\n",
       "    <tr>\n",
       "      <th>2</th>\n",
       "      <td>2010</td>\n",
       "      <td>1255</td>\n",
       "    </tr>\n",
       "    <tr>\n",
       "      <th>3</th>\n",
       "      <td>2007</td>\n",
       "      <td>1197</td>\n",
       "    </tr>\n",
       "    <tr>\n",
       "      <th>4</th>\n",
       "      <td>2011</td>\n",
       "      <td>1136</td>\n",
       "    </tr>\n",
       "    <tr>\n",
       "      <th>5</th>\n",
       "      <td>2006</td>\n",
       "      <td>1006</td>\n",
       "    </tr>\n",
       "    <tr>\n",
       "      <th>6</th>\n",
       "      <td>2005</td>\n",
       "      <td>939</td>\n",
       "    </tr>\n",
       "    <tr>\n",
       "      <th>7</th>\n",
       "      <td>2002</td>\n",
       "      <td>829</td>\n",
       "    </tr>\n",
       "    <tr>\n",
       "      <th>8</th>\n",
       "      <td>2003</td>\n",
       "      <td>775</td>\n",
       "    </tr>\n",
       "    <tr>\n",
       "      <th>9</th>\n",
       "      <td>2004</td>\n",
       "      <td>762</td>\n",
       "    </tr>\n",
       "    <tr>\n",
       "      <th>10</th>\n",
       "      <td>2012</td>\n",
       "      <td>653</td>\n",
       "    </tr>\n",
       "    <tr>\n",
       "      <th>11</th>\n",
       "      <td>2015</td>\n",
       "      <td>606</td>\n",
       "    </tr>\n",
       "    <tr>\n",
       "      <th>12</th>\n",
       "      <td>2014</td>\n",
       "      <td>581</td>\n",
       "    </tr>\n",
       "    <tr>\n",
       "      <th>13</th>\n",
       "      <td>2013</td>\n",
       "      <td>544</td>\n",
       "    </tr>\n",
       "    <tr>\n",
       "      <th>14</th>\n",
       "      <td>2016</td>\n",
       "      <td>502</td>\n",
       "    </tr>\n",
       "    <tr>\n",
       "      <th>15</th>\n",
       "      <td>2001</td>\n",
       "      <td>482</td>\n",
       "    </tr>\n",
       "    <tr>\n",
       "      <th>16</th>\n",
       "      <td>1998</td>\n",
       "      <td>379</td>\n",
       "    </tr>\n",
       "    <tr>\n",
       "      <th>17</th>\n",
       "      <td>2000</td>\n",
       "      <td>350</td>\n",
       "    </tr>\n",
       "    <tr>\n",
       "      <th>18</th>\n",
       "      <td>1999</td>\n",
       "      <td>338</td>\n",
       "    </tr>\n",
       "    <tr>\n",
       "      <th>19</th>\n",
       "      <td>1997</td>\n",
       "      <td>289</td>\n",
       "    </tr>\n",
       "    <tr>\n",
       "      <th>21</th>\n",
       "      <td>1996</td>\n",
       "      <td>263</td>\n",
       "    </tr>\n",
       "    <tr>\n",
       "      <th>22</th>\n",
       "      <td>1995</td>\n",
       "      <td>219</td>\n",
       "    </tr>\n",
       "    <tr>\n",
       "      <th>23</th>\n",
       "      <td>1994</td>\n",
       "      <td>121</td>\n",
       "    </tr>\n",
       "    <tr>\n",
       "      <th>24</th>\n",
       "      <td>1993</td>\n",
       "      <td>60</td>\n",
       "    </tr>\n",
       "    <tr>\n",
       "      <th>25</th>\n",
       "      <td>1981</td>\n",
       "      <td>46</td>\n",
       "    </tr>\n",
       "    <tr>\n",
       "      <th>26</th>\n",
       "      <td>1992</td>\n",
       "      <td>43</td>\n",
       "    </tr>\n",
       "    <tr>\n",
       "      <th>27</th>\n",
       "      <td>1991</td>\n",
       "      <td>41</td>\n",
       "    </tr>\n",
       "    <tr>\n",
       "      <th>28</th>\n",
       "      <td>1982</td>\n",
       "      <td>36</td>\n",
       "    </tr>\n",
       "    <tr>\n",
       "      <th>29</th>\n",
       "      <td>1986</td>\n",
       "      <td>21</td>\n",
       "    </tr>\n",
       "    <tr>\n",
       "      <th>30</th>\n",
       "      <td>1989</td>\n",
       "      <td>17</td>\n",
       "    </tr>\n",
       "    <tr>\n",
       "      <th>31</th>\n",
       "      <td>1983</td>\n",
       "      <td>17</td>\n",
       "    </tr>\n",
       "    <tr>\n",
       "      <th>32</th>\n",
       "      <td>1987</td>\n",
       "      <td>16</td>\n",
       "    </tr>\n",
       "    <tr>\n",
       "      <th>33</th>\n",
       "      <td>1990</td>\n",
       "      <td>16</td>\n",
       "    </tr>\n",
       "    <tr>\n",
       "      <th>34</th>\n",
       "      <td>1988</td>\n",
       "      <td>15</td>\n",
       "    </tr>\n",
       "    <tr>\n",
       "      <th>35</th>\n",
       "      <td>1985</td>\n",
       "      <td>14</td>\n",
       "    </tr>\n",
       "    <tr>\n",
       "      <th>36</th>\n",
       "      <td>1984</td>\n",
       "      <td>14</td>\n",
       "    </tr>\n",
       "    <tr>\n",
       "      <th>37</th>\n",
       "      <td>1980</td>\n",
       "      <td>9</td>\n",
       "    </tr>\n",
       "  </tbody>\n",
       "</table>\n",
       "</div>"
      ],
      "text/plain": [
       "    year_of_release  name\n",
       "0              2008  1427\n",
       "1              2009  1426\n",
       "2              2010  1255\n",
       "3              2007  1197\n",
       "4              2011  1136\n",
       "5              2006  1006\n",
       "6              2005   939\n",
       "7              2002   829\n",
       "8              2003   775\n",
       "9              2004   762\n",
       "10             2012   653\n",
       "11             2015   606\n",
       "12             2014   581\n",
       "13             2013   544\n",
       "14             2016   502\n",
       "15             2001   482\n",
       "16             1998   379\n",
       "17             2000   350\n",
       "18             1999   338\n",
       "19             1997   289\n",
       "21             1996   263\n",
       "22             1995   219\n",
       "23             1994   121\n",
       "24             1993    60\n",
       "25             1981    46\n",
       "26             1992    43\n",
       "27             1991    41\n",
       "28             1982    36\n",
       "29             1986    21\n",
       "30             1989    17\n",
       "31             1983    17\n",
       "32             1987    16\n",
       "33             1990    16\n",
       "34             1988    15\n",
       "35             1985    14\n",
       "36             1984    14\n",
       "37             1980     9"
      ]
     },
     "execution_count": 21,
     "metadata": {},
     "output_type": "execute_result"
    }
   ],
   "source": [
    "anio_de_lanzamiento"
   ]
  },
  {
   "cell_type": "markdown",
   "metadata": {},
   "source": [
    "### Ventas por plataforma\n"
   ]
  },
  {
   "cell_type": "code",
   "execution_count": 22,
   "metadata": {},
   "outputs": [],
   "source": [
    "ventas_por_plataforma = df_gamer.groupby( 'platform')['ventas_totales'].sum().sort_values(ascending = False).reset_index()"
   ]
  },
  {
   "cell_type": "code",
   "execution_count": 23,
   "metadata": {},
   "outputs": [
    {
     "data": {
      "text/html": [
       "<div>\n",
       "<style scoped>\n",
       "    .dataframe tbody tr th:only-of-type {\n",
       "        vertical-align: middle;\n",
       "    }\n",
       "\n",
       "    .dataframe tbody tr th {\n",
       "        vertical-align: top;\n",
       "    }\n",
       "\n",
       "    .dataframe thead th {\n",
       "        text-align: right;\n",
       "    }\n",
       "</style>\n",
       "<table border=\"1\" class=\"dataframe\">\n",
       "  <thead>\n",
       "    <tr style=\"text-align: right;\">\n",
       "      <th></th>\n",
       "      <th>platform</th>\n",
       "      <th>ventas_totales</th>\n",
       "    </tr>\n",
       "  </thead>\n",
       "  <tbody>\n",
       "    <tr>\n",
       "      <th>0</th>\n",
       "      <td>PS2</td>\n",
       "      <td>1255.77</td>\n",
       "    </tr>\n",
       "    <tr>\n",
       "      <th>1</th>\n",
       "      <td>X360</td>\n",
       "      <td>971.42</td>\n",
       "    </tr>\n",
       "    <tr>\n",
       "      <th>2</th>\n",
       "      <td>PS3</td>\n",
       "      <td>939.65</td>\n",
       "    </tr>\n",
       "    <tr>\n",
       "      <th>3</th>\n",
       "      <td>Wii</td>\n",
       "      <td>907.51</td>\n",
       "    </tr>\n",
       "    <tr>\n",
       "      <th>4</th>\n",
       "      <td>DS</td>\n",
       "      <td>806.12</td>\n",
       "    </tr>\n",
       "    <tr>\n",
       "      <th>5</th>\n",
       "      <td>PS</td>\n",
       "      <td>730.86</td>\n",
       "    </tr>\n",
       "    <tr>\n",
       "      <th>6</th>\n",
       "      <td>GBA</td>\n",
       "      <td>317.85</td>\n",
       "    </tr>\n",
       "    <tr>\n",
       "      <th>7</th>\n",
       "      <td>PS4</td>\n",
       "      <td>314.14</td>\n",
       "    </tr>\n",
       "    <tr>\n",
       "      <th>8</th>\n",
       "      <td>PSP</td>\n",
       "      <td>294.05</td>\n",
       "    </tr>\n",
       "    <tr>\n",
       "      <th>9</th>\n",
       "      <td>PC</td>\n",
       "      <td>259.52</td>\n",
       "    </tr>\n",
       "    <tr>\n",
       "      <th>10</th>\n",
       "      <td>3DS</td>\n",
       "      <td>259.00</td>\n",
       "    </tr>\n",
       "    <tr>\n",
       "      <th>11</th>\n",
       "      <td>XB</td>\n",
       "      <td>257.74</td>\n",
       "    </tr>\n",
       "    <tr>\n",
       "      <th>12</th>\n",
       "      <td>GB</td>\n",
       "      <td>255.46</td>\n",
       "    </tr>\n",
       "    <tr>\n",
       "      <th>13</th>\n",
       "      <td>NES</td>\n",
       "      <td>251.05</td>\n",
       "    </tr>\n",
       "    <tr>\n",
       "      <th>14</th>\n",
       "      <td>N64</td>\n",
       "      <td>218.68</td>\n",
       "    </tr>\n",
       "    <tr>\n",
       "      <th>15</th>\n",
       "      <td>SNES</td>\n",
       "      <td>200.04</td>\n",
       "    </tr>\n",
       "    <tr>\n",
       "      <th>16</th>\n",
       "      <td>GC</td>\n",
       "      <td>198.93</td>\n",
       "    </tr>\n",
       "    <tr>\n",
       "      <th>17</th>\n",
       "      <td>XOne</td>\n",
       "      <td>159.32</td>\n",
       "    </tr>\n",
       "    <tr>\n",
       "      <th>18</th>\n",
       "      <td>2600</td>\n",
       "      <td>96.98</td>\n",
       "    </tr>\n",
       "    <tr>\n",
       "      <th>19</th>\n",
       "      <td>WiiU</td>\n",
       "      <td>82.19</td>\n",
       "    </tr>\n",
       "    <tr>\n",
       "      <th>20</th>\n",
       "      <td>PSV</td>\n",
       "      <td>54.07</td>\n",
       "    </tr>\n",
       "    <tr>\n",
       "      <th>21</th>\n",
       "      <td>SAT</td>\n",
       "      <td>33.59</td>\n",
       "    </tr>\n",
       "    <tr>\n",
       "      <th>22</th>\n",
       "      <td>GEN</td>\n",
       "      <td>30.77</td>\n",
       "    </tr>\n",
       "    <tr>\n",
       "      <th>23</th>\n",
       "      <td>DC</td>\n",
       "      <td>15.95</td>\n",
       "    </tr>\n",
       "    <tr>\n",
       "      <th>24</th>\n",
       "      <td>SCD</td>\n",
       "      <td>1.86</td>\n",
       "    </tr>\n",
       "    <tr>\n",
       "      <th>25</th>\n",
       "      <td>NG</td>\n",
       "      <td>1.44</td>\n",
       "    </tr>\n",
       "    <tr>\n",
       "      <th>26</th>\n",
       "      <td>WS</td>\n",
       "      <td>1.42</td>\n",
       "    </tr>\n",
       "    <tr>\n",
       "      <th>27</th>\n",
       "      <td>TG16</td>\n",
       "      <td>0.16</td>\n",
       "    </tr>\n",
       "    <tr>\n",
       "      <th>28</th>\n",
       "      <td>3DO</td>\n",
       "      <td>0.10</td>\n",
       "    </tr>\n",
       "    <tr>\n",
       "      <th>29</th>\n",
       "      <td>GG</td>\n",
       "      <td>0.04</td>\n",
       "    </tr>\n",
       "    <tr>\n",
       "      <th>30</th>\n",
       "      <td>PCFX</td>\n",
       "      <td>0.03</td>\n",
       "    </tr>\n",
       "  </tbody>\n",
       "</table>\n",
       "</div>"
      ],
      "text/plain": [
       "   platform  ventas_totales\n",
       "0       PS2         1255.77\n",
       "1      X360          971.42\n",
       "2       PS3          939.65\n",
       "3       Wii          907.51\n",
       "4        DS          806.12\n",
       "5        PS          730.86\n",
       "6       GBA          317.85\n",
       "7       PS4          314.14\n",
       "8       PSP          294.05\n",
       "9        PC          259.52\n",
       "10      3DS          259.00\n",
       "11       XB          257.74\n",
       "12       GB          255.46\n",
       "13      NES          251.05\n",
       "14      N64          218.68\n",
       "15     SNES          200.04\n",
       "16       GC          198.93\n",
       "17     XOne          159.32\n",
       "18     2600           96.98\n",
       "19     WiiU           82.19\n",
       "20      PSV           54.07\n",
       "21      SAT           33.59\n",
       "22      GEN           30.77\n",
       "23       DC           15.95\n",
       "24      SCD            1.86\n",
       "25       NG            1.44\n",
       "26       WS            1.42\n",
       "27     TG16            0.16\n",
       "28      3DO            0.10\n",
       "29       GG            0.04\n",
       "30     PCFX            0.03"
      ]
     },
     "execution_count": 23,
     "metadata": {},
     "output_type": "execute_result"
    }
   ],
   "source": [
    "ventas_por_plataforma"
   ]
  },
  {
   "cell_type": "code",
   "execution_count": 24,
   "metadata": {},
   "outputs": [],
   "source": [
    "depure_data = df_gamer.query('year_of_release >= 2013')"
   ]
  },
  {
   "cell_type": "code",
   "execution_count": 25,
   "metadata": {},
   "outputs": [],
   "source": [
    "durabilidad = pd.pivot_table(depure_data, index = 'year_of_release', columns = 'platform', values = 'ventas_totales', aggfunc = 'sum').fillna(0)"
   ]
  },
  {
   "cell_type": "code",
   "execution_count": 26,
   "metadata": {},
   "outputs": [
    {
     "data": {
      "text/html": [
       "<div>\n",
       "<style scoped>\n",
       "    .dataframe tbody tr th:only-of-type {\n",
       "        vertical-align: middle;\n",
       "    }\n",
       "\n",
       "    .dataframe tbody tr th {\n",
       "        vertical-align: top;\n",
       "    }\n",
       "\n",
       "    .dataframe thead th {\n",
       "        text-align: right;\n",
       "    }\n",
       "</style>\n",
       "<table border=\"1\" class=\"dataframe\">\n",
       "  <thead>\n",
       "    <tr style=\"text-align: right;\">\n",
       "      <th>platform</th>\n",
       "      <th>3DS</th>\n",
       "      <th>DS</th>\n",
       "      <th>PC</th>\n",
       "      <th>PS3</th>\n",
       "      <th>PS4</th>\n",
       "      <th>PSP</th>\n",
       "      <th>PSV</th>\n",
       "      <th>Wii</th>\n",
       "      <th>WiiU</th>\n",
       "      <th>X360</th>\n",
       "      <th>XOne</th>\n",
       "    </tr>\n",
       "    <tr>\n",
       "      <th>year_of_release</th>\n",
       "      <th></th>\n",
       "      <th></th>\n",
       "      <th></th>\n",
       "      <th></th>\n",
       "      <th></th>\n",
       "      <th></th>\n",
       "      <th></th>\n",
       "      <th></th>\n",
       "      <th></th>\n",
       "      <th></th>\n",
       "      <th></th>\n",
       "    </tr>\n",
       "  </thead>\n",
       "  <tbody>\n",
       "    <tr>\n",
       "      <th>2013</th>\n",
       "      <td>56.57</td>\n",
       "      <td>1.54</td>\n",
       "      <td>12.38</td>\n",
       "      <td>113.25</td>\n",
       "      <td>25.99</td>\n",
       "      <td>3.14</td>\n",
       "      <td>10.59</td>\n",
       "      <td>8.59</td>\n",
       "      <td>21.65</td>\n",
       "      <td>88.58</td>\n",
       "      <td>18.96</td>\n",
       "    </tr>\n",
       "    <tr>\n",
       "      <th>2014</th>\n",
       "      <td>43.76</td>\n",
       "      <td>0.00</td>\n",
       "      <td>13.28</td>\n",
       "      <td>47.76</td>\n",
       "      <td>100.00</td>\n",
       "      <td>0.24</td>\n",
       "      <td>11.90</td>\n",
       "      <td>3.75</td>\n",
       "      <td>22.03</td>\n",
       "      <td>34.74</td>\n",
       "      <td>54.07</td>\n",
       "    </tr>\n",
       "    <tr>\n",
       "      <th>2015</th>\n",
       "      <td>27.78</td>\n",
       "      <td>0.00</td>\n",
       "      <td>8.52</td>\n",
       "      <td>16.82</td>\n",
       "      <td>118.90</td>\n",
       "      <td>0.12</td>\n",
       "      <td>6.25</td>\n",
       "      <td>1.14</td>\n",
       "      <td>16.35</td>\n",
       "      <td>11.96</td>\n",
       "      <td>60.14</td>\n",
       "    </tr>\n",
       "    <tr>\n",
       "      <th>2016</th>\n",
       "      <td>15.14</td>\n",
       "      <td>0.00</td>\n",
       "      <td>5.25</td>\n",
       "      <td>3.60</td>\n",
       "      <td>69.25</td>\n",
       "      <td>0.00</td>\n",
       "      <td>4.25</td>\n",
       "      <td>0.18</td>\n",
       "      <td>4.60</td>\n",
       "      <td>1.52</td>\n",
       "      <td>26.15</td>\n",
       "    </tr>\n",
       "  </tbody>\n",
       "</table>\n",
       "</div>"
      ],
      "text/plain": [
       "platform           3DS    DS     PC     PS3     PS4   PSP    PSV   Wii   WiiU  \\\n",
       "year_of_release                                                                 \n",
       "2013             56.57  1.54  12.38  113.25   25.99  3.14  10.59  8.59  21.65   \n",
       "2014             43.76  0.00  13.28   47.76  100.00  0.24  11.90  3.75  22.03   \n",
       "2015             27.78  0.00   8.52   16.82  118.90  0.12   6.25  1.14  16.35   \n",
       "2016             15.14  0.00   5.25    3.60   69.25  0.00   4.25  0.18   4.60   \n",
       "\n",
       "platform          X360   XOne  \n",
       "year_of_release                \n",
       "2013             88.58  18.96  \n",
       "2014             34.74  54.07  \n",
       "2015             11.96  60.14  \n",
       "2016              1.52  26.15  "
      ]
     },
     "execution_count": 26,
     "metadata": {},
     "output_type": "execute_result"
    }
   ],
   "source": [
    "durabilidad"
   ]
  },
  {
   "cell_type": "code",
   "execution_count": 27,
   "metadata": {},
   "outputs": [
    {
     "data": {
      "text/plain": [
       "<function matplotlib.pyplot.show(close=None, block=None)>"
      ]
     },
     "execution_count": 27,
     "metadata": {},
     "output_type": "execute_result"
    },
    {
     "data": {
      "image/png": "[encoded data removed]",
      "text/plain": [
       "<Figure size 640x480 with 1 Axes>"
      ]
     },
     "metadata": {},
     "output_type": "display_data"
    }
   ],
   "source": [
    "sns.lineplot(data = durabilidad)\n",
    "plt.title('Rentabilidad de las plataformas por anio')\n",
    "plt.ylabel('Rentabilidad')\n",
    "plt.xlabel('Year')\n",
    "plt.show"
   ]
  },
  {
   "cell_type": "markdown",
   "metadata": {},
   "source": [
    "###### La plataforma mayoritariamente rentable deacuedo al analisis anterior es ps2 con 1255.77 en ventas totales; seguidad de  X360, PS3, Wii y DS que cuentan con menos de 1000 millones en ventas totales. por otro lado podemos ver que la ps4 dio mas rentabilidad en sulapso de vida teniendo como sus mejores años el 2014 y 2015."
   ]
  },
  {
   "cell_type": "code",
   "execution_count": 28,
   "metadata": {},
   "outputs": [
    {
     "data": {
      "image/png": "[encoded data removed]",
      "text/plain": [
       "<Figure size 1000x2000 with 1 Axes>"
      ]
     },
     "metadata": {},
     "output_type": "display_data"
    }
   ],
   "source": [
    "df_gamer.boxplot(column ='ventas_totales', by = 'platform', vert = False, patch_artist = True, figsize= (10,20) )\n",
    "plt.show()"
   ]
  },
  {
   "cell_type": "markdown",
   "metadata": {},
   "source": [
    "### Ventas en relacion con la puntuacion del usuario"
   ]
  },
  {
   "cell_type": "code",
   "execution_count": 29,
   "metadata": {},
   "outputs": [
    {
     "data": {
      "text/plain": [
       "<function matplotlib.pyplot.show(close=None, block=None)>"
      ]
     },
     "execution_count": 29,
     "metadata": {},
     "output_type": "execute_result"
    },
    {
     "data": {
      "image/png": "[encoded data removed]",
      "text/plain": [
       "<Figure size 1500x2000 with 1 Axes>"
      ]
     },
     "metadata": {},
     "output_type": "display_data"
    }
   ],
   "source": [
    "plt.figure(figsize= (15,20))\n",
    "plt.scatter(data = df_gamer, x='ventas_totales', y='user_score',)\n",
    "plt.title('Correlacion entre ventas totales y puntuacion del usuario')\n",
    "plt.xlabel('Ventas totales', color = 'm')\n",
    "plt.ylabel('Puntuacion del usuario', color = 'r')\n",
    "plt.show"
   ]
  },
  {
   "cell_type": "code",
   "execution_count": 30,
   "metadata": {},
   "outputs": [
    {
     "data": {
      "text/plain": [
       "<function matplotlib.pyplot.show(close=None, block=None)>"
      ]
     },
     "execution_count": 30,
     "metadata": {},
     "output_type": "execute_result"
    },
    {
     "data": {
      "image/png": "[encoded data removed]",
      "text/plain": [
       "<Figure size 1500x2000 with 1 Axes>"
      ]
     },
     "metadata": {},
     "output_type": "display_data"
    }
   ],
   "source": [
    "plt.figure(figsize= (15,20))\n",
    "plt.scatter(data = df_gamer, x='ventas_totales', y='critic_score',)\n",
    "plt.title('Correlacion entre ventas totales y puntuacion del los criticos')\n",
    "plt.xlabel('Ventas totales', color = 'm' )\n",
    "plt.ylabel('Puntuacion del los criticos', color = 'r')\n",
    "plt.show"
   ]
  },
  {
   "cell_type": "markdown",
   "metadata": {},
   "source": [
    "### Distribucion de ventas por genero"
   ]
  },
  {
   "cell_type": "code",
   "execution_count": 31,
   "metadata": {},
   "outputs": [],
   "source": [
    "ventas_por_genero = df_gamer.groupby('genre')['ventas_totales'].sum().sort_values(ascending = False).reset_index()"
   ]
  },
  {
   "cell_type": "code",
   "execution_count": 32,
   "metadata": {},
   "outputs": [
    {
     "data": {
      "text/html": [
       "<div>\n",
       "<style scoped>\n",
       "    .dataframe tbody tr th:only-of-type {\n",
       "        vertical-align: middle;\n",
       "    }\n",
       "\n",
       "    .dataframe tbody tr th {\n",
       "        vertical-align: top;\n",
       "    }\n",
       "\n",
       "    .dataframe thead th {\n",
       "        text-align: right;\n",
       "    }\n",
       "</style>\n",
       "<table border=\"1\" class=\"dataframe\">\n",
       "  <thead>\n",
       "    <tr style=\"text-align: right;\">\n",
       "      <th></th>\n",
       "      <th>genre</th>\n",
       "      <th>ventas_totales</th>\n",
       "    </tr>\n",
       "  </thead>\n",
       "  <tbody>\n",
       "    <tr>\n",
       "      <th>0</th>\n",
       "      <td>Action</td>\n",
       "      <td>1744.17</td>\n",
       "    </tr>\n",
       "    <tr>\n",
       "      <th>1</th>\n",
       "      <td>Sports</td>\n",
       "      <td>1331.27</td>\n",
       "    </tr>\n",
       "    <tr>\n",
       "      <th>2</th>\n",
       "      <td>Shooter</td>\n",
       "      <td>1052.45</td>\n",
       "    </tr>\n",
       "    <tr>\n",
       "      <th>3</th>\n",
       "      <td>Role-Playing</td>\n",
       "      <td>934.56</td>\n",
       "    </tr>\n",
       "    <tr>\n",
       "      <th>4</th>\n",
       "      <td>Platform</td>\n",
       "      <td>827.77</td>\n",
       "    </tr>\n",
       "    <tr>\n",
       "      <th>5</th>\n",
       "      <td>Misc</td>\n",
       "      <td>802.51</td>\n",
       "    </tr>\n",
       "    <tr>\n",
       "      <th>6</th>\n",
       "      <td>Racing</td>\n",
       "      <td>728.67</td>\n",
       "    </tr>\n",
       "    <tr>\n",
       "      <th>7</th>\n",
       "      <td>Fighting</td>\n",
       "      <td>447.53</td>\n",
       "    </tr>\n",
       "    <tr>\n",
       "      <th>8</th>\n",
       "      <td>Simulation</td>\n",
       "      <td>389.97</td>\n",
       "    </tr>\n",
       "    <tr>\n",
       "      <th>9</th>\n",
       "      <td>Puzzle</td>\n",
       "      <td>242.57</td>\n",
       "    </tr>\n",
       "    <tr>\n",
       "      <th>10</th>\n",
       "      <td>Adventure</td>\n",
       "      <td>237.59</td>\n",
       "    </tr>\n",
       "    <tr>\n",
       "      <th>11</th>\n",
       "      <td>Strategy</td>\n",
       "      <td>174.23</td>\n",
       "    </tr>\n",
       "  </tbody>\n",
       "</table>\n",
       "</div>"
      ],
      "text/plain": [
       "           genre  ventas_totales\n",
       "0         Action         1744.17\n",
       "1         Sports         1331.27\n",
       "2        Shooter         1052.45\n",
       "3   Role-Playing          934.56\n",
       "4       Platform          827.77\n",
       "5           Misc          802.51\n",
       "6         Racing          728.67\n",
       "7       Fighting          447.53\n",
       "8     Simulation          389.97\n",
       "9         Puzzle          242.57\n",
       "10     Adventure          237.59\n",
       "11      Strategy          174.23"
      ]
     },
     "execution_count": 32,
     "metadata": {},
     "output_type": "execute_result"
    }
   ],
   "source": [
    "ventas_por_genero"
   ]
  },
  {
   "cell_type": "markdown",
   "metadata": {},
   "source": [
    "###### Contamos con 3 generos que superan los 1000 millones, los cuales son: action, sports, shooter y a consideracion mia el menos rentable seria strategy con 174.23 millones. "
   ]
  },
  {
   "cell_type": "markdown",
   "metadata": {},
   "source": [
    "## Creacion de perfil de usuario por region"
   ]
  },
  {
   "cell_type": "markdown",
   "metadata": {},
   "source": [
    "### Plataformas principales"
   ]
  },
  {
   "cell_type": "code",
   "execution_count": 33,
   "metadata": {},
   "outputs": [
    {
     "name": "stdout",
     "output_type": "stream",
     "text": [
      "  platform  na_sales\n",
      "0     X360    602.47\n",
      "1      PS2    583.84\n",
      "2      Wii    496.90\n",
      "3      PS3    393.49\n",
      "4       DS    382.40\n",
      "\n",
      "  platform  eu_sales\n",
      "0      PS2    339.29\n",
      "1      PS3    330.29\n",
      "2     X360    270.76\n",
      "3      Wii    262.21\n",
      "4       PS    213.61\n",
      "\n",
      "  platform  jp_sales\n",
      "0       DS    175.57\n",
      "1       PS    139.82\n",
      "2      PS2    139.20\n",
      "3     SNES    116.55\n",
      "4      3DS    100.67\n",
      "\n"
     ]
    },
    {
     "data": {
      "text/html": [
       "<div>\n",
       "<style scoped>\n",
       "    .dataframe tbody tr th:only-of-type {\n",
       "        vertical-align: middle;\n",
       "    }\n",
       "\n",
       "    .dataframe tbody tr th {\n",
       "        vertical-align: top;\n",
       "    }\n",
       "\n",
       "    .dataframe thead th {\n",
       "        text-align: right;\n",
       "    }\n",
       "</style>\n",
       "<table border=\"1\" class=\"dataframe\">\n",
       "  <thead>\n",
       "    <tr style=\"text-align: right;\">\n",
       "      <th></th>\n",
       "      <th>platform</th>\n",
       "      <th>other_sales</th>\n",
       "    </tr>\n",
       "  </thead>\n",
       "  <tbody>\n",
       "    <tr>\n",
       "      <th>0</th>\n",
       "      <td>PS2</td>\n",
       "      <td>193.44</td>\n",
       "    </tr>\n",
       "    <tr>\n",
       "      <th>1</th>\n",
       "      <td>PS3</td>\n",
       "      <td>135.68</td>\n",
       "    </tr>\n",
       "    <tr>\n",
       "      <th>2</th>\n",
       "      <td>X360</td>\n",
       "      <td>85.76</td>\n",
       "    </tr>\n",
       "    <tr>\n",
       "      <th>3</th>\n",
       "      <td>Wii</td>\n",
       "      <td>79.07</td>\n",
       "    </tr>\n",
       "    <tr>\n",
       "      <th>4</th>\n",
       "      <td>DS</td>\n",
       "      <td>59.26</td>\n",
       "    </tr>\n",
       "  </tbody>\n",
       "</table>\n",
       "</div>"
      ],
      "text/plain": [
       "  platform  other_sales\n",
       "0      PS2       193.44\n",
       "1      PS3       135.68\n",
       "2     X360        85.76\n",
       "3      Wii        79.07\n",
       "4       DS        59.26"
      ]
     },
     "execution_count": 33,
     "metadata": {},
     "output_type": "execute_result"
    }
   ],
   "source": [
    "ventas_na_sale_plataforma = df_gamer.groupby('platform')['na_sales'].sum().sort_values(ascending = False).reset_index()\n",
    "print(ventas_na_sale_plataforma.head())\n",
    "print()\n",
    "ventas_eu_sale_plataforma = df_gamer.groupby('platform')['eu_sales'].sum().sort_values(ascending = False).reset_index()\n",
    "print(ventas_eu_sale_plataforma.head())\n",
    "print()\n",
    "ventas_jp_sale_plataforma = df_gamer.groupby('platform')['jp_sales'].sum().sort_values(ascending = False).reset_index()\n",
    "print(ventas_jp_sale_plataforma.head()) \n",
    "print()\n",
    "ventas_other_sale_plataforma = df_gamer.groupby('platform')['other_sales'].sum().sort_values(ascending = False).reset_index()\n",
    "ventas_other_sale_plataforma.head() "
   ]
  },
  {
   "cell_type": "markdown",
   "metadata": {},
   "source": [
    "### Generos principales"
   ]
  },
  {
   "cell_type": "code",
   "execution_count": 34,
   "metadata": {},
   "outputs": [
    {
     "name": "stdout",
     "output_type": "stream",
     "text": [
      "      genre  na_sales\n",
      "0    Action    879.01\n",
      "1    Sports    684.43\n",
      "2   Shooter    592.24\n",
      "3  Platform    445.50\n",
      "4      Misc    407.27\n",
      "\n",
      "     genre  eu_sales\n",
      "0   Action    519.13\n",
      "1   Sports    376.79\n",
      "2  Shooter    317.34\n",
      "3   Racing    236.51\n",
      "4     Misc    212.74\n",
      "\n",
      "          genre  jp_sales\n",
      "0  Role-Playing    355.41\n",
      "1        Action    161.43\n",
      "2        Sports    135.54\n",
      "3      Platform    130.83\n",
      "4          Misc    108.11\n",
      "\n"
     ]
    },
    {
     "data": {
      "text/html": [
       "<div>\n",
       "<style scoped>\n",
       "    .dataframe tbody tr th:only-of-type {\n",
       "        vertical-align: middle;\n",
       "    }\n",
       "\n",
       "    .dataframe tbody tr th {\n",
       "        vertical-align: top;\n",
       "    }\n",
       "\n",
       "    .dataframe thead th {\n",
       "        text-align: right;\n",
       "    }\n",
       "</style>\n",
       "<table border=\"1\" class=\"dataframe\">\n",
       "  <thead>\n",
       "    <tr style=\"text-align: right;\">\n",
       "      <th></th>\n",
       "      <th>genre</th>\n",
       "      <th>other_sales</th>\n",
       "    </tr>\n",
       "  </thead>\n",
       "  <tbody>\n",
       "    <tr>\n",
       "      <th>0</th>\n",
       "      <td>Action</td>\n",
       "      <td>184.60</td>\n",
       "    </tr>\n",
       "    <tr>\n",
       "      <th>1</th>\n",
       "      <td>Sports</td>\n",
       "      <td>134.51</td>\n",
       "    </tr>\n",
       "    <tr>\n",
       "      <th>2</th>\n",
       "      <td>Shooter</td>\n",
       "      <td>104.11</td>\n",
       "    </tr>\n",
       "    <tr>\n",
       "      <th>3</th>\n",
       "      <td>Racing</td>\n",
       "      <td>76.10</td>\n",
       "    </tr>\n",
       "    <tr>\n",
       "      <th>4</th>\n",
       "      <td>Misc</td>\n",
       "      <td>74.39</td>\n",
       "    </tr>\n",
       "  </tbody>\n",
       "</table>\n",
       "</div>"
      ],
      "text/plain": [
       "     genre  other_sales\n",
       "0   Action       184.60\n",
       "1   Sports       134.51\n",
       "2  Shooter       104.11\n",
       "3   Racing        76.10\n",
       "4     Misc        74.39"
      ]
     },
     "execution_count": 34,
     "metadata": {},
     "output_type": "execute_result"
    }
   ],
   "source": [
    "ventas_na_sale_genero = df_gamer.groupby('genre')['na_sales'].sum().sort_values(ascending = False).reset_index()\n",
    "print(ventas_na_sale_genero.head())\n",
    "print()\n",
    "ventas_eu_sale_genero = df_gamer.groupby('genre')['eu_sales'].sum().sort_values(ascending = False).reset_index()\n",
    "print(ventas_eu_sale_genero.head())\n",
    "print()\n",
    "ventas_jp_sale_genero = df_gamer.groupby('genre')['jp_sales'].sum().sort_values(ascending = False).reset_index()\n",
    "print(ventas_jp_sale_genero.head()) \n",
    "print()\n",
    "ventas_other_sale_genero = df_gamer.groupby('genre')['other_sales'].sum().sort_values(ascending = False).reset_index()\n",
    "ventas_other_sale_genero.head() "
   ]
  },
  {
   "cell_type": "markdown",
   "metadata": {},
   "source": [
    "### Rating y su afectacion"
   ]
  },
  {
   "cell_type": "code",
   "execution_count": 35,
   "metadata": {},
   "outputs": [
    {
     "name": "stdout",
     "output_type": "stream",
     "text": [
      "  rating  na_sales\n",
      "0      E   1292.99\n",
      "1      T    759.75\n",
      "2      M    748.48\n",
      "3   E10+    353.32\n",
      "4    K-A      2.56\n",
      "5     EC      1.53\n",
      "6     AO      1.26\n",
      "7     RP      0.00\n",
      "\n",
      "  rating  eu_sales\n",
      "0      E    710.25\n",
      "1      M    483.97\n",
      "2      T    427.03\n",
      "3   E10+    188.52\n",
      "4     AO      0.61\n",
      "5    K-A      0.27\n",
      "6     EC      0.11\n",
      "7     RP      0.08\n",
      "\n",
      "  rating  jp_sales\n",
      "0      E    198.11\n",
      "1      T    151.40\n",
      "2      M     64.24\n",
      "3   E10+     40.20\n",
      "4    K-A      1.46\n",
      "5     AO      0.00\n",
      "6     EC      0.00\n",
      "7     RP      0.00\n",
      "\n"
     ]
    },
    {
     "data": {
      "text/html": [
       "<div>\n",
       "<style scoped>\n",
       "    .dataframe tbody tr th:only-of-type {\n",
       "        vertical-align: middle;\n",
       "    }\n",
       "\n",
       "    .dataframe tbody tr th {\n",
       "        vertical-align: top;\n",
       "    }\n",
       "\n",
       "    .dataframe thead th {\n",
       "        text-align: right;\n",
       "    }\n",
       "</style>\n",
       "<table border=\"1\" class=\"dataframe\">\n",
       "  <thead>\n",
       "    <tr style=\"text-align: right;\">\n",
       "      <th></th>\n",
       "      <th>rating</th>\n",
       "      <th>other_sales</th>\n",
       "    </tr>\n",
       "  </thead>\n",
       "  <tbody>\n",
       "    <tr>\n",
       "      <th>0</th>\n",
       "      <td>E</td>\n",
       "      <td>234.17</td>\n",
       "    </tr>\n",
       "    <tr>\n",
       "      <th>1</th>\n",
       "      <td>M</td>\n",
       "      <td>177.10</td>\n",
       "    </tr>\n",
       "    <tr>\n",
       "      <th>2</th>\n",
       "      <td>T</td>\n",
       "      <td>155.17</td>\n",
       "    </tr>\n",
       "    <tr>\n",
       "      <th>3</th>\n",
       "      <td>E10+</td>\n",
       "      <td>73.56</td>\n",
       "    </tr>\n",
       "    <tr>\n",
       "      <th>4</th>\n",
       "      <td>EC</td>\n",
       "      <td>0.11</td>\n",
       "    </tr>\n",
       "    <tr>\n",
       "      <th>5</th>\n",
       "      <td>AO</td>\n",
       "      <td>0.09</td>\n",
       "    </tr>\n",
       "    <tr>\n",
       "      <th>6</th>\n",
       "      <td>K-A</td>\n",
       "      <td>0.03</td>\n",
       "    </tr>\n",
       "    <tr>\n",
       "      <th>7</th>\n",
       "      <td>RP</td>\n",
       "      <td>0.01</td>\n",
       "    </tr>\n",
       "  </tbody>\n",
       "</table>\n",
       "</div>"
      ],
      "text/plain": [
       "  rating  other_sales\n",
       "0      E       234.17\n",
       "1      M       177.10\n",
       "2      T       155.17\n",
       "3   E10+        73.56\n",
       "4     EC         0.11\n",
       "5     AO         0.09\n",
       "6    K-A         0.03\n",
       "7     RP         0.01"
      ]
     },
     "execution_count": 35,
     "metadata": {},
     "output_type": "execute_result"
    }
   ],
   "source": [
    "ventas_na_sale_Rating = df_gamer.groupby('rating')['na_sales'].sum().sort_values(ascending = False).reset_index()\n",
    "print(ventas_na_sale_Rating)\n",
    "print()\n",
    "ventas_eu_sale_Rating = df_gamer.groupby('rating')['eu_sales'].sum().sort_values(ascending = False).reset_index()\n",
    "print(ventas_eu_sale_Rating)\n",
    "print()\n",
    "ventas_jp_sale_Rating = df_gamer.groupby('rating')['jp_sales'].sum().sort_values(ascending = False).reset_index()\n",
    "print(ventas_jp_sale_Rating) \n",
    "print()\n",
    "ventas_other_sale_Rating = df_gamer.groupby('rating')['other_sales'].sum().sort_values(ascending = False).reset_index()\n",
    "ventas_other_sale_Rating "
   ]
  },
  {
   "cell_type": "markdown",
   "metadata": {},
   "source": [
    "## pruevas de hipotesis"
   ]
  },
  {
   "cell_type": "markdown",
   "metadata": {},
   "source": [
    "### Calificasiones promedio por plataforma"
   ]
  },
  {
   "cell_type": "code",
   "execution_count": 36,
   "metadata": {},
   "outputs": [
    {
     "name": "stdout",
     "output_type": "stream",
     "text": [
      "   platform  user_score\n",
      "0        DC    8.528571\n",
      "1        PS    7.865432\n",
      "2       GBA    7.676863\n",
      "3       PS2    7.626833\n",
      "4        GC    7.597541\n",
      "5        XB    7.500512\n",
      "6       PSV    7.336364\n",
      "7       PSP    7.228266\n",
      "8        PC    7.062468\n",
      "9        DS    7.025194\n",
      "10     WiiU    6.904000\n",
      "11      3DS    6.831609\n",
      "12      PS4    6.748249\n",
      "13      Wii    6.742679\n",
      "14      PS3    6.726568\n",
      "15     X360    6.683540\n",
      "16     XOne    6.521429\n",
      "17     2600         NaN\n",
      "18      3DO         NaN\n",
      "19       GB         NaN\n",
      "20      GEN         NaN\n",
      "21       GG         NaN\n",
      "22      N64         NaN\n",
      "23      NES         NaN\n",
      "24       NG         NaN\n",
      "25     PCFX         NaN\n",
      "26      SAT         NaN\n",
      "27      SCD         NaN\n",
      "28     SNES         NaN\n",
      "29     TG16         NaN\n",
      "30       WS         NaN\n"
     ]
    }
   ],
   "source": [
    "promedio_por_plataforma = df_gamer.groupby('platform')['user_score'].mean().sort_values(ascending = False).reset_index()\n",
    "print(promedio_por_plataforma)\n"
   ]
  },
  {
   "cell_type": "markdown",
   "metadata": {},
   "source": [
    "###### Las calificaciones promedio de los usuarios para las plataformas Xbox One y PC son las mismas."
   ]
  },
  {
   "cell_type": "code",
   "execution_count": 37,
   "metadata": {},
   "outputs": [
    {
     "name": "stdout",
     "output_type": "stream",
     "text": [
      "99       NaN\n",
      "165      7.9\n",
      "179      5.4\n",
      "242      6.4\n",
      "270      6.2\n",
      "        ... \n",
      "16630    8.2\n",
      "16643    6.6\n",
      "16645    NaN\n",
      "16660    6.7\n",
      "16672    NaN\n",
      "Name: user_score, Length: 247, dtype: float64\n",
      "85       7.6\n",
      "138      7.3\n",
      "192      4.0\n",
      "195      NaN\n",
      "218      8.2\n",
      "        ... \n",
      "16690    NaN\n",
      "16692    7.6\n",
      "16696    5.8\n",
      "16702    7.2\n",
      "16705    5.8\n",
      "Name: user_score, Length: 974, dtype: float64\n"
     ]
    }
   ],
   "source": [
    "variable_1 = df_gamer.query('platform == \"XOne\"')['user_score']\n",
    "print(variable_1) \n",
    "variable_2 = df_gamer.query('platform == \"PC\"')['user_score']\n",
    "print(variable_2) "
   ]
  },
  {
   "cell_type": "code",
   "execution_count": 38,
   "metadata": {},
   "outputs": [
    {
     "name": "stdout",
     "output_type": "stream",
     "text": [
      "valor p: 4.935072360183574e-06\n",
      "Rechazamos la hipótesis nula\n"
     ]
    }
   ],
   "source": [
    "alpha = 0.05\n",
    "\n",
    "results = st.ttest_ind(variable_1, variable_2, equal_var=False, nan_policy = 'omit')\n",
    "print('valor p:', results.pvalue)\n",
    "\n",
    "if (results.pvalue < alpha):\n",
    "    print(\"Rechazamos la hipótesis nula\")\n",
    "else:\n",
    "    print(\"No podemos rechazar la hipótesis nula\")"
   ]
  },
  {
   "cell_type": "markdown",
   "metadata": {},
   "source": [
    "###### podemos ver que las diferentes plataformas tienen un promedio muy peculiar, pero ninguno es igual entre si. Deacuerdo a las calificasiones de los usuarios, la mejor plataforma es DC sin embargo se cuenta con muchas mas de nivel popular semejante."
   ]
  },
  {
   "cell_type": "markdown",
   "metadata": {},
   "source": [
    "### Calificasiones promedio por genero"
   ]
  },
  {
   "cell_type": "code",
   "execution_count": 39,
   "metadata": {},
   "outputs": [
    {
     "name": "stdout",
     "output_type": "stream",
     "text": [
      "           genre  user_score\n",
      "0   Role-Playing    7.619515\n",
      "1       Fighting    7.302506\n",
      "2       Platform    7.301402\n",
      "3       Strategy    7.295177\n",
      "4         Puzzle    7.175000\n",
      "5     Simulation    7.134593\n",
      "6      Adventure    7.133000\n",
      "7         Action    7.054044\n",
      "8        Shooter    7.041883\n",
      "9         Racing    7.036193\n",
      "10        Sports    6.961197\n",
      "11          Misc    6.819362\n"
     ]
    }
   ],
   "source": [
    "promedio_por_genero = df_gamer.groupby('genre')['user_score'].mean().sort_values(ascending = False).reset_index()\n",
    "print(promedio_por_genero)\n"
   ]
  },
  {
   "cell_type": "markdown",
   "metadata": {},
   "source": [
    "###### Las calificaciones promedio de los usuarios para los géneros de Acción y Deportes son diferentes."
   ]
  },
  {
   "cell_type": "code",
   "execution_count": 40,
   "metadata": {},
   "outputs": [
    {
     "name": "stdout",
     "output_type": "stream",
     "text": [
      "16       8.2\n",
      "17       9.0\n",
      "23       8.1\n",
      "24       8.7\n",
      "38       8.5\n",
      "        ... \n",
      "16692    7.6\n",
      "16694    NaN\n",
      "16695    NaN\n",
      "16699    NaN\n",
      "16710    NaN\n",
      "Name: user_score, Length: 3369, dtype: float64\n",
      "0        8.0\n",
      "3        8.0\n",
      "13       7.7\n",
      "15       7.4\n",
      "77       4.3\n",
      "        ... \n",
      "16676    NaN\n",
      "16688    NaN\n",
      "16693    NaN\n",
      "16700    NaN\n",
      "16711    NaN\n",
      "Name: user_score, Length: 2348, dtype: float64\n"
     ]
    }
   ],
   "source": [
    "variables_1 = df_gamer.query('genre == \"Action\"')['user_score'] \n",
    "print(variables_1) \n",
    "variables_2 =df_gamer.query('genre == \"Sports\"')['user_score']\n",
    "print(variables_2) "
   ]
  },
  {
   "cell_type": "code",
   "execution_count": 41,
   "metadata": {},
   "outputs": [
    {
     "name": "stdout",
     "output_type": "stream",
     "text": [
      "valor p:  0.11483818791498288\n",
      "No podemos rechazar la hipótesis nula\n"
     ]
    }
   ],
   "source": [
    "alpha = 0.05 \n",
    "\n",
    "results = st.ttest_ind( \n",
    "    variables_1,  \n",
    "    variables_2, equal_var=False, nan_policy = 'omit') \n",
    "print('valor p: ', results.pvalue) \n",
    "\n",
    "if (results.pvalue < alpha):\n",
    "    print(\"Rechazamos la hipótesis nula\") \n",
    "else:\n",
    "    print(\"No podemos rechazar la hipótesis nula\") "
   ]
  },
  {
   "cell_type": "markdown",
   "metadata": {},
   "source": [
    "###### Ningun genero tiene relevancia significativa de acuerdo con su calificasion, no cuentan con gran diferncia entre si. "
   ]
  },
  {
   "cell_type": "markdown",
   "metadata": {},
   "source": [
    "## conclusion\n"
   ]
  },
  {
   "cell_type": "markdown",
   "metadata": {},
   "source": [
    "###### Podemos encontrar que dependiendo la region, las preferencias en cuestion de plataforma son muy variadas, a diferencia del genero ya que el de accion  es el que cuenta con mas ventas en cada una de las regiones por ello se tendria que poner mayor enfacis en generar mayor impacto en los demas."
   ]
  }
 ],
 "metadata": {
  "ExecuteTimeLog": [
   {
    "duration": 4742,
    "start_time": "2024-08-21T01:10:40.387Z"
   },
   {
    "duration": 396,
    "start_time": "2024-08-21T01:11:14.596Z"
   },
   {
    "duration": 61,
    "start_time": "2024-08-21T01:11:43.029Z"
   },
   {
    "duration": 21,
    "start_time": "2024-08-21T01:11:44.471Z"
   },
   {
    "duration": 18,
    "start_time": "2024-08-21T01:12:01.867Z"
   },
   {
    "duration": 38,
    "start_time": "2024-08-21T01:19:51.401Z"
   },
   {
    "duration": 33,
    "start_time": "2024-08-21T01:20:07.814Z"
   },
   {
    "duration": 38,
    "start_time": "2024-08-21T01:22:04.758Z"
   },
   {
    "duration": 36,
    "start_time": "2024-08-21T01:42:50.357Z"
   },
   {
    "duration": 29,
    "start_time": "2024-08-21T01:43:04.985Z"
   },
   {
    "duration": 31,
    "start_time": "2024-08-21T01:43:28.491Z"
   },
   {
    "duration": 54,
    "start_time": "2024-08-21T01:43:40.549Z"
   },
   {
    "duration": 1108,
    "start_time": "2024-08-21T01:44:19.089Z"
   },
   {
    "duration": 31,
    "start_time": "2024-08-21T02:05:52.425Z"
   },
   {
    "duration": 5,
    "start_time": "2024-08-21T02:05:58.475Z"
   },
   {
    "duration": 5,
    "start_time": "2024-08-21T02:06:18.722Z"
   },
   {
    "duration": 35,
    "start_time": "2024-08-21T02:06:37.586Z"
   },
   {
    "duration": 31,
    "start_time": "2024-08-21T02:07:06.963Z"
   },
   {
    "duration": 39,
    "start_time": "2024-08-21T02:07:07.840Z"
   },
   {
    "duration": 29,
    "start_time": "2024-08-21T02:10:35.890Z"
   },
   {
    "duration": 10,
    "start_time": "2024-08-21T02:12:53.524Z"
   },
   {
    "duration": 248,
    "start_time": "2024-08-21T02:13:00.246Z"
   },
   {
    "duration": 26,
    "start_time": "2024-08-21T02:16:53.825Z"
   },
   {
    "duration": 28,
    "start_time": "2024-08-21T02:17:34.036Z"
   },
   {
    "duration": 6,
    "start_time": "2024-08-21T02:18:06.604Z"
   },
   {
    "duration": 26,
    "start_time": "2024-08-21T02:18:21.743Z"
   },
   {
    "duration": 30,
    "start_time": "2024-08-21T02:43:50.251Z"
   },
   {
    "duration": 24,
    "start_time": "2024-08-21T03:00:01.275Z"
   },
   {
    "duration": 22,
    "start_time": "2024-08-21T03:00:24.630Z"
   },
   {
    "duration": 21,
    "start_time": "2024-08-21T03:00:37.269Z"
   },
   {
    "duration": 32,
    "start_time": "2024-08-21T03:00:47.751Z"
   },
   {
    "duration": 4,
    "start_time": "2024-08-21T03:07:40.667Z"
   },
   {
    "duration": 8,
    "start_time": "2024-08-21T03:08:25.232Z"
   },
   {
    "duration": 5,
    "start_time": "2024-08-21T03:08:34.842Z"
   },
   {
    "duration": 5,
    "start_time": "2024-08-21T03:08:52.415Z"
   },
   {
    "duration": 714,
    "start_time": "2024-08-21T03:23:12.928Z"
   },
   {
    "duration": 6,
    "start_time": "2024-08-21T03:23:37.942Z"
   },
   {
    "duration": 27,
    "start_time": "2024-08-21T03:23:43.841Z"
   },
   {
    "duration": 33,
    "start_time": "2024-08-21T03:35:45.114Z"
   },
   {
    "duration": 26,
    "start_time": "2024-08-21T03:36:36.564Z"
   },
   {
    "duration": 5,
    "start_time": "2024-08-21T03:36:54.250Z"
   },
   {
    "duration": 39,
    "start_time": "2024-08-21T03:37:00.329Z"
   },
   {
    "duration": 26,
    "start_time": "2024-08-21T03:37:36.724Z"
   },
   {
    "duration": 24,
    "start_time": "2024-08-21T03:38:41.044Z"
   },
   {
    "duration": 26,
    "start_time": "2024-08-21T03:39:10.290Z"
   },
   {
    "duration": 33,
    "start_time": "2024-08-21T03:39:29.488Z"
   },
   {
    "duration": 29,
    "start_time": "2024-08-21T03:56:23.378Z"
   },
   {
    "duration": 24,
    "start_time": "2024-08-21T03:56:33.396Z"
   },
   {
    "duration": 5,
    "start_time": "2024-08-21T03:59:18.784Z"
   },
   {
    "duration": 8,
    "start_time": "2024-08-21T03:59:26.447Z"
   },
   {
    "duration": 28,
    "start_time": "2024-08-21T03:59:51.613Z"
   },
   {
    "duration": 6,
    "start_time": "2024-08-21T03:59:57.912Z"
   },
   {
    "duration": 26,
    "start_time": "2024-08-21T04:11:57.284Z"
   },
   {
    "duration": 832,
    "start_time": "2024-08-21T04:12:12.935Z"
   },
   {
    "duration": 107,
    "start_time": "2024-08-21T04:13:29.839Z"
   },
   {
    "duration": 311,
    "start_time": "2024-08-23T00:27:35.610Z"
   },
   {
    "duration": 25,
    "start_time": "2024-08-23T00:27:58.653Z"
   },
   {
    "duration": 24,
    "start_time": "2024-08-23T00:28:58.540Z"
   },
   {
    "duration": 27,
    "start_time": "2024-08-23T00:31:29.346Z"
   },
   {
    "duration": 5050,
    "start_time": "2024-08-23T00:31:52.793Z"
   },
   {
    "duration": 58,
    "start_time": "2024-08-23T00:31:57.847Z"
   },
   {
    "duration": 21,
    "start_time": "2024-08-23T00:31:57.908Z"
   },
   {
    "duration": 8,
    "start_time": "2024-08-23T00:31:57.934Z"
   },
   {
    "duration": 25,
    "start_time": "2024-08-23T00:31:57.946Z"
   },
   {
    "duration": 1263,
    "start_time": "2024-08-23T00:31:58.012Z"
   },
   {
    "duration": 0,
    "start_time": "2024-08-23T00:31:59.279Z"
   },
   {
    "duration": 43,
    "start_time": "2024-08-23T00:32:28.159Z"
   },
   {
    "duration": 7,
    "start_time": "2024-08-23T00:32:46.086Z"
   },
   {
    "duration": 25,
    "start_time": "2024-08-23T00:33:30.707Z"
   },
   {
    "duration": 18,
    "start_time": "2024-08-23T00:35:08.632Z"
   },
   {
    "duration": 31,
    "start_time": "2024-08-23T00:39:55.177Z"
   },
   {
    "duration": 1210,
    "start_time": "2024-08-23T00:44:16.539Z"
   },
   {
    "duration": 39,
    "start_time": "2024-08-23T00:44:17.754Z"
   },
   {
    "duration": 30,
    "start_time": "2024-08-23T00:44:17.796Z"
   },
   {
    "duration": 8,
    "start_time": "2024-08-23T00:44:17.829Z"
   },
   {
    "duration": 69,
    "start_time": "2024-08-23T00:44:17.843Z"
   },
   {
    "duration": 26,
    "start_time": "2024-08-23T00:44:17.914Z"
   },
   {
    "duration": 6,
    "start_time": "2024-08-23T00:44:17.943Z"
   },
   {
    "duration": 8,
    "start_time": "2024-08-23T01:04:59.385Z"
   },
   {
    "duration": 1543,
    "start_time": "2024-08-23T01:05:08.179Z"
   },
   {
    "duration": 23,
    "start_time": "2024-08-23T01:07:14.427Z"
   },
   {
    "duration": 719,
    "start_time": "2024-08-23T01:07:31.121Z"
   },
   {
    "duration": 6,
    "start_time": "2024-08-23T01:16:22.933Z"
   },
   {
    "duration": 4,
    "start_time": "2024-08-23T01:17:09.348Z"
   },
   {
    "duration": 21,
    "start_time": "2024-08-23T01:17:34.589Z"
   },
   {
    "duration": 8,
    "start_time": "2024-08-23T01:18:30.062Z"
   },
   {
    "duration": 9,
    "start_time": "2024-08-23T01:18:55.489Z"
   },
   {
    "duration": 26,
    "start_time": "2024-08-23T01:19:07.294Z"
   },
   {
    "duration": 8,
    "start_time": "2024-08-23T01:19:21.341Z"
   },
   {
    "duration": 118,
    "start_time": "2024-08-23T01:35:06.752Z"
   },
   {
    "duration": 8,
    "start_time": "2024-08-23T01:49:48.477Z"
   },
   {
    "duration": 11,
    "start_time": "2024-08-23T01:50:09.792Z"
   },
   {
    "duration": 8,
    "start_time": "2024-08-23T01:50:28.311Z"
   },
   {
    "duration": 11,
    "start_time": "2024-08-23T01:50:29.262Z"
   },
   {
    "duration": 7,
    "start_time": "2024-08-23T01:50:52.103Z"
   },
   {
    "duration": 11,
    "start_time": "2024-08-23T01:50:53.254Z"
   },
   {
    "duration": 197,
    "start_time": "2024-08-23T01:51:10.473Z"
   },
   {
    "duration": 5,
    "start_time": "2024-08-23T01:51:20.710Z"
   },
   {
    "duration": 11,
    "start_time": "2024-08-23T01:51:22.752Z"
   },
   {
    "duration": 100,
    "start_time": "2024-08-23T03:09:48.632Z"
   },
   {
    "duration": 313,
    "start_time": "2024-08-27T01:41:24.779Z"
   },
   {
    "duration": 22,
    "start_time": "2024-08-27T01:42:46.405Z"
   },
   {
    "duration": 4755,
    "start_time": "2024-08-27T01:43:12.059Z"
   },
   {
    "duration": 62,
    "start_time": "2024-08-27T01:43:16.818Z"
   },
   {
    "duration": 23,
    "start_time": "2024-08-27T01:43:16.883Z"
   },
   {
    "duration": 9,
    "start_time": "2024-08-27T01:43:16.909Z"
   },
   {
    "duration": 34,
    "start_time": "2024-08-27T01:43:16.936Z"
   },
   {
    "duration": 25,
    "start_time": "2024-08-27T01:43:16.974Z"
   },
   {
    "duration": 34,
    "start_time": "2024-08-27T01:43:17.002Z"
   },
   {
    "duration": 399,
    "start_time": "2024-08-27T01:43:17.039Z"
   },
   {
    "duration": 0,
    "start_time": "2024-08-27T01:43:17.441Z"
   },
   {
    "duration": 9,
    "start_time": "2024-08-27T01:43:47.515Z"
   },
   {
    "duration": 6,
    "start_time": "2024-08-27T01:44:08.068Z"
   },
   {
    "duration": 11,
    "start_time": "2024-08-27T01:44:53.650Z"
   },
   {
    "duration": 24,
    "start_time": "2024-08-27T01:45:12.497Z"
   },
   {
    "duration": 9,
    "start_time": "2024-08-27T01:46:02.585Z"
   },
   {
    "duration": 18,
    "start_time": "2024-08-27T01:46:03.946Z"
   },
   {
    "duration": 9,
    "start_time": "2024-08-27T01:48:06.327Z"
   },
   {
    "duration": 17,
    "start_time": "2024-08-27T01:48:08.047Z"
   },
   {
    "duration": 10,
    "start_time": "2024-08-27T01:48:57.880Z"
   },
   {
    "duration": 23,
    "start_time": "2024-08-27T01:48:59.141Z"
   },
   {
    "duration": 8,
    "start_time": "2024-08-27T01:49:09.098Z"
   },
   {
    "duration": 20,
    "start_time": "2024-08-27T01:49:35.653Z"
   },
   {
    "duration": 8,
    "start_time": "2024-08-27T01:50:31.158Z"
   },
   {
    "duration": 17,
    "start_time": "2024-08-27T01:50:32.696Z"
   },
   {
    "duration": 7,
    "start_time": "2024-08-27T01:50:57.885Z"
   },
   {
    "duration": 17,
    "start_time": "2024-08-27T01:50:58.519Z"
   },
   {
    "duration": 25,
    "start_time": "2024-08-27T01:58:05.826Z"
   },
   {
    "duration": 865,
    "start_time": "2024-08-27T01:58:24.582Z"
   },
   {
    "duration": 1135,
    "start_time": "2024-08-27T01:59:33.044Z"
   },
   {
    "duration": 37,
    "start_time": "2024-08-27T01:59:34.185Z"
   },
   {
    "duration": 25,
    "start_time": "2024-08-27T01:59:34.224Z"
   },
   {
    "duration": 8,
    "start_time": "2024-08-27T01:59:34.254Z"
   },
   {
    "duration": 70,
    "start_time": "2024-08-27T01:59:34.264Z"
   },
   {
    "duration": 25,
    "start_time": "2024-08-27T01:59:34.337Z"
   },
   {
    "duration": 7,
    "start_time": "2024-08-27T01:59:34.364Z"
   },
   {
    "duration": 10,
    "start_time": "2024-08-27T01:59:34.374Z"
   },
   {
    "duration": 55,
    "start_time": "2024-08-27T01:59:34.387Z"
   },
   {
    "duration": 9,
    "start_time": "2024-08-27T01:59:34.448Z"
   },
   {
    "duration": 20,
    "start_time": "2024-08-27T01:59:34.459Z"
   },
   {
    "duration": 1268,
    "start_time": "2024-08-27T01:59:34.483Z"
   },
   {
    "duration": 80,
    "start_time": "2024-08-27T01:59:43.406Z"
   },
   {
    "duration": 8,
    "start_time": "2024-08-27T02:00:19.279Z"
   },
   {
    "duration": 19,
    "start_time": "2024-08-27T02:00:43.898Z"
   },
   {
    "duration": 32,
    "start_time": "2024-08-27T02:13:29.870Z"
   },
   {
    "duration": 27,
    "start_time": "2024-08-27T02:13:39.141Z"
   },
   {
    "duration": 10,
    "start_time": "2024-08-27T02:14:04.316Z"
   },
   {
    "duration": 23,
    "start_time": "2024-08-27T02:15:58.927Z"
   },
   {
    "duration": 29,
    "start_time": "2024-08-27T02:18:41.447Z"
   },
   {
    "duration": 9,
    "start_time": "2024-08-27T02:19:48.942Z"
   },
   {
    "duration": 7,
    "start_time": "2024-08-27T02:19:50.702Z"
   },
   {
    "duration": 12,
    "start_time": "2024-08-27T02:20:06.814Z"
   },
   {
    "duration": 23,
    "start_time": "2024-08-27T02:20:17.529Z"
   },
   {
    "duration": 11,
    "start_time": "2024-08-27T02:20:28.862Z"
   },
   {
    "duration": 9,
    "start_time": "2024-08-27T02:30:48.989Z"
   },
   {
    "duration": 5,
    "start_time": "2024-08-27T02:31:07.696Z"
   },
   {
    "duration": 12,
    "start_time": "2024-08-27T02:31:12.889Z"
   },
   {
    "duration": 5,
    "start_time": "2024-08-27T02:31:55.164Z"
   },
   {
    "duration": 10,
    "start_time": "2024-08-27T02:32:06.176Z"
   },
   {
    "duration": 14,
    "start_time": "2024-08-27T02:32:18.678Z"
   },
   {
    "duration": 7,
    "start_time": "2024-08-27T02:43:34.925Z"
   },
   {
    "duration": 12,
    "start_time": "2024-08-27T02:43:39.277Z"
   },
   {
    "duration": 1477,
    "start_time": "2024-08-27T02:44:33.884Z"
   },
   {
    "duration": 270,
    "start_time": "2024-08-27T02:45:13.144Z"
   },
   {
    "duration": 278,
    "start_time": "2024-08-27T02:47:31.925Z"
   },
   {
    "duration": 160,
    "start_time": "2024-08-27T02:47:56.872Z"
   },
   {
    "duration": 159,
    "start_time": "2024-08-27T02:48:46.870Z"
   },
   {
    "duration": 6,
    "start_time": "2024-08-27T03:02:42.316Z"
   },
   {
    "duration": 28,
    "start_time": "2024-08-27T03:02:55.648Z"
   },
   {
    "duration": 388,
    "start_time": "2024-08-27T03:03:03.391Z"
   },
   {
    "duration": 656,
    "start_time": "2024-08-27T03:03:18.466Z"
   },
   {
    "duration": 807,
    "start_time": "2024-08-27T03:11:58.111Z"
   },
   {
    "duration": 624,
    "start_time": "2024-08-27T03:15:52.590Z"
   },
   {
    "duration": 6,
    "start_time": "2024-08-27T03:22:56.477Z"
   },
   {
    "duration": 276,
    "start_time": "2024-08-27T03:23:04.072Z"
   },
   {
    "duration": 274,
    "start_time": "2024-08-27T03:24:33.705Z"
   },
   {
    "duration": 624,
    "start_time": "2024-08-27T03:30:45.594Z"
   },
   {
    "duration": 802,
    "start_time": "2024-08-27T03:32:25.354Z"
   },
   {
    "duration": 809,
    "start_time": "2024-08-27T03:33:18.961Z"
   },
   {
    "duration": 1033,
    "start_time": "2024-08-27T03:34:15.451Z"
   },
   {
    "duration": 716,
    "start_time": "2024-08-27T03:34:36.004Z"
   },
   {
    "duration": 691,
    "start_time": "2024-08-27T03:34:52.946Z"
   },
   {
    "duration": 850,
    "start_time": "2024-08-27T03:35:04.751Z"
   },
   {
    "duration": 1121,
    "start_time": "2024-08-27T03:35:26.235Z"
   },
   {
    "duration": 893,
    "start_time": "2024-08-27T03:36:35.684Z"
   },
   {
    "duration": 699,
    "start_time": "2024-08-27T03:47:13.753Z"
   },
   {
    "duration": 747,
    "start_time": "2024-08-27T03:47:27.494Z"
   },
   {
    "duration": 1441,
    "start_time": "2024-08-27T03:48:07.875Z"
   },
   {
    "duration": 829,
    "start_time": "2024-08-27T03:48:24.504Z"
   },
   {
    "duration": 27,
    "start_time": "2024-08-27T03:54:49.916Z"
   },
   {
    "duration": 13,
    "start_time": "2024-08-27T03:54:50.996Z"
   },
   {
    "duration": 8,
    "start_time": "2024-08-27T03:55:29.673Z"
   },
   {
    "duration": 13,
    "start_time": "2024-08-27T03:55:32.658Z"
   },
   {
    "duration": 1361,
    "start_time": "2024-08-27T04:22:24.855Z"
   },
   {
    "duration": 60,
    "start_time": "2024-08-27T04:22:26.223Z"
   },
   {
    "duration": 22,
    "start_time": "2024-08-27T04:22:26.286Z"
   },
   {
    "duration": 9,
    "start_time": "2024-08-27T04:22:26.332Z"
   },
   {
    "duration": 50,
    "start_time": "2024-08-27T04:22:26.346Z"
   },
   {
    "duration": 52,
    "start_time": "2024-08-27T04:22:26.400Z"
   },
   {
    "duration": 7,
    "start_time": "2024-08-27T04:22:26.456Z"
   },
   {
    "duration": 13,
    "start_time": "2024-08-27T04:22:26.466Z"
   },
   {
    "duration": 58,
    "start_time": "2024-08-27T04:22:26.483Z"
   },
   {
    "duration": 17,
    "start_time": "2024-08-27T04:22:26.546Z"
   },
   {
    "duration": 9,
    "start_time": "2024-08-27T04:22:26.566Z"
   },
   {
    "duration": 57,
    "start_time": "2024-08-27T04:22:26.578Z"
   },
   {
    "duration": 9,
    "start_time": "2024-08-27T04:22:26.638Z"
   },
   {
    "duration": 12,
    "start_time": "2024-08-27T04:22:26.650Z"
   },
   {
    "duration": 16,
    "start_time": "2024-08-27T04:22:26.665Z"
   },
   {
    "duration": 49,
    "start_time": "2024-08-27T04:22:26.685Z"
   },
   {
    "duration": 17,
    "start_time": "2024-08-27T04:22:26.738Z"
   },
   {
    "duration": 940,
    "start_time": "2024-08-27T04:22:26.758Z"
   },
   {
    "duration": 456,
    "start_time": "2024-08-27T04:38:50.224Z"
   },
   {
    "duration": 208,
    "start_time": "2024-08-27T04:39:05.025Z"
   },
   {
    "duration": 1179,
    "start_time": "2024-08-27T04:40:00.304Z"
   },
   {
    "duration": 370,
    "start_time": "2024-08-27T04:41:10.382Z"
   },
   {
    "duration": 464,
    "start_time": "2024-08-27T04:41:32.977Z"
   },
   {
    "duration": 6,
    "start_time": "2024-08-27T04:43:14.003Z"
   },
   {
    "duration": 472,
    "start_time": "2024-08-27T04:43:23.844Z"
   },
   {
    "duration": 478,
    "start_time": "2024-08-27T04:43:30.905Z"
   },
   {
    "duration": 490,
    "start_time": "2024-08-27T04:44:22.996Z"
   },
   {
    "duration": 521,
    "start_time": "2024-08-27T04:45:01.033Z"
   },
   {
    "duration": 429,
    "start_time": "2024-08-27T04:45:21.120Z"
   },
   {
    "duration": 603,
    "start_time": "2024-08-27T04:45:34.230Z"
   },
   {
    "duration": 1115,
    "start_time": "2024-08-27T04:53:01.199Z"
   },
   {
    "duration": 50,
    "start_time": "2024-08-27T04:53:02.318Z"
   },
   {
    "duration": 22,
    "start_time": "2024-08-27T04:53:02.372Z"
   },
   {
    "duration": 33,
    "start_time": "2024-08-27T04:53:02.400Z"
   },
   {
    "duration": 31,
    "start_time": "2024-08-27T04:53:02.436Z"
   },
   {
    "duration": 25,
    "start_time": "2024-08-27T04:53:02.471Z"
   },
   {
    "duration": 36,
    "start_time": "2024-08-27T04:53:02.499Z"
   },
   {
    "duration": 10,
    "start_time": "2024-08-27T04:53:02.538Z"
   },
   {
    "duration": 19,
    "start_time": "2024-08-27T04:53:02.550Z"
   },
   {
    "duration": 17,
    "start_time": "2024-08-27T04:53:02.574Z"
   },
   {
    "duration": 44,
    "start_time": "2024-08-27T04:53:02.594Z"
   },
   {
    "duration": 19,
    "start_time": "2024-08-27T04:53:02.641Z"
   },
   {
    "duration": 9,
    "start_time": "2024-08-27T04:53:02.663Z"
   },
   {
    "duration": 6,
    "start_time": "2024-08-27T04:53:02.675Z"
   },
   {
    "duration": 51,
    "start_time": "2024-08-27T04:53:02.685Z"
   },
   {
    "duration": 9,
    "start_time": "2024-08-27T04:53:02.739Z"
   },
   {
    "duration": 13,
    "start_time": "2024-08-27T04:53:02.753Z"
   },
   {
    "duration": 912,
    "start_time": "2024-08-27T04:53:02.769Z"
   },
   {
    "duration": 567,
    "start_time": "2024-08-27T04:53:03.685Z"
   },
   {
    "duration": 9,
    "start_time": "2024-08-27T04:53:04.255Z"
   },
   {
    "duration": 11,
    "start_time": "2024-08-27T04:53:26.457Z"
   },
   {
    "duration": 17,
    "start_time": "2024-08-27T04:54:03.570Z"
   },
   {
    "duration": 390,
    "start_time": "2024-08-27T05:11:44.135Z"
   },
   {
    "duration": 8,
    "start_time": "2024-08-27T05:13:08.443Z"
   },
   {
    "duration": 7,
    "start_time": "2024-08-27T05:18:03.464Z"
   },
   {
    "duration": 17,
    "start_time": "2024-08-27T05:18:46.978Z"
   },
   {
    "duration": 19,
    "start_time": "2024-08-27T05:19:02.152Z"
   },
   {
    "duration": 1251,
    "start_time": "2024-08-27T05:20:29.137Z"
   },
   {
    "duration": 48,
    "start_time": "2024-08-27T05:20:30.391Z"
   },
   {
    "duration": 20,
    "start_time": "2024-08-27T05:20:30.442Z"
   },
   {
    "duration": 8,
    "start_time": "2024-08-27T05:20:30.466Z"
   },
   {
    "duration": 64,
    "start_time": "2024-08-27T05:20:30.477Z"
   },
   {
    "duration": 29,
    "start_time": "2024-08-27T05:20:30.544Z"
   },
   {
    "duration": 7,
    "start_time": "2024-08-27T05:20:30.577Z"
   },
   {
    "duration": 44,
    "start_time": "2024-08-27T05:20:30.588Z"
   },
   {
    "duration": 19,
    "start_time": "2024-08-27T05:20:30.635Z"
   },
   {
    "duration": 16,
    "start_time": "2024-08-27T05:20:30.660Z"
   },
   {
    "duration": 8,
    "start_time": "2024-08-27T05:20:30.679Z"
   },
   {
    "duration": 51,
    "start_time": "2024-08-27T05:20:30.692Z"
   },
   {
    "duration": 8,
    "start_time": "2024-08-27T05:20:30.746Z"
   },
   {
    "duration": 6,
    "start_time": "2024-08-27T05:20:30.757Z"
   },
   {
    "duration": 12,
    "start_time": "2024-08-27T05:20:30.766Z"
   },
   {
    "duration": 12,
    "start_time": "2024-08-27T05:20:30.781Z"
   },
   {
    "duration": 13,
    "start_time": "2024-08-27T05:20:30.835Z"
   },
   {
    "duration": 10,
    "start_time": "2024-08-27T05:20:30.851Z"
   },
   {
    "duration": 19,
    "start_time": "2024-08-27T05:20:30.864Z"
   },
   {
    "duration": 54,
    "start_time": "2024-08-27T05:20:30.886Z"
   },
   {
    "duration": 962,
    "start_time": "2024-08-27T05:20:30.943Z"
   },
   {
    "duration": 519,
    "start_time": "2024-08-27T05:20:31.909Z"
   },
   {
    "duration": 9,
    "start_time": "2024-08-27T05:20:32.434Z"
   },
   {
    "duration": 10,
    "start_time": "2024-08-27T05:20:32.446Z"
   },
   {
    "duration": 492,
    "start_time": "2024-08-27T05:26:24.576Z"
   },
   {
    "duration": 876,
    "start_time": "2024-08-27T05:29:57.159Z"
   },
   {
    "duration": 505,
    "start_time": "2024-08-27T05:30:23.346Z"
   },
   {
    "duration": 20,
    "start_time": "2024-08-27T05:52:49.936Z"
   },
   {
    "duration": 9,
    "start_time": "2024-08-27T05:56:34.975Z"
   },
   {
    "duration": 16,
    "start_time": "2024-08-27T05:56:52.161Z"
   },
   {
    "duration": 30,
    "start_time": "2024-08-27T05:58:23.720Z"
   },
   {
    "duration": 29,
    "start_time": "2024-08-27T05:58:53.927Z"
   },
   {
    "duration": 19,
    "start_time": "2024-08-27T06:03:38.869Z"
   },
   {
    "duration": 5,
    "start_time": "2024-08-27T06:18:59.077Z"
   },
   {
    "duration": 47,
    "start_time": "2024-08-27T06:19:11.202Z"
   },
   {
    "duration": 40,
    "start_time": "2024-08-27T06:19:35.876Z"
   },
   {
    "duration": 37,
    "start_time": "2024-08-27T06:21:18.280Z"
   },
   {
    "duration": 7,
    "start_time": "2024-08-27T06:21:30.158Z"
   },
   {
    "duration": 11,
    "start_time": "2024-08-27T06:23:29.374Z"
   },
   {
    "duration": 15,
    "start_time": "2024-08-27T06:25:16.300Z"
   },
   {
    "duration": 24,
    "start_time": "2024-08-27T06:26:57.886Z"
   },
   {
    "duration": 31,
    "start_time": "2024-08-27T06:28:09.319Z"
   },
   {
    "duration": 39,
    "start_time": "2024-08-27T06:29:31.310Z"
   },
   {
    "duration": 36,
    "start_time": "2024-08-27T06:29:56.886Z"
   },
   {
    "duration": 33,
    "start_time": "2024-08-27T06:31:22.299Z"
   },
   {
    "duration": 9,
    "start_time": "2024-08-27T06:34:26.672Z"
   },
   {
    "duration": 32,
    "start_time": "2024-08-27T06:34:39.835Z"
   },
   {
    "duration": 22,
    "start_time": "2024-08-27T06:38:58.731Z"
   },
   {
    "duration": 33,
    "start_time": "2024-08-27T06:39:40.929Z"
   },
   {
    "duration": 33,
    "start_time": "2024-08-27T06:40:20.840Z"
   },
   {
    "duration": 23,
    "start_time": "2024-08-27T06:41:04.870Z"
   },
   {
    "duration": 23,
    "start_time": "2024-08-27T06:41:24.007Z"
   },
   {
    "duration": 7,
    "start_time": "2024-08-27T06:41:33.900Z"
   },
   {
    "duration": 36,
    "start_time": "2024-08-27T06:42:44.533Z"
   },
   {
    "duration": 33,
    "start_time": "2024-08-27T06:43:42.329Z"
   },
   {
    "duration": 11,
    "start_time": "2024-08-27T07:01:49.121Z"
   },
   {
    "duration": 12,
    "start_time": "2024-08-27T07:04:47.440Z"
   },
   {
    "duration": 10,
    "start_time": "2024-08-27T07:09:13.722Z"
   },
   {
    "duration": 4749,
    "start_time": "2024-08-27T07:31:30.425Z"
   },
   {
    "duration": 55,
    "start_time": "2024-08-27T07:31:35.178Z"
   },
   {
    "duration": 19,
    "start_time": "2024-08-27T07:31:35.235Z"
   },
   {
    "duration": 16,
    "start_time": "2024-08-27T07:31:35.259Z"
   },
   {
    "duration": 33,
    "start_time": "2024-08-27T07:31:35.277Z"
   },
   {
    "duration": 24,
    "start_time": "2024-08-27T07:31:35.313Z"
   },
   {
    "duration": 35,
    "start_time": "2024-08-27T07:31:35.339Z"
   },
   {
    "duration": 11,
    "start_time": "2024-08-27T07:31:35.377Z"
   },
   {
    "duration": 18,
    "start_time": "2024-08-27T07:31:35.391Z"
   },
   {
    "duration": 58,
    "start_time": "2024-08-27T07:31:35.417Z"
   },
   {
    "duration": 8,
    "start_time": "2024-08-27T07:31:35.478Z"
   },
   {
    "duration": 18,
    "start_time": "2024-08-27T07:31:35.489Z"
   },
   {
    "duration": 9,
    "start_time": "2024-08-27T07:31:35.510Z"
   },
   {
    "duration": 48,
    "start_time": "2024-08-27T07:31:35.521Z"
   },
   {
    "duration": 10,
    "start_time": "2024-08-27T07:31:35.573Z"
   },
   {
    "duration": 9,
    "start_time": "2024-08-27T07:31:35.586Z"
   },
   {
    "duration": 13,
    "start_time": "2024-08-27T07:31:35.598Z"
   },
   {
    "duration": 54,
    "start_time": "2024-08-27T07:31:35.615Z"
   },
   {
    "duration": 18,
    "start_time": "2024-08-27T07:31:35.672Z"
   },
   {
    "duration": 19,
    "start_time": "2024-08-27T07:31:35.693Z"
   },
   {
    "duration": 579,
    "start_time": "2024-08-27T07:31:35.715Z"
   },
   {
    "duration": 907,
    "start_time": "2024-08-27T07:31:36.297Z"
   },
   {
    "duration": 514,
    "start_time": "2024-08-27T07:31:37.207Z"
   },
   {
    "duration": 9,
    "start_time": "2024-08-27T07:31:37.723Z"
   },
   {
    "duration": 11,
    "start_time": "2024-08-27T07:31:37.736Z"
   },
   {
    "duration": 35,
    "start_time": "2024-08-27T07:31:37.768Z"
   },
   {
    "duration": 63,
    "start_time": "2024-08-27T07:31:37.806Z"
   },
   {
    "duration": 34,
    "start_time": "2024-08-27T07:31:37.877Z"
   },
   {
    "duration": 11,
    "start_time": "2024-08-27T07:31:37.914Z"
   },
   {
    "duration": 6,
    "start_time": "2024-08-27T07:31:37.928Z"
   },
   {
    "duration": 0,
    "start_time": "2024-08-27T07:31:37.971Z"
   },
   {
    "duration": 0,
    "start_time": "2024-08-27T07:31:37.973Z"
   },
   {
    "duration": 0,
    "start_time": "2024-08-27T07:31:37.975Z"
   },
   {
    "duration": 14,
    "start_time": "2024-08-27T07:32:25.872Z"
   },
   {
    "duration": 6,
    "start_time": "2024-08-27T07:34:03.653Z"
   },
   {
    "duration": 2436,
    "start_time": "2024-08-27T07:36:16.940Z"
   },
   {
    "duration": 41,
    "start_time": "2024-08-27T07:36:19.379Z"
   },
   {
    "duration": 11,
    "start_time": "2024-08-27T07:36:19.421Z"
   },
   {
    "duration": 5,
    "start_time": "2024-08-27T07:36:19.434Z"
   },
   {
    "duration": 16,
    "start_time": "2024-08-27T07:36:19.441Z"
   },
   {
    "duration": 14,
    "start_time": "2024-08-27T07:36:19.459Z"
   },
   {
    "duration": 3,
    "start_time": "2024-08-27T07:36:19.475Z"
   },
   {
    "duration": 6,
    "start_time": "2024-08-27T07:36:19.479Z"
   },
   {
    "duration": 9,
    "start_time": "2024-08-27T07:36:19.487Z"
   },
   {
    "duration": 9,
    "start_time": "2024-08-27T07:36:19.499Z"
   },
   {
    "duration": 38,
    "start_time": "2024-08-27T07:36:19.510Z"
   },
   {
    "duration": 11,
    "start_time": "2024-08-27T07:36:19.549Z"
   },
   {
    "duration": 5,
    "start_time": "2024-08-27T07:36:19.561Z"
   },
   {
    "duration": 4,
    "start_time": "2024-08-27T07:36:19.568Z"
   },
   {
    "duration": 6,
    "start_time": "2024-08-27T07:36:19.573Z"
   },
   {
    "duration": 6,
    "start_time": "2024-08-27T07:36:19.581Z"
   },
   {
    "duration": 7,
    "start_time": "2024-08-27T07:36:19.588Z"
   },
   {
    "duration": 5,
    "start_time": "2024-08-27T07:36:19.596Z"
   },
   {
    "duration": 50,
    "start_time": "2024-08-27T07:36:19.603Z"
   },
   {
    "duration": 10,
    "start_time": "2024-08-27T07:36:19.655Z"
   },
   {
    "duration": 303,
    "start_time": "2024-08-27T07:36:19.666Z"
   },
   {
    "duration": 419,
    "start_time": "2024-08-27T07:36:19.970Z"
   },
   {
    "duration": 268,
    "start_time": "2024-08-27T07:36:20.390Z"
   },
   {
    "duration": 6,
    "start_time": "2024-08-27T07:36:20.659Z"
   },
   {
    "duration": 7,
    "start_time": "2024-08-27T07:36:20.667Z"
   },
   {
    "duration": 87,
    "start_time": "2024-08-27T07:36:20.676Z"
   },
   {
    "duration": 19,
    "start_time": "2024-08-27T07:36:20.764Z"
   },
   {
    "duration": 19,
    "start_time": "2024-08-27T07:36:20.786Z"
   },
   {
    "duration": 8,
    "start_time": "2024-08-27T07:36:20.806Z"
   },
   {
    "duration": 39,
    "start_time": "2024-08-27T07:36:20.815Z"
   },
   {
    "duration": 4,
    "start_time": "2024-08-27T07:36:20.855Z"
   },
   {
    "duration": 6,
    "start_time": "2024-08-27T07:36:20.860Z"
   },
   {
    "duration": 6,
    "start_time": "2024-08-27T07:36:20.868Z"
   },
   {
    "duration": 10,
    "start_time": "2024-08-27T07:36:20.876Z"
   },
   {
    "duration": 9,
    "start_time": "2024-08-27T07:37:11.983Z"
   },
   {
    "duration": 7,
    "start_time": "2024-08-27T07:40:38.276Z"
   },
   {
    "duration": 5,
    "start_time": "2024-08-27T07:40:39.587Z"
   },
   {
    "duration": 7,
    "start_time": "2024-08-27T07:40:46.651Z"
   },
   {
    "duration": 8,
    "start_time": "2024-08-27T07:40:50.101Z"
   },
   {
    "duration": 8,
    "start_time": "2024-08-27T07:41:43.749Z"
   },
   {
    "duration": 3,
    "start_time": "2024-08-27T07:41:50.984Z"
   },
   {
    "duration": 3,
    "start_time": "2024-08-27T07:41:57.782Z"
   },
   {
    "duration": 4,
    "start_time": "2024-08-27T07:43:16.639Z"
   },
   {
    "duration": 8,
    "start_time": "2024-08-27T07:46:52.530Z"
   },
   {
    "duration": 4,
    "start_time": "2024-08-27T07:46:54.001Z"
   },
   {
    "duration": 10,
    "start_time": "2024-08-27T07:49:24.089Z"
   },
   {
    "duration": 5,
    "start_time": "2024-08-27T07:49:31.224Z"
   },
   {
    "duration": 3,
    "start_time": "2024-08-27T07:56:48.613Z"
   },
   {
    "duration": 4,
    "start_time": "2024-08-27T07:57:36.362Z"
   },
   {
    "duration": 781,
    "start_time": "2024-08-27T07:58:03.354Z"
   },
   {
    "duration": 28,
    "start_time": "2024-08-27T07:58:04.137Z"
   },
   {
    "duration": 13,
    "start_time": "2024-08-27T07:58:04.166Z"
   },
   {
    "duration": 4,
    "start_time": "2024-08-27T07:58:04.181Z"
   },
   {
    "duration": 16,
    "start_time": "2024-08-27T07:58:04.187Z"
   },
   {
    "duration": 13,
    "start_time": "2024-08-27T07:58:04.205Z"
   },
   {
    "duration": 3,
    "start_time": "2024-08-27T07:58:04.220Z"
   },
   {
    "duration": 29,
    "start_time": "2024-08-27T07:58:04.224Z"
   },
   {
    "duration": 9,
    "start_time": "2024-08-27T07:58:04.255Z"
   },
   {
    "duration": 10,
    "start_time": "2024-08-27T07:58:04.268Z"
   },
   {
    "duration": 4,
    "start_time": "2024-08-27T07:58:04.279Z"
   },
   {
    "duration": 10,
    "start_time": "2024-08-27T07:58:04.285Z"
   },
   {
    "duration": 5,
    "start_time": "2024-08-27T07:58:04.297Z"
   },
   {
    "duration": 4,
    "start_time": "2024-08-27T07:58:04.303Z"
   },
   {
    "duration": 45,
    "start_time": "2024-08-27T07:58:04.308Z"
   },
   {
    "duration": 6,
    "start_time": "2024-08-27T07:58:04.355Z"
   },
   {
    "duration": 9,
    "start_time": "2024-08-27T07:58:04.362Z"
   },
   {
    "duration": 6,
    "start_time": "2024-08-27T07:58:04.372Z"
   },
   {
    "duration": 10,
    "start_time": "2024-08-27T07:58:04.380Z"
   },
   {
    "duration": 10,
    "start_time": "2024-08-27T07:58:04.391Z"
   },
   {
    "duration": 351,
    "start_time": "2024-08-27T07:58:04.402Z"
   },
   {
    "duration": 502,
    "start_time": "2024-08-27T07:58:04.755Z"
   },
   {
    "duration": 270,
    "start_time": "2024-08-27T07:58:05.259Z"
   },
   {
    "duration": 5,
    "start_time": "2024-08-27T07:58:05.531Z"
   },
   {
    "duration": 14,
    "start_time": "2024-08-27T07:58:05.538Z"
   },
   {
    "duration": 20,
    "start_time": "2024-08-27T07:58:05.554Z"
   },
   {
    "duration": 18,
    "start_time": "2024-08-27T07:58:05.575Z"
   },
   {
    "duration": 20,
    "start_time": "2024-08-27T07:58:05.597Z"
   },
   {
    "duration": 35,
    "start_time": "2024-08-27T07:58:05.619Z"
   },
   {
    "duration": 10,
    "start_time": "2024-08-27T07:58:05.655Z"
   },
   {
    "duration": 5,
    "start_time": "2024-08-27T07:58:05.666Z"
   },
   {
    "duration": 7,
    "start_time": "2024-08-27T07:58:05.672Z"
   },
   {
    "duration": 8,
    "start_time": "2024-08-27T07:58:05.682Z"
   },
   {
    "duration": 6,
    "start_time": "2024-08-27T07:58:05.692Z"
   },
   {
    "duration": 51,
    "start_time": "2024-08-27T07:58:05.699Z"
   },
   {
    "duration": 9,
    "start_time": "2024-08-27T07:58:31.369Z"
   },
   {
    "duration": 4,
    "start_time": "2024-08-27T07:58:33.945Z"
   },
   {
    "duration": 4,
    "start_time": "2024-08-27T07:59:54.371Z"
   },
   {
    "duration": 6,
    "start_time": "2024-08-27T08:08:59.095Z"
   },
   {
    "duration": 4,
    "start_time": "2024-08-27T08:09:04.382Z"
   },
   {
    "duration": 8,
    "start_time": "2024-08-27T08:09:52.033Z"
   },
   {
    "duration": 4,
    "start_time": "2024-08-27T08:09:55.166Z"
   },
   {
    "duration": 777,
    "start_time": "2024-08-27T08:21:42.729Z"
   },
   {
    "duration": 27,
    "start_time": "2024-08-27T08:21:43.508Z"
   },
   {
    "duration": 16,
    "start_time": "2024-08-27T08:21:43.537Z"
   },
   {
    "duration": 5,
    "start_time": "2024-08-27T08:21:43.556Z"
   },
   {
    "duration": 16,
    "start_time": "2024-08-27T08:21:43.563Z"
   },
   {
    "duration": 14,
    "start_time": "2024-08-27T08:21:43.580Z"
   },
   {
    "duration": 3,
    "start_time": "2024-08-27T08:21:43.595Z"
   },
   {
    "duration": 5,
    "start_time": "2024-08-27T08:21:43.601Z"
   },
   {
    "duration": 42,
    "start_time": "2024-08-27T08:21:43.608Z"
   },
   {
    "duration": 9,
    "start_time": "2024-08-27T08:21:43.653Z"
   },
   {
    "duration": 4,
    "start_time": "2024-08-27T08:21:43.663Z"
   },
   {
    "duration": 10,
    "start_time": "2024-08-27T08:21:43.670Z"
   },
   {
    "duration": 5,
    "start_time": "2024-08-27T08:21:43.681Z"
   },
   {
    "duration": 3,
    "start_time": "2024-08-27T08:21:43.688Z"
   },
   {
    "duration": 5,
    "start_time": "2024-08-27T08:21:43.694Z"
   },
   {
    "duration": 5,
    "start_time": "2024-08-27T08:21:43.701Z"
   },
   {
    "duration": 43,
    "start_time": "2024-08-27T08:21:43.707Z"
   },
   {
    "duration": 5,
    "start_time": "2024-08-27T08:21:43.752Z"
   },
   {
    "duration": 9,
    "start_time": "2024-08-27T08:21:43.760Z"
   },
   {
    "duration": 10,
    "start_time": "2024-08-27T08:21:43.771Z"
   },
   {
    "duration": 319,
    "start_time": "2024-08-27T08:21:43.782Z"
   },
   {
    "duration": 467,
    "start_time": "2024-08-27T08:21:44.103Z"
   },
   {
    "duration": 278,
    "start_time": "2024-08-27T08:21:44.572Z"
   },
   {
    "duration": 6,
    "start_time": "2024-08-27T08:21:44.852Z"
   },
   {
    "duration": 7,
    "start_time": "2024-08-27T08:21:44.859Z"
   },
   {
    "duration": 19,
    "start_time": "2024-08-27T08:21:44.868Z"
   },
   {
    "duration": 18,
    "start_time": "2024-08-27T08:21:44.889Z"
   },
   {
    "duration": 49,
    "start_time": "2024-08-27T08:21:44.911Z"
   },
   {
    "duration": 8,
    "start_time": "2024-08-27T08:21:44.961Z"
   },
   {
    "duration": 9,
    "start_time": "2024-08-27T08:21:44.970Z"
   },
   {
    "duration": 3,
    "start_time": "2024-08-27T08:21:44.981Z"
   },
   {
    "duration": 6,
    "start_time": "2024-08-27T08:21:44.986Z"
   },
   {
    "duration": 9,
    "start_time": "2024-08-27T08:21:44.993Z"
   },
   {
    "duration": 44,
    "start_time": "2024-08-27T08:21:45.004Z"
   },
   {
    "duration": 5,
    "start_time": "2024-08-27T08:54:38.655Z"
   },
   {
    "duration": 6,
    "start_time": "2024-08-27T08:55:21.705Z"
   },
   {
    "duration": 833,
    "start_time": "2024-08-27T09:11:36.503Z"
   },
   {
    "duration": 28,
    "start_time": "2024-08-27T09:11:37.338Z"
   },
   {
    "duration": 14,
    "start_time": "2024-08-27T09:11:37.368Z"
   },
   {
    "duration": 4,
    "start_time": "2024-08-27T09:11:37.384Z"
   },
   {
    "duration": 15,
    "start_time": "2024-08-27T09:11:37.391Z"
   },
   {
    "duration": 15,
    "start_time": "2024-08-27T09:11:37.408Z"
   },
   {
    "duration": 4,
    "start_time": "2024-08-27T09:11:37.448Z"
   },
   {
    "duration": 7,
    "start_time": "2024-08-27T09:11:37.455Z"
   },
   {
    "duration": 10,
    "start_time": "2024-08-27T09:11:37.464Z"
   },
   {
    "duration": 9,
    "start_time": "2024-08-27T09:11:37.476Z"
   },
   {
    "duration": 4,
    "start_time": "2024-08-27T09:11:37.486Z"
   },
   {
    "duration": 10,
    "start_time": "2024-08-27T09:11:37.492Z"
   },
   {
    "duration": 45,
    "start_time": "2024-08-27T09:11:37.504Z"
   },
   {
    "duration": 5,
    "start_time": "2024-08-27T09:11:37.553Z"
   },
   {
    "duration": 6,
    "start_time": "2024-08-27T09:11:37.560Z"
   },
   {
    "duration": 6,
    "start_time": "2024-08-27T09:11:37.567Z"
   },
   {
    "duration": 10,
    "start_time": "2024-08-27T09:11:37.574Z"
   },
   {
    "duration": 6,
    "start_time": "2024-08-27T09:11:37.585Z"
   },
   {
    "duration": 8,
    "start_time": "2024-08-27T09:11:37.593Z"
   },
   {
    "duration": 46,
    "start_time": "2024-08-27T09:11:37.603Z"
   },
   {
    "duration": 303,
    "start_time": "2024-08-27T09:11:37.650Z"
   },
   {
    "duration": 477,
    "start_time": "2024-08-27T09:11:37.955Z"
   },
   {
    "duration": 262,
    "start_time": "2024-08-27T09:11:38.434Z"
   },
   {
    "duration": 5,
    "start_time": "2024-08-27T09:11:38.698Z"
   },
   {
    "duration": 6,
    "start_time": "2024-08-27T09:11:38.705Z"
   },
   {
    "duration": 36,
    "start_time": "2024-08-27T09:11:38.713Z"
   },
   {
    "duration": 18,
    "start_time": "2024-08-27T09:11:38.751Z"
   },
   {
    "duration": 19,
    "start_time": "2024-08-27T09:11:38.771Z"
   },
   {
    "duration": 6,
    "start_time": "2024-08-27T09:11:38.791Z"
   },
   {
    "duration": 8,
    "start_time": "2024-08-27T09:11:38.799Z"
   },
   {
    "duration": 41,
    "start_time": "2024-08-27T09:11:38.809Z"
   },
   {
    "duration": 5,
    "start_time": "2024-08-27T09:11:38.851Z"
   },
   {
    "duration": 8,
    "start_time": "2024-08-27T09:11:38.858Z"
   },
   {
    "duration": 5,
    "start_time": "2024-08-27T09:11:38.868Z"
   },
   {
    "duration": 2569,
    "start_time": "2024-08-30T01:29:42.394Z"
   },
   {
    "duration": 41,
    "start_time": "2024-08-30T01:29:44.966Z"
   },
   {
    "duration": 11,
    "start_time": "2024-08-30T01:29:45.009Z"
   },
   {
    "duration": 5,
    "start_time": "2024-08-30T01:29:45.023Z"
   },
   {
    "duration": 16,
    "start_time": "2024-08-30T01:29:45.029Z"
   },
   {
    "duration": 14,
    "start_time": "2024-08-30T01:29:45.047Z"
   },
   {
    "duration": 3,
    "start_time": "2024-08-30T01:29:45.062Z"
   },
   {
    "duration": 5,
    "start_time": "2024-08-30T01:29:45.067Z"
   },
   {
    "duration": 13,
    "start_time": "2024-08-30T01:29:45.074Z"
   },
   {
    "duration": 41,
    "start_time": "2024-08-30T01:29:45.091Z"
   },
   {
    "duration": 4,
    "start_time": "2024-08-30T01:29:45.134Z"
   },
   {
    "duration": 11,
    "start_time": "2024-08-30T01:29:45.140Z"
   },
   {
    "duration": 5,
    "start_time": "2024-08-30T01:29:45.153Z"
   },
   {
    "duration": 4,
    "start_time": "2024-08-30T01:29:45.160Z"
   },
   {
    "duration": 6,
    "start_time": "2024-08-30T01:29:45.165Z"
   },
   {
    "duration": 5,
    "start_time": "2024-08-30T01:29:45.173Z"
   },
   {
    "duration": 8,
    "start_time": "2024-08-30T01:29:45.181Z"
   },
   {
    "duration": 43,
    "start_time": "2024-08-30T01:29:45.190Z"
   },
   {
    "duration": 10,
    "start_time": "2024-08-30T01:29:45.235Z"
   },
   {
    "duration": 10,
    "start_time": "2024-08-30T01:29:45.246Z"
   },
   {
    "duration": 330,
    "start_time": "2024-08-30T01:29:45.258Z"
   },
   {
    "duration": 427,
    "start_time": "2024-08-30T01:29:45.590Z"
   },
   {
    "duration": 274,
    "start_time": "2024-08-30T01:29:46.019Z"
   },
   {
    "duration": 5,
    "start_time": "2024-08-30T01:29:46.295Z"
   },
   {
    "duration": 7,
    "start_time": "2024-08-30T01:29:46.302Z"
   },
   {
    "duration": 97,
    "start_time": "2024-08-30T01:29:46.311Z"
   },
   {
    "duration": 28,
    "start_time": "2024-08-30T01:29:46.410Z"
   },
   {
    "duration": 19,
    "start_time": "2024-08-30T01:29:46.442Z"
   },
   {
    "duration": 8,
    "start_time": "2024-08-30T01:29:46.462Z"
   },
   {
    "duration": 8,
    "start_time": "2024-08-30T01:29:46.471Z"
   },
   {
    "duration": 5,
    "start_time": "2024-08-30T01:29:46.481Z"
   },
   {
    "duration": 6,
    "start_time": "2024-08-30T01:29:46.487Z"
   },
   {
    "duration": 42,
    "start_time": "2024-08-30T01:29:46.495Z"
   },
   {
    "duration": 5,
    "start_time": "2024-08-30T01:29:46.539Z"
   },
   {
    "duration": 216,
    "start_time": "2024-08-30T01:37:29.063Z"
   },
   {
    "duration": 3,
    "start_time": "2024-08-30T01:37:45.184Z"
   },
   {
    "duration": 4,
    "start_time": "2024-08-30T01:38:04.705Z"
   },
   {
    "duration": 3,
    "start_time": "2024-08-30T01:39:39.194Z"
   },
   {
    "duration": 11,
    "start_time": "2024-08-30T01:39:59.651Z"
   },
   {
    "duration": 269,
    "start_time": "2024-08-30T01:49:18.543Z"
   },
   {
    "duration": 253,
    "start_time": "2024-08-30T01:49:53.840Z"
   },
   {
    "duration": 13,
    "start_time": "2024-08-30T01:53:32.579Z"
   },
   {
    "duration": 14,
    "start_time": "2024-08-30T01:53:53.624Z"
   },
   {
    "duration": 12,
    "start_time": "2024-08-30T02:09:17.624Z"
   },
   {
    "duration": 13,
    "start_time": "2024-08-30T02:13:46.883Z"
   },
   {
    "duration": 333,
    "start_time": "2024-08-30T02:15:30.688Z"
   },
   {
    "duration": 5,
    "start_time": "2024-08-30T02:16:05.135Z"
   },
   {
    "duration": 15,
    "start_time": "2024-08-30T02:16:27.456Z"
   },
   {
    "duration": 5,
    "start_time": "2024-08-30T02:16:42.849Z"
   },
   {
    "duration": 16,
    "start_time": "2024-08-30T02:16:48.231Z"
   },
   {
    "duration": 4,
    "start_time": "2024-08-30T02:18:21.932Z"
   },
   {
    "duration": 4,
    "start_time": "2024-08-30T02:22:35.331Z"
   },
   {
    "duration": 4,
    "start_time": "2024-08-30T02:22:53.501Z"
   },
   {
    "duration": 4,
    "start_time": "2024-08-30T02:25:04.907Z"
   },
   {
    "duration": 4,
    "start_time": "2024-08-30T02:25:49.324Z"
   },
   {
    "duration": 167,
    "start_time": "2024-09-18T02:16:07.881Z"
   },
   {
    "duration": 860,
    "start_time": "2024-09-18T02:16:24.741Z"
   },
   {
    "duration": 47,
    "start_time": "2024-09-18T02:16:25.603Z"
   },
   {
    "duration": 12,
    "start_time": "2024-09-18T02:16:25.651Z"
   },
   {
    "duration": 5,
    "start_time": "2024-09-18T02:16:25.665Z"
   },
   {
    "duration": 16,
    "start_time": "2024-09-18T02:16:25.672Z"
   },
   {
    "duration": 25,
    "start_time": "2024-09-18T02:16:25.690Z"
   },
   {
    "duration": 4,
    "start_time": "2024-09-18T02:16:25.716Z"
   },
   {
    "duration": 6,
    "start_time": "2024-09-18T02:16:25.721Z"
   },
   {
    "duration": 9,
    "start_time": "2024-09-18T02:16:25.728Z"
   },
   {
    "duration": 9,
    "start_time": "2024-09-18T02:16:25.741Z"
   },
   {
    "duration": 3,
    "start_time": "2024-09-18T02:16:25.751Z"
   },
   {
    "duration": 3,
    "start_time": "2024-09-18T02:16:25.755Z"
   },
   {
    "duration": 10,
    "start_time": "2024-09-18T02:16:25.760Z"
   },
   {
    "duration": 40,
    "start_time": "2024-09-18T02:16:25.771Z"
   },
   {
    "duration": 11,
    "start_time": "2024-09-18T02:16:25.813Z"
   },
   {
    "duration": 5,
    "start_time": "2024-09-18T02:16:25.825Z"
   },
   {
    "duration": 5,
    "start_time": "2024-09-18T02:16:25.832Z"
   },
   {
    "duration": 6,
    "start_time": "2024-09-18T02:16:25.839Z"
   },
   {
    "duration": 5,
    "start_time": "2024-09-18T02:16:25.846Z"
   },
   {
    "duration": 7,
    "start_time": "2024-09-18T02:16:25.852Z"
   },
   {
    "duration": 6,
    "start_time": "2024-09-18T02:16:25.861Z"
   },
   {
    "duration": 47,
    "start_time": "2024-09-18T02:16:25.868Z"
   },
   {
    "duration": 10,
    "start_time": "2024-09-18T02:16:25.918Z"
   },
   {
    "duration": 333,
    "start_time": "2024-09-18T02:16:25.931Z"
   },
   {
    "duration": 474,
    "start_time": "2024-09-18T02:16:26.267Z"
   },
   {
    "duration": 272,
    "start_time": "2024-09-18T02:16:26.743Z"
   },
   {
    "duration": 291,
    "start_time": "2024-09-18T02:16:27.017Z"
   },
   {
    "duration": 6,
    "start_time": "2024-09-18T02:16:27.312Z"
   },
   {
    "duration": 6,
    "start_time": "2024-09-18T02:16:27.320Z"
   },
   {
    "duration": 19,
    "start_time": "2024-09-18T02:16:27.327Z"
   },
   {
    "duration": 17,
    "start_time": "2024-09-18T02:16:27.348Z"
   },
   {
    "duration": 52,
    "start_time": "2024-09-18T02:16:27.367Z"
   },
   {
    "duration": 7,
    "start_time": "2024-09-18T02:16:27.421Z"
   },
   {
    "duration": 9,
    "start_time": "2024-09-18T02:16:27.429Z"
   },
   {
    "duration": 5,
    "start_time": "2024-09-18T02:16:27.439Z"
   },
   {
    "duration": 7,
    "start_time": "2024-09-18T02:16:27.445Z"
   },
   {
    "duration": 9,
    "start_time": "2024-09-18T02:16:27.454Z"
   },
   {
    "duration": 5,
    "start_time": "2024-09-18T02:16:27.464Z"
   },
   {
    "duration": 11,
    "start_time": "2024-09-18T02:17:21.463Z"
   }
  ],
  "kernelspec": {
   "display_name": "base",
   "language": "python",
   "name": "python3"
  },
  "language_info": {
   "codemirror_mode": {
    "name": "ipython",
    "version": 3
   },
   "file_extension": ".py",
   "mimetype": "text/x-python",
   "name": "python",
   "nbconvert_exporter": "python",
   "pygments_lexer": "ipython3",
   "version": "3.12.4"
  },
  "toc": {
   "base_numbering": 1,
   "nav_menu": {},
   "number_sections": true,
   "sideBar": true,
   "skip_h1_title": true,
   "title_cell": "Table of Contents",
   "title_sidebar": "Contents",
   "toc_cell": false,
   "toc_position": {},
   "toc_section_display": true,
   "toc_window_display": false
  }
 },
 "nbformat": 4,
 "nbformat_minor": 2
}
